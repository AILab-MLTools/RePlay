{
 "cells": [
  {
   "cell_type": "markdown",
   "metadata": {},
   "source": [
    "# MovieLens Dataset"
   ]
  },
  {
   "cell_type": "markdown",
   "metadata": {},
   "source": [
    "### Импорты, создание спарк-сессии <a name='intro'></a>"
   ]
  },
  {
   "cell_type": "code",
   "execution_count": 1,
   "metadata": {
    "ExecuteTime": {
     "end_time": "2020-01-29T12:43:22.962624Z",
     "start_time": "2020-01-29T12:43:22.557760Z"
    },
    "pycharm": {
     "is_executing": false
    }
   },
   "outputs": [],
   "source": [
    "%load_ext autoreload\n",
    "%autoreload 2\n",
    "%matplotlib inline"
   ]
  },
  {
   "cell_type": "code",
   "execution_count": 2,
   "metadata": {
    "ExecuteTime": {
     "end_time": "2020-01-29T12:43:23.735118Z",
     "start_time": "2020-01-29T12:43:22.964380Z"
    },
    "pycharm": {
     "is_executing": false
    }
   },
   "outputs": [],
   "source": [
    "import logging\n",
    "import os\n",
    "import re\n",
    "import sys\n",
    "from collections import Counter\n",
    "from datetime import datetime\n",
    "from time import time\n",
    "\n",
    "import matplotlib.pyplot as plt\n",
    "import numpy as np\n",
    "import pandas as pd\n",
    "from pyspark.sql import SparkSession\n",
    "from pyspark.sql import functions as sf\n",
    "from pyspark.sql.types import DoubleType, StringType, StructType, StructField, TimestampType\n",
    "\n",
    "from sklearn.feature_extraction.text import CountVectorizer"
   ]
  },
  {
   "cell_type": "code",
   "execution_count": 3,
   "metadata": {
    "ExecuteTime": {
     "end_time": "2020-01-29T12:43:23.756033Z",
     "start_time": "2020-01-29T12:43:23.737958Z"
    }
   },
   "outputs": [],
   "source": [
    "# os.environ[\"PYSPARK_PYTHON\"] = \"/anaconda3/envs/sbm/bin/python\""
   ]
  },
  {
   "cell_type": "code",
   "execution_count": 4,
   "metadata": {
    "ExecuteTime": {
     "end_time": "2020-01-29T12:43:23.774815Z",
     "start_time": "2020-01-29T12:43:23.757662Z"
    },
    "pycharm": {
     "is_executing": false
    }
   },
   "outputs": [],
   "source": [
    "parent_dir = os.path.split(os.getcwd())[0]\n",
    "if parent_dir not in sys.path:\n",
    "    sys.path.append(parent_dir)"
   ]
  },
  {
   "cell_type": "code",
   "execution_count": 5,
   "metadata": {
    "ExecuteTime": {
     "end_time": "2020-01-29T12:43:24.111487Z",
     "start_time": "2020-01-29T12:43:23.776572Z"
    },
    "pycharm": {
     "is_executing": false
    }
   },
   "outputs": [],
   "source": [
    "from sponge_bob_magic.data_loader.datasets import download_movielens\n",
    "from sponge_bob_magic.data_preparator.data_preparator import DataPreparator\n",
    "from sponge_bob_magic.metrics.metrics import HitRateMetric, NDCGMetric\n",
    "from sponge_bob_magic.models.neuromf_recommender import NeuroMFRecommender\n",
    "from sponge_bob_magic.splitters.user_log_splitter import RandomUserLogSplitter"
   ]
  },
  {
   "cell_type": "code",
   "execution_count": 6,
   "metadata": {
    "ExecuteTime": {
     "end_time": "2020-01-29T12:43:24.131980Z",
     "start_time": "2020-01-29T12:43:24.113809Z"
    },
    "pycharm": {
     "is_executing": false
    }
   },
   "outputs": [],
   "source": [
    "# отображение максимальной ширины колонок в pandas датафреймах\n",
    "pd.options.display.max_colwidth = -1"
   ]
  },
  {
   "cell_type": "code",
   "execution_count": 7,
   "metadata": {
    "ExecuteTime": {
     "end_time": "2020-01-29T12:43:26.909132Z",
     "start_time": "2020-01-29T12:43:24.134504Z"
    },
    "pycharm": {
     "is_executing": false
    }
   },
   "outputs": [
    {
     "data": {
      "text/html": [
       "\n",
       "            <div>\n",
       "                <p><b>SparkSession - hive</b></p>\n",
       "                \n",
       "        <div>\n",
       "            <p><b>SparkContext</b></p>\n",
       "\n",
       "            <p><a href=\"http://10.9.88.127:4041\">Spark UI</a></p>\n",
       "\n",
       "            <dl>\n",
       "              <dt>Version</dt>\n",
       "                <dd><code>v2.4.4</code></dd>\n",
       "              <dt>Master</dt>\n",
       "                <dd><code>local[*]</code></dd>\n",
       "              <dt>AppName</dt>\n",
       "                <dd><code>pyspark-shell</code></dd>\n",
       "            </dl>\n",
       "        </div>\n",
       "        \n",
       "            </div>\n",
       "        "
      ],
      "text/plain": [
       "<pyspark.sql.session.SparkSession at 0x12ac227f0>"
      ]
     },
     "execution_count": 7,
     "metadata": {},
     "output_type": "execute_result"
    }
   ],
   "source": [
    "spark_memory = \"4g\"\n",
    "spark_cores = \"*\"\n",
    "user_home = \"/Users/alside/recommends/tmp\"\n",
    "\n",
    "spark = (\n",
    "    SparkSession\n",
    "    .builder\n",
    "    .config('spark.driver.memory', spark_memory)\n",
    "    .config('spark.local.dir', os.path.join(user_home, \"tmp\"))\n",
    "    .master(f'local[{spark_cores}]')\n",
    "    .enableHiveSupport()\n",
    "    .getOrCreate()\n",
    ")\n",
    "\n",
    "spark"
   ]
  },
  {
   "cell_type": "code",
   "execution_count": 8,
   "metadata": {
    "ExecuteTime": {
     "end_time": "2020-01-29T12:43:50.790298Z",
     "start_time": "2020-01-29T12:43:50.766247Z"
    },
    "pycharm": {
     "is_executing": false
    }
   },
   "outputs": [],
   "source": [
    "spark_logger = logging.getLogger('py4j')\n",
    "spark_logger.setLevel(logging.WARN)"
   ]
  },
  {
   "cell_type": "code",
   "execution_count": 9,
   "metadata": {
    "ExecuteTime": {
     "end_time": "2020-01-29T12:43:52.461651Z",
     "start_time": "2020-01-29T12:43:52.438446Z"
    },
    "pycharm": {
     "is_executing": false
    }
   },
   "outputs": [],
   "source": [
    "logger = logging.getLogger()\n",
    "formatter = logging.Formatter('%(asctime)s, %(name)s, %(levelname)s: %(message)s',\n",
    "                              datefmt='%d-%b-%y %H:%M:%S')\n",
    "hdlr = logging.StreamHandler()\n",
    "hdlr.setFormatter(formatter)\n",
    "logger.addHandler(hdlr)\n",
    "logger.setLevel(logging.DEBUG)"
   ]
  },
  {
   "cell_type": "markdown",
   "metadata": {},
   "source": [
    "## Подготовка данных <a name='data-preparator'></a>"
   ]
  },
  {
   "cell_type": "code",
   "execution_count": 10,
   "metadata": {
    "ExecuteTime": {
     "end_time": "2020-01-29T12:43:56.219673Z",
     "start_time": "2020-01-29T12:43:56.198362Z"
    },
    "pycharm": {
     "is_executing": false
    }
   },
   "outputs": [],
   "source": [
    "path_data = '../sponge_bob_magic/data/'\n",
    "\n",
    "if not os.path.exists(path_data):\n",
    "    os.mkdir(path_data)\n",
    "    \n",
    "if not os.path.exists(os.path.join(path_data, \"ml-100k\")):\n",
    "    download_movielens(path_data, \"ml-100k\")\n",
    "    \n",
    "path_log = os.path.join(path_data, \"ml-100k\", \"u.data\")"
   ]
  },
  {
   "cell_type": "code",
   "execution_count": 11,
   "metadata": {
    "ExecuteTime": {
     "end_time": "2020-01-29T12:43:56.707188Z",
     "start_time": "2020-01-29T12:43:56.685999Z"
    },
    "pycharm": {
     "is_executing": false
    }
   },
   "outputs": [],
   "source": [
    "dp = DataPreparator(spark)"
   ]
  },
  {
   "cell_type": "code",
   "execution_count": 12,
   "metadata": {
    "ExecuteTime": {
     "end_time": "2020-01-29T12:44:03.514786Z",
     "start_time": "2020-01-29T12:43:57.036423Z"
    },
    "pycharm": {
     "is_executing": false
    }
   },
   "outputs": [],
   "source": [
    "df = dp.transform_log(\n",
    "    path_log,\n",
    "    format_type='csv',\n",
    "    columns_names={\n",
    "        'user_id': 'userId', \n",
    "        'item_id': 'movieId',\n",
    "    },\n",
    "    date_format=None,\n",
    "    header=True\n",
    ")"
   ]
  },
  {
   "cell_type": "code",
   "execution_count": 13,
   "metadata": {
    "ExecuteTime": {
     "end_time": "2020-01-29T12:44:04.630740Z",
     "start_time": "2020-01-29T12:44:03.516631Z"
    },
    "pycharm": {
     "is_executing": false
    },
    "scrolled": false
   },
   "outputs": [
    {
     "name": "stdout",
     "output_type": "stream",
     "text": [
      "+-------+-------+-------------------+----------+---------+\n",
      "|user_id|item_id|          timestamp|   context|relevance|\n",
      "+-------+-------+-------------------+----------+---------+\n",
      "|      1|   1193|1999-05-01 00:00:00|no_context|      1.0|\n",
      "|      1|    661|1999-05-01 00:00:00|no_context|      1.0|\n",
      "|      1|    914|1999-05-01 00:00:00|no_context|      1.0|\n",
      "+-------+-------+-------------------+----------+---------+\n",
      "only showing top 3 rows\n",
      "\n"
     ]
    }
   ],
   "source": [
    "df.show(3)"
   ]
  },
  {
   "cell_type": "code",
   "execution_count": 14,
   "metadata": {
    "ExecuteTime": {
     "end_time": "2020-01-29T12:44:05.473455Z",
     "start_time": "2020-01-29T12:44:04.633145Z"
    },
    "scrolled": true
   },
   "outputs": [
    {
     "data": {
      "text/plain": [
       "1000209"
      ]
     },
     "execution_count": 14,
     "metadata": {},
     "output_type": "execute_result"
    }
   ],
   "source": [
    "df.count()"
   ]
  },
  {
   "cell_type": "code",
   "execution_count": 16,
   "metadata": {
    "ExecuteTime": {
     "end_time": "2020-01-29T12:52:01.488848Z",
     "start_time": "2020-01-29T12:51:55.389820Z"
    }
   },
   "outputs": [
    {
     "data": {
      "text/plain": [
       "(994169, 994169, 6040)"
      ]
     },
     "execution_count": 16,
     "metadata": {},
     "output_type": "execute_result"
    }
   ],
   "source": [
    "splitter = RandomUserLogSplitter(spark, True, True)\n",
    "\n",
    "train, test_input, test = splitter._split_quantity(df)\n",
    "\n",
    "(\n",
    "    train.count(), \n",
    "    test_input.count(), \n",
    "    test.count()\n",
    ")"
   ]
  },
  {
   "cell_type": "markdown",
   "metadata": {},
   "source": [
    "## NMF"
   ]
  },
  {
   "cell_type": "code",
   "execution_count": 17,
   "metadata": {
    "ExecuteTime": {
     "end_time": "2020-01-29T12:53:02.941041Z",
     "start_time": "2020-01-29T12:53:02.880939Z"
    }
   },
   "outputs": [],
   "source": [
    "ncf = NeuroMFRecommender(spark,\n",
    "                         learning_rate=0.01,\n",
    "                         epochs=10,\n",
    "                         embedding_dimension=100)"
   ]
  },
  {
   "cell_type": "code",
   "execution_count": 18,
   "metadata": {
    "ExecuteTime": {
     "end_time": "2020-01-29T12:53:17.508626Z",
     "start_time": "2020-01-29T12:53:04.377541Z"
    }
   },
   "outputs": [
    {
     "name": "stdout",
     "output_type": "stream",
     "text": [
      "CPU times: user 31.7 ms, sys: 7.64 ms, total: 39.3 ms\n",
      "Wall time: 13.1 s\n"
     ]
    }
   ],
   "source": [
    "%%time\n",
    "\n",
    "ncf._pre_fit(\n",
    "    log=train,\n",
    "    user_features=None,\n",
    "    item_features=None\n",
    ")"
   ]
  },
  {
   "cell_type": "code",
   "execution_count": 19,
   "metadata": {
    "ExecuteTime": {
     "end_time": "2020-01-29T12:57:35.147596Z",
     "start_time": "2020-01-29T12:53:17.511729Z"
    },
    "scrolled": false
   },
   "outputs": [
    {
     "name": "stderr",
     "output_type": "stream",
     "text": [
      "29-Jan-20 15:53:17, root, DEBUG: Индексирование данных\n",
      "29-Jan-20 15:53:17, root, DEBUG: Составление батча:\n",
      "29-Jan-20 15:53:17, root, DEBUG: -- Запись\n",
      "29-Jan-20 15:53:19, root, DEBUG: -- Считывание\n",
      "29-Jan-20 15:53:19, root, DEBUG: Обучение модели\n",
      "29-Jan-20 15:53:19, root, DEBUG: -- Эпоха 0\n",
      "29-Jan-20 15:53:45, root, DEBUG: -- Текущее значение: 0.9162\n",
      "29-Jan-20 15:53:45, root, DEBUG: -- Эпоха 1\n",
      "29-Jan-20 15:54:10, root, DEBUG: -- Текущее значение: 0.4249\n",
      "29-Jan-20 15:54:10, root, DEBUG: -- Эпоха 2\n",
      "29-Jan-20 15:54:34, root, DEBUG: -- Текущее значение: 0.2546\n",
      "29-Jan-20 15:54:34, root, DEBUG: -- Эпоха 3\n",
      "29-Jan-20 15:54:59, root, DEBUG: -- Текущее значение: 0.2233\n",
      "29-Jan-20 15:54:59, root, DEBUG: -- Эпоха 4\n",
      "29-Jan-20 15:55:24, root, DEBUG: -- Текущее значение: 0.2125\n",
      "29-Jan-20 15:55:24, root, DEBUG: -- Эпоха 5\n",
      "29-Jan-20 15:55:48, root, DEBUG: -- Текущее значение: 0.2071\n",
      "29-Jan-20 15:55:48, root, DEBUG: -- Эпоха 6\n",
      "29-Jan-20 15:56:12, root, DEBUG: -- Текущее значение: 0.2024\n",
      "29-Jan-20 15:56:12, root, DEBUG: -- Эпоха 7\n",
      "29-Jan-20 15:56:36, root, DEBUG: -- Текущее значение: 0.2003\n",
      "29-Jan-20 15:56:36, root, DEBUG: -- Эпоха 8\n",
      "29-Jan-20 15:56:59, root, DEBUG: -- Текущее значение: 0.1964\n",
      "29-Jan-20 15:56:59, root, DEBUG: -- Эпоха 9\n",
      "29-Jan-20 15:57:22, root, DEBUG: -- Текущее значение: 0.1933\n",
      "29-Jan-20 15:57:22, root, DEBUG: -- Запись annoy индексов\n"
     ]
    },
    {
     "name": "stdout",
     "output_type": "stream",
     "text": [
      "CPU times: user 3min 40s, sys: 4.71 s, total: 3min 44s\n",
      "Wall time: 4min 17s\n"
     ]
    }
   ],
   "source": [
    "%%time\n",
    "\n",
    "ncf._fit_partial(\n",
    "    log=train,\n",
    "    user_features=None,\n",
    "    item_features=None\n",
    ")"
   ]
  },
  {
   "cell_type": "code",
   "execution_count": 20,
   "metadata": {
    "ExecuteTime": {
     "end_time": "2020-01-29T13:51:53.191309Z",
     "start_time": "2020-01-29T13:51:12.662815Z"
    },
    "scrolled": false
   },
   "outputs": [
    {
     "name": "stderr",
     "output_type": "stream",
     "text": [
      "29-Jan-20 16:51:12, root, DEBUG: Проверка датафреймов\n",
      "29-Jan-20 16:51:15, root, DEBUG: Индексирование данных\n",
      "29-Jan-20 16:51:15, root, DEBUG: Предсказание модели\n",
      "29-Jan-20 16:51:15, root, DEBUG: -- Запись\n",
      "29-Jan-20 16:51:16, root, DEBUG: -- Считывание\n",
      "29-Jan-20 16:51:16, root, DEBUG: Поиск ближайших айтемов с помощью annoy\n",
      "/anaconda3/envs/sbm/lib/python3.6/site-packages/pandas/core/frame.py:7123: FutureWarning: Sorting because non-concatenation axis is not aligned. A future version\n",
      "of pandas will change to not sort by default.\n",
      "\n",
      "To accept the future behavior, pass 'sort=False'.\n",
      "\n",
      "To retain the current behavior and silence the warning, pass 'sort=True'.\n",
      "\n",
      "  sort=sort,\n",
      "29-Jan-20 16:51:27, root, DEBUG: Обратное преобразование индексов\n",
      "29-Jan-20 16:51:28, root, DEBUG: Преобразование отрицательных relevance\n"
     ]
    },
    {
     "name": "stdout",
     "output_type": "stream",
     "text": [
      "CPU times: user 11.8 s, sys: 252 ms, total: 12.1 s\n",
      "Wall time: 40.5 s\n"
     ]
    }
   ],
   "source": [
    "%%time\n",
    "\n",
    "recs = ncf.predict(\n",
    "    k=10,\n",
    "    users=test.select('user_id').distinct(),\n",
    "    items=test.select('item_id').distinct(),\n",
    "    context='no_context',\n",
    "    log=train,\n",
    "    user_features=None,\n",
    "    item_features=None,\n",
    "    filter_seen_items=True\n",
    ")"
   ]
  },
  {
   "cell_type": "code",
   "execution_count": 21,
   "metadata": {
    "ExecuteTime": {
     "end_time": "2020-01-29T13:51:57.653064Z",
     "start_time": "2020-01-29T13:51:55.411706Z"
    }
   },
   "outputs": [
    {
     "name": "stdout",
     "output_type": "stream",
     "text": [
      "0.0402317880794702\n",
      "CPU times: user 6.1 ms, sys: 2.12 ms, total: 8.23 ms\n",
      "Wall time: 2.22 s\n"
     ]
    }
   ],
   "source": [
    "%%time\n",
    "\n",
    "hr = HitRateMetric(spark)\n",
    "print(hr.calculate(recs, test, k=10))"
   ]
  },
  {
   "cell_type": "code",
   "execution_count": 22,
   "metadata": {
    "ExecuteTime": {
     "end_time": "2020-01-29T13:52:00.528347Z",
     "start_time": "2020-01-29T13:51:57.655746Z"
    },
    "scrolled": true
   },
   "outputs": [
    {
     "name": "stdout",
     "output_type": "stream",
     "text": [
      "0.022395286988700216\n",
      "CPU times: user 46.9 ms, sys: 11 ms, total: 57.9 ms\n",
      "Wall time: 2.85 s\n"
     ]
    }
   ],
   "source": [
    "%%time\n",
    "\n",
    "ndcg = NDCGMetric(spark)\n",
    "print(ndcg.calculate(recs, test, k=10))"
   ]
  },
  {
   "cell_type": "code",
   "execution_count": null,
   "metadata": {},
   "outputs": [],
   "source": []
  }
 ],
 "metadata": {
  "kernelspec": {
   "display_name": "sbm",
   "language": "python",
   "name": "sbm"
  },
  "language_info": {
   "codemirror_mode": {
    "name": "ipython",
    "version": 3
   },
   "file_extension": ".py",
   "mimetype": "text/x-python",
   "name": "python",
   "nbconvert_exporter": "python",
   "pygments_lexer": "ipython3",
   "version": "3.6.3"
  },
  "pycharm": {
   "stem_cell": {
    "cell_type": "raw",
    "metadata": {
     "collapsed": false
    },
    "source": []
   }
  }
 },
 "nbformat": 4,
 "nbformat_minor": 2
}
