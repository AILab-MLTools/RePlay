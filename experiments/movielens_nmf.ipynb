{
 "cells": [
  {
   "cell_type": "markdown",
   "metadata": {},
   "source": [
    "# Использование доступных моделей\n",
    "Данный ноутбук показывает базовый порядок работы с библиотекой.\n",
    "- загрузка датасета\n",
    "- деление на трейн и тест\n",
    "- обучение модели\n",
    "- сравнение с бейзлайном\n",
    "\n",
    "Документацию можно собрать из папки `docs` командой `make html`. Она создаст папку `_build` с документацией -- `sponge-bob-magic/docs/_build/html/index.html`"
   ]
  },
  {
   "cell_type": "code",
   "execution_count": 1,
   "metadata": {
    "ExecuteTime": {
     "end_time": "2020-02-10T16:01:45.639135Z",
     "start_time": "2020-02-10T16:01:45.612577Z"
    },
    "jupyter": {
     "outputs_hidden": false
    },
    "pycharm": {
     "is_executing": false
    }
   },
   "outputs": [],
   "source": [
    "%load_ext autoreload\n",
    "%autoreload 2\n",
    "%matplotlib inline"
   ]
  },
  {
   "cell_type": "markdown",
   "metadata": {},
   "source": [
    "Целевая архитектура библиотеки - ЛД 3.0, поэтому используем Spark.\n",
    "Для отладки моделей (не на кластере) создаём локальную сессию.\n",
    "\n",
    "Объект `State` позволяет использовать одну и ту же сессию Spark в разных объектах.\n",
    "Если сессия уже инициализированна, то её нужно передать при инициализации `State`. Модули библиотеки, которым необходимо использовать спарк-сессию, например для конвертации из пандас в спарк, будут искать сессию именно в `State`.\n",
    "\n",
    "По умолчанию создастся дефолтная сессия. Простой способ получить сессию с заданным количеством выделенной памяти -- функция `get_spark_session` модуля `session_handler`."
   ]
  },
  {
   "cell_type": "code",
   "execution_count": 2,
   "metadata": {
    "ExecuteTime": {
     "end_time": "2020-02-10T15:59:09.227179Z",
     "start_time": "2020-02-10T15:59:06.427348Z"
    },
    "jupyter": {
     "outputs_hidden": false
    },
    "pycharm": {
     "is_executing": false
    }
   },
   "outputs": [
    {
     "data": {
      "text/html": [
       "\n",
       "            <div>\n",
       "                <p><b>SparkSession - hive</b></p>\n",
       "                \n",
       "        <div>\n",
       "            <p><b>SparkContext</b></p>\n",
       "\n",
       "            <p><a href=\"http://localhost:4040\">Spark UI</a></p>\n",
       "\n",
       "            <dl>\n",
       "              <dt>Version</dt>\n",
       "                <dd><code>v2.4.4</code></dd>\n",
       "              <dt>Master</dt>\n",
       "                <dd><code>local[*]</code></dd>\n",
       "              <dt>AppName</dt>\n",
       "                <dd><code>pyspark-shell</code></dd>\n",
       "            </dl>\n",
       "        </div>\n",
       "        \n",
       "            </div>\n",
       "        "
      ],
      "text/plain": [
       "<pyspark.sql.session.SparkSession at 0x1208a71d0>"
      ]
     },
     "execution_count": 2,
     "metadata": {},
     "output_type": "execute_result"
    }
   ],
   "source": [
    "from sponge_bob_magic.session_handler import State\n",
    "\n",
    "spark = State().session\n",
    "spark"
   ]
  },
  {
   "cell_type": "markdown",
   "metadata": {},
   "source": [
    "## Подготовка данных <a name='data-preparator'></a>\n",
    "Библиотека содержит утилиты для скачивания и парсинга популярных датасетов для рекомендаций.\n",
    "Если датасет не найден в заданной директории, он будет автоматически скачан и обработан.\n",
    "\n",
    "Данные датасета доступны в виде `pandas.DataFrame` атрибутов объекта.\n",
    "Посмотреть доступные данные можно с помощью метода `info`."
   ]
  },
  {
   "cell_type": "code",
   "execution_count": 3,
   "metadata": {
    "ExecuteTime": {
     "end_time": "2020-02-10T15:59:42.041251Z",
     "start_time": "2020-02-10T15:59:09.230636Z"
    },
    "jupyter": {
     "outputs_hidden": false
    },
    "scrolled": true
   },
   "outputs": [
    {
     "name": "stdout",
     "output_type": "stream",
     "text": [
      "ratings\n"
     ]
    },
    {
     "data": {
      "text/html": [
       "<div>\n",
       "<style scoped>\n",
       "    .dataframe tbody tr th:only-of-type {\n",
       "        vertical-align: middle;\n",
       "    }\n",
       "\n",
       "    .dataframe tbody tr th {\n",
       "        vertical-align: top;\n",
       "    }\n",
       "\n",
       "    .dataframe thead th {\n",
       "        text-align: right;\n",
       "    }\n",
       "</style>\n",
       "<table border=\"1\" class=\"dataframe\">\n",
       "  <thead>\n",
       "    <tr style=\"text-align: right;\">\n",
       "      <th></th>\n",
       "      <th>user_id</th>\n",
       "      <th>item_id</th>\n",
       "      <th>relevance</th>\n",
       "      <th>timestamp</th>\n",
       "    </tr>\n",
       "  </thead>\n",
       "  <tbody>\n",
       "    <tr>\n",
       "      <th>0</th>\n",
       "      <td>1</td>\n",
       "      <td>1193</td>\n",
       "      <td>5</td>\n",
       "      <td>978300760</td>\n",
       "    </tr>\n",
       "    <tr>\n",
       "      <th>1</th>\n",
       "      <td>1</td>\n",
       "      <td>661</td>\n",
       "      <td>3</td>\n",
       "      <td>978302109</td>\n",
       "    </tr>\n",
       "    <tr>\n",
       "      <th>2</th>\n",
       "      <td>1</td>\n",
       "      <td>914</td>\n",
       "      <td>3</td>\n",
       "      <td>978301968</td>\n",
       "    </tr>\n",
       "  </tbody>\n",
       "</table>\n",
       "</div>"
      ],
      "text/plain": [
       "   user_id  item_id  relevance  timestamp\n",
       "0        1     1193          5  978300760\n",
       "1        1      661          3  978302109\n",
       "2        1      914          3  978301968"
      ]
     },
     "metadata": {},
     "output_type": "display_data"
    },
    {
     "name": "stdout",
     "output_type": "stream",
     "text": [
      "\n",
      "users\n"
     ]
    },
    {
     "data": {
      "text/html": [
       "<div>\n",
       "<style scoped>\n",
       "    .dataframe tbody tr th:only-of-type {\n",
       "        vertical-align: middle;\n",
       "    }\n",
       "\n",
       "    .dataframe tbody tr th {\n",
       "        vertical-align: top;\n",
       "    }\n",
       "\n",
       "    .dataframe thead th {\n",
       "        text-align: right;\n",
       "    }\n",
       "</style>\n",
       "<table border=\"1\" class=\"dataframe\">\n",
       "  <thead>\n",
       "    <tr style=\"text-align: right;\">\n",
       "      <th></th>\n",
       "      <th>user_id</th>\n",
       "      <th>gender</th>\n",
       "      <th>age</th>\n",
       "      <th>occupation</th>\n",
       "      <th>zip_code</th>\n",
       "    </tr>\n",
       "  </thead>\n",
       "  <tbody>\n",
       "    <tr>\n",
       "      <th>0</th>\n",
       "      <td>1</td>\n",
       "      <td>F</td>\n",
       "      <td>1</td>\n",
       "      <td>10</td>\n",
       "      <td>48067</td>\n",
       "    </tr>\n",
       "    <tr>\n",
       "      <th>1</th>\n",
       "      <td>2</td>\n",
       "      <td>M</td>\n",
       "      <td>56</td>\n",
       "      <td>16</td>\n",
       "      <td>70072</td>\n",
       "    </tr>\n",
       "    <tr>\n",
       "      <th>2</th>\n",
       "      <td>3</td>\n",
       "      <td>M</td>\n",
       "      <td>25</td>\n",
       "      <td>15</td>\n",
       "      <td>55117</td>\n",
       "    </tr>\n",
       "  </tbody>\n",
       "</table>\n",
       "</div>"
      ],
      "text/plain": [
       "   user_id gender  age  occupation zip_code\n",
       "0        1      F    1          10    48067\n",
       "1        2      M   56          16    70072\n",
       "2        3      M   25          15    55117"
      ]
     },
     "metadata": {},
     "output_type": "display_data"
    },
    {
     "name": "stdout",
     "output_type": "stream",
     "text": [
      "\n",
      "items\n"
     ]
    },
    {
     "data": {
      "text/html": [
       "<div>\n",
       "<style scoped>\n",
       "    .dataframe tbody tr th:only-of-type {\n",
       "        vertical-align: middle;\n",
       "    }\n",
       "\n",
       "    .dataframe tbody tr th {\n",
       "        vertical-align: top;\n",
       "    }\n",
       "\n",
       "    .dataframe thead th {\n",
       "        text-align: right;\n",
       "    }\n",
       "</style>\n",
       "<table border=\"1\" class=\"dataframe\">\n",
       "  <thead>\n",
       "    <tr style=\"text-align: right;\">\n",
       "      <th></th>\n",
       "      <th>item_id</th>\n",
       "      <th>title</th>\n",
       "      <th>genres</th>\n",
       "    </tr>\n",
       "  </thead>\n",
       "  <tbody>\n",
       "    <tr>\n",
       "      <th>0</th>\n",
       "      <td>1</td>\n",
       "      <td>Toy Story (1995)</td>\n",
       "      <td>Animation|Children's|Comedy</td>\n",
       "    </tr>\n",
       "    <tr>\n",
       "      <th>1</th>\n",
       "      <td>2</td>\n",
       "      <td>Jumanji (1995)</td>\n",
       "      <td>Adventure|Children's|Fantasy</td>\n",
       "    </tr>\n",
       "    <tr>\n",
       "      <th>2</th>\n",
       "      <td>3</td>\n",
       "      <td>Grumpier Old Men (1995)</td>\n",
       "      <td>Comedy|Romance</td>\n",
       "    </tr>\n",
       "  </tbody>\n",
       "</table>\n",
       "</div>"
      ],
      "text/plain": [
       "   item_id                    title                        genres\n",
       "0        1         Toy Story (1995)   Animation|Children's|Comedy\n",
       "1        2           Jumanji (1995)  Adventure|Children's|Fantasy\n",
       "2        3  Grumpier Old Men (1995)                Comedy|Romance"
      ]
     },
     "metadata": {},
     "output_type": "display_data"
    },
    {
     "name": "stdout",
     "output_type": "stream",
     "text": [
      "\n"
     ]
    }
   ],
   "source": [
    "from rs_datasets import MovieLens\n",
    "\n",
    "data = MovieLens(\"1m\")\n",
    "data.info()"
   ]
  },
  {
   "cell_type": "markdown",
   "metadata": {},
   "source": [
    "Внутренний формат данных в либе -- спарк датафрейм. Сплиттеры умеют втоматически конвертировать пандас датафреймы, но модели сейчас ожидают именно спарк, причем с заданными обязательными колонками: `user_id, item_id, timestamp, relevance, context`. \n",
    "\n",
    "Получить данные в нужном формате можно с помощью `DataPreparator.transform_log`, который создаст нужные колонки, если их нет."
   ]
  },
  {
   "cell_type": "code",
   "execution_count": 4,
   "metadata": {
    "jupyter": {
     "outputs_hidden": false
    }
   },
   "outputs": [],
   "source": [
    "from sponge_bob_magic.data_preparator import DataPreparator\n",
    "\n",
    "log = DataPreparator().transform(\n",
    "    data=data.ratings,\n",
    "    columns_names={\n",
    "        \"user_id\": \"user_id\",\n",
    "        \"item_id\": \"item_id\",\n",
    "        \"relevance\": \"relevance\",\n",
    "        \"timestamp\": \"timestamp\"\n",
    "    }\n",
    ")"
   ]
  },
  {
   "cell_type": "markdown",
   "metadata": {},
   "source": [
    "Библиотека содержит различные схемы валидации рекомендательных систем, встречающиеся в литературе.\n",
    "\n",
    "`UserSplitter` отбирает для теста некоторое количество или долю объектов для каждого пользователя."
   ]
  },
  {
   "cell_type": "code",
   "execution_count": 5,
   "metadata": {
    "ExecuteTime": {
     "end_time": "2020-02-10T15:59:50.986401Z",
     "start_time": "2020-02-10T15:59:42.042998Z"
    },
    "jupyter": {
     "outputs_hidden": false
    }
   },
   "outputs": [
    {
     "data": {
      "text/plain": [
       "(999709, 500)"
      ]
     },
     "execution_count": 5,
     "metadata": {},
     "output_type": "execute_result"
    }
   ],
   "source": [
    "from sponge_bob_magic.splitters import UserSplitter\n",
    "\n",
    "splitter = UserSplitter(\n",
    "    drop_cold_items=True,\n",
    "    drop_cold_users=True,\n",
    "    item_test_size=1,\n",
    "    user_test_size=500,\n",
    "    seed=1234,\n",
    "    shuffle=True\n",
    ")\n",
    "train, test = splitter.split(log)\n",
    "(\n",
    "    train.count(), \n",
    "    test.count()\n",
    ")"
   ]
  },
  {
   "cell_type": "markdown",
   "metadata": {},
   "source": [
    "## NMF\n",
    "Простейший пример использования DL в рекомендациях"
   ]
  },
  {
   "cell_type": "code",
   "execution_count": 6,
   "metadata": {
    "ExecuteTime": {
     "end_time": "2020-02-10T15:59:51.024567Z",
     "start_time": "2020-02-10T15:59:50.988776Z"
    }
   },
   "outputs": [
    {
     "name": "stderr",
     "output_type": "stream",
     "text": [
      "/Users/alexxl/sponge-bob-magic/venv/lib/python3.7/site-packages/lightfm/_lightfm_fast.py:9: UserWarning: LightFM was compiled without OpenMP support. Only a single thread will be used.\n",
      "  warnings.warn('LightFM was compiled without OpenMP support. '\n"
     ]
    }
   ],
   "source": [
    "from sponge_bob_magic.models import NeuroMF\n",
    "\n",
    "nmf = NeuroMF(\n",
    "    learning_rate=0.01,\n",
    "    epochs=10,\n",
    "    embedding_dimension=100\n",
    ")"
   ]
  },
  {
   "cell_type": "code",
   "execution_count": 7,
   "metadata": {
    "ExecuteTime": {
     "end_time": "2020-02-10T16:06:06.306042Z",
     "start_time": "2020-02-10T16:01:52.107394Z"
    },
    "jupyter": {
     "outputs_hidden": false
    }
   },
   "outputs": [
    {
     "name": "stderr",
     "output_type": "stream",
     "text": [
      "26-Mar-20 23:01:11, sponge_bob_magic, DEBUG: Предварительная стадия обучения (pre-fit)\n",
      "26-Mar-20 23:01:24, sponge_bob_magic, DEBUG: Основная стадия обучения (fit)\n",
      "26-Mar-20 23:01:24, sponge_bob_magic, DEBUG: Индексирование данных\n",
      "26-Mar-20 23:01:24, sponge_bob_magic, DEBUG: Составление батча:\n",
      "26-Mar-20 23:01:24, sponge_bob_magic, DEBUG: -- Запись\n",
      "26-Mar-20 23:01:25, sponge_bob_magic, DEBUG: -- Считывание\n",
      "26-Mar-20 23:01:26, sponge_bob_magic, DEBUG: Обучение модели\n",
      "26-Mar-20 23:01:48, sponge_bob_magic, DEBUG: Epoch[1] current loss: 0.8232\n",
      "26-Mar-20 23:01:53, sponge_bob_magic, DEBUG: Epoch[1] training average loss: 0.7509\n",
      "26-Mar-20 23:01:54, sponge_bob_magic, DEBUG: Epoch[1] validation average loss: 0.7574\n",
      "26-Mar-20 23:02:14, sponge_bob_magic, DEBUG: Epoch[2] current loss: 0.3498\n",
      "26-Mar-20 23:02:19, sponge_bob_magic, DEBUG: Epoch[2] training average loss: 0.3274\n",
      "26-Mar-20 23:02:20, sponge_bob_magic, DEBUG: Epoch[2] validation average loss: 0.3286\n",
      "26-Mar-20 23:02:40, sponge_bob_magic, DEBUG: Epoch[3] current loss: 0.2490\n",
      "26-Mar-20 23:02:45, sponge_bob_magic, DEBUG: Epoch[3] training average loss: 0.2432\n",
      "26-Mar-20 23:02:46, sponge_bob_magic, DEBUG: Epoch[3] validation average loss: 0.2441\n",
      "26-Mar-20 23:03:06, sponge_bob_magic, DEBUG: Epoch[4] current loss: 0.2268\n",
      "26-Mar-20 23:03:11, sponge_bob_magic, DEBUG: Epoch[4] training average loss: 0.2231\n",
      "26-Mar-20 23:03:12, sponge_bob_magic, DEBUG: Epoch[4] validation average loss: 0.2247\n",
      "26-Mar-20 23:03:32, sponge_bob_magic, DEBUG: Epoch[5] current loss: 0.2157\n",
      "26-Mar-20 23:03:36, sponge_bob_magic, DEBUG: Epoch[5] training average loss: 0.2145\n",
      "26-Mar-20 23:03:38, sponge_bob_magic, DEBUG: Epoch[5] validation average loss: 0.2165\n",
      "26-Mar-20 23:03:58, sponge_bob_magic, DEBUG: Epoch[6] current loss: 0.2111\n",
      "26-Mar-20 23:04:02, sponge_bob_magic, DEBUG: Epoch[6] training average loss: 0.2093\n",
      "26-Mar-20 23:04:04, sponge_bob_magic, DEBUG: Epoch[6] validation average loss: 0.2112\n",
      "26-Mar-20 23:04:24, sponge_bob_magic, DEBUG: Epoch[7] current loss: 0.2067\n",
      "26-Mar-20 23:04:29, sponge_bob_magic, DEBUG: Epoch[7] training average loss: 0.2057\n",
      "26-Mar-20 23:04:30, sponge_bob_magic, DEBUG: Epoch[7] validation average loss: 0.2074\n",
      "26-Mar-20 23:04:50, sponge_bob_magic, DEBUG: Epoch[8] current loss: 0.2036\n",
      "26-Mar-20 23:04:55, sponge_bob_magic, DEBUG: Epoch[8] training average loss: 0.2028\n",
      "26-Mar-20 23:04:56, sponge_bob_magic, DEBUG: Epoch[8] validation average loss: 0.2042\n",
      "26-Mar-20 23:05:16, sponge_bob_magic, DEBUG: Epoch[9] current loss: 0.2020\n",
      "26-Mar-20 23:05:21, sponge_bob_magic, DEBUG: Epoch[9] training average loss: 0.2003\n",
      "26-Mar-20 23:05:22, sponge_bob_magic, DEBUG: Epoch[9] validation average loss: 0.2022\n",
      "26-Mar-20 23:05:42, sponge_bob_magic, DEBUG: Epoch[10] current loss: 0.2000\n",
      "26-Mar-20 23:05:47, sponge_bob_magic, DEBUG: Epoch[10] training average loss: 0.1980\n",
      "26-Mar-20 23:05:49, sponge_bob_magic, DEBUG: Epoch[10] validation average loss: 0.2000\n",
      "26-Mar-20 23:05:49, sponge_bob_magic, DEBUG: -- Запись annoy индексов\n"
     ]
    },
    {
     "name": "stdout",
     "output_type": "stream",
     "text": [
      "CPU times: user 3min 3s, sys: 6.15 s, total: 3min 9s\n",
      "Wall time: 4min 49s\n"
     ]
    }
   ],
   "source": [
    "%%time\n",
    "nmf.fit(log=train)"
   ]
  },
  {
   "cell_type": "code",
   "execution_count": 8,
   "metadata": {
    "ExecuteTime": {
     "end_time": "2020-02-10T16:07:26.278582Z",
     "start_time": "2020-02-10T16:06:39.118983Z"
    },
    "jupyter": {
     "outputs_hidden": false
    },
    "scrolled": true
   },
   "outputs": [
    {
     "name": "stderr",
     "output_type": "stream",
     "text": [
      "26-Mar-20 23:06:08, sponge_bob_magic, DEBUG: Индексирование данных\n",
      "26-Mar-20 23:06:08, sponge_bob_magic, DEBUG: Предсказание модели\n",
      "26-Mar-20 23:06:08, sponge_bob_magic, DEBUG: -- Запись\n",
      "26-Mar-20 23:06:21, sponge_bob_magic, DEBUG: -- Считывание\n",
      "26-Mar-20 23:06:21, sponge_bob_magic, DEBUG: Поиск ближайших айтемов с помощью annoy\n",
      "26-Mar-20 23:06:22, sponge_bob_magic, DEBUG: Обратное преобразование индексов\n",
      "26-Mar-20 23:06:23, sponge_bob_magic, DEBUG: Преобразование отрицательных relevance\n"
     ]
    },
    {
     "name": "stdout",
     "output_type": "stream",
     "text": [
      "CPU times: user 1.68 s, sys: 153 ms, total: 1.84 s\n",
      "Wall time: 31.6 s\n"
     ]
    }
   ],
   "source": [
    "%%time\n",
    "\n",
    "recs = nmf.predict(\n",
    "    k=10,\n",
    "    users=test.select('user_id').distinct(),\n",
    "    items=test.select('item_id').distinct(),\n",
    "    log=train,\n",
    "    filter_seen_items=True\n",
    ")"
   ]
  },
  {
   "cell_type": "markdown",
   "metadata": {},
   "source": [
    "В библиотеке реализованы различные метрики качества рекомендательных систем, встречающихся в литературе.\n",
    "Их можно использовать напрямую, либо запоминать результаты с помощью класса `Experiment`."
   ]
  },
  {
   "cell_type": "code",
   "execution_count": 9,
   "metadata": {
    "ExecuteTime": {
     "end_time": "2020-02-10T16:07:28.942205Z",
     "start_time": "2020-02-10T16:07:26.281475Z"
    },
    "jupyter": {
     "outputs_hidden": false
    }
   },
   "outputs": [
    {
     "data": {
      "text/plain": [
       "HitRate@10    0.022000\n",
       "NDCG@10       0.014046\n",
       "Name: NMF, dtype: float64"
      ]
     },
     "execution_count": 9,
     "metadata": {},
     "output_type": "execute_result"
    }
   ],
   "source": [
    "from sponge_bob_magic.metrics import HitRate, NDCG\n",
    "from sponge_bob_magic.experiment import Experiment\n",
    "\n",
    "metrics = Experiment(test, {NDCG(): 10, \n",
    "                            HitRate(): 10})\n",
    "\n",
    "metrics.add_result(\"NMF\", recs)\n",
    "metrics.pandas_df.loc[\"NMF\"]"
   ]
  },
  {
   "cell_type": "markdown",
   "metadata": {},
   "source": [
    "## SLIM\n",
    "Один из простых, но эффективных алгоритмов "
   ]
  },
  {
   "cell_type": "code",
   "execution_count": 10,
   "metadata": {},
   "outputs": [],
   "source": [
    "from sponge_bob_magic.models import SLIM\n",
    "\n",
    "slim = SLIM(lambda_=0.01, beta=0.3)"
   ]
  },
  {
   "cell_type": "code",
   "execution_count": 11,
   "metadata": {},
   "outputs": [
    {
     "name": "stderr",
     "output_type": "stream",
     "text": [
      "26-Mar-20 23:07:27, sponge_bob_magic, DEBUG: Предварительная стадия обучения (pre-fit)\n",
      "26-Mar-20 23:07:30, sponge_bob_magic, DEBUG: Основная стадия обучения (fit)\n",
      "26-Mar-20 23:07:30, sponge_bob_magic, DEBUG: Построение модели SLIM\n"
     ]
    },
    {
     "name": "stdout",
     "output_type": "stream",
     "text": [
      "CPU times: user 5.53 s, sys: 270 ms, total: 5.8 s\n",
      "Wall time: 9.29 s\n"
     ]
    }
   ],
   "source": [
    "%%time\n",
    "\n",
    "slim.fit(log=train)"
   ]
  },
  {
   "cell_type": "code",
   "execution_count": 12,
   "metadata": {},
   "outputs": [
    {
     "name": "stdout",
     "output_type": "stream",
     "text": [
      "CPU times: user 30 ms, sys: 7.24 ms, total: 37.2 ms\n",
      "Wall time: 8.1 s\n"
     ]
    }
   ],
   "source": [
    "%%time\n",
    "\n",
    "recs = slim.predict(\n",
    "    k=10,\n",
    "    users=test.select('user_id').distinct(),\n",
    "    items=test.select('item_id').distinct(),\n",
    "    log=train,\n",
    "    filter_seen_items=True\n",
    ")"
   ]
  },
  {
   "cell_type": "code",
   "execution_count": 13,
   "metadata": {},
   "outputs": [
    {
     "data": {
      "text/plain": [
       "HitRate@10    0.334000\n",
       "NDCG@10       0.178872\n",
       "Name: SLIM, dtype: float64"
      ]
     },
     "execution_count": 13,
     "metadata": {},
     "output_type": "execute_result"
    }
   ],
   "source": [
    "metrics.add_result(\"SLIM\", recs)\n",
    "metrics.pandas_df.loc[\"SLIM\"]"
   ]
  },
  {
   "cell_type": "markdown",
   "metadata": {},
   "source": [
    "## ALS\n",
    "Библиотека также содержит классические алгоритмы рекомендаций, например, матричную факторизацию"
   ]
  },
  {
   "cell_type": "code",
   "execution_count": 14,
   "metadata": {
    "jupyter": {
     "outputs_hidden": false
    }
   },
   "outputs": [],
   "source": [
    "from sponge_bob_magic.models import ALS\n",
    "\n",
    "als = ALS(rank=100)"
   ]
  },
  {
   "cell_type": "code",
   "execution_count": 15,
   "metadata": {
    "jupyter": {
     "outputs_hidden": false
    }
   },
   "outputs": [
    {
     "name": "stderr",
     "output_type": "stream",
     "text": [
      "26-Mar-20 23:11:12, sponge_bob_magic, DEBUG: Предварительная стадия обучения (pre-fit)\n",
      "26-Mar-20 23:11:14, sponge_bob_magic, DEBUG: Основная стадия обучения (fit)\n",
      "26-Mar-20 23:11:14, sponge_bob_magic, DEBUG: Индексирование данных\n",
      "26-Mar-20 23:11:15, sponge_bob_magic, DEBUG: Обучение модели\n"
     ]
    },
    {
     "name": "stdout",
     "output_type": "stream",
     "text": [
      "CPU times: user 55.1 ms, sys: 11 ms, total: 66.1 ms\n",
      "Wall time: 39.3 s\n"
     ]
    }
   ],
   "source": [
    "%%time\n",
    "als.fit(log=train)"
   ]
  },
  {
   "cell_type": "code",
   "execution_count": 16,
   "metadata": {
    "jupyter": {
     "outputs_hidden": false
    }
   },
   "outputs": [
    {
     "name": "stdout",
     "output_type": "stream",
     "text": [
      "CPU times: user 23.2 ms, sys: 4.82 ms, total: 28 ms\n",
      "Wall time: 7.23 s\n"
     ]
    }
   ],
   "source": [
    "%%time\n",
    "recs = als.predict(\n",
    "    k=10,\n",
    "    users=test.select('user_id').distinct(),\n",
    "    items=test.select('item_id').distinct(),\n",
    "    log=train,\n",
    "    filter_seen_items=True\n",
    ")"
   ]
  },
  {
   "cell_type": "code",
   "execution_count": 17,
   "metadata": {
    "jupyter": {
     "outputs_hidden": false
    }
   },
   "outputs": [
    {
     "data": {
      "text/plain": [
       "HitRate@10    0.140000\n",
       "NDCG@10       0.057582\n",
       "Name: ALS, dtype: float64"
      ]
     },
     "execution_count": 17,
     "metadata": {},
     "output_type": "execute_result"
    }
   ],
   "source": [
    "metrics.add_result(\"ALS\", recs)\n",
    "metrics.pandas_df.loc[\"ALS\"]"
   ]
  },
  {
   "cell_type": "markdown",
   "metadata": {},
   "source": [
    "## Своя модель\n",
    "Для построения своей модели нужно использовать тот же самый split, что и для бейзлайнов"
   ]
  },
  {
   "cell_type": "code",
   "execution_count": 18,
   "metadata": {
    "jupyter": {
     "outputs_hidden": false
    }
   },
   "outputs": [
    {
     "name": "stderr",
     "output_type": "stream",
     "text": [
      "/Users/alexxl/sponge-bob-magic/venv/lib/python3.7/site-packages/pyarrow/__init__.py:157: UserWarning: pyarrow.open_stream is deprecated, please use pyarrow.ipc.open_stream\n",
      "  warnings.warn(\"pyarrow.open_stream is deprecated, please use \"\n"
     ]
    }
   ],
   "source": [
    "train.toPandas().to_csv(\"train.csv\", index=False)"
   ]
  },
  {
   "cell_type": "code",
   "execution_count": 19,
   "metadata": {
    "jupyter": {
     "outputs_hidden": false
    },
    "scrolled": true
   },
   "outputs": [
    {
     "name": "stdout",
     "output_type": "stream",
     "text": [
      "user_id,item_id,relevance,timestamp\n",
      "1090,1961,4.0,2000-11-23 01:20:08\n",
      "1090,2428,2.0,2000-11-23 01:27:11\n",
      "1090,1208,3.0,2000-11-23 01:21:17\n",
      "1090,296,5.0,2000-11-23 01:06:15\n",
      "1090,318,5.0,2000-11-23 01:11:51\n",
      "1090,1704,4.0,2000-11-23 01:12:48\n",
      "1090,2433,3.0,2000-11-23 01:26:01\n",
      "1090,1569,4.0,2000-11-23 01:02:22\n",
      "1090,110,3.0,2000-11-23 01:12:48\n"
     ]
    }
   ],
   "source": [
    "!head train.csv"
   ]
  },
  {
   "cell_type": "markdown",
   "metadata": {},
   "source": [
    "Здесь магия: можно взять train и обучить на нём свою любимую модель вне библиотеки\n",
    "\n",
    "Также нужно выдать рекомендации обученной моделью"
   ]
  },
  {
   "cell_type": "code",
   "execution_count": 20,
   "metadata": {
    "jupyter": {
     "outputs_hidden": false
    }
   },
   "outputs": [],
   "source": [
    "recs.toPandas().to_csv(\"recs.csv\", index=False)"
   ]
  },
  {
   "cell_type": "markdown",
   "metadata": {},
   "source": [
    "Теперь нужно прочитать рекомендации в формате, поддерживаемом библиотекой"
   ]
  },
  {
   "cell_type": "code",
   "execution_count": 21,
   "metadata": {
    "jupyter": {
     "outputs_hidden": false
    }
   },
   "outputs": [],
   "source": [
    "recs = DataPreparator().transform(\n",
    "    path=\"recs.csv\",\n",
    "    columns_names={\n",
    "        \"user_id\": \"user_id\",\n",
    "        \"item_id\": \"item_id\",\n",
    "        \"relevance\": \"relevance\"\n",
    "    },\n",
    "    header=True,\n",
    "    format_type=\"csv\"\n",
    ")"
   ]
  },
  {
   "cell_type": "markdown",
   "metadata": {},
   "source": [
    "и сравнить качество своей модели с бейзлайнамии"
   ]
  },
  {
   "cell_type": "code",
   "execution_count": 22,
   "metadata": {
    "jupyter": {
     "outputs_hidden": false
    }
   },
   "outputs": [
    {
     "data": {
      "text/html": [
       "<div>\n",
       "<style scoped>\n",
       "    .dataframe tbody tr th:only-of-type {\n",
       "        vertical-align: middle;\n",
       "    }\n",
       "\n",
       "    .dataframe tbody tr th {\n",
       "        vertical-align: top;\n",
       "    }\n",
       "\n",
       "    .dataframe thead th {\n",
       "        text-align: right;\n",
       "    }\n",
       "</style>\n",
       "<table border=\"1\" class=\"dataframe\">\n",
       "  <thead>\n",
       "    <tr style=\"text-align: right;\">\n",
       "      <th></th>\n",
       "      <th>HitRate@10</th>\n",
       "      <th>NDCG@10</th>\n",
       "    </tr>\n",
       "  </thead>\n",
       "  <tbody>\n",
       "    <tr>\n",
       "      <th>NMF</th>\n",
       "      <td>0.022</td>\n",
       "      <td>0.014046</td>\n",
       "    </tr>\n",
       "    <tr>\n",
       "      <th>SLIM</th>\n",
       "      <td>0.334</td>\n",
       "      <td>0.178872</td>\n",
       "    </tr>\n",
       "    <tr>\n",
       "      <th>ALS</th>\n",
       "      <td>0.140</td>\n",
       "      <td>0.057582</td>\n",
       "    </tr>\n",
       "    <tr>\n",
       "      <th>my_model</th>\n",
       "      <td>0.140</td>\n",
       "      <td>0.057582</td>\n",
       "    </tr>\n",
       "  </tbody>\n",
       "</table>\n",
       "</div>"
      ],
      "text/plain": [
       "          HitRate@10   NDCG@10\n",
       "NMF            0.022  0.014046\n",
       "SLIM           0.334  0.178872\n",
       "ALS            0.140  0.057582\n",
       "my_model       0.140  0.057582"
      ]
     },
     "execution_count": 22,
     "metadata": {},
     "output_type": "execute_result"
    }
   ],
   "source": [
    "metrics.add_result(\"my_model\", recs)\n",
    "metrics.pandas_df"
   ]
  }
 ],
 "metadata": {
  "kernelspec": {
   "display_name": "Python 3",
   "language": "python",
   "name": "python3"
  },
  "language_info": {
   "codemirror_mode": {
    "name": "ipython",
    "version": 3
   },
   "file_extension": ".py",
   "mimetype": "text/x-python",
   "name": "python",
   "nbconvert_exporter": "python",
   "pygments_lexer": "ipython3",
   "version": "3.7.5"
  },
  "name": "movielens_nmf.ipynb",
  "pycharm": {
   "stem_cell": {
    "cell_type": "raw",
    "metadata": {
     "collapsed": false
    },
    "source": null
   }
  }
 },
 "nbformat": 4,
 "nbformat_minor": 4
}
