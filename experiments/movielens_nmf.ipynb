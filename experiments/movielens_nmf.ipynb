{
 "cells": [
  {
   "cell_type": "markdown",
   "metadata": {},
   "source": [
    "# MovieLens Dataset"
   ]
  },
  {
   "cell_type": "markdown",
   "metadata": {},
   "source": [
    "### Импорты, создание спарк-сессии <a name='intro'></a>"
   ]
  },
  {
   "cell_type": "code",
   "execution_count": 10,
   "metadata": {
    "ExecuteTime": {
     "end_time": "2020-02-10T16:01:45.639135Z",
     "start_time": "2020-02-10T16:01:45.612577Z"
    },
    "pycharm": {
     "is_executing": false
    }
   },
   "outputs": [
    {
     "name": "stderr",
     "output_type": "stream",
     "text": [
      "10-Feb-20 19:01:45, matplotlib.pyplot, DEBUG: Loaded backend module://ipykernel.pylab.backend_inline version unknown.\n"
     ]
    },
    {
     "name": "stdout",
     "output_type": "stream",
     "text": [
      "The autoreload extension is already loaded. To reload it, use:\n",
      "  %reload_ext autoreload\n"
     ]
    }
   ],
   "source": [
    "%load_ext autoreload\n",
    "%autoreload 2\n",
    "%matplotlib inline"
   ]
  },
  {
   "cell_type": "code",
   "execution_count": 2,
   "metadata": {
    "ExecuteTime": {
     "end_time": "2020-02-10T15:59:06.180893Z",
     "start_time": "2020-02-10T15:59:05.655260Z"
    },
    "pycharm": {
     "is_executing": false
    }
   },
   "outputs": [],
   "source": [
    "import logging\n",
    "import os\n",
    "import re\n",
    "import sys\n",
    "from collections import Counter\n",
    "from datetime import datetime\n",
    "from time import time\n",
    "\n",
    "import matplotlib.pyplot as plt\n",
    "import numpy as np\n",
    "import pandas as pd\n",
    "from pyspark.sql import SparkSession\n",
    "from pyspark.sql import functions as sf\n",
    "from pyspark.sql.types import DoubleType, StringType, StructType, StructField, TimestampType\n",
    "\n",
    "from sklearn.feature_extraction.text import CountVectorizer"
   ]
  },
  {
   "cell_type": "code",
   "execution_count": 3,
   "metadata": {
    "ExecuteTime": {
     "end_time": "2020-02-10T15:59:06.201606Z",
     "start_time": "2020-02-10T15:59:06.182949Z"
    },
    "pycharm": {
     "is_executing": false
    }
   },
   "outputs": [],
   "source": [
    "parent_dir = os.path.split(os.getcwd())[0]\n",
    "if parent_dir not in sys.path:\n",
    "    sys.path.append(parent_dir)"
   ]
  },
  {
   "cell_type": "code",
   "execution_count": 4,
   "metadata": {
    "ExecuteTime": {
     "end_time": "2020-02-10T15:59:06.405240Z",
     "start_time": "2020-02-10T15:59:06.203469Z"
    },
    "pycharm": {
     "is_executing": false
    }
   },
   "outputs": [],
   "source": [
    "from sponge_bob_magic.datasets.movielens import MovieLens\n",
    "from sponge_bob_magic.data_preparator.data_preparator import DataPreparator\n",
    "from sponge_bob_magic.metrics.metrics import HitRateMetric, NDCGMetric\n",
    "from sponge_bob_magic.models.neuromf_recommender import NeuroMFRecommender\n",
    "from sponge_bob_magic.splitters.user_log_splitter import RandomUserLogSplitter\n",
    "\n",
    "from sponge_bob_magic.constants import DEFAULT_CONTEXT\n",
    "from pyspark.sql.functions import lit\n",
    "\n",
    "from sponge_bob_magic.utils import  get_spark_session"
   ]
  },
  {
   "cell_type": "code",
   "execution_count": 5,
   "metadata": {
    "ExecuteTime": {
     "end_time": "2020-02-10T15:59:06.425817Z",
     "start_time": "2020-02-10T15:59:06.407006Z"
    },
    "pycharm": {
     "is_executing": false
    }
   },
   "outputs": [],
   "source": [
    "# отображение максимальной ширины колонок в pandas датафреймах\n",
    "pd.options.display.max_colwidth = -1"
   ]
  },
  {
   "cell_type": "code",
   "execution_count": 6,
   "metadata": {
    "ExecuteTime": {
     "end_time": "2020-02-10T15:59:09.227179Z",
     "start_time": "2020-02-10T15:59:06.427348Z"
    },
    "pycharm": {
     "is_executing": false
    }
   },
   "outputs": [
    {
     "data": {
      "text/html": [
       "\n",
       "            <div>\n",
       "                <p><b>SparkSession - hive</b></p>\n",
       "                \n",
       "        <div>\n",
       "            <p><b>SparkContext</b></p>\n",
       "\n",
       "            <p><a href=\"http://10.9.88.154:4040\">Spark UI</a></p>\n",
       "\n",
       "            <dl>\n",
       "              <dt>Version</dt>\n",
       "                <dd><code>v2.4.4</code></dd>\n",
       "              <dt>Master</dt>\n",
       "                <dd><code>local[*]</code></dd>\n",
       "              <dt>AppName</dt>\n",
       "                <dd><code>pyspark-shell</code></dd>\n",
       "            </dl>\n",
       "        </div>\n",
       "        \n",
       "            </div>\n",
       "        "
      ],
      "text/plain": [
       "<pyspark.sql.session.SparkSession at 0x13273c0b8>"
      ]
     },
     "execution_count": 6,
     "metadata": {},
     "output_type": "execute_result"
    }
   ],
   "source": [
    "spark = get_spark_session()\n",
    "spark"
   ]
  },
  {
   "cell_type": "markdown",
   "metadata": {},
   "source": [
    "## Подготовка данных <a name='data-preparator'></a>"
   ]
  },
  {
   "cell_type": "code",
   "execution_count": 7,
   "metadata": {
    "ExecuteTime": {
     "end_time": "2020-02-10T15:59:42.041251Z",
     "start_time": "2020-02-10T15:59:09.230636Z"
    }
   },
   "outputs": [
    {
     "name": "stdout",
     "output_type": "stream",
     "text": [
      "ratings\n"
     ]
    },
    {
     "data": {
      "text/html": [
       "<div>\n",
       "<style scoped>\n",
       "    .dataframe tbody tr th:only-of-type {\n",
       "        vertical-align: middle;\n",
       "    }\n",
       "\n",
       "    .dataframe tbody tr th {\n",
       "        vertical-align: top;\n",
       "    }\n",
       "\n",
       "    .dataframe thead th {\n",
       "        text-align: right;\n",
       "    }\n",
       "</style>\n",
       "<table border=\"1\" class=\"dataframe\">\n",
       "  <thead>\n",
       "    <tr style=\"text-align: right;\">\n",
       "      <th></th>\n",
       "      <th>user_id</th>\n",
       "      <th>item_id</th>\n",
       "      <th>relevance</th>\n",
       "      <th>timestamp</th>\n",
       "    </tr>\n",
       "  </thead>\n",
       "  <tbody>\n",
       "    <tr>\n",
       "      <td>0</td>\n",
       "      <td>1</td>\n",
       "      <td>1193</td>\n",
       "      <td>5</td>\n",
       "      <td>978300760</td>\n",
       "    </tr>\n",
       "    <tr>\n",
       "      <td>1</td>\n",
       "      <td>1</td>\n",
       "      <td>661</td>\n",
       "      <td>3</td>\n",
       "      <td>978302109</td>\n",
       "    </tr>\n",
       "    <tr>\n",
       "      <td>2</td>\n",
       "      <td>1</td>\n",
       "      <td>914</td>\n",
       "      <td>3</td>\n",
       "      <td>978301968</td>\n",
       "    </tr>\n",
       "  </tbody>\n",
       "</table>\n",
       "</div>"
      ],
      "text/plain": [
       "   user_id  item_id  relevance  timestamp\n",
       "0  1        1193     5          978300760\n",
       "1  1        661      3          978302109\n",
       "2  1        914      3          978301968"
      ]
     },
     "metadata": {},
     "output_type": "display_data"
    },
    {
     "name": "stdout",
     "output_type": "stream",
     "text": [
      "\n",
      "users\n"
     ]
    },
    {
     "data": {
      "text/html": [
       "<div>\n",
       "<style scoped>\n",
       "    .dataframe tbody tr th:only-of-type {\n",
       "        vertical-align: middle;\n",
       "    }\n",
       "\n",
       "    .dataframe tbody tr th {\n",
       "        vertical-align: top;\n",
       "    }\n",
       "\n",
       "    .dataframe thead th {\n",
       "        text-align: right;\n",
       "    }\n",
       "</style>\n",
       "<table border=\"1\" class=\"dataframe\">\n",
       "  <thead>\n",
       "    <tr style=\"text-align: right;\">\n",
       "      <th></th>\n",
       "      <th>user_id</th>\n",
       "      <th>gender</th>\n",
       "      <th>age</th>\n",
       "      <th>occupation</th>\n",
       "      <th>zip_code</th>\n",
       "    </tr>\n",
       "  </thead>\n",
       "  <tbody>\n",
       "    <tr>\n",
       "      <td>0</td>\n",
       "      <td>1</td>\n",
       "      <td>F</td>\n",
       "      <td>1</td>\n",
       "      <td>10</td>\n",
       "      <td>48067</td>\n",
       "    </tr>\n",
       "    <tr>\n",
       "      <td>1</td>\n",
       "      <td>2</td>\n",
       "      <td>M</td>\n",
       "      <td>56</td>\n",
       "      <td>16</td>\n",
       "      <td>70072</td>\n",
       "    </tr>\n",
       "    <tr>\n",
       "      <td>2</td>\n",
       "      <td>3</td>\n",
       "      <td>M</td>\n",
       "      <td>25</td>\n",
       "      <td>15</td>\n",
       "      <td>55117</td>\n",
       "    </tr>\n",
       "  </tbody>\n",
       "</table>\n",
       "</div>"
      ],
      "text/plain": [
       "   user_id gender  age  occupation zip_code\n",
       "0  1        F      1    10          48067  \n",
       "1  2        M      56   16          70072  \n",
       "2  3        M      25   15          55117  "
      ]
     },
     "metadata": {},
     "output_type": "display_data"
    },
    {
     "name": "stdout",
     "output_type": "stream",
     "text": [
      "\n",
      "items\n"
     ]
    },
    {
     "data": {
      "text/html": [
       "<div>\n",
       "<style scoped>\n",
       "    .dataframe tbody tr th:only-of-type {\n",
       "        vertical-align: middle;\n",
       "    }\n",
       "\n",
       "    .dataframe tbody tr th {\n",
       "        vertical-align: top;\n",
       "    }\n",
       "\n",
       "    .dataframe thead th {\n",
       "        text-align: right;\n",
       "    }\n",
       "</style>\n",
       "<table border=\"1\" class=\"dataframe\">\n",
       "  <thead>\n",
       "    <tr style=\"text-align: right;\">\n",
       "      <th></th>\n",
       "      <th>item_id</th>\n",
       "      <th>title</th>\n",
       "      <th>genres</th>\n",
       "    </tr>\n",
       "  </thead>\n",
       "  <tbody>\n",
       "    <tr>\n",
       "      <td>0</td>\n",
       "      <td>1</td>\n",
       "      <td>Toy Story (1995)</td>\n",
       "      <td>Animation|Children's|Comedy</td>\n",
       "    </tr>\n",
       "    <tr>\n",
       "      <td>1</td>\n",
       "      <td>2</td>\n",
       "      <td>Jumanji (1995)</td>\n",
       "      <td>Adventure|Children's|Fantasy</td>\n",
       "    </tr>\n",
       "    <tr>\n",
       "      <td>2</td>\n",
       "      <td>3</td>\n",
       "      <td>Grumpier Old Men (1995)</td>\n",
       "      <td>Comedy|Romance</td>\n",
       "    </tr>\n",
       "  </tbody>\n",
       "</table>\n",
       "</div>"
      ],
      "text/plain": [
       "   item_id                    title                        genres\n",
       "0  1        Toy Story (1995)         Animation|Children's|Comedy \n",
       "1  2        Jumanji (1995)           Adventure|Children's|Fantasy\n",
       "2  3        Grumpier Old Men (1995)  Comedy|Romance              "
      ]
     },
     "metadata": {},
     "output_type": "display_data"
    },
    {
     "name": "stdout",
     "output_type": "stream",
     "text": [
      "\n"
     ]
    }
   ],
   "source": [
    "data = MovieLens(\"1m\")\n",
    "log = spark.createDataFrame(data.ratings).withColumn(\n",
    "    \"context\", lit(DEFAULT_CONTEXT)\n",
    ")\n",
    "data.info()"
   ]
  },
  {
   "cell_type": "code",
   "execution_count": 8,
   "metadata": {
    "ExecuteTime": {
     "end_time": "2020-02-10T15:59:50.986401Z",
     "start_time": "2020-02-10T15:59:42.042998Z"
    },
    "scrolled": false
   },
   "outputs": [
    {
     "data": {
      "text/plain": [
       "(939809, 939809, 60400)"
      ]
     },
     "execution_count": 8,
     "metadata": {},
     "output_type": "execute_result"
    }
   ],
   "source": [
    "splitter = RandomUserLogSplitter(\n",
    "    True, True,\n",
    "    item_test_size=10,\n",
    "    seed=1234,\n",
    "#     user_test_size=500\n",
    ")\n",
    "\n",
    "train, test_input, test = splitter._split_quantity(log)\n",
    "\n",
    "(\n",
    "    train.count(), \n",
    "    test_input.count(), \n",
    "    test.count()\n",
    ")"
   ]
  },
  {
   "cell_type": "markdown",
   "metadata": {},
   "source": [
    "## NMF"
   ]
  },
  {
   "cell_type": "code",
   "execution_count": 9,
   "metadata": {
    "ExecuteTime": {
     "end_time": "2020-02-10T15:59:51.024567Z",
     "start_time": "2020-02-10T15:59:50.988776Z"
    }
   },
   "outputs": [],
   "source": [
    "nmf = NeuroMFRecommender(learning_rate=0.01,\n",
    "                         epochs=10,\n",
    "                         embedding_dimension=100)"
   ]
  },
  {
   "cell_type": "code",
   "execution_count": 11,
   "metadata": {
    "ExecuteTime": {
     "end_time": "2020-02-10T16:06:06.306042Z",
     "start_time": "2020-02-10T16:01:52.107394Z"
    }
   },
   "outputs": [
    {
     "name": "stderr",
     "output_type": "stream",
     "text": [
      "10-Feb-20 19:01:52, root, DEBUG: Проверка датафреймов\n",
      "10-Feb-20 19:01:53, root, DEBUG: Предварительная стадия обучения (pre-fit)\n",
      "10-Feb-20 19:02:05, root, DEBUG: Основная стадия обучения (fit)\n",
      "10-Feb-20 19:02:05, root, DEBUG: Индексирование данных\n",
      "10-Feb-20 19:02:05, root, DEBUG: Составление батча:\n",
      "10-Feb-20 19:02:05, root, DEBUG: -- Запись\n",
      "10-Feb-20 19:02:07, root, DEBUG: -- Считывание\n",
      "10-Feb-20 19:02:07, root, DEBUG: Обучение модели\n",
      "10-Feb-20 19:02:07, root, DEBUG: -- Эпоха 0\n",
      "10-Feb-20 19:02:31, root, DEBUG: -- Текущее значение: 0.9151\n",
      "10-Feb-20 19:02:31, root, DEBUG: -- Эпоха 1\n",
      "10-Feb-20 19:02:54, root, DEBUG: -- Текущее значение: 0.4272\n",
      "10-Feb-20 19:02:54, root, DEBUG: -- Эпоха 2\n",
      "10-Feb-20 19:03:17, root, DEBUG: -- Текущее значение: 0.2570\n",
      "10-Feb-20 19:03:17, root, DEBUG: -- Эпоха 3\n",
      "10-Feb-20 19:03:40, root, DEBUG: -- Текущее значение: 0.2250\n",
      "10-Feb-20 19:03:40, root, DEBUG: -- Эпоха 4\n",
      "10-Feb-20 19:04:03, root, DEBUG: -- Текущее значение: 0.2135\n",
      "10-Feb-20 19:04:03, root, DEBUG: -- Эпоха 5\n",
      "10-Feb-20 19:04:26, root, DEBUG: -- Текущее значение: 0.2093\n",
      "10-Feb-20 19:04:26, root, DEBUG: -- Эпоха 6\n",
      "10-Feb-20 19:04:48, root, DEBUG: -- Текущее значение: 0.2049\n",
      "10-Feb-20 19:04:48, root, DEBUG: -- Эпоха 7\n",
      "10-Feb-20 19:05:09, root, DEBUG: -- Текущее значение: 0.2017\n",
      "10-Feb-20 19:05:09, root, DEBUG: -- Эпоха 8\n",
      "10-Feb-20 19:05:31, root, DEBUG: -- Текущее значение: 0.1978\n",
      "10-Feb-20 19:05:31, root, DEBUG: -- Эпоха 9\n",
      "10-Feb-20 19:05:54, root, DEBUG: -- Текущее значение: 0.1949\n",
      "10-Feb-20 19:05:54, root, DEBUG: -- Запись annoy индексов\n"
     ]
    },
    {
     "name": "stdout",
     "output_type": "stream",
     "text": [
      "CPU times: user 3min 27s, sys: 5.1 s, total: 3min 32s\n",
      "Wall time: 4min 14s\n"
     ]
    }
   ],
   "source": [
    "%%time\n",
    "\n",
    "nmf.fit(\n",
    "    log=train,\n",
    "    user_features=None,\n",
    "    item_features=None\n",
    ")"
   ]
  },
  {
   "cell_type": "code",
   "execution_count": 12,
   "metadata": {
    "ExecuteTime": {
     "end_time": "2020-02-10T16:07:26.278582Z",
     "start_time": "2020-02-10T16:06:39.118983Z"
    },
    "scrolled": false
   },
   "outputs": [
    {
     "name": "stderr",
     "output_type": "stream",
     "text": [
      "10-Feb-20 19:06:39, root, DEBUG: Проверка датафреймов\n",
      "10-Feb-20 19:06:44, root, DEBUG: Индексирование данных\n",
      "10-Feb-20 19:06:44, root, DEBUG: Предсказание модели\n",
      "10-Feb-20 19:06:44, root, DEBUG: -- Запись\n",
      "10-Feb-20 19:06:45, root, DEBUG: -- Считывание\n",
      "10-Feb-20 19:06:45, root, DEBUG: Поиск ближайших айтемов с помощью annoy\n",
      "/anaconda3/envs/sbm/lib/python3.6/site-packages/pandas/core/frame.py:7123: FutureWarning: Sorting because non-concatenation axis is not aligned. A future version\n",
      "of pandas will change to not sort by default.\n",
      "\n",
      "To accept the future behavior, pass 'sort=False'.\n",
      "\n",
      "To retain the current behavior and silence the warning, pass 'sort=True'.\n",
      "\n",
      "  sort=sort,\n",
      "10-Feb-20 19:06:58, root, DEBUG: Обратное преобразование индексов\n",
      "10-Feb-20 19:06:59, root, DEBUG: Преобразование отрицательных relevance\n"
     ]
    },
    {
     "name": "stdout",
     "output_type": "stream",
     "text": [
      "CPU times: user 13.3 s, sys: 361 ms, total: 13.6 s\n",
      "Wall time: 47.1 s\n"
     ]
    }
   ],
   "source": [
    "%%time\n",
    "\n",
    "recs = nmf.predict(\n",
    "    k=10,\n",
    "    users=test.select('user_id').distinct(),\n",
    "    items=test.select('item_id').distinct(),\n",
    "    context='no_context',\n",
    "    log=train,\n",
    "    user_features=None,\n",
    "    item_features=None,\n",
    "    filter_seen_items=True\n",
    ")"
   ]
  },
  {
   "cell_type": "code",
   "execution_count": 13,
   "metadata": {
    "ExecuteTime": {
     "end_time": "2020-02-10T16:07:28.942205Z",
     "start_time": "2020-02-10T16:07:26.281475Z"
    }
   },
   "outputs": [
    {
     "name": "stdout",
     "output_type": "stream",
     "text": [
      "0.304635761589404\n",
      "CPU times: user 34.1 ms, sys: 12.2 ms, total: 46.3 ms\n",
      "Wall time: 2.63 s\n"
     ]
    }
   ],
   "source": [
    "%%time\n",
    "\n",
    "hr = HitRateMetric()\n",
    "print(hr.calculate(recs, test, k=10))"
   ]
  },
  {
   "cell_type": "code",
   "execution_count": 14,
   "metadata": {
    "ExecuteTime": {
     "end_time": "2020-02-10T16:07:33.068902Z",
     "start_time": "2020-02-10T16:07:28.945088Z"
    },
    "scrolled": true
   },
   "outputs": [
    {
     "name": "stdout",
     "output_type": "stream",
     "text": [
      "0.04386336461293571\n",
      "CPU times: user 68.3 ms, sys: 17.5 ms, total: 85.8 ms\n",
      "Wall time: 4.1 s\n"
     ]
    }
   ],
   "source": [
    "%%time\n",
    "\n",
    "ndcg = NDCGMetric()\n",
    "print(ndcg.calculate(recs, test, k=10))"
   ]
  },
  {
   "cell_type": "code",
   "execution_count": null,
   "metadata": {},
   "outputs": [],
   "source": []
  }
 ],
 "metadata": {
  "kernelspec": {
   "display_name": "sbm",
   "language": "python",
   "name": "sbm"
  },
  "language_info": {
   "codemirror_mode": {
    "name": "ipython",
    "version": 3
   },
   "file_extension": ".py",
   "mimetype": "text/x-python",
   "name": "python",
   "nbconvert_exporter": "python",
   "pygments_lexer": "ipython3",
   "version": "3.6.3"
  },
  "pycharm": {
   "stem_cell": {
    "cell_type": "raw",
    "metadata": {
     "collapsed": false
    },
    "source": []
   }
  }
 },
 "nbformat": 4,
 "nbformat_minor": 2
}
