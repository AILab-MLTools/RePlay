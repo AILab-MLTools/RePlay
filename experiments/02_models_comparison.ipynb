{
 "cells": [
  {
   "cell_type": "markdown",
   "metadata": {},
   "source": [
    "# RePlay recommender models comparison\n",
    "\n",
    "We will show the main RePlay functionality and compare performance of RePlay models on well-known MovieLens dataset. If you have not used RePlay before, start with 01_replay_basics.ipynb which introduces base concepts and describe main classes and functionality.\n",
    "\n",
    "### Dataset\n",
    "We will compare RePlay models on __MovieLens 1m__. \n",
    "\n",
    "### Dataset preprocessing: \n",
    "Ratings greater than or equal to 3 are considered as positive interactions.\n",
    "\n",
    "### Data split\n",
    "Dataset is split by date so that 20% of the last interactions as are placed in the test part. Cold items and users are dropped.\n",
    "\n",
    "### Predict:\n",
    "We will predict top-10 most relevant films for each user.\n",
    "\n",
    "### Metrics\n",
    "Quality metrics used:__ndcg@k, hitrate@k, map@k, mrr@k__ for k = 1, 5, 10\n",
    "Additional metrics used: __coverage@k__ and __surprisal@k__."
   ]
  },
  {
   "cell_type": "code",
   "execution_count": null,
   "metadata": {},
   "outputs": [],
   "source": [
    "! pip install rs-datasets"
   ]
  },
  {
   "cell_type": "code",
   "execution_count": 1,
   "metadata": {
    "ExecuteTime": {
     "end_time": "2020-02-10T16:01:45.639135Z",
     "start_time": "2020-02-10T16:01:45.612577Z"
    },
    "jupyter": {
     "outputs_hidden": false
    },
    "pycharm": {
     "is_executing": false
    }
   },
   "outputs": [],
   "source": [
    "%load_ext autoreload\n",
    "%autoreload 2"
   ]
  },
  {
   "cell_type": "code",
   "execution_count": 2,
   "metadata": {},
   "outputs": [],
   "source": [
    "%config Completer.use_jedi = False"
   ]
  },
  {
   "cell_type": "code",
   "execution_count": 3,
   "metadata": {},
   "outputs": [],
   "source": [
    "import warnings\n",
    "from optuna.exceptions import ExperimentalWarning\n",
    "warnings.filterwarnings(\"ignore\", category=UserWarning)\n",
    "warnings.filterwarnings(\"ignore\", category=ExperimentalWarning)"
   ]
  },
  {
   "cell_type": "code",
   "execution_count": 4,
   "metadata": {},
   "outputs": [
    {
     "data": {
      "text/html": [
       "<style type='text/css'>\n",
       ".datatable table.frame { margin-bottom: 0; }\n",
       ".datatable table.frame thead { border-bottom: none; }\n",
       ".datatable table.frame tr.coltypes td {  color: #FFFFFF;  line-height: 6px;  padding: 0 0.5em;}\n",
       ".datatable .bool    { background: #DDDD99; }\n",
       ".datatable .object  { background: #565656; }\n",
       ".datatable .int     { background: #5D9E5D; }\n",
       ".datatable .float   { background: #4040CC; }\n",
       ".datatable .str     { background: #CC4040; }\n",
       ".datatable .time    { background: #40CC40; }\n",
       ".datatable .row_index {  background: var(--jp-border-color3);  border-right: 1px solid var(--jp-border-color0);  color: var(--jp-ui-font-color3);  font-size: 9px;}\n",
       ".datatable .frame tbody td { text-align: left; }\n",
       ".datatable .frame tr.coltypes .row_index {  background: var(--jp-border-color0);}\n",
       ".datatable th:nth-child(2) { padding-left: 12px; }\n",
       ".datatable .hellipsis {  color: var(--jp-cell-editor-border-color);}\n",
       ".datatable .vellipsis {  background: var(--jp-layout-color0);  color: var(--jp-cell-editor-border-color);}\n",
       ".datatable .na {  color: var(--jp-cell-editor-border-color);  font-size: 80%;}\n",
       ".datatable .sp {  opacity: 0.25;}\n",
       ".datatable .footer { font-size: 9px; }\n",
       ".datatable .frame_dimensions {  background: var(--jp-border-color3);  border-top: 1px solid var(--jp-border-color0);  color: var(--jp-ui-font-color3);  display: inline-block;  opacity: 0.6;  padding: 1px 10px 1px 5px;}\n",
       "</style>\n"
      ],
      "text/plain": [
       "<IPython.core.display.HTML object>"
      ]
     },
     "metadata": {},
     "output_type": "display_data"
    }
   ],
   "source": [
    "import logging\n",
    "import time\n",
    "\n",
    "from pyspark.sql import functions as sf, types as st\n",
    "from pyspark.sql.types import IntegerType\n",
    "\n",
    "from replay.data import Dataset, FeatureHint, FeatureInfo, FeatureSchema, FeatureSource, FeatureType\n",
    "from replay.data.dataset_utils import DatasetLabelEncoder\n",
    "from replay.preprocessing.data_preparator import DataPreparator, Indexer\n",
    "from replay.metrics import Coverage, HitRate, MRR, MAP, NDCG, Surprisal, Experiment\n",
    "from replay.models import (\n",
    "    ALSWrap, \n",
    "    ItemKNN,\n",
    "    SLIM, \n",
    "    PopRec, \n",
    "    UCB,\n",
    "    Wilson, \n",
    "    Word2VecRec,\n",
    ")\n",
    "\n",
    "from replay.models.base_rec import HybridRecommender\n",
    "from replay.utils.session_handler import State\n",
    "from replay.splitters import DateSplitter\n",
    "from replay.utils import convert2spark, get_log_info\n",
    "from rs_datasets import MovieLens"
   ]
  },
  {
   "cell_type": "markdown",
   "metadata": {},
   "source": [
    "`State` object allows passing existing Spark session or create a new one, which will be used by the all RePlay modules.\n",
    "\n",
    "To create session with custom parameters ``spark.driver.memory`` and ``spark.sql.shuffle.partitions`` use function `get_spark_session` from `session_handler` module."
   ]
  },
  {
   "cell_type": "code",
   "execution_count": 5,
   "metadata": {
    "ExecuteTime": {
     "end_time": "2020-02-10T15:59:09.227179Z",
     "start_time": "2020-02-10T15:59:06.427348Z"
    },
    "jupyter": {
     "outputs_hidden": false
    },
    "pycharm": {
     "is_executing": false
    }
   },
   "outputs": [
    {
     "name": "stderr",
     "output_type": "stream",
     "text": [
<<<<<<< HEAD
<<<<<<< HEAD
      "23/10/31 09:59:22 WARN Utils: Your hostname, ecs-eemalov-large resolves to a loopback address: 127.0.1.1; using 10.11.10.44 instead (on interface eth0)\n",
      "23/10/31 09:59:22 WARN Utils: Set SPARK_LOCAL_IP if you need to bind to another address\n",
=======
      "23/10/26 19:45:49 WARN Utils: Your hostname, ecs-eemalov-large resolves to a loopback address: 127.0.1.1; using 10.11.10.44 instead (on interface eth0)\n",
      "23/10/26 19:45:49 WARN Utils: Set SPARK_LOCAL_IP if you need to bind to another address\n",
>>>>>>> rebased after 2 MRs
=======
      "23/10/31 09:59:22 WARN Utils: Your hostname, ecs-eemalov-large resolves to a loopback address: 127.0.1.1; using 10.11.10.44 instead (on interface eth0)\n",
      "23/10/31 09:59:22 WARN Utils: Set SPARK_LOCAL_IP if you need to bind to another address\n",
>>>>>>> updated models tests
      "WARNING: An illegal reflective access operation has occurred\n",
      "WARNING: Illegal reflective access by org.apache.spark.unsafe.Platform (file:/root/anaconda3/envs/replay/lib/python3.9/site-packages/pyspark/jars/spark-unsafe_2.12-3.2.4.jar) to constructor java.nio.DirectByteBuffer(long,int)\n",
      "WARNING: Please consider reporting this to the maintainers of org.apache.spark.unsafe.Platform\n",
      "WARNING: Use --illegal-access=warn to enable warnings of further illegal reflective access operations\n",
      "WARNING: All illegal access operations will be denied in a future release\n",
      "Using Spark's default log4j profile: org/apache/spark/log4j-defaults.properties\n",
      "Setting default log level to \"WARN\".\n",
      "To adjust logging level use sc.setLogLevel(newLevel). For SparkR, use setLogLevel(newLevel).\n",
<<<<<<< HEAD
<<<<<<< HEAD
      "23/10/31 09:59:24 WARN NativeCodeLoader: Unable to load native-hadoop library for your platform... using builtin-java classes where applicable\n",
      "23/10/31 09:59:24 WARN SparkConf: Note that spark.local.dir will be overridden by the value set by the cluster manager (via SPARK_LOCAL_DIRS in mesos/standalone/kubernetes and LOCAL_DIRS in YARN).\n"
=======
      "23/10/26 19:45:50 WARN NativeCodeLoader: Unable to load native-hadoop library for your platform... using builtin-java classes where applicable\n",
      "23/10/26 19:45:50 WARN SparkConf: Note that spark.local.dir will be overridden by the value set by the cluster manager (via SPARK_LOCAL_DIRS in mesos/standalone/kubernetes and LOCAL_DIRS in YARN).\n"
>>>>>>> rebased after 2 MRs
=======
      "23/10/31 09:59:24 WARN NativeCodeLoader: Unable to load native-hadoop library for your platform... using builtin-java classes where applicable\n",
      "23/10/31 09:59:24 WARN SparkConf: Note that spark.local.dir will be overridden by the value set by the cluster manager (via SPARK_LOCAL_DIRS in mesos/standalone/kubernetes and LOCAL_DIRS in YARN).\n"
>>>>>>> updated models tests
     ]
    },
    {
     "data": {
      "text/html": [
       "\n",
       "            <div>\n",
       "                <p><b>SparkSession - hive</b></p>\n",
       "                \n",
       "        <div>\n",
       "            <p><b>SparkContext</b></p>\n",
       "\n",
       "            <p><a href=\"http://localhost:4040\">Spark UI</a></p>\n",
       "\n",
       "            <dl>\n",
       "              <dt>Version</dt>\n",
       "                <dd><code>v3.2.4</code></dd>\n",
       "              <dt>Master</dt>\n",
       "                <dd><code>local[*]</code></dd>\n",
       "              <dt>AppName</dt>\n",
       "                <dd><code>pyspark-shell</code></dd>\n",
       "            </dl>\n",
       "        </div>\n",
       "        \n",
       "            </div>\n",
       "        "
      ],
      "text/plain": [
<<<<<<< HEAD
<<<<<<< HEAD
       "<pyspark.sql.session.SparkSession at 0x7fa8d3483ee0>"
=======
       "<pyspark.sql.session.SparkSession at 0x7f4f53b2b910>"
>>>>>>> rebased after 2 MRs
=======
       "<pyspark.sql.session.SparkSession at 0x7fa8d3483ee0>"
>>>>>>> updated models tests
      ]
     },
     "execution_count": 5,
     "metadata": {},
     "output_type": "execute_result"
    }
   ],
   "source": [
    "spark = State().session\n",
    "spark"
   ]
  },
  {
   "cell_type": "code",
   "execution_count": 6,
   "metadata": {},
   "outputs": [],
   "source": [
    "spark.sparkContext.setLogLevel('ERROR')"
   ]
  },
  {
   "cell_type": "code",
   "execution_count": 7,
   "metadata": {},
   "outputs": [],
   "source": [
    "logger = logging.getLogger(\"replay\")"
   ]
  },
  {
   "cell_type": "code",
   "execution_count": 8,
   "metadata": {},
   "outputs": [],
   "source": [
    "K = 10\n",
    "K_list_metrics = [1, 5, 10]\n",
    "BUDGET = 20\n",
    "BUDGET_NN = 10\n",
    "SEED = 12345"
   ]
  },
  {
   "cell_type": "markdown",
   "metadata": {},
   "source": [
    "## 0. Preprocessing <a name='data-preparator'></a>"
   ]
  },
  {
   "cell_type": "markdown",
   "metadata": {},
   "source": [
    "### 0.1 Data loading"
   ]
  },
  {
   "cell_type": "code",
   "execution_count": 9,
   "metadata": {
    "ExecuteTime": {
     "end_time": "2020-02-10T15:59:42.041251Z",
     "start_time": "2020-02-10T15:59:09.230636Z"
    },
    "jupyter": {
     "outputs_hidden": false
    },
    "scrolled": true
   },
   "outputs": [
    {
     "name": "stdout",
     "output_type": "stream",
     "text": [
      "ratings\n"
     ]
    },
    {
     "data": {
      "text/html": [
       "<div>\n",
       "<style scoped>\n",
       "    .dataframe tbody tr th:only-of-type {\n",
       "        vertical-align: middle;\n",
       "    }\n",
       "\n",
       "    .dataframe tbody tr th {\n",
       "        vertical-align: top;\n",
       "    }\n",
       "\n",
       "    .dataframe thead th {\n",
       "        text-align: right;\n",
       "    }\n",
       "</style>\n",
       "<table border=\"1\" class=\"dataframe\">\n",
       "  <thead>\n",
       "    <tr style=\"text-align: right;\">\n",
       "      <th></th>\n",
       "      <th>user_id</th>\n",
       "      <th>item_id</th>\n",
       "      <th>rating</th>\n",
       "      <th>timestamp</th>\n",
       "    </tr>\n",
       "  </thead>\n",
       "  <tbody>\n",
       "    <tr>\n",
       "      <th>0</th>\n",
       "      <td>1</td>\n",
       "      <td>1193</td>\n",
       "      <td>5</td>\n",
       "      <td>978300760</td>\n",
       "    </tr>\n",
       "    <tr>\n",
       "      <th>1</th>\n",
       "      <td>1</td>\n",
       "      <td>661</td>\n",
       "      <td>3</td>\n",
       "      <td>978302109</td>\n",
       "    </tr>\n",
       "    <tr>\n",
       "      <th>2</th>\n",
       "      <td>1</td>\n",
       "      <td>914</td>\n",
       "      <td>3</td>\n",
       "      <td>978301968</td>\n",
       "    </tr>\n",
       "  </tbody>\n",
       "</table>\n",
       "</div>"
      ],
      "text/plain": [
       "   user_id  item_id  rating  timestamp\n",
       "0        1     1193       5  978300760\n",
       "1        1      661       3  978302109\n",
       "2        1      914       3  978301968"
      ]
     },
     "metadata": {},
     "output_type": "display_data"
    },
    {
     "name": "stdout",
     "output_type": "stream",
     "text": [
      "\n",
      "users\n"
     ]
    },
    {
     "data": {
      "text/html": [
       "<div>\n",
       "<style scoped>\n",
       "    .dataframe tbody tr th:only-of-type {\n",
       "        vertical-align: middle;\n",
       "    }\n",
       "\n",
       "    .dataframe tbody tr th {\n",
       "        vertical-align: top;\n",
       "    }\n",
       "\n",
       "    .dataframe thead th {\n",
       "        text-align: right;\n",
       "    }\n",
       "</style>\n",
       "<table border=\"1\" class=\"dataframe\">\n",
       "  <thead>\n",
       "    <tr style=\"text-align: right;\">\n",
       "      <th></th>\n",
       "      <th>user_id</th>\n",
       "      <th>gender</th>\n",
       "      <th>age</th>\n",
       "      <th>occupation</th>\n",
       "      <th>zip_code</th>\n",
       "    </tr>\n",
       "  </thead>\n",
       "  <tbody>\n",
       "    <tr>\n",
       "      <th>0</th>\n",
       "      <td>1</td>\n",
       "      <td>F</td>\n",
       "      <td>1</td>\n",
       "      <td>10</td>\n",
       "      <td>48067</td>\n",
       "    </tr>\n",
       "    <tr>\n",
       "      <th>1</th>\n",
       "      <td>2</td>\n",
       "      <td>M</td>\n",
       "      <td>56</td>\n",
       "      <td>16</td>\n",
       "      <td>70072</td>\n",
       "    </tr>\n",
       "    <tr>\n",
       "      <th>2</th>\n",
       "      <td>3</td>\n",
       "      <td>M</td>\n",
       "      <td>25</td>\n",
       "      <td>15</td>\n",
       "      <td>55117</td>\n",
       "    </tr>\n",
       "  </tbody>\n",
       "</table>\n",
       "</div>"
      ],
      "text/plain": [
       "   user_id gender  age  occupation zip_code\n",
       "0        1      F    1          10    48067\n",
       "1        2      M   56          16    70072\n",
       "2        3      M   25          15    55117"
      ]
     },
     "metadata": {},
     "output_type": "display_data"
    },
    {
     "name": "stdout",
     "output_type": "stream",
     "text": [
      "\n",
      "items\n"
     ]
    },
    {
     "data": {
      "text/html": [
       "<div>\n",
       "<style scoped>\n",
       "    .dataframe tbody tr th:only-of-type {\n",
       "        vertical-align: middle;\n",
       "    }\n",
       "\n",
       "    .dataframe tbody tr th {\n",
       "        vertical-align: top;\n",
       "    }\n",
       "\n",
       "    .dataframe thead th {\n",
       "        text-align: right;\n",
       "    }\n",
       "</style>\n",
       "<table border=\"1\" class=\"dataframe\">\n",
       "  <thead>\n",
       "    <tr style=\"text-align: right;\">\n",
       "      <th></th>\n",
       "      <th>item_id</th>\n",
       "      <th>title</th>\n",
       "      <th>genres</th>\n",
       "    </tr>\n",
       "  </thead>\n",
       "  <tbody>\n",
       "    <tr>\n",
       "      <th>0</th>\n",
       "      <td>1</td>\n",
       "      <td>Toy Story (1995)</td>\n",
       "      <td>Animation|Children's|Comedy</td>\n",
       "    </tr>\n",
       "    <tr>\n",
       "      <th>1</th>\n",
       "      <td>2</td>\n",
       "      <td>Jumanji (1995)</td>\n",
       "      <td>Adventure|Children's|Fantasy</td>\n",
       "    </tr>\n",
       "    <tr>\n",
       "      <th>2</th>\n",
       "      <td>3</td>\n",
       "      <td>Grumpier Old Men (1995)</td>\n",
       "      <td>Comedy|Romance</td>\n",
       "    </tr>\n",
       "  </tbody>\n",
       "</table>\n",
       "</div>"
      ],
      "text/plain": [
       "   item_id                    title                        genres\n",
       "0        1         Toy Story (1995)   Animation|Children's|Comedy\n",
       "1        2           Jumanji (1995)  Adventure|Children's|Fantasy\n",
       "2        3  Grumpier Old Men (1995)                Comedy|Romance"
      ]
     },
     "metadata": {},
     "output_type": "display_data"
    },
    {
     "name": "stdout",
     "output_type": "stream",
     "text": [
      "\n"
     ]
    }
   ],
   "source": [
    "data = MovieLens(\"1m\")\n",
    "data.info()"
   ]
  },
  {
   "cell_type": "markdown",
   "metadata": {},
   "source": [
    "#### log preprocessing\n",
    "\n",
    "- converting to spark dataframe\n",
    "- renaming columns\n",
    "- checking for nulls\n",
    "- converting timestamp to Timestamp format"
   ]
  },
  {
   "cell_type": "markdown",
   "metadata": {},
   "source": [
    "### 0.1. Dataset preparation"
   ]
  },
  {
   "cell_type": "code",
   "execution_count": 10,
   "metadata": {},
   "outputs": [
    {
     "name": "stdout",
     "output_type": "stream",
     "text": [
      "+-------+-------+---------+---------+\n",
      "|user_id|item_id|relevance|timestamp|\n",
      "+-------+-------+---------+---------+\n",
      "|      1|   1193|        5|978300760|\n",
      "|      1|    661|        3|978302109|\n",
      "|      1|    914|        3|978301968|\n",
      "|      1|   3408|        4|978300275|\n",
      "|      1|   2355|        5|978824291|\n",
      "+-------+-------+---------+---------+\n",
      "only showing top 5 rows\n",
      "\n"
     ]
    }
   ],
   "source": [
    "interactions_spark = convert2spark(data.ratings.rename(columns={\"rating\": \"relevance\"}))\n",
    "interactions_spark.show(5)"
   ]
  },
  {
   "cell_type": "code",
   "execution_count": 11,
   "metadata": {},
   "outputs": [
    {
     "name": "stdout",
     "output_type": "stream",
     "text": [
      "+-------+------+---+----------+--------+\n",
      "|user_id|gender|age|occupation|zip_code|\n",
      "+-------+------+---+----------+--------+\n",
      "|      1|     F|  1|        10|   48067|\n",
      "|      2|     M| 56|        16|   70072|\n",
      "|      3|     M| 25|        15|   55117|\n",
      "|      4|     M| 45|         7|   02460|\n",
      "|      5|     M| 25|        20|   55455|\n",
      "+-------+------+---+----------+--------+\n",
      "only showing top 5 rows\n",
      "\n"
     ]
    }
   ],
   "source": [
    "users_spark = convert2spark(data.users)\n",
    "users_spark.show(5)"
   ]
  },
  {
   "cell_type": "code",
   "execution_count": 12,
   "metadata": {},
   "outputs": [
    {
     "name": "stdout",
     "output_type": "stream",
     "text": [
      "+-------+--------------------+--------------------+\n",
      "|item_id|               title|              genres|\n",
      "+-------+--------------------+--------------------+\n",
      "|      1|    Toy Story (1995)|Animation|Childre...|\n",
      "|      2|      Jumanji (1995)|Adventure|Childre...|\n",
      "|      3|Grumpier Old Men ...|      Comedy|Romance|\n",
      "|      4|Waiting to Exhale...|        Comedy|Drama|\n",
      "|      5|Father of the Bri...|              Comedy|\n",
      "+-------+--------------------+--------------------+\n",
      "only showing top 5 rows\n",
      "\n"
     ]
    }
   ],
   "source": [
    "items_spark = convert2spark(data.items)\n",
    "items_spark.show(5)"
   ]
  },
  {
   "cell_type": "code",
   "execution_count": 13,
   "metadata": {},
   "outputs": [],
   "source": [
    "# we will use only algorithms which do not require user and item features and thus set feature dataframes to None\n",
    "user_features = None\n",
    "item_features = None"
   ]
  },
  {
   "cell_type": "code",
   "execution_count": 14,
   "metadata": {},
   "outputs": [
    {
     "data": {
      "text/plain": [
       "836478"
      ]
     },
     "execution_count": 14,
     "metadata": {},
     "output_type": "execute_result"
    }
   ],
   "source": [
    "# will consider ratings >= 3 as positive feedback. A positive feedback is treated with relevance = 1\n",
    "only_positives_interactions = interactions_spark.filter(sf.col('relevance') >= 3).withColumn('relevance', sf.lit(1))\n",
    "only_positives_interactions.count()"
   ]
  },
  {
   "cell_type": "code",
   "execution_count": 15,
   "metadata": {},
   "outputs": [
    {
     "name": "stderr",
     "output_type": "stream",
     "text": [
      "                                                                                \r"
     ]
    },
    {
     "name": "stdout",
     "output_type": "stream",
     "text": [
      "train info:\n",
      " total lines: 669181, total users: 5397, total items: 3569\n",
      "test info:\n",
      " total lines: 86542, total users: 1139, total items: 3279\n"
     ]
    }
   ],
   "source": [
    "# train/test split \n",
    "train_spl = DateSplitter(\n",
    "    test_start=0.2,\n",
    "    drop_cold_items=True,\n",
    "    drop_cold_users=True,\n",
    "    item_col=\"item_id\",\n",
    "    user_col=\"user_id\",\n",
    "    date_col=\"timestamp\",\n",
    ")\n",
    "train, test = train_spl.split(only_positives_interactions)\n",
    "print('train info:\\n', get_log_info(train, user_col=\"user_id\", item_col=\"item_id\"))\n",
    "print('test info:\\n', get_log_info(test, user_col=\"user_id\", item_col=\"item_id\"))"
   ]
  },
  {
   "cell_type": "code",
   "execution_count": 16,
   "metadata": {},
   "outputs": [
    {
     "data": {
      "text/plain": [
       "True"
      ]
     },
     "execution_count": 16,
     "metadata": {},
     "output_type": "execute_result"
    }
   ],
   "source": [
    "train.is_cached"
   ]
  },
  {
   "cell_type": "code",
   "execution_count": 17,
   "metadata": {},
   "outputs": [
    {
     "data": {
      "text/plain": [
       "(535343, 24241)"
      ]
     },
     "execution_count": 17,
     "metadata": {},
     "output_type": "execute_result"
    }
   ],
   "source": [
    "# train/test split for hyperparameters selection\n",
    "opt_train, opt_val = train_spl.split(train)\n",
    "opt_train.count(), opt_val.count()"
   ]
  },
  {
   "cell_type": "code",
   "execution_count": 18,
   "metadata": {},
   "outputs": [
    {
     "data": {
      "text/plain": [
       "True"
      ]
     },
     "execution_count": 18,
     "metadata": {},
     "output_type": "execute_result"
    }
   ],
   "source": [
    "opt_train.is_cached"
   ]
  },
  {
   "cell_type": "code",
   "execution_count": 19,
   "metadata": {},
   "outputs": [
    {
     "data": {
      "text/plain": [
       "798993"
      ]
     },
     "execution_count": 19,
     "metadata": {},
     "output_type": "execute_result"
    }
   ],
   "source": [
    "# negative feedback will be used for Wilson and UCB models\n",
    "only_negatives_log = interactions_spark.filter(sf.col('relevance') < 3).withColumn('relevance', sf.lit(0.))\n",
    "test_start = test.agg(sf.min('timestamp')).collect()[0][0]\n",
    "\n",
    "# train with both positive and negative feedback\n",
    "pos_neg_train=(train\n",
    "              .withColumn('relevance', sf.lit(1.))\n",
    "              .union(only_negatives_log.filter(sf.col('timestamp') < test_start))\n",
    "             )\n",
    "pos_neg_train.cache()\n",
    "pos_neg_train.count()"
   ]
  },
  {
   "cell_type": "code",
   "execution_count": 20,
   "metadata": {},
   "outputs": [],
   "source": [
    "feature_schema = FeatureSchema(\n",
    "    [\n",
    "        FeatureInfo(\n",
    "            column=\"user_id\",\n",
    "            feature_type=FeatureType.CATEGORICAL,\n",
    "            feature_hint=FeatureHint.QUERY_ID,\n",
    "        ),\n",
    "        FeatureInfo(\n",
    "            column=\"item_id\",\n",
    "            feature_type=FeatureType.CATEGORICAL,\n",
    "            feature_hint=FeatureHint.ITEM_ID,\n",
    "        ),\n",
    "        FeatureInfo(\n",
    "            column=\"relevance\",\n",
    "            feature_type=FeatureType.NUMERICAL,\n",
    "            feature_hint=FeatureHint.RATING,\n",
    "        ),\n",
    "        FeatureInfo(\n",
    "            column=\"timestamp\",\n",
    "            feature_type=FeatureType.NUMERICAL,\n",
    "            feature_hint=FeatureHint.TIMESTAMP,\n",
    "        ),\n",
    "    ]\n",
    ")"
   ]
  },
  {
   "cell_type": "code",
   "execution_count": 21,
   "metadata": {},
   "outputs": [],
   "source": [
    "all_dataset = Dataset(\n",
    "    feature_schema=feature_schema,\n",
    "    interactions=interactions_spark,\n",
    "    query_features=None,\n",
    "    item_features=None,\n",
    "    check_consistency=True,\n",
    "    categorical_encoded=False,\n",
    ")\n",
    "\n",
    "train_dataset = Dataset(\n",
    "    feature_schema=feature_schema,\n",
    "    interactions=train,\n",
    "    query_features=None,\n",
    "    item_features=None,\n",
    "    check_consistency=True,\n",
    "    categorical_encoded=False,\n",
    ")\n",
    "\n",
    "train_neg_dataset = Dataset(\n",
    "    feature_schema=feature_schema,\n",
    "    interactions=pos_neg_train,\n",
    "    query_features=None,\n",
    "    item_features=None,\n",
    "    check_consistency=True,\n",
    "    categorical_encoded=False,\n",
    ")\n",
    "\n",
    "opt_train_dataset = Dataset(\n",
    "    feature_schema=feature_schema,\n",
    "    interactions=opt_train,\n",
    "    query_features=None,\n",
    "    item_features=None,\n",
    "    check_consistency=True,\n",
    "    categorical_encoded=False,\n",
    ")\n",
    "\n",
    "opt_val_dataset = Dataset(\n",
    "    feature_schema=feature_schema,\n",
    "    interactions=opt_val,\n",
    "    query_features=None,\n",
    "    item_features=None,\n",
    "    check_consistency=True,\n",
    "    categorical_encoded=False,\n",
    ")\n",
    "\n",
    "test_dataset = Dataset(\n",
    "    feature_schema=feature_schema,\n",
    "    interactions=test,\n",
    "    query_features=None,\n",
    "    item_features=None,\n",
    "    check_consistency=True,\n",
    "    categorical_encoded=False,\n",
    ")"
   ]
  },
  {
   "cell_type": "code",
   "execution_count": 22,
   "metadata": {},
   "outputs": [],
   "source": [
    "encoder = DatasetLabelEncoder()\n",
    "encoder.fit(all_dataset)\n",
    "train_dataset = encoder.transform(train_dataset)\n",
    "train_neg_dataset = encoder.transform(train_neg_dataset)\n",
    "opt_train_dataset = encoder.transform(opt_train_dataset)\n",
    "opt_val_dataset = encoder.transform(opt_val_dataset)\n",
    "test_dataset = encoder.transform(test_dataset)"
   ]
  },
  {
   "cell_type": "code",
   "execution_count": null,
   "metadata": {},
   "outputs": [],
   "source": []
  },
  {
   "cell_type": "markdown",
   "metadata": {},
   "source": [
    "# 1. Metrics definition"
   ]
  },
  {
   "cell_type": "code",
   "execution_count": 23,
   "metadata": {},
   "outputs": [],
   "source": [
    "# experiment is used for metrics calculation\n",
    "col_names = {\n",
    "    \"item_column\": train_dataset.feature_schema.item_id_column,\n",
    "    \"query_column\": train_dataset.feature_schema.query_id_column,\n",
    "    \"rating_column\": train_dataset.feature_schema.interactions_rating_column,\n",
    "}\n",
    "e = Experiment(\n",
    "    test_dataset,\n",
    "    {\n",
    "        MAP(**col_names): K,\n",
    "        NDCG(**col_names): K,\n",
    "        HitRate(**col_names): K_list_metrics,\n",
    "        Coverage(train_dataset.interactions, **col_names): K,\n",
    "        Surprisal(train_dataset.interactions, **col_names): K,\n",
    "        MRR(**col_names): K,\n",
    "    }\n",
    ")"
   ]
  },
  {
   "cell_type": "markdown",
   "metadata": {},
   "source": [
    "# 2. Models training"
   ]
  },
  {
   "cell_type": "code",
   "execution_count": 24,
   "metadata": {},
   "outputs": [],
   "source": [
    "def fit_predict_add_res(name, model, experiment, train_dataset, suffix=''):\n",
    "    \"\"\"\n",
    "    Run fit_predict for the `model`, measure time on fit_predict and evaluate metrics\n",
    "    \"\"\"\n",
    "    start_time=time.time()\n",
    "    \n",
    "    logs = {'dataset': train_dataset}\n",
    "    predict_params = {'k': K, 'queries': test_dataset.interactions.select('user_id').distinct()}\n",
    "    \n",
    "    if isinstance(model, (Wilson, UCB)):\n",
    "        logs['dataset'] = train_neg_dataset\n",
    "\n",
    "    # if isinstance(model, HybridRecommender):\n",
    "    #     logs['item_features'] = item_features\n",
    "    #     logs['user_features'] = user_features\n",
    "    \n",
    "    predict_params.update(logs)\n",
    "\n",
    "    model.fit(**logs)\n",
    "    fit_time = time.time() - start_time\n",
    "\n",
    "    pred=model.predict(**predict_params)\n",
    "    pred.cache()\n",
    "    pred.count()\n",
    "    predict_time = time.time() - start_time - fit_time\n",
    "\n",
    "    experiment.add_result(name + suffix, pred)\n",
    "    metric_time = time.time() - start_time - fit_time - predict_time\n",
    "    experiment.results.loc[name + suffix, 'fit_time'] = fit_time\n",
    "    experiment.results.loc[name + suffix, 'predict_time'] = predict_time\n",
    "    experiment.results.loc[name + suffix, 'metric_time'] = metric_time\n",
    "    experiment.results.loc[name + suffix, 'full_time'] = (fit_time + \n",
    "                                                          predict_time +\n",
    "                                                          metric_time)\n",
    "    pred.unpersist()\n",
    "    print(experiment.results[['NDCG@{}'.format(K), 'MRR@{}'.format(K), 'Coverage@{}'.format(K), 'fit_time']].sort_values('NDCG@{}'.format(K), ascending=False))"
   ]
  },
  {
   "cell_type": "code",
   "execution_count": 25,
   "metadata": {},
   "outputs": [],
   "source": [
    "def full_pipeline(models, experiment, train_dataset, suffix='', budget=BUDGET):\n",
    "    \"\"\"\n",
    "    For each model:\n",
    "        -  if required: run hyperparameters search, set best params and save param values to `experiment`\n",
    "        - pass model to `fit_predict_add_res`        \n",
    "    \"\"\"\n",
    "    \n",
    "    for name, [model, params] in models.items():\n",
    "        model.logger.info(msg='{} started'.format(name))\n",
    "        if params != 'no_opt':\n",
    "            model.logger.info(msg='{} optimization started'.format(name))\n",
    "            best_params = model.optimize(opt_train_dataset, \n",
    "                                         opt_val_dataset, \n",
    "                                         param_borders=params, \n",
    "                                         k=K, \n",
    "                                         budget=budget)\n",
    "            logger.info(msg='best params for {} are: {}'.format(name, best_params))\n",
    "            model.set_params(**best_params)\n",
    "        \n",
    "        logger.info(msg='{} fit_predict started'.format(name))\n",
    "        fit_predict_add_res(name, model, experiment, train_dataset, suffix)\n",
    "        # here we call protected attribute to get all parameters set during model initialization\n",
    "        experiment.results.loc[name + suffix, 'params'] = str(model._init_args)"
   ]
  },
  {
   "cell_type": "markdown",
   "metadata": {},
   "source": [
    "## 2.1. Non-personalized models"
   ]
  },
  {
   "cell_type": "code",
   "execution_count": 26,
   "metadata": {},
   "outputs": [],
   "source": [
    "non_personalized_models = {'Popular': [PopRec(), 'no_opt'], \n",
    "          # 'Random (uniform)': [RandomRec(seed=SEED, distribution='uniform'), 'no_opt'], \n",
    "          # 'Random (popularity-based)': [RandomRec(seed=SEED, distribution='popular_based'), {\"alpha\": [-0.5, 100]}],\n",
    "          'UCB': [UCB(exploration_coef=0.5), 'no_opt'],\n",
    "          'Wilson': [Wilson(), 'no_opt']}"
   ]
  },
  {
   "cell_type": "code",
<<<<<<< HEAD
<<<<<<< HEAD
   "execution_count": 27,
=======
   "execution_count": 30,
>>>>>>> rebased after 2 MRs
=======
   "execution_count": 27,
>>>>>>> updated models tests
   "metadata": {},
   "outputs": [
    {
     "name": "stderr",
     "output_type": "stream",
     "text": [
<<<<<<< HEAD
<<<<<<< HEAD
=======
>>>>>>> updated models tests
      "31-Oct-23 09:59:49, replay, INFO: Popular started\n",
      "31-Oct-23 09:59:49, replay, INFO: Popular fit_predict started\n",
      "31-Oct-23 10:00:07, replay, INFO: UCB started                                   \n",
      "31-Oct-23 10:00:07, replay, INFO: UCB fit_predict started\n"
<<<<<<< HEAD
=======
      "26-Oct-23 19:47:01, replay, INFO: Popular started\n",
      "26-Oct-23 19:47:01, replay, INFO: Popular fit_predict started\n",
      "26-Oct-23 19:47:18, replay, INFO: UCB started                                   \n",
      "26-Oct-23 19:47:18, replay, INFO: UCB fit_predict started\n"
>>>>>>> rebased after 2 MRs
=======
>>>>>>> updated models tests
     ]
    },
    {
     "name": "stdout",
     "output_type": "stream",
     "text": [
      "          NDCG@10    MRR@10  Coverage@10  fit_time\n",
<<<<<<< HEAD
<<<<<<< HEAD
      "Popular  0.243711  0.390426     0.033903  3.125727\n"
=======
      "Popular  0.243711  0.390426     0.033903    2.8873\n"
>>>>>>> rebased after 2 MRs
=======
      "Popular  0.243711  0.390426     0.033903  3.125727\n"
>>>>>>> updated models tests
     ]
    },
    {
     "name": "stderr",
     "output_type": "stream",
     "text": [
<<<<<<< HEAD
<<<<<<< HEAD
      "31-Oct-23 10:00:22, replay, INFO: Wilson started\n",
      "31-Oct-23 10:00:22, replay, INFO: Wilson fit_predict started\n"
=======
      "26-Oct-23 19:47:33, replay, INFO: Wilson started\n",
      "26-Oct-23 19:47:33, replay, INFO: Wilson fit_predict started\n"
>>>>>>> rebased after 2 MRs
=======
      "31-Oct-23 10:00:22, replay, INFO: Wilson started\n",
      "31-Oct-23 10:00:22, replay, INFO: Wilson fit_predict started\n"
>>>>>>> updated models tests
     ]
    },
    {
     "name": "stdout",
     "output_type": "stream",
     "text": [
      "          NDCG@10    MRR@10  Coverage@10  fit_time\n",
<<<<<<< HEAD
<<<<<<< HEAD
      "Popular  0.243711  0.390426     0.033903  3.125727\n",
      "UCB      0.000458  0.001024     0.003082  4.285559\n",
      "          NDCG@10    MRR@10  Coverage@10  fit_time\n",
      "Popular  0.243711  0.390426     0.033903  3.125727\n",
      "Wilson   0.092121  0.180976     0.017092  3.789675\n",
      "UCB      0.000458  0.001024     0.003082  4.285559\n",
      "CPU times: user 587 ms, sys: 181 ms, total: 768 ms\n",
      "Wall time: 46.9 s\n"
=======
      "Popular  0.243711  0.390426     0.033903  2.887300\n",
      "UCB      0.000458  0.001024     0.003082  4.295229\n"
     ]
    },
    {
     "name": "stderr",
     "output_type": "stream",
     "text": [
      "                                                                                \r"
     ]
    },
    {
     "name": "stdout",
     "output_type": "stream",
     "text": [
      "          NDCG@10    MRR@10  Coverage@10  fit_time\n",
      "Popular  0.243711  0.390426     0.033903  2.887300\n",
      "Wilson   0.092121  0.180976     0.017092  3.653921\n",
      "UCB      0.000458  0.001024     0.003082  4.295229\n",
      "CPU times: user 574 ms, sys: 192 ms, total: 766 ms\n",
      "Wall time: 45.5 s\n"
>>>>>>> rebased after 2 MRs
=======
      "Popular  0.243711  0.390426     0.033903  3.125727\n",
      "UCB      0.000458  0.001024     0.003082  4.285559\n",
      "          NDCG@10    MRR@10  Coverage@10  fit_time\n",
      "Popular  0.243711  0.390426     0.033903  3.125727\n",
      "Wilson   0.092121  0.180976     0.017092  3.789675\n",
      "UCB      0.000458  0.001024     0.003082  4.285559\n",
      "CPU times: user 587 ms, sys: 181 ms, total: 768 ms\n",
      "Wall time: 46.9 s\n"
>>>>>>> updated models tests
     ]
    }
   ],
   "source": [
    "%%time\n",
    "full_pipeline(non_personalized_models, e, train_dataset)"
   ]
  },
  {
   "cell_type": "code",
<<<<<<< HEAD
<<<<<<< HEAD
   "execution_count": 28,
=======
   "execution_count": 31,
>>>>>>> rebased after 2 MRs
=======
   "execution_count": 28,
>>>>>>> updated models tests
   "metadata": {},
   "outputs": [
    {
     "data": {
      "text/html": [
       "<div>\n",
       "<style scoped>\n",
       "    .dataframe tbody tr th:only-of-type {\n",
       "        vertical-align: middle;\n",
       "    }\n",
       "\n",
       "    .dataframe tbody tr th {\n",
       "        vertical-align: top;\n",
       "    }\n",
       "\n",
       "    .dataframe thead th {\n",
       "        text-align: right;\n",
       "    }\n",
       "</style>\n",
       "<table border=\"1\" class=\"dataframe\">\n",
       "  <thead>\n",
       "    <tr style=\"text-align: right;\">\n",
       "      <th></th>\n",
       "      <th>Coverage@10</th>\n",
       "      <th>HitRate@1</th>\n",
       "      <th>HitRate@5</th>\n",
       "      <th>HitRate@10</th>\n",
       "      <th>MAP@10</th>\n",
       "      <th>MRR@10</th>\n",
       "      <th>NDCG@10</th>\n",
       "      <th>Surprisal@10</th>\n",
       "      <th>fit_time</th>\n",
       "      <th>predict_time</th>\n",
       "      <th>metric_time</th>\n",
       "      <th>full_time</th>\n",
       "      <th>params</th>\n",
       "    </tr>\n",
       "  </thead>\n",
       "  <tbody>\n",
       "    <tr>\n",
       "      <th>Popular</th>\n",
       "      <td>0.033903</td>\n",
       "      <td>0.284460</td>\n",
       "      <td>0.530290</td>\n",
       "      <td>0.645303</td>\n",
       "      <td>0.154974</td>\n",
       "      <td>0.390426</td>\n",
       "      <td>0.243711</td>\n",
       "      <td>0.118354</td>\n",
<<<<<<< HEAD
<<<<<<< HEAD
=======
>>>>>>> updated models tests
       "      <td>3.125727</td>\n",
       "      <td>6.634715</td>\n",
       "      <td>7.981206</td>\n",
       "      <td>17.741647</td>\n",
       "      <td>{'use_rating': False, 'add_cold_items': True, ...</td>\n",
<<<<<<< HEAD
=======
       "      <td>2.887300</td>\n",
       "      <td>5.392627</td>\n",
       "      <td>8.191549</td>\n",
       "      <td>16.471476</td>\n",
       "      <td>{'use_relevance': False, 'add_cold_items': Tru...</td>\n",
>>>>>>> rebased after 2 MRs
=======
>>>>>>> updated models tests
       "    </tr>\n",
       "    <tr>\n",
       "      <th>Wilson</th>\n",
       "      <td>0.017092</td>\n",
       "      <td>0.083406</td>\n",
       "      <td>0.345040</td>\n",
       "      <td>0.414399</td>\n",
       "      <td>0.044559</td>\n",
       "      <td>0.180976</td>\n",
       "      <td>0.092121</td>\n",
       "      <td>0.262190</td>\n",
<<<<<<< HEAD
<<<<<<< HEAD
=======
>>>>>>> updated models tests
       "      <td>3.789675</td>\n",
       "      <td>5.041974</td>\n",
       "      <td>5.392863</td>\n",
       "      <td>14.224512</td>\n",
<<<<<<< HEAD
=======
       "      <td>3.653921</td>\n",
       "      <td>5.094103</td>\n",
       "      <td>5.171832</td>\n",
       "      <td>13.919856</td>\n",
>>>>>>> rebased after 2 MRs
=======
>>>>>>> updated models tests
       "      <td>{'alpha': 0.05, 'add_cold_items': True, 'cold_...</td>\n",
       "    </tr>\n",
       "    <tr>\n",
       "      <th>UCB</th>\n",
       "      <td>0.003082</td>\n",
       "      <td>0.000000</td>\n",
       "      <td>0.000878</td>\n",
       "      <td>0.004390</td>\n",
       "      <td>0.000124</td>\n",
       "      <td>0.001024</td>\n",
       "      <td>0.000458</td>\n",
       "      <td>1.000000</td>\n",
<<<<<<< HEAD
<<<<<<< HEAD
=======
>>>>>>> updated models tests
       "      <td>4.285559</td>\n",
       "      <td>5.237725</td>\n",
       "      <td>5.366693</td>\n",
       "      <td>14.889977</td>\n",
<<<<<<< HEAD
=======
       "      <td>4.295229</td>\n",
       "      <td>5.533651</td>\n",
       "      <td>5.264329</td>\n",
       "      <td>15.093210</td>\n",
>>>>>>> rebased after 2 MRs
=======
>>>>>>> updated models tests
       "      <td>{'exploration_coef': 0.5, 'sample': False, 'se...</td>\n",
       "    </tr>\n",
       "  </tbody>\n",
       "</table>\n",
       "</div>"
      ],
      "text/plain": [
       "         Coverage@10  HitRate@1  HitRate@5  HitRate@10    MAP@10    MRR@10  \\\n",
       "Popular     0.033903   0.284460   0.530290    0.645303  0.154974  0.390426   \n",
       "Wilson      0.017092   0.083406   0.345040    0.414399  0.044559  0.180976   \n",
       "UCB         0.003082   0.000000   0.000878    0.004390  0.000124  0.001024   \n",
       "\n",
       "          NDCG@10  Surprisal@10  fit_time  predict_time  metric_time  \\\n",
<<<<<<< HEAD
<<<<<<< HEAD
       "Popular  0.243711      0.118354  3.125727      6.634715     7.981206   \n",
       "Wilson   0.092121      0.262190  3.789675      5.041974     5.392863   \n",
       "UCB      0.000458      1.000000  4.285559      5.237725     5.366693   \n",
       "\n",
       "         full_time                                             params  \n",
       "Popular  17.741647  {'use_rating': False, 'add_cold_items': True, ...  \n",
       "Wilson   14.224512  {'alpha': 0.05, 'add_cold_items': True, 'cold_...  \n",
       "UCB      14.889977  {'exploration_coef': 0.5, 'sample': False, 'se...  "
      ]
     },
     "execution_count": 28,
=======
       "Popular  0.243711      0.118354  2.887300      5.392627     8.191549   \n",
       "Wilson   0.092121      0.262190  3.653921      5.094103     5.171832   \n",
       "UCB      0.000458      1.000000  4.295229      5.533651     5.264329   \n",
=======
       "Popular  0.243711      0.118354  3.125727      6.634715     7.981206   \n",
       "Wilson   0.092121      0.262190  3.789675      5.041974     5.392863   \n",
       "UCB      0.000458      1.000000  4.285559      5.237725     5.366693   \n",
>>>>>>> updated models tests
       "\n",
       "         full_time                                             params  \n",
       "Popular  17.741647  {'use_rating': False, 'add_cold_items': True, ...  \n",
       "Wilson   14.224512  {'alpha': 0.05, 'add_cold_items': True, 'cold_...  \n",
       "UCB      14.889977  {'exploration_coef': 0.5, 'sample': False, 'se...  "
      ]
     },
<<<<<<< HEAD
     "execution_count": 31,
>>>>>>> rebased after 2 MRs
=======
     "execution_count": 28,
>>>>>>> updated models tests
     "metadata": {},
     "output_type": "execute_result"
    }
   ],
   "source": [
    "e.results.sort_values('NDCG@10', ascending=False)"
   ]
  },
  {
   "cell_type": "markdown",
   "metadata": {},
   "source": [
    "UCB is developed for iterative learning and improve its quality over time as the exploration reduces."
   ]
  },
  {
   "cell_type": "code",
   "execution_count": null,
   "metadata": {},
   "outputs": [],
   "source": [
    "\n",
    "e.results.to_csv('res_21_rel_1.csv')"
   ]
  },
  {
   "cell_type": "markdown",
   "metadata": {},
   "source": [
    "## 2.2  Personalized models without features"
   ]
  },
  {
   "cell_type": "code",
<<<<<<< HEAD
<<<<<<< HEAD
   "execution_count": 29,
=======
   "execution_count": 33,
>>>>>>> rebased after 2 MRs
=======
   "execution_count": 29,
>>>>>>> updated models tests
   "metadata": {},
   "outputs": [],
   "source": [
    "common_models = {\n",
<<<<<<< HEAD
<<<<<<< HEAD
=======
>>>>>>> updated models tests
    "        #   'ADMM SLIM': [ADMMSLIM(seed=SEED), {\"lambda_1\": [1e-6, 10],\n",
    "        #                                       \"lambda_2\": [1e-6, 1000]},],\n",
    "          'Implicit ALS': [ALSWrap(seed=SEED), None], \n",
    "          'Explicit ALS': [ALSWrap(seed=SEED, implicit_prefs=False), None], \n",
    "          'ItemKNN': [ItemKNN(), None], \n",
    "        #   'LightFM': [LightFMWrap(random_state=SEED), {\"no_components\": [8, 512]}], \n",
    "          'SLIM': [SLIM(seed=SEED), None],\n",
    "          'Word2Vec': [Word2VecRec(seed=SEED), None]\n",
    "}\n",
    "# common_models = {\n",
    "#           'Implicit ALS': [ALSWrap(seed=SEED), 'no_opt'], \n",
    "#           'Explicit ALS': [ALSWrap(seed=SEED, implicit_prefs=False), 'no_opt'], \n",
    "#           'ItemKNN': [ItemKNN(), 'no_opt'], \n",
    "#           'SLIM': [SLIM(seed=SEED), 'no_opt'],\n",
    "#           'Word2Vec': [Word2VecRec(seed=SEED), 'no_opt']\n",
    "# }"
<<<<<<< HEAD
=======
    "          'Implicit ALS': [ALSWrap(seed=SEED), 'no_opt'], \n",
    "          'Explicit ALS': [ALSWrap(seed=SEED, implicit_prefs=False), 'no_opt'], \n",
    "          'ItemKNN': [ItemKNN(), 'no_opt'], \n",
    "          'SLIM': [SLIM(seed=SEED), 'no_opt'],\n",
    "          'Word2Vec': [Word2VecRec(seed=SEED), 'no_opt']\n",
    "}"
>>>>>>> rebased after 2 MRs
=======
>>>>>>> updated models tests
   ]
  },
  {
   "cell_type": "code",
<<<<<<< HEAD
<<<<<<< HEAD
   "execution_count": 30,
=======
   "execution_count": 36,
>>>>>>> rebased after 2 MRs
=======
   "execution_count": 30,
>>>>>>> updated models tests
   "metadata": {},
   "outputs": [
    {
     "name": "stderr",
     "output_type": "stream",
     "text": [
<<<<<<< HEAD
<<<<<<< HEAD
=======
>>>>>>> updated models tests
      "31-Oct-23 10:00:37, replay, INFO: Implicit ALS started\n",
      "31-Oct-23 10:00:37, replay, INFO: Implicit ALS optimization started\n",
      "[I 2023-10-31 10:00:37,158] A new study created in memory with name: no-name-bd084bc1-8eb0-4e94-9148-f38bce58e8b4\n",
      "/root/anaconda3/envs/replay/lib/python3.9/site-packages/pyspark/sql/context.py:125: FutureWarning: Deprecated in 3.0.0. Use SparkSession.builder.getOrCreate() instead.\n",
      "  warnings.warn(\n",
      "[I 2023-10-31 10:00:53,218] Trial 0 finished with value: 0.2109372749439716 and parameters: {'rank': 10}. Best is trial 0 with value: 0.2109372749439716.\n",
      "[I 2023-10-31 10:01:25,918] Trial 1 finished with value: 0.17256965147045736 and parameters: {'rank': 106}. Best is trial 0 with value: 0.2109372749439716.\n",
      "[I 2023-10-31 10:01:41,274] Trial 2 finished with value: 0.18864571861762533 and parameters: {'rank': 33}. Best is trial 0 with value: 0.2109372749439716.\n",
      "[I 2023-10-31 10:01:53,761] Trial 3 finished with value: 0.2109372749439716 and parameters: {'rank': 10}. Best is trial 0 with value: 0.2109372749439716.\n",
      "[I 2023-10-31 10:02:12,013] Trial 4 finished with value: 0.17329374568782968 and parameters: {'rank': 53}. Best is trial 0 with value: 0.2109372749439716.\n",
      "[I 2023-10-31 10:02:29,445] Trial 5 finished with value: 0.18096594043761882 and parameters: {'rank': 54}. Best is trial 0 with value: 0.2109372749439716.\n",
      "[I 2023-10-31 10:02:42,629] Trial 6 finished with value: 0.20512589151748867 and parameters: {'rank': 23}. Best is trial 0 with value: 0.2109372749439716.\n",
      "[I 2023-10-31 10:02:55,905] Trial 7 finished with value: 0.19768098186982724 and parameters: {'rank': 26}. Best is trial 0 with value: 0.2109372749439716.\n",
      "[I 2023-10-31 10:03:34,024] Trial 8 finished with value: 0.17421887305852082 and parameters: {'rank': 122}. Best is trial 0 with value: 0.2109372749439716.\n",
      "[I 2023-10-31 10:03:46,180] Trial 9 finished with value: 0.20249903250417117 and parameters: {'rank': 16}. Best is trial 0 with value: 0.2109372749439716.\n",
      "[I 2023-10-31 10:03:58,378] Trial 10 finished with value: 0.215580218574829 and parameters: {'rank': 8}. Best is trial 10 with value: 0.215580218574829.\n",
      "[I 2023-10-31 10:04:10,232] Trial 11 finished with value: 0.21262712512996218 and parameters: {'rank': 9}. Best is trial 10 with value: 0.215580218574829.\n",
      "[I 2023-10-31 10:04:22,936] Trial 12 finished with value: 0.215580218574829 and parameters: {'rank': 8}. Best is trial 10 with value: 0.215580218574829.\n",
      "[I 2023-10-31 10:04:34,425] Trial 13 finished with value: 0.215580218574829 and parameters: {'rank': 8}. Best is trial 10 with value: 0.215580218574829.\n",
      "[I 2023-10-31 10:04:46,621] Trial 14 finished with value: 0.20251628212010592 and parameters: {'rank': 14}. Best is trial 10 with value: 0.215580218574829.\n",
      "[I 2023-10-31 10:04:59,085] Trial 15 finished with value: 0.20644056681902093 and parameters: {'rank': 15}. Best is trial 10 with value: 0.215580218574829.\n",
      "[I 2023-10-31 10:07:16,433] Trial 16 finished with value: 0.1723918060781743 and parameters: {'rank': 235}. Best is trial 10 with value: 0.215580218574829.\n",
      "[I 2023-10-31 10:07:28,571] Trial 17 finished with value: 0.215580218574829 and parameters: {'rank': 8}. Best is trial 10 with value: 0.215580218574829.\n",
      "[I 2023-10-31 10:07:40,488] Trial 18 finished with value: 0.20251628212010592 and parameters: {'rank': 14}. Best is trial 10 with value: 0.215580218574829.\n",
      "[I 2023-10-31 10:07:53,281] Trial 19 finished with value: 0.20266811662566286 and parameters: {'rank': 21}. Best is trial 10 with value: 0.215580218574829.\n",
      "31-Oct-23 10:07:53, replay, INFO: best params for Implicit ALS are: {'rank': 8}\n",
      "31-Oct-23 10:07:53, replay, INFO: Implicit ALS fit_predict started\n",
      "31-Oct-23 10:08:12, replay, INFO: Explicit ALS started                          \n",
      "31-Oct-23 10:08:12, replay, INFO: Explicit ALS optimization started\n",
      "[I 2023-10-31 10:08:12,687] A new study created in memory with name: no-name-c12e2153-4ada-4c3b-a9d0-1c67585278e0\n"
<<<<<<< HEAD
=======
      "26-Oct-23 20:04:37, replay, INFO: Implicit ALS started\n",
      "26-Oct-23 20:04:37, replay, INFO: Implicit ALS fit_predict started\n",
      "26-Oct-23 20:04:56, replay, INFO: Explicit ALS started                          \n",
      "26-Oct-23 20:04:56, replay, INFO: Explicit ALS fit_predict started\n"
>>>>>>> rebased after 2 MRs
=======
>>>>>>> updated models tests
     ]
    },
    {
     "name": "stdout",
     "output_type": "stream",
     "text": [
      "               NDCG@10    MRR@10  Coverage@10  fit_time\n",
<<<<<<< HEAD
<<<<<<< HEAD
=======
>>>>>>> updated models tests
      "Implicit ALS  0.260749  0.416704     0.130008  3.921476\n",
      "Popular       0.243711  0.390426     0.033903  3.125727\n",
      "Wilson        0.092121  0.180976     0.017092  3.789675\n",
      "UCB           0.000458  0.001024     0.003082  4.285559\n"
<<<<<<< HEAD
=======
      "Implicit ALS  0.255467  0.414602     0.146820  3.556367\n",
      "Popular       0.243711  0.390426     0.033903  2.887300\n",
      "Wilson        0.092121  0.180976     0.017092  3.653921\n",
      "UCB           0.000458  0.001024     0.003082  4.295229\n"
>>>>>>> rebased after 2 MRs
=======
>>>>>>> updated models tests
     ]
    },
    {
     "name": "stderr",
     "output_type": "stream",
     "text": [
      "/root/anaconda3/envs/replay/lib/python3.9/site-packages/pyspark/sql/context.py:125: FutureWarning: Deprecated in 3.0.0. Use SparkSession.builder.getOrCreate() instead.\n",
      "  warnings.warn(\n",
<<<<<<< HEAD
<<<<<<< HEAD
=======
>>>>>>> updated models tests
      "[I 2023-10-31 10:08:24,772] Trial 0 finished with value: 0.029567634014347886 and parameters: {'rank': 10}. Best is trial 0 with value: 0.029567634014347886.\n",
      "[I 2023-10-31 10:08:37,640] Trial 1 finished with value: 0.027126656574113665 and parameters: {'rank': 27}. Best is trial 0 with value: 0.029567634014347886.\n",
      "[I 2023-10-31 10:11:05,539] Trial 2 finished with value: 0.01878260965372941 and parameters: {'rank': 239}. Best is trial 0 with value: 0.029567634014347886.\n",
      "[I 2023-10-31 10:11:19,378] Trial 3 finished with value: 0.028810190909902954 and parameters: {'rank': 29}. Best is trial 0 with value: 0.029567634014347886.\n",
      "[I 2023-10-31 10:11:31,203] Trial 4 finished with value: 0.025930171055875525 and parameters: {'rank': 12}. Best is trial 0 with value: 0.029567634014347886.\n",
      "[I 2023-10-31 10:13:05,698] Trial 5 finished with value: 0.010130486733760963 and parameters: {'rank': 194}. Best is trial 0 with value: 0.029567634014347886.\n",
      "[I 2023-10-31 10:14:03,920] Trial 6 finished with value: 0.016905182902957255 and parameters: {'rank': 152}. Best is trial 0 with value: 0.029567634014347886.\n",
      "[I 2023-10-31 10:14:42,205] Trial 7 finished with value: 0.020492513191384867 and parameters: {'rank': 117}. Best is trial 0 with value: 0.029567634014347886.\n",
      "[I 2023-10-31 10:14:53,503] Trial 8 finished with value: 0.020989591486231814 and parameters: {'rank': 15}. Best is trial 0 with value: 0.029567634014347886.\n",
      "[I 2023-10-31 10:15:07,498] Trial 9 finished with value: 0.01911328780370766 and parameters: {'rank': 42}. Best is trial 0 with value: 0.029567634014347886.\n",
      "[I 2023-10-31 10:15:19,623] Trial 10 finished with value: 0.014974771629712507 and parameters: {'rank': 9}. Best is trial 0 with value: 0.029567634014347886.\n",
      "[I 2023-10-31 10:15:31,013] Trial 11 finished with value: 0.021786446814212976 and parameters: {'rank': 21}. Best is trial 0 with value: 0.029567634014347886.\n",
      "[I 2023-10-31 10:15:43,267] Trial 12 finished with value: 0.029567634014347886 and parameters: {'rank': 10}. Best is trial 0 with value: 0.029567634014347886.\n",
      "[I 2023-10-31 10:15:55,695] Trial 13 finished with value: 0.019542250185658715 and parameters: {'rank': 8}. Best is trial 0 with value: 0.029567634014347886.\n",
      "[I 2023-10-31 10:16:08,061] Trial 14 finished with value: 0.020989591486231814 and parameters: {'rank': 15}. Best is trial 0 with value: 0.029567634014347886.\n",
      "[I 2023-10-31 10:16:19,021] Trial 15 finished with value: 0.019542250185658715 and parameters: {'rank': 8}. Best is trial 0 with value: 0.029567634014347886.\n",
      "[I 2023-10-31 10:16:31,489] Trial 16 finished with value: 0.02841126867041183 and parameters: {'rank': 13}. Best is trial 0 with value: 0.029567634014347886.\n",
      "[I 2023-10-31 10:16:48,311] Trial 17 finished with value: 0.016370514833806936 and parameters: {'rank': 58}. Best is trial 0 with value: 0.029567634014347886.\n",
      "[I 2023-10-31 10:17:00,308] Trial 18 finished with value: 0.01743554962989869 and parameters: {'rank': 20}. Best is trial 0 with value: 0.029567634014347886.\n",
      "[I 2023-10-31 10:17:12,513] Trial 19 finished with value: 0.019749498554945955 and parameters: {'rank': 11}. Best is trial 0 with value: 0.029567634014347886.\n",
      "31-Oct-23 10:17:12, replay, INFO: best params for Explicit ALS are: {'rank': 10}\n",
      "31-Oct-23 10:17:12, replay, INFO: Explicit ALS fit_predict started\n",
      "31-Oct-23 10:17:29, replay, INFO: ItemKNN started                               \n",
      "31-Oct-23 10:17:29, replay, INFO: ItemKNN optimization started\n",
      "[I 2023-10-31 10:17:29,876] A new study created in memory with name: no-name-a6af1932-7b38-4955-b056-b787ee64aa8e\n"
<<<<<<< HEAD
=======
      "26-Oct-23 20:05:13, replay, INFO: ItemKNN started                               \n",
      "26-Oct-23 20:05:13, replay, INFO: ItemKNN fit_predict started\n"
>>>>>>> rebased after 2 MRs
=======
>>>>>>> updated models tests
     ]
    },
    {
     "name": "stdout",
     "output_type": "stream",
     "text": [
      "               NDCG@10    MRR@10  Coverage@10  fit_time\n",
<<<<<<< HEAD
<<<<<<< HEAD
=======
>>>>>>> updated models tests
      "Implicit ALS  0.260749  0.416704     0.130008  3.921476\n",
      "Popular       0.243711  0.390426     0.033903  3.125727\n",
      "Wilson        0.092121  0.180976     0.017092  3.789675\n",
      "Explicit ALS  0.001793  0.003875     0.085738  3.410521\n",
      "UCB           0.000458  0.001024     0.003082  4.285559\n"
<<<<<<< HEAD
=======
      "Implicit ALS  0.255467  0.414602     0.146820  3.556367\n",
      "Popular       0.243711  0.390426     0.033903  2.887300\n",
      "Wilson        0.092121  0.180976     0.017092  3.653921\n",
      "Explicit ALS  0.010291  0.021660     0.414122  3.835630\n",
      "UCB           0.000458  0.001024     0.003082  4.295229\n"
>>>>>>> rebased after 2 MRs
=======
>>>>>>> updated models tests
     ]
    },
    {
     "name": "stderr",
     "output_type": "stream",
     "text": [
<<<<<<< HEAD
<<<<<<< HEAD
=======
>>>>>>> updated models tests
      "[I 2023-10-31 10:17:50,144] Trial 0 finished with value: 0.2081514555056189 and parameters: {'num_neighbours': 10, 'shrink': 0, 'weighting': None}. Best is trial 0 with value: 0.2081514555056189.\n",
      "[I 2023-10-31 10:17:56,734] Trial 1 finished with value: 0.23419064772783665 and parameters: {'num_neighbours': 99, 'shrink': 84, 'weighting': 'tf_idf'}. Best is trial 1 with value: 0.23419064772783665.\n",
      "[I 2023-10-31 10:18:02,673] Trial 2 finished with value: 0.218785826820325 and parameters: {'num_neighbours': 17, 'shrink': 55, 'weighting': None}. Best is trial 1 with value: 0.23419064772783665.\n",
      "[I 2023-10-31 10:18:08,826] Trial 3 finished with value: 0.22537439908370946 and parameters: {'num_neighbours': 36, 'shrink': 41, 'weighting': 'bm25'}. Best is trial 1 with value: 0.23419064772783665.\n",
      "[I 2023-10-31 10:18:15,769] Trial 4 finished with value: 0.23473421476369144 and parameters: {'num_neighbours': 76, 'shrink': 77, 'weighting': 'bm25'}. Best is trial 4 with value: 0.23473421476369144.\n",
      "[I 2023-10-31 10:18:22,044] Trial 5 finished with value: 0.22269913705325295 and parameters: {'num_neighbours': 47, 'shrink': 3, 'weighting': None}. Best is trial 4 with value: 0.23473421476369144.\n",
      "[I 2023-10-31 10:18:28,056] Trial 6 finished with value: 0.22609637841340194 and parameters: {'num_neighbours': 42, 'shrink': 59, 'weighting': None}. Best is trial 4 with value: 0.23473421476369144.\n",
      "[I 2023-10-31 10:18:34,298] Trial 7 finished with value: 0.22311489361402298 and parameters: {'num_neighbours': 30, 'shrink': 19, 'weighting': None}. Best is trial 4 with value: 0.23473421476369144.\n",
      "[I 2023-10-31 10:18:40,300] Trial 8 finished with value: 0.22783927315104802 and parameters: {'num_neighbours': 82, 'shrink': 26, 'weighting': None}. Best is trial 4 with value: 0.23473421476369144.\n",
      "[I 2023-10-31 10:18:46,876] Trial 9 finished with value: 0.22494555675883235 and parameters: {'num_neighbours': 73, 'shrink': 5, 'weighting': 'bm25'}. Best is trial 4 with value: 0.23473421476369144.\n",
      "[I 2023-10-31 10:18:53,919] Trial 10 finished with value: 0.23454567642589097 and parameters: {'num_neighbours': 69, 'shrink': 96, 'weighting': 'bm25'}. Best is trial 4 with value: 0.23473421476369144.\n",
      "[I 2023-10-31 10:18:59,895] Trial 11 finished with value: 0.23417331040444636 and parameters: {'num_neighbours': 66, 'shrink': 94, 'weighting': 'bm25'}. Best is trial 4 with value: 0.23473421476369144.\n",
      "[I 2023-10-31 10:19:06,660] Trial 12 finished with value: 0.23430074082771277 and parameters: {'num_neighbours': 61, 'shrink': 78, 'weighting': 'bm25'}. Best is trial 4 with value: 0.23473421476369144.\n",
      "[I 2023-10-31 10:19:13,392] Trial 13 finished with value: 0.235231935220874 and parameters: {'num_neighbours': 88, 'shrink': 99, 'weighting': 'bm25'}. Best is trial 13 with value: 0.235231935220874.\n",
      "[I 2023-10-31 10:19:20,989] Trial 14 finished with value: 0.232188341440223 and parameters: {'num_neighbours': 94, 'shrink': 72, 'weighting': 'tf_idf'}. Best is trial 13 with value: 0.235231935220874.\n",
      "[I 2023-10-31 10:19:27,108] Trial 15 finished with value: 0.2338542268765959 and parameters: {'num_neighbours': 85, 'shrink': 68, 'weighting': 'bm25'}. Best is trial 13 with value: 0.235231935220874.\n",
      "[I 2023-10-31 10:19:32,798] Trial 16 finished with value: 0.23426454792278767 and parameters: {'num_neighbours': 58, 'shrink': 84, 'weighting': 'bm25'}. Best is trial 13 with value: 0.235231935220874.\n",
      "[I 2023-10-31 10:19:39,089] Trial 17 finished with value: 0.2347560825624041 and parameters: {'num_neighbours': 82, 'shrink': 98, 'weighting': 'bm25'}. Best is trial 13 with value: 0.235231935220874.\n",
      "[I 2023-10-31 10:19:45,012] Trial 18 finished with value: 0.23489891830515766 and parameters: {'num_neighbours': 89, 'shrink': 100, 'weighting': 'tf_idf'}. Best is trial 13 with value: 0.235231935220874.\n",
      "[I 2023-10-31 10:19:51,976] Trial 19 finished with value: 0.2336432352071951 and parameters: {'num_neighbours': 90, 'shrink': 47, 'weighting': 'tf_idf'}. Best is trial 13 with value: 0.235231935220874.\n",
      "31-Oct-23 10:19:51, replay, INFO: best params for ItemKNN are: {'num_neighbours': 88, 'shrink': 99, 'weighting': 'bm25'}\n",
      "31-Oct-23 10:19:51, replay, INFO: ItemKNN fit_predict started\n",
      "31-Oct-23 10:20:30, replay, INFO: SLIM started                                  ]\n",
      "31-Oct-23 10:20:30, replay, INFO: SLIM optimization started\n",
      "[I 2023-10-31 10:20:30,992] A new study created in memory with name: no-name-637b4a21-c9a7-45b9-b856-e84acd728def\n"
<<<<<<< HEAD
=======
      "26-Oct-23 20:05:39, replay, INFO: SLIM started                                  \n",
      "26-Oct-23 20:05:39, replay, INFO: SLIM fit_predict started\n"
>>>>>>> rebased after 2 MRs
=======
>>>>>>> updated models tests
     ]
    },
    {
     "name": "stdout",
     "output_type": "stream",
     "text": [
      "               NDCG@10    MRR@10  Coverage@10   fit_time\n",
<<<<<<< HEAD
<<<<<<< HEAD
=======
>>>>>>> updated models tests
      "Implicit ALS  0.260749  0.416704     0.130008   3.921476\n",
      "ItemKNN       0.252859  0.407520     0.086018  26.251827\n",
      "Popular       0.243711  0.390426     0.033903   3.125727\n",
      "Wilson        0.092121  0.180976     0.017092   3.789675\n",
      "Explicit ALS  0.001793  0.003875     0.085738   3.410521\n",
      "UCB           0.000458  0.001024     0.003082   4.285559\n"
<<<<<<< HEAD
=======
      "Implicit ALS  0.255467  0.414602     0.146820   3.556367\n",
      "ItemKNN       0.246561  0.404074     0.102550  15.454453\n",
      "Popular       0.243711  0.390426     0.033903   2.887300\n",
      "Wilson        0.092121  0.180976     0.017092   3.653921\n",
      "Explicit ALS  0.010291  0.021660     0.414122   3.835630\n",
      "UCB           0.000458  0.001024     0.003082   4.295229\n"
>>>>>>> rebased after 2 MRs
=======
>>>>>>> updated models tests
     ]
    },
    {
     "name": "stderr",
     "output_type": "stream",
     "text": [
<<<<<<< HEAD
<<<<<<< HEAD
=======
>>>>>>> updated models tests
      "/root/work/replay_gitlab/RePlay/replay/optimization/optuna_objective.py:75: FutureWarning: suggest_loguniform has been deprecated in v3.0.0. This feature will be removed in v6.0.0. See https://github.com/optuna/optuna/releases/tag/v3.0.0. Use suggest_float(..., log=True) instead.\n",
      "  res[param] = suggest_fn(param, low=low, high=high)\n",
      "[I 2023-10-31 10:20:47,172] Trial 0 finished with value: 0.1868866840450452 and parameters: {'beta': 0.01, 'lambda_': 0.01}. Best is trial 0 with value: 0.1868866840450452.\n",
      "[I 2023-10-31 10:21:00,112] Trial 1 finished with value: 0.1897872680217428 and parameters: {'beta': 8.545455061610764e-05, 'lambda_': 0.030430143382729705}. Best is trial 1 with value: 0.1897872680217428.\n",
      "[I 2023-10-31 10:21:10,576] Trial 2 finished with value: 0.01975575656332299 and parameters: {'beta': 0.003378167884202413, 'lambda_': 0.21202827572208052}. Best is trial 1 with value: 0.1897872680217428.\n",
      "[I 2023-10-31 10:21:21,069] Trial 3 finished with value: 0.0 and parameters: {'beta': 0.0011684368485857953, 'lambda_': 1.8114278681490528}. Best is trial 1 with value: 0.1897872680217428.\n",
      "[I 2023-10-31 10:21:41,901] Trial 4 finished with value: 0.20937070257486348 and parameters: {'beta': 0.5340614901368522, 'lambda_': 1.6198338931450637e-05}. Best is trial 4 with value: 0.20937070257486348.\n",
      "[I 2023-10-31 10:21:58,550] Trial 5 finished with value: 0.1893984460090888 and parameters: {'beta': 0.02481144998049052, 'lambda_': 5.0980046179742643e-05}. Best is trial 4 with value: 0.20937070257486348.\n",
      "[I 2023-10-31 10:22:24,000] Trial 6 finished with value: 0.17948826207010923 and parameters: {'beta': 8.900232413737831e-06, 'lambda_': 1.782730456463531e-05}. Best is trial 4 with value: 0.20937070257486348.\n",
      "[I 2023-10-31 10:22:41,471] Trial 7 finished with value: 0.20629544029883956 and parameters: {'beta': 0.31073836039048597, 'lambda_': 0.00019421005798075054}. Best is trial 4 with value: 0.20937070257486348.\n",
      "[I 2023-10-31 10:22:58,036] Trial 8 finished with value: 0.18352203486905433 and parameters: {'beta': 0.007976044507752657, 'lambda_': 1.0790575181614636e-05}. Best is trial 4 with value: 0.20937070257486348.\n",
      "[I 2023-10-31 10:23:15,336] Trial 9 finished with value: 0.17785497265761882 and parameters: {'beta': 0.0004084403657961805, 'lambda_': 0.00010684622167862175}. Best is trial 4 with value: 0.20937070257486348.\n",
      "[I 2023-10-31 10:23:39,126] Trial 10 finished with value: 0.2265513400694376 and parameters: {'beta': 2.064886138625043, 'lambda_': 1.2687524372325457e-06}. Best is trial 10 with value: 0.2265513400694376.\n",
      "[I 2023-10-31 10:24:03,333] Trial 11 finished with value: 0.2220038012568767 and parameters: {'beta': 1.5024329437172548, 'lambda_': 1.348540741857406e-06}. Best is trial 10 with value: 0.2265513400694376.\n",
      "[I 2023-10-31 10:24:30,335] Trial 12 finished with value: 0.23508338063167927 and parameters: {'beta': 4.8683742072990706, 'lambda_': 1.1336662483278013e-06}. Best is trial 12 with value: 0.23508338063167927.\n",
      "[I 2023-10-31 10:24:57,349] Trial 13 finished with value: 0.2319239699824798 and parameters: {'beta': 3.5727721313538203, 'lambda_': 1.3463871691891188e-06}. Best is trial 12 with value: 0.23508338063167927.\n",
      "[I 2023-10-31 10:25:19,617] Trial 14 finished with value: 0.23058063398155249 and parameters: {'beta': 3.039887912622773, 'lambda_': 0.0006078867958211092}. Best is trial 12 with value: 0.23508338063167927.\n",
      "[I 2023-10-31 10:25:38,479] Trial 15 finished with value: 0.1991559525302515 and parameters: {'beta': 0.0964795297114042, 'lambda_': 3.335591119453149e-06}. Best is trial 12 with value: 0.23508338063167927.\n",
      "[I 2023-10-31 10:25:58,363] Trial 16 finished with value: 0.19873012025731673 and parameters: {'beta': 0.10365317326449912, 'lambda_': 3.843538987753549e-06}. Best is trial 12 with value: 0.23508338063167927.\n",
      "[I 2023-10-31 10:26:23,997] Trial 17 finished with value: 0.2333792654771546 and parameters: {'beta': 3.952728177089475, 'lambda_': 1.0949344568098128e-06}. Best is trial 12 with value: 0.23508338063167927.\n",
      "[I 2023-10-31 10:26:44,649] Trial 18 finished with value: 0.2342429967299833 and parameters: {'beta': 4.408929288212325, 'lambda_': 0.0008629290128396512}. Best is trial 12 with value: 0.23508338063167927.\n",
      "[I 2023-10-31 10:27:02,796] Trial 19 finished with value: 0.20500614966131844 and parameters: {'beta': 0.4231213569941967, 'lambda_': 0.0026581909335893733}. Best is trial 12 with value: 0.23508338063167927.\n",
      "31-Oct-23 10:27:02, replay, INFO: best params for SLIM are: {'beta': 4.8683742072990706, 'lambda_': 1.1336662483278013e-06}\n",
      "31-Oct-23 10:27:02, replay, INFO: SLIM fit_predict started\n",
      "31-Oct-23 10:27:34, replay, INFO: Word2Vec started                              \n",
      "31-Oct-23 10:27:34, replay, INFO: Word2Vec optimization started\n",
      "[I 2023-10-31 10:27:34,833] A new study created in memory with name: no-name-d9579f4e-5d34-416a-90b8-3d7bb99f900d\n"
<<<<<<< HEAD
=======
      "26-Oct-23 20:06:01, replay, INFO: Word2Vec started                              \n",
      "26-Oct-23 20:06:01, replay, INFO: Word2Vec fit_predict started\n"
>>>>>>> rebased after 2 MRs
=======
>>>>>>> updated models tests
     ]
    },
    {
     "name": "stdout",
     "output_type": "stream",
     "text": [
      "               NDCG@10    MRR@10  Coverage@10   fit_time\n",
<<<<<<< HEAD
<<<<<<< HEAD
=======
>>>>>>> updated models tests
      "SLIM          0.270895  0.432482     0.061922  18.846689\n",
      "Implicit ALS  0.260749  0.416704     0.130008   3.921476\n",
      "ItemKNN       0.252859  0.407520     0.086018  26.251827\n",
      "Popular       0.243711  0.390426     0.033903   3.125727\n",
      "Wilson        0.092121  0.180976     0.017092   3.789675\n",
      "Explicit ALS  0.001793  0.003875     0.085738   3.410521\n",
      "UCB           0.000458  0.001024     0.003082   4.285559\n"
<<<<<<< HEAD
=======
      "Implicit ALS  0.255467  0.414602     0.146820   3.556367\n",
      "ItemKNN       0.246561  0.404074     0.102550  15.454453\n",
      "Popular       0.243711  0.390426     0.033903   2.887300\n",
      "SLIM          0.239382  0.414097     0.149902  12.274171\n",
      "Wilson        0.092121  0.180976     0.017092   3.653921\n",
      "Explicit ALS  0.010291  0.021660     0.414122   3.835630\n",
      "UCB           0.000458  0.001024     0.003082   4.295229\n"
>>>>>>> rebased after 2 MRs
=======
>>>>>>> updated models tests
     ]
    },
    {
     "name": "stderr",
     "output_type": "stream",
     "text": [
      "/root/anaconda3/envs/replay/lib/python3.9/site-packages/pyspark/sql/context.py:125: FutureWarning: Deprecated in 3.0.0. Use SparkSession.builder.getOrCreate() instead.\n",
      "  warnings.warn(\n",
      "[I 2023-10-31 10:28:06,984] Trial 0 finished with value: 0.13164929802358 and parameters: {'rank': 100, 'window_size': 1, 'use_idf': False}. Best is trial 0 with value: 0.13164929802358.\n",
      "[I 2023-10-31 10:28:56,905] Trial 1 finished with value: 0.04033479628464796 and parameters: {'rank': 189, 'window_size': 28, 'use_idf': True}. Best is trial 0 with value: 0.13164929802358.\n",
      "[I 2023-10-31 10:29:52,567] Trial 2 finished with value: 0.040038582986213905 and parameters: {'rank': 178, 'window_size': 44, 'use_idf': False}. Best is trial 0 with value: 0.13164929802358.\n",
      "[I 2023-10-31 10:31:10,020] Trial 3 finished with value: 0.03605075326659274 and parameters: {'rank': 288, 'window_size': 53, 'use_idf': True}. Best is trial 0 with value: 0.13164929802358.\n",
      "[I 2023-10-31 10:32:10,188] Trial 4 finished with value: 0.03578589212617281 and parameters: {'rank': 238, 'window_size': 37, 'use_idf': True}. Best is trial 0 with value: 0.13164929802358.\n",
      "[I 2023-10-31 10:33:20,522] Trial 5 finished with value: 0.03525987143964158 and parameters: {'rank': 159, 'window_size': 86, 'use_idf': True}. Best is trial 0 with value: 0.13164929802358.\n",
      "[I 2023-10-31 10:34:21,892] Trial 6 finished with value: 0.03946818021778745 and parameters: {'rank': 114, 'window_size': 90, 'use_idf': False}. Best is trial 0 with value: 0.13164929802358.\n",
      "[I 2023-10-31 10:35:31,083] Trial 7 finished with value: 0.034947878856690213 and parameters: {'rank': 161, 'window_size': 82, 'use_idf': True}. Best is trial 0 with value: 0.13164929802358.\n",
      "[I 2023-10-31 10:36:17,774] Trial 8 finished with value: 0.03098650619071142 and parameters: {'rank': 54, 'window_size': 79, 'use_idf': True}. Best is trial 0 with value: 0.13164929802358.\n",
      "[I 2023-10-31 10:37:12,826] Trial 9 finished with value: 0.05108133727537971 and parameters: {'rank': 266, 'window_size': 22, 'use_idf': False}. Best is trial 0 with value: 0.13164929802358.\n",
      "[I 2023-10-31 10:37:43,090] Trial 10 finished with value: 0.12813390632542557 and parameters: {'rank': 58, 'window_size': 1, 'use_idf': False}. Best is trial 0 with value: 0.13164929802358.\n",
      "[I 2023-10-31 10:38:14,562] Trial 11 finished with value: 0.09651109620376112 and parameters: {'rank': 57, 'window_size': 4, 'use_idf': False}. Best is trial 0 with value: 0.13164929802358.\n",
      "[I 2023-10-31 10:38:45,277] Trial 12 finished with value: 0.1293643615879791 and parameters: {'rank': 99, 'window_size': 1, 'use_idf': False}. Best is trial 0 with value: 0.13164929802358.\n",
      "[I 2023-10-31 10:39:20,571] Trial 13 finished with value: 0.05222722334342304 and parameters: {'rank': 95, 'window_size': 13, 'use_idf': False}. Best is trial 0 with value: 0.13164929802358.\n",
      "[I 2023-10-31 10:40:15,565] Trial 14 finished with value: 0.04390103563457664 and parameters: {'rank': 106, 'window_size': 60, 'use_idf': False}. Best is trial 0 with value: 0.13164929802358.\n",
      "[I 2023-10-31 10:40:58,218] Trial 15 finished with value: 0.048422153082479234 and parameters: {'rank': 139, 'window_size': 19, 'use_idf': False}. Best is trial 0 with value: 0.13164929802358.\n",
      "[I 2023-10-31 10:41:40,192] Trial 16 finished with value: 0.0605542723790365 and parameters: {'rank': 212, 'window_size': 10, 'use_idf': False}. Best is trial 0 with value: 0.13164929802358.\n",
      "[I 2023-10-31 10:42:33,003] Trial 17 finished with value: 0.03991590224924148 and parameters: {'rank': 84, 'window_size': 68, 'use_idf': False}. Best is trial 0 with value: 0.13164929802358.\n",
      "[I 2023-10-31 10:43:19,295] Trial 18 finished with value: 0.043495243922909856 and parameters: {'rank': 130, 'window_size': 33, 'use_idf': False}. Best is trial 0 with value: 0.13164929802358.\n",
      "[I 2023-10-31 10:43:55,118] Trial 19 finished with value: 0.0500530795917317 and parameters: {'rank': 89, 'window_size': 17, 'use_idf': False}. Best is trial 0 with value: 0.13164929802358.\n",
      "31-Oct-23 10:43:55, replay, INFO: best params for Word2Vec are: {'rank': 100, 'window_size': 1, 'use_idf': False}\n",
      "31-Oct-23 10:43:55, replay, INFO: Word2Vec fit_predict started\n",
      "                                                                                \r"
     ]
    },
    {
     "name": "stdout",
     "output_type": "stream",
     "text": [
      "               NDCG@10    MRR@10  Coverage@10   fit_time\n",
<<<<<<< HEAD
<<<<<<< HEAD
=======
>>>>>>> updated models tests
      "SLIM          0.270895  0.432482     0.061922  18.846689\n",
      "Implicit ALS  0.260749  0.416704     0.130008   3.921476\n",
      "ItemKNN       0.252859  0.407520     0.086018  26.251827\n",
      "Popular       0.243711  0.390426     0.033903   3.125727\n",
      "Word2Vec      0.137447  0.248658     0.153825   4.948890\n",
      "Wilson        0.092121  0.180976     0.017092   3.789675\n",
      "Explicit ALS  0.001793  0.003875     0.085738   3.410521\n",
      "UCB           0.000458  0.001024     0.003082   4.285559\n",
      "CPU times: user 31.1 s, sys: 7.51 s, total: 38.6 s\n",
      "Wall time: 43min 52s\n"
<<<<<<< HEAD
=======
      "Implicit ALS  0.255467  0.414602     0.146820   3.556367\n",
      "ItemKNN       0.246561  0.404074     0.102550  15.454453\n",
      "Popular       0.243711  0.390426     0.033903   2.887300\n",
      "SLIM          0.239382  0.414097     0.149902  12.274171\n",
      "Word2Vec      0.137466  0.248847     0.154385   5.520688\n",
      "Wilson        0.092121  0.180976     0.017092   3.653921\n",
      "Explicit ALS  0.010291  0.021660     0.414122   3.835630\n",
      "UCB           0.000458  0.001024     0.003082   4.295229\n",
      "CPU times: user 1.74 s, sys: 368 ms, total: 2.1 s\n",
      "Wall time: 1min 58s\n"
>>>>>>> rebased after 2 MRs
=======
>>>>>>> updated models tests
     ]
    }
   ],
   "source": [
    "%%time\n",
    "full_pipeline(common_models, e, train_dataset)"
   ]
  },
  {
   "cell_type": "code",
<<<<<<< HEAD
<<<<<<< HEAD
   "execution_count": 31,
=======
   "execution_count": 37,
>>>>>>> rebased after 2 MRs
=======
   "execution_count": 31,
>>>>>>> updated models tests
   "metadata": {},
   "outputs": [],
   "source": [
    "new_metrics = (\n",
    "    e.results\n",
    "    .sort_values('NDCG@10', ascending=False)\n",
    "    [[\"Coverage@10\", \"HitRate@1\", \"HitRate@5\", \"HitRate@10\", \"MAP@10\", \"MRR@10\", \"NDCG@10\", \"Surprisal@10\", \"fit_time\", \"predict_time\", \"metric_time\", \"full_time\"]]\n",
    ")"
   ]
  },
  {
   "cell_type": "code",
<<<<<<< HEAD
<<<<<<< HEAD
   "execution_count": 32,
=======
   "execution_count": 44,
>>>>>>> rebased after 2 MRs
=======
   "execution_count": 32,
>>>>>>> updated models tests
   "metadata": {},
   "outputs": [],
   "source": [
    "import pandas as pd\n",
    "\n",
    "old_metrics = (\n",
    "    pd.read_csv('res_22_rel_1_master.csv', index_col=\"Unnamed: 0\")\n",
    "    .drop(index=\"ADMM SLIM\")\n",
    "    .sort_values('NDCG@10', ascending=False)\n",
    "    [[\"Coverage@10\", \"HitRate@1\", \"HitRate@5\", \"HitRate@10\", \"MAP@10\", \"MRR@10\", \"NDCG@10\", \"Surprisal@10\", \"fit_time\", \"predict_time\", \"metric_time\", \"full_time\"]]\n",
    ")"
   ]
  },
  {
   "cell_type": "code",
<<<<<<< HEAD
<<<<<<< HEAD
   "execution_count": 33,
=======
   "execution_count": 45,
>>>>>>> rebased after 2 MRs
=======
   "execution_count": 33,
>>>>>>> updated models tests
   "metadata": {},
   "outputs": [
    {
     "data": {
      "text/html": [
       "<div>\n",
       "<style scoped>\n",
       "    .dataframe tbody tr th:only-of-type {\n",
       "        vertical-align: middle;\n",
       "    }\n",
       "\n",
       "    .dataframe tbody tr th {\n",
       "        vertical-align: top;\n",
       "    }\n",
       "\n",
       "    .dataframe thead th {\n",
       "        text-align: right;\n",
       "    }\n",
       "</style>\n",
       "<table border=\"1\" class=\"dataframe\">\n",
       "  <thead>\n",
       "    <tr style=\"text-align: right;\">\n",
       "      <th></th>\n",
       "      <th>Coverage@10</th>\n",
       "      <th>HitRate@1</th>\n",
       "      <th>HitRate@5</th>\n",
       "      <th>HitRate@10</th>\n",
       "      <th>MAP@10</th>\n",
       "      <th>MRR@10</th>\n",
       "      <th>NDCG@10</th>\n",
       "      <th>Surprisal@10</th>\n",
       "      <th>fit_time</th>\n",
       "      <th>predict_time</th>\n",
       "      <th>metric_time</th>\n",
       "      <th>full_time</th>\n",
       "    </tr>\n",
       "  </thead>\n",
       "  <tbody>\n",
       "    <tr>\n",
       "      <th>Explicit ALS</th>\n",
       "      <td>-0.2844</td>\n",
       "      <td>0.0009</td>\n",
<<<<<<< HEAD
<<<<<<< HEAD
=======
>>>>>>> updated models tests
       "      <td>-0.0026</td>\n",
       "      <td>-0.0869</td>\n",
       "      <td>-0.0013</td>\n",
       "      <td>-0.0099</td>\n",
       "      <td>-0.0069</td>\n",
       "      <td>0.1948</td>\n",
       "      <td>0.9467</td>\n",
       "      <td>3.8214</td>\n",
       "      <td>2.1404</td>\n",
       "      <td>6.9084</td>\n",
       "    </tr>\n",
       "    <tr>\n",
       "      <th>Implicit ALS</th>\n",
       "      <td>-0.0132</td>\n",
       "      <td>0.0070</td>\n",
       "      <td>-0.0053</td>\n",
       "      <td>-0.0009</td>\n",
       "      <td>0.0062</td>\n",
       "      <td>0.0037</td>\n",
       "      <td>0.0054</td>\n",
       "      <td>-0.0054</td>\n",
       "      <td>0.4924</td>\n",
       "      <td>4.1147</td>\n",
       "      <td>3.0166</td>\n",
       "      <td>7.6238</td>\n",
<<<<<<< HEAD
       "    </tr>\n",
       "    <tr>\n",
       "      <th>ItemKNN</th>\n",
       "      <td>-0.0165</td>\n",
       "      <td>0.0070</td>\n",
       "      <td>-0.0061</td>\n",
       "      <td>0.0123</td>\n",
       "      <td>0.0058</td>\n",
       "      <td>0.0034</td>\n",
       "      <td>0.0063</td>\n",
       "      <td>-0.0165</td>\n",
       "      <td>15.5376</td>\n",
       "      <td>4.2613</td>\n",
       "      <td>1.4662</td>\n",
       "      <td>21.2650</td>\n",
=======
       "      <td>0.0016</td>\n",
       "      <td>0.0001</td>\n",
       "      <td>0.0010</td>\n",
       "      <td>0.1273</td>\n",
       "      <td>3.7234</td>\n",
       "      <td>2.8686</td>\n",
       "      <td>6.7193</td>\n",
       "    </tr>\n",
       "    <tr>\n",
       "      <th>ItemKNN</th>\n",
       "      <td>0.0000</td>\n",
       "      <td>0.0000</td>\n",
       "      <td>0.0000</td>\n",
       "      <td>0.0000</td>\n",
       "      <td>-0.0000</td>\n",
       "      <td>0.0000</td>\n",
       "      <td>0.0000</td>\n",
       "      <td>0.0000</td>\n",
       "      <td>4.7402</td>\n",
       "      <td>2.0575</td>\n",
       "      <td>0.8894</td>\n",
       "      <td>7.6872</td>\n",
>>>>>>> rebased after 2 MRs
=======
       "    </tr>\n",
       "    <tr>\n",
       "      <th>ItemKNN</th>\n",
       "      <td>-0.0165</td>\n",
       "      <td>0.0070</td>\n",
       "      <td>-0.0061</td>\n",
       "      <td>0.0123</td>\n",
       "      <td>0.0058</td>\n",
       "      <td>0.0034</td>\n",
       "      <td>0.0063</td>\n",
       "      <td>-0.0165</td>\n",
       "      <td>15.5376</td>\n",
       "      <td>4.2613</td>\n",
       "      <td>1.4662</td>\n",
       "      <td>21.2650</td>\n",
>>>>>>> updated models tests
       "    </tr>\n",
       "    <tr>\n",
       "      <th>Popular</th>\n",
       "      <td>0.0000</td>\n",
       "      <td>0.0000</td>\n",
       "      <td>0.0000</td>\n",
       "      <td>0.0000</td>\n",
       "      <td>0.0000</td>\n",
       "      <td>0.0000</td>\n",
       "      <td>0.0000</td>\n",
       "      <td>0.0000</td>\n",
<<<<<<< HEAD
<<<<<<< HEAD
=======
>>>>>>> updated models tests
       "      <td>1.6210</td>\n",
       "      <td>2.7824</td>\n",
       "      <td>0.1303</td>\n",
       "      <td>4.5337</td>\n",
<<<<<<< HEAD
       "    </tr>\n",
       "    <tr>\n",
       "      <th>SLIM</th>\n",
       "      <td>-0.0880</td>\n",
       "      <td>0.0219</td>\n",
       "      <td>0.0132</td>\n",
       "      <td>0.0219</td>\n",
       "      <td>0.0316</td>\n",
       "      <td>0.0184</td>\n",
       "      <td>0.0315</td>\n",
       "      <td>-0.0435</td>\n",
       "      <td>9.0383</td>\n",
       "      <td>5.3470</td>\n",
       "      <td>0.6107</td>\n",
       "      <td>14.9959</td>\n",
       "    </tr>\n",
       "    <tr>\n",
       "      <th>UCB</th>\n",
       "      <td>0.0000</td>\n",
       "      <td>0.0000</td>\n",
       "      <td>0.0009</td>\n",
       "      <td>0.0044</td>\n",
       "      <td>0.0001</td>\n",
       "      <td>0.0010</td>\n",
       "      <td>0.0005</td>\n",
       "      <td>0.0000</td>\n",
       "      <td>2.6904</td>\n",
       "      <td>1.5315</td>\n",
       "      <td>0.3338</td>\n",
       "      <td>4.5557</td>\n",
=======
       "      <td>1.3826</td>\n",
       "      <td>1.5403</td>\n",
       "      <td>0.3407</td>\n",
       "      <td>3.2636</td>\n",
=======
>>>>>>> updated models tests
       "    </tr>\n",
       "    <tr>\n",
       "      <th>SLIM</th>\n",
       "      <td>-0.0880</td>\n",
       "      <td>0.0219</td>\n",
       "      <td>0.0132</td>\n",
       "      <td>0.0219</td>\n",
       "      <td>0.0316</td>\n",
       "      <td>0.0184</td>\n",
       "      <td>0.0315</td>\n",
       "      <td>-0.0435</td>\n",
       "      <td>9.0383</td>\n",
       "      <td>5.3470</td>\n",
       "      <td>0.6107</td>\n",
       "      <td>14.9959</td>\n",
       "    </tr>\n",
       "    <tr>\n",
       "      <th>UCB</th>\n",
       "      <td>0.0000</td>\n",
       "      <td>0.0000</td>\n",
       "      <td>0.0009</td>\n",
       "      <td>0.0044</td>\n",
       "      <td>0.0001</td>\n",
<<<<<<< HEAD
       "      <td>0.0045</td>\n",
       "      <td>2.6932</td>\n",
       "      <td>1.0226</td>\n",
       "      <td>0.9430</td>\n",
       "      <td>4.6588</td>\n",
>>>>>>> rebased after 2 MRs
=======
       "      <td>0.0010</td>\n",
       "      <td>0.0005</td>\n",
       "      <td>0.0000</td>\n",
       "      <td>2.6904</td>\n",
       "      <td>1.5315</td>\n",
       "      <td>0.3338</td>\n",
       "      <td>4.5557</td>\n",
>>>>>>> updated models tests
       "    </tr>\n",
       "    <tr>\n",
       "      <th>Wilson</th>\n",
       "      <td>0.0000</td>\n",
       "      <td>0.0000</td>\n",
       "      <td>0.0000</td>\n",
       "      <td>0.0000</td>\n",
       "      <td>0.0000</td>\n",
       "      <td>0.0000</td>\n",
       "      <td>0.0000</td>\n",
       "      <td>0.0000</td>\n",
<<<<<<< HEAD
<<<<<<< HEAD
=======
>>>>>>> updated models tests
       "      <td>2.6349</td>\n",
       "      <td>1.8395</td>\n",
       "      <td>0.8585</td>\n",
       "      <td>5.3330</td>\n",
<<<<<<< HEAD
=======
       "      <td>2.4992</td>\n",
       "      <td>1.8916</td>\n",
       "      <td>0.6375</td>\n",
       "      <td>5.0283</td>\n",
       "    </tr>\n",
       "    <tr>\n",
       "      <th>Explicit ALS</th>\n",
       "      <td>0.0440</td>\n",
       "      <td>0.0018</td>\n",
       "      <td>0.0342</td>\n",
       "      <td>-0.0123</td>\n",
       "      <td>0.0011</td>\n",
       "      <td>0.0079</td>\n",
       "      <td>0.0016</td>\n",
       "      <td>0.0173</td>\n",
       "      <td>1.3718</td>\n",
       "      <td>4.6560</td>\n",
       "      <td>1.0307</td>\n",
       "      <td>7.0584</td>\n",
>>>>>>> rebased after 2 MRs
       "    </tr>\n",
       "    <tr>\n",
=======
       "    </tr>\n",
       "    <tr>\n",
>>>>>>> updated models tests
       "      <th>Word2Vec</th>\n",
       "      <td>0.0036</td>\n",
       "      <td>0.0070</td>\n",
       "      <td>-0.0035</td>\n",
       "      <td>-0.0088</td>\n",
       "      <td>0.0001</td>\n",
<<<<<<< HEAD
<<<<<<< HEAD
=======
>>>>>>> updated models tests
       "      <td>0.0064</td>\n",
       "      <td>0.0001</td>\n",
       "      <td>0.0021</td>\n",
       "      <td>2.1214</td>\n",
       "      <td>1.4044</td>\n",
       "      <td>0.9786</td>\n",
       "      <td>4.5044</td>\n",
<<<<<<< HEAD
=======
       "      <td>0.0010</td>\n",
       "      <td>0.0005</td>\n",
       "      <td>0.0000</td>\n",
       "      <td>2.7001</td>\n",
       "      <td>1.8274</td>\n",
       "      <td>0.2314</td>\n",
       "      <td>4.7589</td>\n",
>>>>>>> rebased after 2 MRs
=======
>>>>>>> updated models tests
       "    </tr>\n",
       "  </tbody>\n",
       "</table>\n",
       "</div>"
      ],
      "text/plain": [
       "              Coverage@10  HitRate@1  HitRate@5  HitRate@10  MAP@10  MRR@10  \\\n",
       "Explicit ALS      -0.2844     0.0009    -0.0026     -0.0869 -0.0013 -0.0099   \n",
       "Implicit ALS      -0.0132     0.0070    -0.0053     -0.0009  0.0062  0.0037   \n",
       "ItemKNN           -0.0165     0.0070    -0.0061      0.0123  0.0058  0.0034   \n",
       "Popular            0.0000     0.0000     0.0000      0.0000  0.0000  0.0000   \n",
<<<<<<< HEAD
<<<<<<< HEAD
       "SLIM              -0.0880     0.0219     0.0132      0.0219  0.0316  0.0184   \n",
=======
       "SLIM               0.0000     0.0000     0.0000      0.0000  0.0000  0.0000   \n",
       "Word2Vec           0.0042     0.0079    -0.0097     -0.0105 -0.0001  0.0066   \n",
       "Wilson             0.0000     0.0000     0.0000      0.0000  0.0000  0.0000   \n",
       "Explicit ALS       0.0440     0.0018     0.0342     -0.0123  0.0011  0.0079   \n",
>>>>>>> rebased after 2 MRs
=======
       "SLIM              -0.0880     0.0219     0.0132      0.0219  0.0316  0.0184   \n",
>>>>>>> updated models tests
       "UCB                0.0000     0.0000     0.0009      0.0044  0.0001  0.0010   \n",
       "Wilson             0.0000     0.0000     0.0000      0.0000  0.0000  0.0000   \n",
       "Word2Vec           0.0036     0.0070    -0.0035     -0.0088  0.0001  0.0064   \n",
       "\n",
       "              NDCG@10  Surprisal@10  fit_time  predict_time  metric_time  \\\n",
<<<<<<< HEAD
<<<<<<< HEAD
=======
>>>>>>> updated models tests
       "Explicit ALS  -0.0069        0.1948    0.9467        3.8214       2.1404   \n",
       "Implicit ALS   0.0054       -0.0054    0.4924        4.1147       3.0166   \n",
       "ItemKNN        0.0063       -0.0165   15.5376        4.2613       1.4662   \n",
       "Popular        0.0000        0.0000    1.6210        2.7824       0.1303   \n",
       "SLIM           0.0315       -0.0435    9.0383        5.3470       0.6107   \n",
       "UCB            0.0005        0.0000    2.6904        1.5315       0.3338   \n",
       "Wilson         0.0000        0.0000    2.6349        1.8395       0.8585   \n",
       "Word2Vec       0.0001        0.0021    2.1214        1.4044       0.9786   \n",
<<<<<<< HEAD
       "\n",
       "              full_time  \n",
       "Explicit ALS     6.9084  \n",
       "Implicit ALS     7.6238  \n",
       "ItemKNN         21.2650  \n",
       "Popular          4.5337  \n",
       "SLIM            14.9959  \n",
       "UCB              4.5557  \n",
       "Wilson           5.3330  \n",
       "Word2Vec         4.5044  "
      ]
     },
     "execution_count": 33,
=======
       "Implicit ALS   0.0001        0.0010    0.1273        3.7234       2.8686   \n",
       "ItemKNN        0.0000        0.0000    4.7402        2.0575       0.8894   \n",
       "Popular        0.0000        0.0000    1.3826        1.5403       0.3407   \n",
       "SLIM           0.0000       -0.0000    2.4657        2.2803       0.7723   \n",
       "Word2Vec       0.0001        0.0045    2.6932        1.0226       0.9430   \n",
       "Wilson         0.0000        0.0000    2.4992        1.8916       0.6375   \n",
       "Explicit ALS   0.0016        0.0173    1.3718        4.6560       1.0307   \n",
       "UCB            0.0005        0.0000    2.7001        1.8274       0.2314   \n",
=======
>>>>>>> updated models tests
       "\n",
       "              full_time  \n",
       "Explicit ALS     6.9084  \n",
       "Implicit ALS     7.6238  \n",
       "ItemKNN         21.2650  \n",
       "Popular          4.5337  \n",
       "SLIM            14.9959  \n",
       "UCB              4.5557  \n",
       "Wilson           5.3330  \n",
       "Word2Vec         4.5044  "
      ]
     },
<<<<<<< HEAD
     "execution_count": 45,
>>>>>>> rebased after 2 MRs
=======
     "execution_count": 33,
>>>>>>> updated models tests
     "metadata": {},
     "output_type": "execute_result"
    }
   ],
   "source": [
    "(new_metrics - old_metrics).round(decimals=4)"
   ]
  },
  {
   "cell_type": "code",
<<<<<<< HEAD
<<<<<<< HEAD
   "execution_count": 34,
=======
   "execution_count": 46,
>>>>>>> rebased after 2 MRs
=======
   "execution_count": 34,
>>>>>>> updated models tests
   "metadata": {},
   "outputs": [
    {
     "data": {
      "text/html": [
       "<div>\n",
       "<style scoped>\n",
       "    .dataframe tbody tr th:only-of-type {\n",
       "        vertical-align: middle;\n",
       "    }\n",
       "\n",
       "    .dataframe tbody tr th {\n",
       "        vertical-align: top;\n",
       "    }\n",
       "\n",
       "    .dataframe thead th {\n",
       "        text-align: right;\n",
       "    }\n",
       "</style>\n",
       "<table border=\"1\" class=\"dataframe\">\n",
       "  <thead>\n",
       "    <tr style=\"text-align: right;\">\n",
       "      <th></th>\n",
       "      <th>Coverage@10</th>\n",
       "      <th>HitRate@1</th>\n",
       "      <th>HitRate@5</th>\n",
       "      <th>HitRate@10</th>\n",
       "      <th>MAP@10</th>\n",
       "      <th>MRR@10</th>\n",
       "      <th>NDCG@10</th>\n",
       "      <th>Surprisal@10</th>\n",
       "      <th>fit_time</th>\n",
       "      <th>predict_time</th>\n",
       "      <th>metric_time</th>\n",
       "      <th>full_time</th>\n",
       "    </tr>\n",
       "  </thead>\n",
       "  <tbody>\n",
       "    <tr>\n",
       "      <th>Explicit ALS</th>\n",
       "      <td>-76.8357</td>\n",
       "      <td>inf</td>\n",
       "      <td>-30.0000</td>\n",
       "      <td>-81.8182</td>\n",
       "      <td>-74.6547</td>\n",
       "      <td>-71.9127</td>\n",
       "      <td>-79.2634</td>\n",
       "      <td>29.6311</td>\n",
       "      <td>38.4237</td>\n",
       "      <td>101.1040</td>\n",
       "      <td>51.3192</td>\n",
       "      <td>66.3368</td>\n",
       "    </tr>\n",
       "    <tr>\n",
       "      <th>Implicit ALS</th>\n",
<<<<<<< HEAD
<<<<<<< HEAD
=======
>>>>>>> updated models tests
       "      <td>-9.1977</td>\n",
       "      <td>2.3739</td>\n",
       "      <td>-0.9119</td>\n",
       "      <td>-0.1285</td>\n",
       "      <td>3.8992</td>\n",
       "      <td>0.8962</td>\n",
       "      <td>2.1234</td>\n",
       "      <td>-3.1814</td>\n",
       "      <td>14.3601</td>\n",
       "      <td>95.7208</td>\n",
       "      <td>74.8834</td>\n",
       "      <td>64.8492</td>\n",
<<<<<<< HEAD
       "    </tr>\n",
       "    <tr>\n",
       "      <th>ItemKNN</th>\n",
       "      <td>-16.1202</td>\n",
       "      <td>2.4169</td>\n",
       "      <td>-1.0972</td>\n",
       "      <td>1.8893</td>\n",
       "      <td>3.7604</td>\n",
       "      <td>0.8528</td>\n",
       "      <td>2.5545</td>\n",
       "      <td>-10.0124</td>\n",
       "      <td>145.0185</td>\n",
       "      <td>149.8340</td>\n",
       "      <td>35.3177</td>\n",
       "      <td>120.0766</td>\n",
=======
       "      <td>2.5440</td>\n",
       "      <td>3.2641</td>\n",
       "      <td>-1.6717</td>\n",
       "      <td>-1.2853</td>\n",
       "      <td>0.5602</td>\n",
       "      <td>0.3872</td>\n",
       "      <td>0.0546</td>\n",
       "      <td>0.5803</td>\n",
       "      <td>3.7126</td>\n",
       "      <td>86.6165</td>\n",
       "      <td>71.2085</td>\n",
       "      <td>57.1552</td>\n",
       "    </tr>\n",
       "    <tr>\n",
       "      <th>ItemKNN</th>\n",
       "      <td>0.0000</td>\n",
       "      <td>0.0000</td>\n",
       "      <td>0.0000</td>\n",
       "      <td>0.0000</td>\n",
       "      <td>-0.0000</td>\n",
       "      <td>0.0000</td>\n",
       "      <td>0.0000</td>\n",
       "      <td>0.0000</td>\n",
       "      <td>44.2424</td>\n",
       "      <td>72.3467</td>\n",
       "      <td>21.4252</td>\n",
       "      <td>43.4071</td>\n",
>>>>>>> rebased after 2 MRs
=======
       "    </tr>\n",
       "    <tr>\n",
       "      <th>ItemKNN</th>\n",
       "      <td>-16.1202</td>\n",
       "      <td>2.4169</td>\n",
       "      <td>-1.0972</td>\n",
       "      <td>1.8893</td>\n",
       "      <td>3.7604</td>\n",
       "      <td>0.8528</td>\n",
       "      <td>2.5545</td>\n",
       "      <td>-10.0124</td>\n",
       "      <td>145.0185</td>\n",
       "      <td>149.8340</td>\n",
       "      <td>35.3177</td>\n",
       "      <td>120.0766</td>\n",
>>>>>>> updated models tests
       "    </tr>\n",
       "    <tr>\n",
       "      <th>Popular</th>\n",
       "      <td>0.0000</td>\n",
       "      <td>0.0000</td>\n",
       "      <td>0.0000</td>\n",
       "      <td>0.0000</td>\n",
       "      <td>0.0291</td>\n",
       "      <td>0.0031</td>\n",
       "      <td>0.0169</td>\n",
       "      <td>0.0000</td>\n",
<<<<<<< HEAD
<<<<<<< HEAD
=======
>>>>>>> updated models tests
       "      <td>107.7246</td>\n",
       "      <td>72.2280</td>\n",
       "      <td>1.6602</td>\n",
       "      <td>34.3260</td>\n",
<<<<<<< HEAD
       "    </tr>\n",
       "    <tr>\n",
       "      <th>SLIM</th>\n",
       "      <td>-58.6916</td>\n",
       "      <td>7.3529</td>\n",
       "      <td>2.3112</td>\n",
       "      <td>3.2852</td>\n",
       "      <td>22.3460</td>\n",
       "      <td>4.4399</td>\n",
       "      <td>13.1643</td>\n",
       "      <td>-24.6824</td>\n",
       "      <td>92.1478</td>\n",
       "      <td>170.3555</td>\n",
       "      <td>15.0563</td>\n",
       "      <td>88.1934</td>\n",
       "    </tr>\n",
       "    <tr>\n",
       "      <th>UCB</th>\n",
       "      <td>0.0000</td>\n",
       "      <td>NaN</td>\n",
       "      <td>inf</td>\n",
       "      <td>inf</td>\n",
       "      <td>inf</td>\n",
       "      <td>inf</td>\n",
       "      <td>inf</td>\n",
       "      <td>0.0000</td>\n",
       "      <td>168.6587</td>\n",
       "      <td>41.3230</td>\n",
       "      <td>6.6324</td>\n",
       "      <td>44.0835</td>\n",
=======
       "      <td>91.8796</td>\n",
       "      <td>39.9851</td>\n",
       "      <td>4.3394</td>\n",
       "      <td>24.7093</td>\n",
=======
>>>>>>> updated models tests
       "    </tr>\n",
       "    <tr>\n",
       "      <th>SLIM</th>\n",
       "      <td>-58.6916</td>\n",
       "      <td>7.3529</td>\n",
       "      <td>2.3112</td>\n",
       "      <td>3.2852</td>\n",
       "      <td>22.3460</td>\n",
       "      <td>4.4399</td>\n",
       "      <td>13.1643</td>\n",
       "      <td>-24.6824</td>\n",
       "      <td>92.1478</td>\n",
       "      <td>170.3555</td>\n",
       "      <td>15.0563</td>\n",
       "      <td>88.1934</td>\n",
       "    </tr>\n",
       "    <tr>\n",
<<<<<<< HEAD
       "      <th>Word2Vec</th>\n",
       "      <td>2.7985</td>\n",
       "      <td>5.6604</td>\n",
       "      <td>-2.5404</td>\n",
       "      <td>-2.0870</td>\n",
       "      <td>-0.1464</td>\n",
       "      <td>2.7276</td>\n",
       "      <td>0.1006</td>\n",
       "      <td>1.8640</td>\n",
       "      <td>95.2479</td>\n",
       "      <td>4.4580</td>\n",
       "      <td>21.5830</td>\n",
       "      <td>15.4591</td>\n",
>>>>>>> rebased after 2 MRs
=======
       "      <th>UCB</th>\n",
       "      <td>0.0000</td>\n",
       "      <td>NaN</td>\n",
       "      <td>inf</td>\n",
       "      <td>inf</td>\n",
       "      <td>inf</td>\n",
       "      <td>inf</td>\n",
       "      <td>inf</td>\n",
       "      <td>0.0000</td>\n",
       "      <td>168.6587</td>\n",
       "      <td>41.3230</td>\n",
       "      <td>6.6324</td>\n",
       "      <td>44.0835</td>\n",
>>>>>>> updated models tests
       "    </tr>\n",
       "    <tr>\n",
       "      <th>Wilson</th>\n",
       "      <td>0.0000</td>\n",
       "      <td>0.0000</td>\n",
       "      <td>0.0000</td>\n",
       "      <td>0.0000</td>\n",
       "      <td>0.0000</td>\n",
       "      <td>0.0000</td>\n",
       "      <td>0.0000</td>\n",
       "      <td>0.0000</td>\n",
<<<<<<< HEAD
<<<<<<< HEAD
=======
>>>>>>> updated models tests
       "      <td>228.1860</td>\n",
       "      <td>57.4404</td>\n",
       "      <td>18.9333</td>\n",
       "      <td>59.9777</td>\n",
<<<<<<< HEAD
       "    </tr>\n",
       "    <tr>\n",
       "      <th>Word2Vec</th>\n",
       "      <td>2.4254</td>\n",
       "      <td>5.0314</td>\n",
       "      <td>-0.9238</td>\n",
       "      <td>-1.7391</td>\n",
       "      <td>0.0976</td>\n",
       "      <td>2.6495</td>\n",
       "      <td>0.0867</td>\n",
       "      <td>0.8627</td>\n",
       "      <td>75.0254</td>\n",
       "      <td>6.1224</td>\n",
       "      <td>22.3979</td>\n",
       "      <td>14.9468</td>\n",
=======
       "      <td>216.4297</td>\n",
       "      <td>59.0682</td>\n",
       "      <td>14.0587</td>\n",
       "      <td>56.5513</td>\n",
       "    </tr>\n",
       "    <tr>\n",
       "      <th>Explicit ALS</th>\n",
       "      <td>11.8849</td>\n",
       "      <td>inf</td>\n",
       "      <td>390.0000</td>\n",
       "      <td>-11.5702</td>\n",
       "      <td>60.1172</td>\n",
       "      <td>57.0054</td>\n",
       "      <td>19.0318</td>\n",
       "      <td>2.6325</td>\n",
       "      <td>55.6777</td>\n",
       "      <td>123.1858</td>\n",
       "      <td>24.7118</td>\n",
       "      <td>67.7772</td>\n",
       "    </tr>\n",
       "    <tr>\n",
       "      <th>UCB</th>\n",
       "      <td>0.0000</td>\n",
       "      <td>NaN</td>\n",
       "      <td>inf</td>\n",
       "      <td>inf</td>\n",
       "      <td>inf</td>\n",
       "      <td>inf</td>\n",
       "      <td>inf</td>\n",
       "      <td>0.0000</td>\n",
       "      <td>169.2649</td>\n",
       "      <td>49.3076</td>\n",
       "      <td>4.5985</td>\n",
       "      <td>46.0501</td>\n",
>>>>>>> rebased after 2 MRs
=======
       "    </tr>\n",
       "    <tr>\n",
       "      <th>Word2Vec</th>\n",
       "      <td>2.4254</td>\n",
       "      <td>5.0314</td>\n",
       "      <td>-0.9238</td>\n",
       "      <td>-1.7391</td>\n",
       "      <td>0.0976</td>\n",
       "      <td>2.6495</td>\n",
       "      <td>0.0867</td>\n",
       "      <td>0.8627</td>\n",
       "      <td>75.0254</td>\n",
       "      <td>6.1224</td>\n",
       "      <td>22.3979</td>\n",
       "      <td>14.9468</td>\n",
>>>>>>> updated models tests
       "    </tr>\n",
       "  </tbody>\n",
       "</table>\n",
       "</div>"
      ],
      "text/plain": [
       "              Coverage@10  HitRate@1  HitRate@5  HitRate@10   MAP@10   MRR@10  \\\n",
       "Explicit ALS     -76.8357        inf   -30.0000    -81.8182 -74.6547 -71.9127   \n",
       "Implicit ALS      -9.1977     2.3739    -0.9119     -0.1285   3.8992   0.8962   \n",
       "ItemKNN          -16.1202     2.4169    -1.0972      1.8893   3.7604   0.8528   \n",
       "Popular            0.0000     0.0000     0.0000      0.0000   0.0291   0.0031   \n",
<<<<<<< HEAD
<<<<<<< HEAD
       "SLIM             -58.6916     7.3529     2.3112      3.2852  22.3460   4.4399   \n",
=======
       "SLIM               0.0000     0.0000     0.0000      0.0000   0.0000   0.0000   \n",
       "Word2Vec           2.7985     5.6604    -2.5404     -2.0870  -0.1464   2.7276   \n",
       "Wilson             0.0000     0.0000     0.0000      0.0000   0.0000   0.0000   \n",
       "Explicit ALS      11.8849        inf   390.0000    -11.5702  60.1172  57.0054   \n",
>>>>>>> rebased after 2 MRs
=======
       "SLIM             -58.6916     7.3529     2.3112      3.2852  22.3460   4.4399   \n",
>>>>>>> updated models tests
       "UCB                0.0000        NaN        inf         inf      inf      inf   \n",
       "Wilson             0.0000     0.0000     0.0000      0.0000   0.0000   0.0000   \n",
       "Word2Vec           2.4254     5.0314    -0.9238     -1.7391   0.0976   2.6495   \n",
       "\n",
       "              NDCG@10  Surprisal@10  fit_time  predict_time  metric_time  \\\n",
<<<<<<< HEAD
<<<<<<< HEAD
=======
>>>>>>> updated models tests
       "Explicit ALS -79.2634       29.6311   38.4237      101.1040      51.3192   \n",
       "Implicit ALS   2.1234       -3.1814   14.3601       95.7208      74.8834   \n",
       "ItemKNN        2.5545      -10.0124  145.0185      149.8340      35.3177   \n",
       "Popular        0.0169        0.0000  107.7246       72.2280       1.6602   \n",
       "SLIM          13.1643      -24.6824   92.1478      170.3555      15.0563   \n",
       "UCB               inf        0.0000  168.6587       41.3230       6.6324   \n",
       "Wilson         0.0000        0.0000  228.1860       57.4404      18.9333   \n",
       "Word2Vec       0.0867        0.8627   75.0254        6.1224      22.3979   \n",
<<<<<<< HEAD
       "\n",
       "              full_time  \n",
       "Explicit ALS    66.3368  \n",
       "Implicit ALS    64.8492  \n",
       "ItemKNN        120.0766  \n",
       "Popular         34.3260  \n",
       "SLIM            88.1934  \n",
       "UCB             44.0835  \n",
       "Wilson          59.9777  \n",
       "Word2Vec        14.9468  "
      ]
     },
     "execution_count": 34,
=======
       "Implicit ALS   0.0546        0.5803    3.7126       86.6165      71.2085   \n",
       "ItemKNN        0.0000        0.0000   44.2424       72.3467      21.4252   \n",
       "Popular        0.0169        0.0000   91.8796       39.9851       4.3394   \n",
       "SLIM           0.0000       -0.0053   25.1390       72.6495      19.0387   \n",
       "Word2Vec       0.1006        1.8640   95.2479        4.4580      21.5830   \n",
       "Wilson         0.0000        0.0000  216.4297       59.0682      14.0587   \n",
       "Explicit ALS  19.0318        2.6325   55.6777      123.1858      24.7118   \n",
       "UCB               inf        0.0000  169.2649       49.3076       4.5985   \n",
=======
>>>>>>> updated models tests
       "\n",
       "              full_time  \n",
       "Explicit ALS    66.3368  \n",
       "Implicit ALS    64.8492  \n",
       "ItemKNN        120.0766  \n",
       "Popular         34.3260  \n",
       "SLIM            88.1934  \n",
       "UCB             44.0835  \n",
       "Wilson          59.9777  \n",
       "Word2Vec        14.9468  "
      ]
     },
<<<<<<< HEAD
     "execution_count": 46,
>>>>>>> rebased after 2 MRs
=======
     "execution_count": 34,
>>>>>>> updated models tests
     "metadata": {},
     "output_type": "execute_result"
    }
   ],
   "source": [
    "(100 * (new_metrics - old_metrics) / old_metrics).round(decimals=4)"
   ]
  },
  {
   "cell_type": "code",
   "execution_count": null,
   "metadata": {},
   "outputs": [],
   "source": [
    "e.results.to_csv('res_22_rel_1_new.csv')"
   ]
  },
  {
   "cell_type": "markdown",
   "metadata": {},
   "source": [
    "## 2.3 Neural models"
   ]
  },
  {
   "cell_type": "code",
   "execution_count": null,
   "metadata": {},
   "outputs": [],
   "source": [
    "nets = {\n",
    "    'MultVAE (default)': [MultVAE(), 'no_opt'],\n",
    "        'NeuroMF (default)': [NeuroMF(), 'no_opt'], \n",
    "        \n",
    "        'MultVAE (optimized)': [MultVAE(), {\"learning_rate\": [0.001, 0.5],\n",
    "                                   \"dropout\": [0, 0.5],\n",
    "                                    \"l2_reg\": [1e-6, 5]\n",
    "                                   }],\n",
    "        'NeuroMF (optimized)': [NeuroMF(), {\n",
    "                                    \"learning_rate\": [0.001, 0.5],\n",
    "                                    \"l2_reg\": [1e-6, 5],\n",
    "                                    \"count_negative_sample\": [1, 20]\n",
    "                                    }]}"
   ]
  },
  {
   "cell_type": "code",
   "execution_count": null,
   "metadata": {},
   "outputs": [],
   "source": [
    "%%time\n",
    "full_pipeline(nets, e, train, budget=BUDGET_NN)"
   ]
  },
  {
   "cell_type": "code",
   "execution_count": null,
   "metadata": {},
   "outputs": [],
   "source": [
    "e.results.sort_values('NDCG@10', ascending=False)"
   ]
  },
  {
   "cell_type": "code",
   "execution_count": null,
   "metadata": {},
   "outputs": [],
   "source": [
    "e.results.to_csv('res_23_rel_1.csv')"
   ]
  },
  {
   "cell_type": "markdown",
   "metadata": {},
   "source": [
    "## 2.4 Models considering features"
   ]
  },
  {
   "cell_type": "markdown",
   "metadata": {},
   "source": [
    "### 2.4.1 item features preprocessing"
   ]
  },
  {
   "cell_type": "code",
   "execution_count": null,
   "metadata": {},
   "outputs": [],
   "source": [
    "user_features=None"
   ]
  },
  {
   "cell_type": "code",
   "execution_count": null,
   "metadata": {},
   "outputs": [],
   "source": [
    "item_features_original = preparator.transform(columns_mapping={'item_id': 'item_id'}, \n",
    "                           data=data.items)\n",
    "item_features = indexer.transform(df=item_features_original)\n",
    "item_features.show(2)"
   ]
  },
  {
   "cell_type": "code",
   "execution_count": null,
   "metadata": {},
   "outputs": [],
   "source": [
    "year = item_features.withColumn('year', sf.substring(sf.col('title'), -5, 4).astype(st.IntegerType())).select('item_idx', 'year')\n",
    "year.show(2)"
   ]
  },
  {
   "cell_type": "code",
   "execution_count": null,
   "metadata": {},
   "outputs": [],
   "source": [
    "genres = (\n",
    "    item_features.select(\n",
    "        \"item_idx\",\n",
    "        sf.split(\"genres\", \"\\|\").alias(\"genres\")\n",
    "    )\n",
    ")"
   ]
  },
  {
   "cell_type": "code",
   "execution_count": null,
   "metadata": {},
   "outputs": [],
   "source": [
    "genres_list = (\n",
    "    genres.select(sf.explode(\"genres\").alias(\"genre\"))\n",
    "    .distinct().filter('genre <> \"(no genres listed)\"')\n",
    "    .toPandas()[\"genre\"].tolist()\n",
    ")"
   ]
  },
  {
   "cell_type": "code",
   "execution_count": null,
   "metadata": {},
   "outputs": [],
   "source": [
    "genres_list"
   ]
  },
  {
   "cell_type": "code",
   "execution_count": null,
   "metadata": {},
   "outputs": [],
   "source": [
    "item_features = genres\n",
    "for genre in genres_list:\n",
    "    item_features = item_features.withColumn(\n",
    "        genre,\n",
    "        sf.array_contains(sf.col(\"genres\"), genre).astype(IntegerType())\n",
    "    )\n",
    "item_features = item_features.drop(\"genres\").cache()\n",
    "item_features.count()"
   ]
  },
  {
   "cell_type": "code",
   "execution_count": null,
   "metadata": {},
   "outputs": [],
   "source": [
    "item_features = item_features.join(year, on='item_idx', how='inner')\n",
    "item_features.cache()\n",
    "item_features.count()"
   ]
  },
  {
   "cell_type": "code",
   "execution_count": null,
   "metadata": {},
   "outputs": [],
   "source": [
    "item_features.show(2)"
   ]
  },
  {
   "cell_type": "markdown",
   "metadata": {},
   "source": [
    "### 2.4.2 Models training"
   ]
  },
  {
   "cell_type": "code",
   "execution_count": null,
   "metadata": {},
   "outputs": [],
   "source": [
    "models_with_features = {'LightFM with item features': [LightFMWrap(random_state=SEED), {\"no_components\": [8, 128]}]}"
   ]
  },
  {
   "cell_type": "code",
   "execution_count": null,
   "metadata": {},
   "outputs": [],
   "source": [
    "%%time\n",
    "full_pipeline(models_with_features, e, train, budget=BUDGET)"
   ]
  },
  {
   "cell_type": "code",
   "execution_count": null,
   "metadata": {},
   "outputs": [],
   "source": [
    "e.results.sort_values('NDCG@10', ascending=False)"
   ]
  },
  {
   "cell_type": "markdown",
   "metadata": {},
   "source": [
    "Sometimes LightFM without features works better. It is our case."
   ]
  },
  {
   "cell_type": "code",
   "execution_count": null,
   "metadata": {},
   "outputs": [],
   "source": [
    "e.results.to_csv('res_24_rel_1.csv')"
   ]
  },
  {
   "cell_type": "markdown",
   "metadata": {},
   "source": [
    "# 3. Results"
   ]
  },
  {
   "cell_type": "markdown",
   "metadata": {},
   "source": [
    "The best results by quality and time were shown by the commonly-used models such as ItemKNN, SLIM and LightFM and ALS"
   ]
  },
  {
   "cell_type": "code",
   "execution_count": null,
   "metadata": {},
   "outputs": [],
   "source": [
    "e.results.sort_values('NDCG@10', ascending=False).head(5)"
   ]
  },
  {
   "cell_type": "code",
   "execution_count": null,
   "metadata": {},
   "outputs": [],
   "source": []
  }
 ],
 "metadata": {
  "kernelspec": {
   "display_name": "Python 3 (ipykernel)",
   "language": "python",
   "name": "python3"
  },
  "language_info": {
   "codemirror_mode": {
    "name": "ipython",
    "version": 3
   },
   "file_extension": ".py",
   "mimetype": "text/x-python",
   "name": "python",
   "nbconvert_exporter": "python",
   "pygments_lexer": "ipython3",
   "version": "3.9.12"
  },
  "name": "movielens_nmf.ipynb",
  "pycharm": {
   "stem_cell": {
    "cell_type": "raw",
    "metadata": {
     "collapsed": false
    },
    "source": [
     "null"
    ]
   }
  }
 },
 "nbformat": 4,
 "nbformat_minor": 4
}
