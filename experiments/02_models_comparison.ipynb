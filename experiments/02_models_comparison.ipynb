{
 "cells": [
  {
   "cell_type": "markdown",
   "metadata": {},
   "source": [
    "# RePlay recommender models comparison\n",
    "\n",
    "We will show the main RePlay functionality and compare performance of RePlay models on well-known MovieLens dataset. If you have not used RePlay before, start with 01_replay_basics.ipynb which introduces base concepts and describe main classes and functionality.\n",
    "\n",
    "### Dataset\n",
    "We will compare RePlay models on __MovieLens 1m__. \n",
    "\n",
    "### Dataset preprocessing: \n",
    "Ratings greater than or equal to 3 are considered as positive interactions.\n",
    "\n",
    "### Data split\n",
    "Dataset is split by date so that 20% of the last interactions as are placed in the test part. Cold items and users are dropped.\n",
    "\n",
    "### Predict:\n",
    "We will predict top-10 most relevant films for each user.\n",
    "\n",
    "### Metrics\n",
    "Quality metrics used:__ndcg@k, hitrate@k, map@k, mrr@k__ for k = 1, 5, 10\n",
    "Additional metrics used: __coverage@k__ and __surprisal@k__."
   ]
  },
  {
   "cell_type": "code",
   "execution_count": null,
   "metadata": {},
   "outputs": [],
   "source": [
    "! pip install rs-datasets"
   ]
  },
  {
   "cell_type": "code",
   "execution_count": 1,
   "metadata": {
    "ExecuteTime": {
     "end_time": "2020-02-10T16:01:45.639135Z",
     "start_time": "2020-02-10T16:01:45.612577Z"
    },
    "jupyter": {
     "outputs_hidden": false
    },
    "pycharm": {
     "is_executing": false
    }
   },
   "outputs": [],
   "source": [
    "%load_ext autoreload\n",
    "%autoreload 2"
   ]
  },
  {
   "cell_type": "code",
   "execution_count": 2,
   "metadata": {},
   "outputs": [],
   "source": [
    "%config Completer.use_jedi = False"
   ]
  },
  {
   "cell_type": "code",
   "execution_count": 3,
   "metadata": {},
   "outputs": [],
   "source": [
    "import warnings\n",
    "from optuna.exceptions import ExperimentalWarning\n",
    "warnings.filterwarnings(\"ignore\", category=UserWarning)\n",
    "warnings.filterwarnings(\"ignore\", category=ExperimentalWarning)"
   ]
  },
  {
   "cell_type": "code",
   "execution_count": 4,
   "metadata": {},
   "outputs": [
    {
     "data": {
      "text/html": [
       "<style type='text/css'>\n",
       ".datatable table.frame { margin-bottom: 0; }\n",
       ".datatable table.frame thead { border-bottom: none; }\n",
       ".datatable table.frame tr.coltypes td {  color: #FFFFFF;  line-height: 6px;  padding: 0 0.5em;}\n",
       ".datatable .bool    { background: #DDDD99; }\n",
       ".datatable .object  { background: #565656; }\n",
       ".datatable .int     { background: #5D9E5D; }\n",
       ".datatable .float   { background: #4040CC; }\n",
       ".datatable .str     { background: #CC4040; }\n",
       ".datatable .time    { background: #40CC40; }\n",
       ".datatable .row_index {  background: var(--jp-border-color3);  border-right: 1px solid var(--jp-border-color0);  color: var(--jp-ui-font-color3);  font-size: 9px;}\n",
       ".datatable .frame tbody td { text-align: left; }\n",
       ".datatable .frame tr.coltypes .row_index {  background: var(--jp-border-color0);}\n",
       ".datatable th:nth-child(2) { padding-left: 12px; }\n",
       ".datatable .hellipsis {  color: var(--jp-cell-editor-border-color);}\n",
       ".datatable .vellipsis {  background: var(--jp-layout-color0);  color: var(--jp-cell-editor-border-color);}\n",
       ".datatable .na {  color: var(--jp-cell-editor-border-color);  font-size: 80%;}\n",
       ".datatable .sp {  opacity: 0.25;}\n",
       ".datatable .footer { font-size: 9px; }\n",
       ".datatable .frame_dimensions {  background: var(--jp-border-color3);  border-top: 1px solid var(--jp-border-color0);  color: var(--jp-ui-font-color3);  display: inline-block;  opacity: 0.6;  padding: 1px 10px 1px 5px;}\n",
       "</style>\n"
      ],
      "text/plain": [
       "<IPython.core.display.HTML object>"
      ]
     },
     "metadata": {},
     "output_type": "display_data"
    }
   ],
   "source": [
    "import logging\n",
    "import time\n",
    "\n",
    "from pyspark.sql import functions as sf\n",
    "\n",
    "from replay.data import Dataset, FeatureHint, FeatureInfo, FeatureSchema, FeatureType\n",
    "from replay.data.dataset_utils import DatasetLabelEncoder\n",
    "from replay.metrics import Coverage, HitRate, MRR, MAP, NDCG, Surprisal, Experiment\n",
    "from replay.models import (\n",
    "    ALSWrap, \n",
    "    ItemKNN,\n",
    "    SLIM, \n",
    "    PopRec, \n",
    "    UCB,\n",
    "    Wilson, \n",
    "    Word2VecRec,\n",
    ")\n",
    "\n",
    "from replay.utils.session_handler import State\n",
    "from replay.splitters import TimeSplitter\n",
    "from replay.utils import convert2spark, get_log_info\n",
    "from rs_datasets import MovieLens"
   ]
  },
  {
   "cell_type": "markdown",
   "metadata": {},
   "source": [
    "`State` object allows passing existing Spark session or create a new one, which will be used by the all RePlay modules.\n",
    "\n",
    "To create session with custom parameters ``spark.driver.memory`` and ``spark.sql.shuffle.partitions`` use function `get_spark_session` from `session_handler` module."
   ]
  },
  {
   "cell_type": "code",
   "execution_count": 5,
   "metadata": {
    "ExecuteTime": {
     "end_time": "2020-02-10T15:59:09.227179Z",
     "start_time": "2020-02-10T15:59:06.427348Z"
    },
    "jupyter": {
     "outputs_hidden": false
    },
    "pycharm": {
     "is_executing": false
    }
   },
   "outputs": [
    {
     "name": "stderr",
     "output_type": "stream",
     "text": [
      "23/11/08 18:04:44 WARN Utils: Your hostname, ecs-eemalov-large resolves to a loopback address: 127.0.1.1; using 10.11.10.44 instead (on interface eth0)\n",
      "23/11/08 18:04:44 WARN Utils: Set SPARK_LOCAL_IP if you need to bind to another address\n",
      "WARNING: An illegal reflective access operation has occurred\n",
      "WARNING: Illegal reflective access by org.apache.spark.unsafe.Platform (file:/root/anaconda3/envs/replay/lib/python3.9/site-packages/pyspark/jars/spark-unsafe_2.12-3.2.4.jar) to constructor java.nio.DirectByteBuffer(long,int)\n",
      "WARNING: Please consider reporting this to the maintainers of org.apache.spark.unsafe.Platform\n",
      "WARNING: Use --illegal-access=warn to enable warnings of further illegal reflective access operations\n",
      "WARNING: All illegal access operations will be denied in a future release\n",
      "Using Spark's default log4j profile: org/apache/spark/log4j-defaults.properties\n",
      "Setting default log level to \"WARN\".\n",
      "To adjust logging level use sc.setLogLevel(newLevel). For SparkR, use setLogLevel(newLevel).\n",
      "23/11/08 18:04:45 WARN NativeCodeLoader: Unable to load native-hadoop library for your platform... using builtin-java classes where applicable\n",
      "23/11/08 18:04:45 WARN SparkConf: Note that spark.local.dir will be overridden by the value set by the cluster manager (via SPARK_LOCAL_DIRS in mesos/standalone/kubernetes and LOCAL_DIRS in YARN).\n"
     ]
    },
    {
     "data": {
      "text/html": [
       "\n",
       "            <div>\n",
       "                <p><b>SparkSession - hive</b></p>\n",
       "                \n",
       "        <div>\n",
       "            <p><b>SparkContext</b></p>\n",
       "\n",
       "            <p><a href=\"http://localhost:4040\">Spark UI</a></p>\n",
       "\n",
       "            <dl>\n",
       "              <dt>Version</dt>\n",
       "                <dd><code>v3.2.4</code></dd>\n",
       "              <dt>Master</dt>\n",
       "                <dd><code>local[*]</code></dd>\n",
       "              <dt>AppName</dt>\n",
       "                <dd><code>pyspark-shell</code></dd>\n",
       "            </dl>\n",
       "        </div>\n",
       "        \n",
       "            </div>\n",
       "        "
      ],
      "text/plain": [
       "<pyspark.sql.session.SparkSession at 0x7f122903f7f0>"
      ]
     },
     "execution_count": 5,
     "metadata": {},
     "output_type": "execute_result"
    }
   ],
   "source": [
    "spark = State().session\n",
    "spark"
   ]
  },
  {
   "cell_type": "code",
   "execution_count": 6,
   "metadata": {},
   "outputs": [],
   "source": [
    "spark.sparkContext.setLogLevel('ERROR')"
   ]
  },
  {
   "cell_type": "code",
   "execution_count": 7,
   "metadata": {},
   "outputs": [],
   "source": [
    "logger = logging.getLogger(\"replay\")"
   ]
  },
  {
   "cell_type": "code",
   "execution_count": 8,
   "metadata": {},
   "outputs": [],
   "source": [
    "K = 10\n",
    "K_list_metrics = [1, 5, 10]\n",
    "BUDGET = 5\n",
    "SEED = 42"
   ]
  },
  {
   "cell_type": "markdown",
   "metadata": {},
   "source": [
    "## 0. Preprocessing <a name='data-preparator'></a>"
   ]
  },
  {
   "cell_type": "markdown",
   "metadata": {},
   "source": [
    "### 0.1 Data loading"
   ]
  },
  {
   "cell_type": "code",
   "execution_count": 9,
   "metadata": {
    "ExecuteTime": {
     "end_time": "2020-02-10T15:59:42.041251Z",
     "start_time": "2020-02-10T15:59:09.230636Z"
    },
    "jupyter": {
     "outputs_hidden": false
    },
    "scrolled": true
   },
   "outputs": [
    {
     "name": "stdout",
     "output_type": "stream",
     "text": [
      "ratings\n"
     ]
    },
    {
     "data": {
      "text/html": [
       "<div>\n",
       "<style scoped>\n",
       "    .dataframe tbody tr th:only-of-type {\n",
       "        vertical-align: middle;\n",
       "    }\n",
       "\n",
       "    .dataframe tbody tr th {\n",
       "        vertical-align: top;\n",
       "    }\n",
       "\n",
       "    .dataframe thead th {\n",
       "        text-align: right;\n",
       "    }\n",
       "</style>\n",
       "<table border=\"1\" class=\"dataframe\">\n",
       "  <thead>\n",
       "    <tr style=\"text-align: right;\">\n",
       "      <th></th>\n",
       "      <th>user_id</th>\n",
       "      <th>item_id</th>\n",
       "      <th>rating</th>\n",
       "      <th>timestamp</th>\n",
       "    </tr>\n",
       "  </thead>\n",
       "  <tbody>\n",
       "    <tr>\n",
       "      <th>0</th>\n",
       "      <td>1</td>\n",
       "      <td>1193</td>\n",
       "      <td>5</td>\n",
       "      <td>978300760</td>\n",
       "    </tr>\n",
       "    <tr>\n",
       "      <th>1</th>\n",
       "      <td>1</td>\n",
       "      <td>661</td>\n",
       "      <td>3</td>\n",
       "      <td>978302109</td>\n",
       "    </tr>\n",
       "    <tr>\n",
       "      <th>2</th>\n",
       "      <td>1</td>\n",
       "      <td>914</td>\n",
       "      <td>3</td>\n",
       "      <td>978301968</td>\n",
       "    </tr>\n",
       "  </tbody>\n",
       "</table>\n",
       "</div>"
      ],
      "text/plain": [
       "   user_id  item_id  rating  timestamp\n",
       "0        1     1193       5  978300760\n",
       "1        1      661       3  978302109\n",
       "2        1      914       3  978301968"
      ]
     },
     "metadata": {},
     "output_type": "display_data"
    },
    {
     "name": "stdout",
     "output_type": "stream",
     "text": [
      "\n",
      "users\n"
     ]
    },
    {
     "data": {
      "text/html": [
       "<div>\n",
       "<style scoped>\n",
       "    .dataframe tbody tr th:only-of-type {\n",
       "        vertical-align: middle;\n",
       "    }\n",
       "\n",
       "    .dataframe tbody tr th {\n",
       "        vertical-align: top;\n",
       "    }\n",
       "\n",
       "    .dataframe thead th {\n",
       "        text-align: right;\n",
       "    }\n",
       "</style>\n",
       "<table border=\"1\" class=\"dataframe\">\n",
       "  <thead>\n",
       "    <tr style=\"text-align: right;\">\n",
       "      <th></th>\n",
       "      <th>user_id</th>\n",
       "      <th>gender</th>\n",
       "      <th>age</th>\n",
       "      <th>occupation</th>\n",
       "      <th>zip_code</th>\n",
       "    </tr>\n",
       "  </thead>\n",
       "  <tbody>\n",
       "    <tr>\n",
       "      <th>0</th>\n",
       "      <td>1</td>\n",
       "      <td>F</td>\n",
       "      <td>1</td>\n",
       "      <td>10</td>\n",
       "      <td>48067</td>\n",
       "    </tr>\n",
       "    <tr>\n",
       "      <th>1</th>\n",
       "      <td>2</td>\n",
       "      <td>M</td>\n",
       "      <td>56</td>\n",
       "      <td>16</td>\n",
       "      <td>70072</td>\n",
       "    </tr>\n",
       "    <tr>\n",
       "      <th>2</th>\n",
       "      <td>3</td>\n",
       "      <td>M</td>\n",
       "      <td>25</td>\n",
       "      <td>15</td>\n",
       "      <td>55117</td>\n",
       "    </tr>\n",
       "  </tbody>\n",
       "</table>\n",
       "</div>"
      ],
      "text/plain": [
       "   user_id gender  age  occupation zip_code\n",
       "0        1      F    1          10    48067\n",
       "1        2      M   56          16    70072\n",
       "2        3      M   25          15    55117"
      ]
     },
     "metadata": {},
     "output_type": "display_data"
    },
    {
     "name": "stdout",
     "output_type": "stream",
     "text": [
      "\n",
      "items\n"
     ]
    },
    {
     "data": {
      "text/html": [
       "<div>\n",
       "<style scoped>\n",
       "    .dataframe tbody tr th:only-of-type {\n",
       "        vertical-align: middle;\n",
       "    }\n",
       "\n",
       "    .dataframe tbody tr th {\n",
       "        vertical-align: top;\n",
       "    }\n",
       "\n",
       "    .dataframe thead th {\n",
       "        text-align: right;\n",
       "    }\n",
       "</style>\n",
       "<table border=\"1\" class=\"dataframe\">\n",
       "  <thead>\n",
       "    <tr style=\"text-align: right;\">\n",
       "      <th></th>\n",
       "      <th>item_id</th>\n",
       "      <th>title</th>\n",
       "      <th>genres</th>\n",
       "    </tr>\n",
       "  </thead>\n",
       "  <tbody>\n",
       "    <tr>\n",
       "      <th>0</th>\n",
       "      <td>1</td>\n",
       "      <td>Toy Story (1995)</td>\n",
       "      <td>Animation|Children's|Comedy</td>\n",
       "    </tr>\n",
       "    <tr>\n",
       "      <th>1</th>\n",
       "      <td>2</td>\n",
       "      <td>Jumanji (1995)</td>\n",
       "      <td>Adventure|Children's|Fantasy</td>\n",
       "    </tr>\n",
       "    <tr>\n",
       "      <th>2</th>\n",
       "      <td>3</td>\n",
       "      <td>Grumpier Old Men (1995)</td>\n",
       "      <td>Comedy|Romance</td>\n",
       "    </tr>\n",
       "  </tbody>\n",
       "</table>\n",
       "</div>"
      ],
      "text/plain": [
       "   item_id                    title                        genres\n",
       "0        1         Toy Story (1995)   Animation|Children's|Comedy\n",
       "1        2           Jumanji (1995)  Adventure|Children's|Fantasy\n",
       "2        3  Grumpier Old Men (1995)                Comedy|Romance"
      ]
     },
     "metadata": {},
     "output_type": "display_data"
    },
    {
     "name": "stdout",
     "output_type": "stream",
     "text": [
      "\n"
     ]
    }
   ],
   "source": [
    "data = MovieLens(\"1m\")\n",
    "data.info()"
   ]
  },
  {
   "cell_type": "markdown",
   "metadata": {},
   "source": [
    "### 0.2. Dataset preparation"
   ]
  },
  {
   "cell_type": "markdown",
   "metadata": {},
   "source": [
    "#### interactions preprocessing\n",
    "\n",
    "- converting to spark dataframe\n",
    "- separating positive and negative feedback interactions\n",
    "- spliting data for train/test and optimization dataframes\n",
    "- creating Dataset instances for experiments\n",
    "- encoding datasets"
   ]
  },
  {
   "cell_type": "code",
   "execution_count": 10,
   "metadata": {},
   "outputs": [
    {
     "name": "stdout",
     "output_type": "stream",
     "text": [
      "+-------+-------+------+---------+\n",
      "|user_id|item_id|rating|timestamp|\n",
      "+-------+-------+------+---------+\n",
      "|      1|   1193|     5|978300760|\n",
      "|      1|    661|     3|978302109|\n",
      "|      1|    914|     3|978301968|\n",
      "|      1|   3408|     4|978300275|\n",
      "|      1|   2355|     5|978824291|\n",
      "+-------+-------+------+---------+\n",
      "only showing top 5 rows\n",
      "\n"
     ]
    }
   ],
   "source": [
    "interactions_spark = convert2spark(data.ratings)\n",
    "interactions_spark.show(5)"
   ]
  },
  {
   "cell_type": "code",
   "execution_count": 11,
   "metadata": {},
   "outputs": [
    {
     "data": {
      "text/plain": [
       "836478"
      ]
     },
     "execution_count": 11,
     "metadata": {},
     "output_type": "execute_result"
    }
   ],
   "source": [
    "# will consider ratings >= 3 as positive feedback. A positive feedback is treated with rating = 1\n",
    "only_positives_interactions = interactions_spark.filter(sf.col('rating') >= 3).withColumn('rating', sf.lit(1))\n",
    "only_positives_interactions.count()"
   ]
  },
  {
   "cell_type": "code",
   "execution_count": 14,
   "metadata": {},
   "outputs": [
    {
     "name": "stdout",
     "output_type": "stream",
     "text": [
      "train info:\n",
      " total lines: 669181, total users: 5397, total items: 3569\n"
     ]
    },
    {
     "name": "stderr",
     "output_type": "stream",
     "text": [
      "                                                                                \r"
     ]
    },
    {
     "name": "stdout",
     "output_type": "stream",
     "text": [
      "test info:\n",
      " total lines: 86542, total users: 1139, total items: 3279\n"
     ]
    }
   ],
   "source": [
    "# train/test split \n",
    "train_spl = TimeSplitter(\n",
    "    time_threshold=0.2,\n",
    "    drop_cold_items=True,\n",
    "    drop_cold_users=True,\n",
    "    query_column=\"user_id\",\n",
    ")\n",
    "train, test = train_spl.split(only_positives_interactions)\n",
    "print('train info:\\n', get_log_info(train, user_col=\"user_id\", item_col=\"item_id\"))\n",
    "print('test info:\\n', get_log_info(test, user_col=\"user_id\", item_col=\"item_id\"))"
   ]
  },
  {
   "cell_type": "code",
   "execution_count": 15,
   "metadata": {},
   "outputs": [
    {
     "data": {
      "text/plain": [
       "False"
      ]
     },
     "execution_count": 15,
     "metadata": {},
     "output_type": "execute_result"
    }
   ],
   "source": [
    "train.is_cached"
   ]
  },
  {
   "cell_type": "code",
   "execution_count": 16,
   "metadata": {},
   "outputs": [
    {
     "data": {
      "text/plain": [
       "(535343, 24241)"
      ]
     },
     "execution_count": 16,
     "metadata": {},
     "output_type": "execute_result"
    }
   ],
   "source": [
    "# train/test split for hyperparameters selection\n",
    "opt_train, opt_val = train_spl.split(train)\n",
    "opt_train.count(), opt_val.count()"
   ]
  },
  {
   "cell_type": "code",
   "execution_count": 17,
   "metadata": {},
   "outputs": [
    {
     "data": {
      "text/plain": [
       "False"
      ]
     },
     "execution_count": 17,
     "metadata": {},
     "output_type": "execute_result"
    }
   ],
   "source": [
    "opt_train.is_cached"
   ]
  },
  {
   "cell_type": "code",
   "execution_count": 19,
   "metadata": {},
   "outputs": [
    {
     "data": {
      "text/plain": [
       "798993"
      ]
     },
     "execution_count": 19,
     "metadata": {},
     "output_type": "execute_result"
    }
   ],
   "source": [
    "# negative feedback will be used for Wilson and UCB models\n",
    "only_negatives_log = interactions_spark.filter(sf.col('rating') < 3).withColumn('rating', sf.lit(0.))\n",
    "test_start = test.agg(sf.min('timestamp')).collect()[0][0]\n",
    "\n",
    "# train with both positive and negative feedback\n",
    "pos_neg_train=(train\n",
    "              .withColumn('rating', sf.lit(1.))\n",
    "              .union(only_negatives_log.filter(sf.col('timestamp') < test_start))\n",
    "             )\n",
    "pos_neg_train.cache()\n",
    "pos_neg_train.count()"
   ]
  },
  {
   "cell_type": "code",
   "execution_count": 20,
   "metadata": {},
   "outputs": [],
   "source": [
    "feature_schema = FeatureSchema(\n",
    "    [\n",
    "        FeatureInfo(\n",
    "            column=\"user_id\",\n",
    "            feature_type=FeatureType.CATEGORICAL,\n",
    "            feature_hint=FeatureHint.QUERY_ID,\n",
    "        ),\n",
    "        FeatureInfo(\n",
    "            column=\"item_id\",\n",
    "            feature_type=FeatureType.CATEGORICAL,\n",
    "            feature_hint=FeatureHint.ITEM_ID,\n",
    "        ),\n",
    "        FeatureInfo(\n",
    "            column=\"rating\",\n",
    "            feature_type=FeatureType.NUMERICAL,\n",
    "            feature_hint=FeatureHint.RATING,\n",
    "        ),\n",
    "        FeatureInfo(\n",
    "            column=\"timestamp\",\n",
    "            feature_type=FeatureType.NUMERICAL,\n",
    "            feature_hint=FeatureHint.TIMESTAMP,\n",
    "        ),\n",
    "    ]\n",
    ")"
   ]
  },
  {
   "cell_type": "code",
   "execution_count": 21,
   "metadata": {},
   "outputs": [],
   "source": [
    "all_dataset = Dataset(\n",
    "    feature_schema=feature_schema,\n",
    "    interactions=interactions_spark,\n",
    ")\n",
    "\n",
    "train_dataset = Dataset(\n",
    "    feature_schema=feature_schema,\n",
    "    interactions=train,\n",
    ")\n",
    "\n",
    "test_dataset = Dataset(\n",
    "    feature_schema=feature_schema,\n",
    "    interactions=test,\n",
    ")\n",
    "\n",
    "train_neg_dataset = Dataset(\n",
    "    feature_schema=feature_schema,\n",
    "    interactions=pos_neg_train,\n",
    ")\n",
    "\n",
    "opt_train_dataset = Dataset(\n",
    "    feature_schema=feature_schema,\n",
    "    interactions=opt_train,\n",
    ")\n",
    "\n",
    "opt_val_dataset = Dataset(\n",
    "    feature_schema=feature_schema,\n",
    "    interactions=opt_val,\n",
    ")"
   ]
  },
  {
   "cell_type": "code",
   "execution_count": 22,
   "metadata": {},
   "outputs": [],
   "source": [
    "encoder = DatasetLabelEncoder()\n",
    "encoder.fit(all_dataset)\n",
    "train_dataset = encoder.transform(train_dataset)\n",
    "train_neg_dataset = encoder.transform(train_neg_dataset)\n",
    "opt_train_dataset = encoder.transform(opt_train_dataset)\n",
    "opt_val_dataset = encoder.transform(opt_val_dataset)\n",
    "test_dataset = encoder.transform(test_dataset)"
   ]
  },
  {
   "cell_type": "markdown",
   "metadata": {},
   "source": [
    "# 1. Metrics definition"
   ]
  },
  {
   "cell_type": "code",
   "execution_count": 23,
   "metadata": {},
   "outputs": [],
   "source": [
    "# experiment is used for metrics calculation\n",
<<<<<<< HEAD
    "e = Experiment(\n",
    "    [MAP(K), NDCG(K), HitRate(K_list_metrics), Coverage(K), Surprisal(K), MRR(K)],\n",
    "    test,\n",
    "    train,\n",
    "    user_column=\"user_idx\", item_column=\"item_idx\", score_column=\"relevance\"\n",
=======
    "col_names = {\n",
    "    \"item_column\": train_dataset.feature_schema.item_id_column,\n",
    "    \"query_column\": train_dataset.feature_schema.query_id_column,\n",
    "    \"rating_column\": train_dataset.feature_schema.interactions_rating_column,\n",
    "}\n",
    "e = Experiment(\n",
    "    test_dataset,\n",
    "    {\n",
    "        MAP(**col_names): K,\n",
    "        NDCG(**col_names): K,\n",
    "        HitRate(**col_names): K_list_metrics,\n",
    "        Coverage(train_dataset.interactions, **col_names): K,\n",
    "        Surprisal(train_dataset.interactions, **col_names): K,\n",
    "        MRR(**col_names): K,\n",
    "    }\n",
>>>>>>> added dataset into models interfaces
    ")"
   ]
  },
  {
   "cell_type": "markdown",
   "metadata": {},
   "source": [
    "# 2. Models training"
   ]
  },
  {
   "cell_type": "code",
   "execution_count": 24,
   "metadata": {},
   "outputs": [],
   "source": [
    "def fit_predict_add_res(name, model, experiment, train_dataset, suffix=''):\n",
    "    \"\"\"\n",
    "    Run fit_predict for the `model`, measure time on fit_predict and evaluate metrics\n",
    "    \"\"\"\n",
    "    start_time=time.time()\n",
    "    \n",
    "    logs = {'dataset': train_dataset}\n",
    "    predict_params = {'k': K, 'queries': test_dataset.query_ids}\n",
    "    \n",
    "    if isinstance(model, (Wilson, UCB)):\n",
    "        logs['dataset'] = train_neg_dataset\n",
    "    \n",
    "    predict_params.update(logs)\n",
    "\n",
    "    model.fit(**logs)\n",
    "    fit_time = time.time() - start_time\n",
    "\n",
    "    pred=model.predict(**predict_params)\n",
    "    pred.cache()\n",
    "    pred.count()\n",
    "    predict_time = time.time() - start_time - fit_time\n",
    "\n",
    "    experiment.add_result(name + suffix, pred)\n",
    "    metric_time = time.time() - start_time - fit_time - predict_time\n",
    "    experiment.results.loc[name + suffix, 'fit_time'] = fit_time\n",
    "    experiment.results.loc[name + suffix, 'predict_time'] = predict_time\n",
    "    experiment.results.loc[name + suffix, 'metric_time'] = metric_time\n",
    "    experiment.results.loc[name + suffix, 'full_time'] = (fit_time + \n",
    "                                                          predict_time +\n",
    "                                                          metric_time)\n",
    "    pred.unpersist()\n",
    "    print(experiment.results[['NDCG@{}'.format(K), 'MRR@{}'.format(K), 'Coverage@{}'.format(K), 'fit_time']].sort_values('NDCG@{}'.format(K), ascending=False))"
   ]
  },
  {
   "cell_type": "code",
   "execution_count": 25,
   "metadata": {},
   "outputs": [],
   "source": [
    "def full_pipeline(models, experiment, train_dataset, suffix='', budget=BUDGET):\n",
    "    \"\"\"\n",
    "    For each model:\n",
    "        -  if required: run hyperparameters search, set best params and save param values to `experiment`\n",
    "        - pass model to `fit_predict_add_res`        \n",
    "    \"\"\"\n",
    "    \n",
    "    for name, [model, params] in models.items():\n",
    "        model.logger.info(msg='{} started'.format(name))\n",
    "        if params != 'no_opt':\n",
    "            model.logger.info(msg='{} optimization started'.format(name))\n",
    "            best_params = model.optimize(opt_train_dataset, \n",
    "                                         opt_val_dataset, \n",
    "                                         param_borders=params, \n",
    "                                         k=K, \n",
    "                                         budget=budget)\n",
    "            logger.info(msg='best params for {} are: {}'.format(name, best_params))\n",
    "            model.set_params(**best_params)\n",
    "        \n",
    "        logger.info(msg='{} fit_predict started'.format(name))\n",
    "        fit_predict_add_res(name, model, experiment, train_dataset, suffix)\n",
    "        # here we call protected attribute to get all parameters set during model initialization\n",
    "        experiment.results.loc[name + suffix, 'params'] = str(model._init_args)"
   ]
  },
  {
   "cell_type": "markdown",
   "metadata": {},
   "source": [
    "## 2.1. Non-personalized models"
   ]
  },
  {
   "cell_type": "code",
   "execution_count": 26,
   "metadata": {},
   "outputs": [],
   "source": [
    "non_personalized_models = {\n",
    "    'Popular': [PopRec(), 'no_opt'], \n",
    "    'UCB': [UCB(exploration_coef=0.5), 'no_opt'],\n",
    "    'Wilson': [Wilson(), 'no_opt'],\n",
    "}"
   ]
  },
  {
   "cell_type": "code",
   "execution_count": 27,
   "metadata": {},
   "outputs": [
    {
     "name": "stderr",
     "output_type": "stream",
     "text": [
      "08-Nov-23 18:13:47, replay, INFO: Popular started\n",
      "08-Nov-23 18:13:47, replay, INFO: Popular fit_predict started\n",
      "08-Nov-23 18:14:05, replay, INFO: UCB started                                   \n",
      "08-Nov-23 18:14:05, replay, INFO: UCB fit_predict started\n"
     ]
    },
    {
     "name": "stdout",
     "output_type": "stream",
     "text": [
      "          NDCG@10    MRR@10  Coverage@10  fit_time\n",
      "Popular  0.243711  0.390426     0.033903  2.771596\n"
     ]
    },
    {
     "name": "stderr",
     "output_type": "stream",
     "text": [
      "08-Nov-23 18:14:23, replay, INFO: Wilson started                                \n",
      "08-Nov-23 18:14:23, replay, INFO: Wilson fit_predict started\n"
     ]
    },
    {
     "name": "stdout",
     "output_type": "stream",
     "text": [
      "          NDCG@10    MRR@10  Coverage@10  fit_time\n",
      "Popular  0.243711  0.390426     0.033903  2.771596\n",
      "UCB      0.000458  0.001024     0.003082  4.144925\n"
     ]
    },
    {
     "name": "stderr",
     "output_type": "stream",
     "text": [
      "                                                                                \r"
     ]
    },
    {
     "name": "stdout",
     "output_type": "stream",
     "text": [
      "          NDCG@10    MRR@10  Coverage@10  fit_time\n",
      "Popular  0.243711  0.390426     0.033903  2.771596\n",
      "Wilson   0.092121  0.180976     0.017092  3.357698\n",
      "UCB      0.000458  0.001024     0.003082  4.144925\n",
      "CPU times: user 667 ms, sys: 136 ms, total: 802 ms\n",
      "Wall time: 51.2 s\n"
     ]
    }
   ],
   "source": [
    "%%time\n",
    "full_pipeline(non_personalized_models, e, train_dataset)"
   ]
  },
  {
   "cell_type": "code",
   "execution_count": 28,
   "metadata": {},
   "outputs": [
    {
     "data": {
      "text/html": [
       "<div>\n",
       "<style scoped>\n",
       "    .dataframe tbody tr th:only-of-type {\n",
       "        vertical-align: middle;\n",
       "    }\n",
       "\n",
       "    .dataframe tbody tr th {\n",
       "        vertical-align: top;\n",
       "    }\n",
       "\n",
       "    .dataframe thead th {\n",
       "        text-align: right;\n",
       "    }\n",
       "</style>\n",
       "<table border=\"1\" class=\"dataframe\">\n",
       "  <thead>\n",
       "    <tr style=\"text-align: right;\">\n",
       "      <th></th>\n",
       "      <th>Coverage@10</th>\n",
       "      <th>HitRate@1</th>\n",
       "      <th>HitRate@5</th>\n",
       "      <th>HitRate@10</th>\n",
       "      <th>MAP@10</th>\n",
       "      <th>MRR@10</th>\n",
       "      <th>NDCG@10</th>\n",
       "      <th>Surprisal@10</th>\n",
       "      <th>fit_time</th>\n",
       "      <th>predict_time</th>\n",
       "      <th>metric_time</th>\n",
       "      <th>full_time</th>\n",
       "      <th>params</th>\n",
       "    </tr>\n",
       "  </thead>\n",
       "  <tbody>\n",
       "    <tr>\n",
       "      <th>Popular</th>\n",
       "      <td>0.033903</td>\n",
       "      <td>0.284460</td>\n",
       "      <td>0.530290</td>\n",
       "      <td>0.645303</td>\n",
       "      <td>0.154974</td>\n",
       "      <td>0.390426</td>\n",
       "      <td>0.243711</td>\n",
       "      <td>0.118354</td>\n",
       "      <td>2.771596</td>\n",
       "      <td>7.553012</td>\n",
       "      <td>7.935623</td>\n",
       "      <td>18.260231</td>\n",
       "      <td>{'use_rating': False, 'add_cold_items': True, ...</td>\n",
       "    </tr>\n",
       "    <tr>\n",
       "      <th>Wilson</th>\n",
       "      <td>0.017092</td>\n",
       "      <td>0.083406</td>\n",
       "      <td>0.345040</td>\n",
       "      <td>0.414399</td>\n",
       "      <td>0.044559</td>\n",
       "      <td>0.180976</td>\n",
       "      <td>0.092121</td>\n",
       "      <td>0.262190</td>\n",
       "      <td>3.357698</td>\n",
       "      <td>6.800533</td>\n",
       "      <td>5.391702</td>\n",
       "      <td>15.549933</td>\n",
       "      <td>{'alpha': 0.05, 'add_cold_items': True, 'cold_...</td>\n",
       "    </tr>\n",
       "    <tr>\n",
       "      <th>UCB</th>\n",
       "      <td>0.003082</td>\n",
       "      <td>0.000000</td>\n",
       "      <td>0.000878</td>\n",
       "      <td>0.004390</td>\n",
       "      <td>0.000124</td>\n",
       "      <td>0.001024</td>\n",
       "      <td>0.000458</td>\n",
       "      <td>1.000000</td>\n",
       "      <td>4.144925</td>\n",
       "      <td>6.822952</td>\n",
       "      <td>6.413431</td>\n",
       "      <td>17.381308</td>\n",
       "      <td>{'exploration_coef': 0.5, 'sample': False, 'se...</td>\n",
       "    </tr>\n",
       "  </tbody>\n",
       "</table>\n",
       "</div>"
      ],
      "text/plain": [
       "         Coverage@10  HitRate@1  HitRate@5  HitRate@10    MAP@10    MRR@10  \\\n",
       "Popular     0.033903   0.284460   0.530290    0.645303  0.154974  0.390426   \n",
       "Wilson      0.017092   0.083406   0.345040    0.414399  0.044559  0.180976   \n",
       "UCB         0.003082   0.000000   0.000878    0.004390  0.000124  0.001024   \n",
       "\n",
       "          NDCG@10  Surprisal@10  fit_time  predict_time  metric_time  \\\n",
       "Popular  0.243711      0.118354  2.771596      7.553012     7.935623   \n",
       "Wilson   0.092121      0.262190  3.357698      6.800533     5.391702   \n",
       "UCB      0.000458      1.000000  4.144925      6.822952     6.413431   \n",
       "\n",
       "         full_time                                             params  \n",
       "Popular  18.260231  {'use_rating': False, 'add_cold_items': True, ...  \n",
       "Wilson   15.549933  {'alpha': 0.05, 'add_cold_items': True, 'cold_...  \n",
       "UCB      17.381308  {'exploration_coef': 0.5, 'sample': False, 'se...  "
      ]
     },
     "execution_count": 28,
     "metadata": {},
     "output_type": "execute_result"
    }
   ],
   "source": [
    "e.results.sort_values('NDCG@10', ascending=False)"
   ]
  },
  {
   "cell_type": "markdown",
   "metadata": {},
   "source": [
    "UCB is developed for iterative learning and improve its quality over time as the exploration reduces."
   ]
  },
  {
   "cell_type": "code",
   "execution_count": 29,
   "metadata": {},
   "outputs": [],
   "source": [
    "\n",
    "e.results.to_csv('res_21_rel_1.csv')"
   ]
  },
  {
   "cell_type": "markdown",
   "metadata": {},
   "source": [
    "## 2.2  Personalized models without features"
   ]
  },
  {
   "cell_type": "code",
   "execution_count": 30,
   "metadata": {},
   "outputs": [],
   "source": [
    "# common_models = {\n",
    "#   'Implicit ALS': [ALSWrap(seed=SEED), None], \n",
    "#   'Explicit ALS': [ALSWrap(seed=SEED, implicit_prefs=False), None], \n",
    "#   'ItemKNN': [ItemKNN(), None], \n",
    "#   'SLIM': [SLIM(seed=SEED), None],\n",
    "#   'Word2Vec': [Word2VecRec(seed=SEED), None],\n",
    "# }\n",
    "common_models = {\n",
    "  'Implicit ALS': [ALSWrap(seed=SEED), 'no_opt'], \n",
    "  'Explicit ALS': [ALSWrap(seed=SEED, implicit_prefs=False), 'no_opt'], \n",
    "  'ItemKNN': [ItemKNN(), 'no_opt'], \n",
    "  'SLIM': [SLIM(seed=SEED), 'no_opt'],\n",
    "  'Word2Vec': [Word2VecRec(seed=SEED), 'no_opt'],\n",
    "}"
   ]
  },
  {
   "cell_type": "code",
   "execution_count": 31,
   "metadata": {},
   "outputs": [
    {
     "name": "stderr",
     "output_type": "stream",
     "text": [
      "08-Nov-23 18:16:29, replay, INFO: Implicit ALS started\n",
      "08-Nov-23 18:16:29, replay, INFO: Implicit ALS fit_predict started\n",
      "/root/anaconda3/envs/replay/lib/python3.9/site-packages/pyspark/sql/context.py:125: FutureWarning: Deprecated in 3.0.0. Use SparkSession.builder.getOrCreate() instead.\n",
      "  warnings.warn(\n",
      "08-Nov-23 18:16:52, replay, INFO: Explicit ALS started                          \n",
      "08-Nov-23 18:16:52, replay, INFO: Explicit ALS fit_predict started\n"
     ]
    },
    {
     "name": "stdout",
     "output_type": "stream",
     "text": [
      "               NDCG@10    MRR@10  Coverage@10  fit_time\n",
      "Implicit ALS  0.255267  0.414710     0.146820  5.992281\n",
      "Popular       0.243711  0.390426     0.033903  2.771596\n",
      "Wilson        0.092121  0.180976     0.017092  3.357698\n",
      "UCB           0.000458  0.001024     0.003082  4.144925\n"
     ]
    },
    {
     "name": "stderr",
     "output_type": "stream",
     "text": [
      "/root/anaconda3/envs/replay/lib/python3.9/site-packages/pyspark/sql/context.py:125: FutureWarning: Deprecated in 3.0.0. Use SparkSession.builder.getOrCreate() instead.\n",
      "  warnings.warn(\n",
      "08-Nov-23 18:17:12, replay, INFO: ItemKNN started                               \n",
      "08-Nov-23 18:17:12, replay, INFO: ItemKNN fit_predict started\n"
     ]
    },
    {
     "name": "stdout",
     "output_type": "stream",
     "text": [
      "               NDCG@10    MRR@10  Coverage@10  fit_time\n",
      "Implicit ALS  0.255267  0.414710     0.146820  5.992281\n",
      "Popular       0.243711  0.390426     0.033903  2.771596\n",
      "Wilson        0.092121  0.180976     0.017092  3.357698\n",
      "Explicit ALS  0.025198  0.060914     0.647520  3.897796\n",
      "UCB           0.000458  0.001024     0.003082  4.144925\n"
     ]
    },
    {
     "name": "stderr",
     "output_type": "stream",
     "text": [
      "08-Nov-23 18:17:39, replay, INFO: SLIM started                                  \n",
      "08-Nov-23 18:17:39, replay, INFO: SLIM fit_predict started\n"
     ]
    },
    {
     "name": "stdout",
     "output_type": "stream",
     "text": [
      "               NDCG@10    MRR@10  Coverage@10   fit_time\n",
      "Implicit ALS  0.255267  0.414710     0.146820   5.992281\n",
      "ItemKNN       0.246561  0.404074     0.102550  15.382270\n",
      "Popular       0.243711  0.390426     0.033903   2.771596\n",
      "Wilson        0.092121  0.180976     0.017092   3.357698\n",
      "Explicit ALS  0.025198  0.060914     0.647520   3.897796\n",
      "UCB           0.000458  0.001024     0.003082   4.144925\n"
     ]
    },
    {
     "name": "stderr",
     "output_type": "stream",
     "text": [
      "08-Nov-23 18:18:03, replay, INFO: Word2Vec started                              \n",
      "08-Nov-23 18:18:03, replay, INFO: Word2Vec fit_predict started\n"
     ]
    },
    {
     "name": "stdout",
     "output_type": "stream",
     "text": [
      "               NDCG@10    MRR@10  Coverage@10   fit_time\n",
      "Implicit ALS  0.255267  0.414710     0.146820   5.992281\n",
      "ItemKNN       0.246561  0.404074     0.102550  15.382270\n",
      "Popular       0.243711  0.390426     0.033903   2.771596\n",
      "SLIM          0.239433  0.414076     0.149902  11.879303\n",
      "Wilson        0.092121  0.180976     0.017092   3.357698\n",
      "Explicit ALS  0.025198  0.060914     0.647520   3.897796\n",
      "UCB           0.000458  0.001024     0.003082   4.144925\n"
     ]
    },
    {
     "name": "stderr",
     "output_type": "stream",
     "text": [
      "/root/anaconda3/envs/replay/lib/python3.9/site-packages/pyspark/sql/context.py:125: FutureWarning: Deprecated in 3.0.0. Use SparkSession.builder.getOrCreate() instead.\n",
      "  warnings.warn(\n",
      "                                                                                \r"
     ]
    },
    {
     "name": "stdout",
     "output_type": "stream",
     "text": [
      "               NDCG@10    MRR@10  Coverage@10   fit_time\n",
      "Implicit ALS  0.255267  0.414710     0.146820   5.992281\n",
      "ItemKNN       0.246561  0.404074     0.102550  15.382270\n",
      "Popular       0.243711  0.390426     0.033903   2.771596\n",
      "SLIM          0.239433  0.414076     0.149902  11.879303\n",
      "Word2Vec      0.136959  0.248830     0.154385   5.748302\n",
      "Wilson        0.092121  0.180976     0.017092   3.357698\n",
      "Explicit ALS  0.025198  0.060914     0.647520   3.897796\n",
      "UCB           0.000458  0.001024     0.003082   4.144925\n",
      "CPU times: user 1.8 s, sys: 439 ms, total: 2.24 s\n",
      "Wall time: 2min 10s\n"
     ]
    }
   ],
   "source": [
    "%%time\n",
    "full_pipeline(common_models, e, train_dataset)"
   ]
  },
  {
   "cell_type": "code",
   "execution_count": 32,
   "metadata": {},
   "outputs": [],
   "source": [
    "new_metrics = (\n",
    "    e.results\n",
    "    .sort_values('NDCG@10', ascending=False)\n",
    "    [[\"Coverage@10\", \"HitRate@1\", \"HitRate@5\", \"HitRate@10\", \"MAP@10\", \"MRR@10\", \"NDCG@10\", \"Surprisal@10\", \"fit_time\", \"predict_time\", \"metric_time\", \"full_time\"]]\n",
    ")"
   ]
  },
  {
   "cell_type": "code",
   "execution_count": 33,
   "metadata": {},
   "outputs": [
    {
     "data": {
      "text/html": [
       "<div>\n",
       "<style scoped>\n",
       "    .dataframe tbody tr th:only-of-type {\n",
       "        vertical-align: middle;\n",
       "    }\n",
       "\n",
       "    .dataframe tbody tr th {\n",
       "        vertical-align: top;\n",
       "    }\n",
       "\n",
       "    .dataframe thead th {\n",
       "        text-align: right;\n",
       "    }\n",
       "</style>\n",
       "<table border=\"1\" class=\"dataframe\">\n",
       "  <thead>\n",
       "    <tr style=\"text-align: right;\">\n",
       "      <th></th>\n",
       "      <th>Coverage@10</th>\n",
       "      <th>HitRate@1</th>\n",
       "      <th>HitRate@5</th>\n",
       "      <th>HitRate@10</th>\n",
       "      <th>MAP@10</th>\n",
       "      <th>MRR@10</th>\n",
       "      <th>NDCG@10</th>\n",
       "      <th>Surprisal@10</th>\n",
       "      <th>fit_time</th>\n",
       "      <th>predict_time</th>\n",
       "      <th>metric_time</th>\n",
       "      <th>full_time</th>\n",
       "    </tr>\n",
       "  </thead>\n",
       "  <tbody>\n",
       "    <tr>\n",
       "      <th>Implicit ALS</th>\n",
       "      <td>0.146820</td>\n",
       "      <td>0.303775</td>\n",
       "      <td>0.569798</td>\n",
       "      <td>0.673398</td>\n",
       "      <td>0.159213</td>\n",
       "      <td>0.414710</td>\n",
       "      <td>0.255267</td>\n",
       "      <td>0.170222</td>\n",
       "      <td>5.992281</td>\n",
       "      <td>10.102373</td>\n",
       "      <td>7.517069</td>\n",
       "      <td>23.611723</td>\n",
       "    </tr>\n",
       "    <tr>\n",
       "      <th>ItemKNN</th>\n",
       "      <td>0.102550</td>\n",
       "      <td>0.290606</td>\n",
       "      <td>0.560140</td>\n",
       "      <td>0.650571</td>\n",
       "      <td>0.153558</td>\n",
       "      <td>0.404074</td>\n",
       "      <td>0.246561</td>\n",
       "      <td>0.164692</td>\n",
       "      <td>15.382270</td>\n",
       "      <td>5.200289</td>\n",
       "      <td>5.751915</td>\n",
       "      <td>26.334474</td>\n",
       "    </tr>\n",
       "    <tr>\n",
       "      <th>Popular</th>\n",
       "      <td>0.033903</td>\n",
       "      <td>0.284460</td>\n",
       "      <td>0.530290</td>\n",
       "      <td>0.645303</td>\n",
       "      <td>0.154974</td>\n",
       "      <td>0.390426</td>\n",
       "      <td>0.243711</td>\n",
       "      <td>0.118354</td>\n",
       "      <td>2.771596</td>\n",
       "      <td>7.553012</td>\n",
       "      <td>7.935623</td>\n",
       "      <td>18.260231</td>\n",
       "    </tr>\n",
       "    <tr>\n",
       "      <th>SLIM</th>\n",
       "      <td>0.149902</td>\n",
       "      <td>0.298507</td>\n",
       "      <td>0.569798</td>\n",
       "      <td>0.668130</td>\n",
       "      <td>0.141215</td>\n",
       "      <td>0.414076</td>\n",
       "      <td>0.239433</td>\n",
       "      <td>0.176244</td>\n",
       "      <td>11.879303</td>\n",
       "      <td>6.435116</td>\n",
       "      <td>5.657565</td>\n",
       "      <td>23.971984</td>\n",
       "    </tr>\n",
       "    <tr>\n",
       "      <th>Word2Vec</th>\n",
       "      <td>0.154385</td>\n",
       "      <td>0.149254</td>\n",
       "      <td>0.373134</td>\n",
       "      <td>0.497805</td>\n",
       "      <td>0.070983</td>\n",
       "      <td>0.248830</td>\n",
       "      <td>0.136959</td>\n",
       "      <td>0.248018</td>\n",
       "      <td>5.748302</td>\n",
       "      <td>24.746803</td>\n",
       "      <td>6.224006</td>\n",
       "      <td>36.719110</td>\n",
       "    </tr>\n",
       "    <tr>\n",
       "      <th>Wilson</th>\n",
       "      <td>0.017092</td>\n",
       "      <td>0.083406</td>\n",
       "      <td>0.345040</td>\n",
       "      <td>0.414399</td>\n",
       "      <td>0.044559</td>\n",
       "      <td>0.180976</td>\n",
       "      <td>0.092121</td>\n",
       "      <td>0.262190</td>\n",
       "      <td>3.357698</td>\n",
       "      <td>6.800533</td>\n",
       "      <td>5.391702</td>\n",
       "      <td>15.549933</td>\n",
       "    </tr>\n",
       "    <tr>\n",
       "      <th>Explicit ALS</th>\n",
       "      <td>0.647520</td>\n",
       "      <td>0.021949</td>\n",
       "      <td>0.105356</td>\n",
       "      <td>0.185250</td>\n",
       "      <td>0.008686</td>\n",
       "      <td>0.060914</td>\n",
       "      <td>0.025198</td>\n",
       "      <td>0.542221</td>\n",
       "      <td>3.897796</td>\n",
       "      <td>10.276418</td>\n",
       "      <td>5.965547</td>\n",
       "      <td>20.139761</td>\n",
       "    </tr>\n",
       "    <tr>\n",
       "      <th>UCB</th>\n",
       "      <td>0.003082</td>\n",
       "      <td>0.000000</td>\n",
       "      <td>0.000878</td>\n",
       "      <td>0.004390</td>\n",
       "      <td>0.000124</td>\n",
       "      <td>0.001024</td>\n",
       "      <td>0.000458</td>\n",
       "      <td>1.000000</td>\n",
       "      <td>4.144925</td>\n",
       "      <td>6.822952</td>\n",
       "      <td>6.413431</td>\n",
       "      <td>17.381308</td>\n",
       "    </tr>\n",
       "  </tbody>\n",
       "</table>\n",
       "</div>"
      ],
      "text/plain": [
       "              Coverage@10  HitRate@1  HitRate@5  HitRate@10    MAP@10  \\\n",
       "Implicit ALS     0.146820   0.303775   0.569798    0.673398  0.159213   \n",
       "ItemKNN          0.102550   0.290606   0.560140    0.650571  0.153558   \n",
       "Popular          0.033903   0.284460   0.530290    0.645303  0.154974   \n",
       "SLIM             0.149902   0.298507   0.569798    0.668130  0.141215   \n",
       "Word2Vec         0.154385   0.149254   0.373134    0.497805  0.070983   \n",
       "Wilson           0.017092   0.083406   0.345040    0.414399  0.044559   \n",
       "Explicit ALS     0.647520   0.021949   0.105356    0.185250  0.008686   \n",
       "UCB              0.003082   0.000000   0.000878    0.004390  0.000124   \n",
       "\n",
       "                MRR@10   NDCG@10  Surprisal@10   fit_time  predict_time  \\\n",
       "Implicit ALS  0.414710  0.255267      0.170222   5.992281     10.102373   \n",
       "ItemKNN       0.404074  0.246561      0.164692  15.382270      5.200289   \n",
       "Popular       0.390426  0.243711      0.118354   2.771596      7.553012   \n",
       "SLIM          0.414076  0.239433      0.176244  11.879303      6.435116   \n",
       "Word2Vec      0.248830  0.136959      0.248018   5.748302     24.746803   \n",
       "Wilson        0.180976  0.092121      0.262190   3.357698      6.800533   \n",
       "Explicit ALS  0.060914  0.025198      0.542221   3.897796     10.276418   \n",
       "UCB           0.001024  0.000458      1.000000   4.144925      6.822952   \n",
       "\n",
       "              metric_time  full_time  \n",
       "Implicit ALS     7.517069  23.611723  \n",
       "ItemKNN          5.751915  26.334474  \n",
       "Popular          7.935623  18.260231  \n",
       "SLIM             5.657565  23.971984  \n",
       "Word2Vec         6.224006  36.719110  \n",
       "Wilson           5.391702  15.549933  \n",
       "Explicit ALS     5.965547  20.139761  \n",
       "UCB              6.413431  17.381308  "
      ]
     },
     "execution_count": 33,
     "metadata": {},
     "output_type": "execute_result"
    }
   ],
   "source": [
    "new_metrics"
   ]
  },
  {
   "cell_type": "code",
   "execution_count": null,
   "metadata": {},
   "outputs": [],
   "source": [
    "import pandas as pd\n",
    "\n",
    "old_metrics = (\n",
    "    pd.read_csv('res_22_rel_1_master.csv', index_col=\"Unnamed: 0\")\n",
    "    .drop(index=\"ADMM SLIM\")\n",
    "    .sort_values('NDCG@10', ascending=False)\n",
    "    [[\"Coverage@10\", \"HitRate@1\", \"HitRate@5\", \"HitRate@10\", \"MAP@10\", \"MRR@10\", \"NDCG@10\", \"Surprisal@10\", \"fit_time\", \"predict_time\", \"metric_time\", \"full_time\"]]\n",
    ")"
   ]
  },
  {
   "cell_type": "code",
   "execution_count": null,
   "metadata": {},
   "outputs": [],
   "source": [
    "(new_metrics - old_metrics).round(decimals=4)"
   ]
  },
  {
   "cell_type": "code",
   "execution_count": null,
   "metadata": {},
   "outputs": [],
   "source": [
    "(100 * (new_metrics - old_metrics) / old_metrics).round(decimals=4)"
   ]
  },
  {
   "cell_type": "code",
   "execution_count": 34,
   "metadata": {},
   "outputs": [],
   "source": [
    "e.results.to_csv('res_22_rel_1_new.csv')"
   ]
  },
  {
   "cell_type": "markdown",
   "metadata": {},
   "source": [
    "# 3. Results"
   ]
  },
  {
   "cell_type": "markdown",
   "metadata": {},
   "source": [
    "The best results by quality and time were shown by the commonly-used models such as ALS, ItemKNN, SLIM an Popular"
   ]
  },
  {
   "cell_type": "code",
   "execution_count": 35,
   "metadata": {},
   "outputs": [
    {
     "data": {
      "text/html": [
       "<div>\n",
       "<style scoped>\n",
       "    .dataframe tbody tr th:only-of-type {\n",
       "        vertical-align: middle;\n",
       "    }\n",
       "\n",
       "    .dataframe tbody tr th {\n",
       "        vertical-align: top;\n",
       "    }\n",
       "\n",
       "    .dataframe thead th {\n",
       "        text-align: right;\n",
       "    }\n",
       "</style>\n",
       "<table border=\"1\" class=\"dataframe\">\n",
       "  <thead>\n",
       "    <tr style=\"text-align: right;\">\n",
       "      <th></th>\n",
       "      <th>Coverage@10</th>\n",
       "      <th>HitRate@1</th>\n",
       "      <th>HitRate@5</th>\n",
       "      <th>HitRate@10</th>\n",
       "      <th>MAP@10</th>\n",
       "      <th>MRR@10</th>\n",
       "      <th>NDCG@10</th>\n",
       "      <th>Surprisal@10</th>\n",
       "      <th>fit_time</th>\n",
       "      <th>predict_time</th>\n",
       "      <th>metric_time</th>\n",
       "      <th>full_time</th>\n",
       "      <th>params</th>\n",
       "    </tr>\n",
       "  </thead>\n",
       "  <tbody>\n",
       "    <tr>\n",
       "      <th>Implicit ALS</th>\n",
       "      <td>0.146820</td>\n",
       "      <td>0.303775</td>\n",
       "      <td>0.569798</td>\n",
       "      <td>0.673398</td>\n",
       "      <td>0.159213</td>\n",
       "      <td>0.414710</td>\n",
       "      <td>0.255267</td>\n",
       "      <td>0.170222</td>\n",
       "      <td>5.992281</td>\n",
       "      <td>10.102373</td>\n",
       "      <td>7.517069</td>\n",
       "      <td>23.611723</td>\n",
       "      <td>{'rank': 10, 'implicit_prefs': True, 'seed': 42}</td>\n",
       "    </tr>\n",
       "    <tr>\n",
       "      <th>ItemKNN</th>\n",
       "      <td>0.102550</td>\n",
       "      <td>0.290606</td>\n",
       "      <td>0.560140</td>\n",
       "      <td>0.650571</td>\n",
       "      <td>0.153558</td>\n",
       "      <td>0.404074</td>\n",
       "      <td>0.246561</td>\n",
       "      <td>0.164692</td>\n",
       "      <td>15.382270</td>\n",
       "      <td>5.200289</td>\n",
       "      <td>5.751915</td>\n",
       "      <td>26.334474</td>\n",
       "      <td>{'shrink': 0.0, 'use_rating': False, 'num_neig...</td>\n",
       "    </tr>\n",
       "    <tr>\n",
       "      <th>Popular</th>\n",
       "      <td>0.033903</td>\n",
       "      <td>0.284460</td>\n",
       "      <td>0.530290</td>\n",
       "      <td>0.645303</td>\n",
       "      <td>0.154974</td>\n",
       "      <td>0.390426</td>\n",
       "      <td>0.243711</td>\n",
       "      <td>0.118354</td>\n",
       "      <td>2.771596</td>\n",
       "      <td>7.553012</td>\n",
       "      <td>7.935623</td>\n",
       "      <td>18.260231</td>\n",
       "      <td>{'use_rating': False, 'add_cold_items': True, ...</td>\n",
       "    </tr>\n",
       "    <tr>\n",
       "      <th>SLIM</th>\n",
       "      <td>0.149902</td>\n",
       "      <td>0.298507</td>\n",
       "      <td>0.569798</td>\n",
       "      <td>0.668130</td>\n",
       "      <td>0.141215</td>\n",
       "      <td>0.414076</td>\n",
       "      <td>0.239433</td>\n",
       "      <td>0.176244</td>\n",
       "      <td>11.879303</td>\n",
       "      <td>6.435116</td>\n",
       "      <td>5.657565</td>\n",
       "      <td>23.971984</td>\n",
       "      <td>{'beta': 0.01, 'lambda_': 0.01, 'seed': 42, 'i...</td>\n",
       "    </tr>\n",
       "    <tr>\n",
       "      <th>Word2Vec</th>\n",
       "      <td>0.154385</td>\n",
       "      <td>0.149254</td>\n",
       "      <td>0.373134</td>\n",
       "      <td>0.497805</td>\n",
       "      <td>0.070983</td>\n",
       "      <td>0.248830</td>\n",
       "      <td>0.136959</td>\n",
       "      <td>0.248018</td>\n",
       "      <td>5.748302</td>\n",
       "      <td>24.746803</td>\n",
       "      <td>6.224006</td>\n",
       "      <td>36.719110</td>\n",
       "      <td>{'rank': 100, 'window_size': 1, 'use_idf': Fal...</td>\n",
       "    </tr>\n",
       "  </tbody>\n",
       "</table>\n",
       "</div>"
      ],
      "text/plain": [
       "              Coverage@10  HitRate@1  HitRate@5  HitRate@10    MAP@10  \\\n",
       "Implicit ALS     0.146820   0.303775   0.569798    0.673398  0.159213   \n",
       "ItemKNN          0.102550   0.290606   0.560140    0.650571  0.153558   \n",
       "Popular          0.033903   0.284460   0.530290    0.645303  0.154974   \n",
       "SLIM             0.149902   0.298507   0.569798    0.668130  0.141215   \n",
       "Word2Vec         0.154385   0.149254   0.373134    0.497805  0.070983   \n",
       "\n",
       "                MRR@10   NDCG@10  Surprisal@10   fit_time  predict_time  \\\n",
       "Implicit ALS  0.414710  0.255267      0.170222   5.992281     10.102373   \n",
       "ItemKNN       0.404074  0.246561      0.164692  15.382270      5.200289   \n",
       "Popular       0.390426  0.243711      0.118354   2.771596      7.553012   \n",
       "SLIM          0.414076  0.239433      0.176244  11.879303      6.435116   \n",
       "Word2Vec      0.248830  0.136959      0.248018   5.748302     24.746803   \n",
       "\n",
       "              metric_time  full_time  \\\n",
       "Implicit ALS     7.517069  23.611723   \n",
       "ItemKNN          5.751915  26.334474   \n",
       "Popular          7.935623  18.260231   \n",
       "SLIM             5.657565  23.971984   \n",
       "Word2Vec         6.224006  36.719110   \n",
       "\n",
       "                                                         params  \n",
       "Implicit ALS   {'rank': 10, 'implicit_prefs': True, 'seed': 42}  \n",
       "ItemKNN       {'shrink': 0.0, 'use_rating': False, 'num_neig...  \n",
       "Popular       {'use_rating': False, 'add_cold_items': True, ...  \n",
       "SLIM          {'beta': 0.01, 'lambda_': 0.01, 'seed': 42, 'i...  \n",
       "Word2Vec      {'rank': 100, 'window_size': 1, 'use_idf': Fal...  "
      ]
     },
     "execution_count": 35,
     "metadata": {},
     "output_type": "execute_result"
    }
   ],
   "source": [
    "e.results.sort_values('NDCG@10', ascending=False).head(5)"
   ]
<<<<<<< HEAD
  },
  {
   "cell_type": "code",
   "execution_count": null,
   "metadata": {},
   "outputs": [],
   "source": []
=======
>>>>>>> init
  }
 ],
 "metadata": {
  "kernelspec": {
<<<<<<< HEAD
   "display_name": "Python 3 (ipykernel)",
=======
   "display_name": "prp39",
>>>>>>> init
   "language": "python",
   "name": "python3"
  },
  "language_info": {
   "codemirror_mode": {
    "name": "ipython",
    "version": 3
   },
   "file_extension": ".py",
   "mimetype": "text/x-python",
   "name": "python",
   "nbconvert_exporter": "python",
   "pygments_lexer": "ipython3",
   "version": "3.9.12"
  },
  "name": "movielens_nmf.ipynb",
  "pycharm": {
   "stem_cell": {
    "cell_type": "raw",
    "metadata": {
     "collapsed": false
    },
    "source": [
     "null"
    ]
   }
<<<<<<< HEAD
=======
  },
  "vscode": {
   "interpreter": {
    "hash": "713b4a7a84336d70e6f361abbe54ce3b99ecbe14c570ade64085c894d1948e74"
   }
>>>>>>> init
  }
 },
 "nbformat": 4,
 "nbformat_minor": 4
}
