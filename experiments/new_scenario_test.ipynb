{
 "cells": [
  {
   "cell_type": "markdown",
   "metadata": {
    "ein.tags": "worksheet-0",
    "slideshow": {
     "slide_type": "-"
    }
   },
   "source": [
    "## Загрузка данных <a name=\"data-loader\"></a>"
   ]
  },
  {
   "cell_type": "code",
   "execution_count": 1,
   "metadata": {},
   "outputs": [],
   "source": [
    "import numpy as np"
   ]
  },
  {
   "cell_type": "code",
   "execution_count": 2,
   "metadata": {},
   "outputs": [
    {
     "name": "stdout",
     "output_type": "stream",
     "text": [
      "Requirement already satisfied: rs_datasets in /mnt2/volodkevich/replay_tasks/replay/venv376/lib/python3.7/site-packages (0.2.1)\n",
      "Requirement already satisfied: gdown in /mnt2/volodkevich/replay_tasks/replay/venv376/lib/python3.7/site-packages (from rs_datasets) (3.12.2)\n",
      "Requirement already satisfied: pandas in /mnt2/volodkevich/replay_tasks/replay/venv376/lib/python3.7/site-packages (from rs_datasets) (1.0.5)\n",
      "Requirement already satisfied: xlrd in /mnt2/volodkevich/replay_tasks/replay/venv376/lib/python3.7/site-packages (from rs_datasets) (1.2.0)\n",
      "Requirement already satisfied: tqdm in /mnt2/volodkevich/replay_tasks/replay/venv376/lib/python3.7/site-packages (from rs_datasets) (4.50.2)\n",
      "Requirement already satisfied: pyarrow in /mnt2/volodkevich/replay_tasks/replay/venv376/lib/python3.7/site-packages (from rs_datasets) (0.17.1)\n",
      "Requirement already satisfied: datatable in /mnt2/volodkevich/replay_tasks/replay/venv376/lib/python3.7/site-packages (from rs_datasets) (0.11.0)\n",
      "Requirement already satisfied: six in /mnt2/volodkevich/replay_tasks/replay/venv376/lib/python3.7/site-packages (from gdown->rs_datasets) (1.15.0)\n",
      "Requirement already satisfied: requests[socks] in /mnt2/volodkevich/replay_tasks/replay/venv376/lib/python3.7/site-packages (from gdown->rs_datasets) (2.24.0)\n",
      "Requirement already satisfied: filelock in /mnt2/volodkevich/replay_tasks/replay/venv376/lib/python3.7/site-packages (from gdown->rs_datasets) (3.0.12)\n",
      "Requirement already satisfied: numpy>=1.13.3 in /mnt2/volodkevich/replay_tasks/replay/venv376/lib/python3.7/site-packages (from pandas->rs_datasets) (1.19.2)\n",
      "Requirement already satisfied: python-dateutil>=2.6.1 in /mnt2/volodkevich/replay_tasks/replay/venv376/lib/python3.7/site-packages (from pandas->rs_datasets) (2.8.1)\n",
      "Requirement already satisfied: pytz>=2017.2 in /mnt2/volodkevich/replay_tasks/replay/venv376/lib/python3.7/site-packages (from pandas->rs_datasets) (2020.1)\n",
      "Requirement already satisfied: certifi>=2017.4.17 in /mnt2/volodkevich/replay_tasks/replay/venv376/lib/python3.7/site-packages (from requests[socks]->gdown->rs_datasets) (2020.6.20)\n",
      "Requirement already satisfied: idna<3,>=2.5 in /mnt2/volodkevich/replay_tasks/replay/venv376/lib/python3.7/site-packages (from requests[socks]->gdown->rs_datasets) (2.10)\n",
      "Requirement already satisfied: urllib3!=1.25.0,!=1.25.1,<1.26,>=1.21.1 in /mnt2/volodkevich/replay_tasks/replay/venv376/lib/python3.7/site-packages (from requests[socks]->gdown->rs_datasets) (1.25.11)\n",
      "Requirement already satisfied: chardet<4,>=3.0.2 in /mnt2/volodkevich/replay_tasks/replay/venv376/lib/python3.7/site-packages (from requests[socks]->gdown->rs_datasets) (3.0.4)\n",
      "Requirement already satisfied: PySocks!=1.5.7,>=1.5.6; extra == \"socks\" in /mnt2/volodkevich/replay_tasks/replay/venv376/lib/python3.7/site-packages (from requests[socks]->gdown->rs_datasets) (1.7.1)\n",
      "\u001b[33mWARNING: You are using pip version 19.2.3, however version 20.2.4 is available.\n",
      "You should consider upgrading via the 'pip install --upgrade pip' command.\u001b[0m\n"
     ]
    }
   ],
   "source": [
    "# используем пакет https://pypi.org/project/rs-datasets/\n",
    "!pip install rs_datasets"
   ]
  },
  {
   "cell_type": "code",
   "execution_count": 3,
   "metadata": {
    "autoscroll": false,
    "ein.hycell": false,
    "ein.tags": "worksheet-0",
    "pycharm": {
     "name": "#%%\n"
    },
    "scrolled": true,
    "slideshow": {
     "slide_type": "-"
    }
   },
   "outputs": [
    {
     "data": {
      "text/html": [
       "<style type='text/css'>\n",
       ".datatable table.frame { margin-bottom: 0; }\n",
       ".datatable table.frame thead { border-bottom: none; }\n",
       ".datatable table.frame tr.coltypes td {  color: #FFFFFF;  line-height: 6px;  padding: 0 0.5em;}\n",
       ".datatable .bool    { background: #DDDD99; }\n",
       ".datatable .object  { background: #565656; }\n",
       ".datatable .int     { background: #5D9E5D; }\n",
       ".datatable .float   { background: #4040CC; }\n",
       ".datatable .str     { background: #CC4040; }\n",
       ".datatable .row_index {  background: var(--jp-border-color3);  border-right: 1px solid var(--jp-border-color0);  color: var(--jp-ui-font-color3);  font-size: 9px;}\n",
       ".datatable .frame tr.coltypes .row_index {  background: var(--jp-border-color0);}\n",
       ".datatable th:nth-child(2) { padding-left: 12px; }\n",
       ".datatable .hellipsis {  color: var(--jp-cell-editor-border-color);}\n",
       ".datatable .vellipsis {  background: var(--jp-layout-color0);  color: var(--jp-cell-editor-border-color);}\n",
       ".datatable .na {  color: var(--jp-cell-editor-border-color);  font-size: 80%;}\n",
       ".datatable .footer { font-size: 9px; }\n",
       ".datatable .frame_dimensions {  background: var(--jp-border-color3);  border-top: 1px solid var(--jp-border-color0);  color: var(--jp-ui-font-color3);  display: inline-block;  opacity: 0.6;  padding: 1px 10px 1px 5px;}\n",
       "</style>\n"
      ],
      "text/plain": [
       "<IPython.core.display.HTML object>"
      ]
     },
     "metadata": {},
     "output_type": "display_data"
    },
    {
     "name": "stdout",
     "output_type": "stream",
     "text": [
      "ratings\n"
     ]
    },
    {
     "data": {
      "text/html": [
       "<div>\n",
       "<style scoped>\n",
       "    .dataframe tbody tr th:only-of-type {\n",
       "        vertical-align: middle;\n",
       "    }\n",
       "\n",
       "    .dataframe tbody tr th {\n",
       "        vertical-align: top;\n",
       "    }\n",
       "\n",
       "    .dataframe thead th {\n",
       "        text-align: right;\n",
       "    }\n",
       "</style>\n",
       "<table border=\"1\" class=\"dataframe\">\n",
       "  <thead>\n",
       "    <tr style=\"text-align: right;\">\n",
       "      <th></th>\n",
       "      <th>user_id</th>\n",
       "      <th>item_id</th>\n",
       "      <th>rating</th>\n",
       "      <th>timestamp</th>\n",
       "    </tr>\n",
       "  </thead>\n",
       "  <tbody>\n",
       "    <tr>\n",
       "      <th>0</th>\n",
       "      <td>196</td>\n",
       "      <td>242</td>\n",
       "      <td>3</td>\n",
       "      <td>881250949</td>\n",
       "    </tr>\n",
       "    <tr>\n",
       "      <th>1</th>\n",
       "      <td>186</td>\n",
       "      <td>302</td>\n",
       "      <td>3</td>\n",
       "      <td>891717742</td>\n",
       "    </tr>\n",
       "    <tr>\n",
       "      <th>2</th>\n",
       "      <td>22</td>\n",
       "      <td>377</td>\n",
       "      <td>1</td>\n",
       "      <td>878887116</td>\n",
       "    </tr>\n",
       "  </tbody>\n",
       "</table>\n",
       "</div>"
      ],
      "text/plain": [
       "   user_id  item_id  rating  timestamp\n",
       "0      196      242       3  881250949\n",
       "1      186      302       3  891717742\n",
       "2       22      377       1  878887116"
      ]
     },
     "metadata": {},
     "output_type": "display_data"
    },
    {
     "name": "stdout",
     "output_type": "stream",
     "text": [
      "\n",
      "users\n"
     ]
    },
    {
     "data": {
      "text/html": [
       "<div>\n",
       "<style scoped>\n",
       "    .dataframe tbody tr th:only-of-type {\n",
       "        vertical-align: middle;\n",
       "    }\n",
       "\n",
       "    .dataframe tbody tr th {\n",
       "        vertical-align: top;\n",
       "    }\n",
       "\n",
       "    .dataframe thead th {\n",
       "        text-align: right;\n",
       "    }\n",
       "</style>\n",
       "<table border=\"1\" class=\"dataframe\">\n",
       "  <thead>\n",
       "    <tr style=\"text-align: right;\">\n",
       "      <th></th>\n",
       "      <th>user_id</th>\n",
       "      <th>gender</th>\n",
       "      <th>age</th>\n",
       "      <th>occupation</th>\n",
       "      <th>zip_code</th>\n",
       "    </tr>\n",
       "  </thead>\n",
       "  <tbody>\n",
       "    <tr>\n",
       "      <th>0</th>\n",
       "      <td>1</td>\n",
       "      <td>24</td>\n",
       "      <td>M</td>\n",
       "      <td>technician</td>\n",
       "      <td>85711</td>\n",
       "    </tr>\n",
       "    <tr>\n",
       "      <th>1</th>\n",
       "      <td>2</td>\n",
       "      <td>53</td>\n",
       "      <td>F</td>\n",
       "      <td>other</td>\n",
       "      <td>94043</td>\n",
       "    </tr>\n",
       "    <tr>\n",
       "      <th>2</th>\n",
       "      <td>3</td>\n",
       "      <td>23</td>\n",
       "      <td>M</td>\n",
       "      <td>writer</td>\n",
       "      <td>32067</td>\n",
       "    </tr>\n",
       "  </tbody>\n",
       "</table>\n",
       "</div>"
      ],
      "text/plain": [
       "   user_id  gender age  occupation zip_code\n",
       "0        1      24   M  technician    85711\n",
       "1        2      53   F       other    94043\n",
       "2        3      23   M      writer    32067"
      ]
     },
     "metadata": {},
     "output_type": "display_data"
    },
    {
     "name": "stdout",
     "output_type": "stream",
     "text": [
      "\n",
      "items\n"
     ]
    },
    {
     "data": {
      "text/html": [
       "<div>\n",
       "<style scoped>\n",
       "    .dataframe tbody tr th:only-of-type {\n",
       "        vertical-align: middle;\n",
       "    }\n",
       "\n",
       "    .dataframe tbody tr th {\n",
       "        vertical-align: top;\n",
       "    }\n",
       "\n",
       "    .dataframe thead th {\n",
       "        text-align: right;\n",
       "    }\n",
       "</style>\n",
       "<table border=\"1\" class=\"dataframe\">\n",
       "  <thead>\n",
       "    <tr style=\"text-align: right;\">\n",
       "      <th></th>\n",
       "      <th>item_id</th>\n",
       "      <th>title</th>\n",
       "      <th>release_date</th>\n",
       "      <th>imdb_url</th>\n",
       "      <th>unknown</th>\n",
       "      <th>Action</th>\n",
       "      <th>Adventure</th>\n",
       "      <th>Animation</th>\n",
       "      <th>Children's</th>\n",
       "      <th>Comedy</th>\n",
       "      <th>...</th>\n",
       "      <th>Fantasy</th>\n",
       "      <th>Film-Noir</th>\n",
       "      <th>Horror</th>\n",
       "      <th>Musical</th>\n",
       "      <th>Mystery</th>\n",
       "      <th>Romance</th>\n",
       "      <th>Sci-Fi</th>\n",
       "      <th>Thriller</th>\n",
       "      <th>War</th>\n",
       "      <th>Western</th>\n",
       "    </tr>\n",
       "  </thead>\n",
       "  <tbody>\n",
       "    <tr>\n",
       "      <th>0</th>\n",
       "      <td>1</td>\n",
       "      <td>Toy Story (1995)</td>\n",
       "      <td>01-Jan-1995</td>\n",
       "      <td>http://us.imdb.com/M/title-exact?Toy%20Story%2...</td>\n",
       "      <td>False</td>\n",
       "      <td>False</td>\n",
       "      <td>False</td>\n",
       "      <td>True</td>\n",
       "      <td>True</td>\n",
       "      <td>True</td>\n",
       "      <td>...</td>\n",
       "      <td>False</td>\n",
       "      <td>False</td>\n",
       "      <td>False</td>\n",
       "      <td>False</td>\n",
       "      <td>False</td>\n",
       "      <td>False</td>\n",
       "      <td>False</td>\n",
       "      <td>False</td>\n",
       "      <td>False</td>\n",
       "      <td>False</td>\n",
       "    </tr>\n",
       "    <tr>\n",
       "      <th>1</th>\n",
       "      <td>2</td>\n",
       "      <td>GoldenEye (1995)</td>\n",
       "      <td>01-Jan-1995</td>\n",
       "      <td>http://us.imdb.com/M/title-exact?GoldenEye%20(...</td>\n",
       "      <td>False</td>\n",
       "      <td>True</td>\n",
       "      <td>True</td>\n",
       "      <td>False</td>\n",
       "      <td>False</td>\n",
       "      <td>False</td>\n",
       "      <td>...</td>\n",
       "      <td>False</td>\n",
       "      <td>False</td>\n",
       "      <td>False</td>\n",
       "      <td>False</td>\n",
       "      <td>False</td>\n",
       "      <td>False</td>\n",
       "      <td>False</td>\n",
       "      <td>True</td>\n",
       "      <td>False</td>\n",
       "      <td>False</td>\n",
       "    </tr>\n",
       "    <tr>\n",
       "      <th>2</th>\n",
       "      <td>3</td>\n",
       "      <td>Four Rooms (1995)</td>\n",
       "      <td>01-Jan-1995</td>\n",
       "      <td>http://us.imdb.com/M/title-exact?Four%20Rooms%...</td>\n",
       "      <td>False</td>\n",
       "      <td>False</td>\n",
       "      <td>False</td>\n",
       "      <td>False</td>\n",
       "      <td>False</td>\n",
       "      <td>False</td>\n",
       "      <td>...</td>\n",
       "      <td>False</td>\n",
       "      <td>False</td>\n",
       "      <td>False</td>\n",
       "      <td>False</td>\n",
       "      <td>False</td>\n",
       "      <td>False</td>\n",
       "      <td>False</td>\n",
       "      <td>True</td>\n",
       "      <td>False</td>\n",
       "      <td>False</td>\n",
       "    </tr>\n",
       "  </tbody>\n",
       "</table>\n",
       "<p>3 rows × 23 columns</p>\n",
       "</div>"
      ],
      "text/plain": [
       "   item_id              title release_date  \\\n",
       "0        1   Toy Story (1995)  01-Jan-1995   \n",
       "1        2   GoldenEye (1995)  01-Jan-1995   \n",
       "2        3  Four Rooms (1995)  01-Jan-1995   \n",
       "\n",
       "                                            imdb_url  unknown  Action  \\\n",
       "0  http://us.imdb.com/M/title-exact?Toy%20Story%2...    False   False   \n",
       "1  http://us.imdb.com/M/title-exact?GoldenEye%20(...    False    True   \n",
       "2  http://us.imdb.com/M/title-exact?Four%20Rooms%...    False   False   \n",
       "\n",
       "   Adventure  Animation  Children's  Comedy  ...  Fantasy  Film-Noir  Horror  \\\n",
       "0      False       True        True    True  ...    False      False   False   \n",
       "1       True      False       False   False  ...    False      False   False   \n",
       "2      False      False       False   False  ...    False      False   False   \n",
       "\n",
       "   Musical  Mystery  Romance  Sci-Fi  Thriller    War  Western  \n",
       "0    False    False    False   False     False  False    False  \n",
       "1    False    False    False   False      True  False    False  \n",
       "2    False    False    False   False      True  False    False  \n",
       "\n",
       "[3 rows x 23 columns]"
      ]
     },
     "metadata": {},
     "output_type": "display_data"
    },
    {
     "name": "stdout",
     "output_type": "stream",
     "text": [
      "\n"
     ]
    }
   ],
   "source": [
    "from rs_datasets import MovieLens\n",
    "\n",
    "data = MovieLens(\"100k\")\n",
    "data.info()"
   ]
  },
  {
   "cell_type": "code",
   "execution_count": 4,
   "metadata": {},
   "outputs": [],
   "source": [
    "users_count_from_log = data.ratings['user_id'].unique().shape \n",
    "items_count_from_log = data.ratings['item_id'].unique().shape"
   ]
  },
  {
   "cell_type": "code",
   "execution_count": 5,
   "metadata": {},
   "outputs": [],
   "source": [
    "# загрузим данные в Spark\n",
    "\n",
    "from replay.data_preparator import DataPreparator\n",
    "\n",
    "log = DataPreparator().transform(\n",
    "    data=data.ratings,\n",
    "    columns_names={\n",
    "        \"user_id\": \"user_id\",\n",
    "        \"item_id\": \"item_id\",\n",
    "        \"timestamp\": \"timestamp\",\n",
    "        \"relevance\": \"rating\"\n",
    "    }\n",
    ").cache()"
   ]
  },
  {
   "cell_type": "markdown",
   "metadata": {
    "ein.tags": "worksheet-0",
    "slideshow": {
     "slide_type": "-"
    }
   },
   "source": [
    "## Сценарий с разными моделями"
   ]
  },
  {
   "cell_type": "code",
   "execution_count": 6,
   "metadata": {},
   "outputs": [],
   "source": [
    "import numpy as np\n",
    "import replay"
   ]
  },
  {
   "cell_type": "code",
   "execution_count": 7,
   "metadata": {},
   "outputs": [
    {
     "data": {
      "text/plain": [
       "<module 'replay' from '/mnt2/volodkevich/replay_tasks/replay/replay/__init__.py'>"
      ]
     },
     "execution_count": 7,
     "metadata": {},
     "output_type": "execute_result"
    }
   ],
   "source": [
    "# import importlib\n",
    "# importlib.reload(replay)"
   ]
  },
  {
   "cell_type": "markdown",
   "metadata": {},
   "source": [
    "## Пример с KNN"
   ]
  },
  {
   "cell_type": "code",
   "execution_count": 8,
   "metadata": {
    "autoscroll": false,
    "ein.hycell": false,
    "ein.tags": "worksheet-0",
    "pycharm": {
     "name": "#%%\n"
    },
    "slideshow": {
     "slide_type": "-"
    }
   },
   "outputs": [],
   "source": [
    "from replay.models import *\n",
    "\n",
    "MODELS = {'knn_': KNN(), \n",
    "         'slim_': SLIM(),\n",
    "         'random_rec_': RandomRec()}\n",
    "\n",
    "PARAM_GRID = {'knn_':\n",
    "              {\n",
    "                  'num_neighbours': [3, 100],\n",
    "                  'shrink': []\n",
    "              },\n",
    "              'slim_':\n",
    "              {\n",
    "                  'beta': [2**(-8), 2], \n",
    "                  'lambda_': [2**(-8), 2]\n",
    "              },\n",
    "              'random_rec_':\n",
    "              {\n",
    "                  'distribution': ['popular_based', 'uniform']\n",
    "              }\n",
    "             }"
   ]
  },
  {
   "cell_type": "markdown",
   "metadata": {},
   "source": [
    "##  Схема валидации"
   ]
  },
  {
   "cell_type": "code",
   "execution_count": 9,
   "metadata": {
    "autoscroll": false,
    "ein.hycell": false,
    "ein.tags": "worksheet-0",
    "pycharm": {
     "name": "#%%\n"
    },
    "slideshow": {
     "slide_type": "-"
    }
   },
   "outputs": [],
   "source": [
    "from replay.splitters import UserSplitter\n",
    "\n",
    "user_random_splitter = UserSplitter(\n",
    "    item_test_size=1,\n",
    "    user_test_size=0.2,\n",
    "    drop_cold_items=True,\n",
    "    drop_cold_users=True,\n",
    "    shuffle=True,\n",
    "    seed=1234\n",
    ")"
   ]
  },
  {
   "cell_type": "markdown",
   "metadata": {
    "ein.tags": "worksheet-0",
    "slideshow": {
     "slide_type": "-"
    }
   },
   "source": [
    "## Обучение сценария <a name=\"fit-scenario\"></a>"
   ]
  },
  {
   "cell_type": "code",
   "execution_count": 12,
   "metadata": {},
   "outputs": [],
   "source": [
    "from replay.scenarios import MainScenario\n",
    "from replay.metrics import NDCG, HitRate"
   ]
  },
  {
   "cell_type": "markdown",
   "metadata": {},
   "source": [
    "### KNN"
   ]
  },
  {
   "cell_type": "code",
   "execution_count": 13,
   "metadata": {},
   "outputs": [
    {
     "data": {
      "text/plain": [
       "{'num_neighbours': {'type': 'int', 'args': [5, 100]},\n",
       " 'shrink': {'type': 'int', 'args': [0, 50]}}"
      ]
     },
     "execution_count": 13,
     "metadata": {},
     "output_type": "execute_result"
    }
   ],
   "source": [
    "KNN._search_space['shrink']['type'] = 'int'\n",
    "KNN._search_space['shrink']['args'] = [0, 50]\n",
    "KNN._search_space"
   ]
  },
  {
   "cell_type": "code",
   "execution_count": 15,
   "metadata": {},
   "outputs": [],
   "source": [
    "k = 10\n",
    "k_for_metrics = [10, 5, 1] \n",
    "budget = 20\n",
    "metrics={\n",
    "        NDCG: k_for_metrics,\n",
    "        HitRate: k_for_metrics\n",
    "}"
   ]
  },
  {
   "cell_type": "code",
   "execution_count": 16,
   "metadata": {
    "autoscroll": false,
    "ein.hycell": false,
    "ein.tags": "worksheet-0",
    "pycharm": {
     "name": "#%%\n"
    },
    "slideshow": {
     "slide_type": "-"
    }
   },
   "outputs": [],
   "source": [
    "scenario = MainScenario(\n",
    "    splitter=user_random_splitter,\n",
    "    recommender=MODELS['knn_'],\n",
    "    criterion=NDCG,\n",
    "    metrics=metrics\n",
    ")"
   ]
  },
  {
   "cell_type": "code",
   "execution_count": 17,
   "metadata": {
    "autoscroll": false,
    "ein.hycell": false,
    "ein.tags": "worksheet-0",
    "pycharm": {
     "name": "#%%\n"
    },
    "scrolled": true,
    "slideshow": {
     "slide_type": "-"
    }
   },
   "outputs": [
    {
     "name": "stderr",
     "output_type": "stream",
     "text": [
      "11-Nov-20 16:55:29, replay, DEBUG: Деление лога на обучающую и тестовую выборку\n",
      "11-Nov-20 16:55:40, replay, DEBUG: Длина трейна и теста: 99812 187\n",
      "11-Nov-20 16:55:42, replay, DEBUG: Количество пользователей в трейне и тесте: 943, 187\n",
      "11-Nov-20 16:55:43, replay, DEBUG: Количество объектов в трейне и тесте: 1681, 154\n",
      "11-Nov-20 16:55:44, replay, DEBUG: Инициализация метрик\n",
      "11-Nov-20 16:55:44, replay, DEBUG: Обучение и предсказание дополнительной модели\n",
      "11-Nov-20 16:55:44, replay, DEBUG: Начало обучения PopRec\n",
      "11-Nov-20 16:55:44, replay, DEBUG: Предварительная стадия обучения (pre-fit)\n",
      "11-Nov-20 16:55:46, replay, DEBUG: Основная стадия обучения (fit)\n",
      "11-Nov-20 16:55:48, replay, DEBUG: Начало предикта PopRec\n",
      "/mnt2/volodkevich/replay_tasks/replay/venv376/lib/python3.7/site-packages/pyspark/sql/pandas/group_ops.py:76: UserWarning: It is preferred to use 'applyInPandas' over this API. This API will be deprecated in the future releases. See SPARK-28264 for more details.\n",
      "  \"more details.\", UserWarning)\n",
      "11-Nov-20 16:55:54, replay, DEBUG: Оптимизация параметров\n",
      "11-Nov-20 16:55:54, replay, DEBUG: Количество попыток: 20\n",
      "11-Nov-20 16:55:54, replay, DEBUG: -- Второй фит модели в оптимизации\n",
      "11-Nov-20 16:55:54, replay, DEBUG: Начало обучения KNN\n",
      "11-Nov-20 16:55:54, replay, DEBUG: Предварительная стадия обучения (pre-fit)\n",
      "11-Nov-20 16:55:55, replay, DEBUG: Основная стадия обучения (fit)\n",
      "11-Nov-20 16:55:57, replay, DEBUG: -- Предикт модели в оптимизации\n",
      "11-Nov-20 16:55:57, replay, DEBUG: Начало предикта KNN\n",
      "11-Nov-20 16:56:05, replay, DEBUG: -- Подсчет метрики в оптимизации\n"
     ]
    },
    {
     "name": "stdout",
     "output_type": "stream",
     "text": [
      "{10: 0.10019754834638137}\n"
     ]
    },
    {
     "name": "stderr",
     "output_type": "stream",
     "text": [
      "11-Nov-20 16:56:44, replay, DEBUG: NDCG=0.10\n",
      "\u001b[32m[I 2020-11-11 16:56:44,830]\u001b[0m Finished trial#0 resulted in value: 0.10019754834638137. Current best value is 0.10019754834638137 with parameters: {'num_neighbours': 82, 'shrink': 40}.\u001b[0m\n",
      "11-Nov-20 16:56:44, replay, DEBUG: -- Второй фит модели в оптимизации\n",
      "11-Nov-20 16:56:44, replay, DEBUG: Начало обучения KNN\n",
      "11-Nov-20 16:56:44, replay, DEBUG: Основная стадия обучения (fit)\n",
      "11-Nov-20 16:56:46, replay, DEBUG: -- Предикт модели в оптимизации\n",
      "11-Nov-20 16:56:46, replay, DEBUG: Начало предикта KNN\n",
      "11-Nov-20 16:56:51, replay, DEBUG: -- Подсчет метрики в оптимизации\n"
     ]
    },
    {
     "name": "stdout",
     "output_type": "stream",
     "text": [
      "{10: 0.11867968544793812}\n"
     ]
    },
    {
     "name": "stderr",
     "output_type": "stream",
     "text": [
      "11-Nov-20 16:57:22, replay, DEBUG: NDCG=0.12\n",
      "\u001b[32m[I 2020-11-11 16:57:22,583]\u001b[0m Finished trial#1 resulted in value: 0.11867968544793812. Current best value is 0.11867968544793812 with parameters: {'num_neighbours': 68, 'shrink': 25}.\u001b[0m\n",
      "11-Nov-20 16:57:22, replay, DEBUG: -- Второй фит модели в оптимизации\n",
      "11-Nov-20 16:57:22, replay, DEBUG: Начало обучения KNN\n",
      "11-Nov-20 16:57:22, replay, DEBUG: Основная стадия обучения (fit)\n",
      "11-Nov-20 16:57:24, replay, DEBUG: -- Предикт модели в оптимизации\n",
      "11-Nov-20 16:57:24, replay, DEBUG: Начало предикта KNN\n",
      "11-Nov-20 16:57:28, replay, DEBUG: -- Подсчет метрики в оптимизации\n"
     ]
    },
    {
     "name": "stdout",
     "output_type": "stream",
     "text": [
      "{10: 0.13428789707832686}\n"
     ]
    },
    {
     "name": "stderr",
     "output_type": "stream",
     "text": [
      "11-Nov-20 16:57:56, replay, DEBUG: NDCG=0.13\n",
      "\u001b[32m[I 2020-11-11 16:57:56,980]\u001b[0m Finished trial#2 resulted in value: 0.13428789707832686. Current best value is 0.13428789707832686 with parameters: {'num_neighbours': 37, 'shrink': 12}.\u001b[0m\n",
      "11-Nov-20 16:57:56, replay, DEBUG: -- Второй фит модели в оптимизации\n",
      "11-Nov-20 16:57:56, replay, DEBUG: Начало обучения KNN\n",
      "11-Nov-20 16:57:56, replay, DEBUG: Основная стадия обучения (fit)\n",
      "11-Nov-20 16:57:58, replay, DEBUG: -- Предикт модели в оптимизации\n",
      "11-Nov-20 16:57:58, replay, DEBUG: Начало предикта KNN\n",
      "11-Nov-20 16:58:02, replay, DEBUG: -- Подсчет метрики в оптимизации\n"
     ]
    },
    {
     "name": "stdout",
     "output_type": "stream",
     "text": [
      "{10: 0.15169487705471352}\n"
     ]
    },
    {
     "name": "stderr",
     "output_type": "stream",
     "text": [
      "11-Nov-20 16:58:31, replay, DEBUG: NDCG=0.15\n",
      "\u001b[32m[I 2020-11-11 16:58:31,512]\u001b[0m Finished trial#3 resulted in value: 0.15169487705471352. Current best value is 0.15169487705471352 with parameters: {'num_neighbours': 13, 'shrink': 29}.\u001b[0m\n",
      "11-Nov-20 16:58:31, replay, DEBUG: -- Второй фит модели в оптимизации\n",
      "11-Nov-20 16:58:31, replay, DEBUG: Начало обучения KNN\n",
      "11-Nov-20 16:58:31, replay, DEBUG: Основная стадия обучения (fit)\n",
      "11-Nov-20 16:58:32, replay, DEBUG: -- Предикт модели в оптимизации\n",
      "11-Nov-20 16:58:32, replay, DEBUG: Начало предикта KNN\n",
      "11-Nov-20 16:58:36, replay, DEBUG: -- Подсчет метрики в оптимизации\n"
     ]
    },
    {
     "name": "stdout",
     "output_type": "stream",
     "text": [
      "{10: 0.113550314760753}\n"
     ]
    },
    {
     "name": "stderr",
     "output_type": "stream",
     "text": [
      "11-Nov-20 16:59:05, replay, DEBUG: NDCG=0.11\n",
      "\u001b[32m[I 2020-11-11 16:59:05,434]\u001b[0m Finished trial#4 resulted in value: 0.113550314760753. Current best value is 0.15169487705471352 with parameters: {'num_neighbours': 13, 'shrink': 29}.\u001b[0m\n",
      "11-Nov-20 16:59:05, replay, DEBUG: -- Второй фит модели в оптимизации\n",
      "11-Nov-20 16:59:05, replay, DEBUG: Начало обучения KNN\n",
      "11-Nov-20 16:59:05, replay, DEBUG: Основная стадия обучения (fit)\n",
      "11-Nov-20 16:59:06, replay, DEBUG: -- Предикт модели в оптимизации\n",
      "11-Nov-20 16:59:06, replay, DEBUG: Начало предикта KNN\n",
      "11-Nov-20 16:59:11, replay, DEBUG: -- Подсчет метрики в оптимизации\n"
     ]
    },
    {
     "name": "stdout",
     "output_type": "stream",
     "text": [
      "{10: 0.14074986770177583}\n"
     ]
    },
    {
     "name": "stderr",
     "output_type": "stream",
     "text": [
      "11-Nov-20 16:59:40, replay, DEBUG: NDCG=0.14\n",
      "\u001b[32m[I 2020-11-11 16:59:40,422]\u001b[0m Finished trial#5 resulted in value: 0.14074986770177583. Current best value is 0.15169487705471352 with parameters: {'num_neighbours': 13, 'shrink': 29}.\u001b[0m\n",
      "11-Nov-20 16:59:40, replay, DEBUG: -- Второй фит модели в оптимизации\n",
      "11-Nov-20 16:59:40, replay, DEBUG: Начало обучения KNN\n",
      "11-Nov-20 16:59:40, replay, DEBUG: Основная стадия обучения (fit)\n",
      "11-Nov-20 16:59:41, replay, DEBUG: -- Предикт модели в оптимизации\n",
      "11-Nov-20 16:59:41, replay, DEBUG: Начало предикта KNN\n",
      "11-Nov-20 16:59:46, replay, DEBUG: -- Подсчет метрики в оптимизации\n"
     ]
    },
    {
     "name": "stdout",
     "output_type": "stream",
     "text": [
      "{10: 0.1230382583615503}\n"
     ]
    },
    {
     "name": "stderr",
     "output_type": "stream",
     "text": [
      "11-Nov-20 17:00:13, replay, DEBUG: NDCG=0.12\n",
      "\u001b[32m[I 2020-11-11 17:00:13,390]\u001b[0m Finished trial#6 resulted in value: 0.1230382583615503. Current best value is 0.15169487705471352 with parameters: {'num_neighbours': 13, 'shrink': 29}.\u001b[0m\n",
      "11-Nov-20 17:00:13, replay, DEBUG: -- Второй фит модели в оптимизации\n",
      "11-Nov-20 17:00:13, replay, DEBUG: Начало обучения KNN\n",
      "11-Nov-20 17:00:13, replay, DEBUG: Основная стадия обучения (fit)\n",
      "11-Nov-20 17:00:14, replay, DEBUG: -- Предикт модели в оптимизации\n",
      "11-Nov-20 17:00:14, replay, DEBUG: Начало предикта KNN\n",
      "11-Nov-20 17:00:18, replay, DEBUG: -- Подсчет метрики в оптимизации\n"
     ]
    },
    {
     "name": "stdout",
     "output_type": "stream",
     "text": [
      "{10: 0.128332954979549}\n"
     ]
    },
    {
     "name": "stderr",
     "output_type": "stream",
     "text": [
      "11-Nov-20 17:00:43, replay, DEBUG: NDCG=0.13\n",
      "\u001b[32m[I 2020-11-11 17:00:44,122]\u001b[0m Finished trial#7 resulted in value: 0.128332954979549. Current best value is 0.15169487705471352 with parameters: {'num_neighbours': 13, 'shrink': 29}.\u001b[0m\n",
      "11-Nov-20 17:00:44, replay, DEBUG: -- Второй фит модели в оптимизации\n",
      "11-Nov-20 17:00:44, replay, DEBUG: Начало обучения KNN\n",
      "11-Nov-20 17:00:44, replay, DEBUG: Основная стадия обучения (fit)\n",
      "11-Nov-20 17:00:45, replay, DEBUG: -- Предикт модели в оптимизации\n",
      "11-Nov-20 17:00:45, replay, DEBUG: Начало предикта KNN\n",
      "11-Nov-20 17:00:49, replay, DEBUG: -- Подсчет метрики в оптимизации\n"
     ]
    },
    {
     "name": "stdout",
     "output_type": "stream",
     "text": [
      "{10: 0.12911127338018089}\n"
     ]
    },
    {
     "name": "stderr",
     "output_type": "stream",
     "text": [
      "11-Nov-20 17:01:15, replay, DEBUG: NDCG=0.13\n",
      "\u001b[32m[I 2020-11-11 17:01:15,565]\u001b[0m Finished trial#8 resulted in value: 0.12911127338018089. Current best value is 0.15169487705471352 with parameters: {'num_neighbours': 13, 'shrink': 29}.\u001b[0m\n",
      "11-Nov-20 17:01:15, replay, DEBUG: -- Второй фит модели в оптимизации\n",
      "11-Nov-20 17:01:15, replay, DEBUG: Начало обучения KNN\n",
      "11-Nov-20 17:01:15, replay, DEBUG: Основная стадия обучения (fit)\n",
      "11-Nov-20 17:01:16, replay, DEBUG: -- Предикт модели в оптимизации\n",
      "11-Nov-20 17:01:16, replay, DEBUG: Начало предикта KNN\n",
      "11-Nov-20 17:01:20, replay, DEBUG: -- Подсчет метрики в оптимизации\n"
     ]
    },
    {
     "name": "stdout",
     "output_type": "stream",
     "text": [
      "{10: 0.11710044233716631}\n"
     ]
    },
    {
     "name": "stderr",
     "output_type": "stream",
     "text": [
      "11-Nov-20 17:01:48, replay, DEBUG: NDCG=0.12\n",
      "\u001b[32m[I 2020-11-11 17:01:48,580]\u001b[0m Finished trial#9 resulted in value: 0.11710044233716631. Current best value is 0.15169487705471352 with parameters: {'num_neighbours': 13, 'shrink': 29}.\u001b[0m\n",
      "11-Nov-20 17:01:48, replay, DEBUG: -- Второй фит модели в оптимизации\n",
      "11-Nov-20 17:01:48, replay, DEBUG: Начало обучения KNN\n",
      "11-Nov-20 17:01:48, replay, DEBUG: Основная стадия обучения (fit)\n",
      "11-Nov-20 17:01:49, replay, DEBUG: -- Предикт модели в оптимизации\n",
      "11-Nov-20 17:01:49, replay, DEBUG: Начало предикта KNN\n",
      "11-Nov-20 17:01:56, replay, DEBUG: -- Подсчет метрики в оптимизации\n"
     ]
    },
    {
     "name": "stdout",
     "output_type": "stream",
     "text": [
      "{10: 0.1406194733104321}\n"
     ]
    },
    {
     "name": "stderr",
     "output_type": "stream",
     "text": [
      "11-Nov-20 17:02:22, replay, DEBUG: NDCG=0.14\n",
      "\u001b[32m[I 2020-11-11 17:02:22,809]\u001b[0m Finished trial#10 resulted in value: 0.1406194733104321. Current best value is 0.15169487705471352 with parameters: {'num_neighbours': 13, 'shrink': 29}.\u001b[0m\n",
      "11-Nov-20 17:02:22, replay, DEBUG: -- Второй фит модели в оптимизации\n",
      "11-Nov-20 17:02:22, replay, DEBUG: Начало обучения KNN\n",
      "11-Nov-20 17:02:22, replay, DEBUG: Основная стадия обучения (fit)\n",
      "11-Nov-20 17:02:23, replay, DEBUG: -- Предикт модели в оптимизации\n",
      "11-Nov-20 17:02:23, replay, DEBUG: Начало предикта KNN\n",
      "11-Nov-20 17:02:27, replay, DEBUG: -- Подсчет метрики в оптимизации\n"
     ]
    },
    {
     "name": "stdout",
     "output_type": "stream",
     "text": [
      "{10: 0.14489153552418288}\n"
     ]
    },
    {
     "name": "stderr",
     "output_type": "stream",
     "text": [
      "11-Nov-20 17:02:55, replay, DEBUG: NDCG=0.14\n",
      "\u001b[32m[I 2020-11-11 17:02:55,468]\u001b[0m Finished trial#11 resulted in value: 0.14489153552418288. Current best value is 0.15169487705471352 with parameters: {'num_neighbours': 13, 'shrink': 29}.\u001b[0m\n",
      "11-Nov-20 17:02:55, replay, DEBUG: -- Второй фит модели в оптимизации\n",
      "11-Nov-20 17:02:55, replay, DEBUG: Начало обучения KNN\n",
      "11-Nov-20 17:02:55, replay, DEBUG: Основная стадия обучения (fit)\n",
      "11-Nov-20 17:02:56, replay, DEBUG: -- Предикт модели в оптимизации\n",
      "11-Nov-20 17:02:56, replay, DEBUG: Начало предикта KNN\n",
      "11-Nov-20 17:03:00, replay, DEBUG: -- Подсчет метрики в оптимизации\n"
     ]
    },
    {
     "name": "stdout",
     "output_type": "stream",
     "text": [
      "{10: 0.14474608412867812}\n"
     ]
    },
    {
     "name": "stderr",
     "output_type": "stream",
     "text": [
      "11-Nov-20 17:03:27, replay, DEBUG: NDCG=0.14\n",
      "\u001b[32m[I 2020-11-11 17:03:28,184]\u001b[0m Finished trial#12 resulted in value: 0.14474608412867812. Current best value is 0.15169487705471352 with parameters: {'num_neighbours': 13, 'shrink': 29}.\u001b[0m\n",
      "11-Nov-20 17:03:28, replay, DEBUG: -- Второй фит модели в оптимизации\n",
      "11-Nov-20 17:03:28, replay, DEBUG: Начало обучения KNN\n",
      "11-Nov-20 17:03:28, replay, DEBUG: Основная стадия обучения (fit)\n",
      "11-Nov-20 17:03:29, replay, DEBUG: -- Предикт модели в оптимизации\n",
      "11-Nov-20 17:03:29, replay, DEBUG: Начало предикта KNN\n",
      "11-Nov-20 17:03:33, replay, DEBUG: -- Подсчет метрики в оптимизации\n"
     ]
    },
    {
     "name": "stdout",
     "output_type": "stream",
     "text": [
      "{10: 0.15657915220764393}\n"
     ]
    },
    {
     "name": "stderr",
     "output_type": "stream",
     "text": [
      "11-Nov-20 17:04:00, replay, DEBUG: NDCG=0.16\n",
      "\u001b[32m[I 2020-11-11 17:04:00,897]\u001b[0m Finished trial#13 resulted in value: 0.15657915220764393. Current best value is 0.15657915220764393 with parameters: {'num_neighbours': 19, 'shrink': 0}.\u001b[0m\n",
      "11-Nov-20 17:04:00, replay, DEBUG: -- Второй фит модели в оптимизации\n",
      "11-Nov-20 17:04:00, replay, DEBUG: Начало обучения KNN\n",
      "11-Nov-20 17:04:00, replay, DEBUG: Основная стадия обучения (fit)\n",
      "11-Nov-20 17:04:02, replay, DEBUG: -- Предикт модели в оптимизации\n",
      "11-Nov-20 17:04:02, replay, DEBUG: Начало предикта KNN\n",
      "11-Nov-20 17:04:06, replay, DEBUG: -- Подсчет метрики в оптимизации\n"
     ]
    },
    {
     "name": "stdout",
     "output_type": "stream",
     "text": [
      "{10: 0.11206378646287202}\n"
     ]
    },
    {
     "name": "stderr",
     "output_type": "stream",
     "text": [
      "11-Nov-20 17:04:34, replay, DEBUG: NDCG=0.11\n",
      "\u001b[32m[I 2020-11-11 17:04:34,851]\u001b[0m Finished trial#14 resulted in value: 0.11206378646287202. Current best value is 0.15657915220764393 with parameters: {'num_neighbours': 19, 'shrink': 0}.\u001b[0m\n",
      "11-Nov-20 17:04:34, replay, DEBUG: -- Второй фит модели в оптимизации\n",
      "11-Nov-20 17:04:34, replay, DEBUG: Начало обучения KNN\n",
      "11-Nov-20 17:04:34, replay, DEBUG: Основная стадия обучения (fit)\n",
      "11-Nov-20 17:04:36, replay, DEBUG: -- Предикт модели в оптимизации\n",
      "11-Nov-20 17:04:36, replay, DEBUG: Начало предикта KNN\n",
      "11-Nov-20 17:04:40, replay, DEBUG: -- Подсчет метрики в оптимизации\n"
     ]
    },
    {
     "name": "stdout",
     "output_type": "stream",
     "text": [
      "{10: 0.14082106845590847}\n"
     ]
    },
    {
     "name": "stderr",
     "output_type": "stream",
     "text": [
      "11-Nov-20 17:05:06, replay, DEBUG: NDCG=0.14\n",
      "\u001b[32m[I 2020-11-11 17:05:06,322]\u001b[0m Finished trial#15 resulted in value: 0.14082106845590847. Current best value is 0.15657915220764393 with parameters: {'num_neighbours': 19, 'shrink': 0}.\u001b[0m\n",
      "11-Nov-20 17:05:06, replay, DEBUG: -- Второй фит модели в оптимизации\n",
      "11-Nov-20 17:05:06, replay, DEBUG: Начало обучения KNN\n",
      "11-Nov-20 17:05:06, replay, DEBUG: Основная стадия обучения (fit)\n",
      "11-Nov-20 17:05:07, replay, DEBUG: -- Предикт модели в оптимизации\n",
      "11-Nov-20 17:05:07, replay, DEBUG: Начало предикта KNN\n",
      "11-Nov-20 17:05:11, replay, DEBUG: -- Подсчет метрики в оптимизации\n"
     ]
    },
    {
     "name": "stdout",
     "output_type": "stream",
     "text": [
      "{10: 0.1633295519305541}\n"
     ]
    },
    {
     "name": "stderr",
     "output_type": "stream",
     "text": [
      "11-Nov-20 17:05:36, replay, DEBUG: NDCG=0.16\n",
      "\u001b[32m[I 2020-11-11 17:05:37,236]\u001b[0m Finished trial#16 resulted in value: 0.1633295519305541. Current best value is 0.1633295519305541 with parameters: {'num_neighbours': 12, 'shrink': 2}.\u001b[0m\n",
      "11-Nov-20 17:05:37, replay, DEBUG: -- Второй фит модели в оптимизации\n",
      "11-Nov-20 17:05:37, replay, DEBUG: Начало обучения KNN\n",
      "11-Nov-20 17:05:37, replay, DEBUG: Основная стадия обучения (fit)\n",
      "11-Nov-20 17:05:38, replay, DEBUG: -- Предикт модели в оптимизации\n",
      "11-Nov-20 17:05:38, replay, DEBUG: Начало предикта KNN\n",
      "11-Nov-20 17:05:42, replay, DEBUG: -- Подсчет метрики в оптимизации\n"
     ]
    },
    {
     "name": "stdout",
     "output_type": "stream",
     "text": [
      "{10: 0.09551792200282885}\n"
     ]
    },
    {
     "name": "stderr",
     "output_type": "stream",
     "text": [
      "11-Nov-20 17:06:08, replay, DEBUG: NDCG=0.10\n",
      "\u001b[32m[I 2020-11-11 17:06:08,397]\u001b[0m Finished trial#17 resulted in value: 0.09551792200282885. Current best value is 0.1633295519305541 with parameters: {'num_neighbours': 12, 'shrink': 2}.\u001b[0m\n",
      "11-Nov-20 17:06:08, replay, DEBUG: -- Второй фит модели в оптимизации\n",
      "11-Nov-20 17:06:08, replay, DEBUG: Начало обучения KNN\n",
      "11-Nov-20 17:06:08, replay, DEBUG: Основная стадия обучения (fit)\n",
      "11-Nov-20 17:06:09, replay, DEBUG: -- Предикт модели в оптимизации\n",
      "11-Nov-20 17:06:09, replay, DEBUG: Начало предикта KNN\n",
      "11-Nov-20 17:06:13, replay, DEBUG: -- Подсчет метрики в оптимизации\n"
     ]
    },
    {
     "name": "stdout",
     "output_type": "stream",
     "text": [
      "{10: 0.14133172213480003}\n"
     ]
    },
    {
     "name": "stderr",
     "output_type": "stream",
     "text": [
      "11-Nov-20 17:06:41, replay, DEBUG: NDCG=0.14\n",
      "\u001b[32m[I 2020-11-11 17:06:41,572]\u001b[0m Finished trial#18 resulted in value: 0.14133172213480003. Current best value is 0.1633295519305541 with parameters: {'num_neighbours': 12, 'shrink': 2}.\u001b[0m\n",
      "11-Nov-20 17:06:41, replay, DEBUG: -- Второй фит модели в оптимизации\n",
      "11-Nov-20 17:06:41, replay, DEBUG: Начало обучения KNN\n",
      "11-Nov-20 17:06:41, replay, DEBUG: Основная стадия обучения (fit)\n",
      "11-Nov-20 17:06:42, replay, DEBUG: -- Предикт модели в оптимизации\n",
      "11-Nov-20 17:06:42, replay, DEBUG: Начало предикта KNN\n",
      "11-Nov-20 17:06:46, replay, DEBUG: -- Подсчет метрики в оптимизации\n"
     ]
    },
    {
     "name": "stdout",
     "output_type": "stream",
     "text": [
      "{10: 0.15605298651709917}\n"
     ]
    },
    {
     "name": "stderr",
     "output_type": "stream",
     "text": [
      "11-Nov-20 17:07:14, replay, DEBUG: NDCG=0.16\n",
      "\u001b[32m[I 2020-11-11 17:07:14,367]\u001b[0m Finished trial#19 resulted in value: 0.15605298651709917. Current best value is 0.1633295519305541 with parameters: {'num_neighbours': 12, 'shrink': 2}.\u001b[0m\n",
      "11-Nov-20 17:07:14, replay, DEBUG: Лучшее значение метрики: 0.16\n",
      "11-Nov-20 17:07:14, replay, DEBUG: Лучшие параметры: {'num_neighbours': 12, 'shrink': 2}\n"
     ]
    }
   ],
   "source": [
    "best_knn_params = scenario.research(PARAM_GRID['knn_'],\n",
    "    log,\n",
    "    k=k,\n",
    "    n_trials=budget\n",
    ")\n",
    "knn_results = scenario.experiment.results"
   ]
  },
  {
   "cell_type": "code",
   "execution_count": 18,
   "metadata": {},
   "outputs": [
    {
     "data": {
      "text/plain": [
       "{'num_neighbours': 12, 'shrink': 2}"
      ]
     },
     "execution_count": 18,
     "metadata": {},
     "output_type": "execute_result"
    }
   ],
   "source": [
    "best_knn_params"
   ]
  },
  {
   "cell_type": "markdown",
   "metadata": {},
   "source": [
    "### SLIM"
   ]
  },
  {
   "cell_type": "code",
   "execution_count": 19,
   "metadata": {},
   "outputs": [
    {
     "name": "stderr",
     "output_type": "stream",
     "text": [
      "11-Nov-20 17:07:14, replay, DEBUG: Деление лога на обучающую и тестовую выборку\n",
      "11-Nov-20 17:07:15, replay, DEBUG: Длина трейна и теста: 99812 187\n",
      "11-Nov-20 17:07:15, replay, DEBUG: Количество пользователей в трейне и тесте: 943, 187\n",
      "11-Nov-20 17:07:15, replay, DEBUG: Количество объектов в трейне и тесте: 1681, 154\n",
      "11-Nov-20 17:07:16, replay, DEBUG: Инициализация метрик\n",
      "11-Nov-20 17:07:16, replay, DEBUG: Обучение и предсказание дополнительной модели\n",
      "11-Nov-20 17:07:16, replay, DEBUG: Начало обучения PopRec\n",
      "11-Nov-20 17:07:16, replay, DEBUG: Предварительная стадия обучения (pre-fit)\n",
      "11-Nov-20 17:07:16, replay, DEBUG: Основная стадия обучения (fit)\n",
      "11-Nov-20 17:07:17, replay, DEBUG: Начало предикта PopRec\n",
      "11-Nov-20 17:07:20, replay, DEBUG: Оптимизация параметров\n",
      "11-Nov-20 17:07:20, replay, DEBUG: Количество попыток: 20\n",
      "11-Nov-20 17:07:20, replay, DEBUG: -- Второй фит модели в оптимизации\n",
      "11-Nov-20 17:07:20, replay, DEBUG: Начало обучения SLIM\n",
      "11-Nov-20 17:07:20, replay, DEBUG: Предварительная стадия обучения (pre-fit)\n",
      "11-Nov-20 17:07:20, replay, DEBUG: Основная стадия обучения (fit)\n",
      "/mnt2/volodkevich/replay_tasks/replay/venv376/lib/python3.7/site-packages/pyspark/sql/pandas/group_ops.py:76: UserWarning: It is preferred to use 'applyInPandas' over this API. This API will be deprecated in the future releases. See SPARK-28264 for more details.\n",
      "  \"more details.\", UserWarning)\n",
      "11-Nov-20 17:07:22, replay, DEBUG: -- Предикт модели в оптимизации\n",
      "11-Nov-20 17:07:22, replay, DEBUG: Начало предикта SLIM\n",
      "11-Nov-20 17:07:25, replay, DEBUG: -- Подсчет метрики в оптимизации\n",
      "/mnt2/volodkevich/replay_tasks/replay/venv376/lib/python3.7/site-packages/pyspark/sql/pandas/group_ops.py:76: UserWarning: It is preferred to use 'applyInPandas' over this API. This API will be deprecated in the future releases. See SPARK-28264 for more details.\n",
      "  \"more details.\", UserWarning)\n"
     ]
    },
    {
     "name": "stdout",
     "output_type": "stream",
     "text": [
      "{10: 0.11256621768601842}\n"
     ]
    },
    {
     "name": "stderr",
     "output_type": "stream",
     "text": [
      "11-Nov-20 17:07:48, replay, DEBUG: NDCG=0.11\n",
      "\u001b[32m[I 2020-11-11 17:07:48,384]\u001b[0m Finished trial#0 resulted in value: 0.11256621768601842. Current best value is 0.11256621768601842 with parameters: {'beta': 0.06247182931704085, 'lambda_': 1.7882240290577447}.\u001b[0m\n",
      "11-Nov-20 17:07:48, replay, DEBUG: -- Второй фит модели в оптимизации\n",
      "11-Nov-20 17:07:48, replay, DEBUG: Начало обучения SLIM\n",
      "11-Nov-20 17:07:48, replay, DEBUG: Основная стадия обучения (fit)\n",
      "/mnt2/volodkevich/replay_tasks/replay/venv376/lib/python3.7/site-packages/pyspark/sql/pandas/group_ops.py:76: UserWarning: It is preferred to use 'applyInPandas' over this API. This API will be deprecated in the future releases. See SPARK-28264 for more details.\n",
      "  \"more details.\", UserWarning)\n",
      "11-Nov-20 17:07:49, replay, DEBUG: -- Предикт модели в оптимизации\n",
      "11-Nov-20 17:07:49, replay, DEBUG: Начало предикта SLIM\n",
      "11-Nov-20 17:07:53, replay, DEBUG: -- Подсчет метрики в оптимизации\n",
      "/mnt2/volodkevich/replay_tasks/replay/venv376/lib/python3.7/site-packages/pyspark/sql/pandas/group_ops.py:76: UserWarning: It is preferred to use 'applyInPandas' over this API. This API will be deprecated in the future releases. See SPARK-28264 for more details.\n",
      "  \"more details.\", UserWarning)\n"
     ]
    },
    {
     "name": "stdout",
     "output_type": "stream",
     "text": [
      "{10: 0.24875643630814828}\n"
     ]
    },
    {
     "name": "stderr",
     "output_type": "stream",
     "text": [
      "11-Nov-20 17:08:15, replay, DEBUG: NDCG=0.25\n",
      "\u001b[32m[I 2020-11-11 17:08:15,567]\u001b[0m Finished trial#1 resulted in value: 0.24875643630814828. Current best value is 0.24875643630814828 with parameters: {'beta': 0.0048078597244356445, 'lambda_': 0.05876956809966476}.\u001b[0m\n",
      "11-Nov-20 17:08:15, replay, DEBUG: -- Второй фит модели в оптимизации\n",
      "11-Nov-20 17:08:15, replay, DEBUG: Начало обучения SLIM\n",
      "11-Nov-20 17:08:15, replay, DEBUG: Основная стадия обучения (fit)\n",
      "/mnt2/volodkevich/replay_tasks/replay/venv376/lib/python3.7/site-packages/pyspark/sql/pandas/group_ops.py:76: UserWarning: It is preferred to use 'applyInPandas' over this API. This API will be deprecated in the future releases. See SPARK-28264 for more details.\n",
      "  \"more details.\", UserWarning)\n",
      "11-Nov-20 17:08:16, replay, DEBUG: -- Предикт модели в оптимизации\n",
      "11-Nov-20 17:08:16, replay, DEBUG: Начало предикта SLIM\n",
      "11-Nov-20 17:08:20, replay, DEBUG: -- Подсчет метрики в оптимизации\n",
      "/mnt2/volodkevich/replay_tasks/replay/venv376/lib/python3.7/site-packages/pyspark/sql/pandas/group_ops.py:76: UserWarning: It is preferred to use 'applyInPandas' over this API. This API will be deprecated in the future releases. See SPARK-28264 for more details.\n",
      "  \"more details.\", UserWarning)\n"
     ]
    },
    {
     "name": "stdout",
     "output_type": "stream",
     "text": [
      "{10: 0.21976455065855593}\n"
     ]
    },
    {
     "name": "stderr",
     "output_type": "stream",
     "text": [
      "11-Nov-20 17:08:41, replay, DEBUG: NDCG=0.22\n",
      "\u001b[32m[I 2020-11-11 17:08:42,047]\u001b[0m Finished trial#2 resulted in value: 0.21976455065855593. Current best value is 0.24875643630814828 with parameters: {'beta': 0.0048078597244356445, 'lambda_': 0.05876956809966476}.\u001b[0m\n",
      "11-Nov-20 17:08:42, replay, DEBUG: -- Второй фит модели в оптимизации\n",
      "11-Nov-20 17:08:42, replay, DEBUG: Начало обучения SLIM\n",
      "11-Nov-20 17:08:42, replay, DEBUG: Основная стадия обучения (fit)\n",
      "/mnt2/volodkevich/replay_tasks/replay/venv376/lib/python3.7/site-packages/pyspark/sql/pandas/group_ops.py:76: UserWarning: It is preferred to use 'applyInPandas' over this API. This API will be deprecated in the future releases. See SPARK-28264 for more details.\n",
      "  \"more details.\", UserWarning)\n",
      "11-Nov-20 17:08:43, replay, DEBUG: -- Предикт модели в оптимизации\n",
      "11-Nov-20 17:08:43, replay, DEBUG: Начало предикта SLIM\n",
      "11-Nov-20 17:08:47, replay, DEBUG: -- Подсчет метрики в оптимизации\n",
      "/mnt2/volodkevich/replay_tasks/replay/venv376/lib/python3.7/site-packages/pyspark/sql/pandas/group_ops.py:76: UserWarning: It is preferred to use 'applyInPandas' over this API. This API will be deprecated in the future releases. See SPARK-28264 for more details.\n",
      "  \"more details.\", UserWarning)\n"
     ]
    },
    {
     "name": "stdout",
     "output_type": "stream",
     "text": [
      "{10: 0.2272533928566179}\n"
     ]
    },
    {
     "name": "stderr",
     "output_type": "stream",
     "text": [
      "11-Nov-20 17:09:07, replay, DEBUG: NDCG=0.23\n",
      "\u001b[32m[I 2020-11-11 17:09:08,139]\u001b[0m Finished trial#3 resulted in value: 0.2272533928566179. Current best value is 0.24875643630814828 with parameters: {'beta': 0.0048078597244356445, 'lambda_': 0.05876956809966476}.\u001b[0m\n",
      "11-Nov-20 17:09:08, replay, DEBUG: -- Второй фит модели в оптимизации\n",
      "11-Nov-20 17:09:08, replay, DEBUG: Начало обучения SLIM\n",
      "11-Nov-20 17:09:08, replay, DEBUG: Основная стадия обучения (fit)\n",
      "/mnt2/volodkevich/replay_tasks/replay/venv376/lib/python3.7/site-packages/pyspark/sql/pandas/group_ops.py:76: UserWarning: It is preferred to use 'applyInPandas' over this API. This API will be deprecated in the future releases. See SPARK-28264 for more details.\n",
      "  \"more details.\", UserWarning)\n",
      "11-Nov-20 17:09:09, replay, DEBUG: -- Предикт модели в оптимизации\n",
      "11-Nov-20 17:09:09, replay, DEBUG: Начало предикта SLIM\n",
      "11-Nov-20 17:09:13, replay, DEBUG: -- Подсчет метрики в оптимизации\n",
      "/mnt2/volodkevich/replay_tasks/replay/venv376/lib/python3.7/site-packages/pyspark/sql/pandas/group_ops.py:76: UserWarning: It is preferred to use 'applyInPandas' over this API. This API will be deprecated in the future releases. See SPARK-28264 for more details.\n",
      "  \"more details.\", UserWarning)\n"
     ]
    },
    {
     "name": "stdout",
     "output_type": "stream",
     "text": [
      "{10: 0.21275621167914158}\n"
     ]
    },
    {
     "name": "stderr",
     "output_type": "stream",
     "text": [
      "11-Nov-20 17:09:34, replay, DEBUG: NDCG=0.21\n",
      "\u001b[32m[I 2020-11-11 17:09:34,824]\u001b[0m Finished trial#4 resulted in value: 0.21275621167914158. Current best value is 0.24875643630814828 with parameters: {'beta': 0.0048078597244356445, 'lambda_': 0.05876956809966476}.\u001b[0m\n",
      "11-Nov-20 17:09:34, replay, DEBUG: -- Второй фит модели в оптимизации\n",
      "11-Nov-20 17:09:34, replay, DEBUG: Начало обучения SLIM\n",
      "11-Nov-20 17:09:34, replay, DEBUG: Основная стадия обучения (fit)\n",
      "/mnt2/volodkevich/replay_tasks/replay/venv376/lib/python3.7/site-packages/pyspark/sql/pandas/group_ops.py:76: UserWarning: It is preferred to use 'applyInPandas' over this API. This API will be deprecated in the future releases. See SPARK-28264 for more details.\n",
      "  \"more details.\", UserWarning)\n",
      "11-Nov-20 17:09:36, replay, DEBUG: -- Предикт модели в оптимизации\n",
      "11-Nov-20 17:09:36, replay, DEBUG: Начало предикта SLIM\n",
      "11-Nov-20 17:09:39, replay, DEBUG: -- Подсчет метрики в оптимизации\n",
      "/mnt2/volodkevich/replay_tasks/replay/venv376/lib/python3.7/site-packages/pyspark/sql/pandas/group_ops.py:76: UserWarning: It is preferred to use 'applyInPandas' over this API. This API will be deprecated in the future releases. See SPARK-28264 for more details.\n",
      "  \"more details.\", UserWarning)\n"
     ]
    },
    {
     "name": "stdout",
     "output_type": "stream",
     "text": [
      "{10: 0.20802171132544933}\n"
     ]
    },
    {
     "name": "stderr",
     "output_type": "stream",
     "text": [
      "11-Nov-20 17:10:00, replay, DEBUG: NDCG=0.21\n",
      "\u001b[32m[I 2020-11-11 17:10:00,888]\u001b[0m Finished trial#5 resulted in value: 0.20802171132544933. Current best value is 0.24875643630814828 with parameters: {'beta': 0.0048078597244356445, 'lambda_': 0.05876956809966476}.\u001b[0m\n",
      "11-Nov-20 17:10:00, replay, DEBUG: -- Второй фит модели в оптимизации\n",
      "11-Nov-20 17:10:00, replay, DEBUG: Начало обучения SLIM\n",
      "11-Nov-20 17:10:00, replay, DEBUG: Основная стадия обучения (fit)\n",
      "/mnt2/volodkevich/replay_tasks/replay/venv376/lib/python3.7/site-packages/pyspark/sql/pandas/group_ops.py:76: UserWarning: It is preferred to use 'applyInPandas' over this API. This API will be deprecated in the future releases. See SPARK-28264 for more details.\n",
      "  \"more details.\", UserWarning)\n",
      "11-Nov-20 17:10:02, replay, DEBUG: -- Предикт модели в оптимизации\n",
      "11-Nov-20 17:10:02, replay, DEBUG: Начало предикта SLIM\n",
      "11-Nov-20 17:10:05, replay, DEBUG: -- Подсчет метрики в оптимизации\n",
      "/mnt2/volodkevich/replay_tasks/replay/venv376/lib/python3.7/site-packages/pyspark/sql/pandas/group_ops.py:76: UserWarning: It is preferred to use 'applyInPandas' over this API. This API will be deprecated in the future releases. See SPARK-28264 for more details.\n",
      "  \"more details.\", UserWarning)\n"
     ]
    },
    {
     "name": "stdout",
     "output_type": "stream",
     "text": [
      "{10: 0.21830610618220508}\n"
     ]
    },
    {
     "name": "stderr",
     "output_type": "stream",
     "text": [
      "11-Nov-20 17:10:26, replay, DEBUG: NDCG=0.22\n",
      "\u001b[32m[I 2020-11-11 17:10:26,292]\u001b[0m Finished trial#6 resulted in value: 0.21830610618220508. Current best value is 0.24875643630814828 with parameters: {'beta': 0.0048078597244356445, 'lambda_': 0.05876956809966476}.\u001b[0m\n",
      "11-Nov-20 17:10:26, replay, DEBUG: -- Второй фит модели в оптимизации\n",
      "11-Nov-20 17:10:26, replay, DEBUG: Начало обучения SLIM\n",
      "11-Nov-20 17:10:26, replay, DEBUG: Основная стадия обучения (fit)\n",
      "/mnt2/volodkevich/replay_tasks/replay/venv376/lib/python3.7/site-packages/pyspark/sql/pandas/group_ops.py:76: UserWarning: It is preferred to use 'applyInPandas' over this API. This API will be deprecated in the future releases. See SPARK-28264 for more details.\n",
      "  \"more details.\", UserWarning)\n",
      "11-Nov-20 17:10:27, replay, DEBUG: -- Предикт модели в оптимизации\n",
      "11-Nov-20 17:10:27, replay, DEBUG: Начало предикта SLIM\n",
      "11-Nov-20 17:10:31, replay, DEBUG: -- Подсчет метрики в оптимизации\n",
      "/mnt2/volodkevich/replay_tasks/replay/venv376/lib/python3.7/site-packages/pyspark/sql/pandas/group_ops.py:76: UserWarning: It is preferred to use 'applyInPandas' over this API. This API will be deprecated in the future releases. See SPARK-28264 for more details.\n",
      "  \"more details.\", UserWarning)\n"
     ]
    },
    {
     "name": "stdout",
     "output_type": "stream",
     "text": [
      "{10: 0.25682298783424334}\n"
     ]
    },
    {
     "name": "stderr",
     "output_type": "stream",
     "text": [
      "11-Nov-20 17:10:53, replay, DEBUG: NDCG=0.26\n",
      "\u001b[32m[I 2020-11-11 17:10:53,531]\u001b[0m Finished trial#7 resulted in value: 0.25682298783424334. Current best value is 0.25682298783424334 with parameters: {'beta': 1.0767151647010165, 'lambda_': 0.004001558568600958}.\u001b[0m\n",
      "11-Nov-20 17:10:53, replay, DEBUG: -- Второй фит модели в оптимизации\n",
      "11-Nov-20 17:10:53, replay, DEBUG: Начало обучения SLIM\n",
      "11-Nov-20 17:10:53, replay, DEBUG: Основная стадия обучения (fit)\n",
      "/mnt2/volodkevich/replay_tasks/replay/venv376/lib/python3.7/site-packages/pyspark/sql/pandas/group_ops.py:76: UserWarning: It is preferred to use 'applyInPandas' over this API. This API will be deprecated in the future releases. See SPARK-28264 for more details.\n",
      "  \"more details.\", UserWarning)\n",
      "11-Nov-20 17:10:54, replay, DEBUG: -- Предикт модели в оптимизации\n",
      "11-Nov-20 17:10:54, replay, DEBUG: Начало предикта SLIM\n",
      "11-Nov-20 17:10:58, replay, DEBUG: -- Подсчет метрики в оптимизации\n",
      "/mnt2/volodkevich/replay_tasks/replay/venv376/lib/python3.7/site-packages/pyspark/sql/pandas/group_ops.py:76: UserWarning: It is preferred to use 'applyInPandas' over this API. This API will be deprecated in the future releases. See SPARK-28264 for more details.\n",
      "  \"more details.\", UserWarning)\n"
     ]
    },
    {
     "name": "stdout",
     "output_type": "stream",
     "text": [
      "{10: 0.27021885403401874}\n"
     ]
    },
    {
     "name": "stderr",
     "output_type": "stream",
     "text": [
      "11-Nov-20 17:11:18, replay, DEBUG: NDCG=0.27\n",
      "\u001b[32m[I 2020-11-11 17:11:18,719]\u001b[0m Finished trial#8 resulted in value: 0.27021885403401874. Current best value is 0.27021885403401874 with parameters: {'beta': 0.4455599911925877, 'lambda_': 0.10152327312240496}.\u001b[0m\n",
      "11-Nov-20 17:11:18, replay, DEBUG: -- Второй фит модели в оптимизации\n",
      "11-Nov-20 17:11:18, replay, DEBUG: Начало обучения SLIM\n",
      "11-Nov-20 17:11:18, replay, DEBUG: Основная стадия обучения (fit)\n",
      "/mnt2/volodkevich/replay_tasks/replay/venv376/lib/python3.7/site-packages/pyspark/sql/pandas/group_ops.py:76: UserWarning: It is preferred to use 'applyInPandas' over this API. This API will be deprecated in the future releases. See SPARK-28264 for more details.\n",
      "  \"more details.\", UserWarning)\n",
      "11-Nov-20 17:11:19, replay, DEBUG: -- Предикт модели в оптимизации\n",
      "11-Nov-20 17:11:19, replay, DEBUG: Начало предикта SLIM\n",
      "11-Nov-20 17:11:23, replay, DEBUG: -- Подсчет метрики в оптимизации\n",
      "/mnt2/volodkevich/replay_tasks/replay/venv376/lib/python3.7/site-packages/pyspark/sql/pandas/group_ops.py:76: UserWarning: It is preferred to use 'applyInPandas' over this API. This API will be deprecated in the future releases. See SPARK-28264 for more details.\n",
      "  \"more details.\", UserWarning)\n"
     ]
    },
    {
     "name": "stdout",
     "output_type": "stream",
     "text": [
      "{10: 0.22529308154431055}\n"
     ]
    },
    {
     "name": "stderr",
     "output_type": "stream",
     "text": [
      "11-Nov-20 17:11:44, replay, DEBUG: NDCG=0.23\n",
      "\u001b[32m[I 2020-11-11 17:11:45,216]\u001b[0m Finished trial#9 resulted in value: 0.22529308154431055. Current best value is 0.27021885403401874 with parameters: {'beta': 0.4455599911925877, 'lambda_': 0.10152327312240496}.\u001b[0m\n",
      "11-Nov-20 17:11:45, replay, DEBUG: -- Второй фит модели в оптимизации\n",
      "11-Nov-20 17:11:45, replay, DEBUG: Начало обучения SLIM\n",
      "11-Nov-20 17:11:45, replay, DEBUG: Основная стадия обучения (fit)\n",
      "/mnt2/volodkevich/replay_tasks/replay/venv376/lib/python3.7/site-packages/pyspark/sql/pandas/group_ops.py:76: UserWarning: It is preferred to use 'applyInPandas' over this API. This API will be deprecated in the future releases. See SPARK-28264 for more details.\n",
      "  \"more details.\", UserWarning)\n",
      "11-Nov-20 17:11:46, replay, DEBUG: -- Предикт модели в оптимизации\n",
      "11-Nov-20 17:11:46, replay, DEBUG: Начало предикта SLIM\n",
      "11-Nov-20 17:11:50, replay, DEBUG: -- Подсчет метрики в оптимизации\n",
      "/mnt2/volodkevich/replay_tasks/replay/venv376/lib/python3.7/site-packages/pyspark/sql/pandas/group_ops.py:76: UserWarning: It is preferred to use 'applyInPandas' over this API. This API will be deprecated in the future releases. See SPARK-28264 for more details.\n",
      "  \"more details.\", UserWarning)\n"
     ]
    },
    {
     "name": "stdout",
     "output_type": "stream",
     "text": [
      "{10: 0.11314364026781273}\n"
     ]
    },
    {
     "name": "stderr",
     "output_type": "stream",
     "text": [
      "11-Nov-20 17:12:13, replay, DEBUG: NDCG=0.11\n",
      "\u001b[32m[I 2020-11-11 17:12:13,329]\u001b[0m Finished trial#10 resulted in value: 0.11314364026781273. Current best value is 0.27021885403401874 with parameters: {'beta': 0.4455599911925877, 'lambda_': 0.10152327312240496}.\u001b[0m\n",
      "11-Nov-20 17:12:13, replay, DEBUG: -- Второй фит модели в оптимизации\n",
      "11-Nov-20 17:12:13, replay, DEBUG: Начало обучения SLIM\n",
      "11-Nov-20 17:12:13, replay, DEBUG: Основная стадия обучения (fit)\n",
      "/mnt2/volodkevich/replay_tasks/replay/venv376/lib/python3.7/site-packages/pyspark/sql/pandas/group_ops.py:76: UserWarning: It is preferred to use 'applyInPandas' over this API. This API will be deprecated in the future releases. See SPARK-28264 for more details.\n",
      "  \"more details.\", UserWarning)\n",
      "11-Nov-20 17:12:14, replay, DEBUG: -- Предикт модели в оптимизации\n",
      "11-Nov-20 17:12:14, replay, DEBUG: Начало предикта SLIM\n",
      "11-Nov-20 17:12:18, replay, DEBUG: -- Подсчет метрики в оптимизации\n",
      "/mnt2/volodkevich/replay_tasks/replay/venv376/lib/python3.7/site-packages/pyspark/sql/pandas/group_ops.py:76: UserWarning: It is preferred to use 'applyInPandas' over this API. This API will be deprecated in the future releases. See SPARK-28264 for more details.\n",
      "  \"more details.\", UserWarning)\n"
     ]
    },
    {
     "name": "stdout",
     "output_type": "stream",
     "text": [
      "{10: 0.2716949663747603}\n"
     ]
    },
    {
     "name": "stderr",
     "output_type": "stream",
     "text": [
      "11-Nov-20 17:12:39, replay, DEBUG: NDCG=0.27\n",
      "\u001b[32m[I 2020-11-11 17:12:39,721]\u001b[0m Finished trial#11 resulted in value: 0.2716949663747603. Current best value is 0.2716949663747603 with parameters: {'beta': 1.9106522803590236, 'lambda_': 0.019999182491868488}.\u001b[0m\n",
      "11-Nov-20 17:12:39, replay, DEBUG: -- Второй фит модели в оптимизации\n",
      "11-Nov-20 17:12:39, replay, DEBUG: Начало обучения SLIM\n",
      "11-Nov-20 17:12:39, replay, DEBUG: Основная стадия обучения (fit)\n",
      "/mnt2/volodkevich/replay_tasks/replay/venv376/lib/python3.7/site-packages/pyspark/sql/pandas/group_ops.py:76: UserWarning: It is preferred to use 'applyInPandas' over this API. This API will be deprecated in the future releases. See SPARK-28264 for more details.\n",
      "  \"more details.\", UserWarning)\n",
      "11-Nov-20 17:12:40, replay, DEBUG: -- Предикт модели в оптимизации\n",
      "11-Nov-20 17:12:40, replay, DEBUG: Начало предикта SLIM\n",
      "11-Nov-20 17:12:44, replay, DEBUG: -- Подсчет метрики в оптимизации\n",
      "/mnt2/volodkevich/replay_tasks/replay/venv376/lib/python3.7/site-packages/pyspark/sql/pandas/group_ops.py:76: UserWarning: It is preferred to use 'applyInPandas' over this API. This API will be deprecated in the future releases. See SPARK-28264 for more details.\n",
      "  \"more details.\", UserWarning)\n"
     ]
    },
    {
     "name": "stdout",
     "output_type": "stream",
     "text": [
      "{10: 0.27381309716453434}\n"
     ]
    },
    {
     "name": "stderr",
     "output_type": "stream",
     "text": [
      "11-Nov-20 17:13:07, replay, DEBUG: NDCG=0.27\n",
      "\u001b[32m[I 2020-11-11 17:13:07,539]\u001b[0m Finished trial#12 resulted in value: 0.27381309716453434. Current best value is 0.27381309716453434 with parameters: {'beta': 1.663127403505271, 'lambda_': 0.019312079434170928}.\u001b[0m\n",
      "11-Nov-20 17:13:07, replay, DEBUG: -- Второй фит модели в оптимизации\n",
      "11-Nov-20 17:13:07, replay, DEBUG: Начало обучения SLIM\n",
      "11-Nov-20 17:13:07, replay, DEBUG: Основная стадия обучения (fit)\n",
      "/mnt2/volodkevich/replay_tasks/replay/venv376/lib/python3.7/site-packages/pyspark/sql/pandas/group_ops.py:76: UserWarning: It is preferred to use 'applyInPandas' over this API. This API will be deprecated in the future releases. See SPARK-28264 for more details.\n",
      "  \"more details.\", UserWarning)\n",
      "11-Nov-20 17:13:08, replay, DEBUG: -- Предикт модели в оптимизации\n",
      "11-Nov-20 17:13:08, replay, DEBUG: Начало предикта SLIM\n",
      "11-Nov-20 17:13:12, replay, DEBUG: -- Подсчет метрики в оптимизации\n",
      "/mnt2/volodkevich/replay_tasks/replay/venv376/lib/python3.7/site-packages/pyspark/sql/pandas/group_ops.py:76: UserWarning: It is preferred to use 'applyInPandas' over this API. This API will be deprecated in the future releases. See SPARK-28264 for more details.\n",
      "  \"more details.\", UserWarning)\n"
     ]
    },
    {
     "name": "stdout",
     "output_type": "stream",
     "text": [
      "{10: 0.2743165952393946}\n"
     ]
    },
    {
     "name": "stderr",
     "output_type": "stream",
     "text": [
      "11-Nov-20 17:13:35, replay, DEBUG: NDCG=0.27\n",
      "\u001b[32m[I 2020-11-11 17:13:35,508]\u001b[0m Finished trial#13 resulted in value: 0.2743165952393946. Current best value is 0.2743165952393946 with parameters: {'beta': 1.8799729122662445, 'lambda_': 0.016186199993327346}.\u001b[0m\n",
      "11-Nov-20 17:13:35, replay, DEBUG: -- Второй фит модели в оптимизации\n",
      "11-Nov-20 17:13:35, replay, DEBUG: Начало обучения SLIM\n",
      "11-Nov-20 17:13:35, replay, DEBUG: Основная стадия обучения (fit)\n",
      "/mnt2/volodkevich/replay_tasks/replay/venv376/lib/python3.7/site-packages/pyspark/sql/pandas/group_ops.py:76: UserWarning: It is preferred to use 'applyInPandas' over this API. This API will be deprecated in the future releases. See SPARK-28264 for more details.\n",
      "  \"more details.\", UserWarning)\n",
      "11-Nov-20 17:13:36, replay, DEBUG: -- Предикт модели в оптимизации\n",
      "11-Nov-20 17:13:36, replay, DEBUG: Начало предикта SLIM\n",
      "11-Nov-20 17:13:41, replay, DEBUG: -- Подсчет метрики в оптимизации\n",
      "/mnt2/volodkevich/replay_tasks/replay/venv376/lib/python3.7/site-packages/pyspark/sql/pandas/group_ops.py:76: UserWarning: It is preferred to use 'applyInPandas' over this API. This API will be deprecated in the future releases. See SPARK-28264 for more details.\n",
      "  \"more details.\", UserWarning)\n"
     ]
    },
    {
     "name": "stdout",
     "output_type": "stream",
     "text": [
      "{10: 0.27389256971709086}\n"
     ]
    },
    {
     "name": "stderr",
     "output_type": "stream",
     "text": [
      "11-Nov-20 17:14:03, replay, DEBUG: NDCG=0.27\n",
      "\u001b[32m[I 2020-11-11 17:14:03,241]\u001b[0m Finished trial#14 resulted in value: 0.27389256971709086. Current best value is 0.2743165952393946 with parameters: {'beta': 1.8799729122662445, 'lambda_': 0.016186199993327346}.\u001b[0m\n",
      "11-Nov-20 17:14:03, replay, DEBUG: -- Второй фит модели в оптимизации\n",
      "11-Nov-20 17:14:03, replay, DEBUG: Начало обучения SLIM\n",
      "11-Nov-20 17:14:03, replay, DEBUG: Основная стадия обучения (fit)\n",
      "/mnt2/volodkevich/replay_tasks/replay/venv376/lib/python3.7/site-packages/pyspark/sql/pandas/group_ops.py:76: UserWarning: It is preferred to use 'applyInPandas' over this API. This API will be deprecated in the future releases. See SPARK-28264 for more details.\n",
      "  \"more details.\", UserWarning)\n",
      "11-Nov-20 17:14:04, replay, DEBUG: -- Предикт модели в оптимизации\n",
      "11-Nov-20 17:14:04, replay, DEBUG: Начало предикта SLIM\n",
      "11-Nov-20 17:14:08, replay, DEBUG: -- Подсчет метрики в оптимизации\n",
      "/mnt2/volodkevich/replay_tasks/replay/venv376/lib/python3.7/site-packages/pyspark/sql/pandas/group_ops.py:76: UserWarning: It is preferred to use 'applyInPandas' over this API. This API will be deprecated in the future releases. See SPARK-28264 for more details.\n",
      "  \"more details.\", UserWarning)\n"
     ]
    },
    {
     "name": "stdout",
     "output_type": "stream",
     "text": [
      "{10: 0.25184921701529006}\n"
     ]
    },
    {
     "name": "stderr",
     "output_type": "stream",
     "text": [
      "11-Nov-20 17:14:29, replay, DEBUG: NDCG=0.25\n",
      "\u001b[32m[I 2020-11-11 17:14:30,258]\u001b[0m Finished trial#15 resulted in value: 0.25184921701529006. Current best value is 0.2743165952393946 with parameters: {'beta': 1.8799729122662445, 'lambda_': 0.016186199993327346}.\u001b[0m\n",
      "11-Nov-20 17:14:30, replay, DEBUG: -- Второй фит модели в оптимизации\n",
      "11-Nov-20 17:14:30, replay, DEBUG: Начало обучения SLIM\n",
      "11-Nov-20 17:14:30, replay, DEBUG: Основная стадия обучения (fit)\n",
      "/mnt2/volodkevich/replay_tasks/replay/venv376/lib/python3.7/site-packages/pyspark/sql/pandas/group_ops.py:76: UserWarning: It is preferred to use 'applyInPandas' over this API. This API will be deprecated in the future releases. See SPARK-28264 for more details.\n",
      "  \"more details.\", UserWarning)\n",
      "11-Nov-20 17:14:31, replay, DEBUG: -- Предикт модели в оптимизации\n",
      "11-Nov-20 17:14:31, replay, DEBUG: Начало предикта SLIM\n",
      "11-Nov-20 17:14:35, replay, DEBUG: -- Подсчет метрики в оптимизации\n",
      "/mnt2/volodkevich/replay_tasks/replay/venv376/lib/python3.7/site-packages/pyspark/sql/pandas/group_ops.py:76: UserWarning: It is preferred to use 'applyInPandas' over this API. This API will be deprecated in the future releases. See SPARK-28264 for more details.\n",
      "  \"more details.\", UserWarning)\n"
     ]
    },
    {
     "name": "stdout",
     "output_type": "stream",
     "text": [
      "{10: 0.19062397077019722}\n"
     ]
    },
    {
     "name": "stderr",
     "output_type": "stream",
     "text": [
      "11-Nov-20 17:14:57, replay, DEBUG: NDCG=0.19\n",
      "\u001b[32m[I 2020-11-11 17:14:57,766]\u001b[0m Finished trial#16 resulted in value: 0.19062397077019722. Current best value is 0.2743165952393946 with parameters: {'beta': 1.8799729122662445, 'lambda_': 0.016186199993327346}.\u001b[0m\n",
      "11-Nov-20 17:14:57, replay, DEBUG: -- Второй фит модели в оптимизации\n",
      "11-Nov-20 17:14:57, replay, DEBUG: Начало обучения SLIM\n",
      "11-Nov-20 17:14:57, replay, DEBUG: Основная стадия обучения (fit)\n",
      "/mnt2/volodkevich/replay_tasks/replay/venv376/lib/python3.7/site-packages/pyspark/sql/pandas/group_ops.py:76: UserWarning: It is preferred to use 'applyInPandas' over this API. This API will be deprecated in the future releases. See SPARK-28264 for more details.\n",
      "  \"more details.\", UserWarning)\n",
      "11-Nov-20 17:14:59, replay, DEBUG: -- Предикт модели в оптимизации\n",
      "11-Nov-20 17:14:59, replay, DEBUG: Начало предикта SLIM\n",
      "11-Nov-20 17:15:03, replay, DEBUG: -- Подсчет метрики в оптимизации\n",
      "/mnt2/volodkevich/replay_tasks/replay/venv376/lib/python3.7/site-packages/pyspark/sql/pandas/group_ops.py:76: UserWarning: It is preferred to use 'applyInPandas' over this API. This API will be deprecated in the future releases. See SPARK-28264 for more details.\n",
      "  \"more details.\", UserWarning)\n"
     ]
    },
    {
     "name": "stdout",
     "output_type": "stream",
     "text": [
      "{10: 0.25258825358218273}\n"
     ]
    },
    {
     "name": "stderr",
     "output_type": "stream",
     "text": [
      "11-Nov-20 17:15:23, replay, DEBUG: NDCG=0.25\n",
      "\u001b[32m[I 2020-11-11 17:15:23,377]\u001b[0m Finished trial#17 resulted in value: 0.25258825358218273. Current best value is 0.2743165952393946 with parameters: {'beta': 1.8799729122662445, 'lambda_': 0.016186199993327346}.\u001b[0m\n",
      "11-Nov-20 17:15:23, replay, DEBUG: -- Второй фит модели в оптимизации\n",
      "11-Nov-20 17:15:23, replay, DEBUG: Начало обучения SLIM\n",
      "11-Nov-20 17:15:23, replay, DEBUG: Основная стадия обучения (fit)\n",
      "/mnt2/volodkevich/replay_tasks/replay/venv376/lib/python3.7/site-packages/pyspark/sql/pandas/group_ops.py:76: UserWarning: It is preferred to use 'applyInPandas' over this API. This API will be deprecated in the future releases. See SPARK-28264 for more details.\n",
      "  \"more details.\", UserWarning)\n",
      "11-Nov-20 17:15:24, replay, DEBUG: -- Предикт модели в оптимизации\n",
      "11-Nov-20 17:15:24, replay, DEBUG: Начало предикта SLIM\n",
      "11-Nov-20 17:15:28, replay, DEBUG: -- Подсчет метрики в оптимизации\n",
      "/mnt2/volodkevich/replay_tasks/replay/venv376/lib/python3.7/site-packages/pyspark/sql/pandas/group_ops.py:76: UserWarning: It is preferred to use 'applyInPandas' over this API. This API will be deprecated in the future releases. See SPARK-28264 for more details.\n",
      "  \"more details.\", UserWarning)\n"
     ]
    },
    {
     "name": "stdout",
     "output_type": "stream",
     "text": [
      "{10: 0.266605038266237}\n"
     ]
    },
    {
     "name": "stderr",
     "output_type": "stream",
     "text": [
      "11-Nov-20 17:15:49, replay, DEBUG: NDCG=0.27\n",
      "\u001b[32m[I 2020-11-11 17:15:49,478]\u001b[0m Finished trial#18 resulted in value: 0.266605038266237. Current best value is 0.2743165952393946 with parameters: {'beta': 1.8799729122662445, 'lambda_': 0.016186199993327346}.\u001b[0m\n",
      "11-Nov-20 17:15:49, replay, DEBUG: -- Второй фит модели в оптимизации\n",
      "11-Nov-20 17:15:49, replay, DEBUG: Начало обучения SLIM\n",
      "11-Nov-20 17:15:49, replay, DEBUG: Основная стадия обучения (fit)\n",
      "/mnt2/volodkevich/replay_tasks/replay/venv376/lib/python3.7/site-packages/pyspark/sql/pandas/group_ops.py:76: UserWarning: It is preferred to use 'applyInPandas' over this API. This API will be deprecated in the future releases. See SPARK-28264 for more details.\n",
      "  \"more details.\", UserWarning)\n",
      "11-Nov-20 17:15:50, replay, DEBUG: -- Предикт модели в оптимизации\n",
      "11-Nov-20 17:15:50, replay, DEBUG: Начало предикта SLIM\n",
      "11-Nov-20 17:15:54, replay, DEBUG: -- Подсчет метрики в оптимизации\n",
      "/mnt2/volodkevich/replay_tasks/replay/venv376/lib/python3.7/site-packages/pyspark/sql/pandas/group_ops.py:76: UserWarning: It is preferred to use 'applyInPandas' over this API. This API will be deprecated in the future releases. See SPARK-28264 for more details.\n",
      "  \"more details.\", UserWarning)\n"
     ]
    },
    {
     "name": "stdout",
     "output_type": "stream",
     "text": [
      "{10: 0.27443151905234003}\n"
     ]
    },
    {
     "name": "stderr",
     "output_type": "stream",
     "text": [
      "11-Nov-20 17:16:14, replay, DEBUG: NDCG=0.27\n",
      "\u001b[32m[I 2020-11-11 17:16:15,105]\u001b[0m Finished trial#19 resulted in value: 0.27443151905234003. Current best value is 0.27443151905234003 with parameters: {'beta': 1.9347834982278882, 'lambda_': 0.011806526371156959}.\u001b[0m\n",
      "11-Nov-20 17:16:15, replay, DEBUG: Лучшее значение метрики: 0.27\n",
      "11-Nov-20 17:16:15, replay, DEBUG: Лучшие параметры: {'beta': 1.9347834982278882, 'lambda_': 0.011806526371156959}\n"
     ]
    }
   ],
   "source": [
    "scenario.recommender=MODELS['slim_']\n",
    "\n",
    "best_slim_params = scenario.research(PARAM_GRID['slim_'],\n",
    "    log,\n",
    "    k=k,\n",
    "    n_trials=budget\n",
    ")\n",
    "slim_results = scenario.experiment.results"
   ]
  },
  {
   "cell_type": "code",
   "execution_count": 20,
   "metadata": {},
   "outputs": [],
   "source": [
    "all_results = knn_results.append(slim_results)"
   ]
  },
  {
   "cell_type": "code",
   "execution_count": 21,
   "metadata": {},
   "outputs": [
    {
     "data": {
      "text/plain": [
       "{'beta': 1.9347834982278882, 'lambda_': 0.011806526371156959}"
      ]
     },
     "execution_count": 21,
     "metadata": {},
     "output_type": "execute_result"
    }
   ],
   "source": [
    "best_slim_params"
   ]
  },
  {
   "cell_type": "markdown",
   "metadata": {},
   "source": [
    "### RandomRec (чтобы проверить категориальный параметр)"
   ]
  },
  {
   "cell_type": "code",
   "execution_count": 22,
   "metadata": {},
   "outputs": [],
   "source": [
    "RandomRec._search_space = dict()\n",
    "RandomRec._search_space['distribution'] = {'type': 'categorical', 'args': ['popular_based', 'uniform']}"
   ]
  },
  {
   "cell_type": "code",
   "execution_count": 36,
   "metadata": {},
   "outputs": [
    {
     "name": "stderr",
     "output_type": "stream",
     "text": [
      "11-Nov-20 17:23:53, replay, DEBUG: Деление лога на обучающую и тестовую выборку\n",
      "11-Nov-20 17:23:55, replay, DEBUG: Длина трейна и теста: 99812 187\n",
      "11-Nov-20 17:23:55, replay, DEBUG: Количество пользователей в трейне и тесте: 943, 187\n",
      "11-Nov-20 17:23:56, replay, DEBUG: Количество объектов в трейне и тесте: 1681, 154\n",
      "11-Nov-20 17:23:56, replay, DEBUG: Инициализация метрик\n",
      "11-Nov-20 17:23:56, replay, DEBUG: Обучение и предсказание дополнительной модели\n",
      "11-Nov-20 17:23:56, replay, DEBUG: Начало обучения PopRec\n",
      "11-Nov-20 17:23:56, replay, DEBUG: Предварительная стадия обучения (pre-fit)\n",
      "11-Nov-20 17:23:56, replay, DEBUG: Основная стадия обучения (fit)\n",
      "11-Nov-20 17:23:57, replay, DEBUG: Начало предикта PopRec\n",
      "/mnt2/volodkevich/replay_tasks/replay/venv376/lib/python3.7/site-packages/pyspark/sql/pandas/group_ops.py:76: UserWarning: It is preferred to use 'applyInPandas' over this API. This API will be deprecated in the future releases. See SPARK-28264 for more details.\n",
      "  \"more details.\", UserWarning)\n",
      "11-Nov-20 17:24:00, replay, DEBUG: Оптимизация параметров\n",
      "11-Nov-20 17:24:00, replay, DEBUG: Количество попыток: 2\n",
      "11-Nov-20 17:24:00, replay, DEBUG: -- Второй фит модели в оптимизации\n",
      "11-Nov-20 17:24:00, replay, DEBUG: Начало обучения RandomRec\n",
      "11-Nov-20 17:24:00, replay, DEBUG: Основная стадия обучения (fit)\n",
      "11-Nov-20 17:24:02, replay, DEBUG: -- Предикт модели в оптимизации\n",
      "11-Nov-20 17:24:02, replay, DEBUG: Начало предикта RandomRec\n",
      "11-Nov-20 17:24:07, replay, DEBUG: -- Подсчет метрики в оптимизации\n"
     ]
    },
    {
     "name": "stdout",
     "output_type": "stream",
     "text": [
      "{10: 0.03371643897890196}\n"
     ]
    },
    {
     "name": "stderr",
     "output_type": "stream",
     "text": [
      "11-Nov-20 17:24:38, replay, DEBUG: NDCG=0.03\n",
      "\u001b[32m[I 2020-11-11 17:24:38,501]\u001b[0m Finished trial#0 resulted in value: 0.03371643897890196. Current best value is 0.03371643897890196 with parameters: {'distribution': 'popular_based'}.\u001b[0m\n",
      "11-Nov-20 17:24:38, replay, DEBUG: -- Второй фит модели в оптимизации\n",
      "11-Nov-20 17:24:38, replay, DEBUG: Начало обучения RandomRec\n",
      "11-Nov-20 17:24:38, replay, DEBUG: Основная стадия обучения (fit)\n",
      "11-Nov-20 17:24:41, replay, DEBUG: -- Предикт модели в оптимизации\n",
      "11-Nov-20 17:24:41, replay, DEBUG: Начало предикта RandomRec\n",
      "11-Nov-20 17:24:50, replay, DEBUG: -- Подсчет метрики в оптимизации\n"
     ]
    },
    {
     "name": "stdout",
     "output_type": "stream",
     "text": [
      "{10: 0.030741882540491386}\n"
     ]
    },
    {
     "name": "stderr",
     "output_type": "stream",
     "text": [
      "11-Nov-20 17:25:19, replay, DEBUG: NDCG=0.03\n",
      "\u001b[32m[I 2020-11-11 17:25:19,555]\u001b[0m Finished trial#1 resulted in value: 0.030741882540491386. Current best value is 0.03371643897890196 with parameters: {'distribution': 'popular_based'}.\u001b[0m\n",
      "11-Nov-20 17:25:19, replay, DEBUG: Лучшее значение метрики: 0.03\n",
      "11-Nov-20 17:25:19, replay, DEBUG: Лучшие параметры: {'distribution': 'popular_based'}\n"
     ]
    }
   ],
   "source": [
    "scenario.recommender=MODELS['random_rec_']\n",
    "\n",
    "best_rr_params = scenario.research(PARAM_GRID['random_rec_'],\n",
    "    log,\n",
    "    k=k,\n",
    "    n_trials=2\n",
    ")\n",
    "rr_results = scenario.experiment.results"
   ]
  },
  {
   "cell_type": "code",
   "execution_count": 37,
   "metadata": {},
   "outputs": [],
   "source": [
    "all_results = all_results.append(rr_results)"
   ]
  },
  {
   "cell_type": "code",
   "execution_count": 38,
   "metadata": {},
   "outputs": [
    {
     "data": {
      "text/plain": [
       "{'distribution': 'popular_based'}"
      ]
     },
     "execution_count": 38,
     "metadata": {},
     "output_type": "execute_result"
    }
   ],
   "source": [
    "best_rr_params"
   ]
  },
  {
   "cell_type": "markdown",
   "metadata": {},
   "source": [
    "## Результаты"
   ]
  },
  {
   "cell_type": "code",
   "execution_count": 39,
   "metadata": {},
   "outputs": [
    {
     "data": {
      "text/html": [
       "<div>\n",
       "<style scoped>\n",
       "    .dataframe tbody tr th:only-of-type {\n",
       "        vertical-align: middle;\n",
       "    }\n",
       "\n",
       "    .dataframe tbody tr th {\n",
       "        vertical-align: top;\n",
       "    }\n",
       "\n",
       "    .dataframe thead th {\n",
       "        text-align: right;\n",
       "    }\n",
       "</style>\n",
       "<table border=\"1\" class=\"dataframe\">\n",
       "  <thead>\n",
       "    <tr style=\"text-align: right;\">\n",
       "      <th></th>\n",
       "      <th>HitRate@1</th>\n",
       "      <th>HitRate@5</th>\n",
       "      <th>HitRate@10</th>\n",
       "      <th>NDCG@10</th>\n",
       "      <th>NDCG@1</th>\n",
       "      <th>NDCG@5</th>\n",
       "    </tr>\n",
       "  </thead>\n",
       "  <tbody>\n",
       "    <tr>\n",
       "      <th>SLIM{'beta': 1.9347834982278882, 'lambda_': 0.011806526371156959}</th>\n",
       "      <td>0.106952</td>\n",
       "      <td>0.347594</td>\n",
       "      <td>0.497326</td>\n",
       "      <td>0.274432</td>\n",
       "      <td>0.106952</td>\n",
       "      <td>0.226848</td>\n",
       "    </tr>\n",
       "    <tr>\n",
       "      <th>best_slim_scenario</th>\n",
       "      <td>0.106952</td>\n",
       "      <td>0.347594</td>\n",
       "      <td>0.497326</td>\n",
       "      <td>0.274432</td>\n",
       "      <td>0.106952</td>\n",
       "      <td>0.226848</td>\n",
       "    </tr>\n",
       "    <tr>\n",
       "      <th>SLIM{'beta': 1.8799729122662445, 'lambda_': 0.016186199993327346}</th>\n",
       "      <td>0.106952</td>\n",
       "      <td>0.347594</td>\n",
       "      <td>0.491979</td>\n",
       "      <td>0.274317</td>\n",
       "      <td>0.106952</td>\n",
       "      <td>0.227824</td>\n",
       "    </tr>\n",
       "    <tr>\n",
       "      <th>SLIM{'beta': 1.8851075394684569, 'lambda_': 0.01342528450135674}</th>\n",
       "      <td>0.106952</td>\n",
       "      <td>0.342246</td>\n",
       "      <td>0.497326</td>\n",
       "      <td>0.273893</td>\n",
       "      <td>0.106952</td>\n",
       "      <td>0.224450</td>\n",
       "    </tr>\n",
       "    <tr>\n",
       "      <th>SLIM{'beta': 1.663127403505271, 'lambda_': 0.019312079434170928}</th>\n",
       "      <td>0.106952</td>\n",
       "      <td>0.347594</td>\n",
       "      <td>0.491979</td>\n",
       "      <td>0.273813</td>\n",
       "      <td>0.106952</td>\n",
       "      <td>0.227590</td>\n",
       "    </tr>\n",
       "    <tr>\n",
       "      <th>SLIM{'beta': 1.9106522803590236, 'lambda_': 0.019999182491868488}</th>\n",
       "      <td>0.101604</td>\n",
       "      <td>0.347594</td>\n",
       "      <td>0.481283</td>\n",
       "      <td>0.271695</td>\n",
       "      <td>0.101604</td>\n",
       "      <td>0.228423</td>\n",
       "    </tr>\n",
       "    <tr>\n",
       "      <th>SLIM{'beta': 0.4455599911925877, 'lambda_': 0.10152327312240496}</th>\n",
       "      <td>0.117647</td>\n",
       "      <td>0.347594</td>\n",
       "      <td>0.454545</td>\n",
       "      <td>0.270219</td>\n",
       "      <td>0.117647</td>\n",
       "      <td>0.236580</td>\n",
       "    </tr>\n",
       "    <tr>\n",
       "      <th>SLIM{'beta': 0.8732149707670739, 'lambda_': 0.10803703487597296}</th>\n",
       "      <td>0.106952</td>\n",
       "      <td>0.336898</td>\n",
       "      <td>0.459893</td>\n",
       "      <td>0.266605</td>\n",
       "      <td>0.106952</td>\n",
       "      <td>0.227561</td>\n",
       "    </tr>\n",
       "    <tr>\n",
       "      <th>SLIM{'beta': 1.0767151647010165, 'lambda_': 0.004001558568600958}</th>\n",
       "      <td>0.096257</td>\n",
       "      <td>0.315508</td>\n",
       "      <td>0.475936</td>\n",
       "      <td>0.256823</td>\n",
       "      <td>0.096257</td>\n",
       "      <td>0.204856</td>\n",
       "    </tr>\n",
       "    <tr>\n",
       "      <th>SLIM{'beta': 0.16259395873118712, 'lambda_': 0.046553318221315206}</th>\n",
       "      <td>0.112299</td>\n",
       "      <td>0.304813</td>\n",
       "      <td>0.449198</td>\n",
       "      <td>0.252588</td>\n",
       "      <td>0.112299</td>\n",
       "      <td>0.205515</td>\n",
       "    </tr>\n",
       "    <tr>\n",
       "      <th>SLIM{'beta': 0.6257892634983832, 'lambda_': 0.007107769054060344}</th>\n",
       "      <td>0.106952</td>\n",
       "      <td>0.283422</td>\n",
       "      <td>0.454545</td>\n",
       "      <td>0.251849</td>\n",
       "      <td>0.106952</td>\n",
       "      <td>0.196762</td>\n",
       "    </tr>\n",
       "    <tr>\n",
       "      <th>SLIM{'beta': 0.0048078597244356445, 'lambda_': 0.05876956809966476}</th>\n",
       "      <td>0.112299</td>\n",
       "      <td>0.299465</td>\n",
       "      <td>0.438503</td>\n",
       "      <td>0.248756</td>\n",
       "      <td>0.112299</td>\n",
       "      <td>0.203170</td>\n",
       "    </tr>\n",
       "    <tr>\n",
       "      <th>SLIM{'beta': 1.3365492906568486, 'lambda_': 0.27013532037045146}</th>\n",
       "      <td>0.112299</td>\n",
       "      <td>0.267380</td>\n",
       "      <td>0.390374</td>\n",
       "      <td>0.227253</td>\n",
       "      <td>0.112299</td>\n",
       "      <td>0.187913</td>\n",
       "    </tr>\n",
       "    <tr>\n",
       "      <th>SLIM{'beta': 0.023439928205404078, 'lambda_': 0.027971061628902262}</th>\n",
       "      <td>0.096257</td>\n",
       "      <td>0.272727</td>\n",
       "      <td>0.395722</td>\n",
       "      <td>0.225293</td>\n",
       "      <td>0.096257</td>\n",
       "      <td>0.185639</td>\n",
       "    </tr>\n",
       "    <tr>\n",
       "      <th>SLIM{'beta': 0.06437984155921288, 'lambda_': 0.3206989583780221}</th>\n",
       "      <td>0.101604</td>\n",
       "      <td>0.267380</td>\n",
       "      <td>0.374332</td>\n",
       "      <td>0.219765</td>\n",
       "      <td>0.101604</td>\n",
       "      <td>0.185132</td>\n",
       "    </tr>\n",
       "    <tr>\n",
       "      <th>SLIM{'beta': 0.044276653071367085, 'lambda_': 0.36964754256088284}</th>\n",
       "      <td>0.101604</td>\n",
       "      <td>0.256684</td>\n",
       "      <td>0.379679</td>\n",
       "      <td>0.218306</td>\n",
       "      <td>0.101604</td>\n",
       "      <td>0.179594</td>\n",
       "    </tr>\n",
       "    <tr>\n",
       "      <th>SLIM{'beta': 0.24699589646786324, 'lambda_': 0.005132979067255686}</th>\n",
       "      <td>0.085561</td>\n",
       "      <td>0.251337</td>\n",
       "      <td>0.390374</td>\n",
       "      <td>0.212756</td>\n",
       "      <td>0.085561</td>\n",
       "      <td>0.168484</td>\n",
       "    </tr>\n",
       "    <tr>\n",
       "      <th>SLIM{'beta': 0.18265400457712322, 'lambda_': 0.007594044085762485}</th>\n",
       "      <td>0.080214</td>\n",
       "      <td>0.256684</td>\n",
       "      <td>0.379679</td>\n",
       "      <td>0.208022</td>\n",
       "      <td>0.080214</td>\n",
       "      <td>0.168855</td>\n",
       "    </tr>\n",
       "    <tr>\n",
       "      <th>SLIM{'beta': 0.008996829102477543, 'lambda_': 0.012080861429276023}</th>\n",
       "      <td>0.074866</td>\n",
       "      <td>0.235294</td>\n",
       "      <td>0.347594</td>\n",
       "      <td>0.190624</td>\n",
       "      <td>0.074866</td>\n",
       "      <td>0.153246</td>\n",
       "    </tr>\n",
       "    <tr>\n",
       "      <th>KNN{'num_neighbours': 12, 'shrink': 2}</th>\n",
       "      <td>0.090909</td>\n",
       "      <td>0.160428</td>\n",
       "      <td>0.272727</td>\n",
       "      <td>0.163330</td>\n",
       "      <td>0.090909</td>\n",
       "      <td>0.126518</td>\n",
       "    </tr>\n",
       "    <tr>\n",
       "      <th>best_knn_scenario</th>\n",
       "      <td>0.090909</td>\n",
       "      <td>0.160428</td>\n",
       "      <td>0.272727</td>\n",
       "      <td>0.163330</td>\n",
       "      <td>0.090909</td>\n",
       "      <td>0.126518</td>\n",
       "    </tr>\n",
       "    <tr>\n",
       "      <th>KNN{'num_neighbours': 19, 'shrink': 0}</th>\n",
       "      <td>0.080214</td>\n",
       "      <td>0.176471</td>\n",
       "      <td>0.256684</td>\n",
       "      <td>0.156579</td>\n",
       "      <td>0.080214</td>\n",
       "      <td>0.131111</td>\n",
       "    </tr>\n",
       "    <tr>\n",
       "      <th>KNN{'num_neighbours': 16, 'shrink': 4}</th>\n",
       "      <td>0.069519</td>\n",
       "      <td>0.176471</td>\n",
       "      <td>0.267380</td>\n",
       "      <td>0.156053</td>\n",
       "      <td>0.069519</td>\n",
       "      <td>0.126930</td>\n",
       "    </tr>\n",
       "    <tr>\n",
       "      <th>KNN{'num_neighbours': 13, 'shrink': 29}</th>\n",
       "      <td>0.080214</td>\n",
       "      <td>0.155080</td>\n",
       "      <td>0.245989</td>\n",
       "      <td>0.151695</td>\n",
       "      <td>0.080214</td>\n",
       "      <td>0.121667</td>\n",
       "    </tr>\n",
       "    <tr>\n",
       "      <th>KNN{'num_neighbours': 23, 'shrink': 33}</th>\n",
       "      <td>0.069519</td>\n",
       "      <td>0.165775</td>\n",
       "      <td>0.240642</td>\n",
       "      <td>0.144892</td>\n",
       "      <td>0.069519</td>\n",
       "      <td>0.120321</td>\n",
       "    </tr>\n",
       "    <tr>\n",
       "      <th>KNN{'num_neighbours': 25, 'shrink': 31}</th>\n",
       "      <td>0.069519</td>\n",
       "      <td>0.155080</td>\n",
       "      <td>0.245989</td>\n",
       "      <td>0.144746</td>\n",
       "      <td>0.069519</td>\n",
       "      <td>0.115578</td>\n",
       "    </tr>\n",
       "    <tr>\n",
       "      <th>KNN{'num_neighbours': 39, 'shrink': 1}</th>\n",
       "      <td>0.058824</td>\n",
       "      <td>0.176471</td>\n",
       "      <td>0.245989</td>\n",
       "      <td>0.141332</td>\n",
       "      <td>0.058824</td>\n",
       "      <td>0.118135</td>\n",
       "    </tr>\n",
       "    <tr>\n",
       "      <th>KNN{'num_neighbours': 35, 'shrink': 21}</th>\n",
       "      <td>0.074866</td>\n",
       "      <td>0.176471</td>\n",
       "      <td>0.219251</td>\n",
       "      <td>0.140821</td>\n",
       "      <td>0.074866</td>\n",
       "      <td>0.126898</td>\n",
       "    </tr>\n",
       "    <tr>\n",
       "      <th>KNN{'num_neighbours': 20, 'shrink': 38}</th>\n",
       "      <td>0.069519</td>\n",
       "      <td>0.171123</td>\n",
       "      <td>0.229947</td>\n",
       "      <td>0.140750</td>\n",
       "      <td>0.069519</td>\n",
       "      <td>0.121690</td>\n",
       "    </tr>\n",
       "    <tr>\n",
       "      <th>KNN{'num_neighbours': 7, 'shrink': 30}</th>\n",
       "      <td>0.069519</td>\n",
       "      <td>0.181818</td>\n",
       "      <td>0.229947</td>\n",
       "      <td>0.140619</td>\n",
       "      <td>0.069519</td>\n",
       "      <td>0.124895</td>\n",
       "    </tr>\n",
       "    <tr>\n",
       "      <th>KNN{'num_neighbours': 37, 'shrink': 12}</th>\n",
       "      <td>0.058824</td>\n",
       "      <td>0.176471</td>\n",
       "      <td>0.219251</td>\n",
       "      <td>0.134288</td>\n",
       "      <td>0.058824</td>\n",
       "      <td>0.120743</td>\n",
       "    </tr>\n",
       "    <tr>\n",
       "      <th>KNN{'num_neighbours': 55, 'shrink': 40}</th>\n",
       "      <td>0.058824</td>\n",
       "      <td>0.155080</td>\n",
       "      <td>0.235294</td>\n",
       "      <td>0.129111</td>\n",
       "      <td>0.058824</td>\n",
       "      <td>0.102168</td>\n",
       "    </tr>\n",
       "    <tr>\n",
       "      <th>KNN{'num_neighbours': 48, 'shrink': 45}</th>\n",
       "      <td>0.053476</td>\n",
       "      <td>0.165775</td>\n",
       "      <td>0.235294</td>\n",
       "      <td>0.128333</td>\n",
       "      <td>0.053476</td>\n",
       "      <td>0.105776</td>\n",
       "    </tr>\n",
       "    <tr>\n",
       "      <th>KNN{'num_neighbours': 61, 'shrink': 19}</th>\n",
       "      <td>0.053476</td>\n",
       "      <td>0.155080</td>\n",
       "      <td>0.229947</td>\n",
       "      <td>0.123038</td>\n",
       "      <td>0.053476</td>\n",
       "      <td>0.098518</td>\n",
       "    </tr>\n",
       "    <tr>\n",
       "      <th>KNN{'num_neighbours': 68, 'shrink': 25}</th>\n",
       "      <td>0.048128</td>\n",
       "      <td>0.128342</td>\n",
       "      <td>0.229947</td>\n",
       "      <td>0.118680</td>\n",
       "      <td>0.048128</td>\n",
       "      <td>0.085457</td>\n",
       "    </tr>\n",
       "    <tr>\n",
       "      <th>KNN{'num_neighbours': 67, 'shrink': 14}</th>\n",
       "      <td>0.037433</td>\n",
       "      <td>0.133690</td>\n",
       "      <td>0.235294</td>\n",
       "      <td>0.117100</td>\n",
       "      <td>0.037433</td>\n",
       "      <td>0.084085</td>\n",
       "    </tr>\n",
       "    <tr>\n",
       "      <th>KNN{'num_neighbours': 3, 'shrink': 9}</th>\n",
       "      <td>0.042781</td>\n",
       "      <td>0.128342</td>\n",
       "      <td>0.219251</td>\n",
       "      <td>0.113550</td>\n",
       "      <td>0.042781</td>\n",
       "      <td>0.084690</td>\n",
       "    </tr>\n",
       "    <tr>\n",
       "      <th>SLIM{'beta': 0.5069122877651074, 'lambda_': 1.9727297005185105}</th>\n",
       "      <td>0.032086</td>\n",
       "      <td>0.133690</td>\n",
       "      <td>0.229947</td>\n",
       "      <td>0.113144</td>\n",
       "      <td>0.032086</td>\n",
       "      <td>0.083186</td>\n",
       "    </tr>\n",
       "    <tr>\n",
       "      <th>SLIM{'beta': 0.06247182931704085, 'lambda_': 1.7882240290577447}</th>\n",
       "      <td>0.026738</td>\n",
       "      <td>0.133690</td>\n",
       "      <td>0.219251</td>\n",
       "      <td>0.112566</td>\n",
       "      <td>0.026738</td>\n",
       "      <td>0.085359</td>\n",
       "    </tr>\n",
       "    <tr>\n",
       "      <th>KNN{'num_neighbours': 3, 'shrink': 5}</th>\n",
       "      <td>0.048128</td>\n",
       "      <td>0.117647</td>\n",
       "      <td>0.213904</td>\n",
       "      <td>0.112064</td>\n",
       "      <td>0.048128</td>\n",
       "      <td>0.082254</td>\n",
       "    </tr>\n",
       "    <tr>\n",
       "      <th>KNN{'num_neighbours': 82, 'shrink': 40}</th>\n",
       "      <td>0.042781</td>\n",
       "      <td>0.128342</td>\n",
       "      <td>0.192513</td>\n",
       "      <td>0.100198</td>\n",
       "      <td>0.042781</td>\n",
       "      <td>0.080641</td>\n",
       "    </tr>\n",
       "    <tr>\n",
       "      <th>KNN{'num_neighbours': 100, 'shrink': 1}</th>\n",
       "      <td>0.026738</td>\n",
       "      <td>0.144385</td>\n",
       "      <td>0.192513</td>\n",
       "      <td>0.095518</td>\n",
       "      <td>0.026738</td>\n",
       "      <td>0.080695</td>\n",
       "    </tr>\n",
       "    <tr>\n",
       "      <th>RandomRec{'distribution': 'uniform'}</th>\n",
       "      <td>0.010695</td>\n",
       "      <td>0.037433</td>\n",
       "      <td>0.106952</td>\n",
       "      <td>0.044417</td>\n",
       "      <td>0.010695</td>\n",
       "      <td>0.022347</td>\n",
       "    </tr>\n",
       "    <tr>\n",
       "      <th>RandomRec{'distribution': 'popular_based'}</th>\n",
       "      <td>0.000000</td>\n",
       "      <td>0.032086</td>\n",
       "      <td>0.074866</td>\n",
       "      <td>0.030742</td>\n",
       "      <td>0.000000</td>\n",
       "      <td>0.016933</td>\n",
       "    </tr>\n",
       "  </tbody>\n",
       "</table>\n",
       "</div>"
      ],
      "text/plain": [
       "                                                    HitRate@1  HitRate@5  \\\n",
       "SLIM{'beta': 1.9347834982278882, 'lambda_': 0.0...   0.106952   0.347594   \n",
       "best_slim_scenario                                   0.106952   0.347594   \n",
       "SLIM{'beta': 1.8799729122662445, 'lambda_': 0.0...   0.106952   0.347594   \n",
       "SLIM{'beta': 1.8851075394684569, 'lambda_': 0.0...   0.106952   0.342246   \n",
       "SLIM{'beta': 1.663127403505271, 'lambda_': 0.01...   0.106952   0.347594   \n",
       "SLIM{'beta': 1.9106522803590236, 'lambda_': 0.0...   0.101604   0.347594   \n",
       "SLIM{'beta': 0.4455599911925877, 'lambda_': 0.1...   0.117647   0.347594   \n",
       "SLIM{'beta': 0.8732149707670739, 'lambda_': 0.1...   0.106952   0.336898   \n",
       "SLIM{'beta': 1.0767151647010165, 'lambda_': 0.0...   0.096257   0.315508   \n",
       "SLIM{'beta': 0.16259395873118712, 'lambda_': 0....   0.112299   0.304813   \n",
       "SLIM{'beta': 0.6257892634983832, 'lambda_': 0.0...   0.106952   0.283422   \n",
       "SLIM{'beta': 0.0048078597244356445, 'lambda_': ...   0.112299   0.299465   \n",
       "SLIM{'beta': 1.3365492906568486, 'lambda_': 0.2...   0.112299   0.267380   \n",
       "SLIM{'beta': 0.023439928205404078, 'lambda_': 0...   0.096257   0.272727   \n",
       "SLIM{'beta': 0.06437984155921288, 'lambda_': 0....   0.101604   0.267380   \n",
       "SLIM{'beta': 0.044276653071367085, 'lambda_': 0...   0.101604   0.256684   \n",
       "SLIM{'beta': 0.24699589646786324, 'lambda_': 0....   0.085561   0.251337   \n",
       "SLIM{'beta': 0.18265400457712322, 'lambda_': 0....   0.080214   0.256684   \n",
       "SLIM{'beta': 0.008996829102477543, 'lambda_': 0...   0.074866   0.235294   \n",
       "KNN{'num_neighbours': 12, 'shrink': 2}               0.090909   0.160428   \n",
       "best_knn_scenario                                    0.090909   0.160428   \n",
       "KNN{'num_neighbours': 19, 'shrink': 0}               0.080214   0.176471   \n",
       "KNN{'num_neighbours': 16, 'shrink': 4}               0.069519   0.176471   \n",
       "KNN{'num_neighbours': 13, 'shrink': 29}              0.080214   0.155080   \n",
       "KNN{'num_neighbours': 23, 'shrink': 33}              0.069519   0.165775   \n",
       "KNN{'num_neighbours': 25, 'shrink': 31}              0.069519   0.155080   \n",
       "KNN{'num_neighbours': 39, 'shrink': 1}               0.058824   0.176471   \n",
       "KNN{'num_neighbours': 35, 'shrink': 21}              0.074866   0.176471   \n",
       "KNN{'num_neighbours': 20, 'shrink': 38}              0.069519   0.171123   \n",
       "KNN{'num_neighbours': 7, 'shrink': 30}               0.069519   0.181818   \n",
       "KNN{'num_neighbours': 37, 'shrink': 12}              0.058824   0.176471   \n",
       "KNN{'num_neighbours': 55, 'shrink': 40}              0.058824   0.155080   \n",
       "KNN{'num_neighbours': 48, 'shrink': 45}              0.053476   0.165775   \n",
       "KNN{'num_neighbours': 61, 'shrink': 19}              0.053476   0.155080   \n",
       "KNN{'num_neighbours': 68, 'shrink': 25}              0.048128   0.128342   \n",
       "KNN{'num_neighbours': 67, 'shrink': 14}              0.037433   0.133690   \n",
       "KNN{'num_neighbours': 3, 'shrink': 9}                0.042781   0.128342   \n",
       "SLIM{'beta': 0.5069122877651074, 'lambda_': 1.9...   0.032086   0.133690   \n",
       "SLIM{'beta': 0.06247182931704085, 'lambda_': 1....   0.026738   0.133690   \n",
       "KNN{'num_neighbours': 3, 'shrink': 5}                0.048128   0.117647   \n",
       "KNN{'num_neighbours': 82, 'shrink': 40}              0.042781   0.128342   \n",
       "KNN{'num_neighbours': 100, 'shrink': 1}              0.026738   0.144385   \n",
       "RandomRec{'distribution': 'uniform'}                 0.010695   0.037433   \n",
       "RandomRec{'distribution': 'popular_based'}           0.000000   0.032086   \n",
       "\n",
       "                                                    HitRate@10   NDCG@10  \\\n",
       "SLIM{'beta': 1.9347834982278882, 'lambda_': 0.0...    0.497326  0.274432   \n",
       "best_slim_scenario                                    0.497326  0.274432   \n",
       "SLIM{'beta': 1.8799729122662445, 'lambda_': 0.0...    0.491979  0.274317   \n",
       "SLIM{'beta': 1.8851075394684569, 'lambda_': 0.0...    0.497326  0.273893   \n",
       "SLIM{'beta': 1.663127403505271, 'lambda_': 0.01...    0.491979  0.273813   \n",
       "SLIM{'beta': 1.9106522803590236, 'lambda_': 0.0...    0.481283  0.271695   \n",
       "SLIM{'beta': 0.4455599911925877, 'lambda_': 0.1...    0.454545  0.270219   \n",
       "SLIM{'beta': 0.8732149707670739, 'lambda_': 0.1...    0.459893  0.266605   \n",
       "SLIM{'beta': 1.0767151647010165, 'lambda_': 0.0...    0.475936  0.256823   \n",
       "SLIM{'beta': 0.16259395873118712, 'lambda_': 0....    0.449198  0.252588   \n",
       "SLIM{'beta': 0.6257892634983832, 'lambda_': 0.0...    0.454545  0.251849   \n",
       "SLIM{'beta': 0.0048078597244356445, 'lambda_': ...    0.438503  0.248756   \n",
       "SLIM{'beta': 1.3365492906568486, 'lambda_': 0.2...    0.390374  0.227253   \n",
       "SLIM{'beta': 0.023439928205404078, 'lambda_': 0...    0.395722  0.225293   \n",
       "SLIM{'beta': 0.06437984155921288, 'lambda_': 0....    0.374332  0.219765   \n",
       "SLIM{'beta': 0.044276653071367085, 'lambda_': 0...    0.379679  0.218306   \n",
       "SLIM{'beta': 0.24699589646786324, 'lambda_': 0....    0.390374  0.212756   \n",
       "SLIM{'beta': 0.18265400457712322, 'lambda_': 0....    0.379679  0.208022   \n",
       "SLIM{'beta': 0.008996829102477543, 'lambda_': 0...    0.347594  0.190624   \n",
       "KNN{'num_neighbours': 12, 'shrink': 2}                0.272727  0.163330   \n",
       "best_knn_scenario                                     0.272727  0.163330   \n",
       "KNN{'num_neighbours': 19, 'shrink': 0}                0.256684  0.156579   \n",
       "KNN{'num_neighbours': 16, 'shrink': 4}                0.267380  0.156053   \n",
       "KNN{'num_neighbours': 13, 'shrink': 29}               0.245989  0.151695   \n",
       "KNN{'num_neighbours': 23, 'shrink': 33}               0.240642  0.144892   \n",
       "KNN{'num_neighbours': 25, 'shrink': 31}               0.245989  0.144746   \n",
       "KNN{'num_neighbours': 39, 'shrink': 1}                0.245989  0.141332   \n",
       "KNN{'num_neighbours': 35, 'shrink': 21}               0.219251  0.140821   \n",
       "KNN{'num_neighbours': 20, 'shrink': 38}               0.229947  0.140750   \n",
       "KNN{'num_neighbours': 7, 'shrink': 30}                0.229947  0.140619   \n",
       "KNN{'num_neighbours': 37, 'shrink': 12}               0.219251  0.134288   \n",
       "KNN{'num_neighbours': 55, 'shrink': 40}               0.235294  0.129111   \n",
       "KNN{'num_neighbours': 48, 'shrink': 45}               0.235294  0.128333   \n",
       "KNN{'num_neighbours': 61, 'shrink': 19}               0.229947  0.123038   \n",
       "KNN{'num_neighbours': 68, 'shrink': 25}               0.229947  0.118680   \n",
       "KNN{'num_neighbours': 67, 'shrink': 14}               0.235294  0.117100   \n",
       "KNN{'num_neighbours': 3, 'shrink': 9}                 0.219251  0.113550   \n",
       "SLIM{'beta': 0.5069122877651074, 'lambda_': 1.9...    0.229947  0.113144   \n",
       "SLIM{'beta': 0.06247182931704085, 'lambda_': 1....    0.219251  0.112566   \n",
       "KNN{'num_neighbours': 3, 'shrink': 5}                 0.213904  0.112064   \n",
       "KNN{'num_neighbours': 82, 'shrink': 40}               0.192513  0.100198   \n",
       "KNN{'num_neighbours': 100, 'shrink': 1}               0.192513  0.095518   \n",
       "RandomRec{'distribution': 'uniform'}                  0.106952  0.044417   \n",
       "RandomRec{'distribution': 'popular_based'}            0.074866  0.030742   \n",
       "\n",
       "                                                      NDCG@1    NDCG@5  \n",
       "SLIM{'beta': 1.9347834982278882, 'lambda_': 0.0...  0.106952  0.226848  \n",
       "best_slim_scenario                                  0.106952  0.226848  \n",
       "SLIM{'beta': 1.8799729122662445, 'lambda_': 0.0...  0.106952  0.227824  \n",
       "SLIM{'beta': 1.8851075394684569, 'lambda_': 0.0...  0.106952  0.224450  \n",
       "SLIM{'beta': 1.663127403505271, 'lambda_': 0.01...  0.106952  0.227590  \n",
       "SLIM{'beta': 1.9106522803590236, 'lambda_': 0.0...  0.101604  0.228423  \n",
       "SLIM{'beta': 0.4455599911925877, 'lambda_': 0.1...  0.117647  0.236580  \n",
       "SLIM{'beta': 0.8732149707670739, 'lambda_': 0.1...  0.106952  0.227561  \n",
       "SLIM{'beta': 1.0767151647010165, 'lambda_': 0.0...  0.096257  0.204856  \n",
       "SLIM{'beta': 0.16259395873118712, 'lambda_': 0....  0.112299  0.205515  \n",
       "SLIM{'beta': 0.6257892634983832, 'lambda_': 0.0...  0.106952  0.196762  \n",
       "SLIM{'beta': 0.0048078597244356445, 'lambda_': ...  0.112299  0.203170  \n",
       "SLIM{'beta': 1.3365492906568486, 'lambda_': 0.2...  0.112299  0.187913  \n",
       "SLIM{'beta': 0.023439928205404078, 'lambda_': 0...  0.096257  0.185639  \n",
       "SLIM{'beta': 0.06437984155921288, 'lambda_': 0....  0.101604  0.185132  \n",
       "SLIM{'beta': 0.044276653071367085, 'lambda_': 0...  0.101604  0.179594  \n",
       "SLIM{'beta': 0.24699589646786324, 'lambda_': 0....  0.085561  0.168484  \n",
       "SLIM{'beta': 0.18265400457712322, 'lambda_': 0....  0.080214  0.168855  \n",
       "SLIM{'beta': 0.008996829102477543, 'lambda_': 0...  0.074866  0.153246  \n",
       "KNN{'num_neighbours': 12, 'shrink': 2}              0.090909  0.126518  \n",
       "best_knn_scenario                                   0.090909  0.126518  \n",
       "KNN{'num_neighbours': 19, 'shrink': 0}              0.080214  0.131111  \n",
       "KNN{'num_neighbours': 16, 'shrink': 4}              0.069519  0.126930  \n",
       "KNN{'num_neighbours': 13, 'shrink': 29}             0.080214  0.121667  \n",
       "KNN{'num_neighbours': 23, 'shrink': 33}             0.069519  0.120321  \n",
       "KNN{'num_neighbours': 25, 'shrink': 31}             0.069519  0.115578  \n",
       "KNN{'num_neighbours': 39, 'shrink': 1}              0.058824  0.118135  \n",
       "KNN{'num_neighbours': 35, 'shrink': 21}             0.074866  0.126898  \n",
       "KNN{'num_neighbours': 20, 'shrink': 38}             0.069519  0.121690  \n",
       "KNN{'num_neighbours': 7, 'shrink': 30}              0.069519  0.124895  \n",
       "KNN{'num_neighbours': 37, 'shrink': 12}             0.058824  0.120743  \n",
       "KNN{'num_neighbours': 55, 'shrink': 40}             0.058824  0.102168  \n",
       "KNN{'num_neighbours': 48, 'shrink': 45}             0.053476  0.105776  \n",
       "KNN{'num_neighbours': 61, 'shrink': 19}             0.053476  0.098518  \n",
       "KNN{'num_neighbours': 68, 'shrink': 25}             0.048128  0.085457  \n",
       "KNN{'num_neighbours': 67, 'shrink': 14}             0.037433  0.084085  \n",
       "KNN{'num_neighbours': 3, 'shrink': 9}               0.042781  0.084690  \n",
       "SLIM{'beta': 0.5069122877651074, 'lambda_': 1.9...  0.032086  0.083186  \n",
       "SLIM{'beta': 0.06247182931704085, 'lambda_': 1....  0.026738  0.085359  \n",
       "KNN{'num_neighbours': 3, 'shrink': 5}               0.048128  0.082254  \n",
       "KNN{'num_neighbours': 82, 'shrink': 40}             0.042781  0.080641  \n",
       "KNN{'num_neighbours': 100, 'shrink': 1}             0.026738  0.080695  \n",
       "RandomRec{'distribution': 'uniform'}                0.010695  0.022347  \n",
       "RandomRec{'distribution': 'popular_based'}          0.000000  0.016933  "
      ]
     },
     "execution_count": 39,
     "metadata": {},
     "output_type": "execute_result"
    }
   ],
   "source": [
    "all_results.sort_values('NDCG@10', ascending=False)"
   ]
  },
  {
   "cell_type": "markdown",
   "metadata": {},
   "source": [
    "## Проверка, что production работает ок"
   ]
  },
  {
   "cell_type": "code",
   "execution_count": 27,
   "metadata": {},
   "outputs": [],
   "source": [
    "from replay.experiment import Experiment"
   ]
  },
  {
   "cell_type": "code",
   "execution_count": 28,
   "metadata": {},
   "outputs": [],
   "source": [
    "train, test = user_random_splitter.split(log)\n",
    "e = Experiment(test, {NDCG(): k_for_metrics, HitRate(): k_for_metrics})"
   ]
  },
  {
   "cell_type": "markdown",
   "metadata": {},
   "source": [
    "### Предсказание с помощью сценария"
   ]
  },
  {
   "cell_type": "code",
   "execution_count": 29,
   "metadata": {},
   "outputs": [
    {
     "data": {
      "text/plain": [
       "{'beta': 1.9347834982278882, 'lambda_': 0.011806526371156959}"
      ]
     },
     "execution_count": 29,
     "metadata": {},
     "output_type": "execute_result"
    }
   ],
   "source": [
    "best_slim_params"
   ]
  },
  {
   "cell_type": "code",
   "execution_count": 30,
   "metadata": {},
   "outputs": [
    {
     "name": "stderr",
     "output_type": "stream",
     "text": [
      "11-Nov-20 17:17:08, replay, DEBUG: Начало обучения SLIM\n",
      "11-Nov-20 17:17:08, replay, DEBUG: Основная стадия обучения (fit)\n",
      "/mnt2/volodkevich/replay_tasks/replay/venv376/lib/python3.7/site-packages/pyspark/sql/pandas/group_ops.py:76: UserWarning: It is preferred to use 'applyInPandas' over this API. This API will be deprecated in the future releases. See SPARK-28264 for more details.\n",
      "  \"more details.\", UserWarning)\n",
      "11-Nov-20 17:17:10, replay, DEBUG: Начало предикта SLIM\n",
      "11-Nov-20 17:17:11, replay, DEBUG: Начало обучения PopRec\n",
      "11-Nov-20 17:17:11, replay, DEBUG: Основная стадия обучения (fit)\n",
      "11-Nov-20 17:17:12, replay, DEBUG: Начало предикта PopRec\n",
      "/mnt2/volodkevich/replay_tasks/replay/venv376/lib/python3.7/site-packages/pyspark/sql/pandas/group_ops.py:76: UserWarning: It is preferred to use 'applyInPandas' over this API. This API will be deprecated in the future releases. See SPARK-28264 for more details.\n",
      "  \"more details.\", UserWarning)\n"
     ]
    }
   ],
   "source": [
    "scenario.recommender=MODELS['slim_']\n",
    "\n",
    "recs = scenario.production(\n",
    "    best_slim_params, \n",
    "    train,\n",
    "    users=test.select(\"user_id\").distinct().cache(), \n",
    "    items=test.select(\"item_id\").distinct().cache(),\n",
    "    k=10\n",
    ")\n",
    "\n",
    "e.add_result('best_slim_scenario', recs)"
   ]
  },
  {
   "cell_type": "code",
   "execution_count": 31,
   "metadata": {},
   "outputs": [
    {
     "name": "stderr",
     "output_type": "stream",
     "text": [
      "11-Nov-20 17:17:32, replay, DEBUG: Начало обучения KNN\n",
      "11-Nov-20 17:17:32, replay, DEBUG: Основная стадия обучения (fit)\n",
      "11-Nov-20 17:17:33, replay, DEBUG: Начало предикта KNN\n",
      "11-Nov-20 17:17:35, replay, DEBUG: Начало обучения PopRec\n",
      "11-Nov-20 17:17:35, replay, DEBUG: Основная стадия обучения (fit)\n",
      "11-Nov-20 17:17:35, replay, DEBUG: Начало предикта PopRec\n"
     ]
    }
   ],
   "source": [
    "scenario.recommender=MODELS['knn_']\n",
    "\n",
    "recs = scenario.production(\n",
    "    best_knn_params, \n",
    "    train,\n",
    "    users=test.select(\"user_id\").distinct().cache(), \n",
    "    items=test.select(\"item_id\").distinct().cache(),\n",
    "    k=10\n",
    ")\n",
    "\n",
    "e.add_result('best_knn_scenario', recs)"
   ]
  },
  {
   "cell_type": "code",
   "execution_count": 32,
   "metadata": {},
   "outputs": [],
   "source": [
    "all_results = all_results.append(e.results)"
   ]
  },
  {
   "cell_type": "markdown",
   "metadata": {},
   "source": [
    "### Предсказание чистой моделью"
   ]
  },
  {
   "cell_type": "code",
   "execution_count": 33,
   "metadata": {},
   "outputs": [
    {
     "name": "stderr",
     "output_type": "stream",
     "text": [
      "11-Nov-20 17:17:58, replay, DEBUG: Начало обучения SLIM\n",
      "11-Nov-20 17:17:58, replay, DEBUG: Предварительная стадия обучения (pre-fit)\n",
      "11-Nov-20 17:17:59, replay, DEBUG: Основная стадия обучения (fit)\n",
      "/mnt2/volodkevich/replay_tasks/replay/venv376/lib/python3.7/site-packages/pyspark/sql/pandas/group_ops.py:76: UserWarning: It is preferred to use 'applyInPandas' over this API. This API will be deprecated in the future releases. See SPARK-28264 for more details.\n",
      "  \"more details.\", UserWarning)\n",
      "11-Nov-20 17:18:00, replay, DEBUG: Начало предикта SLIM\n"
     ]
    }
   ],
   "source": [
    "best_slim_model = SLIM(**best_slim_params)\n",
    "slim_pred = best_slim_model.fit_predict(train, \n",
    "                                        users=test.select(\"user_id\").distinct().cache(),\n",
    "                                        items=test.select(\"item_id\").distinct().cache(),\n",
    "                                        k=10)"
   ]
  },
  {
   "cell_type": "code",
   "execution_count": 34,
   "metadata": {},
   "outputs": [
    {
     "name": "stderr",
     "output_type": "stream",
     "text": [
      "/mnt2/volodkevich/replay_tasks/replay/venv376/lib/python3.7/site-packages/pyspark/sql/pandas/group_ops.py:76: UserWarning: It is preferred to use 'applyInPandas' over this API. This API will be deprecated in the future releases. See SPARK-28264 for more details.\n",
      "  \"more details.\", UserWarning)\n"
     ]
    }
   ],
   "source": [
    "e.add_result('best_slim_model', slim_pred)"
   ]
  },
  {
   "cell_type": "code",
   "execution_count": 35,
   "metadata": {},
   "outputs": [
    {
     "data": {
      "text/html": [
       "<div>\n",
       "<style scoped>\n",
       "    .dataframe tbody tr th:only-of-type {\n",
       "        vertical-align: middle;\n",
       "    }\n",
       "\n",
       "    .dataframe tbody tr th {\n",
       "        vertical-align: top;\n",
       "    }\n",
       "\n",
       "    .dataframe thead th {\n",
       "        text-align: right;\n",
       "    }\n",
       "</style>\n",
       "<table border=\"1\" class=\"dataframe\">\n",
       "  <thead>\n",
       "    <tr style=\"text-align: right;\">\n",
       "      <th></th>\n",
       "      <th>HitRate@1</th>\n",
       "      <th>HitRate@5</th>\n",
       "      <th>HitRate@10</th>\n",
       "      <th>NDCG@10</th>\n",
       "      <th>NDCG@1</th>\n",
       "      <th>NDCG@5</th>\n",
       "    </tr>\n",
       "  </thead>\n",
       "  <tbody>\n",
       "    <tr>\n",
       "      <th>best_slim_model</th>\n",
       "      <td>0.106952</td>\n",
       "      <td>0.347594</td>\n",
       "      <td>0.497326</td>\n",
       "      <td>0.274432</td>\n",
       "      <td>0.106952</td>\n",
       "      <td>0.226848</td>\n",
       "    </tr>\n",
       "    <tr>\n",
       "      <th>best_slim_scenario</th>\n",
       "      <td>0.106952</td>\n",
       "      <td>0.347594</td>\n",
       "      <td>0.497326</td>\n",
       "      <td>0.274432</td>\n",
       "      <td>0.106952</td>\n",
       "      <td>0.226848</td>\n",
       "    </tr>\n",
       "    <tr>\n",
       "      <th>best_slim_scenario</th>\n",
       "      <td>0.106952</td>\n",
       "      <td>0.347594</td>\n",
       "      <td>0.497326</td>\n",
       "      <td>0.274432</td>\n",
       "      <td>0.106952</td>\n",
       "      <td>0.226848</td>\n",
       "    </tr>\n",
       "    <tr>\n",
       "      <th>SLIM{'beta': 1.9347834982278882, 'lambda_': 0.011806526371156959}</th>\n",
       "      <td>0.106952</td>\n",
       "      <td>0.347594</td>\n",
       "      <td>0.497326</td>\n",
       "      <td>0.274432</td>\n",
       "      <td>0.106952</td>\n",
       "      <td>0.226848</td>\n",
       "    </tr>\n",
       "    <tr>\n",
       "      <th>SLIM{'beta': 1.8799729122662445, 'lambda_': 0.016186199993327346}</th>\n",
       "      <td>0.106952</td>\n",
       "      <td>0.347594</td>\n",
       "      <td>0.491979</td>\n",
       "      <td>0.274317</td>\n",
       "      <td>0.106952</td>\n",
       "      <td>0.227824</td>\n",
       "    </tr>\n",
       "    <tr>\n",
       "      <th>SLIM{'beta': 1.8851075394684569, 'lambda_': 0.01342528450135674}</th>\n",
       "      <td>0.106952</td>\n",
       "      <td>0.342246</td>\n",
       "      <td>0.497326</td>\n",
       "      <td>0.273893</td>\n",
       "      <td>0.106952</td>\n",
       "      <td>0.224450</td>\n",
       "    </tr>\n",
       "    <tr>\n",
       "      <th>SLIM{'beta': 1.663127403505271, 'lambda_': 0.019312079434170928}</th>\n",
       "      <td>0.106952</td>\n",
       "      <td>0.347594</td>\n",
       "      <td>0.491979</td>\n",
       "      <td>0.273813</td>\n",
       "      <td>0.106952</td>\n",
       "      <td>0.227590</td>\n",
       "    </tr>\n",
       "    <tr>\n",
       "      <th>SLIM{'beta': 1.9106522803590236, 'lambda_': 0.019999182491868488}</th>\n",
       "      <td>0.101604</td>\n",
       "      <td>0.347594</td>\n",
       "      <td>0.481283</td>\n",
       "      <td>0.271695</td>\n",
       "      <td>0.101604</td>\n",
       "      <td>0.228423</td>\n",
       "    </tr>\n",
       "    <tr>\n",
       "      <th>SLIM{'beta': 0.4455599911925877, 'lambda_': 0.10152327312240496}</th>\n",
       "      <td>0.117647</td>\n",
       "      <td>0.347594</td>\n",
       "      <td>0.454545</td>\n",
       "      <td>0.270219</td>\n",
       "      <td>0.117647</td>\n",
       "      <td>0.236580</td>\n",
       "    </tr>\n",
       "    <tr>\n",
       "      <th>SLIM{'beta': 0.8732149707670739, 'lambda_': 0.10803703487597296}</th>\n",
       "      <td>0.106952</td>\n",
       "      <td>0.336898</td>\n",
       "      <td>0.459893</td>\n",
       "      <td>0.266605</td>\n",
       "      <td>0.106952</td>\n",
       "      <td>0.227561</td>\n",
       "    </tr>\n",
       "    <tr>\n",
       "      <th>SLIM{'beta': 1.0767151647010165, 'lambda_': 0.004001558568600958}</th>\n",
       "      <td>0.096257</td>\n",
       "      <td>0.315508</td>\n",
       "      <td>0.475936</td>\n",
       "      <td>0.256823</td>\n",
       "      <td>0.096257</td>\n",
       "      <td>0.204856</td>\n",
       "    </tr>\n",
       "    <tr>\n",
       "      <th>SLIM{'beta': 0.16259395873118712, 'lambda_': 0.046553318221315206}</th>\n",
       "      <td>0.112299</td>\n",
       "      <td>0.304813</td>\n",
       "      <td>0.449198</td>\n",
       "      <td>0.252588</td>\n",
       "      <td>0.112299</td>\n",
       "      <td>0.205515</td>\n",
       "    </tr>\n",
       "    <tr>\n",
       "      <th>SLIM{'beta': 0.6257892634983832, 'lambda_': 0.007107769054060344}</th>\n",
       "      <td>0.106952</td>\n",
       "      <td>0.283422</td>\n",
       "      <td>0.454545</td>\n",
       "      <td>0.251849</td>\n",
       "      <td>0.106952</td>\n",
       "      <td>0.196762</td>\n",
       "    </tr>\n",
       "    <tr>\n",
       "      <th>SLIM{'beta': 0.0048078597244356445, 'lambda_': 0.05876956809966476}</th>\n",
       "      <td>0.112299</td>\n",
       "      <td>0.299465</td>\n",
       "      <td>0.438503</td>\n",
       "      <td>0.248756</td>\n",
       "      <td>0.112299</td>\n",
       "      <td>0.203170</td>\n",
       "    </tr>\n",
       "    <tr>\n",
       "      <th>SLIM{'beta': 1.3365492906568486, 'lambda_': 0.27013532037045146}</th>\n",
       "      <td>0.112299</td>\n",
       "      <td>0.267380</td>\n",
       "      <td>0.390374</td>\n",
       "      <td>0.227253</td>\n",
       "      <td>0.112299</td>\n",
       "      <td>0.187913</td>\n",
       "    </tr>\n",
       "    <tr>\n",
       "      <th>SLIM{'beta': 0.023439928205404078, 'lambda_': 0.027971061628902262}</th>\n",
       "      <td>0.096257</td>\n",
       "      <td>0.272727</td>\n",
       "      <td>0.395722</td>\n",
       "      <td>0.225293</td>\n",
       "      <td>0.096257</td>\n",
       "      <td>0.185639</td>\n",
       "    </tr>\n",
       "    <tr>\n",
       "      <th>SLIM{'beta': 0.06437984155921288, 'lambda_': 0.3206989583780221}</th>\n",
       "      <td>0.101604</td>\n",
       "      <td>0.267380</td>\n",
       "      <td>0.374332</td>\n",
       "      <td>0.219765</td>\n",
       "      <td>0.101604</td>\n",
       "      <td>0.185132</td>\n",
       "    </tr>\n",
       "    <tr>\n",
       "      <th>SLIM{'beta': 0.044276653071367085, 'lambda_': 0.36964754256088284}</th>\n",
       "      <td>0.101604</td>\n",
       "      <td>0.256684</td>\n",
       "      <td>0.379679</td>\n",
       "      <td>0.218306</td>\n",
       "      <td>0.101604</td>\n",
       "      <td>0.179594</td>\n",
       "    </tr>\n",
       "    <tr>\n",
       "      <th>SLIM{'beta': 0.24699589646786324, 'lambda_': 0.005132979067255686}</th>\n",
       "      <td>0.085561</td>\n",
       "      <td>0.251337</td>\n",
       "      <td>0.390374</td>\n",
       "      <td>0.212756</td>\n",
       "      <td>0.085561</td>\n",
       "      <td>0.168484</td>\n",
       "    </tr>\n",
       "    <tr>\n",
       "      <th>SLIM{'beta': 0.18265400457712322, 'lambda_': 0.007594044085762485}</th>\n",
       "      <td>0.080214</td>\n",
       "      <td>0.256684</td>\n",
       "      <td>0.379679</td>\n",
       "      <td>0.208022</td>\n",
       "      <td>0.080214</td>\n",
       "      <td>0.168855</td>\n",
       "    </tr>\n",
       "    <tr>\n",
       "      <th>SLIM{'beta': 0.008996829102477543, 'lambda_': 0.012080861429276023}</th>\n",
       "      <td>0.074866</td>\n",
       "      <td>0.235294</td>\n",
       "      <td>0.347594</td>\n",
       "      <td>0.190624</td>\n",
       "      <td>0.074866</td>\n",
       "      <td>0.153246</td>\n",
       "    </tr>\n",
       "    <tr>\n",
       "      <th>KNN{'num_neighbours': 12, 'shrink': 2}</th>\n",
       "      <td>0.090909</td>\n",
       "      <td>0.160428</td>\n",
       "      <td>0.272727</td>\n",
       "      <td>0.163330</td>\n",
       "      <td>0.090909</td>\n",
       "      <td>0.126518</td>\n",
       "    </tr>\n",
       "    <tr>\n",
       "      <th>best_knn_scenario</th>\n",
       "      <td>0.090909</td>\n",
       "      <td>0.160428</td>\n",
       "      <td>0.272727</td>\n",
       "      <td>0.163330</td>\n",
       "      <td>0.090909</td>\n",
       "      <td>0.126518</td>\n",
       "    </tr>\n",
       "    <tr>\n",
       "      <th>best_knn_scenario</th>\n",
       "      <td>0.090909</td>\n",
       "      <td>0.160428</td>\n",
       "      <td>0.272727</td>\n",
       "      <td>0.163330</td>\n",
       "      <td>0.090909</td>\n",
       "      <td>0.126518</td>\n",
       "    </tr>\n",
       "    <tr>\n",
       "      <th>KNN{'num_neighbours': 19, 'shrink': 0}</th>\n",
       "      <td>0.080214</td>\n",
       "      <td>0.176471</td>\n",
       "      <td>0.256684</td>\n",
       "      <td>0.156579</td>\n",
       "      <td>0.080214</td>\n",
       "      <td>0.131111</td>\n",
       "    </tr>\n",
       "    <tr>\n",
       "      <th>KNN{'num_neighbours': 16, 'shrink': 4}</th>\n",
       "      <td>0.069519</td>\n",
       "      <td>0.176471</td>\n",
       "      <td>0.267380</td>\n",
       "      <td>0.156053</td>\n",
       "      <td>0.069519</td>\n",
       "      <td>0.126930</td>\n",
       "    </tr>\n",
       "    <tr>\n",
       "      <th>KNN{'num_neighbours': 13, 'shrink': 29}</th>\n",
       "      <td>0.080214</td>\n",
       "      <td>0.155080</td>\n",
       "      <td>0.245989</td>\n",
       "      <td>0.151695</td>\n",
       "      <td>0.080214</td>\n",
       "      <td>0.121667</td>\n",
       "    </tr>\n",
       "    <tr>\n",
       "      <th>KNN{'num_neighbours': 23, 'shrink': 33}</th>\n",
       "      <td>0.069519</td>\n",
       "      <td>0.165775</td>\n",
       "      <td>0.240642</td>\n",
       "      <td>0.144892</td>\n",
       "      <td>0.069519</td>\n",
       "      <td>0.120321</td>\n",
       "    </tr>\n",
       "    <tr>\n",
       "      <th>KNN{'num_neighbours': 25, 'shrink': 31}</th>\n",
       "      <td>0.069519</td>\n",
       "      <td>0.155080</td>\n",
       "      <td>0.245989</td>\n",
       "      <td>0.144746</td>\n",
       "      <td>0.069519</td>\n",
       "      <td>0.115578</td>\n",
       "    </tr>\n",
       "    <tr>\n",
       "      <th>KNN{'num_neighbours': 39, 'shrink': 1}</th>\n",
       "      <td>0.058824</td>\n",
       "      <td>0.176471</td>\n",
       "      <td>0.245989</td>\n",
       "      <td>0.141332</td>\n",
       "      <td>0.058824</td>\n",
       "      <td>0.118135</td>\n",
       "    </tr>\n",
       "    <tr>\n",
       "      <th>KNN{'num_neighbours': 35, 'shrink': 21}</th>\n",
       "      <td>0.074866</td>\n",
       "      <td>0.176471</td>\n",
       "      <td>0.219251</td>\n",
       "      <td>0.140821</td>\n",
       "      <td>0.074866</td>\n",
       "      <td>0.126898</td>\n",
       "    </tr>\n",
       "    <tr>\n",
       "      <th>KNN{'num_neighbours': 20, 'shrink': 38}</th>\n",
       "      <td>0.069519</td>\n",
       "      <td>0.171123</td>\n",
       "      <td>0.229947</td>\n",
       "      <td>0.140750</td>\n",
       "      <td>0.069519</td>\n",
       "      <td>0.121690</td>\n",
       "    </tr>\n",
       "    <tr>\n",
       "      <th>KNN{'num_neighbours': 7, 'shrink': 30}</th>\n",
       "      <td>0.069519</td>\n",
       "      <td>0.181818</td>\n",
       "      <td>0.229947</td>\n",
       "      <td>0.140619</td>\n",
       "      <td>0.069519</td>\n",
       "      <td>0.124895</td>\n",
       "    </tr>\n",
       "    <tr>\n",
       "      <th>KNN{'num_neighbours': 37, 'shrink': 12}</th>\n",
       "      <td>0.058824</td>\n",
       "      <td>0.176471</td>\n",
       "      <td>0.219251</td>\n",
       "      <td>0.134288</td>\n",
       "      <td>0.058824</td>\n",
       "      <td>0.120743</td>\n",
       "    </tr>\n",
       "    <tr>\n",
       "      <th>KNN{'num_neighbours': 55, 'shrink': 40}</th>\n",
       "      <td>0.058824</td>\n",
       "      <td>0.155080</td>\n",
       "      <td>0.235294</td>\n",
       "      <td>0.129111</td>\n",
       "      <td>0.058824</td>\n",
       "      <td>0.102168</td>\n",
       "    </tr>\n",
       "    <tr>\n",
       "      <th>KNN{'num_neighbours': 48, 'shrink': 45}</th>\n",
       "      <td>0.053476</td>\n",
       "      <td>0.165775</td>\n",
       "      <td>0.235294</td>\n",
       "      <td>0.128333</td>\n",
       "      <td>0.053476</td>\n",
       "      <td>0.105776</td>\n",
       "    </tr>\n",
       "    <tr>\n",
       "      <th>KNN{'num_neighbours': 61, 'shrink': 19}</th>\n",
       "      <td>0.053476</td>\n",
       "      <td>0.155080</td>\n",
       "      <td>0.229947</td>\n",
       "      <td>0.123038</td>\n",
       "      <td>0.053476</td>\n",
       "      <td>0.098518</td>\n",
       "    </tr>\n",
       "    <tr>\n",
       "      <th>KNN{'num_neighbours': 68, 'shrink': 25}</th>\n",
       "      <td>0.048128</td>\n",
       "      <td>0.128342</td>\n",
       "      <td>0.229947</td>\n",
       "      <td>0.118680</td>\n",
       "      <td>0.048128</td>\n",
       "      <td>0.085457</td>\n",
       "    </tr>\n",
       "    <tr>\n",
       "      <th>KNN{'num_neighbours': 67, 'shrink': 14}</th>\n",
       "      <td>0.037433</td>\n",
       "      <td>0.133690</td>\n",
       "      <td>0.235294</td>\n",
       "      <td>0.117100</td>\n",
       "      <td>0.037433</td>\n",
       "      <td>0.084085</td>\n",
       "    </tr>\n",
       "    <tr>\n",
       "      <th>KNN{'num_neighbours': 3, 'shrink': 9}</th>\n",
       "      <td>0.042781</td>\n",
       "      <td>0.128342</td>\n",
       "      <td>0.219251</td>\n",
       "      <td>0.113550</td>\n",
       "      <td>0.042781</td>\n",
       "      <td>0.084690</td>\n",
       "    </tr>\n",
       "    <tr>\n",
       "      <th>SLIM{'beta': 0.5069122877651074, 'lambda_': 1.9727297005185105}</th>\n",
       "      <td>0.032086</td>\n",
       "      <td>0.133690</td>\n",
       "      <td>0.229947</td>\n",
       "      <td>0.113144</td>\n",
       "      <td>0.032086</td>\n",
       "      <td>0.083186</td>\n",
       "    </tr>\n",
       "    <tr>\n",
       "      <th>SLIM{'beta': 0.06247182931704085, 'lambda_': 1.7882240290577447}</th>\n",
       "      <td>0.026738</td>\n",
       "      <td>0.133690</td>\n",
       "      <td>0.219251</td>\n",
       "      <td>0.112566</td>\n",
       "      <td>0.026738</td>\n",
       "      <td>0.085359</td>\n",
       "    </tr>\n",
       "    <tr>\n",
       "      <th>KNN{'num_neighbours': 3, 'shrink': 5}</th>\n",
       "      <td>0.048128</td>\n",
       "      <td>0.117647</td>\n",
       "      <td>0.213904</td>\n",
       "      <td>0.112064</td>\n",
       "      <td>0.048128</td>\n",
       "      <td>0.082254</td>\n",
       "    </tr>\n",
       "    <tr>\n",
       "      <th>KNN{'num_neighbours': 82, 'shrink': 40}</th>\n",
       "      <td>0.042781</td>\n",
       "      <td>0.128342</td>\n",
       "      <td>0.192513</td>\n",
       "      <td>0.100198</td>\n",
       "      <td>0.042781</td>\n",
       "      <td>0.080641</td>\n",
       "    </tr>\n",
       "    <tr>\n",
       "      <th>KNN{'num_neighbours': 100, 'shrink': 1}</th>\n",
       "      <td>0.026738</td>\n",
       "      <td>0.144385</td>\n",
       "      <td>0.192513</td>\n",
       "      <td>0.095518</td>\n",
       "      <td>0.026738</td>\n",
       "      <td>0.080695</td>\n",
       "    </tr>\n",
       "    <tr>\n",
       "      <th>RandomRec{'distribution': 'uniform'}</th>\n",
       "      <td>0.010695</td>\n",
       "      <td>0.037433</td>\n",
       "      <td>0.106952</td>\n",
       "      <td>0.044417</td>\n",
       "      <td>0.010695</td>\n",
       "      <td>0.022347</td>\n",
       "    </tr>\n",
       "  </tbody>\n",
       "</table>\n",
       "</div>"
      ],
      "text/plain": [
       "                                                    HitRate@1  HitRate@5  \\\n",
       "best_slim_model                                      0.106952   0.347594   \n",
       "best_slim_scenario                                   0.106952   0.347594   \n",
       "best_slim_scenario                                   0.106952   0.347594   \n",
       "SLIM{'beta': 1.9347834982278882, 'lambda_': 0.0...   0.106952   0.347594   \n",
       "SLIM{'beta': 1.8799729122662445, 'lambda_': 0.0...   0.106952   0.347594   \n",
       "SLIM{'beta': 1.8851075394684569, 'lambda_': 0.0...   0.106952   0.342246   \n",
       "SLIM{'beta': 1.663127403505271, 'lambda_': 0.01...   0.106952   0.347594   \n",
       "SLIM{'beta': 1.9106522803590236, 'lambda_': 0.0...   0.101604   0.347594   \n",
       "SLIM{'beta': 0.4455599911925877, 'lambda_': 0.1...   0.117647   0.347594   \n",
       "SLIM{'beta': 0.8732149707670739, 'lambda_': 0.1...   0.106952   0.336898   \n",
       "SLIM{'beta': 1.0767151647010165, 'lambda_': 0.0...   0.096257   0.315508   \n",
       "SLIM{'beta': 0.16259395873118712, 'lambda_': 0....   0.112299   0.304813   \n",
       "SLIM{'beta': 0.6257892634983832, 'lambda_': 0.0...   0.106952   0.283422   \n",
       "SLIM{'beta': 0.0048078597244356445, 'lambda_': ...   0.112299   0.299465   \n",
       "SLIM{'beta': 1.3365492906568486, 'lambda_': 0.2...   0.112299   0.267380   \n",
       "SLIM{'beta': 0.023439928205404078, 'lambda_': 0...   0.096257   0.272727   \n",
       "SLIM{'beta': 0.06437984155921288, 'lambda_': 0....   0.101604   0.267380   \n",
       "SLIM{'beta': 0.044276653071367085, 'lambda_': 0...   0.101604   0.256684   \n",
       "SLIM{'beta': 0.24699589646786324, 'lambda_': 0....   0.085561   0.251337   \n",
       "SLIM{'beta': 0.18265400457712322, 'lambda_': 0....   0.080214   0.256684   \n",
       "SLIM{'beta': 0.008996829102477543, 'lambda_': 0...   0.074866   0.235294   \n",
       "KNN{'num_neighbours': 12, 'shrink': 2}               0.090909   0.160428   \n",
       "best_knn_scenario                                    0.090909   0.160428   \n",
       "best_knn_scenario                                    0.090909   0.160428   \n",
       "KNN{'num_neighbours': 19, 'shrink': 0}               0.080214   0.176471   \n",
       "KNN{'num_neighbours': 16, 'shrink': 4}               0.069519   0.176471   \n",
       "KNN{'num_neighbours': 13, 'shrink': 29}              0.080214   0.155080   \n",
       "KNN{'num_neighbours': 23, 'shrink': 33}              0.069519   0.165775   \n",
       "KNN{'num_neighbours': 25, 'shrink': 31}              0.069519   0.155080   \n",
       "KNN{'num_neighbours': 39, 'shrink': 1}               0.058824   0.176471   \n",
       "KNN{'num_neighbours': 35, 'shrink': 21}              0.074866   0.176471   \n",
       "KNN{'num_neighbours': 20, 'shrink': 38}              0.069519   0.171123   \n",
       "KNN{'num_neighbours': 7, 'shrink': 30}               0.069519   0.181818   \n",
       "KNN{'num_neighbours': 37, 'shrink': 12}              0.058824   0.176471   \n",
       "KNN{'num_neighbours': 55, 'shrink': 40}              0.058824   0.155080   \n",
       "KNN{'num_neighbours': 48, 'shrink': 45}              0.053476   0.165775   \n",
       "KNN{'num_neighbours': 61, 'shrink': 19}              0.053476   0.155080   \n",
       "KNN{'num_neighbours': 68, 'shrink': 25}              0.048128   0.128342   \n",
       "KNN{'num_neighbours': 67, 'shrink': 14}              0.037433   0.133690   \n",
       "KNN{'num_neighbours': 3, 'shrink': 9}                0.042781   0.128342   \n",
       "SLIM{'beta': 0.5069122877651074, 'lambda_': 1.9...   0.032086   0.133690   \n",
       "SLIM{'beta': 0.06247182931704085, 'lambda_': 1....   0.026738   0.133690   \n",
       "KNN{'num_neighbours': 3, 'shrink': 5}                0.048128   0.117647   \n",
       "KNN{'num_neighbours': 82, 'shrink': 40}              0.042781   0.128342   \n",
       "KNN{'num_neighbours': 100, 'shrink': 1}              0.026738   0.144385   \n",
       "RandomRec{'distribution': 'uniform'}                 0.010695   0.037433   \n",
       "\n",
       "                                                    HitRate@10   NDCG@10  \\\n",
       "best_slim_model                                       0.497326  0.274432   \n",
       "best_slim_scenario                                    0.497326  0.274432   \n",
       "best_slim_scenario                                    0.497326  0.274432   \n",
       "SLIM{'beta': 1.9347834982278882, 'lambda_': 0.0...    0.497326  0.274432   \n",
       "SLIM{'beta': 1.8799729122662445, 'lambda_': 0.0...    0.491979  0.274317   \n",
       "SLIM{'beta': 1.8851075394684569, 'lambda_': 0.0...    0.497326  0.273893   \n",
       "SLIM{'beta': 1.663127403505271, 'lambda_': 0.01...    0.491979  0.273813   \n",
       "SLIM{'beta': 1.9106522803590236, 'lambda_': 0.0...    0.481283  0.271695   \n",
       "SLIM{'beta': 0.4455599911925877, 'lambda_': 0.1...    0.454545  0.270219   \n",
       "SLIM{'beta': 0.8732149707670739, 'lambda_': 0.1...    0.459893  0.266605   \n",
       "SLIM{'beta': 1.0767151647010165, 'lambda_': 0.0...    0.475936  0.256823   \n",
       "SLIM{'beta': 0.16259395873118712, 'lambda_': 0....    0.449198  0.252588   \n",
       "SLIM{'beta': 0.6257892634983832, 'lambda_': 0.0...    0.454545  0.251849   \n",
       "SLIM{'beta': 0.0048078597244356445, 'lambda_': ...    0.438503  0.248756   \n",
       "SLIM{'beta': 1.3365492906568486, 'lambda_': 0.2...    0.390374  0.227253   \n",
       "SLIM{'beta': 0.023439928205404078, 'lambda_': 0...    0.395722  0.225293   \n",
       "SLIM{'beta': 0.06437984155921288, 'lambda_': 0....    0.374332  0.219765   \n",
       "SLIM{'beta': 0.044276653071367085, 'lambda_': 0...    0.379679  0.218306   \n",
       "SLIM{'beta': 0.24699589646786324, 'lambda_': 0....    0.390374  0.212756   \n",
       "SLIM{'beta': 0.18265400457712322, 'lambda_': 0....    0.379679  0.208022   \n",
       "SLIM{'beta': 0.008996829102477543, 'lambda_': 0...    0.347594  0.190624   \n",
       "KNN{'num_neighbours': 12, 'shrink': 2}                0.272727  0.163330   \n",
       "best_knn_scenario                                     0.272727  0.163330   \n",
       "best_knn_scenario                                     0.272727  0.163330   \n",
       "KNN{'num_neighbours': 19, 'shrink': 0}                0.256684  0.156579   \n",
       "KNN{'num_neighbours': 16, 'shrink': 4}                0.267380  0.156053   \n",
       "KNN{'num_neighbours': 13, 'shrink': 29}               0.245989  0.151695   \n",
       "KNN{'num_neighbours': 23, 'shrink': 33}               0.240642  0.144892   \n",
       "KNN{'num_neighbours': 25, 'shrink': 31}               0.245989  0.144746   \n",
       "KNN{'num_neighbours': 39, 'shrink': 1}                0.245989  0.141332   \n",
       "KNN{'num_neighbours': 35, 'shrink': 21}               0.219251  0.140821   \n",
       "KNN{'num_neighbours': 20, 'shrink': 38}               0.229947  0.140750   \n",
       "KNN{'num_neighbours': 7, 'shrink': 30}                0.229947  0.140619   \n",
       "KNN{'num_neighbours': 37, 'shrink': 12}               0.219251  0.134288   \n",
       "KNN{'num_neighbours': 55, 'shrink': 40}               0.235294  0.129111   \n",
       "KNN{'num_neighbours': 48, 'shrink': 45}               0.235294  0.128333   \n",
       "KNN{'num_neighbours': 61, 'shrink': 19}               0.229947  0.123038   \n",
       "KNN{'num_neighbours': 68, 'shrink': 25}               0.229947  0.118680   \n",
       "KNN{'num_neighbours': 67, 'shrink': 14}               0.235294  0.117100   \n",
       "KNN{'num_neighbours': 3, 'shrink': 9}                 0.219251  0.113550   \n",
       "SLIM{'beta': 0.5069122877651074, 'lambda_': 1.9...    0.229947  0.113144   \n",
       "SLIM{'beta': 0.06247182931704085, 'lambda_': 1....    0.219251  0.112566   \n",
       "KNN{'num_neighbours': 3, 'shrink': 5}                 0.213904  0.112064   \n",
       "KNN{'num_neighbours': 82, 'shrink': 40}               0.192513  0.100198   \n",
       "KNN{'num_neighbours': 100, 'shrink': 1}               0.192513  0.095518   \n",
       "RandomRec{'distribution': 'uniform'}                  0.106952  0.044417   \n",
       "\n",
       "                                                      NDCG@1    NDCG@5  \n",
       "best_slim_model                                     0.106952  0.226848  \n",
       "best_slim_scenario                                  0.106952  0.226848  \n",
       "best_slim_scenario                                  0.106952  0.226848  \n",
       "SLIM{'beta': 1.9347834982278882, 'lambda_': 0.0...  0.106952  0.226848  \n",
       "SLIM{'beta': 1.8799729122662445, 'lambda_': 0.0...  0.106952  0.227824  \n",
       "SLIM{'beta': 1.8851075394684569, 'lambda_': 0.0...  0.106952  0.224450  \n",
       "SLIM{'beta': 1.663127403505271, 'lambda_': 0.01...  0.106952  0.227590  \n",
       "SLIM{'beta': 1.9106522803590236, 'lambda_': 0.0...  0.101604  0.228423  \n",
       "SLIM{'beta': 0.4455599911925877, 'lambda_': 0.1...  0.117647  0.236580  \n",
       "SLIM{'beta': 0.8732149707670739, 'lambda_': 0.1...  0.106952  0.227561  \n",
       "SLIM{'beta': 1.0767151647010165, 'lambda_': 0.0...  0.096257  0.204856  \n",
       "SLIM{'beta': 0.16259395873118712, 'lambda_': 0....  0.112299  0.205515  \n",
       "SLIM{'beta': 0.6257892634983832, 'lambda_': 0.0...  0.106952  0.196762  \n",
       "SLIM{'beta': 0.0048078597244356445, 'lambda_': ...  0.112299  0.203170  \n",
       "SLIM{'beta': 1.3365492906568486, 'lambda_': 0.2...  0.112299  0.187913  \n",
       "SLIM{'beta': 0.023439928205404078, 'lambda_': 0...  0.096257  0.185639  \n",
       "SLIM{'beta': 0.06437984155921288, 'lambda_': 0....  0.101604  0.185132  \n",
       "SLIM{'beta': 0.044276653071367085, 'lambda_': 0...  0.101604  0.179594  \n",
       "SLIM{'beta': 0.24699589646786324, 'lambda_': 0....  0.085561  0.168484  \n",
       "SLIM{'beta': 0.18265400457712322, 'lambda_': 0....  0.080214  0.168855  \n",
       "SLIM{'beta': 0.008996829102477543, 'lambda_': 0...  0.074866  0.153246  \n",
       "KNN{'num_neighbours': 12, 'shrink': 2}              0.090909  0.126518  \n",
       "best_knn_scenario                                   0.090909  0.126518  \n",
       "best_knn_scenario                                   0.090909  0.126518  \n",
       "KNN{'num_neighbours': 19, 'shrink': 0}              0.080214  0.131111  \n",
       "KNN{'num_neighbours': 16, 'shrink': 4}              0.069519  0.126930  \n",
       "KNN{'num_neighbours': 13, 'shrink': 29}             0.080214  0.121667  \n",
       "KNN{'num_neighbours': 23, 'shrink': 33}             0.069519  0.120321  \n",
       "KNN{'num_neighbours': 25, 'shrink': 31}             0.069519  0.115578  \n",
       "KNN{'num_neighbours': 39, 'shrink': 1}              0.058824  0.118135  \n",
       "KNN{'num_neighbours': 35, 'shrink': 21}             0.074866  0.126898  \n",
       "KNN{'num_neighbours': 20, 'shrink': 38}             0.069519  0.121690  \n",
       "KNN{'num_neighbours': 7, 'shrink': 30}              0.069519  0.124895  \n",
       "KNN{'num_neighbours': 37, 'shrink': 12}             0.058824  0.120743  \n",
       "KNN{'num_neighbours': 55, 'shrink': 40}             0.058824  0.102168  \n",
       "KNN{'num_neighbours': 48, 'shrink': 45}             0.053476  0.105776  \n",
       "KNN{'num_neighbours': 61, 'shrink': 19}             0.053476  0.098518  \n",
       "KNN{'num_neighbours': 68, 'shrink': 25}             0.048128  0.085457  \n",
       "KNN{'num_neighbours': 67, 'shrink': 14}             0.037433  0.084085  \n",
       "KNN{'num_neighbours': 3, 'shrink': 9}               0.042781  0.084690  \n",
       "SLIM{'beta': 0.5069122877651074, 'lambda_': 1.9...  0.032086  0.083186  \n",
       "SLIM{'beta': 0.06247182931704085, 'lambda_': 1....  0.026738  0.085359  \n",
       "KNN{'num_neighbours': 3, 'shrink': 5}               0.048128  0.082254  \n",
       "KNN{'num_neighbours': 82, 'shrink': 40}             0.042781  0.080641  \n",
       "KNN{'num_neighbours': 100, 'shrink': 1}             0.026738  0.080695  \n",
       "RandomRec{'distribution': 'uniform'}                0.010695  0.022347  "
      ]
     },
     "execution_count": 35,
     "metadata": {},
     "output_type": "execute_result"
    }
   ],
   "source": [
    "all_results.append(e.results).sort_values('NDCG@10', ascending=False)"
   ]
  },
  {
   "cell_type": "markdown",
   "metadata": {},
   "source": [
    "Все ок, метрики при подборе параметров, применении модели в сценарии и просто обучении с лучшими гиперпараметрами совпадают."
   ]
  }
 ],
 "metadata": {
  "kernelspec": {
   "display_name": "Python 3",
   "language": "python",
   "name": "python3"
  },
  "language_info": {
   "codemirror_mode": {
    "name": "ipython",
    "version": 3
   },
   "file_extension": ".py",
   "mimetype": "text/x-python",
   "name": "python",
   "nbconvert_exporter": "python",
   "pygments_lexer": "ipython3",
   "version": "3.7.6"
  },
  "name": "scenario_test_movielnes100k.ipynb",
  "pycharm": {
   "stem_cell": {
    "cell_type": "raw",
    "metadata": {
     "collapsed": false
    },
    "source": null
   }
  }
 },
 "nbformat": 4,
 "nbformat_minor": 4
}
