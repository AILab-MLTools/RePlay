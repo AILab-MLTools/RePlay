{
 "cells": [
  {
   "cell_type": "code",
   "execution_count": 1,
   "metadata": {
    "autoscroll": false,
    "ein.hycell": false,
    "ein.tags": "worksheet-0",
    "slideshow": {
     "slide_type": "-"
    }
   },
   "outputs": [],
   "source": [
    "%load_ext autoreload\n",
    "%autoreload 2\n",
    "%matplotlib inline"
   ]
  },
  {
   "cell_type": "code",
   "execution_count": 2,
   "metadata": {
    "autoscroll": false,
    "ein.hycell": false,
    "ein.tags": "worksheet-0",
    "slideshow": {
     "slide_type": "-"
    }
   },
   "outputs": [
    {
     "data": {
      "text/html": [
       "\n",
       "            <div>\n",
       "                <p><b>SparkSession - hive</b></p>\n",
       "                \n",
       "        <div>\n",
       "            <p><b>SparkContext</b></p>\n",
       "\n",
       "            <p><a href=\"http://parcae3.ca.sbrf.ru:4040\">Spark UI</a></p>\n",
       "\n",
       "            <dl>\n",
       "              <dt>Version</dt>\n",
       "                <dd><code>v2.4.4</code></dd>\n",
       "              <dt>Master</dt>\n",
       "                <dd><code>local[*]</code></dd>\n",
       "              <dt>AppName</dt>\n",
       "                <dd><code>pyspark-shell</code></dd>\n",
       "            </dl>\n",
       "        </div>\n",
       "        \n",
       "            </div>\n",
       "        "
      ],
      "text/plain": [
       "<pyspark.sql.session.SparkSession at 0x7fe3e8ca7f60>"
      ]
     },
     "execution_count": 2,
     "metadata": {},
     "output_type": "execute_result"
    }
   ],
   "source": [
    "from pyspark.sql.session import SparkSession\n",
    "import os\n",
    "import logging\n",
    "\n",
    "spark_memory = \"256g\"\n",
    "spark_cores = \"*\"\n",
    "user_home = os.environ[\"HOME\"]\n",
    "\n",
    "spark = (\n",
    "    SparkSession\n",
    "    .builder\n",
    "    .config(\"spark.driver.memory\", spark_memory)\n",
    "    .config(\"spark.local.dir\", os.path.join(user_home, \"tmp\"))\n",
    "    .master(f\"local[{spark_cores}]\")\n",
    "    .enableHiveSupport()\n",
    "    .getOrCreate()\n",
    ")\n",
    "\n",
    "spark_logger = logging.getLogger(\"py4j\")\n",
    "spark_logger.setLevel(logging.WARN)\n",
    "logger = logging.getLogger()\n",
    "formatter = logging.Formatter(\"%(asctime)s, %(name)s, %(levelname)s: %(message)s\",\n",
    "                              datefmt=\"%d-%b-%y %H:%M:%S\")\n",
    "hdlr = logging.StreamHandler()\n",
    "hdlr.setFormatter(formatter)\n",
    "logger.addHandler(hdlr)\n",
    "logger.setLevel(logging.DEBUG)\n",
    "spark"
   ]
  },
  {
   "cell_type": "code",
   "execution_count": 3,
   "metadata": {
    "autoscroll": false,
    "ein.hycell": false,
    "ein.tags": "worksheet-0",
    "slideshow": {
     "slide_type": "-"
    }
   },
   "outputs": [],
   "source": [
    "from sponge_bob_magic.data_preparator.data_preparator import DataPreparator\n",
    "\n",
    "data_preparator = DataPreparator(spark)"
   ]
  },
  {
   "cell_type": "code",
   "execution_count": 4,
   "metadata": {},
   "outputs": [],
   "source": [
    "# MovieLens 20M\n",
    "log = data_preparator.transform_log(\n",
    "    os.path.join(user_home, \"data/ml-20m/ratings.csv\"),\n",
    "    format_type=\"csv\",\n",
    "    columns_names={\n",
    "        \"user_id\": \"userId\",\n",
    "        \"item_id\": \"movieId\",\n",
    "        \"relevance\": \"rating\",\n",
    "        \"timestamp\": \"timestamp\"\n",
    "    },\n",
    "    date_format=None,\n",
    "    sep=\",\",\n",
    "    header=True\n",
    ")"
   ]
  },
  {
   "cell_type": "code",
   "execution_count": 5,
   "metadata": {
    "autoscroll": false,
    "ein.hycell": false,
    "ein.tags": "worksheet-0",
    "slideshow": {
     "slide_type": "-"
    }
   },
   "outputs": [
    {
     "data": {
      "text/plain": [
       "Row(min(timestamp)=datetime.datetime(1995, 1, 9, 14, 46, 44), max(timestamp)=datetime.datetime(2015, 3, 31, 9, 40, 2))"
      ]
     },
     "execution_count": 5,
     "metadata": {},
     "output_type": "execute_result"
    }
   ],
   "source": [
    "from pyspark.sql.functions import min, max\n",
    "\n",
    "log.agg(min(\"timestamp\"), max(\"timestamp\")).head()"
   ]
  },
  {
   "cell_type": "code",
   "execution_count": 6,
   "metadata": {
    "autoscroll": false,
    "ein.hycell": false,
    "ein.tags": "worksheet-0",
    "scrolled": true,
    "slideshow": {
     "slide_type": "-"
    }
   },
   "outputs": [
    {
     "name": "stdout",
     "output_type": "stream",
     "text": [
      "15998563 15998563 4000703\n",
      "CPU times: user 4 ms, sys: 8 ms, total: 12 ms\n",
      "Wall time: 21.8 s\n"
     ]
    }
   ],
   "source": [
    "%%time\n",
    "from sponge_bob_magic.splitters.log_splitter import LogSplitRandomlySplitter\n",
    "\n",
    "train, test_input, test = LogSplitRandomlySplitter(\n",
    "    spark, 0.2, None\n",
    ").split(log, drop_cold_users=True, drop_cold_items=True)\n",
    "print(\n",
    "    train.count(), \n",
    "    test_input.count(), \n",
    "    test.count()\n",
    ")"
   ]
  },
  {
   "cell_type": "code",
   "execution_count": 7,
   "metadata": {
    "autoscroll": false,
    "ein.hycell": false,
    "ein.tags": "worksheet-0",
    "slideshow": {
     "slide_type": "-"
    }
   },
   "outputs": [],
   "source": [
    "from sponge_bob_magic.metrics.metrics import Metrics\n",
    "\n",
    "metrics = Metrics()"
   ]
  },
  {
   "cell_type": "code",
   "execution_count": 8,
   "metadata": {
    "autoscroll": false,
    "ein.hycell": false,
    "ein.tags": "worksheet-0",
    "slideshow": {
     "slide_type": "-"
    }
   },
   "outputs": [
    {
     "name": "stderr",
     "output_type": "stream",
     "text": [
      "17-Dec-19 11:15:37, root, DEBUG: Проверка датафреймов\n",
      "17-Dec-19 11:15:40, root, DEBUG: Предварительная стадия обучения (pre-fit)\n",
      "17-Dec-19 11:15:42, root, DEBUG: Среднее количество items у каждого user: 116\n",
      "17-Dec-19 11:15:44, root, DEBUG: Основная стадия обучения (fit)\n",
      "17-Dec-19 11:15:44, root, DEBUG: Проверка датафреймов\n",
      "17-Dec-19 11:16:00, root, DEBUG: Количество items после фильтрации: 126\n"
     ]
    },
    {
     "name": "stdout",
     "output_type": "stream",
     "text": [
      "0.6074002848487916\n",
      "0.07542818630124039\n",
      "0.15879669459727155\n",
      "0.18316094716688788\n",
      "CPU times: user 324 ms, sys: 60 ms, total: 384 ms\n",
      "Wall time: 1min 25s\n"
     ]
    }
   ],
   "source": [
    "%%time\n",
    "from sponge_bob_magic.models.popular_recomennder import PopularRecommender\n",
    "\n",
    "popular_recomennder = PopularRecommender(spark, 0, 0)\n",
    "recs = popular_recomennder.fit_predict(\n",
    "    k=10,\n",
    "    users=test.select(\"user_id\").distinct().cache(),\n",
    "    items=test.select(\"item_id\").distinct().cache(),\n",
    "    log=train.cache(),\n",
    "    context=None,\n",
    "    user_features=None,\n",
    "    item_features=None,\n",
    "    path=os.path.join(user_home, \"models/popular.model\")\n",
    ").cache()\n",
    "print(metrics.hit_rate_at_k(recs, test.cache(), 10))\n",
    "print(metrics.recall_at_k(recs, test.cache(), 10))\n",
    "print(metrics.precision_at_k(recs, test.cache(), 10))\n",
    "print(metrics.ndcg_at_k(recs, test.cache(), 10))"
   ]
  },
  {
   "cell_type": "code",
   "execution_count": 9,
   "metadata": {
    "autoscroll": false,
    "ein.hycell": false,
    "ein.tags": "worksheet-0",
    "slideshow": {
     "slide_type": "-"
    }
   },
   "outputs": [
    {
     "name": "stderr",
     "output_type": "stream",
     "text": [
      "17-Dec-19 11:17:02, root, DEBUG: Проверка датафреймов\n",
      "17-Dec-19 11:17:03, root, DEBUG: Предварительная стадия обучения (pre-fit)\n",
      "17-Dec-19 11:24:20, root, DEBUG: Основная стадия обучения (fit)\n",
      "17-Dec-19 11:25:55, root, DEBUG: Проверка датафреймов\n"
     ]
    },
    {
     "name": "stdout",
     "output_type": "stream",
     "text": [
      "0.7713184739623624\n",
      "0.15336453733420258\n",
      "0.2702152271199182\n",
      "0.31113177636939676\n",
      "CPU times: user 212 ms, sys: 52 ms, total: 264 ms\n",
      "Wall time: 10min 42s\n"
     ]
    }
   ],
   "source": [
    "%%time\n",
    "from sponge_bob_magic.models.knn_recommender import KNNRecommender\n",
    "\n",
    "knn_recommender = KNNRecommender(spark, 30)\n",
    "recs = knn_recommender.fit_predict(\n",
    "    k=10,\n",
    "    users=test.select(\"user_id\").distinct().cache(),\n",
    "    items=test.select(\"item_id\").distinct().cache(),\n",
    "    log=train.cache(),\n",
    "    context=None,\n",
    "    user_features=None,\n",
    "    item_features=None,\n",
    "    path=os.path.join(user_home, \"models/knn.model\")\n",
    ").cache()\n",
    "print(metrics.hit_rate_at_k(recs, test.cache(), 10))\n",
    "print(metrics.recall_at_k(recs, test.cache(), 10))\n",
    "print(metrics.precision_at_k(recs, test.cache(), 10))\n",
    "print(metrics.ndcg_at_k(recs, test.cache(), 10))"
   ]
  },
  {
   "cell_type": "code",
   "execution_count": 10,
   "metadata": {},
   "outputs": [
    {
     "data": {
      "text/plain": [
       "138319"
      ]
     },
     "execution_count": 10,
     "metadata": {},
     "output_type": "execute_result"
    }
   ],
   "source": [
    "test.select(\"user_id\").distinct().count()"
   ]
  },
  {
   "cell_type": "code",
   "execution_count": 13,
   "metadata": {},
   "outputs": [
    {
     "name": "stderr",
     "output_type": "stream",
     "text": [
      "17-Dec-19 13:30:13, root, DEBUG: Проверка датафреймов\n",
      "17-Dec-19 13:30:13, root, DEBUG: Предварительная стадия обучения (pre-fit)\n",
      "17-Dec-19 13:30:16, root, DEBUG: Основная стадия обучения (fit)\n",
      "17-Dec-19 13:30:16, root, DEBUG: Индексирование данных\n",
      "17-Dec-19 13:30:16, root, DEBUG: Обучение модели\n",
      "17-Dec-19 13:31:10, root, DEBUG: Проверка датафреймов\n",
      "17-Dec-19 13:53:59, root, DEBUG: b''\n"
     ]
    },
    {
     "name": "stdout",
     "output_type": "stream",
     "text": [
      "0.6852565446540244\n",
      "0.08908984724170102\n",
      "0.12146270577433325\n",
      "0.13526835142817267\n",
      "CPU times: user 432 ms, sys: 136 ms, total: 568 ms\n",
      "Wall time: 24min 7s\n"
     ]
    }
   ],
   "source": [
    "%%time\n",
    "from sponge_bob_magic.models.als_recommender import ALSRecommender\n",
    "\n",
    "als_recommender = ALSRecommender(spark, rank=30)\n",
    "recs = als_recommender.fit_predict(\n",
    "    k=10,\n",
    "    users=test.select(\"user_id\").distinct().cache(),\n",
    "    items=test.select(\"item_id\").distinct().cache(),\n",
    "    log=train.cache(),\n",
    "    context=None,\n",
    "    user_features=None,\n",
    "    item_features=None,\n",
    "    path=os.path.join(user_home, \"models/als.model\"),\n",
    "    batch_size=20000\n",
    ").cache()\n",
    "print(metrics.hit_rate_at_k(recs, test.cache(), 10))\n",
    "print(metrics.recall_at_k(recs, test.cache(), 10))\n",
    "print(metrics.precision_at_k(recs, test.cache(), 10))\n",
    "print(metrics.ndcg_at_k(recs, test.cache(), 10))"
   ]
  },
  {
   "cell_type": "code",
   "execution_count": 21,
   "metadata": {},
   "outputs": [],
   "source": [
    "spark.stop()"
   ]
  },
  {
   "cell_type": "code",
   "execution_count": 22,
   "metadata": {},
   "outputs": [
    {
     "name": "stdout",
     "output_type": "stream",
     "text": [
      "part-00000-134a30d0-2e4c-4413-96f3-d95015665c30-c000.snappy.parquet\r\n",
      "part-00000-2a5687e3-46b8-4073-9461-8af2ea7e20d0-c000.snappy.parquet\r\n",
      "part-00000-411d61af-5e15-4fb8-b5e3-82dee627978e-c000.snappy.parquet\r\n",
      "part-00000-5123bc6f-2db8-462f-b206-5a1499d4143f-c000.snappy.parquet\r\n",
      "part-00000-658f5169-d2b5-45c2-bc68-5424650c7b95-c000.snappy.parquet\r\n",
      "part-00000-92c3a914-0b96-4e4e-857c-77156a4b0f8a-c000.snappy.parquet\r\n",
      "part-00001-134a30d0-2e4c-4413-96f3-d95015665c30-c000.snappy.parquet\r\n",
      "part-00001-2a5687e3-46b8-4073-9461-8af2ea7e20d0-c000.snappy.parquet\r\n",
      "part-00001-411d61af-5e15-4fb8-b5e3-82dee627978e-c000.snappy.parquet\r\n",
      "part-00001-5123bc6f-2db8-462f-b206-5a1499d4143f-c000.snappy.parquet\r\n",
      "ls: write error: Broken pipe\r\n"
     ]
    }
   ],
   "source": [
    "!ls $HOME/models/als.model/recs.parquet/ | head"
   ]
  }
 ],
 "metadata": {
  "kernelspec": {
   "display_name": "Python 3",
   "language": "python",
   "name": "python3"
  },
  "language_info": {
   "codemirror_mode": {
    "name": "ipython",
    "version": 3
   },
   "file_extension": ".py",
   "mimetype": "text/x-python",
   "name": "python",
   "nbconvert_exporter": "python",
   "pygments_lexer": "ipython3",
   "version": "3.6.5"
  },
  "name": "ALS for MovieLens 100K.ipynb"
 },
 "nbformat": 4,
 "nbformat_minor": 2
}
