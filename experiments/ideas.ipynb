{
 "cells": [
  {
   "cell_type": "markdown",
   "metadata": {},
   "source": [
    "# Ideas"
   ]
  },
  {
   "cell_type": "code",
   "execution_count": 1,
   "metadata": {
    "pycharm": {
     "is_executing": false
    }
   },
   "outputs": [],
   "source": [
    "%load_ext autoreload\n",
    "%autoreload 2\n",
    "%matplotlib inline"
   ]
  },
  {
   "cell_type": "code",
   "execution_count": 2,
   "metadata": {
    "pycharm": {
     "is_executing": false
    }
   },
   "outputs": [],
   "source": [
    "import pandas as pd\n",
    "import numpy as np\n",
    "import matplotlib.pyplot as plt\n",
    "\n",
    "import os\n",
    "import sys\n",
    "import re\n",
    "import logging\n",
    "\n",
    "from collections import Counter\n",
    "\n",
    "from sklearn.feature_extraction.text import CountVectorizer\n",
    "\n",
    "from time import time\n",
    "\n",
    "from pyspark.sql import SparkSession\n",
    "from pyspark.sql import functions as sf\n",
    "from pyspark.sql.types import DoubleType, StringType, StructType, StructField, TimestampType"
   ]
  },
  {
   "cell_type": "code",
   "execution_count": 3,
   "metadata": {
    "pycharm": {
     "is_executing": false
    }
   },
   "outputs": [],
   "source": [
    "parent_dir = os.path.split(os.getcwd())[0]\n",
    "if parent_dir not in sys.path:\n",
    "    sys.path.append(parent_dir)"
   ]
  },
  {
   "cell_type": "code",
   "execution_count": 4,
   "metadata": {
    "pycharm": {
     "is_executing": false
    }
   },
   "outputs": [],
   "source": [
    "from sponge_bob_magic.data_preparator.data_preparator import DataPreparator\n",
    "from sponge_bob_magic.scenarios.popular_scenario import PopularScenario\n",
    "from sponge_bob_magic.models.popular_recomennder import PopularRecommender\n",
    "from sponge_bob_magic.metrics.metrics import Metrics\n",
    "from sponge_bob_magic.validation_schemes import ValidationSchemes"
   ]
  },
  {
   "cell_type": "code",
   "execution_count": 5,
   "metadata": {
    "pycharm": {
     "is_executing": false
    }
   },
   "outputs": [],
   "source": [
    "# Отображение максимальной ширины колонок в pandas датафреймах\n",
    "pd.options.display.max_colwidth = -1"
   ]
  },
  {
   "cell_type": "code",
   "execution_count": 6,
   "metadata": {
    "pycharm": {
     "is_executing": false
    }
   },
   "outputs": [],
   "source": [
    "spark_memory = \"2g\"\n",
    "spark_cores = \"30\"\n",
    "\n",
    "spark = (\n",
    "    SparkSession\n",
    "    .builder\n",
    "    .config('spark.driver.memory', spark_memory)\n",
    "    .master(f'local[{spark_cores}]')\n",
    "    .enableHiveSupport()\n",
    "    .getOrCreate()\n",
    ")"
   ]
  },
  {
   "cell_type": "code",
   "execution_count": 7,
   "metadata": {
    "pycharm": {
     "is_executing": false
    }
   },
   "outputs": [],
   "source": [
    "spark_logger = logging.getLogger('py4j')\n",
    "spark_logger.setLevel(logging.WARN)"
   ]
  },
  {
   "cell_type": "code",
   "execution_count": 8,
   "metadata": {
    "pycharm": {
     "is_executing": false
    }
   },
   "outputs": [],
   "source": [
    "logger = logging.getLogger()\n",
    "formatter = logging.Formatter('%(asctime)s, %(name)s, %(levelname)s: %(message)s',\n",
    "                              datefmt='%d-%b-%y %H:%M:%S')\n",
    "hdlr = logging.StreamHandler()\n",
    "hdlr.setFormatter(formatter)\n",
    "logger.addHandler(hdlr)\n",
    "logger.setLevel(logging.DEBUG)"
   ]
  },
  {
   "cell_type": "markdown",
   "metadata": {},
   "source": [
    "## Основные данные и пути"
   ]
  },
  {
   "cell_type": "code",
   "execution_count": 9,
   "metadata": {
    "pycharm": {
     "is_executing": false
    }
   },
   "outputs": [],
   "source": [
    "path_data = '/datascc/share/ideas_data'\n",
    "path_log1 = os.path.join(path_data, '2018.csv')\n",
    "path_log2 = os.path.join(path_data, '2017.csv')\n",
    "path_log = os.path.join(path_data, \"data.csv\")\n",
    "path_checkpoints = '../data/checkpoints'"
   ]
  },
  {
   "cell_type": "code",
   "execution_count": 10,
   "metadata": {
    "pycharm": {
     "is_executing": false
    }
   },
   "outputs": [],
   "source": [
    "spark.sparkContext.setCheckpointDir(path_checkpoints)"
   ]
  },
  {
   "cell_type": "code",
   "execution_count": 15,
   "metadata": {},
   "outputs": [
    {
     "name": "stdout",
     "output_type": "stream",
     "text": [
      "CPU times: user 13.3 s, sys: 1.09 s, total: 14.4 s\n",
      "Wall time: 14.6 s\n"
     ]
    }
   ],
   "source": [
    "# %%time\n",
    "\n",
    "# user_item_data = (\n",
    "#     pd.read_csv(\n",
    "#         path_log1,\n",
    "#         sep=\";\",\n",
    "#         usecols=[\"id_project\", \"user_id\", \"type\"],\n",
    "#         dtype=str\n",
    "#     ).append(\n",
    "#         pd.read_csv(\n",
    "#             path_log2,\n",
    "#             sep=\";\",\n",
    "#             usecols=[\"id_project\", \"user_id\", \"type\"],\n",
    "#             dtype=str\n",
    "#         )\n",
    "#     ).query(\"type in ('Pim::IdeaBestPracticeVote', 'Pim::IdeaResourceVote', 'Pim::IdeaVote')\")\n",
    "#     .drop(columns=[\"type\"])\n",
    "#     .rename(columns={\"user_id\": \"user_id\", \"id_project\": \"item_id\"})\n",
    "# )\n",
    "# user_item_data.to_csv(path_log, index=False)"
   ]
  },
  {
   "cell_type": "code",
   "execution_count": 16,
   "metadata": {
    "pycharm": {
     "is_executing": false
    }
   },
   "outputs": [
    {
     "name": "stdout",
     "output_type": "stream",
     "text": [
      "CPU times: user 1.09 s, sys: 140 ms, total: 1.23 s\n",
      "Wall time: 1.23 s\n"
     ]
    }
   ],
   "source": [
    "%%time\n",
    "\n",
    "log = pd.read_csv(path_log)"
   ]
  },
  {
   "cell_type": "code",
   "execution_count": 17,
   "metadata": {
    "pycharm": {
     "is_executing": false
    }
   },
   "outputs": [
    {
     "data": {
      "text/html": [
       "<div>\n",
       "<style scoped>\n",
       "    .dataframe tbody tr th:only-of-type {\n",
       "        vertical-align: middle;\n",
       "    }\n",
       "\n",
       "    .dataframe tbody tr th {\n",
       "        vertical-align: top;\n",
       "    }\n",
       "\n",
       "    .dataframe thead th {\n",
       "        text-align: right;\n",
       "    }\n",
       "</style>\n",
       "<table border=\"1\" class=\"dataframe\">\n",
       "  <thead>\n",
       "    <tr style=\"text-align: right;\">\n",
       "      <th></th>\n",
       "      <th>item_id</th>\n",
       "      <th>user_id</th>\n",
       "    </tr>\n",
       "  </thead>\n",
       "  <tbody>\n",
       "    <tr>\n",
       "      <th>0</th>\n",
       "      <td>252605</td>\n",
       "      <td>97636</td>\n",
       "    </tr>\n",
       "    <tr>\n",
       "      <th>1</th>\n",
       "      <td>235144</td>\n",
       "      <td>65714</td>\n",
       "    </tr>\n",
       "    <tr>\n",
       "      <th>2</th>\n",
       "      <td>240366</td>\n",
       "      <td>144702</td>\n",
       "    </tr>\n",
       "    <tr>\n",
       "      <th>3</th>\n",
       "      <td>258534</td>\n",
       "      <td>55067</td>\n",
       "    </tr>\n",
       "    <tr>\n",
       "      <th>4</th>\n",
       "      <td>258533</td>\n",
       "      <td>55067</td>\n",
       "    </tr>\n",
       "  </tbody>\n",
       "</table>\n",
       "</div>"
      ],
      "text/plain": [
       "   item_id  user_id\n",
       "0  252605   97636  \n",
       "1  235144   65714  \n",
       "2  240366   144702 \n",
       "3  258534   55067  \n",
       "4  258533   55067  "
      ]
     },
     "execution_count": 17,
     "metadata": {},
     "output_type": "execute_result"
    }
   ],
   "source": [
    "log.head()"
   ]
  },
  {
   "cell_type": "code",
   "execution_count": 18,
   "metadata": {
    "pycharm": {
     "is_executing": false
    }
   },
   "outputs": [
    {
     "data": {
      "text/plain": [
       "item_id    128558\n",
       "user_id    71343 \n",
       "dtype: int64"
      ]
     },
     "execution_count": 18,
     "metadata": {},
     "output_type": "execute_result"
    }
   ],
   "source": [
    "log.nunique()"
   ]
  },
  {
   "cell_type": "code",
   "execution_count": 19,
   "metadata": {},
   "outputs": [
    {
     "data": {
      "text/plain": [
       "4691248"
      ]
     },
     "execution_count": 19,
     "metadata": {},
     "output_type": "execute_result"
    }
   ],
   "source": [
    "len(log)"
   ]
  },
  {
   "cell_type": "markdown",
   "metadata": {},
   "source": [
    "## Подготовка данных"
   ]
  },
  {
   "cell_type": "code",
   "execution_count": 11,
   "metadata": {
    "pycharm": {
     "is_executing": false
    }
   },
   "outputs": [],
   "source": [
    "dp = DataPreparator(spark)"
   ]
  },
  {
   "cell_type": "code",
   "execution_count": 12,
   "metadata": {
    "pycharm": {
     "is_executing": false
    }
   },
   "outputs": [],
   "source": [
    "df = dp.transform_log(\n",
    "    path=path_log,\n",
    "    format_type=\"csv\",\n",
    "    schema=StructType([\n",
    "        StructField(\"user_id\", StringType()),\n",
    "        StructField(\"item_id\", StringType())\n",
    "    ]),\n",
    "    columns_names={\n",
    "        \"user_id\": \"user_id\",\n",
    "        \"item_id\": \"item_id\"\n",
    "    }\n",
    ").cache()"
   ]
  },
  {
   "cell_type": "code",
   "execution_count": 13,
   "metadata": {
    "pycharm": {
     "is_executing": false
    }
   },
   "outputs": [
    {
     "name": "stdout",
     "output_type": "stream",
     "text": [
      "root\n",
      " |-- user_id: string (nullable = true)\n",
      " |-- item_id: string (nullable = true)\n",
      " |-- timestamp: timestamp (nullable = true)\n",
      " |-- context: string (nullable = false)\n",
      " |-- relevance: float (nullable = false)\n",
      "\n"
     ]
    }
   ],
   "source": [
    "df.printSchema()"
   ]
  },
  {
   "cell_type": "code",
   "execution_count": 14,
   "metadata": {
    "pycharm": {
     "is_executing": false
    },
    "scrolled": false
   },
   "outputs": [
    {
     "name": "stdout",
     "output_type": "stream",
     "text": [
      "+-------+-------+-------------------+----------+---------+\n",
      "|user_id|item_id|          timestamp|   context|relevance|\n",
      "+-------+-------+-------------------+----------+---------+\n",
      "|item_id|user_id|1999-05-01 00:00:00|no_context|      1.0|\n",
      "| 252605|  97636|1999-05-01 00:00:00|no_context|      1.0|\n",
      "| 235144|  65714|1999-05-01 00:00:00|no_context|      1.0|\n",
      "+-------+-------+-------------------+----------+---------+\n",
      "only showing top 3 rows\n",
      "\n"
     ]
    }
   ],
   "source": [
    "df.show(3)"
   ]
  },
  {
   "cell_type": "markdown",
   "metadata": {},
   "source": [
    "## Рекомендации популярных объектов"
   ]
  },
  {
   "cell_type": "code",
   "execution_count": 15,
   "metadata": {},
   "outputs": [],
   "source": [
    "pr = PopularRecommender(spark, alpha=0, beta=0)"
   ]
  },
  {
   "cell_type": "code",
   "execution_count": 16,
   "metadata": {},
   "outputs": [
    {
     "name": "stderr",
     "output_type": "stream",
     "text": [
      "15-Oct-19 17:02:02, root, DEBUG: Среднее количество items у каждого user: 37.0\n"
     ]
    },
    {
     "name": "stdout",
     "output_type": "stream",
     "text": [
      "CPU times: user 16 ms, sys: 4 ms, total: 20 ms\n",
      "Wall time: 5.88 s\n"
     ]
    }
   ],
   "source": [
    "%%time\n",
    "\n",
    "pr.fit(\n",
    "    log=df,\n",
    "    user_features=None,\n",
    "    item_features=None,\n",
    "    path=None\n",
    ")"
   ]
  },
  {
   "cell_type": "code",
   "execution_count": 17,
   "metadata": {},
   "outputs": [
    {
     "name": "stderr",
     "output_type": "stream",
     "text": [
      "15-Oct-19 17:02:04, root, DEBUG: Проверка датафреймов\n",
      "15-Oct-19 17:02:04, root, DEBUG: Выделение дефолтных юзеров\n",
      "15-Oct-19 17:02:04, root, DEBUG: Выделение дефолтных айтемов\n",
      "15-Oct-19 17:02:11, root, DEBUG: Количество items после фильтрации: 137\n",
      "15-Oct-19 17:02:16, root, DEBUG: Длина recs: 17612583\n"
     ]
    },
    {
     "name": "stdout",
     "output_type": "stream",
     "text": [
      "CPU times: user 36 ms, sys: 12 ms, total: 48 ms\n",
      "Wall time: 35.6 s\n"
     ]
    }
   ],
   "source": [
    "%%time\n",
    "\n",
    "recs = pr.predict(\n",
    "    k=100,\n",
    "    users=None,\n",
    "    items=None,\n",
    "    context='no_context',\n",
    "    log=df,\n",
    "    user_features=None,\n",
    "    item_features=None,\n",
    "    to_filter_seen_items=True,\n",
    "    path=None\n",
    ")"
   ]
  },
  {
   "cell_type": "code",
   "execution_count": 18,
   "metadata": {},
   "outputs": [
    {
     "name": "stdout",
     "output_type": "stream",
     "text": [
      "+-------+-------+----------+--------------------+\n",
      "|item_id|user_id|   context|           relevance|\n",
      "+-------+-------+----------+--------------------+\n",
      "|   2903| 100010|no_context|0.010434960924052421|\n",
      "|  37337| 100010|no_context|  0.0083353068660393|\n",
      "|  57335| 100010|no_context|0.006834214086696315|\n",
      "|   2962| 100010|no_context|0.006792221005536053|\n",
      "|  65750| 100010|no_context|0.006021210982405751|\n",
      "+-------+-------+----------+--------------------+\n",
      "only showing top 5 rows\n",
      "\n"
     ]
    }
   ],
   "source": [
    "recs.show(5)"
   ]
  },
  {
   "cell_type": "code",
   "execution_count": 21,
   "metadata": {},
   "outputs": [
    {
     "name": "stdout",
     "output_type": "stream",
     "text": [
      "CPU times: user 8 ms, sys: 4 ms, total: 12 ms\n",
      "Wall time: 37.9 s\n"
     ]
    },
    {
     "data": {
      "text/plain": [
       "0.0004978259009482028"
      ]
     },
     "execution_count": 21,
     "metadata": {},
     "output_type": "execute_result"
    }
   ],
   "source": [
    "%%time\n",
    "\n",
    "metric = Metrics.hit_rate_at_k(recs, df, k=100)\n",
    "metric"
   ]
  },
  {
   "cell_type": "markdown",
   "metadata": {},
   "source": [
    "## Сценарий с популярной моделью"
   ]
  },
  {
   "cell_type": "code",
   "execution_count": 22,
   "metadata": {
    "pycharm": {
     "is_executing": false
    }
   },
   "outputs": [
    {
     "data": {
      "text/plain": [
       "DataFrame[user_id: string, item_id: string, timestamp: timestamp, context: string, relevance: float]"
      ]
     },
     "execution_count": 22,
     "metadata": {},
     "output_type": "execute_result"
    }
   ],
   "source": [
    "df_short = df.limit(10)\n",
    "df_short.checkpoint()"
   ]
  },
  {
   "cell_type": "code",
   "execution_count": 34,
   "metadata": {},
   "outputs": [
    {
     "data": {
      "text/plain": [
       "65.75534032294236"
      ]
     },
     "execution_count": 34,
     "metadata": {},
     "output_type": "execute_result"
    }
   ],
   "source": [
    "avg_num_users = (\n",
    "    df\n",
    "    .select('user_id', 'item_id')\n",
    "    .groupBy('item_id')\n",
    "    .count()\n",
    "    .select(sf.mean(sf.col('count')).alias('mean'))\n",
    "    .collect()[0]['mean']\n",
    ")\n",
    "\n",
    "avg_num_users"
   ]
  },
  {
   "cell_type": "code",
   "execution_count": 35,
   "metadata": {
    "pycharm": {
     "is_executing": false
    }
   },
   "outputs": [],
   "source": [
    "popular_scenario = PopularScenario(spark)\n",
    "popular_params_grid = {'alpha': (0, 65), 'beta': (0, 65)}\n",
    "# popular_scenario.seed = 9876"
   ]
  },
  {
   "cell_type": "code",
   "execution_count": 46,
   "metadata": {
    "pycharm": {
     "is_executing": false
    },
    "scrolled": false
   },
   "outputs": [
    {
     "name": "stderr",
     "output_type": "stream",
     "text": [
      "16-Oct-19 11:55:26, root, DEBUG: Деление на трейн и тест\n",
      "16-Oct-19 11:55:34, root, DEBUG: Размер трейна:      3283758\n",
      "16-Oct-19 11:55:34, root, DEBUG: Размер теста_инпут: 3283758\n",
      "16-Oct-19 11:55:36, root, DEBUG: Размер теста:       1402125\n",
      "16-Oct-19 11:55:47, root, DEBUG: Среднее количество items у каждого user: 26.0\n",
      "16-Oct-19 11:55:48, root, DEBUG: Начало оптимизации параметров\n",
      "16-Oct-19 11:55:48, root, DEBUG: Предикт модели в оптимизации\n",
      "16-Oct-19 11:55:48, root, DEBUG: Проверка датафреймов\n",
      "16-Oct-19 11:55:58, root, DEBUG: Количество items после фильтрации: 76\n",
      "16-Oct-19 11:56:06, root, DEBUG: Длина recs: 9428788\n",
      "16-Oct-19 11:56:26, root, DEBUG: Подсчет метрики в оптимизации\n",
      "16-Oct-19 11:57:08, root, DEBUG: Метрика и параметры: (0.006891659882479063, {'alpha': 1, 'beta': 61})\n",
      "[I 2019-10-16 11:57:08,215] Finished trial#0 resulted in value: 0.006891659882479063. Current best value is 0.006891659882479063 with parameters: {'alpha': 1, 'beta': 61}.\n",
      "16-Oct-19 11:57:08, root, DEBUG: Предикт модели в оптимизации\n",
      "16-Oct-19 11:57:08, root, DEBUG: Проверка датафреймов\n",
      "16-Oct-19 11:57:19, root, DEBUG: Количество items после фильтрации: 76\n",
      "16-Oct-19 11:57:28, root, DEBUG: Длина recs: 9428788\n",
      "16-Oct-19 11:57:47, root, DEBUG: Подсчет метрики в оптимизации\n",
      "16-Oct-19 11:58:31, root, DEBUG: Метрика и параметры: (0.006891659882479063, {'alpha': 10, 'beta': 42})\n",
      "[I 2019-10-16 11:58:31,233] Finished trial#1 resulted in value: 0.006891659882479063. Current best value is 0.006891659882479063 with parameters: {'alpha': 1, 'beta': 61}.\n",
      "16-Oct-19 11:58:31, root, DEBUG: Предикт модели в оптимизации\n",
      "16-Oct-19 11:58:31, root, DEBUG: Проверка датафреймов\n",
      "16-Oct-19 11:58:41, root, DEBUG: Количество items после фильтрации: 76\n",
      "16-Oct-19 11:58:50, root, DEBUG: Длина recs: 9428788\n",
      "16-Oct-19 11:59:09, root, DEBUG: Подсчет метрики в оптимизации\n",
      "16-Oct-19 11:59:52, root, DEBUG: Метрика и параметры: (0.006891659882479063, {'alpha': 38, 'beta': 4})\n",
      "[I 2019-10-16 11:59:52,399] Finished trial#2 resulted in value: 0.006891659882479063. Current best value is 0.006891659882479063 with parameters: {'alpha': 1, 'beta': 61}.\n",
      "16-Oct-19 11:59:52, root, DEBUG: Предикт модели в оптимизации\n",
      "16-Oct-19 11:59:52, root, DEBUG: Проверка датафреймов\n",
      "16-Oct-19 12:00:02, root, DEBUG: Количество items после фильтрации: 76\n",
      "16-Oct-19 12:00:11, root, DEBUG: Длина recs: 9428788\n",
      "16-Oct-19 12:00:30, root, DEBUG: Подсчет метрики в оптимизации\n",
      "16-Oct-19 12:01:12, root, DEBUG: Метрика и параметры: (0.006891659882479063, {'alpha': 3, 'beta': 39})\n",
      "[I 2019-10-16 12:01:12,819] Finished trial#3 resulted in value: 0.006891659882479063. Current best value is 0.006891659882479063 with parameters: {'alpha': 1, 'beta': 61}.\n",
      "16-Oct-19 12:01:12, root, DEBUG: Предикт модели в оптимизации\n",
      "16-Oct-19 12:01:12, root, DEBUG: Проверка датафреймов\n",
      "16-Oct-19 12:01:23, root, DEBUG: Количество items после фильтрации: 76\n",
      "16-Oct-19 12:01:31, root, DEBUG: Длина recs: 9428788\n",
      "16-Oct-19 12:01:50, root, DEBUG: Подсчет метрики в оптимизации\n",
      "16-Oct-19 12:02:35, root, DEBUG: Метрика и параметры: (0.006891659882479063, {'alpha': 26, 'beta': 19})\n",
      "[I 2019-10-16 12:02:35,513] Finished trial#4 resulted in value: 0.006891659882479063. Current best value is 0.006891659882479063 with parameters: {'alpha': 1, 'beta': 61}.\n",
      "16-Oct-19 12:02:35, root, DEBUG: Предикт модели в оптимизации\n",
      "16-Oct-19 12:02:35, root, DEBUG: Проверка датафреймов\n",
      "16-Oct-19 12:02:46, root, DEBUG: Количество items после фильтрации: 76\n",
      "16-Oct-19 12:02:54, root, DEBUG: Длина recs: 9428788\n",
      "16-Oct-19 12:03:15, root, DEBUG: Подсчет метрики в оптимизации\n",
      "16-Oct-19 12:04:02, root, DEBUG: Метрика и параметры: (0.006891659882479063, {'alpha': 14, 'beta': 48})\n",
      "[I 2019-10-16 12:04:03,064] Finished trial#5 resulted in value: 0.006891659882479063. Current best value is 0.006891659882479063 with parameters: {'alpha': 1, 'beta': 61}.\n",
      "16-Oct-19 12:04:03, root, DEBUG: Предикт модели в оптимизации\n",
      "16-Oct-19 12:04:03, root, DEBUG: Проверка датафреймов\n",
      "16-Oct-19 12:04:14, root, DEBUG: Количество items после фильтрации: 76\n",
      "16-Oct-19 12:04:22, root, DEBUG: Длина recs: 9428788\n",
      "16-Oct-19 12:04:42, root, DEBUG: Подсчет метрики в оптимизации\n",
      "16-Oct-19 12:05:27, root, DEBUG: Метрика и параметры: (0.006891659882479063, {'alpha': 47, 'beta': 63})\n",
      "[I 2019-10-16 12:05:27,686] Finished trial#6 resulted in value: 0.006891659882479063. Current best value is 0.006891659882479063 with parameters: {'alpha': 1, 'beta': 61}.\n",
      "16-Oct-19 12:05:27, root, DEBUG: Предикт модели в оптимизации\n",
      "16-Oct-19 12:05:27, root, DEBUG: Проверка датафреймов\n",
      "16-Oct-19 12:05:38, root, DEBUG: Количество items после фильтрации: 76\n",
      "16-Oct-19 12:05:47, root, DEBUG: Длина recs: 9428788\n",
      "16-Oct-19 12:06:09, root, DEBUG: Подсчет метрики в оптимизации\n",
      "16-Oct-19 12:06:55, root, DEBUG: Метрика и параметры: (0.006891659882479063, {'alpha': 60, 'beta': 50})\n",
      "[I 2019-10-16 12:06:55,547] Finished trial#7 resulted in value: 0.006891659882479063. Current best value is 0.006891659882479063 with parameters: {'alpha': 1, 'beta': 61}.\n",
      "16-Oct-19 12:06:55, root, DEBUG: Предикт модели в оптимизации\n",
      "16-Oct-19 12:06:55, root, DEBUG: Проверка датафреймов\n",
      "16-Oct-19 12:07:06, root, DEBUG: Количество items после фильтрации: 76\n",
      "16-Oct-19 12:07:15, root, DEBUG: Длина recs: 9428788\n",
      "16-Oct-19 12:07:38, root, DEBUG: Подсчет метрики в оптимизации\n",
      "16-Oct-19 12:08:23, root, DEBUG: Метрика и параметры: (0.006891659882479063, {'alpha': 20, 'beta': 44})\n",
      "[I 2019-10-16 12:08:23,582] Finished trial#8 resulted in value: 0.006891659882479063. Current best value is 0.006891659882479063 with parameters: {'alpha': 1, 'beta': 61}.\n",
      "16-Oct-19 12:08:23, root, DEBUG: Предикт модели в оптимизации\n",
      "16-Oct-19 12:08:23, root, DEBUG: Проверка датафреймов\n",
      "16-Oct-19 12:08:34, root, DEBUG: Количество items после фильтрации: 76\n",
      "16-Oct-19 12:08:44, root, DEBUG: Длина recs: 9428788\n",
      "16-Oct-19 12:09:04, root, DEBUG: Подсчет метрики в оптимизации\n",
      "16-Oct-19 12:09:48, root, DEBUG: Метрика и параметры: (0.006891659882479063, {'alpha': 30, 'beta': 44})\n",
      "[I 2019-10-16 12:09:48,663] Finished trial#9 resulted in value: 0.006891659882479063. Current best value is 0.006891659882479063 with parameters: {'alpha': 1, 'beta': 61}.\n",
      "16-Oct-19 12:09:48, root, DEBUG: Лучшие значения метрики: 0.006891659882479063\n",
      "16-Oct-19 12:09:48, root, DEBUG: Лучшие параметры: {'alpha': 1, 'beta': 61}\n"
     ]
    },
    {
     "name": "stdout",
     "output_type": "stream",
     "text": [
      "CPU times: user 1.3 s, sys: 172 ms, total: 1.48 s\n",
      "Wall time: 14min 22s\n"
     ]
    }
   ],
   "source": [
    "%%time\n",
    "\n",
    "best_params = popular_scenario.research(\n",
    "    popular_params_grid,\n",
    "    df,\n",
    "    users=None, items=None,\n",
    "    user_features=None,\n",
    "    item_features=None,\n",
    "    test_start=None,\n",
    "    test_size=0.3,\n",
    "    k=50, context='no_context',\n",
    "    to_filter_seen_items=True,\n",
    "    n_trials=10, n_jobs=1,\n",
    "    how_to_split='randomly'\n",
    ")"
   ]
  },
  {
   "cell_type": "code",
   "execution_count": 47,
   "metadata": {},
   "outputs": [
    {
     "data": {
      "text/plain": [
       "{'alpha': 1, 'beta': 61}"
      ]
     },
     "execution_count": 47,
     "metadata": {},
     "output_type": "execute_result"
    }
   ],
   "source": [
    "best_params"
   ]
  },
  {
   "cell_type": "code",
   "execution_count": null,
   "metadata": {},
   "outputs": [],
   "source": [
    "results = popular_scenario.study.trials_dataframe()\n",
    "\n",
    "results.head()"
   ]
  },
  {
   "cell_type": "code",
   "execution_count": 48,
   "metadata": {
    "scrolled": false
   },
   "outputs": [
    {
     "data": {
      "image/png": "[encoded data removed]",
      "text/plain": [
       "<Figure size 504x360 with 1 Axes>"
      ]
     },
     "metadata": {
      "needs_background": "light"
     },
     "output_type": "display_data"
    }
   ],
   "source": [
    "def plot_result_value(results):\n",
    "    results['value_name'] = (results['params']['alpha'].astype(str)\n",
    "                         .str.cat(results['params']['beta'].astype(str), sep=', '))\n",
    "    \n",
    "    plt.figure(figsize=(7, 5))\n",
    "    ax = results['value'].plot(kind='bar', xticks=range(len(results)), rot=0)\n",
    "    ax.set_xticklabels(results['value_name'].values)\n",
    "\n",
    "    plt.xlabel(r'$(\\alpha, \\beta)$' + ' пары')\n",
    "    plt.ylabel('Значение метрики')\n",
    "    plt.title('Результаты эксперимента')\n",
    "\n",
    "    plt.show()\n",
    "    \n",
    "\n",
    "plot_result_value(results)"
   ]
  },
  {
   "cell_type": "code",
   "execution_count": 40,
   "metadata": {},
   "outputs": [
    {
     "name": "stderr",
     "output_type": "stream",
     "text": [
      "16-Oct-19 11:32:21, root, DEBUG: Среднее количество items у каждого user: 37.0\n",
      "16-Oct-19 11:32:22, root, DEBUG: Проверка датафреймов\n",
      "16-Oct-19 11:32:22, root, DEBUG: Выделение дефолтных юзеров\n",
      "16-Oct-19 11:32:22, root, DEBUG: Выделение дефолтных айтемов\n",
      "16-Oct-19 11:32:28, root, DEBUG: Количество items после фильтрации: 47\n",
      "16-Oct-19 11:32:32, root, DEBUG: Длина recs: 6042273\n"
     ]
    },
    {
     "name": "stdout",
     "output_type": "stream",
     "text": [
      "CPU times: user 40 ms, sys: 16 ms, total: 56 ms\n",
      "Wall time: 25.1 s\n"
     ]
    }
   ],
   "source": [
    "%%time\n",
    "\n",
    "best_recs = popular_scenario.production(\n",
    "    best_params,\n",
    "    df,\n",
    "    users=None,\n",
    "    items=None,\n",
    "    user_features=None,\n",
    "    item_features=None,\n",
    "    k=10,\n",
    "    context='no_context',\n",
    "    to_filter_seen_items=True\n",
    ")"
   ]
  },
  {
   "cell_type": "code",
   "execution_count": 41,
   "metadata": {},
   "outputs": [
    {
     "name": "stdout",
     "output_type": "stream",
     "text": [
      "+-------+-------+----------+--------------------+\n",
      "|item_id|user_id|   context|           relevance|\n",
      "+-------+-------+----------+--------------------+\n",
      "|   2903| 100010|no_context|0.010437023584181715|\n",
      "|  37337| 100010|no_context|0.008337383400692348|\n",
      "|  57335| 100010|no_context|0.006836300540577412|\n",
      "|   2962| 100010|no_context|0.006794307736907625|\n",
      "|  65750| 100010|no_context|0.006023302808615133|\n",
      "|  32146| 100010|no_context| 0.00594954895039307|\n",
      "|  71934| 100010|no_context|0.004986272403267339|\n",
      "|  58247| 100010|no_context|0.004456139902116267|\n",
      "|  33182| 100010|no_context|0.004297974113674732|\n",
      "|  32858| 100010|no_context|0.003826461008509...|\n",
      "+-------+-------+----------+--------------------+\n",
      "only showing top 10 rows\n",
      "\n"
     ]
    }
   ],
   "source": [
    "best_recs.show(10)"
   ]
  }
 ],
 "metadata": {
  "kernelspec": {
   "display_name": "Python 3",
   "language": "python",
   "name": "python3"
  },
  "language_info": {
   "codemirror_mode": {
    "name": "ipython",
    "version": 3
   },
   "file_extension": ".py",
   "mimetype": "text/x-python",
   "name": "python",
   "nbconvert_exporter": "python",
   "pygments_lexer": "ipython3",
   "version": "3.6.5"
  },
  "pycharm": {
   "stem_cell": {
    "cell_type": "raw",
    "metadata": {
     "collapsed": false
    },
    "source": []
   }
  }
 },
 "nbformat": 4,
 "nbformat_minor": 2
}
