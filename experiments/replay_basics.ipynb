{
 "cells": [
  {
   "cell_type": "markdown",
   "metadata": {},
   "source": [
    "# RePlay Tutorial\n",
    "This notebook is designed to familiarize with the use of RePlay library, including \n",
    "- data preprocessing\n",
    "- data splitting\n",
    "- model training and inference\n",
    "- model optimization\n",
    "- models comparison"
   ]
  },
  {
   "cell_type": "code",
   "execution_count": 1,
   "metadata": {
    "ExecuteTime": {
     "end_time": "2020-02-10T16:01:45.639135Z",
     "start_time": "2020-02-10T16:01:45.612577Z"
    },
    "collapsed": false,
    "jupyter": {
     "outputs_hidden": false
    },
    "pycharm": {
     "is_executing": false
    }
   },
   "outputs": [],
   "source": [
    "%load_ext autoreload\n",
    "%autoreload 2"
   ]
  },
  {
   "cell_type": "code",
   "execution_count": 2,
   "metadata": {},
   "outputs": [],
   "source": [
    "%config Completer.use_jedi = False"
   ]
  },
  {
   "cell_type": "markdown",
   "metadata": {},
   "source": [
    "`State` object allows passing existing Spark session or create a new one, which will be used by the all RePlay modules.\n",
    "\n",
    "To create session with custom parameters ``spark.driver.memory`` and ``spark.sql.shuffle.partitions`` use function `get_spark_session` from `session_handler` module."
   ]
  },
  {
   "cell_type": "code",
   "execution_count": 3,
   "metadata": {
    "ExecuteTime": {
     "end_time": "2020-02-10T15:59:09.227179Z",
     "start_time": "2020-02-10T15:59:06.427348Z"
    },
    "collapsed": false,
    "jupyter": {
     "outputs_hidden": false
    },
    "pycharm": {
     "is_executing": false
    }
   },
   "outputs": [
    {
     "data": {
      "text/html": [
       "\n",
       "            <div>\n",
       "                <p><b>SparkSession - hive</b></p>\n",
       "                \n",
       "        <div>\n",
       "            <p><b>SparkContext</b></p>\n",
       "\n",
       "            <p><a href=\"http://localhost:4040\">Spark UI</a></p>\n",
       "\n",
       "            <dl>\n",
       "              <dt>Version</dt>\n",
       "                <dd><code>v3.0.3</code></dd>\n",
       "              <dt>Master</dt>\n",
       "                <dd><code>local[*]</code></dd>\n",
       "              <dt>AppName</dt>\n",
       "                <dd><code>pyspark-shell</code></dd>\n",
       "            </dl>\n",
       "        </div>\n",
       "        \n",
       "            </div>\n",
       "        "
      ],
      "text/plain": [
       "<pyspark.sql.session.SparkSession at 0x1416258b0>"
      ]
     },
     "execution_count": 3,
     "metadata": {},
     "output_type": "execute_result"
    }
   ],
   "source": [
    "from replay.session_handler import State\n",
    "\n",
    "spark = State().session\n",
    "spark"
   ]
  },
  {
   "cell_type": "code",
   "execution_count": 4,
   "metadata": {},
   "outputs": [],
   "source": [
    "K = 5\n",
    "SEED=1234"
   ]
  },
  {
   "cell_type": "markdown",
   "metadata": {},
   "source": [
    "## 0. Data preprocessing <a name='data-preparator'></a>\n",
    "We will use MovieLens 1m as an example."
   ]
  },
  {
   "cell_type": "code",
   "execution_count": 5,
   "metadata": {
    "ExecuteTime": {
     "end_time": "2020-02-10T15:59:42.041251Z",
     "start_time": "2020-02-10T15:59:09.230636Z"
    },
    "collapsed": false,
    "jupyter": {
     "outputs_hidden": false
    },
    "scrolled": true
   },
   "outputs": [],
   "source": [
    "import pandas as pd\n",
    "df = pd.read_csv(\"data/ml1m_ratings.dat\", sep=\"\\t\", names=[\"user_id\", \"item_id\", \"relevance\", \"timestamp\"])\n",
    "users = pd.read_csv(\"data/ml1m_users.dat\", sep=\"\\t\", names=[\"user_id\", \"gender\", \"age\", \"occupation\", \"zip_code\"])"
   ]
  },
  {
   "cell_type": "markdown",
   "metadata": {},
   "source": [
    "### 0.1. DataPreparator"
   ]
  },
  {
   "cell_type": "markdown",
   "metadata": {},
   "source": [
    "An inner data format in RePlay is a spark dataframe.\n",
    "You can pass spark or pandas dataframe as an input. Columns ``item_id`` and ``user_id`` are required for interaction matrix.\n",
    "Optional columns for interaction matrix are ``relevance`` and interaction ``timestamp``. \n",
    "\n",
    "We implemented DataPreparator class to convert dataframes to spark format and preprocess the data, including renaming/creation of required and optional interaction matrix columns, null check and dates parsing.\n",
    "\n",
    "To convert pandas dataframe to spark as is use function ``convert_to_spark`` from ``replay.utils``."
   ]
  },
  {
   "cell_type": "code",
   "execution_count": 6,
   "metadata": {
    "collapsed": false,
    "jupyter": {
     "outputs_hidden": false
    }
   },
   "outputs": [],
   "source": [
    "from replay.data_preparator import DataPreparator\n",
    "\n",
    "log = DataPreparator().transform(\n",
    "    data=df,\n",
    "    columns_names={\n",
    "        \"user_id\": \"user_id\",\n",
    "        \"item_id\": \"item_id\",\n",
    "        \"relevance\": \"relevance\",\n",
    "        \"timestamp\": \"timestamp\"\n",
    "    }\n",
    ")"
   ]
  },
  {
   "cell_type": "code",
   "execution_count": 7,
   "metadata": {},
   "outputs": [
    {
     "name": "stdout",
     "output_type": "stream",
     "text": [
      "+-------+-------+---------+-------------------+\n",
      "|user_id|item_id|relevance|          timestamp|\n",
      "+-------+-------+---------+-------------------+\n",
      "|      1|   1193|      5.0|2001-01-01 01:12:40|\n",
      "|      1|    661|      3.0|2001-01-01 01:35:09|\n",
      "|      1|    914|      3.0|2001-01-01 01:32:48|\n",
      "+-------+-------+---------+-------------------+\n",
      "only showing top 3 rows\n",
      "\n"
     ]
    }
   ],
   "source": [
    "log.show(3)"
   ]
  },
  {
   "cell_type": "code",
   "execution_count": 8,
   "metadata": {},
   "outputs": [],
   "source": [
    "from replay.utils import convert2spark\n",
    "users = convert2spark(users)"
   ]
  },
  {
   "cell_type": "markdown",
   "metadata": {},
   "source": [
    "### 0.2. Split"
   ]
  },
  {
   "cell_type": "markdown",
   "metadata": {},
   "source": [
    "RePlay provides you with data splitters to reproduce a validation schemas widely-used in recommender systems.\n",
    "\n",
    "`UserSplitter` takes ``item_test_size`` items for each user to the test dataset."
   ]
  },
  {
   "cell_type": "code",
   "execution_count": 9,
   "metadata": {
    "ExecuteTime": {
     "end_time": "2020-02-10T15:59:50.986401Z",
     "start_time": "2020-02-10T15:59:42.042998Z"
    },
    "collapsed": false,
    "jupyter": {
     "outputs_hidden": false
    }
   },
   "outputs": [
    {
     "data": {
      "text/plain": [
       "(997709, 2500)"
      ]
     },
     "execution_count": 9,
     "metadata": {},
     "output_type": "execute_result"
    }
   ],
   "source": [
    "from replay.splitters import UserSplitter\n",
    "\n",
    "splitter = UserSplitter(\n",
    "    drop_cold_items=True,\n",
    "    drop_cold_users=True,\n",
    "    item_test_size=K,\n",
    "    user_test_size=500,\n",
    "    seed=SEED,\n",
    "    shuffle=True\n",
    ")\n",
    "train, test = splitter.split(log)\n",
    "(\n",
    "    train.count(), \n",
    "    test.count()\n",
    ")"
   ]
  },
  {
   "cell_type": "markdown",
   "metadata": {},
   "source": [
    "## 1. Models training\n",
    "\n",
    "#### SLIM"
   ]
  },
  {
   "cell_type": "code",
   "execution_count": 10,
   "metadata": {},
   "outputs": [
    {
     "name": "stderr",
     "output_type": "stream",
     "text": [
      "/Users/alexxl/replay_github/venv/lib/python3.8/site-packages/lightfm/_lightfm_fast.py:9: UserWarning: LightFM was compiled without OpenMP support. Only a single thread will be used.\n",
      "  warnings.warn(\n"
     ]
    }
   ],
   "source": [
    "from replay.models import SLIM\n",
    "\n",
    "slim = SLIM(lambda_=0.01, beta=0.01, seed=SEED)"
   ]
  },
  {
   "cell_type": "code",
   "execution_count": 11,
   "metadata": {},
   "outputs": [
    {
     "name": "stderr",
     "output_type": "stream",
     "text": [
      "14-Sep-21 15:37:40, replay, DEBUG: Starting fit SLIM\n",
      "DEBUG:replay:Starting fit SLIM\n",
      "14-Sep-21 15:37:40, replay, DEBUG: Creating indexers\n",
      "DEBUG:replay:Creating indexers\n",
      "14-Sep-21 15:37:44, replay, DEBUG: Main fit stage\n",
      "DEBUG:replay:Main fit stage\n"
     ]
    },
    {
     "name": "stdout",
     "output_type": "stream",
     "text": [
      "CPU times: user 3.6 s, sys: 457 ms, total: 4.06 s\n",
      "Wall time: 15.2 s\n"
     ]
    }
   ],
   "source": [
    "%%time\n",
    "\n",
    "slim.fit(log=train)"
   ]
  },
  {
   "cell_type": "code",
   "execution_count": 12,
   "metadata": {},
   "outputs": [
    {
     "name": "stderr",
     "output_type": "stream",
     "text": [
      "14-Sep-21 15:37:55, replay, DEBUG: Starting predict SLIM\n",
      "DEBUG:replay:Starting predict SLIM\n"
     ]
    },
    {
     "name": "stdout",
     "output_type": "stream",
     "text": [
      "CPU times: user 1.67 s, sys: 431 ms, total: 2.1 s\n",
      "Wall time: 7.6 s\n"
     ]
    }
   ],
   "source": [
    "%%time\n",
    "\n",
    "recs = slim.predict(\n",
    "    k=K,\n",
    "    users=test.select('user_id').distinct(),\n",
    "    log=train,\n",
    "    filter_seen_items=True\n",
    ")"
   ]
  },
  {
   "cell_type": "markdown",
   "metadata": {},
   "source": [
    "## 2. Models evaluation"
   ]
  },
  {
   "cell_type": "markdown",
   "metadata": {},
   "source": [
    "RePlay implements some popular recommenders' quality metrics. Use pure metrics or calculate a set of chosen metrics and compare models with the ``Experiment`` class."
   ]
  },
  {
   "cell_type": "code",
   "execution_count": 13,
   "metadata": {
    "ExecuteTime": {
     "end_time": "2020-02-10T16:07:28.942205Z",
     "start_time": "2020-02-10T16:07:26.281475Z"
    },
    "collapsed": false,
    "jupyter": {
     "outputs_hidden": false
    }
   },
   "outputs": [],
   "source": [
    "from replay.metrics import HitRate, NDCG, MAP\n",
    "from replay.experiment import Experiment\n",
    "\n",
    "metrics = Experiment(test, {NDCG(): K,\n",
    "                            MAP() : K,\n",
    "                            HitRate(): [1, K]})\n"
   ]
  },
  {
   "cell_type": "code",
   "execution_count": 14,
   "metadata": {},
   "outputs": [
    {
     "name": "stdout",
     "output_type": "stream",
     "text": [
      "CPU times: user 119 ms, sys: 31 ms, total: 150 ms\n",
      "Wall time: 1min 37s\n"
     ]
    },
    {
     "data": {
      "text/html": [
       "<div>\n",
       "<style scoped>\n",
       "    .dataframe tbody tr th:only-of-type {\n",
       "        vertical-align: middle;\n",
       "    }\n",
       "\n",
       "    .dataframe tbody tr th {\n",
       "        vertical-align: top;\n",
       "    }\n",
       "\n",
       "    .dataframe thead th {\n",
       "        text-align: right;\n",
       "    }\n",
       "</style>\n",
       "<table border=\"1\" class=\"dataframe\">\n",
       "  <thead>\n",
       "    <tr style=\"text-align: right;\">\n",
       "      <th></th>\n",
       "      <th>HitRate@1</th>\n",
       "      <th>HitRate@5</th>\n",
       "      <th>MAP@5</th>\n",
       "      <th>NDCG@5</th>\n",
       "    </tr>\n",
       "  </thead>\n",
       "  <tbody>\n",
       "    <tr>\n",
       "      <th>SLIM</th>\n",
       "      <td>0.124</td>\n",
       "      <td>0.388</td>\n",
       "      <td>0.055293</td>\n",
       "      <td>0.103301</td>\n",
       "    </tr>\n",
       "  </tbody>\n",
       "</table>\n",
       "</div>"
      ],
      "text/plain": [
       "      HitRate@1  HitRate@5     MAP@5    NDCG@5\n",
       "SLIM      0.124      0.388  0.055293  0.103301"
      ]
     },
     "execution_count": 14,
     "metadata": {},
     "output_type": "execute_result"
    }
   ],
   "source": [
    "%%time\n",
    "metrics.add_result(\"SLIM\", recs)\n",
    "metrics.results"
   ]
  },
  {
   "cell_type": "markdown",
   "metadata": {},
   "source": [
    "## 3. Hyperparameters optimization"
   ]
  },
  {
   "cell_type": "code",
   "execution_count": 15,
   "metadata": {},
   "outputs": [],
   "source": [
    "# data split for hyperparameters optimization\n",
    "train_opt, val_opt = splitter.split(train)"
   ]
  },
  {
   "cell_type": "code",
   "execution_count": 16,
   "metadata": {},
   "outputs": [
    {
     "name": "stderr",
     "output_type": "stream",
     "text": [
      "\u001b[32m[I 2021-09-14 17:21:58,972]\u001b[0m A new study created in memory with name: no-name-2abc5a32-1e33-48e9-88c7-964e9afdb108\u001b[0m\n",
      "14-Sep-21 17:21:58, replay, DEBUG: Fitting model inside optimization\n",
      "DEBUG:replay:Fitting model inside optimization\n",
      "14-Sep-21 17:21:59, replay, DEBUG: Starting fit SLIM\n",
      "DEBUG:replay:Starting fit SLIM\n",
      "14-Sep-21 17:21:59, replay, DEBUG: Main fit stage\n",
      "DEBUG:replay:Main fit stage\n",
      "14-Sep-21 17:22:10, replay, DEBUG: Predicting inside optimization\n",
      "DEBUG:replay:Predicting inside optimization\n",
      "14-Sep-21 17:22:10, replay, DEBUG: Starting predict SLIM\n",
      "DEBUG:replay:Starting predict SLIM\n",
      "14-Sep-21 17:22:20, replay, DEBUG: Calculating criterion\n",
      "DEBUG:replay:Calculating criterion\n",
      "14-Sep-21 17:26:24, replay, DEBUG: NDCG=0.025548\n",
      "DEBUG:replay:NDCG=0.025548\n",
      "\u001b[32m[I 2021-09-14 17:26:24,619]\u001b[0m Trial 0 finished with value: 0.025547901548758217 and parameters: {'beta': 0.0025240804025565, 'lambda_': 1.3775675803000321e-08}. Best is trial 0 with value: 0.025547901548758217.\u001b[0m\n",
      "14-Sep-21 17:26:24, replay, DEBUG: Fitting model inside optimization\n",
      "DEBUG:replay:Fitting model inside optimization\n",
      "14-Sep-21 17:26:24, replay, DEBUG: Starting fit SLIM\n",
      "DEBUG:replay:Starting fit SLIM\n",
      "14-Sep-21 17:26:24, replay, DEBUG: Main fit stage\n",
      "DEBUG:replay:Main fit stage\n",
      "14-Sep-21 17:26:31, replay, DEBUG: Predicting inside optimization\n",
      "DEBUG:replay:Predicting inside optimization\n",
      "14-Sep-21 17:26:31, replay, DEBUG: Starting predict SLIM\n",
      "DEBUG:replay:Starting predict SLIM\n",
      "14-Sep-21 17:26:37, replay, DEBUG: Calculating criterion\n",
      "DEBUG:replay:Calculating criterion\n",
      "14-Sep-21 17:29:59, replay, DEBUG: NDCG=0.078235\n",
      "DEBUG:replay:NDCG=0.078235\n",
      "\u001b[32m[I 2021-09-14 17:29:59,999]\u001b[0m Trial 1 finished with value: 0.07823548483772777 and parameters: {'beta': 0.04631776286064124, 'lambda_': 1.3576355596421571e-08}. Best is trial 1 with value: 0.07823548483772777.\u001b[0m\n",
      "14-Sep-21 17:30:00, replay, DEBUG: Fitting model inside optimization\n",
      "DEBUG:replay:Fitting model inside optimization\n",
      "14-Sep-21 17:30:00, replay, DEBUG: Starting fit SLIM\n",
      "DEBUG:replay:Starting fit SLIM\n",
      "14-Sep-21 17:30:00, replay, DEBUG: Main fit stage\n",
      "DEBUG:replay:Main fit stage\n",
      "14-Sep-21 17:30:08, replay, DEBUG: Predicting inside optimization\n",
      "DEBUG:replay:Predicting inside optimization\n",
      "14-Sep-21 17:30:08, replay, DEBUG: Starting predict SLIM\n",
      "DEBUG:replay:Starting predict SLIM\n",
      "14-Sep-21 17:30:14, replay, DEBUG: Calculating criterion\n",
      "DEBUG:replay:Calculating criterion\n",
      "14-Sep-21 17:31:18, replay, DEBUG: NDCG=0.143804\n",
      "DEBUG:replay:NDCG=0.143804\n",
      "\u001b[32m[I 2021-09-14 17:31:18,500]\u001b[0m Trial 2 finished with value: 0.14380396103034246 and parameters: {'beta': 3.1457884237138176e-06, 'lambda_': 0.11065899088935735}. Best is trial 2 with value: 0.14380396103034246.\u001b[0m\n",
      "14-Sep-21 17:31:18, replay, DEBUG: Fitting model inside optimization\n",
      "DEBUG:replay:Fitting model inside optimization\n",
      "14-Sep-21 17:31:18, replay, DEBUG: Starting fit SLIM\n",
      "DEBUG:replay:Starting fit SLIM\n",
      "14-Sep-21 17:31:18, replay, DEBUG: Main fit stage\n",
      "DEBUG:replay:Main fit stage\n",
      "14-Sep-21 17:31:25, replay, DEBUG: Predicting inside optimization\n",
      "DEBUG:replay:Predicting inside optimization\n",
      "14-Sep-21 17:31:25, replay, DEBUG: Starting predict SLIM\n",
      "DEBUG:replay:Starting predict SLIM\n",
      "14-Sep-21 17:31:31, replay, DEBUG: Calculating criterion\n",
      "DEBUG:replay:Calculating criterion\n",
      "14-Sep-21 17:35:33, replay, DEBUG: NDCG=0.019863\n",
      "DEBUG:replay:NDCG=0.019863\n",
      "\u001b[32m[I 2021-09-14 17:35:33,921]\u001b[0m Trial 3 finished with value: 0.019862937206138822 and parameters: {'beta': 4.534302549279411e-08, 'lambda_': 1.974112886933766e-05}. Best is trial 2 with value: 0.14380396103034246.\u001b[0m\n",
      "14-Sep-21 17:35:33, replay, DEBUG: Fitting model inside optimization\n",
      "DEBUG:replay:Fitting model inside optimization\n",
      "14-Sep-21 17:35:33, replay, DEBUG: Starting fit SLIM\n",
      "DEBUG:replay:Starting fit SLIM\n",
      "14-Sep-21 17:35:33, replay, DEBUG: Main fit stage\n",
      "DEBUG:replay:Main fit stage\n",
      "14-Sep-21 17:35:43, replay, DEBUG: Predicting inside optimization\n",
      "DEBUG:replay:Predicting inside optimization\n",
      "14-Sep-21 17:35:43, replay, DEBUG: Starting predict SLIM\n",
      "DEBUG:replay:Starting predict SLIM\n",
      "14-Sep-21 17:35:50, replay, DEBUG: Calculating criterion\n",
      "DEBUG:replay:Calculating criterion\n",
      "14-Sep-21 17:37:21, replay, DEBUG: NDCG=0.144902\n",
      "DEBUG:replay:NDCG=0.144902\n",
      "\u001b[32m[I 2021-09-14 17:37:21,618]\u001b[0m Trial 4 finished with value: 0.14490246124700326 and parameters: {'beta': 1.1734055285692488e-09, 'lambda_': 0.06648765558145842}. Best is trial 4 with value: 0.14490246124700326.\u001b[0m\n",
      "14-Sep-21 17:37:21, replay, DEBUG: Fitting model inside optimization\n",
      "DEBUG:replay:Fitting model inside optimization\n",
      "14-Sep-21 17:37:21, replay, DEBUG: Starting fit SLIM\n",
      "DEBUG:replay:Starting fit SLIM\n",
      "14-Sep-21 17:37:21, replay, DEBUG: Main fit stage\n",
      "DEBUG:replay:Main fit stage\n",
      "14-Sep-21 17:37:30, replay, DEBUG: Predicting inside optimization\n",
      "DEBUG:replay:Predicting inside optimization\n",
      "14-Sep-21 17:37:30, replay, DEBUG: Starting predict SLIM\n",
      "DEBUG:replay:Starting predict SLIM\n",
      "14-Sep-21 17:37:37, replay, DEBUG: Calculating criterion\n",
      "DEBUG:replay:Calculating criterion\n",
      "14-Sep-21 17:52:04, replay, DEBUG: NDCG=0.020019\n",
      "DEBUG:replay:NDCG=0.020019\n",
      "\u001b[32m[I 2021-09-14 17:52:04,674]\u001b[0m Trial 5 finished with value: 0.02001887076625384 and parameters: {'beta': 6.042354317951957e-09, 'lambda_': 2.9057914267520105e-07}. Best is trial 4 with value: 0.14490246124700326.\u001b[0m\n",
      "14-Sep-21 17:52:04, replay, DEBUG: Fitting model inside optimization\n",
      "DEBUG:replay:Fitting model inside optimization\n",
      "14-Sep-21 17:52:04, replay, DEBUG: Starting fit SLIM\n",
      "DEBUG:replay:Starting fit SLIM\n",
      "14-Sep-21 17:52:04, replay, DEBUG: Main fit stage\n",
      "DEBUG:replay:Main fit stage\n",
      "14-Sep-21 17:52:13, replay, DEBUG: Predicting inside optimization\n",
      "DEBUG:replay:Predicting inside optimization\n",
      "14-Sep-21 17:52:13, replay, DEBUG: Starting predict SLIM\n",
      "DEBUG:replay:Starting predict SLIM\n",
      "14-Sep-21 17:52:18, replay, DEBUG: Calculating criterion\n",
      "DEBUG:replay:Calculating criterion\n",
      "14-Sep-21 17:54:33, replay, DEBUG: NDCG=0.094670\n",
      "DEBUG:replay:NDCG=0.094670\n",
      "\u001b[32m[I 2021-09-14 17:54:33,622]\u001b[0m Trial 6 finished with value: 0.09467026769134376 and parameters: {'beta': 0.07906378385879677, 'lambda_': 6.189099804507156e-06}. Best is trial 4 with value: 0.14490246124700326.\u001b[0m\n",
      "14-Sep-21 17:54:33, replay, DEBUG: Fitting model inside optimization\n",
      "DEBUG:replay:Fitting model inside optimization\n",
      "14-Sep-21 17:54:33, replay, DEBUG: Starting fit SLIM\n",
      "DEBUG:replay:Starting fit SLIM\n",
      "14-Sep-21 17:54:33, replay, DEBUG: Main fit stage\n",
      "DEBUG:replay:Main fit stage\n",
      "14-Sep-21 17:54:42, replay, DEBUG: Predicting inside optimization\n",
      "DEBUG:replay:Predicting inside optimization\n",
      "14-Sep-21 17:54:42, replay, DEBUG: Starting predict SLIM\n",
      "DEBUG:replay:Starting predict SLIM\n",
      "14-Sep-21 17:54:50, replay, DEBUG: Calculating criterion\n",
      "DEBUG:replay:Calculating criterion\n",
      "14-Sep-21 17:56:53, replay, DEBUG: NDCG=0.086739\n",
      "DEBUG:replay:NDCG=0.086739\n",
      "\u001b[32m[I 2021-09-14 17:56:53,247]\u001b[0m Trial 7 finished with value: 0.0867393491370347 and parameters: {'beta': 0.050210744921962355, 'lambda_': 0.00017945358372691375}. Best is trial 4 with value: 0.14490246124700326.\u001b[0m\n",
      "14-Sep-21 17:56:53, replay, DEBUG: Fitting model inside optimization\n",
      "DEBUG:replay:Fitting model inside optimization\n",
      "14-Sep-21 17:56:53, replay, DEBUG: Starting fit SLIM\n",
      "DEBUG:replay:Starting fit SLIM\n",
      "14-Sep-21 17:56:53, replay, DEBUG: Main fit stage\n",
      "DEBUG:replay:Main fit stage\n",
      "14-Sep-21 17:57:12, replay, DEBUG: Predicting inside optimization\n",
      "DEBUG:replay:Predicting inside optimization\n",
      "14-Sep-21 17:57:12, replay, DEBUG: Starting predict SLIM\n",
      "DEBUG:replay:Starting predict SLIM\n",
      "14-Sep-21 17:57:21, replay, DEBUG: Calculating criterion\n",
      "DEBUG:replay:Calculating criterion\n",
      "14-Sep-21 17:59:07, replay, DEBUG: NDCG=0.049496\n",
      "DEBUG:replay:NDCG=0.049496\n",
      "\u001b[32m[I 2021-09-14 17:59:07,876]\u001b[0m Trial 8 finished with value: 0.049496012039855514 and parameters: {'beta': 0.008405127016362588, 'lambda_': 0.0005312721551347124}. Best is trial 4 with value: 0.14490246124700326.\u001b[0m\n",
      "14-Sep-21 17:59:07, replay, DEBUG: Fitting model inside optimization\n",
      "DEBUG:replay:Fitting model inside optimization\n",
      "14-Sep-21 17:59:07, replay, DEBUG: Starting fit SLIM\n",
      "DEBUG:replay:Starting fit SLIM\n",
      "14-Sep-21 17:59:07, replay, DEBUG: Main fit stage\n",
      "DEBUG:replay:Main fit stage\n",
      "14-Sep-21 17:59:14, replay, DEBUG: Predicting inside optimization\n",
      "DEBUG:replay:Predicting inside optimization\n",
      "14-Sep-21 17:59:14, replay, DEBUG: Starting predict SLIM\n",
      "DEBUG:replay:Starting predict SLIM\n",
      "14-Sep-21 17:59:20, replay, DEBUG: Calculating criterion\n",
      "DEBUG:replay:Calculating criterion\n",
      "14-Sep-21 18:00:53, replay, DEBUG: NDCG=0.068575\n",
      "DEBUG:replay:NDCG=0.068575\n",
      "\u001b[32m[I 2021-09-14 18:00:53,441]\u001b[0m Trial 9 finished with value: 0.0685751360136257 and parameters: {'beta': 5.2139143342441605e-05, 'lambda_': 0.001686848452302142}. Best is trial 4 with value: 0.14490246124700326.\u001b[0m\n"
     ]
    }
   ],
   "source": [
    "best_params = slim.optimize(train_opt, val_opt, criterion=NDCG(), k=K, budget=10)"
   ]
  },
  {
   "cell_type": "code",
   "execution_count": 17,
   "metadata": {},
   "outputs": [
    {
     "data": {
      "text/plain": [
       "{'beta': 1.1734055285692488e-09, 'lambda_': 0.06648765558145842}"
      ]
     },
     "execution_count": 17,
     "metadata": {},
     "output_type": "execute_result"
    }
   ],
   "source": [
    "best_params"
   ]
  },
  {
   "cell_type": "code",
   "execution_count": 18,
   "metadata": {},
   "outputs": [
    {
     "name": "stderr",
     "output_type": "stream",
     "text": [
      "14-Sep-21 18:07:02, replay, DEBUG: Starting fit SLIM\n",
      "DEBUG:replay:Starting fit SLIM\n",
      "14-Sep-21 18:07:02, replay, DEBUG: Creating indexers\n",
      "DEBUG:replay:Creating indexers\n",
      "14-Sep-21 18:07:04, replay, DEBUG: Main fit stage\n",
      "DEBUG:replay:Main fit stage\n",
      "14-Sep-21 18:07:10, replay, DEBUG: Starting predict SLIM\n",
      "DEBUG:replay:Starting predict SLIM\n"
     ]
    },
    {
     "data": {
      "text/html": [
       "<div>\n",
       "<style scoped>\n",
       "    .dataframe tbody tr th:only-of-type {\n",
       "        vertical-align: middle;\n",
       "    }\n",
       "\n",
       "    .dataframe tbody tr th {\n",
       "        vertical-align: top;\n",
       "    }\n",
       "\n",
       "    .dataframe thead th {\n",
       "        text-align: right;\n",
       "    }\n",
       "</style>\n",
       "<table border=\"1\" class=\"dataframe\">\n",
       "  <thead>\n",
       "    <tr style=\"text-align: right;\">\n",
       "      <th></th>\n",
       "      <th>HitRate@1</th>\n",
       "      <th>HitRate@5</th>\n",
       "      <th>MAP@5</th>\n",
       "      <th>NDCG@5</th>\n",
       "    </tr>\n",
       "  </thead>\n",
       "  <tbody>\n",
       "    <tr>\n",
       "      <th>SLIM</th>\n",
       "      <td>0.124</td>\n",
       "      <td>0.388</td>\n",
       "      <td>0.055293</td>\n",
       "      <td>0.103301</td>\n",
       "    </tr>\n",
       "    <tr>\n",
       "      <th>SLIM_optimized</th>\n",
       "      <td>0.154</td>\n",
       "      <td>0.440</td>\n",
       "      <td>0.070400</td>\n",
       "      <td>0.126539</td>\n",
       "    </tr>\n",
       "  </tbody>\n",
       "</table>\n",
       "</div>"
      ],
      "text/plain": [
       "                HitRate@1  HitRate@5     MAP@5    NDCG@5\n",
       "SLIM                0.124      0.388  0.055293  0.103301\n",
       "SLIM_optimized      0.154      0.440  0.070400  0.126539"
      ]
     },
     "execution_count": 18,
     "metadata": {},
     "output_type": "execute_result"
    }
   ],
   "source": [
    "slim = SLIM(**best_params, seed=SEED)\n",
    "\n",
    "slim.fit(log=train)\n",
    "\n",
    "recs = slim.predict(\n",
    "    k=K,\n",
    "    users=test.select('user_id').distinct(),\n",
    "    log=train,\n",
    "    filter_seen_items=True\n",
    ")\n",
    "\n",
    "metrics.add_result(\"SLIM_optimized\", recs)\n",
    "metrics.results"
   ]
  },
  {
   "cell_type": "markdown",
   "metadata": {},
   "source": [
    "### Convert to pandas"
   ]
  },
  {
   "cell_type": "code",
   "execution_count": 19,
   "metadata": {},
   "outputs": [
    {
     "data": {
      "text/html": [
       "<div>\n",
       "<style scoped>\n",
       "    .dataframe tbody tr th:only-of-type {\n",
       "        vertical-align: middle;\n",
       "    }\n",
       "\n",
       "    .dataframe tbody tr th {\n",
       "        vertical-align: top;\n",
       "    }\n",
       "\n",
       "    .dataframe thead th {\n",
       "        text-align: right;\n",
       "    }\n",
       "</style>\n",
       "<table border=\"1\" class=\"dataframe\">\n",
       "  <thead>\n",
       "    <tr style=\"text-align: right;\">\n",
       "      <th></th>\n",
       "      <th>user_id</th>\n",
       "      <th>item_id</th>\n",
       "      <th>relevance</th>\n",
       "    </tr>\n",
       "  </thead>\n",
       "  <tbody>\n",
       "    <tr>\n",
       "      <th>0</th>\n",
       "      <td>1018</td>\n",
       "      <td>1240</td>\n",
       "      <td>1.024585</td>\n",
       "    </tr>\n",
       "    <tr>\n",
       "      <th>1</th>\n",
       "      <td>1018</td>\n",
       "      <td>1370</td>\n",
       "      <td>0.872080</td>\n",
       "    </tr>\n",
       "    <tr>\n",
       "      <th>2</th>\n",
       "      <td>1018</td>\n",
       "      <td>1221</td>\n",
       "      <td>0.804827</td>\n",
       "    </tr>\n",
       "  </tbody>\n",
       "</table>\n",
       "</div>"
      ],
      "text/plain": [
       "  user_id item_id  relevance\n",
       "0    1018    1240   1.024585\n",
       "1    1018    1370   0.872080\n",
       "2    1018    1221   0.804827"
      ]
     },
     "execution_count": 19,
     "metadata": {},
     "output_type": "execute_result"
    }
   ],
   "source": [
    "recs_pd = recs.toPandas()\n",
    "recs_pd.head(3)"
   ]
  },
  {
   "cell_type": "markdown",
   "metadata": {},
   "source": [
    "## 4. Other RePlay models"
   ]
  },
  {
   "cell_type": "markdown",
   "metadata": {},
   "source": [
    "#### ALS\n",
    "Commonly-used matrix factorization algorithm."
   ]
  },
  {
   "cell_type": "code",
   "execution_count": 20,
   "metadata": {
    "collapsed": false,
    "jupyter": {
     "outputs_hidden": false
    }
   },
   "outputs": [],
   "source": [
    "from replay.models import ALSWrap\n",
    "\n",
    "als = ALSWrap(rank=100, seed=SEED)"
   ]
  },
  {
   "cell_type": "code",
   "execution_count": 21,
   "metadata": {
    "collapsed": false,
    "jupyter": {
     "outputs_hidden": false
    }
   },
   "outputs": [
    {
     "name": "stderr",
     "output_type": "stream",
     "text": [
      "14-Sep-21 18:08:25, replay, DEBUG: Starting fit ALSWrap\n",
      "DEBUG:replay:Starting fit ALSWrap\n",
      "14-Sep-21 18:08:25, replay, DEBUG: Creating indexers\n",
      "DEBUG:replay:Creating indexers\n",
      "14-Sep-21 18:08:26, replay, DEBUG: Main fit stage\n",
      "DEBUG:replay:Main fit stage\n"
     ]
    },
    {
     "name": "stdout",
     "output_type": "stream",
     "text": [
      "CPU times: user 606 ms, sys: 107 ms, total: 714 ms\n",
      "Wall time: 36.6 s\n"
     ]
    }
   ],
   "source": [
    "%%time\n",
    "als.fit(log=train)"
   ]
  },
  {
   "cell_type": "code",
   "execution_count": 22,
   "metadata": {
    "collapsed": false,
    "jupyter": {
     "outputs_hidden": false
    }
   },
   "outputs": [
    {
     "name": "stderr",
     "output_type": "stream",
     "text": [
      "14-Sep-21 18:09:02, replay, DEBUG: Starting predict ALSWrap\n",
      "DEBUG:replay:Starting predict ALSWrap\n"
     ]
    },
    {
     "name": "stdout",
     "output_type": "stream",
     "text": [
      "CPU times: user 1.03 s, sys: 219 ms, total: 1.25 s\n",
      "Wall time: 3.58 s\n"
     ]
    }
   ],
   "source": [
    "%%time\n",
    "recs = als.predict(\n",
    "    k=K,\n",
    "    users=test.select('user_id').distinct(),\n",
    "    log=train,\n",
    "    filter_seen_items=True\n",
    ")"
   ]
  },
  {
   "cell_type": "code",
   "execution_count": 23,
   "metadata": {
    "collapsed": false,
    "jupyter": {
     "outputs_hidden": false
    }
   },
   "outputs": [
    {
     "name": "stdout",
     "output_type": "stream",
     "text": [
      "CPU times: user 59.3 ms, sys: 15.7 ms, total: 75 ms\n",
      "Wall time: 10.4 s\n"
     ]
    },
    {
     "data": {
      "text/html": [
       "<div>\n",
       "<style scoped>\n",
       "    .dataframe tbody tr th:only-of-type {\n",
       "        vertical-align: middle;\n",
       "    }\n",
       "\n",
       "    .dataframe tbody tr th {\n",
       "        vertical-align: top;\n",
       "    }\n",
       "\n",
       "    .dataframe thead th {\n",
       "        text-align: right;\n",
       "    }\n",
       "</style>\n",
       "<table border=\"1\" class=\"dataframe\">\n",
       "  <thead>\n",
       "    <tr style=\"text-align: right;\">\n",
       "      <th></th>\n",
       "      <th>HitRate@1</th>\n",
       "      <th>HitRate@5</th>\n",
       "      <th>MAP@5</th>\n",
       "      <th>NDCG@5</th>\n",
       "    </tr>\n",
       "  </thead>\n",
       "  <tbody>\n",
       "    <tr>\n",
       "      <th>SLIM</th>\n",
       "      <td>0.124</td>\n",
       "      <td>0.388</td>\n",
       "      <td>0.055293</td>\n",
       "      <td>0.103301</td>\n",
       "    </tr>\n",
       "    <tr>\n",
       "      <th>SLIM_optimized</th>\n",
       "      <td>0.154</td>\n",
       "      <td>0.440</td>\n",
       "      <td>0.070400</td>\n",
       "      <td>0.126539</td>\n",
       "    </tr>\n",
       "    <tr>\n",
       "      <th>ALS</th>\n",
       "      <td>0.198</td>\n",
       "      <td>0.560</td>\n",
       "      <td>0.090033</td>\n",
       "      <td>0.162485</td>\n",
       "    </tr>\n",
       "  </tbody>\n",
       "</table>\n",
       "</div>"
      ],
      "text/plain": [
       "                HitRate@1  HitRate@5     MAP@5    NDCG@5\n",
       "SLIM                0.124      0.388  0.055293  0.103301\n",
       "SLIM_optimized      0.154      0.440  0.070400  0.126539\n",
       "ALS                 0.198      0.560  0.090033  0.162485"
      ]
     },
     "execution_count": 23,
     "metadata": {},
     "output_type": "execute_result"
    }
   ],
   "source": [
    "%%time\n",
    "metrics.add_result(\"ALS\", recs)\n",
    "metrics.results"
   ]
  },
  {
   "cell_type": "markdown",
   "metadata": {},
   "source": [
    "#### MultVAE \n",
    "Variational autoencoder for a recommendation task"
   ]
  },
  {
   "cell_type": "code",
   "execution_count": 24,
   "metadata": {
    "ExecuteTime": {
     "end_time": "2020-02-10T15:59:51.024567Z",
     "start_time": "2020-02-10T15:59:50.988776Z"
    }
   },
   "outputs": [],
   "source": [
    "from replay.models import MultVAE\n",
    "\n",
    "multvae = MultVAE(epochs=100)"
   ]
  },
  {
   "cell_type": "code",
   "execution_count": 25,
   "metadata": {
    "ExecuteTime": {
     "end_time": "2020-02-10T16:06:06.306042Z",
     "start_time": "2020-02-10T16:01:52.107394Z"
    },
    "collapsed": false,
    "jupyter": {
     "outputs_hidden": false
    }
   },
   "outputs": [
    {
     "name": "stderr",
     "output_type": "stream",
     "text": [
      "14-Sep-21 18:09:16, replay, DEBUG: Starting fit MultVAE\n",
      "DEBUG:replay:Starting fit MultVAE\n",
      "14-Sep-21 18:09:16, replay, DEBUG: Creating indexers\n",
      "DEBUG:replay:Creating indexers\n",
      "14-Sep-21 18:09:16, replay, DEBUG: Main fit stage\n",
      "DEBUG:replay:Main fit stage\n",
      "14-Sep-21 18:09:19, replay, DEBUG: Creating batch:\n",
      "DEBUG:replay:Creating batch:\n",
      "14-Sep-21 18:09:20, replay, DEBUG: Training VAE\n",
      "DEBUG:replay:Training VAE\n",
      "14-Sep-21 18:09:22, replay, DEBUG: Epoch[1] current loss: 1351.33661\n",
      "DEBUG:replay:Epoch[1] current loss: 1351.33661\n",
      "14-Sep-21 18:09:22, replay, DEBUG: Epoch[1] validation average loss: 1476.55960\n",
      "DEBUG:replay:Epoch[1] validation average loss: 1476.55960\n",
      "14-Sep-21 18:09:24, replay, DEBUG: Epoch[2] current loss: 1246.04034\n",
      "DEBUG:replay:Epoch[2] current loss: 1246.04034\n",
      "14-Sep-21 18:09:24, replay, DEBUG: Epoch[2] validation average loss: 1478.62748\n",
      "DEBUG:replay:Epoch[2] validation average loss: 1478.62748\n",
      "14-Sep-21 18:09:27, replay, DEBUG: Epoch[3] current loss: 1290.10793\n",
      "DEBUG:replay:Epoch[3] current loss: 1290.10793\n",
      "14-Sep-21 18:09:27, replay, DEBUG: Epoch[3] validation average loss: 1422.07181\n",
      "DEBUG:replay:Epoch[3] validation average loss: 1422.07181\n",
      "14-Sep-21 18:09:29, replay, DEBUG: Epoch[4] current loss: 1280.67798\n",
      "DEBUG:replay:Epoch[4] current loss: 1280.67798\n",
      "14-Sep-21 18:09:29, replay, DEBUG: Epoch[4] validation average loss: 1414.93864\n",
      "DEBUG:replay:Epoch[4] validation average loss: 1414.93864\n",
      "14-Sep-21 18:09:31, replay, DEBUG: Epoch[5] current loss: 1240.60145\n",
      "DEBUG:replay:Epoch[5] current loss: 1240.60145\n",
      "14-Sep-21 18:09:32, replay, DEBUG: Epoch[5] validation average loss: 1401.31271\n",
      "DEBUG:replay:Epoch[5] validation average loss: 1401.31271\n",
      "14-Sep-21 18:09:33, replay, DEBUG: Epoch[6] current loss: 1229.79696\n",
      "DEBUG:replay:Epoch[6] current loss: 1229.79696\n",
      "14-Sep-21 18:09:34, replay, DEBUG: Epoch[6] validation average loss: 1406.26024\n",
      "DEBUG:replay:Epoch[6] validation average loss: 1406.26024\n",
      "14-Sep-21 18:09:35, replay, DEBUG: Epoch[7] current loss: 1227.92670\n",
      "DEBUG:replay:Epoch[7] current loss: 1227.92670\n",
      "14-Sep-21 18:09:36, replay, DEBUG: Epoch[7] validation average loss: 1421.45995\n",
      "DEBUG:replay:Epoch[7] validation average loss: 1421.45995\n",
      "14-Sep-21 18:09:37, replay, DEBUG: Epoch[8] current loss: 1227.36531\n",
      "DEBUG:replay:Epoch[8] current loss: 1227.36531\n",
      "14-Sep-21 18:09:38, replay, DEBUG: Epoch[8] validation average loss: 1429.83630\n",
      "DEBUG:replay:Epoch[8] validation average loss: 1429.83630\n",
      "14-Sep-21 18:09:40, replay, DEBUG: Epoch[9] current loss: 1225.31706\n",
      "DEBUG:replay:Epoch[9] current loss: 1225.31706\n",
      "14-Sep-21 18:09:40, replay, DEBUG: Epoch[9] validation average loss: 1406.84240\n",
      "DEBUG:replay:Epoch[9] validation average loss: 1406.84240\n",
      "14-Sep-21 18:09:42, replay, DEBUG: Epoch[10] current loss: 1229.26021\n",
      "DEBUG:replay:Epoch[10] current loss: 1229.26021\n",
      "14-Sep-21 18:09:42, replay, DEBUG: Epoch[10] validation average loss: 1404.52028\n",
      "DEBUG:replay:Epoch[10] validation average loss: 1404.52028\n",
      "14-Sep-21 18:09:44, replay, DEBUG: Epoch[11] current loss: 1224.66412\n",
      "DEBUG:replay:Epoch[11] current loss: 1224.66412\n",
      "14-Sep-21 18:09:44, replay, DEBUG: Epoch[11] validation average loss: 1408.81074\n",
      "DEBUG:replay:Epoch[11] validation average loss: 1408.81074\n",
      "14-Sep-21 18:09:46, replay, DEBUG: Epoch[12] current loss: 1227.33648\n",
      "DEBUG:replay:Epoch[12] current loss: 1227.33648\n",
      "14-Sep-21 18:09:46, replay, DEBUG: Epoch[12] validation average loss: 1403.76780\n",
      "DEBUG:replay:Epoch[12] validation average loss: 1403.76780\n",
      "14-Sep-21 18:09:48, replay, DEBUG: Epoch[13] current loss: 1224.37476\n",
      "DEBUG:replay:Epoch[13] current loss: 1224.37476\n",
      "14-Sep-21 18:09:48, replay, DEBUG: Epoch[13] validation average loss: 1401.36548\n",
      "DEBUG:replay:Epoch[13] validation average loss: 1401.36548\n",
      "14-Sep-21 18:09:50, replay, DEBUG: Epoch[14] current loss: 1222.25386\n",
      "DEBUG:replay:Epoch[14] current loss: 1222.25386\n",
      "14-Sep-21 18:09:50, replay, DEBUG: Epoch[14] validation average loss: 1402.88193\n",
      "DEBUG:replay:Epoch[14] validation average loss: 1402.88193\n",
      "14-Sep-21 18:09:52, replay, DEBUG: Epoch[15] current loss: 1221.82537\n",
      "DEBUG:replay:Epoch[15] current loss: 1221.82537\n",
      "2021-09-14 18:09:52,282 ignite.handlers.early_stopping.EarlyStopping INFO: EarlyStopping: Stop training\n",
      "14-Sep-21 18:09:52, replay, DEBUG: Epoch[15] validation average loss: 1401.35989\n",
      "DEBUG:replay:Epoch[15] validation average loss: 1401.35989\n",
      "14-Sep-21 18:09:52, replay, DEBUG: -- Loading model from file\n",
      "DEBUG:replay:-- Loading model from file\n"
     ]
    },
    {
     "name": "stdout",
     "output_type": "stream",
     "text": [
      "CPU times: user 35.7 s, sys: 9.03 s, total: 44.8 s\n",
      "Wall time: 36 s\n"
     ]
    }
   ],
   "source": [
    "%%time\n",
    "multvae.fit(log=train)"
   ]
  },
  {
   "cell_type": "code",
   "execution_count": 26,
   "metadata": {
    "ExecuteTime": {
     "end_time": "2020-02-10T16:07:26.278582Z",
     "start_time": "2020-02-10T16:06:39.118983Z"
    },
    "collapsed": false,
    "jupyter": {
     "outputs_hidden": false
    },
    "scrolled": true
   },
   "outputs": [
    {
     "name": "stderr",
     "output_type": "stream",
     "text": [
      "14-Sep-21 18:09:52, replay, DEBUG: Starting predict MultVAE\n",
      "DEBUG:replay:Starting predict MultVAE\n",
      "14-Sep-21 18:09:55, replay, DEBUG: Предсказание модели\n",
      "DEBUG:replay:Предсказание модели\n"
     ]
    },
    {
     "name": "stdout",
     "output_type": "stream",
     "text": [
      "CPU times: user 1.03 s, sys: 243 ms, total: 1.27 s\n",
      "Wall time: 3.78 s\n"
     ]
    }
   ],
   "source": [
    "%%time\n",
    "\n",
    "recs = multvae.predict(\n",
    "    k=K,\n",
    "    users=test.select('user_id').distinct(),\n",
    "    log=train,\n",
    "    filter_seen_items=True\n",
    ")"
   ]
  },
  {
   "cell_type": "code",
   "execution_count": 27,
   "metadata": {},
   "outputs": [
    {
     "name": "stdout",
     "output_type": "stream",
     "text": [
      "CPU times: user 66.5 ms, sys: 15.1 ms, total: 81.6 ms\n",
      "Wall time: 6.99 s\n"
     ]
    },
    {
     "data": {
      "text/html": [
       "<div>\n",
       "<style scoped>\n",
       "    .dataframe tbody tr th:only-of-type {\n",
       "        vertical-align: middle;\n",
       "    }\n",
       "\n",
       "    .dataframe tbody tr th {\n",
       "        vertical-align: top;\n",
       "    }\n",
       "\n",
       "    .dataframe thead th {\n",
       "        text-align: right;\n",
       "    }\n",
       "</style>\n",
       "<table border=\"1\" class=\"dataframe\">\n",
       "  <thead>\n",
       "    <tr style=\"text-align: right;\">\n",
       "      <th></th>\n",
       "      <th>HitRate@1</th>\n",
       "      <th>HitRate@5</th>\n",
       "      <th>MAP@5</th>\n",
       "      <th>NDCG@5</th>\n",
       "    </tr>\n",
       "  </thead>\n",
       "  <tbody>\n",
       "    <tr>\n",
       "      <th>SLIM</th>\n",
       "      <td>0.124</td>\n",
       "      <td>0.388</td>\n",
       "      <td>0.055293</td>\n",
       "      <td>0.103301</td>\n",
       "    </tr>\n",
       "    <tr>\n",
       "      <th>SLIM_optimized</th>\n",
       "      <td>0.154</td>\n",
       "      <td>0.440</td>\n",
       "      <td>0.070400</td>\n",
       "      <td>0.126539</td>\n",
       "    </tr>\n",
       "    <tr>\n",
       "      <th>ALS</th>\n",
       "      <td>0.198</td>\n",
       "      <td>0.560</td>\n",
       "      <td>0.090033</td>\n",
       "      <td>0.162485</td>\n",
       "    </tr>\n",
       "    <tr>\n",
       "      <th>MultVAE</th>\n",
       "      <td>0.006</td>\n",
       "      <td>0.134</td>\n",
       "      <td>0.010300</td>\n",
       "      <td>0.024421</td>\n",
       "    </tr>\n",
       "  </tbody>\n",
       "</table>\n",
       "</div>"
      ],
      "text/plain": [
       "                HitRate@1  HitRate@5     MAP@5    NDCG@5\n",
       "SLIM                0.124      0.388  0.055293  0.103301\n",
       "SLIM_optimized      0.154      0.440  0.070400  0.126539\n",
       "ALS                 0.198      0.560  0.090033  0.162485\n",
       "MultVAE             0.006      0.134  0.010300  0.024421"
      ]
     },
     "execution_count": 27,
     "metadata": {},
     "output_type": "execute_result"
    }
   ],
   "source": [
    "%%time\n",
    "metrics.add_result(\"MultVAE\", recs)\n",
    "metrics.results"
   ]
  },
  {
   "cell_type": "markdown",
   "metadata": {},
   "source": [
    "## 5 Compare RePlay models with others\n",
    "To easily evaluate recommendations obtained from other sources, read and pass these recommendations to ``Experiment``"
   ]
  },
  {
   "cell_type": "markdown",
   "metadata": {},
   "source": [
    "#### 5.1 Save your recommendations as dataframe with columns `user_id - item_id - relevance`"
   ]
  },
  {
   "cell_type": "code",
   "execution_count": 31,
   "metadata": {},
   "outputs": [],
   "source": [
    "from pyspark.sql.functions import rand"
   ]
  },
  {
   "cell_type": "code",
   "execution_count": 32,
   "metadata": {
    "collapsed": false,
    "jupyter": {
     "outputs_hidden": false
    }
   },
   "outputs": [],
   "source": [
    "recs.withColumn('relevance', rand(seed=123)).toPandas().to_csv(\"recs.csv\", index=False)"
   ]
  },
  {
   "cell_type": "markdown",
   "metadata": {},
   "source": [
    "#### 5.2 Read with DataPreparator"
   ]
  },
  {
   "cell_type": "code",
   "execution_count": 34,
   "metadata": {
    "collapsed": false,
    "jupyter": {
     "outputs_hidden": false
    }
   },
   "outputs": [
    {
     "ename": "ValueError",
     "evalue": "feature_columns or columns_names has columns that are not present in DataFrame {'item_id', 'relevance', 'user_id'}",
     "output_type": "error",
     "traceback": [
      "\u001b[0;31m---------------------------------------------------------------------------\u001b[0m",
      "\u001b[0;31mValueError\u001b[0m                                Traceback (most recent call last)",
      "\u001b[0;32m<ipython-input-35-985ca66368e2>\u001b[0m in \u001b[0;36m<module>\u001b[0;34m\u001b[0m\n\u001b[0;32m----> 1\u001b[0;31m recs = DataPreparator().transform(\n\u001b[0m\u001b[1;32m      2\u001b[0m     \u001b[0mpath\u001b[0m\u001b[0;34m=\u001b[0m\u001b[0;34m\"recs.csv\"\u001b[0m\u001b[0;34m,\u001b[0m\u001b[0;34m\u001b[0m\u001b[0;34m\u001b[0m\u001b[0m\n\u001b[1;32m      3\u001b[0m     columns_names={\n\u001b[1;32m      4\u001b[0m         \u001b[0;34m\"user_id\"\u001b[0m\u001b[0;34m:\u001b[0m \u001b[0;34m\"user_id\"\u001b[0m\u001b[0;34m,\u001b[0m\u001b[0;34m\u001b[0m\u001b[0;34m\u001b[0m\u001b[0m\n\u001b[1;32m      5\u001b[0m         \u001b[0;34m\"item_id\"\u001b[0m\u001b[0;34m:\u001b[0m \u001b[0;34m\"item_id\"\u001b[0m\u001b[0;34m,\u001b[0m\u001b[0;34m\u001b[0m\u001b[0;34m\u001b[0m\u001b[0m\n",
      "\u001b[0;32m~/replay_github/replay/data_preparator.py\u001b[0m in \u001b[0;36mtransform\u001b[0;34m(self, columns_names, data, path, format_type, date_format, features_columns, reader_kwargs)\u001b[0m\n\u001b[1;32m    263\u001b[0m         )\n\u001b[1;32m    264\u001b[0m \u001b[0;34m\u001b[0m\u001b[0m\n\u001b[0;32m--> 265\u001b[0;31m         \u001b[0mself\u001b[0m\u001b[0;34m.\u001b[0m\u001b[0m_check_dataframe\u001b[0m\u001b[0;34m(\u001b[0m\u001b[0mdataframe\u001b[0m\u001b[0;34m,\u001b[0m \u001b[0mcolumns_names\u001b[0m\u001b[0;34m,\u001b[0m \u001b[0mfeatures_columns\u001b[0m\u001b[0;34m)\u001b[0m\u001b[0;34m\u001b[0m\u001b[0;34m\u001b[0m\u001b[0m\n\u001b[0m\u001b[1;32m    266\u001b[0m \u001b[0;34m\u001b[0m\u001b[0m\n\u001b[1;32m    267\u001b[0m         dataframe2 = self._rename_columns(\n",
      "\u001b[0;32m~/replay_github/replay/data_preparator.py\u001b[0m in \u001b[0;36m_check_dataframe\u001b[0;34m(dataframe, columns_names, feature_columns)\u001b[0m\n\u001b[1;32m    152\u001b[0m         \u001b[0mdataframe_columns\u001b[0m \u001b[0;34m=\u001b[0m \u001b[0mset\u001b[0m\u001b[0;34m(\u001b[0m\u001b[0mdataframe\u001b[0m\u001b[0;34m.\u001b[0m\u001b[0mcolumns\u001b[0m\u001b[0;34m)\u001b[0m\u001b[0;34m\u001b[0m\u001b[0;34m\u001b[0m\u001b[0m\n\u001b[1;32m    153\u001b[0m         \u001b[0;32mif\u001b[0m \u001b[0;32mnot\u001b[0m \u001b[0mcolumns_to_check\u001b[0m\u001b[0;34m.\u001b[0m\u001b[0missubset\u001b[0m\u001b[0;34m(\u001b[0m\u001b[0mdataframe_columns\u001b[0m\u001b[0;34m)\u001b[0m\u001b[0;34m:\u001b[0m\u001b[0;34m\u001b[0m\u001b[0;34m\u001b[0m\u001b[0m\n\u001b[0;32m--> 154\u001b[0;31m             raise ValueError(\n\u001b[0m\u001b[1;32m    155\u001b[0m                 \u001b[0;34m\"feature_columns or columns_names has columns that are not present in DataFrame \"\u001b[0m\u001b[0;34m\u001b[0m\u001b[0;34m\u001b[0m\u001b[0m\n\u001b[1;32m    156\u001b[0m                 \u001b[0;34mf\"{columns_to_check.difference(dataframe_columns)}\"\u001b[0m\u001b[0;34m\u001b[0m\u001b[0;34m\u001b[0m\u001b[0m\n",
      "\u001b[0;31mValueError\u001b[0m: feature_columns or columns_names has columns that are not present in DataFrame {'item_id', 'relevance', 'user_id'}"
     ]
    }
   ],
   "source": [
    "recs = DataPreparator().transform(\n",
    "    path=\"recs.csv\",\n",
    "    columns_names={\n",
    "        \"user_id\": \"user_id\",\n",
    "        \"item_id\": \"item_id\",\n",
    "        \"relevance\": \"relevance\"\n",
    "    },\n",
    "    header=True,\n",
    "    format_type=\"csv\"\n",
    ")"
   ]
  },
  {
   "cell_type": "markdown",
   "metadata": {},
   "source": [
    "#### 5.3 Compare with Experiment"
   ]
  },
  {
   "cell_type": "code",
   "execution_count": null,
   "metadata": {
    "collapsed": false,
    "jupyter": {
     "outputs_hidden": false
    }
   },
   "outputs": [],
   "source": [
    "metrics.add_result(\"my_model\", recs)\n",
    "metrics.results.sort_values(\"NDCG@5\", ascending=False)"
   ]
  },
  {
   "cell_type": "code",
   "execution_count": null,
   "metadata": {},
   "outputs": [],
   "source": []
  },
  {
   "cell_type": "code",
   "execution_count": null,
   "metadata": {},
   "outputs": [],
   "source": []
  },
  {
   "cell_type": "code",
   "execution_count": null,
   "metadata": {},
   "outputs": [],
   "source": []
  }
 ],
 "metadata": {
  "kernelspec": {
   "display_name": "Python 3",
   "language": "python",
   "name": "python3"
  },
  "language_info": {
   "codemirror_mode": {
    "name": "ipython",
    "version": 3
   },
   "file_extension": ".py",
   "mimetype": "text/x-python",
   "name": "python",
   "nbconvert_exporter": "python",
   "pygments_lexer": "ipython3",
   "version": "3.8.11"
  },
  "name": "movielens_nmf.ipynb",
  "pycharm": {
   "stem_cell": {
    "cell_type": "raw",
    "metadata": {
     "collapsed": false
    },
    "source": [
     "null"
    ]
   }
  }
 },
 "nbformat": 4,
 "nbformat_minor": 4
}
