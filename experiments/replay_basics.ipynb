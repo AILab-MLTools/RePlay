{
 "cells": [
  {
   "cell_type": "markdown",
   "metadata": {},
   "source": [
    "# Использование RePlay\n",
    "Данный ноутбук показывает базовый порядок работы с библиотекой.\n",
    "- загрузка датасета\n",
    "- деление на трейн и тест\n",
    "- обучение модели\n",
    "- сравнение с бейзлайном\n",
    "\n",
    "Документацию можно собрать из папки `docs` командой `make html`. Она создаст папку `_build` с документацией -- `/docs/_build/html/index.html`"
   ]
  },
  {
   "cell_type": "code",
   "execution_count": 1,
   "metadata": {},
   "outputs": [],
   "source": [
    "%config Completer.use_jedi = False"
   ]
  },
  {
   "cell_type": "code",
   "execution_count": 2,
   "metadata": {
    "ExecuteTime": {
     "end_time": "2020-02-10T16:01:45.639135Z",
     "start_time": "2020-02-10T16:01:45.612577Z"
    },
    "jupyter": {
     "outputs_hidden": false
    },
    "pycharm": {
     "is_executing": false
    }
   },
   "outputs": [],
   "source": [
    "%load_ext autoreload\n",
    "%autoreload 2\n",
    "%matplotlib inline"
   ]
  },
  {
   "cell_type": "markdown",
   "metadata": {},
   "source": [
    "Целевая архитектура библиотеки - ЛД 3.0, поэтому используем Spark.\n",
    "Для отладки моделей (не на кластере) создаём локальную сессию.\n",
    "\n",
    "Объект `State` позволяет использовать одну и ту же сессию Spark в разных объектах.\n",
    "Если сессия уже инициализирована, то её нужно передать при инициализации `State`. Модули библиотеки, которым необходимо использовать спарк-сессию, например для конвертации из пандас в спарк, будут искать сессию именно в `State`.\n",
    "\n",
    "По умолчанию создастся дефолтная сессия. Простой способ получить сессию с заданным количеством выделенной памяти -- функция `get_spark_session` модуля `session_handler`."
   ]
  },
  {
   "cell_type": "code",
   "execution_count": 3,
   "metadata": {
    "ExecuteTime": {
     "end_time": "2020-02-10T15:59:09.227179Z",
     "start_time": "2020-02-10T15:59:06.427348Z"
    },
    "jupyter": {
     "outputs_hidden": false
    },
    "pycharm": {
     "is_executing": false
    }
   },
   "outputs": [
    {
     "data": {
      "text/html": [
       "\n",
       "            <div>\n",
       "                <p><b>SparkSession - hive</b></p>\n",
       "                \n",
       "        <div>\n",
       "            <p><b>SparkContext</b></p>\n",
       "\n",
       "            <p><a href=\"http://localhost:4042\">Spark UI</a></p>\n",
       "\n",
       "            <dl>\n",
       "              <dt>Version</dt>\n",
       "                <dd><code>v3.0.0</code></dd>\n",
       "              <dt>Master</dt>\n",
       "                <dd><code>local[*]</code></dd>\n",
       "              <dt>AppName</dt>\n",
       "                <dd><code>pyspark-shell</code></dd>\n",
       "            </dl>\n",
       "        </div>\n",
       "        \n",
       "            </div>\n",
       "        "
      ],
      "text/plain": [
       "<pyspark.sql.session.SparkSession at 0x7fe0e9c36390>"
      ]
     },
     "execution_count": 3,
     "metadata": {},
     "output_type": "execute_result"
    }
   ],
   "source": [
    "from replay.session_handler import State\n",
    "\n",
    "spark = State().session\n",
    "spark"
   ]
  },
  {
   "cell_type": "code",
   "execution_count": 4,
   "metadata": {},
   "outputs": [],
   "source": [
    "K = 10"
   ]
  },
  {
   "cell_type": "markdown",
   "metadata": {},
   "source": [
    "## 0. Подготовка данных <a name='data-preparator'></a>\n",
    "Популярные датасеты для рекомендательных систем можно найти в библиотеке rs_datasets.\n",
    "\n",
    "Данные датасета доступны в виде `pandas.DataFrame` атрибутов объекта.\n",
    "Посмотреть доступные данные можно с помощью метода `info`."
   ]
  },
  {
   "cell_type": "code",
   "execution_count": 5,
   "metadata": {
    "ExecuteTime": {
     "end_time": "2020-02-10T15:59:42.041251Z",
     "start_time": "2020-02-10T15:59:09.230636Z"
    },
    "jupyter": {
     "outputs_hidden": false
    },
    "scrolled": true
   },
   "outputs": [
    {
     "data": {
      "text/html": [
       "<style type='text/css'>\n",
       ".datatable table.frame { margin-bottom: 0; }\n",
       ".datatable table.frame thead { border-bottom: none; }\n",
       ".datatable table.frame tr.coltypes td {  color: #FFFFFF;  line-height: 6px;  padding: 0 0.5em;}\n",
       ".datatable .boolean { background: #DDDD99; }\n",
       ".datatable .object  { background: #565656; }\n",
       ".datatable .integer { background: #5D9E5D; }\n",
       ".datatable .float   { background: #4040CC; }\n",
       ".datatable .string  { background: #CC4040; }\n",
       ".datatable .row_index {  background: var(--jp-border-color3);  border-right: 1px solid var(--jp-border-color0);  color: var(--jp-ui-font-color3);  font-size: 9px;}\n",
       ".datatable .frame tr.coltypes .row_index {  background: var(--jp-border-color0);}\n",
       ".datatable th:nth-child(2) { padding-left: 12px; }\n",
       ".datatable .hellipsis {  color: var(--jp-cell-editor-border-color);}\n",
       ".datatable .vellipsis {  background: var(--jp-layout-color0);  color: var(--jp-cell-editor-border-color);}\n",
       ".datatable .na {  color: var(--jp-cell-editor-border-color);  font-size: 80%;}\n",
       ".datatable .footer { font-size: 9px; }\n",
       ".datatable .frame_dimensions {  background: var(--jp-border-color3);  border-top: 1px solid var(--jp-border-color0);  color: var(--jp-ui-font-color3);  display: inline-block;  opacity: 0.6;  padding: 1px 10px 1px 5px;}\n",
       "</style>\n"
      ],
      "text/plain": [
       "<IPython.core.display.HTML object>"
      ]
     },
     "metadata": {},
     "output_type": "display_data"
    },
    {
     "name": "stdout",
     "output_type": "stream",
     "text": [
      "ratings\n"
     ]
    },
    {
     "data": {
      "text/html": [
       "<div>\n",
       "<style scoped>\n",
       "    .dataframe tbody tr th:only-of-type {\n",
       "        vertical-align: middle;\n",
       "    }\n",
       "\n",
       "    .dataframe tbody tr th {\n",
       "        vertical-align: top;\n",
       "    }\n",
       "\n",
       "    .dataframe thead th {\n",
       "        text-align: right;\n",
       "    }\n",
       "</style>\n",
       "<table border=\"1\" class=\"dataframe\">\n",
       "  <thead>\n",
       "    <tr style=\"text-align: right;\">\n",
       "      <th></th>\n",
       "      <th>user_id</th>\n",
       "      <th>item_id</th>\n",
       "      <th>rating</th>\n",
       "      <th>timestamp</th>\n",
       "    </tr>\n",
       "  </thead>\n",
       "  <tbody>\n",
       "    <tr>\n",
       "      <th>0</th>\n",
       "      <td>1</td>\n",
       "      <td>1193</td>\n",
       "      <td>5</td>\n",
       "      <td>978300760</td>\n",
       "    </tr>\n",
       "    <tr>\n",
       "      <th>1</th>\n",
       "      <td>1</td>\n",
       "      <td>661</td>\n",
       "      <td>3</td>\n",
       "      <td>978302109</td>\n",
       "    </tr>\n",
       "    <tr>\n",
       "      <th>2</th>\n",
       "      <td>1</td>\n",
       "      <td>914</td>\n",
       "      <td>3</td>\n",
       "      <td>978301968</td>\n",
       "    </tr>\n",
       "  </tbody>\n",
       "</table>\n",
       "</div>"
      ],
      "text/plain": [
       "   user_id  item_id  rating  timestamp\n",
       "0        1     1193       5  978300760\n",
       "1        1      661       3  978302109\n",
       "2        1      914       3  978301968"
      ]
     },
     "metadata": {},
     "output_type": "display_data"
    },
    {
     "name": "stdout",
     "output_type": "stream",
     "text": [
      "\n",
      "users\n"
     ]
    },
    {
     "data": {
      "text/html": [
       "<div>\n",
       "<style scoped>\n",
       "    .dataframe tbody tr th:only-of-type {\n",
       "        vertical-align: middle;\n",
       "    }\n",
       "\n",
       "    .dataframe tbody tr th {\n",
       "        vertical-align: top;\n",
       "    }\n",
       "\n",
       "    .dataframe thead th {\n",
       "        text-align: right;\n",
       "    }\n",
       "</style>\n",
       "<table border=\"1\" class=\"dataframe\">\n",
       "  <thead>\n",
       "    <tr style=\"text-align: right;\">\n",
       "      <th></th>\n",
       "      <th>user_id</th>\n",
       "      <th>gender</th>\n",
       "      <th>age</th>\n",
       "      <th>occupation</th>\n",
       "      <th>zip_code</th>\n",
       "    </tr>\n",
       "  </thead>\n",
       "  <tbody>\n",
       "    <tr>\n",
       "      <th>0</th>\n",
       "      <td>1</td>\n",
       "      <td>F</td>\n",
       "      <td>1</td>\n",
       "      <td>10</td>\n",
       "      <td>48067</td>\n",
       "    </tr>\n",
       "    <tr>\n",
       "      <th>1</th>\n",
       "      <td>2</td>\n",
       "      <td>M</td>\n",
       "      <td>56</td>\n",
       "      <td>16</td>\n",
       "      <td>70072</td>\n",
       "    </tr>\n",
       "    <tr>\n",
       "      <th>2</th>\n",
       "      <td>3</td>\n",
       "      <td>M</td>\n",
       "      <td>25</td>\n",
       "      <td>15</td>\n",
       "      <td>55117</td>\n",
       "    </tr>\n",
       "  </tbody>\n",
       "</table>\n",
       "</div>"
      ],
      "text/plain": [
       "   user_id gender  age  occupation zip_code\n",
       "0        1      F    1          10    48067\n",
       "1        2      M   56          16    70072\n",
       "2        3      M   25          15    55117"
      ]
     },
     "metadata": {},
     "output_type": "display_data"
    },
    {
     "name": "stdout",
     "output_type": "stream",
     "text": [
      "\n",
      "items\n"
     ]
    },
    {
     "data": {
      "text/html": [
       "<div>\n",
       "<style scoped>\n",
       "    .dataframe tbody tr th:only-of-type {\n",
       "        vertical-align: middle;\n",
       "    }\n",
       "\n",
       "    .dataframe tbody tr th {\n",
       "        vertical-align: top;\n",
       "    }\n",
       "\n",
       "    .dataframe thead th {\n",
       "        text-align: right;\n",
       "    }\n",
       "</style>\n",
       "<table border=\"1\" class=\"dataframe\">\n",
       "  <thead>\n",
       "    <tr style=\"text-align: right;\">\n",
       "      <th></th>\n",
       "      <th>item_id</th>\n",
       "      <th>title</th>\n",
       "      <th>genres</th>\n",
       "    </tr>\n",
       "  </thead>\n",
       "  <tbody>\n",
       "    <tr>\n",
       "      <th>0</th>\n",
       "      <td>1</td>\n",
       "      <td>Toy Story (1995)</td>\n",
       "      <td>Animation|Children's|Comedy</td>\n",
       "    </tr>\n",
       "    <tr>\n",
       "      <th>1</th>\n",
       "      <td>2</td>\n",
       "      <td>Jumanji (1995)</td>\n",
       "      <td>Adventure|Children's|Fantasy</td>\n",
       "    </tr>\n",
       "    <tr>\n",
       "      <th>2</th>\n",
       "      <td>3</td>\n",
       "      <td>Grumpier Old Men (1995)</td>\n",
       "      <td>Comedy|Romance</td>\n",
       "    </tr>\n",
       "  </tbody>\n",
       "</table>\n",
       "</div>"
      ],
      "text/plain": [
       "   item_id                    title                        genres\n",
       "0        1         Toy Story (1995)   Animation|Children's|Comedy\n",
       "1        2           Jumanji (1995)  Adventure|Children's|Fantasy\n",
       "2        3  Grumpier Old Men (1995)                Comedy|Romance"
      ]
     },
     "metadata": {},
     "output_type": "display_data"
    },
    {
     "name": "stdout",
     "output_type": "stream",
     "text": [
      "\n"
     ]
    }
   ],
   "source": [
    "from rs_datasets import MovieLens\n",
    "\n",
    "data = MovieLens(\"1m\")\n",
    "data.info()"
   ]
  },
  {
   "cell_type": "markdown",
   "metadata": {},
   "source": [
    "### 0.1. DataPreparator"
   ]
  },
  {
   "cell_type": "markdown",
   "metadata": {},
   "source": [
    "Внутренний формат данных в библиотеке -- spark dataframe.\n",
    "Модели replay ожидают на вход pandas или spark dataframe, содержащий обязательные столбцы item_id, user_id. Для некоторых моделей обязательно наличие столбца relevance, содержащего оценки релевантности объектов для пользователей.\n",
    "Для разбиения данных по времени с помощью Splitter и фильтров в логе должен присутсововать столбец timestamp.\n",
    "\n",
    "В replay есть DataPreparator, который автоматически конвертирует pandas и spark dataframe c логом в нужный формат (переименование/создание обязательных столбцов, корректное чтение дат, проверка отсутствия пропусков). DataPreparetor может конвертировать dataframe с признаками пользователей/объектов (нужно указать один из столбцов, соответсвующий user_id/item_id.\n",
    "\n",
    "Также конвертировать pandas dataframes в spark можно с помощью вспомогательной функции convert_to_spark."
   ]
  },
  {
   "cell_type": "code",
   "execution_count": 6,
   "metadata": {
    "jupyter": {
     "outputs_hidden": false
    }
   },
   "outputs": [],
   "source": [
    "from replay.data_preparator import DataPreparator\n",
    "\n",
    "log = DataPreparator().transform(\n",
    "    data=data.ratings,\n",
    "    columns_names={\n",
    "        \"user_id\": \"user_id\",\n",
    "        \"item_id\": \"item_id\",\n",
    "        \"relevance\": \"rating\",\n",
    "        \"timestamp\": \"timestamp\"\n",
    "    }\n",
    ")"
   ]
  },
  {
   "cell_type": "code",
   "execution_count": 7,
   "metadata": {},
   "outputs": [
    {
     "name": "stdout",
     "output_type": "stream",
     "text": [
      "+-------+-------+---------+-------------------+\n",
      "|user_id|item_id|relevance|          timestamp|\n",
      "+-------+-------+---------+-------------------+\n",
      "|      1|   1193|      5.0|2000-12-31 22:12:40|\n",
      "|      1|    661|      3.0|2000-12-31 22:35:09|\n",
      "|      1|    914|      3.0|2000-12-31 22:32:48|\n",
      "+-------+-------+---------+-------------------+\n",
      "only showing top 3 rows\n",
      "\n"
     ]
    }
   ],
   "source": [
    "log.show(3)"
   ]
  },
  {
   "cell_type": "code",
   "execution_count": 8,
   "metadata": {},
   "outputs": [],
   "source": [
    "from replay.utils import convert2spark\n",
    "items = convert2spark(data.users)"
   ]
  },
  {
   "cell_type": "markdown",
   "metadata": {},
   "source": [
    "### 0.2. Split"
   ]
  },
  {
   "cell_type": "markdown",
   "metadata": {},
   "source": [
    "Библиотека содержит различные схемы валидации рекомендательных систем, встречающиеся в литературе.\n",
    "\n",
    "`UserSplitter` отбирает для теста некоторое количество или долю объектов для каждого пользователя."
   ]
  },
  {
   "cell_type": "code",
   "execution_count": 9,
   "metadata": {
    "ExecuteTime": {
     "end_time": "2020-02-10T15:59:50.986401Z",
     "start_time": "2020-02-10T15:59:42.042998Z"
    },
    "jupyter": {
     "outputs_hidden": false
    }
   },
   "outputs": [
    {
     "data": {
      "text/plain": [
       "(999709, 500)"
      ]
     },
     "execution_count": 9,
     "metadata": {},
     "output_type": "execute_result"
    }
   ],
   "source": [
    "from replay.splitters import UserSplitter\n",
    "\n",
    "splitter = UserSplitter(\n",
    "    drop_cold_items=True,\n",
    "    drop_cold_users=True,\n",
    "    item_test_size=1,\n",
    "    user_test_size=500,\n",
    "    seed=1234,\n",
    "    shuffle=True\n",
    ")\n",
    "train, test = splitter.split(log)\n",
    "(\n",
    "    train.count(), \n",
    "    test.count()\n",
    ")"
   ]
  },
  {
   "cell_type": "markdown",
   "metadata": {},
   "source": [
    "## 1. Обучение модели \n",
    "\n",
    "#### SLIM\n",
    "Один из простых, но эффективных алгоритмов "
   ]
  },
  {
   "cell_type": "code",
   "execution_count": 10,
   "metadata": {},
   "outputs": [],
   "source": [
    "from replay.models import SLIM\n",
    "\n",
    "slim = SLIM(lambda_=0.01, beta=0.3)"
   ]
  },
  {
   "cell_type": "code",
   "execution_count": 11,
   "metadata": {},
   "outputs": [
    {
     "name": "stderr",
     "output_type": "stream",
     "text": [
      "29-Jan-21 07:55:07, replay, DEBUG: Начало обучения SLIM\n",
      "DEBUG:replay:Начало обучения SLIM\n",
      "29-Jan-21 07:55:07, replay, DEBUG: Предварительная стадия обучения (pre-fit)\n",
      "DEBUG:replay:Предварительная стадия обучения (pre-fit)\n",
      "29-Jan-21 07:55:11, replay, DEBUG: Основная стадия обучения (fit)\n",
      "DEBUG:replay:Основная стадия обучения (fit)\n"
     ]
    },
    {
     "name": "stdout",
     "output_type": "stream",
     "text": [
      "CPU times: user 2.39 s, sys: 0 ns, total: 2.39 s\n",
      "Wall time: 14.1 s\n"
     ]
    }
   ],
   "source": [
    "%%time\n",
    "\n",
    "slim.fit(log=train)"
   ]
  },
  {
   "cell_type": "code",
   "execution_count": 12,
   "metadata": {},
   "outputs": [
    {
     "name": "stderr",
     "output_type": "stream",
     "text": [
      "29-Jan-21 07:55:21, replay, DEBUG: Начало предикта SLIM\n",
      "DEBUG:replay:Начало предикта SLIM\n"
     ]
    },
    {
     "name": "stdout",
     "output_type": "stream",
     "text": [
      "CPU times: user 995 ms, sys: 53 ms, total: 1.05 s\n",
      "Wall time: 15.2 s\n"
     ]
    }
   ],
   "source": [
    "%%time\n",
    "\n",
    "recs = slim.predict(\n",
    "    k=K,\n",
    "    users=test.select('user_id').distinct(),\n",
    "    items=test.select('item_id').distinct(),\n",
    "    log=train,\n",
    "    filter_seen_items=True\n",
    ")"
   ]
  },
  {
   "cell_type": "markdown",
   "metadata": {},
   "source": [
    "## 2. Оценка качества и сравнение результатов моделей"
   ]
  },
  {
   "cell_type": "markdown",
   "metadata": {},
   "source": [
    "В библиотеке реализованы различные метрики качества рекомендательных систем, встречающихся в литературе.\n",
    "Их можно использовать напрямую, либо запоминать результаты с помощью класса `Experiment`."
   ]
  },
  {
   "cell_type": "code",
   "execution_count": 13,
   "metadata": {
    "ExecuteTime": {
     "end_time": "2020-02-10T16:07:28.942205Z",
     "start_time": "2020-02-10T16:07:26.281475Z"
    },
    "jupyter": {
     "outputs_hidden": false
    }
   },
   "outputs": [],
   "source": [
    "from replay.metrics import HitRate, NDCG, MAP\n",
    "from replay.experiment import Experiment\n",
    "\n",
    "metrics = Experiment(test, {NDCG(): K,\n",
    "                            MAP() : K,\n",
    "                            HitRate(): [1, int(K/2), K]})\n"
   ]
  },
  {
   "cell_type": "code",
   "execution_count": 14,
   "metadata": {},
   "outputs": [
    {
     "name": "stdout",
     "output_type": "stream",
     "text": [
      "CPU times: user 104 ms, sys: 40.2 ms, total: 144 ms\n",
      "Wall time: 50.1 s\n"
     ]
    },
    {
     "data": {
      "text/html": [
       "<div>\n",
       "<style scoped>\n",
       "    .dataframe tbody tr th:only-of-type {\n",
       "        vertical-align: middle;\n",
       "    }\n",
       "\n",
       "    .dataframe tbody tr th {\n",
       "        vertical-align: top;\n",
       "    }\n",
       "\n",
       "    .dataframe thead th {\n",
       "        text-align: right;\n",
       "    }\n",
       "</style>\n",
       "<table border=\"1\" class=\"dataframe\">\n",
       "  <thead>\n",
       "    <tr style=\"text-align: right;\">\n",
       "      <th></th>\n",
       "      <th>HitRate@1</th>\n",
       "      <th>HitRate@5</th>\n",
       "      <th>HitRate@10</th>\n",
       "      <th>MAP@10</th>\n",
       "      <th>NDCG@10</th>\n",
       "    </tr>\n",
       "  </thead>\n",
       "  <tbody>\n",
       "    <tr>\n",
       "      <th>SLIM</th>\n",
       "      <td>0.09</td>\n",
       "      <td>0.23</td>\n",
       "      <td>0.342</td>\n",
       "      <td>0.150803</td>\n",
       "      <td>0.195098</td>\n",
       "    </tr>\n",
       "  </tbody>\n",
       "</table>\n",
       "</div>"
      ],
      "text/plain": [
       "      HitRate@1  HitRate@5  HitRate@10    MAP@10   NDCG@10\n",
       "SLIM       0.09       0.23       0.342  0.150803  0.195098"
      ]
     },
     "execution_count": 14,
     "metadata": {},
     "output_type": "execute_result"
    }
   ],
   "source": [
    "%%time\n",
    "metrics.add_result(\"SLIM\", recs)\n",
    "metrics.results"
   ]
  },
  {
   "cell_type": "markdown",
   "metadata": {},
   "source": [
    "## 3. Примеры использования других моделей RePlay"
   ]
  },
  {
   "cell_type": "markdown",
   "metadata": {},
   "source": [
    "#### ALS\n",
    "Библиотека также содержит классические алгоритмы рекомендаций, например, матричную факторизацию"
   ]
  },
  {
   "cell_type": "code",
   "execution_count": 15,
   "metadata": {
    "jupyter": {
     "outputs_hidden": false
    }
   },
   "outputs": [],
   "source": [
    "from replay.models import ALSWrap\n",
    "\n",
    "als = ALSWrap(rank=100)"
   ]
  },
  {
   "cell_type": "code",
   "execution_count": 16,
   "metadata": {
    "jupyter": {
     "outputs_hidden": false
    }
   },
   "outputs": [
    {
     "name": "stderr",
     "output_type": "stream",
     "text": [
      "29-Jan-21 07:56:26, replay, DEBUG: Начало обучения ALSWrap\n",
      "DEBUG:replay:Начало обучения ALSWrap\n",
      "29-Jan-21 07:56:26, replay, DEBUG: Предварительная стадия обучения (pre-fit)\n",
      "DEBUG:replay:Предварительная стадия обучения (pre-fit)\n",
      "29-Jan-21 07:56:27, replay, DEBUG: Основная стадия обучения (fit)\n",
      "DEBUG:replay:Основная стадия обучения (fit)\n"
     ]
    },
    {
     "name": "stdout",
     "output_type": "stream",
     "text": [
      "CPU times: user 309 ms, sys: 17.4 ms, total: 327 ms\n",
      "Wall time: 33.1 s\n"
     ]
    }
   ],
   "source": [
    "%%time\n",
    "als.fit(log=train)"
   ]
  },
  {
   "cell_type": "code",
   "execution_count": 17,
   "metadata": {
    "jupyter": {
     "outputs_hidden": false
    }
   },
   "outputs": [
    {
     "name": "stderr",
     "output_type": "stream",
     "text": [
      "29-Jan-21 07:57:00, replay, DEBUG: Начало предикта ALSWrap\n",
      "DEBUG:replay:Начало предикта ALSWrap\n"
     ]
    },
    {
     "name": "stdout",
     "output_type": "stream",
     "text": [
      "CPU times: user 772 ms, sys: 177 ms, total: 949 ms\n",
      "Wall time: 28.6 s\n"
     ]
    }
   ],
   "source": [
    "%%time\n",
    "recs = als.predict(\n",
    "    k=K,\n",
    "    users=test.select('user_id').distinct(),\n",
    "    items=test.select('item_id').distinct(),\n",
    "    log=train,\n",
    "    filter_seen_items=True\n",
    ")"
   ]
  },
  {
   "cell_type": "code",
   "execution_count": 18,
   "metadata": {
    "jupyter": {
     "outputs_hidden": false
    }
   },
   "outputs": [
    {
     "name": "stdout",
     "output_type": "stream",
     "text": [
      "CPU times: user 91.6 ms, sys: 21.7 ms, total: 113 ms\n",
      "Wall time: 33.7 s\n"
     ]
    },
    {
     "data": {
      "text/html": [
       "<div>\n",
       "<style scoped>\n",
       "    .dataframe tbody tr th:only-of-type {\n",
       "        vertical-align: middle;\n",
       "    }\n",
       "\n",
       "    .dataframe tbody tr th {\n",
       "        vertical-align: top;\n",
       "    }\n",
       "\n",
       "    .dataframe thead th {\n",
       "        text-align: right;\n",
       "    }\n",
       "</style>\n",
       "<table border=\"1\" class=\"dataframe\">\n",
       "  <thead>\n",
       "    <tr style=\"text-align: right;\">\n",
       "      <th></th>\n",
       "      <th>HitRate@1</th>\n",
       "      <th>HitRate@5</th>\n",
       "      <th>HitRate@10</th>\n",
       "      <th>MAP@10</th>\n",
       "      <th>NDCG@10</th>\n",
       "    </tr>\n",
       "  </thead>\n",
       "  <tbody>\n",
       "    <tr>\n",
       "      <th>SLIM</th>\n",
       "      <td>0.09</td>\n",
       "      <td>0.230</td>\n",
       "      <td>0.342</td>\n",
       "      <td>0.150803</td>\n",
       "      <td>0.195098</td>\n",
       "    </tr>\n",
       "    <tr>\n",
       "      <th>ALS</th>\n",
       "      <td>0.10</td>\n",
       "      <td>0.262</td>\n",
       "      <td>0.404</td>\n",
       "      <td>0.178067</td>\n",
       "      <td>0.230724</td>\n",
       "    </tr>\n",
       "  </tbody>\n",
       "</table>\n",
       "</div>"
      ],
      "text/plain": [
       "      HitRate@1  HitRate@5  HitRate@10    MAP@10   NDCG@10\n",
       "SLIM       0.09      0.230       0.342  0.150803  0.195098\n",
       "ALS        0.10      0.262       0.404  0.178067  0.230724"
      ]
     },
     "execution_count": 18,
     "metadata": {},
     "output_type": "execute_result"
    }
   ],
   "source": [
    "%%time\n",
    "metrics.add_result(\"ALS\", recs)\n",
    "metrics.results"
   ]
  },
  {
   "cell_type": "markdown",
   "metadata": {},
   "source": [
    "#### MultVAE \n",
    "Пример использования DL в рекомендациях"
   ]
  },
  {
   "cell_type": "code",
   "execution_count": 39,
   "metadata": {
    "ExecuteTime": {
     "end_time": "2020-02-10T15:59:51.024567Z",
     "start_time": "2020-02-10T15:59:50.988776Z"
    }
   },
   "outputs": [],
   "source": [
    "from replay.models import MultVAE\n",
    "\n",
    "multvae = MultVAE(epochs=500)"
   ]
  },
  {
   "cell_type": "code",
   "execution_count": 40,
   "metadata": {
    "ExecuteTime": {
     "end_time": "2020-02-10T16:06:06.306042Z",
     "start_time": "2020-02-10T16:01:52.107394Z"
    },
    "jupyter": {
     "outputs_hidden": false
    }
   },
   "outputs": [
    {
     "name": "stderr",
     "output_type": "stream",
     "text": [
      "29-Jan-21 08:04:33, replay, DEBUG: Начало обучения MultVAE\n",
      "DEBUG:replay:Начало обучения MultVAE\n",
      "29-Jan-21 08:04:33, replay, DEBUG: Предварительная стадия обучения (pre-fit)\n",
      "DEBUG:replay:Предварительная стадия обучения (pre-fit)\n",
      "29-Jan-21 08:04:34, replay, DEBUG: Основная стадия обучения (fit)\n",
      "DEBUG:replay:Основная стадия обучения (fit)\n",
      "29-Jan-21 08:04:36, replay, DEBUG: Составление батча:\n",
      "DEBUG:replay:Составление батча:\n",
      "29-Jan-21 08:04:36, replay, DEBUG: Обучение модели\n",
      "DEBUG:replay:Обучение модели\n",
      "29-Jan-21 08:04:37, replay, DEBUG: Epoch[1] current loss: 1353.87424\n",
      "DEBUG:replay:Epoch[1] current loss: 1353.87424\n",
      "29-Jan-21 08:04:37, replay, DEBUG: Epoch[1] validation average loss: 1478.64697\n",
      "DEBUG:replay:Epoch[1] validation average loss: 1478.64697\n",
      "29-Jan-21 08:04:38, replay, DEBUG: Epoch[2] current loss: 1248.28292\n",
      "DEBUG:replay:Epoch[2] current loss: 1248.28292\n",
      "29-Jan-21 08:04:38, replay, DEBUG: Epoch[2] validation average loss: 1478.83655\n",
      "DEBUG:replay:Epoch[2] validation average loss: 1478.83655\n",
      "29-Jan-21 08:04:39, replay, DEBUG: Epoch[3] current loss: 1270.69646\n",
      "DEBUG:replay:Epoch[3] current loss: 1270.69646\n",
      "29-Jan-21 08:04:39, replay, DEBUG: Epoch[3] validation average loss: 1452.15466\n",
      "DEBUG:replay:Epoch[3] validation average loss: 1452.15466\n",
      "29-Jan-21 08:04:40, replay, DEBUG: Epoch[4] current loss: 1251.31787\n",
      "DEBUG:replay:Epoch[4] current loss: 1251.31787\n",
      "29-Jan-21 08:04:40, replay, DEBUG: Epoch[4] validation average loss: 1421.16382\n",
      "DEBUG:replay:Epoch[4] validation average loss: 1421.16382\n",
      "29-Jan-21 08:04:40, replay, DEBUG: Epoch[5] current loss: 1241.36656\n",
      "DEBUG:replay:Epoch[5] current loss: 1241.36656\n",
      "29-Jan-21 08:04:40, replay, DEBUG: Epoch[5] validation average loss: 1399.64771\n",
      "DEBUG:replay:Epoch[5] validation average loss: 1399.64771\n",
      "29-Jan-21 08:04:41, replay, DEBUG: Epoch[6] current loss: 1233.90301\n",
      "DEBUG:replay:Epoch[6] current loss: 1233.90301\n",
      "29-Jan-21 08:04:41, replay, DEBUG: Epoch[6] validation average loss: 1408.10364\n",
      "DEBUG:replay:Epoch[6] validation average loss: 1408.10364\n",
      "29-Jan-21 08:04:42, replay, DEBUG: Epoch[7] current loss: 1228.41704\n",
      "DEBUG:replay:Epoch[7] current loss: 1228.41704\n",
      "29-Jan-21 08:04:42, replay, DEBUG: Epoch[7] validation average loss: 1406.78333\n",
      "DEBUG:replay:Epoch[7] validation average loss: 1406.78333\n",
      "29-Jan-21 08:04:43, replay, DEBUG: Epoch[8] current loss: 1228.45946\n",
      "DEBUG:replay:Epoch[8] current loss: 1228.45946\n",
      "29-Jan-21 08:04:43, replay, DEBUG: Epoch[8] validation average loss: 1421.61096\n",
      "DEBUG:replay:Epoch[8] validation average loss: 1421.61096\n",
      "29-Jan-21 08:04:43, replay, DEBUG: Epoch[9] current loss: 1228.94402\n",
      "DEBUG:replay:Epoch[9] current loss: 1228.94402\n",
      "29-Jan-21 08:04:44, replay, DEBUG: Epoch[9] validation average loss: 1410.35754\n",
      "DEBUG:replay:Epoch[9] validation average loss: 1410.35754\n",
      "29-Jan-21 08:04:44, replay, DEBUG: Epoch[10] current loss: 1215.61439\n",
      "DEBUG:replay:Epoch[10] current loss: 1215.61439\n",
      "29-Jan-21 08:04:44, replay, DEBUG: Epoch[10] validation average loss: 1411.79285\n",
      "DEBUG:replay:Epoch[10] validation average loss: 1411.79285\n",
      "29-Jan-21 08:04:45, replay, DEBUG: Epoch[11] current loss: 1225.06268\n",
      "DEBUG:replay:Epoch[11] current loss: 1225.06268\n",
      "29-Jan-21 08:04:45, replay, DEBUG: Epoch[11] validation average loss: 1400.58936\n",
      "DEBUG:replay:Epoch[11] validation average loss: 1400.58936\n",
      "29-Jan-21 08:04:46, replay, DEBUG: Epoch[12] current loss: 1223.96809\n",
      "DEBUG:replay:Epoch[12] current loss: 1223.96809\n",
      "29-Jan-21 08:04:46, replay, DEBUG: Epoch[12] validation average loss: 1408.58948\n",
      "DEBUG:replay:Epoch[12] validation average loss: 1408.58948\n",
      "29-Jan-21 08:04:46, replay, DEBUG: Epoch[13] current loss: 1214.11384\n",
      "DEBUG:replay:Epoch[13] current loss: 1214.11384\n",
      "29-Jan-21 08:04:47, replay, DEBUG: Epoch[13] validation average loss: 1395.04211\n",
      "DEBUG:replay:Epoch[13] validation average loss: 1395.04211\n",
      "29-Jan-21 08:04:47, replay, DEBUG: Epoch[14] current loss: 1215.98505\n",
      "DEBUG:replay:Epoch[14] current loss: 1215.98505\n",
      "29-Jan-21 08:04:47, replay, DEBUG: Epoch[14] validation average loss: 1385.98389\n",
      "DEBUG:replay:Epoch[14] validation average loss: 1385.98389\n",
      "29-Jan-21 08:04:48, replay, DEBUG: Epoch[15] current loss: 1214.39436\n",
      "DEBUG:replay:Epoch[15] current loss: 1214.39436\n",
      "29-Jan-21 08:04:48, replay, DEBUG: Epoch[15] validation average loss: 1379.77002\n",
      "DEBUG:replay:Epoch[15] validation average loss: 1379.77002\n",
      "29-Jan-21 08:04:49, replay, DEBUG: Epoch[16] current loss: 1207.46806\n",
      "DEBUG:replay:Epoch[16] current loss: 1207.46806\n",
      "29-Jan-21 08:04:49, replay, DEBUG: Epoch[16] validation average loss: 1367.85303\n",
      "DEBUG:replay:Epoch[16] validation average loss: 1367.85303\n",
      "29-Jan-21 08:04:50, replay, DEBUG: Epoch[17] current loss: 1203.40024\n",
      "DEBUG:replay:Epoch[17] current loss: 1203.40024\n",
      "29-Jan-21 08:04:50, replay, DEBUG: Epoch[17] validation average loss: 1363.27527\n",
      "DEBUG:replay:Epoch[17] validation average loss: 1363.27527\n",
      "29-Jan-21 08:04:51, replay, DEBUG: Epoch[18] current loss: 1201.56850\n",
      "DEBUG:replay:Epoch[18] current loss: 1201.56850\n",
      "29-Jan-21 08:04:51, replay, DEBUG: Epoch[18] validation average loss: 1352.71582\n",
      "DEBUG:replay:Epoch[18] validation average loss: 1352.71582\n",
      "29-Jan-21 08:04:51, replay, DEBUG: Epoch[19] current loss: 1201.11521\n",
      "DEBUG:replay:Epoch[19] current loss: 1201.11521\n",
      "29-Jan-21 08:04:51, replay, DEBUG: Epoch[19] validation average loss: 1346.89917\n",
      "DEBUG:replay:Epoch[19] validation average loss: 1346.89917\n",
      "29-Jan-21 08:04:52, replay, DEBUG: Epoch[20] current loss: 1200.23151\n",
      "DEBUG:replay:Epoch[20] current loss: 1200.23151\n",
      "29-Jan-21 08:04:52, replay, DEBUG: Epoch[20] validation average loss: 1346.91052\n",
      "DEBUG:replay:Epoch[20] validation average loss: 1346.91052\n",
      "29-Jan-21 08:04:52, replay, DEBUG: Epoch[21] current loss: 1201.27227\n",
      "DEBUG:replay:Epoch[21] current loss: 1201.27227\n",
      "29-Jan-21 08:04:52, replay, DEBUG: Epoch[21] validation average loss: 1336.13892\n",
      "DEBUG:replay:Epoch[21] validation average loss: 1336.13892\n",
      "29-Jan-21 08:04:53, replay, DEBUG: Epoch[22] current loss: 1190.21605\n",
      "DEBUG:replay:Epoch[22] current loss: 1190.21605\n",
      "29-Jan-21 08:04:53, replay, DEBUG: Epoch[22] validation average loss: 1336.47058\n",
      "DEBUG:replay:Epoch[22] validation average loss: 1336.47058\n",
      "29-Jan-21 08:04:54, replay, DEBUG: Epoch[23] current loss: 1185.92080\n",
      "DEBUG:replay:Epoch[23] current loss: 1185.92080\n",
      "29-Jan-21 08:04:54, replay, DEBUG: Epoch[23] validation average loss: 1330.50708\n",
      "DEBUG:replay:Epoch[23] validation average loss: 1330.50708\n",
      "29-Jan-21 08:04:54, replay, DEBUG: Epoch[24] current loss: 1187.55288\n",
      "DEBUG:replay:Epoch[24] current loss: 1187.55288\n",
      "29-Jan-21 08:04:54, replay, DEBUG: Epoch[24] validation average loss: 1328.16602\n",
      "DEBUG:replay:Epoch[24] validation average loss: 1328.16602\n",
      "29-Jan-21 08:04:55, replay, DEBUG: Epoch[25] current loss: 1183.78553\n",
      "DEBUG:replay:Epoch[25] current loss: 1183.78553\n",
      "29-Jan-21 08:04:55, replay, DEBUG: Epoch[25] validation average loss: 1332.58118\n",
      "DEBUG:replay:Epoch[25] validation average loss: 1332.58118\n",
      "29-Jan-21 08:04:56, replay, DEBUG: Epoch[26] current loss: 1178.74991\n",
      "DEBUG:replay:Epoch[26] current loss: 1178.74991\n",
      "29-Jan-21 08:04:56, replay, DEBUG: Epoch[26] validation average loss: 1327.23999\n",
      "DEBUG:replay:Epoch[26] validation average loss: 1327.23999\n",
      "29-Jan-21 08:04:56, replay, DEBUG: Epoch[27] current loss: 1181.62147\n",
      "DEBUG:replay:Epoch[27] current loss: 1181.62147\n",
      "29-Jan-21 08:04:56, replay, DEBUG: Epoch[27] validation average loss: 1326.45911\n",
      "DEBUG:replay:Epoch[27] validation average loss: 1326.45911\n",
      "29-Jan-21 08:04:57, replay, DEBUG: Epoch[28] current loss: 1178.31699\n",
      "DEBUG:replay:Epoch[28] current loss: 1178.31699\n",
      "29-Jan-21 08:04:57, replay, DEBUG: Epoch[28] validation average loss: 1328.26721\n",
      "DEBUG:replay:Epoch[28] validation average loss: 1328.26721\n",
      "29-Jan-21 08:04:57, replay, DEBUG: Epoch[29] current loss: 1174.02637\n",
      "DEBUG:replay:Epoch[29] current loss: 1174.02637\n",
      "29-Jan-21 08:04:57, replay, DEBUG: Epoch[29] validation average loss: 1321.94202\n",
      "DEBUG:replay:Epoch[29] validation average loss: 1321.94202\n",
      "29-Jan-21 08:04:58, replay, DEBUG: Epoch[30] current loss: 1174.08732\n",
      "DEBUG:replay:Epoch[30] current loss: 1174.08732\n",
      "29-Jan-21 08:04:58, replay, DEBUG: Epoch[30] validation average loss: 1321.49951\n",
      "DEBUG:replay:Epoch[30] validation average loss: 1321.49951\n",
      "29-Jan-21 08:04:59, replay, DEBUG: Epoch[31] current loss: 1173.85001\n",
      "DEBUG:replay:Epoch[31] current loss: 1173.85001\n",
      "29-Jan-21 08:04:59, replay, DEBUG: Epoch[31] validation average loss: 1319.34656\n",
      "DEBUG:replay:Epoch[31] validation average loss: 1319.34656\n",
      "29-Jan-21 08:05:00, replay, DEBUG: Epoch[32] current loss: 1167.64513\n",
      "DEBUG:replay:Epoch[32] current loss: 1167.64513\n",
      "29-Jan-21 08:05:00, replay, DEBUG: Epoch[32] validation average loss: 1313.93628\n",
      "DEBUG:replay:Epoch[32] validation average loss: 1313.93628\n",
      "29-Jan-21 08:05:01, replay, DEBUG: Epoch[33] current loss: 1170.68704\n",
      "DEBUG:replay:Epoch[33] current loss: 1170.68704\n",
      "29-Jan-21 08:05:01, replay, DEBUG: Epoch[33] validation average loss: 1314.79492\n",
      "DEBUG:replay:Epoch[33] validation average loss: 1314.79492\n",
      "29-Jan-21 08:05:02, replay, DEBUG: Epoch[34] current loss: 1166.76128\n",
      "DEBUG:replay:Epoch[34] current loss: 1166.76128\n",
      "29-Jan-21 08:05:02, replay, DEBUG: Epoch[34] validation average loss: 1309.99670\n",
      "DEBUG:replay:Epoch[34] validation average loss: 1309.99670\n",
      "29-Jan-21 08:05:02, replay, DEBUG: Epoch[35] current loss: 1174.15870\n",
      "DEBUG:replay:Epoch[35] current loss: 1174.15870\n",
      "29-Jan-21 08:05:02, replay, DEBUG: Epoch[35] validation average loss: 1307.61023\n",
      "DEBUG:replay:Epoch[35] validation average loss: 1307.61023\n",
      "29-Jan-21 08:05:03, replay, DEBUG: Epoch[36] current loss: 1157.28066\n",
      "DEBUG:replay:Epoch[36] current loss: 1157.28066\n",
      "29-Jan-21 08:05:03, replay, DEBUG: Epoch[36] validation average loss: 1306.63245\n",
      "DEBUG:replay:Epoch[36] validation average loss: 1306.63245\n",
      "29-Jan-21 08:05:04, replay, DEBUG: Epoch[37] current loss: 1167.24495\n",
      "DEBUG:replay:Epoch[37] current loss: 1167.24495\n",
      "29-Jan-21 08:05:04, replay, DEBUG: Epoch[37] validation average loss: 1303.74072\n",
      "DEBUG:replay:Epoch[37] validation average loss: 1303.74072\n",
      "29-Jan-21 08:05:05, replay, DEBUG: Epoch[38] current loss: 1164.82540\n",
      "DEBUG:replay:Epoch[38] current loss: 1164.82540\n",
      "29-Jan-21 08:05:05, replay, DEBUG: Epoch[38] validation average loss: 1303.46411\n",
      "DEBUG:replay:Epoch[38] validation average loss: 1303.46411\n",
      "29-Jan-21 08:05:05, replay, DEBUG: Epoch[39] current loss: 1165.22740\n",
      "DEBUG:replay:Epoch[39] current loss: 1165.22740\n",
      "29-Jan-21 08:05:05, replay, DEBUG: Epoch[39] validation average loss: 1299.95190\n",
      "DEBUG:replay:Epoch[39] validation average loss: 1299.95190\n",
      "29-Jan-21 08:05:06, replay, DEBUG: Epoch[40] current loss: 1162.13872\n",
      "DEBUG:replay:Epoch[40] current loss: 1162.13872\n",
      "29-Jan-21 08:05:06, replay, DEBUG: Epoch[40] validation average loss: 1299.54138\n",
      "DEBUG:replay:Epoch[40] validation average loss: 1299.54138\n",
      "29-Jan-21 08:05:07, replay, DEBUG: Epoch[41] current loss: 1160.10752\n",
      "DEBUG:replay:Epoch[41] current loss: 1160.10752\n",
      "29-Jan-21 08:05:07, replay, DEBUG: Epoch[41] validation average loss: 1297.08337\n",
      "DEBUG:replay:Epoch[41] validation average loss: 1297.08337\n",
      "29-Jan-21 08:05:08, replay, DEBUG: Epoch[42] current loss: 1155.92172\n",
      "DEBUG:replay:Epoch[42] current loss: 1155.92172\n",
      "29-Jan-21 08:05:08, replay, DEBUG: Epoch[42] validation average loss: 1297.08618\n",
      "DEBUG:replay:Epoch[42] validation average loss: 1297.08618\n",
      "29-Jan-21 08:05:08, replay, DEBUG: Epoch[43] current loss: 1156.34503\n",
      "DEBUG:replay:Epoch[43] current loss: 1156.34503\n",
      "29-Jan-21 08:05:08, replay, DEBUG: Epoch[43] validation average loss: 1295.38306\n",
      "DEBUG:replay:Epoch[43] validation average loss: 1295.38306\n",
      "29-Jan-21 08:05:09, replay, DEBUG: Epoch[44] current loss: 1161.97420\n",
      "DEBUG:replay:Epoch[44] current loss: 1161.97420\n",
      "29-Jan-21 08:05:09, replay, DEBUG: Epoch[44] validation average loss: 1293.79980\n",
      "DEBUG:replay:Epoch[44] validation average loss: 1293.79980\n",
      "29-Jan-21 08:05:10, replay, DEBUG: Epoch[45] current loss: 1159.06259\n",
      "DEBUG:replay:Epoch[45] current loss: 1159.06259\n",
      "29-Jan-21 08:05:10, replay, DEBUG: Epoch[45] validation average loss: 1293.71899\n",
      "DEBUG:replay:Epoch[45] validation average loss: 1293.71899\n",
      "29-Jan-21 08:05:11, replay, DEBUG: Epoch[46] current loss: 1157.51172\n",
      "DEBUG:replay:Epoch[46] current loss: 1157.51172\n",
      "29-Jan-21 08:05:11, replay, DEBUG: Epoch[46] validation average loss: 1291.25244\n",
      "DEBUG:replay:Epoch[46] validation average loss: 1291.25244\n",
      "29-Jan-21 08:05:11, replay, DEBUG: Epoch[47] current loss: 1151.07974\n",
      "DEBUG:replay:Epoch[47] current loss: 1151.07974\n",
      "29-Jan-21 08:05:11, replay, DEBUG: Epoch[47] validation average loss: 1289.89941\n",
      "DEBUG:replay:Epoch[47] validation average loss: 1289.89941\n",
      "29-Jan-21 08:05:12, replay, DEBUG: Epoch[48] current loss: 1150.79894\n",
      "DEBUG:replay:Epoch[48] current loss: 1150.79894\n",
      "29-Jan-21 08:05:12, replay, DEBUG: Epoch[48] validation average loss: 1289.50452\n",
      "DEBUG:replay:Epoch[48] validation average loss: 1289.50452\n",
      "29-Jan-21 08:05:13, replay, DEBUG: Epoch[49] current loss: 1147.41423\n",
      "DEBUG:replay:Epoch[49] current loss: 1147.41423\n",
      "29-Jan-21 08:05:13, replay, DEBUG: Epoch[49] validation average loss: 1288.79968\n",
      "DEBUG:replay:Epoch[49] validation average loss: 1288.79968\n",
      "29-Jan-21 08:05:14, replay, DEBUG: Epoch[50] current loss: 1149.57299\n",
      "DEBUG:replay:Epoch[50] current loss: 1149.57299\n",
      "29-Jan-21 08:05:14, replay, DEBUG: Epoch[50] validation average loss: 1287.07874\n",
      "DEBUG:replay:Epoch[50] validation average loss: 1287.07874\n",
      "29-Jan-21 08:05:15, replay, DEBUG: Epoch[51] current loss: 1155.97976\n",
      "DEBUG:replay:Epoch[51] current loss: 1155.97976\n",
      "29-Jan-21 08:05:15, replay, DEBUG: Epoch[51] validation average loss: 1286.04529\n",
      "DEBUG:replay:Epoch[51] validation average loss: 1286.04529\n",
      "29-Jan-21 08:05:15, replay, DEBUG: Epoch[52] current loss: 1149.19381\n",
      "DEBUG:replay:Epoch[52] current loss: 1149.19381\n",
      "29-Jan-21 08:05:15, replay, DEBUG: Epoch[52] validation average loss: 1285.86877\n",
      "DEBUG:replay:Epoch[52] validation average loss: 1285.86877\n",
      "29-Jan-21 08:05:16, replay, DEBUG: Epoch[53] current loss: 1148.67592\n",
      "DEBUG:replay:Epoch[53] current loss: 1148.67592\n",
      "29-Jan-21 08:05:16, replay, DEBUG: Epoch[53] validation average loss: 1285.00183\n",
      "DEBUG:replay:Epoch[53] validation average loss: 1285.00183\n",
      "29-Jan-21 08:05:16, replay, DEBUG: Epoch[54] current loss: 1152.10812\n",
      "DEBUG:replay:Epoch[54] current loss: 1152.10812\n",
      "29-Jan-21 08:05:17, replay, DEBUG: Epoch[54] validation average loss: 1283.70422\n",
      "DEBUG:replay:Epoch[54] validation average loss: 1283.70422\n",
      "29-Jan-21 08:05:17, replay, DEBUG: Epoch[55] current loss: 1147.17595\n",
      "DEBUG:replay:Epoch[55] current loss: 1147.17595\n",
      "29-Jan-21 08:05:17, replay, DEBUG: Epoch[55] validation average loss: 1283.31934\n",
      "DEBUG:replay:Epoch[55] validation average loss: 1283.31934\n",
      "29-Jan-21 08:05:18, replay, DEBUG: Epoch[56] current loss: 1148.35739\n",
      "DEBUG:replay:Epoch[56] current loss: 1148.35739\n",
      "29-Jan-21 08:05:18, replay, DEBUG: Epoch[56] validation average loss: 1281.70923\n",
      "DEBUG:replay:Epoch[56] validation average loss: 1281.70923\n",
      "29-Jan-21 08:05:19, replay, DEBUG: Epoch[57] current loss: 1145.56646\n",
      "DEBUG:replay:Epoch[57] current loss: 1145.56646\n",
      "29-Jan-21 08:05:19, replay, DEBUG: Epoch[57] validation average loss: 1282.29846\n",
      "DEBUG:replay:Epoch[57] validation average loss: 1282.29846\n",
      "29-Jan-21 08:05:19, replay, DEBUG: Epoch[58] current loss: 1144.09518\n",
      "DEBUG:replay:Epoch[58] current loss: 1144.09518\n",
      "29-Jan-21 08:05:19, replay, DEBUG: Epoch[58] validation average loss: 1279.41455\n",
      "DEBUG:replay:Epoch[58] validation average loss: 1279.41455\n",
      "29-Jan-21 08:05:20, replay, DEBUG: Epoch[59] current loss: 1138.59755\n",
      "DEBUG:replay:Epoch[59] current loss: 1138.59755\n",
      "29-Jan-21 08:05:20, replay, DEBUG: Epoch[59] validation average loss: 1281.43616\n",
      "DEBUG:replay:Epoch[59] validation average loss: 1281.43616\n",
      "29-Jan-21 08:05:20, replay, DEBUG: Epoch[60] current loss: 1141.82372\n",
      "DEBUG:replay:Epoch[60] current loss: 1141.82372\n",
      "29-Jan-21 08:05:20, replay, DEBUG: Epoch[60] validation average loss: 1279.40662\n",
      "DEBUG:replay:Epoch[60] validation average loss: 1279.40662\n",
      "29-Jan-21 08:05:21, replay, DEBUG: Epoch[61] current loss: 1146.98648\n",
      "DEBUG:replay:Epoch[61] current loss: 1146.98648\n",
      "29-Jan-21 08:05:21, replay, DEBUG: Epoch[61] validation average loss: 1278.54761\n",
      "DEBUG:replay:Epoch[61] validation average loss: 1278.54761\n",
      "29-Jan-21 08:05:22, replay, DEBUG: Epoch[62] current loss: 1145.78924\n",
      "DEBUG:replay:Epoch[62] current loss: 1145.78924\n",
      "29-Jan-21 08:05:22, replay, DEBUG: Epoch[62] validation average loss: 1279.71643\n",
      "DEBUG:replay:Epoch[62] validation average loss: 1279.71643\n",
      "29-Jan-21 08:05:22, replay, DEBUG: Epoch[63] current loss: 1142.76958\n",
      "DEBUG:replay:Epoch[63] current loss: 1142.76958\n",
      "29-Jan-21 08:05:22, replay, DEBUG: Epoch[63] validation average loss: 1277.46704\n",
      "DEBUG:replay:Epoch[63] validation average loss: 1277.46704\n",
      "29-Jan-21 08:05:23, replay, DEBUG: Epoch[64] current loss: 1142.06331\n",
      "DEBUG:replay:Epoch[64] current loss: 1142.06331\n",
      "29-Jan-21 08:05:23, replay, DEBUG: Epoch[64] validation average loss: 1277.99817\n",
      "DEBUG:replay:Epoch[64] validation average loss: 1277.99817\n",
      "29-Jan-21 08:05:24, replay, DEBUG: Epoch[65] current loss: 1139.77347\n",
      "DEBUG:replay:Epoch[65] current loss: 1139.77347\n",
      "29-Jan-21 08:05:24, replay, DEBUG: Epoch[65] validation average loss: 1277.03979\n",
      "DEBUG:replay:Epoch[65] validation average loss: 1277.03979\n",
      "29-Jan-21 08:05:24, replay, DEBUG: Epoch[66] current loss: 1140.02300\n",
      "DEBUG:replay:Epoch[66] current loss: 1140.02300\n",
      "29-Jan-21 08:05:24, replay, DEBUG: Epoch[66] validation average loss: 1277.10779\n",
      "DEBUG:replay:Epoch[66] validation average loss: 1277.10779\n",
      "29-Jan-21 08:05:25, replay, DEBUG: Epoch[67] current loss: 1144.50043\n",
      "DEBUG:replay:Epoch[67] current loss: 1144.50043\n",
      "29-Jan-21 08:05:25, replay, DEBUG: Epoch[67] validation average loss: 1276.39148\n",
      "DEBUG:replay:Epoch[67] validation average loss: 1276.39148\n",
      "29-Jan-21 08:05:26, replay, DEBUG: Epoch[68] current loss: 1135.97583\n",
      "DEBUG:replay:Epoch[68] current loss: 1135.97583\n",
      "29-Jan-21 08:05:26, replay, DEBUG: Epoch[68] validation average loss: 1275.72095\n",
      "DEBUG:replay:Epoch[68] validation average loss: 1275.72095\n",
      "29-Jan-21 08:05:26, replay, DEBUG: Epoch[69] current loss: 1136.00811\n",
      "DEBUG:replay:Epoch[69] current loss: 1136.00811\n",
      "29-Jan-21 08:05:26, replay, DEBUG: Epoch[69] validation average loss: 1275.63086\n",
      "DEBUG:replay:Epoch[69] validation average loss: 1275.63086\n",
      "29-Jan-21 08:05:27, replay, DEBUG: Epoch[70] current loss: 1128.91463\n",
      "DEBUG:replay:Epoch[70] current loss: 1128.91463\n",
      "29-Jan-21 08:05:27, replay, DEBUG: Epoch[70] validation average loss: 1275.29688\n",
      "DEBUG:replay:Epoch[70] validation average loss: 1275.29688\n",
      "29-Jan-21 08:05:27, replay, DEBUG: Epoch[71] current loss: 1137.26007\n",
      "DEBUG:replay:Epoch[71] current loss: 1137.26007\n",
      "29-Jan-21 08:05:27, replay, DEBUG: Epoch[71] validation average loss: 1274.50806\n",
      "DEBUG:replay:Epoch[71] validation average loss: 1274.50806\n",
      "29-Jan-21 08:05:28, replay, DEBUG: Epoch[72] current loss: 1129.48533\n",
      "DEBUG:replay:Epoch[72] current loss: 1129.48533\n",
      "29-Jan-21 08:05:28, replay, DEBUG: Epoch[72] validation average loss: 1274.35364\n",
      "DEBUG:replay:Epoch[72] validation average loss: 1274.35364\n",
      "29-Jan-21 08:05:28, replay, DEBUG: Epoch[73] current loss: 1126.90996\n",
      "DEBUG:replay:Epoch[73] current loss: 1126.90996\n",
      "29-Jan-21 08:05:28, replay, DEBUG: Epoch[73] validation average loss: 1274.44214\n",
      "DEBUG:replay:Epoch[73] validation average loss: 1274.44214\n",
      "29-Jan-21 08:05:29, replay, DEBUG: Epoch[74] current loss: 1133.28168\n",
      "DEBUG:replay:Epoch[74] current loss: 1133.28168\n",
      "29-Jan-21 08:05:29, replay, DEBUG: Epoch[74] validation average loss: 1273.06543\n",
      "DEBUG:replay:Epoch[74] validation average loss: 1273.06543\n",
      "29-Jan-21 08:05:30, replay, DEBUG: Epoch[75] current loss: 1133.18614\n",
      "DEBUG:replay:Epoch[75] current loss: 1133.18614\n",
      "29-Jan-21 08:05:30, replay, DEBUG: Epoch[75] validation average loss: 1274.08728\n",
      "DEBUG:replay:Epoch[75] validation average loss: 1274.08728\n",
      "29-Jan-21 08:05:30, replay, DEBUG: Epoch[76] current loss: 1137.66773\n",
      "DEBUG:replay:Epoch[76] current loss: 1137.66773\n",
      "29-Jan-21 08:05:30, replay, DEBUG: Epoch[76] validation average loss: 1272.53320\n",
      "DEBUG:replay:Epoch[76] validation average loss: 1272.53320\n",
      "29-Jan-21 08:05:31, replay, DEBUG: Epoch[77] current loss: 1132.35350\n",
      "DEBUG:replay:Epoch[77] current loss: 1132.35350\n",
      "29-Jan-21 08:05:31, replay, DEBUG: Epoch[77] validation average loss: 1271.66858\n",
      "DEBUG:replay:Epoch[77] validation average loss: 1271.66858\n",
      "29-Jan-21 08:05:31, replay, DEBUG: Epoch[78] current loss: 1131.36052\n",
      "DEBUG:replay:Epoch[78] current loss: 1131.36052\n",
      "29-Jan-21 08:05:31, replay, DEBUG: Epoch[78] validation average loss: 1273.13757\n",
      "DEBUG:replay:Epoch[78] validation average loss: 1273.13757\n",
      "29-Jan-21 08:05:32, replay, DEBUG: Epoch[79] current loss: 1131.95648\n",
      "DEBUG:replay:Epoch[79] current loss: 1131.95648\n",
      "29-Jan-21 08:05:32, replay, DEBUG: Epoch[79] validation average loss: 1271.15320\n",
      "DEBUG:replay:Epoch[79] validation average loss: 1271.15320\n",
      "29-Jan-21 08:05:33, replay, DEBUG: Epoch[80] current loss: 1129.91176\n",
      "DEBUG:replay:Epoch[80] current loss: 1129.91176\n",
      "29-Jan-21 08:05:33, replay, DEBUG: Epoch[80] validation average loss: 1272.14734\n",
      "DEBUG:replay:Epoch[80] validation average loss: 1272.14734\n",
      "29-Jan-21 08:05:33, replay, DEBUG: Epoch[81] current loss: 1135.36000\n",
      "DEBUG:replay:Epoch[81] current loss: 1135.36000\n",
      "29-Jan-21 08:05:33, replay, DEBUG: Epoch[81] validation average loss: 1270.87500\n",
      "DEBUG:replay:Epoch[81] validation average loss: 1270.87500\n",
      "29-Jan-21 08:05:34, replay, DEBUG: Epoch[82] current loss: 1131.39003\n",
      "DEBUG:replay:Epoch[82] current loss: 1131.39003\n",
      "29-Jan-21 08:05:34, replay, DEBUG: Epoch[82] validation average loss: 1270.94849\n",
      "DEBUG:replay:Epoch[82] validation average loss: 1270.94849\n",
      "29-Jan-21 08:05:34, replay, DEBUG: Epoch[83] current loss: 1123.81160\n",
      "DEBUG:replay:Epoch[83] current loss: 1123.81160\n",
      "29-Jan-21 08:05:34, replay, DEBUG: Epoch[83] validation average loss: 1270.95276\n",
      "DEBUG:replay:Epoch[83] validation average loss: 1270.95276\n",
      "29-Jan-21 08:05:35, replay, DEBUG: Epoch[84] current loss: 1135.25758\n",
      "DEBUG:replay:Epoch[84] current loss: 1135.25758\n",
      "29-Jan-21 08:05:35, replay, DEBUG: Epoch[84] validation average loss: 1270.64099\n",
      "DEBUG:replay:Epoch[84] validation average loss: 1270.64099\n",
      "29-Jan-21 08:05:36, replay, DEBUG: Epoch[85] current loss: 1128.12842\n",
      "DEBUG:replay:Epoch[85] current loss: 1128.12842\n",
      "29-Jan-21 08:05:36, replay, DEBUG: Epoch[85] validation average loss: 1269.86536\n",
      "DEBUG:replay:Epoch[85] validation average loss: 1269.86536\n",
      "29-Jan-21 08:05:36, replay, DEBUG: Epoch[86] current loss: 1120.09693\n",
      "DEBUG:replay:Epoch[86] current loss: 1120.09693\n",
      "29-Jan-21 08:05:36, replay, DEBUG: Epoch[86] validation average loss: 1270.90308\n",
      "DEBUG:replay:Epoch[86] validation average loss: 1270.90308\n",
      "29-Jan-21 08:05:37, replay, DEBUG: Epoch[87] current loss: 1135.62296\n",
      "DEBUG:replay:Epoch[87] current loss: 1135.62296\n",
      "29-Jan-21 08:05:37, replay, DEBUG: Epoch[87] validation average loss: 1269.53906\n",
      "DEBUG:replay:Epoch[87] validation average loss: 1269.53906\n",
      "29-Jan-21 08:05:37, replay, DEBUG: Epoch[88] current loss: 1131.34885\n",
      "DEBUG:replay:Epoch[88] current loss: 1131.34885\n",
      "29-Jan-21 08:05:37, replay, DEBUG: Epoch[88] validation average loss: 1269.43591\n",
      "DEBUG:replay:Epoch[88] validation average loss: 1269.43591\n",
      "29-Jan-21 08:05:38, replay, DEBUG: Epoch[89] current loss: 1128.83501\n",
      "DEBUG:replay:Epoch[89] current loss: 1128.83501\n",
      "29-Jan-21 08:05:38, replay, DEBUG: Epoch[89] validation average loss: 1269.58008\n",
      "DEBUG:replay:Epoch[89] validation average loss: 1269.58008\n",
      "29-Jan-21 08:05:39, replay, DEBUG: Epoch[90] current loss: 1130.26101\n",
      "DEBUG:replay:Epoch[90] current loss: 1130.26101\n",
      "29-Jan-21 08:05:39, replay, DEBUG: Epoch[90] validation average loss: 1269.40515\n",
      "DEBUG:replay:Epoch[90] validation average loss: 1269.40515\n",
      "29-Jan-21 08:05:39, replay, DEBUG: Epoch[91] current loss: 1131.33543\n",
      "DEBUG:replay:Epoch[91] current loss: 1131.33543\n",
      "29-Jan-21 08:05:39, replay, DEBUG: Epoch[91] validation average loss: 1268.90259\n",
      "DEBUG:replay:Epoch[91] validation average loss: 1268.90259\n",
      "29-Jan-21 08:05:40, replay, DEBUG: Epoch[92] current loss: 1136.48267\n",
      "DEBUG:replay:Epoch[92] current loss: 1136.48267\n",
      "29-Jan-21 08:05:40, replay, DEBUG: Epoch[92] validation average loss: 1268.50854\n",
      "DEBUG:replay:Epoch[92] validation average loss: 1268.50854\n",
      "29-Jan-21 08:05:40, replay, DEBUG: Epoch[93] current loss: 1123.00156\n",
      "DEBUG:replay:Epoch[93] current loss: 1123.00156\n",
      "29-Jan-21 08:05:40, replay, DEBUG: Epoch[93] validation average loss: 1268.78748\n",
      "DEBUG:replay:Epoch[93] validation average loss: 1268.78748\n",
      "29-Jan-21 08:05:41, replay, DEBUG: Epoch[94] current loss: 1126.85456\n",
      "DEBUG:replay:Epoch[94] current loss: 1126.85456\n",
      "29-Jan-21 08:05:41, replay, DEBUG: Epoch[94] validation average loss: 1267.65259\n",
      "DEBUG:replay:Epoch[94] validation average loss: 1267.65259\n",
      "29-Jan-21 08:05:42, replay, DEBUG: Epoch[95] current loss: 1118.50314\n",
      "DEBUG:replay:Epoch[95] current loss: 1118.50314\n",
      "29-Jan-21 08:05:42, replay, DEBUG: Epoch[95] validation average loss: 1268.77124\n",
      "DEBUG:replay:Epoch[95] validation average loss: 1268.77124\n",
      "29-Jan-21 08:05:42, replay, DEBUG: Epoch[96] current loss: 1128.73107\n",
      "DEBUG:replay:Epoch[96] current loss: 1128.73107\n",
      "29-Jan-21 08:05:42, replay, DEBUG: Epoch[96] validation average loss: 1267.88037\n",
      "DEBUG:replay:Epoch[96] validation average loss: 1267.88037\n",
      "29-Jan-21 08:05:43, replay, DEBUG: Epoch[97] current loss: 1125.93542\n",
      "DEBUG:replay:Epoch[97] current loss: 1125.93542\n",
      "29-Jan-21 08:05:43, replay, DEBUG: Epoch[97] validation average loss: 1268.45337\n",
      "DEBUG:replay:Epoch[97] validation average loss: 1268.45337\n",
      "29-Jan-21 08:05:43, replay, DEBUG: Epoch[98] current loss: 1122.89803\n",
      "DEBUG:replay:Epoch[98] current loss: 1122.89803\n",
      "29-Jan-21 08:05:43, replay, DEBUG: Epoch[98] validation average loss: 1267.94653\n",
      "DEBUG:replay:Epoch[98] validation average loss: 1267.94653\n",
      "29-Jan-21 08:05:44, replay, DEBUG: Epoch[99] current loss: 1116.74917\n",
      "DEBUG:replay:Epoch[99] current loss: 1116.74917\n",
      "29-Jan-21 08:05:44, replay, DEBUG: Epoch[99] validation average loss: 1267.56421\n",
      "DEBUG:replay:Epoch[99] validation average loss: 1267.56421\n",
      "29-Jan-21 08:05:44, replay, DEBUG: Epoch[100] current loss: 1121.39759\n",
      "DEBUG:replay:Epoch[100] current loss: 1121.39759\n",
      "29-Jan-21 08:05:44, replay, DEBUG: Epoch[100] validation average loss: 1267.45630\n",
      "DEBUG:replay:Epoch[100] validation average loss: 1267.45630\n",
      "29-Jan-21 08:05:45, replay, DEBUG: Epoch[101] current loss: 1114.04394\n",
      "DEBUG:replay:Epoch[101] current loss: 1114.04394\n",
      "29-Jan-21 08:05:45, replay, DEBUG: Epoch[101] validation average loss: 1266.82825\n",
      "DEBUG:replay:Epoch[101] validation average loss: 1266.82825\n",
      "29-Jan-21 08:05:46, replay, DEBUG: Epoch[102] current loss: 1122.51146\n",
      "DEBUG:replay:Epoch[102] current loss: 1122.51146\n",
      "29-Jan-21 08:05:46, replay, DEBUG: Epoch[102] validation average loss: 1267.17859\n",
      "DEBUG:replay:Epoch[102] validation average loss: 1267.17859\n",
      "29-Jan-21 08:05:46, replay, DEBUG: Epoch[103] current loss: 1116.31205\n",
      "DEBUG:replay:Epoch[103] current loss: 1116.31205\n",
      "29-Jan-21 08:05:46, replay, DEBUG: Epoch[103] validation average loss: 1267.38184\n",
      "DEBUG:replay:Epoch[103] validation average loss: 1267.38184\n",
      "29-Jan-21 08:05:47, replay, DEBUG: Epoch[104] current loss: 1121.14444\n",
      "DEBUG:replay:Epoch[104] current loss: 1121.14444\n",
      "29-Jan-21 08:05:47, replay, DEBUG: Epoch[104] validation average loss: 1266.26306\n",
      "DEBUG:replay:Epoch[104] validation average loss: 1266.26306\n",
      "29-Jan-21 08:05:47, replay, DEBUG: Epoch[105] current loss: 1117.49550\n",
      "DEBUG:replay:Epoch[105] current loss: 1117.49550\n",
      "29-Jan-21 08:05:47, replay, DEBUG: Epoch[105] validation average loss: 1266.35889\n",
      "DEBUG:replay:Epoch[105] validation average loss: 1266.35889\n",
      "29-Jan-21 08:05:48, replay, DEBUG: Epoch[106] current loss: 1117.25500\n",
      "DEBUG:replay:Epoch[106] current loss: 1117.25500\n",
      "29-Jan-21 08:05:48, replay, DEBUG: Epoch[106] validation average loss: 1266.83118\n",
      "DEBUG:replay:Epoch[106] validation average loss: 1266.83118\n",
      "29-Jan-21 08:05:49, replay, DEBUG: Epoch[107] current loss: 1113.70119\n",
      "DEBUG:replay:Epoch[107] current loss: 1113.70119\n",
      "29-Jan-21 08:05:49, replay, DEBUG: Epoch[107] validation average loss: 1266.17603\n",
      "DEBUG:replay:Epoch[107] validation average loss: 1266.17603\n",
      "29-Jan-21 08:05:49, replay, DEBUG: Epoch[108] current loss: 1116.46747\n",
      "DEBUG:replay:Epoch[108] current loss: 1116.46747\n",
      "29-Jan-21 08:05:49, replay, DEBUG: Epoch[108] validation average loss: 1266.16333\n",
      "DEBUG:replay:Epoch[108] validation average loss: 1266.16333\n",
      "29-Jan-21 08:05:50, replay, DEBUG: Epoch[109] current loss: 1116.43682\n",
      "DEBUG:replay:Epoch[109] current loss: 1116.43682\n",
      "29-Jan-21 08:05:50, replay, DEBUG: Epoch[109] validation average loss: 1266.26953\n",
      "DEBUG:replay:Epoch[109] validation average loss: 1266.26953\n",
      "29-Jan-21 08:05:50, replay, DEBUG: Epoch[110] current loss: 1116.68728\n",
      "DEBUG:replay:Epoch[110] current loss: 1116.68728\n",
      "29-Jan-21 08:05:50, replay, DEBUG: Epoch[110] validation average loss: 1266.22351\n",
      "DEBUG:replay:Epoch[110] validation average loss: 1266.22351\n",
      "29-Jan-21 08:05:51, replay, DEBUG: Epoch[111] current loss: 1117.58668\n",
      "DEBUG:replay:Epoch[111] current loss: 1117.58668\n",
      "29-Jan-21 08:05:51, replay, DEBUG: Epoch[111] validation average loss: 1265.99548\n",
      "DEBUG:replay:Epoch[111] validation average loss: 1265.99548\n",
      "29-Jan-21 08:05:51, replay, DEBUG: Epoch[112] current loss: 1115.70571\n",
      "DEBUG:replay:Epoch[112] current loss: 1115.70571\n",
      "29-Jan-21 08:05:52, replay, DEBUG: Epoch[112] validation average loss: 1265.72668\n",
      "DEBUG:replay:Epoch[112] validation average loss: 1265.72668\n",
      "29-Jan-21 08:05:52, replay, DEBUG: Epoch[113] current loss: 1117.86918\n",
      "DEBUG:replay:Epoch[113] current loss: 1117.86918\n",
      "29-Jan-21 08:05:52, replay, DEBUG: Epoch[113] validation average loss: 1265.50916\n",
      "DEBUG:replay:Epoch[113] validation average loss: 1265.50916\n",
      "29-Jan-21 08:05:53, replay, DEBUG: Epoch[114] current loss: 1126.46825\n",
      "DEBUG:replay:Epoch[114] current loss: 1126.46825\n",
      "29-Jan-21 08:05:53, replay, DEBUG: Epoch[114] validation average loss: 1265.41760\n",
      "DEBUG:replay:Epoch[114] validation average loss: 1265.41760\n",
      "29-Jan-21 08:05:53, replay, DEBUG: Epoch[115] current loss: 1110.97744\n",
      "DEBUG:replay:Epoch[115] current loss: 1110.97744\n",
      "29-Jan-21 08:05:53, replay, DEBUG: Epoch[115] validation average loss: 1265.50793\n",
      "DEBUG:replay:Epoch[115] validation average loss: 1265.50793\n",
      "29-Jan-21 08:05:54, replay, DEBUG: Epoch[116] current loss: 1115.59906\n",
      "DEBUG:replay:Epoch[116] current loss: 1115.59906\n",
      "29-Jan-21 08:05:54, replay, DEBUG: Epoch[116] validation average loss: 1265.53394\n",
      "DEBUG:replay:Epoch[116] validation average loss: 1265.53394\n",
      "29-Jan-21 08:05:54, replay, DEBUG: Epoch[117] current loss: 1114.07753\n",
      "DEBUG:replay:Epoch[117] current loss: 1114.07753\n",
      "29-Jan-21 08:05:54, replay, DEBUG: Epoch[117] validation average loss: 1265.27783\n",
      "DEBUG:replay:Epoch[117] validation average loss: 1265.27783\n",
      "29-Jan-21 08:05:55, replay, DEBUG: Epoch[118] current loss: 1118.11565\n",
      "DEBUG:replay:Epoch[118] current loss: 1118.11565\n",
      "29-Jan-21 08:05:55, replay, DEBUG: Epoch[118] validation average loss: 1265.09363\n",
      "DEBUG:replay:Epoch[118] validation average loss: 1265.09363\n",
      "29-Jan-21 08:05:56, replay, DEBUG: Epoch[119] current loss: 1115.59612\n",
      "DEBUG:replay:Epoch[119] current loss: 1115.59612\n",
      "29-Jan-21 08:05:56, replay, DEBUG: Epoch[119] validation average loss: 1265.15723\n",
      "DEBUG:replay:Epoch[119] validation average loss: 1265.15723\n",
      "29-Jan-21 08:05:56, replay, DEBUG: Epoch[120] current loss: 1116.65769\n",
      "DEBUG:replay:Epoch[120] current loss: 1116.65769\n",
      "29-Jan-21 08:05:56, replay, DEBUG: Epoch[120] validation average loss: 1265.28235\n",
      "DEBUG:replay:Epoch[120] validation average loss: 1265.28235\n",
      "29-Jan-21 08:05:57, replay, DEBUG: Epoch[121] current loss: 1119.52854\n",
      "DEBUG:replay:Epoch[121] current loss: 1119.52854\n",
      "29-Jan-21 08:05:57, replay, DEBUG: Epoch[121] validation average loss: 1265.21143\n",
      "DEBUG:replay:Epoch[121] validation average loss: 1265.21143\n",
      "29-Jan-21 08:05:57, replay, DEBUG: Epoch[122] current loss: 1109.51696\n",
      "DEBUG:replay:Epoch[122] current loss: 1109.51696\n",
      "29-Jan-21 08:05:57, replay, DEBUG: Epoch[122] validation average loss: 1265.12854\n",
      "DEBUG:replay:Epoch[122] validation average loss: 1265.12854\n",
      "29-Jan-21 08:05:58, replay, DEBUG: Epoch[123] current loss: 1117.92086\n",
      "DEBUG:replay:Epoch[123] current loss: 1117.92086\n",
      "29-Jan-21 08:05:58, replay, DEBUG: Epoch[123] validation average loss: 1265.07117\n",
      "DEBUG:replay:Epoch[123] validation average loss: 1265.07117\n",
      "29-Jan-21 08:05:58, replay, DEBUG: Epoch[124] current loss: 1113.63319\n",
      "DEBUG:replay:Epoch[124] current loss: 1113.63319\n",
      "29-Jan-21 08:05:59, replay, DEBUG: Epoch[124] validation average loss: 1264.98889\n",
      "DEBUG:replay:Epoch[124] validation average loss: 1264.98889\n",
      "29-Jan-21 08:05:59, replay, DEBUG: Epoch[125] current loss: 1114.54265\n",
      "DEBUG:replay:Epoch[125] current loss: 1114.54265\n",
      "29-Jan-21 08:05:59, replay, DEBUG: Epoch[125] validation average loss: 1264.90369\n",
      "DEBUG:replay:Epoch[125] validation average loss: 1264.90369\n",
      "29-Jan-21 08:06:00, replay, DEBUG: Epoch[126] current loss: 1113.07089\n",
      "DEBUG:replay:Epoch[126] current loss: 1113.07089\n",
      "29-Jan-21 08:06:00, replay, DEBUG: Epoch[126] validation average loss: 1264.82654\n",
      "DEBUG:replay:Epoch[126] validation average loss: 1264.82654\n",
      "29-Jan-21 08:06:00, replay, DEBUG: Epoch[127] current loss: 1117.08886\n",
      "DEBUG:replay:Epoch[127] current loss: 1117.08886\n",
      "29-Jan-21 08:06:00, replay, DEBUG: Epoch[127] validation average loss: 1264.79492\n",
      "DEBUG:replay:Epoch[127] validation average loss: 1264.79492\n",
      "29-Jan-21 08:06:01, replay, DEBUG: Epoch[128] current loss: 1115.48424\n",
      "DEBUG:replay:Epoch[128] current loss: 1115.48424\n",
      "29-Jan-21 08:06:01, replay, DEBUG: Epoch[128] validation average loss: 1264.83301\n",
      "DEBUG:replay:Epoch[128] validation average loss: 1264.83301\n",
      "29-Jan-21 08:06:01, replay, DEBUG: Epoch[129] current loss: 1118.77948\n",
      "DEBUG:replay:Epoch[129] current loss: 1118.77948\n",
      "29-Jan-21 08:06:01, replay, DEBUG: Epoch[129] validation average loss: 1264.88879\n",
      "DEBUG:replay:Epoch[129] validation average loss: 1264.88879\n",
      "29-Jan-21 08:06:02, replay, DEBUG: Epoch[130] current loss: 1114.61963\n",
      "DEBUG:replay:Epoch[130] current loss: 1114.61963\n",
      "29-Jan-21 08:06:02, replay, DEBUG: Epoch[130] validation average loss: 1264.88513\n",
      "DEBUG:replay:Epoch[130] validation average loss: 1264.88513\n",
      "29-Jan-21 08:06:03, replay, DEBUG: Epoch[131] current loss: 1116.59338\n",
      "DEBUG:replay:Epoch[131] current loss: 1116.59338\n",
      "29-Jan-21 08:06:03, replay, DEBUG: Epoch[131] validation average loss: 1264.83582\n",
      "DEBUG:replay:Epoch[131] validation average loss: 1264.83582\n",
      "29-Jan-21 08:06:03, replay, DEBUG: Epoch[132] current loss: 1116.15386\n",
      "DEBUG:replay:Epoch[132] current loss: 1116.15386\n",
      "29-Jan-21 08:06:03, replay, DEBUG: Epoch[132] validation average loss: 1264.77209\n",
      "DEBUG:replay:Epoch[132] validation average loss: 1264.77209\n",
      "29-Jan-21 08:06:04, replay, DEBUG: Epoch[133] current loss: 1116.78851\n",
      "DEBUG:replay:Epoch[133] current loss: 1116.78851\n",
      "29-Jan-21 08:06:04, replay, DEBUG: Epoch[133] validation average loss: 1264.72449\n",
      "DEBUG:replay:Epoch[133] validation average loss: 1264.72449\n",
      "29-Jan-21 08:06:04, replay, DEBUG: Epoch[134] current loss: 1111.50816\n",
      "DEBUG:replay:Epoch[134] current loss: 1111.50816\n",
      "29-Jan-21 08:06:05, replay, DEBUG: Epoch[134] validation average loss: 1264.68542\n",
      "DEBUG:replay:Epoch[134] validation average loss: 1264.68542\n",
      "29-Jan-21 08:06:05, replay, DEBUG: Epoch[135] current loss: 1113.87487\n",
      "DEBUG:replay:Epoch[135] current loss: 1113.87487\n",
      "29-Jan-21 08:06:05, replay, DEBUG: Epoch[135] validation average loss: 1264.65466\n",
      "DEBUG:replay:Epoch[135] validation average loss: 1264.65466\n",
      "29-Jan-21 08:06:06, replay, DEBUG: Epoch[136] current loss: 1110.61942\n",
      "DEBUG:replay:Epoch[136] current loss: 1110.61942\n",
      "29-Jan-21 08:06:06, replay, DEBUG: Epoch[136] validation average loss: 1264.66284\n",
      "DEBUG:replay:Epoch[136] validation average loss: 1264.66284\n",
      "29-Jan-21 08:06:06, replay, DEBUG: Epoch[137] current loss: 1115.62562\n",
      "DEBUG:replay:Epoch[137] current loss: 1115.62562\n",
      "29-Jan-21 08:06:06, replay, DEBUG: Epoch[137] validation average loss: 1264.68188\n",
      "DEBUG:replay:Epoch[137] validation average loss: 1264.68188\n",
      "29-Jan-21 08:06:07, replay, DEBUG: Epoch[138] current loss: 1108.41364\n",
      "DEBUG:replay:Epoch[138] current loss: 1108.41364\n",
      "29-Jan-21 08:06:07, replay, DEBUG: Epoch[138] validation average loss: 1264.70068\n",
      "DEBUG:replay:Epoch[138] validation average loss: 1264.70068\n",
      "29-Jan-21 08:06:07, replay, DEBUG: Epoch[139] current loss: 1100.83422\n",
      "DEBUG:replay:Epoch[139] current loss: 1100.83422\n",
      "29-Jan-21 08:06:07, replay, DEBUG: Epoch[139] validation average loss: 1264.71448\n",
      "DEBUG:replay:Epoch[139] validation average loss: 1264.71448\n",
      "29-Jan-21 08:06:08, replay, DEBUG: Epoch[140] current loss: 1117.96060\n",
      "DEBUG:replay:Epoch[140] current loss: 1117.96060\n",
      "29-Jan-21 08:06:08, replay, DEBUG: Epoch[140] validation average loss: 1264.72205\n",
      "DEBUG:replay:Epoch[140] validation average loss: 1264.72205\n",
      "29-Jan-21 08:06:09, replay, DEBUG: Epoch[141] current loss: 1123.74376\n",
      "DEBUG:replay:Epoch[141] current loss: 1123.74376\n",
      "29-Jan-21 08:06:09, replay, DEBUG: Epoch[141] validation average loss: 1264.71814\n",
      "DEBUG:replay:Epoch[141] validation average loss: 1264.71814\n",
      "29-Jan-21 08:06:09, replay, DEBUG: Epoch[142] current loss: 1115.98961\n",
      "DEBUG:replay:Epoch[142] current loss: 1115.98961\n",
      "29-Jan-21 08:06:09, replay, DEBUG: Epoch[142] validation average loss: 1264.70911\n",
      "DEBUG:replay:Epoch[142] validation average loss: 1264.70911\n",
      "29-Jan-21 08:06:10, replay, DEBUG: Epoch[143] current loss: 1114.68602\n",
      "DEBUG:replay:Epoch[143] current loss: 1114.68602\n",
      "29-Jan-21 08:06:10, replay, DEBUG: Epoch[143] validation average loss: 1264.70337\n",
      "DEBUG:replay:Epoch[143] validation average loss: 1264.70337\n",
      "29-Jan-21 08:06:10, replay, DEBUG: Epoch[144] current loss: 1104.67758\n",
      "DEBUG:replay:Epoch[144] current loss: 1104.67758\n",
      "29-Jan-21 08:06:11, replay, DEBUG: Epoch[144] validation average loss: 1264.69824\n",
      "DEBUG:replay:Epoch[144] validation average loss: 1264.69824\n",
      "29-Jan-21 08:06:11, replay, DEBUG: Epoch[145] current loss: 1114.03208\n",
      "DEBUG:replay:Epoch[145] current loss: 1114.03208\n",
      "INFO:ignite.handlers.early_stopping.EarlyStopping:EarlyStopping: Stop training\n",
      "29-Jan-21 08:06:11, replay, DEBUG: Epoch[145] validation average loss: 1264.69312\n",
      "DEBUG:replay:Epoch[145] validation average loss: 1264.69312\n",
      "29-Jan-21 08:06:11, replay, DEBUG: -- Загрузка модели из файла\n",
      "DEBUG:replay:-- Загрузка модели из файла\n"
     ]
    },
    {
     "name": "stdout",
     "output_type": "stream",
     "text": [
      "CPU times: user 7min 2s, sys: 5min 33s, total: 12min 35s\n",
      "Wall time: 1min 37s\n"
     ]
    }
   ],
   "source": [
    "%%time\n",
    "multvae.fit(log=train)"
   ]
  },
  {
   "cell_type": "code",
   "execution_count": 41,
   "metadata": {
    "ExecuteTime": {
     "end_time": "2020-02-10T16:07:26.278582Z",
     "start_time": "2020-02-10T16:06:39.118983Z"
    },
    "jupyter": {
     "outputs_hidden": false
    },
    "scrolled": true
   },
   "outputs": [
    {
     "name": "stderr",
     "output_type": "stream",
     "text": [
      "29-Jan-21 08:06:11, replay, DEBUG: Начало предикта MultVAE\n",
      "DEBUG:replay:Начало предикта MultVAE\n",
      "29-Jan-21 08:06:17, replay, DEBUG: Предсказание модели\n",
      "DEBUG:replay:Предсказание модели\n",
      "/home/volodkevich/replay_tasks/venv376/lib/python3.7/site-packages/torch/storage.py:34: FutureWarning: pickle support for Storage will be removed in 1.5. Use `torch.save` instead\n",
      "  warnings.warn(\"pickle support for Storage will be removed in 1.5. Use `torch.save` instead\", FutureWarning)\n"
     ]
    },
    {
     "name": "stdout",
     "output_type": "stream",
     "text": [
      "CPU times: user 808 ms, sys: 130 ms, total: 938 ms\n",
      "Wall time: 23 s\n"
     ]
    }
   ],
   "source": [
    "%%time\n",
    "\n",
    "recs = multvae.predict(\n",
    "    k=10,\n",
    "    users=test.select('user_id').distinct(),\n",
    "    items=test.select('item_id').distinct(),\n",
    "    log=train,\n",
    "    filter_seen_items=True\n",
    ")"
   ]
  },
  {
   "cell_type": "code",
   "execution_count": 42,
   "metadata": {},
   "outputs": [
    {
     "name": "stdout",
     "output_type": "stream",
     "text": [
      "CPU times: user 105 ms, sys: 24.8 ms, total: 129 ms\n",
      "Wall time: 41.5 s\n"
     ]
    },
    {
     "data": {
      "text/html": [
       "<div>\n",
       "<style scoped>\n",
       "    .dataframe tbody tr th:only-of-type {\n",
       "        vertical-align: middle;\n",
       "    }\n",
       "\n",
       "    .dataframe tbody tr th {\n",
       "        vertical-align: top;\n",
       "    }\n",
       "\n",
       "    .dataframe thead th {\n",
       "        text-align: right;\n",
       "    }\n",
       "</style>\n",
       "<table border=\"1\" class=\"dataframe\">\n",
       "  <thead>\n",
       "    <tr style=\"text-align: right;\">\n",
       "      <th></th>\n",
       "      <th>HitRate@1</th>\n",
       "      <th>HitRate@5</th>\n",
       "      <th>HitRate@10</th>\n",
       "      <th>MAP@10</th>\n",
       "      <th>NDCG@10</th>\n",
       "    </tr>\n",
       "  </thead>\n",
       "  <tbody>\n",
       "    <tr>\n",
       "      <th>SLIM</th>\n",
       "      <td>0.090</td>\n",
       "      <td>0.230</td>\n",
       "      <td>0.342</td>\n",
       "      <td>0.150803</td>\n",
       "      <td>0.195098</td>\n",
       "    </tr>\n",
       "    <tr>\n",
       "      <th>ALS</th>\n",
       "      <td>0.100</td>\n",
       "      <td>0.262</td>\n",
       "      <td>0.404</td>\n",
       "      <td>0.178067</td>\n",
       "      <td>0.230724</td>\n",
       "    </tr>\n",
       "    <tr>\n",
       "      <th>MultVAE</th>\n",
       "      <td>0.014</td>\n",
       "      <td>0.070</td>\n",
       "      <td>0.150</td>\n",
       "      <td>0.043444</td>\n",
       "      <td>0.067716</td>\n",
       "    </tr>\n",
       "    <tr>\n",
       "      <th>my_model</th>\n",
       "      <td>0.006</td>\n",
       "      <td>0.054</td>\n",
       "      <td>0.094</td>\n",
       "      <td>0.026181</td>\n",
       "      <td>0.041819</td>\n",
       "    </tr>\n",
       "  </tbody>\n",
       "</table>\n",
       "</div>"
      ],
      "text/plain": [
       "          HitRate@1  HitRate@5  HitRate@10    MAP@10   NDCG@10\n",
       "SLIM          0.090      0.230       0.342  0.150803  0.195098\n",
       "ALS           0.100      0.262       0.404  0.178067  0.230724\n",
       "MultVAE       0.014      0.070       0.150  0.043444  0.067716\n",
       "my_model      0.006      0.054       0.094  0.026181  0.041819"
      ]
     },
     "execution_count": 42,
     "metadata": {},
     "output_type": "execute_result"
    }
   ],
   "source": [
    "%%time\n",
    "metrics.add_result(\"MultVAE\", recs)\n",
    "metrics.results"
   ]
  },
  {
   "cell_type": "markdown",
   "metadata": {},
   "source": [
    "## 4 Сравнение результатов различных моделей\n",
    "С помощью experiment можно сравнить качество моделей, построенных с использованием различных библиотек.\n",
    "Чтобы сравнение было корректным, нужно использовать одинаковое разбиение данных. "
   ]
  },
  {
   "cell_type": "markdown",
   "metadata": {},
   "source": [
    "### 4.1 Экспортируем train"
   ]
  },
  {
   "cell_type": "code",
   "execution_count": 43,
   "metadata": {
    "jupyter": {
     "outputs_hidden": false
    }
   },
   "outputs": [],
   "source": [
    "train.toPandas().to_csv(\"train.csv\", index=False)"
   ]
  },
  {
   "cell_type": "code",
   "execution_count": 44,
   "metadata": {
    "jupyter": {
     "outputs_hidden": false
    },
    "scrolled": true
   },
   "outputs": [
    {
     "name": "stdout",
     "output_type": "stream",
     "text": [
      "user_id,item_id,relevance,timestamp\r\n",
      "1024,2396,4.0,2000-11-23 18:18:26\r\n",
      "1024,25,4.0,2000-11-23 18:19:17\r\n",
      "1024,1210,1.0,2000-11-23 18:19:17\r\n",
      "1024,2020,5.0,2000-11-23 18:18:26\r\n"
     ]
    }
   ],
   "source": [
    "!head -n 5 train.csv"
   ]
  },
  {
   "cell_type": "markdown",
   "metadata": {},
   "source": [
    "#### 4.2 Обучаем модель и получаем рекомендации в формате `id пользователя - id объекта - relevance`"
   ]
  },
  {
   "cell_type": "markdown",
   "metadata": {},
   "source": [
    "Предположим, что это произошло и у нас есть рекомендации в виде csv-файла. Ниже в качестве пример используем рекомендации, полученные одной из моделей, с рандомными релевантностями."
   ]
  },
  {
   "cell_type": "code",
   "execution_count": 45,
   "metadata": {},
   "outputs": [],
   "source": [
    "from pyspark.sql.functions import rand"
   ]
  },
  {
   "cell_type": "code",
   "execution_count": 46,
   "metadata": {
    "jupyter": {
     "outputs_hidden": false
    }
   },
   "outputs": [],
   "source": [
    "recs.withColumn('relevance', rand(seed=123)).toPandas().to_csv(\"recs.csv\", index=False)"
   ]
  },
  {
   "cell_type": "markdown",
   "metadata": {},
   "source": [
    "Теперь нужно прочитать рекомендации в формате, поддерживаемом библиотекой"
   ]
  },
  {
   "cell_type": "code",
   "execution_count": 47,
   "metadata": {
    "jupyter": {
     "outputs_hidden": false
    }
   },
   "outputs": [],
   "source": [
    "recs = DataPreparator().transform(\n",
    "    path=\"recs.csv\",\n",
    "    columns_names={\n",
    "        \"user_id\": \"user_id\",\n",
    "        \"item_id\": \"item_id\",\n",
    "        \"relevance\": \"relevance\"\n",
    "    },\n",
    "    header=True,\n",
    "    format_type=\"csv\"\n",
    ")"
   ]
  },
  {
   "cell_type": "markdown",
   "metadata": {},
   "source": [
    "#### 4.3 Сравним качество внешней модели с предыдущими результатами"
   ]
  },
  {
   "cell_type": "code",
   "execution_count": 48,
   "metadata": {
    "jupyter": {
     "outputs_hidden": false
    }
   },
   "outputs": [
    {
     "data": {
      "text/html": [
       "<div>\n",
       "<style scoped>\n",
       "    .dataframe tbody tr th:only-of-type {\n",
       "        vertical-align: middle;\n",
       "    }\n",
       "\n",
       "    .dataframe tbody tr th {\n",
       "        vertical-align: top;\n",
       "    }\n",
       "\n",
       "    .dataframe thead th {\n",
       "        text-align: right;\n",
       "    }\n",
       "</style>\n",
       "<table border=\"1\" class=\"dataframe\">\n",
       "  <thead>\n",
       "    <tr style=\"text-align: right;\">\n",
       "      <th></th>\n",
       "      <th>HitRate@1</th>\n",
       "      <th>HitRate@5</th>\n",
       "      <th>HitRate@10</th>\n",
       "      <th>MAP@10</th>\n",
       "      <th>NDCG@10</th>\n",
       "    </tr>\n",
       "  </thead>\n",
       "  <tbody>\n",
       "    <tr>\n",
       "      <th>ALS</th>\n",
       "      <td>0.100</td>\n",
       "      <td>0.262</td>\n",
       "      <td>0.404</td>\n",
       "      <td>0.178067</td>\n",
       "      <td>0.230724</td>\n",
       "    </tr>\n",
       "    <tr>\n",
       "      <th>SLIM</th>\n",
       "      <td>0.090</td>\n",
       "      <td>0.230</td>\n",
       "      <td>0.342</td>\n",
       "      <td>0.150803</td>\n",
       "      <td>0.195098</td>\n",
       "    </tr>\n",
       "    <tr>\n",
       "      <th>MultVAE</th>\n",
       "      <td>0.014</td>\n",
       "      <td>0.070</td>\n",
       "      <td>0.150</td>\n",
       "      <td>0.043444</td>\n",
       "      <td>0.067716</td>\n",
       "    </tr>\n",
       "    <tr>\n",
       "      <th>my_model</th>\n",
       "      <td>0.006</td>\n",
       "      <td>0.054</td>\n",
       "      <td>0.094</td>\n",
       "      <td>0.026181</td>\n",
       "      <td>0.041819</td>\n",
       "    </tr>\n",
       "  </tbody>\n",
       "</table>\n",
       "</div>"
      ],
      "text/plain": [
       "          HitRate@1  HitRate@5  HitRate@10    MAP@10   NDCG@10\n",
       "ALS           0.100      0.262       0.404  0.178067  0.230724\n",
       "SLIM          0.090      0.230       0.342  0.150803  0.195098\n",
       "MultVAE       0.014      0.070       0.150  0.043444  0.067716\n",
       "my_model      0.006      0.054       0.094  0.026181  0.041819"
      ]
     },
     "execution_count": 48,
     "metadata": {},
     "output_type": "execute_result"
    }
   ],
   "source": [
    "metrics.add_result(\"my_model\", recs)\n",
    "metrics.results.sort_values(\"NDCG@10\", ascending=False)"
   ]
  },
  {
   "cell_type": "code",
   "execution_count": null,
   "metadata": {},
   "outputs": [],
   "source": []
  }
 ],
 "metadata": {
  "kernelspec": {
   "display_name": "Python 3",
   "language": "python",
   "name": "python3"
  },
  "language_info": {
   "codemirror_mode": {
    "name": "ipython",
    "version": 3
   },
   "file_extension": ".py",
   "mimetype": "text/x-python",
   "name": "python",
   "nbconvert_exporter": "python",
   "pygments_lexer": "ipython3",
   "version": "3.7.6"
  },
  "name": "movielens_nmf.ipynb",
  "pycharm": {
   "stem_cell": {
    "cell_type": "raw",
    "source": [
     "null"
    ],
    "metadata": {
     "collapsed": false
    }
   }
  }
 },
 "nbformat": 4,
 "nbformat_minor": 4
}