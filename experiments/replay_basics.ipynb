{
 "cells": [
  {
   "cell_type": "markdown",
   "metadata": {},
   "source": [
    "# Использование RePlay\n",
    "Данный ноутбук показывает базовый порядок работы с библиотекой.\n",
    "- загрузка датасета\n",
    "- деление на трейн и тест\n",
    "- обучение модели\n",
    "- сравнение с бейзлайном\n",
    "\n",
    "Документацию можно собрать из папки `docs` командой `make html`. Она создаст папку `_build` с документацией -- `/docs/_build/html/index.html`"
   ]
  },
  {
   "cell_type": "code",
   "execution_count": 1,
   "metadata": {
    "ExecuteTime": {
     "end_time": "2020-02-10T16:01:45.639135Z",
     "start_time": "2020-02-10T16:01:45.612577Z"
    },
    "collapsed": false,
    "jupyter": {
     "outputs_hidden": false
    },
    "pycharm": {
     "is_executing": false
    }
   },
   "outputs": [],
   "source": [
    "%load_ext autoreload\n",
    "%autoreload 2"
   ]
  },
  {
   "cell_type": "markdown",
   "metadata": {},
   "source": [
    "Целевая архитектура библиотеки - ЛД 3.0, поэтому используем Spark.\n",
    "Для отладки моделей (не на кластере) создаём локальную сессию.\n",
    "\n",
    "Объект `State` позволяет использовать одну и ту же сессию Spark в разных объектах.\n",
    "Если сессия уже инициализирована, то её нужно передать при инициализации `State`. Модули библиотеки, которым необходимо использовать спарк-сессию, например для конвертации из пандас в спарк, будут искать сессию именно в `State`.\n",
    "\n",
    "По умолчанию создастся дефолтная сессия. Простой способ получить сессию с заданным количеством выделенной памяти -- функция `get_spark_session` модуля `session_handler`."
   ]
  },
  {
   "cell_type": "code",
   "execution_count": 2,
   "metadata": {
    "ExecuteTime": {
     "end_time": "2020-02-10T15:59:09.227179Z",
     "start_time": "2020-02-10T15:59:06.427348Z"
    },
    "collapsed": false,
    "jupyter": {
     "outputs_hidden": false
    },
    "pycharm": {
     "is_executing": false
    }
   },
   "outputs": [
    {
     "data": {
      "text/html": [
       "\n",
       "            <div>\n",
       "                <p><b>SparkSession - hive</b></p>\n",
       "                \n",
       "        <div>\n",
       "            <p><b>SparkContext</b></p>\n",
       "\n",
       "            <p><a href=\"http://localhost:4040\">Spark UI</a></p>\n",
       "\n",
       "            <dl>\n",
       "              <dt>Version</dt>\n",
       "                <dd><code>v3.0.0</code></dd>\n",
       "              <dt>Master</dt>\n",
       "                <dd><code>local[*]</code></dd>\n",
       "              <dt>AppName</dt>\n",
       "                <dd><code>pyspark-shell</code></dd>\n",
       "            </dl>\n",
       "        </div>\n",
       "        \n",
       "            </div>\n",
       "        "
      ],
      "text/plain": [
       "<pyspark.sql.session.SparkSession at 0x10aadfb90>"
      ]
     },
     "execution_count": 2,
     "metadata": {},
     "output_type": "execute_result"
    }
   ],
   "source": [
    "from replay.session_handler import State\n",
    "\n",
    "spark = State().session\n",
    "spark"
   ]
  },
  {
   "cell_type": "code",
   "execution_count": 3,
   "metadata": {},
   "outputs": [],
   "source": [
    "K = 10"
   ]
  },
  {
   "cell_type": "markdown",
   "metadata": {},
   "source": [
    "## 0. Подготовка данных <a name='data-preparator'></a>\n",
    "Популярные датасеты для рекомендательных систем можно найти в библиотеке rs_datasets.\n",
    "\n",
    "Данные датасета доступны в виде `pandas.DataFrame` атрибутов объекта.\n",
    "Посмотреть доступные данные можно с помощью метода `info`."
   ]
  },
  {
   "cell_type": "code",
   "execution_count": 4,
   "metadata": {
    "ExecuteTime": {
     "end_time": "2020-02-10T15:59:42.041251Z",
     "start_time": "2020-02-10T15:59:09.230636Z"
    },
    "collapsed": false,
    "jupyter": {
     "outputs_hidden": false
    },
    "scrolled": true
   },
   "outputs": [
    {
     "data": {
      "text/html": [
       "<style type='text/css'>\n",
       ".datatable table.frame { margin-bottom: 0; }\n",
       ".datatable table.frame thead { border-bottom: none; }\n",
       ".datatable table.frame tr.coltypes td {  color: #FFFFFF;  line-height: 6px;  padding: 0 0.5em;}\n",
       ".datatable .boolean { background: #DDDD99; }\n",
       ".datatable .object  { background: #565656; }\n",
       ".datatable .integer { background: #5D9E5D; }\n",
       ".datatable .float   { background: #4040CC; }\n",
       ".datatable .string  { background: #CC4040; }\n",
       ".datatable .row_index {  background: var(--jp-border-color3);  border-right: 1px solid var(--jp-border-color0);  color: var(--jp-ui-font-color3);  font-size: 9px;}\n",
       ".datatable .frame tr.coltypes .row_index {  background: var(--jp-border-color0);}\n",
       ".datatable th:nth-child(2) { padding-left: 12px; }\n",
       ".datatable .hellipsis {  color: var(--jp-cell-editor-border-color);}\n",
       ".datatable .vellipsis {  background: var(--jp-layout-color0);  color: var(--jp-cell-editor-border-color);}\n",
       ".datatable .na {  color: var(--jp-cell-editor-border-color);  font-size: 80%;}\n",
       ".datatable .footer { font-size: 9px; }\n",
       ".datatable .frame_dimensions {  background: var(--jp-border-color3);  border-top: 1px solid var(--jp-border-color0);  color: var(--jp-ui-font-color3);  display: inline-block;  opacity: 0.6;  padding: 1px 10px 1px 5px;}\n",
       "</style>\n"
      ],
      "text/plain": [
       "<IPython.core.display.HTML object>"
      ]
     },
     "metadata": {},
     "output_type": "display_data"
    },
    {
     "name": "stdout",
     "output_type": "stream",
     "text": [
      "ratings\n"
     ]
    },
    {
     "data": {
      "text/html": [
       "<div>\n",
       "<style scoped>\n",
       "    .dataframe tbody tr th:only-of-type {\n",
       "        vertical-align: middle;\n",
       "    }\n",
       "\n",
       "    .dataframe tbody tr th {\n",
       "        vertical-align: top;\n",
       "    }\n",
       "\n",
       "    .dataframe thead th {\n",
       "        text-align: right;\n",
       "    }\n",
       "</style>\n",
       "<table border=\"1\" class=\"dataframe\">\n",
       "  <thead>\n",
       "    <tr style=\"text-align: right;\">\n",
       "      <th></th>\n",
       "      <th>user_id</th>\n",
       "      <th>item_id</th>\n",
       "      <th>rating</th>\n",
       "      <th>timestamp</th>\n",
       "    </tr>\n",
       "  </thead>\n",
       "  <tbody>\n",
       "    <tr>\n",
       "      <th>0</th>\n",
       "      <td>1</td>\n",
       "      <td>1193</td>\n",
       "      <td>5</td>\n",
       "      <td>978300760</td>\n",
       "    </tr>\n",
       "    <tr>\n",
       "      <th>1</th>\n",
       "      <td>1</td>\n",
       "      <td>661</td>\n",
       "      <td>3</td>\n",
       "      <td>978302109</td>\n",
       "    </tr>\n",
       "    <tr>\n",
       "      <th>2</th>\n",
       "      <td>1</td>\n",
       "      <td>914</td>\n",
       "      <td>3</td>\n",
       "      <td>978301968</td>\n",
       "    </tr>\n",
       "  </tbody>\n",
       "</table>\n",
       "</div>"
      ],
      "text/plain": [
       "   user_id  item_id  rating  timestamp\n",
       "0        1     1193       5  978300760\n",
       "1        1      661       3  978302109\n",
       "2        1      914       3  978301968"
      ]
     },
     "metadata": {},
     "output_type": "display_data"
    },
    {
     "name": "stdout",
     "output_type": "stream",
     "text": [
      "\n",
      "users\n"
     ]
    },
    {
     "data": {
      "text/html": [
       "<div>\n",
       "<style scoped>\n",
       "    .dataframe tbody tr th:only-of-type {\n",
       "        vertical-align: middle;\n",
       "    }\n",
       "\n",
       "    .dataframe tbody tr th {\n",
       "        vertical-align: top;\n",
       "    }\n",
       "\n",
       "    .dataframe thead th {\n",
       "        text-align: right;\n",
       "    }\n",
       "</style>\n",
       "<table border=\"1\" class=\"dataframe\">\n",
       "  <thead>\n",
       "    <tr style=\"text-align: right;\">\n",
       "      <th></th>\n",
       "      <th>user_id</th>\n",
       "      <th>gender</th>\n",
       "      <th>age</th>\n",
       "      <th>occupation</th>\n",
       "      <th>zip_code</th>\n",
       "    </tr>\n",
       "  </thead>\n",
       "  <tbody>\n",
       "    <tr>\n",
       "      <th>0</th>\n",
       "      <td>1</td>\n",
       "      <td>F</td>\n",
       "      <td>1</td>\n",
       "      <td>10</td>\n",
       "      <td>48067</td>\n",
       "    </tr>\n",
       "    <tr>\n",
       "      <th>1</th>\n",
       "      <td>2</td>\n",
       "      <td>M</td>\n",
       "      <td>56</td>\n",
       "      <td>16</td>\n",
       "      <td>70072</td>\n",
       "    </tr>\n",
       "    <tr>\n",
       "      <th>2</th>\n",
       "      <td>3</td>\n",
       "      <td>M</td>\n",
       "      <td>25</td>\n",
       "      <td>15</td>\n",
       "      <td>55117</td>\n",
       "    </tr>\n",
       "  </tbody>\n",
       "</table>\n",
       "</div>"
      ],
      "text/plain": [
       "   user_id gender  age  occupation zip_code\n",
       "0        1      F    1          10    48067\n",
       "1        2      M   56          16    70072\n",
       "2        3      M   25          15    55117"
      ]
     },
     "metadata": {},
     "output_type": "display_data"
    },
    {
     "name": "stdout",
     "output_type": "stream",
     "text": [
      "\n",
      "items\n"
     ]
    },
    {
     "data": {
      "text/html": [
       "<div>\n",
       "<style scoped>\n",
       "    .dataframe tbody tr th:only-of-type {\n",
       "        vertical-align: middle;\n",
       "    }\n",
       "\n",
       "    .dataframe tbody tr th {\n",
       "        vertical-align: top;\n",
       "    }\n",
       "\n",
       "    .dataframe thead th {\n",
       "        text-align: right;\n",
       "    }\n",
       "</style>\n",
       "<table border=\"1\" class=\"dataframe\">\n",
       "  <thead>\n",
       "    <tr style=\"text-align: right;\">\n",
       "      <th></th>\n",
       "      <th>item_id</th>\n",
       "      <th>title</th>\n",
       "      <th>genres</th>\n",
       "    </tr>\n",
       "  </thead>\n",
       "  <tbody>\n",
       "    <tr>\n",
       "      <th>0</th>\n",
       "      <td>1</td>\n",
       "      <td>Toy Story (1995)</td>\n",
       "      <td>Animation|Children's|Comedy</td>\n",
       "    </tr>\n",
       "    <tr>\n",
       "      <th>1</th>\n",
       "      <td>2</td>\n",
       "      <td>Jumanji (1995)</td>\n",
       "      <td>Adventure|Children's|Fantasy</td>\n",
       "    </tr>\n",
       "    <tr>\n",
       "      <th>2</th>\n",
       "      <td>3</td>\n",
       "      <td>Grumpier Old Men (1995)</td>\n",
       "      <td>Comedy|Romance</td>\n",
       "    </tr>\n",
       "  </tbody>\n",
       "</table>\n",
       "</div>"
      ],
      "text/plain": [
       "   item_id                    title                        genres\n",
       "0        1         Toy Story (1995)   Animation|Children's|Comedy\n",
       "1        2           Jumanji (1995)  Adventure|Children's|Fantasy\n",
       "2        3  Grumpier Old Men (1995)                Comedy|Romance"
      ]
     },
     "metadata": {},
     "output_type": "display_data"
    },
    {
     "name": "stdout",
     "output_type": "stream",
     "text": [
      "\n"
     ]
    }
   ],
   "source": [
    "from rs_datasets import MovieLens\n",
    "\n",
    "data = MovieLens(\"1m\")\n",
    "data.info()"
   ]
  },
  {
   "cell_type": "markdown",
   "metadata": {},
   "source": [
    "### 0.1. DataPreparator"
   ]
  },
  {
   "cell_type": "markdown",
   "metadata": {},
   "source": [
    "Внутренний формат данных в библиотеке - spark dataframe.\n",
    "Модели replay ожидают на вход pandas или spark dataframe, содержащий обязательные столбцы item_id, user_id. Для некоторых моделей обязательно наличие столбца relevance, содержащего оценки релевантности объектов для пользователей.\n",
    "Для разбиения данных по времени с помощью Splitter и фильтров в логе должен присутсововать столбец timestamp.\n",
    "\n",
    "В replay есть DataPreparator, который автоматически конвертирует pandas и spark dataframe c логом в нужный формат (переименование/создание обязательных столбцов, корректное чтение дат, проверка отсутствия пропусков). DataPreparetor может конвертировать dataframe с признаками пользователей/объектов (нужно указать один из столбцов, соответсвующий user_id/item_id.\n",
    "\n",
    "Также конвертировать pandas dataframes в spark можно с помощью вспомогательной функции convert_to_spark."
   ]
  },
  {
   "cell_type": "code",
   "execution_count": 5,
   "metadata": {
    "collapsed": false,
    "jupyter": {
     "outputs_hidden": false
    }
   },
   "outputs": [],
   "source": [
    "from replay.data_preparator import DataPreparator\n",
    "\n",
    "log = DataPreparator().transform(\n",
    "    data=data.ratings,\n",
    "    columns_names={\n",
    "        \"user_id\": \"user_id\",\n",
    "        \"item_id\": \"item_id\",\n",
    "        \"relevance\": \"rating\",\n",
    "        \"timestamp\": \"timestamp\"\n",
    "    }\n",
    ")"
   ]
  },
  {
   "cell_type": "code",
   "execution_count": 6,
   "metadata": {},
   "outputs": [
    {
     "name": "stdout",
     "output_type": "stream",
     "text": [
      "+-------+-------+---------+-------------------+\n",
      "|user_id|item_id|relevance|          timestamp|\n",
      "+-------+-------+---------+-------------------+\n",
      "|      1|   1193|      5.0|2001-01-01 01:12:40|\n",
      "|      1|    661|      3.0|2001-01-01 01:35:09|\n",
      "|      1|    914|      3.0|2001-01-01 01:32:48|\n",
      "+-------+-------+---------+-------------------+\n",
      "only showing top 3 rows\n",
      "\n"
     ]
    }
   ],
   "source": [
    "log.show(3)"
   ]
  },
  {
   "cell_type": "code",
   "execution_count": 7,
   "metadata": {},
   "outputs": [],
   "source": [
    "from replay.utils import convert2spark\n",
    "items = convert2spark(data.users)"
   ]
  },
  {
   "cell_type": "markdown",
   "metadata": {},
   "source": [
    "### 0.2. Split"
   ]
  },
  {
   "cell_type": "markdown",
   "metadata": {},
   "source": [
    "Библиотека содержит различные схемы валидации рекомендательных систем, встречающиеся в литературе.\n",
    "\n",
    "`UserSplitter` отбирает для теста некоторое количество или долю объектов для каждого пользователя."
   ]
  },
  {
   "cell_type": "code",
   "execution_count": 8,
   "metadata": {
    "ExecuteTime": {
     "end_time": "2020-02-10T15:59:50.986401Z",
     "start_time": "2020-02-10T15:59:42.042998Z"
    },
    "collapsed": false,
    "jupyter": {
     "outputs_hidden": false
    }
   },
   "outputs": [
    {
     "data": {
      "text/plain": [
       "(999709, 500)"
      ]
     },
     "execution_count": 8,
     "metadata": {},
     "output_type": "execute_result"
    }
   ],
   "source": [
    "from replay.splitters import UserSplitter\n",
    "\n",
    "splitter = UserSplitter(\n",
    "    drop_cold_items=True,\n",
    "    drop_cold_users=True,\n",
    "    item_test_size=1,\n",
    "    user_test_size=500,\n",
    "    seed=1234,\n",
    "    shuffle=True\n",
    ")\n",
    "train, test = splitter.split(log)\n",
    "(\n",
    "    train.count(), \n",
    "    test.count()\n",
    ")"
   ]
  },
  {
   "cell_type": "markdown",
   "metadata": {},
   "source": [
    "## 1. Обучение модели \n",
    "\n",
    "#### SLIM\n",
    "Один из простых, но эффективных алгоритмов "
   ]
  },
  {
   "cell_type": "code",
   "execution_count": 9,
   "metadata": {},
   "outputs": [
    {
     "name": "stderr",
     "output_type": "stream",
     "text": [
      "/Users/a18785698/Documents/code_dir/base_replay_376/lib/python3.7/site-packages/lightfm/_lightfm_fast.py:9: UserWarning: LightFM was compiled without OpenMP support. Only a single thread will be used.\n",
      "  warnings.warn('LightFM was compiled without OpenMP support. '\n"
     ]
    }
   ],
   "source": [
    "from replay.models import SLIM\n",
    "\n",
    "slim = SLIM(lambda_=0.01, beta=0.3)"
   ]
  },
  {
   "cell_type": "code",
   "execution_count": 10,
   "metadata": {},
   "outputs": [
    {
     "name": "stderr",
     "output_type": "stream",
     "text": [
      "01-Feb-21 15:00:00, replay, DEBUG: Начало обучения SLIM\n",
      "DEBUG:replay:Начало обучения SLIM\n",
      "01-Feb-21 15:00:00, replay, DEBUG: Предварительная стадия обучения (pre-fit)\n",
      "DEBUG:replay:Предварительная стадия обучения (pre-fit)\n",
      "01-Feb-21 15:00:04, replay, DEBUG: Основная стадия обучения (fit)\n",
      "DEBUG:replay:Основная стадия обучения (fit)\n"
     ]
    },
    {
     "name": "stdout",
     "output_type": "stream",
     "text": [
      "CPU times: user 3.52 s, sys: 210 ms, total: 3.73 s\n",
      "Wall time: 14.3 s\n"
     ]
    }
   ],
   "source": [
    "%%time\n",
    "\n",
    "slim.fit(log=train)"
   ]
  },
  {
   "cell_type": "code",
   "execution_count": 11,
   "metadata": {},
   "outputs": [
    {
     "name": "stderr",
     "output_type": "stream",
     "text": [
      "01-Feb-21 15:00:14, replay, DEBUG: Начало предикта SLIM\n",
      "DEBUG:replay:Начало предикта SLIM\n"
     ]
    },
    {
     "name": "stdout",
     "output_type": "stream",
     "text": [
      "CPU times: user 1.52 s, sys: 260 ms, total: 1.78 s\n",
      "Wall time: 11.1 s\n"
     ]
    }
   ],
   "source": [
    "%%time\n",
    "\n",
    "recs = slim.predict(\n",
    "    k=K,\n",
    "    users=test.select('user_id').distinct(),\n",
    "    items=test.select('item_id').distinct(),\n",
    "    log=train,\n",
    "    filter_seen_items=True\n",
    ")"
   ]
  },
  {
   "cell_type": "markdown",
   "metadata": {},
   "source": [
    "## 2. Оценка качества и сравнение результатов моделей"
   ]
  },
  {
   "cell_type": "markdown",
   "metadata": {},
   "source": [
    "В библиотеке реализованы различные метрики качества рекомендательных систем, встречающихся в литературе.\n",
    "Их можно использовать напрямую, либо запоминать результаты с помощью класса `Experiment`."
   ]
  },
  {
   "cell_type": "code",
   "execution_count": 12,
   "metadata": {
    "ExecuteTime": {
     "end_time": "2020-02-10T16:07:28.942205Z",
     "start_time": "2020-02-10T16:07:26.281475Z"
    },
    "collapsed": false,
    "jupyter": {
     "outputs_hidden": false
    }
   },
   "outputs": [],
   "source": [
    "from replay.metrics import HitRate, NDCG, MAP\n",
    "from replay.experiment import Experiment\n",
    "\n",
    "metrics = Experiment(test, {NDCG(): K,\n",
    "                            MAP() : K,\n",
    "                            HitRate(): [1, int(K/2), K]})\n"
   ]
  },
  {
   "cell_type": "code",
   "execution_count": 13,
   "metadata": {},
   "outputs": [
    {
     "name": "stdout",
     "output_type": "stream",
     "text": [
      "CPU times: user 150 ms, sys: 52.1 ms, total: 202 ms\n",
      "Wall time: 1min 37s\n"
     ]
    },
    {
     "data": {
      "text/html": [
       "<div>\n",
       "<style scoped>\n",
       "    .dataframe tbody tr th:only-of-type {\n",
       "        vertical-align: middle;\n",
       "    }\n",
       "\n",
       "    .dataframe tbody tr th {\n",
       "        vertical-align: top;\n",
       "    }\n",
       "\n",
       "    .dataframe thead th {\n",
       "        text-align: right;\n",
       "    }\n",
       "</style>\n",
       "<table border=\"1\" class=\"dataframe\">\n",
       "  <thead>\n",
       "    <tr style=\"text-align: right;\">\n",
       "      <th></th>\n",
       "      <th>HitRate@1</th>\n",
       "      <th>HitRate@5</th>\n",
       "      <th>HitRate@10</th>\n",
       "      <th>MAP@10</th>\n",
       "      <th>NDCG@10</th>\n",
       "    </tr>\n",
       "  </thead>\n",
       "  <tbody>\n",
       "    <tr>\n",
       "      <th>SLIM</th>\n",
       "      <td>0.072</td>\n",
       "      <td>0.224</td>\n",
       "      <td>0.334</td>\n",
       "      <td>0.136348</td>\n",
       "      <td>0.18225</td>\n",
       "    </tr>\n",
       "  </tbody>\n",
       "</table>\n",
       "</div>"
      ],
      "text/plain": [
       "      HitRate@1  HitRate@5  HitRate@10    MAP@10  NDCG@10\n",
       "SLIM      0.072      0.224       0.334  0.136348  0.18225"
      ]
     },
     "execution_count": 13,
     "metadata": {},
     "output_type": "execute_result"
    }
   ],
   "source": [
    "%%time\n",
    "metrics.add_result(\"SLIM\", recs)\n",
    "metrics.results"
   ]
  },
  {
   "cell_type": "markdown",
   "metadata": {},
   "source": [
    "## 3. Конвертация в pandas"
   ]
  },
  {
   "cell_type": "code",
   "execution_count": 14,
   "metadata": {},
   "outputs": [
    {
     "data": {
      "text/html": [
       "<div>\n",
       "<style scoped>\n",
       "    .dataframe tbody tr th:only-of-type {\n",
       "        vertical-align: middle;\n",
       "    }\n",
       "\n",
       "    .dataframe tbody tr th {\n",
       "        vertical-align: top;\n",
       "    }\n",
       "\n",
       "    .dataframe thead th {\n",
       "        text-align: right;\n",
       "    }\n",
       "</style>\n",
       "<table border=\"1\" class=\"dataframe\">\n",
       "  <thead>\n",
       "    <tr style=\"text-align: right;\">\n",
       "      <th></th>\n",
       "      <th>user_id</th>\n",
       "      <th>item_id</th>\n",
       "      <th>relevance</th>\n",
       "    </tr>\n",
       "  </thead>\n",
       "  <tbody>\n",
       "    <tr>\n",
       "      <th>0</th>\n",
       "      <td>1018</td>\n",
       "      <td>1200</td>\n",
       "      <td>0.819725</td>\n",
       "    </tr>\n",
       "    <tr>\n",
       "      <th>1</th>\n",
       "      <td>1018</td>\n",
       "      <td>1221</td>\n",
       "      <td>0.763315</td>\n",
       "    </tr>\n",
       "    <tr>\n",
       "      <th>2</th>\n",
       "      <td>1018</td>\n",
       "      <td>10</td>\n",
       "      <td>0.667240</td>\n",
       "    </tr>\n",
       "  </tbody>\n",
       "</table>\n",
       "</div>"
      ],
      "text/plain": [
       "  user_id item_id  relevance\n",
       "0    1018    1200   0.819725\n",
       "1    1018    1221   0.763315\n",
       "2    1018      10   0.667240"
      ]
     },
     "execution_count": 14,
     "metadata": {},
     "output_type": "execute_result"
    }
   ],
   "source": [
    "recs_pd = recs.toPandas()\n",
    "recs_pd.head(3)"
   ]
  },
  {
   "cell_type": "markdown",
   "metadata": {},
   "source": [
    "## 4. Примеры использования других моделей RePlay"
   ]
  },
  {
   "cell_type": "markdown",
   "metadata": {},
   "source": [
    "#### ALS\n",
    "Библиотека также содержит классические алгоритмы рекомендаций, например, матричную факторизацию"
   ]
  },
  {
   "cell_type": "code",
   "execution_count": 17,
   "metadata": {
    "collapsed": false,
    "jupyter": {
     "outputs_hidden": false
    }
   },
   "outputs": [],
   "source": [
    "from replay.models import ALSWrap\n",
    "\n",
    "als = ALSWrap(rank=100)"
   ]
  },
  {
   "cell_type": "code",
   "execution_count": 18,
   "metadata": {
    "collapsed": false,
    "jupyter": {
     "outputs_hidden": false
    }
   },
   "outputs": [
    {
     "name": "stderr",
     "output_type": "stream",
     "text": [
      "01-Feb-21 15:05:47, replay, DEBUG: Начало обучения ALSWrap\n",
      "DEBUG:replay:Начало обучения ALSWrap\n",
      "01-Feb-21 15:05:47, replay, DEBUG: Предварительная стадия обучения (pre-fit)\n",
      "DEBUG:replay:Предварительная стадия обучения (pre-fit)\n",
      "01-Feb-21 15:05:48, replay, DEBUG: Основная стадия обучения (fit)\n",
      "DEBUG:replay:Основная стадия обучения (fit)\n"
     ]
    },
    {
     "name": "stdout",
     "output_type": "stream",
     "text": [
      "CPU times: user 315 ms, sys: 52.5 ms, total: 368 ms\n",
      "Wall time: 1min 14s\n"
     ]
    }
   ],
   "source": [
    "%%time\n",
    "als.fit(log=train)"
   ]
  },
  {
   "cell_type": "code",
   "execution_count": 19,
   "metadata": {
    "collapsed": false,
    "jupyter": {
     "outputs_hidden": false
    }
   },
   "outputs": [
    {
     "name": "stderr",
     "output_type": "stream",
     "text": [
      "01-Feb-21 15:07:01, replay, DEBUG: Начало предикта ALSWrap\n",
      "DEBUG:replay:Начало предикта ALSWrap\n"
     ]
    },
    {
     "name": "stdout",
     "output_type": "stream",
     "text": [
      "CPU times: user 1.53 s, sys: 283 ms, total: 1.82 s\n",
      "Wall time: 8.9 s\n"
     ]
    }
   ],
   "source": [
    "%%time\n",
    "recs = als.predict(\n",
    "    k=K,\n",
    "    users=test.select('user_id').distinct(),\n",
    "    items=test.select('item_id').distinct(),\n",
    "    log=train,\n",
    "    filter_seen_items=True\n",
    ")"
   ]
  },
  {
   "cell_type": "code",
   "execution_count": 20,
   "metadata": {
    "collapsed": false,
    "jupyter": {
     "outputs_hidden": false
    }
   },
   "outputs": [
    {
     "name": "stdout",
     "output_type": "stream",
     "text": [
      "CPU times: user 173 ms, sys: 63.7 ms, total: 236 ms\n",
      "Wall time: 22.7 s\n"
     ]
    },
    {
     "data": {
      "text/html": [
       "<div>\n",
       "<style scoped>\n",
       "    .dataframe tbody tr th:only-of-type {\n",
       "        vertical-align: middle;\n",
       "    }\n",
       "\n",
       "    .dataframe tbody tr th {\n",
       "        vertical-align: top;\n",
       "    }\n",
       "\n",
       "    .dataframe thead th {\n",
       "        text-align: right;\n",
       "    }\n",
       "</style>\n",
       "<table border=\"1\" class=\"dataframe\">\n",
       "  <thead>\n",
       "    <tr style=\"text-align: right;\">\n",
       "      <th></th>\n",
       "      <th>HitRate@1</th>\n",
       "      <th>HitRate@5</th>\n",
       "      <th>HitRate@10</th>\n",
       "      <th>MAP@10</th>\n",
       "      <th>NDCG@10</th>\n",
       "    </tr>\n",
       "  </thead>\n",
       "  <tbody>\n",
       "    <tr>\n",
       "      <th>SLIM</th>\n",
       "      <td>0.072</td>\n",
       "      <td>0.224</td>\n",
       "      <td>0.334</td>\n",
       "      <td>0.136348</td>\n",
       "      <td>0.18225</td>\n",
       "    </tr>\n",
       "    <tr>\n",
       "      <th>ALS</th>\n",
       "      <td>0.064</td>\n",
       "      <td>0.258</td>\n",
       "      <td>0.376</td>\n",
       "      <td>0.149850</td>\n",
       "      <td>0.20300</td>\n",
       "    </tr>\n",
       "  </tbody>\n",
       "</table>\n",
       "</div>"
      ],
      "text/plain": [
       "      HitRate@1  HitRate@5  HitRate@10    MAP@10  NDCG@10\n",
       "SLIM      0.072      0.224       0.334  0.136348  0.18225\n",
       "ALS       0.064      0.258       0.376  0.149850  0.20300"
      ]
     },
     "execution_count": 20,
     "metadata": {},
     "output_type": "execute_result"
    }
   ],
   "source": [
    "%%time\n",
    "metrics.add_result(\"ALS\", recs)\n",
    "metrics.results"
   ]
  },
  {
   "cell_type": "markdown",
   "metadata": {},
   "source": [
    "#### MultVAE \n",
    "Пример использования DL в рекомендациях"
   ]
  },
  {
   "cell_type": "code",
   "execution_count": 21,
   "metadata": {
    "ExecuteTime": {
     "end_time": "2020-02-10T15:59:51.024567Z",
     "start_time": "2020-02-10T15:59:50.988776Z"
    }
   },
   "outputs": [],
   "source": [
    "from replay.models import MultVAE\n",
    "\n",
    "multvae = MultVAE(epochs=500)"
   ]
  },
  {
   "cell_type": "code",
   "execution_count": 22,
   "metadata": {
    "ExecuteTime": {
     "end_time": "2020-02-10T16:06:06.306042Z",
     "start_time": "2020-02-10T16:01:52.107394Z"
    },
    "collapsed": false,
    "jupyter": {
     "outputs_hidden": false
    }
   },
   "outputs": [
    {
     "name": "stderr",
     "output_type": "stream",
     "text": [
      "01-Feb-21 15:07:33, replay, DEBUG: Начало обучения MultVAE\n",
      "DEBUG:replay:Начало обучения MultVAE\n",
      "01-Feb-21 15:07:33, replay, DEBUG: Предварительная стадия обучения (pre-fit)\n",
      "DEBUG:replay:Предварительная стадия обучения (pre-fit)\n",
      "01-Feb-21 15:07:34, replay, DEBUG: Основная стадия обучения (fit)\n",
      "DEBUG:replay:Основная стадия обучения (fit)\n",
      "01-Feb-21 15:07:37, replay, DEBUG: Составление батча:\n",
      "DEBUG:replay:Составление батча:\n",
      "01-Feb-21 15:07:39, replay, DEBUG: Обучение модели\n",
      "DEBUG:replay:Обучение модели\n",
      "01-Feb-21 15:07:41, replay, DEBUG: Epoch[1] current loss: 1352.93728\n",
      "DEBUG:replay:Epoch[1] current loss: 1352.93728\n",
      "01-Feb-21 15:07:41, replay, DEBUG: Epoch[1] validation average loss: 1479.71289\n",
      "DEBUG:replay:Epoch[1] validation average loss: 1479.71289\n",
      "01-Feb-21 15:07:43, replay, DEBUG: Epoch[2] current loss: 1248.29758\n",
      "DEBUG:replay:Epoch[2] current loss: 1248.29758\n",
      "01-Feb-21 15:07:43, replay, DEBUG: Epoch[2] validation average loss: 1478.76685\n",
      "DEBUG:replay:Epoch[2] validation average loss: 1478.76685\n",
      "01-Feb-21 15:07:45, replay, DEBUG: Epoch[3] current loss: 1269.29795\n",
      "DEBUG:replay:Epoch[3] current loss: 1269.29795\n",
      "01-Feb-21 15:07:45, replay, DEBUG: Epoch[3] validation average loss: 1441.87048\n",
      "DEBUG:replay:Epoch[3] validation average loss: 1441.87048\n",
      "01-Feb-21 15:07:47, replay, DEBUG: Epoch[4] current loss: 1245.53750\n",
      "DEBUG:replay:Epoch[4] current loss: 1245.53750\n",
      "01-Feb-21 15:07:47, replay, DEBUG: Epoch[4] validation average loss: 1415.15222\n",
      "DEBUG:replay:Epoch[4] validation average loss: 1415.15222\n",
      "01-Feb-21 15:07:49, replay, DEBUG: Epoch[5] current loss: 1240.74090\n",
      "DEBUG:replay:Epoch[5] current loss: 1240.74090\n",
      "01-Feb-21 15:07:49, replay, DEBUG: Epoch[5] validation average loss: 1408.18542\n",
      "DEBUG:replay:Epoch[5] validation average loss: 1408.18542\n",
      "01-Feb-21 15:07:51, replay, DEBUG: Epoch[6] current loss: 1233.10173\n",
      "DEBUG:replay:Epoch[6] current loss: 1233.10173\n",
      "01-Feb-21 15:07:51, replay, DEBUG: Epoch[6] validation average loss: 1400.52454\n",
      "DEBUG:replay:Epoch[6] validation average loss: 1400.52454\n",
      "01-Feb-21 15:07:53, replay, DEBUG: Epoch[7] current loss: 1228.66309\n",
      "DEBUG:replay:Epoch[7] current loss: 1228.66309\n",
      "01-Feb-21 15:07:53, replay, DEBUG: Epoch[7] validation average loss: 1420.91223\n",
      "DEBUG:replay:Epoch[7] validation average loss: 1420.91223\n",
      "01-Feb-21 15:07:55, replay, DEBUG: Epoch[8] current loss: 1228.40748\n",
      "DEBUG:replay:Epoch[8] current loss: 1228.40748\n",
      "01-Feb-21 15:07:55, replay, DEBUG: Epoch[8] validation average loss: 1429.47571\n",
      "DEBUG:replay:Epoch[8] validation average loss: 1429.47571\n",
      "01-Feb-21 15:07:57, replay, DEBUG: Epoch[9] current loss: 1228.82146\n",
      "DEBUG:replay:Epoch[9] current loss: 1228.82146\n",
      "01-Feb-21 15:07:57, replay, DEBUG: Epoch[9] validation average loss: 1410.61560\n",
      "DEBUG:replay:Epoch[9] validation average loss: 1410.61560\n",
      "01-Feb-21 15:07:59, replay, DEBUG: Epoch[10] current loss: 1215.95318\n",
      "DEBUG:replay:Epoch[10] current loss: 1215.95318\n",
      "01-Feb-21 15:07:59, replay, DEBUG: Epoch[10] validation average loss: 1405.30872\n",
      "DEBUG:replay:Epoch[10] validation average loss: 1405.30872\n",
      "01-Feb-21 15:08:01, replay, DEBUG: Epoch[11] current loss: 1224.11630\n",
      "DEBUG:replay:Epoch[11] current loss: 1224.11630\n",
      "01-Feb-21 15:08:01, replay, DEBUG: Epoch[11] validation average loss: 1403.94397\n",
      "DEBUG:replay:Epoch[11] validation average loss: 1403.94397\n",
      "01-Feb-21 15:08:03, replay, DEBUG: Epoch[12] current loss: 1222.09738\n",
      "DEBUG:replay:Epoch[12] current loss: 1222.09738\n",
      "01-Feb-21 15:08:03, replay, DEBUG: Epoch[12] validation average loss: 1402.94006\n",
      "DEBUG:replay:Epoch[12] validation average loss: 1402.94006\n",
      "01-Feb-21 15:08:05, replay, DEBUG: Epoch[13] current loss: 1212.03974\n",
      "DEBUG:replay:Epoch[13] current loss: 1212.03974\n",
      "01-Feb-21 15:08:05, replay, DEBUG: Epoch[13] validation average loss: 1387.98755\n",
      "DEBUG:replay:Epoch[13] validation average loss: 1387.98755\n",
      "01-Feb-21 15:08:07, replay, DEBUG: Epoch[14] current loss: 1212.95969\n",
      "DEBUG:replay:Epoch[14] current loss: 1212.95969\n",
      "01-Feb-21 15:08:07, replay, DEBUG: Epoch[14] validation average loss: 1372.33752\n",
      "DEBUG:replay:Epoch[14] validation average loss: 1372.33752\n",
      "01-Feb-21 15:08:08, replay, DEBUG: Epoch[15] current loss: 1209.95284\n",
      "DEBUG:replay:Epoch[15] current loss: 1209.95284\n",
      "01-Feb-21 15:08:09, replay, DEBUG: Epoch[15] validation average loss: 1362.26953\n",
      "DEBUG:replay:Epoch[15] validation average loss: 1362.26953\n",
      "01-Feb-21 15:08:10, replay, DEBUG: Epoch[16] current loss: 1202.62368\n",
      "DEBUG:replay:Epoch[16] current loss: 1202.62368\n",
      "01-Feb-21 15:08:10, replay, DEBUG: Epoch[16] validation average loss: 1353.66296\n",
      "DEBUG:replay:Epoch[16] validation average loss: 1353.66296\n",
      "01-Feb-21 15:08:12, replay, DEBUG: Epoch[17] current loss: 1197.00275\n",
      "DEBUG:replay:Epoch[17] current loss: 1197.00275\n",
      "01-Feb-21 15:08:12, replay, DEBUG: Epoch[17] validation average loss: 1345.59180\n",
      "DEBUG:replay:Epoch[17] validation average loss: 1345.59180\n",
      "01-Feb-21 15:08:14, replay, DEBUG: Epoch[18] current loss: 1194.25771\n",
      "DEBUG:replay:Epoch[18] current loss: 1194.25771\n",
      "01-Feb-21 15:08:14, replay, DEBUG: Epoch[18] validation average loss: 1341.84875\n",
      "DEBUG:replay:Epoch[18] validation average loss: 1341.84875\n",
      "01-Feb-21 15:08:16, replay, DEBUG: Epoch[19] current loss: 1192.67838\n",
      "DEBUG:replay:Epoch[19] current loss: 1192.67838\n",
      "01-Feb-21 15:08:16, replay, DEBUG: Epoch[19] validation average loss: 1338.45703\n",
      "DEBUG:replay:Epoch[19] validation average loss: 1338.45703\n",
      "01-Feb-21 15:08:18, replay, DEBUG: Epoch[20] current loss: 1192.53306\n",
      "DEBUG:replay:Epoch[20] current loss: 1192.53306\n",
      "01-Feb-21 15:08:18, replay, DEBUG: Epoch[20] validation average loss: 1335.95886\n",
      "DEBUG:replay:Epoch[20] validation average loss: 1335.95886\n",
      "01-Feb-21 15:08:20, replay, DEBUG: Epoch[21] current loss: 1193.39758\n",
      "DEBUG:replay:Epoch[21] current loss: 1193.39758\n",
      "01-Feb-21 15:08:20, replay, DEBUG: Epoch[21] validation average loss: 1334.07581\n",
      "DEBUG:replay:Epoch[21] validation average loss: 1334.07581\n",
      "01-Feb-21 15:08:22, replay, DEBUG: Epoch[22] current loss: 1184.20111\n",
      "DEBUG:replay:Epoch[22] current loss: 1184.20111\n",
      "01-Feb-21 15:08:22, replay, DEBUG: Epoch[22] validation average loss: 1332.10181\n",
      "DEBUG:replay:Epoch[22] validation average loss: 1332.10181\n",
      "01-Feb-21 15:08:24, replay, DEBUG: Epoch[23] current loss: 1180.52848\n",
      "DEBUG:replay:Epoch[23] current loss: 1180.52848\n",
      "01-Feb-21 15:08:24, replay, DEBUG: Epoch[23] validation average loss: 1328.43347\n",
      "DEBUG:replay:Epoch[23] validation average loss: 1328.43347\n",
      "01-Feb-21 15:08:26, replay, DEBUG: Epoch[24] current loss: 1182.24932\n",
      "DEBUG:replay:Epoch[24] current loss: 1182.24932\n",
      "01-Feb-21 15:08:26, replay, DEBUG: Epoch[24] validation average loss: 1328.06067\n",
      "DEBUG:replay:Epoch[24] validation average loss: 1328.06067\n",
      "01-Feb-21 15:08:28, replay, DEBUG: Epoch[25] current loss: 1178.31263\n",
      "DEBUG:replay:Epoch[25] current loss: 1178.31263\n",
      "01-Feb-21 15:08:28, replay, DEBUG: Epoch[25] validation average loss: 1327.61292\n",
      "DEBUG:replay:Epoch[25] validation average loss: 1327.61292\n",
      "01-Feb-21 15:08:29, replay, DEBUG: Epoch[26] current loss: 1172.87805\n",
      "DEBUG:replay:Epoch[26] current loss: 1172.87805\n",
      "01-Feb-21 15:08:30, replay, DEBUG: Epoch[26] validation average loss: 1323.43164\n",
      "DEBUG:replay:Epoch[26] validation average loss: 1323.43164\n",
      "01-Feb-21 15:08:31, replay, DEBUG: Epoch[27] current loss: 1175.66370\n",
      "DEBUG:replay:Epoch[27] current loss: 1175.66370\n",
      "01-Feb-21 15:08:31, replay, DEBUG: Epoch[27] validation average loss: 1322.21948\n",
      "DEBUG:replay:Epoch[27] validation average loss: 1322.21948\n",
      "01-Feb-21 15:08:33, replay, DEBUG: Epoch[28] current loss: 1172.43250\n",
      "DEBUG:replay:Epoch[28] current loss: 1172.43250\n",
      "01-Feb-21 15:08:33, replay, DEBUG: Epoch[28] validation average loss: 1318.86121\n",
      "DEBUG:replay:Epoch[28] validation average loss: 1318.86121\n",
      "01-Feb-21 15:08:35, replay, DEBUG: Epoch[29] current loss: 1168.48783\n",
      "DEBUG:replay:Epoch[29] current loss: 1168.48783\n",
      "01-Feb-21 15:08:35, replay, DEBUG: Epoch[29] validation average loss: 1319.62952\n",
      "DEBUG:replay:Epoch[29] validation average loss: 1319.62952\n",
      "01-Feb-21 15:08:37, replay, DEBUG: Epoch[30] current loss: 1168.71019\n",
      "DEBUG:replay:Epoch[30] current loss: 1168.71019\n",
      "01-Feb-21 15:08:37, replay, DEBUG: Epoch[30] validation average loss: 1314.99634\n",
      "DEBUG:replay:Epoch[30] validation average loss: 1314.99634\n",
      "01-Feb-21 15:08:39, replay, DEBUG: Epoch[31] current loss: 1168.95402\n",
      "DEBUG:replay:Epoch[31] current loss: 1168.95402\n",
      "01-Feb-21 15:08:39, replay, DEBUG: Epoch[31] validation average loss: 1311.41345\n",
      "DEBUG:replay:Epoch[31] validation average loss: 1311.41345\n",
      "01-Feb-21 15:08:41, replay, DEBUG: Epoch[32] current loss: 1163.08594\n",
      "DEBUG:replay:Epoch[32] current loss: 1163.08594\n",
      "01-Feb-21 15:08:41, replay, DEBUG: Epoch[32] validation average loss: 1309.87488\n",
      "DEBUG:replay:Epoch[32] validation average loss: 1309.87488\n",
      "01-Feb-21 15:08:42, replay, DEBUG: Epoch[33] current loss: 1166.21550\n",
      "DEBUG:replay:Epoch[33] current loss: 1166.21550\n",
      "01-Feb-21 15:08:43, replay, DEBUG: Epoch[33] validation average loss: 1306.61609\n",
      "DEBUG:replay:Epoch[33] validation average loss: 1306.61609\n",
      "01-Feb-21 15:08:44, replay, DEBUG: Epoch[34] current loss: 1162.77236\n",
      "DEBUG:replay:Epoch[34] current loss: 1162.77236\n",
      "01-Feb-21 15:08:44, replay, DEBUG: Epoch[34] validation average loss: 1305.31384\n",
      "DEBUG:replay:Epoch[34] validation average loss: 1305.31384\n",
      "01-Feb-21 15:08:46, replay, DEBUG: Epoch[35] current loss: 1170.13238\n",
      "DEBUG:replay:Epoch[35] current loss: 1170.13238\n",
      "01-Feb-21 15:08:46, replay, DEBUG: Epoch[35] validation average loss: 1303.51636\n",
      "DEBUG:replay:Epoch[35] validation average loss: 1303.51636\n",
      "01-Feb-21 15:08:48, replay, DEBUG: Epoch[36] current loss: 1153.75573\n",
      "DEBUG:replay:Epoch[36] current loss: 1153.75573\n",
      "01-Feb-21 15:08:48, replay, DEBUG: Epoch[36] validation average loss: 1302.64307\n",
      "DEBUG:replay:Epoch[36] validation average loss: 1302.64307\n",
      "01-Feb-21 15:08:50, replay, DEBUG: Epoch[37] current loss: 1163.77586\n",
      "DEBUG:replay:Epoch[37] current loss: 1163.77586\n",
      "01-Feb-21 15:08:50, replay, DEBUG: Epoch[37] validation average loss: 1298.38879\n",
      "DEBUG:replay:Epoch[37] validation average loss: 1298.38879\n",
      "01-Feb-21 15:08:52, replay, DEBUG: Epoch[38] current loss: 1161.48245\n",
      "DEBUG:replay:Epoch[38] current loss: 1161.48245\n",
      "01-Feb-21 15:08:52, replay, DEBUG: Epoch[38] validation average loss: 1298.44531\n",
      "DEBUG:replay:Epoch[38] validation average loss: 1298.44531\n",
      "01-Feb-21 15:08:53, replay, DEBUG: Epoch[39] current loss: 1161.80230\n",
      "DEBUG:replay:Epoch[39] current loss: 1161.80230\n",
      "01-Feb-21 15:08:54, replay, DEBUG: Epoch[39] validation average loss: 1296.36755\n",
      "DEBUG:replay:Epoch[39] validation average loss: 1296.36755\n",
      "01-Feb-21 15:08:55, replay, DEBUG: Epoch[40] current loss: 1158.69106\n",
      "DEBUG:replay:Epoch[40] current loss: 1158.69106\n",
      "01-Feb-21 15:08:55, replay, DEBUG: Epoch[40] validation average loss: 1295.34753\n",
      "DEBUG:replay:Epoch[40] validation average loss: 1295.34753\n",
      "01-Feb-21 15:08:57, replay, DEBUG: Epoch[41] current loss: 1156.87621\n",
      "DEBUG:replay:Epoch[41] current loss: 1156.87621\n",
      "01-Feb-21 15:08:57, replay, DEBUG: Epoch[41] validation average loss: 1295.01758\n",
      "DEBUG:replay:Epoch[41] validation average loss: 1295.01758\n",
      "01-Feb-21 15:08:59, replay, DEBUG: Epoch[42] current loss: 1152.87305\n",
      "DEBUG:replay:Epoch[42] current loss: 1152.87305\n",
      "01-Feb-21 15:08:59, replay, DEBUG: Epoch[42] validation average loss: 1291.90417\n",
      "DEBUG:replay:Epoch[42] validation average loss: 1291.90417\n",
      "01-Feb-21 15:09:01, replay, DEBUG: Epoch[43] current loss: 1153.56411\n",
      "DEBUG:replay:Epoch[43] current loss: 1153.56411\n",
      "01-Feb-21 15:09:01, replay, DEBUG: Epoch[43] validation average loss: 1292.51013\n",
      "DEBUG:replay:Epoch[43] validation average loss: 1292.51013\n",
      "01-Feb-21 15:09:03, replay, DEBUG: Epoch[44] current loss: 1158.90078\n",
      "DEBUG:replay:Epoch[44] current loss: 1158.90078\n",
      "01-Feb-21 15:09:03, replay, DEBUG: Epoch[44] validation average loss: 1289.55432\n",
      "DEBUG:replay:Epoch[44] validation average loss: 1289.55432\n",
      "01-Feb-21 15:09:05, replay, DEBUG: Epoch[45] current loss: 1156.68187\n",
      "DEBUG:replay:Epoch[45] current loss: 1156.68187\n",
      "01-Feb-21 15:09:05, replay, DEBUG: Epoch[45] validation average loss: 1292.35925\n",
      "DEBUG:replay:Epoch[45] validation average loss: 1292.35925\n",
      "01-Feb-21 15:09:07, replay, DEBUG: Epoch[46] current loss: 1154.94988\n",
      "DEBUG:replay:Epoch[46] current loss: 1154.94988\n",
      "01-Feb-21 15:09:07, replay, DEBUG: Epoch[46] validation average loss: 1287.88721\n",
      "DEBUG:replay:Epoch[46] validation average loss: 1287.88721\n",
      "01-Feb-21 15:09:08, replay, DEBUG: Epoch[47] current loss: 1148.78960\n",
      "DEBUG:replay:Epoch[47] current loss: 1148.78960\n",
      "01-Feb-21 15:09:09, replay, DEBUG: Epoch[47] validation average loss: 1290.33142\n",
      "DEBUG:replay:Epoch[47] validation average loss: 1290.33142\n",
      "01-Feb-21 15:09:10, replay, DEBUG: Epoch[48] current loss: 1148.44375\n",
      "DEBUG:replay:Epoch[48] current loss: 1148.44375\n",
      "01-Feb-21 15:09:10, replay, DEBUG: Epoch[48] validation average loss: 1286.44824\n",
      "DEBUG:replay:Epoch[48] validation average loss: 1286.44824\n",
      "01-Feb-21 15:09:12, replay, DEBUG: Epoch[49] current loss: 1145.06856\n",
      "DEBUG:replay:Epoch[49] current loss: 1145.06856\n",
      "01-Feb-21 15:09:12, replay, DEBUG: Epoch[49] validation average loss: 1286.78772\n",
      "DEBUG:replay:Epoch[49] validation average loss: 1286.78772\n",
      "01-Feb-21 15:09:14, replay, DEBUG: Epoch[50] current loss: 1147.39810\n",
      "DEBUG:replay:Epoch[50] current loss: 1147.39810\n",
      "01-Feb-21 15:09:14, replay, DEBUG: Epoch[50] validation average loss: 1285.12305\n",
      "DEBUG:replay:Epoch[50] validation average loss: 1285.12305\n",
      "01-Feb-21 15:09:16, replay, DEBUG: Epoch[51] current loss: 1154.11485\n",
      "DEBUG:replay:Epoch[51] current loss: 1154.11485\n",
      "01-Feb-21 15:09:16, replay, DEBUG: Epoch[51] validation average loss: 1284.22900\n",
      "DEBUG:replay:Epoch[51] validation average loss: 1284.22900\n",
      "01-Feb-21 15:09:18, replay, DEBUG: Epoch[52] current loss: 1147.31208\n",
      "DEBUG:replay:Epoch[52] current loss: 1147.31208\n",
      "01-Feb-21 15:09:18, replay, DEBUG: Epoch[52] validation average loss: 1285.85034\n",
      "DEBUG:replay:Epoch[52] validation average loss: 1285.85034\n",
      "01-Feb-21 15:09:20, replay, DEBUG: Epoch[53] current loss: 1147.32977\n",
      "DEBUG:replay:Epoch[53] current loss: 1147.32977\n",
      "01-Feb-21 15:09:20, replay, DEBUG: Epoch[53] validation average loss: 1282.03760\n",
      "DEBUG:replay:Epoch[53] validation average loss: 1282.03760\n",
      "01-Feb-21 15:09:22, replay, DEBUG: Epoch[54] current loss: 1150.46768\n",
      "DEBUG:replay:Epoch[54] current loss: 1150.46768\n",
      "01-Feb-21 15:09:22, replay, DEBUG: Epoch[54] validation average loss: 1282.82214\n",
      "DEBUG:replay:Epoch[54] validation average loss: 1282.82214\n",
      "01-Feb-21 15:09:23, replay, DEBUG: Epoch[55] current loss: 1145.71503\n",
      "DEBUG:replay:Epoch[55] current loss: 1145.71503\n",
      "01-Feb-21 15:09:24, replay, DEBUG: Epoch[55] validation average loss: 1281.43982\n",
      "DEBUG:replay:Epoch[55] validation average loss: 1281.43982\n",
      "01-Feb-21 15:09:25, replay, DEBUG: Epoch[56] current loss: 1146.82658\n",
      "DEBUG:replay:Epoch[56] current loss: 1146.82658\n",
      "01-Feb-21 15:09:26, replay, DEBUG: Epoch[56] validation average loss: 1280.86914\n",
      "DEBUG:replay:Epoch[56] validation average loss: 1280.86914\n",
      "01-Feb-21 15:09:27, replay, DEBUG: Epoch[57] current loss: 1144.05010\n",
      "DEBUG:replay:Epoch[57] current loss: 1144.05010\n",
      "01-Feb-21 15:09:28, replay, DEBUG: Epoch[57] validation average loss: 1279.91663\n",
      "DEBUG:replay:Epoch[57] validation average loss: 1279.91663\n",
      "01-Feb-21 15:09:29, replay, DEBUG: Epoch[58] current loss: 1142.42762\n",
      "DEBUG:replay:Epoch[58] current loss: 1142.42762\n",
      "01-Feb-21 15:09:29, replay, DEBUG: Epoch[58] validation average loss: 1278.64551\n",
      "DEBUG:replay:Epoch[58] validation average loss: 1278.64551\n",
      "01-Feb-21 15:09:31, replay, DEBUG: Epoch[59] current loss: 1137.17402\n",
      "DEBUG:replay:Epoch[59] current loss: 1137.17402\n",
      "01-Feb-21 15:09:31, replay, DEBUG: Epoch[59] validation average loss: 1278.93518\n",
      "DEBUG:replay:Epoch[59] validation average loss: 1278.93518\n",
      "01-Feb-21 15:09:33, replay, DEBUG: Epoch[60] current loss: 1140.39344\n",
      "DEBUG:replay:Epoch[60] current loss: 1140.39344\n",
      "01-Feb-21 15:09:33, replay, DEBUG: Epoch[60] validation average loss: 1278.07288\n",
      "DEBUG:replay:Epoch[60] validation average loss: 1278.07288\n",
      "01-Feb-21 15:09:35, replay, DEBUG: Epoch[61] current loss: 1145.64534\n",
      "DEBUG:replay:Epoch[61] current loss: 1145.64534\n",
      "01-Feb-21 15:09:35, replay, DEBUG: Epoch[61] validation average loss: 1278.57104\n",
      "DEBUG:replay:Epoch[61] validation average loss: 1278.57104\n",
      "01-Feb-21 15:09:37, replay, DEBUG: Epoch[62] current loss: 1144.40176\n",
      "DEBUG:replay:Epoch[62] current loss: 1144.40176\n",
      "01-Feb-21 15:09:37, replay, DEBUG: Epoch[62] validation average loss: 1276.46484\n",
      "DEBUG:replay:Epoch[62] validation average loss: 1276.46484\n",
      "01-Feb-21 15:09:39, replay, DEBUG: Epoch[63] current loss: 1141.21341\n",
      "DEBUG:replay:Epoch[63] current loss: 1141.21341\n",
      "01-Feb-21 15:09:39, replay, DEBUG: Epoch[63] validation average loss: 1277.06543\n",
      "DEBUG:replay:Epoch[63] validation average loss: 1277.06543\n",
      "01-Feb-21 15:09:41, replay, DEBUG: Epoch[64] current loss: 1140.74399\n",
      "DEBUG:replay:Epoch[64] current loss: 1140.74399\n",
      "01-Feb-21 15:09:41, replay, DEBUG: Epoch[64] validation average loss: 1274.92175\n",
      "DEBUG:replay:Epoch[64] validation average loss: 1274.92175\n",
      "01-Feb-21 15:09:43, replay, DEBUG: Epoch[65] current loss: 1138.32511\n",
      "DEBUG:replay:Epoch[65] current loss: 1138.32511\n",
      "01-Feb-21 15:09:43, replay, DEBUG: Epoch[65] validation average loss: 1275.23328\n",
      "DEBUG:replay:Epoch[65] validation average loss: 1275.23328\n",
      "01-Feb-21 15:09:45, replay, DEBUG: Epoch[66] current loss: 1138.13991\n",
      "DEBUG:replay:Epoch[66] current loss: 1138.13991\n",
      "01-Feb-21 15:09:45, replay, DEBUG: Epoch[66] validation average loss: 1274.67151\n",
      "DEBUG:replay:Epoch[66] validation average loss: 1274.67151\n",
      "01-Feb-21 15:09:46, replay, DEBUG: Epoch[67] current loss: 1143.04906\n",
      "DEBUG:replay:Epoch[67] current loss: 1143.04906\n",
      "01-Feb-21 15:09:47, replay, DEBUG: Epoch[67] validation average loss: 1273.92908\n",
      "DEBUG:replay:Epoch[67] validation average loss: 1273.92908\n",
      "01-Feb-21 15:09:48, replay, DEBUG: Epoch[68] current loss: 1134.51518\n",
      "DEBUG:replay:Epoch[68] current loss: 1134.51518\n",
      "01-Feb-21 15:09:48, replay, DEBUG: Epoch[68] validation average loss: 1274.92749\n",
      "DEBUG:replay:Epoch[68] validation average loss: 1274.92749\n",
      "01-Feb-21 15:09:50, replay, DEBUG: Epoch[69] current loss: 1134.68275\n",
      "DEBUG:replay:Epoch[69] current loss: 1134.68275\n",
      "01-Feb-21 15:09:50, replay, DEBUG: Epoch[69] validation average loss: 1272.93665\n",
      "DEBUG:replay:Epoch[69] validation average loss: 1272.93665\n",
      "01-Feb-21 15:09:52, replay, DEBUG: Epoch[70] current loss: 1127.71232\n",
      "DEBUG:replay:Epoch[70] current loss: 1127.71232\n",
      "01-Feb-21 15:09:52, replay, DEBUG: Epoch[70] validation average loss: 1273.42810\n",
      "DEBUG:replay:Epoch[70] validation average loss: 1273.42810\n",
      "01-Feb-21 15:09:54, replay, DEBUG: Epoch[71] current loss: 1135.66545\n",
      "DEBUG:replay:Epoch[71] current loss: 1135.66545\n",
      "01-Feb-21 15:09:54, replay, DEBUG: Epoch[71] validation average loss: 1272.99292\n",
      "DEBUG:replay:Epoch[71] validation average loss: 1272.99292\n",
      "01-Feb-21 15:09:56, replay, DEBUG: Epoch[72] current loss: 1127.92830\n",
      "DEBUG:replay:Epoch[72] current loss: 1127.92830\n",
      "01-Feb-21 15:09:56, replay, DEBUG: Epoch[72] validation average loss: 1271.63135\n",
      "DEBUG:replay:Epoch[72] validation average loss: 1271.63135\n",
      "01-Feb-21 15:09:58, replay, DEBUG: Epoch[73] current loss: 1125.35521\n",
      "DEBUG:replay:Epoch[73] current loss: 1125.35521\n",
      "01-Feb-21 15:09:58, replay, DEBUG: Epoch[73] validation average loss: 1272.78967\n",
      "DEBUG:replay:Epoch[73] validation average loss: 1272.78967\n",
      "01-Feb-21 15:10:00, replay, DEBUG: Epoch[74] current loss: 1131.82231\n",
      "DEBUG:replay:Epoch[74] current loss: 1131.82231\n",
      "01-Feb-21 15:10:00, replay, DEBUG: Epoch[74] validation average loss: 1270.77661\n",
      "DEBUG:replay:Epoch[74] validation average loss: 1270.77661\n",
      "01-Feb-21 15:10:02, replay, DEBUG: Epoch[75] current loss: 1131.12907\n",
      "DEBUG:replay:Epoch[75] current loss: 1131.12907\n",
      "01-Feb-21 15:10:02, replay, DEBUG: Epoch[75] validation average loss: 1271.66064\n",
      "DEBUG:replay:Epoch[75] validation average loss: 1271.66064\n",
      "01-Feb-21 15:10:04, replay, DEBUG: Epoch[76] current loss: 1135.99112\n",
      "DEBUG:replay:Epoch[76] current loss: 1135.99112\n",
      "01-Feb-21 15:10:04, replay, DEBUG: Epoch[76] validation average loss: 1270.48816\n",
      "DEBUG:replay:Epoch[76] validation average loss: 1270.48816\n",
      "01-Feb-21 15:10:06, replay, DEBUG: Epoch[77] current loss: 1130.78498\n",
      "DEBUG:replay:Epoch[77] current loss: 1130.78498\n",
      "01-Feb-21 15:10:06, replay, DEBUG: Epoch[77] validation average loss: 1270.30542\n",
      "DEBUG:replay:Epoch[77] validation average loss: 1270.30542\n",
      "01-Feb-21 15:10:07, replay, DEBUG: Epoch[78] current loss: 1129.74502\n",
      "DEBUG:replay:Epoch[78] current loss: 1129.74502\n",
      "01-Feb-21 15:10:07, replay, DEBUG: Epoch[78] validation average loss: 1270.14905\n",
      "DEBUG:replay:Epoch[78] validation average loss: 1270.14905\n",
      "01-Feb-21 15:10:09, replay, DEBUG: Epoch[79] current loss: 1130.07550\n",
      "DEBUG:replay:Epoch[79] current loss: 1130.07550\n",
      "01-Feb-21 15:10:09, replay, DEBUG: Epoch[79] validation average loss: 1270.09741\n",
      "DEBUG:replay:Epoch[79] validation average loss: 1270.09741\n",
      "01-Feb-21 15:10:11, replay, DEBUG: Epoch[80] current loss: 1127.97423\n",
      "DEBUG:replay:Epoch[80] current loss: 1127.97423\n",
      "01-Feb-21 15:10:11, replay, DEBUG: Epoch[80] validation average loss: 1269.65100\n",
      "DEBUG:replay:Epoch[80] validation average loss: 1269.65100\n",
      "01-Feb-21 15:10:13, replay, DEBUG: Epoch[81] current loss: 1133.49587\n",
      "DEBUG:replay:Epoch[81] current loss: 1133.49587\n",
      "01-Feb-21 15:10:13, replay, DEBUG: Epoch[81] validation average loss: 1268.89429\n",
      "DEBUG:replay:Epoch[81] validation average loss: 1268.89429\n",
      "01-Feb-21 15:10:15, replay, DEBUG: Epoch[82] current loss: 1129.34722\n",
      "DEBUG:replay:Epoch[82] current loss: 1129.34722\n",
      "01-Feb-21 15:10:15, replay, DEBUG: Epoch[82] validation average loss: 1268.98706\n",
      "DEBUG:replay:Epoch[82] validation average loss: 1268.98706\n",
      "01-Feb-21 15:10:17, replay, DEBUG: Epoch[83] current loss: 1121.96092\n",
      "DEBUG:replay:Epoch[83] current loss: 1121.96092\n",
      "01-Feb-21 15:10:17, replay, DEBUG: Epoch[83] validation average loss: 1268.28540\n",
      "DEBUG:replay:Epoch[83] validation average loss: 1268.28540\n",
      "01-Feb-21 15:10:19, replay, DEBUG: Epoch[84] current loss: 1133.43043\n",
      "DEBUG:replay:Epoch[84] current loss: 1133.43043\n",
      "01-Feb-21 15:10:19, replay, DEBUG: Epoch[84] validation average loss: 1269.03345\n",
      "DEBUG:replay:Epoch[84] validation average loss: 1269.03345\n",
      "01-Feb-21 15:10:21, replay, DEBUG: Epoch[85] current loss: 1126.45729\n",
      "DEBUG:replay:Epoch[85] current loss: 1126.45729\n",
      "01-Feb-21 15:10:21, replay, DEBUG: Epoch[85] validation average loss: 1268.14221\n",
      "DEBUG:replay:Epoch[85] validation average loss: 1268.14221\n",
      "01-Feb-21 15:10:23, replay, DEBUG: Epoch[86] current loss: 1118.55922\n",
      "DEBUG:replay:Epoch[86] current loss: 1118.55922\n",
      "01-Feb-21 15:10:24, replay, DEBUG: Epoch[86] validation average loss: 1268.37427\n",
      "DEBUG:replay:Epoch[86] validation average loss: 1268.37427\n",
      "01-Feb-21 15:10:25, replay, DEBUG: Epoch[87] current loss: 1133.78471\n",
      "DEBUG:replay:Epoch[87] current loss: 1133.78471\n",
      "01-Feb-21 15:10:26, replay, DEBUG: Epoch[87] validation average loss: 1268.09265\n",
      "DEBUG:replay:Epoch[87] validation average loss: 1268.09265\n",
      "01-Feb-21 15:10:28, replay, DEBUG: Epoch[88] current loss: 1129.87213\n",
      "DEBUG:replay:Epoch[88] current loss: 1129.87213\n",
      "01-Feb-21 15:10:28, replay, DEBUG: Epoch[88] validation average loss: 1267.55652\n",
      "DEBUG:replay:Epoch[88] validation average loss: 1267.55652\n",
      "01-Feb-21 15:10:30, replay, DEBUG: Epoch[89] current loss: 1126.66851\n",
      "DEBUG:replay:Epoch[89] current loss: 1126.66851\n",
      "01-Feb-21 15:10:30, replay, DEBUG: Epoch[89] validation average loss: 1267.39380\n",
      "DEBUG:replay:Epoch[89] validation average loss: 1267.39380\n",
      "01-Feb-21 15:10:32, replay, DEBUG: Epoch[90] current loss: 1128.45399\n",
      "DEBUG:replay:Epoch[90] current loss: 1128.45399\n",
      "01-Feb-21 15:10:32, replay, DEBUG: Epoch[90] validation average loss: 1267.41724\n",
      "DEBUG:replay:Epoch[90] validation average loss: 1267.41724\n",
      "01-Feb-21 15:10:33, replay, DEBUG: Epoch[91] current loss: 1129.54088\n",
      "DEBUG:replay:Epoch[91] current loss: 1129.54088\n",
      "01-Feb-21 15:10:34, replay, DEBUG: Epoch[91] validation average loss: 1266.89771\n",
      "DEBUG:replay:Epoch[91] validation average loss: 1266.89771\n",
      "01-Feb-21 15:10:36, replay, DEBUG: Epoch[92] current loss: 1134.40176\n",
      "DEBUG:replay:Epoch[92] current loss: 1134.40176\n",
      "01-Feb-21 15:10:36, replay, DEBUG: Epoch[92] validation average loss: 1267.22363\n",
      "DEBUG:replay:Epoch[92] validation average loss: 1267.22363\n",
      "01-Feb-21 15:10:37, replay, DEBUG: Epoch[93] current loss: 1121.00022\n",
      "DEBUG:replay:Epoch[93] current loss: 1121.00022\n",
      "01-Feb-21 15:10:38, replay, DEBUG: Epoch[93] validation average loss: 1266.40088\n",
      "DEBUG:replay:Epoch[93] validation average loss: 1266.40088\n",
      "01-Feb-21 15:10:39, replay, DEBUG: Epoch[94] current loss: 1124.50864\n",
      "DEBUG:replay:Epoch[94] current loss: 1124.50864\n",
      "01-Feb-21 15:10:40, replay, DEBUG: Epoch[94] validation average loss: 1267.04980\n",
      "DEBUG:replay:Epoch[94] validation average loss: 1267.04980\n",
      "01-Feb-21 15:10:42, replay, DEBUG: Epoch[95] current loss: 1116.25354\n",
      "DEBUG:replay:Epoch[95] current loss: 1116.25354\n",
      "01-Feb-21 15:10:42, replay, DEBUG: Epoch[95] validation average loss: 1266.31335\n",
      "DEBUG:replay:Epoch[95] validation average loss: 1266.31335\n",
      "01-Feb-21 15:10:43, replay, DEBUG: Epoch[96] current loss: 1126.99171\n",
      "DEBUG:replay:Epoch[96] current loss: 1126.99171\n",
      "01-Feb-21 15:10:44, replay, DEBUG: Epoch[96] validation average loss: 1266.59631\n",
      "DEBUG:replay:Epoch[96] validation average loss: 1266.59631\n",
      "01-Feb-21 15:10:45, replay, DEBUG: Epoch[97] current loss: 1123.74492\n",
      "DEBUG:replay:Epoch[97] current loss: 1123.74492\n",
      "01-Feb-21 15:10:45, replay, DEBUG: Epoch[97] validation average loss: 1266.08264\n",
      "DEBUG:replay:Epoch[97] validation average loss: 1266.08264\n",
      "01-Feb-21 15:10:47, replay, DEBUG: Epoch[98] current loss: 1120.60205\n",
      "DEBUG:replay:Epoch[98] current loss: 1120.60205\n",
      "01-Feb-21 15:10:47, replay, DEBUG: Epoch[98] validation average loss: 1265.74939\n",
      "DEBUG:replay:Epoch[98] validation average loss: 1265.74939\n",
      "01-Feb-21 15:10:49, replay, DEBUG: Epoch[99] current loss: 1114.71166\n",
      "DEBUG:replay:Epoch[99] current loss: 1114.71166\n",
      "01-Feb-21 15:10:49, replay, DEBUG: Epoch[99] validation average loss: 1266.32520\n",
      "DEBUG:replay:Epoch[99] validation average loss: 1266.32520\n",
      "01-Feb-21 15:10:51, replay, DEBUG: Epoch[100] current loss: 1119.19243\n",
      "DEBUG:replay:Epoch[100] current loss: 1119.19243\n",
      "01-Feb-21 15:10:51, replay, DEBUG: Epoch[100] validation average loss: 1265.48499\n",
      "DEBUG:replay:Epoch[100] validation average loss: 1265.48499\n",
      "01-Feb-21 15:10:53, replay, DEBUG: Epoch[101] current loss: 1111.81097\n",
      "DEBUG:replay:Epoch[101] current loss: 1111.81097\n",
      "01-Feb-21 15:10:53, replay, DEBUG: Epoch[101] validation average loss: 1265.95349\n",
      "DEBUG:replay:Epoch[101] validation average loss: 1265.95349\n",
      "01-Feb-21 15:10:55, replay, DEBUG: Epoch[102] current loss: 1120.33838\n",
      "DEBUG:replay:Epoch[102] current loss: 1120.33838\n",
      "01-Feb-21 15:10:55, replay, DEBUG: Epoch[102] validation average loss: 1265.50305\n",
      "DEBUG:replay:Epoch[102] validation average loss: 1265.50305\n",
      "01-Feb-21 15:10:57, replay, DEBUG: Epoch[103] current loss: 1113.81106\n",
      "DEBUG:replay:Epoch[103] current loss: 1113.81106\n",
      "01-Feb-21 15:10:57, replay, DEBUG: Epoch[103] validation average loss: 1265.59863\n",
      "DEBUG:replay:Epoch[103] validation average loss: 1265.59863\n",
      "01-Feb-21 15:10:59, replay, DEBUG: Epoch[104] current loss: 1118.79668\n",
      "DEBUG:replay:Epoch[104] current loss: 1118.79668\n",
      "01-Feb-21 15:10:59, replay, DEBUG: Epoch[104] validation average loss: 1265.28650\n",
      "DEBUG:replay:Epoch[104] validation average loss: 1265.28650\n",
      "01-Feb-21 15:11:01, replay, DEBUG: Epoch[105] current loss: 1114.88879\n",
      "DEBUG:replay:Epoch[105] current loss: 1114.88879\n",
      "01-Feb-21 15:11:01, replay, DEBUG: Epoch[105] validation average loss: 1265.82886\n",
      "DEBUG:replay:Epoch[105] validation average loss: 1265.82886\n",
      "01-Feb-21 15:11:02, replay, DEBUG: Epoch[106] current loss: 1114.49095\n",
      "DEBUG:replay:Epoch[106] current loss: 1114.49095\n",
      "01-Feb-21 15:11:03, replay, DEBUG: Epoch[106] validation average loss: 1265.00806\n",
      "DEBUG:replay:Epoch[106] validation average loss: 1265.00806\n",
      "01-Feb-21 15:11:04, replay, DEBUG: Epoch[107] current loss: 1110.86738\n",
      "DEBUG:replay:Epoch[107] current loss: 1110.86738\n",
      "01-Feb-21 15:11:04, replay, DEBUG: Epoch[107] validation average loss: 1265.72119\n",
      "DEBUG:replay:Epoch[107] validation average loss: 1265.72119\n",
      "01-Feb-21 15:11:06, replay, DEBUG: Epoch[108] current loss: 1113.51363\n",
      "DEBUG:replay:Epoch[108] current loss: 1113.51363\n",
      "01-Feb-21 15:11:06, replay, DEBUG: Epoch[108] validation average loss: 1265.10559\n",
      "DEBUG:replay:Epoch[108] validation average loss: 1265.10559\n",
      "01-Feb-21 15:11:08, replay, DEBUG: Epoch[109] current loss: 1113.48708\n",
      "DEBUG:replay:Epoch[109] current loss: 1113.48708\n",
      "01-Feb-21 15:11:08, replay, DEBUG: Epoch[109] validation average loss: 1265.43640\n",
      "DEBUG:replay:Epoch[109] validation average loss: 1265.43640\n",
      "01-Feb-21 15:11:10, replay, DEBUG: Epoch[110] current loss: 1113.46527\n",
      "DEBUG:replay:Epoch[110] current loss: 1113.46527\n",
      "01-Feb-21 15:11:10, replay, DEBUG: Epoch[110] validation average loss: 1265.59448\n",
      "DEBUG:replay:Epoch[110] validation average loss: 1265.59448\n",
      "01-Feb-21 15:11:12, replay, DEBUG: Epoch[111] current loss: 1114.41336\n",
      "DEBUG:replay:Epoch[111] current loss: 1114.41336\n",
      "01-Feb-21 15:11:12, replay, DEBUG: Epoch[111] validation average loss: 1264.57385\n",
      "DEBUG:replay:Epoch[111] validation average loss: 1264.57385\n",
      "01-Feb-21 15:11:13, replay, DEBUG: Epoch[112] current loss: 1111.72143\n",
      "DEBUG:replay:Epoch[112] current loss: 1111.72143\n",
      "01-Feb-21 15:11:14, replay, DEBUG: Epoch[112] validation average loss: 1264.42639\n",
      "DEBUG:replay:Epoch[112] validation average loss: 1264.42639\n",
      "01-Feb-21 15:11:15, replay, DEBUG: Epoch[113] current loss: 1113.99647\n",
      "DEBUG:replay:Epoch[113] current loss: 1113.99647\n",
      "01-Feb-21 15:11:15, replay, DEBUG: Epoch[113] validation average loss: 1264.67261\n",
      "DEBUG:replay:Epoch[113] validation average loss: 1264.67261\n",
      "01-Feb-21 15:11:17, replay, DEBUG: Epoch[114] current loss: 1122.19811\n",
      "DEBUG:replay:Epoch[114] current loss: 1122.19811\n",
      "01-Feb-21 15:11:17, replay, DEBUG: Epoch[114] validation average loss: 1263.99548\n",
      "DEBUG:replay:Epoch[114] validation average loss: 1263.99548\n",
      "01-Feb-21 15:11:19, replay, DEBUG: Epoch[115] current loss: 1106.49372\n",
      "DEBUG:replay:Epoch[115] current loss: 1106.49372\n",
      "01-Feb-21 15:11:19, replay, DEBUG: Epoch[115] validation average loss: 1263.88379\n",
      "DEBUG:replay:Epoch[115] validation average loss: 1263.88379\n",
      "01-Feb-21 15:11:21, replay, DEBUG: Epoch[116] current loss: 1110.88119\n",
      "DEBUG:replay:Epoch[116] current loss: 1110.88119\n",
      "01-Feb-21 15:11:21, replay, DEBUG: Epoch[116] validation average loss: 1264.28210\n",
      "DEBUG:replay:Epoch[116] validation average loss: 1264.28210\n",
      "01-Feb-21 15:11:23, replay, DEBUG: Epoch[117] current loss: 1109.00184\n",
      "DEBUG:replay:Epoch[117] current loss: 1109.00184\n",
      "01-Feb-21 15:11:23, replay, DEBUG: Epoch[117] validation average loss: 1263.70850\n",
      "DEBUG:replay:Epoch[117] validation average loss: 1263.70850\n",
      "01-Feb-21 15:11:25, replay, DEBUG: Epoch[118] current loss: 1113.14259\n",
      "DEBUG:replay:Epoch[118] current loss: 1113.14259\n",
      "01-Feb-21 15:11:25, replay, DEBUG: Epoch[118] validation average loss: 1264.06165\n",
      "DEBUG:replay:Epoch[118] validation average loss: 1264.06165\n",
      "01-Feb-21 15:11:27, replay, DEBUG: Epoch[119] current loss: 1110.58916\n",
      "DEBUG:replay:Epoch[119] current loss: 1110.58916\n",
      "01-Feb-21 15:11:27, replay, DEBUG: Epoch[119] validation average loss: 1264.44897\n",
      "DEBUG:replay:Epoch[119] validation average loss: 1264.44897\n",
      "01-Feb-21 15:11:28, replay, DEBUG: Epoch[120] current loss: 1111.64176\n",
      "DEBUG:replay:Epoch[120] current loss: 1111.64176\n",
      "01-Feb-21 15:11:29, replay, DEBUG: Epoch[120] validation average loss: 1263.60217\n",
      "DEBUG:replay:Epoch[120] validation average loss: 1263.60217\n",
      "01-Feb-21 15:11:30, replay, DEBUG: Epoch[121] current loss: 1114.36634\n",
      "DEBUG:replay:Epoch[121] current loss: 1114.36634\n",
      "01-Feb-21 15:11:30, replay, DEBUG: Epoch[121] validation average loss: 1263.72693\n",
      "DEBUG:replay:Epoch[121] validation average loss: 1263.72693\n",
      "01-Feb-21 15:11:32, replay, DEBUG: Epoch[122] current loss: 1104.27049\n",
      "DEBUG:replay:Epoch[122] current loss: 1104.27049\n",
      "01-Feb-21 15:11:32, replay, DEBUG: Epoch[122] validation average loss: 1263.75366\n",
      "DEBUG:replay:Epoch[122] validation average loss: 1263.75366\n",
      "01-Feb-21 15:11:34, replay, DEBUG: Epoch[123] current loss: 1112.18875\n",
      "DEBUG:replay:Epoch[123] current loss: 1112.18875\n",
      "01-Feb-21 15:11:34, replay, DEBUG: Epoch[123] validation average loss: 1263.42236\n",
      "DEBUG:replay:Epoch[123] validation average loss: 1263.42236\n",
      "01-Feb-21 15:11:36, replay, DEBUG: Epoch[124] current loss: 1107.95089\n",
      "DEBUG:replay:Epoch[124] current loss: 1107.95089\n",
      "01-Feb-21 15:11:36, replay, DEBUG: Epoch[124] validation average loss: 1263.11047\n",
      "DEBUG:replay:Epoch[124] validation average loss: 1263.11047\n",
      "01-Feb-21 15:11:38, replay, DEBUG: Epoch[125] current loss: 1108.54877\n",
      "DEBUG:replay:Epoch[125] current loss: 1108.54877\n",
      "01-Feb-21 15:11:38, replay, DEBUG: Epoch[125] validation average loss: 1263.10522\n",
      "DEBUG:replay:Epoch[125] validation average loss: 1263.10522\n",
      "01-Feb-21 15:11:40, replay, DEBUG: Epoch[126] current loss: 1106.97635\n",
      "DEBUG:replay:Epoch[126] current loss: 1106.97635\n",
      "01-Feb-21 15:11:40, replay, DEBUG: Epoch[126] validation average loss: 1263.28503\n",
      "DEBUG:replay:Epoch[126] validation average loss: 1263.28503\n",
      "01-Feb-21 15:11:42, replay, DEBUG: Epoch[127] current loss: 1110.76746\n",
      "DEBUG:replay:Epoch[127] current loss: 1110.76746\n",
      "01-Feb-21 15:11:42, replay, DEBUG: Epoch[127] validation average loss: 1263.37268\n",
      "DEBUG:replay:Epoch[127] validation average loss: 1263.37268\n",
      "01-Feb-21 15:11:44, replay, DEBUG: Epoch[128] current loss: 1109.33981\n",
      "DEBUG:replay:Epoch[128] current loss: 1109.33981\n",
      "01-Feb-21 15:11:44, replay, DEBUG: Epoch[128] validation average loss: 1263.21289\n",
      "DEBUG:replay:Epoch[128] validation average loss: 1263.21289\n",
      "01-Feb-21 15:11:46, replay, DEBUG: Epoch[129] current loss: 1112.34618\n",
      "DEBUG:replay:Epoch[129] current loss: 1112.34618\n",
      "01-Feb-21 15:11:46, replay, DEBUG: Epoch[129] validation average loss: 1263.08496\n",
      "DEBUG:replay:Epoch[129] validation average loss: 1263.08496\n",
      "01-Feb-21 15:11:48, replay, DEBUG: Epoch[130] current loss: 1108.24342\n",
      "DEBUG:replay:Epoch[130] current loss: 1108.24342\n",
      "01-Feb-21 15:11:48, replay, DEBUG: Epoch[130] validation average loss: 1262.95593\n",
      "DEBUG:replay:Epoch[130] validation average loss: 1262.95593\n",
      "01-Feb-21 15:11:49, replay, DEBUG: Epoch[131] current loss: 1110.01614\n",
      "DEBUG:replay:Epoch[131] current loss: 1110.01614\n",
      "01-Feb-21 15:11:50, replay, DEBUG: Epoch[131] validation average loss: 1262.90259\n",
      "DEBUG:replay:Epoch[131] validation average loss: 1262.90259\n",
      "01-Feb-21 15:11:51, replay, DEBUG: Epoch[132] current loss: 1109.71018\n",
      "DEBUG:replay:Epoch[132] current loss: 1109.71018\n",
      "01-Feb-21 15:11:52, replay, DEBUG: Epoch[132] validation average loss: 1262.87561\n",
      "DEBUG:replay:Epoch[132] validation average loss: 1262.87561\n",
      "01-Feb-21 15:11:53, replay, DEBUG: Epoch[133] current loss: 1110.30871\n",
      "DEBUG:replay:Epoch[133] current loss: 1110.30871\n",
      "01-Feb-21 15:11:53, replay, DEBUG: Epoch[133] validation average loss: 1262.89526\n",
      "DEBUG:replay:Epoch[133] validation average loss: 1262.89526\n",
      "01-Feb-21 15:11:55, replay, DEBUG: Epoch[134] current loss: 1104.83124\n",
      "DEBUG:replay:Epoch[134] current loss: 1104.83124\n",
      "01-Feb-21 15:11:55, replay, DEBUG: Epoch[134] validation average loss: 1262.94250\n",
      "DEBUG:replay:Epoch[134] validation average loss: 1262.94250\n",
      "01-Feb-21 15:11:57, replay, DEBUG: Epoch[135] current loss: 1106.99398\n",
      "DEBUG:replay:Epoch[135] current loss: 1106.99398\n",
      "01-Feb-21 15:11:57, replay, DEBUG: Epoch[135] validation average loss: 1262.96521\n",
      "DEBUG:replay:Epoch[135] validation average loss: 1262.96521\n",
      "01-Feb-21 15:11:59, replay, DEBUG: Epoch[136] current loss: 1103.78034\n",
      "DEBUG:replay:Epoch[136] current loss: 1103.78034\n",
      "01-Feb-21 15:11:59, replay, DEBUG: Epoch[136] validation average loss: 1262.96216\n",
      "DEBUG:replay:Epoch[136] validation average loss: 1262.96216\n",
      "01-Feb-21 15:12:01, replay, DEBUG: Epoch[137] current loss: 1108.87277\n",
      "DEBUG:replay:Epoch[137] current loss: 1108.87277\n",
      "01-Feb-21 15:12:01, replay, DEBUG: Epoch[137] validation average loss: 1262.94531\n",
      "DEBUG:replay:Epoch[137] validation average loss: 1262.94531\n",
      "01-Feb-21 15:12:03, replay, DEBUG: Epoch[138] current loss: 1101.89400\n",
      "DEBUG:replay:Epoch[138] current loss: 1101.89400\n",
      "01-Feb-21 15:12:03, replay, DEBUG: Epoch[138] validation average loss: 1262.90881\n",
      "DEBUG:replay:Epoch[138] validation average loss: 1262.90881\n",
      "01-Feb-21 15:12:04, replay, DEBUG: Epoch[139] current loss: 1094.05309\n",
      "DEBUG:replay:Epoch[139] current loss: 1094.05309\n",
      "01-Feb-21 15:12:05, replay, DEBUG: Epoch[139] validation average loss: 1262.88269\n",
      "DEBUG:replay:Epoch[139] validation average loss: 1262.88269\n",
      "01-Feb-21 15:12:06, replay, DEBUG: Epoch[140] current loss: 1111.09696\n",
      "DEBUG:replay:Epoch[140] current loss: 1111.09696\n",
      "01-Feb-21 15:12:06, replay, DEBUG: Epoch[140] validation average loss: 1262.84912\n",
      "DEBUG:replay:Epoch[140] validation average loss: 1262.84912\n",
      "01-Feb-21 15:12:08, replay, DEBUG: Epoch[141] current loss: 1117.02266\n",
      "DEBUG:replay:Epoch[141] current loss: 1117.02266\n",
      "01-Feb-21 15:12:08, replay, DEBUG: Epoch[141] validation average loss: 1262.81116\n",
      "DEBUG:replay:Epoch[141] validation average loss: 1262.81116\n",
      "01-Feb-21 15:12:10, replay, DEBUG: Epoch[142] current loss: 1109.14698\n",
      "DEBUG:replay:Epoch[142] current loss: 1109.14698\n",
      "01-Feb-21 15:12:10, replay, DEBUG: Epoch[142] validation average loss: 1262.79138\n",
      "DEBUG:replay:Epoch[142] validation average loss: 1262.79138\n",
      "01-Feb-21 15:12:12, replay, DEBUG: Epoch[143] current loss: 1107.97489\n",
      "DEBUG:replay:Epoch[143] current loss: 1107.97489\n",
      "01-Feb-21 15:12:12, replay, DEBUG: Epoch[143] validation average loss: 1262.79248\n",
      "DEBUG:replay:Epoch[143] validation average loss: 1262.79248\n",
      "01-Feb-21 15:12:14, replay, DEBUG: Epoch[144] current loss: 1097.93448\n",
      "DEBUG:replay:Epoch[144] current loss: 1097.93448\n",
      "01-Feb-21 15:12:14, replay, DEBUG: Epoch[144] validation average loss: 1262.80432\n",
      "DEBUG:replay:Epoch[144] validation average loss: 1262.80432\n",
      "01-Feb-21 15:12:16, replay, DEBUG: Epoch[145] current loss: 1107.03899\n",
      "DEBUG:replay:Epoch[145] current loss: 1107.03899\n",
      "01-Feb-21 15:12:16, replay, DEBUG: Epoch[145] validation average loss: 1262.80017\n",
      "DEBUG:replay:Epoch[145] validation average loss: 1262.80017\n",
      "01-Feb-21 15:12:18, replay, DEBUG: Epoch[146] current loss: 1103.20671\n",
      "DEBUG:replay:Epoch[146] current loss: 1103.20671\n",
      "01-Feb-21 15:12:18, replay, DEBUG: Epoch[146] validation average loss: 1262.79517\n",
      "DEBUG:replay:Epoch[146] validation average loss: 1262.79517\n",
      "01-Feb-21 15:12:19, replay, DEBUG: Epoch[147] current loss: 1106.18867\n",
      "DEBUG:replay:Epoch[147] current loss: 1106.18867\n",
      "01-Feb-21 15:12:20, replay, DEBUG: Epoch[147] validation average loss: 1262.78796\n",
      "DEBUG:replay:Epoch[147] validation average loss: 1262.78796\n",
      "01-Feb-21 15:12:21, replay, DEBUG: Epoch[148] current loss: 1106.50107\n",
      "DEBUG:replay:Epoch[148] current loss: 1106.50107\n",
      "01-Feb-21 15:12:22, replay, DEBUG: Epoch[148] validation average loss: 1262.78516\n",
      "DEBUG:replay:Epoch[148] validation average loss: 1262.78516\n",
      "01-Feb-21 15:12:23, replay, DEBUG: Epoch[149] current loss: 1105.96481\n",
      "DEBUG:replay:Epoch[149] current loss: 1105.96481\n",
      "01-Feb-21 15:12:23, replay, DEBUG: Epoch[149] validation average loss: 1262.78564\n",
      "DEBUG:replay:Epoch[149] validation average loss: 1262.78564\n",
      "01-Feb-21 15:12:25, replay, DEBUG: Epoch[150] current loss: 1108.92828\n",
      "DEBUG:replay:Epoch[150] current loss: 1108.92828\n",
      "01-Feb-21 15:12:25, replay, DEBUG: Epoch[150] validation average loss: 1262.78577\n",
      "DEBUG:replay:Epoch[150] validation average loss: 1262.78577\n",
      "01-Feb-21 15:12:27, replay, DEBUG: Epoch[151] current loss: 1107.36617\n",
      "DEBUG:replay:Epoch[151] current loss: 1107.36617\n",
      "01-Feb-21 15:12:27, replay, DEBUG: Epoch[151] validation average loss: 1262.78479\n",
      "DEBUG:replay:Epoch[151] validation average loss: 1262.78479\n",
      "01-Feb-21 15:12:29, replay, DEBUG: Epoch[152] current loss: 1113.81956\n",
      "DEBUG:replay:Epoch[152] current loss: 1113.81956\n",
      "01-Feb-21 15:12:29, replay, DEBUG: Epoch[152] validation average loss: 1262.78308\n",
      "DEBUG:replay:Epoch[152] validation average loss: 1262.78308\n",
      "01-Feb-21 15:12:31, replay, DEBUG: Epoch[153] current loss: 1107.75048\n",
      "DEBUG:replay:Epoch[153] current loss: 1107.75048\n",
      "01-Feb-21 15:12:31, replay, DEBUG: Epoch[153] validation average loss: 1262.78174\n",
      "DEBUG:replay:Epoch[153] validation average loss: 1262.78174\n",
      "01-Feb-21 15:12:32, replay, DEBUG: Epoch[154] current loss: 1112.13684\n",
      "DEBUG:replay:Epoch[154] current loss: 1112.13684\n",
      "01-Feb-21 15:12:33, replay, DEBUG: Epoch[154] validation average loss: 1262.78088\n",
      "DEBUG:replay:Epoch[154] validation average loss: 1262.78088\n",
      "01-Feb-21 15:12:34, replay, DEBUG: Epoch[155] current loss: 1109.45497\n",
      "DEBUG:replay:Epoch[155] current loss: 1109.45497\n",
      "01-Feb-21 15:12:34, replay, DEBUG: Epoch[155] validation average loss: 1262.77954\n",
      "DEBUG:replay:Epoch[155] validation average loss: 1262.77954\n",
      "01-Feb-21 15:12:36, replay, DEBUG: Epoch[156] current loss: 1111.95813\n",
      "DEBUG:replay:Epoch[156] current loss: 1111.95813\n",
      "01-Feb-21 15:12:36, replay, DEBUG: Epoch[156] validation average loss: 1262.77722\n",
      "DEBUG:replay:Epoch[156] validation average loss: 1262.77722\n",
      "01-Feb-21 15:12:38, replay, DEBUG: Epoch[157] current loss: 1104.64050\n",
      "DEBUG:replay:Epoch[157] current loss: 1104.64050\n",
      "01-Feb-21 15:12:38, replay, DEBUG: Epoch[157] validation average loss: 1262.77368\n",
      "DEBUG:replay:Epoch[157] validation average loss: 1262.77368\n",
      "01-Feb-21 15:12:40, replay, DEBUG: Epoch[158] current loss: 1109.56305\n",
      "DEBUG:replay:Epoch[158] current loss: 1109.56305\n",
      "01-Feb-21 15:12:40, replay, DEBUG: Epoch[158] validation average loss: 1262.77124\n",
      "DEBUG:replay:Epoch[158] validation average loss: 1262.77124\n",
      "01-Feb-21 15:12:42, replay, DEBUG: Epoch[159] current loss: 1103.02945\n",
      "DEBUG:replay:Epoch[159] current loss: 1103.02945\n",
      "01-Feb-21 15:12:42, replay, DEBUG: Epoch[159] validation average loss: 1262.76868\n",
      "DEBUG:replay:Epoch[159] validation average loss: 1262.76868\n",
      "01-Feb-21 15:12:44, replay, DEBUG: Epoch[160] current loss: 1100.29936\n",
      "DEBUG:replay:Epoch[160] current loss: 1100.29936\n",
      "01-Feb-21 15:12:44, replay, DEBUG: Epoch[160] validation average loss: 1262.76648\n",
      "DEBUG:replay:Epoch[160] validation average loss: 1262.76648\n",
      "01-Feb-21 15:12:46, replay, DEBUG: Epoch[161] current loss: 1099.10085\n",
      "DEBUG:replay:Epoch[161] current loss: 1099.10085\n",
      "01-Feb-21 15:12:46, replay, DEBUG: Epoch[161] validation average loss: 1262.76428\n",
      "DEBUG:replay:Epoch[161] validation average loss: 1262.76428\n",
      "01-Feb-21 15:12:48, replay, DEBUG: Epoch[162] current loss: 1105.57992\n",
      "DEBUG:replay:Epoch[162] current loss: 1105.57992\n",
      "01-Feb-21 15:12:48, replay, DEBUG: Epoch[162] validation average loss: 1262.76270\n",
      "DEBUG:replay:Epoch[162] validation average loss: 1262.76270\n",
      "01-Feb-21 15:12:50, replay, DEBUG: Epoch[163] current loss: 1105.76364\n",
      "DEBUG:replay:Epoch[163] current loss: 1105.76364\n",
      "01-Feb-21 15:12:50, replay, DEBUG: Epoch[163] validation average loss: 1262.76111\n",
      "DEBUG:replay:Epoch[163] validation average loss: 1262.76111\n",
      "01-Feb-21 15:12:51, replay, DEBUG: Epoch[164] current loss: 1106.77401\n",
      "DEBUG:replay:Epoch[164] current loss: 1106.77401\n",
      "01-Feb-21 15:12:51, replay, DEBUG: Epoch[164] validation average loss: 1262.75891\n",
      "DEBUG:replay:Epoch[164] validation average loss: 1262.75891\n",
      "01-Feb-21 15:12:53, replay, DEBUG: Epoch[165] current loss: 1115.57100\n",
      "DEBUG:replay:Epoch[165] current loss: 1115.57100\n",
      "01-Feb-21 15:12:53, replay, DEBUG: Epoch[165] validation average loss: 1262.75659\n",
      "DEBUG:replay:Epoch[165] validation average loss: 1262.75659\n",
      "01-Feb-21 15:12:55, replay, DEBUG: Epoch[166] current loss: 1103.53560\n",
      "DEBUG:replay:Epoch[166] current loss: 1103.53560\n",
      "01-Feb-21 15:12:55, replay, DEBUG: Epoch[166] validation average loss: 1262.75562\n",
      "DEBUG:replay:Epoch[166] validation average loss: 1262.75562\n",
      "01-Feb-21 15:12:57, replay, DEBUG: Epoch[167] current loss: 1100.98707\n",
      "DEBUG:replay:Epoch[167] current loss: 1100.98707\n",
      "01-Feb-21 15:12:57, replay, DEBUG: Epoch[167] validation average loss: 1262.75452\n",
      "DEBUG:replay:Epoch[167] validation average loss: 1262.75452\n",
      "01-Feb-21 15:12:59, replay, DEBUG: Epoch[168] current loss: 1109.57317\n",
      "DEBUG:replay:Epoch[168] current loss: 1109.57317\n",
      "01-Feb-21 15:12:59, replay, DEBUG: Epoch[168] validation average loss: 1262.75366\n",
      "DEBUG:replay:Epoch[168] validation average loss: 1262.75366\n",
      "01-Feb-21 15:13:01, replay, DEBUG: Epoch[169] current loss: 1101.37638\n",
      "DEBUG:replay:Epoch[169] current loss: 1101.37638\n",
      "01-Feb-21 15:13:01, replay, DEBUG: Epoch[169] validation average loss: 1262.75269\n",
      "DEBUG:replay:Epoch[169] validation average loss: 1262.75269\n",
      "01-Feb-21 15:13:03, replay, DEBUG: Epoch[170] current loss: 1106.09810\n",
      "DEBUG:replay:Epoch[170] current loss: 1106.09810\n",
      "01-Feb-21 15:13:03, replay, DEBUG: Epoch[170] validation average loss: 1262.75208\n",
      "DEBUG:replay:Epoch[170] validation average loss: 1262.75208\n",
      "01-Feb-21 15:13:05, replay, DEBUG: Epoch[171] current loss: 1106.92233\n",
      "DEBUG:replay:Epoch[171] current loss: 1106.92233\n",
      "01-Feb-21 15:13:05, replay, DEBUG: Epoch[171] validation average loss: 1262.75195\n",
      "DEBUG:replay:Epoch[171] validation average loss: 1262.75195\n",
      "01-Feb-21 15:13:07, replay, DEBUG: Epoch[172] current loss: 1105.72587\n",
      "DEBUG:replay:Epoch[172] current loss: 1105.72587\n",
      "01-Feb-21 15:13:07, replay, DEBUG: Epoch[172] validation average loss: 1262.75159\n",
      "DEBUG:replay:Epoch[172] validation average loss: 1262.75159\n",
      "01-Feb-21 15:13:09, replay, DEBUG: Epoch[173] current loss: 1107.31443\n",
      "DEBUG:replay:Epoch[173] current loss: 1107.31443\n",
      "01-Feb-21 15:13:09, replay, DEBUG: Epoch[173] validation average loss: 1262.75122\n",
      "DEBUG:replay:Epoch[173] validation average loss: 1262.75122\n",
      "01-Feb-21 15:13:10, replay, DEBUG: Epoch[174] current loss: 1108.41796\n",
      "DEBUG:replay:Epoch[174] current loss: 1108.41796\n",
      "01-Feb-21 15:13:11, replay, DEBUG: Epoch[174] validation average loss: 1262.75110\n",
      "DEBUG:replay:Epoch[174] validation average loss: 1262.75110\n",
      "01-Feb-21 15:13:12, replay, DEBUG: Epoch[175] current loss: 1114.51024\n",
      "DEBUG:replay:Epoch[175] current loss: 1114.51024\n",
      "01-Feb-21 15:13:12, replay, DEBUG: Epoch[175] validation average loss: 1262.75098\n",
      "DEBUG:replay:Epoch[175] validation average loss: 1262.75098\n",
      "01-Feb-21 15:13:14, replay, DEBUG: Epoch[176] current loss: 1107.91255\n",
      "DEBUG:replay:Epoch[176] current loss: 1107.91255\n",
      "01-Feb-21 15:13:14, replay, DEBUG: Epoch[176] validation average loss: 1262.75073\n",
      "DEBUG:replay:Epoch[176] validation average loss: 1262.75073\n",
      "01-Feb-21 15:13:16, replay, DEBUG: Epoch[177] current loss: 1109.22177\n",
      "DEBUG:replay:Epoch[177] current loss: 1109.22177\n",
      "01-Feb-21 15:13:16, replay, DEBUG: Epoch[177] validation average loss: 1262.75061\n",
      "DEBUG:replay:Epoch[177] validation average loss: 1262.75061\n",
      "01-Feb-21 15:13:18, replay, DEBUG: Epoch[178] current loss: 1115.77607\n",
      "DEBUG:replay:Epoch[178] current loss: 1115.77607\n",
      "01-Feb-21 15:13:18, replay, DEBUG: Epoch[178] validation average loss: 1262.75061\n",
      "DEBUG:replay:Epoch[178] validation average loss: 1262.75061\n",
      "01-Feb-21 15:13:20, replay, DEBUG: Epoch[179] current loss: 1113.88222\n",
      "DEBUG:replay:Epoch[179] current loss: 1113.88222\n",
      "01-Feb-21 15:13:20, replay, DEBUG: Epoch[179] validation average loss: 1262.75061\n",
      "DEBUG:replay:Epoch[179] validation average loss: 1262.75061\n",
      "01-Feb-21 15:13:22, replay, DEBUG: Epoch[180] current loss: 1106.31883\n",
      "DEBUG:replay:Epoch[180] current loss: 1106.31883\n",
      "01-Feb-21 15:13:22, replay, DEBUG: Epoch[180] validation average loss: 1262.75061\n",
      "DEBUG:replay:Epoch[180] validation average loss: 1262.75061\n",
      "01-Feb-21 15:13:24, replay, DEBUG: Epoch[181] current loss: 1102.10877\n",
      "DEBUG:replay:Epoch[181] current loss: 1102.10877\n",
      "01-Feb-21 15:13:24, replay, DEBUG: Epoch[181] validation average loss: 1262.75049\n",
      "DEBUG:replay:Epoch[181] validation average loss: 1262.75049\n",
      "01-Feb-21 15:13:26, replay, DEBUG: Epoch[182] current loss: 1104.27148\n",
      "DEBUG:replay:Epoch[182] current loss: 1104.27148\n",
      "01-Feb-21 15:13:26, replay, DEBUG: Epoch[182] validation average loss: 1262.75049\n",
      "DEBUG:replay:Epoch[182] validation average loss: 1262.75049\n",
      "01-Feb-21 15:13:27, replay, DEBUG: Epoch[183] current loss: 1106.46944\n",
      "DEBUG:replay:Epoch[183] current loss: 1106.46944\n",
      "01-Feb-21 15:13:28, replay, DEBUG: Epoch[183] validation average loss: 1262.75049\n",
      "DEBUG:replay:Epoch[183] validation average loss: 1262.75049\n",
      "01-Feb-21 15:13:29, replay, DEBUG: Epoch[184] current loss: 1103.17647\n",
      "DEBUG:replay:Epoch[184] current loss: 1103.17647\n",
      "01-Feb-21 15:13:30, replay, DEBUG: Epoch[184] validation average loss: 1262.75049\n",
      "DEBUG:replay:Epoch[184] validation average loss: 1262.75049\n",
      "01-Feb-21 15:13:31, replay, DEBUG: Epoch[185] current loss: 1113.09923\n",
      "DEBUG:replay:Epoch[185] current loss: 1113.09923\n",
      "01-Feb-21 15:13:31, replay, DEBUG: Epoch[185] validation average loss: 1262.75049\n",
      "DEBUG:replay:Epoch[185] validation average loss: 1262.75049\n",
      "01-Feb-21 15:13:33, replay, DEBUG: Epoch[186] current loss: 1103.24321\n",
      "DEBUG:replay:Epoch[186] current loss: 1103.24321\n",
      "01-Feb-21 15:13:33, replay, DEBUG: Epoch[186] validation average loss: 1262.75049\n",
      "DEBUG:replay:Epoch[186] validation average loss: 1262.75049\n",
      "01-Feb-21 15:13:35, replay, DEBUG: Epoch[187] current loss: 1108.45360\n",
      "DEBUG:replay:Epoch[187] current loss: 1108.45360\n",
      "01-Feb-21 15:13:35, replay, DEBUG: Epoch[187] validation average loss: 1262.75049\n",
      "DEBUG:replay:Epoch[187] validation average loss: 1262.75049\n",
      "01-Feb-21 15:13:37, replay, DEBUG: Epoch[188] current loss: 1104.44547\n",
      "DEBUG:replay:Epoch[188] current loss: 1104.44547\n",
      "01-Feb-21 15:13:37, replay, DEBUG: Epoch[188] validation average loss: 1262.75037\n",
      "DEBUG:replay:Epoch[188] validation average loss: 1262.75037\n",
      "01-Feb-21 15:13:39, replay, DEBUG: Epoch[189] current loss: 1104.88917\n",
      "DEBUG:replay:Epoch[189] current loss: 1104.88917\n",
      "01-Feb-21 15:13:39, replay, DEBUG: Epoch[189] validation average loss: 1262.75037\n",
      "DEBUG:replay:Epoch[189] validation average loss: 1262.75037\n",
      "01-Feb-21 15:13:41, replay, DEBUG: Epoch[190] current loss: 1106.21185\n",
      "DEBUG:replay:Epoch[190] current loss: 1106.21185\n",
      "01-Feb-21 15:13:41, replay, DEBUG: Epoch[190] validation average loss: 1262.75037\n",
      "DEBUG:replay:Epoch[190] validation average loss: 1262.75037\n",
      "01-Feb-21 15:13:43, replay, DEBUG: Epoch[191] current loss: 1110.65078\n",
      "DEBUG:replay:Epoch[191] current loss: 1110.65078\n",
      "01-Feb-21 15:13:43, replay, DEBUG: Epoch[191] validation average loss: 1262.75037\n",
      "DEBUG:replay:Epoch[191] validation average loss: 1262.75037\n",
      "01-Feb-21 15:13:44, replay, DEBUG: Epoch[192] current loss: 1113.26005\n",
      "DEBUG:replay:Epoch[192] current loss: 1113.26005\n",
      "01-Feb-21 15:13:44, replay, DEBUG: Epoch[192] validation average loss: 1262.75037\n",
      "DEBUG:replay:Epoch[192] validation average loss: 1262.75037\n",
      "01-Feb-21 15:13:46, replay, DEBUG: Epoch[193] current loss: 1112.16007\n",
      "DEBUG:replay:Epoch[193] current loss: 1112.16007\n",
      "01-Feb-21 15:13:46, replay, DEBUG: Epoch[193] validation average loss: 1262.75024\n",
      "DEBUG:replay:Epoch[193] validation average loss: 1262.75024\n",
      "01-Feb-21 15:13:48, replay, DEBUG: Epoch[194] current loss: 1108.48820\n",
      "DEBUG:replay:Epoch[194] current loss: 1108.48820\n",
      "01-Feb-21 15:13:48, replay, DEBUG: Epoch[194] validation average loss: 1262.75024\n",
      "DEBUG:replay:Epoch[194] validation average loss: 1262.75024\n",
      "01-Feb-21 15:13:50, replay, DEBUG: Epoch[195] current loss: 1105.79880\n",
      "DEBUG:replay:Epoch[195] current loss: 1105.79880\n",
      "01-Feb-21 15:13:50, replay, DEBUG: Epoch[195] validation average loss: 1262.75024\n",
      "DEBUG:replay:Epoch[195] validation average loss: 1262.75024\n",
      "01-Feb-21 15:13:52, replay, DEBUG: Epoch[196] current loss: 1106.23329\n",
      "DEBUG:replay:Epoch[196] current loss: 1106.23329\n",
      "01-Feb-21 15:13:52, replay, DEBUG: Epoch[196] validation average loss: 1262.75024\n",
      "DEBUG:replay:Epoch[196] validation average loss: 1262.75024\n",
      "01-Feb-21 15:13:54, replay, DEBUG: Epoch[197] current loss: 1112.27568\n",
      "DEBUG:replay:Epoch[197] current loss: 1112.27568\n",
      "01-Feb-21 15:13:54, replay, DEBUG: Epoch[197] validation average loss: 1262.75024\n",
      "DEBUG:replay:Epoch[197] validation average loss: 1262.75024\n",
      "01-Feb-21 15:13:56, replay, DEBUG: Epoch[198] current loss: 1100.42852\n",
      "DEBUG:replay:Epoch[198] current loss: 1100.42852\n",
      "01-Feb-21 15:13:56, replay, DEBUG: Epoch[198] validation average loss: 1262.75012\n",
      "DEBUG:replay:Epoch[198] validation average loss: 1262.75012\n",
      "01-Feb-21 15:13:57, replay, DEBUG: Epoch[199] current loss: 1110.72448\n",
      "DEBUG:replay:Epoch[199] current loss: 1110.72448\n",
      "01-Feb-21 15:13:58, replay, DEBUG: Epoch[199] validation average loss: 1262.75024\n",
      "DEBUG:replay:Epoch[199] validation average loss: 1262.75024\n",
      "01-Feb-21 15:13:59, replay, DEBUG: Epoch[200] current loss: 1104.78694\n",
      "DEBUG:replay:Epoch[200] current loss: 1104.78694\n",
      "01-Feb-21 15:13:59, replay, DEBUG: Epoch[200] validation average loss: 1262.75012\n",
      "DEBUG:replay:Epoch[200] validation average loss: 1262.75012\n",
      "01-Feb-21 15:14:01, replay, DEBUG: Epoch[201] current loss: 1108.72508\n",
      "DEBUG:replay:Epoch[201] current loss: 1108.72508\n",
      "01-Feb-21 15:14:01, replay, DEBUG: Epoch[201] validation average loss: 1262.75012\n",
      "DEBUG:replay:Epoch[201] validation average loss: 1262.75012\n",
      "01-Feb-21 15:14:03, replay, DEBUG: Epoch[202] current loss: 1103.29087\n",
      "DEBUG:replay:Epoch[202] current loss: 1103.29087\n",
      "01-Feb-21 15:14:03, replay, DEBUG: Epoch[202] validation average loss: 1262.75012\n",
      "DEBUG:replay:Epoch[202] validation average loss: 1262.75012\n",
      "01-Feb-21 15:14:05, replay, DEBUG: Epoch[203] current loss: 1105.82421\n",
      "DEBUG:replay:Epoch[203] current loss: 1105.82421\n",
      "01-Feb-21 15:14:05, replay, DEBUG: Epoch[203] validation average loss: 1262.75012\n",
      "DEBUG:replay:Epoch[203] validation average loss: 1262.75012\n",
      "01-Feb-21 15:14:06, replay, DEBUG: Epoch[204] current loss: 1095.77226\n",
      "DEBUG:replay:Epoch[204] current loss: 1095.77226\n",
      "01-Feb-21 15:14:07, replay, DEBUG: Epoch[204] validation average loss: 1262.75012\n",
      "DEBUG:replay:Epoch[204] validation average loss: 1262.75012\n",
      "01-Feb-21 15:14:08, replay, DEBUG: Epoch[205] current loss: 1110.68319\n",
      "DEBUG:replay:Epoch[205] current loss: 1110.68319\n",
      "01-Feb-21 15:14:08, replay, DEBUG: Epoch[205] validation average loss: 1262.75012\n",
      "DEBUG:replay:Epoch[205] validation average loss: 1262.75012\n",
      "01-Feb-21 15:14:10, replay, DEBUG: Epoch[206] current loss: 1106.97505\n",
      "DEBUG:replay:Epoch[206] current loss: 1106.97505\n",
      "01-Feb-21 15:14:10, replay, DEBUG: Epoch[206] validation average loss: 1262.75012\n",
      "DEBUG:replay:Epoch[206] validation average loss: 1262.75012\n",
      "01-Feb-21 15:14:12, replay, DEBUG: Epoch[207] current loss: 1102.02347\n",
      "DEBUG:replay:Epoch[207] current loss: 1102.02347\n",
      "01-Feb-21 15:14:12, replay, DEBUG: Epoch[207] validation average loss: 1262.75012\n",
      "DEBUG:replay:Epoch[207] validation average loss: 1262.75012\n",
      "01-Feb-21 15:14:14, replay, DEBUG: Epoch[208] current loss: 1110.71635\n",
      "DEBUG:replay:Epoch[208] current loss: 1110.71635\n",
      "01-Feb-21 15:14:14, replay, DEBUG: Epoch[208] validation average loss: 1262.75000\n",
      "DEBUG:replay:Epoch[208] validation average loss: 1262.75000\n",
      "01-Feb-21 15:14:16, replay, DEBUG: Epoch[209] current loss: 1107.17101\n",
      "DEBUG:replay:Epoch[209] current loss: 1107.17101\n",
      "01-Feb-21 15:14:16, replay, DEBUG: Epoch[209] validation average loss: 1262.75012\n",
      "DEBUG:replay:Epoch[209] validation average loss: 1262.75012\n",
      "01-Feb-21 15:14:18, replay, DEBUG: Epoch[210] current loss: 1103.83244\n",
      "DEBUG:replay:Epoch[210] current loss: 1103.83244\n",
      "01-Feb-21 15:14:18, replay, DEBUG: Epoch[210] validation average loss: 1262.75000\n",
      "DEBUG:replay:Epoch[210] validation average loss: 1262.75000\n",
      "01-Feb-21 15:14:20, replay, DEBUG: Epoch[211] current loss: 1116.73816\n",
      "DEBUG:replay:Epoch[211] current loss: 1116.73816\n",
      "01-Feb-21 15:14:20, replay, DEBUG: Epoch[211] validation average loss: 1262.75012\n",
      "DEBUG:replay:Epoch[211] validation average loss: 1262.75012\n",
      "01-Feb-21 15:14:21, replay, DEBUG: Epoch[212] current loss: 1104.71853\n",
      "DEBUG:replay:Epoch[212] current loss: 1104.71853\n",
      "01-Feb-21 15:14:21, replay, DEBUG: Epoch[212] validation average loss: 1262.75000\n",
      "DEBUG:replay:Epoch[212] validation average loss: 1262.75000\n",
      "01-Feb-21 15:14:23, replay, DEBUG: Epoch[213] current loss: 1114.15820\n",
      "DEBUG:replay:Epoch[213] current loss: 1114.15820\n",
      "01-Feb-21 15:14:23, replay, DEBUG: Epoch[213] validation average loss: 1262.75000\n",
      "DEBUG:replay:Epoch[213] validation average loss: 1262.75000\n",
      "01-Feb-21 15:14:25, replay, DEBUG: Epoch[214] current loss: 1105.25733\n",
      "DEBUG:replay:Epoch[214] current loss: 1105.25733\n",
      "01-Feb-21 15:14:25, replay, DEBUG: Epoch[214] validation average loss: 1262.75000\n",
      "DEBUG:replay:Epoch[214] validation average loss: 1262.75000\n",
      "01-Feb-21 15:14:27, replay, DEBUG: Epoch[215] current loss: 1107.03803\n",
      "DEBUG:replay:Epoch[215] current loss: 1107.03803\n",
      "01-Feb-21 15:14:27, replay, DEBUG: Epoch[215] validation average loss: 1262.75000\n",
      "DEBUG:replay:Epoch[215] validation average loss: 1262.75000\n",
      "01-Feb-21 15:14:29, replay, DEBUG: Epoch[216] current loss: 1106.44791\n",
      "DEBUG:replay:Epoch[216] current loss: 1106.44791\n",
      "01-Feb-21 15:14:29, replay, DEBUG: Epoch[216] validation average loss: 1262.75012\n",
      "DEBUG:replay:Epoch[216] validation average loss: 1262.75012\n",
      "01-Feb-21 15:14:31, replay, DEBUG: Epoch[217] current loss: 1104.77795\n",
      "DEBUG:replay:Epoch[217] current loss: 1104.77795\n",
      "01-Feb-21 15:14:31, replay, DEBUG: Epoch[217] validation average loss: 1262.75000\n",
      "DEBUG:replay:Epoch[217] validation average loss: 1262.75000\n",
      "01-Feb-21 15:14:33, replay, DEBUG: Epoch[218] current loss: 1107.96593\n",
      "DEBUG:replay:Epoch[218] current loss: 1107.96593\n",
      "INFO:ignite.handlers.early_stopping.EarlyStopping:EarlyStopping: Stop training\n",
      "01-Feb-21 15:14:33, replay, DEBUG: Epoch[218] validation average loss: 1262.75000\n",
      "DEBUG:replay:Epoch[218] validation average loss: 1262.75000\n",
      "01-Feb-21 15:14:33, replay, DEBUG: -- Загрузка модели из файла\n",
      "DEBUG:replay:-- Загрузка модели из файла\n"
     ]
    },
    {
     "name": "stdout",
     "output_type": "stream",
     "text": [
      "CPU times: user 20min 52s, sys: 2min 5s, total: 22min 58s\n",
      "Wall time: 7min\n"
     ]
    }
   ],
   "source": [
    "%%time\n",
    "multvae.fit(log=train)"
   ]
  },
  {
   "cell_type": "code",
   "execution_count": 23,
   "metadata": {
    "ExecuteTime": {
     "end_time": "2020-02-10T16:07:26.278582Z",
     "start_time": "2020-02-10T16:06:39.118983Z"
    },
    "collapsed": false,
    "jupyter": {
     "outputs_hidden": false
    },
    "scrolled": true
   },
   "outputs": [
    {
     "name": "stderr",
     "output_type": "stream",
     "text": [
      "01-Feb-21 15:14:33, replay, DEBUG: Начало предикта MultVAE\n",
      "DEBUG:replay:Начало предикта MultVAE\n",
      "01-Feb-21 15:14:41, replay, DEBUG: Предсказание модели\n",
      "DEBUG:replay:Предсказание модели\n",
      "/Users/a18785698/Documents/code_dir/base_replay_376/lib/python3.7/site-packages/torch/storage.py:34: FutureWarning: pickle support for Storage will be removed in 1.5. Use `torch.save` instead\n",
      "  warnings.warn(\"pickle support for Storage will be removed in 1.5. Use `torch.save` instead\", FutureWarning)\n"
     ]
    },
    {
     "name": "stdout",
     "output_type": "stream",
     "text": [
      "CPU times: user 1.61 s, sys: 346 ms, total: 1.96 s\n",
      "Wall time: 23.7 s\n"
     ]
    }
   ],
   "source": [
    "%%time\n",
    "\n",
    "recs = multvae.predict(\n",
    "    k=10,\n",
    "    users=test.select('user_id').distinct(),\n",
    "    items=test.select('item_id').distinct(),\n",
    "    log=train,\n",
    "    filter_seen_items=True\n",
    ")"
   ]
  },
  {
   "cell_type": "code",
   "execution_count": 24,
   "metadata": {},
   "outputs": [
    {
     "name": "stdout",
     "output_type": "stream",
     "text": [
      "CPU times: user 168 ms, sys: 137 ms, total: 305 ms\n",
      "Wall time: 48 s\n"
     ]
    },
    {
     "data": {
      "text/html": [
       "<div>\n",
       "<style scoped>\n",
       "    .dataframe tbody tr th:only-of-type {\n",
       "        vertical-align: middle;\n",
       "    }\n",
       "\n",
       "    .dataframe tbody tr th {\n",
       "        vertical-align: top;\n",
       "    }\n",
       "\n",
       "    .dataframe thead th {\n",
       "        text-align: right;\n",
       "    }\n",
       "</style>\n",
       "<table border=\"1\" class=\"dataframe\">\n",
       "  <thead>\n",
       "    <tr style=\"text-align: right;\">\n",
       "      <th></th>\n",
       "      <th>HitRate@1</th>\n",
       "      <th>HitRate@5</th>\n",
       "      <th>HitRate@10</th>\n",
       "      <th>MAP@10</th>\n",
       "      <th>NDCG@10</th>\n",
       "    </tr>\n",
       "  </thead>\n",
       "  <tbody>\n",
       "    <tr>\n",
       "      <th>SLIM</th>\n",
       "      <td>0.072</td>\n",
       "      <td>0.224</td>\n",
       "      <td>0.334</td>\n",
       "      <td>0.136348</td>\n",
       "      <td>0.182250</td>\n",
       "    </tr>\n",
       "    <tr>\n",
       "      <th>ALS</th>\n",
       "      <td>0.064</td>\n",
       "      <td>0.258</td>\n",
       "      <td>0.376</td>\n",
       "      <td>0.149850</td>\n",
       "      <td>0.203000</td>\n",
       "    </tr>\n",
       "    <tr>\n",
       "      <th>MultVAE</th>\n",
       "      <td>0.012</td>\n",
       "      <td>0.056</td>\n",
       "      <td>0.132</td>\n",
       "      <td>0.036910</td>\n",
       "      <td>0.058415</td>\n",
       "    </tr>\n",
       "  </tbody>\n",
       "</table>\n",
       "</div>"
      ],
      "text/plain": [
       "         HitRate@1  HitRate@5  HitRate@10    MAP@10   NDCG@10\n",
       "SLIM         0.072      0.224       0.334  0.136348  0.182250\n",
       "ALS          0.064      0.258       0.376  0.149850  0.203000\n",
       "MultVAE      0.012      0.056       0.132  0.036910  0.058415"
      ]
     },
     "execution_count": 24,
     "metadata": {},
     "output_type": "execute_result"
    }
   ],
   "source": [
    "%%time\n",
    "metrics.add_result(\"MultVAE\", recs)\n",
    "metrics.results"
   ]
  },
  {
   "cell_type": "markdown",
   "metadata": {},
   "source": [
    "## 5 Сравнение результатов различных моделей\n",
    "С помощью experiment можно сравнить качество моделей, построенных с использованием различных инструментов.\n",
    "Предположим, мы хотим сравнить модели RePlay с некой \"внешней\" моделью. Для этого нужно:\n",
    "* 5.1. Экспортировать обучающую выборку (в pandas/numpy/csv)\n",
    "* 5.2. Обучить модель и получить рекомендации для всех пользователей в виде csv/pandas-датафрейма\n",
    "* 5.3. Считать рекомендации с помощью DataPreparator\n",
    "* 5.4. Посчитать метрики в experiment"
   ]
  },
  {
   "cell_type": "markdown",
   "metadata": {},
   "source": [
    "#### 5.1 Экспортируем train"
   ]
  },
  {
   "cell_type": "code",
   "execution_count": 25,
   "metadata": {
    "collapsed": false,
    "jupyter": {
     "outputs_hidden": false
    }
   },
   "outputs": [],
   "source": [
    "train.toPandas().to_csv(\"train.csv\", index=False)"
   ]
  },
  {
   "cell_type": "code",
   "execution_count": 26,
   "metadata": {
    "collapsed": false,
    "jupyter": {
     "outputs_hidden": false
    },
    "scrolled": true
   },
   "outputs": [
    {
     "name": "stdout",
     "output_type": "stream",
     "text": [
      "user_id,item_id,relevance,timestamp\n",
      "1,1029,5.0,2001-01-01 01:36:45\n",
      "1,2294,4.0,2001-01-07 02:38:11\n",
      "1,3114,4.0,2001-01-01 01:36:14\n",
      "1,783,4.0,2001-01-07 02:38:11\n"
     ]
    }
   ],
   "source": [
    "!head -n 5 train.csv"
   ]
  },
  {
   "cell_type": "markdown",
   "metadata": {},
   "source": [
    "#### 5.2 Обучаем модель и получаем рекомендации в формате `id пользователя - id объекта - relevance`"
   ]
  },
  {
   "cell_type": "markdown",
   "metadata": {},
   "source": [
    "Предположим, что это произошло, и у нас есть рекомендации в виде csv-файла. Ниже в качестве пример используем рекомендации, полученные одной из моделей, с рандомными релевантностями."
   ]
  },
  {
   "cell_type": "code",
   "execution_count": 27,
   "metadata": {},
   "outputs": [],
   "source": [
    "from pyspark.sql.functions import rand"
   ]
  },
  {
   "cell_type": "code",
   "execution_count": 28,
   "metadata": {
    "collapsed": false,
    "jupyter": {
     "outputs_hidden": false
    }
   },
   "outputs": [],
   "source": [
    "recs.withColumn('relevance', rand(seed=123)).toPandas().to_csv(\"recs.csv\", index=False)"
   ]
  },
  {
   "cell_type": "markdown",
   "metadata": {},
   "source": [
    "#### 5.3 Теперь нужно прочитать рекомендации в формате, поддерживаемом библиотекой"
   ]
  },
  {
   "cell_type": "code",
   "execution_count": 29,
   "metadata": {
    "collapsed": false,
    "jupyter": {
     "outputs_hidden": false
    }
   },
   "outputs": [],
   "source": [
    "recs = DataPreparator().transform(\n",
    "    path=\"recs.csv\",\n",
    "    columns_names={\n",
    "        \"user_id\": \"user_id\",\n",
    "        \"item_id\": \"item_id\",\n",
    "        \"relevance\": \"relevance\"\n",
    "    },\n",
    "    header=True,\n",
    "    format_type=\"csv\"\n",
    ")"
   ]
  },
  {
   "cell_type": "markdown",
   "metadata": {},
   "source": [
    "#### 5.4 Сравним качество внешней модели с предыдущими результатами"
   ]
  },
  {
   "cell_type": "code",
   "execution_count": 30,
   "metadata": {
    "collapsed": false,
    "jupyter": {
     "outputs_hidden": false
    }
   },
   "outputs": [
    {
     "data": {
      "text/html": [
       "<div>\n",
       "<style scoped>\n",
       "    .dataframe tbody tr th:only-of-type {\n",
       "        vertical-align: middle;\n",
       "    }\n",
       "\n",
       "    .dataframe tbody tr th {\n",
       "        vertical-align: top;\n",
       "    }\n",
       "\n",
       "    .dataframe thead th {\n",
       "        text-align: right;\n",
       "    }\n",
       "</style>\n",
       "<table border=\"1\" class=\"dataframe\">\n",
       "  <thead>\n",
       "    <tr style=\"text-align: right;\">\n",
       "      <th></th>\n",
       "      <th>HitRate@1</th>\n",
       "      <th>HitRate@5</th>\n",
       "      <th>HitRate@10</th>\n",
       "      <th>MAP@10</th>\n",
       "      <th>NDCG@10</th>\n",
       "    </tr>\n",
       "  </thead>\n",
       "  <tbody>\n",
       "    <tr>\n",
       "      <th>ALS</th>\n",
       "      <td>0.064</td>\n",
       "      <td>0.258</td>\n",
       "      <td>0.376</td>\n",
       "      <td>0.149850</td>\n",
       "      <td>0.203000</td>\n",
       "    </tr>\n",
       "    <tr>\n",
       "      <th>SLIM</th>\n",
       "      <td>0.072</td>\n",
       "      <td>0.224</td>\n",
       "      <td>0.334</td>\n",
       "      <td>0.136348</td>\n",
       "      <td>0.182250</td>\n",
       "    </tr>\n",
       "    <tr>\n",
       "      <th>MultVAE</th>\n",
       "      <td>0.012</td>\n",
       "      <td>0.056</td>\n",
       "      <td>0.132</td>\n",
       "      <td>0.036910</td>\n",
       "      <td>0.058415</td>\n",
       "    </tr>\n",
       "    <tr>\n",
       "      <th>my_model</th>\n",
       "      <td>0.014</td>\n",
       "      <td>0.046</td>\n",
       "      <td>0.132</td>\n",
       "      <td>0.035397</td>\n",
       "      <td>0.057047</td>\n",
       "    </tr>\n",
       "  </tbody>\n",
       "</table>\n",
       "</div>"
      ],
      "text/plain": [
       "          HitRate@1  HitRate@5  HitRate@10    MAP@10   NDCG@10\n",
       "ALS           0.064      0.258       0.376  0.149850  0.203000\n",
       "SLIM          0.072      0.224       0.334  0.136348  0.182250\n",
       "MultVAE       0.012      0.056       0.132  0.036910  0.058415\n",
       "my_model      0.014      0.046       0.132  0.035397  0.057047"
      ]
     },
     "execution_count": 30,
     "metadata": {},
     "output_type": "execute_result"
    }
   ],
   "source": [
    "metrics.add_result(\"my_model\", recs)\n",
    "metrics.results.sort_values(\"NDCG@10\", ascending=False)"
   ]
  },
  {
   "cell_type": "code",
   "execution_count": null,
   "metadata": {},
   "outputs": [],
   "source": []
  }
 ],
 "metadata": {
  "kernelspec": {
   "display_name": "Python 3",
   "language": "python",
   "name": "python3"
  },
  "language_info": {
   "codemirror_mode": {
    "name": "ipython",
    "version": 3
   },
   "file_extension": ".py",
   "mimetype": "text/x-python",
   "name": "python",
   "nbconvert_exporter": "python",
   "pygments_lexer": "ipython3",
   "version": "3.7.6"
  },
  "name": "movielens_nmf.ipynb",
  "pycharm": {
   "stem_cell": {
    "cell_type": "raw",
    "metadata": {
     "collapsed": false
    },
    "source": [
     "null"
    ]
   }
  }
 },
 "nbformat": 4,
 "nbformat_minor": 4
}
