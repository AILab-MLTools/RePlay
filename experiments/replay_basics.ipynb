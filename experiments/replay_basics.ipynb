{
 "cells": [
  {
   "cell_type": "markdown",
   "metadata": {},
   "source": [
    "# Использование RePlay\n",
    "Данный ноутбук показывает базовый порядок работы с библиотекой.\n",
    "- загрузка датасета\n",
    "- деление на трейн и тест\n",
    "- обучение модели\n",
    "- сравнение с бейзлайном\n",
    "\n",
    "Документацию можно собрать из папки `docs` командой `make html`. Она создаст папку `_build` с документацией -- `/docs/_build/html/index.html`"
   ]
  },
  {
   "cell_type": "code",
   "execution_count": 1,
   "metadata": {
    "ExecuteTime": {
     "end_time": "2020-02-10T16:01:45.639135Z",
     "start_time": "2020-02-10T16:01:45.612577Z"
    },
    "jupyter": {
     "outputs_hidden": false
    },
    "pycharm": {
     "is_executing": false
    }
   },
   "outputs": [],
   "source": [
    "%load_ext autoreload\n",
    "%autoreload 2"
   ]
  },
  {
   "cell_type": "markdown",
   "metadata": {},
   "source": [
    "Целевая архитектура библиотеки - ЛД 3.0, поэтому используем Spark.\n",
    "Для отладки моделей (не на кластере) создаём локальную сессию.\n",
    "\n",
    "Объект `State` позволяет использовать одну и ту же сессию Spark в разных объектах.\n",
    "Если сессия уже инициализирована, то её нужно передать при инициализации `State`. Модули библиотеки, которым необходимо использовать спарк-сессию, например для конвертации из пандас в спарк, будут искать сессию именно в `State`.\n",
    "\n",
    "По умолчанию создастся дефолтная сессия. Простой способ получить сессию с заданным количеством выделенной памяти -- функция `get_spark_session` модуля `session_handler`."
   ]
  },
  {
   "cell_type": "code",
   "execution_count": 2,
   "metadata": {
    "ExecuteTime": {
     "end_time": "2020-02-10T15:59:09.227179Z",
     "start_time": "2020-02-10T15:59:06.427348Z"
    },
    "jupyter": {
     "outputs_hidden": false
    },
    "pycharm": {
     "is_executing": false
    }
   },
   "outputs": [
    {
     "data": {
      "text/html": [
       "\n",
       "            <div>\n",
       "                <p><b>SparkSession - hive</b></p>\n",
       "                \n",
       "        <div>\n",
       "            <p><b>SparkContext</b></p>\n",
       "\n",
       "            <p><a href=\"http://localhost:4040\">Spark UI</a></p>\n",
       "\n",
       "            <dl>\n",
       "              <dt>Version</dt>\n",
       "                <dd><code>v3.0.0</code></dd>\n",
       "              <dt>Master</dt>\n",
       "                <dd><code>local[*]</code></dd>\n",
       "              <dt>AppName</dt>\n",
       "                <dd><code>pyspark-shell</code></dd>\n",
       "            </dl>\n",
       "        </div>\n",
       "        \n",
       "            </div>\n",
       "        "
      ],
      "text/plain": [
       "<pyspark.sql.session.SparkSession at 0x13e5b1cd0>"
      ]
     },
     "execution_count": 2,
     "metadata": {},
     "output_type": "execute_result"
    }
   ],
   "source": [
    "from replay.session_handler import State\n",
    "\n",
    "spark = State().session\n",
    "spark"
   ]
  },
  {
   "cell_type": "code",
   "execution_count": 3,
   "metadata": {},
   "outputs": [],
   "source": [
    "K = 10"
   ]
  },
  {
   "cell_type": "markdown",
   "metadata": {},
   "source": [
    "## 0. Подготовка данных <a name='data-preparator'></a>\n",
    "\n",
    "В качестве примера возьмём датасет MovieLens 1m."
   ]
  },
  {
   "cell_type": "code",
   "execution_count": 9,
   "metadata": {
    "ExecuteTime": {
     "end_time": "2020-02-10T15:59:42.041251Z",
     "start_time": "2020-02-10T15:59:09.230636Z"
    },
    "jupyter": {
     "outputs_hidden": false
    },
    "scrolled": true
   },
   "outputs": [],
   "source": [
    "import pandas as pd\n",
    "df = pd.read_csv(\"data/ml1m_ratings.dat\", sep=\"\\t\", names=[\"user_id\", \"item_id\", \"relevance\", \"timestamp\"])\n",
    "users = pd.read_csv(\"data/ml1m_users.dat\", sep=\"\\t\", names=[\"user_id\", \"gender\", \"age\", \"occupation\", \"zip_code\"])"
   ]
  },
  {
   "cell_type": "markdown",
   "metadata": {},
   "source": [
    "### 0.1. DataPreparator"
   ]
  },
  {
   "cell_type": "markdown",
   "metadata": {},
   "source": [
    "Внутренний формат данных в библиотеке - spark dataframe.\n",
    "Модели replay ожидают на вход pandas или spark dataframe, содержащий обязательные столбцы item_id, user_id. Для некоторых моделей обязательно наличие столбца relevance, содержащего оценки релевантности объектов для пользователей.\n",
    "Для разбиения данных по времени с помощью Splitter и фильтров в логе должен присутсововать столбец timestamp.\n",
    "\n",
    "В replay есть DataPreparator, который автоматически конвертирует pandas и spark dataframe c логом в нужный формат (переименование/создание обязательных столбцов, корректное чтение дат, проверка отсутствия пропусков). DataPreparetor может конвертировать dataframe с признаками пользователей/объектов (нужно указать один из столбцов, соответсвующий user_id/item_id.\n",
    "\n",
    "Также конвертировать pandas dataframes в spark можно с помощью вспомогательной функции convert_to_spark."
   ]
  },
  {
   "cell_type": "code",
   "execution_count": 10,
   "metadata": {
    "jupyter": {
     "outputs_hidden": false
    }
   },
   "outputs": [],
   "source": [
    "from replay.data_preparator import DataPreparator\n",
    "\n",
    "log = DataPreparator().transform(\n",
    "    data=df,\n",
    "    columns_names={\n",
    "        \"user_id\": \"user_id\",\n",
    "        \"item_id\": \"item_id\",\n",
    "        \"relevance\": \"relevance\",\n",
    "        \"timestamp\": \"timestamp\"\n",
    "    }\n",
    ")"
   ]
  },
  {
   "cell_type": "code",
   "execution_count": 11,
   "metadata": {},
   "outputs": [
    {
     "name": "stdout",
     "output_type": "stream",
     "text": [
      "+-------+-------+---------+-------------------+\n",
      "|user_id|item_id|relevance|          timestamp|\n",
      "+-------+-------+---------+-------------------+\n",
      "|      1|   1193|      5.0|2001-01-01 01:12:40|\n",
      "|      1|    661|      3.0|2001-01-01 01:35:09|\n",
      "|      1|    914|      3.0|2001-01-01 01:32:48|\n",
      "+-------+-------+---------+-------------------+\n",
      "only showing top 3 rows\n",
      "\n"
     ]
    }
   ],
   "source": [
    "log.show(3)"
   ]
  },
  {
   "cell_type": "code",
   "execution_count": 13,
   "metadata": {},
   "outputs": [],
   "source": [
    "from replay.utils import convert2spark\n",
    "items = convert2spark(users)"
   ]
  },
  {
   "cell_type": "markdown",
   "metadata": {},
   "source": [
    "### 0.2. Split"
   ]
  },
  {
   "cell_type": "markdown",
   "metadata": {},
   "source": [
    "Библиотека содержит различные схемы валидации рекомендательных систем, встречающиеся в литературе.\n",
    "\n",
    "`UserSplitter` отбирает для теста некоторое количество или долю объектов для каждого пользователя."
   ]
  },
  {
   "cell_type": "code",
   "execution_count": 14,
   "metadata": {
    "ExecuteTime": {
     "end_time": "2020-02-10T15:59:50.986401Z",
     "start_time": "2020-02-10T15:59:42.042998Z"
    },
    "jupyter": {
     "outputs_hidden": false
    }
   },
   "outputs": [
    {
     "data": {
      "text/plain": [
       "(999709, 500)"
      ]
     },
     "execution_count": 14,
     "metadata": {},
     "output_type": "execute_result"
    }
   ],
   "source": [
    "from replay.splitters import UserSplitter\n",
    "\n",
    "splitter = UserSplitter(\n",
    "    drop_cold_items=True,\n",
    "    drop_cold_users=True,\n",
    "    item_test_size=1,\n",
    "    user_test_size=500,\n",
    "    seed=1234,\n",
    "    shuffle=True\n",
    ")\n",
    "train, test = splitter.split(log)\n",
    "(\n",
    "    train.count(), \n",
    "    test.count()\n",
    ")"
   ]
  },
  {
   "cell_type": "markdown",
   "metadata": {},
   "source": [
    "## 1. Обучение модели \n",
    "\n",
    "#### SLIM\n",
    "Один из простых, но эффективных алгоритмов "
   ]
  },
  {
   "cell_type": "code",
   "execution_count": 15,
   "metadata": {},
   "outputs": [
    {
     "name": "stderr",
     "output_type": "stream",
     "text": [
      "/Users/darel/python/sponge-bob-magic/.new_env2/lib/python3.7/site-packages/lightfm/_lightfm_fast.py:9: UserWarning: LightFM was compiled without OpenMP support. Only a single thread will be used.\n",
      "  warnings.warn('LightFM was compiled without OpenMP support. '\n"
     ]
    }
   ],
   "source": [
    "from replay.models import SLIM\n",
    "\n",
    "slim = SLIM(lambda_=0.01, beta=0.01)"
   ]
  },
  {
   "cell_type": "code",
   "execution_count": 16,
   "metadata": {},
   "outputs": [
    {
     "name": "stderr",
     "output_type": "stream",
     "text": [
      "02-Mar-21 17:21:32, replay, DEBUG: Начало обучения SLIM\n",
      "DEBUG:replay:Начало обучения SLIM\n",
      "02-Mar-21 17:21:32, replay, DEBUG: Предварительная стадия обучения (pre-fit)\n",
      "DEBUG:replay:Предварительная стадия обучения (pre-fit)\n",
      "02-Mar-21 17:21:33, replay, DEBUG: Основная стадия обучения (fit)\n",
      "DEBUG:replay:Основная стадия обучения (fit)\n"
     ]
    },
    {
     "name": "stdout",
     "output_type": "stream",
     "text": [
      "CPU times: user 2.49 s, sys: 161 ms, total: 2.65 s\n",
      "Wall time: 6.86 s\n"
     ]
    }
   ],
   "source": [
    "%%time\n",
    "\n",
    "slim.fit(log=train)"
   ]
  },
  {
   "cell_type": "code",
   "execution_count": 17,
   "metadata": {},
   "outputs": [
    {
     "name": "stderr",
     "output_type": "stream",
     "text": [
      "02-Mar-21 17:21:39, replay, DEBUG: Начало предикта SLIM\n",
      "DEBUG:replay:Начало предикта SLIM\n"
     ]
    },
    {
     "name": "stdout",
     "output_type": "stream",
     "text": [
      "CPU times: user 964 ms, sys: 165 ms, total: 1.13 s\n",
      "Wall time: 3.63 s\n"
     ]
    }
   ],
   "source": [
    "%%time\n",
    "\n",
    "recs = slim.predict(\n",
    "    k=K,\n",
    "    users=test.select('user_id').distinct(),\n",
    "    items=test.select('item_id').distinct(),\n",
    "    log=train,\n",
    "    filter_seen_items=True\n",
    ")"
   ]
  },
  {
   "cell_type": "markdown",
   "metadata": {},
   "source": [
    "## 2. Оценка качества и сравнение результатов моделей"
   ]
  },
  {
   "cell_type": "markdown",
   "metadata": {},
   "source": [
    "В библиотеке реализованы различные метрики качества рекомендательных систем, встречающихся в литературе.\n",
    "Их можно использовать напрямую, либо запоминать результаты с помощью класса `Experiment`."
   ]
  },
  {
   "cell_type": "code",
   "execution_count": 18,
   "metadata": {
    "ExecuteTime": {
     "end_time": "2020-02-10T16:07:28.942205Z",
     "start_time": "2020-02-10T16:07:26.281475Z"
    },
    "jupyter": {
     "outputs_hidden": false
    }
   },
   "outputs": [],
   "source": [
    "from replay.metrics import HitRate, NDCG, MAP\n",
    "from replay.experiment import Experiment\n",
    "\n",
    "metrics = Experiment(test, {NDCG(): K,\n",
    "                            MAP() : K,\n",
    "                            HitRate(): [1, int(K/2), K]})\n"
   ]
  },
  {
   "cell_type": "code",
   "execution_count": 19,
   "metadata": {},
   "outputs": [
    {
     "name": "stdout",
     "output_type": "stream",
     "text": [
      "CPU times: user 138 ms, sys: 31.6 ms, total: 170 ms\n",
      "Wall time: 1min 14s\n"
     ]
    },
    {
     "data": {
      "text/html": [
       "<div>\n",
       "<style scoped>\n",
       "    .dataframe tbody tr th:only-of-type {\n",
       "        vertical-align: middle;\n",
       "    }\n",
       "\n",
       "    .dataframe tbody tr th {\n",
       "        vertical-align: top;\n",
       "    }\n",
       "\n",
       "    .dataframe thead th {\n",
       "        text-align: right;\n",
       "    }\n",
       "</style>\n",
       "<table border=\"1\" class=\"dataframe\">\n",
       "  <thead>\n",
       "    <tr style=\"text-align: right;\">\n",
       "      <th></th>\n",
       "      <th>HitRate@1</th>\n",
       "      <th>HitRate@5</th>\n",
       "      <th>HitRate@10</th>\n",
       "      <th>MAP@10</th>\n",
       "      <th>NDCG@10</th>\n",
       "    </tr>\n",
       "  </thead>\n",
       "  <tbody>\n",
       "    <tr>\n",
       "      <th>SLIM</th>\n",
       "      <td>0.072</td>\n",
       "      <td>0.218</td>\n",
       "      <td>0.328</td>\n",
       "      <td>0.135137</td>\n",
       "      <td>0.18002</td>\n",
       "    </tr>\n",
       "  </tbody>\n",
       "</table>\n",
       "</div>"
      ],
      "text/plain": [
       "      HitRate@1  HitRate@5  HitRate@10    MAP@10  NDCG@10\n",
       "SLIM      0.072      0.218       0.328  0.135137  0.18002"
      ]
     },
     "execution_count": 19,
     "metadata": {},
     "output_type": "execute_result"
    }
   ],
   "source": [
    "%%time\n",
    "metrics.add_result(\"SLIM\", recs)\n",
    "metrics.results"
   ]
  },
  {
   "cell_type": "markdown",
   "metadata": {},
   "source": [
    "## 3. Конвертация в pandas"
   ]
  },
  {
   "cell_type": "code",
   "execution_count": 20,
   "metadata": {},
   "outputs": [
    {
     "data": {
      "text/html": [
       "<div>\n",
       "<style scoped>\n",
       "    .dataframe tbody tr th:only-of-type {\n",
       "        vertical-align: middle;\n",
       "    }\n",
       "\n",
       "    .dataframe tbody tr th {\n",
       "        vertical-align: top;\n",
       "    }\n",
       "\n",
       "    .dataframe thead th {\n",
       "        text-align: right;\n",
       "    }\n",
       "</style>\n",
       "<table border=\"1\" class=\"dataframe\">\n",
       "  <thead>\n",
       "    <tr style=\"text-align: right;\">\n",
       "      <th></th>\n",
       "      <th>user_id</th>\n",
       "      <th>item_id</th>\n",
       "      <th>relevance</th>\n",
       "    </tr>\n",
       "  </thead>\n",
       "  <tbody>\n",
       "    <tr>\n",
       "      <th>0</th>\n",
       "      <td>1018</td>\n",
       "      <td>1200</td>\n",
       "      <td>0.843051</td>\n",
       "    </tr>\n",
       "    <tr>\n",
       "      <th>1</th>\n",
       "      <td>1018</td>\n",
       "      <td>1221</td>\n",
       "      <td>0.790657</td>\n",
       "    </tr>\n",
       "    <tr>\n",
       "      <th>2</th>\n",
       "      <td>1018</td>\n",
       "      <td>10</td>\n",
       "      <td>0.714412</td>\n",
       "    </tr>\n",
       "  </tbody>\n",
       "</table>\n",
       "</div>"
      ],
      "text/plain": [
       "  user_id item_id  relevance\n",
       "0    1018    1200   0.843051\n",
       "1    1018    1221   0.790657\n",
       "2    1018      10   0.714412"
      ]
     },
     "execution_count": 20,
     "metadata": {},
     "output_type": "execute_result"
    }
   ],
   "source": [
    "recs_pd = recs.toPandas()\n",
    "recs_pd.head(3)"
   ]
  },
  {
   "cell_type": "markdown",
   "metadata": {},
   "source": [
    "## 4. Примеры использования других моделей RePlay"
   ]
  },
  {
   "cell_type": "markdown",
   "metadata": {},
   "source": [
    "#### ALS\n",
    "Библиотека также содержит классические алгоритмы рекомендаций, например, матричную факторизацию"
   ]
  },
  {
   "cell_type": "code",
   "execution_count": 21,
   "metadata": {
    "jupyter": {
     "outputs_hidden": false
    }
   },
   "outputs": [],
   "source": [
    "from replay.models import ALSWrap\n",
    "\n",
    "als = ALSWrap(rank=100)"
   ]
  },
  {
   "cell_type": "code",
   "execution_count": 22,
   "metadata": {
    "jupyter": {
     "outputs_hidden": false
    }
   },
   "outputs": [
    {
     "name": "stderr",
     "output_type": "stream",
     "text": [
      "02-Mar-21 17:22:58, replay, DEBUG: Начало обучения ALSWrap\n",
      "DEBUG:replay:Начало обучения ALSWrap\n",
      "02-Mar-21 17:22:58, replay, DEBUG: Предварительная стадия обучения (pre-fit)\n",
      "DEBUG:replay:Предварительная стадия обучения (pre-fit)\n",
      "02-Mar-21 17:22:59, replay, DEBUG: Основная стадия обучения (fit)\n",
      "DEBUG:replay:Основная стадия обучения (fit)\n"
     ]
    },
    {
     "name": "stdout",
     "output_type": "stream",
     "text": [
      "CPU times: user 312 ms, sys: 33.7 ms, total: 346 ms\n",
      "Wall time: 37.2 s\n"
     ]
    }
   ],
   "source": [
    "%%time\n",
    "als.fit(log=train)"
   ]
  },
  {
   "cell_type": "code",
   "execution_count": 23,
   "metadata": {
    "jupyter": {
     "outputs_hidden": false
    }
   },
   "outputs": [
    {
     "name": "stderr",
     "output_type": "stream",
     "text": [
      "02-Mar-21 17:23:36, replay, DEBUG: Начало предикта ALSWrap\n",
      "DEBUG:replay:Начало предикта ALSWrap\n"
     ]
    },
    {
     "name": "stdout",
     "output_type": "stream",
     "text": [
      "CPU times: user 922 ms, sys: 154 ms, total: 1.08 s\n",
      "Wall time: 3.15 s\n"
     ]
    }
   ],
   "source": [
    "%%time\n",
    "recs = als.predict(\n",
    "    k=K,\n",
    "    users=test.select('user_id').distinct(),\n",
    "    items=test.select('item_id').distinct(),\n",
    "    log=train,\n",
    "    filter_seen_items=True\n",
    ")"
   ]
  },
  {
   "cell_type": "code",
   "execution_count": 24,
   "metadata": {
    "jupyter": {
     "outputs_hidden": false
    }
   },
   "outputs": [
    {
     "name": "stdout",
     "output_type": "stream",
     "text": [
      "CPU times: user 110 ms, sys: 23.9 ms, total: 133 ms\n",
      "Wall time: 8.45 s\n"
     ]
    },
    {
     "data": {
      "text/html": [
       "<div>\n",
       "<style scoped>\n",
       "    .dataframe tbody tr th:only-of-type {\n",
       "        vertical-align: middle;\n",
       "    }\n",
       "\n",
       "    .dataframe tbody tr th {\n",
       "        vertical-align: top;\n",
       "    }\n",
       "\n",
       "    .dataframe thead th {\n",
       "        text-align: right;\n",
       "    }\n",
       "</style>\n",
       "<table border=\"1\" class=\"dataframe\">\n",
       "  <thead>\n",
       "    <tr style=\"text-align: right;\">\n",
       "      <th></th>\n",
       "      <th>HitRate@1</th>\n",
       "      <th>HitRate@5</th>\n",
       "      <th>HitRate@10</th>\n",
       "      <th>MAP@10</th>\n",
       "      <th>NDCG@10</th>\n",
       "    </tr>\n",
       "  </thead>\n",
       "  <tbody>\n",
       "    <tr>\n",
       "      <th>SLIM</th>\n",
       "      <td>0.072</td>\n",
       "      <td>0.218</td>\n",
       "      <td>0.328</td>\n",
       "      <td>0.135137</td>\n",
       "      <td>0.18002</td>\n",
       "    </tr>\n",
       "    <tr>\n",
       "      <th>ALS</th>\n",
       "      <td>0.064</td>\n",
       "      <td>0.258</td>\n",
       "      <td>0.376</td>\n",
       "      <td>0.149850</td>\n",
       "      <td>0.20300</td>\n",
       "    </tr>\n",
       "  </tbody>\n",
       "</table>\n",
       "</div>"
      ],
      "text/plain": [
       "      HitRate@1  HitRate@5  HitRate@10    MAP@10  NDCG@10\n",
       "SLIM      0.072      0.218       0.328  0.135137  0.18002\n",
       "ALS       0.064      0.258       0.376  0.149850  0.20300"
      ]
     },
     "execution_count": 24,
     "metadata": {},
     "output_type": "execute_result"
    }
   ],
   "source": [
    "%%time\n",
    "metrics.add_result(\"ALS\", recs)\n",
    "metrics.results"
   ]
  },
  {
   "cell_type": "markdown",
   "metadata": {},
   "source": [
    "#### MultVAE \n",
    "Пример использования DL в рекомендациях"
   ]
  },
  {
   "cell_type": "code",
   "execution_count": 25,
   "metadata": {
    "ExecuteTime": {
     "end_time": "2020-02-10T15:59:51.024567Z",
     "start_time": "2020-02-10T15:59:50.988776Z"
    }
   },
   "outputs": [],
   "source": [
    "from replay.models import MultVAE\n",
    "\n",
    "multvae = MultVAE(epochs=100)"
   ]
  },
  {
   "cell_type": "code",
   "execution_count": 26,
   "metadata": {
    "ExecuteTime": {
     "end_time": "2020-02-10T16:06:06.306042Z",
     "start_time": "2020-02-10T16:01:52.107394Z"
    },
    "jupyter": {
     "outputs_hidden": false
    }
   },
   "outputs": [
    {
     "name": "stderr",
     "output_type": "stream",
     "text": [
      "02-Mar-21 17:23:48, replay, DEBUG: Начало обучения MultVAE\n",
      "DEBUG:replay:Начало обучения MultVAE\n",
      "02-Mar-21 17:23:48, replay, DEBUG: Предварительная стадия обучения (pre-fit)\n",
      "DEBUG:replay:Предварительная стадия обучения (pre-fit)\n",
      "02-Mar-21 17:23:48, replay, DEBUG: Основная стадия обучения (fit)\n",
      "DEBUG:replay:Основная стадия обучения (fit)\n",
      "02-Mar-21 17:23:49, replay, DEBUG: Составление батча:\n",
      "DEBUG:replay:Составление батча:\n",
      "02-Mar-21 17:23:50, replay, DEBUG: Обучение модели\n",
      "DEBUG:replay:Обучение модели\n",
      "02-Mar-21 17:23:52, replay, DEBUG: Epoch[1] current loss: 1352.11820\n",
      "DEBUG:replay:Epoch[1] current loss: 1352.11820\n",
      "02-Mar-21 17:23:52, replay, DEBUG: Epoch[1] validation average loss: 1478.50049\n",
      "DEBUG:replay:Epoch[1] validation average loss: 1478.50049\n",
      "02-Mar-21 17:23:53, replay, DEBUG: Epoch[2] current loss: 1249.41315\n",
      "DEBUG:replay:Epoch[2] current loss: 1249.41315\n",
      "02-Mar-21 17:23:54, replay, DEBUG: Epoch[2] validation average loss: 1478.13831\n",
      "DEBUG:replay:Epoch[2] validation average loss: 1478.13831\n",
      "02-Mar-21 17:23:55, replay, DEBUG: Epoch[3] current loss: 1263.39848\n",
      "DEBUG:replay:Epoch[3] current loss: 1263.39848\n",
      "02-Mar-21 17:23:55, replay, DEBUG: Epoch[3] validation average loss: 1467.52966\n",
      "DEBUG:replay:Epoch[3] validation average loss: 1467.52966\n",
      "02-Mar-21 17:23:57, replay, DEBUG: Epoch[4] current loss: 1270.72491\n",
      "DEBUG:replay:Epoch[4] current loss: 1270.72491\n",
      "02-Mar-21 17:23:57, replay, DEBUG: Epoch[4] validation average loss: 1410.52722\n",
      "DEBUG:replay:Epoch[4] validation average loss: 1410.52722\n",
      "02-Mar-21 17:23:58, replay, DEBUG: Epoch[5] current loss: 1257.74949\n",
      "DEBUG:replay:Epoch[5] current loss: 1257.74949\n",
      "02-Mar-21 17:23:59, replay, DEBUG: Epoch[5] validation average loss: 1411.57739\n",
      "DEBUG:replay:Epoch[5] validation average loss: 1411.57739\n",
      "02-Mar-21 17:24:00, replay, DEBUG: Epoch[6] current loss: 1237.97292\n",
      "DEBUG:replay:Epoch[6] current loss: 1237.97292\n",
      "02-Mar-21 17:24:00, replay, DEBUG: Epoch[6] validation average loss: 1424.90869\n",
      "DEBUG:replay:Epoch[6] validation average loss: 1424.90869\n",
      "02-Mar-21 17:24:01, replay, DEBUG: Epoch[7] current loss: 1232.51901\n",
      "DEBUG:replay:Epoch[7] current loss: 1232.51901\n",
      "02-Mar-21 17:24:01, replay, DEBUG: Epoch[7] validation average loss: 1423.98230\n",
      "DEBUG:replay:Epoch[7] validation average loss: 1423.98230\n",
      "02-Mar-21 17:24:03, replay, DEBUG: Epoch[8] current loss: 1232.72030\n",
      "DEBUG:replay:Epoch[8] current loss: 1232.72030\n",
      "02-Mar-21 17:24:03, replay, DEBUG: Epoch[8] validation average loss: 1417.28259\n",
      "DEBUG:replay:Epoch[8] validation average loss: 1417.28259\n",
      "02-Mar-21 17:24:04, replay, DEBUG: Epoch[9] current loss: 1234.02428\n",
      "DEBUG:replay:Epoch[9] current loss: 1234.02428\n",
      "02-Mar-21 17:24:04, replay, DEBUG: Epoch[9] validation average loss: 1420.60315\n",
      "DEBUG:replay:Epoch[9] validation average loss: 1420.60315\n",
      "02-Mar-21 17:24:05, replay, DEBUG: Epoch[10] current loss: 1220.64054\n",
      "DEBUG:replay:Epoch[10] current loss: 1220.64054\n",
      "02-Mar-21 17:24:05, replay, DEBUG: Epoch[10] validation average loss: 1427.71094\n",
      "DEBUG:replay:Epoch[10] validation average loss: 1427.71094\n",
      "02-Mar-21 17:24:07, replay, DEBUG: Epoch[11] current loss: 1227.90843\n",
      "DEBUG:replay:Epoch[11] current loss: 1227.90843\n",
      "02-Mar-21 17:24:07, replay, DEBUG: Epoch[11] validation average loss: 1428.07251\n",
      "DEBUG:replay:Epoch[11] validation average loss: 1428.07251\n",
      "02-Mar-21 17:24:08, replay, DEBUG: Epoch[12] current loss: 1226.39587\n",
      "DEBUG:replay:Epoch[12] current loss: 1226.39587\n",
      "02-Mar-21 17:24:08, replay, DEBUG: Epoch[12] validation average loss: 1417.72290\n",
      "DEBUG:replay:Epoch[12] validation average loss: 1417.72290\n",
      "02-Mar-21 17:24:09, replay, DEBUG: Epoch[13] current loss: 1216.75200\n",
      "DEBUG:replay:Epoch[13] current loss: 1216.75200\n",
      "02-Mar-21 17:24:10, replay, DEBUG: Epoch[13] validation average loss: 1413.47766\n",
      "DEBUG:replay:Epoch[13] validation average loss: 1413.47766\n",
      "02-Mar-21 17:24:11, replay, DEBUG: Epoch[14] current loss: 1221.22782\n",
      "DEBUG:replay:Epoch[14] current loss: 1221.22782\n",
      "INFO:ignite.handlers.early_stopping.EarlyStopping:EarlyStopping: Stop training\n",
      "02-Mar-21 17:24:11, replay, DEBUG: Epoch[14] validation average loss: 1411.61218\n",
      "DEBUG:replay:Epoch[14] validation average loss: 1411.61218\n",
      "02-Mar-21 17:24:11, replay, DEBUG: -- Загрузка модели из файла\n",
      "DEBUG:replay:-- Загрузка модели из файла\n"
     ]
    },
    {
     "name": "stdout",
     "output_type": "stream",
     "text": [
      "CPU times: user 1min 7s, sys: 6.19 s, total: 1min 13s\n",
      "Wall time: 23.7 s\n"
     ]
    }
   ],
   "source": [
    "%%time\n",
    "multvae.fit(log=train)"
   ]
  },
  {
   "cell_type": "code",
   "execution_count": 27,
   "metadata": {
    "ExecuteTime": {
     "end_time": "2020-02-10T16:07:26.278582Z",
     "start_time": "2020-02-10T16:06:39.118983Z"
    },
    "jupyter": {
     "outputs_hidden": false
    },
    "scrolled": true
   },
   "outputs": [
    {
     "name": "stderr",
     "output_type": "stream",
     "text": [
      "02-Mar-21 17:24:11, replay, DEBUG: Начало предикта MultVAE\n",
      "DEBUG:replay:Начало предикта MultVAE\n",
      "02-Mar-21 17:24:14, replay, DEBUG: Предсказание модели\n",
      "DEBUG:replay:Предсказание модели\n",
      "/Users/darel/python/sponge-bob-magic/.new_env2/lib/python3.7/site-packages/torch/storage.py:34: FutureWarning: pickle support for Storage will be removed in 1.5. Use `torch.save` instead\n",
      "  warnings.warn(\"pickle support for Storage will be removed in 1.5. Use `torch.save` instead\", FutureWarning)\n"
     ]
    },
    {
     "name": "stdout",
     "output_type": "stream",
     "text": [
      "CPU times: user 1.03 s, sys: 186 ms, total: 1.21 s\n",
      "Wall time: 8.83 s\n"
     ]
    }
   ],
   "source": [
    "%%time\n",
    "\n",
    "recs = multvae.predict(\n",
    "    k=10,\n",
    "    users=test.select('user_id').distinct(),\n",
    "    items=test.select('item_id').distinct(),\n",
    "    log=train,\n",
    "    filter_seen_items=True\n",
    ")"
   ]
  },
  {
   "cell_type": "code",
   "execution_count": 28,
   "metadata": {},
   "outputs": [
    {
     "name": "stdout",
     "output_type": "stream",
     "text": [
      "CPU times: user 121 ms, sys: 29.1 ms, total: 150 ms\n",
      "Wall time: 20 s\n"
     ]
    },
    {
     "data": {
      "text/html": [
       "<div>\n",
       "<style scoped>\n",
       "    .dataframe tbody tr th:only-of-type {\n",
       "        vertical-align: middle;\n",
       "    }\n",
       "\n",
       "    .dataframe tbody tr th {\n",
       "        vertical-align: top;\n",
       "    }\n",
       "\n",
       "    .dataframe thead th {\n",
       "        text-align: right;\n",
       "    }\n",
       "</style>\n",
       "<table border=\"1\" class=\"dataframe\">\n",
       "  <thead>\n",
       "    <tr style=\"text-align: right;\">\n",
       "      <th></th>\n",
       "      <th>HitRate@1</th>\n",
       "      <th>HitRate@5</th>\n",
       "      <th>HitRate@10</th>\n",
       "      <th>MAP@10</th>\n",
       "      <th>NDCG@10</th>\n",
       "    </tr>\n",
       "  </thead>\n",
       "  <tbody>\n",
       "    <tr>\n",
       "      <th>SLIM</th>\n",
       "      <td>0.072</td>\n",
       "      <td>0.218</td>\n",
       "      <td>0.328</td>\n",
       "      <td>0.135137</td>\n",
       "      <td>0.180020</td>\n",
       "    </tr>\n",
       "    <tr>\n",
       "      <th>ALS</th>\n",
       "      <td>0.064</td>\n",
       "      <td>0.258</td>\n",
       "      <td>0.376</td>\n",
       "      <td>0.149850</td>\n",
       "      <td>0.203000</td>\n",
       "    </tr>\n",
       "    <tr>\n",
       "      <th>MultVAE</th>\n",
       "      <td>0.012</td>\n",
       "      <td>0.038</td>\n",
       "      <td>0.058</td>\n",
       "      <td>0.023180</td>\n",
       "      <td>0.031246</td>\n",
       "    </tr>\n",
       "  </tbody>\n",
       "</table>\n",
       "</div>"
      ],
      "text/plain": [
       "         HitRate@1  HitRate@5  HitRate@10    MAP@10   NDCG@10\n",
       "SLIM         0.072      0.218       0.328  0.135137  0.180020\n",
       "ALS          0.064      0.258       0.376  0.149850  0.203000\n",
       "MultVAE      0.012      0.038       0.058  0.023180  0.031246"
      ]
     },
     "execution_count": 28,
     "metadata": {},
     "output_type": "execute_result"
    }
   ],
   "source": [
    "%%time\n",
    "metrics.add_result(\"MultVAE\", recs)\n",
    "metrics.results"
   ]
  },
  {
   "cell_type": "markdown",
   "metadata": {},
   "source": [
    "## 5 Сравнение результатов различных моделей\n",
    "С помощью experiment можно сравнить качество моделей, построенных с использованием различных инструментов.\n",
    "Предположим, мы хотим сравнить модели RePlay с некой \"внешней\" моделью. Для этого нужно:\n",
    "* 5.1. Экспортировать обучающую выборку (в pandas/numpy/csv)\n",
    "* 5.2. Обучить модель и получить рекомендации для всех пользователей в виде csv/pandas-датафрейма\n",
    "* 5.3. Считать рекомендации с помощью DataPreparator\n",
    "* 5.4. Посчитать метрики в experiment"
   ]
  },
  {
   "cell_type": "markdown",
   "metadata": {},
   "source": [
    "#### 5.1 Экспортируем train"
   ]
  },
  {
   "cell_type": "code",
   "execution_count": 29,
   "metadata": {
    "jupyter": {
     "outputs_hidden": false
    }
   },
   "outputs": [],
   "source": [
    "train.toPandas().to_csv(\"train.csv\", index=False)"
   ]
  },
  {
   "cell_type": "code",
   "execution_count": 30,
   "metadata": {
    "jupyter": {
     "outputs_hidden": false
    },
    "scrolled": true
   },
   "outputs": [
    {
     "name": "stdout",
     "output_type": "stream",
     "text": [
      "user_id,item_id,relevance,timestamp\r\n",
      "1,1029,5.0,2001-01-01 01:36:45\r\n",
      "1,2294,4.0,2001-01-07 02:38:11\r\n",
      "1,3114,4.0,2001-01-01 01:36:14\r\n",
      "1,783,4.0,2001-01-07 02:38:11\r\n"
     ]
    }
   ],
   "source": [
    "!head -n 5 train.csv"
   ]
  },
  {
   "cell_type": "markdown",
   "metadata": {},
   "source": [
    "#### 5.2 Обучаем модель и получаем рекомендации в формате `id пользователя - id объекта - relevance`"
   ]
  },
  {
   "cell_type": "markdown",
   "metadata": {},
   "source": [
    "Предположим, что это произошло, и у нас есть рекомендации в виде csv-файла. Ниже в качестве пример используем рекомендации, полученные одной из моделей, с рандомными релевантностями."
   ]
  },
  {
   "cell_type": "code",
   "execution_count": 31,
   "metadata": {},
   "outputs": [],
   "source": [
    "from pyspark.sql.functions import rand"
   ]
  },
  {
   "cell_type": "code",
   "execution_count": 32,
   "metadata": {
    "jupyter": {
     "outputs_hidden": false
    }
   },
   "outputs": [],
   "source": [
    "recs.withColumn('relevance', rand(seed=123)).toPandas().to_csv(\"recs.csv\", index=False)"
   ]
  },
  {
   "cell_type": "markdown",
   "metadata": {},
   "source": [
    "#### 5.3 Теперь нужно прочитать рекомендации в формате, поддерживаемом библиотекой"
   ]
  },
  {
   "cell_type": "code",
   "execution_count": 33,
   "metadata": {
    "jupyter": {
     "outputs_hidden": false
    }
   },
   "outputs": [],
   "source": [
    "recs = DataPreparator().transform(\n",
    "    path=\"recs.csv\",\n",
    "    columns_names={\n",
    "        \"user_id\": \"user_id\",\n",
    "        \"item_id\": \"item_id\",\n",
    "        \"relevance\": \"relevance\"\n",
    "    },\n",
    "    header=True,\n",
    "    format_type=\"csv\"\n",
    ")"
   ]
  },
  {
   "cell_type": "markdown",
   "metadata": {},
   "source": [
    "#### 5.4 Сравним качество внешней модели с предыдущими результатами"
   ]
  },
  {
   "cell_type": "code",
   "execution_count": 34,
   "metadata": {
    "jupyter": {
     "outputs_hidden": false
    }
   },
   "outputs": [
    {
     "data": {
      "text/html": [
       "<div>\n",
       "<style scoped>\n",
       "    .dataframe tbody tr th:only-of-type {\n",
       "        vertical-align: middle;\n",
       "    }\n",
       "\n",
       "    .dataframe tbody tr th {\n",
       "        vertical-align: top;\n",
       "    }\n",
       "\n",
       "    .dataframe thead th {\n",
       "        text-align: right;\n",
       "    }\n",
       "</style>\n",
       "<table border=\"1\" class=\"dataframe\">\n",
       "  <thead>\n",
       "    <tr style=\"text-align: right;\">\n",
       "      <th></th>\n",
       "      <th>HitRate@1</th>\n",
       "      <th>HitRate@5</th>\n",
       "      <th>HitRate@10</th>\n",
       "      <th>MAP@10</th>\n",
       "      <th>NDCG@10</th>\n",
       "    </tr>\n",
       "  </thead>\n",
       "  <tbody>\n",
       "    <tr>\n",
       "      <th>ALS</th>\n",
       "      <td>0.064</td>\n",
       "      <td>0.258</td>\n",
       "      <td>0.376</td>\n",
       "      <td>0.149850</td>\n",
       "      <td>0.203000</td>\n",
       "    </tr>\n",
       "    <tr>\n",
       "      <th>SLIM</th>\n",
       "      <td>0.072</td>\n",
       "      <td>0.218</td>\n",
       "      <td>0.328</td>\n",
       "      <td>0.135137</td>\n",
       "      <td>0.180020</td>\n",
       "    </tr>\n",
       "    <tr>\n",
       "      <th>MultVAE</th>\n",
       "      <td>0.012</td>\n",
       "      <td>0.038</td>\n",
       "      <td>0.058</td>\n",
       "      <td>0.023180</td>\n",
       "      <td>0.031246</td>\n",
       "    </tr>\n",
       "    <tr>\n",
       "      <th>my_model</th>\n",
       "      <td>0.002</td>\n",
       "      <td>0.018</td>\n",
       "      <td>0.058</td>\n",
       "      <td>0.011301</td>\n",
       "      <td>0.021756</td>\n",
       "    </tr>\n",
       "  </tbody>\n",
       "</table>\n",
       "</div>"
      ],
      "text/plain": [
       "          HitRate@1  HitRate@5  HitRate@10    MAP@10   NDCG@10\n",
       "ALS           0.064      0.258       0.376  0.149850  0.203000\n",
       "SLIM          0.072      0.218       0.328  0.135137  0.180020\n",
       "MultVAE       0.012      0.038       0.058  0.023180  0.031246\n",
       "my_model      0.002      0.018       0.058  0.011301  0.021756"
      ]
     },
     "execution_count": 34,
     "metadata": {},
     "output_type": "execute_result"
    }
   ],
   "source": [
    "metrics.add_result(\"my_model\", recs)\n",
    "metrics.results.sort_values(\"NDCG@10\", ascending=False)"
   ]
  },
  {
   "cell_type": "code",
   "execution_count": null,
   "metadata": {},
   "outputs": [],
   "source": []
  }
 ],
 "metadata": {
  "kernelspec": {
   "display_name": "Python 3",
   "language": "python",
   "name": "python3"
  },
  "language_info": {
   "codemirror_mode": {
    "name": "ipython",
    "version": 3
   },
   "file_extension": ".py",
   "mimetype": "text/x-python",
   "name": "python",
   "nbconvert_exporter": "python",
   "pygments_lexer": "ipython3",
   "version": "3.7.7"
  },
  "name": "movielens_nmf.ipynb",
  "pycharm": {
   "stem_cell": {
    "cell_type": "raw",
    "metadata": {
     "collapsed": false
    },
    "source": [
     "null"
    ]
   }
  }
 },
 "nbformat": 4,
 "nbformat_minor": 4
}
