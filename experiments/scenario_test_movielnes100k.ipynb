{
 "cells": [
  {
   "cell_type": "markdown",
   "metadata": {
    "ein.tags": "worksheet-0",
    "slideshow": {
     "slide_type": "-"
    }
   },
   "source": [
    "# Scenario Integration Test\n",
    "\n",
    "Лаботоратория по искусственному интеллекту, Сбербанк. \n",
    "\n",
    "О чем: вызов сценариев с разными моделями.\n",
    "В качестве датасета используется датасет MovieLens100K. \n",
    "\n",
    "## Содержание\n",
    "\n",
    "1. [Импорты, создание спарк-сессии](#intro)\n",
    "2. [Загрузка данных](#data-loader)\n",
    "3. [Сценарии с разными моделями](#scenario)\n",
    "3.1 [Получение сценария через фабрику](#get-scenario)\n",
    "3.2 [Обучение сценария](#fit-scenario)"
   ]
  },
  {
   "cell_type": "markdown",
   "metadata": {
    "ein.tags": "worksheet-0",
    "slideshow": {
     "slide_type": "-"
    }
   },
   "source": [
    "### Импорты, создание спарк-сессии <a name='intro'></a>"
   ]
  },
  {
   "cell_type": "code",
   "execution_count": 1,
   "metadata": {
    "autoscroll": false,
    "ein.hycell": false,
    "ein.tags": "worksheet-0",
    "pycharm": {
     "name": "#%%\n"
    },
    "slideshow": {
     "slide_type": "-"
    }
   },
   "outputs": [],
   "source": [
    "%load_ext autoreload\n",
    "%autoreload 2\n",
    "%matplotlib inline"
   ]
  },
  {
   "cell_type": "code",
   "execution_count": 3,
   "metadata": {},
   "outputs": [],
   "source": [
    "import os, sys\n",
    "\n",
    "parent_dir = os.path.split(os.getcwd())[0]\n",
    "if parent_dir not in sys.path:\n",
    "    sys.path.append(parent_dir)"
   ]
  },
  {
   "cell_type": "code",
   "execution_count": 5,
   "metadata": {
    "autoscroll": false,
    "ein.hycell": false,
    "ein.tags": "worksheet-0",
    "pycharm": {
     "name": "#%%\n"
    },
    "slideshow": {
     "slide_type": "-"
    }
   },
   "outputs": [],
   "source": [
    "import logging\n",
    "import os\n",
    "import sys\n",
    "from datetime import datetime\n",
    "\n",
    "import matplotlib.pyplot as plt\n",
    "import pandas as pd\n",
    "from sponge_bob_magic.datasets.movielens import MovieLens\n",
    "from sponge_bob_magic.data_preparator.data_preparator import DataPreparator\n",
    "\n",
    "from sponge_bob_magic.splitters import log_splitter\n",
    "from sponge_bob_magic.splitters import user_log_splitter\n",
    "from sponge_bob_magic import metrics\n",
    "\n",
    "from sponge_bob_magic.models.pop_rec import PopRec\n",
    "from sponge_bob_magic.models.als_rec import ALSRec\n",
    "from sponge_bob_magic.models.knn_rec import KNNRec\n",
    "from sponge_bob_magic.models.lightfm_rec import LightFMRec\n",
    "\n",
    "from sponge_bob_magic.scenarios.main_scenario.main_factory import MainScenarioFactory\n",
    "from sponge_bob_magic.session_handler import  get_spark_session\n",
    "from sponge_bob_magic.constants import DEFAULT_CONTEXT\n",
    "from pyspark.sql.functions import lit"
   ]
  },
  {
   "cell_type": "code",
   "execution_count": 6,
   "metadata": {
    "autoscroll": false,
    "ein.hycell": false,
    "ein.tags": "worksheet-0",
    "pycharm": {
     "name": "#%%\n"
    },
    "slideshow": {
     "slide_type": "-"
    }
   },
   "outputs": [],
   "source": [
    "# отображение максимальной ширины колонок в pandas датафреймах\n",
    "pd.options.display.max_colwidth = -1"
   ]
  },
  {
   "cell_type": "code",
   "execution_count": 7,
   "metadata": {
    "autoscroll": false,
    "ein.hycell": false,
    "ein.tags": "worksheet-0",
    "pycharm": {
     "name": "#%%\n"
    },
    "slideshow": {
     "slide_type": "-"
    }
   },
   "outputs": [
    {
     "data": {
      "text/html": [
       "\n",
       "            <div>\n",
       "                <p><b>SparkSession - hive</b></p>\n",
       "                \n",
       "        <div>\n",
       "            <p><b>SparkContext</b></p>\n",
       "\n",
       "            <p><a href=\"http://10.17.17.38:4041\">Spark UI</a></p>\n",
       "\n",
       "            <dl>\n",
       "              <dt>Version</dt>\n",
       "                <dd><code>v2.4.4</code></dd>\n",
       "              <dt>Master</dt>\n",
       "                <dd><code>local[*]</code></dd>\n",
       "              <dt>AppName</dt>\n",
       "                <dd><code>pyspark-shell</code></dd>\n",
       "            </dl>\n",
       "        </div>\n",
       "        \n",
       "            </div>\n",
       "        "
      ],
      "text/plain": [
       "<pyspark.sql.session.SparkSession at 0x7fc3b917cbd0>"
      ]
     },
     "execution_count": 7,
     "metadata": {},
     "output_type": "execute_result"
    }
   ],
   "source": [
    "spark = get_spark_session()\n",
    "spark"
   ]
  },
  {
   "cell_type": "markdown",
   "metadata": {
    "ein.tags": "worksheet-0",
    "slideshow": {
     "slide_type": "-"
    }
   },
   "source": [
    "## Загрузка данных <a name=\"data-loader\"></a>"
   ]
  },
  {
   "cell_type": "code",
   "execution_count": 8,
   "metadata": {
    "autoscroll": false,
    "ein.hycell": false,
    "ein.tags": "worksheet-0",
    "pycharm": {
     "name": "#%%\n"
    },
    "slideshow": {
     "slide_type": "-"
    }
   },
   "outputs": [
    {
     "name": "stdout",
     "output_type": "stream",
     "text": [
      "ratings\n"
     ]
    },
    {
     "data": {
      "text/html": [
       "<div>\n",
       "<style scoped>\n",
       "    .dataframe tbody tr th:only-of-type {\n",
       "        vertical-align: middle;\n",
       "    }\n",
       "\n",
       "    .dataframe tbody tr th {\n",
       "        vertical-align: top;\n",
       "    }\n",
       "\n",
       "    .dataframe thead th {\n",
       "        text-align: right;\n",
       "    }\n",
       "</style>\n",
       "<table border=\"1\" class=\"dataframe\">\n",
       "  <thead>\n",
       "    <tr style=\"text-align: right;\">\n",
       "      <th></th>\n",
       "      <th>user_id</th>\n",
       "      <th>item_id</th>\n",
       "      <th>relevance</th>\n",
       "      <th>timestamp</th>\n",
       "    </tr>\n",
       "  </thead>\n",
       "  <tbody>\n",
       "    <tr>\n",
       "      <td>0</td>\n",
       "      <td>196</td>\n",
       "      <td>242</td>\n",
       "      <td>3</td>\n",
       "      <td>881250949</td>\n",
       "    </tr>\n",
       "    <tr>\n",
       "      <td>1</td>\n",
       "      <td>186</td>\n",
       "      <td>302</td>\n",
       "      <td>3</td>\n",
       "      <td>891717742</td>\n",
       "    </tr>\n",
       "    <tr>\n",
       "      <td>2</td>\n",
       "      <td>22</td>\n",
       "      <td>377</td>\n",
       "      <td>1</td>\n",
       "      <td>878887116</td>\n",
       "    </tr>\n",
       "  </tbody>\n",
       "</table>\n",
       "</div>"
      ],
      "text/plain": [
       "   user_id  item_id  relevance  timestamp\n",
       "0  196      242      3          881250949\n",
       "1  186      302      3          891717742\n",
       "2  22       377      1          878887116"
      ]
     },
     "metadata": {},
     "output_type": "display_data"
    },
    {
     "name": "stdout",
     "output_type": "stream",
     "text": [
      "\n",
      "users\n"
     ]
    },
    {
     "data": {
      "text/html": [
       "<div>\n",
       "<style scoped>\n",
       "    .dataframe tbody tr th:only-of-type {\n",
       "        vertical-align: middle;\n",
       "    }\n",
       "\n",
       "    .dataframe tbody tr th {\n",
       "        vertical-align: top;\n",
       "    }\n",
       "\n",
       "    .dataframe thead th {\n",
       "        text-align: right;\n",
       "    }\n",
       "</style>\n",
       "<table border=\"1\" class=\"dataframe\">\n",
       "  <thead>\n",
       "    <tr style=\"text-align: right;\">\n",
       "      <th></th>\n",
       "      <th>user_id</th>\n",
       "      <th>gender</th>\n",
       "      <th>age</th>\n",
       "      <th>occupation</th>\n",
       "      <th>zip_code</th>\n",
       "    </tr>\n",
       "  </thead>\n",
       "  <tbody>\n",
       "    <tr>\n",
       "      <td>0</td>\n",
       "      <td>1</td>\n",
       "      <td>24</td>\n",
       "      <td>M</td>\n",
       "      <td>technician</td>\n",
       "      <td>85711</td>\n",
       "    </tr>\n",
       "    <tr>\n",
       "      <td>1</td>\n",
       "      <td>2</td>\n",
       "      <td>53</td>\n",
       "      <td>F</td>\n",
       "      <td>other</td>\n",
       "      <td>94043</td>\n",
       "    </tr>\n",
       "    <tr>\n",
       "      <td>2</td>\n",
       "      <td>3</td>\n",
       "      <td>23</td>\n",
       "      <td>M</td>\n",
       "      <td>writer</td>\n",
       "      <td>32067</td>\n",
       "    </tr>\n",
       "  </tbody>\n",
       "</table>\n",
       "</div>"
      ],
      "text/plain": [
       "   user_id  gender age  occupation zip_code\n",
       "0  1        24      M   technician  85711  \n",
       "1  2        53      F   other       94043  \n",
       "2  3        23      M   writer      32067  "
      ]
     },
     "metadata": {},
     "output_type": "display_data"
    },
    {
     "name": "stdout",
     "output_type": "stream",
     "text": [
      "\n",
      "items\n"
     ]
    },
    {
     "data": {
      "text/html": [
       "<div>\n",
       "<style scoped>\n",
       "    .dataframe tbody tr th:only-of-type {\n",
       "        vertical-align: middle;\n",
       "    }\n",
       "\n",
       "    .dataframe tbody tr th {\n",
       "        vertical-align: top;\n",
       "    }\n",
       "\n",
       "    .dataframe thead th {\n",
       "        text-align: right;\n",
       "    }\n",
       "</style>\n",
       "<table border=\"1\" class=\"dataframe\">\n",
       "  <thead>\n",
       "    <tr style=\"text-align: right;\">\n",
       "      <th></th>\n",
       "      <th>item_id</th>\n",
       "      <th>title</th>\n",
       "      <th>release_date</th>\n",
       "      <th>imdb_url</th>\n",
       "      <th>unknown</th>\n",
       "      <th>...</th>\n",
       "      <th>Romance</th>\n",
       "      <th>Sci-Fi</th>\n",
       "      <th>Thriller</th>\n",
       "      <th>War</th>\n",
       "      <th>Western</th>\n",
       "    </tr>\n",
       "  </thead>\n",
       "  <tbody>\n",
       "    <tr>\n",
       "      <td>0</td>\n",
       "      <td>1</td>\n",
       "      <td>Toy Story (1995)</td>\n",
       "      <td>1995-01-01</td>\n",
       "      <td>http://us.imdb.com/M/title-exact?Toy%20Story%20(1995)</td>\n",
       "      <td>0</td>\n",
       "      <td>...</td>\n",
       "      <td>0</td>\n",
       "      <td>0</td>\n",
       "      <td>0</td>\n",
       "      <td>0</td>\n",
       "      <td>0</td>\n",
       "    </tr>\n",
       "    <tr>\n",
       "      <td>1</td>\n",
       "      <td>2</td>\n",
       "      <td>GoldenEye (1995)</td>\n",
       "      <td>1995-01-01</td>\n",
       "      <td>http://us.imdb.com/M/title-exact?GoldenEye%20(1995)</td>\n",
       "      <td>0</td>\n",
       "      <td>...</td>\n",
       "      <td>0</td>\n",
       "      <td>0</td>\n",
       "      <td>1</td>\n",
       "      <td>0</td>\n",
       "      <td>0</td>\n",
       "    </tr>\n",
       "    <tr>\n",
       "      <td>2</td>\n",
       "      <td>3</td>\n",
       "      <td>Four Rooms (1995)</td>\n",
       "      <td>1995-01-01</td>\n",
       "      <td>http://us.imdb.com/M/title-exact?Four%20Rooms%20(1995)</td>\n",
       "      <td>0</td>\n",
       "      <td>...</td>\n",
       "      <td>0</td>\n",
       "      <td>0</td>\n",
       "      <td>1</td>\n",
       "      <td>0</td>\n",
       "      <td>0</td>\n",
       "    </tr>\n",
       "  </tbody>\n",
       "</table>\n",
       "<p>3 rows × 23 columns</p>\n",
       "</div>"
      ],
      "text/plain": [
       "   item_id              title release_date  \\\n",
       "0  1        Toy Story (1995)  1995-01-01     \n",
       "1  2        GoldenEye (1995)  1995-01-01     \n",
       "2  3        Four Rooms (1995) 1995-01-01     \n",
       "\n",
       "                                                 imdb_url  unknown  ...  \\\n",
       "0  http://us.imdb.com/M/title-exact?Toy%20Story%20(1995)   0        ...   \n",
       "1  http://us.imdb.com/M/title-exact?GoldenEye%20(1995)     0        ...   \n",
       "2  http://us.imdb.com/M/title-exact?Four%20Rooms%20(1995)  0        ...   \n",
       "\n",
       "   Romance  Sci-Fi  Thriller  War  Western  \n",
       "0  0        0       0         0    0        \n",
       "1  0        0       1         0    0        \n",
       "2  0        0       1         0    0        \n",
       "\n",
       "[3 rows x 23 columns]"
      ]
     },
     "metadata": {},
     "output_type": "display_data"
    },
    {
     "name": "stdout",
     "output_type": "stream",
     "text": [
      "\n"
     ]
    }
   ],
   "source": [
    "data = MovieLens(\"100k\")\n",
    "log = spark.createDataFrame(data.ratings).withColumn(\n",
    "    \"context\", lit(DEFAULT_CONTEXT)\n",
    ")\n",
    "data.info()"
   ]
  },
  {
   "cell_type": "markdown",
   "metadata": {
    "ein.tags": "worksheet-0",
    "slideshow": {
     "slide_type": "-"
    }
   },
   "source": [
    "## Сценарии с разными моделями <a name=\"scenario\"></a>"
   ]
  },
  {
   "cell_type": "markdown",
   "metadata": {
    "ein.tags": "worksheet-0",
    "slideshow": {
     "slide_type": "-"
    }
   },
   "source": [
    "### Получение сценария через фабрику <a name=\"get-scenario\"></a>"
   ]
  },
  {
   "cell_type": "code",
   "execution_count": 9,
   "metadata": {
    "autoscroll": false,
    "ein.hycell": false,
    "ein.tags": "worksheet-0",
    "pycharm": {
     "name": "#%%\n"
    },
    "slideshow": {
     "slide_type": "-"
    }
   },
   "outputs": [],
   "source": [
    "pop_rec = PopRec()\n",
    "als_rec = ALSRec()\n",
    "knn_rec = KNNRec()\n",
    "lightfm_rec = LightFMRec()"
   ]
  },
  {
   "cell_type": "code",
   "execution_count": 17,
   "metadata": {
    "autoscroll": false,
    "ein.hycell": false,
    "ein.tags": "worksheet-0",
    "pycharm": {
     "name": "#%%\n"
    },
    "slideshow": {
     "slide_type": "-"
    }
   },
   "outputs": [],
   "source": [
    "log_bydate_splitter = log_splitter.DateSplitter(\n",
    "    test_start=datetime(2007, 1, 1),\n",
    "    drop_cold_items=True,\n",
    "    drop_cold_users=True\n",
    ")\n",
    "log_random_splitter = log_splitter.RandomSplitter(\n",
    "    test_size=0.3,\n",
    "    drop_cold_items=True, \n",
    "    drop_cold_users=True,\n",
    "    seed=1234\n",
    ")\n",
    "log_cold_splitter = log_splitter.ColdUsersSplitter(\n",
    "    test_size=0.3,\n",
    "    drop_cold_items=True, \n",
    "    drop_cold_users=True\n",
    ")\n",
    "user_random_splitter = user_log_splitter.UserSplitter(\n",
    "    item_test_size=0.3,\n",
    "    user_test_size=500,\n",
    "    drop_cold_items=True,\n",
    "    drop_cold_users=True,\n",
    "    shuffle=True,\n",
    "    seed=1234\n",
    "    \n",
    ")\n",
    "user_bydate_splitter = user_log_splitter.UserSplitter(\n",
    "    item_test_size=0.3,\n",
    "    user_test_size=500,\n",
    "    drop_cold_items=True, \n",
    "    drop_cold_users=True,\n",
    "    seed=1234\n",
    ")"
   ]
  },
  {
   "cell_type": "markdown",
   "metadata": {
    "ein.tags": "worksheet-0",
    "slideshow": {
     "slide_type": "-"
    }
   },
   "source": [
    "### Обучение сценария <a name=\"fit-scenario\"></a>"
   ]
  },
  {
   "cell_type": "code",
   "execution_count": 18,
   "metadata": {
    "autoscroll": false,
    "ein.hycell": false,
    "ein.tags": "worksheet-0",
    "slideshow": {
     "slide_type": "-"
    }
   },
   "outputs": [],
   "source": [
    "results = None"
   ]
  },
  {
   "cell_type": "code",
   "execution_count": 26,
   "metadata": {
    "autoscroll": false,
    "ein.hycell": false,
    "ein.tags": "worksheet-0",
    "pycharm": {
     "name": "#%%\n"
    },
    "slideshow": {
     "slide_type": "-"
    }
   },
   "outputs": [],
   "source": [
    "scenario = MainScenarioFactory().get(\n",
    "    splitter=user_random_splitter,\n",
    "    recommender=lightfm_rec,\n",
    "    criterion=metrics.HitRate(),\n",
    "    metrics={\n",
    "        metrics.NDCG(): [10,5,3],\n",
    "        metrics.Precision(): [10,5,3],\n",
    "        metrics.MAP(): [10,5,3],\n",
    "        metrics.Recall(): [10,5,3],\n",
    "        metrics.Surprisal(): [10,5,3],\n",
    "    },\n",
    "    fallback_rec=pop_rec,\n",
    ")"
   ]
  },
  {
   "cell_type": "code",
   "execution_count": 27,
   "metadata": {
    "autoscroll": false,
    "ein.hycell": false,
    "ein.tags": "worksheet-0",
    "pycharm": {
     "name": "#%%\n"
    },
    "slideshow": {
     "slide_type": "-"
    }
   },
   "outputs": [],
   "source": [
    "popular_grid = {\n",
    "    \"alpha\": {\"type\": \"int\", \"args\": [0, 10]},\n",
    "    \"beta\": {\"type\": \"int\", \"args\": [0, 10]}\n",
    "}\n",
    "als_grid = {\n",
    "    \"rank\": {\"type\": \"discrete_uniform\", \"args\": [10, 100, 10]}\n",
    "}\n",
    "lightfm_grid = {\n",
    "    \"rank\": {\"type\": \"int\", \"args\": [10, 100]}\n",
    "}\n",
    "knn_grid = {\n",
    "    \"shrink\": {\"type\": \"discrete_uniform\", \"args\": [10, 50, 10]},\n",
    "    \"num_neighbours\": {\"type\": \"discrete_uniform\", \"args\": [0, 10, 1]},\n",
    "}"
   ]
  },
  {
   "cell_type": "code",
   "execution_count": 44,
   "metadata": {
    "autoscroll": false,
    "ein.hycell": false,
    "ein.tags": "worksheet-0",
    "pycharm": {
     "name": "#%%\n"
    },
    "slideshow": {
     "slide_type": "-"
    }
   },
   "outputs": [
    {
     "name": "stderr",
     "output_type": "stream",
     "text": [
      "20-Feb-20 17:10:23, root, DEBUG: Деление лога на обучающую и тестовую выборку\n",
      "20-Feb-20 17:10:39, root, DEBUG: Длина трейна и теста: (84013, 15944)\n",
      "20-Feb-20 17:10:39, root, DEBUG: Количество пользователей в трейне и тесте: 943, 490\n",
      "20-Feb-20 17:10:40, root, DEBUG: Количество объектов в трейне и тесте: 1644, 1355\n",
      "20-Feb-20 17:10:40, root, DEBUG: Обучение и предсказание дополнительной модели\n",
      "20-Feb-20 17:10:40, root, DEBUG: Проверка датафреймов\n",
      "20-Feb-20 17:10:40, root, DEBUG: Предварительная стадия обучения (pre-fit)\n",
      "20-Feb-20 17:10:41, root, DEBUG: Среднее количество items у каждого user: 90\n",
      "20-Feb-20 17:10:44, root, DEBUG: Основная стадия обучения (fit)\n",
      "20-Feb-20 17:10:44, root, DEBUG: Проверка датафреймов\n",
      "20-Feb-20 17:10:45, root, DEBUG: Количество items после фильтрации: 100\n",
      "20-Feb-20 17:10:48, root, DEBUG: Пре-фит модели\n",
      "20-Feb-20 17:10:48, root, DEBUG: -------------\n",
      "20-Feb-20 17:10:48, root, DEBUG: Оптимизация параметров\n",
      "20-Feb-20 17:10:48, root, DEBUG: Максимальное количество попыток: 100 (чтобы поменять его, задайте параметр 'optuna_max_n_trials')\n",
      "20-Feb-20 17:10:48, root, DEBUG: -- Параметры: {'rank': 40}\n",
      "20-Feb-20 17:10:48, root, DEBUG: -- Сохраняем optuna study на диск\n",
      "20-Feb-20 17:10:48, root, DEBUG: -- Второй фит модели в оптимизации\n",
      "20-Feb-20 17:10:48, root, DEBUG: Построение модели LightFM\n",
      "20-Feb-20 17:10:50, root, DEBUG: -- Предикт модели в оптимизации\n",
      "20-Feb-20 17:10:50, root, DEBUG: Проверка датафреймов\n",
      "20-Feb-20 17:11:08, root, DEBUG: -- Дополняем рекомендации fallback рекомендациями\n",
      "20-Feb-20 17:11:08, root, DEBUG: -- Длина рекомендаций: 4900\n",
      "20-Feb-20 17:11:10, root, DEBUG: -- Длина рекомендаций после добавления fallback-рекомендаций: 4900\n",
      "20-Feb-20 17:11:10, root, DEBUG: -- Подсчет метрики в оптимизации\n",
      "20-Feb-20 17:11:40, root, DEBUG: -- Метрики: HitRate=0.8367 nDCG=5: 0.2354,10: 0.2437,3: 0.2370; Precision=5: 0.2286,10: 0.2333,3: 0.2272; MAP=5: 0.4298,10: 0.4949,3: 0.3818; Recall=5: 0.0499,10: 0.1015,3: 0.0305; Surprisal=5: 0.3717,10: 0.3838,3: 0.3650;\n",
      "[I 2020-02-20 17:11:40,683] Finished trial#0 resulted in value: 0.8367346938775511. Current best value is 0.8367346938775511 with parameters: {'rank': 40}.\n",
      "20-Feb-20 17:11:40, root, DEBUG: -- Параметры: {'rank': 17}\n",
      "20-Feb-20 17:11:40, root, DEBUG: -- Сохраняем optuna study на диск\n",
      "20-Feb-20 17:11:40, root, DEBUG: -- Второй фит модели в оптимизации\n",
      "20-Feb-20 17:11:40, root, DEBUG: Построение модели LightFM\n",
      "20-Feb-20 17:11:41, root, DEBUG: -- Предикт модели в оптимизации\n",
      "20-Feb-20 17:11:41, root, DEBUG: Проверка датафреймов\n",
      "20-Feb-20 17:12:00, root, DEBUG: -- Дополняем рекомендации fallback рекомендациями\n",
      "20-Feb-20 17:12:00, root, DEBUG: -- Длина рекомендаций: 4900\n",
      "20-Feb-20 17:12:02, root, DEBUG: -- Длина рекомендаций после добавления fallback-рекомендаций: 4900\n",
      "20-Feb-20 17:12:02, root, DEBUG: -- Подсчет метрики в оптимизации\n",
      "20-Feb-20 17:12:32, root, DEBUG: -- Метрики: HitRate=0.8673 nDCG=5: 0.2435,10: 0.2476,3: 0.2452; Precision=5: 0.2380,10: 0.2355,3: 0.2374; MAP=5: 0.4397,10: 0.5045,3: 0.3896; Recall=5: 0.0539,10: 0.1013,3: 0.0330; Surprisal=5: 0.3647,10: 0.3756,3: 0.3558;\n",
      "[I 2020-02-20 17:12:32,160] Finished trial#1 resulted in value: 0.8673469387755102. Current best value is 0.8673469387755102 with parameters: {'rank': 17}.\n",
      "20-Feb-20 17:12:32, root, DEBUG: Лучшие значения метрики: 0.8673469387755102\n",
      "20-Feb-20 17:12:32, root, DEBUG: Лучшие параметры: {'rank': 17}\n"
     ]
    }
   ],
   "source": [
    "best_params = scenario.research(\n",
    "    lightfm_grid,\n",
    "    log,\n",
    "    k=10,\n",
    "    n_trials=2\n",
    ")"
   ]
  },
  {
   "cell_type": "code",
   "execution_count": 45,
   "metadata": {
    "autoscroll": false,
    "ein.hycell": false,
    "ein.tags": "worksheet-0",
    "pycharm": {
     "name": "#%%\n"
    },
    "scrolled": true,
    "slideshow": {
     "slide_type": "-"
    }
   },
   "outputs": [
    {
     "data": {
      "text/html": [
       "<div>\n",
       "<style scoped>\n",
       "    .dataframe tbody tr th:only-of-type {\n",
       "        vertical-align: middle;\n",
       "    }\n",
       "\n",
       "    .dataframe tbody tr th {\n",
       "        vertical-align: top;\n",
       "    }\n",
       "\n",
       "    .dataframe thead tr th {\n",
       "        text-align: left;\n",
       "    }\n",
       "</style>\n",
       "<table border=\"1\" class=\"dataframe\">\n",
       "  <thead>\n",
       "    <tr>\n",
       "      <th></th>\n",
       "      <th>number</th>\n",
       "      <th>state</th>\n",
       "      <th>value</th>\n",
       "      <th>datetime_start</th>\n",
       "      <th>datetime_complete</th>\n",
       "      <th>params</th>\n",
       "      <th colspan=\"5\" halign=\"left\">user_attrs</th>\n",
       "      <th>system_attrs</th>\n",
       "    </tr>\n",
       "    <tr>\n",
       "      <th></th>\n",
       "      <th></th>\n",
       "      <th></th>\n",
       "      <th></th>\n",
       "      <th></th>\n",
       "      <th></th>\n",
       "      <th>rank</th>\n",
       "      <th>MAP</th>\n",
       "      <th>Precision</th>\n",
       "      <th>Recall</th>\n",
       "      <th>Surprisal</th>\n",
       "      <th>nDCG</th>\n",
       "      <th>_number</th>\n",
       "    </tr>\n",
       "  </thead>\n",
       "  <tbody>\n",
       "    <tr>\n",
       "      <td>0</td>\n",
       "      <td>0</td>\n",
       "      <td>TrialState.COMPLETE</td>\n",
       "      <td>0.836735</td>\n",
       "      <td>2020-02-20 17:10:48.859180</td>\n",
       "      <td>2020-02-20 17:11:40.683705</td>\n",
       "      <td>40</td>\n",
       "      <td>{5: 0.4297619047619051, 10: 0.49487631921627334, 3: 0.38180272108843566}</td>\n",
       "      <td>{5: 0.2285714285714286, 10: 0.23326530612244895, 3: 0.22721088435374137}</td>\n",
       "      <td>{5: 0.04987595025655177, 10: 0.10147207503889259, 3: 0.030540965436675723}</td>\n",
       "      <td>{5: 0.371652519714292, 10: 0.3837529377110808, 3: 0.36499400049430475}</td>\n",
       "      <td>{5: 0.23541426612793626, 10: 0.24372047036203845, 3: 0.236962763810413}</td>\n",
       "      <td>0</td>\n",
       "    </tr>\n",
       "    <tr>\n",
       "      <td>1</td>\n",
       "      <td>1</td>\n",
       "      <td>TrialState.COMPLETE</td>\n",
       "      <td>0.867347</td>\n",
       "      <td>2020-02-20 17:11:40.762658</td>\n",
       "      <td>2020-02-20 17:12:32.160223</td>\n",
       "      <td>17</td>\n",
       "      <td>{5: 0.43971258503401384, 10: 0.504489696936976, 3: 0.38962585034013664}</td>\n",
       "      <td>{5: 0.23795918367346927, 10: 0.23551020408163276, 3: 0.2374149659863945}</td>\n",
       "      <td>{5: 0.05385651676115328, 10: 0.10134954487146615, 3: 0.0329999972079278}</td>\n",
       "      <td>{5: 0.3646961310213943, 10: 0.37558379967093186, 3: 0.3558428405757786}</td>\n",
       "      <td>{5: 0.24345332212101245, 10: 0.24760044534324474, 3: 0.24520599011723207}</td>\n",
       "      <td>1</td>\n",
       "    </tr>\n",
       "  </tbody>\n",
       "</table>\n",
       "</div>"
      ],
      "text/plain": [
       "  number                state     value             datetime_start  \\\n",
       "                                                                     \n",
       "0  0      TrialState.COMPLETE  0.836735 2020-02-20 17:10:48.859180   \n",
       "1  1      TrialState.COMPLETE  0.867347 2020-02-20 17:11:40.762658   \n",
       "\n",
       "           datetime_complete params  \\\n",
       "                               rank   \n",
       "0 2020-02-20 17:11:40.683705  40      \n",
       "1 2020-02-20 17:12:32.160223  17      \n",
       "\n",
       "                                                                 user_attrs  \\\n",
       "                                                                        MAP   \n",
       "0  {5: 0.4297619047619051, 10: 0.49487631921627334, 3: 0.38180272108843566}   \n",
       "1  {5: 0.43971258503401384, 10: 0.504489696936976, 3: 0.38962585034013664}    \n",
       "\n",
       "                                                                             \\\n",
       "                                                                  Precision   \n",
       "0  {5: 0.2285714285714286, 10: 0.23326530612244895, 3: 0.22721088435374137}   \n",
       "1  {5: 0.23795918367346927, 10: 0.23551020408163276, 3: 0.2374149659863945}   \n",
       "\n",
       "                                                                               \\\n",
       "                                                                       Recall   \n",
       "0  {5: 0.04987595025655177, 10: 0.10147207503889259, 3: 0.030540965436675723}   \n",
       "1  {5: 0.05385651676115328, 10: 0.10134954487146615, 3: 0.0329999972079278}     \n",
       "\n",
       "                                                                            \\\n",
       "                                                                 Surprisal   \n",
       "0  {5: 0.371652519714292, 10: 0.3837529377110808, 3: 0.36499400049430475}    \n",
       "1  {5: 0.3646961310213943, 10: 0.37558379967093186, 3: 0.3558428405757786}   \n",
       "\n",
       "                                                                              \\\n",
       "                                                                        nDCG   \n",
       "0  {5: 0.23541426612793626, 10: 0.24372047036203845, 3: 0.236962763810413}     \n",
       "1  {5: 0.24345332212101245, 10: 0.24760044534324474, 3: 0.24520599011723207}   \n",
       "\n",
       "  system_attrs  \n",
       "       _number  \n",
       "0  0            \n",
       "1  1            "
      ]
     },
     "execution_count": 45,
     "metadata": {},
     "output_type": "execute_result"
    }
   ],
   "source": [
    "results = pd.concat([scenario.study.trials_dataframe(), results], axis=0)\n",
    "\n",
    "results"
   ]
  },
  {
   "cell_type": "markdown",
   "metadata": {
    "ein.tags": "worksheet-0",
    "slideshow": {
     "slide_type": "-"
    }
   },
   "source": [
    "### Получение рекомендаций <a name=\"predict-scenario\"></a>"
   ]
  },
  {
   "cell_type": "code",
   "execution_count": 46,
   "metadata": {
    "autoscroll": false,
    "ein.hycell": false,
    "ein.tags": "worksheet-0",
    "pycharm": {
     "name": "#%%\n"
    },
    "scrolled": true,
    "slideshow": {
     "slide_type": "-"
    }
   },
   "outputs": [
    {
     "name": "stderr",
     "output_type": "stream",
     "text": [
      "20-Feb-20 17:13:40, root, DEBUG: Проверка датафреймов\n",
      "20-Feb-20 17:13:40, root, DEBUG: Предварительная стадия обучения (pre-fit)\n",
      "20-Feb-20 17:13:41, root, DEBUG: Основная стадия обучения (fit)\n",
      "20-Feb-20 17:13:41, root, DEBUG: Построение модели LightFM\n",
      "20-Feb-20 17:13:42, root, DEBUG: Проверка датафреймов\n",
      "20-Feb-20 17:13:42, root, DEBUG: Выделение дефолтных юзеров\n",
      "20-Feb-20 17:13:42, root, DEBUG: Выделение дефолтных айтемов\n"
     ]
    }
   ],
   "source": [
    "recs = scenario.production(\n",
    "    best_params, \n",
    "    log,\n",
    "    users=None, \n",
    "    items=None,\n",
    "    k=10\n",
    ")"
   ]
  },
  {
   "cell_type": "code",
   "execution_count": 47,
   "metadata": {
    "autoscroll": false,
    "ein.hycell": false,
    "ein.tags": "worksheet-0",
    "pycharm": {
     "name": "#%%\n"
    },
    "slideshow": {
     "slide_type": "-"
    }
   },
   "outputs": [
    {
     "name": "stdout",
     "output_type": "stream",
     "text": [
      "+-------+-------+--------------------+----------+\n",
      "|user_id|item_id|           relevance|   context|\n",
      "+-------+-------+--------------------+----------+\n",
      "|     91|    199|  0.5322619080543518|no_context|\n",
      "|     91|    194| 0.20798559486865997|no_context|\n",
      "|     91|    661|  0.1420615166425705|no_context|\n",
      "|     91|    511| 0.09485377371311188|no_context|\n",
      "|     91|    205|-0.00296466005966...|no_context|\n",
      "|     91|    435|-0.08984896540641785|no_context|\n",
      "|     91|    510|-0.15943878889083862|no_context|\n",
      "|     91|    480|-0.17838163673877716|no_context|\n",
      "|     91|    135|-0.23543228209018707|no_context|\n",
      "|     91|    520| -0.2369796484708786|no_context|\n",
      "|    152|    237|-0.00513449730351...|no_context|\n",
      "|    152|     15|-0.14510269463062286|no_context|\n",
      "|    152|    125|-0.49600809812545776|no_context|\n",
      "|    152|     88| -0.5041524767875671|no_context|\n",
      "|    152|      1| -0.5674199461936951|no_context|\n",
      "|    152|    111| -0.5692919492721558|no_context|\n",
      "|    152|     69| -0.6893871426582336|no_context|\n",
      "|    152|    742| -0.7232718467712402|no_context|\n",
      "|    152|    393| -0.7270724773406982|no_context|\n",
      "|    152|    121| -0.7716017961502075|no_context|\n",
      "+-------+-------+--------------------+----------+\n",
      "only showing top 20 rows\n",
      "\n"
     ]
    }
   ],
   "source": [
    "recs.show()"
   ]
  },
  {
   "cell_type": "code",
   "execution_count": null,
   "metadata": {},
   "outputs": [],
   "source": []
  }
 ],
 "metadata": {
  "kernelspec": {
   "display_name": "Python 3",
   "language": "python",
   "name": "python3"
  },
  "language_info": {
   "codemirror_mode": {
    "name": "ipython",
    "version": 3
   },
   "file_extension": ".py",
   "mimetype": "text/x-python",
   "name": "python",
   "nbconvert_exporter": "python",
   "pygments_lexer": "ipython3",
   "version": "3.7.5"
  },
  "name": "scenario_test_movielnes100k.ipynb",
  "pycharm": {
   "stem_cell": {
    "cell_type": "raw",
    "metadata": {
     "collapsed": false
    },
    "source": null
   }
  }
 },
 "nbformat": 4,
 "nbformat_minor": 4
}
