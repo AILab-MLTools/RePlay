{
 "cells": [
  {
   "cell_type": "markdown",
   "metadata": {
    "ein.tags": "worksheet-0",
    "slideshow": {
     "slide_type": "-"
    }
   },
   "source": [
    "# Scenario Integration Test\n",
    "\n",
    "Лаботоратория по искусственному интеллекту, Сбербанк. \n",
    "\n",
    "О чем: вызов сценариев с разными моделями.\n",
    "В качестве датасета используется датасет MovieLens100K. \n",
    "\n",
    "## Содержание\n",
    "\n",
    "1. [Импорты, создание спарк-сессии](#intro)\n",
    "2. [Загрузка данных](#data-loader)\n",
    "3. [Сценарии с разными моделями](#scenario)\n",
    "3.1 [Получение сценария через фабрику](#get-scenario)\n",
    "3.2 [Обучение сценария](#fit-scenario)"
   ]
  },
  {
   "cell_type": "markdown",
   "metadata": {
    "ein.tags": "worksheet-0",
    "slideshow": {
     "slide_type": "-"
    }
   },
   "source": [
    "### Импорты, создание спарк-сессии <a name='intro'></a>"
   ]
  },
  {
   "cell_type": "code",
   "execution_count": 1,
   "metadata": {
    "autoscroll": false,
    "ein.hycell": false,
    "ein.tags": "worksheet-0",
    "pycharm": {
     "name": "#%%\n"
    },
    "slideshow": {
     "slide_type": "-"
    }
   },
   "outputs": [],
   "source": [
    "%load_ext autoreload\n",
    "%autoreload 2\n",
    "%matplotlib inline"
   ]
  },
  {
   "cell_type": "code",
   "execution_count": 2,
   "metadata": {
    "autoscroll": false,
    "ein.hycell": false,
    "ein.tags": "worksheet-0",
    "pycharm": {
     "name": "#%%\n"
    },
    "slideshow": {
     "slide_type": "-"
    }
   },
   "outputs": [],
   "source": [
    "import logging\n",
    "import os\n",
    "import sys\n",
    "from datetime import datetime\n",
    "\n",
    "import matplotlib.pyplot as plt\n",
    "import pandas as pd\n",
    "from sponge_bob_magic.datasets.movielens import MovieLens\n",
    "from sponge_bob_magic.data_preparator.data_preparator import DataPreparator\n",
    "\n",
    "from sponge_bob_magic.splitters import log_splitter\n",
    "from sponge_bob_magic.splitters import user_log_splitter\n",
    "from sponge_bob_magic import metrics\n",
    "\n",
    "from sponge_bob_magic.models.popular_recomennder import PopularRecommender\n",
    "from sponge_bob_magic.models.als_recommender import ALSRecommender\n",
    "from sponge_bob_magic.models.knn_recommender import KNNRecommender\n",
    "from sponge_bob_magic.models.lightfm_recommender import LightFMRecommender\n",
    "\n",
    "from sponge_bob_magic.scenarios.main_scenario.main_factory import MainScenarioFactory\n",
    "from sponge_bob_magic.utils import  get_spark_session\n",
    "from sponge_bob_magic.constants import DEFAULT_CONTEXT\n",
    "from pyspark.sql.functions import lit"
   ]
  },
  {
   "cell_type": "code",
   "execution_count": 3,
   "metadata": {
    "autoscroll": false,
    "ein.hycell": false,
    "ein.tags": "worksheet-0",
    "pycharm": {
     "name": "#%%\n"
    },
    "slideshow": {
     "slide_type": "-"
    }
   },
   "outputs": [],
   "source": [
    "# отображение максимальной ширины колонок в pandas датафреймах\n",
    "pd.options.display.max_colwidth = -1"
   ]
  },
  {
   "cell_type": "code",
   "execution_count": 4,
   "metadata": {
    "autoscroll": false,
    "ein.hycell": false,
    "ein.tags": "worksheet-0",
    "pycharm": {
     "name": "#%%\n"
    },
    "slideshow": {
     "slide_type": "-"
    }
   },
   "outputs": [
    {
     "data": {
      "text/html": [
       "\n",
       "            <div>\n",
       "                <p><b>SparkSession - hive</b></p>\n",
       "                \n",
       "        <div>\n",
       "            <p><b>SparkContext</b></p>\n",
       "\n",
       "            <p><a href=\"http://10.17.17.124:4040\">Spark UI</a></p>\n",
       "\n",
       "            <dl>\n",
       "              <dt>Version</dt>\n",
       "                <dd><code>v2.4.4</code></dd>\n",
       "              <dt>Master</dt>\n",
       "                <dd><code>local[*]</code></dd>\n",
       "              <dt>AppName</dt>\n",
       "                <dd><code>pyspark-shell</code></dd>\n",
       "            </dl>\n",
       "        </div>\n",
       "        \n",
       "            </div>\n",
       "        "
      ],
      "text/plain": [
       "<pyspark.sql.session.SparkSession at 0x7fdc45c47150>"
      ]
     },
     "execution_count": 4,
     "metadata": {},
     "output_type": "execute_result"
    }
   ],
   "source": [
    "spark = get_spark_session()\n",
    "spark"
   ]
  },
  {
   "cell_type": "markdown",
   "metadata": {
    "ein.tags": "worksheet-0",
    "slideshow": {
     "slide_type": "-"
    }
   },
   "source": [
    "## Загрузка данных <a name=\"data-loader\"></a>"
   ]
  },
  {
   "cell_type": "code",
   "execution_count": 5,
   "metadata": {
    "autoscroll": false,
    "ein.hycell": false,
    "ein.tags": "worksheet-0",
    "pycharm": {
     "name": "#%%\n"
    },
    "slideshow": {
     "slide_type": "-"
    }
   },
   "outputs": [
    {
     "name": "stdout",
     "output_type": "stream",
     "text": [
      "ratings\n"
     ]
    },
    {
     "data": {
      "text/html": [
       "<div>\n",
       "<style scoped>\n",
       "    .dataframe tbody tr th:only-of-type {\n",
       "        vertical-align: middle;\n",
       "    }\n",
       "\n",
       "    .dataframe tbody tr th {\n",
       "        vertical-align: top;\n",
       "    }\n",
       "\n",
       "    .dataframe thead th {\n",
       "        text-align: right;\n",
       "    }\n",
       "</style>\n",
       "<table border=\"1\" class=\"dataframe\">\n",
       "  <thead>\n",
       "    <tr style=\"text-align: right;\">\n",
       "      <th></th>\n",
       "      <th>user_id</th>\n",
       "      <th>item_id</th>\n",
       "      <th>relevance</th>\n",
       "      <th>timestamp</th>\n",
       "    </tr>\n",
       "  </thead>\n",
       "  <tbody>\n",
       "    <tr>\n",
       "      <th>0</th>\n",
       "      <td>196</td>\n",
       "      <td>242</td>\n",
       "      <td>3</td>\n",
       "      <td>881250949</td>\n",
       "    </tr>\n",
       "    <tr>\n",
       "      <th>1</th>\n",
       "      <td>186</td>\n",
       "      <td>302</td>\n",
       "      <td>3</td>\n",
       "      <td>891717742</td>\n",
       "    </tr>\n",
       "    <tr>\n",
       "      <th>2</th>\n",
       "      <td>22</td>\n",
       "      <td>377</td>\n",
       "      <td>1</td>\n",
       "      <td>878887116</td>\n",
       "    </tr>\n",
       "  </tbody>\n",
       "</table>\n",
       "</div>"
      ],
      "text/plain": [
       "   user_id  item_id  relevance  timestamp\n",
       "0  196      242      3          881250949\n",
       "1  186      302      3          891717742\n",
       "2  22       377      1          878887116"
      ]
     },
     "metadata": {},
     "output_type": "display_data"
    },
    {
     "name": "stdout",
     "output_type": "stream",
     "text": [
      "\n",
      "users\n"
     ]
    },
    {
     "data": {
      "text/html": [
       "<div>\n",
       "<style scoped>\n",
       "    .dataframe tbody tr th:only-of-type {\n",
       "        vertical-align: middle;\n",
       "    }\n",
       "\n",
       "    .dataframe tbody tr th {\n",
       "        vertical-align: top;\n",
       "    }\n",
       "\n",
       "    .dataframe thead th {\n",
       "        text-align: right;\n",
       "    }\n",
       "</style>\n",
       "<table border=\"1\" class=\"dataframe\">\n",
       "  <thead>\n",
       "    <tr style=\"text-align: right;\">\n",
       "      <th></th>\n",
       "      <th>user_id</th>\n",
       "      <th>gender</th>\n",
       "      <th>age</th>\n",
       "      <th>occupation</th>\n",
       "      <th>zip_code</th>\n",
       "    </tr>\n",
       "  </thead>\n",
       "  <tbody>\n",
       "    <tr>\n",
       "      <th>0</th>\n",
       "      <td>1</td>\n",
       "      <td>24</td>\n",
       "      <td>M</td>\n",
       "      <td>technician</td>\n",
       "      <td>85711</td>\n",
       "    </tr>\n",
       "    <tr>\n",
       "      <th>1</th>\n",
       "      <td>2</td>\n",
       "      <td>53</td>\n",
       "      <td>F</td>\n",
       "      <td>other</td>\n",
       "      <td>94043</td>\n",
       "    </tr>\n",
       "    <tr>\n",
       "      <th>2</th>\n",
       "      <td>3</td>\n",
       "      <td>23</td>\n",
       "      <td>M</td>\n",
       "      <td>writer</td>\n",
       "      <td>32067</td>\n",
       "    </tr>\n",
       "  </tbody>\n",
       "</table>\n",
       "</div>"
      ],
      "text/plain": [
       "   user_id  gender age  occupation zip_code\n",
       "0  1        24      M   technician  85711  \n",
       "1  2        53      F   other       94043  \n",
       "2  3        23      M   writer      32067  "
      ]
     },
     "metadata": {},
     "output_type": "display_data"
    },
    {
     "name": "stdout",
     "output_type": "stream",
     "text": [
      "\n",
      "items\n"
     ]
    },
    {
     "data": {
      "text/html": [
       "<div>\n",
       "<style scoped>\n",
       "    .dataframe tbody tr th:only-of-type {\n",
       "        vertical-align: middle;\n",
       "    }\n",
       "\n",
       "    .dataframe tbody tr th {\n",
       "        vertical-align: top;\n",
       "    }\n",
       "\n",
       "    .dataframe thead th {\n",
       "        text-align: right;\n",
       "    }\n",
       "</style>\n",
       "<table border=\"1\" class=\"dataframe\">\n",
       "  <thead>\n",
       "    <tr style=\"text-align: right;\">\n",
       "      <th></th>\n",
       "      <th>item_id</th>\n",
       "      <th>title</th>\n",
       "      <th>release_date</th>\n",
       "      <th>imdb_url</th>\n",
       "      <th>unknown</th>\n",
       "      <th>...</th>\n",
       "      <th>Romance</th>\n",
       "      <th>Sci-Fi</th>\n",
       "      <th>Thriller</th>\n",
       "      <th>War</th>\n",
       "      <th>Western</th>\n",
       "    </tr>\n",
       "  </thead>\n",
       "  <tbody>\n",
       "    <tr>\n",
       "      <th>0</th>\n",
       "      <td>1</td>\n",
       "      <td>Toy Story (1995)</td>\n",
       "      <td>1995-01-01</td>\n",
       "      <td>http://us.imdb.com/M/title-exact?Toy%20Story%20(1995)</td>\n",
       "      <td>0</td>\n",
       "      <td>...</td>\n",
       "      <td>0</td>\n",
       "      <td>0</td>\n",
       "      <td>0</td>\n",
       "      <td>0</td>\n",
       "      <td>0</td>\n",
       "    </tr>\n",
       "    <tr>\n",
       "      <th>1</th>\n",
       "      <td>2</td>\n",
       "      <td>GoldenEye (1995)</td>\n",
       "      <td>1995-01-01</td>\n",
       "      <td>http://us.imdb.com/M/title-exact?GoldenEye%20(1995)</td>\n",
       "      <td>0</td>\n",
       "      <td>...</td>\n",
       "      <td>0</td>\n",
       "      <td>0</td>\n",
       "      <td>1</td>\n",
       "      <td>0</td>\n",
       "      <td>0</td>\n",
       "    </tr>\n",
       "    <tr>\n",
       "      <th>2</th>\n",
       "      <td>3</td>\n",
       "      <td>Four Rooms (1995)</td>\n",
       "      <td>1995-01-01</td>\n",
       "      <td>http://us.imdb.com/M/title-exact?Four%20Rooms%20(1995)</td>\n",
       "      <td>0</td>\n",
       "      <td>...</td>\n",
       "      <td>0</td>\n",
       "      <td>0</td>\n",
       "      <td>1</td>\n",
       "      <td>0</td>\n",
       "      <td>0</td>\n",
       "    </tr>\n",
       "  </tbody>\n",
       "</table>\n",
       "<p>3 rows × 23 columns</p>\n",
       "</div>"
      ],
      "text/plain": [
       "   item_id              title release_date  \\\n",
       "0  1        Toy Story (1995)  1995-01-01     \n",
       "1  2        GoldenEye (1995)  1995-01-01     \n",
       "2  3        Four Rooms (1995) 1995-01-01     \n",
       "\n",
       "                                                 imdb_url  unknown  ...  \\\n",
       "0  http://us.imdb.com/M/title-exact?Toy%20Story%20(1995)   0        ...   \n",
       "1  http://us.imdb.com/M/title-exact?GoldenEye%20(1995)     0        ...   \n",
       "2  http://us.imdb.com/M/title-exact?Four%20Rooms%20(1995)  0        ...   \n",
       "\n",
       "   Romance  Sci-Fi  Thriller  War  Western  \n",
       "0  0        0       0         0    0        \n",
       "1  0        0       1         0    0        \n",
       "2  0        0       1         0    0        \n",
       "\n",
       "[3 rows x 23 columns]"
      ]
     },
     "metadata": {},
     "output_type": "display_data"
    },
    {
     "name": "stdout",
     "output_type": "stream",
     "text": [
      "\n"
     ]
    }
   ],
   "source": [
    "data = MovieLens(\"100k\")\n",
    "log = spark.createDataFrame(data.ratings).withColumn(\n",
    "    \"context\", lit(DEFAULT_CONTEXT)\n",
    ")\n",
    "data.info()"
   ]
  },
  {
   "cell_type": "markdown",
   "metadata": {
    "ein.tags": "worksheet-0",
    "slideshow": {
     "slide_type": "-"
    }
   },
   "source": [
    "## Сценарии с разными моделями <a name=\"scenario\"></a>"
   ]
  },
  {
   "cell_type": "markdown",
   "metadata": {
    "ein.tags": "worksheet-0",
    "slideshow": {
     "slide_type": "-"
    }
   },
   "source": [
    "### Получение сценария через фабрику <a name=\"get-scenario\"></a>"
   ]
  },
  {
   "cell_type": "code",
   "execution_count": 6,
   "metadata": {
    "autoscroll": false,
    "ein.hycell": false,
    "ein.tags": "worksheet-0",
    "pycharm": {
     "name": "#%%\n"
    },
    "slideshow": {
     "slide_type": "-"
    }
   },
   "outputs": [],
   "source": [
    "popular_recommender = PopularRecommender()\n",
    "als_recommender = ALSRecommender()\n",
    "knn_recommender = KNNRecommender()\n",
    "lightfm_recommender = LightFMRecommender()"
   ]
  },
  {
   "cell_type": "code",
   "execution_count": 7,
   "metadata": {
    "autoscroll": false,
    "ein.hycell": false,
    "ein.tags": "worksheet-0",
    "pycharm": {
     "name": "#%%\n"
    },
    "slideshow": {
     "slide_type": "-"
    }
   },
   "outputs": [],
   "source": [
    "log_bydate_splitter = log_splitter.LogSplitByDateSplitter(\n",
    "    True, True,\n",
    "    datetime(2007, 1, 1)\n",
    ")\n",
    "log_random_splitter = log_splitter.LogSplitRandomlySplitter(\n",
    "    True, True,\n",
    "    test_size=0.3, seed=1234\n",
    ")\n",
    "log_cold_splitter = log_splitter.ColdUsersExtractingSplitter(\n",
    "    True, True,\n",
    "    test_size=0.3\n",
    ")\n",
    "user_random_splitter = user_log_splitter.RandomUserLogSplitter(\n",
    "    True, True,\n",
    "    item_test_size=0.3,\n",
    "    seed=1234,\n",
    "    user_test_size=500\n",
    ")\n",
    "user_bydate_splitter = user_log_splitter.ByTimeUserLogSplitter(\n",
    "    True, True,\n",
    "    item_test_size=0.3,\n",
    "    seed=1234,\n",
    "    user_test_size=500\n",
    ")"
   ]
  },
  {
   "cell_type": "markdown",
   "metadata": {
    "ein.tags": "worksheet-0",
    "slideshow": {
     "slide_type": "-"
    }
   },
   "source": [
    "### Обучение сценария <a name=\"fit-scenario\"></a>"
   ]
  },
  {
   "cell_type": "code",
   "execution_count": 13,
   "metadata": {
    "autoscroll": false,
    "ein.hycell": false,
    "ein.tags": "worksheet-0",
    "slideshow": {
     "slide_type": "-"
    }
   },
   "outputs": [],
   "source": [
    "results = None"
   ]
  },
  {
   "cell_type": "code",
   "execution_count": 9,
   "metadata": {
    "autoscroll": false,
    "ein.hycell": false,
    "ein.tags": "worksheet-0",
    "pycharm": {
     "name": "#%%\n"
    },
    "slideshow": {
     "slide_type": "-"
    }
   },
   "outputs": [],
   "source": [
    "scenario = MainScenarioFactory().get(\n",
    "    splitter=user_random_splitter,\n",
    "    recommender=lightfm_recommender,\n",
    "    criterion=metrics.HitRate(),\n",
    "    metrics=[\n",
    "        metrics.NDCG(),\n",
    "        metrics.Precision(),\n",
    "        metrics.MAP(),\n",
    "        metrics.Recall(),\n",
    "        metrics.Surprisal(log),\n",
    "    ],\n",
    "    fallback_recommender=popular_recommender,\n",
    ")"
   ]
  },
  {
   "cell_type": "code",
   "execution_count": 10,
   "metadata": {
    "autoscroll": false,
    "ein.hycell": false,
    "ein.tags": "worksheet-0",
    "pycharm": {
     "name": "#%%\n"
    },
    "slideshow": {
     "slide_type": "-"
    }
   },
   "outputs": [],
   "source": [
    "popular_grid = {\n",
    "    \"alpha\": {\"type\": \"int\", \"args\": [0, 10]},\n",
    "    \"beta\": {\"type\": \"int\", \"args\": [0, 10]}\n",
    "}\n",
    "als_grid = {\n",
    "    \"rank\": {\"type\": \"discrete_uniform\", \"args\": [10, 100, 10]}\n",
    "}\n",
    "lightfm_grid = {\n",
    "    \"rank\": {\"type\": \"int\", \"args\": [10, 100]}\n",
    "}\n",
    "knn_grid = {\n",
    "    \"shrink\": {\"type\": \"discrete_uniform\", \"args\": [10, 50, 10]},\n",
    "    \"num_neighbours\": {\"type\": \"discrete_uniform\", \"args\": [0, 10, 1]},\n",
    "}"
   ]
  },
  {
   "cell_type": "code",
   "execution_count": 11,
   "metadata": {
    "autoscroll": false,
    "ein.hycell": false,
    "ein.tags": "worksheet-0",
    "pycharm": {
     "name": "#%%\n"
    },
    "scrolled": false,
    "slideshow": {
     "slide_type": "-"
    }
   },
   "outputs": [
    {
     "name": "stderr",
     "output_type": "stream",
     "text": [
      "05-Feb-20 17:29:58, root, DEBUG: Деление лога на обучающую и тестовую выборку\n",
      "05-Feb-20 17:30:18, root, DEBUG: Длина трейна и теста: (84013, 15944)\n",
      "05-Feb-20 17:30:19, root, DEBUG: Количество пользователей в трейне и тесте: 943, 490\n",
      "05-Feb-20 17:30:20, root, DEBUG: Количество объектов в трейне и тесте: 1644, 1355\n",
      "05-Feb-20 17:30:20, root, DEBUG: Обучение и предсказание дополнительной модели\n",
      "05-Feb-20 17:30:20, root, DEBUG: Проверка датафреймов\n",
      "05-Feb-20 17:30:21, root, DEBUG: Предварительная стадия обучения (pre-fit)\n",
      "05-Feb-20 17:30:22, root, DEBUG: Среднее количество items у каждого user: 90\n",
      "05-Feb-20 17:30:25, root, DEBUG: Основная стадия обучения (fit)\n",
      "05-Feb-20 17:30:25, root, DEBUG: Проверка датафреймов\n",
      "05-Feb-20 17:30:27, root, DEBUG: Количество items после фильтрации: 100\n",
      "05-Feb-20 17:30:31, root, DEBUG: Пре-фит модели\n",
      "05-Feb-20 17:30:32, root, DEBUG: -------------\n",
      "05-Feb-20 17:30:32, root, DEBUG: Оптимизация параметров\n",
      "05-Feb-20 17:30:32, root, DEBUG: Максимальное количество попыток: 100 (чтобы поменять его, задайте параметр 'optuna_max_n_trials')\n",
      "05-Feb-20 17:30:32, root, DEBUG: -- Параметры: {'rank': 12}\n",
      "05-Feb-20 17:30:32, root, DEBUG: -- Сохраняем optuna study на диск\n",
      "05-Feb-20 17:30:32, root, DEBUG: -- Второй фит модели в оптимизации\n",
      "05-Feb-20 17:30:32, root, DEBUG: Построение модели LightFM\n",
      "05-Feb-20 17:30:33, root, DEBUG: -- Предикт модели в оптимизации\n",
      "05-Feb-20 17:30:33, root, DEBUG: Проверка датафреймов\n",
      "05-Feb-20 17:30:52, root, DEBUG: -- Дополняем рекомендации fallback рекомендациями\n",
      "05-Feb-20 17:30:52, root, DEBUG: -- Длина рекомендаций: 4900\n",
      "05-Feb-20 17:30:55, root, DEBUG: -- Длина рекомендаций после добавления fallback-рекомендаций: 4900\n",
      "05-Feb-20 17:30:55, root, DEBUG: -- Подсчет метрики в оптимизации\n",
      "05-Feb-20 17:31:24, root, DEBUG: -- Метрики: HitRate@K=0.8653 nDCG@k=0.2530 Precision@k=0.2357 MAP@k=0.0458 Recall@K=0.1020 Surprisal@K=1.4673\n",
      "[I 2020-02-05 17:31:24,068] Finished trial#0 resulted in value: 0.8653061224489796. Current best value is 0.8653061224489796 with parameters: {'rank': 12}.\n",
      "05-Feb-20 17:31:24, root, DEBUG: -- Параметры: {'rank': 83}\n",
      "05-Feb-20 17:31:24, root, DEBUG: -- Сохраняем optuna study на диск\n",
      "05-Feb-20 17:31:24, root, DEBUG: -- Второй фит модели в оптимизации\n",
      "05-Feb-20 17:31:24, root, DEBUG: Построение модели LightFM\n",
      "05-Feb-20 17:31:26, root, DEBUG: -- Предикт модели в оптимизации\n",
      "05-Feb-20 17:31:26, root, DEBUG: Проверка датафреймов\n",
      "05-Feb-20 17:31:45, root, DEBUG: -- Дополняем рекомендации fallback рекомендациями\n",
      "05-Feb-20 17:31:45, root, DEBUG: -- Длина рекомендаций: 4900\n",
      "05-Feb-20 17:31:47, root, DEBUG: -- Длина рекомендаций после добавления fallback-рекомендаций: 4900\n",
      "05-Feb-20 17:31:47, root, DEBUG: -- Подсчет метрики в оптимизации\n",
      "05-Feb-20 17:32:15, root, DEBUG: -- Метрики: HitRate@K=0.8408 nDCG@k=0.2430 Precision@k=0.2306 MAP@k=0.0444 Recall@K=0.0981 Surprisal@K=1.7225\n",
      "[I 2020-02-05 17:32:15,171] Finished trial#1 resulted in value: 0.8408163265306122. Current best value is 0.8653061224489796 with parameters: {'rank': 12}.\n",
      "05-Feb-20 17:32:15, root, DEBUG: Лучшие значения метрики: 0.8653061224489796\n",
      "05-Feb-20 17:32:15, root, DEBUG: Лучшие параметры: {'rank': 12}\n"
     ]
    }
   ],
   "source": [
    "best_params = scenario.research(\n",
    "    lightfm_grid,\n",
    "    log,\n",
    "    k=10,\n",
    "    n_trials=2\n",
    ")"
   ]
  },
  {
   "cell_type": "code",
   "execution_count": 14,
   "metadata": {
    "autoscroll": false,
    "ein.hycell": false,
    "ein.tags": "worksheet-0",
    "pycharm": {
     "name": "#%%\n"
    },
    "scrolled": true,
    "slideshow": {
     "slide_type": "-"
    }
   },
   "outputs": [
    {
     "data": {
      "text/html": [
       "<div>\n",
       "<style scoped>\n",
       "    .dataframe tbody tr th:only-of-type {\n",
       "        vertical-align: middle;\n",
       "    }\n",
       "\n",
       "    .dataframe tbody tr th {\n",
       "        vertical-align: top;\n",
       "    }\n",
       "\n",
       "    .dataframe thead th {\n",
       "        text-align: right;\n",
       "    }\n",
       "</style>\n",
       "<table border=\"1\" class=\"dataframe\">\n",
       "  <thead>\n",
       "    <tr style=\"text-align: right;\">\n",
       "      <th></th>\n",
       "      <th>number</th>\n",
       "      <th>value</th>\n",
       "      <th>datetime_start</th>\n",
       "      <th>datetime_complete</th>\n",
       "      <th>params_rank</th>\n",
       "      <th>user_attrs_MAP@k</th>\n",
       "      <th>user_attrs_Precision@k</th>\n",
       "      <th>user_attrs_Recall@K</th>\n",
       "      <th>user_attrs_Surprisal@K</th>\n",
       "      <th>user_attrs_nDCG@k</th>\n",
       "      <th>system_attrs__number</th>\n",
       "      <th>state</th>\n",
       "    </tr>\n",
       "  </thead>\n",
       "  <tbody>\n",
       "    <tr>\n",
       "      <th>0</th>\n",
       "      <td>0</td>\n",
       "      <td>0.865306</td>\n",
       "      <td>2020-02-05 17:30:32.205792</td>\n",
       "      <td>2020-02-05 17:31:24.068727</td>\n",
       "      <td>12</td>\n",
       "      <td>0.045775</td>\n",
       "      <td>0.235714</td>\n",
       "      <td>0.102034</td>\n",
       "      <td>1.467280</td>\n",
       "      <td>0.253048</td>\n",
       "      <td>0</td>\n",
       "      <td>COMPLETE</td>\n",
       "    </tr>\n",
       "    <tr>\n",
       "      <th>1</th>\n",
       "      <td>1</td>\n",
       "      <td>0.840816</td>\n",
       "      <td>2020-02-05 17:31:24.164692</td>\n",
       "      <td>2020-02-05 17:32:15.171145</td>\n",
       "      <td>83</td>\n",
       "      <td>0.044364</td>\n",
       "      <td>0.230612</td>\n",
       "      <td>0.098064</td>\n",
       "      <td>1.722532</td>\n",
       "      <td>0.243003</td>\n",
       "      <td>1</td>\n",
       "      <td>COMPLETE</td>\n",
       "    </tr>\n",
       "  </tbody>\n",
       "</table>\n",
       "</div>"
      ],
      "text/plain": [
       "   number     value             datetime_start          datetime_complete  \\\n",
       "0  0       0.865306 2020-02-05 17:30:32.205792 2020-02-05 17:31:24.068727   \n",
       "1  1       0.840816 2020-02-05 17:31:24.164692 2020-02-05 17:32:15.171145   \n",
       "\n",
       "   params_rank  user_attrs_MAP@k  user_attrs_Precision@k  user_attrs_Recall@K  \\\n",
       "0  12           0.045775          0.235714                0.102034              \n",
       "1  83           0.044364          0.230612                0.098064              \n",
       "\n",
       "   user_attrs_Surprisal@K  user_attrs_nDCG@k  system_attrs__number     state  \n",
       "0  1.467280                0.253048           0                     COMPLETE  \n",
       "1  1.722532                0.243003           1                     COMPLETE  "
      ]
     },
     "execution_count": 14,
     "metadata": {},
     "output_type": "execute_result"
    }
   ],
   "source": [
    "results = pd.concat([scenario.study.trials_dataframe(), results], axis=0)\n",
    "\n",
    "results"
   ]
  },
  {
   "cell_type": "markdown",
   "metadata": {
    "ein.tags": "worksheet-0",
    "slideshow": {
     "slide_type": "-"
    }
   },
   "source": [
    "### Получение рекомендаций <a name=\"predict-scenario\"></a>"
   ]
  },
  {
   "cell_type": "code",
   "execution_count": 15,
   "metadata": {
    "autoscroll": false,
    "ein.hycell": false,
    "ein.tags": "worksheet-0",
    "pycharm": {
     "name": "#%%\n"
    },
    "scrolled": true,
    "slideshow": {
     "slide_type": "-"
    }
   },
   "outputs": [
    {
     "name": "stderr",
     "output_type": "stream",
     "text": [
      "05-Feb-20 17:32:32, root, DEBUG: Проверка датафреймов\n",
      "05-Feb-20 17:32:33, root, DEBUG: Предварительная стадия обучения (pre-fit)\n",
      "05-Feb-20 17:32:33, root, DEBUG: Основная стадия обучения (fit)\n",
      "05-Feb-20 17:32:33, root, DEBUG: Построение модели LightFM\n",
      "05-Feb-20 17:32:34, root, DEBUG: Проверка датафреймов\n",
      "05-Feb-20 17:32:35, root, DEBUG: Выделение дефолтных юзеров\n",
      "05-Feb-20 17:32:35, root, DEBUG: Выделение дефолтных айтемов\n"
     ]
    }
   ],
   "source": [
    "recs = scenario.production(\n",
    "    best_params, \n",
    "    log,\n",
    "    users=None, \n",
    "    items=None,\n",
    "    k=10\n",
    ")"
   ]
  },
  {
   "cell_type": "code",
   "execution_count": 16,
   "metadata": {
    "autoscroll": false,
    "ein.hycell": false,
    "ein.tags": "worksheet-0",
    "pycharm": {
     "name": "#%%\n"
    },
    "slideshow": {
     "slide_type": "-"
    }
   },
   "outputs": [
    {
     "name": "stdout",
     "output_type": "stream",
     "text": [
      "+-------+-------+--------------------+----------+\n",
      "|user_id|item_id|           relevance|   context|\n",
      "+-------+-------+--------------------+----------+\n",
      "|     91|    199| 0.23271000385284424|no_context|\n",
      "|     91|    483| 0.04666692018508911|no_context|\n",
      "|     91|    194|-0.04420399665832...|no_context|\n",
      "|     91|    435| -0.2268085479736328|no_context|\n",
      "|     91|    197|-0.28308582305908203|no_context|\n",
      "|     91|    480|-0.31120729446411133|no_context|\n",
      "|     91|    661|-0.36454081535339355|no_context|\n",
      "|     91|    511| -0.3815042972564697|no_context|\n",
      "|     91|    510|  -0.413942813873291|no_context|\n",
      "|     91|    205| -0.4170534014701843|no_context|\n",
      "|    152|    393| -0.7733075022697449|no_context|\n",
      "|    152|     94| -0.9557117223739624|no_context|\n",
      "|    152|     88| -1.0421855449676514|no_context|\n",
      "|    152|    419| -1.0703446865081787|no_context|\n",
      "|    152|    739|  -1.152461051940918|no_context|\n",
      "|    152|    402|  -1.180585503578186|no_context|\n",
      "|    152|     66|  -1.207716703414917|no_context|\n",
      "|    152|    451| -1.2355061769485474|no_context|\n",
      "|    152|    781|  -1.272916316986084|no_context|\n",
      "|    152|     82|  -1.316298246383667|no_context|\n",
      "+-------+-------+--------------------+----------+\n",
      "only showing top 20 rows\n",
      "\n"
     ]
    }
   ],
   "source": [
    "recs.show()"
   ]
  }
 ],
 "metadata": {
  "kernelspec": {
   "display_name": "Python 3",
   "language": "python",
   "name": "python3"
  },
  "language_info": {
   "codemirror_mode": {
    "name": "ipython",
    "version": 3
   },
   "file_extension": ".py",
   "mimetype": "text/x-python",
   "name": "python",
   "nbconvert_exporter": "python",
   "pygments_lexer": "ipython3",
   "version": "3.7.5"
  },
  "name": "scenario_test_movielnes100k.ipynb",
  "pycharm": {
   "stem_cell": {
    "cell_type": "raw",
    "metadata": {
     "collapsed": false
    },
    "source": null
   }
  }
 },
 "nbformat": 4,
 "nbformat_minor": 2
}
