{
 "cells": [
  {
   "cell_type": "markdown",
   "metadata": {},
   "source": [
    "# Scenario Integration Test\n",
    "\n",
    "Лаботоратория по искусственному интеллекту, Сбербанк. \n",
    "\n",
    "Авторы: \n",
    "[Борис Шминке](<mailto:Shminke.B.A@omega.sbrf.ru>), \n",
    "[Роза Айсина](<mailto:Aysina.R.M@omega.sbrf.ru>). \n",
    "\n",
    "О чем: вызов сценариев с разными моделями.\n",
    "В качестве датасета используется датасет MovieLens100K. \n",
    "\n",
    "## Содержание\n",
    "\n",
    "1. [Импорты, создание спарк-сессии](#intro)\n",
    "2. [Загрузка данных](#data-loader)\n",
    "3. [Сценарии с разными моделями](#scenario)\n",
    "3.1 [Получение сценария через фабрику](#get-scenario)\n",
    "3.2 [Обучение сценария](#fit-scenario)"
   ]
  },
  {
   "cell_type": "markdown",
   "metadata": {},
   "source": [
    "### Импорты, создание спарк-сессии <a name='intro'></a>"
   ]
  },
  {
   "cell_type": "code",
   "execution_count": 1,
   "metadata": {
    "pycharm": {
     "name": "#%%\n"
    }
   },
   "outputs": [],
   "source": [
    "%load_ext autoreload\n",
    "%autoreload 2\n",
    "%matplotlib inline"
   ]
  },
  {
   "cell_type": "code",
   "execution_count": 2,
   "metadata": {
    "pycharm": {
     "name": "#%%\n"
    }
   },
   "outputs": [],
   "source": [
    "import logging\n",
    "import os\n",
    "import sys\n",
    "from datetime import datetime\n",
    "\n",
    "import matplotlib.pyplot as plt\n",
    "import pandas as pd\n",
    "from pyspark.sql import SparkSession\n",
    "from pyspark.sql import functions as sf"
   ]
  },
  {
   "cell_type": "code",
   "execution_count": 3,
   "metadata": {
    "pycharm": {
     "name": "#%%\n"
    }
   },
   "outputs": [],
   "source": [
    "parent_dir = os.path.split(os.getcwd())[0]\n",
    "if parent_dir not in sys.path:\n",
    "    sys.path.append(parent_dir)"
   ]
  },
  {
   "cell_type": "code",
   "execution_count": 4,
   "metadata": {
    "pycharm": {
     "name": "#%%\n"
    }
   },
   "outputs": [],
   "source": [
    "from sponge_bob_magic.data_loader.datasets import download_movielens\n",
    "from sponge_bob_magic.data_preparator.data_preparator import DataPreparator\n",
    "\n",
    "from sponge_bob_magic.splitters import log_splitter\n",
    "from sponge_bob_magic.splitters import user_log_splitter\n",
    "from sponge_bob_magic.metrics import metrics\n",
    "\n",
    "from sponge_bob_magic.models.popular_recomennder import PopularRecommender\n",
    "from sponge_bob_magic.models.als_recommender import ALSRecommender\n",
    "from sponge_bob_magic.models.knn_recommender import KNNRecommender\n",
    "\n",
    "from sponge_bob_magic.scenarios.main_scenario.main_factory import MainScenarioFactory"
   ]
  },
  {
   "cell_type": "code",
   "execution_count": 5,
   "metadata": {
    "pycharm": {
     "name": "#%%\n"
    }
   },
   "outputs": [],
   "source": [
    "# отображение максимальной ширины колонок в pandas датафреймах\n",
    "pd.options.display.max_colwidth = -1"
   ]
  },
  {
   "cell_type": "code",
   "execution_count": 6,
   "metadata": {
    "pycharm": {
     "name": "#%%\n"
    }
   },
   "outputs": [
    {
     "data": {
      "text/html": [
       "\n",
       "            <div>\n",
       "                <p><b>SparkSession - hive</b></p>\n",
       "                \n",
       "        <div>\n",
       "            <p><b>SparkContext</b></p>\n",
       "\n",
       "            <p><a href=\"http://192.168.43.159:4040\">Spark UI</a></p>\n",
       "\n",
       "            <dl>\n",
       "              <dt>Version</dt>\n",
       "                <dd><code>v2.4.4</code></dd>\n",
       "              <dt>Master</dt>\n",
       "                <dd><code>local[*]</code></dd>\n",
       "              <dt>AppName</dt>\n",
       "                <dd><code>pyspark-shell</code></dd>\n",
       "            </dl>\n",
       "        </div>\n",
       "        \n",
       "            </div>\n",
       "        "
      ],
      "text/plain": [
       "<pyspark.sql.session.SparkSession at 0x12445c290>"
      ]
     },
     "execution_count": 6,
     "metadata": {},
     "output_type": "execute_result"
    }
   ],
   "source": [
    "spark_memory = \"5g\"\n",
    "spark_cores = \"*\"\n",
    "user_home = os.environ[\"HOME\"]\n",
    "\n",
    "spark = (\n",
    "    SparkSession\n",
    "    .builder\n",
    "    .config(\"spark.driver.memory\", spark_memory)\n",
    "    .config(\"spark.local.dir\", os.path.join(user_home, \"tmp\"))\n",
    "    .master(f\"local[{spark_cores}]\")\n",
    "    .enableHiveSupport()\n",
    "    .getOrCreate()\n",
    ")\n",
    "\n",
    "spark"
   ]
  },
  {
   "cell_type": "code",
   "execution_count": 7,
   "metadata": {
    "pycharm": {
     "name": "#%%\n"
    }
   },
   "outputs": [],
   "source": [
    "spark_logger = logging.getLogger(\"py4j\")\n",
    "spark_logger.setLevel(logging.WARN)"
   ]
  },
  {
   "cell_type": "code",
   "execution_count": 8,
   "metadata": {
    "pycharm": {
     "name": "#%%\n"
    }
   },
   "outputs": [],
   "source": [
    "logger = logging.getLogger()\n",
    "formatter = logging.Formatter(\"%(asctime)s, %(name)s, %(levelname)s: %(message)s\",\n",
    "                              datefmt=\"%d-%b-%y %H:%M:%S\")\n",
    "hdlr = logging.StreamHandler()\n",
    "hdlr.setFormatter(formatter)\n",
    "logger.addHandler(hdlr)\n",
    "logger.setLevel(logging.DEBUG)"
   ]
  },
  {
   "cell_type": "markdown",
   "metadata": {},
   "source": [
    "## Загрузка данных <a name=\"data-loader\"></a>"
   ]
  },
  {
   "cell_type": "code",
   "execution_count": 9,
   "metadata": {
    "pycharm": {
     "name": "#%%\n"
    }
   },
   "outputs": [],
   "source": [
    "path_data = os.path.join(os.environ[\"HOME\"], \"data\")\n",
    "\n",
    "if not os.path.exists(path_data):\n",
    "    os.mkdir(path_data)\n",
    "    \n",
    "if not os.path.exists(os.path.join(path_data, \"ml-latest-small\")):\n",
    "    download_movielens(path_data, \"ml-latest-small\")"
   ]
  },
  {
   "cell_type": "markdown",
   "metadata": {},
   "source": [
    "## Подготовка данных <a name=\"data-preparator\"></a>"
   ]
  },
  {
   "cell_type": "code",
   "execution_count": 10,
   "metadata": {
    "pycharm": {
     "name": "#%%\n"
    }
   },
   "outputs": [],
   "source": [
    "path_log = os.path.join(path_data, \"ml-latest-small\", \"ratings.csv\")"
   ]
  },
  {
   "cell_type": "code",
   "execution_count": 11,
   "metadata": {
    "pycharm": {
     "name": "#%%\n"
    }
   },
   "outputs": [],
   "source": [
    "dp = DataPreparator(spark)\n",
    "\n",
    "log = dp.transform_log(\n",
    "    path_log,\n",
    "    format_type=\"csv\",\n",
    "    columns_names={\n",
    "        \"user_id\": \"userId\", \n",
    "        \"item_id\": \"movieId\",\n",
    "        \"timestamp\": \"timestamp\"\n",
    "    },\n",
    "    date_format=None,\n",
    "    header=True\n",
    ")"
   ]
  },
  {
   "cell_type": "code",
   "execution_count": 12,
   "metadata": {
    "pycharm": {
     "name": "#%%\n"
    }
   },
   "outputs": [
    {
     "name": "stdout",
     "output_type": "stream",
     "text": [
      "+-------+-------+-------------------+----------+---------+\n",
      "|user_id|item_id|          timestamp|   context|relevance|\n",
      "+-------+-------+-------------------+----------+---------+\n",
      "|      1|      1|2000-07-30 22:45:03|no_context|      1.0|\n",
      "|      1|      3|2000-07-30 22:20:47|no_context|      1.0|\n",
      "|      1|      6|2000-07-30 22:37:04|no_context|      1.0|\n",
      "+-------+-------+-------------------+----------+---------+\n",
      "only showing top 3 rows\n",
      "\n"
     ]
    }
   ],
   "source": [
    "log.show(3)"
   ]
  },
  {
   "cell_type": "code",
   "execution_count": 13,
   "metadata": {
    "pycharm": {
     "name": "#%%\n"
    }
   },
   "outputs": [
    {
     "data": {
      "text/plain": [
       "100836"
      ]
     },
     "execution_count": 13,
     "metadata": {},
     "output_type": "execute_result"
    }
   ],
   "source": [
    "log.count()"
   ]
  },
  {
   "cell_type": "code",
   "execution_count": 14,
   "metadata": {},
   "outputs": [
    {
     "name": "stdout",
     "output_type": "stream",
     "text": [
      "+-------+-------+---------+-------+---------+\n",
      "|user_id|item_id|timestamp|context|relevance|\n",
      "+-------+-------+---------+-------+---------+\n",
      "|      0|      0|        0|      0|        0|\n",
      "+-------+-------+---------+-------+---------+\n",
      "\n"
     ]
    }
   ],
   "source": [
    "log.select([\n",
    "    sf.count(sf.when(sf.col(c).isNull(), c)).alias(c) \n",
    "    for c in log.columns\n",
    "]).show()"
   ]
  },
  {
   "cell_type": "code",
   "execution_count": 15,
   "metadata": {
    "pycharm": {
     "name": "#%%\n"
    }
   },
   "outputs": [
    {
     "name": "stdout",
     "output_type": "stream",
     "text": [
      "+-------+-------+---------+-------+---------+\n",
      "|user_id|item_id|timestamp|context|relevance|\n",
      "+-------+-------+---------+-------+---------+\n",
      "|    610|   9724|    85043|      1|        1|\n",
      "+-------+-------+---------+-------+---------+\n",
      "\n"
     ]
    }
   ],
   "source": [
    "log.agg(*(sf.countDistinct(sf.col(c)).alias(c) for c in log.columns)).show()"
   ]
  },
  {
   "cell_type": "code",
   "execution_count": 16,
   "metadata": {
    "pycharm": {
     "name": "#%%\n"
    }
   },
   "outputs": [
    {
     "name": "stdout",
     "output_type": "stream",
     "text": [
      "+-------------------+-------------------+\n",
      "|     min(timestamp)|     max(timestamp)|\n",
      "+-------------------+-------------------+\n",
      "|1996-03-29 21:36:55|2018-09-24 17:27:30|\n",
      "+-------------------+-------------------+\n",
      "\n"
     ]
    }
   ],
   "source": [
    "log.agg(sf.min(sf.col(\"timestamp\")), sf.max(sf.col(\"timestamp\"))).show()"
   ]
  },
  {
   "cell_type": "code",
   "execution_count": 17,
   "metadata": {
    "pycharm": {
     "name": "#%%\n"
    }
   },
   "outputs": [],
   "source": [
    "df_short = log.limit(1000).cache()"
   ]
  },
  {
   "cell_type": "code",
   "execution_count": 18,
   "metadata": {
    "pycharm": {
     "name": "#%%\n"
    }
   },
   "outputs": [],
   "source": [
    "def plot_result_value(results):\n",
    "    results[\"value_name\"] = (results[\"params\"][\"alpha\"].astype(str)\n",
    "                         .str.cat(results[\"params\"][\"beta\"].astype(str), sep=\", \"))\n",
    "    \n",
    "    plt.figure(figsize=(7, 5))\n",
    "    ax = results[\"value\"].plot(kind=\"bar\", xticks=range(len(results)), rot=0)\n",
    "    ax.set_xticklabels(results[\"value_name\"].values)\n",
    "\n",
    "    plt.xlabel(r\"$(\\alpha, \\beta)$\" + \" пары\")\n",
    "    plt.ylabel(\"Значение метрики\")\n",
    "    plt.title(\"Результаты эксперимента\")\n",
    "\n",
    "    plt.show()"
   ]
  },
  {
   "cell_type": "markdown",
   "metadata": {},
   "source": [
    "## Сценарии с разными моделями <a name=\"scenario\"></a>"
   ]
  },
  {
   "cell_type": "markdown",
   "metadata": {},
   "source": [
    "### Получение сценария через фабрику <a name=\"get-scenario\"></a>"
   ]
  },
  {
   "cell_type": "code",
   "execution_count": 19,
   "metadata": {
    "pycharm": {
     "name": "#%%\n"
    }
   },
   "outputs": [],
   "source": [
    "popular_recommender = PopularRecommender(spark)\n",
    "als_recommender = ALSRecommender(spark)\n",
    "knn_recommender = KNNRecommender(spark)"
   ]
  },
  {
   "cell_type": "code",
   "execution_count": 20,
   "metadata": {
    "pycharm": {
     "name": "#%%\n"
    }
   },
   "outputs": [],
   "source": [
    "log_bydate_splitter = log_splitter.LogSplitByDateSplitter(\n",
    "    spark, True, True,\n",
    "    datetime(2007, 1, 1)\n",
    ")\n",
    "\n",
    "log_random_splitter = log_splitter.LogSplitRandomlySplitter(\n",
    "    spark, True, True,\n",
    "    test_size=0.3, seed=1234\n",
    ")\n",
    "\n",
    "log_cold_splitter = log_splitter.ColdUsersExtractingSplitter(\n",
    "    spark, True, True,\n",
    "    test_size=0.3\n",
    ")\n",
    "\n",
    "user_random_splitter = user_log_splitter.RandomUserLogSplitter(\n",
    "    spark, True, True,\n",
    "    test_size=0.3, seed=1234\n",
    ")\n",
    "\n",
    "user_bydate_splitter = user_log_splitter.ByTimeUserLogSplitter(\n",
    "    spark, True, True,\n",
    "    test_size=0.3, seed=1234\n",
    ")\n"
   ]
  },
  {
   "cell_type": "code",
   "execution_count": 37,
   "metadata": {
    "pycharm": {
     "name": "#%%\n"
    }
   },
   "outputs": [],
   "source": [
    "factory = MainScenarioFactory(\n",
    "    spark,\n",
    "    splitter=user_random_splitter,\n",
    "    recommender=knn_recommender,\n",
    "    criterion=metrics.HitRateMetric(spark),\n",
    "    metrics=[\n",
    "        metrics.NDCGMetric(spark),\n",
    "        metrics.PrecisionMetric(spark),\n",
    "        metrics.MAPMetric(spark),\n",
    "        metrics.RecallMetric(spark),\n",
    "        metrics.Surprisal(spark, log),\n",
    "    ],\n",
    "    fallback_recommender=popular_recommender,\n",
    ")"
   ]
  },
  {
   "cell_type": "code",
   "execution_count": 38,
   "metadata": {
    "pycharm": {
     "name": "#%%\n"
    }
   },
   "outputs": [],
   "source": [
    "scenario = factory.get()"
   ]
  },
  {
   "cell_type": "markdown",
   "metadata": {},
   "source": [
    "### Обучение сценария <a name=\"fit-scenario\"></a>"
   ]
  },
  {
   "cell_type": "code",
   "execution_count": 23,
   "metadata": {},
   "outputs": [],
   "source": [
    "# results = None"
   ]
  },
  {
   "cell_type": "code",
   "execution_count": 24,
   "metadata": {
    "pycharm": {
     "name": "#%%\n"
    }
   },
   "outputs": [
    {
     "data": {
      "text/plain": [
       "10.369806663924312"
      ]
     },
     "execution_count": 24,
     "metadata": {},
     "output_type": "execute_result"
    }
   ],
   "source": [
    "avg_num_users = (\n",
    "    log\n",
    "    .select(\"user_id\", \"item_id\")\n",
    "    .groupBy(\"item_id\")\n",
    "    .count()\n",
    "    .select(sf.mean(sf.col(\"count\")).alias(\"mean\"))\n",
    "    .collect()[0][\"mean\"]\n",
    ")\n",
    "\n",
    "avg_num_users"
   ]
  },
  {
   "cell_type": "code",
   "execution_count": 25,
   "metadata": {
    "pycharm": {
     "name": "#%%\n"
    }
   },
   "outputs": [],
   "source": [
    "popular_grid = {\n",
    "    \"alpha\": {\"type\": \"int\", \"args\": [0, 10]},\n",
    "    \"beta\": {\"type\": \"int\", \"args\": [0, 10]}\n",
    "}\n",
    "\n",
    "als_grid = {\n",
    "    \"rank\": {\"type\": \"discrete_uniform\", \"args\": [10, 100, 10]}\n",
    "}\n",
    "\n",
    "knn_grid = {\n",
    "    \"shrink\": {\"type\": \"discrete_uniform\", \"args\": [10, 50, 10]},\n",
    "    \"num_neighbours\": {\"type\": \"discrete_uniform\", \"args\": [0, 10, 1]},\n",
    "}\n"
   ]
  },
  {
   "cell_type": "code",
   "execution_count": 40,
   "metadata": {
    "pycharm": {
     "name": "#%%\n"
    },
    "scrolled": false
   },
   "outputs": [
    {
     "name": "stderr",
     "output_type": "stream",
     "text": [
      "10-Jan-20 14:14:10, root, DEBUG: Деление лога на обучающую и тестовую выборку\n",
      "10-Jan-20 14:14:20, root, DEBUG: Длина трейна и теста: (70856, 28628)\n",
      "10-Jan-20 14:14:21, root, DEBUG: Количество пользователей в трейне и тесте: 610, 610\n",
      "10-Jan-20 14:14:22, root, DEBUG: Количество объектов в трейне и тесте: 8532, 4950\n",
      "10-Jan-20 14:14:22, root, DEBUG: Обучение и предсказание дополнительной модели\n",
      "10-Jan-20 14:14:22, root, DEBUG: Проверка датафреймов\n",
      "10-Jan-20 14:14:22, root, DEBUG: Предварительная стадия обучения (pre-fit)\n",
      "10-Jan-20 14:14:23, root, DEBUG: Среднее количество items у каждого user: 117\n",
      "10-Jan-20 14:14:26, root, DEBUG: Основная стадия обучения (fit)\n",
      "10-Jan-20 14:14:26, root, DEBUG: Проверка датафреймов\n",
      "10-Jan-20 14:14:28, root, DEBUG: Количество items после фильтрации: 127\n",
      "10-Jan-20 14:14:30, root, DEBUG: Пре-фит модели\n",
      "10-Jan-20 14:15:01, root, DEBUG: -------------\n",
      "10-Jan-20 14:15:01, root, DEBUG: Оптимизация параметров\n",
      "10-Jan-20 14:15:01, root, DEBUG: Максимальное количество попыток: 100 (чтобы поменять его, задайте параметр 'optuna_max_n_trials')\n",
      "10-Jan-20 14:15:02, root, DEBUG: -- Параметры: {'shrink': 50.0, 'num_neighbours': 2.0}\n",
      "10-Jan-20 14:15:02, root, DEBUG: -- Сохраняем optuna study на диск\n",
      "10-Jan-20 14:15:02, root, DEBUG: -- Второй фит модели в оптимизации\n",
      "10-Jan-20 14:15:36, root, DEBUG: -- Предикт модели в оптимизации\n",
      "10-Jan-20 14:15:36, root, DEBUG: Проверка датафреймов\n",
      "10-Jan-20 14:15:43, root, DEBUG: -- Дополняем рекомендации fallback рекомендациями\n",
      "10-Jan-20 14:15:43, root, DEBUG: -- Длина рекомендаций: 6087\n",
      "10-Jan-20 14:15:45, root, DEBUG: -- Длина рекомендаций после добавления fallback-рекомендаций: 6100\n",
      "10-Jan-20 14:15:45, root, DEBUG: -- Подсчет метрики в оптимизации\n",
      "10-Jan-20 14:16:13, root, DEBUG: -- Метрики: HitRate@K=0.7967 nDCG@k=0.3154 Precision@k=0.2774 MAP@k=0.0587 Recall@K=0.1084 Surprisal@K=2.3669\n",
      "[I 2020-01-10 14:16:13,222] Finished trial#0 resulted in value: 0.7967213114754098. Current best value is 0.7967213114754098 with parameters: {'shrink': 50.0, 'num_neighbours': 2.0}.\n",
      "10-Jan-20 14:16:13, root, DEBUG: -- Параметры: {'shrink': 50.0, 'num_neighbours': 6.0}\n",
      "10-Jan-20 14:16:13, root, DEBUG: -- Сохраняем optuna study на диск\n",
      "10-Jan-20 14:16:13, root, DEBUG: -- Второй фит модели в оптимизации\n",
      "10-Jan-20 14:16:30, root, DEBUG: -- Предикт модели в оптимизации\n",
      "10-Jan-20 14:16:30, root, DEBUG: Проверка датафреймов\n",
      "10-Jan-20 14:16:37, root, DEBUG: -- Дополняем рекомендации fallback рекомендациями\n",
      "10-Jan-20 14:16:37, root, DEBUG: -- Длина рекомендаций: 6100\n",
      "10-Jan-20 14:16:39, root, DEBUG: -- Длина рекомендаций после добавления fallback-рекомендаций: 6100\n",
      "10-Jan-20 14:16:39, root, DEBUG: -- Подсчет метрики в оптимизации\n",
      "10-Jan-20 14:17:05, root, DEBUG: -- Метрики: HitRate@K=0.8033 nDCG@k=0.3352 Precision@k=0.3016 MAP@k=0.0660 Recall@K=0.1218 Surprisal@K=2.0501\n",
      "[I 2020-01-10 14:17:06,055] Finished trial#1 resulted in value: 0.8032786885245902. Current best value is 0.8032786885245902 with parameters: {'shrink': 50.0, 'num_neighbours': 6.0}.\n",
      "10-Jan-20 14:17:06, root, DEBUG: Лучшие значения метрики: 0.8032786885245902\n",
      "10-Jan-20 14:17:06, root, DEBUG: Лучшие параметры: {'shrink': 50.0, 'num_neighbours': 6.0}\n"
     ]
    }
   ],
   "source": [
    "best_params = scenario.research(\n",
    "    knn_grid,\n",
    "    log,\n",
    "    k=10,\n",
    "    n_trials=2\n",
    ")"
   ]
  },
  {
   "cell_type": "code",
   "execution_count": 41,
   "metadata": {
    "pycharm": {
     "name": "#%%\n"
    }
   },
   "outputs": [
    {
     "data": {
      "text/html": [
       "<div>\n",
       "<style scoped>\n",
       "    .dataframe tbody tr th:only-of-type {\n",
       "        vertical-align: middle;\n",
       "    }\n",
       "\n",
       "    .dataframe tbody tr th {\n",
       "        vertical-align: top;\n",
       "    }\n",
       "\n",
       "    .dataframe thead tr th {\n",
       "        text-align: left;\n",
       "    }\n",
       "</style>\n",
       "<table border=\"1\" class=\"dataframe\">\n",
       "  <thead>\n",
       "    <tr>\n",
       "      <th></th>\n",
       "      <th>datetime_complete</th>\n",
       "      <th>datetime_start</th>\n",
       "      <th>number</th>\n",
       "      <th colspan=\"5\" halign=\"left\">params</th>\n",
       "      <th>state</th>\n",
       "      <th>system_attrs</th>\n",
       "      <th colspan=\"5\" halign=\"left\">user_attrs</th>\n",
       "      <th>value</th>\n",
       "    </tr>\n",
       "    <tr>\n",
       "      <th></th>\n",
       "      <th></th>\n",
       "      <th></th>\n",
       "      <th></th>\n",
       "      <th>alpha</th>\n",
       "      <th>beta</th>\n",
       "      <th>num_neighbours</th>\n",
       "      <th>rank</th>\n",
       "      <th>shrink</th>\n",
       "      <th></th>\n",
       "      <th>_number</th>\n",
       "      <th>MAP@k</th>\n",
       "      <th>Precision@k</th>\n",
       "      <th>Recall@K</th>\n",
       "      <th>Surprisal@K</th>\n",
       "      <th>nDCG@k</th>\n",
       "      <th></th>\n",
       "    </tr>\n",
       "  </thead>\n",
       "  <tbody>\n",
       "    <tr>\n",
       "      <th>0</th>\n",
       "      <td>2020-01-10 14:16:13.222048</td>\n",
       "      <td>2020-01-10 14:15:02.038705</td>\n",
       "      <td>0</td>\n",
       "      <td>NaN</td>\n",
       "      <td>NaN</td>\n",
       "      <td>2.0</td>\n",
       "      <td>NaN</td>\n",
       "      <td>50.0</td>\n",
       "      <td>TrialState.COMPLETE</td>\n",
       "      <td>0</td>\n",
       "      <td>0.058702</td>\n",
       "      <td>0.277377</td>\n",
       "      <td>0.108356</td>\n",
       "      <td>2.366873</td>\n",
       "      <td>0.315359</td>\n",
       "      <td>0.796721</td>\n",
       "    </tr>\n",
       "    <tr>\n",
       "      <th>1</th>\n",
       "      <td>2020-01-10 14:17:06.055240</td>\n",
       "      <td>2020-01-10 14:16:13.386894</td>\n",
       "      <td>1</td>\n",
       "      <td>NaN</td>\n",
       "      <td>NaN</td>\n",
       "      <td>6.0</td>\n",
       "      <td>NaN</td>\n",
       "      <td>50.0</td>\n",
       "      <td>TrialState.COMPLETE</td>\n",
       "      <td>1</td>\n",
       "      <td>0.066039</td>\n",
       "      <td>0.301639</td>\n",
       "      <td>0.121816</td>\n",
       "      <td>2.050082</td>\n",
       "      <td>0.335183</td>\n",
       "      <td>0.803279</td>\n",
       "    </tr>\n",
       "    <tr>\n",
       "      <th>0</th>\n",
       "      <td>2020-01-10 14:00:22.481347</td>\n",
       "      <td>2020-01-10 13:59:42.637781</td>\n",
       "      <td>0</td>\n",
       "      <td>NaN</td>\n",
       "      <td>NaN</td>\n",
       "      <td>NaN</td>\n",
       "      <td>60.0</td>\n",
       "      <td>NaN</td>\n",
       "      <td>TrialState.COMPLETE</td>\n",
       "      <td>0</td>\n",
       "      <td>0.021320</td>\n",
       "      <td>0.103443</td>\n",
       "      <td>0.065801</td>\n",
       "      <td>2.378971</td>\n",
       "      <td>0.102969</td>\n",
       "      <td>0.570492</td>\n",
       "    </tr>\n",
       "    <tr>\n",
       "      <th>1</th>\n",
       "      <td>2020-01-10 14:01:05.922637</td>\n",
       "      <td>2020-01-10 14:00:22.484975</td>\n",
       "      <td>1</td>\n",
       "      <td>NaN</td>\n",
       "      <td>NaN</td>\n",
       "      <td>NaN</td>\n",
       "      <td>100.0</td>\n",
       "      <td>NaN</td>\n",
       "      <td>TrialState.COMPLETE</td>\n",
       "      <td>1</td>\n",
       "      <td>0.013965</td>\n",
       "      <td>0.066230</td>\n",
       "      <td>0.049989</td>\n",
       "      <td>2.673296</td>\n",
       "      <td>0.063081</td>\n",
       "      <td>0.411475</td>\n",
       "    </tr>\n",
       "    <tr>\n",
       "      <th>0</th>\n",
       "      <td>2020-01-10 13:55:12.442364</td>\n",
       "      <td>2020-01-10 13:54:47.507182</td>\n",
       "      <td>0</td>\n",
       "      <td>8.0</td>\n",
       "      <td>7.0</td>\n",
       "      <td>NaN</td>\n",
       "      <td>NaN</td>\n",
       "      <td>NaN</td>\n",
       "      <td>TrialState.COMPLETE</td>\n",
       "      <td>0</td>\n",
       "      <td>0.040025</td>\n",
       "      <td>0.223770</td>\n",
       "      <td>0.079841</td>\n",
       "      <td>1.321193</td>\n",
       "      <td>0.252684</td>\n",
       "      <td>0.724590</td>\n",
       "    </tr>\n",
       "    <tr>\n",
       "      <th>1</th>\n",
       "      <td>2020-01-10 13:55:31.983976</td>\n",
       "      <td>2020-01-10 13:55:12.445910</td>\n",
       "      <td>1</td>\n",
       "      <td>1.0</td>\n",
       "      <td>9.0</td>\n",
       "      <td>NaN</td>\n",
       "      <td>NaN</td>\n",
       "      <td>NaN</td>\n",
       "      <td>TrialState.COMPLETE</td>\n",
       "      <td>1</td>\n",
       "      <td>0.040025</td>\n",
       "      <td>0.223770</td>\n",
       "      <td>0.079841</td>\n",
       "      <td>1.321193</td>\n",
       "      <td>0.252684</td>\n",
       "      <td>0.724590</td>\n",
       "    </tr>\n",
       "    <tr>\n",
       "      <th>2</th>\n",
       "      <td>2020-01-10 13:55:50.463493</td>\n",
       "      <td>2020-01-10 13:55:31.988342</td>\n",
       "      <td>2</td>\n",
       "      <td>0.0</td>\n",
       "      <td>7.0</td>\n",
       "      <td>NaN</td>\n",
       "      <td>NaN</td>\n",
       "      <td>NaN</td>\n",
       "      <td>TrialState.COMPLETE</td>\n",
       "      <td>2</td>\n",
       "      <td>0.040025</td>\n",
       "      <td>0.223770</td>\n",
       "      <td>0.079841</td>\n",
       "      <td>1.321193</td>\n",
       "      <td>0.252684</td>\n",
       "      <td>0.724590</td>\n",
       "    </tr>\n",
       "    <tr>\n",
       "      <th>3</th>\n",
       "      <td>2020-01-10 13:56:09.206799</td>\n",
       "      <td>2020-01-10 13:55:50.466856</td>\n",
       "      <td>3</td>\n",
       "      <td>1.0</td>\n",
       "      <td>3.0</td>\n",
       "      <td>NaN</td>\n",
       "      <td>NaN</td>\n",
       "      <td>NaN</td>\n",
       "      <td>TrialState.COMPLETE</td>\n",
       "      <td>3</td>\n",
       "      <td>0.040025</td>\n",
       "      <td>0.223770</td>\n",
       "      <td>0.079841</td>\n",
       "      <td>1.321193</td>\n",
       "      <td>0.252684</td>\n",
       "      <td>0.724590</td>\n",
       "    </tr>\n",
       "    <tr>\n",
       "      <th>4</th>\n",
       "      <td>2020-01-10 13:56:27.184263</td>\n",
       "      <td>2020-01-10 13:56:09.210281</td>\n",
       "      <td>4</td>\n",
       "      <td>5.0</td>\n",
       "      <td>3.0</td>\n",
       "      <td>NaN</td>\n",
       "      <td>NaN</td>\n",
       "      <td>NaN</td>\n",
       "      <td>TrialState.COMPLETE</td>\n",
       "      <td>4</td>\n",
       "      <td>0.040025</td>\n",
       "      <td>0.223770</td>\n",
       "      <td>0.079841</td>\n",
       "      <td>1.321193</td>\n",
       "      <td>0.252684</td>\n",
       "      <td>0.724590</td>\n",
       "    </tr>\n",
       "    <tr>\n",
       "      <th>5</th>\n",
       "      <td>2020-01-10 13:56:45.794654</td>\n",
       "      <td>2020-01-10 13:56:27.188808</td>\n",
       "      <td>5</td>\n",
       "      <td>0.0</td>\n",
       "      <td>5.0</td>\n",
       "      <td>NaN</td>\n",
       "      <td>NaN</td>\n",
       "      <td>NaN</td>\n",
       "      <td>TrialState.COMPLETE</td>\n",
       "      <td>5</td>\n",
       "      <td>0.040025</td>\n",
       "      <td>0.223770</td>\n",
       "      <td>0.079841</td>\n",
       "      <td>1.321193</td>\n",
       "      <td>0.252684</td>\n",
       "      <td>0.724590</td>\n",
       "    </tr>\n",
       "    <tr>\n",
       "      <th>6</th>\n",
       "      <td>2020-01-10 13:57:04.797976</td>\n",
       "      <td>2020-01-10 13:56:45.798915</td>\n",
       "      <td>6</td>\n",
       "      <td>9.0</td>\n",
       "      <td>6.0</td>\n",
       "      <td>NaN</td>\n",
       "      <td>NaN</td>\n",
       "      <td>NaN</td>\n",
       "      <td>TrialState.COMPLETE</td>\n",
       "      <td>6</td>\n",
       "      <td>0.040025</td>\n",
       "      <td>0.223770</td>\n",
       "      <td>0.079841</td>\n",
       "      <td>1.321193</td>\n",
       "      <td>0.252684</td>\n",
       "      <td>0.724590</td>\n",
       "    </tr>\n",
       "    <tr>\n",
       "      <th>7</th>\n",
       "      <td>2020-01-10 13:57:24.080616</td>\n",
       "      <td>2020-01-10 13:57:04.801041</td>\n",
       "      <td>7</td>\n",
       "      <td>4.0</td>\n",
       "      <td>1.0</td>\n",
       "      <td>NaN</td>\n",
       "      <td>NaN</td>\n",
       "      <td>NaN</td>\n",
       "      <td>TrialState.COMPLETE</td>\n",
       "      <td>7</td>\n",
       "      <td>0.040025</td>\n",
       "      <td>0.223770</td>\n",
       "      <td>0.079841</td>\n",
       "      <td>1.321193</td>\n",
       "      <td>0.252684</td>\n",
       "      <td>0.724590</td>\n",
       "    </tr>\n",
       "    <tr>\n",
       "      <th>8</th>\n",
       "      <td>2020-01-10 13:57:42.041265</td>\n",
       "      <td>2020-01-10 13:57:24.085561</td>\n",
       "      <td>8</td>\n",
       "      <td>4.0</td>\n",
       "      <td>8.0</td>\n",
       "      <td>NaN</td>\n",
       "      <td>NaN</td>\n",
       "      <td>NaN</td>\n",
       "      <td>TrialState.COMPLETE</td>\n",
       "      <td>8</td>\n",
       "      <td>0.040025</td>\n",
       "      <td>0.223770</td>\n",
       "      <td>0.079841</td>\n",
       "      <td>1.321193</td>\n",
       "      <td>0.252684</td>\n",
       "      <td>0.724590</td>\n",
       "    </tr>\n",
       "    <tr>\n",
       "      <th>9</th>\n",
       "      <td>2020-01-10 13:57:59.944987</td>\n",
       "      <td>2020-01-10 13:57:42.045643</td>\n",
       "      <td>9</td>\n",
       "      <td>7.0</td>\n",
       "      <td>1.0</td>\n",
       "      <td>NaN</td>\n",
       "      <td>NaN</td>\n",
       "      <td>NaN</td>\n",
       "      <td>TrialState.COMPLETE</td>\n",
       "      <td>9</td>\n",
       "      <td>0.040025</td>\n",
       "      <td>0.223770</td>\n",
       "      <td>0.079841</td>\n",
       "      <td>1.321193</td>\n",
       "      <td>0.252684</td>\n",
       "      <td>0.724590</td>\n",
       "    </tr>\n",
       "  </tbody>\n",
       "</table>\n",
       "</div>"
      ],
      "text/plain": [
       "           datetime_complete             datetime_start number params       \\\n",
       "                                                                alpha beta   \n",
       "0 2020-01-10 14:16:13.222048 2020-01-10 14:15:02.038705  0     NaN    NaN    \n",
       "1 2020-01-10 14:17:06.055240 2020-01-10 14:16:13.386894  1     NaN    NaN    \n",
       "0 2020-01-10 14:00:22.481347 2020-01-10 13:59:42.637781  0     NaN    NaN    \n",
       "1 2020-01-10 14:01:05.922637 2020-01-10 14:00:22.484975  1     NaN    NaN    \n",
       "0 2020-01-10 13:55:12.442364 2020-01-10 13:54:47.507182  0      8.0    7.0   \n",
       "1 2020-01-10 13:55:31.983976 2020-01-10 13:55:12.445910  1      1.0    9.0   \n",
       "2 2020-01-10 13:55:50.463493 2020-01-10 13:55:31.988342  2      0.0    7.0   \n",
       "3 2020-01-10 13:56:09.206799 2020-01-10 13:55:50.466856  3      1.0    3.0   \n",
       "4 2020-01-10 13:56:27.184263 2020-01-10 13:56:09.210281  4      5.0    3.0   \n",
       "5 2020-01-10 13:56:45.794654 2020-01-10 13:56:27.188808  5      0.0    5.0   \n",
       "6 2020-01-10 13:57:04.797976 2020-01-10 13:56:45.798915  6      9.0    6.0   \n",
       "7 2020-01-10 13:57:24.080616 2020-01-10 13:57:04.801041  7      4.0    1.0   \n",
       "8 2020-01-10 13:57:42.041265 2020-01-10 13:57:24.085561  8      4.0    8.0   \n",
       "9 2020-01-10 13:57:59.944987 2020-01-10 13:57:42.045643  9      7.0    1.0   \n",
       "\n",
       "                                              state system_attrs user_attrs  \\\n",
       "  num_neighbours   rank shrink                           _number      MAP@k   \n",
       "0  2.0           NaN     50.0   TrialState.COMPLETE  0            0.058702    \n",
       "1  6.0           NaN     50.0   TrialState.COMPLETE  1            0.066039    \n",
       "0 NaN             60.0  NaN     TrialState.COMPLETE  0            0.021320    \n",
       "1 NaN             100.0 NaN     TrialState.COMPLETE  1            0.013965    \n",
       "0 NaN            NaN    NaN     TrialState.COMPLETE  0            0.040025    \n",
       "1 NaN            NaN    NaN     TrialState.COMPLETE  1            0.040025    \n",
       "2 NaN            NaN    NaN     TrialState.COMPLETE  2            0.040025    \n",
       "3 NaN            NaN    NaN     TrialState.COMPLETE  3            0.040025    \n",
       "4 NaN            NaN    NaN     TrialState.COMPLETE  4            0.040025    \n",
       "5 NaN            NaN    NaN     TrialState.COMPLETE  5            0.040025    \n",
       "6 NaN            NaN    NaN     TrialState.COMPLETE  6            0.040025    \n",
       "7 NaN            NaN    NaN     TrialState.COMPLETE  7            0.040025    \n",
       "8 NaN            NaN    NaN     TrialState.COMPLETE  8            0.040025    \n",
       "9 NaN            NaN    NaN     TrialState.COMPLETE  9            0.040025    \n",
       "\n",
       "                                                  value  \n",
       "  Precision@k  Recall@K Surprisal@K    nDCG@k            \n",
       "0  0.277377    0.108356  2.366873    0.315359  0.796721  \n",
       "1  0.301639    0.121816  2.050082    0.335183  0.803279  \n",
       "0  0.103443    0.065801  2.378971    0.102969  0.570492  \n",
       "1  0.066230    0.049989  2.673296    0.063081  0.411475  \n",
       "0  0.223770    0.079841  1.321193    0.252684  0.724590  \n",
       "1  0.223770    0.079841  1.321193    0.252684  0.724590  \n",
       "2  0.223770    0.079841  1.321193    0.252684  0.724590  \n",
       "3  0.223770    0.079841  1.321193    0.252684  0.724590  \n",
       "4  0.223770    0.079841  1.321193    0.252684  0.724590  \n",
       "5  0.223770    0.079841  1.321193    0.252684  0.724590  \n",
       "6  0.223770    0.079841  1.321193    0.252684  0.724590  \n",
       "7  0.223770    0.079841  1.321193    0.252684  0.724590  \n",
       "8  0.223770    0.079841  1.321193    0.252684  0.724590  \n",
       "9  0.223770    0.079841  1.321193    0.252684  0.724590  "
      ]
     },
     "execution_count": 41,
     "metadata": {},
     "output_type": "execute_result"
    }
   ],
   "source": [
    "results = pd.concat([scenario.study.trials_dataframe(), results], axis=0)\n",
    "\n",
    "results"
   ]
  },
  {
   "cell_type": "markdown",
   "metadata": {},
   "source": [
    "### Получение рекомендаций <a name=\"predict-scenario\"></a>"
   ]
  },
  {
   "cell_type": "code",
   "execution_count": 42,
   "metadata": {
    "pycharm": {
     "name": "#%%\n"
    }
   },
   "outputs": [
    {
     "name": "stderr",
     "output_type": "stream",
     "text": [
      "10-Jan-20 14:18:29, root, DEBUG: Проверка датафреймов\n",
      "10-Jan-20 14:18:29, root, DEBUG: Предварительная стадия обучения (pre-fit)\n",
      "10-Jan-20 14:19:46, root, DEBUG: Основная стадия обучения (fit)\n",
      "10-Jan-20 14:20:37, root, DEBUG: Проверка датафреймов\n",
      "10-Jan-20 14:20:38, root, DEBUG: Выделение дефолтных юзеров\n",
      "10-Jan-20 14:20:38, root, DEBUG: Выделение дефолтных айтемов\n"
     ]
    }
   ],
   "source": [
    "recs = scenario.production(\n",
    "    best_params, \n",
    "    log,\n",
    "    users=None, \n",
    "    items=None,\n",
    "    k=10\n",
    ")"
   ]
  },
  {
   "cell_type": "code",
   "execution_count": 43,
   "metadata": {
    "pycharm": {
     "name": "#%%\n"
    }
   },
   "outputs": [
    {
     "name": "stdout",
     "output_type": "stream",
     "text": [
      "+-------+-------+------------------+----------+\n",
      "|item_id|user_id|         relevance|   context|\n",
      "+-------+-------+------------------+----------+\n",
      "|   1580|    195|11.499230672798609|no_context|\n",
      "|   2115|    195|  8.99529232689553|no_context|\n",
      "|   2683|    195| 8.067385610963404|no_context|\n",
      "|   2959|    195| 7.578516529357971|no_context|\n",
      "|   2628|    195| 7.495957558985156|no_context|\n",
      "|   2997|    195| 7.376587494014001|no_context|\n",
      "|   1265|    195| 6.870196201535873|no_context|\n",
      "|    541|    195|  6.82382219478528|no_context|\n",
      "|   1240|    195| 6.534130351660293|no_context|\n",
      "|    356|    195| 6.152749812022566|no_context|\n",
      "|   6539|    223| 9.439693235979506|no_context|\n",
      "|   2959|    223|  7.64093444541947|no_context|\n",
      "|   1210|    223|  6.79125386042567|no_context|\n",
      "|   4993|    223| 6.160575178364514|no_context|\n",
      "|    356|    223| 5.832570913130105|no_context|\n",
      "|   5952|    223| 4.727428693405704|no_context|\n",
      "|   1580|    223| 4.308394621811742|no_context|\n",
      "|   1196|    223|3.9040472686378402|no_context|\n",
      "|   2858|    223|3.0835367903211313|no_context|\n",
      "|  44191|    223|2.3921906412488987|no_context|\n",
      "+-------+-------+------------------+----------+\n",
      "only showing top 20 rows\n",
      "\n"
     ]
    }
   ],
   "source": [
    "recs.show()"
   ]
  }
 ],
 "metadata": {
  "kernelspec": {
   "display_name": "Python 3",
   "language": "python",
   "name": "python3"
  },
  "language_info": {
   "codemirror_mode": {
    "name": "ipython",
    "version": 3
   },
   "file_extension": ".py",
   "mimetype": "text/x-python",
   "name": "python",
   "nbconvert_exporter": "python",
   "pygments_lexer": "ipython3",
   "version": "3.7.5"
  },
  "pycharm": {
   "stem_cell": {
    "cell_type": "raw",
    "metadata": {
     "collapsed": false
    },
    "source": []
   }
  }
 },
 "nbformat": 4,
 "nbformat_minor": 2
}
