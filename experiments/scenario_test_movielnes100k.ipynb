{
 "cells": [
  {
   "cell_type": "markdown",
   "metadata": {
    "ein.tags": "worksheet-0",
    "slideshow": {
     "slide_type": "-"
    }
   },
   "source": [
    "# Пример использования сценария\n",
    "\n",
    "Лаботоратория по искусственному интеллекту, Сбербанк. \n",
    "\n",
    "О чем: вызов сценариев с разными моделями.\n",
    "В качестве датасета используется датасет MovieLens100K."
   ]
  },
  {
   "cell_type": "markdown",
   "metadata": {
    "ein.tags": "worksheet-0",
    "slideshow": {
     "slide_type": "-"
    }
   },
   "source": [
    "### Импорты, создание спарк-сессии <a name='intro'></a>"
   ]
  },
  {
   "cell_type": "code",
   "execution_count": 1,
   "metadata": {
    "autoscroll": false,
    "ein.hycell": false,
    "ein.tags": "worksheet-0",
    "pycharm": {
     "name": "#%%\n"
    },
    "slideshow": {
     "slide_type": "-"
    }
   },
   "outputs": [],
   "source": [
    "%load_ext autoreload\n",
    "%autoreload 2\n",
    "%matplotlib inline"
   ]
  },
  {
   "cell_type": "code",
   "execution_count": 2,
   "metadata": {
    "autoscroll": false,
    "ein.hycell": false,
    "ein.tags": "worksheet-0",
    "pycharm": {
     "name": "#%%\n"
    },
    "slideshow": {
     "slide_type": "-"
    }
   },
   "outputs": [
    {
     "data": {
      "text/html": [
       "\n",
       "            <div>\n",
       "                <p><b>SparkSession - hive</b></p>\n",
       "                \n",
       "        <div>\n",
       "            <p><b>SparkContext</b></p>\n",
       "\n",
       "            <p><a href=\"http://localhost:4040\">Spark UI</a></p>\n",
       "\n",
       "            <dl>\n",
       "              <dt>Version</dt>\n",
       "                <dd><code>v2.4.4</code></dd>\n",
       "              <dt>Master</dt>\n",
       "                <dd><code>local[*]</code></dd>\n",
       "              <dt>AppName</dt>\n",
       "                <dd><code>pyspark-shell</code></dd>\n",
       "            </dl>\n",
       "        </div>\n",
       "        \n",
       "            </div>\n",
       "        "
      ],
      "text/plain": [
       "<pyspark.sql.session.SparkSession at 0x7fb3096d94e0>"
      ]
     },
     "execution_count": 2,
     "metadata": {},
     "output_type": "execute_result"
    }
   ],
   "source": [
    "from sponge_bob_magic.session_handler import State\n",
    "\n",
    "spark = State().session\n",
    "spark"
   ]
  },
  {
   "cell_type": "markdown",
   "metadata": {
    "ein.tags": "worksheet-0",
    "slideshow": {
     "slide_type": "-"
    }
   },
   "source": [
    "## Загрузка данных <a name=\"data-loader\"></a>"
   ]
  },
  {
   "cell_type": "code",
   "execution_count": 3,
   "metadata": {},
   "outputs": [
    {
     "name": "stdout",
     "output_type": "stream",
     "text": [
      "Requirement already satisfied: rs_datasets in /home/boris/projects/sponge-bob-magic/venv/lib/python3.6/site-packages (0.2.0)\n",
      "Requirement already satisfied: datatable in /home/boris/projects/sponge-bob-magic/venv/lib/python3.6/site-packages (from rs_datasets) (0.10.1)\n",
      "Requirement already satisfied: pandas in /home/boris/projects/sponge-bob-magic/venv/lib/python3.6/site-packages (from rs_datasets) (1.0.1)\n",
      "Requirement already satisfied: gdown in /home/boris/projects/sponge-bob-magic/venv/lib/python3.6/site-packages (from rs_datasets) (3.10.3)\n",
      "Requirement already satisfied: pyarrow in /home/boris/projects/sponge-bob-magic/venv/lib/python3.6/site-packages (from rs_datasets) (0.17.0)\n",
      "Requirement already satisfied: tqdm in /home/boris/projects/sponge-bob-magic/venv/lib/python3.6/site-packages (from rs_datasets) (4.42.1)\n",
      "Requirement already satisfied: xlrd in /home/boris/projects/sponge-bob-magic/venv/lib/python3.6/site-packages (from rs_datasets) (1.2.0)\n",
      "Requirement already satisfied: typesentry>=0.2.6 in /home/boris/projects/sponge-bob-magic/venv/lib/python3.6/site-packages (from datatable->rs_datasets) (0.2.7)\n",
      "Requirement already satisfied: blessed in /home/boris/projects/sponge-bob-magic/venv/lib/python3.6/site-packages (from datatable->rs_datasets) (1.17.4)\n",
      "Requirement already satisfied: numpy>=1.13.3 in /home/boris/projects/sponge-bob-magic/venv/lib/python3.6/site-packages (from pandas->rs_datasets) (1.17.2)\n",
      "Requirement already satisfied: python-dateutil>=2.6.1 in /home/boris/projects/sponge-bob-magic/venv/lib/python3.6/site-packages (from pandas->rs_datasets) (2.8.1)\n",
      "Requirement already satisfied: pytz>=2017.2 in /home/boris/projects/sponge-bob-magic/venv/lib/python3.6/site-packages (from pandas->rs_datasets) (2019.3)\n",
      "Requirement already satisfied: filelock in /home/boris/projects/sponge-bob-magic/venv/lib/python3.6/site-packages (from gdown->rs_datasets) (3.0.12)\n",
      "Requirement already satisfied: six in /home/boris/projects/sponge-bob-magic/venv/lib/python3.6/site-packages (from gdown->rs_datasets) (1.14.0)\n",
      "Requirement already satisfied: requests[socks] in /home/boris/projects/sponge-bob-magic/venv/lib/python3.6/site-packages (from gdown->rs_datasets) (2.23.0)\n",
      "Requirement already satisfied: colorama>=0.3 in /home/boris/projects/sponge-bob-magic/venv/lib/python3.6/site-packages (from typesentry>=0.2.6->datatable->rs_datasets) (0.4.3)\n",
      "Requirement already satisfied: wcwidth>=0.1.4 in /home/boris/projects/sponge-bob-magic/venv/lib/python3.6/site-packages (from blessed->datatable->rs_datasets) (0.1.9)\n",
      "Requirement already satisfied: chardet<4,>=3.0.2 in /home/boris/projects/sponge-bob-magic/venv/lib/python3.6/site-packages (from requests[socks]->gdown->rs_datasets) (3.0.4)\n",
      "Requirement already satisfied: idna<3,>=2.5 in /home/boris/projects/sponge-bob-magic/venv/lib/python3.6/site-packages (from requests[socks]->gdown->rs_datasets) (2.9)\n",
      "Requirement already satisfied: certifi>=2017.4.17 in /home/boris/projects/sponge-bob-magic/venv/lib/python3.6/site-packages (from requests[socks]->gdown->rs_datasets) (2020.4.5.1)\n",
      "Requirement already satisfied: urllib3!=1.25.0,!=1.25.1,<1.26,>=1.21.1 in /home/boris/projects/sponge-bob-magic/venv/lib/python3.6/site-packages (from requests[socks]->gdown->rs_datasets) (1.25.9)\n",
      "Requirement already satisfied: PySocks!=1.5.7,>=1.5.6; extra == \"socks\" in /home/boris/projects/sponge-bob-magic/venv/lib/python3.6/site-packages (from requests[socks]->gdown->rs_datasets) (1.7.1)\n"
     ]
    }
   ],
   "source": [
    "# используем пакет https://pypi.org/project/rs-datasets/\n",
    "!pip install rs_datasets"
   ]
  },
  {
   "cell_type": "code",
   "execution_count": 4,
   "metadata": {
    "autoscroll": false,
    "ein.hycell": false,
    "ein.tags": "worksheet-0",
    "pycharm": {
     "name": "#%%\n"
    },
    "slideshow": {
     "slide_type": "-"
    }
   },
   "outputs": [
    {
     "data": {
      "text/html": [
       "<style type='text/css'>\n",
       ".datatable table.frame { margin-bottom: 0; }\n",
       ".datatable table.frame thead { border-bottom: none; }\n",
       ".datatable table.frame tr.coltypes td {  color: #FFFFFF;  line-height: 6px;  padding: 0 0.5em;}\n",
       ".datatable .boolean { background: #DDDD99; }\n",
       ".datatable .object  { background: #565656; }\n",
       ".datatable .integer { background: #5D9E5D; }\n",
       ".datatable .float   { background: #4040CC; }\n",
       ".datatable .string  { background: #CC4040; }\n",
       ".datatable .row_index {  background: var(--jp-border-color3);  border-right: 1px solid var(--jp-border-color0);  color: var(--jp-ui-font-color3);  font-size: 9px;}\n",
       ".datatable .frame tr.coltypes .row_index {  background: var(--jp-border-color0);}\n",
       ".datatable th:nth-child(2) { padding-left: 12px; }\n",
       ".datatable .hellipsis {  color: var(--jp-cell-editor-border-color);}\n",
       ".datatable .vellipsis {  background: var(--jp-layout-color0);  color: var(--jp-cell-editor-border-color);}\n",
       ".datatable .na {  color: var(--jp-cell-editor-border-color);  font-size: 80%;}\n",
       ".datatable .footer { font-size: 9px; }\n",
       ".datatable .frame_dimensions {  background: var(--jp-border-color3);  border-top: 1px solid var(--jp-border-color0);  color: var(--jp-ui-font-color3);  display: inline-block;  opacity: 0.6;  padding: 1px 10px 1px 5px;}\n",
       "</style>\n"
      ],
      "text/plain": [
       "<IPython.core.display.HTML object>"
      ]
     },
     "metadata": {},
     "output_type": "display_data"
    },
    {
     "name": "stdout",
     "output_type": "stream",
     "text": [
      "ratings\n"
     ]
    },
    {
     "data": {
      "text/html": [
       "<div>\n",
       "<style scoped>\n",
       "    .dataframe tbody tr th:only-of-type {\n",
       "        vertical-align: middle;\n",
       "    }\n",
       "\n",
       "    .dataframe tbody tr th {\n",
       "        vertical-align: top;\n",
       "    }\n",
       "\n",
       "    .dataframe thead th {\n",
       "        text-align: right;\n",
       "    }\n",
       "</style>\n",
       "<table border=\"1\" class=\"dataframe\">\n",
       "  <thead>\n",
       "    <tr style=\"text-align: right;\">\n",
       "      <th></th>\n",
       "      <th>user_id</th>\n",
       "      <th>item_id</th>\n",
       "      <th>rating</th>\n",
       "      <th>timestamp</th>\n",
       "    </tr>\n",
       "  </thead>\n",
       "  <tbody>\n",
       "    <tr>\n",
       "      <th>0</th>\n",
       "      <td>196</td>\n",
       "      <td>242</td>\n",
       "      <td>3</td>\n",
       "      <td>881250949</td>\n",
       "    </tr>\n",
       "    <tr>\n",
       "      <th>1</th>\n",
       "      <td>186</td>\n",
       "      <td>302</td>\n",
       "      <td>3</td>\n",
       "      <td>891717742</td>\n",
       "    </tr>\n",
       "    <tr>\n",
       "      <th>2</th>\n",
       "      <td>22</td>\n",
       "      <td>377</td>\n",
       "      <td>1</td>\n",
       "      <td>878887116</td>\n",
       "    </tr>\n",
       "  </tbody>\n",
       "</table>\n",
       "</div>"
      ],
      "text/plain": [
       "   user_id  item_id  rating  timestamp\n",
       "0      196      242       3  881250949\n",
       "1      186      302       3  891717742\n",
       "2       22      377       1  878887116"
      ]
     },
     "metadata": {},
     "output_type": "display_data"
    },
    {
     "name": "stdout",
     "output_type": "stream",
     "text": [
      "\n",
      "users\n"
     ]
    },
    {
     "data": {
      "text/html": [
       "<div>\n",
       "<style scoped>\n",
       "    .dataframe tbody tr th:only-of-type {\n",
       "        vertical-align: middle;\n",
       "    }\n",
       "\n",
       "    .dataframe tbody tr th {\n",
       "        vertical-align: top;\n",
       "    }\n",
       "\n",
       "    .dataframe thead th {\n",
       "        text-align: right;\n",
       "    }\n",
       "</style>\n",
       "<table border=\"1\" class=\"dataframe\">\n",
       "  <thead>\n",
       "    <tr style=\"text-align: right;\">\n",
       "      <th></th>\n",
       "      <th>user_id</th>\n",
       "      <th>gender</th>\n",
       "      <th>age</th>\n",
       "      <th>occupation</th>\n",
       "      <th>zip_code</th>\n",
       "    </tr>\n",
       "  </thead>\n",
       "  <tbody>\n",
       "    <tr>\n",
       "      <th>0</th>\n",
       "      <td>1</td>\n",
       "      <td>24</td>\n",
       "      <td>M</td>\n",
       "      <td>technician</td>\n",
       "      <td>85711</td>\n",
       "    </tr>\n",
       "    <tr>\n",
       "      <th>1</th>\n",
       "      <td>2</td>\n",
       "      <td>53</td>\n",
       "      <td>F</td>\n",
       "      <td>other</td>\n",
       "      <td>94043</td>\n",
       "    </tr>\n",
       "    <tr>\n",
       "      <th>2</th>\n",
       "      <td>3</td>\n",
       "      <td>23</td>\n",
       "      <td>M</td>\n",
       "      <td>writer</td>\n",
       "      <td>32067</td>\n",
       "    </tr>\n",
       "  </tbody>\n",
       "</table>\n",
       "</div>"
      ],
      "text/plain": [
       "   user_id  gender age  occupation zip_code\n",
       "0        1      24   M  technician    85711\n",
       "1        2      53   F       other    94043\n",
       "2        3      23   M      writer    32067"
      ]
     },
     "metadata": {},
     "output_type": "display_data"
    },
    {
     "name": "stdout",
     "output_type": "stream",
     "text": [
      "\n",
      "items\n"
     ]
    },
    {
     "data": {
      "text/html": [
       "<div>\n",
       "<style scoped>\n",
       "    .dataframe tbody tr th:only-of-type {\n",
       "        vertical-align: middle;\n",
       "    }\n",
       "\n",
       "    .dataframe tbody tr th {\n",
       "        vertical-align: top;\n",
       "    }\n",
       "\n",
       "    .dataframe thead th {\n",
       "        text-align: right;\n",
       "    }\n",
       "</style>\n",
       "<table border=\"1\" class=\"dataframe\">\n",
       "  <thead>\n",
       "    <tr style=\"text-align: right;\">\n",
       "      <th></th>\n",
       "      <th>item_id</th>\n",
       "      <th>title</th>\n",
       "      <th>release_date</th>\n",
       "      <th>imdb_url</th>\n",
       "      <th>unknown</th>\n",
       "      <th>Action</th>\n",
       "      <th>Adventure</th>\n",
       "      <th>Animation</th>\n",
       "      <th>Children's</th>\n",
       "      <th>Comedy</th>\n",
       "      <th>...</th>\n",
       "      <th>Fantasy</th>\n",
       "      <th>Film-Noir</th>\n",
       "      <th>Horror</th>\n",
       "      <th>Musical</th>\n",
       "      <th>Mystery</th>\n",
       "      <th>Romance</th>\n",
       "      <th>Sci-Fi</th>\n",
       "      <th>Thriller</th>\n",
       "      <th>War</th>\n",
       "      <th>Western</th>\n",
       "    </tr>\n",
       "  </thead>\n",
       "  <tbody>\n",
       "    <tr>\n",
       "      <th>0</th>\n",
       "      <td>1</td>\n",
       "      <td>Toy Story (1995)</td>\n",
       "      <td>01-Jan-1995</td>\n",
       "      <td>http://us.imdb.com/M/title-exact?Toy%20Story%2...</td>\n",
       "      <td>False</td>\n",
       "      <td>False</td>\n",
       "      <td>False</td>\n",
       "      <td>True</td>\n",
       "      <td>True</td>\n",
       "      <td>True</td>\n",
       "      <td>...</td>\n",
       "      <td>False</td>\n",
       "      <td>False</td>\n",
       "      <td>False</td>\n",
       "      <td>False</td>\n",
       "      <td>False</td>\n",
       "      <td>False</td>\n",
       "      <td>False</td>\n",
       "      <td>False</td>\n",
       "      <td>False</td>\n",
       "      <td>False</td>\n",
       "    </tr>\n",
       "    <tr>\n",
       "      <th>1</th>\n",
       "      <td>2</td>\n",
       "      <td>GoldenEye (1995)</td>\n",
       "      <td>01-Jan-1995</td>\n",
       "      <td>http://us.imdb.com/M/title-exact?GoldenEye%20(...</td>\n",
       "      <td>False</td>\n",
       "      <td>True</td>\n",
       "      <td>True</td>\n",
       "      <td>False</td>\n",
       "      <td>False</td>\n",
       "      <td>False</td>\n",
       "      <td>...</td>\n",
       "      <td>False</td>\n",
       "      <td>False</td>\n",
       "      <td>False</td>\n",
       "      <td>False</td>\n",
       "      <td>False</td>\n",
       "      <td>False</td>\n",
       "      <td>False</td>\n",
       "      <td>True</td>\n",
       "      <td>False</td>\n",
       "      <td>False</td>\n",
       "    </tr>\n",
       "    <tr>\n",
       "      <th>2</th>\n",
       "      <td>3</td>\n",
       "      <td>Four Rooms (1995)</td>\n",
       "      <td>01-Jan-1995</td>\n",
       "      <td>http://us.imdb.com/M/title-exact?Four%20Rooms%...</td>\n",
       "      <td>False</td>\n",
       "      <td>False</td>\n",
       "      <td>False</td>\n",
       "      <td>False</td>\n",
       "      <td>False</td>\n",
       "      <td>False</td>\n",
       "      <td>...</td>\n",
       "      <td>False</td>\n",
       "      <td>False</td>\n",
       "      <td>False</td>\n",
       "      <td>False</td>\n",
       "      <td>False</td>\n",
       "      <td>False</td>\n",
       "      <td>False</td>\n",
       "      <td>True</td>\n",
       "      <td>False</td>\n",
       "      <td>False</td>\n",
       "    </tr>\n",
       "  </tbody>\n",
       "</table>\n",
       "<p>3 rows × 23 columns</p>\n",
       "</div>"
      ],
      "text/plain": [
       "   item_id              title release_date  \\\n",
       "0        1   Toy Story (1995)  01-Jan-1995   \n",
       "1        2   GoldenEye (1995)  01-Jan-1995   \n",
       "2        3  Four Rooms (1995)  01-Jan-1995   \n",
       "\n",
       "                                            imdb_url  unknown  Action  \\\n",
       "0  http://us.imdb.com/M/title-exact?Toy%20Story%2...    False   False   \n",
       "1  http://us.imdb.com/M/title-exact?GoldenEye%20(...    False    True   \n",
       "2  http://us.imdb.com/M/title-exact?Four%20Rooms%...    False   False   \n",
       "\n",
       "   Adventure  Animation  Children's  Comedy  ...  Fantasy  Film-Noir  Horror  \\\n",
       "0      False       True        True    True  ...    False      False   False   \n",
       "1       True      False       False   False  ...    False      False   False   \n",
       "2      False      False       False   False  ...    False      False   False   \n",
       "\n",
       "   Musical  Mystery  Romance  Sci-Fi  Thriller    War  Western  \n",
       "0    False    False    False   False     False  False    False  \n",
       "1    False    False    False   False      True  False    False  \n",
       "2    False    False    False   False      True  False    False  \n",
       "\n",
       "[3 rows x 23 columns]"
      ]
     },
     "metadata": {},
     "output_type": "display_data"
    },
    {
     "name": "stdout",
     "output_type": "stream",
     "text": [
      "\n"
     ]
    }
   ],
   "source": [
    "from rs_datasets import MovieLens\n",
    "\n",
    "data = MovieLens(\"100k\")\n",
    "data.info()"
   ]
  },
  {
   "cell_type": "code",
   "execution_count": 5,
   "metadata": {},
   "outputs": [],
   "source": [
    "# загрузим данные в Spark\n",
    "\n",
    "from sponge_bob_magic.data_preparator import DataPreparator\n",
    "\n",
    "log = DataPreparator().transform(\n",
    "    data=data.ratings,\n",
    "    columns_names={\n",
    "        \"user_id\": \"user_id\",\n",
    "        \"item_id\": \"item_id\",\n",
    "        \"timestamp\": \"timestamp\",\n",
    "        \"relevance\": \"rating\"\n",
    "    }\n",
    ").cache()"
   ]
  },
  {
   "cell_type": "markdown",
   "metadata": {
    "ein.tags": "worksheet-0",
    "slideshow": {
     "slide_type": "-"
    }
   },
   "source": [
    "## Сценарии с разными моделями <a name=\"scenario\"></a>"
   ]
  },
  {
   "cell_type": "markdown",
   "metadata": {
    "ein.tags": "worksheet-0",
    "slideshow": {
     "slide_type": "-"
    }
   },
   "source": [
    "### Получение сценария через фабрику <a name=\"get-scenario\"></a>"
   ]
  },
  {
   "cell_type": "code",
   "execution_count": 6,
   "metadata": {
    "autoscroll": false,
    "ein.hycell": false,
    "ein.tags": "worksheet-0",
    "pycharm": {
     "name": "#%%\n"
    },
    "slideshow": {
     "slide_type": "-"
    }
   },
   "outputs": [],
   "source": [
    "from sponge_bob_magic.models import ALSWrap, KNN, LightFMWrap, PopRec\n",
    "\n",
    "pop_rec = PopRec()\n",
    "als_rec = ALSWrap()\n",
    "knn_rec = KNN()\n",
    "lightfm_rec = LightFMWrap()"
   ]
  },
  {
   "cell_type": "code",
   "execution_count": 7,
   "metadata": {
    "autoscroll": false,
    "ein.hycell": false,
    "ein.tags": "worksheet-0",
    "pycharm": {
     "name": "#%%\n"
    },
    "slideshow": {
     "slide_type": "-"
    }
   },
   "outputs": [],
   "source": [
    "from sponge_bob_magic.splitters import UserSplitter, RandomSplitter, DateSplitter, ColdUsersSplitter\n",
    "from datetime import datetime\n",
    "\n",
    "log_bydate_splitter = DateSplitter(\n",
    "    test_start=datetime(2007, 1, 1),\n",
    "    drop_cold_items=True,\n",
    "    drop_cold_users=True\n",
    ")\n",
    "log_random_splitter = RandomSplitter(\n",
    "    test_size=0.3,\n",
    "    drop_cold_items=True, \n",
    "    drop_cold_users=True,\n",
    "    seed=1234\n",
    ")\n",
    "log_cold_splitter = ColdUsersSplitter(\n",
    "    test_size=0.3,\n",
    "    drop_cold_items=True, \n",
    "    drop_cold_users=True\n",
    ")\n",
    "user_random_splitter = UserSplitter(\n",
    "    item_test_size=0.3,\n",
    "    user_test_size=500,\n",
    "    drop_cold_items=True,\n",
    "    drop_cold_users=True,\n",
    "    shuffle=True,\n",
    "    seed=1234\n",
    "    \n",
    ")\n",
    "user_bydate_splitter = UserSplitter(\n",
    "    item_test_size=0.3,\n",
    "    user_test_size=500,\n",
    "    drop_cold_items=True, \n",
    "    drop_cold_users=True,\n",
    "    seed=1234\n",
    ")"
   ]
  },
  {
   "cell_type": "markdown",
   "metadata": {
    "ein.tags": "worksheet-0",
    "slideshow": {
     "slide_type": "-"
    }
   },
   "source": [
    "### Обучение сценария <a name=\"fit-scenario\"></a>"
   ]
  },
  {
   "cell_type": "code",
   "execution_count": 8,
   "metadata": {
    "autoscroll": false,
    "ein.hycell": false,
    "ein.tags": "worksheet-0",
    "pycharm": {
     "name": "#%%\n"
    },
    "slideshow": {
     "slide_type": "-"
    }
   },
   "outputs": [],
   "source": [
    "from sponge_bob_magic.scenarios import MainScenario\n",
    "from sponge_bob_magic.metrics import NDCG, Precision, MAP, Recall, Surprisal, HitRate\n",
    "\n",
    "scenario = MainScenario(\n",
    "    splitter=user_random_splitter,\n",
    "    recommender=lightfm_rec,\n",
    "    criterion=HitRate,\n",
    "    metrics={\n",
    "        NDCG: [10, 5, 3],\n",
    "        Surprisal: [10, 5, 3],\n",
    "    },\n",
    "    fallback_rec=pop_rec,\n",
    ")"
   ]
  },
  {
   "cell_type": "code",
   "execution_count": 9,
   "metadata": {
    "autoscroll": false,
    "ein.hycell": false,
    "ein.tags": "worksheet-0",
    "pycharm": {
     "name": "#%%\n"
    },
    "slideshow": {
     "slide_type": "-"
    }
   },
   "outputs": [],
   "source": [
    "popular_grid = {\n",
    "    \"alpha\": {\"type\": \"int\", \"args\": [0, 10]},\n",
    "    \"beta\": {\"type\": \"int\", \"args\": [0, 10]}\n",
    "}\n",
    "als_grid = {\n",
    "    \"rank\": {\"type\": \"discrete_uniform\", \"args\": [10, 100, 10]}\n",
    "}\n",
    "lightfm_grid = {\n",
    "    \"rank\": {\"type\": \"int\", \"args\": [10, 100]}\n",
    "}\n",
    "knn_grid = {\n",
    "    \"shrink\": {\"type\": \"discrete_uniform\", \"args\": [10, 50, 10]},\n",
    "    \"num_neighbours\": {\"type\": \"discrete_uniform\", \"args\": [0, 10, 1]},\n",
    "}"
   ]
  },
  {
   "cell_type": "code",
   "execution_count": 10,
   "metadata": {
    "autoscroll": false,
    "ein.hycell": false,
    "ein.tags": "worksheet-0",
    "pycharm": {
     "name": "#%%\n"
    },
    "slideshow": {
     "slide_type": "-"
    }
   },
   "outputs": [
    {
     "name": "stderr",
     "output_type": "stream",
     "text": [
      "24-Apr-20 14:30:23, sponge_bob_magic, DEBUG: Деление лога на обучающую и тестовую выборку\n",
      "24-Apr-20 14:30:30, sponge_bob_magic, DEBUG: Длина трейна и теста: 84283 15690\n",
      "24-Apr-20 14:30:32, sponge_bob_magic, DEBUG: Количество пользователей в трейне и тесте: 943, 500\n",
      "24-Apr-20 14:30:36, sponge_bob_magic, DEBUG: Количество объектов в трейне и тесте: 1657, 1334\n",
      "24-Apr-20 14:30:36, sponge_bob_magic, DEBUG: Инициализация метрик\n",
      "24-Apr-20 14:30:37, sponge_bob_magic, DEBUG: Обучение и предсказание дополнительной модели\n",
      "24-Apr-20 14:30:37, sponge_bob_magic, DEBUG: Предварительная стадия обучения (pre-fit)\n",
      "24-Apr-20 14:30:38, sponge_bob_magic, DEBUG: Основная стадия обучения (fit)\n",
      "/home/boris/projects/sponge-bob-magic/venv/lib/python3.6/site-packages/pyarrow/util.py:39: FutureWarning:\n",
      "\n",
      "pyarrow.open_stream is deprecated as of 0.17.0, please use pyarrow.ipc.open_stream instead\n",
      "\n",
      "24-Apr-20 14:30:44, sponge_bob_magic, DEBUG: Пре-фит модели\n",
      "24-Apr-20 14:30:44, sponge_bob_magic, DEBUG: -------------\n",
      "24-Apr-20 14:30:44, sponge_bob_magic, DEBUG: Оптимизация параметров\n",
      "24-Apr-20 14:30:44, sponge_bob_magic, DEBUG: Максимальное количество попыток: 100 (чтобы поменять его, задайте параметр 'optuna_max_n_trials')\n",
      "24-Apr-20 14:30:49, sponge_bob_magic, DEBUG: -- Параметры: {'rank': 53}\n",
      "24-Apr-20 14:30:49, sponge_bob_magic, DEBUG: -- Сохраняем optuna study на диск\n",
      "24-Apr-20 14:30:49, sponge_bob_magic, DEBUG: -- Второй фит модели в оптимизации\n",
      "24-Apr-20 14:30:49, sponge_bob_magic, DEBUG: Построение модели LightFM\n",
      "24-Apr-20 14:30:51, sponge_bob_magic, DEBUG: -- Предикт модели в оптимизации\n",
      "24-Apr-20 14:30:52, sponge_bob_magic, DEBUG: -- Дополняем рекомендации fallback рекомендациями\n",
      "24-Apr-20 14:30:53, sponge_bob_magic, DEBUG: -- Длина рекомендаций: 5000\n",
      "24-Apr-20 14:30:55, sponge_bob_magic, DEBUG: -- Длина рекомендаций после добавления fallback-рекомендаций: 5000\n",
      "24-Apr-20 14:30:55, sponge_bob_magic, DEBUG: -- Подсчет метрики в оптимизации\n",
      "24-Apr-20 14:31:13, sponge_bob_magic, DEBUG: HitRate=0.79\n",
      "[I 2020-04-24 14:31:13,344] Finished trial#0 with value: 0.786 with parameters: {'rank': 53}. Best is trial#0 with value: 0.786.\n",
      "24-Apr-20 14:31:13, sponge_bob_magic, DEBUG: -- Параметры: {'rank': 82}\n",
      "24-Apr-20 14:31:13, sponge_bob_magic, DEBUG: -- Сохраняем optuna study на диск\n",
      "24-Apr-20 14:31:13, sponge_bob_magic, DEBUG: -- Второй фит модели в оптимизации\n",
      "24-Apr-20 14:31:13, sponge_bob_magic, DEBUG: Построение модели LightFM\n",
      "24-Apr-20 14:31:16, sponge_bob_magic, DEBUG: -- Предикт модели в оптимизации\n",
      "24-Apr-20 14:31:17, sponge_bob_magic, DEBUG: -- Дополняем рекомендации fallback рекомендациями\n",
      "24-Apr-20 14:31:18, sponge_bob_magic, DEBUG: -- Длина рекомендаций: 5000\n",
      "24-Apr-20 14:31:19, sponge_bob_magic, DEBUG: -- Длина рекомендаций после добавления fallback-рекомендаций: 5000\n",
      "24-Apr-20 14:31:19, sponge_bob_magic, DEBUG: -- Подсчет метрики в оптимизации\n",
      "24-Apr-20 14:31:33, sponge_bob_magic, DEBUG: HitRate=0.77\n",
      "[I 2020-04-24 14:31:33,681] Finished trial#1 with value: 0.77 with parameters: {'rank': 82}. Best is trial#0 with value: 0.786.\n",
      "24-Apr-20 14:31:33, sponge_bob_magic, DEBUG: Лучшее значение метрики: 0.79\n",
      "24-Apr-20 14:31:33, sponge_bob_magic, DEBUG: Лучшие параметры: {'rank': 53}\n"
     ]
    }
   ],
   "source": [
    "best_params = scenario.research(\n",
    "    lightfm_grid,\n",
    "    log,\n",
    "    k=10,\n",
    "    n_trials=2\n",
    ")"
   ]
  },
  {
   "cell_type": "code",
   "execution_count": 11,
   "metadata": {},
   "outputs": [
    {
     "data": {
      "text/html": [
       "<div>\n",
       "<style scoped>\n",
       "    .dataframe tbody tr th:only-of-type {\n",
       "        vertical-align: middle;\n",
       "    }\n",
       "\n",
       "    .dataframe tbody tr th {\n",
       "        vertical-align: top;\n",
       "    }\n",
       "\n",
       "    .dataframe thead th {\n",
       "        text-align: right;\n",
       "    }\n",
       "</style>\n",
       "<table border=\"1\" class=\"dataframe\">\n",
       "  <thead>\n",
       "    <tr style=\"text-align: right;\">\n",
       "      <th></th>\n",
       "      <th>HitRate@10</th>\n",
       "      <th>NDCG@3</th>\n",
       "      <th>NDCG@5</th>\n",
       "      <th>NDCG@10</th>\n",
       "      <th>Surprisal@3</th>\n",
       "      <th>Surprisal@5</th>\n",
       "      <th>Surprisal@10</th>\n",
       "    </tr>\n",
       "  </thead>\n",
       "  <tbody>\n",
       "    <tr>\n",
       "      <th>LightFMWrap(rank=53)</th>\n",
       "      <td>0.786</td>\n",
       "      <td>0.298056</td>\n",
       "      <td>0.274744</td>\n",
       "      <td>0.267312</td>\n",
       "      <td>0.249019</td>\n",
       "      <td>0.255009</td>\n",
       "      <td>0.266485</td>\n",
       "    </tr>\n",
       "    <tr>\n",
       "      <th>LightFMWrap(rank=82)</th>\n",
       "      <td>0.770</td>\n",
       "      <td>0.305654</td>\n",
       "      <td>0.282602</td>\n",
       "      <td>0.270065</td>\n",
       "      <td>0.248869</td>\n",
       "      <td>0.254147</td>\n",
       "      <td>0.264822</td>\n",
       "    </tr>\n",
       "  </tbody>\n",
       "</table>\n",
       "</div>"
      ],
      "text/plain": [
       "                      HitRate@10    NDCG@3    NDCG@5   NDCG@10  Surprisal@3  \\\n",
       "LightFMWrap(rank=53)       0.786  0.298056  0.274744  0.267312     0.249019   \n",
       "LightFMWrap(rank=82)       0.770  0.305654  0.282602  0.270065     0.248869   \n",
       "\n",
       "                      Surprisal@5  Surprisal@10  \n",
       "LightFMWrap(rank=53)     0.255009      0.266485  \n",
       "LightFMWrap(rank=82)     0.254147      0.264822  "
      ]
     },
     "execution_count": 11,
     "metadata": {},
     "output_type": "execute_result"
    }
   ],
   "source": [
    "scenario.experiment.pandas_df"
   ]
  },
  {
   "cell_type": "markdown",
   "metadata": {
    "ein.tags": "worksheet-0",
    "slideshow": {
     "slide_type": "-"
    }
   },
   "source": [
    "### Получение рекомендаций <a name=\"predict-scenario\"></a>"
   ]
  },
  {
   "cell_type": "code",
   "execution_count": 12,
   "metadata": {
    "autoscroll": false,
    "ein.hycell": false,
    "ein.tags": "worksheet-0",
    "pycharm": {
     "name": "#%%\n"
    },
    "scrolled": true,
    "slideshow": {
     "slide_type": "-"
    }
   },
   "outputs": [
    {
     "name": "stderr",
     "output_type": "stream",
     "text": [
      "24-Apr-20 14:31:34, sponge_bob_magic, DEBUG: Предварительная стадия обучения (pre-fit)\n",
      "24-Apr-20 14:31:34, sponge_bob_magic, DEBUG: Основная стадия обучения (fit)\n",
      "24-Apr-20 14:31:34, sponge_bob_magic, DEBUG: Построение модели LightFM\n",
      "/home/boris/projects/sponge-bob-magic/venv/lib/python3.6/site-packages/pyarrow/util.py:39: FutureWarning:\n",
      "\n",
      "pyarrow.open_stream is deprecated as of 0.17.0, please use pyarrow.ipc.open_stream instead\n",
      "\n",
      "24-Apr-20 14:31:36, sponge_bob_magic, DEBUG: Выделение дефолтных юзеров\n",
      "24-Apr-20 14:31:36, sponge_bob_magic, DEBUG: Выделение дефолтных юзеров\n"
     ]
    }
   ],
   "source": [
    "recs = scenario.production(\n",
    "    best_params, \n",
    "    log,\n",
    "    users=None, \n",
    "    items=None,\n",
    "    k=10\n",
    ")"
   ]
  },
  {
   "cell_type": "code",
   "execution_count": 13,
   "metadata": {
    "autoscroll": false,
    "ein.hycell": false,
    "ein.tags": "worksheet-0",
    "pycharm": {
     "name": "#%%\n"
    },
    "slideshow": {
     "slide_type": "-"
    }
   },
   "outputs": [
    {
     "name": "stdout",
     "output_type": "stream",
     "text": [
      "+-------+-------+------------------+\n",
      "|user_id|item_id|         relevance|\n",
      "+-------+-------+------------------+\n",
      "|    296|    129|               0.0|\n",
      "|    296|    116|               0.0|\n",
      "|    296|    283|               0.0|\n",
      "|    296|    479|               0.0|\n",
      "|    296|     25|               0.0|\n",
      "|    296|    125|               0.0|\n",
      "|    296|      7|               0.0|\n",
      "|    296|    124|               0.0|\n",
      "|    296|    475|               0.0|\n",
      "|    296|    544|               0.0|\n",
      "|    467|    250|1.5953795909881592|\n",
      "|    467|    129|1.5653033256530762|\n",
      "|    467|    324|1.3709657192230225|\n",
      "|    467|    508| 1.199501872062683|\n",
      "|    467|    325|0.9729878902435303|\n",
      "|    467|   1067|0.9186442494392395|\n",
      "|    467|    544|0.8913424015045166|\n",
      "|    467|    346|0.8708140254020691|\n",
      "|    467|    121|0.8460487723350525|\n",
      "|    467|    460|0.8171349167823792|\n",
      "+-------+-------+------------------+\n",
      "only showing top 20 rows\n",
      "\n"
     ]
    }
   ],
   "source": [
    "recs.show()"
   ]
  },
  {
   "cell_type": "code",
   "execution_count": null,
   "metadata": {},
   "outputs": [],
   "source": []
  }
 ],
 "metadata": {
  "kernelspec": {
   "display_name": "Python 3",
   "language": "python",
   "name": "python3"
  },
  "language_info": {
   "codemirror_mode": {
    "name": "ipython",
    "version": 3
   },
   "file_extension": ".py",
   "mimetype": "text/x-python",
   "name": "python",
   "nbconvert_exporter": "python",
   "pygments_lexer": "ipython3",
   "version": "3.6.10"
  },
  "name": "scenario_test_movielnes100k.ipynb",
  "pycharm": {
   "stem_cell": {
    "cell_type": "raw",
    "metadata": {
     "collapsed": false
    },
    "source": null
   }
  }
 },
 "nbformat": 4,
 "nbformat_minor": 4
}
