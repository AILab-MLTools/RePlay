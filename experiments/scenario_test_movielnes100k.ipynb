{
 "cells": [
  {
   "cell_type": "markdown",
   "metadata": {
    "ein.tags": "worksheet-0",
    "slideshow": {
     "slide_type": "-"
    }
   },
   "source": [
    "# Scenario Integration Test\n",
    "\n",
    "Лаботоратория по искусственному интеллекту, Сбербанк. \n",
    "\n",
    "О чем: вызов сценариев с разными моделями.\n",
    "В качестве датасета используется датасет MovieLens100K. \n",
    "\n",
    "## Содержание\n",
    "\n",
    "1. [Импорты, создание спарк-сессии](#intro)\n",
    "2. [Загрузка данных](#data-loader)\n",
    "3. [Сценарии с разными моделями](#scenario)\n",
    "3.1 [Получение сценария через фабрику](#get-scenario)\n",
    "3.2 [Обучение сценария](#fit-scenario)"
   ]
  },
  {
   "cell_type": "markdown",
   "metadata": {
    "ein.tags": "worksheet-0",
    "slideshow": {
     "slide_type": "-"
    }
   },
   "source": [
    "### Импорты, создание спарк-сессии <a name='intro'></a>"
   ]
  },
  {
   "cell_type": "code",
   "execution_count": 1,
   "metadata": {
    "autoscroll": false,
    "ein.hycell": false,
    "ein.tags": "worksheet-0",
    "pycharm": {
     "name": "#%%\n"
    },
    "slideshow": {
     "slide_type": "-"
    }
   },
   "outputs": [],
   "source": [
    "%load_ext autoreload\n",
    "%autoreload 2\n",
    "%matplotlib inline"
   ]
  },
  {
   "cell_type": "code",
   "execution_count": 2,
   "metadata": {},
   "outputs": [],
   "source": [
    "import os, sys\n",
    "\n",
    "parent_dir = os.path.split(os.getcwd())[0]\n",
    "if parent_dir not in sys.path:\n",
    "    sys.path.append(parent_dir)"
   ]
  },
  {
   "cell_type": "code",
   "execution_count": 3,
   "metadata": {
    "autoscroll": false,
    "ein.hycell": false,
    "ein.tags": "worksheet-0",
    "pycharm": {
     "name": "#%%\n"
    },
    "slideshow": {
     "slide_type": "-"
    }
   },
   "outputs": [],
   "source": [
    "import logging\n",
    "import os\n",
    "import sys\n",
    "from datetime import datetime\n",
    "\n",
    "import matplotlib.pyplot as plt\n",
    "import pandas as pd\n",
    "from rs_datasets import MovieLens\n",
    "\n",
    "from sponge_bob_magic.splitters import log_splitter\n",
    "from sponge_bob_magic.splitters import user_log_splitter\n",
    "from sponge_bob_magic import metrics\n",
    "\n",
    "from sponge_bob_magic.models.pop_rec import PopRec\n",
    "from sponge_bob_magic.models.als_rec import ALSRec\n",
    "from sponge_bob_magic.models.knn_rec import KNNRec\n",
    "from sponge_bob_magic.models.lightfm_rec import LightFMRec\n",
    "\n",
    "from sponge_bob_magic.scenarios.main_scenario import MainScenario\n",
    "from sponge_bob_magic.session_handler import  get_spark_session\n",
    "from sponge_bob_magic.constants import DEFAULT_CONTEXT\n",
    "from pyspark.sql.functions import lit"
   ]
  },
  {
   "cell_type": "code",
   "execution_count": 4,
   "metadata": {
    "autoscroll": false,
    "ein.hycell": false,
    "ein.tags": "worksheet-0",
    "pycharm": {
     "name": "#%%\n"
    },
    "slideshow": {
     "slide_type": "-"
    }
   },
   "outputs": [],
   "source": [
    "# отображение максимальной ширины колонок в pandas датафреймах\n",
    "pd.options.display.max_colwidth = -1"
   ]
  },
  {
   "cell_type": "code",
   "execution_count": 5,
   "metadata": {
    "autoscroll": false,
    "ein.hycell": false,
    "ein.tags": "worksheet-0",
    "pycharm": {
     "name": "#%%\n"
    },
    "slideshow": {
     "slide_type": "-"
    }
   },
   "outputs": [
    {
     "data": {
      "text/html": [
       "\n",
       "            <div>\n",
       "                <p><b>SparkSession - hive</b></p>\n",
       "                \n",
       "        <div>\n",
       "            <p><b>SparkContext</b></p>\n",
       "\n",
       "            <p><a href=\"http://10.17.17.38:4041\">Spark UI</a></p>\n",
       "\n",
       "            <dl>\n",
       "              <dt>Version</dt>\n",
       "                <dd><code>v2.4.4</code></dd>\n",
       "              <dt>Master</dt>\n",
       "                <dd><code>local[*]</code></dd>\n",
       "              <dt>AppName</dt>\n",
       "                <dd><code>pyspark-shell</code></dd>\n",
       "            </dl>\n",
       "        </div>\n",
       "        \n",
       "            </div>\n",
       "        "
      ],
      "text/plain": [
       "<pyspark.sql.session.SparkSession at 0x7fe091b85750>"
      ]
     },
     "execution_count": 5,
     "metadata": {},
     "output_type": "execute_result"
    }
   ],
   "source": [
    "spark = get_spark_session()\n",
    "spark"
   ]
  },
  {
   "cell_type": "markdown",
   "metadata": {
    "ein.tags": "worksheet-0",
    "slideshow": {
     "slide_type": "-"
    }
   },
   "source": [
    "## Загрузка данных <a name=\"data-loader\"></a>"
   ]
  },
  {
   "cell_type": "code",
   "execution_count": 6,
   "metadata": {
    "autoscroll": false,
    "ein.hycell": false,
    "ein.tags": "worksheet-0",
    "pycharm": {
     "name": "#%%\n"
    },
    "slideshow": {
     "slide_type": "-"
    }
   },
   "outputs": [
    {
     "name": "stdout",
     "output_type": "stream",
     "text": [
      "ratings\n"
     ]
    },
    {
     "data": {
      "text/html": [
       "<div>\n",
       "<style scoped>\n",
       "    .dataframe tbody tr th:only-of-type {\n",
       "        vertical-align: middle;\n",
       "    }\n",
       "\n",
       "    .dataframe tbody tr th {\n",
       "        vertical-align: top;\n",
       "    }\n",
       "\n",
       "    .dataframe thead th {\n",
       "        text-align: right;\n",
       "    }\n",
       "</style>\n",
       "<table border=\"1\" class=\"dataframe\">\n",
       "  <thead>\n",
       "    <tr style=\"text-align: right;\">\n",
       "      <th></th>\n",
       "      <th>user_id</th>\n",
       "      <th>item_id</th>\n",
       "      <th>relevance</th>\n",
       "      <th>timestamp</th>\n",
       "    </tr>\n",
       "  </thead>\n",
       "  <tbody>\n",
       "    <tr>\n",
       "      <td>0</td>\n",
       "      <td>196</td>\n",
       "      <td>242</td>\n",
       "      <td>3</td>\n",
       "      <td>881250949</td>\n",
       "    </tr>\n",
       "    <tr>\n",
       "      <td>1</td>\n",
       "      <td>186</td>\n",
       "      <td>302</td>\n",
       "      <td>3</td>\n",
       "      <td>891717742</td>\n",
       "    </tr>\n",
       "    <tr>\n",
       "      <td>2</td>\n",
       "      <td>22</td>\n",
       "      <td>377</td>\n",
       "      <td>1</td>\n",
       "      <td>878887116</td>\n",
       "    </tr>\n",
       "  </tbody>\n",
       "</table>\n",
       "</div>"
      ],
      "text/plain": [
       "   user_id  item_id  relevance  timestamp\n",
       "0  196      242      3          881250949\n",
       "1  186      302      3          891717742\n",
       "2  22       377      1          878887116"
      ]
     },
     "metadata": {},
     "output_type": "display_data"
    },
    {
     "name": "stdout",
     "output_type": "stream",
     "text": [
      "\n",
      "users\n"
     ]
    },
    {
     "data": {
      "text/html": [
       "<div>\n",
       "<style scoped>\n",
       "    .dataframe tbody tr th:only-of-type {\n",
       "        vertical-align: middle;\n",
       "    }\n",
       "\n",
       "    .dataframe tbody tr th {\n",
       "        vertical-align: top;\n",
       "    }\n",
       "\n",
       "    .dataframe thead th {\n",
       "        text-align: right;\n",
       "    }\n",
       "</style>\n",
       "<table border=\"1\" class=\"dataframe\">\n",
       "  <thead>\n",
       "    <tr style=\"text-align: right;\">\n",
       "      <th></th>\n",
       "      <th>user_id</th>\n",
       "      <th>gender</th>\n",
       "      <th>age</th>\n",
       "      <th>occupation</th>\n",
       "      <th>zip_code</th>\n",
       "    </tr>\n",
       "  </thead>\n",
       "  <tbody>\n",
       "    <tr>\n",
       "      <td>0</td>\n",
       "      <td>1</td>\n",
       "      <td>24</td>\n",
       "      <td>M</td>\n",
       "      <td>technician</td>\n",
       "      <td>85711</td>\n",
       "    </tr>\n",
       "    <tr>\n",
       "      <td>1</td>\n",
       "      <td>2</td>\n",
       "      <td>53</td>\n",
       "      <td>F</td>\n",
       "      <td>other</td>\n",
       "      <td>94043</td>\n",
       "    </tr>\n",
       "    <tr>\n",
       "      <td>2</td>\n",
       "      <td>3</td>\n",
       "      <td>23</td>\n",
       "      <td>M</td>\n",
       "      <td>writer</td>\n",
       "      <td>32067</td>\n",
       "    </tr>\n",
       "  </tbody>\n",
       "</table>\n",
       "</div>"
      ],
      "text/plain": [
       "   user_id  gender age  occupation zip_code\n",
       "0  1        24      M   technician  85711  \n",
       "1  2        53      F   other       94043  \n",
       "2  3        23      M   writer      32067  "
      ]
     },
     "metadata": {},
     "output_type": "display_data"
    },
    {
     "name": "stdout",
     "output_type": "stream",
     "text": [
      "\n",
      "items\n"
     ]
    },
    {
     "data": {
      "text/html": [
       "<div>\n",
       "<style scoped>\n",
       "    .dataframe tbody tr th:only-of-type {\n",
       "        vertical-align: middle;\n",
       "    }\n",
       "\n",
       "    .dataframe tbody tr th {\n",
       "        vertical-align: top;\n",
       "    }\n",
       "\n",
       "    .dataframe thead th {\n",
       "        text-align: right;\n",
       "    }\n",
       "</style>\n",
       "<table border=\"1\" class=\"dataframe\">\n",
       "  <thead>\n",
       "    <tr style=\"text-align: right;\">\n",
       "      <th></th>\n",
       "      <th>item_id</th>\n",
       "      <th>title</th>\n",
       "      <th>release_date</th>\n",
       "      <th>imdb_url</th>\n",
       "      <th>unknown</th>\n",
       "      <th>...</th>\n",
       "      <th>Romance</th>\n",
       "      <th>Sci-Fi</th>\n",
       "      <th>Thriller</th>\n",
       "      <th>War</th>\n",
       "      <th>Western</th>\n",
       "    </tr>\n",
       "  </thead>\n",
       "  <tbody>\n",
       "    <tr>\n",
       "      <td>0</td>\n",
       "      <td>1</td>\n",
       "      <td>Toy Story (1995)</td>\n",
       "      <td>1995-01-01</td>\n",
       "      <td>http://us.imdb.com/M/title-exact?Toy%20Story%20(1995)</td>\n",
       "      <td>0</td>\n",
       "      <td>...</td>\n",
       "      <td>0</td>\n",
       "      <td>0</td>\n",
       "      <td>0</td>\n",
       "      <td>0</td>\n",
       "      <td>0</td>\n",
       "    </tr>\n",
       "    <tr>\n",
       "      <td>1</td>\n",
       "      <td>2</td>\n",
       "      <td>GoldenEye (1995)</td>\n",
       "      <td>1995-01-01</td>\n",
       "      <td>http://us.imdb.com/M/title-exact?GoldenEye%20(1995)</td>\n",
       "      <td>0</td>\n",
       "      <td>...</td>\n",
       "      <td>0</td>\n",
       "      <td>0</td>\n",
       "      <td>1</td>\n",
       "      <td>0</td>\n",
       "      <td>0</td>\n",
       "    </tr>\n",
       "    <tr>\n",
       "      <td>2</td>\n",
       "      <td>3</td>\n",
       "      <td>Four Rooms (1995)</td>\n",
       "      <td>1995-01-01</td>\n",
       "      <td>http://us.imdb.com/M/title-exact?Four%20Rooms%20(1995)</td>\n",
       "      <td>0</td>\n",
       "      <td>...</td>\n",
       "      <td>0</td>\n",
       "      <td>0</td>\n",
       "      <td>1</td>\n",
       "      <td>0</td>\n",
       "      <td>0</td>\n",
       "    </tr>\n",
       "  </tbody>\n",
       "</table>\n",
       "<p>3 rows × 23 columns</p>\n",
       "</div>"
      ],
      "text/plain": [
       "   item_id              title release_date  \\\n",
       "0  1        Toy Story (1995)  1995-01-01     \n",
       "1  2        GoldenEye (1995)  1995-01-01     \n",
       "2  3        Four Rooms (1995) 1995-01-01     \n",
       "\n",
       "                                                 imdb_url  unknown  ...  \\\n",
       "0  http://us.imdb.com/M/title-exact?Toy%20Story%20(1995)   0        ...   \n",
       "1  http://us.imdb.com/M/title-exact?GoldenEye%20(1995)     0        ...   \n",
       "2  http://us.imdb.com/M/title-exact?Four%20Rooms%20(1995)  0        ...   \n",
       "\n",
       "   Romance  Sci-Fi  Thriller  War  Western  \n",
       "0  0        0       0         0    0        \n",
       "1  0        0       1         0    0        \n",
       "2  0        0       1         0    0        \n",
       "\n",
       "[3 rows x 23 columns]"
      ]
     },
     "metadata": {},
     "output_type": "display_data"
    },
    {
     "name": "stdout",
     "output_type": "stream",
     "text": [
      "\n"
     ]
    }
   ],
   "source": [
    "data = MovieLens(\"100k\")\n",
    "log = spark.createDataFrame(data.ratings).withColumn(\n",
    "    \"context\", lit(DEFAULT_CONTEXT)\n",
    ")\n",
    "data.info()"
   ]
  },
  {
   "cell_type": "markdown",
   "metadata": {
    "ein.tags": "worksheet-0",
    "slideshow": {
     "slide_type": "-"
    }
   },
   "source": [
    "## Сценарии с разными моделями <a name=\"scenario\"></a>"
   ]
  },
  {
   "cell_type": "markdown",
   "metadata": {
    "ein.tags": "worksheet-0",
    "slideshow": {
     "slide_type": "-"
    }
   },
   "source": [
    "### Получение сценария через фабрику <a name=\"get-scenario\"></a>"
   ]
  },
  {
   "cell_type": "code",
   "execution_count": 7,
   "metadata": {
    "autoscroll": false,
    "ein.hycell": false,
    "ein.tags": "worksheet-0",
    "pycharm": {
     "name": "#%%\n"
    },
    "slideshow": {
     "slide_type": "-"
    }
   },
   "outputs": [],
   "source": [
    "pop_rec = PopRec()\n",
    "als_rec = ALSRec()\n",
    "knn_rec = KNNRec()\n",
    "lightfm_rec = LightFMRec()"
   ]
  },
  {
   "cell_type": "code",
   "execution_count": 8,
   "metadata": {
    "autoscroll": false,
    "ein.hycell": false,
    "ein.tags": "worksheet-0",
    "pycharm": {
     "name": "#%%\n"
    },
    "slideshow": {
     "slide_type": "-"
    }
   },
   "outputs": [],
   "source": [
    "log_bydate_splitter = log_splitter.DateSplitter(\n",
    "    test_start=datetime(2007, 1, 1),\n",
    "    drop_cold_items=True,\n",
    "    drop_cold_users=True\n",
    ")\n",
    "log_random_splitter = log_splitter.RandomSplitter(\n",
    "    test_size=0.3,\n",
    "    drop_cold_items=True, \n",
    "    drop_cold_users=True,\n",
    "    seed=1234\n",
    ")\n",
    "log_cold_splitter = log_splitter.ColdUsersSplitter(\n",
    "    test_size=0.3,\n",
    "    drop_cold_items=True, \n",
    "    drop_cold_users=True\n",
    ")\n",
    "user_random_splitter = user_log_splitter.UserSplitter(\n",
    "    item_test_size=0.3,\n",
    "    user_test_size=500,\n",
    "    drop_cold_items=True,\n",
    "    drop_cold_users=True,\n",
    "    shuffle=True,\n",
    "    seed=1234\n",
    "    \n",
    ")\n",
    "user_bydate_splitter = user_log_splitter.UserSplitter(\n",
    "    item_test_size=0.3,\n",
    "    user_test_size=500,\n",
    "    drop_cold_items=True, \n",
    "    drop_cold_users=True,\n",
    "    seed=1234\n",
    ")"
   ]
  },
  {
   "cell_type": "markdown",
   "metadata": {
    "ein.tags": "worksheet-0",
    "slideshow": {
     "slide_type": "-"
    }
   },
   "source": [
    "### Обучение сценария <a name=\"fit-scenario\"></a>"
   ]
  },
  {
   "cell_type": "code",
   "execution_count": 9,
   "metadata": {
    "autoscroll": false,
    "ein.hycell": false,
    "ein.tags": "worksheet-0",
    "slideshow": {
     "slide_type": "-"
    }
   },
   "outputs": [],
   "source": [
    "results = None"
   ]
  },
  {
   "cell_type": "code",
   "execution_count": 10,
   "metadata": {
    "autoscroll": false,
    "ein.hycell": false,
    "ein.tags": "worksheet-0",
    "pycharm": {
     "name": "#%%\n"
    },
    "slideshow": {
     "slide_type": "-"
    }
   },
   "outputs": [],
   "source": [
    "scenario = MainScenario(\n",
    "    splitter=user_random_splitter,\n",
    "    recommender=lightfm_rec,\n",
    "    criterion=metrics.HitRate,\n",
    "    metrics={\n",
    "        metrics.NDCG: [10,5,3],\n",
    "        metrics.Precision: [10,5,3],\n",
    "        metrics.MAP: [10,5,3],\n",
    "        metrics.Recall: [10,5,3],\n",
    "        metrics.Surprisal: [10,5,3],\n",
    "    },\n",
    "    fallback_rec=pop_rec,\n",
    ")"
   ]
  },
  {
   "cell_type": "code",
   "execution_count": 11,
   "metadata": {
    "autoscroll": false,
    "ein.hycell": false,
    "ein.tags": "worksheet-0",
    "pycharm": {
     "name": "#%%\n"
    },
    "slideshow": {
     "slide_type": "-"
    }
   },
   "outputs": [],
   "source": [
    "popular_grid = {\n",
    "    \"alpha\": {\"type\": \"int\", \"args\": [0, 10]},\n",
    "    \"beta\": {\"type\": \"int\", \"args\": [0, 10]}\n",
    "}\n",
    "als_grid = {\n",
    "    \"rank\": {\"type\": \"discrete_uniform\", \"args\": [10, 100, 10]}\n",
    "}\n",
    "lightfm_grid = {\n",
    "    \"rank\": {\"type\": \"int\", \"args\": [10, 100]}\n",
    "}\n",
    "knn_grid = {\n",
    "    \"shrink\": {\"type\": \"discrete_uniform\", \"args\": [10, 50, 10]},\n",
    "    \"num_neighbours\": {\"type\": \"discrete_uniform\", \"args\": [0, 10, 1]},\n",
    "}"
   ]
  },
  {
   "cell_type": "code",
   "execution_count": 12,
   "metadata": {
    "autoscroll": false,
    "ein.hycell": false,
    "ein.tags": "worksheet-0",
    "pycharm": {
     "name": "#%%\n"
    },
    "slideshow": {
     "slide_type": "-"
    }
   },
   "outputs": [
    {
     "name": "stderr",
     "output_type": "stream",
     "text": [
      "03-Mar-20 16:36:51, root, DEBUG: Деление лога на обучающую и тестовую выборку\n",
      "03-Mar-20 16:37:11, root, DEBUG: Длина трейна и теста: (84013, 15944)\n",
      "03-Mar-20 16:37:12, root, DEBUG: Количество пользователей в трейне и тесте: 943, 490\n",
      "03-Mar-20 16:37:13, root, DEBUG: Количество объектов в трейне и тесте: 1644, 1355\n",
      "03-Mar-20 16:37:13, root, DEBUG: Инициализация метрик\n",
      "03-Mar-20 16:37:14, root, DEBUG: Обучение и предсказание дополнительной модели\n",
      "03-Mar-20 16:37:14, root, DEBUG: Проверка датафреймов\n",
      "03-Mar-20 16:37:14, root, DEBUG: Предварительная стадия обучения (pre-fit)\n",
      "03-Mar-20 16:37:15, root, DEBUG: Среднее количество items у каждого user: 90\n",
      "03-Mar-20 16:37:17, root, DEBUG: Основная стадия обучения (fit)\n",
      "03-Mar-20 16:37:17, root, DEBUG: Проверка датафреймов\n",
      "03-Mar-20 16:37:20, root, DEBUG: Количество items после фильтрации: 100\n",
      "03-Mar-20 16:37:23, root, DEBUG: Пре-фит модели\n",
      "03-Mar-20 16:37:23, root, DEBUG: -------------\n",
      "03-Mar-20 16:37:23, root, DEBUG: Оптимизация параметров\n",
      "03-Mar-20 16:37:23, root, DEBUG: Максимальное количество попыток: 100 (чтобы поменять его, задайте параметр 'optuna_max_n_trials')\n",
      "03-Mar-20 16:37:24, root, DEBUG: -- Параметры: {'rank': 16}\n",
      "03-Mar-20 16:37:24, root, DEBUG: -- Сохраняем optuna study на диск\n",
      "03-Mar-20 16:37:24, root, DEBUG: -- Второй фит модели в оптимизации\n",
      "03-Mar-20 16:37:24, root, DEBUG: Построение модели LightFM\n",
      "03-Mar-20 16:37:25, root, DEBUG: -- Предикт модели в оптимизации\n",
      "03-Mar-20 16:37:25, root, DEBUG: Проверка датафреймов\n",
      "03-Mar-20 16:37:43, root, DEBUG: -- Дополняем рекомендации fallback рекомендациями\n",
      "03-Mar-20 16:37:44, root, DEBUG: -- Длина рекомендаций: 4900\n",
      "03-Mar-20 16:37:45, root, DEBUG: -- Длина рекомендаций после добавления fallback-рекомендаций: 4900\n",
      "03-Mar-20 16:37:45, root, DEBUG: -- Подсчет метрики в оптимизации\n",
      "03-Mar-20 16:38:20, root, DEBUG: -- Метрики: HitRate=0.8633 nDCG=5: 0.2466, 10: 0.2509, 3: 0.2576;  Precision=5: 0.2355, 10: 0.2355, 3: 0.2476;  MAP=5: 0.4634, 10: 0.5296, 3: 0.4173;  Recall=5: 0.0544, 10: 0.1025, 3: 0.0336;  Surprisal=5: 0.1628, 10: 0.1768, 3: 0.1543; \n",
      "[I 2020-03-03 16:38:20,563] Finished trial#0 resulted in value: 0.863265306122449. Current best value is 0.863265306122449 with parameters: {'rank': 16}.\n",
      "03-Mar-20 16:38:20, root, DEBUG: -- Параметры: {'rank': 91}\n",
      "03-Mar-20 16:38:20, root, DEBUG: -- Сохраняем optuna study на диск\n",
      "03-Mar-20 16:38:20, root, DEBUG: -- Второй фит модели в оптимизации\n",
      "03-Mar-20 16:38:20, root, DEBUG: Построение модели LightFM\n",
      "03-Mar-20 16:38:23, root, DEBUG: -- Предикт модели в оптимизации\n",
      "03-Mar-20 16:38:23, root, DEBUG: Проверка датафреймов\n",
      "03-Mar-20 16:38:41, root, DEBUG: -- Дополняем рекомендации fallback рекомендациями\n",
      "03-Mar-20 16:38:41, root, DEBUG: -- Длина рекомендаций: 4900\n",
      "03-Mar-20 16:38:43, root, DEBUG: -- Длина рекомендаций после добавления fallback-рекомендаций: 4900\n",
      "03-Mar-20 16:38:43, root, DEBUG: -- Подсчет метрики в оптимизации\n",
      "03-Mar-20 16:39:15, root, DEBUG: -- Метрики: HitRate=0.8469 nDCG=5: 0.2291, 10: 0.2373, 3: 0.2333;  Precision=5: 0.2237, 10: 0.2286, 3: 0.2279;  MAP=5: 0.4133, 10: 0.4771, 3: 0.3677;  Recall=5: 0.0510, 10: 0.0973, 3: 0.0313;  Surprisal=5: 0.1813, 10: 0.1951, 3: 0.1749; \n",
      "[I 2020-03-03 16:39:15,889] Finished trial#1 resulted in value: 0.8469387755102041. Current best value is 0.863265306122449 with parameters: {'rank': 16}.\n",
      "03-Mar-20 16:39:15, root, DEBUG: Лучшие значения метрики: 0.863265306122449\n",
      "03-Mar-20 16:39:15, root, DEBUG: Лучшие параметры: {'rank': 16}\n"
     ]
    }
   ],
   "source": [
    "best_params = scenario.research(\n",
    "    lightfm_grid,\n",
    "    log,\n",
    "    k=10,\n",
    "    n_trials=2\n",
    ")"
   ]
  },
  {
   "cell_type": "code",
   "execution_count": 13,
   "metadata": {
    "autoscroll": false,
    "ein.hycell": false,
    "ein.tags": "worksheet-0",
    "pycharm": {
     "name": "#%%\n"
    },
    "scrolled": true,
    "slideshow": {
     "slide_type": "-"
    }
   },
   "outputs": [
    {
     "data": {
      "text/html": [
       "<div>\n",
       "<style scoped>\n",
       "    .dataframe tbody tr th:only-of-type {\n",
       "        vertical-align: middle;\n",
       "    }\n",
       "\n",
       "    .dataframe tbody tr th {\n",
       "        vertical-align: top;\n",
       "    }\n",
       "\n",
       "    .dataframe thead tr th {\n",
       "        text-align: left;\n",
       "    }\n",
       "</style>\n",
       "<table border=\"1\" class=\"dataframe\">\n",
       "  <thead>\n",
       "    <tr>\n",
       "      <th></th>\n",
       "      <th>number</th>\n",
       "      <th>state</th>\n",
       "      <th>value</th>\n",
       "      <th>datetime_start</th>\n",
       "      <th>datetime_complete</th>\n",
       "      <th>params</th>\n",
       "      <th colspan=\"5\" halign=\"left\">user_attrs</th>\n",
       "      <th>system_attrs</th>\n",
       "    </tr>\n",
       "    <tr>\n",
       "      <th></th>\n",
       "      <th></th>\n",
       "      <th></th>\n",
       "      <th></th>\n",
       "      <th></th>\n",
       "      <th></th>\n",
       "      <th>rank</th>\n",
       "      <th>MAP</th>\n",
       "      <th>Precision</th>\n",
       "      <th>Recall</th>\n",
       "      <th>Surprisal</th>\n",
       "      <th>nDCG</th>\n",
       "      <th>_number</th>\n",
       "    </tr>\n",
       "  </thead>\n",
       "  <tbody>\n",
       "    <tr>\n",
       "      <td>0</td>\n",
       "      <td>0</td>\n",
       "      <td>TrialState.COMPLETE</td>\n",
       "      <td>0.863265</td>\n",
       "      <td>2020-03-03 16:37:24.013925</td>\n",
       "      <td>2020-03-03 16:38:20.563446</td>\n",
       "      <td>16</td>\n",
       "      <td>{5: 0.46341836734693914, 10: 0.5296129213779236, 3: 0.41734693877551077}</td>\n",
       "      <td>{5: 0.2355102040816325, 10: 0.23551020408163278, 3: 0.24761904761904754}</td>\n",
       "      <td>{5: 0.054368928645132375, 10: 0.10249637765615235, 3: 0.0335897875976151}</td>\n",
       "      <td>{5: 0.16283880795451958, 10: 0.17683063667039753, 3: 0.15427899488448096}</td>\n",
       "      <td>{5: 0.24662745690036733, 10: 0.2509328100943388, 3: 0.25758809410065275}</td>\n",
       "      <td>0</td>\n",
       "    </tr>\n",
       "    <tr>\n",
       "      <td>1</td>\n",
       "      <td>1</td>\n",
       "      <td>TrialState.COMPLETE</td>\n",
       "      <td>0.846939</td>\n",
       "      <td>2020-03-03 16:38:20.652738</td>\n",
       "      <td>2020-03-03 16:39:15.889279</td>\n",
       "      <td>91</td>\n",
       "      <td>{5: 0.41331972789115695, 10: 0.4770973616960013, 3: 0.36768707482993246}</td>\n",
       "      <td>{5: 0.22367346938775512, 10: 0.22857142857142848, 3: 0.22789115646258495}</td>\n",
       "      <td>{5: 0.05100607467392562, 10: 0.09727026066787188, 3: 0.031314565352585186}</td>\n",
       "      <td>{5: 0.18132387309566583, 10: 0.19505678411531838, 3: 0.17494870907613017}</td>\n",
       "      <td>{5: 0.2290539920045391, 10: 0.2372606863386784, 3: 0.23331455504591966}</td>\n",
       "      <td>1</td>\n",
       "    </tr>\n",
       "  </tbody>\n",
       "</table>\n",
       "</div>"
      ],
      "text/plain": [
       "  number                state     value             datetime_start  \\\n",
       "                                                                     \n",
       "0  0      TrialState.COMPLETE  0.863265 2020-03-03 16:37:24.013925   \n",
       "1  1      TrialState.COMPLETE  0.846939 2020-03-03 16:38:20.652738   \n",
       "\n",
       "           datetime_complete params  \\\n",
       "                               rank   \n",
       "0 2020-03-03 16:38:20.563446  16      \n",
       "1 2020-03-03 16:39:15.889279  91      \n",
       "\n",
       "                                                                 user_attrs  \\\n",
       "                                                                        MAP   \n",
       "0  {5: 0.46341836734693914, 10: 0.5296129213779236, 3: 0.41734693877551077}   \n",
       "1  {5: 0.41331972789115695, 10: 0.4770973616960013, 3: 0.36768707482993246}   \n",
       "\n",
       "                                                                              \\\n",
       "                                                                   Precision   \n",
       "0  {5: 0.2355102040816325, 10: 0.23551020408163278, 3: 0.24761904761904754}    \n",
       "1  {5: 0.22367346938775512, 10: 0.22857142857142848, 3: 0.22789115646258495}   \n",
       "\n",
       "                                                                               \\\n",
       "                                                                       Recall   \n",
       "0  {5: 0.054368928645132375, 10: 0.10249637765615235, 3: 0.0335897875976151}    \n",
       "1  {5: 0.05100607467392562, 10: 0.09727026066787188, 3: 0.031314565352585186}   \n",
       "\n",
       "                                                                              \\\n",
       "                                                                   Surprisal   \n",
       "0  {5: 0.16283880795451958, 10: 0.17683063667039753, 3: 0.15427899488448096}   \n",
       "1  {5: 0.18132387309566583, 10: 0.19505678411531838, 3: 0.17494870907613017}   \n",
       "\n",
       "                                                                             \\\n",
       "                                                                       nDCG   \n",
       "0  {5: 0.24662745690036733, 10: 0.2509328100943388, 3: 0.25758809410065275}   \n",
       "1  {5: 0.2290539920045391, 10: 0.2372606863386784, 3: 0.23331455504591966}    \n",
       "\n",
       "  system_attrs  \n",
       "       _number  \n",
       "0  0            \n",
       "1  1            "
      ]
     },
     "execution_count": 13,
     "metadata": {},
     "output_type": "execute_result"
    }
   ],
   "source": [
    "results = pd.concat([scenario.study.trials_dataframe(), results], axis=0)\n",
    "\n",
    "results"
   ]
  },
  {
   "cell_type": "markdown",
   "metadata": {
    "ein.tags": "worksheet-0",
    "slideshow": {
     "slide_type": "-"
    }
   },
   "source": [
    "### Получение рекомендаций <a name=\"predict-scenario\"></a>"
   ]
  },
  {
   "cell_type": "code",
   "execution_count": 14,
   "metadata": {
    "autoscroll": false,
    "ein.hycell": false,
    "ein.tags": "worksheet-0",
    "pycharm": {
     "name": "#%%\n"
    },
    "scrolled": true,
    "slideshow": {
     "slide_type": "-"
    }
   },
   "outputs": [
    {
     "name": "stderr",
     "output_type": "stream",
     "text": [
      "03-Mar-20 16:39:15, root, DEBUG: Проверка датафреймов\n",
      "03-Mar-20 16:39:16, root, DEBUG: Предварительная стадия обучения (pre-fit)\n",
      "03-Mar-20 16:39:16, root, DEBUG: Основная стадия обучения (fit)\n",
      "03-Mar-20 16:39:16, root, DEBUG: Построение модели LightFM\n",
      "03-Mar-20 16:39:18, root, DEBUG: Проверка датафреймов\n",
      "03-Mar-20 16:39:18, root, DEBUG: Выделение дефолтных юзеров\n",
      "03-Mar-20 16:39:18, root, DEBUG: Выделение дефолтных айтемов\n"
     ]
    }
   ],
   "source": [
    "recs = scenario.production(\n",
    "    best_params, \n",
    "    log,\n",
    "    users=None, \n",
    "    items=None,\n",
    "    k=10\n",
    ")"
   ]
  },
  {
   "cell_type": "code",
   "execution_count": 15,
   "metadata": {
    "autoscroll": false,
    "ein.hycell": false,
    "ein.tags": "worksheet-0",
    "pycharm": {
     "name": "#%%\n"
    },
    "slideshow": {
     "slide_type": "-"
    }
   },
   "outputs": [
    {
     "name": "stdout",
     "output_type": "stream",
     "text": [
      "+-------+-------+--------------------+----------+\n",
      "|user_id|item_id|           relevance|   context|\n",
      "+-------+-------+--------------------+----------+\n",
      "|     91|    199|-0.00623861979693...|no_context|\n",
      "|     91|    174| -0.0776733011007309|no_context|\n",
      "|     91|    511|-0.08005917072296143|no_context|\n",
      "|     91|    187|-0.21621178090572357|no_context|\n",
      "|     91|    300| -0.2601206600666046|no_context|\n",
      "|     91|    435|-0.38647374510765076|no_context|\n",
      "|     91|    172| -0.4527072012424469|no_context|\n",
      "|     91|    205|-0.45428895950317383|no_context|\n",
      "|     91|    197| -0.4561214745044708|no_context|\n",
      "|     91|    194|-0.45944446325302124|no_context|\n",
      "|    152|     88|  0.5004076957702637|no_context|\n",
      "|    152|    393| 0.20400138199329376|no_context|\n",
      "|    152|     66| 0.18721534311771393|no_context|\n",
      "|    152|     15|0.029790040105581284|no_context|\n",
      "|    152|    111|-0.05663729831576...|no_context|\n",
      "|    152|    237|-0.10480618476867676|no_context|\n",
      "|    152|    216| -0.3903554379940033|no_context|\n",
      "|    152|    204| -0.4476430416107178|no_context|\n",
      "|    152|    202|-0.47558650374412537|no_context|\n",
      "|    152|    402| -0.5070955753326416|no_context|\n",
      "+-------+-------+--------------------+----------+\n",
      "only showing top 20 rows\n",
      "\n"
     ]
    }
   ],
   "source": [
    "recs.show()"
   ]
  }
 ],
 "metadata": {
  "kernelspec": {
   "display_name": "Python 3",
   "language": "python",
   "name": "python3"
  },
  "language_info": {
   "codemirror_mode": {
    "name": "ipython",
    "version": 3
   },
   "file_extension": ".py",
   "mimetype": "text/x-python",
   "name": "python",
   "nbconvert_exporter": "python",
   "pygments_lexer": "ipython3",
   "version": "3.7.5"
  },
  "name": "scenario_test_movielnes100k.ipynb",
  "pycharm": {
   "stem_cell": {
    "cell_type": "raw",
    "metadata": {
     "collapsed": false
    },
    "source": null
   }
  }
 },
 "nbformat": 4,
 "nbformat_minor": 4
}
