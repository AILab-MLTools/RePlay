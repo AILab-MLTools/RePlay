{
 "cells": [
  {
   "cell_type": "markdown",
   "metadata": {
    "ein.tags": "worksheet-0",
    "slideshow": {
     "slide_type": "-"
    }
   },
   "source": [
    "# Scenario Integration Test\n",
    "\n",
    "Лаботоратория по искусственному интеллекту, Сбербанк. \n",
    "\n",
    "О чем: вызов сценариев с разными моделями.\n",
    "В качестве датасета используется датасет MovieLens100K. \n",
    "\n",
    "## Содержание\n",
    "\n",
    "1. [Импорты, создание спарк-сессии](#intro)\n",
    "2. [Загрузка данных](#data-loader)\n",
    "3. [Сценарии с разными моделями](#scenario)\n",
    "3.1 [Получение сценария через фабрику](#get-scenario)\n",
    "3.2 [Обучение сценария](#fit-scenario)"
   ]
  },
  {
   "cell_type": "markdown",
   "metadata": {
    "ein.tags": "worksheet-0",
    "slideshow": {
     "slide_type": "-"
    }
   },
   "source": [
    "### Импорты, создание спарк-сессии <a name='intro'></a>"
   ]
  },
  {
   "cell_type": "code",
   "execution_count": 1,
   "metadata": {
    "autoscroll": false,
    "ein.hycell": false,
    "ein.tags": "worksheet-0",
    "pycharm": {
     "name": "#%%\n"
    },
    "slideshow": {
     "slide_type": "-"
    }
   },
   "outputs": [],
   "source": [
    "%load_ext autoreload\n",
    "%autoreload 2\n",
    "%matplotlib inline"
   ]
  },
  {
   "cell_type": "code",
   "execution_count": 2,
   "metadata": {},
   "outputs": [],
   "source": [
    "import os, sys\n",
    "\n",
    "parent_dir = os.path.split(os.getcwd())[0]\n",
    "if parent_dir not in sys.path:\n",
    "    sys.path.append(parent_dir)"
   ]
  },
  {
   "cell_type": "code",
   "execution_count": 4,
   "metadata": {
    "autoscroll": false,
    "ein.hycell": false,
    "ein.tags": "worksheet-0",
    "pycharm": {
     "name": "#%%\n"
    },
    "slideshow": {
     "slide_type": "-"
    }
   },
   "outputs": [],
   "source": [
    "import logging\n",
    "import os\n",
    "import sys\n",
    "from datetime import datetime\n",
    "\n",
    "import matplotlib.pyplot as plt\n",
    "import pandas as pd\n",
    "from sponge_bob_magic.datasets.movielens import MovieLens\n",
    "from sponge_bob_magic.data_preparator.data_preparator import DataPreparator\n",
    "\n",
    "from sponge_bob_magic.splitters import log_splitter\n",
    "from sponge_bob_magic.splitters import user_log_splitter\n",
    "from sponge_bob_magic import metrics\n",
    "\n",
    "from sponge_bob_magic.models.pop_rec import PopRec\n",
    "from sponge_bob_magic.models.als_rec import ALSRec\n",
    "from sponge_bob_magic.models.knn_rec import KNNRec\n",
    "from sponge_bob_magic.models.lightfm_rec import LightFMRec\n",
    "\n",
    "from sponge_bob_magic.scenarios.main_scenario import MainScenario\n",
    "from sponge_bob_magic.session_handler import  get_spark_session\n",
    "from sponge_bob_magic.constants import DEFAULT_CONTEXT\n",
    "from pyspark.sql.functions import lit"
   ]
  },
  {
   "cell_type": "code",
   "execution_count": 5,
   "metadata": {
    "autoscroll": false,
    "ein.hycell": false,
    "ein.tags": "worksheet-0",
    "pycharm": {
     "name": "#%%\n"
    },
    "slideshow": {
     "slide_type": "-"
    }
   },
   "outputs": [],
   "source": [
    "# отображение максимальной ширины колонок в pandas датафреймах\n",
    "pd.options.display.max_colwidth = -1"
   ]
  },
  {
   "cell_type": "code",
   "execution_count": 6,
   "metadata": {
    "autoscroll": false,
    "ein.hycell": false,
    "ein.tags": "worksheet-0",
    "pycharm": {
     "name": "#%%\n"
    },
    "slideshow": {
     "slide_type": "-"
    }
   },
   "outputs": [
    {
     "data": {
      "text/html": [
       "\n",
       "            <div>\n",
       "                <p><b>SparkSession - hive</b></p>\n",
       "                \n",
       "        <div>\n",
       "            <p><b>SparkContext</b></p>\n",
       "\n",
       "            <p><a href=\"http://10.17.17.38:4040\">Spark UI</a></p>\n",
       "\n",
       "            <dl>\n",
       "              <dt>Version</dt>\n",
       "                <dd><code>v2.4.4</code></dd>\n",
       "              <dt>Master</dt>\n",
       "                <dd><code>local[*]</code></dd>\n",
       "              <dt>AppName</dt>\n",
       "                <dd><code>pyspark-shell</code></dd>\n",
       "            </dl>\n",
       "        </div>\n",
       "        \n",
       "            </div>\n",
       "        "
      ],
      "text/plain": [
       "<pyspark.sql.session.SparkSession at 0x7fbeeb825790>"
      ]
     },
     "execution_count": 6,
     "metadata": {},
     "output_type": "execute_result"
    }
   ],
   "source": [
    "spark = get_spark_session()\n",
    "spark"
   ]
  },
  {
   "cell_type": "markdown",
   "metadata": {
    "ein.tags": "worksheet-0",
    "slideshow": {
     "slide_type": "-"
    }
   },
   "source": [
    "## Загрузка данных <a name=\"data-loader\"></a>"
   ]
  },
  {
   "cell_type": "code",
   "execution_count": 7,
   "metadata": {
    "autoscroll": false,
    "ein.hycell": false,
    "ein.tags": "worksheet-0",
    "pycharm": {
     "name": "#%%\n"
    },
    "slideshow": {
     "slide_type": "-"
    }
   },
   "outputs": [
    {
     "name": "stdout",
     "output_type": "stream",
     "text": [
      "ratings\n"
     ]
    },
    {
     "data": {
      "text/html": [
       "<div>\n",
       "<style scoped>\n",
       "    .dataframe tbody tr th:only-of-type {\n",
       "        vertical-align: middle;\n",
       "    }\n",
       "\n",
       "    .dataframe tbody tr th {\n",
       "        vertical-align: top;\n",
       "    }\n",
       "\n",
       "    .dataframe thead th {\n",
       "        text-align: right;\n",
       "    }\n",
       "</style>\n",
       "<table border=\"1\" class=\"dataframe\">\n",
       "  <thead>\n",
       "    <tr style=\"text-align: right;\">\n",
       "      <th></th>\n",
       "      <th>user_id</th>\n",
       "      <th>item_id</th>\n",
       "      <th>relevance</th>\n",
       "      <th>timestamp</th>\n",
       "    </tr>\n",
       "  </thead>\n",
       "  <tbody>\n",
       "    <tr>\n",
       "      <td>0</td>\n",
       "      <td>196</td>\n",
       "      <td>242</td>\n",
       "      <td>3</td>\n",
       "      <td>881250949</td>\n",
       "    </tr>\n",
       "    <tr>\n",
       "      <td>1</td>\n",
       "      <td>186</td>\n",
       "      <td>302</td>\n",
       "      <td>3</td>\n",
       "      <td>891717742</td>\n",
       "    </tr>\n",
       "    <tr>\n",
       "      <td>2</td>\n",
       "      <td>22</td>\n",
       "      <td>377</td>\n",
       "      <td>1</td>\n",
       "      <td>878887116</td>\n",
       "    </tr>\n",
       "  </tbody>\n",
       "</table>\n",
       "</div>"
      ],
      "text/plain": [
       "   user_id  item_id  relevance  timestamp\n",
       "0  196      242      3          881250949\n",
       "1  186      302      3          891717742\n",
       "2  22       377      1          878887116"
      ]
     },
     "metadata": {},
     "output_type": "display_data"
    },
    {
     "name": "stdout",
     "output_type": "stream",
     "text": [
      "\n",
      "users\n"
     ]
    },
    {
     "data": {
      "text/html": [
       "<div>\n",
       "<style scoped>\n",
       "    .dataframe tbody tr th:only-of-type {\n",
       "        vertical-align: middle;\n",
       "    }\n",
       "\n",
       "    .dataframe tbody tr th {\n",
       "        vertical-align: top;\n",
       "    }\n",
       "\n",
       "    .dataframe thead th {\n",
       "        text-align: right;\n",
       "    }\n",
       "</style>\n",
       "<table border=\"1\" class=\"dataframe\">\n",
       "  <thead>\n",
       "    <tr style=\"text-align: right;\">\n",
       "      <th></th>\n",
       "      <th>user_id</th>\n",
       "      <th>gender</th>\n",
       "      <th>age</th>\n",
       "      <th>occupation</th>\n",
       "      <th>zip_code</th>\n",
       "    </tr>\n",
       "  </thead>\n",
       "  <tbody>\n",
       "    <tr>\n",
       "      <td>0</td>\n",
       "      <td>1</td>\n",
       "      <td>24</td>\n",
       "      <td>M</td>\n",
       "      <td>technician</td>\n",
       "      <td>85711</td>\n",
       "    </tr>\n",
       "    <tr>\n",
       "      <td>1</td>\n",
       "      <td>2</td>\n",
       "      <td>53</td>\n",
       "      <td>F</td>\n",
       "      <td>other</td>\n",
       "      <td>94043</td>\n",
       "    </tr>\n",
       "    <tr>\n",
       "      <td>2</td>\n",
       "      <td>3</td>\n",
       "      <td>23</td>\n",
       "      <td>M</td>\n",
       "      <td>writer</td>\n",
       "      <td>32067</td>\n",
       "    </tr>\n",
       "  </tbody>\n",
       "</table>\n",
       "</div>"
      ],
      "text/plain": [
       "   user_id  gender age  occupation zip_code\n",
       "0  1        24      M   technician  85711  \n",
       "1  2        53      F   other       94043  \n",
       "2  3        23      M   writer      32067  "
      ]
     },
     "metadata": {},
     "output_type": "display_data"
    },
    {
     "name": "stdout",
     "output_type": "stream",
     "text": [
      "\n",
      "items\n"
     ]
    },
    {
     "data": {
      "text/html": [
       "<div>\n",
       "<style scoped>\n",
       "    .dataframe tbody tr th:only-of-type {\n",
       "        vertical-align: middle;\n",
       "    }\n",
       "\n",
       "    .dataframe tbody tr th {\n",
       "        vertical-align: top;\n",
       "    }\n",
       "\n",
       "    .dataframe thead th {\n",
       "        text-align: right;\n",
       "    }\n",
       "</style>\n",
       "<table border=\"1\" class=\"dataframe\">\n",
       "  <thead>\n",
       "    <tr style=\"text-align: right;\">\n",
       "      <th></th>\n",
       "      <th>item_id</th>\n",
       "      <th>title</th>\n",
       "      <th>release_date</th>\n",
       "      <th>imdb_url</th>\n",
       "      <th>unknown</th>\n",
       "      <th>...</th>\n",
       "      <th>Romance</th>\n",
       "      <th>Sci-Fi</th>\n",
       "      <th>Thriller</th>\n",
       "      <th>War</th>\n",
       "      <th>Western</th>\n",
       "    </tr>\n",
       "  </thead>\n",
       "  <tbody>\n",
       "    <tr>\n",
       "      <td>0</td>\n",
       "      <td>1</td>\n",
       "      <td>Toy Story (1995)</td>\n",
       "      <td>1995-01-01</td>\n",
       "      <td>http://us.imdb.com/M/title-exact?Toy%20Story%20(1995)</td>\n",
       "      <td>0</td>\n",
       "      <td>...</td>\n",
       "      <td>0</td>\n",
       "      <td>0</td>\n",
       "      <td>0</td>\n",
       "      <td>0</td>\n",
       "      <td>0</td>\n",
       "    </tr>\n",
       "    <tr>\n",
       "      <td>1</td>\n",
       "      <td>2</td>\n",
       "      <td>GoldenEye (1995)</td>\n",
       "      <td>1995-01-01</td>\n",
       "      <td>http://us.imdb.com/M/title-exact?GoldenEye%20(1995)</td>\n",
       "      <td>0</td>\n",
       "      <td>...</td>\n",
       "      <td>0</td>\n",
       "      <td>0</td>\n",
       "      <td>1</td>\n",
       "      <td>0</td>\n",
       "      <td>0</td>\n",
       "    </tr>\n",
       "    <tr>\n",
       "      <td>2</td>\n",
       "      <td>3</td>\n",
       "      <td>Four Rooms (1995)</td>\n",
       "      <td>1995-01-01</td>\n",
       "      <td>http://us.imdb.com/M/title-exact?Four%20Rooms%20(1995)</td>\n",
       "      <td>0</td>\n",
       "      <td>...</td>\n",
       "      <td>0</td>\n",
       "      <td>0</td>\n",
       "      <td>1</td>\n",
       "      <td>0</td>\n",
       "      <td>0</td>\n",
       "    </tr>\n",
       "  </tbody>\n",
       "</table>\n",
       "<p>3 rows × 23 columns</p>\n",
       "</div>"
      ],
      "text/plain": [
       "   item_id              title release_date  \\\n",
       "0  1        Toy Story (1995)  1995-01-01     \n",
       "1  2        GoldenEye (1995)  1995-01-01     \n",
       "2  3        Four Rooms (1995) 1995-01-01     \n",
       "\n",
       "                                                 imdb_url  unknown  ...  \\\n",
       "0  http://us.imdb.com/M/title-exact?Toy%20Story%20(1995)   0        ...   \n",
       "1  http://us.imdb.com/M/title-exact?GoldenEye%20(1995)     0        ...   \n",
       "2  http://us.imdb.com/M/title-exact?Four%20Rooms%20(1995)  0        ...   \n",
       "\n",
       "   Romance  Sci-Fi  Thriller  War  Western  \n",
       "0  0        0       0         0    0        \n",
       "1  0        0       1         0    0        \n",
       "2  0        0       1         0    0        \n",
       "\n",
       "[3 rows x 23 columns]"
      ]
     },
     "metadata": {},
     "output_type": "display_data"
    },
    {
     "name": "stdout",
     "output_type": "stream",
     "text": [
      "\n"
     ]
    }
   ],
   "source": [
    "data = MovieLens(\"100k\")\n",
    "log = spark.createDataFrame(data.ratings).withColumn(\n",
    "    \"context\", lit(DEFAULT_CONTEXT)\n",
    ")\n",
    "data.info()"
   ]
  },
  {
   "cell_type": "markdown",
   "metadata": {
    "ein.tags": "worksheet-0",
    "slideshow": {
     "slide_type": "-"
    }
   },
   "source": [
    "## Сценарии с разными моделями <a name=\"scenario\"></a>"
   ]
  },
  {
   "cell_type": "markdown",
   "metadata": {
    "ein.tags": "worksheet-0",
    "slideshow": {
     "slide_type": "-"
    }
   },
   "source": [
    "### Получение сценария через фабрику <a name=\"get-scenario\"></a>"
   ]
  },
  {
   "cell_type": "code",
   "execution_count": 8,
   "metadata": {
    "autoscroll": false,
    "ein.hycell": false,
    "ein.tags": "worksheet-0",
    "pycharm": {
     "name": "#%%\n"
    },
    "slideshow": {
     "slide_type": "-"
    }
   },
   "outputs": [],
   "source": [
    "pop_rec = PopRec()\n",
    "als_rec = ALSRec()\n",
    "knn_rec = KNNRec()\n",
    "lightfm_rec = LightFMRec()"
   ]
  },
  {
   "cell_type": "code",
   "execution_count": 9,
   "metadata": {
    "autoscroll": false,
    "ein.hycell": false,
    "ein.tags": "worksheet-0",
    "pycharm": {
     "name": "#%%\n"
    },
    "slideshow": {
     "slide_type": "-"
    }
   },
   "outputs": [],
   "source": [
    "log_bydate_splitter = log_splitter.DateSplitter(\n",
    "    test_start=datetime(2007, 1, 1),\n",
    "    drop_cold_items=True,\n",
    "    drop_cold_users=True\n",
    ")\n",
    "log_random_splitter = log_splitter.RandomSplitter(\n",
    "    test_size=0.3,\n",
    "    drop_cold_items=True, \n",
    "    drop_cold_users=True,\n",
    "    seed=1234\n",
    ")\n",
    "log_cold_splitter = log_splitter.ColdUsersSplitter(\n",
    "    test_size=0.3,\n",
    "    drop_cold_items=True, \n",
    "    drop_cold_users=True\n",
    ")\n",
    "user_random_splitter = user_log_splitter.UserSplitter(\n",
    "    item_test_size=0.3,\n",
    "    user_test_size=500,\n",
    "    drop_cold_items=True,\n",
    "    drop_cold_users=True,\n",
    "    shuffle=True,\n",
    "    seed=1234\n",
    "    \n",
    ")\n",
    "user_bydate_splitter = user_log_splitter.UserSplitter(\n",
    "    item_test_size=0.3,\n",
    "    user_test_size=500,\n",
    "    drop_cold_items=True, \n",
    "    drop_cold_users=True,\n",
    "    seed=1234\n",
    ")"
   ]
  },
  {
   "cell_type": "markdown",
   "metadata": {
    "ein.tags": "worksheet-0",
    "slideshow": {
     "slide_type": "-"
    }
   },
   "source": [
    "### Обучение сценария <a name=\"fit-scenario\"></a>"
   ]
  },
  {
   "cell_type": "code",
   "execution_count": 10,
   "metadata": {
    "autoscroll": false,
    "ein.hycell": false,
    "ein.tags": "worksheet-0",
    "slideshow": {
     "slide_type": "-"
    }
   },
   "outputs": [],
   "source": [
    "results = None"
   ]
  },
  {
   "cell_type": "code",
   "execution_count": 11,
   "metadata": {
    "autoscroll": false,
    "ein.hycell": false,
    "ein.tags": "worksheet-0",
    "pycharm": {
     "name": "#%%\n"
    },
    "slideshow": {
     "slide_type": "-"
    }
   },
   "outputs": [],
   "source": [
    "scenario = MainScenario(\n",
    "    splitter=user_random_splitter,\n",
    "    recommender=lightfm_rec,\n",
    "    criterion=metrics.HitRate,\n",
    "    metrics={\n",
    "        metrics.NDCG: [10,5,3],\n",
    "        metrics.Precision: [10,5,3],\n",
    "        metrics.MAP: [10,5,3],\n",
    "        metrics.Recall: [10,5,3],\n",
    "        metrics.Surprisal: [10,5,3],\n",
    "    },\n",
    "    fallback_rec=pop_rec,\n",
    ")"
   ]
  },
  {
   "cell_type": "code",
   "execution_count": 12,
   "metadata": {
    "autoscroll": false,
    "ein.hycell": false,
    "ein.tags": "worksheet-0",
    "pycharm": {
     "name": "#%%\n"
    },
    "slideshow": {
     "slide_type": "-"
    }
   },
   "outputs": [],
   "source": [
    "popular_grid = {\n",
    "    \"alpha\": {\"type\": \"int\", \"args\": [0, 10]},\n",
    "    \"beta\": {\"type\": \"int\", \"args\": [0, 10]}\n",
    "}\n",
    "als_grid = {\n",
    "    \"rank\": {\"type\": \"discrete_uniform\", \"args\": [10, 100, 10]}\n",
    "}\n",
    "lightfm_grid = {\n",
    "    \"rank\": {\"type\": \"int\", \"args\": [10, 100]}\n",
    "}\n",
    "knn_grid = {\n",
    "    \"shrink\": {\"type\": \"discrete_uniform\", \"args\": [10, 50, 10]},\n",
    "    \"num_neighbours\": {\"type\": \"discrete_uniform\", \"args\": [0, 10, 1]},\n",
    "}"
   ]
  },
  {
   "cell_type": "code",
   "execution_count": 13,
   "metadata": {
    "autoscroll": false,
    "ein.hycell": false,
    "ein.tags": "worksheet-0",
    "pycharm": {
     "name": "#%%\n"
    },
    "slideshow": {
     "slide_type": "-"
    }
   },
   "outputs": [
    {
     "name": "stderr",
     "output_type": "stream",
     "text": [
      "25-Feb-20 16:57:56, root, DEBUG: Деление лога на обучающую и тестовую выборку\n",
      "25-Feb-20 16:58:16, root, DEBUG: Длина трейна и теста: (84013, 15944)\n",
      "25-Feb-20 16:58:17, root, DEBUG: Количество пользователей в трейне и тесте: 943, 490\n",
      "25-Feb-20 16:58:17, root, DEBUG: Количество объектов в трейне и тесте: 1644, 1355\n",
      "25-Feb-20 16:58:17, root, DEBUG: Инициализация метрик\n",
      "25-Feb-20 16:58:18, root, DEBUG: Обучение и предсказание дополнительной модели\n",
      "25-Feb-20 16:58:18, root, DEBUG: Проверка датафреймов\n",
      "25-Feb-20 16:58:18, root, DEBUG: Предварительная стадия обучения (pre-fit)\n",
      "25-Feb-20 16:58:19, root, DEBUG: Среднее количество items у каждого user: 90\n",
      "25-Feb-20 16:58:21, root, DEBUG: Основная стадия обучения (fit)\n",
      "25-Feb-20 16:58:21, root, DEBUG: Проверка датафреймов\n",
      "25-Feb-20 16:58:24, root, DEBUG: Количество items после фильтрации: 100\n",
      "25-Feb-20 16:58:27, root, DEBUG: Пре-фит модели\n",
      "25-Feb-20 16:58:27, root, DEBUG: -------------\n",
      "25-Feb-20 16:58:27, root, DEBUG: Оптимизация параметров\n",
      "25-Feb-20 16:58:27, root, DEBUG: Максимальное количество попыток: 100 (чтобы поменять его, задайте параметр 'optuna_max_n_trials')\n",
      "25-Feb-20 16:58:27, root, DEBUG: -- Параметры: {'rank': 85}\n",
      "25-Feb-20 16:58:27, root, DEBUG: -- Сохраняем optuna study на диск\n",
      "25-Feb-20 16:58:27, root, DEBUG: -- Второй фит модели в оптимизации\n",
      "25-Feb-20 16:58:27, root, DEBUG: Построение модели LightFM\n",
      "25-Feb-20 16:58:30, root, DEBUG: -- Предикт модели в оптимизации\n",
      "25-Feb-20 16:58:30, root, DEBUG: Проверка датафреймов\n",
      "25-Feb-20 16:58:49, root, DEBUG: -- Дополняем рекомендации fallback рекомендациями\n",
      "25-Feb-20 16:58:49, root, DEBUG: -- Длина рекомендаций: 4900\n",
      "25-Feb-20 16:58:51, root, DEBUG: -- Длина рекомендаций после добавления fallback-рекомендаций: 4900\n",
      "25-Feb-20 16:58:51, root, DEBUG: -- Подсчет метрики в оптимизации\n",
      "25-Feb-20 16:59:25, root, DEBUG: -- Метрики: HitRate=0.8347 nDCG=5: 0.2279, 10: 0.2370, 3: 0.2323;  Precision=5: 0.2241, 10: 0.2288, 3: 0.2286;  MAP=5: 0.4094, 10: 0.4733, 3: 0.3651;  Recall=5: 0.0508, 10: 0.0983, 3: 0.0306;  Surprisal=5: 0.1772, 10: 0.1915, 3: 0.1703; \n",
      "[I 2020-02-25 16:59:25,687] Finished trial#0 resulted in value: 0.8346938775510204. Current best value is 0.8346938775510204 with parameters: {'rank': 85}.\n",
      "25-Feb-20 16:59:25, root, DEBUG: -- Параметры: {'rank': 98}\n",
      "25-Feb-20 16:59:25, root, DEBUG: -- Сохраняем optuna study на диск\n",
      "25-Feb-20 16:59:25, root, DEBUG: -- Второй фит модели в оптимизации\n",
      "25-Feb-20 16:59:25, root, DEBUG: Построение модели LightFM\n",
      "25-Feb-20 16:59:28, root, DEBUG: -- Предикт модели в оптимизации\n",
      "25-Feb-20 16:59:28, root, DEBUG: Проверка датафреймов\n",
      "25-Feb-20 16:59:47, root, DEBUG: -- Дополняем рекомендации fallback рекомендациями\n",
      "25-Feb-20 16:59:47, root, DEBUG: -- Длина рекомендаций: 4900\n",
      "25-Feb-20 16:59:48, root, DEBUG: -- Длина рекомендаций после добавления fallback-рекомендаций: 4900\n",
      "25-Feb-20 16:59:48, root, DEBUG: -- Подсчет метрики в оптимизации\n",
      "25-Feb-20 17:00:21, root, DEBUG: -- Метрики: HitRate=0.8490 nDCG=5: 0.2296, 10: 0.2397, 3: 0.2328;  Precision=5: 0.2241, 10: 0.2314, 3: 0.2265;  MAP=5: 0.4170, 10: 0.4816, 3: 0.3715;  Recall=5: 0.0492, 10: 0.1000, 3: 0.0289;  Surprisal=5: 0.1880, 10: 0.1990, 3: 0.1820; \n",
      "[I 2020-02-25 17:00:21,366] Finished trial#1 resulted in value: 0.8489795918367347. Current best value is 0.8489795918367347 with parameters: {'rank': 98}.\n",
      "25-Feb-20 17:00:21, root, DEBUG: Лучшие значения метрики: 0.8489795918367347\n",
      "25-Feb-20 17:00:21, root, DEBUG: Лучшие параметры: {'rank': 98}\n"
     ]
    }
   ],
   "source": [
    "best_params = scenario.research(\n",
    "    lightfm_grid,\n",
    "    log,\n",
    "    k=10,\n",
    "    n_trials=2\n",
    ")"
   ]
  },
  {
   "cell_type": "code",
   "execution_count": 14,
   "metadata": {
    "autoscroll": false,
    "ein.hycell": false,
    "ein.tags": "worksheet-0",
    "pycharm": {
     "name": "#%%\n"
    },
    "scrolled": true,
    "slideshow": {
     "slide_type": "-"
    }
   },
   "outputs": [
    {
     "data": {
      "text/html": [
       "<div>\n",
       "<style scoped>\n",
       "    .dataframe tbody tr th:only-of-type {\n",
       "        vertical-align: middle;\n",
       "    }\n",
       "\n",
       "    .dataframe tbody tr th {\n",
       "        vertical-align: top;\n",
       "    }\n",
       "\n",
       "    .dataframe thead tr th {\n",
       "        text-align: left;\n",
       "    }\n",
       "</style>\n",
       "<table border=\"1\" class=\"dataframe\">\n",
       "  <thead>\n",
       "    <tr>\n",
       "      <th></th>\n",
       "      <th>number</th>\n",
       "      <th>state</th>\n",
       "      <th>value</th>\n",
       "      <th>datetime_start</th>\n",
       "      <th>datetime_complete</th>\n",
       "      <th>params</th>\n",
       "      <th colspan=\"5\" halign=\"left\">user_attrs</th>\n",
       "      <th>system_attrs</th>\n",
       "    </tr>\n",
       "    <tr>\n",
       "      <th></th>\n",
       "      <th></th>\n",
       "      <th></th>\n",
       "      <th></th>\n",
       "      <th></th>\n",
       "      <th></th>\n",
       "      <th>rank</th>\n",
       "      <th>MAP</th>\n",
       "      <th>Precision</th>\n",
       "      <th>Recall</th>\n",
       "      <th>Surprisal</th>\n",
       "      <th>nDCG</th>\n",
       "      <th>_number</th>\n",
       "    </tr>\n",
       "  </thead>\n",
       "  <tbody>\n",
       "    <tr>\n",
       "      <td>0</td>\n",
       "      <td>0</td>\n",
       "      <td>TrialState.COMPLETE</td>\n",
       "      <td>0.834694</td>\n",
       "      <td>2020-02-25 16:58:27.720338</td>\n",
       "      <td>2020-02-25 16:59:25.686747</td>\n",
       "      <td>85</td>\n",
       "      <td>{5: 0.40937585034013624, 10: 0.47331111458188685, 3: 0.365136054421769}</td>\n",
       "      <td>{5: 0.22408163265306127, 10: 0.22877551020408163, 3: 0.2285714285714284}</td>\n",
       "      <td>{5: 0.05078241926978814, 10: 0.09833609542586662, 3: 0.03055181220427518}</td>\n",
       "      <td>{5: 0.1772261907289188, 10: 0.19152139244112618, 3: 0.17034874244381867}</td>\n",
       "      <td>{5: 0.2279346617247912, 10: 0.2370298684173544, 3: 0.23231141140584638}</td>\n",
       "      <td>0</td>\n",
       "    </tr>\n",
       "    <tr>\n",
       "      <td>1</td>\n",
       "      <td>1</td>\n",
       "      <td>TrialState.COMPLETE</td>\n",
       "      <td>0.848980</td>\n",
       "      <td>2020-02-25 16:59:25.777942</td>\n",
       "      <td>2020-02-25 17:00:21.365896</td>\n",
       "      <td>98</td>\n",
       "      <td>{5: 0.4169852607709752, 10: 0.4816016995233465, 3: 0.37148526077097554}</td>\n",
       "      <td>{5: 0.2240816326530613, 10: 0.23142857142857137, 3: 0.22653061224489787}</td>\n",
       "      <td>{5: 0.04915484989722797, 10: 0.09999824471395656, 3: 0.02894789870830567}</td>\n",
       "      <td>{5: 0.1880291680712521, 10: 0.19901286944125482, 3: 0.18197501573799374}</td>\n",
       "      <td>{5: 0.22958578874155391, 10: 0.23966974317411385, 3: 0.23281298322588304}</td>\n",
       "      <td>1</td>\n",
       "    </tr>\n",
       "  </tbody>\n",
       "</table>\n",
       "</div>"
      ],
      "text/plain": [
       "  number                state     value             datetime_start  \\\n",
       "                                                                     \n",
       "0  0      TrialState.COMPLETE  0.834694 2020-02-25 16:58:27.720338   \n",
       "1  1      TrialState.COMPLETE  0.848980 2020-02-25 16:59:25.777942   \n",
       "\n",
       "           datetime_complete params  \\\n",
       "                               rank   \n",
       "0 2020-02-25 16:59:25.686747  85      \n",
       "1 2020-02-25 17:00:21.365896  98      \n",
       "\n",
       "                                                                user_attrs  \\\n",
       "                                                                       MAP   \n",
       "0  {5: 0.40937585034013624, 10: 0.47331111458188685, 3: 0.365136054421769}   \n",
       "1  {5: 0.4169852607709752, 10: 0.4816016995233465, 3: 0.37148526077097554}   \n",
       "\n",
       "                                                                             \\\n",
       "                                                                  Precision   \n",
       "0  {5: 0.22408163265306127, 10: 0.22877551020408163, 3: 0.2285714285714284}   \n",
       "1  {5: 0.2240816326530613, 10: 0.23142857142857137, 3: 0.22653061224489787}   \n",
       "\n",
       "                                                                              \\\n",
       "                                                                      Recall   \n",
       "0  {5: 0.05078241926978814, 10: 0.09833609542586662, 3: 0.03055181220427518}   \n",
       "1  {5: 0.04915484989722797, 10: 0.09999824471395656, 3: 0.02894789870830567}   \n",
       "\n",
       "                                                                             \\\n",
       "                                                                  Surprisal   \n",
       "0  {5: 0.1772261907289188, 10: 0.19152139244112618, 3: 0.17034874244381867}   \n",
       "1  {5: 0.1880291680712521, 10: 0.19901286944125482, 3: 0.18197501573799374}   \n",
       "\n",
       "                                                                              \\\n",
       "                                                                        nDCG   \n",
       "0  {5: 0.2279346617247912, 10: 0.2370298684173544, 3: 0.23231141140584638}     \n",
       "1  {5: 0.22958578874155391, 10: 0.23966974317411385, 3: 0.23281298322588304}   \n",
       "\n",
       "  system_attrs  \n",
       "       _number  \n",
       "0  0            \n",
       "1  1            "
      ]
     },
     "execution_count": 14,
     "metadata": {},
     "output_type": "execute_result"
    }
   ],
   "source": [
    "results = pd.concat([scenario.study.trials_dataframe(), results], axis=0)\n",
    "\n",
    "results"
   ]
  },
  {
   "cell_type": "markdown",
   "metadata": {
    "ein.tags": "worksheet-0",
    "slideshow": {
     "slide_type": "-"
    }
   },
   "source": [
    "### Получение рекомендаций <a name=\"predict-scenario\"></a>"
   ]
  },
  {
   "cell_type": "code",
   "execution_count": 15,
   "metadata": {
    "autoscroll": false,
    "ein.hycell": false,
    "ein.tags": "worksheet-0",
    "pycharm": {
     "name": "#%%\n"
    },
    "scrolled": true,
    "slideshow": {
     "slide_type": "-"
    }
   },
   "outputs": [
    {
     "name": "stderr",
     "output_type": "stream",
     "text": [
      "25-Feb-20 17:00:24, root, DEBUG: Проверка датафреймов\n",
      "25-Feb-20 17:00:25, root, DEBUG: Предварительная стадия обучения (pre-fit)\n",
      "25-Feb-20 17:00:25, root, DEBUG: Основная стадия обучения (fit)\n",
      "25-Feb-20 17:00:25, root, DEBUG: Построение модели LightFM\n",
      "25-Feb-20 17:00:28, root, DEBUG: Проверка датафреймов\n",
      "25-Feb-20 17:00:29, root, DEBUG: Выделение дефолтных юзеров\n",
      "25-Feb-20 17:00:29, root, DEBUG: Выделение дефолтных айтемов\n"
     ]
    }
   ],
   "source": [
    "recs = scenario.production(\n",
    "    best_params, \n",
    "    log,\n",
    "    users=None, \n",
    "    items=None,\n",
    "    k=10\n",
    ")"
   ]
  },
  {
   "cell_type": "code",
   "execution_count": 16,
   "metadata": {
    "autoscroll": false,
    "ein.hycell": false,
    "ein.tags": "worksheet-0",
    "pycharm": {
     "name": "#%%\n"
    },
    "slideshow": {
     "slide_type": "-"
    }
   },
   "outputs": [
    {
     "name": "stdout",
     "output_type": "stream",
     "text": [
      "+-------+-------+--------------------+----------+\n",
      "|user_id|item_id|           relevance|   context|\n",
      "+-------+-------+--------------------+----------+\n",
      "|     91|    300|  0.8993030786514282|no_context|\n",
      "|     91|    511|  0.6741796135902405|no_context|\n",
      "|     91|    187|  0.6400244832038879|no_context|\n",
      "|     91|    510|   0.635736346244812|no_context|\n",
      "|     91|    199| 0.43372300267219543|no_context|\n",
      "|     91|    205| 0.31432321667671204|no_context|\n",
      "|     91|    174| 0.19162911176681519|no_context|\n",
      "|     91|    172| 0.18397298455238342|no_context|\n",
      "|     91|    520| 0.16816245019435883|no_context|\n",
      "|     91|    197| 0.12643621861934662|no_context|\n",
      "|    152|    237|  0.9271017909049988|no_context|\n",
      "|    152|     15|  0.9126777648925781|no_context|\n",
      "|    152|    393|  0.7430113554000854|no_context|\n",
      "|    152|    111|  0.6799671649932861|no_context|\n",
      "|    152|     88|  0.6609490513801575|no_context|\n",
      "|    152|     66|  0.5257515907287598|no_context|\n",
      "|    152|    280| 0.13062837719917297|no_context|\n",
      "|    152|    815|0.056403983384370804|no_context|\n",
      "|    152|    274|-0.01176337338984...|no_context|\n",
      "|    152|    125|-0.02927912771701...|no_context|\n",
      "+-------+-------+--------------------+----------+\n",
      "only showing top 20 rows\n",
      "\n"
     ]
    }
   ],
   "source": [
    "recs.show()"
   ]
  },
  {
   "cell_type": "code",
   "execution_count": null,
   "metadata": {},
   "outputs": [],
   "source": []
  }
 ],
 "metadata": {
  "kernelspec": {
   "display_name": "Python 3",
   "language": "python",
   "name": "python3"
  },
  "language_info": {
   "codemirror_mode": {
    "name": "ipython",
    "version": 3
   },
   "file_extension": ".py",
   "mimetype": "text/x-python",
   "name": "python",
   "nbconvert_exporter": "python",
   "pygments_lexer": "ipython3",
   "version": "3.7.5"
  },
  "name": "scenario_test_movielnes100k.ipynb",
  "pycharm": {
   "stem_cell": {
    "cell_type": "raw",
    "metadata": {
     "collapsed": false
    },
    "source": null
   }
  }
 },
 "nbformat": 4,
 "nbformat_minor": 4
}
