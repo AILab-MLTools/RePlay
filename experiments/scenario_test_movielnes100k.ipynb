{
 "cells": [
  {
   "cell_type": "markdown",
   "metadata": {
    "ein.tags": "worksheet-0",
    "slideshow": {
     "slide_type": "-"
    }
   },
   "source": [
    "# Scenario Integration Test\n",
    "\n",
    "Лаботоратория по искусственному интеллекту, Сбербанк. \n",
    "\n",
    "О чем: вызов сценариев с разными моделями.\n",
    "В качестве датасета используется датасет MovieLens100K. \n",
    "\n",
    "## Содержание\n",
    "\n",
    "1. [Импорты, создание спарк-сессии](#intro)\n",
    "2. [Загрузка данных](#data-loader)\n",
    "3. [Сценарии с разными моделями](#scenario)\n",
    "3.1 [Получение сценария через фабрику](#get-scenario)\n",
    "3.2 [Обучение сценария](#fit-scenario)"
   ]
  },
  {
   "cell_type": "markdown",
   "metadata": {
    "ein.tags": "worksheet-0",
    "slideshow": {
     "slide_type": "-"
    }
   },
   "source": [
    "### Импорты, создание спарк-сессии <a name='intro'></a>"
   ]
  },
  {
   "cell_type": "code",
   "execution_count": 1,
   "metadata": {
    "autoscroll": false,
    "ein.hycell": false,
    "ein.tags": "worksheet-0",
    "pycharm": {
     "name": "#%%\n"
    },
    "slideshow": {
     "slide_type": "-"
    }
   },
   "outputs": [],
   "source": [
    "%load_ext autoreload\n",
    "%autoreload 2\n",
    "%matplotlib inline"
   ]
  },
  {
   "cell_type": "code",
   "execution_count": 2,
   "metadata": {},
   "outputs": [],
   "source": [
    "import os, sys\n",
    "\n",
    "parent_dir = os.path.split(os.getcwd())[0]\n",
    "if parent_dir not in sys.path:\n",
    "    sys.path.append(parent_dir)"
   ]
  },
  {
   "cell_type": "code",
   "execution_count": 4,
   "metadata": {
    "autoscroll": false,
    "ein.hycell": false,
    "ein.tags": "worksheet-0",
    "pycharm": {
     "name": "#%%\n"
    },
    "slideshow": {
     "slide_type": "-"
    }
   },
   "outputs": [],
   "source": [
    "import logging\n",
    "import os\n",
    "import sys\n",
    "from datetime import datetime\n",
    "\n",
    "import matplotlib.pyplot as plt\n",
    "import pandas as pd\n",
    "from sponge_bob_magic.datasets.movielens import MovieLens\n",
    "from sponge_bob_magic.data_preparator import DataPreparator\n",
    "\n",
    "from sponge_bob_magic.splitters import log_splitter\n",
    "from sponge_bob_magic.splitters import user_log_splitter\n",
    "from sponge_bob_magic import metrics\n",
    "\n",
    "from sponge_bob_magic.models.pop_rec import PopRec\n",
    "from sponge_bob_magic.models.als_rec import ALSRec\n",
    "from sponge_bob_magic.models.knn_rec import KNNRec\n",
    "from sponge_bob_magic.models.lightfm_rec import LightFMRec\n",
    "\n",
    "from sponge_bob_magic.scenarios.main_scenario import MainScenario\n",
    "from sponge_bob_magic.session_handler import  get_spark_session\n",
    "from sponge_bob_magic.constants import DEFAULT_CONTEXT\n",
    "from pyspark.sql.functions import lit"
   ]
  },
  {
   "cell_type": "code",
   "execution_count": 5,
   "metadata": {
    "autoscroll": false,
    "ein.hycell": false,
    "ein.tags": "worksheet-0",
    "pycharm": {
     "name": "#%%\n"
    },
    "slideshow": {
     "slide_type": "-"
    }
   },
   "outputs": [],
   "source": [
    "# отображение максимальной ширины колонок в pandas датафреймах\n",
    "pd.options.display.max_colwidth = -1"
   ]
  },
  {
   "cell_type": "code",
   "execution_count": 6,
   "metadata": {
    "autoscroll": false,
    "ein.hycell": false,
    "ein.tags": "worksheet-0",
    "pycharm": {
     "name": "#%%\n"
    },
    "slideshow": {
     "slide_type": "-"
    }
   },
   "outputs": [
    {
     "data": {
      "text/html": [
       "\n",
       "            <div>\n",
       "                <p><b>SparkSession - hive</b></p>\n",
       "                \n",
       "        <div>\n",
       "            <p><b>SparkContext</b></p>\n",
       "\n",
       "            <p><a href=\"http://10.17.17.38:4042\">Spark UI</a></p>\n",
       "\n",
       "            <dl>\n",
       "              <dt>Version</dt>\n",
       "                <dd><code>v2.4.4</code></dd>\n",
       "              <dt>Master</dt>\n",
       "                <dd><code>local[*]</code></dd>\n",
       "              <dt>AppName</dt>\n",
       "                <dd><code>pyspark-shell</code></dd>\n",
       "            </dl>\n",
       "        </div>\n",
       "        \n",
       "            </div>\n",
       "        "
      ],
      "text/plain": [
       "<pyspark.sql.session.SparkSession at 0x7fddbe8d47d0>"
      ]
     },
     "execution_count": 6,
     "metadata": {},
     "output_type": "execute_result"
    }
   ],
   "source": [
    "spark = get_spark_session()\n",
    "spark"
   ]
  },
  {
   "cell_type": "markdown",
   "metadata": {
    "ein.tags": "worksheet-0",
    "slideshow": {
     "slide_type": "-"
    }
   },
   "source": [
    "## Загрузка данных <a name=\"data-loader\"></a>"
   ]
  },
  {
   "cell_type": "code",
   "execution_count": 7,
   "metadata": {
    "autoscroll": false,
    "ein.hycell": false,
    "ein.tags": "worksheet-0",
    "pycharm": {
     "name": "#%%\n"
    },
    "slideshow": {
     "slide_type": "-"
    }
   },
   "outputs": [
    {
     "name": "stdout",
     "output_type": "stream",
     "text": [
      "ratings\n"
     ]
    },
    {
     "data": {
      "text/html": [
       "<div>\n",
       "<style scoped>\n",
       "    .dataframe tbody tr th:only-of-type {\n",
       "        vertical-align: middle;\n",
       "    }\n",
       "\n",
       "    .dataframe tbody tr th {\n",
       "        vertical-align: top;\n",
       "    }\n",
       "\n",
       "    .dataframe thead th {\n",
       "        text-align: right;\n",
       "    }\n",
       "</style>\n",
       "<table border=\"1\" class=\"dataframe\">\n",
       "  <thead>\n",
       "    <tr style=\"text-align: right;\">\n",
       "      <th></th>\n",
       "      <th>user_id</th>\n",
       "      <th>item_id</th>\n",
       "      <th>relevance</th>\n",
       "      <th>timestamp</th>\n",
       "    </tr>\n",
       "  </thead>\n",
       "  <tbody>\n",
       "    <tr>\n",
       "      <td>0</td>\n",
       "      <td>196</td>\n",
       "      <td>242</td>\n",
       "      <td>3</td>\n",
       "      <td>881250949</td>\n",
       "    </tr>\n",
       "    <tr>\n",
       "      <td>1</td>\n",
       "      <td>186</td>\n",
       "      <td>302</td>\n",
       "      <td>3</td>\n",
       "      <td>891717742</td>\n",
       "    </tr>\n",
       "    <tr>\n",
       "      <td>2</td>\n",
       "      <td>22</td>\n",
       "      <td>377</td>\n",
       "      <td>1</td>\n",
       "      <td>878887116</td>\n",
       "    </tr>\n",
       "  </tbody>\n",
       "</table>\n",
       "</div>"
      ],
      "text/plain": [
       "   user_id  item_id  relevance  timestamp\n",
       "0  196      242      3          881250949\n",
       "1  186      302      3          891717742\n",
       "2  22       377      1          878887116"
      ]
     },
     "metadata": {},
     "output_type": "display_data"
    },
    {
     "name": "stdout",
     "output_type": "stream",
     "text": [
      "\n",
      "users\n"
     ]
    },
    {
     "data": {
      "text/html": [
       "<div>\n",
       "<style scoped>\n",
       "    .dataframe tbody tr th:only-of-type {\n",
       "        vertical-align: middle;\n",
       "    }\n",
       "\n",
       "    .dataframe tbody tr th {\n",
       "        vertical-align: top;\n",
       "    }\n",
       "\n",
       "    .dataframe thead th {\n",
       "        text-align: right;\n",
       "    }\n",
       "</style>\n",
       "<table border=\"1\" class=\"dataframe\">\n",
       "  <thead>\n",
       "    <tr style=\"text-align: right;\">\n",
       "      <th></th>\n",
       "      <th>user_id</th>\n",
       "      <th>gender</th>\n",
       "      <th>age</th>\n",
       "      <th>occupation</th>\n",
       "      <th>zip_code</th>\n",
       "    </tr>\n",
       "  </thead>\n",
       "  <tbody>\n",
       "    <tr>\n",
       "      <td>0</td>\n",
       "      <td>1</td>\n",
       "      <td>24</td>\n",
       "      <td>M</td>\n",
       "      <td>technician</td>\n",
       "      <td>85711</td>\n",
       "    </tr>\n",
       "    <tr>\n",
       "      <td>1</td>\n",
       "      <td>2</td>\n",
       "      <td>53</td>\n",
       "      <td>F</td>\n",
       "      <td>other</td>\n",
       "      <td>94043</td>\n",
       "    </tr>\n",
       "    <tr>\n",
       "      <td>2</td>\n",
       "      <td>3</td>\n",
       "      <td>23</td>\n",
       "      <td>M</td>\n",
       "      <td>writer</td>\n",
       "      <td>32067</td>\n",
       "    </tr>\n",
       "  </tbody>\n",
       "</table>\n",
       "</div>"
      ],
      "text/plain": [
       "   user_id  gender age  occupation zip_code\n",
       "0  1        24      M   technician  85711  \n",
       "1  2        53      F   other       94043  \n",
       "2  3        23      M   writer      32067  "
      ]
     },
     "metadata": {},
     "output_type": "display_data"
    },
    {
     "name": "stdout",
     "output_type": "stream",
     "text": [
      "\n",
      "items\n"
     ]
    },
    {
     "data": {
      "text/html": [
       "<div>\n",
       "<style scoped>\n",
       "    .dataframe tbody tr th:only-of-type {\n",
       "        vertical-align: middle;\n",
       "    }\n",
       "\n",
       "    .dataframe tbody tr th {\n",
       "        vertical-align: top;\n",
       "    }\n",
       "\n",
       "    .dataframe thead th {\n",
       "        text-align: right;\n",
       "    }\n",
       "</style>\n",
       "<table border=\"1\" class=\"dataframe\">\n",
       "  <thead>\n",
       "    <tr style=\"text-align: right;\">\n",
       "      <th></th>\n",
       "      <th>item_id</th>\n",
       "      <th>title</th>\n",
       "      <th>release_date</th>\n",
       "      <th>imdb_url</th>\n",
       "      <th>unknown</th>\n",
       "      <th>...</th>\n",
       "      <th>Romance</th>\n",
       "      <th>Sci-Fi</th>\n",
       "      <th>Thriller</th>\n",
       "      <th>War</th>\n",
       "      <th>Western</th>\n",
       "    </tr>\n",
       "  </thead>\n",
       "  <tbody>\n",
       "    <tr>\n",
       "      <td>0</td>\n",
       "      <td>1</td>\n",
       "      <td>Toy Story (1995)</td>\n",
       "      <td>1995-01-01</td>\n",
       "      <td>http://us.imdb.com/M/title-exact?Toy%20Story%20(1995)</td>\n",
       "      <td>0</td>\n",
       "      <td>...</td>\n",
       "      <td>0</td>\n",
       "      <td>0</td>\n",
       "      <td>0</td>\n",
       "      <td>0</td>\n",
       "      <td>0</td>\n",
       "    </tr>\n",
       "    <tr>\n",
       "      <td>1</td>\n",
       "      <td>2</td>\n",
       "      <td>GoldenEye (1995)</td>\n",
       "      <td>1995-01-01</td>\n",
       "      <td>http://us.imdb.com/M/title-exact?GoldenEye%20(1995)</td>\n",
       "      <td>0</td>\n",
       "      <td>...</td>\n",
       "      <td>0</td>\n",
       "      <td>0</td>\n",
       "      <td>1</td>\n",
       "      <td>0</td>\n",
       "      <td>0</td>\n",
       "    </tr>\n",
       "    <tr>\n",
       "      <td>2</td>\n",
       "      <td>3</td>\n",
       "      <td>Four Rooms (1995)</td>\n",
       "      <td>1995-01-01</td>\n",
       "      <td>http://us.imdb.com/M/title-exact?Four%20Rooms%20(1995)</td>\n",
       "      <td>0</td>\n",
       "      <td>...</td>\n",
       "      <td>0</td>\n",
       "      <td>0</td>\n",
       "      <td>1</td>\n",
       "      <td>0</td>\n",
       "      <td>0</td>\n",
       "    </tr>\n",
       "  </tbody>\n",
       "</table>\n",
       "<p>3 rows × 23 columns</p>\n",
       "</div>"
      ],
      "text/plain": [
       "   item_id              title release_date  \\\n",
       "0  1        Toy Story (1995)  1995-01-01     \n",
       "1  2        GoldenEye (1995)  1995-01-01     \n",
       "2  3        Four Rooms (1995) 1995-01-01     \n",
       "\n",
       "                                                 imdb_url  unknown  ...  \\\n",
       "0  http://us.imdb.com/M/title-exact?Toy%20Story%20(1995)   0        ...   \n",
       "1  http://us.imdb.com/M/title-exact?GoldenEye%20(1995)     0        ...   \n",
       "2  http://us.imdb.com/M/title-exact?Four%20Rooms%20(1995)  0        ...   \n",
       "\n",
       "   Romance  Sci-Fi  Thriller  War  Western  \n",
       "0  0        0       0         0    0        \n",
       "1  0        0       1         0    0        \n",
       "2  0        0       1         0    0        \n",
       "\n",
       "[3 rows x 23 columns]"
      ]
     },
     "metadata": {},
     "output_type": "display_data"
    },
    {
     "name": "stdout",
     "output_type": "stream",
     "text": [
      "\n"
     ]
    }
   ],
   "source": [
    "data = MovieLens(\"100k\")\n",
    "log = spark.createDataFrame(data.ratings).withColumn(\n",
    "    \"context\", lit(DEFAULT_CONTEXT)\n",
    ")\n",
    "data.info()"
   ]
  },
  {
   "cell_type": "markdown",
   "metadata": {
    "ein.tags": "worksheet-0",
    "slideshow": {
     "slide_type": "-"
    }
   },
   "source": [
    "## Сценарии с разными моделями <a name=\"scenario\"></a>"
   ]
  },
  {
   "cell_type": "markdown",
   "metadata": {
    "ein.tags": "worksheet-0",
    "slideshow": {
     "slide_type": "-"
    }
   },
   "source": [
    "### Получение сценария через фабрику <a name=\"get-scenario\"></a>"
   ]
  },
  {
   "cell_type": "code",
   "execution_count": 8,
   "metadata": {
    "autoscroll": false,
    "ein.hycell": false,
    "ein.tags": "worksheet-0",
    "pycharm": {
     "name": "#%%\n"
    },
    "slideshow": {
     "slide_type": "-"
    }
   },
   "outputs": [],
   "source": [
    "pop_rec = PopRec()\n",
    "als_rec = ALSRec()\n",
    "knn_rec = KNNRec()\n",
    "lightfm_rec = LightFMRec()"
   ]
  },
  {
   "cell_type": "code",
   "execution_count": 9,
   "metadata": {
    "autoscroll": false,
    "ein.hycell": false,
    "ein.tags": "worksheet-0",
    "pycharm": {
     "name": "#%%\n"
    },
    "slideshow": {
     "slide_type": "-"
    }
   },
   "outputs": [],
   "source": [
    "log_bydate_splitter = log_splitter.DateSplitter(\n",
    "    test_start=datetime(2007, 1, 1),\n",
    "    drop_cold_items=True,\n",
    "    drop_cold_users=True\n",
    ")\n",
    "log_random_splitter = log_splitter.RandomSplitter(\n",
    "    test_size=0.3,\n",
    "    drop_cold_items=True, \n",
    "    drop_cold_users=True,\n",
    "    seed=1234\n",
    ")\n",
    "log_cold_splitter = log_splitter.ColdUsersSplitter(\n",
    "    test_size=0.3,\n",
    "    drop_cold_items=True, \n",
    "    drop_cold_users=True\n",
    ")\n",
    "user_random_splitter = user_log_splitter.UserSplitter(\n",
    "    item_test_size=0.3,\n",
    "    user_test_size=500,\n",
    "    drop_cold_items=True,\n",
    "    drop_cold_users=True,\n",
    "    shuffle=True,\n",
    "    seed=1234\n",
    "    \n",
    ")\n",
    "user_bydate_splitter = user_log_splitter.UserSplitter(\n",
    "    item_test_size=0.3,\n",
    "    user_test_size=500,\n",
    "    drop_cold_items=True, \n",
    "    drop_cold_users=True,\n",
    "    seed=1234\n",
    ")"
   ]
  },
  {
   "cell_type": "markdown",
   "metadata": {
    "ein.tags": "worksheet-0",
    "slideshow": {
     "slide_type": "-"
    }
   },
   "source": [
    "### Обучение сценария <a name=\"fit-scenario\"></a>"
   ]
  },
  {
   "cell_type": "code",
   "execution_count": 10,
   "metadata": {
    "autoscroll": false,
    "ein.hycell": false,
    "ein.tags": "worksheet-0",
    "slideshow": {
     "slide_type": "-"
    }
   },
   "outputs": [],
   "source": [
    "results = None"
   ]
  },
  {
   "cell_type": "code",
   "execution_count": 26,
   "metadata": {
    "autoscroll": false,
    "ein.hycell": false,
    "ein.tags": "worksheet-0",
    "pycharm": {
     "name": "#%%\n"
    },
    "slideshow": {
     "slide_type": "-"
    }
   },
   "outputs": [],
   "source": [
    "scenario = MainScenario(\n",
    "    splitter=user_random_splitter,\n",
    "    recommender=lightfm_rec,\n",
    "    criterion=metrics.HitRate,\n",
    "    metrics={\n",
    "        metrics.NDCG: [10,5,3],\n",
    "        metrics.Precision: [10,5,3],\n",
    "        metrics.MAP: [10,5,3],\n",
    "        metrics.Recall: [10,5,3],\n",
    "        metrics.Surprisal: [10,5,3],\n",
    "    },\n",
    "    fallback_rec=pop_rec,\n",
    ")"
   ]
  },
  {
   "cell_type": "code",
   "execution_count": 27,
   "metadata": {
    "autoscroll": false,
    "ein.hycell": false,
    "ein.tags": "worksheet-0",
    "pycharm": {
     "name": "#%%\n"
    },
    "slideshow": {
     "slide_type": "-"
    }
   },
   "outputs": [],
   "source": [
    "popular_grid = {\n",
    "    \"alpha\": {\"type\": \"int\", \"args\": [0, 10]},\n",
    "    \"beta\": {\"type\": \"int\", \"args\": [0, 10]}\n",
    "}\n",
    "als_grid = {\n",
    "    \"rank\": {\"type\": \"discrete_uniform\", \"args\": [10, 100, 10]}\n",
    "}\n",
    "lightfm_grid = {\n",
    "    \"rank\": {\"type\": \"int\", \"args\": [10, 100]}\n",
    "}\n",
    "knn_grid = {\n",
    "    \"shrink\": {\"type\": \"discrete_uniform\", \"args\": [10, 50, 10]},\n",
    "    \"num_neighbours\": {\"type\": \"discrete_uniform\", \"args\": [0, 10, 1]},\n",
    "}"
   ]
  },
  {
   "cell_type": "code",
   "execution_count": 29,
   "metadata": {
    "autoscroll": false,
    "ein.hycell": false,
    "ein.tags": "worksheet-0",
    "pycharm": {
     "name": "#%%\n"
    },
    "slideshow": {
     "slide_type": "-"
    }
   },
   "outputs": [
    {
     "name": "stderr",
     "output_type": "stream",
     "text": [
      "02-Mar-20 12:48:41, root, DEBUG: Деление лога на обучающую и тестовую выборку\n",
      "02-Mar-20 12:48:55, root, DEBUG: Длина трейна и теста: (84013, 15944)\n",
      "02-Mar-20 12:48:56, root, DEBUG: Количество пользователей в трейне и тесте: 943, 490\n",
      "02-Mar-20 12:48:57, root, DEBUG: Количество объектов в трейне и тесте: 1644, 1355\n",
      "02-Mar-20 12:48:57, root, DEBUG: Инициализация метрик\n",
      "02-Mar-20 12:48:57, root, DEBUG: Обучение и предсказание дополнительной модели\n",
      "02-Mar-20 12:48:57, root, DEBUG: Проверка датафреймов\n",
      "02-Mar-20 12:48:57, root, DEBUG: Предварительная стадия обучения (pre-fit)\n",
      "02-Mar-20 12:48:57, root, DEBUG: Среднее количество items у каждого user: 90\n",
      "02-Mar-20 12:49:00, root, DEBUG: Основная стадия обучения (fit)\n",
      "02-Mar-20 12:49:00, root, DEBUG: Проверка датафреймов\n",
      "02-Mar-20 12:49:01, root, DEBUG: Количество items после фильтрации: 100\n",
      "02-Mar-20 12:49:04, root, DEBUG: Пре-фит модели\n",
      "02-Mar-20 12:49:04, root, DEBUG: -------------\n",
      "02-Mar-20 12:49:04, root, DEBUG: Оптимизация параметров\n",
      "02-Mar-20 12:49:04, root, DEBUG: Максимальное количество попыток: 100 (чтобы поменять его, задайте параметр 'optuna_max_n_trials')\n",
      "02-Mar-20 12:49:04, root, DEBUG: -- Параметры: {'rank': 96}\n",
      "02-Mar-20 12:49:04, root, DEBUG: -- Сохраняем optuna study на диск\n",
      "02-Mar-20 12:49:04, root, DEBUG: -- Второй фит модели в оптимизации\n",
      "02-Mar-20 12:49:04, root, DEBUG: Построение модели LightFM\n",
      "02-Mar-20 12:49:07, root, DEBUG: -- Предикт модели в оптимизации\n",
      "02-Mar-20 12:49:07, root, DEBUG: Проверка датафреймов\n",
      "02-Mar-20 12:49:26, root, DEBUG: -- Дополняем рекомендации fallback рекомендациями\n",
      "02-Mar-20 12:49:26, root, DEBUG: -- Длина рекомендаций: 4900\n",
      "02-Mar-20 12:49:27, root, DEBUG: -- Длина рекомендаций после добавления fallback-рекомендаций: 4900\n",
      "02-Mar-20 12:49:27, root, DEBUG: -- Подсчет метрики в оптимизации\n",
      "02-Mar-20 12:50:00, root, DEBUG: -- Метрики: HitRate=0.8245 nDCG=5: 0.2357, 10: 0.2338, 3: 0.2406;  Precision=5: 0.2282, 10: 0.2200, 3: 0.2320;  MAP=5: 0.4344, 10: 0.4944, 3: 0.3864;  Recall=5: 0.0502, 10: 0.0915, 3: 0.0302;  Surprisal=5: 0.1849, 10: 0.1997, 3: 0.1766; \n",
      "[I 2020-03-02 12:50:00,535] Finished trial#0 resulted in value: 0.8244897959183674. Current best value is 0.8244897959183674 with parameters: {'rank': 96}.\n",
      "02-Mar-20 12:50:00, root, DEBUG: -- Параметры: {'rank': 99}\n",
      "02-Mar-20 12:50:00, root, DEBUG: -- Сохраняем optuna study на диск\n",
      "02-Mar-20 12:50:00, root, DEBUG: -- Второй фит модели в оптимизации\n",
      "02-Mar-20 12:50:00, root, DEBUG: Построение модели LightFM\n",
      "02-Mar-20 12:50:03, root, DEBUG: -- Предикт модели в оптимизации\n",
      "02-Mar-20 12:50:03, root, DEBUG: Проверка датафреймов\n",
      "02-Mar-20 12:50:21, root, DEBUG: -- Дополняем рекомендации fallback рекомендациями\n",
      "02-Mar-20 12:50:21, root, DEBUG: -- Длина рекомендаций: 4900\n",
      "02-Mar-20 12:50:22, root, DEBUG: -- Длина рекомендаций после добавления fallback-рекомендаций: 4900\n",
      "02-Mar-20 12:50:22, root, DEBUG: -- Подсчет метрики в оптимизации\n",
      "02-Mar-20 12:50:55, root, DEBUG: -- Метрики: HitRate=0.8367 nDCG=5: 0.2363, 10: 0.2372, 3: 0.2365;  Precision=5: 0.2327, 10: 0.2259, 3: 0.2299;  MAP=5: 0.4199, 10: 0.4823, 3: 0.3723;  Recall=5: 0.0511, 10: 0.0956, 3: 0.0289;  Surprisal=5: 0.1837, 10: 0.2001, 3: 0.1777; \n",
      "[I 2020-03-02 12:50:55,175] Finished trial#1 resulted in value: 0.8367346938775511. Current best value is 0.8367346938775511 with parameters: {'rank': 99}.\n",
      "02-Mar-20 12:50:55, root, DEBUG: Лучшие значения метрики: 0.8367346938775511\n",
      "02-Mar-20 12:50:55, root, DEBUG: Лучшие параметры: {'rank': 99}\n"
     ]
    }
   ],
   "source": [
    "best_params = scenario.research(\n",
    "    lightfm_grid,\n",
    "    log,\n",
    "    k=10,\n",
    "    n_trials=2\n",
    ")"
   ]
  },
  {
   "cell_type": "code",
   "execution_count": 30,
   "metadata": {
    "autoscroll": false,
    "ein.hycell": false,
    "ein.tags": "worksheet-0",
    "pycharm": {
     "name": "#%%\n"
    },
    "scrolled": true,
    "slideshow": {
     "slide_type": "-"
    }
   },
   "outputs": [
    {
     "data": {
      "text/html": [
       "<div>\n",
       "<style scoped>\n",
       "    .dataframe tbody tr th:only-of-type {\n",
       "        vertical-align: middle;\n",
       "    }\n",
       "\n",
       "    .dataframe tbody tr th {\n",
       "        vertical-align: top;\n",
       "    }\n",
       "\n",
       "    .dataframe thead tr th {\n",
       "        text-align: left;\n",
       "    }\n",
       "</style>\n",
       "<table border=\"1\" class=\"dataframe\">\n",
       "  <thead>\n",
       "    <tr>\n",
       "      <th></th>\n",
       "      <th>number</th>\n",
       "      <th>state</th>\n",
       "      <th>value</th>\n",
       "      <th>datetime_start</th>\n",
       "      <th>datetime_complete</th>\n",
       "      <th>params</th>\n",
       "      <th colspan=\"5\" halign=\"left\">user_attrs</th>\n",
       "      <th>system_attrs</th>\n",
       "    </tr>\n",
       "    <tr>\n",
       "      <th></th>\n",
       "      <th></th>\n",
       "      <th></th>\n",
       "      <th></th>\n",
       "      <th></th>\n",
       "      <th></th>\n",
       "      <th>rank</th>\n",
       "      <th>MAP</th>\n",
       "      <th>Precision</th>\n",
       "      <th>Recall</th>\n",
       "      <th>Surprisal</th>\n",
       "      <th>nDCG</th>\n",
       "      <th>_number</th>\n",
       "    </tr>\n",
       "  </thead>\n",
       "  <tbody>\n",
       "    <tr>\n",
       "      <td>0</td>\n",
       "      <td>0</td>\n",
       "      <td>TrialState.COMPLETE</td>\n",
       "      <td>0.824490</td>\n",
       "      <td>2020-03-02 12:49:04.904374</td>\n",
       "      <td>2020-03-02 12:50:00.534919</td>\n",
       "      <td>96</td>\n",
       "      <td>{5: 0.4344302721088438, 10: 0.49440848945398286, 3: 0.3863945578231296}</td>\n",
       "      <td>{5: 0.22816326530612244, 10: 0.22000000000000003, 3: 0.23197278911564612}</td>\n",
       "      <td>{5: 0.05015937675062434, 10: 0.09147997078201499, 3: 0.030179258510114822}</td>\n",
       "      <td>{5: 0.18488822095928523, 10: 0.19968932311969173, 3: 0.1765698271694075}</td>\n",
       "      <td>{5: 0.23566075600991723, 10: 0.23378266711426007, 3: 0.24064550162129048}</td>\n",
       "      <td>0</td>\n",
       "    </tr>\n",
       "    <tr>\n",
       "      <td>1</td>\n",
       "      <td>1</td>\n",
       "      <td>TrialState.COMPLETE</td>\n",
       "      <td>0.836735</td>\n",
       "      <td>2020-03-02 12:50:00.618402</td>\n",
       "      <td>2020-03-02 12:50:55.175552</td>\n",
       "      <td>99</td>\n",
       "      <td>{5: 0.41987641723356034, 10: 0.48229889166550977, 3: 0.3723356009070299}</td>\n",
       "      <td>{5: 0.23265306122448987, 10: 0.22591836734693876, 3: 0.22993197278911556}</td>\n",
       "      <td>{5: 0.051131912575998105, 10: 0.09562767382225167, 3: 0.028924900576843365}</td>\n",
       "      <td>{5: 0.18365139229531297, 10: 0.20010869049915095, 3: 0.177733106514085}</td>\n",
       "      <td>{5: 0.2362501121479612, 10: 0.23723956587707856, 3: 0.23648390796753258}</td>\n",
       "      <td>1</td>\n",
       "    </tr>\n",
       "  </tbody>\n",
       "</table>\n",
       "</div>"
      ],
      "text/plain": [
       "  number                state     value             datetime_start  \\\n",
       "                                                                     \n",
       "0  0      TrialState.COMPLETE  0.824490 2020-03-02 12:49:04.904374   \n",
       "1  1      TrialState.COMPLETE  0.836735 2020-03-02 12:50:00.618402   \n",
       "\n",
       "           datetime_complete params  \\\n",
       "                               rank   \n",
       "0 2020-03-02 12:50:00.534919  96      \n",
       "1 2020-03-02 12:50:55.175552  99      \n",
       "\n",
       "                                                                 user_attrs  \\\n",
       "                                                                        MAP   \n",
       "0  {5: 0.4344302721088438, 10: 0.49440848945398286, 3: 0.3863945578231296}    \n",
       "1  {5: 0.41987641723356034, 10: 0.48229889166550977, 3: 0.3723356009070299}   \n",
       "\n",
       "                                                                              \\\n",
       "                                                                   Precision   \n",
       "0  {5: 0.22816326530612244, 10: 0.22000000000000003, 3: 0.23197278911564612}   \n",
       "1  {5: 0.23265306122448987, 10: 0.22591836734693876, 3: 0.22993197278911556}   \n",
       "\n",
       "                                                                                \\\n",
       "                                                                        Recall   \n",
       "0  {5: 0.05015937675062434, 10: 0.09147997078201499, 3: 0.030179258510114822}    \n",
       "1  {5: 0.051131912575998105, 10: 0.09562767382225167, 3: 0.028924900576843365}   \n",
       "\n",
       "                                                                             \\\n",
       "                                                                  Surprisal   \n",
       "0  {5: 0.18488822095928523, 10: 0.19968932311969173, 3: 0.1765698271694075}   \n",
       "1  {5: 0.18365139229531297, 10: 0.20010869049915095, 3: 0.177733106514085}    \n",
       "\n",
       "                                                                              \\\n",
       "                                                                        nDCG   \n",
       "0  {5: 0.23566075600991723, 10: 0.23378266711426007, 3: 0.24064550162129048}   \n",
       "1  {5: 0.2362501121479612, 10: 0.23723956587707856, 3: 0.23648390796753258}    \n",
       "\n",
       "  system_attrs  \n",
       "       _number  \n",
       "0  0            \n",
       "1  1            "
      ]
     },
     "execution_count": 30,
     "metadata": {},
     "output_type": "execute_result"
    }
   ],
   "source": [
    "results = pd.concat([scenario.study.trials_dataframe(), results], axis=0)\n",
    "\n",
    "results"
   ]
  },
  {
   "cell_type": "markdown",
   "metadata": {
    "ein.tags": "worksheet-0",
    "slideshow": {
     "slide_type": "-"
    }
   },
   "source": [
    "### Получение рекомендаций <a name=\"predict-scenario\"></a>"
   ]
  },
  {
   "cell_type": "code",
   "execution_count": 31,
   "metadata": {
    "autoscroll": false,
    "ein.hycell": false,
    "ein.tags": "worksheet-0",
    "pycharm": {
     "name": "#%%\n"
    },
    "scrolled": true,
    "slideshow": {
     "slide_type": "-"
    }
   },
   "outputs": [
    {
     "name": "stderr",
     "output_type": "stream",
     "text": [
      "02-Mar-20 12:52:07, root, DEBUG: Проверка датафреймов\n",
      "02-Mar-20 12:52:07, root, DEBUG: Предварительная стадия обучения (pre-fit)\n",
      "02-Mar-20 12:52:08, root, DEBUG: Основная стадия обучения (fit)\n",
      "02-Mar-20 12:52:08, root, DEBUG: Построение модели LightFM\n",
      "02-Mar-20 12:52:11, root, DEBUG: Проверка датафреймов\n",
      "02-Mar-20 12:52:11, root, DEBUG: Выделение дефолтных юзеров\n",
      "02-Mar-20 12:52:11, root, DEBUG: Выделение дефолтных айтемов\n"
     ]
    }
   ],
   "source": [
    "recs = scenario.production(\n",
    "    best_params, \n",
    "    log,\n",
    "    users=None, \n",
    "    items=None,\n",
    "    k=10\n",
    ")"
   ]
  },
  {
   "cell_type": "code",
   "execution_count": 32,
   "metadata": {
    "autoscroll": false,
    "ein.hycell": false,
    "ein.tags": "worksheet-0",
    "pycharm": {
     "name": "#%%\n"
    },
    "slideshow": {
     "slide_type": "-"
    }
   },
   "outputs": [
    {
     "name": "stdout",
     "output_type": "stream",
     "text": [
      "+-------+-------+--------------------+----------+\n",
      "|user_id|item_id|           relevance|   context|\n",
      "+-------+-------+--------------------+----------+\n",
      "|     91|    199|  1.6873581409454346|no_context|\n",
      "|     91|    300|   1.424494981765747|no_context|\n",
      "|     91|    510|  1.2464817762374878|no_context|\n",
      "|     91|    187|  1.0950274467468262|no_context|\n",
      "|     91|    511|  0.9866685271263123|no_context|\n",
      "|     91|    661|  0.9003154635429382|no_context|\n",
      "|     91|    520|  0.8502941727638245|no_context|\n",
      "|     91|    205|  0.8470395803451538|no_context|\n",
      "|     91|    526|  0.7202095985412598|no_context|\n",
      "|     91|    357|  0.5916959047317505|no_context|\n",
      "|    152|     88|  1.2064160108566284|no_context|\n",
      "|    152|    393|  0.9332276582717896|no_context|\n",
      "|    152|     66|  0.7043845057487488|no_context|\n",
      "|    152|     15|  0.5755499601364136|no_context|\n",
      "|    152|    237|  0.4729836881160736|no_context|\n",
      "|    152|    402| 0.45506852865219116|no_context|\n",
      "|    152|    781| 0.23700232803821564|no_context|\n",
      "|    152|     94| 0.12055042386054993|no_context|\n",
      "|    152|    739|0.041849780827760696|no_context|\n",
      "|    152|    451| 0.03583316132426262|no_context|\n",
      "+-------+-------+--------------------+----------+\n",
      "only showing top 20 rows\n",
      "\n"
     ]
    }
   ],
   "source": [
    "recs.show()"
   ]
  }
 ],
 "metadata": {
  "kernelspec": {
   "display_name": "Python 3",
   "language": "python",
   "name": "python3"
  },
  "language_info": {
   "codemirror_mode": {
    "name": "ipython",
    "version": 3
   },
   "file_extension": ".py",
   "mimetype": "text/x-python",
   "name": "python",
   "nbconvert_exporter": "python",
   "pygments_lexer": "ipython3",
   "version": "3.7.5"
  },
  "name": "scenario_test_movielnes100k.ipynb",
  "pycharm": {
   "stem_cell": {
    "cell_type": "raw",
    "metadata": {
     "collapsed": false
    },
    "source": null
   }
  }
 },
 "nbformat": 4,
 "nbformat_minor": 4
}
