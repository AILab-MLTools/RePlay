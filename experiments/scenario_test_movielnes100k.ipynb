{
 "cells": [
  {
   "cell_type": "markdown",
   "metadata": {
    "ein.tags": "worksheet-0",
    "slideshow": {
     "slide_type": "-"
    }
   },
   "source": [
    "# Scenario Integration Test\n",
    "\n",
    "Лаботоратория по искусственному интеллекту, Сбербанк. \n",
    "\n",
    "О чем: вызов сценариев с разными моделями.\n",
    "В качестве датасета используется датасет MovieLens100K. \n",
    "\n",
    "## Содержание\n",
    "\n",
    "1. [Импорты, создание спарк-сессии](#intro)\n",
    "2. [Загрузка данных](#data-loader)\n",
    "3. [Сценарии с разными моделями](#scenario)\n",
    "3.1 [Получение сценария через фабрику](#get-scenario)\n",
    "3.2 [Обучение сценария](#fit-scenario)"
   ]
  },
  {
   "cell_type": "markdown",
   "metadata": {
    "ein.tags": "worksheet-0",
    "slideshow": {
     "slide_type": "-"
    }
   },
   "source": [
    "### Импорты, создание спарк-сессии <a name='intro'></a>"
   ]
  },
  {
   "cell_type": "code",
   "execution_count": 1,
   "metadata": {
    "autoscroll": false,
    "collapsed": false,
    "ein.hycell": false,
    "ein.tags": "worksheet-0",
    "pycharm": {
     "name": "#%%\n"
    },
    "slideshow": {
     "slide_type": "-"
    }
   },
   "outputs": [],
   "source": [
    "%load_ext autoreload\n",
    "%autoreload 2\n",
    "%matplotlib inline"
   ]
  },
  {
   "cell_type": "code",
   "execution_count": 2,
   "metadata": {
    "autoscroll": false,
    "collapsed": false,
    "ein.hycell": false,
    "ein.tags": "worksheet-0",
    "pycharm": {
     "name": "#%%\n"
    },
    "slideshow": {
     "slide_type": "-"
    }
   },
   "outputs": [],
   "source": [
    "import logging\n",
    "import os\n",
    "import sys\n",
    "from datetime import datetime\n",
    "\n",
    "import matplotlib.pyplot as plt\n",
    "import pandas as pd\n",
    "from pyspark.sql import SparkSession\n",
    "from pyspark.sql import functions as sf"
   ]
  },
  {
   "cell_type": "code",
   "execution_count": 3,
   "metadata": {
    "autoscroll": false,
    "collapsed": false,
    "ein.hycell": false,
    "ein.tags": "worksheet-0",
    "pycharm": {
     "name": "#%%\n"
    },
    "slideshow": {
     "slide_type": "-"
    }
   },
   "outputs": [],
   "source": [
    "parent_dir = os.path.split(os.getcwd())[0]\n",
    "if parent_dir not in sys.path:\n",
    "    sys.path.append(parent_dir)"
   ]
  },
  {
   "cell_type": "code",
   "execution_count": 19,
   "metadata": {
    "autoscroll": false,
    "collapsed": false,
    "ein.hycell": false,
    "ein.tags": "worksheet-0",
    "pycharm": {
     "name": "#%%\n"
    },
    "slideshow": {
     "slide_type": "-"
    }
   },
   "outputs": [],
   "source": [
    "from sponge_bob_magic.data_loader.datasets import download_movielens\n",
    "from sponge_bob_magic.data_preparator.data_preparator import DataPreparator\n",
    "\n",
    "from sponge_bob_magic.splitters import log_splitter\n",
    "from sponge_bob_magic.splitters import user_log_splitter\n",
    "from sponge_bob_magic.metrics import metrics\n",
    "\n",
    "from sponge_bob_magic.models.popular_recomennder import PopularRecommender\n",
    "from sponge_bob_magic.models.als_recommender import ALSRecommender\n",
    "from sponge_bob_magic.models.knn_recommender import KNNRecommender\n",
    "from sponge_bob_magic.models.lightfm_recommender import LightFMRecommender\n",
    "\n",
    "from sponge_bob_magic.scenarios.main_scenario.main_factory import MainScenarioFactory"
   ]
  },
  {
   "cell_type": "code",
   "execution_count": 5,
   "metadata": {
    "autoscroll": false,
    "collapsed": false,
    "ein.hycell": false,
    "ein.tags": "worksheet-0",
    "pycharm": {
     "name": "#%%\n"
    },
    "slideshow": {
     "slide_type": "-"
    }
   },
   "outputs": [],
   "source": [
    "# отображение максимальной ширины колонок в pandas датафреймах\n",
    "pd.options.display.max_colwidth = -1"
   ]
  },
  {
   "cell_type": "code",
   "execution_count": 6,
   "metadata": {
    "autoscroll": false,
    "collapsed": false,
    "ein.hycell": false,
    "ein.tags": "worksheet-0",
    "pycharm": {
     "name": "#%%\n"
    },
    "slideshow": {
     "slide_type": "-"
    }
   },
   "outputs": [
    {
     "data": {
      "text/html": [
       "\n",
       "            <div>\n",
       "                <p><b>SparkSession - hive</b></p>\n",
       "                \n",
       "        <div>\n",
       "            <p><b>SparkContext</b></p>\n",
       "\n",
       "            <p><a href=\"http://192.168.43.159:4040\">Spark UI</a></p>\n",
       "\n",
       "            <dl>\n",
       "              <dt>Version</dt>\n",
       "                <dd><code>v2.4.4</code></dd>\n",
       "              <dt>Master</dt>\n",
       "                <dd><code>local[*]</code></dd>\n",
       "              <dt>AppName</dt>\n",
       "                <dd><code>pyspark-shell</code></dd>\n",
       "            </dl>\n",
       "        </div>\n",
       "        \n",
       "            </div>\n",
       "        "
      ],
      "text/plain": [
       "<pyspark.sql.session.SparkSession at 0x122be8510>"
      ]
     },
     "execution_count": 6,
     "metadata": {},
     "output_type": "execute_result"
    }
   ],
   "source": [
    "spark_memory = \"5g\"\n",
    "spark_cores = \"*\"\n",
    "user_home = os.environ[\"HOME\"]\n",
    "\n",
    "spark = (\n",
    "    SparkSession\n",
    "    .builder\n",
    "    .config(\"spark.driver.memory\", spark_memory)\n",
    "    .config(\"spark.local.dir\", os.path.join(user_home, \"tmp\"))\n",
    "    .master(f\"local[{spark_cores}]\")\n",
    "    .enableHiveSupport()\n",
    "    .getOrCreate()\n",
    ")\n",
    "\n",
    "spark"
   ]
  },
  {
   "cell_type": "code",
   "execution_count": 7,
   "metadata": {
    "autoscroll": false,
    "collapsed": false,
    "ein.hycell": false,
    "ein.tags": "worksheet-0",
    "pycharm": {
     "name": "#%%\n"
    },
    "slideshow": {
     "slide_type": "-"
    }
   },
   "outputs": [],
   "source": [
    "spark_logger = logging.getLogger(\"py4j\")\n",
    "spark_logger.setLevel(logging.WARN)"
   ]
  },
  {
   "cell_type": "code",
   "execution_count": 8,
   "metadata": {
    "autoscroll": false,
    "collapsed": false,
    "ein.hycell": false,
    "ein.tags": "worksheet-0",
    "pycharm": {
     "name": "#%%\n"
    },
    "slideshow": {
     "slide_type": "-"
    }
   },
   "outputs": [],
   "source": [
    "logger = logging.getLogger()\n",
    "formatter = logging.Formatter(\"%(asctime)s, %(name)s, %(levelname)s: %(message)s\",\n",
    "                              datefmt=\"%d-%b-%y %H:%M:%S\")\n",
    "hdlr = logging.StreamHandler()\n",
    "hdlr.setFormatter(formatter)\n",
    "logger.addHandler(hdlr)\n",
    "logger.setLevel(logging.DEBUG)"
   ]
  },
  {
   "cell_type": "markdown",
   "metadata": {
    "ein.tags": "worksheet-0",
    "slideshow": {
     "slide_type": "-"
    }
   },
   "source": [
    "## Загрузка данных <a name=\"data-loader\"></a>"
   ]
  },
  {
   "cell_type": "code",
   "execution_count": 9,
   "metadata": {
    "autoscroll": false,
    "collapsed": false,
    "ein.hycell": false,
    "ein.tags": "worksheet-0",
    "pycharm": {
     "name": "#%%\n"
    },
    "slideshow": {
     "slide_type": "-"
    }
   },
   "outputs": [],
   "source": [
    "path_data = os.path.join(os.environ[\"HOME\"], \"data\")\n",
    "\n",
    "if not os.path.exists(path_data):\n",
    "    os.mkdir(path_data)\n",
    "    \n",
    "if not os.path.exists(os.path.join(path_data, \"ml-100k\")):\n",
    "    download_movielens(path_data, \"ml-100k\")"
   ]
  },
  {
   "cell_type": "markdown",
   "metadata": {
    "ein.tags": "worksheet-0",
    "slideshow": {
     "slide_type": "-"
    }
   },
   "source": [
    "## Подготовка данных <a name=\"data-preparator\"></a>"
   ]
  },
  {
   "cell_type": "code",
   "execution_count": 10,
   "metadata": {
    "autoscroll": false,
    "collapsed": false,
    "ein.hycell": false,
    "ein.tags": "worksheet-0",
    "pycharm": {
     "name": "#%%\n"
    },
    "slideshow": {
     "slide_type": "-"
    }
   },
   "outputs": [],
   "source": [
    "path_log = os.path.join(path_data, \"ml-100k\", \"u.data\")"
   ]
  },
  {
   "cell_type": "code",
   "execution_count": 11,
   "metadata": {
    "autoscroll": false,
    "collapsed": false,
    "ein.hycell": false,
    "ein.tags": "worksheet-0",
    "pycharm": {
     "name": "#%%\n"
    },
    "slideshow": {
     "slide_type": "-"
    }
   },
   "outputs": [],
   "source": [
    "dp = DataPreparator(spark)\n",
    "\n",
    "log = dp.transform_log(\n",
    "    path_log,\n",
    "    format_type=\"csv\",\n",
    "    columns_names={\n",
    "        \"user_id\": \"_c0\", \n",
    "        \"item_id\": \"_c1\",\n",
    "        \"timestamp\": \"_c3\"\n",
    "    },\n",
    "    sep=\"\\t\",\n",
    "    date_format=None,\n",
    "    header=False\n",
    ")"
   ]
  },
  {
   "cell_type": "code",
   "execution_count": 12,
   "metadata": {
    "autoscroll": false,
    "collapsed": false,
    "ein.hycell": false,
    "ein.tags": "worksheet-0",
    "pycharm": {
     "name": "#%%\n"
    },
    "slideshow": {
     "slide_type": "-"
    }
   },
   "outputs": [
    {
     "name": "stdout",
     "output_type": "stream",
     "text": [
      "+-------+-------+-------------------+----------+---------+\n",
      "|user_id|item_id|          timestamp|   context|relevance|\n",
      "+-------+-------+-------------------+----------+---------+\n",
      "|    196|    242|1997-12-04 18:55:49|no_context|      1.0|\n",
      "|    186|    302|1998-04-04 23:22:22|no_context|      1.0|\n",
      "|     22|    377|1997-11-07 10:18:36|no_context|      1.0|\n",
      "+-------+-------+-------------------+----------+---------+\n",
      "only showing top 3 rows\n"
     ]
    },
    {
     "name": "stdout",
     "output_type": "stream",
     "text": [
      "\n"
     ]
    }
   ],
   "source": [
    "log.show(3)"
   ]
  },
  {
   "cell_type": "code",
   "execution_count": 13,
   "metadata": {
    "autoscroll": false,
    "collapsed": false,
    "ein.hycell": false,
    "ein.tags": "worksheet-0",
    "pycharm": {
     "name": "#%%\n"
    },
    "slideshow": {
     "slide_type": "-"
    }
   },
   "outputs": [
    {
     "data": {
      "text/plain": [
       "100000"
      ]
     },
     "execution_count": 13,
     "metadata": {},
     "output_type": "execute_result"
    }
   ],
   "source": [
    "log.count()"
   ]
  },
  {
   "cell_type": "code",
   "execution_count": 14,
   "metadata": {
    "autoscroll": false,
    "collapsed": false,
    "ein.hycell": false,
    "ein.tags": "worksheet-0",
    "slideshow": {
     "slide_type": "-"
    }
   },
   "outputs": [
    {
     "name": "stdout",
     "output_type": "stream",
     "text": [
      "+-------+-------+---------+-------+---------+\n",
      "|user_id|item_id|timestamp|context|relevance|\n",
      "+-------+-------+---------+-------+---------+\n",
      "|      0|      0|        0|      0|        0|\n",
      "+-------+-------+---------+-------+---------+\n"
     ]
    },
    {
     "name": "stdout",
     "output_type": "stream",
     "text": [
      "\n"
     ]
    }
   ],
   "source": [
    "log.select([\n",
    "    sf.count(sf.when(sf.col(c).isNull(), c)).alias(c) \n",
    "    for c in log.columns\n",
    "]).show()"
   ]
  },
  {
   "cell_type": "code",
   "execution_count": 15,
   "metadata": {
    "autoscroll": false,
    "collapsed": false,
    "ein.hycell": false,
    "ein.tags": "worksheet-0",
    "pycharm": {
     "name": "#%%\n"
    },
    "slideshow": {
     "slide_type": "-"
    }
   },
   "outputs": [
    {
     "name": "stdout",
     "output_type": "stream",
     "text": [
      "+-------+-------+---------+-------+---------+\n",
      "|user_id|item_id|timestamp|context|relevance|\n",
      "+-------+-------+---------+-------+---------+\n",
      "|    943|   1682|    49282|      1|        1|\n",
      "+-------+-------+---------+-------+---------+\n"
     ]
    },
    {
     "name": "stdout",
     "output_type": "stream",
     "text": [
      "\n"
     ]
    }
   ],
   "source": [
    "log.agg(*(sf.countDistinct(sf.col(c)).alias(c) for c in log.columns)).show()"
   ]
  },
  {
   "cell_type": "code",
   "execution_count": 16,
   "metadata": {
    "autoscroll": false,
    "collapsed": false,
    "ein.hycell": false,
    "ein.tags": "worksheet-0",
    "pycharm": {
     "name": "#%%\n"
    },
    "slideshow": {
     "slide_type": "-"
    }
   },
   "outputs": [
    {
     "name": "stdout",
     "output_type": "stream",
     "text": [
      "+-------------------+-------------------+\n",
      "|     min(timestamp)|     max(timestamp)|\n",
      "+-------------------+-------------------+\n",
      "|1997-09-20 07:05:10|1998-04-23 03:10:38|\n",
      "+-------------------+-------------------+\n"
     ]
    },
    {
     "name": "stdout",
     "output_type": "stream",
     "text": [
      "\n"
     ]
    }
   ],
   "source": [
    "log.agg(sf.min(sf.col(\"timestamp\")), sf.max(sf.col(\"timestamp\"))).show()"
   ]
  },
  {
   "cell_type": "code",
   "execution_count": 17,
   "metadata": {
    "autoscroll": false,
    "collapsed": false,
    "ein.hycell": false,
    "ein.tags": "worksheet-0",
    "pycharm": {
     "name": "#%%\n"
    },
    "slideshow": {
     "slide_type": "-"
    }
   },
   "outputs": [
    {
     "data": {
      "text/plain": [
       "59.45303210463734"
      ]
     },
     "execution_count": 17,
     "metadata": {},
     "output_type": "execute_result"
    }
   ],
   "source": [
    "avg_num_users = (\n",
    "    log\n",
    "    .select(\"user_id\", \"item_id\")\n",
    "    .groupBy(\"item_id\")\n",
    "    .count()\n",
    "    .select(sf.mean(sf.col(\"count\")).alias(\"mean\"))\n",
    "    .collect()[0][\"mean\"]\n",
    ")\n",
    "\n",
    "avg_num_users"
   ]
  },
  {
   "cell_type": "markdown",
   "metadata": {
    "ein.tags": "worksheet-0",
    "slideshow": {
     "slide_type": "-"
    }
   },
   "source": [
    "## Сценарии с разными моделями <a name=\"scenario\"></a>"
   ]
  },
  {
   "cell_type": "markdown",
   "metadata": {
    "ein.tags": "worksheet-0",
    "slideshow": {
     "slide_type": "-"
    }
   },
   "source": [
    "### Получение сценария через фабрику <a name=\"get-scenario\"></a>"
   ]
  },
  {
   "cell_type": "code",
   "execution_count": 20,
   "metadata": {
    "autoscroll": false,
    "collapsed": false,
    "ein.hycell": false,
    "ein.tags": "worksheet-0",
    "pycharm": {
     "name": "#%%\n"
    },
    "slideshow": {
     "slide_type": "-"
    }
   },
   "outputs": [],
   "source": [
    "popular_recommender = PopularRecommender(spark)\n",
    "als_recommender = ALSRecommender(spark)\n",
    "knn_recommender = KNNRecommender(spark)\n",
    "lightfm_recommender = LightFMRecommender(spark)"
   ]
  },
  {
   "cell_type": "code",
   "execution_count": 21,
   "metadata": {
    "autoscroll": false,
    "collapsed": false,
    "ein.hycell": false,
    "ein.tags": "worksheet-0",
    "pycharm": {
     "name": "#%%\n"
    },
    "slideshow": {
     "slide_type": "-"
    }
   },
   "outputs": [],
   "source": [
    "log_bydate_splitter = log_splitter.LogSplitByDateSplitter(\n",
    "    spark, True, True,\n",
    "    datetime(2007, 1, 1)\n",
    ")\n",
    "\n",
    "log_random_splitter = log_splitter.LogSplitRandomlySplitter(\n",
    "    spark, True, True,\n",
    "    test_size=0.3, seed=1234\n",
    ")\n",
    "\n",
    "log_cold_splitter = log_splitter.ColdUsersExtractingSplitter(\n",
    "    spark, True, True,\n",
    "    test_size=0.3\n",
    ")\n",
    "\n",
    "user_random_splitter = user_log_splitter.RandomUserLogSplitter(\n",
    "    spark, True, True,\n",
    "    item_test_size=0.3,\n",
    "    seed=1234,\n",
    "    user_test_size=500\n",
    ")\n",
    "\n",
    "user_bydate_splitter = user_log_splitter.ByTimeUserLogSplitter(\n",
    "    spark, True, True,\n",
    "    item_test_size=0.3,\n",
    "    seed=1234,\n",
    "    user_test_size=500\n",
    ")"
   ]
  },
  {
   "cell_type": "code",
   "execution_count": 20,
   "metadata": {},
   "outputs": [],
   "source": [
    "factory = MainScenarioFactory(spark)"
   ]
  },
  {
   "cell_type": "markdown",
   "metadata": {
    "ein.tags": "worksheet-0",
    "slideshow": {
     "slide_type": "-"
    }
   },
   "source": [
    "### Обучение сценария <a name=\"fit-scenario\"></a>"
   ]
  },
  {
   "cell_type": "code",
   "execution_count": 22,
   "metadata": {
    "autoscroll": false,
    "ein.hycell": false,
    "ein.tags": "worksheet-0",
    "slideshow": {
     "slide_type": "-"
    }
   },
   "outputs": [],
   "source": [
    "results = None"
   ]
  },
  {
   "cell_type": "code",
   "execution_count": 32,
   "metadata": {
    "autoscroll": false,
    "collapsed": false,
    "ein.hycell": false,
    "ein.tags": "worksheet-0",
    "pycharm": {
     "name": "#%%\n"
    },
    "slideshow": {
     "slide_type": "-"
    }
   },
   "outputs": [],
   "source": [
    "scenario = factory.get(\n",
    "    splitter=user_random_splitter,\n",
    "    recommender=knn_recommender,\n",
    "    criterion=metrics.HitRateMetric(spark),\n",
    "    metrics=[\n",
    "        metrics.NDCGMetric(spark),\n",
    "        metrics.PrecisionMetric(spark),\n",
    "        metrics.MAPMetric(spark),\n",
    "        metrics.RecallMetric(spark),\n",
    "        metrics.Surprisal(spark, log),\n",
    "    ],\n",
    "    fallback_recommender=popular_recommender,\n",
    ")"
   ]
  },
  {
   "cell_type": "code",
   "execution_count": 23,
   "metadata": {
    "autoscroll": false,
    "collapsed": false,
    "ein.hycell": false,
    "ein.tags": "worksheet-0",
    "pycharm": {
     "name": "#%%\n"
    },
    "slideshow": {
     "slide_type": "-"
    }
   },
   "outputs": [],
   "source": [
    "popular_grid = {\n",
    "    \"alpha\": {\"type\": \"int\", \"args\": [0, 10]},\n",
    "    \"beta\": {\"type\": \"int\", \"args\": [0, 10]}\n",
    "}\n",
    "\n",
    "als_grid = {\n",
    "    \"rank\": {\"type\": \"discrete_uniform\", \"args\": [10, 100, 10]}\n",
    "}\n",
    "\n",
    "lightfm_grid = {\n",
    "    \"rank\": {\"type\": \"int\", \"args\": [10, 100]}\n",
    "}\n",
    "\n",
    "knn_grid = {\n",
    "    \"shrink\": {\"type\": \"discrete_uniform\", \"args\": [10, 50, 10]},\n",
    "    \"num_neighbours\": {\"type\": \"discrete_uniform\", \"args\": [0, 10, 1]},\n",
    "}"
   ]
  },
  {
   "cell_type": "code",
   "execution_count": 24,
   "metadata": {
    "autoscroll": false,
    "collapsed": false,
    "ein.hycell": false,
    "ein.tags": "worksheet-0",
    "pycharm": {
     "name": "#%%\n"
    },
    "scrolled": false,
    "slideshow": {
     "slide_type": "-"
    }
   },
   "outputs": [
    {
     "name": "stderr",
     "output_type": "stream",
     "text": [
      "21-Jan-20 10:13:26, root, DEBUG: Деление лога на обучающую и тестовую выборку\n",
      "21-Jan-20 10:13:42, root, DEBUG: Длина трейна и теста: (84407, 15571)\n",
      "21-Jan-20 10:13:44, root, DEBUG: Количество пользователей в трейне и тесте: 943, 494\n",
      "21-Jan-20 10:13:45, root, DEBUG: Количество объектов в трейне и тесте: 1661, 1329\n",
      "21-Jan-20 10:13:45, root, DEBUG: Обучение и предсказание дополнительной модели\n",
      "21-Jan-20 10:13:45, root, DEBUG: Проверка датафреймов\n",
      "21-Jan-20 10:13:46, root, DEBUG: Предварительная стадия обучения (pre-fit)\n",
      "21-Jan-20 10:13:47, root, DEBUG: Среднее количество items у каждого user: 90\n",
      "21-Jan-20 10:13:49, root, DEBUG: Основная стадия обучения (fit)\n",
      "21-Jan-20 10:13:49, root, DEBUG: Проверка датафреймов\n",
      "21-Jan-20 10:13:54, root, DEBUG: Количество items после фильтрации: 100\n",
      "21-Jan-20 10:13:58, root, DEBUG: Пре-фит модели\n",
      "21-Jan-20 10:14:11, root, DEBUG: -------------\n",
      "21-Jan-20 10:14:11, root, DEBUG: Оптимизация параметров\n",
      "21-Jan-20 10:14:11, root, DEBUG: Максимальное количество попыток: 100 (чтобы поменять его, задайте параметр 'optuna_max_n_trials')\n",
      "21-Jan-20 10:14:12, root, DEBUG: -- Параметры: {'shrink': 50.0, 'num_neighbours': 0.0}\n",
      "21-Jan-20 10:14:12, root, DEBUG: -- Сохраняем optuna study на диск\n",
      "21-Jan-20 10:14:12, root, DEBUG: -- Второй фит модели в оптимизации\n",
      "21-Jan-20 10:14:17, root, DEBUG: -- Предикт модели в оптимизации\n",
      "21-Jan-20 10:14:17, root, DEBUG: Проверка датафреймов\n",
      "21-Jan-20 10:14:21, root, DEBUG: -- Дополняем рекомендации fallback рекомендациями\n",
      "21-Jan-20 10:14:21, root, DEBUG: -- Длина рекомендаций: 0\n",
      "21-Jan-20 10:14:24, root, DEBUG: -- Длина рекомендаций после добавления fallback-рекомендаций: 4940\n",
      "21-Jan-20 10:14:24, root, DEBUG: -- Подсчет метрики в оптимизации\n",
      "21-Jan-20 10:14:53, root, DEBUG: -- Метрики: HitRate@K=0.8462 nDCG@k=0.2780 Precision@k=0.2585 MAP@k=0.0473 Recall@K=0.1102 Surprisal@K=1.0811\n",
      "[I 2020-01-21 10:14:53,792] Finished trial#0 resulted in value: 0.8461538461538461. Current best value is 0.8461538461538461 with parameters: {'shrink': 50.0, 'num_neighbours': 0.0}.\n",
      "21-Jan-20 10:14:53, root, DEBUG: -- Параметры: {'shrink': 20.0, 'num_neighbours': 7.0}\n",
      "21-Jan-20 10:14:53, root, DEBUG: -- Сохраняем optuna study на диск\n",
      "21-Jan-20 10:14:53, root, DEBUG: -- Второй фит модели в оптимизации\n",
      "21-Jan-20 10:15:00, root, DEBUG: -- Предикт модели в оптимизации\n",
      "21-Jan-20 10:15:00, root, DEBUG: Проверка датафреймов\n",
      "21-Jan-20 10:15:09, root, DEBUG: -- Дополняем рекомендации fallback рекомендациями\n",
      "21-Jan-20 10:15:09, root, DEBUG: -- Длина рекомендаций: 4940\n",
      "21-Jan-20 10:15:11, root, DEBUG: -- Длина рекомендаций после добавления fallback-рекомендаций: 4940\n",
      "21-Jan-20 10:15:11, root, DEBUG: -- Подсчет метрики в оптимизации\n",
      "21-Jan-20 10:15:40, root, DEBUG: -- Метрики: HitRate@K=0.9453 nDCG@k=0.4570 Precision@k=0.4067 MAP@k=0.1023 Recall@K=0.1958 Surprisal@K=1.6343\n",
      "[I 2020-01-21 10:15:40,872] Finished trial#1 resulted in value: 0.9453441295546559. Current best value is 0.9453441295546559 with parameters: {'shrink': 20.0, 'num_neighbours': 7.0}.\n",
      "21-Jan-20 10:15:40, root, DEBUG: Лучшие значения метрики: 0.9453441295546559\n",
      "21-Jan-20 10:15:40, root, DEBUG: Лучшие параметры: {'shrink': 20.0, 'num_neighbours': 7.0}\n"
     ]
    }
   ],
   "source": [
    "best_params = scenario.research(\n",
    "    lightfm_grid,\n",
    "    log,\n",
    "    k=10,\n",
    "    n_trials=2\n",
    ")"
   ]
  },
  {
   "cell_type": "code",
   "execution_count": 25,
   "metadata": {
    "autoscroll": false,
    "collapsed": false,
    "ein.hycell": false,
    "ein.tags": "worksheet-0",
    "pycharm": {
     "name": "#%%\n"
    },
    "scrolled": true,
    "slideshow": {
     "slide_type": "-"
    }
   },
   "outputs": [
    {
     "data": {
      "text/html": [
       "<div>\n",
       "<style scoped>\n",
       "    .dataframe tbody tr th:only-of-type {\n",
       "        vertical-align: middle;\n",
       "    }\n",
       "\n",
       "    .dataframe tbody tr th {\n",
       "        vertical-align: top;\n",
       "    }\n",
       "\n",
       "    .dataframe thead tr th {\n",
       "        text-align: left;\n",
       "    }\n",
       "</style>\n",
       "<table border=\"1\" class=\"dataframe\">\n",
       "  <thead>\n",
       "    <tr>\n",
       "      <th></th>\n",
       "      <th>number</th>\n",
       "      <th>state</th>\n",
       "      <th>value</th>\n",
       "      <th>datetime_start</th>\n",
       "      <th>datetime_complete</th>\n",
       "      <th colspan=\"2\" halign=\"left\">params</th>\n",
       "      <th colspan=\"5\" halign=\"left\">user_attrs</th>\n",
       "      <th>system_attrs</th>\n",
       "    </tr>\n",
       "    <tr>\n",
       "      <th></th>\n",
       "      <th></th>\n",
       "      <th></th>\n",
       "      <th></th>\n",
       "      <th></th>\n",
       "      <th></th>\n",
       "      <th>num_neighbours</th>\n",
       "      <th>shrink</th>\n",
       "      <th>MAP@k</th>\n",
       "      <th>Precision@k</th>\n",
       "      <th>Recall@K</th>\n",
       "      <th>Surprisal@K</th>\n",
       "      <th>nDCG@k</th>\n",
       "      <th>_number</th>\n",
       "    </tr>\n",
       "  </thead>\n",
       "  <tbody>\n",
       "    <tr>\n",
       "      <th>0</th>\n",
       "      <td>0</td>\n",
       "      <td>TrialState.COMPLETE</td>\n",
       "      <td>0.846154</td>\n",
       "      <td>2020-01-21 10:14:12.050222</td>\n",
       "      <td>2020-01-21 10:14:53.791877</td>\n",
       "      <td>0.0</td>\n",
       "      <td>50.0</td>\n",
       "      <td>0.047297</td>\n",
       "      <td>0.258502</td>\n",
       "      <td>0.110151</td>\n",
       "      <td>1.081149</td>\n",
       "      <td>0.278023</td>\n",
       "      <td>0</td>\n",
       "    </tr>\n",
       "    <tr>\n",
       "      <th>1</th>\n",
       "      <td>1</td>\n",
       "      <td>TrialState.COMPLETE</td>\n",
       "      <td>0.945344</td>\n",
       "      <td>2020-01-21 10:14:53.935059</td>\n",
       "      <td>2020-01-21 10:15:40.872384</td>\n",
       "      <td>7.0</td>\n",
       "      <td>20.0</td>\n",
       "      <td>0.102325</td>\n",
       "      <td>0.406680</td>\n",
       "      <td>0.195762</td>\n",
       "      <td>1.634319</td>\n",
       "      <td>0.457021</td>\n",
       "      <td>1</td>\n",
       "    </tr>\n",
       "  </tbody>\n",
       "</table>\n",
       "</div>"
      ],
      "text/plain": [
       "  number                state     value             datetime_start  \\\n",
       "                                                                     \n",
       "0  0      TrialState.COMPLETE  0.846154 2020-01-21 10:14:12.050222   \n",
       "1  1      TrialState.COMPLETE  0.945344 2020-01-21 10:14:53.935059   \n",
       "\n",
       "           datetime_complete         params        user_attrs              \\\n",
       "                             num_neighbours shrink      MAP@k Precision@k   \n",
       "0 2020-01-21 10:14:53.791877  0.0            50.0   0.047297   0.258502     \n",
       "1 2020-01-21 10:15:40.872384  7.0            20.0   0.102325   0.406680     \n",
       "\n",
       "                                  system_attrs  \n",
       "   Recall@K Surprisal@K    nDCG@k      _number  \n",
       "0  0.110151  1.081149    0.278023  0            \n",
       "1  0.195762  1.634319    0.457021  1            "
      ]
     },
     "execution_count": 25,
     "metadata": {},
     "output_type": "execute_result"
    }
   ],
   "source": [
    "results = pd.concat([scenario.study.trials_dataframe(), results], axis=0)\n",
    "\n",
    "results"
   ]
  },
  {
   "cell_type": "markdown",
   "metadata": {
    "ein.tags": "worksheet-0",
    "slideshow": {
     "slide_type": "-"
    }
   },
   "source": [
    "### Получение рекомендаций <a name=\"predict-scenario\"></a>"
   ]
  },
  {
   "cell_type": "code",
   "execution_count": 26,
   "metadata": {
    "autoscroll": false,
    "collapsed": false,
    "ein.hycell": false,
    "ein.tags": "worksheet-0",
    "pycharm": {
     "name": "#%%\n"
    },
    "scrolled": true,
    "slideshow": {
     "slide_type": "-"
    }
   },
   "outputs": [
    {
     "name": "stderr",
     "output_type": "stream",
     "text": [
      "21-Jan-20 10:15:40, root, DEBUG: Проверка датафреймов\n",
      "21-Jan-20 10:15:41, root, DEBUG: Предварительная стадия обучения (pre-fit)\n",
      "21-Jan-20 10:16:02, root, DEBUG: Основная стадия обучения (fit)\n",
      "21-Jan-20 10:16:08, root, DEBUG: Проверка датафреймов\n",
      "21-Jan-20 10:16:08, root, DEBUG: Выделение дефолтных юзеров\n",
      "21-Jan-20 10:16:08, root, DEBUG: Выделение дефолтных айтемов\n"
     ]
    }
   ],
   "source": [
    "recs = scenario.production(\n",
    "    best_params, \n",
    "    log,\n",
    "    users=None, \n",
    "    items=None,\n",
    "    k=10\n",
    ")"
   ]
  },
  {
   "cell_type": "code",
   "execution_count": 27,
   "metadata": {
    "autoscroll": false,
    "collapsed": false,
    "ein.hycell": false,
    "ein.tags": "worksheet-0",
    "pycharm": {
     "name": "#%%\n"
    },
    "slideshow": {
     "slide_type": "-"
    }
   },
   "outputs": [
    {
     "name": "stdout",
     "output_type": "stream",
     "text": [
      "+-------+-------+------------------+----------+\n",
      "|user_id|item_id|         relevance|   context|\n",
      "+-------+-------+------------------+----------+\n",
      "|    114|    174|1.6172478199005127|no_context|\n",
      "|    114|    135|1.3242319822311401|no_context|\n",
      "|    114|    197|1.2539494037628174|no_context|\n",
      "|    114|    435|1.0871384143829346|no_context|\n",
      "|    114|    483|0.9926429986953735|no_context|\n",
      "|    114|    211|0.9692991375923157|no_context|\n",
      "|    114|    514|0.9686022400856018|no_context|\n",
      "|    114|    191|0.9193177223205566|no_context|\n",
      "|    114|    511|0.7889890074729919|no_context|\n",
      "|    114|    194|0.7673931121826172|no_context|\n",
      "|    242|    286|1.4957059621810913|no_context|\n",
      "|    242|    258| 1.039796233177185|no_context|\n",
      "|    242|    300|1.0174559354782104|no_context|\n",
      "|    242|    294|0.9061682820320129|no_context|\n",
      "|    242|    237|0.8817647695541382|no_context|\n",
      "|    242|    289|0.8736652731895447|no_context|\n",
      "|    242|    100|0.8656629920005798|no_context|\n",
      "|    242|    269|0.8325066566467285|no_context|\n",
      "|    242|    301|0.7426415085792542|no_context|\n",
      "|    242|    276|0.7157723903656006|no_context|\n",
      "+-------+-------+------------------+----------+\n",
      "only showing top 20 rows\n"
     ]
    },
    {
     "name": "stdout",
     "output_type": "stream",
     "text": [
      "\n"
     ]
    }
   ],
   "source": [
    "recs.show()"
   ]
  }
 ],
 "metadata": {
  "kernelspec": {
   "argv": [
    "python",
    "-m",
    "ipykernel_launcher",
    "-f",
    "{connection_file}"
   ],
   "display_name": "Python 3",
   "env": null,
   "interrupt_mode": "signal",
   "language": "python",
   "metadata": null,
   "name": "python3"
  },
  "language_info": {
   "codemirror_mode": {
    "name": "ipython",
    "version": 3
   },
   "file_extension": ".py",
   "mimetype": "text/x-python",
   "name": "python",
   "nbconvert_exporter": "python",
   "pygments_lexer": "ipython3",
   "version": "3.7.5"
  },
  "name": "scenario_test_movielnes100k.ipynb",
  "pycharm": {
   "stem_cell": {
    "cell_type": "raw",
    "metadata": {
     "collapsed": false
    },
    "source": null
   }
  }
 },
 "nbformat": 4,
 "nbformat_minor": 2
}
