{
 "cells": [
  {
   "cell_type": "markdown",
   "metadata": {
    "ein.tags": "worksheet-0",
    "slideshow": {
     "slide_type": "-"
    }
   },
   "source": [
    "# Scenario Integration Test\n",
    "\n",
    "Лаботоратория по искусственному интеллекту, Сбербанк. \n",
    "\n",
    "О чем: вызов сценариев с разными моделями.\n",
    "В качестве датасета используется датасет MovieLens100K. \n",
    "\n",
    "## Содержание\n",
    "\n",
    "1. [Импорты, создание спарк-сессии](#intro)\n",
    "2. [Загрузка данных](#data-loader)\n",
    "3. [Сценарии с разными моделями](#scenario)\n",
    "3.1 [Получение сценария через фабрику](#get-scenario)\n",
    "3.2 [Обучение сценария](#fit-scenario)"
   ]
  },
  {
   "cell_type": "markdown",
   "metadata": {
    "ein.tags": "worksheet-0",
    "slideshow": {
     "slide_type": "-"
    }
   },
   "source": [
    "### Импорты, создание спарк-сессии <a name='intro'></a>"
   ]
  },
  {
   "cell_type": "code",
   "execution_count": 1,
   "metadata": {
    "autoscroll": false,
    "collapsed": false,
    "ein.hycell": false,
    "ein.tags": "worksheet-0",
    "pycharm": {
     "name": "#%%\n"
    },
    "slideshow": {
     "slide_type": "-"
    }
   },
   "outputs": [],
   "source": [
    "%load_ext autoreload\n",
    "%autoreload 2\n",
    "%matplotlib inline"
   ]
  },
  {
   "cell_type": "code",
   "execution_count": 35,
   "metadata": {
    "autoscroll": false,
    "collapsed": false,
    "ein.hycell": false,
    "ein.tags": "worksheet-0",
    "pycharm": {
     "name": "#%%\n"
    },
    "slideshow": {
     "slide_type": "-"
    }
   },
   "outputs": [],
   "source": [
    "import logging\n",
    "import os\n",
    "import sys\n",
    "from datetime import datetime\n",
    "\n",
    "import matplotlib.pyplot as plt\n",
    "import pandas as pd\n",
    "from sponge_bob_magic.datasets.movielens import MovieLens\n",
    "from sponge_bob_magic.data_preparator.data_preparator import DataPreparator\n",
    "\n",
    "from sponge_bob_magic.splitters import log_splitter\n",
    "from sponge_bob_magic.splitters import user_log_splitter\n",
    "from sponge_bob_magic.metrics import metrics\n",
    "\n",
    "from sponge_bob_magic.models.popular_recomennder import PopularRecommender\n",
    "from sponge_bob_magic.models.als_recommender import ALSRecommender\n",
    "from sponge_bob_magic.models.knn_recommender import KNNRecommender\n",
    "from sponge_bob_magic.models.lightfm_recommender import LightFMRecommender\n",
    "\n",
    "from sponge_bob_magic.scenarios.main_scenario.main_factory import MainScenarioFactory\n",
    "from sponge_bob_magic.utils import  get_spark_session\n",
    "from sponge_bob_magic.constants import DEFAULT_CONTEXT\n",
    "from pyspark.sql.functions import lit"
   ]
  },
  {
   "cell_type": "code",
   "execution_count": 10,
   "metadata": {
    "autoscroll": false,
    "collapsed": false,
    "ein.hycell": false,
    "ein.tags": "worksheet-0",
    "pycharm": {
     "name": "#%%\n"
    },
    "slideshow": {
     "slide_type": "-"
    }
   },
   "outputs": [],
   "source": [
    "# отображение максимальной ширины колонок в pandas датафреймах\n",
    "pd.options.display.max_colwidth = -1"
   ]
  },
  {
   "cell_type": "code",
   "execution_count": 11,
   "metadata": {
    "autoscroll": false,
    "collapsed": false,
    "ein.hycell": false,
    "ein.tags": "worksheet-0",
    "pycharm": {
     "name": "#%%\n"
    },
    "slideshow": {
     "slide_type": "-"
    }
   },
   "outputs": [
    {
     "data": {
      "text/html": [
       "\n            <div>\n                <p><b>SparkSession - hive</b></p>\n                \n        <div>\n            <p><b>SparkContext</b></p>\n\n            <p><a href=\"http://10.17.17.124:4040\">Spark UI</a></p>\n\n            <dl>\n              <dt>Version</dt>\n                <dd><code>v2.4.4</code></dd>\n              <dt>Master</dt>\n                <dd><code>local[*]</code></dd>\n              <dt>AppName</dt>\n                <dd><code>pyspark-shell</code></dd>\n            </dl>\n        </div>\n        \n            </div>\n        "
      ],
      "text/plain": [
       "<pyspark.sql.session.SparkSession at 0x7f6b581d2550>"
      ]
     },
     "execution_count": 11,
     "metadata": {},
     "output_type": "execute_result"
    }
   ],
   "source": [
    "spark = get_spark_session()\n",
    "spark"
   ]
  },
  {
   "cell_type": "markdown",
   "metadata": {
    "ein.tags": "worksheet-0",
    "slideshow": {
     "slide_type": "-"
    }
   },
   "source": [
    "## Загрузка данных <a name=\"data-loader\"></a>"
   ]
  },
  {
   "cell_type": "code",
   "execution_count": 36,
   "metadata": {
    "autoscroll": false,
    "collapsed": false,
    "ein.hycell": false,
    "ein.tags": "worksheet-0",
    "pycharm": {
     "name": "#%%\n"
    },
    "slideshow": {
     "slide_type": "-"
    }
   },
   "outputs": [
    {
     "name": "stdout",
     "output_type": "stream",
     "text": [
      "ratings"
     ]
    },
    {
     "name": "stdout",
     "output_type": "stream",
     "text": [
      "\n"
     ]
    },
    {
     "data": {
      "text/html": [
       "<div>\n<style scoped>\n    .dataframe tbody tr th:only-of-type {\n        vertical-align: middle;\n    }\n\n    .dataframe tbody tr th {\n        vertical-align: top;\n    }\n\n    .dataframe thead th {\n        text-align: right;\n    }\n</style>\n<table border=\"1\" class=\"dataframe\">\n  <thead>\n    <tr style=\"text-align: right;\">\n      <th></th>\n      <th>user_id</th>\n      <th>item_id</th>\n      <th>relevance</th>\n      <th>timestamp</th>\n    </tr>\n  </thead>\n  <tbody>\n    <tr>\n      <th>0</th>\n      <td>196</td>\n      <td>242</td>\n      <td>3</td>\n      <td>881250949</td>\n    </tr>\n    <tr>\n      <th>1</th>\n      <td>186</td>\n      <td>302</td>\n      <td>3</td>\n      <td>891717742</td>\n    </tr>\n    <tr>\n      <th>2</th>\n      <td>22</td>\n      <td>377</td>\n      <td>1</td>\n      <td>878887116</td>\n    </tr>\n  </tbody>\n</table>\n</div>"
      ],
      "text/plain": [
       "   user_id  item_id  relevance  timestamp\n0  196      242      3          881250949\n1  186      302      3          891717742\n2  22       377      1          878887116"
      ]
     },
     "metadata": {},
     "output_type": "display_data"
    },
    {
     "name": "stdout",
     "output_type": "stream",
     "text": [
      "\n"
     ]
    },
    {
     "name": "stdout",
     "output_type": "stream",
     "text": [
      "users"
     ]
    },
    {
     "name": "stdout",
     "output_type": "stream",
     "text": [
      "\n"
     ]
    },
    {
     "data": {
      "text/html": [
       "<div>\n<style scoped>\n    .dataframe tbody tr th:only-of-type {\n        vertical-align: middle;\n    }\n\n    .dataframe tbody tr th {\n        vertical-align: top;\n    }\n\n    .dataframe thead th {\n        text-align: right;\n    }\n</style>\n<table border=\"1\" class=\"dataframe\">\n  <thead>\n    <tr style=\"text-align: right;\">\n      <th></th>\n      <th>user_id</th>\n      <th>gender</th>\n      <th>age</th>\n      <th>occupation</th>\n      <th>zip_code</th>\n    </tr>\n  </thead>\n  <tbody>\n    <tr>\n      <th>0</th>\n      <td>1</td>\n      <td>24</td>\n      <td>M</td>\n      <td>technician</td>\n      <td>85711</td>\n    </tr>\n    <tr>\n      <th>1</th>\n      <td>2</td>\n      <td>53</td>\n      <td>F</td>\n      <td>other</td>\n      <td>94043</td>\n    </tr>\n    <tr>\n      <th>2</th>\n      <td>3</td>\n      <td>23</td>\n      <td>M</td>\n      <td>writer</td>\n      <td>32067</td>\n    </tr>\n  </tbody>\n</table>\n</div>"
      ],
      "text/plain": [
       "   user_id  gender age  occupation zip_code\n0  1        24      M   technician  85711  \n1  2        53      F   other       94043  \n2  3        23      M   writer      32067  "
      ]
     },
     "metadata": {},
     "output_type": "display_data"
    },
    {
     "name": "stdout",
     "output_type": "stream",
     "text": [
      "\n"
     ]
    },
    {
     "name": "stdout",
     "output_type": "stream",
     "text": [
      "items"
     ]
    },
    {
     "name": "stdout",
     "output_type": "stream",
     "text": [
      "\n"
     ]
    },
    {
     "data": {
      "text/html": [
       "<div>\n<style scoped>\n    .dataframe tbody tr th:only-of-type {\n        vertical-align: middle;\n    }\n\n    .dataframe tbody tr th {\n        vertical-align: top;\n    }\n\n    .dataframe thead th {\n        text-align: right;\n    }\n</style>\n<table border=\"1\" class=\"dataframe\">\n  <thead>\n    <tr style=\"text-align: right;\">\n      <th></th>\n      <th>item_id</th>\n      <th>title</th>\n      <th>release_date</th>\n      <th>imdb_url</th>\n      <th>unknown</th>\n      <th>...</th>\n      <th>Romance</th>\n      <th>Sci-Fi</th>\n      <th>Thriller</th>\n      <th>War</th>\n      <th>Western</th>\n    </tr>\n  </thead>\n  <tbody>\n    <tr>\n      <th>0</th>\n      <td>1</td>\n      <td>Toy Story (1995)</td>\n      <td>1995-01-01</td>\n      <td>http://us.imdb.com/M/title-exact?Toy%20Story%20(1995)</td>\n      <td>0</td>\n      <td>...</td>\n      <td>0</td>\n      <td>0</td>\n      <td>0</td>\n      <td>0</td>\n      <td>0</td>\n    </tr>\n    <tr>\n      <th>1</th>\n      <td>2</td>\n      <td>GoldenEye (1995)</td>\n      <td>1995-01-01</td>\n      <td>http://us.imdb.com/M/title-exact?GoldenEye%20(1995)</td>\n      <td>0</td>\n      <td>...</td>\n      <td>0</td>\n      <td>0</td>\n      <td>1</td>\n      <td>0</td>\n      <td>0</td>\n    </tr>\n    <tr>\n      <th>2</th>\n      <td>3</td>\n      <td>Four Rooms (1995)</td>\n      <td>1995-01-01</td>\n      <td>http://us.imdb.com/M/title-exact?Four%20Rooms%20(1995)</td>\n      <td>0</td>\n      <td>...</td>\n      <td>0</td>\n      <td>0</td>\n      <td>1</td>\n      <td>0</td>\n      <td>0</td>\n    </tr>\n  </tbody>\n</table>\n<p>3 rows × 23 columns</p>\n</div>"
      ],
      "text/plain": [
       "   item_id              title release_date  \\\n0  1        Toy Story (1995)  1995-01-01     \n1  2        GoldenEye (1995)  1995-01-01     \n2  3        Four Rooms (1995) 1995-01-01     \n\n                                                 imdb_url  unknown  ...  \\\n0  http://us.imdb.com/M/title-exact?Toy%20Story%20(1995)   0        ...   \n1  http://us.imdb.com/M/title-exact?GoldenEye%20(1995)     0        ...   \n2  http://us.imdb.com/M/title-exact?Four%20Rooms%20(1995)  0        ...   \n\n   Romance  Sci-Fi  Thriller  War  Western  \n0  0        0       0         0    0        \n1  0        0       1         0    0        \n2  0        0       1         0    0        \n\n[3 rows x 23 columns]"
      ]
     },
     "metadata": {},
     "output_type": "display_data"
    },
    {
     "name": "stdout",
     "output_type": "stream",
     "text": [
      "\n"
     ]
    }
   ],
   "source": [
    "data = MovieLens(\"100k\")\n",
    "log = spark.createDataFrame(data.ratings).withColumn(\n",
    "    \"context\", lit(DEFAULT_CONTEXT)\n",
    ")\n",
    "data.info()"
   ]
  },
  {
   "cell_type": "markdown",
   "metadata": {
    "ein.tags": "worksheet-0",
    "slideshow": {
     "slide_type": "-"
    }
   },
   "source": [
    "## Сценарии с разными моделями <a name=\"scenario\"></a>"
   ]
  },
  {
   "cell_type": "markdown",
   "metadata": {
    "ein.tags": "worksheet-0",
    "slideshow": {
     "slide_type": "-"
    }
   },
   "source": [
    "### Получение сценария через фабрику <a name=\"get-scenario\"></a>"
   ]
  },
  {
   "cell_type": "code",
   "execution_count": 37,
   "metadata": {
    "autoscroll": false,
    "collapsed": false,
    "ein.hycell": false,
    "ein.tags": "worksheet-0",
    "pycharm": {
     "name": "#%%\n"
    },
    "slideshow": {
     "slide_type": "-"
    }
   },
   "outputs": [],
   "source": [
    "popular_recommender = PopularRecommender(spark)\n",
    "als_recommender = ALSRecommender(spark)\n",
    "knn_recommender = KNNRecommender(spark)\n",
    "lightfm_recommender = LightFMRecommender(spark)"
   ]
  },
  {
   "cell_type": "code",
   "execution_count": 38,
   "metadata": {
    "autoscroll": false,
    "collapsed": false,
    "ein.hycell": false,
    "ein.tags": "worksheet-0",
    "pycharm": {
     "name": "#%%\n"
    },
    "slideshow": {
     "slide_type": "-"
    }
   },
   "outputs": [],
   "source": [
    "log_bydate_splitter = log_splitter.LogSplitByDateSplitter(\n",
    "    spark, True, True,\n",
    "    datetime(2007, 1, 1)\n",
    ")\n",
    "\n",
    "log_random_splitter = log_splitter.LogSplitRandomlySplitter(\n",
    "    spark, True, True,\n",
    "    test_size=0.3, seed=1234\n",
    ")\n",
    "\n",
    "log_cold_splitter = log_splitter.ColdUsersExtractingSplitter(\n",
    "    spark, True, True,\n",
    "    test_size=0.3\n",
    ")\n",
    "\n",
    "user_random_splitter = user_log_splitter.RandomUserLogSplitter(\n",
    "    spark, True, True,\n",
    "    item_test_size=0.3,\n",
    "    seed=1234,\n",
    "    user_test_size=500\n",
    ")\n",
    "\n",
    "user_bydate_splitter = user_log_splitter.ByTimeUserLogSplitter(\n",
    "    spark, True, True,\n",
    "    item_test_size=0.3,\n",
    "    seed=1234,\n",
    "    user_test_size=500\n",
    ")"
   ]
  },
  {
   "cell_type": "code",
   "execution_count": 39,
   "metadata": {
    "autoscroll": false,
    "collapsed": false,
    "ein.hycell": false,
    "ein.tags": "worksheet-0",
    "slideshow": {
     "slide_type": "-"
    }
   },
   "outputs": [],
   "source": [
    "factory = MainScenarioFactory(spark)"
   ]
  },
  {
   "cell_type": "markdown",
   "metadata": {
    "ein.tags": "worksheet-0",
    "slideshow": {
     "slide_type": "-"
    }
   },
   "source": [
    "### Обучение сценария <a name=\"fit-scenario\"></a>"
   ]
  },
  {
   "cell_type": "code",
   "execution_count": 40,
   "metadata": {
    "autoscroll": false,
    "collapsed": false,
    "ein.hycell": false,
    "ein.tags": "worksheet-0",
    "slideshow": {
     "slide_type": "-"
    }
   },
   "outputs": [],
   "source": [
    "results = None"
   ]
  },
  {
   "cell_type": "code",
   "execution_count": 44,
   "metadata": {
    "autoscroll": false,
    "collapsed": false,
    "ein.hycell": false,
    "ein.tags": "worksheet-0",
    "pycharm": {
     "name": "#%%\n"
    },
    "slideshow": {
     "slide_type": "-"
    }
   },
   "outputs": [],
   "source": [
    "scenario = factory.get(\n",
    "    splitter=user_random_splitter,\n",
    "    recommender=lightfm_recommender,\n",
    "    criterion=metrics.HitRateMetric(spark),\n",
    "    metrics=[\n",
    "        metrics.NDCGMetric(spark),\n",
    "        metrics.PrecisionMetric(spark),\n",
    "        metrics.MAPMetric(spark),\n",
    "        metrics.RecallMetric(spark),\n",
    "        metrics.Surprisal(spark, log),\n",
    "    ],\n",
    "    fallback_recommender=popular_recommender,\n",
    ")"
   ]
  },
  {
   "cell_type": "code",
   "execution_count": 45,
   "metadata": {
    "autoscroll": false,
    "collapsed": false,
    "ein.hycell": false,
    "ein.tags": "worksheet-0",
    "pycharm": {
     "name": "#%%\n"
    },
    "slideshow": {
     "slide_type": "-"
    }
   },
   "outputs": [],
   "source": [
    "popular_grid = {\n",
    "    \"alpha\": {\"type\": \"int\", \"args\": [0, 10]},\n",
    "    \"beta\": {\"type\": \"int\", \"args\": [0, 10]}\n",
    "}\n",
    "\n",
    "als_grid = {\n",
    "    \"rank\": {\"type\": \"discrete_uniform\", \"args\": [10, 100, 10]}\n",
    "}\n",
    "\n",
    "lightfm_grid = {\n",
    "    \"rank\": {\"type\": \"int\", \"args\": [10, 100]}\n",
    "}\n",
    "\n",
    "knn_grid = {\n",
    "    \"shrink\": {\"type\": \"discrete_uniform\", \"args\": [10, 50, 10]},\n",
    "    \"num_neighbours\": {\"type\": \"discrete_uniform\", \"args\": [0, 10, 1]},\n",
    "}"
   ]
  },
  {
   "cell_type": "code",
   "execution_count": 46,
   "metadata": {
    "autoscroll": false,
    "collapsed": false,
    "ein.hycell": false,
    "ein.tags": "worksheet-0",
    "pycharm": {
     "name": "#%%\n"
    },
    "scrolled": false,
    "slideshow": {
     "slide_type": "-"
    }
   },
   "outputs": [
    {
     "name": "stderr",
     "output_type": "stream",
     "text": [
      "29-Jan-20 15:06:51, root, DEBUG: Деление лога на обучающую и тестовую выборку\n"
     ]
    },
    {
     "name": "stderr",
     "output_type": "stream",
     "text": [
      "29-Jan-20 15:07:03, root, DEBUG: Длина трейна и теста: (84013, 15944)\n"
     ]
    },
    {
     "name": "stderr",
     "output_type": "stream",
     "text": [
      "29-Jan-20 15:07:04, root, DEBUG: Количество пользователей в трейне и тесте: 943, 490\n"
     ]
    },
    {
     "name": "stderr",
     "output_type": "stream",
     "text": [
      "29-Jan-20 15:07:05, root, DEBUG: Количество объектов в трейне и тесте: 1644, 1355\n"
     ]
    },
    {
     "name": "stderr",
     "output_type": "stream",
     "text": [
      "29-Jan-20 15:07:05, root, DEBUG: Обучение и предсказание дополнительной модели\n"
     ]
    },
    {
     "name": "stderr",
     "output_type": "stream",
     "text": [
      "29-Jan-20 15:07:05, root, DEBUG: Проверка датафреймов\n"
     ]
    },
    {
     "name": "stderr",
     "output_type": "stream",
     "text": [
      "29-Jan-20 15:07:06, root, DEBUG: Предварительная стадия обучения (pre-fit)\n"
     ]
    },
    {
     "name": "stderr",
     "output_type": "stream",
     "text": [
      "29-Jan-20 15:07:06, root, DEBUG: Среднее количество items у каждого user: 90\n"
     ]
    },
    {
     "name": "stderr",
     "output_type": "stream",
     "text": [
      "29-Jan-20 15:07:09, root, DEBUG: Основная стадия обучения (fit)\n"
     ]
    },
    {
     "name": "stderr",
     "output_type": "stream",
     "text": [
      "29-Jan-20 15:07:09, root, DEBUG: Проверка датафреймов\n"
     ]
    },
    {
     "name": "stderr",
     "output_type": "stream",
     "text": [
      "29-Jan-20 15:07:10, root, DEBUG: Количество items после фильтрации: 100\n"
     ]
    },
    {
     "name": "stderr",
     "output_type": "stream",
     "text": [
      "29-Jan-20 15:07:13, root, DEBUG: Пре-фит модели\n"
     ]
    },
    {
     "name": "stderr",
     "output_type": "stream",
     "text": [
      "29-Jan-20 15:07:14, root, DEBUG: -------------\n"
     ]
    },
    {
     "name": "stderr",
     "output_type": "stream",
     "text": [
      "29-Jan-20 15:07:14, root, DEBUG: Оптимизация параметров\n"
     ]
    },
    {
     "name": "stderr",
     "output_type": "stream",
     "text": [
      "29-Jan-20 15:07:14, root, DEBUG: Максимальное количество попыток: 100 (чтобы поменять его, задайте параметр 'optuna_max_n_trials')\n"
     ]
    },
    {
     "name": "stderr",
     "output_type": "stream",
     "text": [
      "29-Jan-20 15:07:14, root, DEBUG: -- Параметры: {'rank': 21}\n"
     ]
    },
    {
     "name": "stderr",
     "output_type": "stream",
     "text": [
      "29-Jan-20 15:07:14, root, DEBUG: -- Сохраняем optuna study на диск\n"
     ]
    },
    {
     "name": "stderr",
     "output_type": "stream",
     "text": [
      "29-Jan-20 15:07:14, root, DEBUG: -- Второй фит модели в оптимизации\n"
     ]
    },
    {
     "name": "stderr",
     "output_type": "stream",
     "text": [
      "29-Jan-20 15:07:14, root, DEBUG: Построение модели LightFM\n"
     ]
    },
    {
     "name": "stderr",
     "output_type": "stream",
     "text": [
      "29-Jan-20 15:07:16, root, DEBUG: -- Предикт модели в оптимизации\n"
     ]
    },
    {
     "name": "stderr",
     "output_type": "stream",
     "text": [
      "29-Jan-20 15:07:16, root, DEBUG: Проверка датафреймов\n"
     ]
    },
    {
     "name": "stderr",
     "output_type": "stream",
     "text": [
      "29-Jan-20 15:07:36, root, DEBUG: -- Дополняем рекомендации fallback рекомендациями\n"
     ]
    },
    {
     "name": "stderr",
     "output_type": "stream",
     "text": [
      "29-Jan-20 15:07:36, root, DEBUG: -- Длина рекомендаций: 4900\n"
     ]
    },
    {
     "name": "stderr",
     "output_type": "stream",
     "text": [
      "29-Jan-20 15:07:38, root, DEBUG: -- Длина рекомендаций после добавления fallback-рекомендаций: 4900\n"
     ]
    },
    {
     "name": "stderr",
     "output_type": "stream",
     "text": [
      "29-Jan-20 15:07:38, root, DEBUG: -- Подсчет метрики в оптимизации\n"
     ]
    },
    {
     "name": "stderr",
     "output_type": "stream",
     "text": [
      "29-Jan-20 15:08:08, root, DEBUG: -- Метрики: HitRate@K=0.8714 nDCG@k=0.2511 Precision@k=0.2363 MAP@k=0.0434 Recall@K=0.1021 Surprisal@K=1.5506\n"
     ]
    },
    {
     "name": "stderr",
     "output_type": "stream",
     "text": [
      "[I 2020-01-29 15:08:08,757]"
     ]
    },
    {
     "name": "stderr",
     "output_type": "stream",
     "text": [
      " Finished trial#0 resulted in value: 0.8714285714285714. Current best value is 0.8714285714285714 with parameters: {'rank': 21}."
     ]
    },
    {
     "name": "stderr",
     "output_type": "stream",
     "text": [
      "\n"
     ]
    },
    {
     "name": "stderr",
     "output_type": "stream",
     "text": [
      "29-Jan-20 15:08:08, root, DEBUG: -- Параметры: {'rank': 75}\n"
     ]
    },
    {
     "name": "stderr",
     "output_type": "stream",
     "text": [
      "29-Jan-20 15:08:08, root, DEBUG: -- Сохраняем optuna study на диск\n"
     ]
    },
    {
     "name": "stderr",
     "output_type": "stream",
     "text": [
      "29-Jan-20 15:08:08, root, DEBUG: -- Второй фит модели в оптимизации\n"
     ]
    },
    {
     "name": "stderr",
     "output_type": "stream",
     "text": [
      "29-Jan-20 15:08:08, root, DEBUG: Построение модели LightFM\n"
     ]
    },
    {
     "name": "stderr",
     "output_type": "stream",
     "text": [
      "29-Jan-20 15:08:11, root, DEBUG: -- Предикт модели в оптимизации\n"
     ]
    },
    {
     "name": "stderr",
     "output_type": "stream",
     "text": [
      "29-Jan-20 15:08:11, root, DEBUG: Проверка датафреймов\n"
     ]
    },
    {
     "name": "stderr",
     "output_type": "stream",
     "text": [
      "29-Jan-20 15:08:32, root, DEBUG: -- Дополняем рекомендации fallback рекомендациями\n"
     ]
    },
    {
     "name": "stderr",
     "output_type": "stream",
     "text": [
      "29-Jan-20 15:08:32, root, DEBUG: -- Длина рекомендаций: 4900\n"
     ]
    },
    {
     "name": "stderr",
     "output_type": "stream",
     "text": [
      "29-Jan-20 15:08:34, root, DEBUG: -- Длина рекомендаций после добавления fallback-рекомендаций: 4900\n"
     ]
    },
    {
     "name": "stderr",
     "output_type": "stream",
     "text": [
      "29-Jan-20 15:08:34, root, DEBUG: -- Подсчет метрики в оптимизации\n"
     ]
    },
    {
     "name": "stderr",
     "output_type": "stream",
     "text": [
      "29-Jan-20 15:09:01, root, DEBUG: -- Метрики: HitRate@K=0.8429 nDCG@k=0.2407 Precision@k=0.2306 MAP@k=0.0435 Recall@K=0.0978 Surprisal@K=1.6978\n"
     ]
    },
    {
     "name": "stderr",
     "output_type": "stream",
     "text": [
      "[I 2020-01-29 15:09:01,283]"
     ]
    },
    {
     "name": "stderr",
     "output_type": "stream",
     "text": [
      " Finished trial#1 resulted in value: 0.8428571428571429. Current best value is 0.8714285714285714 with parameters: {'rank': 21}."
     ]
    },
    {
     "name": "stderr",
     "output_type": "stream",
     "text": [
      "\n"
     ]
    },
    {
     "name": "stderr",
     "output_type": "stream",
     "text": [
      "29-Jan-20 15:09:01, root, DEBUG: Лучшие значения метрики: 0.8714285714285714\n"
     ]
    },
    {
     "name": "stderr",
     "output_type": "stream",
     "text": [
      "29-Jan-20 15:09:01, root, DEBUG: Лучшие параметры: {'rank': 21}\n"
     ]
    }
   ],
   "source": [
    "best_params = scenario.research(\n",
    "    lightfm_grid,\n",
    "    log,\n",
    "    k=10,\n",
    "    n_trials=2\n",
    ")"
   ]
  },
  {
   "cell_type": "code",
   "execution_count": 47,
   "metadata": {
    "autoscroll": false,
    "collapsed": false,
    "ein.hycell": false,
    "ein.tags": "worksheet-0",
    "pycharm": {
     "name": "#%%\n"
    },
    "scrolled": true,
    "slideshow": {
     "slide_type": "-"
    }
   },
   "outputs": [
    {
     "data": {
      "text/html": [
       "<div>\n<style scoped>\n    .dataframe tbody tr th:only-of-type {\n        vertical-align: middle;\n    }\n\n    .dataframe tbody tr th {\n        vertical-align: top;\n    }\n\n    .dataframe thead th {\n        text-align: right;\n    }\n</style>\n<table border=\"1\" class=\"dataframe\">\n  <thead>\n    <tr style=\"text-align: right;\">\n      <th></th>\n      <th>number</th>\n      <th>value</th>\n      <th>datetime_start</th>\n      <th>datetime_complete</th>\n      <th>params_rank</th>\n      <th>user_attrs_MAP@k</th>\n      <th>user_attrs_Precision@k</th>\n      <th>user_attrs_Recall@K</th>\n      <th>user_attrs_Surprisal@K</th>\n      <th>user_attrs_nDCG@k</th>\n      <th>system_attrs__number</th>\n      <th>state</th>\n    </tr>\n  </thead>\n  <tbody>\n    <tr>\n      <th>0</th>\n      <td>0</td>\n      <td>0.871429</td>\n      <td>2020-01-29 15:07:14.675498</td>\n      <td>2020-01-29 15:08:08.757402</td>\n      <td>21</td>\n      <td>0.043425</td>\n      <td>0.236327</td>\n      <td>0.102137</td>\n      <td>1.550649</td>\n      <td>0.251074</td>\n      <td>0</td>\n      <td>COMPLETE</td>\n    </tr>\n    <tr>\n      <th>1</th>\n      <td>1</td>\n      <td>0.842857</td>\n      <td>2020-01-29 15:08:08.861441</td>\n      <td>2020-01-29 15:09:01.283284</td>\n      <td>75</td>\n      <td>0.043508</td>\n      <td>0.230612</td>\n      <td>0.097768</td>\n      <td>1.697821</td>\n      <td>0.240673</td>\n      <td>1</td>\n      <td>COMPLETE</td>\n    </tr>\n  </tbody>\n</table>\n</div>"
      ],
      "text/plain": [
       "   number     value             datetime_start          datetime_complete  \\\n0  0       0.871429 2020-01-29 15:07:14.675498 2020-01-29 15:08:08.757402   \n1  1       0.842857 2020-01-29 15:08:08.861441 2020-01-29 15:09:01.283284   \n\n   params_rank  user_attrs_MAP@k  user_attrs_Precision@k  user_attrs_Recall@K  \\\n0  21           0.043425          0.236327                0.102137              \n1  75           0.043508          0.230612                0.097768              \n\n   user_attrs_Surprisal@K  user_attrs_nDCG@k  system_attrs__number     state  \n0  1.550649                0.251074           0                     COMPLETE  \n1  1.697821                0.240673           1                     COMPLETE  "
      ]
     },
     "execution_count": 47,
     "metadata": {},
     "output_type": "execute_result"
    }
   ],
   "source": [
    "results = pd.concat([scenario.study.trials_dataframe(), results], axis=0)\n",
    "\n",
    "results"
   ]
  },
  {
   "cell_type": "markdown",
   "metadata": {
    "ein.tags": "worksheet-0",
    "slideshow": {
     "slide_type": "-"
    }
   },
   "source": [
    "### Получение рекомендаций <a name=\"predict-scenario\"></a>"
   ]
  },
  {
   "cell_type": "code",
   "execution_count": 48,
   "metadata": {
    "autoscroll": false,
    "collapsed": false,
    "ein.hycell": false,
    "ein.tags": "worksheet-0",
    "pycharm": {
     "name": "#%%\n"
    },
    "scrolled": true,
    "slideshow": {
     "slide_type": "-"
    }
   },
   "outputs": [
    {
     "name": "stderr",
     "output_type": "stream",
     "text": [
      "29-Jan-20 15:09:01, root, DEBUG: Проверка датафреймов\n"
     ]
    },
    {
     "name": "stderr",
     "output_type": "stream",
     "text": [
      "29-Jan-20 15:09:01, root, DEBUG: Предварительная стадия обучения (pre-fit)\n"
     ]
    },
    {
     "name": "stderr",
     "output_type": "stream",
     "text": [
      "29-Jan-20 15:09:02, root, DEBUG: Основная стадия обучения (fit)\n"
     ]
    },
    {
     "name": "stderr",
     "output_type": "stream",
     "text": [
      "29-Jan-20 15:09:02, root, DEBUG: Построение модели LightFM\n"
     ]
    },
    {
     "name": "stderr",
     "output_type": "stream",
     "text": [
      "29-Jan-20 15:09:03, root, DEBUG: Проверка датафреймов\n"
     ]
    },
    {
     "name": "stderr",
     "output_type": "stream",
     "text": [
      "29-Jan-20 15:09:03, root, DEBUG: Выделение дефолтных юзеров\n"
     ]
    },
    {
     "name": "stderr",
     "output_type": "stream",
     "text": [
      "29-Jan-20 15:09:03, root, DEBUG: Выделение дефолтных айтемов\n"
     ]
    }
   ],
   "source": [
    "recs = scenario.production(\n",
    "    best_params, \n",
    "    log,\n",
    "    users=None, \n",
    "    items=None,\n",
    "    k=10\n",
    ")"
   ]
  },
  {
   "cell_type": "code",
   "execution_count": 49,
   "metadata": {
    "autoscroll": false,
    "collapsed": false,
    "ein.hycell": false,
    "ein.tags": "worksheet-0",
    "pycharm": {
     "name": "#%%\n"
    },
    "slideshow": {
     "slide_type": "-"
    }
   },
   "outputs": [
    {
     "name": "stdout",
     "output_type": "stream",
     "text": [
      "+-------+-------+--------------------+----------+\n",
      "|user_id|item_id|           relevance|   context|\n",
      "+-------+-------+--------------------+----------+\n",
      "|     91|    199|  0.4170581102371216|no_context|\n",
      "|     91|    174| 0.14767946302890778|no_context|\n",
      "|     91|    511|0.026487989351153374|no_context|\n",
      "|     91|    480|-0.02488577924668789|no_context|\n",
      "|     91|    510|-0.02957684360444...|no_context|\n",
      "|     91|    435|-0.04762391000986099|no_context|\n",
      "|     91|    197|-0.06133553013205528|no_context|\n",
      "|     91|    194|-0.10036946833133698|no_context|\n",
      "|     91|    187|-0.15194128453731537|no_context|\n",
      "|     91|    483|-0.16255392134189606|no_context|\n",
      "|    152|     15| -0.4885908365249634|no_context|\n",
      "|    152|     88| -0.7593095898628235|no_context|\n",
      "|    152|    393| -0.7923286557197571|no_context|\n",
      "|    152|    125| -0.8461843729019165|no_context|\n",
      "|    152|    111| -0.8694582581520081|no_context|\n",
      "|    152|    660| -0.9163415431976318|no_context|\n",
      "|    152|    402|  -0.948605477809906|no_context|\n",
      "|    152|     66|   -0.98827064037323|no_context|\n",
      "|    152|    237| -1.0623347759246826|no_context|\n",
      "|    152|    739| -1.0970444679260254|no_context|\n",
      "+-------+-------+--------------------+----------+\n",
      "only showing top 20 rows\n"
     ]
    },
    {
     "name": "stdout",
     "output_type": "stream",
     "text": [
      "\n"
     ]
    }
   ],
   "source": [
    "recs.show()"
   ]
  }
 ],
 "metadata": {
  "kernelspec": {
   "argv": [
    "python",
    "-m",
    "ipykernel_launcher",
    "-f",
    "{connection_file}"
   ],
   "display_name": "Python 3",
   "env": null,
   "interrupt_mode": "signal",
   "language": "python",
   "metadata": null,
   "name": "python3"
  },
  "language_info": {
   "codemirror_mode": {
    "name": "ipython",
    "version": 3
   },
   "file_extension": ".py",
   "mimetype": "text/x-python",
   "name": "python",
   "nbconvert_exporter": "python",
   "pygments_lexer": "ipython3",
   "version": "3.7.5"
  },
  "name": "scenario_test_movielnes100k.ipynb",
  "pycharm": {
   "stem_cell": {
    "cell_type": "raw",
    "metadata": {
     "collapsed": false
    },
    "source": null
   }
  }
 },
 "nbformat": 4,
 "nbformat_minor": 2
}
