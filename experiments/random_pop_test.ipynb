{
 "cells": [
  {
   "cell_type": "code",
   "execution_count": 1,
   "metadata": {},
   "outputs": [],
   "source": [
    "%load_ext autoreload\n",
    "%autoreload 2"
   ]
  },
  {
   "cell_type": "code",
   "execution_count": 2,
   "metadata": {},
   "outputs": [
    {
     "data": {
      "text/html": [
       "\n",
       "            <div>\n",
       "                <p><b>SparkSession - hive</b></p>\n",
       "                \n",
       "        <div>\n",
       "            <p><b>SparkContext</b></p>\n",
       "\n",
       "            <p><a href=\"http://localhost:4040\">Spark UI</a></p>\n",
       "\n",
       "            <dl>\n",
       "              <dt>Version</dt>\n",
       "                <dd><code>v2.4.4</code></dd>\n",
       "              <dt>Master</dt>\n",
       "                <dd><code>local[*]</code></dd>\n",
       "              <dt>AppName</dt>\n",
       "                <dd><code>pyspark-shell</code></dd>\n",
       "            </dl>\n",
       "        </div>\n",
       "        \n",
       "            </div>\n",
       "        "
      ],
      "text/plain": [
       "<pyspark.sql.session.SparkSession at 0x1200ee750>"
      ]
     },
     "execution_count": 2,
     "metadata": {},
     "output_type": "execute_result"
    }
   ],
   "source": [
    "from sponge_bob_magic.session_handler import State\n",
    "\n",
    "spark = State().session\n",
    "spark"
   ]
  },
  {
   "cell_type": "code",
   "execution_count": 3,
   "metadata": {},
   "outputs": [
    {
     "name": "stdout",
     "output_type": "stream",
     "text": [
      "ratings\n"
     ]
    },
    {
     "data": {
      "text/html": [
       "<div>\n",
       "<style scoped>\n",
       "    .dataframe tbody tr th:only-of-type {\n",
       "        vertical-align: middle;\n",
       "    }\n",
       "\n",
       "    .dataframe tbody tr th {\n",
       "        vertical-align: top;\n",
       "    }\n",
       "\n",
       "    .dataframe thead th {\n",
       "        text-align: right;\n",
       "    }\n",
       "</style>\n",
       "<table border=\"1\" class=\"dataframe\">\n",
       "  <thead>\n",
       "    <tr style=\"text-align: right;\">\n",
       "      <th></th>\n",
       "      <th>user_id</th>\n",
       "      <th>item_id</th>\n",
       "      <th>relevance</th>\n",
       "      <th>timestamp</th>\n",
       "    </tr>\n",
       "  </thead>\n",
       "  <tbody>\n",
       "    <tr>\n",
       "      <th>0</th>\n",
       "      <td>1</td>\n",
       "      <td>1193</td>\n",
       "      <td>5</td>\n",
       "      <td>978300760</td>\n",
       "    </tr>\n",
       "    <tr>\n",
       "      <th>1</th>\n",
       "      <td>1</td>\n",
       "      <td>661</td>\n",
       "      <td>3</td>\n",
       "      <td>978302109</td>\n",
       "    </tr>\n",
       "    <tr>\n",
       "      <th>2</th>\n",
       "      <td>1</td>\n",
       "      <td>914</td>\n",
       "      <td>3</td>\n",
       "      <td>978301968</td>\n",
       "    </tr>\n",
       "  </tbody>\n",
       "</table>\n",
       "</div>"
      ],
      "text/plain": [
       "   user_id  item_id  relevance  timestamp\n",
       "0        1     1193          5  978300760\n",
       "1        1      661          3  978302109\n",
       "2        1      914          3  978301968"
      ]
     },
     "metadata": {},
     "output_type": "display_data"
    },
    {
     "name": "stdout",
     "output_type": "stream",
     "text": [
      "\n",
      "users\n"
     ]
    },
    {
     "data": {
      "text/html": [
       "<div>\n",
       "<style scoped>\n",
       "    .dataframe tbody tr th:only-of-type {\n",
       "        vertical-align: middle;\n",
       "    }\n",
       "\n",
       "    .dataframe tbody tr th {\n",
       "        vertical-align: top;\n",
       "    }\n",
       "\n",
       "    .dataframe thead th {\n",
       "        text-align: right;\n",
       "    }\n",
       "</style>\n",
       "<table border=\"1\" class=\"dataframe\">\n",
       "  <thead>\n",
       "    <tr style=\"text-align: right;\">\n",
       "      <th></th>\n",
       "      <th>user_id</th>\n",
       "      <th>gender</th>\n",
       "      <th>age</th>\n",
       "      <th>occupation</th>\n",
       "      <th>zip_code</th>\n",
       "    </tr>\n",
       "  </thead>\n",
       "  <tbody>\n",
       "    <tr>\n",
       "      <th>0</th>\n",
       "      <td>1</td>\n",
       "      <td>F</td>\n",
       "      <td>1</td>\n",
       "      <td>10</td>\n",
       "      <td>48067</td>\n",
       "    </tr>\n",
       "    <tr>\n",
       "      <th>1</th>\n",
       "      <td>2</td>\n",
       "      <td>M</td>\n",
       "      <td>56</td>\n",
       "      <td>16</td>\n",
       "      <td>70072</td>\n",
       "    </tr>\n",
       "    <tr>\n",
       "      <th>2</th>\n",
       "      <td>3</td>\n",
       "      <td>M</td>\n",
       "      <td>25</td>\n",
       "      <td>15</td>\n",
       "      <td>55117</td>\n",
       "    </tr>\n",
       "  </tbody>\n",
       "</table>\n",
       "</div>"
      ],
      "text/plain": [
       "   user_id gender  age  occupation zip_code\n",
       "0        1      F    1          10    48067\n",
       "1        2      M   56          16    70072\n",
       "2        3      M   25          15    55117"
      ]
     },
     "metadata": {},
     "output_type": "display_data"
    },
    {
     "name": "stdout",
     "output_type": "stream",
     "text": [
      "\n",
      "items\n"
     ]
    },
    {
     "data": {
      "text/html": [
       "<div>\n",
       "<style scoped>\n",
       "    .dataframe tbody tr th:only-of-type {\n",
       "        vertical-align: middle;\n",
       "    }\n",
       "\n",
       "    .dataframe tbody tr th {\n",
       "        vertical-align: top;\n",
       "    }\n",
       "\n",
       "    .dataframe thead th {\n",
       "        text-align: right;\n",
       "    }\n",
       "</style>\n",
       "<table border=\"1\" class=\"dataframe\">\n",
       "  <thead>\n",
       "    <tr style=\"text-align: right;\">\n",
       "      <th></th>\n",
       "      <th>item_id</th>\n",
       "      <th>title</th>\n",
       "      <th>genres</th>\n",
       "    </tr>\n",
       "  </thead>\n",
       "  <tbody>\n",
       "    <tr>\n",
       "      <th>0</th>\n",
       "      <td>1</td>\n",
       "      <td>Toy Story (1995)</td>\n",
       "      <td>Animation|Children's|Comedy</td>\n",
       "    </tr>\n",
       "    <tr>\n",
       "      <th>1</th>\n",
       "      <td>2</td>\n",
       "      <td>Jumanji (1995)</td>\n",
       "      <td>Adventure|Children's|Fantasy</td>\n",
       "    </tr>\n",
       "    <tr>\n",
       "      <th>2</th>\n",
       "      <td>3</td>\n",
       "      <td>Grumpier Old Men (1995)</td>\n",
       "      <td>Comedy|Romance</td>\n",
       "    </tr>\n",
       "  </tbody>\n",
       "</table>\n",
       "</div>"
      ],
      "text/plain": [
       "   item_id                    title                        genres\n",
       "0        1         Toy Story (1995)   Animation|Children's|Comedy\n",
       "1        2           Jumanji (1995)  Adventure|Children's|Fantasy\n",
       "2        3  Grumpier Old Men (1995)                Comedy|Romance"
      ]
     },
     "metadata": {},
     "output_type": "display_data"
    },
    {
     "name": "stdout",
     "output_type": "stream",
     "text": [
      "\n"
     ]
    }
   ],
   "source": [
    "from rs_datasets import MovieLens\n",
    "\n",
    "data = MovieLens(\"1m\")\n",
    "data.info()"
   ]
  },
  {
   "cell_type": "code",
   "execution_count": 4,
   "metadata": {},
   "outputs": [],
   "source": [
    "from sponge_bob_magic.data_preparator import DataPreparator\n",
    "\n",
    "log = DataPreparator().transform(\n",
    "    data=data.ratings,\n",
    "    columns_names={\n",
    "        \"user_id\": \"user_id\",\n",
    "        \"item_id\": \"item_id\",\n",
    "        \"relevance\": \"relevance\",\n",
    "        \"timestamp\": \"timestamp\"\n",
    "    }\n",
    ")"
   ]
  },
  {
   "cell_type": "code",
   "execution_count": 5,
   "metadata": {},
   "outputs": [
    {
     "data": {
      "text/plain": [
       "(999209, 1000)"
      ]
     },
     "execution_count": 5,
     "metadata": {},
     "output_type": "execute_result"
    }
   ],
   "source": [
    "from sponge_bob_magic.splitters import UserSplitter\n",
    "\n",
    "splitter = UserSplitter(\n",
    "    drop_cold_items=True,\n",
    "    drop_cold_users=True,\n",
    "    item_test_size=1,\n",
    "    user_test_size=1000,\n",
    "    seed=1234,\n",
    "    shuffle=True\n",
    ")\n",
    "train, test = splitter.split(log)\n",
    "(\n",
    "    train.count(), \n",
    "    test.count()\n",
    ")"
   ]
  },
  {
   "cell_type": "code",
   "execution_count": 7,
   "metadata": {},
   "outputs": [
    {
     "name": "stderr",
     "output_type": "stream",
     "text": [
      "30-Mar-20 14:23:23, sponge_bob_magic, DEBUG: Предварительная стадия обучения (pre-fit)\n",
      "30-Mar-20 14:23:27, sponge_bob_magic, DEBUG: Основная стадия обучения (fit)\n"
     ]
    }
   ],
   "source": [
    "from sponge_bob_magic.metrics import HitRate, NDCG, Coverage, Unexpectedness\n",
    "from sponge_bob_magic.experiment import Experiment\n",
    "\n",
    "metrics = Experiment(\n",
    "    test,\n",
    "    {\n",
    "        NDCG(): 10,\n",
    "        HitRate(): 10,\n",
    "        Coverage(log): 10,\n",
    "        Unexpectedness(log): 10\n",
    "    }\n",
    ")"
   ]
  },
  {
   "cell_type": "code",
   "execution_count": 10,
   "metadata": {},
   "outputs": [
    {
     "name": "stderr",
     "output_type": "stream",
     "text": [
      "30-Mar-20 14:29:21, sponge_bob_magic, DEBUG: Предварительная стадия обучения (pre-fit)\n",
      "30-Mar-20 14:29:23, sponge_bob_magic, DEBUG: Основная стадия обучения (fit)\n",
      "30-Mar-20 14:29:23, sponge_bob_magic, DEBUG: Выделение дефолтных юзеров\n",
      "30-Mar-20 14:40:07, sponge_bob_magic, DEBUG: Выделение дефолтных юзеров\n",
      "30-Mar-20 14:40:07, sponge_bob_magic, DEBUG: Выделение дефолтных юзеров\n"
     ]
    },
    {
     "name": "stdout",
     "output_type": "stream",
     "text": [
      "CPU times: user 398 ms, sys: 119 ms, total: 517 ms\n",
      "Wall time: 29min 42s\n"
     ]
    }
   ],
   "source": [
    "%%time\n",
    "from sponge_bob_magic.models import PopRec\n",
    "\n",
    "metrics.add_result(\n",
    "    \"PopRec\",\n",
    "    PopRec().fit_predict(\n",
    "        log=train,\n",
    "        k=10,\n",
    "        users=test.select(\"user_id\").distinct()\n",
    "    )\n",
    ")"
   ]
  },
  {
   "cell_type": "code",
   "execution_count": 11,
   "metadata": {},
   "outputs": [
    {
     "name": "stderr",
     "output_type": "stream",
     "text": [
      "30-Mar-20 14:59:03, sponge_bob_magic, DEBUG: Предварительная стадия обучения (pre-fit)\n",
      "30-Mar-20 14:59:05, sponge_bob_magic, DEBUG: Основная стадия обучения (fit)\n",
      "30-Mar-20 14:59:11, sponge_bob_magic, DEBUG: Выделение дефолтных юзеров\n",
      "30-Mar-20 15:01:36, sponge_bob_magic, DEBUG: Выделение дефолтных юзеров\n",
      "30-Mar-20 15:01:36, sponge_bob_magic, DEBUG: Выделение дефолтных юзеров\n",
      "30-Mar-20 15:02:05, sponge_bob_magic, DEBUG: Предварительная стадия обучения (pre-fit)\n",
      "30-Mar-20 15:02:07, sponge_bob_magic, DEBUG: Основная стадия обучения (fit)\n",
      "30-Mar-20 15:02:13, sponge_bob_magic, DEBUG: Выделение дефолтных юзеров\n",
      "30-Mar-20 15:04:42, sponge_bob_magic, DEBUG: Выделение дефолтных юзеров\n",
      "30-Mar-20 15:04:42, sponge_bob_magic, DEBUG: Выделение дефолтных юзеров\n",
      "30-Mar-20 15:05:09, sponge_bob_magic, DEBUG: Предварительная стадия обучения (pre-fit)\n",
      "30-Mar-20 15:05:11, sponge_bob_magic, DEBUG: Основная стадия обучения (fit)\n",
      "30-Mar-20 15:05:24, sponge_bob_magic, DEBUG: Выделение дефолтных юзеров\n",
      "30-Mar-20 15:07:51, sponge_bob_magic, DEBUG: Выделение дефолтных юзеров\n",
      "30-Mar-20 15:07:51, sponge_bob_magic, DEBUG: Выделение дефолтных юзеров\n",
      "30-Mar-20 15:08:14, sponge_bob_magic, DEBUG: Предварительная стадия обучения (pre-fit)\n",
      "30-Mar-20 15:08:17, sponge_bob_magic, DEBUG: Основная стадия обучения (fit)\n",
      "30-Mar-20 15:08:35, sponge_bob_magic, DEBUG: Выделение дефолтных юзеров\n",
      "30-Mar-20 15:11:07, sponge_bob_magic, DEBUG: Выделение дефолтных юзеров\n",
      "30-Mar-20 15:11:07, sponge_bob_magic, DEBUG: Выделение дефолтных юзеров\n",
      "30-Mar-20 15:11:30, sponge_bob_magic, DEBUG: Предварительная стадия обучения (pre-fit)\n",
      "30-Mar-20 15:11:33, sponge_bob_magic, DEBUG: Основная стадия обучения (fit)\n",
      "30-Mar-20 15:11:39, sponge_bob_magic, DEBUG: Выделение дефолтных юзеров\n",
      "30-Mar-20 15:13:46, sponge_bob_magic, DEBUG: Выделение дефолтных юзеров\n",
      "30-Mar-20 15:13:46, sponge_bob_magic, DEBUG: Выделение дефолтных юзеров\n",
      "30-Mar-20 15:14:11, sponge_bob_magic, DEBUG: Предварительная стадия обучения (pre-fit)\n",
      "30-Mar-20 15:14:13, sponge_bob_magic, DEBUG: Основная стадия обучения (fit)\n",
      "30-Mar-20 15:14:19, sponge_bob_magic, DEBUG: Выделение дефолтных юзеров\n",
      "30-Mar-20 15:16:37, sponge_bob_magic, DEBUG: Выделение дефолтных юзеров\n",
      "30-Mar-20 15:16:37, sponge_bob_magic, DEBUG: Выделение дефолтных юзеров\n"
     ]
    },
    {
     "name": "stdout",
     "output_type": "stream",
     "text": [
      "CPU times: user 5.94 s, sys: 1.68 s, total: 7.62 s\n",
      "Wall time: 18min 1s\n"
     ]
    }
   ],
   "source": [
    "%%time\n",
    "from sponge_bob_magic.models import RandomPop\n",
    "\n",
    "for alpha in [-0.5, 0.0, 0.5, 1.0, 10.0, 100.0]:\n",
    "    metrics.add_result(\n",
    "        f\"RandomPop(alpha={alpha})\",\n",
    "        RandomPop(alpha).fit_predict(\n",
    "            log=train,\n",
    "            k=10,\n",
    "            users=test.select(\"user_id\").distinct()\n",
    "        )\n",
    "    )"
   ]
  },
  {
   "cell_type": "code",
   "execution_count": 12,
   "metadata": {},
   "outputs": [
    {
     "data": {
      "text/html": [
       "<div>\n",
       "<style scoped>\n",
       "    .dataframe tbody tr th:only-of-type {\n",
       "        vertical-align: middle;\n",
       "    }\n",
       "\n",
       "    .dataframe tbody tr th {\n",
       "        vertical-align: top;\n",
       "    }\n",
       "\n",
       "    .dataframe thead th {\n",
       "        text-align: right;\n",
       "    }\n",
       "</style>\n",
       "<table border=\"1\" class=\"dataframe\">\n",
       "  <thead>\n",
       "    <tr style=\"text-align: right;\">\n",
       "      <th></th>\n",
       "      <th>Coverage@10</th>\n",
       "      <th>HitRate@10</th>\n",
       "      <th>NDCG@10</th>\n",
       "      <th>Unexpectedness@10</th>\n",
       "    </tr>\n",
       "  </thead>\n",
       "  <tbody>\n",
       "    <tr>\n",
       "      <th>PopRec</th>\n",
       "      <td>0.032110</td>\n",
       "      <td>0.080</td>\n",
       "      <td>0.041412</td>\n",
       "      <td>0.0088</td>\n",
       "    </tr>\n",
       "    <tr>\n",
       "      <th>RandomPop(alpha=0.0)</th>\n",
       "      <td>0.618187</td>\n",
       "      <td>0.017</td>\n",
       "      <td>0.003498</td>\n",
       "      <td>0.9706</td>\n",
       "    </tr>\n",
       "    <tr>\n",
       "      <th>RandomPop(alpha=1.0)</th>\n",
       "      <td>0.628171</td>\n",
       "      <td>0.014</td>\n",
       "      <td>0.006041</td>\n",
       "      <td>0.9739</td>\n",
       "    </tr>\n",
       "    <tr>\n",
       "      <th>RandomPop(alpha=10.0)</th>\n",
       "      <td>0.660281</td>\n",
       "      <td>0.011</td>\n",
       "      <td>0.004854</td>\n",
       "      <td>0.9720</td>\n",
       "    </tr>\n",
       "    <tr>\n",
       "      <th>RandomPop(alpha=100.0)</th>\n",
       "      <td>0.801403</td>\n",
       "      <td>0.010</td>\n",
       "      <td>0.002987</td>\n",
       "      <td>0.9781</td>\n",
       "    </tr>\n",
       "    <tr>\n",
       "      <th>RandomPop(alpha=0.5)</th>\n",
       "      <td>0.626552</td>\n",
       "      <td>0.009</td>\n",
       "      <td>0.003642</td>\n",
       "      <td>0.9700</td>\n",
       "    </tr>\n",
       "    <tr>\n",
       "      <th>RandomPop(alpha=-0.5)</th>\n",
       "      <td>0.601457</td>\n",
       "      <td>0.005</td>\n",
       "      <td>0.004515</td>\n",
       "      <td>0.9710</td>\n",
       "    </tr>\n",
       "  </tbody>\n",
       "</table>\n",
       "</div>"
      ],
      "text/plain": [
       "                        Coverage@10  HitRate@10   NDCG@10  Unexpectedness@10\n",
       "PopRec                     0.032110       0.080  0.041412             0.0088\n",
       "RandomPop(alpha=0.0)       0.618187       0.017  0.003498             0.9706\n",
       "RandomPop(alpha=1.0)       0.628171       0.014  0.006041             0.9739\n",
       "RandomPop(alpha=10.0)      0.660281       0.011  0.004854             0.9720\n",
       "RandomPop(alpha=100.0)     0.801403       0.010  0.002987             0.9781\n",
       "RandomPop(alpha=0.5)       0.626552       0.009  0.003642             0.9700\n",
       "RandomPop(alpha=-0.5)      0.601457       0.005  0.004515             0.9710"
      ]
     },
     "execution_count": 12,
     "metadata": {},
     "output_type": "execute_result"
    }
   ],
   "source": [
    "metrics.pandas_df.sort_values(\"HitRate@10\", ascending=False)"
   ]
  },
  {
   "cell_type": "code",
   "execution_count": null,
   "metadata": {},
   "outputs": [],
   "source": []
  }
 ],
 "metadata": {
  "kernelspec": {
   "display_name": "Python 3",
   "language": "python",
   "name": "python3"
  },
  "language_info": {
   "codemirror_mode": {
    "name": "ipython",
    "version": 3
   },
   "file_extension": ".py",
   "mimetype": "text/x-python",
   "name": "python",
   "nbconvert_exporter": "python",
   "pygments_lexer": "ipython3",
   "version": "3.7.5"
  },
  "name": "random_pop_test.ipynb"
 },
 "nbformat": 4,
 "nbformat_minor": 4
}
