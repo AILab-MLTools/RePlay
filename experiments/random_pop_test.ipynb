{
 "cells": [
  {
   "cell_type": "code",
   "execution_count": 1,
   "metadata": {},
   "outputs": [],
   "source": [
    "%load_ext autoreload\n",
    "%autoreload 2"
   ]
  },
  {
   "cell_type": "code",
   "execution_count": 2,
   "metadata": {
    "scrolled": false
   },
   "outputs": [
    {
     "data": {
      "text/html": [
       "\n",
       "            <div>\n",
       "                <p><b>SparkSession - hive</b></p>\n",
       "                \n",
       "        <div>\n",
       "            <p><b>SparkContext</b></p>\n",
       "\n",
       "            <p><a href=\"http://localhost:4040\">Spark UI</a></p>\n",
       "\n",
       "            <dl>\n",
       "              <dt>Version</dt>\n",
       "                <dd><code>v2.4.4</code></dd>\n",
       "              <dt>Master</dt>\n",
       "                <dd><code>local[*]</code></dd>\n",
       "              <dt>AppName</dt>\n",
       "                <dd><code>pyspark-shell</code></dd>\n",
       "            </dl>\n",
       "        </div>\n",
       "        \n",
       "            </div>\n",
       "        "
      ],
      "text/plain": [
       "<pyspark.sql.session.SparkSession at 0x12b5d0f90>"
      ]
     },
     "execution_count": 2,
     "metadata": {},
     "output_type": "execute_result"
    }
   ],
   "source": [
    "from sponge_bob_magic.session_handler import State\n",
    "\n",
    "spark = State().session\n",
    "spark"
   ]
  },
  {
   "cell_type": "code",
   "execution_count": 3,
   "metadata": {
    "scrolled": true
   },
   "outputs": [
    {
     "name": "stdout",
     "output_type": "stream",
     "text": [
      "ratings\n"
     ]
    },
    {
     "data": {
      "text/html": [
       "<div>\n",
       "<style scoped>\n",
       "    .dataframe tbody tr th:only-of-type {\n",
       "        vertical-align: middle;\n",
       "    }\n",
       "\n",
       "    .dataframe tbody tr th {\n",
       "        vertical-align: top;\n",
       "    }\n",
       "\n",
       "    .dataframe thead th {\n",
       "        text-align: right;\n",
       "    }\n",
       "</style>\n",
       "<table border=\"1\" class=\"dataframe\">\n",
       "  <thead>\n",
       "    <tr style=\"text-align: right;\">\n",
       "      <th></th>\n",
       "      <th>user_id</th>\n",
       "      <th>item_id</th>\n",
       "      <th>relevance</th>\n",
       "      <th>timestamp</th>\n",
       "    </tr>\n",
       "  </thead>\n",
       "  <tbody>\n",
       "    <tr>\n",
       "      <th>0</th>\n",
       "      <td>1</td>\n",
       "      <td>1193</td>\n",
       "      <td>5</td>\n",
       "      <td>978300760</td>\n",
       "    </tr>\n",
       "    <tr>\n",
       "      <th>1</th>\n",
       "      <td>1</td>\n",
       "      <td>661</td>\n",
       "      <td>3</td>\n",
       "      <td>978302109</td>\n",
       "    </tr>\n",
       "    <tr>\n",
       "      <th>2</th>\n",
       "      <td>1</td>\n",
       "      <td>914</td>\n",
       "      <td>3</td>\n",
       "      <td>978301968</td>\n",
       "    </tr>\n",
       "  </tbody>\n",
       "</table>\n",
       "</div>"
      ],
      "text/plain": [
       "   user_id  item_id  relevance  timestamp\n",
       "0        1     1193          5  978300760\n",
       "1        1      661          3  978302109\n",
       "2        1      914          3  978301968"
      ]
     },
     "metadata": {},
     "output_type": "display_data"
    },
    {
     "name": "stdout",
     "output_type": "stream",
     "text": [
      "\n",
      "users\n"
     ]
    },
    {
     "data": {
      "text/html": [
       "<div>\n",
       "<style scoped>\n",
       "    .dataframe tbody tr th:only-of-type {\n",
       "        vertical-align: middle;\n",
       "    }\n",
       "\n",
       "    .dataframe tbody tr th {\n",
       "        vertical-align: top;\n",
       "    }\n",
       "\n",
       "    .dataframe thead th {\n",
       "        text-align: right;\n",
       "    }\n",
       "</style>\n",
       "<table border=\"1\" class=\"dataframe\">\n",
       "  <thead>\n",
       "    <tr style=\"text-align: right;\">\n",
       "      <th></th>\n",
       "      <th>user_id</th>\n",
       "      <th>gender</th>\n",
       "      <th>age</th>\n",
       "      <th>occupation</th>\n",
       "      <th>zip_code</th>\n",
       "    </tr>\n",
       "  </thead>\n",
       "  <tbody>\n",
       "    <tr>\n",
       "      <th>0</th>\n",
       "      <td>1</td>\n",
       "      <td>F</td>\n",
       "      <td>1</td>\n",
       "      <td>10</td>\n",
       "      <td>48067</td>\n",
       "    </tr>\n",
       "    <tr>\n",
       "      <th>1</th>\n",
       "      <td>2</td>\n",
       "      <td>M</td>\n",
       "      <td>56</td>\n",
       "      <td>16</td>\n",
       "      <td>70072</td>\n",
       "    </tr>\n",
       "    <tr>\n",
       "      <th>2</th>\n",
       "      <td>3</td>\n",
       "      <td>M</td>\n",
       "      <td>25</td>\n",
       "      <td>15</td>\n",
       "      <td>55117</td>\n",
       "    </tr>\n",
       "  </tbody>\n",
       "</table>\n",
       "</div>"
      ],
      "text/plain": [
       "   user_id gender  age  occupation zip_code\n",
       "0        1      F    1          10    48067\n",
       "1        2      M   56          16    70072\n",
       "2        3      M   25          15    55117"
      ]
     },
     "metadata": {},
     "output_type": "display_data"
    },
    {
     "name": "stdout",
     "output_type": "stream",
     "text": [
      "\n",
      "items\n"
     ]
    },
    {
     "data": {
      "text/html": [
       "<div>\n",
       "<style scoped>\n",
       "    .dataframe tbody tr th:only-of-type {\n",
       "        vertical-align: middle;\n",
       "    }\n",
       "\n",
       "    .dataframe tbody tr th {\n",
       "        vertical-align: top;\n",
       "    }\n",
       "\n",
       "    .dataframe thead th {\n",
       "        text-align: right;\n",
       "    }\n",
       "</style>\n",
       "<table border=\"1\" class=\"dataframe\">\n",
       "  <thead>\n",
       "    <tr style=\"text-align: right;\">\n",
       "      <th></th>\n",
       "      <th>item_id</th>\n",
       "      <th>title</th>\n",
       "      <th>genres</th>\n",
       "    </tr>\n",
       "  </thead>\n",
       "  <tbody>\n",
       "    <tr>\n",
       "      <th>0</th>\n",
       "      <td>1</td>\n",
       "      <td>Toy Story (1995)</td>\n",
       "      <td>Animation|Children's|Comedy</td>\n",
       "    </tr>\n",
       "    <tr>\n",
       "      <th>1</th>\n",
       "      <td>2</td>\n",
       "      <td>Jumanji (1995)</td>\n",
       "      <td>Adventure|Children's|Fantasy</td>\n",
       "    </tr>\n",
       "    <tr>\n",
       "      <th>2</th>\n",
       "      <td>3</td>\n",
       "      <td>Grumpier Old Men (1995)</td>\n",
       "      <td>Comedy|Romance</td>\n",
       "    </tr>\n",
       "  </tbody>\n",
       "</table>\n",
       "</div>"
      ],
      "text/plain": [
       "   item_id                    title                        genres\n",
       "0        1         Toy Story (1995)   Animation|Children's|Comedy\n",
       "1        2           Jumanji (1995)  Adventure|Children's|Fantasy\n",
       "2        3  Grumpier Old Men (1995)                Comedy|Romance"
      ]
     },
     "metadata": {},
     "output_type": "display_data"
    },
    {
     "name": "stdout",
     "output_type": "stream",
     "text": [
      "\n"
     ]
    }
   ],
   "source": [
    "from sponge_bob_magic.datasets import MovieLens\n",
    "\n",
    "data = MovieLens(\"1m\")\n",
    "data.info()"
   ]
  },
  {
   "cell_type": "code",
   "execution_count": 4,
   "metadata": {},
   "outputs": [],
   "source": [
    "from sponge_bob_magic.data_preparator import DataPreparator\n",
    "\n",
    "log = DataPreparator().transform(\n",
    "    data=data.ratings,\n",
    "    columns_names={\n",
    "        \"user_id\": \"user_id\",\n",
    "        \"item_id\": \"item_id\",\n",
    "        \"relevance\": \"relevance\",\n",
    "        \"timestamp\": \"timestamp\"\n",
    "    }\n",
    ")"
   ]
  },
  {
   "cell_type": "code",
   "execution_count": 5,
   "metadata": {},
   "outputs": [],
   "source": [
    "from sponge_bob_magic.splitters import UserSplitter\n",
    "\n",
    "splitter = UserSplitter(\n",
    "    drop_cold_items=True,\n",
    "    drop_cold_users=True,\n",
    "    item_test_size=1,\n",
    "    user_test_size=1000,\n",
    "    seed=1234,\n",
    "    shuffle=True\n",
    ")"
   ]
  },
  {
   "cell_type": "code",
   "execution_count": 6,
   "metadata": {
    "scrolled": true
   },
   "outputs": [
    {
     "name": "stderr",
     "output_type": "stream",
     "text": [
      "/Users/shminke-ba/projects/sponge-bob-magic/venv/lib/python3.7/site-packages/lightfm/_lightfm_fast.py:9: UserWarning: LightFM was compiled without OpenMP support. Only a single thread will be used.\n",
      "  warnings.warn('LightFM was compiled without OpenMP support. '\n"
     ]
    }
   ],
   "source": [
    "from sponge_bob_magic.metrics import HitRate, NDCG, Coverage, Unexpectedness\n",
    "from sponge_bob_magic.models import RandomPop\n",
    "from sponge_bob_magic.scenarios import MainScenario\n",
    "\n",
    "scenario = MainScenario(\n",
    "    splitter=splitter,\n",
    "    recommender=RandomPop(),\n",
    "    criterion=HitRate,\n",
    "    metrics={HitRate: 10, Coverage: 10},\n",
    "    fallback_rec=None\n",
    ")"
   ]
  },
  {
   "cell_type": "code",
   "execution_count": 7,
   "metadata": {},
   "outputs": [
    {
     "name": "stderr",
     "output_type": "stream",
     "text": [
      "06-Apr-20 17:56:01, sponge_bob_magic, DEBUG: Деление лога на обучающую и тестовую выборку\n",
      "06-Apr-20 17:56:20, sponge_bob_magic, DEBUG: Длина трейна и теста: 999209 1000\n",
      "06-Apr-20 17:56:29, sponge_bob_magic, DEBUG: Количество пользователей в трейне и тесте: 6040, 1000\n",
      "06-Apr-20 17:56:45, sponge_bob_magic, DEBUG: Количество объектов в трейне и тесте: 3706, 663\n",
      "06-Apr-20 17:56:45, sponge_bob_magic, DEBUG: Инициализация метрик\n",
      "06-Apr-20 17:56:51, sponge_bob_magic, DEBUG: Обучение и предсказание дополнительной модели\n",
      "06-Apr-20 17:56:51, sponge_bob_magic, DEBUG: Пре-фит модели\n",
      "06-Apr-20 17:56:56, sponge_bob_magic, DEBUG: -------------\n",
      "06-Apr-20 17:56:56, sponge_bob_magic, DEBUG: Оптимизация параметров\n",
      "06-Apr-20 17:56:56, sponge_bob_magic, DEBUG: Максимальное количество попыток: 100 (чтобы поменять его, задайте параметр 'optuna_max_n_trials')\n",
      "06-Apr-20 17:56:56, sponge_bob_magic, DEBUG: -- Параметры: {'alpha': 7.502244802166226}\n",
      "06-Apr-20 17:56:56, sponge_bob_magic, DEBUG: -- Сохраняем optuna study на диск\n",
      "06-Apr-20 17:56:56, sponge_bob_magic, DEBUG: -- Второй фит модели в оптимизации\n",
      "06-Apr-20 17:57:03, sponge_bob_magic, DEBUG: -- Предикт модели в оптимизации\n",
      "06-Apr-20 17:57:13, sponge_bob_magic, DEBUG: -- Дополняем рекомендации fallback рекомендациями\n",
      "06-Apr-20 17:57:41, sponge_bob_magic, DEBUG: -- Длина рекомендаций: 10000\n",
      "06-Apr-20 17:57:41, sponge_bob_magic, DEBUG: -- Подсчет метрики в оптимизации\n",
      "06-Apr-20 17:58:14, sponge_bob_magic, DEBUG: HitRate=0.01\n",
      "\u001b[32m[I 2020-04-06 17:58:14,942]\u001b[0m Finished trial#0 resulted in value: 0.007. Current best value is 0.007 with parameters: {'alpha': 7.502244802166226}.\u001b[0m\n",
      "06-Apr-20 17:58:14, sponge_bob_magic, DEBUG: -- Параметры: {'alpha': 2.3707447760240608}\n",
      "06-Apr-20 17:58:14, sponge_bob_magic, DEBUG: -- Сохраняем optuna study на диск\n",
      "06-Apr-20 17:58:14, sponge_bob_magic, DEBUG: -- Второй фит модели в оптимизации\n",
      "06-Apr-20 17:58:15, sponge_bob_magic, DEBUG: -- Предикт модели в оптимизации\n",
      "06-Apr-20 17:58:16, sponge_bob_magic, DEBUG: -- Дополняем рекомендации fallback рекомендациями\n",
      "06-Apr-20 17:58:37, sponge_bob_magic, DEBUG: -- Длина рекомендаций: 10000\n",
      "06-Apr-20 17:58:37, sponge_bob_magic, DEBUG: -- Подсчет метрики в оптимизации\n",
      "06-Apr-20 17:58:59, sponge_bob_magic, DEBUG: HitRate=0.01\n",
      "\u001b[32m[I 2020-04-06 17:58:59,824]\u001b[0m Finished trial#1 resulted in value: 0.01. Current best value is 0.01 with parameters: {'alpha': 2.3707447760240608}.\u001b[0m\n",
      "06-Apr-20 17:58:59, sponge_bob_magic, DEBUG: -- Параметры: {'alpha': 6.384281804067535}\n",
      "06-Apr-20 17:58:59, sponge_bob_magic, DEBUG: -- Сохраняем optuna study на диск\n",
      "06-Apr-20 17:58:59, sponge_bob_magic, DEBUG: -- Второй фит модели в оптимизации\n",
      "06-Apr-20 17:59:00, sponge_bob_magic, DEBUG: -- Предикт модели в оптимизации\n",
      "06-Apr-20 17:59:00, sponge_bob_magic, DEBUG: -- Дополняем рекомендации fallback рекомендациями\n",
      "06-Apr-20 17:59:21, sponge_bob_magic, DEBUG: -- Длина рекомендаций: 10000\n",
      "06-Apr-20 17:59:21, sponge_bob_magic, DEBUG: -- Подсчет метрики в оптимизации\n",
      "06-Apr-20 17:59:41, sponge_bob_magic, DEBUG: HitRate=0.01\n",
      "\u001b[32m[I 2020-04-06 17:59:41,675]\u001b[0m Finished trial#2 resulted in value: 0.013. Current best value is 0.013 with parameters: {'alpha': 6.384281804067535}.\u001b[0m\n",
      "06-Apr-20 17:59:41, sponge_bob_magic, DEBUG: -- Параметры: {'alpha': 2.434136489801158}\n",
      "06-Apr-20 17:59:41, sponge_bob_magic, DEBUG: -- Сохраняем optuna study на диск\n",
      "06-Apr-20 17:59:41, sponge_bob_magic, DEBUG: -- Второй фит модели в оптимизации\n",
      "06-Apr-20 17:59:41, sponge_bob_magic, DEBUG: -- Предикт модели в оптимизации\n",
      "06-Apr-20 17:59:42, sponge_bob_magic, DEBUG: -- Дополняем рекомендации fallback рекомендациями\n",
      "06-Apr-20 18:00:01, sponge_bob_magic, DEBUG: -- Длина рекомендаций: 10000\n",
      "06-Apr-20 18:00:01, sponge_bob_magic, DEBUG: -- Подсчет метрики в оптимизации\n",
      "06-Apr-20 18:00:27, sponge_bob_magic, DEBUG: HitRate=0.01\n",
      "\u001b[32m[I 2020-04-06 18:00:27,083]\u001b[0m Finished trial#3 resulted in value: 0.011. Current best value is 0.013 with parameters: {'alpha': 6.384281804067535}.\u001b[0m\n",
      "06-Apr-20 18:00:27, sponge_bob_magic, DEBUG: -- Параметры: {'alpha': 0.7346174555330363}\n",
      "06-Apr-20 18:00:27, sponge_bob_magic, DEBUG: -- Сохраняем optuna study на диск\n",
      "06-Apr-20 18:00:27, sponge_bob_magic, DEBUG: -- Второй фит модели в оптимизации\n",
      "06-Apr-20 18:00:27, sponge_bob_magic, DEBUG: -- Предикт модели в оптимизации\n",
      "06-Apr-20 18:00:28, sponge_bob_magic, DEBUG: -- Дополняем рекомендации fallback рекомендациями\n",
      "06-Apr-20 18:00:48, sponge_bob_magic, DEBUG: -- Длина рекомендаций: 10000\n",
      "06-Apr-20 18:00:48, sponge_bob_magic, DEBUG: -- Подсчет метрики в оптимизации\n",
      "06-Apr-20 18:01:09, sponge_bob_magic, DEBUG: HitRate=0.01\n",
      "\u001b[32m[I 2020-04-06 18:01:09,987]\u001b[0m Finished trial#4 resulted in value: 0.009. Current best value is 0.013 with parameters: {'alpha': 6.384281804067535}.\u001b[0m\n",
      "06-Apr-20 18:01:09, sponge_bob_magic, DEBUG: -- Параметры: {'alpha': 2.8881473282018595}\n",
      "06-Apr-20 18:01:09, sponge_bob_magic, DEBUG: -- Сохраняем optuna study на диск\n",
      "06-Apr-20 18:01:09, sponge_bob_magic, DEBUG: -- Второй фит модели в оптимизации\n",
      "06-Apr-20 18:01:10, sponge_bob_magic, DEBUG: -- Предикт модели в оптимизации\n",
      "06-Apr-20 18:01:11, sponge_bob_magic, DEBUG: -- Дополняем рекомендации fallback рекомендациями\n",
      "06-Apr-20 18:01:31, sponge_bob_magic, DEBUG: -- Длина рекомендаций: 10000\n",
      "06-Apr-20 18:01:31, sponge_bob_magic, DEBUG: -- Подсчет метрики в оптимизации\n",
      "06-Apr-20 18:01:52, sponge_bob_magic, DEBUG: HitRate=0.01\n",
      "\u001b[32m[I 2020-04-06 18:01:52,134]\u001b[0m Finished trial#5 resulted in value: 0.007. Current best value is 0.013 with parameters: {'alpha': 6.384281804067535}.\u001b[0m\n",
      "06-Apr-20 18:01:52, sponge_bob_magic, DEBUG: -- Параметры: {'alpha': 4.2387976768152935}\n",
      "06-Apr-20 18:01:52, sponge_bob_magic, DEBUG: -- Сохраняем optuna study на диск\n",
      "06-Apr-20 18:01:52, sponge_bob_magic, DEBUG: -- Второй фит модели в оптимизации\n",
      "06-Apr-20 18:01:52, sponge_bob_magic, DEBUG: -- Предикт модели в оптимизации\n",
      "06-Apr-20 18:01:53, sponge_bob_magic, DEBUG: -- Дополняем рекомендации fallback рекомендациями\n",
      "06-Apr-20 18:02:16, sponge_bob_magic, DEBUG: -- Длина рекомендаций: 10000\n",
      "06-Apr-20 18:02:16, sponge_bob_magic, DEBUG: -- Подсчет метрики в оптимизации\n",
      "06-Apr-20 18:02:48, sponge_bob_magic, DEBUG: HitRate=0.01\n",
      "\u001b[32m[I 2020-04-06 18:02:48,292]\u001b[0m Finished trial#6 resulted in value: 0.006. Current best value is 0.013 with parameters: {'alpha': 6.384281804067535}.\u001b[0m\n",
      "06-Apr-20 18:02:48, sponge_bob_magic, DEBUG: -- Параметры: {'alpha': 9.506570116313906}\n",
      "06-Apr-20 18:02:48, sponge_bob_magic, DEBUG: -- Сохраняем optuna study на диск\n",
      "06-Apr-20 18:02:48, sponge_bob_magic, DEBUG: -- Второй фит модели в оптимизации\n",
      "06-Apr-20 18:02:48, sponge_bob_magic, DEBUG: -- Предикт модели в оптимизации\n",
      "06-Apr-20 18:02:49, sponge_bob_magic, DEBUG: -- Дополняем рекомендации fallback рекомендациями\n",
      "06-Apr-20 18:03:06, sponge_bob_magic, DEBUG: -- Длина рекомендаций: 10000\n",
      "06-Apr-20 18:03:06, sponge_bob_magic, DEBUG: -- Подсчет метрики в оптимизации\n",
      "06-Apr-20 18:03:28, sponge_bob_magic, DEBUG: HitRate=0.01\n",
      "\u001b[32m[I 2020-04-06 18:03:28,892]\u001b[0m Finished trial#7 resulted in value: 0.008. Current best value is 0.013 with parameters: {'alpha': 6.384281804067535}.\u001b[0m\n",
      "06-Apr-20 18:03:28, sponge_bob_magic, DEBUG: -- Параметры: {'alpha': 3.8350174032558444}\n",
      "06-Apr-20 18:03:28, sponge_bob_magic, DEBUG: -- Сохраняем optuna study на диск\n",
      "06-Apr-20 18:03:28, sponge_bob_magic, DEBUG: -- Второй фит модели в оптимизации\n",
      "06-Apr-20 18:03:29, sponge_bob_magic, DEBUG: -- Предикт модели в оптимизации\n",
      "06-Apr-20 18:03:29, sponge_bob_magic, DEBUG: -- Дополняем рекомендации fallback рекомендациями\n",
      "06-Apr-20 18:03:50, sponge_bob_magic, DEBUG: -- Длина рекомендаций: 10000\n",
      "06-Apr-20 18:03:50, sponge_bob_magic, DEBUG: -- Подсчет метрики в оптимизации\n",
      "06-Apr-20 18:04:20, sponge_bob_magic, DEBUG: HitRate=0.01\n",
      "\u001b[32m[I 2020-04-06 18:04:20,347]\u001b[0m Finished trial#8 resulted in value: 0.011. Current best value is 0.013 with parameters: {'alpha': 6.384281804067535}.\u001b[0m\n",
      "06-Apr-20 18:04:20, sponge_bob_magic, DEBUG: -- Параметры: {'alpha': 9.210210630172496}\n",
      "06-Apr-20 18:04:20, sponge_bob_magic, DEBUG: -- Сохраняем optuna study на диск\n",
      "06-Apr-20 18:04:20, sponge_bob_magic, DEBUG: -- Второй фит модели в оптимизации\n",
      "06-Apr-20 18:04:20, sponge_bob_magic, DEBUG: -- Предикт модели в оптимизации\n"
     ]
    },
    {
     "name": "stderr",
     "output_type": "stream",
     "text": [
      "06-Apr-20 18:04:21, sponge_bob_magic, DEBUG: -- Дополняем рекомендации fallback рекомендациями\n",
      "06-Apr-20 18:04:39, sponge_bob_magic, DEBUG: -- Длина рекомендаций: 10000\n",
      "06-Apr-20 18:04:39, sponge_bob_magic, DEBUG: -- Подсчет метрики в оптимизации\n",
      "06-Apr-20 18:04:58, sponge_bob_magic, DEBUG: HitRate=0.01\n",
      "\u001b[32m[I 2020-04-06 18:04:58,233]\u001b[0m Finished trial#9 resulted in value: 0.006. Current best value is 0.013 with parameters: {'alpha': 6.384281804067535}.\u001b[0m\n",
      "06-Apr-20 18:04:58, sponge_bob_magic, DEBUG: Лучшее значение метрики: 0.01\n",
      "06-Apr-20 18:04:58, sponge_bob_magic, DEBUG: Лучшие параметры: {'alpha': 6.384281804067535}\n"
     ]
    },
    {
     "name": "stdout",
     "output_type": "stream",
     "text": [
      "CPU times: user 7.43 s, sys: 1.84 s, total: 9.27 s\n",
      "Wall time: 8min 56s\n"
     ]
    },
    {
     "data": {
      "text/plain": [
       "{'alpha': 6.384281804067535}"
      ]
     },
     "execution_count": 7,
     "metadata": {},
     "output_type": "execute_result"
    }
   ],
   "source": [
    "%%time\n",
    "\n",
    "scenario.research(\n",
    "    params_grid={\"alpha\": {\"type\": \"uniform\", \"args\": [-1, 10]}},\n",
    "    log=log,\n",
    "    k=10,\n",
    "    n_trials=10\n",
    ")"
   ]
  },
  {
   "cell_type": "code",
   "execution_count": 8,
   "metadata": {},
   "outputs": [
    {
     "data": {
      "text/html": [
       "<div>\n",
       "<style scoped>\n",
       "    .dataframe tbody tr th:only-of-type {\n",
       "        vertical-align: middle;\n",
       "    }\n",
       "\n",
       "    .dataframe tbody tr th {\n",
       "        vertical-align: top;\n",
       "    }\n",
       "\n",
       "    .dataframe thead th {\n",
       "        text-align: right;\n",
       "    }\n",
       "</style>\n",
       "<table border=\"1\" class=\"dataframe\">\n",
       "  <thead>\n",
       "    <tr style=\"text-align: right;\">\n",
       "      <th></th>\n",
       "      <th>Coverage@10</th>\n",
       "      <th>HitRate@10</th>\n",
       "    </tr>\n",
       "  </thead>\n",
       "  <tbody>\n",
       "    <tr>\n",
       "      <th>RandomPop({'alpha': 6.384281804067535})</th>\n",
       "      <td>0.652455</td>\n",
       "      <td>0.013</td>\n",
       "    </tr>\n",
       "    <tr>\n",
       "      <th>RandomPop({'alpha': 2.434136489801158})</th>\n",
       "      <td>0.614139</td>\n",
       "      <td>0.011</td>\n",
       "    </tr>\n",
       "    <tr>\n",
       "      <th>RandomPop({'alpha': 3.8350174032558444})</th>\n",
       "      <td>0.633297</td>\n",
       "      <td>0.011</td>\n",
       "    </tr>\n",
       "    <tr>\n",
       "      <th>RandomPop({'alpha': 2.3707447760240608})</th>\n",
       "      <td>0.617647</td>\n",
       "      <td>0.010</td>\n",
       "    </tr>\n",
       "    <tr>\n",
       "      <th>RandomPop({'alpha': 0.7346174555330363})</th>\n",
       "      <td>0.612250</td>\n",
       "      <td>0.009</td>\n",
       "    </tr>\n",
       "    <tr>\n",
       "      <th>RandomPop({'alpha': 9.506570116313906})</th>\n",
       "      <td>0.645170</td>\n",
       "      <td>0.008</td>\n",
       "    </tr>\n",
       "    <tr>\n",
       "      <th>RandomPop({'alpha': 7.502244802166226})</th>\n",
       "      <td>0.635456</td>\n",
       "      <td>0.007</td>\n",
       "    </tr>\n",
       "    <tr>\n",
       "      <th>RandomPop({'alpha': 2.8881473282018595})</th>\n",
       "      <td>0.627091</td>\n",
       "      <td>0.007</td>\n",
       "    </tr>\n",
       "    <tr>\n",
       "      <th>RandomPop({'alpha': 4.2387976768152935})</th>\n",
       "      <td>0.640583</td>\n",
       "      <td>0.006</td>\n",
       "    </tr>\n",
       "    <tr>\n",
       "      <th>RandomPop({'alpha': 9.210210630172496})</th>\n",
       "      <td>0.636266</td>\n",
       "      <td>0.006</td>\n",
       "    </tr>\n",
       "  </tbody>\n",
       "</table>\n",
       "</div>"
      ],
      "text/plain": [
       "                                          Coverage@10  HitRate@10\n",
       "RandomPop({'alpha': 6.384281804067535})      0.652455       0.013\n",
       "RandomPop({'alpha': 2.434136489801158})      0.614139       0.011\n",
       "RandomPop({'alpha': 3.8350174032558444})     0.633297       0.011\n",
       "RandomPop({'alpha': 2.3707447760240608})     0.617647       0.010\n",
       "RandomPop({'alpha': 0.7346174555330363})     0.612250       0.009\n",
       "RandomPop({'alpha': 9.506570116313906})      0.645170       0.008\n",
       "RandomPop({'alpha': 7.502244802166226})      0.635456       0.007\n",
       "RandomPop({'alpha': 2.8881473282018595})     0.627091       0.007\n",
       "RandomPop({'alpha': 4.2387976768152935})     0.640583       0.006\n",
       "RandomPop({'alpha': 9.210210630172496})      0.636266       0.006"
      ]
     },
     "execution_count": 8,
     "metadata": {},
     "output_type": "execute_result"
    }
   ],
   "source": [
    "scenario.experiment.pandas_df.sort_values(\"HitRate@10\", ascending=False)"
   ]
  },
  {
   "cell_type": "code",
   "execution_count": null,
   "metadata": {},
   "outputs": [],
   "source": []
  }
 ],
 "metadata": {
  "kernelspec": {
   "display_name": "Python 3",
   "language": "python",
   "name": "python3"
  },
  "language_info": {
   "codemirror_mode": {
    "name": "ipython",
    "version": 3
   },
   "file_extension": ".py",
   "mimetype": "text/x-python",
   "name": "python",
   "nbconvert_exporter": "python",
   "pygments_lexer": "ipython3",
   "version": "3.7.6"
  },
  "name": "random_pop_test.ipynb"
 },
 "nbformat": 4,
 "nbformat_minor": 4
}
