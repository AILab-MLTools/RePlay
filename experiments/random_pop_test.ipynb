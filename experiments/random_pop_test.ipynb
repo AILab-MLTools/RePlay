{
 "cells": [
  {
   "cell_type": "code",
   "execution_count": 1,
   "metadata": {},
   "outputs": [],
   "source": [
    "%load_ext autoreload\n",
    "%autoreload 2"
   ]
  },
  {
   "cell_type": "code",
   "execution_count": 2,
   "metadata": {},
   "outputs": [
    {
     "data": {
      "text/html": [
       "\n",
       "            <div>\n",
       "                <p><b>SparkSession - hive</b></p>\n",
       "                \n",
       "        <div>\n",
       "            <p><b>SparkContext</b></p>\n",
       "\n",
       "            <p><a href=\"http://localhost:4040\">Spark UI</a></p>\n",
       "\n",
       "            <dl>\n",
       "              <dt>Version</dt>\n",
       "                <dd><code>v3.0.0</code></dd>\n",
       "              <dt>Master</dt>\n",
       "                <dd><code>local[*]</code></dd>\n",
       "              <dt>AppName</dt>\n",
       "                <dd><code>pyspark-shell</code></dd>\n",
       "            </dl>\n",
       "        </div>\n",
       "        \n",
       "            </div>\n",
       "        "
      ],
      "text/plain": [
       "<pyspark.sql.session.SparkSession at 0x10abd6ad0>"
      ]
     },
     "execution_count": 2,
     "metadata": {},
     "output_type": "execute_result"
    }
   ],
   "source": [
    "from replay.session_handler import State\n",
    "\n",
    "spark = State().session\n",
    "spark"
   ]
  },
  {
   "cell_type": "code",
   "execution_count": 5,
   "metadata": {},
   "outputs": [
    {
     "data": {
      "text/html": [
       "<div>\n",
       "<style scoped>\n",
       "    .dataframe tbody tr th:only-of-type {\n",
       "        vertical-align: middle;\n",
       "    }\n",
       "\n",
       "    .dataframe tbody tr th {\n",
       "        vertical-align: top;\n",
       "    }\n",
       "\n",
       "    .dataframe thead th {\n",
       "        text-align: right;\n",
       "    }\n",
       "</style>\n",
       "<table border=\"1\" class=\"dataframe\">\n",
       "  <thead>\n",
       "    <tr style=\"text-align: right;\">\n",
       "      <th></th>\n",
       "      <th>user_id</th>\n",
       "      <th>item_id</th>\n",
       "      <th>relevance</th>\n",
       "      <th>timestamp</th>\n",
       "    </tr>\n",
       "  </thead>\n",
       "  <tbody>\n",
       "    <tr>\n",
       "      <th>0</th>\n",
       "      <td>1</td>\n",
       "      <td>1193</td>\n",
       "      <td>5</td>\n",
       "      <td>978300760</td>\n",
       "    </tr>\n",
       "    <tr>\n",
       "      <th>1</th>\n",
       "      <td>1</td>\n",
       "      <td>661</td>\n",
       "      <td>3</td>\n",
       "      <td>978302109</td>\n",
       "    </tr>\n",
       "    <tr>\n",
       "      <th>2</th>\n",
       "      <td>1</td>\n",
       "      <td>914</td>\n",
       "      <td>3</td>\n",
       "      <td>978301968</td>\n",
       "    </tr>\n",
       "    <tr>\n",
       "      <th>3</th>\n",
       "      <td>1</td>\n",
       "      <td>3408</td>\n",
       "      <td>4</td>\n",
       "      <td>978300275</td>\n",
       "    </tr>\n",
       "    <tr>\n",
       "      <th>4</th>\n",
       "      <td>1</td>\n",
       "      <td>2355</td>\n",
       "      <td>5</td>\n",
       "      <td>978824291</td>\n",
       "    </tr>\n",
       "  </tbody>\n",
       "</table>\n",
       "</div>"
      ],
      "text/plain": [
       "   user_id  item_id  relevance  timestamp\n",
       "0        1     1193          5  978300760\n",
       "1        1      661          3  978302109\n",
       "2        1      914          3  978301968\n",
       "3        1     3408          4  978300275\n",
       "4        1     2355          5  978824291"
      ]
     },
     "execution_count": 5,
     "metadata": {},
     "output_type": "execute_result"
    }
   ],
   "source": [
    "import pandas as pd\n",
    "df = pd.read_csv(\"ml1m.dat\", sep=\"\\t\", names=[\"user_id\", \"item_id\", \"relevance\", \"timestamp\"])\n",
    "df.head()"
   ]
  },
  {
   "cell_type": "code",
   "execution_count": 6,
   "metadata": {},
   "outputs": [],
   "source": [
    "from replay.data_preparator import DataPreparator\n",
    "\n",
    "log = DataPreparator().transform(\n",
    "    data=df,\n",
    "    columns_names={\n",
    "        \"user_id\": \"user_id\",\n",
    "        \"item_id\": \"item_id\",\n",
    "        \"relevance\": \"relevance\",\n",
    "        \"timestamp\": \"timestamp\"\n",
    "    }\n",
    ")"
   ]
  },
  {
   "cell_type": "code",
   "execution_count": 7,
   "metadata": {},
   "outputs": [
    {
     "data": {
      "text/plain": [
       "(999209, 999)"
      ]
     },
     "execution_count": 7,
     "metadata": {},
     "output_type": "execute_result"
    }
   ],
   "source": [
    "from replay.splitters import UserSplitter\n",
    "\n",
    "splitter = UserSplitter(\n",
    "    drop_cold_items=True,\n",
    "    drop_cold_users=True,\n",
    "    item_test_size=1,\n",
    "    user_test_size=1000,\n",
    "    seed=1234,\n",
    "    shuffle=True\n",
    ")\n",
    "train, test = splitter.split(log)\n",
    "(\n",
    "    train.count(), \n",
    "    test.count()\n",
    ")"
   ]
  },
  {
   "cell_type": "code",
   "execution_count": 15,
   "metadata": {},
   "outputs": [],
   "source": [
    "from replay.metrics import HitRate, NDCG, Coverage, Unexpectedness\n",
    "from replay.experiment import Experiment\n",
    "\n",
    "metrics = Experiment(\n",
    "    test,\n",
    "    {\n",
    "        NDCG(): 10,\n",
    "        HitRate(): 10,\n",
    "        Coverage(log): 10,\n",
    "        Unexpectedness(log): 10\n",
    "    }\n",
    ")"
   ]
  },
  {
   "cell_type": "code",
   "execution_count": 19,
   "metadata": {},
   "outputs": [
    {
     "name": "stderr",
     "output_type": "stream",
     "text": [
      "02-Mar-21 16:50:29, replay, DEBUG: Начало обучения PopRec\n",
      "DEBUG:replay:Начало обучения PopRec\n",
      "02-Mar-21 16:50:29, replay, DEBUG: Предварительная стадия обучения (pre-fit)\n",
      "DEBUG:replay:Предварительная стадия обучения (pre-fit)\n",
      "02-Mar-21 16:50:30, replay, DEBUG: Основная стадия обучения (fit)\n",
      "DEBUG:replay:Основная стадия обучения (fit)\n",
      "02-Mar-21 16:50:32, replay, DEBUG: Начало предикта PopRec\n",
      "DEBUG:replay:Начало предикта PopRec\n",
      "02-Mar-21 16:50:32, replay, DEBUG: Выделение дефолтных пользователей\n",
      "DEBUG:replay:Выделение дефолтных пользователей\n"
     ]
    },
    {
     "name": "stdout",
     "output_type": "stream",
     "text": [
      "CPU times: user 1.2 s, sys: 182 ms, total: 1.39 s\n",
      "Wall time: 19.7 s\n"
     ]
    }
   ],
   "source": [
    "%%time\n",
    "from replay.models import PopRec\n",
    "\n",
    "metrics.add_result(\n",
    "    \"PopRec\",\n",
    "    PopRec().fit_predict(\n",
    "        log=train,\n",
    "        k=10,\n",
    "        users=test.select(\"user_id\").distinct()\n",
    "    )\n",
    ")"
   ]
  },
  {
   "cell_type": "code",
   "execution_count": 17,
   "metadata": {},
   "outputs": [
    {
     "name": "stderr",
     "output_type": "stream",
     "text": [
      "02-Mar-21 16:45:21, replay, DEBUG: Начало обучения RandomRec\n",
      "DEBUG:replay:Начало обучения RandomRec\n",
      "02-Mar-21 16:45:21, replay, DEBUG: Предварительная стадия обучения (pre-fit)\n",
      "DEBUG:replay:Предварительная стадия обучения (pre-fit)\n",
      "02-Mar-21 16:45:21, replay, DEBUG: Основная стадия обучения (fit)\n",
      "DEBUG:replay:Основная стадия обучения (fit)\n",
      "02-Mar-21 16:45:23, replay, DEBUG: Начало предикта RandomRec\n",
      "DEBUG:replay:Начало предикта RandomRec\n",
      "02-Mar-21 16:45:23, replay, DEBUG: Выделение дефолтных пользователей\n",
      "DEBUG:replay:Выделение дефолтных пользователей\n",
      "02-Mar-21 16:45:40, replay, DEBUG: Начало обучения RandomRec\n",
      "DEBUG:replay:Начало обучения RandomRec\n",
      "02-Mar-21 16:45:40, replay, DEBUG: Предварительная стадия обучения (pre-fit)\n",
      "DEBUG:replay:Предварительная стадия обучения (pre-fit)\n",
      "02-Mar-21 16:45:40, replay, DEBUG: Основная стадия обучения (fit)\n",
      "DEBUG:replay:Основная стадия обучения (fit)\n",
      "02-Mar-21 16:45:41, replay, DEBUG: Начало предикта RandomRec\n",
      "DEBUG:replay:Начало предикта RandomRec\n",
      "02-Mar-21 16:45:41, replay, DEBUG: Выделение дефолтных пользователей\n",
      "DEBUG:replay:Выделение дефолтных пользователей\n",
      "02-Mar-21 16:45:57, replay, DEBUG: Начало обучения RandomRec\n",
      "DEBUG:replay:Начало обучения RandomRec\n",
      "02-Mar-21 16:45:57, replay, DEBUG: Предварительная стадия обучения (pre-fit)\n",
      "DEBUG:replay:Предварительная стадия обучения (pre-fit)\n",
      "02-Mar-21 16:45:58, replay, DEBUG: Основная стадия обучения (fit)\n",
      "DEBUG:replay:Основная стадия обучения (fit)\n",
      "02-Mar-21 16:45:59, replay, DEBUG: Начало предикта RandomRec\n",
      "DEBUG:replay:Начало предикта RandomRec\n",
      "02-Mar-21 16:45:59, replay, DEBUG: Выделение дефолтных пользователей\n",
      "DEBUG:replay:Выделение дефолтных пользователей\n",
      "02-Mar-21 16:46:15, replay, DEBUG: Начало обучения RandomRec\n",
      "DEBUG:replay:Начало обучения RandomRec\n",
      "02-Mar-21 16:46:15, replay, DEBUG: Предварительная стадия обучения (pre-fit)\n",
      "DEBUG:replay:Предварительная стадия обучения (pre-fit)\n",
      "02-Mar-21 16:46:16, replay, DEBUG: Основная стадия обучения (fit)\n",
      "DEBUG:replay:Основная стадия обучения (fit)\n",
      "02-Mar-21 16:46:17, replay, DEBUG: Начало предикта RandomRec\n",
      "DEBUG:replay:Начало предикта RandomRec\n",
      "02-Mar-21 16:46:17, replay, DEBUG: Выделение дефолтных пользователей\n",
      "DEBUG:replay:Выделение дефолтных пользователей\n",
      "02-Mar-21 16:46:33, replay, DEBUG: Начало обучения RandomRec\n",
      "DEBUG:replay:Начало обучения RandomRec\n",
      "02-Mar-21 16:46:33, replay, DEBUG: Предварительная стадия обучения (pre-fit)\n",
      "DEBUG:replay:Предварительная стадия обучения (pre-fit)\n",
      "02-Mar-21 16:46:34, replay, DEBUG: Основная стадия обучения (fit)\n",
      "DEBUG:replay:Основная стадия обучения (fit)\n",
      "02-Mar-21 16:46:35, replay, DEBUG: Начало предикта RandomRec\n",
      "DEBUG:replay:Начало предикта RandomRec\n",
      "02-Mar-21 16:46:35, replay, DEBUG: Выделение дефолтных пользователей\n",
      "DEBUG:replay:Выделение дефолтных пользователей\n",
      "02-Mar-21 16:46:50, replay, DEBUG: Начало обучения RandomRec\n",
      "DEBUG:replay:Начало обучения RandomRec\n",
      "02-Mar-21 16:46:50, replay, DEBUG: Предварительная стадия обучения (pre-fit)\n",
      "DEBUG:replay:Предварительная стадия обучения (pre-fit)\n",
      "02-Mar-21 16:46:51, replay, DEBUG: Основная стадия обучения (fit)\n",
      "DEBUG:replay:Основная стадия обучения (fit)\n",
      "02-Mar-21 16:46:53, replay, DEBUG: Начало предикта RandomRec\n",
      "DEBUG:replay:Начало предикта RandomRec\n",
      "02-Mar-21 16:46:53, replay, DEBUG: Выделение дефолтных пользователей\n",
      "DEBUG:replay:Выделение дефолтных пользователей\n"
     ]
    },
    {
     "name": "stdout",
     "output_type": "stream",
     "text": [
      "CPU times: user 7.66 s, sys: 1.15 s, total: 8.81 s\n",
      "Wall time: 1min 47s\n"
     ]
    }
   ],
   "source": [
    "%%time\n",
    "from replay.models import RandomRec\n",
    "\n",
    "for alpha in [-0.5, 0.0, 0.5, 1.0, 10.0, 100.0]:\n",
    "    metrics.add_result(\n",
    "        f\"RandomRec(alpha={alpha})\",\n",
    "        RandomRec(alpha=alpha).fit_predict(\n",
    "            log=train,\n",
    "            k=10,\n",
    "            users=test.select(\"user_id\").distinct()\n",
    "        )\n",
    "    )"
   ]
  },
  {
   "cell_type": "code",
   "execution_count": 20,
   "metadata": {},
   "outputs": [
    {
     "data": {
      "text/html": [
       "<div>\n",
       "<style scoped>\n",
       "    .dataframe tbody tr th:only-of-type {\n",
       "        vertical-align: middle;\n",
       "    }\n",
       "\n",
       "    .dataframe tbody tr th {\n",
       "        vertical-align: top;\n",
       "    }\n",
       "\n",
       "    .dataframe thead th {\n",
       "        text-align: right;\n",
       "    }\n",
       "</style>\n",
       "<table border=\"1\" class=\"dataframe\">\n",
       "  <thead>\n",
       "    <tr style=\"text-align: right;\">\n",
       "      <th></th>\n",
       "      <th>Coverage@10</th>\n",
       "      <th>HitRate@10</th>\n",
       "      <th>NDCG@10</th>\n",
       "      <th>Unexpectedness@10</th>\n",
       "    </tr>\n",
       "  </thead>\n",
       "  <tbody>\n",
       "    <tr>\n",
       "      <th>PopRec</th>\n",
       "      <td>0.033729</td>\n",
       "      <td>0.077077</td>\n",
       "      <td>0.043189</td>\n",
       "      <td>0.165033</td>\n",
       "    </tr>\n",
       "    <tr>\n",
       "      <th>RandomRec(alpha=-0.5)</th>\n",
       "      <td>0.898003</td>\n",
       "      <td>0.004004</td>\n",
       "      <td>0.000988</td>\n",
       "      <td>0.165364</td>\n",
       "    </tr>\n",
       "    <tr>\n",
       "      <th>RandomRec(alpha=0.5)</th>\n",
       "      <td>0.919320</td>\n",
       "      <td>0.004004</td>\n",
       "      <td>0.000965</td>\n",
       "      <td>0.165397</td>\n",
       "    </tr>\n",
       "    <tr>\n",
       "      <th>RandomRec(alpha=100.0)</th>\n",
       "      <td>0.928494</td>\n",
       "      <td>0.004004</td>\n",
       "      <td>0.001047</td>\n",
       "      <td>0.165397</td>\n",
       "    </tr>\n",
       "    <tr>\n",
       "      <th>RandomRec(alpha=1.0)</th>\n",
       "      <td>0.923368</td>\n",
       "      <td>0.003003</td>\n",
       "      <td>0.003867</td>\n",
       "      <td>0.165397</td>\n",
       "    </tr>\n",
       "    <tr>\n",
       "      <th>RandomRec(alpha=10.0)</th>\n",
       "      <td>0.924177</td>\n",
       "      <td>0.003003</td>\n",
       "      <td>0.001821</td>\n",
       "      <td>0.165397</td>\n",
       "    </tr>\n",
       "    <tr>\n",
       "      <th>RandomRec(alpha=0.0)</th>\n",
       "      <td>0.910416</td>\n",
       "      <td>0.001001</td>\n",
       "      <td>0.001922</td>\n",
       "      <td>0.165397</td>\n",
       "    </tr>\n",
       "  </tbody>\n",
       "</table>\n",
       "</div>"
      ],
      "text/plain": [
       "                        Coverage@10  HitRate@10   NDCG@10  Unexpectedness@10\n",
       "PopRec                     0.033729    0.077077  0.043189           0.165033\n",
       "RandomRec(alpha=-0.5)      0.898003    0.004004  0.000988           0.165364\n",
       "RandomRec(alpha=0.5)       0.919320    0.004004  0.000965           0.165397\n",
       "RandomRec(alpha=100.0)     0.928494    0.004004  0.001047           0.165397\n",
       "RandomRec(alpha=1.0)       0.923368    0.003003  0.003867           0.165397\n",
       "RandomRec(alpha=10.0)      0.924177    0.003003  0.001821           0.165397\n",
       "RandomRec(alpha=0.0)       0.910416    0.001001  0.001922           0.165397"
      ]
     },
     "execution_count": 20,
     "metadata": {},
     "output_type": "execute_result"
    }
   ],
   "source": [
    "metrics.results.sort_values(\"HitRate@10\", ascending=False)"
   ]
  },
  {
   "cell_type": "code",
   "execution_count": null,
   "metadata": {},
   "outputs": [],
   "source": []
  }
 ],
 "metadata": {
  "kernelspec": {
   "display_name": "Python 3",
   "language": "python",
   "name": "python3"
  },
  "language_info": {
   "codemirror_mode": {
    "name": "ipython",
    "version": 3
   },
   "file_extension": ".py",
   "mimetype": "text/x-python",
   "name": "python",
   "nbconvert_exporter": "python",
   "pygments_lexer": "ipython3",
   "version": "3.7.7"
  },
  "name": "random_pop_test.ipynb"
 },
 "nbformat": 4,
 "nbformat_minor": 4
}
