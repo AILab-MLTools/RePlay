{
 "cells": [
  {
   "cell_type": "code",
   "execution_count": 1,
   "metadata": {},
   "outputs": [],
   "source": [
    "from sponge_bob_magic.sber_datasets import SberAdviser"
   ]
  },
  {
   "cell_type": "code",
   "execution_count": 2,
   "metadata": {},
   "outputs": [
    {
     "name": "stderr",
     "output_type": "stream",
     "text": [
      "/home/shminke-ba/projects/sponge-bob-magic/venv/lib/python3.6/site-packages/pyarrow/util.py:39: FutureWarning: pyarrow.open_stream is deprecated as of 0.17.0, please use pyarrow.ipc.open_stream instead\n",
      "  warnings.warn(msg, FutureWarning)\n"
     ]
    }
   ],
   "source": [
    "sber_adviser = SberAdviser(\"../../SberAdviser/data\")"
   ]
  },
  {
   "cell_type": "code",
   "execution_count": 3,
   "metadata": {},
   "outputs": [
    {
     "data": {
      "text/plain": [
       "DataFrame[user_id: string, item_id: string]"
      ]
     },
     "execution_count": 3,
     "metadata": {},
     "output_type": "execute_result"
    }
   ],
   "source": [
    "# положительным примером взаимодействия считаются сделки больше определённой суммы\n",
    "# user_id --- тот, кому подыскивается поставщик, item_id --- потенциальный поставщик\n",
    "sber_adviser.log"
   ]
  },
  {
   "cell_type": "code",
   "execution_count": 4,
   "metadata": {},
   "outputs": [
    {
     "name": "stdout",
     "output_type": "stream",
     "text": [
      "72253\n",
      "7642\n",
      "20395\n"
     ]
    }
   ],
   "source": [
    "# в общей сложности в базе имеется более 10 млн ИНН\n",
    "# но для пилота отбираются только те, которые работают в Нижегородской области\n",
    "print(sber_adviser.log.count())\n",
    "print(sber_adviser.log.select(\"user_id\").distinct().count())\n",
    "print(sber_adviser.log.select(\"item_id\").distinct().count())"
   ]
  },
  {
   "cell_type": "code",
   "execution_count": 5,
   "metadata": {},
   "outputs": [
    {
     "name": "stdout",
     "output_type": "stream",
     "text": [
      "41071\n",
      "41071\n"
     ]
    }
   ],
   "source": [
    "# поскольку задача симметрика (user и item --- это компании)\n",
    "# то свойства пользователей и объектов --- это одно и то же\n",
    "print(sber_adviser.user_features.count())\n",
    "print(sber_adviser.item_features.count())"
   ]
  },
  {
   "cell_type": "code",
   "execution_count": 6,
   "metadata": {},
   "outputs": [
    {
     "data": {
      "text/plain": [
       "DataFrame[user_id: string, wntm_0: double, wntm_1: double, wntm_2: double, wntm_3: double, wntm_4: double, wntm_5: double, wntm_6: double, wntm_7: double, wntm_8: double, wntm_9: double, wntm_10: double, wntm_11: double, wntm_12: double, wntm_13: double, wntm_14: double, wntm_15: double, wntm_16: double, wntm_17: double, wntm_18: double, wntm_19: double, wntm_20: double, wntm_21: double, wntm_22: double, wntm_23: double, wntm_24: double, wntm_25: double, wntm_26: double, wntm_27: double, wntm_28: double, wntm_29: double, wntm_30: double, wntm_31: double, wntm_32: double, wntm_33: double, wntm_34: double, wntm_35: double, wntm_36: double, wntm_37: double, wntm_38: double, wntm_39: double, wntm_40: double, wntm_41: double, wntm_42: double, wntm_43: double, wntm_44: double, wntm_45: double, wntm_46: double, wntm_47: double, wntm_48: double, wntm_49: double, wntm_50: double, wntm_51: double, wntm_52: double, wntm_53: double, wntm_54: double, wntm_55: double, wntm_56: double, wntm_57: double, wntm_58: double, wntm_59: double, wntm_60: double, wntm_61: double, wntm_62: double, wntm_63: double, wntm_64: double, wntm_65: double, wntm_66: double, wntm_67: double, wntm_68: double, wntm_69: double, wntm_70: double, wntm_71: double, wntm_72: double, wntm_73: double, wntm_74: double, wntm_75: double, wntm_76: double, wntm_77: double, wntm_78: double, wntm_79: double, wntm_80: double, wntm_81: double, wntm_82: double, wntm_83: double, wntm_84: double, wntm_85: double, wntm_86: double, wntm_87: double, wntm_88: double, wntm_89: double, wntm_90: double, wntm_91: double, wntm_92: double, wntm_93: double, wntm_94: double, wntm_95: double, wntm_96: double, wntm_97: double, wntm_98: double, wntm_99: double, wntm_100: double, wntm_101: double, wntm_102: double, wntm_103: double, wntm_104: double, wntm_105: double, wntm_106: double, wntm_107: double, wntm_108: double, wntm_109: double, wntm_110: double, wntm_111: double, wntm_112: double, wntm_113: double, wntm_114: double, wntm_115: double, wntm_116: double, wntm_117: double, wntm_118: double, wntm_119: double, wntm_120: double, wntm_121: double, wntm_122: double, wntm_123: double, wntm_124: double, wntm_125: double, wntm_126: double, wntm_127: double, wntm_128: double, wntm_129: double, wntm_130: double, wntm_131: double, wntm_132: double, wntm_133: double, wntm_134: double, wntm_135: double, wntm_136: double, wntm_137: double, wntm_138: double, wntm_139: double, wntm_140: double, wntm_141: double, wntm_142: double, wntm_143: double, wntm_144: double, wntm_145: double, wntm_146: double, wntm_147: double, wntm_148: double, wntm_149: double, wntm_150: double, wntm_151: double, wntm_152: double, wntm_153: double, wntm_154: double, wntm_155: double, wntm_156: double, wntm_157: double, wntm_158: double, wntm_159: double, wntm_160: double, wntm_161: double, wntm_162: double, wntm_163: double, wntm_164: double, wntm_165: double, wntm_166: double, wntm_167: double, wntm_168: double, wntm_169: double, wntm_170: double, wntm_171: double, wntm_172: double, wntm_173: double, wntm_174: double, wntm_175: double, wntm_176: double, wntm_177: double, wntm_178: double, wntm_179: double, wntm_180: double, wntm_181: double, wntm_182: double, wntm_183: double, wntm_184: double, wntm_185: double, wntm_186: double, wntm_187: double, wntm_188: double, wntm_189: double, wntm_190: double, wntm_191: double, wntm_192: double, wntm_193: double, wntm_194: double, wntm_195: double, wntm_196: double, wntm_197: double, wntm_198: double, wntm_199: double, okved_0: double, okved_1: double, okved_2: double, okved_3: double, okved_4: double, okved_5: double, okved_6: double, okved_7: double, okved_8: double, okved_9: double, okved_10: double, okved_11: double, okved_12: double, okved_13: double, okved_14: double, okved_15: double, okved_16: double, okved_17: double, okved_18: double, okved_19: double, okved_20: double, okved_21: double, okved_22: double, okved_23: double, okved_24: double, okved_25: double, okved_26: double, okved_27: double, okved_28: double, okved_29: double, okved_30: double, okved_31: double, okved_32: double, okved_33: double, okved_34: double, okved_35: double, okved_36: double, okved_37: double, okved_38: double, okved_39: double, okved_40: double, okved_41: double, okved_42: double, okved_43: double, okved_44: double, okved_45: double, okved_46: double, okved_47: double, okved_48: double, okved_49: double, okved_50: double, okved_51: double, okved_52: double, okved_53: double, okved_54: double, okved_55: double, okved_56: double, okved_57: double, okved_58: double, okved_59: double, okved_60: double, okved_61: double, okved_62: double, okved_63: double, okved_64: double, okved_65: double, okved_66: double, okved_67: double, okved_68: double, okved_69: double, okved_70: double, okved_71: double, okved_72: double, okved_73: double, okved_74: double, okved_75: double, okved_76: double, okved_77: double, okved_78: double, okved_79: double, okved_80: double, okved_81: double, okved_82: double, okved_83: double, okved_84: double, okved_85: double, okved_86: double, okved_87: double, okved_88: double, okved_89: double, okved_90: double, okved_91: double, okved_92: double, okved_93: double, okved_94: double, okved_95: double, okved_96: double, okved_97: double, okved_98: double, okved_99: double, okved_100: double, okved_101: double, okved_102: double, okved_103: double, okved_104: double, okved_105: double, okved_106: double, okved_107: double, okved_108: double, okved_109: double, okved_110: double, okved_111: double, okved_112: double, okved_113: double, okved_114: double, okved_115: double, okved_116: double, okved_117: double, okved_118: double, okved_119: double, okved_120: double, okved_121: double, okved_122: double, okved_123: double, okved_124: double, okved_125: double, okved_126: double, okved_127: double, okved_128: double, okved_129: double, okved_130: double, okved_131: double, okved_132: double, okved_133: double, okved_134: double, okved_135: double, okved_136: double, okved_137: double, okved_138: double, okved_139: double, okved_140: double, okved_141: double, okved_142: double, okved_143: double, okved_144: double, okved_145: double, okved_146: double, okved_147: double, okved_148: double, okved_149: double, okved_150: double, okved_151: double, okved_152: double, okved_153: double, okved_154: double, okved_155: double, okved_156: double, okved_157: double, okved_158: double, okved_159: double, okved_160: double, okved_161: double, okved_162: double, okved_163: double, okved_164: double, okved_165: double, okved_166: double, okved_167: double, okved_168: double, okved_169: double, okved_170: double, okved_171: double, okved_172: double, okved_173: double, okved_174: double, okved_175: double]"
      ]
     },
     "execution_count": 6,
     "metadata": {},
     "output_type": "execute_result"
    }
   ],
   "source": [
    "# на данный момент большинство свойств заполнено нулями\n",
    "# поскольку источники этих свойств --- тематическая модель и аналогичные\n",
    "sber_adviser.user_features"
   ]
  }
 ],
 "metadata": {
  "kernelspec": {
   "display_name": "Python 3",
   "language": "python",
   "name": "python3"
  },
  "language_info": {
   "codemirror_mode": {
    "name": "ipython",
    "version": 3
   },
   "file_extension": ".py",
   "mimetype": "text/x-python",
   "name": "python",
   "nbconvert_exporter": "python",
   "pygments_lexer": "ipython3",
   "version": "3.6.10"
  }
 },
 "nbformat": 4,
 "nbformat_minor": 4
}
