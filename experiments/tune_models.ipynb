{
 "cells": [
  {
   "cell_type": "markdown",
   "metadata": {},
   "source": [
    "# Подбор гипер параметров\n",
    "\n",
    "В модели встроена поддержка optuna для подбора гипер параметров моделей."
   ]
  },
  {
   "cell_type": "code",
   "execution_count": 1,
   "metadata": {},
   "outputs": [
    {
     "data": {
      "text/html": [
       "<div>\n",
       "<style scoped>\n",
       "    .dataframe tbody tr th:only-of-type {\n",
       "        vertical-align: middle;\n",
       "    }\n",
       "\n",
       "    .dataframe tbody tr th {\n",
       "        vertical-align: top;\n",
       "    }\n",
       "\n",
       "    .dataframe thead th {\n",
       "        text-align: right;\n",
       "    }\n",
       "</style>\n",
       "<table border=\"1\" class=\"dataframe\">\n",
       "  <thead>\n",
       "    <tr style=\"text-align: right;\">\n",
       "      <th></th>\n",
       "      <th>userId</th>\n",
       "      <th>movieId</th>\n",
       "      <th>rating</th>\n",
       "      <th>timestamp</th>\n",
       "    </tr>\n",
       "  </thead>\n",
       "  <tbody>\n",
       "    <tr>\n",
       "      <th>0</th>\n",
       "      <td>1</td>\n",
       "      <td>1</td>\n",
       "      <td>4.0</td>\n",
       "      <td>964982703</td>\n",
       "    </tr>\n",
       "    <tr>\n",
       "      <th>1</th>\n",
       "      <td>1</td>\n",
       "      <td>3</td>\n",
       "      <td>4.0</td>\n",
       "      <td>964981247</td>\n",
       "    </tr>\n",
       "    <tr>\n",
       "      <th>2</th>\n",
       "      <td>1</td>\n",
       "      <td>6</td>\n",
       "      <td>4.0</td>\n",
       "      <td>964982224</td>\n",
       "    </tr>\n",
       "    <tr>\n",
       "      <th>3</th>\n",
       "      <td>1</td>\n",
       "      <td>47</td>\n",
       "      <td>5.0</td>\n",
       "      <td>964983815</td>\n",
       "    </tr>\n",
       "    <tr>\n",
       "      <th>4</th>\n",
       "      <td>1</td>\n",
       "      <td>50</td>\n",
       "      <td>5.0</td>\n",
       "      <td>964982931</td>\n",
       "    </tr>\n",
       "  </tbody>\n",
       "</table>\n",
       "</div>"
      ],
      "text/plain": [
       "   userId  movieId  rating  timestamp\n",
       "0       1        1     4.0  964982703\n",
       "1       1        3     4.0  964981247\n",
       "2       1        6     4.0  964982224\n",
       "3       1       47     5.0  964983815\n",
       "4       1       50     5.0  964982931"
      ]
     },
     "execution_count": 1,
     "metadata": {},
     "output_type": "execute_result"
    }
   ],
   "source": [
    "import pandas as pd\n",
    "df = pd.read_csv(\"data/ml_ratings.csv\")\n",
    "df.head()"
   ]
  },
  {
   "cell_type": "code",
   "execution_count": 4,
   "metadata": {},
   "outputs": [],
   "source": [
    "from replay.data_preparator import DataPreparator\n",
    "\n",
    "log = DataPreparator().transform(\n",
    "    data=df,\n",
    "    columns_names={\n",
    "        \"user_id\": \"userId\",\n",
    "        \"item_id\": \"movieId\",\n",
    "        \"timestamp\": \"timestamp\",\n",
    "        \"relevance\": \"rating\"\n",
    "    }\n",
    ").cache()"
   ]
  },
  {
   "cell_type": "code",
   "execution_count": 5,
   "metadata": {},
   "outputs": [],
   "source": [
    "from replay.splitters import UserSplitter\n",
    "\n",
    "splitter = UserSplitter(\n",
    "    item_test_size=1,\n",
    "    user_test_size=0.2,\n",
    "    drop_cold_items=True,\n",
    "    drop_cold_users=True,\n",
    "    shuffle=False,\n",
    "    seed=1234\n",
    ")\n",
    "\n",
    "train, test = splitter.split(log)"
   ]
  },
  {
   "cell_type": "markdown",
   "metadata": {},
   "source": [
    "# Пример на KNN\n",
    "\n",
    "Если необходимо затюнить конкретную модель, необходимо создать инстанс модели и воспользоваться методом `optimize`.\n",
    "\n",
    "Из обязательных параметров — `train` и `test`.\n",
    "\n",
    "Границы перебора задаются с помощью словаря `param_grid` вида `{param: [low, high]}`. \n",
    "\n",
    "Можно не передавать сетку, тогда будет использоваться предопределенная для этой модели в атрибуте `_search_space`. \n",
    "Посмотрим на него, чтобы понять, что можно перебирать для данной модели и какие границы нам показались разумными."
   ]
  },
  {
   "cell_type": "code",
   "execution_count": 6,
   "metadata": {},
   "outputs": [
    {
     "name": "stderr",
     "output_type": "stream",
     "text": [
      "/Users/darel/python/sponge-bob-magic/.new_env2/lib/python3.7/site-packages/lightfm/_lightfm_fast.py:9: UserWarning: LightFM was compiled without OpenMP support. Only a single thread will be used.\n",
      "  warnings.warn('LightFM was compiled without OpenMP support. '\n"
     ]
    },
    {
     "data": {
      "text/plain": [
       "{'num_neighbours': {'type': 'int', 'args': [1, 100]},\n",
       " 'shrink': {'type': 'int', 'args': [0, 100]}}"
      ]
     },
     "execution_count": 6,
     "metadata": {},
     "output_type": "execute_result"
    }
   ],
   "source": [
    "from replay.models import KNN\n",
    "model = KNN()\n",
    "model._search_space"
   ]
  },
  {
   "cell_type": "code",
   "execution_count": 9,
   "metadata": {},
   "outputs": [
    {
     "name": "stderr",
     "output_type": "stream",
     "text": [
      "\u001b[32m[I 2021-03-03 21:07:21,155]\u001b[0m A new study created in memory with name: no-name-61e26c7b-dcd7-4432-a43b-2e19673b43a6\u001b[0m\n",
      "03-Mar-21 21:07:21, replay, DEBUG: -- Второй фит модели в оптимизации\n",
      "DEBUG:replay:-- Второй фит модели в оптимизации\n",
      "03-Mar-21 21:07:21, replay, DEBUG: Начало обучения KNN\n",
      "DEBUG:replay:Начало обучения KNN\n",
      "03-Mar-21 21:07:21, replay, DEBUG: Основная стадия обучения (fit)\n",
      "DEBUG:replay:Основная стадия обучения (fit)\n",
      "03-Mar-21 21:07:22, replay, DEBUG: -- Предикт модели в оптимизации\n",
      "DEBUG:replay:-- Предикт модели в оптимизации\n",
      "03-Mar-21 21:07:22, replay, DEBUG: Начало предикта KNN\n",
      "DEBUG:replay:Начало предикта KNN\n",
      "03-Mar-21 21:07:25, replay, DEBUG: -- Подсчет метрики в оптимизации\n",
      "DEBUG:replay:-- Подсчет метрики в оптимизации\n",
      "03-Mar-21 21:08:32, replay, DEBUG: NDCG=0.03\n",
      "DEBUG:replay:NDCG=0.03\n",
      "\u001b[32m[I 2021-03-03 21:08:32,934]\u001b[0m Trial 0 finished with value: 0.03217300449861628 and parameters: {'num_neighbours': 14}. Best is trial 0 with value: 0.03217300449861628.\u001b[0m\n",
      "03-Mar-21 21:08:32, replay, DEBUG: -- Второй фит модели в оптимизации\n",
      "DEBUG:replay:-- Второй фит модели в оптимизации\n",
      "03-Mar-21 21:08:32, replay, DEBUG: Начало обучения KNN\n",
      "DEBUG:replay:Начало обучения KNN\n",
      "03-Mar-21 21:08:32, replay, DEBUG: Основная стадия обучения (fit)\n",
      "DEBUG:replay:Основная стадия обучения (fit)\n",
      "03-Mar-21 21:08:34, replay, DEBUG: -- Предикт модели в оптимизации\n",
      "DEBUG:replay:-- Предикт модели в оптимизации\n",
      "03-Mar-21 21:08:34, replay, DEBUG: Начало предикта KNN\n",
      "DEBUG:replay:Начало предикта KNN\n",
      "03-Mar-21 21:08:36, replay, DEBUG: -- Подсчет метрики в оптимизации\n",
      "DEBUG:replay:-- Подсчет метрики в оптимизации\n",
      "03-Mar-21 21:09:36, replay, DEBUG: NDCG=0.02\n",
      "DEBUG:replay:NDCG=0.02\n",
      "\u001b[32m[I 2021-03-03 21:09:36,066]\u001b[0m Trial 1 finished with value: 0.021821328008099296 and parameters: {'num_neighbours': 18}. Best is trial 0 with value: 0.03217300449861628.\u001b[0m\n"
     ]
    },
    {
     "data": {
      "text/plain": [
       "{'num_neighbours': 14}"
      ]
     },
     "execution_count": 9,
     "metadata": {},
     "output_type": "execute_result"
    }
   ],
   "source": [
    "model.optimize(train, test, budget=2, param_grid={'num_neighbours': [10, 20]})"
   ]
  }
 ],
 "metadata": {
  "kernelspec": {
   "display_name": "Python 3",
   "language": "python",
   "name": "python3"
  },
  "language_info": {
   "codemirror_mode": {
    "name": "ipython",
    "version": 3
   },
   "file_extension": ".py",
   "mimetype": "text/x-python",
   "name": "python",
   "nbconvert_exporter": "python",
   "pygments_lexer": "ipython3",
   "version": "3.7.7"
  }
 },
 "nbformat": 4,
 "nbformat_minor": 4
}
