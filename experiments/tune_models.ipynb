{
 "cells": [
  {
   "cell_type": "markdown",
   "metadata": {},
   "source": [
    "# Подбор гипер параметров\n",
    "\n",
    "В модели встроена поддержка optuna для подбора гипер параметров моделей."
   ]
  },
  {
   "cell_type": "code",
   "execution_count": 2,
   "metadata": {
    "scrolled": true
   },
   "outputs": [
    {
     "name": "stdout",
     "output_type": "stream",
     "text": [
      "Collecting rs_datasets\n",
      "  Downloading https://files.pythonhosted.org/packages/7e/66/253d7be1604cdd8906bc3c472ec55a8eea7e7d408b0b527e31c02a328732/rs_datasets-0.4.1-py3-none-any.whl\n",
      "Requirement already satisfied: pyarrow in /Users/darel/python/sponge-bob-magic/venv2/lib/python3.7/site-packages (from rs_datasets) (0.17.1)\n",
      "Collecting datatable (from rs_datasets)\n",
      "\u001b[?25l  Downloading https://files.pythonhosted.org/packages/54/18/de104fa5b669d937b82e3a95f10f92ce58f7b4abeb3498ab3831fa461d5f/datatable-0.11.1-cp37-cp37m-macosx_10_9_x86_64.whl (7.3MB)\n",
      "\u001b[K     |████████████████████████████████| 7.4MB 3.4MB/s eta 0:00:01\n",
      "\u001b[?25hRequirement already satisfied: tqdm in /Users/darel/python/sponge-bob-magic/venv2/lib/python3.7/site-packages (from rs_datasets) (4.50.2)\n",
      "Collecting py7zr (from rs_datasets)\n",
      "\u001b[?25l  Downloading https://files.pythonhosted.org/packages/7b/29/a3899c1a0f4baca3ae75c9975bc345b7d6555eb45e2e8a00d08452ac5997/py7zr-0.11.1-py3-none-any.whl (63kB)\n",
      "\u001b[K     |████████████████████████████████| 71kB 8.7MB/s eta 0:00:011\n",
      "\u001b[?25hRequirement already satisfied: pandas in /Users/darel/python/sponge-bob-magic/venv2/lib/python3.7/site-packages (from rs_datasets) (1.0.5)\n",
      "Collecting xlrd (from rs_datasets)\n",
      "\u001b[?25l  Downloading https://files.pythonhosted.org/packages/a6/0c/c2a72d51fe56e08a08acc85d13013558a2d793028ae7385448a6ccdfae64/xlrd-2.0.1-py2.py3-none-any.whl (96kB)\n",
      "\u001b[K     |████████████████████████████████| 102kB 7.0MB/s ta 0:00:011\n",
      "\u001b[?25hCollecting gdown (from rs_datasets)\n",
      "  Using cached https://files.pythonhosted.org/packages/50/21/92c3cfe56f5c0647145c4b0083d0733dd4890a057eb100a8eeddf949ffe9/gdown-3.12.2.tar.gz\n",
      "  Installing build dependencies ... \u001b[?25ldone\n",
      "\u001b[?25h  Getting requirements to build wheel ... \u001b[?25ldone\n",
      "\u001b[?25h    Preparing wheel metadata ... \u001b[?25ldone\n",
      "\u001b[?25hCollecting kaggle (from rs_datasets)\n",
      "\u001b[?25l  Downloading https://files.pythonhosted.org/packages/99/33/365c0d13f07a2a54744d027fe20b60dacdfdfb33bc04746db6ad0b79340b/kaggle-1.5.10.tar.gz (59kB)\n",
      "\u001b[K     |████████████████████████████████| 61kB 3.1MB/s eta 0:00:01\n",
      "\u001b[?25hRequirement already satisfied: numpy>=1.14 in /Users/darel/python/sponge-bob-magic/venv2/lib/python3.7/site-packages (from pyarrow->rs_datasets) (1.19.2)\n",
      "Collecting pycryptodome (from py7zr->rs_datasets)\n",
      "\u001b[?25l  Downloading https://files.pythonhosted.org/packages/be/ef/484a33589a7b8bfbeb02d3eb28308217087e3de768520e0a8af5631cea1c/pycryptodome-3.9.9-cp37-cp37m-macosx_10_6_intel.whl (14.1MB)\n",
      "\u001b[K     |████████████████████████████████| 14.1MB 8.3MB/s eta 0:00:01\n",
      "\u001b[?25hCollecting texttable (from py7zr->rs_datasets)\n",
      "  Downloading https://files.pythonhosted.org/packages/06/f5/46201c428aebe0eecfa83df66bf3e6caa29659dbac5a56ddfd83cae0d4a4/texttable-1.6.3-py2.py3-none-any.whl\n",
      "Requirement already satisfied: importlib-metadata; python_version < \"3.8\" in /Users/darel/python/sponge-bob-magic/venv2/lib/python3.7/site-packages (from py7zr->rs_datasets) (1.7.0)\n",
      "Requirement already satisfied: pytz>=2017.2 in /Users/darel/python/sponge-bob-magic/venv2/lib/python3.7/site-packages (from pandas->rs_datasets) (2020.1)\n",
      "Requirement already satisfied: python-dateutil>=2.6.1 in /Users/darel/python/sponge-bob-magic/venv2/lib/python3.7/site-packages (from pandas->rs_datasets) (2.8.1)\n",
      "Requirement already satisfied: filelock in /Users/darel/python/sponge-bob-magic/venv2/lib/python3.7/site-packages (from gdown->rs_datasets) (3.0.12)\n",
      "Requirement already satisfied: six in /Users/darel/python/sponge-bob-magic/venv2/lib/python3.7/site-packages (from gdown->rs_datasets) (1.15.0)\n",
      "Requirement already satisfied: requests[socks] in /Users/darel/python/sponge-bob-magic/venv2/lib/python3.7/site-packages (from gdown->rs_datasets) (2.24.0)\n",
      "Requirement already satisfied: certifi in /Users/darel/python/sponge-bob-magic/venv2/lib/python3.7/site-packages (from kaggle->rs_datasets) (2020.6.20)\n",
      "Collecting python-slugify (from kaggle->rs_datasets)\n",
      "  Downloading https://files.pythonhosted.org/packages/9f/42/e336f96a8b6007428df772d0d159b8eee9b2f1811593a4931150660402c0/python-slugify-4.0.1.tar.gz\n",
      "Requirement already satisfied: urllib3 in /Users/darel/python/sponge-bob-magic/venv2/lib/python3.7/site-packages (from kaggle->rs_datasets) (1.25.10)\n",
      "Requirement already satisfied: zipp>=0.5 in /Users/darel/python/sponge-bob-magic/venv2/lib/python3.7/site-packages (from importlib-metadata; python_version < \"3.8\"->py7zr->rs_datasets) (3.3.0)\n",
      "Requirement already satisfied: idna<3,>=2.5 in /Users/darel/python/sponge-bob-magic/venv2/lib/python3.7/site-packages (from requests[socks]->gdown->rs_datasets) (2.10)\n",
      "Requirement already satisfied: chardet<4,>=3.0.2 in /Users/darel/python/sponge-bob-magic/venv2/lib/python3.7/site-packages (from requests[socks]->gdown->rs_datasets) (3.0.4)\n",
      "Collecting PySocks!=1.5.7,>=1.5.6; extra == \"socks\" (from requests[socks]->gdown->rs_datasets)\n",
      "  Using cached https://files.pythonhosted.org/packages/8d/59/b4572118e098ac8e46e399a1dd0f2d85403ce8bbaad9ec79373ed6badaf9/PySocks-1.7.1-py3-none-any.whl\n",
      "Collecting text-unidecode>=1.3 (from python-slugify->kaggle->rs_datasets)\n",
      "  Using cached https://files.pythonhosted.org/packages/a6/a5/c0b6468d3824fe3fde30dbb5e1f687b291608f9473681bbf7dabbf5a87d7/text_unidecode-1.3-py2.py3-none-any.whl\n",
      "Building wheels for collected packages: gdown\n",
      "  Building wheel for gdown (PEP 517) ... \u001b[?25ldone\n",
      "\u001b[?25h  Created wheel for gdown: filename=gdown-3.12.2-cp37-none-any.whl size=9681 sha256=f602988474f949aeeed80bc1711b5b8e7cd34e04100c7909e16a2afc2bf405bf\n",
      "  Stored in directory: /Users/darel/Library/Caches/pip/wheels/81/d0/d7/d9983facc6f2775411803e0e2d30ebf98efbf2fc6e57701e09\n",
      "Successfully built gdown\n",
      "Installing collected packages: datatable, pycryptodome, texttable, py7zr, xlrd, gdown, text-unidecode, python-slugify, kaggle, rs-datasets, PySocks\n",
      "  Running setup.py install for python-slugify ... \u001b[?25ldone\n",
      "\u001b[?25h  Running setup.py install for kaggle ... \u001b[?25ldone\n",
      "\u001b[?25hSuccessfully installed PySocks-1.7.1 datatable-0.11.1 gdown-3.12.2 kaggle-1.5.10 py7zr-0.11.1 pycryptodome-3.9.9 python-slugify-4.0.1 rs-datasets-0.4.1 text-unidecode-1.3 texttable-1.6.3 xlrd-2.0.1\n",
      "\u001b[33mWARNING: You are using pip version 19.2.3, however version 20.3.3 is available.\n",
      "You should consider upgrading via the 'pip install --upgrade pip' command.\u001b[0m\n"
     ]
    }
   ],
   "source": [
    "# используем пакет https://pypi.org/project/rs-datasets/\n",
    "!pip install rs_datasets"
   ]
  },
  {
   "cell_type": "code",
   "execution_count": 2,
   "metadata": {},
   "outputs": [
    {
     "data": {
      "text/html": [
       "<style type='text/css'>\n",
       ".datatable table.frame { margin-bottom: 0; }\n",
       ".datatable table.frame thead { border-bottom: none; }\n",
       ".datatable table.frame tr.coltypes td {  color: #FFFFFF;  line-height: 6px;  padding: 0 0.5em;}\n",
       ".datatable .bool    { background: #DDDD99; }\n",
       ".datatable .object  { background: #565656; }\n",
       ".datatable .int     { background: #5D9E5D; }\n",
       ".datatable .float   { background: #4040CC; }\n",
       ".datatable .str     { background: #CC4040; }\n",
       ".datatable .row_index {  background: var(--jp-border-color3);  border-right: 1px solid var(--jp-border-color0);  color: var(--jp-ui-font-color3);  font-size: 9px;}\n",
       ".datatable .frame tr.coltypes .row_index {  background: var(--jp-border-color0);}\n",
       ".datatable th:nth-child(2) { padding-left: 12px; }\n",
       ".datatable .hellipsis {  color: var(--jp-cell-editor-border-color);}\n",
       ".datatable .vellipsis {  background: var(--jp-layout-color0);  color: var(--jp-cell-editor-border-color);}\n",
       ".datatable .na {  color: var(--jp-cell-editor-border-color);  font-size: 80%;}\n",
       ".datatable .footer { font-size: 9px; }\n",
       ".datatable .frame_dimensions {  background: var(--jp-border-color3);  border-top: 1px solid var(--jp-border-color0);  color: var(--jp-ui-font-color3);  display: inline-block;  opacity: 0.6;  padding: 1px 10px 1px 5px;}\n",
       "</style>\n"
      ],
      "text/plain": [
       "<IPython.core.display.HTML object>"
      ]
     },
     "metadata": {},
     "output_type": "display_data"
    },
    {
     "name": "stdout",
     "output_type": "stream",
     "text": [
      "ratings\n"
     ]
    },
    {
     "data": {
      "text/html": [
       "<div>\n",
       "<style scoped>\n",
       "    .dataframe tbody tr th:only-of-type {\n",
       "        vertical-align: middle;\n",
       "    }\n",
       "\n",
       "    .dataframe tbody tr th {\n",
       "        vertical-align: top;\n",
       "    }\n",
       "\n",
       "    .dataframe thead th {\n",
       "        text-align: right;\n",
       "    }\n",
       "</style>\n",
       "<table border=\"1\" class=\"dataframe\">\n",
       "  <thead>\n",
       "    <tr style=\"text-align: right;\">\n",
       "      <th></th>\n",
       "      <th>user_id</th>\n",
       "      <th>item_id</th>\n",
       "      <th>rating</th>\n",
       "      <th>timestamp</th>\n",
       "    </tr>\n",
       "  </thead>\n",
       "  <tbody>\n",
       "    <tr>\n",
       "      <th>0</th>\n",
       "      <td>1</td>\n",
       "      <td>1</td>\n",
       "      <td>4.0</td>\n",
       "      <td>964982703</td>\n",
       "    </tr>\n",
       "    <tr>\n",
       "      <th>1</th>\n",
       "      <td>1</td>\n",
       "      <td>3</td>\n",
       "      <td>4.0</td>\n",
       "      <td>964981247</td>\n",
       "    </tr>\n",
       "    <tr>\n",
       "      <th>2</th>\n",
       "      <td>1</td>\n",
       "      <td>6</td>\n",
       "      <td>4.0</td>\n",
       "      <td>964982224</td>\n",
       "    </tr>\n",
       "  </tbody>\n",
       "</table>\n",
       "</div>"
      ],
      "text/plain": [
       "   user_id  item_id  rating  timestamp\n",
       "0        1        1     4.0  964982703\n",
       "1        1        3     4.0  964981247\n",
       "2        1        6     4.0  964982224"
      ]
     },
     "metadata": {},
     "output_type": "display_data"
    },
    {
     "name": "stdout",
     "output_type": "stream",
     "text": [
      "\n",
      "items\n"
     ]
    },
    {
     "data": {
      "text/html": [
       "<div>\n",
       "<style scoped>\n",
       "    .dataframe tbody tr th:only-of-type {\n",
       "        vertical-align: middle;\n",
       "    }\n",
       "\n",
       "    .dataframe tbody tr th {\n",
       "        vertical-align: top;\n",
       "    }\n",
       "\n",
       "    .dataframe thead th {\n",
       "        text-align: right;\n",
       "    }\n",
       "</style>\n",
       "<table border=\"1\" class=\"dataframe\">\n",
       "  <thead>\n",
       "    <tr style=\"text-align: right;\">\n",
       "      <th></th>\n",
       "      <th>item_id</th>\n",
       "      <th>title</th>\n",
       "      <th>genres</th>\n",
       "    </tr>\n",
       "  </thead>\n",
       "  <tbody>\n",
       "    <tr>\n",
       "      <th>0</th>\n",
       "      <td>1</td>\n",
       "      <td>Toy Story (1995)</td>\n",
       "      <td>Adventure|Animation|Children|Comedy|Fantasy</td>\n",
       "    </tr>\n",
       "    <tr>\n",
       "      <th>1</th>\n",
       "      <td>2</td>\n",
       "      <td>Jumanji (1995)</td>\n",
       "      <td>Adventure|Children|Fantasy</td>\n",
       "    </tr>\n",
       "    <tr>\n",
       "      <th>2</th>\n",
       "      <td>3</td>\n",
       "      <td>Grumpier Old Men (1995)</td>\n",
       "      <td>Comedy|Romance</td>\n",
       "    </tr>\n",
       "  </tbody>\n",
       "</table>\n",
       "</div>"
      ],
      "text/plain": [
       "   item_id                    title  \\\n",
       "0        1         Toy Story (1995)   \n",
       "1        2           Jumanji (1995)   \n",
       "2        3  Grumpier Old Men (1995)   \n",
       "\n",
       "                                        genres  \n",
       "0  Adventure|Animation|Children|Comedy|Fantasy  \n",
       "1                   Adventure|Children|Fantasy  \n",
       "2                               Comedy|Romance  "
      ]
     },
     "metadata": {},
     "output_type": "display_data"
    },
    {
     "name": "stdout",
     "output_type": "stream",
     "text": [
      "\n",
      "tags\n"
     ]
    },
    {
     "data": {
      "text/html": [
       "<div>\n",
       "<style scoped>\n",
       "    .dataframe tbody tr th:only-of-type {\n",
       "        vertical-align: middle;\n",
       "    }\n",
       "\n",
       "    .dataframe tbody tr th {\n",
       "        vertical-align: top;\n",
       "    }\n",
       "\n",
       "    .dataframe thead th {\n",
       "        text-align: right;\n",
       "    }\n",
       "</style>\n",
       "<table border=\"1\" class=\"dataframe\">\n",
       "  <thead>\n",
       "    <tr style=\"text-align: right;\">\n",
       "      <th></th>\n",
       "      <th>user_id</th>\n",
       "      <th>item_id</th>\n",
       "      <th>tag</th>\n",
       "      <th>timestamp</th>\n",
       "    </tr>\n",
       "  </thead>\n",
       "  <tbody>\n",
       "    <tr>\n",
       "      <th>0</th>\n",
       "      <td>2</td>\n",
       "      <td>60756</td>\n",
       "      <td>funny</td>\n",
       "      <td>1445714994</td>\n",
       "    </tr>\n",
       "    <tr>\n",
       "      <th>1</th>\n",
       "      <td>2</td>\n",
       "      <td>60756</td>\n",
       "      <td>Highly quotable</td>\n",
       "      <td>1445714996</td>\n",
       "    </tr>\n",
       "    <tr>\n",
       "      <th>2</th>\n",
       "      <td>2</td>\n",
       "      <td>60756</td>\n",
       "      <td>will ferrell</td>\n",
       "      <td>1445714992</td>\n",
       "    </tr>\n",
       "  </tbody>\n",
       "</table>\n",
       "</div>"
      ],
      "text/plain": [
       "   user_id  item_id              tag   timestamp\n",
       "0        2    60756            funny  1445714994\n",
       "1        2    60756  Highly quotable  1445714996\n",
       "2        2    60756     will ferrell  1445714992"
      ]
     },
     "metadata": {},
     "output_type": "display_data"
    },
    {
     "name": "stdout",
     "output_type": "stream",
     "text": [
      "\n",
      "links\n"
     ]
    },
    {
     "data": {
      "text/html": [
       "<div>\n",
       "<style scoped>\n",
       "    .dataframe tbody tr th:only-of-type {\n",
       "        vertical-align: middle;\n",
       "    }\n",
       "\n",
       "    .dataframe tbody tr th {\n",
       "        vertical-align: top;\n",
       "    }\n",
       "\n",
       "    .dataframe thead th {\n",
       "        text-align: right;\n",
       "    }\n",
       "</style>\n",
       "<table border=\"1\" class=\"dataframe\">\n",
       "  <thead>\n",
       "    <tr style=\"text-align: right;\">\n",
       "      <th></th>\n",
       "      <th>item_id</th>\n",
       "      <th>imdb_id</th>\n",
       "      <th>tmdb_id</th>\n",
       "    </tr>\n",
       "  </thead>\n",
       "  <tbody>\n",
       "    <tr>\n",
       "      <th>0</th>\n",
       "      <td>1</td>\n",
       "      <td>114709</td>\n",
       "      <td>862.0</td>\n",
       "    </tr>\n",
       "    <tr>\n",
       "      <th>1</th>\n",
       "      <td>2</td>\n",
       "      <td>113497</td>\n",
       "      <td>8844.0</td>\n",
       "    </tr>\n",
       "    <tr>\n",
       "      <th>2</th>\n",
       "      <td>3</td>\n",
       "      <td>113228</td>\n",
       "      <td>15602.0</td>\n",
       "    </tr>\n",
       "  </tbody>\n",
       "</table>\n",
       "</div>"
      ],
      "text/plain": [
       "   item_id  imdb_id  tmdb_id\n",
       "0        1   114709    862.0\n",
       "1        2   113497   8844.0\n",
       "2        3   113228  15602.0"
      ]
     },
     "metadata": {},
     "output_type": "display_data"
    },
    {
     "name": "stdout",
     "output_type": "stream",
     "text": [
      "\n"
     ]
    }
   ],
   "source": [
    "from rs_datasets import MovieLens\n",
    "\n",
    "data = MovieLens()\n",
    "data.info()"
   ]
  },
  {
   "cell_type": "code",
   "execution_count": 4,
   "metadata": {},
   "outputs": [],
   "source": [
    "from replay.data_preparator import DataPreparator\n",
    "\n",
    "log = DataPreparator().transform(\n",
    "    data=data.ratings,\n",
    "    columns_names={\n",
    "        \"user_id\": \"user_id\",\n",
    "        \"item_id\": \"item_id\",\n",
    "        \"timestamp\": \"timestamp\",\n",
    "        \"relevance\": \"rating\"\n",
    "    }\n",
    ").cache()"
   ]
  },
  {
   "cell_type": "code",
   "execution_count": 5,
   "metadata": {},
   "outputs": [],
   "source": [
    "from replay.splitters import UserSplitter\n",
    "\n",
    "splitter = UserSplitter(\n",
    "    item_test_size=1,\n",
    "    user_test_size=0.2,\n",
    "    drop_cold_items=True,\n",
    "    drop_cold_users=True,\n",
    "    shuffle=False,\n",
    "    seed=1234\n",
    ")\n",
    "\n",
    "train, test = splitter.split(log)"
   ]
  },
  {
   "cell_type": "markdown",
   "metadata": {},
   "source": [
    "# Пример на KNN\n",
    "\n",
    "Если необходимо затюнить конкретную модель, необходимо создать инстанс модели и воспользоваться методом `optimize`.\n",
    "\n",
    "Из обязательных параметров — `train` и `test`.\n",
    "\n",
    "Границы перебора задаются с помощью словаря `param_grid` вида `{param: [low, high]}`. \n",
    "\n",
    "Можно не передавать сетку, тогда будет использоваться предопределенная для этой модели в атрибуте `_search_space`. \n",
    "Посмотрим на него, чтобы понять, что можно перебирать для данной модели и какие границы нам показались разумными."
   ]
  },
  {
   "cell_type": "code",
   "execution_count": 7,
   "metadata": {},
   "outputs": [
    {
     "data": {
      "text/plain": [
       "{'num_neighbours': {'type': 'int', 'args': [1, 100]},\n",
       " 'shrink': {'type': 'int', 'args': [0, 100]}}"
      ]
     },
     "execution_count": 7,
     "metadata": {},
     "output_type": "execute_result"
    }
   ],
   "source": [
    "from replay.models import KNN\n",
    "model = KNN()\n",
    "model._search_space"
   ]
  },
  {
   "cell_type": "code",
   "execution_count": 8,
   "metadata": {},
   "outputs": [
    {
     "name": "stderr",
     "output_type": "stream",
     "text": [
      "12-Jan-21 19:13:18, replay, DEBUG: -- Второй фит модели в оптимизации\n",
      "DEBUG:replay:-- Второй фит модели в оптимизации\n",
      "12-Jan-21 19:13:18, replay, DEBUG: Начало обучения KNN\n",
      "DEBUG:replay:Начало обучения KNN\n",
      "12-Jan-21 19:13:18, replay, DEBUG: Предварительная стадия обучения (pre-fit)\n",
      "DEBUG:replay:Предварительная стадия обучения (pre-fit)\n",
      "12-Jan-21 19:13:21, replay, DEBUG: Основная стадия обучения (fit)\n",
      "DEBUG:replay:Основная стадия обучения (fit)\n",
      "12-Jan-21 19:13:22, replay, DEBUG: -- Предикт модели в оптимизации\n",
      "DEBUG:replay:-- Предикт модели в оптимизации\n",
      "12-Jan-21 19:13:22, replay, DEBUG: Начало предикта KNN\n",
      "DEBUG:replay:Начало предикта KNN\n",
      "12-Jan-21 19:13:26, replay, DEBUG: -- Подсчет метрики в оптимизации\n",
      "DEBUG:replay:-- Подсчет метрики в оптимизации\n",
      "/Users/darel/python/sponge-bob-magic/venv2/lib/python3.7/site-packages/pyspark/sql/pandas/group_ops.py:76: UserWarning: It is preferred to use 'applyInPandas' over this API. This API will be deprecated in the future releases. See SPARK-28264 for more details.\n",
      "  \"more details.\", UserWarning)\n",
      "12-Jan-21 19:14:28, replay, DEBUG: NDCG=0.02\n",
      "DEBUG:replay:NDCG=0.02\n",
      "\u001b[32m[I 2021-01-12 19:14:28,800]\u001b[0m Finished trial#0 resulted in value: 0.021821328008099296. Current best value is 0.021821328008099296 with parameters: {'num_neighbours': 18}.\u001b[0m\n",
      "12-Jan-21 19:14:28, replay, DEBUG: -- Второй фит модели в оптимизации\n",
      "DEBUG:replay:-- Второй фит модели в оптимизации\n",
      "12-Jan-21 19:14:28, replay, DEBUG: Начало обучения KNN\n",
      "DEBUG:replay:Начало обучения KNN\n",
      "12-Jan-21 19:14:28, replay, DEBUG: Основная стадия обучения (fit)\n",
      "DEBUG:replay:Основная стадия обучения (fit)\n",
      "12-Jan-21 19:14:29, replay, DEBUG: -- Предикт модели в оптимизации\n",
      "DEBUG:replay:-- Предикт модели в оптимизации\n",
      "12-Jan-21 19:14:29, replay, DEBUG: Начало предикта KNN\n",
      "DEBUG:replay:Начало предикта KNN\n",
      "12-Jan-21 19:14:31, replay, DEBUG: -- Подсчет метрики в оптимизации\n",
      "DEBUG:replay:-- Подсчет метрики в оптимизации\n",
      "12-Jan-21 19:15:28, replay, DEBUG: NDCG=0.03\n",
      "DEBUG:replay:NDCG=0.03\n",
      "\u001b[32m[I 2021-01-12 19:15:28,918]\u001b[0m Finished trial#1 resulted in value: 0.031008538129611057. Current best value is 0.031008538129611057 with parameters: {'num_neighbours': 15}.\u001b[0m\n"
     ]
    },
    {
     "data": {
      "text/plain": [
       "{'num_neighbours': 15}"
      ]
     },
     "execution_count": 8,
     "metadata": {},
     "output_type": "execute_result"
    }
   ],
   "source": [
    "model.optimize(train, test, budget=2, param_grid={'num_neighbours': [10, 20]})"
   ]
  },
  {
   "cell_type": "markdown",
   "metadata": {},
   "source": [
    "# Отчет по нескольким моделям\n",
    "Для того, чтобы затюнить сразу несколько моделей, можно использовать "
   ]
  }
 ],
 "metadata": {
  "kernelspec": {
   "display_name": "Python 3",
   "language": "python",
   "name": "python3"
  },
  "language_info": {
   "codemirror_mode": {
    "name": "ipython",
    "version": 3
   },
   "file_extension": ".py",
   "mimetype": "text/x-python",
   "name": "python",
   "nbconvert_exporter": "python",
   "pygments_lexer": "ipython3",
   "version": "3.7.5"
  }
 },
 "nbformat": 4,
 "nbformat_minor": 4
}
