{
 "cells": [
  {
   "cell_type": "markdown",
   "metadata": {},
   "source": [
    "# Ideas Dataset\n",
    "\n",
    "Лаботоратория по искусственному интеллекту, Сбербанк. \n",
    "\n",
    "Авторы: [Борис Шминке](<mailto:Shminke.B.A@omega.sbrf.ru>), [Роза Айсина](<mailto:Aysina.R.M@omega.sbrf.ru>). \n",
    "\n",
    "О чем: применение рекомендательных систем к датасету историй. Схема разбиения - делим лог на две рандомные части.\n",
    "\n",
    "## Содержание\n",
    "\n",
    "1. [Импорты, создание спарк-сессии](#intro)\n",
    "2. [Подготовка данных](#data-preparator)\n",
    "3. [Рекомендатель на основе популярности](#popular-recommender)\n",
    "3.1. [Запуск single модели](#popular-recommender-single)\n",
    "3.2. [Подбор гиперпараметров](#popular-recommender-scenario)\n",
    "4. [Рекомендатель на основе k-NN для объектов](#knn-recommender)\n",
    "4.1. [Запуск single модели](#knn-recommender-single)\n",
    "4.2. [Подбор гиперпараметров](#knn-recommender-scenario)"
   ]
  },
  {
   "cell_type": "markdown",
   "metadata": {},
   "source": [
    "### Импорты, создание спарк-сессии <a name='intro'></a>"
   ]
  },
  {
   "cell_type": "code",
   "execution_count": 1,
   "metadata": {
    "pycharm": {
     "is_executing": false
    }
   },
   "outputs": [],
   "source": [
    "%load_ext autoreload\n",
    "%autoreload 2\n",
    "%matplotlib inline"
   ]
  },
  {
   "cell_type": "code",
   "execution_count": 2,
   "metadata": {
    "pycharm": {
     "is_executing": false
    }
   },
   "outputs": [],
   "source": [
    "import logging\n",
    "import os\n",
    "import re\n",
    "import sys\n",
    "from collections import Counter\n",
    "from datetime import datetime\n",
    "from time import time\n",
    "\n",
    "import matplotlib.pyplot as plt\n",
    "import numpy as np\n",
    "import pandas as pd\n",
    "from pyspark.sql import SparkSession\n",
    "from pyspark.sql import functions as sf\n",
    "from pyspark.sql.types import DoubleType, StringType, StructType, StructField, TimestampType\n",
    "\n",
    "from sklearn.feature_extraction.text import CountVectorizer"
   ]
  },
  {
   "cell_type": "code",
   "execution_count": 3,
   "metadata": {
    "pycharm": {
     "is_executing": false
    }
   },
   "outputs": [],
   "source": [
    "parent_dir = os.path.split(os.getcwd())[0]\n",
    "if parent_dir not in sys.path:\n",
    "    sys.path.append(parent_dir)"
   ]
  },
  {
   "cell_type": "code",
   "execution_count": 4,
   "metadata": {
    "pycharm": {
     "is_executing": false
    }
   },
   "outputs": [],
   "source": [
    "from sponge_bob_magic.data_preparator.data_preparator import DataPreparator\n",
    "from sponge_bob_magic.metrics.metrics import Metrics\n",
    "from sponge_bob_magic.models.popular_recomennder import PopularRecommender\n",
    "from sponge_bob_magic.models.knn_recommender import KNNRecommender\n",
    "from sponge_bob_magic.models.neurocf_recommender import NeuroCFRecommender\n",
    "from sponge_bob_magic.scenarios.knn_scenario import KNNScenario\n",
    "from sponge_bob_magic.scenarios.popular_scenario import PopularScenario\n",
    "from sponge_bob_magic.validation_schemes import ValidationSchemes"
   ]
  },
  {
   "cell_type": "code",
   "execution_count": 5,
   "metadata": {
    "pycharm": {
     "is_executing": false
    }
   },
   "outputs": [],
   "source": [
    "# отображение максимальной ширины колонок в pandas датафреймах\n",
    "pd.options.display.max_colwidth = -1"
   ]
  },
  {
   "cell_type": "code",
   "execution_count": 8,
   "metadata": {
    "pycharm": {
     "is_executing": false
    }
   },
   "outputs": [
    {
     "data": {
      "text/html": [
       "\n",
       "            <div>\n",
       "                <p><b>SparkSession - hive</b></p>\n",
       "                \n",
       "        <div>\n",
       "            <p><b>SparkContext</b></p>\n",
       "\n",
       "            <p><a href=\"http://morimi1.ca.sbrf.ru:4040\">Spark UI</a></p>\n",
       "\n",
       "            <dl>\n",
       "              <dt>Version</dt>\n",
       "                <dd><code>v2.4.3</code></dd>\n",
       "              <dt>Master</dt>\n",
       "                <dd><code>local[30]</code></dd>\n",
       "              <dt>AppName</dt>\n",
       "                <dd><code>pyspark-shell</code></dd>\n",
       "            </dl>\n",
       "        </div>\n",
       "        \n",
       "            </div>\n",
       "        "
      ],
      "text/plain": [
       "<pyspark.sql.session.SparkSession at 0x7fe48ae94630>"
      ]
     },
     "execution_count": 8,
     "metadata": {},
     "output_type": "execute_result"
    }
   ],
   "source": [
    "spark_memory = \"160g\"\n",
    "spark_cores = \"30\"\n",
    "user_home = \"/data/aysina-rm\"\n",
    "\n",
    "spark = (\n",
    "    SparkSession\n",
    "    .builder\n",
    "    .config('spark.driver.memory', spark_memory)\n",
    "    .config('spark.local.dir', os.path.join(user_home, \"tmp\"))\n",
    "    .master(f'local[{spark_cores}]')\n",
    "    .enableHiveSupport()\n",
    "    .getOrCreate()\n",
    ")\n",
    "\n",
    "spark"
   ]
  },
  {
   "cell_type": "code",
   "execution_count": 9,
   "metadata": {
    "pycharm": {
     "is_executing": false
    }
   },
   "outputs": [],
   "source": [
    "spark_logger = logging.getLogger('py4j')\n",
    "spark_logger.setLevel(logging.WARN)"
   ]
  },
  {
   "cell_type": "code",
   "execution_count": 10,
   "metadata": {
    "pycharm": {
     "is_executing": false
    }
   },
   "outputs": [],
   "source": [
    "logger = logging.getLogger()\n",
    "formatter = logging.Formatter('%(asctime)s, %(name)s, %(levelname)s: %(message)s',\n",
    "                              datefmt='%d-%b-%y %H:%M:%S')\n",
    "hdlr = logging.StreamHandler()\n",
    "hdlr.setFormatter(formatter)\n",
    "logger.addHandler(hdlr)\n",
    "logger.setLevel(logging.DEBUG)"
   ]
  },
  {
   "cell_type": "markdown",
   "metadata": {},
   "source": [
    "## Подготовка данных <a name='data-preparator'></a>"
   ]
  },
  {
   "cell_type": "markdown",
   "metadata": {},
   "source": [
    "Мердж двух датасетов за 17 и 18 год. Запускается один раз. "
   ]
  },
  {
   "cell_type": "code",
   "execution_count": 11,
   "metadata": {},
   "outputs": [],
   "source": [
    "def merge_data():\n",
    "    user_item_data = (\n",
    "        pd.read_csv(\n",
    "            \"/mnt/wind/ideas_data/2017.csv\",\n",
    "            sep=\";\",\n",
    "            usecols=[\"id_project\", \"user_id\", \"type\"],\n",
    "            dtype=str\n",
    "        ).append(\n",
    "            pd.read_csv(\n",
    "                \"/mnt/wind/ideas_data/2018.csv\",\n",
    "                sep=\";\",\n",
    "                usecols=[\"id_project\", \"user_id\", \"type\"],\n",
    "                dtype=str\n",
    "            )\n",
    "        ).query(\"type in ('Pim::IdeaBestPracticeVote', 'Pim::IdeaResourceVote', 'Pim::IdeaVote')\")\n",
    "        .drop(columns=[\"type\"])\n",
    "        .rename(columns={\"user_id\": \"user_id\", \"id_project\": \"item_id\"})\n",
    "    )\n",
    "    user_item_data.to_csv(\"data.csv\", index=False)"
   ]
  },
  {
   "cell_type": "code",
   "execution_count": 12,
   "metadata": {
    "pycharm": {
     "is_executing": false
    }
   },
   "outputs": [],
   "source": [
    "path_log = '/data/share/ideas_data/data.csv'"
   ]
  },
  {
   "cell_type": "code",
   "execution_count": 13,
   "metadata": {
    "pycharm": {
     "is_executing": false
    }
   },
   "outputs": [],
   "source": [
    "dp = DataPreparator(spark)"
   ]
  },
  {
   "cell_type": "code",
   "execution_count": 14,
   "metadata": {
    "pycharm": {
     "is_executing": false
    }
   },
   "outputs": [],
   "source": [
    "df = dp.transform_log(\n",
    "    path=path_log,\n",
    "    format_type=\"csv\",\n",
    "    header=True,\n",
    "    columns_names={\n",
    "        \"user_id\": \"user_id\",\n",
    "        \"item_id\": \"item_id\"\n",
    "    }\n",
    ").cache()"
   ]
  },
  {
   "cell_type": "code",
   "execution_count": 15,
   "metadata": {
    "pycharm": {
     "is_executing": false
    },
    "scrolled": false
   },
   "outputs": [
    {
     "name": "stdout",
     "output_type": "stream",
     "text": [
      "+-------+-------+-------------------+----------+---------+\n",
      "|user_id|item_id|          timestamp|   context|relevance|\n",
      "+-------+-------+-------------------+----------+---------+\n",
      "|  97636| 252605|1999-05-01 00:00:00|no_context|      1.0|\n",
      "|  65714| 235144|1999-05-01 00:00:00|no_context|      1.0|\n",
      "| 144702| 240366|1999-05-01 00:00:00|no_context|      1.0|\n",
      "+-------+-------+-------------------+----------+---------+\n",
      "only showing top 3 rows\n",
      "\n"
     ]
    }
   ],
   "source": [
    "df.show(3)"
   ]
  },
  {
   "cell_type": "code",
   "execution_count": 16,
   "metadata": {},
   "outputs": [
    {
     "data": {
      "text/plain": [
       "4691248"
      ]
     },
     "execution_count": 16,
     "metadata": {},
     "output_type": "execute_result"
    }
   ],
   "source": [
    "df.count()"
   ]
  },
  {
   "cell_type": "code",
   "execution_count": 17,
   "metadata": {},
   "outputs": [
    {
     "name": "stdout",
     "output_type": "stream",
     "text": [
      "+-------+-------+---------+-------+---------+\n",
      "|user_id|item_id|timestamp|context|relevance|\n",
      "+-------+-------+---------+-------+---------+\n",
      "|  71343| 128558|        1|      1|        1|\n",
      "+-------+-------+---------+-------+---------+\n",
      "\n"
     ]
    }
   ],
   "source": [
    "df.agg(*(sf.countDistinct(sf.col(c)).alias(c) for c in df.columns)).show()"
   ]
  },
  {
   "cell_type": "code",
   "execution_count": 18,
   "metadata": {},
   "outputs": [
    {
     "name": "stdout",
     "output_type": "stream",
     "text": [
      "+-------------------+-------------------+\n",
      "|     min(timestamp)|     max(timestamp)|\n",
      "+-------------------+-------------------+\n",
      "|1999-05-01 00:00:00|1999-05-01 00:00:00|\n",
      "+-------------------+-------------------+\n",
      "\n"
     ]
    }
   ],
   "source": [
    "df.agg(sf.min(sf.col(\"timestamp\")), sf.max(sf.col(\"timestamp\"))).show()"
   ]
  },
  {
   "cell_type": "code",
   "execution_count": 19,
   "metadata": {
    "pycharm": {
     "is_executing": false
    }
   },
   "outputs": [],
   "source": [
    "df_short = df.limit(1000).cache()"
   ]
  },
  {
   "cell_type": "code",
   "execution_count": 20,
   "metadata": {},
   "outputs": [
    {
     "data": {
      "text/plain": [
       "(3752683, 3752683, 934956)"
      ]
     },
     "execution_count": 20,
     "metadata": {},
     "output_type": "execute_result"
    }
   ],
   "source": [
    "splitter = ValidationSchemes(spark)\n",
    "\n",
    "train, test_input, test = splitter.log_split_randomly(\n",
    "    df, test_size=0.2,\n",
    "    drop_cold_users=True, drop_cold_items=True\n",
    ")\n",
    "\n",
    "(\n",
    "    train.count(), \n",
    "    test_input.count(), \n",
    "    test.count()\n",
    ")"
   ]
  },
  {
   "cell_type": "markdown",
   "metadata": {},
   "source": [
    "## Рекомендатель на основе популярности (popularity based recommender) <a name='popular-recommender'></a>"
   ]
  },
  {
   "cell_type": "markdown",
   "metadata": {},
   "source": [
    "### Запуск single модели <a name='popular-recommender-single'></a>"
   ]
  },
  {
   "cell_type": "code",
   "execution_count": 20,
   "metadata": {
    "collapsed": true
   },
   "outputs": [],
   "source": [
    "pr = PopularRecommender(spark, alpha=0, beta=0)"
   ]
  },
  {
   "cell_type": "code",
   "execution_count": 21,
   "metadata": {
    "scrolled": false
   },
   "outputs": [
    {
     "name": "stderr",
     "output_type": "stream",
     "text": [
      "31-Oct-19 19:16:33, root, DEBUG: Проверка датафреймов\n",
      "31-Oct-19 19:16:36, root, DEBUG: Предварительная стадия обучения (pre-fit)\n",
      "31-Oct-19 19:16:37, root, DEBUG: Среднее количество items у каждого user: 30.0\n",
      "31-Oct-19 19:16:37, root, DEBUG: Основная стадия обучения (fit)\n"
     ]
    },
    {
     "name": "stdout",
     "output_type": "stream",
     "text": [
      "CPU times: user 24 ms, sys: 0 ns, total: 24 ms\n",
      "Wall time: 3.99 s\n"
     ]
    }
   ],
   "source": [
    "%%time\n",
    "\n",
    "pr.fit(\n",
    "    log=train,\n",
    "    user_features=None,\n",
    "    item_features=None,\n",
    "    path=None\n",
    ")"
   ]
  },
  {
   "cell_type": "code",
   "execution_count": 22,
   "metadata": {
    "scrolled": false
   },
   "outputs": [
    {
     "name": "stderr",
     "output_type": "stream",
     "text": [
      "31-Oct-19 19:16:37, root, DEBUG: Проверка датафреймов\n",
      "31-Oct-19 19:16:50, root, DEBUG: Количество items после фильтрации: 130\n"
     ]
    },
    {
     "name": "stdout",
     "output_type": "stream",
     "text": [
      "CPU times: user 32 ms, sys: 4 ms, total: 36 ms\n",
      "Wall time: 13.6 s\n"
     ]
    }
   ],
   "source": [
    "%%time\n",
    "\n",
    "recs = pr.predict(\n",
    "    k=100,\n",
    "    users=test.select('user_id').distinct(),\n",
    "    items=test.select('item_id').distinct(),\n",
    "    context='no_context',\n",
    "    log=train,\n",
    "    user_features=None,\n",
    "    item_features=None,\n",
    "    to_filter_seen_items=True,\n",
    "    path=None\n",
    ").cache()"
   ]
  },
  {
   "cell_type": "code",
   "execution_count": 23,
   "metadata": {},
   "outputs": [
    {
     "name": "stdout",
     "output_type": "stream",
     "text": [
      "+-------+-------+----------+--------------------+\n",
      "|item_id|user_id|   context|           relevance|\n",
      "+-------+-------+----------+--------------------+\n",
      "|   2903| 100010|no_context|0.010444524505660482|\n",
      "|  37337| 100010|no_context|0.008348158278181696|\n",
      "|  57335| 100010|no_context|0.006834574933567548|\n",
      "|   2962| 100010|no_context|0.006782079173199769|\n",
      "|  65750| 100010|no_context|0.006048470907755623|\n",
      "+-------+-------+----------+--------------------+\n",
      "only showing top 5 rows\n",
      "\n"
     ]
    }
   ],
   "source": [
    "recs.show(5)"
   ]
  },
  {
   "cell_type": "code",
   "execution_count": null,
   "metadata": {
    "collapsed": true
   },
   "outputs": [],
   "source": [
    "%%time\n",
    "\n",
    "metric = Metrics.hit_rate_at_k(recs, df, k=100)\n",
    "metric"
   ]
  },
  {
   "cell_type": "markdown",
   "metadata": {},
   "source": [
    "### Подбор гиперпараметров в популярной модели <a name='popular-recommender-scenario'></a>"
   ]
  },
  {
   "cell_type": "markdown",
   "metadata": {},
   "source": [
    "Популярность объекта определяется как: \n",
    "\n",
    "$$ popularity(i) = \\dfrac{N_i + \\alpha}{N + \\beta}, $$\n",
    "\n",
    "где $ N_i $ &mdash; количество пользователей, у которых было взаимодействие с данным объектом $ i $, \n",
    "$ N $ &mdash; общее количество пользователей, которые как провзаимодействовали с объектом, так и нет,\n",
    "$ \\alpha, \\beta \\in [0, \\infty) $ &mdash; параметры модели. \n",
    "\n",
    "Эвристика: размуным пределом для параметров $ \\alpha $ и $ \\beta $ может стать среднее значение количества пользователей $ N_i $, которые провзаимодействовали с объектами."
   ]
  },
  {
   "cell_type": "code",
   "execution_count": 42,
   "metadata": {},
   "outputs": [
    {
     "data": {
      "text/plain": [
       "65.75534032294236"
      ]
     },
     "execution_count": 42,
     "metadata": {},
     "output_type": "execute_result"
    }
   ],
   "source": [
    "avg_num_users = (\n",
    "    df\n",
    "    .select('user_id', 'item_id')\n",
    "    .groupBy('item_id')\n",
    "    .count()\n",
    "    .select(sf.mean(sf.col('count')).alias('mean'))\n",
    "    .collect()[0]['mean']\n",
    ")\n",
    "\n",
    "avg_num_users"
   ]
  },
  {
   "cell_type": "code",
   "execution_count": 31,
   "metadata": {
    "collapsed": true,
    "pycharm": {
     "is_executing": false
    }
   },
   "outputs": [],
   "source": [
    "popular_scenario = PopularScenario(spark)\n",
    "popular_scenario.seed = 9876"
   ]
  },
  {
   "cell_type": "code",
   "execution_count": 32,
   "metadata": {
    "pycharm": {
     "is_executing": false
    },
    "scrolled": false
   },
   "outputs": [
    {
     "name": "stderr",
     "output_type": "stream",
     "text": [
      "01-Nov-19 11:25:09, root, DEBUG: Деление на трейн и тест\n",
      "01-Nov-19 11:25:09, root, DEBUG: Длина трейна и теста: (3283603, 1402337)\n",
      "01-Nov-19 11:25:10, root, DEBUG: Количество юзеров в трейне и тесте: 127752, 124126\n",
      "01-Nov-19 11:25:10, root, DEBUG: Количество айтемов в трейне и тесте: 67181, 51029\n",
      "01-Nov-19 11:25:10, root, DEBUG: Популярная модель: полное обучение\n",
      "01-Nov-19 11:25:10, root, DEBUG: Проверка датафреймов\n",
      "01-Nov-19 11:25:11, root, DEBUG: Предварительная стадия обучения (pre-fit)\n",
      "01-Nov-19 11:25:11, root, DEBUG: Среднее количество items у каждого user: 26.0\n",
      "01-Nov-19 11:25:11, root, DEBUG: Основная стадия обучения (fit)\n",
      "01-Nov-19 11:25:11, root, DEBUG: -------------\n",
      "01-Nov-19 11:25:11, root, DEBUG: Начало оптимизации параметров\n",
      "01-Nov-19 11:25:11, root, DEBUG: -- Параметры: {'alpha': 0, 'beta': 1}\n",
      "01-Nov-19 11:25:11, root, DEBUG: -- Предикт модели в оптимизации\n",
      "01-Nov-19 11:25:11, root, DEBUG: Проверка датафреймов\n",
      "01-Nov-19 11:25:19, root, DEBUG: Количество items после фильтрации: 41\n",
      "01-Nov-19 11:25:34, root, DEBUG: -- Длина рекомендаций: 1861890\n",
      "01-Nov-19 11:25:34, root, DEBUG: -- Подсчет метрики в оптимизации\n",
      "01-Nov-19 11:25:51, root, DEBUG: -- Метрика: (0.7265681646069316, 0.19524737095033237)\n",
      "[I 2019-11-01 11:25:51,501] Finished trial#0 resulted in value: 0.7265681646069316. Current best value is 0.7265681646069316 with parameters: {'alpha': 0, 'beta': 1}.\n",
      "01-Nov-19 11:25:51, root, DEBUG: Лучшие значения метрики: 0.7265681646069316\n",
      "01-Nov-19 11:25:51, root, DEBUG: Лучшие параметры: {'alpha': 0, 'beta': 1}\n"
     ]
    },
    {
     "name": "stdout",
     "output_type": "stream",
     "text": [
      "CPU times: user 204 ms, sys: 44 ms, total: 248 ms\n",
      "Wall time: 42.4 s\n"
     ]
    },
    {
     "data": {
      "text/plain": [
       "{'alpha': 0, 'beta': 1}"
      ]
     },
     "execution_count": 32,
     "metadata": {},
     "output_type": "execute_result"
    }
   ],
   "source": [
    "%%time\n",
    "\n",
    "popular_params_grid = {\n",
    "    'alpha': (0, 1), \n",
    "    'beta': (0, 1)\n",
    "}\n",
    "\n",
    "best_params = popular_scenario.research(\n",
    "    popular_params_grid,\n",
    "    df,\n",
    "    users=None, items=None,\n",
    "    user_features=None,\n",
    "    item_features=None,\n",
    "    test_start=None,\n",
    "    test_size=0.3,\n",
    "    k=15, context='no_context',\n",
    "    to_filter_seen_items=True,\n",
    "    n_trials=1, \n",
    "    n_jobs=1,\n",
    "    how_to_split='randomly'\n",
    ")\n",
    "\n",
    "best_params"
   ]
  },
  {
   "cell_type": "code",
   "execution_count": 36,
   "metadata": {
    "pycharm": {
     "is_executing": false
    }
   },
   "outputs": [
    {
     "name": "stderr",
     "output_type": "stream",
     "text": [
      "01-Nov-19 11:53:06, root, DEBUG: Деление на трейн и тест\n",
      "01-Nov-19 11:53:06, root, DEBUG: Длина трейна и теста: (3283603, 1402337)\n",
      "01-Nov-19 11:53:07, root, DEBUG: Количество юзеров в трейне и тесте: 127752, 124126\n",
      "01-Nov-19 11:53:07, root, DEBUG: Количество айтемов в трейне и тесте: 67181, 51029\n",
      "01-Nov-19 11:53:07, root, DEBUG: Популярная модель: полное обучение\n",
      "01-Nov-19 11:53:07, root, DEBUG: Проверка датафреймов\n",
      "01-Nov-19 11:53:07, root, DEBUG: Предварительная стадия обучения (pre-fit)\n",
      "01-Nov-19 11:53:08, root, DEBUG: Среднее количество items у каждого user: 26.0\n",
      "01-Nov-19 11:53:08, root, DEBUG: Основная стадия обучения (fit)\n",
      "01-Nov-19 11:53:08, root, DEBUG: -------------\n",
      "01-Nov-19 11:53:08, root, DEBUG: Начало оптимизации параметров\n",
      "01-Nov-19 11:53:08, root, DEBUG: -- Параметры: {'alpha': 197, 'beta': 381}\n",
      "01-Nov-19 11:53:08, root, DEBUG: -- Предикт модели в оптимизации\n",
      "01-Nov-19 11:53:08, root, DEBUG: Проверка датафреймов\n",
      "01-Nov-19 11:53:11, root, DEBUG: Количество items после фильтрации: 41\n",
      "01-Nov-19 11:53:19, root, DEBUG: -- Длина рекомендаций: 1861890\n",
      "01-Nov-19 11:53:19, root, DEBUG: -- Подсчет метрики в оптимизации\n",
      "01-Nov-19 11:53:33, root, DEBUG: -- Метрика: (0.7265681646069316, 0.19524737095033243)\n",
      "[I 2019-11-01 11:53:34,062] Finished trial#0 resulted in value: 0.7265681646069316. Current best value is 0.7265681646069316 with parameters: {'alpha': 197, 'beta': 381}.\n",
      "01-Nov-19 11:53:34, root, DEBUG: -- Параметры: {'alpha': 392, 'beta': 864}\n",
      "01-Nov-19 11:53:34, root, DEBUG: -- Предикт модели в оптимизации\n",
      "01-Nov-19 11:53:34, root, DEBUG: Проверка датафреймов\n",
      "01-Nov-19 11:53:36, root, DEBUG: Количество items после фильтрации: 41\n",
      "01-Nov-19 11:53:47, root, DEBUG: -- Длина рекомендаций: 1861890\n",
      "01-Nov-19 11:53:47, root, DEBUG: -- Подсчет метрики в оптимизации\n",
      "01-Nov-19 11:54:04, root, DEBUG: -- Метрика: (0.7265681646069316, 0.1952473709503324)\n",
      "[I 2019-11-01 11:54:04,561] Finished trial#1 resulted in value: 0.7265681646069316. Current best value is 0.7265681646069316 with parameters: {'alpha': 197, 'beta': 381}.\n",
      "01-Nov-19 11:54:04, root, DEBUG: -- Параметры: {'alpha': 834, 'beta': 204}\n",
      "01-Nov-19 11:54:04, root, DEBUG: -- Предикт модели в оптимизации\n",
      "01-Nov-19 11:54:04, root, DEBUG: Проверка датафреймов\n",
      "01-Nov-19 11:54:07, root, DEBUG: Количество items после фильтрации: 41\n",
      "01-Nov-19 11:54:16, root, DEBUG: -- Длина рекомендаций: 1861890\n",
      "01-Nov-19 11:54:16, root, DEBUG: -- Подсчет метрики в оптимизации\n",
      "01-Nov-19 11:54:28, root, DEBUG: -- Метрика: (0.7265681646069316, 0.1952473709503324)\n",
      "[I 2019-11-01 11:54:28,508] Finished trial#2 resulted in value: 0.7265681646069316. Current best value is 0.7265681646069316 with parameters: {'alpha': 197, 'beta': 381}.\n",
      "01-Nov-19 11:54:28, root, DEBUG: -- Параметры: {'alpha': 500, 'beta': 970}\n",
      "01-Nov-19 11:54:28, root, DEBUG: -- Предикт модели в оптимизации\n",
      "01-Nov-19 11:54:28, root, DEBUG: Проверка датафреймов\n",
      "01-Nov-19 11:54:37, root, DEBUG: Количество items после фильтрации: 41\n",
      "01-Nov-19 11:54:45, root, DEBUG: -- Длина рекомендаций: 1861890\n",
      "01-Nov-19 11:54:45, root, DEBUG: -- Подсчет метрики в оптимизации\n",
      "01-Nov-19 11:54:59, root, DEBUG: -- Метрика: (0.7265681646069316, 0.19524737095033234)\n",
      "[I 2019-11-01 11:54:59,227] Finished trial#3 resulted in value: 0.7265681646069316. Current best value is 0.7265681646069316 with parameters: {'alpha': 197, 'beta': 381}.\n",
      "01-Nov-19 11:54:59, root, DEBUG: -- Параметры: {'alpha': 485, 'beta': 699}\n",
      "01-Nov-19 11:54:59, root, DEBUG: -- Предикт модели в оптимизации\n",
      "01-Nov-19 11:54:59, root, DEBUG: Проверка датафреймов\n",
      "01-Nov-19 11:55:03, root, DEBUG: Количество items после фильтрации: 41\n",
      "01-Nov-19 11:55:13, root, DEBUG: -- Длина рекомендаций: 1861890\n",
      "01-Nov-19 11:55:13, root, DEBUG: -- Подсчет метрики в оптимизации\n",
      "01-Nov-19 11:55:26, root, DEBUG: -- Метрика: (0.7265681646069316, 0.19524737095033237)\n",
      "[I 2019-11-01 11:55:26,836] Finished trial#4 resulted in value: 0.7265681646069316. Current best value is 0.7265681646069316 with parameters: {'alpha': 197, 'beta': 381}.\n",
      "01-Nov-19 11:55:26, root, DEBUG: -- Параметры: {'alpha': 508, 'beta': 174}\n",
      "01-Nov-19 11:55:26, root, DEBUG: -- Предикт модели в оптимизации\n",
      "01-Nov-19 11:55:26, root, DEBUG: Проверка датафреймов\n",
      "01-Nov-19 11:55:29, root, DEBUG: Количество items после фильтрации: 41\n",
      "01-Nov-19 11:55:37, root, DEBUG: -- Длина рекомендаций: 1861890\n",
      "01-Nov-19 11:55:37, root, DEBUG: -- Подсчет метрики в оптимизации\n",
      "01-Nov-19 11:55:48, root, DEBUG: -- Метрика: (0.7265681646069316, 0.19524737095033234)\n",
      "[I 2019-11-01 11:55:49,017] Finished trial#5 resulted in value: 0.7265681646069316. Current best value is 0.7265681646069316 with parameters: {'alpha': 197, 'beta': 381}.\n",
      "01-Nov-19 11:55:49, root, DEBUG: -- Параметры: {'alpha': 661, 'beta': 680}\n",
      "01-Nov-19 11:55:49, root, DEBUG: -- Предикт модели в оптимизации\n",
      "01-Nov-19 11:55:49, root, DEBUG: Проверка датафреймов\n",
      "01-Nov-19 11:55:53, root, DEBUG: Количество items после фильтрации: 41\n",
      "01-Nov-19 11:56:04, root, DEBUG: -- Длина рекомендаций: 1861890\n",
      "01-Nov-19 11:56:04, root, DEBUG: -- Подсчет метрики в оптимизации\n",
      "01-Nov-19 11:56:16, root, DEBUG: -- Метрика: (0.7265681646069316, 0.19524737095033246)\n",
      "[I 2019-11-01 11:56:16,273] Finished trial#6 resulted in value: 0.7265681646069316. Current best value is 0.7265681646069316 with parameters: {'alpha': 197, 'beta': 381}.\n",
      "01-Nov-19 11:56:16, root, DEBUG: -- Параметры: {'alpha': 751, 'beta': 949}\n",
      "01-Nov-19 11:56:16, root, DEBUG: -- Предикт модели в оптимизации\n",
      "01-Nov-19 11:56:16, root, DEBUG: Проверка датафреймов\n",
      "01-Nov-19 11:56:22, root, DEBUG: Количество items после фильтрации: 41\n",
      "01-Nov-19 11:56:31, root, DEBUG: -- Длина рекомендаций: 1861890\n",
      "01-Nov-19 11:56:31, root, DEBUG: -- Подсчет метрики в оптимизации\n",
      "01-Nov-19 11:56:44, root, DEBUG: -- Метрика: (0.7265681646069316, 0.19524737095033246)\n",
      "[I 2019-11-01 11:56:44,867] Finished trial#7 resulted in value: 0.7265681646069316. Current best value is 0.7265681646069316 with parameters: {'alpha': 197, 'beta': 381}.\n",
      "01-Nov-19 11:56:44, root, DEBUG: -- Параметры: {'alpha': 625, 'beta': 448}\n",
      "01-Nov-19 11:56:44, root, DEBUG: -- Предикт модели в оптимизации\n",
      "01-Nov-19 11:56:44, root, DEBUG: Проверка датафреймов\n",
      "01-Nov-19 11:56:47, root, DEBUG: Количество items после фильтрации: 41\n",
      "01-Nov-19 11:56:55, root, DEBUG: -- Длина рекомендаций: 1861890\n",
      "01-Nov-19 11:56:55, root, DEBUG: -- Подсчет метрики в оптимизации\n",
      "01-Nov-19 11:57:06, root, DEBUG: -- Метрика: (0.7265681646069316, 0.1952473709503324)\n",
      "[I 2019-11-01 11:57:06,652] Finished trial#8 resulted in value: 0.7265681646069316. Current best value is 0.7265681646069316 with parameters: {'alpha': 197, 'beta': 381}.\n",
      "01-Nov-19 11:57:06, root, DEBUG: -- Параметры: {'alpha': 346, 'beta': 911}\n",
      "01-Nov-19 11:57:06, root, DEBUG: -- Предикт модели в оптимизации\n",
      "01-Nov-19 11:57:06, root, DEBUG: Проверка датафреймов\n",
      "01-Nov-19 11:57:09, root, DEBUG: Количество items после фильтрации: 41\n",
      "01-Nov-19 11:57:20, root, DEBUG: -- Длина рекомендаций: 1861890\n",
      "01-Nov-19 11:57:20, root, DEBUG: -- Подсчет метрики в оптимизации\n",
      "01-Nov-19 11:57:34, root, DEBUG: -- Метрика: (0.7265681646069316, 0.19524737095033234)\n",
      "[I 2019-11-01 11:57:34,770] Finished trial#9 resulted in value: 0.7265681646069316. Current best value is 0.7265681646069316 with parameters: {'alpha': 197, 'beta': 381}.\n",
      "01-Nov-19 11:57:34, root, DEBUG: -- Параметры: {'alpha': 624, 'beta': 616}\n",
      "01-Nov-19 11:57:34, root, DEBUG: -- Предикт модели в оптимизации\n",
      "01-Nov-19 11:57:34, root, DEBUG: Проверка датафреймов\n",
      "01-Nov-19 11:57:37, root, DEBUG: Количество items после фильтрации: 41\n",
      "01-Nov-19 11:57:49, root, DEBUG: -- Длина рекомендаций: 1861890\n",
      "01-Nov-19 11:57:49, root, DEBUG: -- Подсчет метрики в оптимизации\n",
      "01-Nov-19 11:58:01, root, DEBUG: -- Метрика: (0.7265681646069316, 0.19524737095033237)\n",
      "[I 2019-11-01 11:58:02,114] Finished trial#10 resulted in value: 0.7265681646069316. Current best value is 0.7265681646069316 with parameters: {'alpha': 197, 'beta': 381}.\n",
      "01-Nov-19 11:58:02, root, DEBUG: -- Параметры: {'alpha': 515, 'beta': 436}\n",
      "01-Nov-19 11:58:02, root, DEBUG: -- Предикт модели в оптимизации\n",
      "01-Nov-19 11:58:02, root, DEBUG: Проверка датафреймов\n",
      "01-Nov-19 11:58:05, root, DEBUG: Количество items после фильтрации: 41\n",
      "01-Nov-19 11:58:15, root, DEBUG: -- Длина рекомендаций: 1861890\n",
      "01-Nov-19 11:58:15, root, DEBUG: -- Подсчет метрики в оптимизации\n",
      "01-Nov-19 11:58:26, root, DEBUG: -- Метрика: (0.7265681646069316, 0.19524737095033243)\n",
      "[I 2019-11-01 11:58:26,951] Finished trial#11 resulted in value: 0.7265681646069316. Current best value is 0.7265681646069316 with parameters: {'alpha': 197, 'beta': 381}.\n",
      "01-Nov-19 11:58:26, root, DEBUG: -- Параметры: {'alpha': 992, 'beta': 933}\n",
      "01-Nov-19 11:58:26, root, DEBUG: -- Предикт модели в оптимизации\n",
      "01-Nov-19 11:58:26, root, DEBUG: Проверка датафреймов\n",
      "01-Nov-19 11:58:29, root, DEBUG: Количество items после фильтрации: 41\n",
      "01-Nov-19 11:58:37, root, DEBUG: -- Длина рекомендаций: 1861890\n",
      "01-Nov-19 11:58:37, root, DEBUG: -- Подсчет метрики в оптимизации\n",
      "01-Nov-19 11:58:52, root, DEBUG: -- Метрика: (0.7265681646069316, 0.1952473709503324)\n",
      "[I 2019-11-01 11:58:52,680] Finished trial#12 resulted in value: 0.7265681646069316. Current best value is 0.7265681646069316 with parameters: {'alpha': 197, 'beta': 381}.\n",
      "01-Nov-19 11:58:52, root, DEBUG: -- Параметры: {'alpha': 596, 'beta': 525}\n",
      "01-Nov-19 11:58:52, root, DEBUG: -- Предикт модели в оптимизации\n",
      "01-Nov-19 11:58:52, root, DEBUG: Проверка датафреймов\n",
      "01-Nov-19 11:58:55, root, DEBUG: Количество items после фильтрации: 41\n",
      "01-Nov-19 11:59:04, root, DEBUG: -- Длина рекомендаций: 1861890\n",
      "01-Nov-19 11:59:04, root, DEBUG: -- Подсчет метрики в оптимизации\n",
      "01-Nov-19 11:59:20, root, DEBUG: -- Метрика: (0.7265681646069316, 0.19524737095033243)\n",
      "[I 2019-11-01 11:59:21,046] Finished trial#13 resulted in value: 0.7265681646069316. Current best value is 0.7265681646069316 with parameters: {'alpha': 197, 'beta': 381}.\n",
      "01-Nov-19 11:59:21, root, DEBUG: -- Параметры: {'alpha': 628, 'beta': 930}\n",
      "01-Nov-19 11:59:21, root, DEBUG: -- Предикт модели в оптимизации\n",
      "01-Nov-19 11:59:21, root, DEBUG: Проверка датафреймов\n",
      "01-Nov-19 11:59:23, root, DEBUG: Количество items после фильтрации: 41\n",
      "01-Nov-19 11:59:31, root, DEBUG: -- Длина рекомендаций: 1861890\n",
      "01-Nov-19 11:59:31, root, DEBUG: -- Подсчет метрики в оптимизации\n",
      "01-Nov-19 11:59:45, root, DEBUG: -- Метрика: (0.7265681646069316, 0.19524737095033237)\n",
      "[I 2019-11-01 11:59:45,532] Finished trial#14 resulted in value: 0.7265681646069316. Current best value is 0.7265681646069316 with parameters: {'alpha': 197, 'beta': 381}.\n",
      "01-Nov-19 11:59:45, root, DEBUG: Лучшие значения метрики: 0.7265681646069316\n",
      "01-Nov-19 11:59:45, root, DEBUG: Лучшие параметры: {'alpha': 197, 'beta': 381}\n"
     ]
    },
    {
     "name": "stdout",
     "output_type": "stream",
     "text": [
      "CPU times: user 2.39 s, sys: 348 ms, total: 2.74 s\n",
      "Wall time: 6min 38s\n"
     ]
    },
    {
     "data": {
      "text/plain": [
       "{'alpha': 197, 'beta': 381}"
      ]
     },
     "execution_count": 36,
     "metadata": {},
     "output_type": "execute_result"
    }
   ],
   "source": [
    "%%time\n",
    "\n",
    "popular_params_grid = {\n",
    "    'alpha': (80, 1000), \n",
    "    'beta': (80, 1000)\n",
    "}\n",
    "\n",
    "best_params = popular_scenario.research(\n",
    "    popular_params_grid,\n",
    "    df,\n",
    "    users=None, items=None,\n",
    "    user_features=None,\n",
    "    item_features=None,\n",
    "    test_start=None,\n",
    "    test_size=0.3,\n",
    "    k=15, context='no_context',\n",
    "    to_filter_seen_items=True,\n",
    "    n_trials=15, \n",
    "    n_jobs=1,\n",
    "    how_to_split='randomly'\n",
    ")\n",
    "\n",
    "best_params"
   ]
  },
  {
   "cell_type": "code",
   "execution_count": 37,
   "metadata": {},
   "outputs": [
    {
     "data": {
      "text/html": [
       "<div>\n",
       "<style scoped>\n",
       "    .dataframe tbody tr th:only-of-type {\n",
       "        vertical-align: middle;\n",
       "    }\n",
       "\n",
       "    .dataframe tbody tr th {\n",
       "        vertical-align: top;\n",
       "    }\n",
       "\n",
       "    .dataframe thead tr th {\n",
       "        text-align: left;\n",
       "    }\n",
       "</style>\n",
       "<table border=\"1\" class=\"dataframe\">\n",
       "  <thead>\n",
       "    <tr>\n",
       "      <th></th>\n",
       "      <th>number</th>\n",
       "      <th>state</th>\n",
       "      <th>value</th>\n",
       "      <th>datetime_start</th>\n",
       "      <th>datetime_complete</th>\n",
       "      <th colspan=\"2\" halign=\"left\">params</th>\n",
       "      <th>user_attrs</th>\n",
       "      <th>system_attrs</th>\n",
       "    </tr>\n",
       "    <tr>\n",
       "      <th></th>\n",
       "      <th></th>\n",
       "      <th></th>\n",
       "      <th></th>\n",
       "      <th></th>\n",
       "      <th></th>\n",
       "      <th>alpha</th>\n",
       "      <th>beta</th>\n",
       "      <th>nDCG@k</th>\n",
       "      <th>_number</th>\n",
       "    </tr>\n",
       "  </thead>\n",
       "  <tbody>\n",
       "    <tr>\n",
       "      <th>0</th>\n",
       "      <td>0</td>\n",
       "      <td>TrialState.COMPLETE</td>\n",
       "      <td>0.726568</td>\n",
       "      <td>2019-11-01 11:53:08.411758</td>\n",
       "      <td>2019-11-01 11:53:34.062585</td>\n",
       "      <td>197</td>\n",
       "      <td>381</td>\n",
       "      <td>0.195247</td>\n",
       "      <td>0</td>\n",
       "    </tr>\n",
       "    <tr>\n",
       "      <th>1</th>\n",
       "      <td>1</td>\n",
       "      <td>TrialState.COMPLETE</td>\n",
       "      <td>0.726568</td>\n",
       "      <td>2019-11-01 11:53:34.065213</td>\n",
       "      <td>2019-11-01 11:54:04.561265</td>\n",
       "      <td>392</td>\n",
       "      <td>864</td>\n",
       "      <td>0.195247</td>\n",
       "      <td>1</td>\n",
       "    </tr>\n",
       "    <tr>\n",
       "      <th>2</th>\n",
       "      <td>2</td>\n",
       "      <td>TrialState.COMPLETE</td>\n",
       "      <td>0.726568</td>\n",
       "      <td>2019-11-01 11:54:04.564202</td>\n",
       "      <td>2019-11-01 11:54:28.508071</td>\n",
       "      <td>834</td>\n",
       "      <td>204</td>\n",
       "      <td>0.195247</td>\n",
       "      <td>2</td>\n",
       "    </tr>\n",
       "    <tr>\n",
       "      <th>3</th>\n",
       "      <td>3</td>\n",
       "      <td>TrialState.COMPLETE</td>\n",
       "      <td>0.726568</td>\n",
       "      <td>2019-11-01 11:54:28.511152</td>\n",
       "      <td>2019-11-01 11:54:59.226898</td>\n",
       "      <td>500</td>\n",
       "      <td>970</td>\n",
       "      <td>0.195247</td>\n",
       "      <td>3</td>\n",
       "    </tr>\n",
       "    <tr>\n",
       "      <th>4</th>\n",
       "      <td>4</td>\n",
       "      <td>TrialState.COMPLETE</td>\n",
       "      <td>0.726568</td>\n",
       "      <td>2019-11-01 11:54:59.230667</td>\n",
       "      <td>2019-11-01 11:55:26.835186</td>\n",
       "      <td>485</td>\n",
       "      <td>699</td>\n",
       "      <td>0.195247</td>\n",
       "      <td>4</td>\n",
       "    </tr>\n",
       "    <tr>\n",
       "      <th>5</th>\n",
       "      <td>5</td>\n",
       "      <td>TrialState.COMPLETE</td>\n",
       "      <td>0.726568</td>\n",
       "      <td>2019-11-01 11:55:26.838726</td>\n",
       "      <td>2019-11-01 11:55:49.016052</td>\n",
       "      <td>508</td>\n",
       "      <td>174</td>\n",
       "      <td>0.195247</td>\n",
       "      <td>5</td>\n",
       "    </tr>\n",
       "    <tr>\n",
       "      <th>6</th>\n",
       "      <td>6</td>\n",
       "      <td>TrialState.COMPLETE</td>\n",
       "      <td>0.726568</td>\n",
       "      <td>2019-11-01 11:55:49.019966</td>\n",
       "      <td>2019-11-01 11:56:16.271531</td>\n",
       "      <td>661</td>\n",
       "      <td>680</td>\n",
       "      <td>0.195247</td>\n",
       "      <td>6</td>\n",
       "    </tr>\n",
       "    <tr>\n",
       "      <th>7</th>\n",
       "      <td>7</td>\n",
       "      <td>TrialState.COMPLETE</td>\n",
       "      <td>0.726568</td>\n",
       "      <td>2019-11-01 11:56:16.275792</td>\n",
       "      <td>2019-11-01 11:56:44.865761</td>\n",
       "      <td>751</td>\n",
       "      <td>949</td>\n",
       "      <td>0.195247</td>\n",
       "      <td>7</td>\n",
       "    </tr>\n",
       "    <tr>\n",
       "      <th>8</th>\n",
       "      <td>8</td>\n",
       "      <td>TrialState.COMPLETE</td>\n",
       "      <td>0.726568</td>\n",
       "      <td>2019-11-01 11:56:44.869854</td>\n",
       "      <td>2019-11-01 11:57:06.650535</td>\n",
       "      <td>625</td>\n",
       "      <td>448</td>\n",
       "      <td>0.195247</td>\n",
       "      <td>8</td>\n",
       "    </tr>\n",
       "    <tr>\n",
       "      <th>9</th>\n",
       "      <td>9</td>\n",
       "      <td>TrialState.COMPLETE</td>\n",
       "      <td>0.726568</td>\n",
       "      <td>2019-11-01 11:57:06.655264</td>\n",
       "      <td>2019-11-01 11:57:34.768577</td>\n",
       "      <td>346</td>\n",
       "      <td>911</td>\n",
       "      <td>0.195247</td>\n",
       "      <td>9</td>\n",
       "    </tr>\n",
       "    <tr>\n",
       "      <th>10</th>\n",
       "      <td>10</td>\n",
       "      <td>TrialState.COMPLETE</td>\n",
       "      <td>0.726568</td>\n",
       "      <td>2019-11-01 11:57:34.772984</td>\n",
       "      <td>2019-11-01 11:58:02.111675</td>\n",
       "      <td>624</td>\n",
       "      <td>616</td>\n",
       "      <td>0.195247</td>\n",
       "      <td>10</td>\n",
       "    </tr>\n",
       "    <tr>\n",
       "      <th>11</th>\n",
       "      <td>11</td>\n",
       "      <td>TrialState.COMPLETE</td>\n",
       "      <td>0.726568</td>\n",
       "      <td>2019-11-01 11:58:02.117402</td>\n",
       "      <td>2019-11-01 11:58:26.948484</td>\n",
       "      <td>515</td>\n",
       "      <td>436</td>\n",
       "      <td>0.195247</td>\n",
       "      <td>11</td>\n",
       "    </tr>\n",
       "    <tr>\n",
       "      <th>12</th>\n",
       "      <td>12</td>\n",
       "      <td>TrialState.COMPLETE</td>\n",
       "      <td>0.726568</td>\n",
       "      <td>2019-11-01 11:58:26.953339</td>\n",
       "      <td>2019-11-01 11:58:52.677576</td>\n",
       "      <td>992</td>\n",
       "      <td>933</td>\n",
       "      <td>0.195247</td>\n",
       "      <td>12</td>\n",
       "    </tr>\n",
       "    <tr>\n",
       "      <th>13</th>\n",
       "      <td>13</td>\n",
       "      <td>TrialState.COMPLETE</td>\n",
       "      <td>0.726568</td>\n",
       "      <td>2019-11-01 11:58:52.682609</td>\n",
       "      <td>2019-11-01 11:59:21.044060</td>\n",
       "      <td>596</td>\n",
       "      <td>525</td>\n",
       "      <td>0.195247</td>\n",
       "      <td>13</td>\n",
       "    </tr>\n",
       "    <tr>\n",
       "      <th>14</th>\n",
       "      <td>14</td>\n",
       "      <td>TrialState.COMPLETE</td>\n",
       "      <td>0.726568</td>\n",
       "      <td>2019-11-01 11:59:21.049282</td>\n",
       "      <td>2019-11-01 11:59:45.529302</td>\n",
       "      <td>628</td>\n",
       "      <td>930</td>\n",
       "      <td>0.195247</td>\n",
       "      <td>14</td>\n",
       "    </tr>\n",
       "    <tr>\n",
       "      <th>0</th>\n",
       "      <td>0</td>\n",
       "      <td>TrialState.COMPLETE</td>\n",
       "      <td>0.726568</td>\n",
       "      <td>2019-11-01 11:26:44.422812</td>\n",
       "      <td>2019-11-01 11:27:17.612166</td>\n",
       "      <td>1</td>\n",
       "      <td>80</td>\n",
       "      <td>0.195247</td>\n",
       "      <td>0</td>\n",
       "    </tr>\n",
       "    <tr>\n",
       "      <th>1</th>\n",
       "      <td>1</td>\n",
       "      <td>TrialState.COMPLETE</td>\n",
       "      <td>0.726568</td>\n",
       "      <td>2019-11-01 11:27:17.615336</td>\n",
       "      <td>2019-11-01 11:27:49.481819</td>\n",
       "      <td>49</td>\n",
       "      <td>68</td>\n",
       "      <td>0.195247</td>\n",
       "      <td>1</td>\n",
       "    </tr>\n",
       "    <tr>\n",
       "      <th>2</th>\n",
       "      <td>2</td>\n",
       "      <td>TrialState.COMPLETE</td>\n",
       "      <td>0.726568</td>\n",
       "      <td>2019-11-01 11:27:49.484843</td>\n",
       "      <td>2019-11-01 11:28:15.496058</td>\n",
       "      <td>8</td>\n",
       "      <td>49</td>\n",
       "      <td>0.195247</td>\n",
       "      <td>2</td>\n",
       "    </tr>\n",
       "    <tr>\n",
       "      <th>3</th>\n",
       "      <td>3</td>\n",
       "      <td>TrialState.COMPLETE</td>\n",
       "      <td>0.726568</td>\n",
       "      <td>2019-11-01 11:28:15.499156</td>\n",
       "      <td>2019-11-01 11:28:43.741408</td>\n",
       "      <td>21</td>\n",
       "      <td>32</td>\n",
       "      <td>0.195247</td>\n",
       "      <td>3</td>\n",
       "    </tr>\n",
       "    <tr>\n",
       "      <th>4</th>\n",
       "      <td>4</td>\n",
       "      <td>TrialState.COMPLETE</td>\n",
       "      <td>0.726568</td>\n",
       "      <td>2019-11-01 11:28:43.744729</td>\n",
       "      <td>2019-11-01 11:29:10.450709</td>\n",
       "      <td>33</td>\n",
       "      <td>79</td>\n",
       "      <td>0.195247</td>\n",
       "      <td>4</td>\n",
       "    </tr>\n",
       "    <tr>\n",
       "      <th>5</th>\n",
       "      <td>5</td>\n",
       "      <td>TrialState.COMPLETE</td>\n",
       "      <td>0.726568</td>\n",
       "      <td>2019-11-01 11:29:10.454236</td>\n",
       "      <td>2019-11-01 11:29:36.161747</td>\n",
       "      <td>3</td>\n",
       "      <td>51</td>\n",
       "      <td>0.195247</td>\n",
       "      <td>5</td>\n",
       "    </tr>\n",
       "    <tr>\n",
       "      <th>6</th>\n",
       "      <td>6</td>\n",
       "      <td>TrialState.COMPLETE</td>\n",
       "      <td>0.726568</td>\n",
       "      <td>2019-11-01 11:29:36.166146</td>\n",
       "      <td>2019-11-01 11:30:02.008324</td>\n",
       "      <td>2</td>\n",
       "      <td>70</td>\n",
       "      <td>0.195247</td>\n",
       "      <td>6</td>\n",
       "    </tr>\n",
       "    <tr>\n",
       "      <th>7</th>\n",
       "      <td>7</td>\n",
       "      <td>TrialState.COMPLETE</td>\n",
       "      <td>0.726568</td>\n",
       "      <td>2019-11-01 11:30:02.012301</td>\n",
       "      <td>2019-11-01 11:30:27.351856</td>\n",
       "      <td>56</td>\n",
       "      <td>29</td>\n",
       "      <td>0.195247</td>\n",
       "      <td>7</td>\n",
       "    </tr>\n",
       "    <tr>\n",
       "      <th>8</th>\n",
       "      <td>8</td>\n",
       "      <td>TrialState.COMPLETE</td>\n",
       "      <td>0.726568</td>\n",
       "      <td>2019-11-01 11:30:27.356021</td>\n",
       "      <td>2019-11-01 11:30:51.635149</td>\n",
       "      <td>32</td>\n",
       "      <td>62</td>\n",
       "      <td>0.195247</td>\n",
       "      <td>8</td>\n",
       "    </tr>\n",
       "    <tr>\n",
       "      <th>9</th>\n",
       "      <td>9</td>\n",
       "      <td>TrialState.COMPLETE</td>\n",
       "      <td>0.726568</td>\n",
       "      <td>2019-11-01 11:30:51.639840</td>\n",
       "      <td>2019-11-01 11:31:25.215724</td>\n",
       "      <td>12</td>\n",
       "      <td>67</td>\n",
       "      <td>0.195247</td>\n",
       "      <td>9</td>\n",
       "    </tr>\n",
       "    <tr>\n",
       "      <th>10</th>\n",
       "      <td>10</td>\n",
       "      <td>TrialState.COMPLETE</td>\n",
       "      <td>0.726568</td>\n",
       "      <td>2019-11-01 11:31:25.220031</td>\n",
       "      <td>2019-11-01 11:31:50.315512</td>\n",
       "      <td>39</td>\n",
       "      <td>3</td>\n",
       "      <td>0.195247</td>\n",
       "      <td>10</td>\n",
       "    </tr>\n",
       "    <tr>\n",
       "      <th>11</th>\n",
       "      <td>11</td>\n",
       "      <td>TrialState.COMPLETE</td>\n",
       "      <td>0.726568</td>\n",
       "      <td>2019-11-01 11:31:50.321347</td>\n",
       "      <td>2019-11-01 11:32:17.895704</td>\n",
       "      <td>43</td>\n",
       "      <td>71</td>\n",
       "      <td>0.195247</td>\n",
       "      <td>11</td>\n",
       "    </tr>\n",
       "    <tr>\n",
       "      <th>12</th>\n",
       "      <td>12</td>\n",
       "      <td>TrialState.COMPLETE</td>\n",
       "      <td>0.726568</td>\n",
       "      <td>2019-11-01 11:32:17.900421</td>\n",
       "      <td>2019-11-01 11:32:53.925200</td>\n",
       "      <td>69</td>\n",
       "      <td>48</td>\n",
       "      <td>0.195247</td>\n",
       "      <td>12</td>\n",
       "    </tr>\n",
       "    <tr>\n",
       "      <th>13</th>\n",
       "      <td>13</td>\n",
       "      <td>TrialState.COMPLETE</td>\n",
       "      <td>0.726568</td>\n",
       "      <td>2019-11-01 11:32:53.930264</td>\n",
       "      <td>2019-11-01 11:33:20.836985</td>\n",
       "      <td>38</td>\n",
       "      <td>24</td>\n",
       "      <td>0.195247</td>\n",
       "      <td>13</td>\n",
       "    </tr>\n",
       "    <tr>\n",
       "      <th>14</th>\n",
       "      <td>14</td>\n",
       "      <td>TrialState.COMPLETE</td>\n",
       "      <td>0.726568</td>\n",
       "      <td>2019-11-01 11:33:20.842141</td>\n",
       "      <td>2019-11-01 11:33:49.586831</td>\n",
       "      <td>16</td>\n",
       "      <td>23</td>\n",
       "      <td>0.195247</td>\n",
       "      <td>14</td>\n",
       "    </tr>\n",
       "  </tbody>\n",
       "</table>\n",
       "</div>"
      ],
      "text/plain": [
       "   number                state     value             datetime_start  \\\n",
       "                                                                      \n",
       "0   0      TrialState.COMPLETE  0.726568 2019-11-01 11:53:08.411758   \n",
       "1   1      TrialState.COMPLETE  0.726568 2019-11-01 11:53:34.065213   \n",
       "2   2      TrialState.COMPLETE  0.726568 2019-11-01 11:54:04.564202   \n",
       "3   3      TrialState.COMPLETE  0.726568 2019-11-01 11:54:28.511152   \n",
       "4   4      TrialState.COMPLETE  0.726568 2019-11-01 11:54:59.230667   \n",
       "5   5      TrialState.COMPLETE  0.726568 2019-11-01 11:55:26.838726   \n",
       "6   6      TrialState.COMPLETE  0.726568 2019-11-01 11:55:49.019966   \n",
       "7   7      TrialState.COMPLETE  0.726568 2019-11-01 11:56:16.275792   \n",
       "8   8      TrialState.COMPLETE  0.726568 2019-11-01 11:56:44.869854   \n",
       "9   9      TrialState.COMPLETE  0.726568 2019-11-01 11:57:06.655264   \n",
       "10  10     TrialState.COMPLETE  0.726568 2019-11-01 11:57:34.772984   \n",
       "11  11     TrialState.COMPLETE  0.726568 2019-11-01 11:58:02.117402   \n",
       "12  12     TrialState.COMPLETE  0.726568 2019-11-01 11:58:26.953339   \n",
       "13  13     TrialState.COMPLETE  0.726568 2019-11-01 11:58:52.682609   \n",
       "14  14     TrialState.COMPLETE  0.726568 2019-11-01 11:59:21.049282   \n",
       "0   0      TrialState.COMPLETE  0.726568 2019-11-01 11:26:44.422812   \n",
       "1   1      TrialState.COMPLETE  0.726568 2019-11-01 11:27:17.615336   \n",
       "2   2      TrialState.COMPLETE  0.726568 2019-11-01 11:27:49.484843   \n",
       "3   3      TrialState.COMPLETE  0.726568 2019-11-01 11:28:15.499156   \n",
       "4   4      TrialState.COMPLETE  0.726568 2019-11-01 11:28:43.744729   \n",
       "5   5      TrialState.COMPLETE  0.726568 2019-11-01 11:29:10.454236   \n",
       "6   6      TrialState.COMPLETE  0.726568 2019-11-01 11:29:36.166146   \n",
       "7   7      TrialState.COMPLETE  0.726568 2019-11-01 11:30:02.012301   \n",
       "8   8      TrialState.COMPLETE  0.726568 2019-11-01 11:30:27.356021   \n",
       "9   9      TrialState.COMPLETE  0.726568 2019-11-01 11:30:51.639840   \n",
       "10  10     TrialState.COMPLETE  0.726568 2019-11-01 11:31:25.220031   \n",
       "11  11     TrialState.COMPLETE  0.726568 2019-11-01 11:31:50.321347   \n",
       "12  12     TrialState.COMPLETE  0.726568 2019-11-01 11:32:17.900421   \n",
       "13  13     TrialState.COMPLETE  0.726568 2019-11-01 11:32:53.930264   \n",
       "14  14     TrialState.COMPLETE  0.726568 2019-11-01 11:33:20.842141   \n",
       "\n",
       "            datetime_complete params      user_attrs system_attrs  \n",
       "                               alpha beta     nDCG@k      _number  \n",
       "0  2019-11-01 11:53:34.062585  197    381  0.195247   0            \n",
       "1  2019-11-01 11:54:04.561265  392    864  0.195247   1            \n",
       "2  2019-11-01 11:54:28.508071  834    204  0.195247   2            \n",
       "3  2019-11-01 11:54:59.226898  500    970  0.195247   3            \n",
       "4  2019-11-01 11:55:26.835186  485    699  0.195247   4            \n",
       "5  2019-11-01 11:55:49.016052  508    174  0.195247   5            \n",
       "6  2019-11-01 11:56:16.271531  661    680  0.195247   6            \n",
       "7  2019-11-01 11:56:44.865761  751    949  0.195247   7            \n",
       "8  2019-11-01 11:57:06.650535  625    448  0.195247   8            \n",
       "9  2019-11-01 11:57:34.768577  346    911  0.195247   9            \n",
       "10 2019-11-01 11:58:02.111675  624    616  0.195247   10           \n",
       "11 2019-11-01 11:58:26.948484  515    436  0.195247   11           \n",
       "12 2019-11-01 11:58:52.677576  992    933  0.195247   12           \n",
       "13 2019-11-01 11:59:21.044060  596    525  0.195247   13           \n",
       "14 2019-11-01 11:59:45.529302  628    930  0.195247   14           \n",
       "0  2019-11-01 11:27:17.612166  1      80   0.195247   0            \n",
       "1  2019-11-01 11:27:49.481819  49     68   0.195247   1            \n",
       "2  2019-11-01 11:28:15.496058  8      49   0.195247   2            \n",
       "3  2019-11-01 11:28:43.741408  21     32   0.195247   3            \n",
       "4  2019-11-01 11:29:10.450709  33     79   0.195247   4            \n",
       "5  2019-11-01 11:29:36.161747  3      51   0.195247   5            \n",
       "6  2019-11-01 11:30:02.008324  2      70   0.195247   6            \n",
       "7  2019-11-01 11:30:27.351856  56     29   0.195247   7            \n",
       "8  2019-11-01 11:30:51.635149  32     62   0.195247   8            \n",
       "9  2019-11-01 11:31:25.215724  12     67   0.195247   9            \n",
       "10 2019-11-01 11:31:50.315512  39     3    0.195247   10           \n",
       "11 2019-11-01 11:32:17.895704  43     71   0.195247   11           \n",
       "12 2019-11-01 11:32:53.925200  69     48   0.195247   12           \n",
       "13 2019-11-01 11:33:20.836985  38     24   0.195247   13           \n",
       "14 2019-11-01 11:33:49.586831  16     23   0.195247   14           "
      ]
     },
     "execution_count": 37,
     "metadata": {},
     "output_type": "execute_result"
    }
   ],
   "source": [
    "results1 = pd.concat([popular_scenario.study.trials_dataframe(),results], axis=0)\n",
    "\n",
    "results1"
   ]
  },
  {
   "cell_type": "code",
   "execution_count": 39,
   "metadata": {
    "scrolled": false
   },
   "outputs": [
    {
     "data": {
      "image/png": "[encoded data removed]",
      "text/plain": [
       "<Figure size 504x360 with 1 Axes>"
      ]
     },
     "metadata": {
      "needs_background": "light"
     },
     "output_type": "display_data"
    }
   ],
   "source": [
    "def plot_result_value(results):\n",
    "    results['value_name'] = (results['params']['alpha'].astype(str)\n",
    "                         .str.cat(results['params']['beta'].astype(str), sep=', '))\n",
    "    \n",
    "    plt.figure(figsize=(7, 5))\n",
    "    ax = results['value'].plot(kind='bar', xticks=range(len(results)), rot=0)\n",
    "    ax.set_xticklabels(results['value_name'].values)\n",
    "\n",
    "    plt.xlabel(r'$(\\alpha, \\beta)$' + ' пары')\n",
    "    plt.ylabel('Значение метрики')\n",
    "    plt.title('Результаты эксперимента')\n",
    "\n",
    "    plt.show()\n",
    "    \n",
    "\n",
    "plot_result_value(results)"
   ]
  },
  {
   "cell_type": "code",
   "execution_count": 40,
   "metadata": {},
   "outputs": [
    {
     "name": "stderr",
     "output_type": "stream",
     "text": [
      "01-Nov-19 12:37:43, root, DEBUG: Проверка датафреймов\n",
      "01-Nov-19 12:37:43, root, DEBUG: Предварительная стадия обучения (pre-fit)\n",
      "01-Nov-19 12:37:44, root, DEBUG: Среднее количество items у каждого user: 37.0\n",
      "01-Nov-19 12:37:44, root, DEBUG: Основная стадия обучения (fit)\n",
      "01-Nov-19 12:37:44, root, DEBUG: Проверка датафреймов\n",
      "01-Nov-19 12:37:44, root, DEBUG: Выделение дефолтных юзеров\n",
      "01-Nov-19 12:37:44, root, DEBUG: Выделение дефолтных айтемов\n",
      "01-Nov-19 12:37:48, root, DEBUG: Количество items после фильтрации: 47\n"
     ]
    },
    {
     "name": "stdout",
     "output_type": "stream",
     "text": [
      "CPU times: user 28 ms, sys: 24 ms, total: 52 ms\n",
      "Wall time: 5.59 s\n"
     ]
    }
   ],
   "source": [
    "%%time\n",
    "\n",
    "best_recs = popular_scenario.production(\n",
    "    best_params,\n",
    "    df,\n",
    "    users=None,\n",
    "    items=None,\n",
    "    user_features=None,\n",
    "    item_features=None,\n",
    "    k=10,\n",
    "    context='no_context',\n",
    "    to_filter_seen_items=True\n",
    ")"
   ]
  },
  {
   "cell_type": "code",
   "execution_count": 41,
   "metadata": {},
   "outputs": [
    {
     "name": "stdout",
     "output_type": "stream",
     "text": [
      "+-------+-------+----------+--------------------+\n",
      "|item_id|user_id|   context|           relevance|\n",
      "+-------+-------+----------+--------------------+\n",
      "|   2903| 100010|no_context| 0.01047610318801781|\n",
      "|  37337| 100010|no_context|0.008376619639656153|\n",
      "|  57335| 100010|no_context|0.006875648761730...|\n",
      "|   2962| 100010|no_context|0.006833659090763764|\n",
      "|  65750| 100010|no_context|0.006062711680162332|\n",
      "|  32146| 100010|no_context|0.005988963324047292|\n",
      "|  71934| 100010|no_context|0.005025758638255788|\n",
      "|  58247| 100010|no_context|0.004495665685486708|\n",
      "|  33182| 100010|no_context|0.004337511696361393|\n",
      "|  32858| 100010|no_context|0.003866033766516115|\n",
      "+-------+-------+----------+--------------------+\n",
      "only showing top 10 rows\n",
      "\n"
     ]
    }
   ],
   "source": [
    "best_recs.show(10)"
   ]
  },
  {
   "cell_type": "markdown",
   "metadata": {},
   "source": [
    "## Рекомендатель на основе k-NN для объектов (item k-NN based recommender) <a name='knn-recommender'></a>"
   ]
  },
  {
   "cell_type": "markdown",
   "metadata": {},
   "source": [
    "### Запуск single модели <a name='knn-recommender-single'></a>"
   ]
  },
  {
   "cell_type": "code",
   "execution_count": 43,
   "metadata": {},
   "outputs": [
    {
     "data": {
      "text/plain": [
       "(3752684, 3752684, 935591)"
      ]
     },
     "execution_count": 43,
     "metadata": {},
     "output_type": "execute_result"
    }
   ],
   "source": [
    "splitter = ValidationSchemes(spark)\n",
    "\n",
    "train, test_input, test = splitter.log_split_randomly(\n",
    "    df, test_size=0.2,\n",
    "    drop_cold_users=False, drop_cold_items=True\n",
    ")\n",
    "\n",
    "(\n",
    "    train.count(), \n",
    "    test_input.count(), \n",
    "    test.count()\n",
    ")"
   ]
  },
  {
   "cell_type": "code",
   "execution_count": 44,
   "metadata": {
    "collapsed": true
   },
   "outputs": [],
   "source": [
    "knn = KNNRecommender(spark, num_neighbours=15, shrink=0)"
   ]
  },
  {
   "cell_type": "code",
   "execution_count": 45,
   "metadata": {},
   "outputs": [
    {
     "name": "stderr",
     "output_type": "stream",
     "text": [
      "01-Nov-19 12:51:19, root, DEBUG: Проверка датафреймов\n",
      "01-Nov-19 12:51:21, root, DEBUG: Предварительная стадия обучения (pre-fit)\n",
      "01-Nov-19 12:51:22, root, DEBUG: Основная стадия обучения (fit)\n"
     ]
    },
    {
     "name": "stdout",
     "output_type": "stream",
     "text": [
      "CPU times: user 28 ms, sys: 4 ms, total: 32 ms\n",
      "Wall time: 3.07 s\n"
     ]
    }
   ],
   "source": [
    "%%time\n",
    "\n",
    "knn.fit(\n",
    "    log=train,\n",
    "    user_features=None,\n",
    "    item_features=None,\n",
    "    path=None\n",
    ")"
   ]
  },
  {
   "cell_type": "code",
   "execution_count": 57,
   "metadata": {},
   "outputs": [
    {
     "name": "stderr",
     "output_type": "stream",
     "text": [
      "01-Nov-19 14:54:52, root, DEBUG: Проверка датафреймов\n"
     ]
    },
    {
     "name": "stdout",
     "output_type": "stream",
     "text": [
      "CPU times: user 16 ms, sys: 4 ms, total: 20 ms\n",
      "Wall time: 4.02 s\n"
     ]
    }
   ],
   "source": [
    "%%time\n",
    "\n",
    "recs = knn.predict(\n",
    "    k=10,\n",
    "    users=test.select('user_id').distinct(),\n",
    "    items=test.select('item_id').distinct(),\n",
    "    context='no_context',\n",
    "    log=train,\n",
    "    user_features=None,\n",
    "    item_features=None,\n",
    "    to_filter_seen_items=True,\n",
    "    path=None\n",
    ").cache()"
   ]
  },
  {
   "cell_type": "code",
   "execution_count": 47,
   "metadata": {},
   "outputs": [
    {
     "name": "stdout",
     "output_type": "stream",
     "text": [
      "+-------+-------+--------------------+----------+\n",
      "|item_id|user_id|           relevance|   context|\n",
      "+-------+-------+--------------------+----------+\n",
      "|  42693| 100010| 0.01872605768906605|no_context|\n",
      "|  71934| 100010| 0.01703401656540512|no_context|\n",
      "|   2903| 100010|0.016301770839161542|no_context|\n",
      "|    891| 100010|0.016058033827085164|no_context|\n",
      "|  30047| 100010|0.014517152435516604|no_context|\n",
      "+-------+-------+--------------------+----------+\n",
      "only showing top 5 rows\n",
      "\n"
     ]
    }
   ],
   "source": [
    "recs.show(5)"
   ]
  },
  {
   "cell_type": "code",
   "execution_count": 58,
   "metadata": {},
   "outputs": [
    {
     "name": "stdout",
     "output_type": "stream",
     "text": [
      "CPU times: user 0 ns, sys: 8 ms, total: 8 ms\n",
      "Wall time: 15.3 s\n"
     ]
    },
    {
     "data": {
      "text/plain": [
       "0.32429219796844605"
      ]
     },
     "execution_count": 58,
     "metadata": {},
     "output_type": "execute_result"
    }
   ],
   "source": [
    "%%time\n",
    "\n",
    "metric = Metrics.hit_rate_at_k(recs, test, k=100)\n",
    "metric"
   ]
  },
  {
   "cell_type": "markdown",
   "metadata": {},
   "source": [
    "### Подбор гиперпараметров в item k-NN модели <a name='knn-recommender-scenario'></a>"
   ]
  },
  {
   "cell_type": "code",
   "execution_count": 49,
   "metadata": {
    "collapsed": true
   },
   "outputs": [],
   "source": [
    "knn_scenario = KNNScenario(spark)\n",
    "knn_scenario.seed = 3951"
   ]
  },
  {
   "cell_type": "code",
   "execution_count": 62,
   "metadata": {
    "collapsed": true
   },
   "outputs": [
    {
     "name": "stderr",
     "output_type": "stream",
     "text": [
      "01-Nov-19 15:04:36, root, DEBUG: Деление на трейн и тест\n",
      "01-Nov-19 15:04:36, root, DEBUG: Длина трейна и теста: (3751580, 936135)\n",
      "01-Nov-19 15:04:37, root, DEBUG: Количество юзеров в трейне и тесте: 128122, 120405\n",
      "01-Nov-19 15:04:37, root, DEBUG: Количество айтемов в трейне и тесте: 68735, 46425\n",
      "01-Nov-19 15:04:37, root, DEBUG: Популярная модель: фит_предикт\n",
      "01-Nov-19 15:04:37, root, DEBUG: Проверка датафреймов\n",
      "01-Nov-19 15:04:37, root, DEBUG: Предварительная стадия обучения (pre-fit)\n",
      "01-Nov-19 15:04:38, root, DEBUG: Среднее количество items у каждого user: 30.0\n",
      "01-Nov-19 15:04:38, root, DEBUG: Основная стадия обучения (fit)\n",
      "01-Nov-19 15:04:38, root, DEBUG: Проверка датафреймов\n",
      "01-Nov-19 15:04:40, root, DEBUG: Количество items после фильтрации: 40\n",
      "01-Nov-19 15:04:41, root, DEBUG: Модель KNN\n",
      "01-Nov-19 15:04:41, root, DEBUG: Первый пре-фит модели\n",
      "01-Nov-19 15:04:41, root, DEBUG: -------------\n",
      "01-Nov-19 15:04:41, root, DEBUG: Начало оптимизации параметров\n",
      "01-Nov-19 15:04:41, root, DEBUG: -- Параметры: {'num_neighbours': 70.0, 'shrink': 0}\n",
      "01-Nov-19 15:04:41, root, DEBUG: -- Второй фит модели в оптимизации\n",
      "01-Nov-19 15:04:41, root, DEBUG: -- Предикт модели в оптимизации\n",
      "01-Nov-19 15:04:41, root, DEBUG: Проверка датафреймов\n",
      "01-Nov-19 15:06:13, root, DEBUG: -- Длина рекомендаций: 1203946\n",
      "01-Nov-19 15:06:13, root, DEBUG: -- Дополняем рекомендации популярными\n",
      "01-Nov-19 15:06:18, root, DEBUG: -- Длина рекомендаций: 1204050\n",
      "01-Nov-19 15:06:18, root, DEBUG: -- Подсчет метрики в оптимизации\n",
      "01-Nov-19 15:06:53, root, DEBUG: -- Метрика: (0.3086250570989577, 0.07205260486161452)\n",
      "[I 2019-11-01 15:06:53,720] Finished trial#0 resulted in value: 0.3086250570989577. Current best value is 0.3086250570989577 with parameters: {'num_neighbours': 70.0, 'shrink': 0}.\n",
      "01-Nov-19 15:06:53, root, DEBUG: -- Параметры: {'num_neighbours': 15.0, 'shrink': 0}\n",
      "01-Nov-19 15:06:53, root, DEBUG: -- Второй фит модели в оптимизации\n",
      "01-Nov-19 15:06:53, root, DEBUG: -- Предикт модели в оптимизации\n",
      "01-Nov-19 15:06:53, root, DEBUG: Проверка датафреймов\n",
      "01-Nov-19 15:07:19, root, DEBUG: -- Длина рекомендаций: 1203946\n",
      "01-Nov-19 15:07:19, root, DEBUG: -- Дополняем рекомендации популярными\n",
      "01-Nov-19 15:07:25, root, DEBUG: -- Длина рекомендаций: 1204050\n",
      "01-Nov-19 15:07:25, root, DEBUG: -- Подсчет метрики в оптимизации\n",
      "01-Nov-19 15:07:48, root, DEBUG: -- Метрика: (0.325003114488601, 0.08429284145707246)\n",
      "[I 2019-11-01 15:07:48,703] Finished trial#1 resulted in value: 0.325003114488601. Current best value is 0.325003114488601 with parameters: {'num_neighbours': 15.0, 'shrink': 0}.\n",
      "01-Nov-19 15:07:48, root, DEBUG: -- Параметры: {'num_neighbours': 80.0, 'shrink': 0}\n",
      "01-Nov-19 15:07:48, root, DEBUG: -- Второй фит модели в оптимизации\n",
      "01-Nov-19 15:07:48, root, DEBUG: -- Предикт модели в оптимизации\n",
      "01-Nov-19 15:07:48, root, DEBUG: Проверка датафреймов\n",
      "01-Nov-19 15:09:22, root, DEBUG: -- Длина рекомендаций: 1203946\n",
      "01-Nov-19 15:09:22, root, DEBUG: -- Дополняем рекомендации популярными\n",
      "01-Nov-19 15:09:27, root, DEBUG: -- Длина рекомендаций: 1204050\n",
      "01-Nov-19 15:09:27, root, DEBUG: -- Подсчет метрики в оптимизации\n",
      "01-Nov-19 15:09:59, root, DEBUG: -- Метрика: (0.3029110086790416, 0.06988168145523942)\n",
      "[I 2019-11-01 15:10:00,040] Finished trial#2 resulted in value: 0.3029110086790416. Current best value is 0.325003114488601 with parameters: {'num_neighbours': 15.0, 'shrink': 0}.\n",
      "01-Nov-19 15:10:00, root, DEBUG: -- Параметры: {'num_neighbours': 70.0, 'shrink': 0}\n",
      "01-Nov-19 15:10:00, root, DEBUG: -- Второй фит модели в оптимизации\n",
      "01-Nov-19 15:10:00, root, DEBUG: -- Предикт модели в оптимизации\n",
      "01-Nov-19 15:10:00, root, DEBUG: Проверка датафреймов\n",
      "01-Nov-19 15:10:00, root, DEBUG: -- Длина рекомендаций: 1203946\n",
      "01-Nov-19 15:10:00, root, DEBUG: -- Дополняем рекомендации популярными\n",
      "01-Nov-19 15:10:05, root, DEBUG: -- Длина рекомендаций: 1204050\n",
      "01-Nov-19 15:10:05, root, DEBUG: -- Подсчет метрики в оптимизации\n",
      "01-Nov-19 15:10:28, root, DEBUG: -- Метрика: (0.3086250570989577, 0.0720526048616144)\n",
      "[I 2019-11-01 15:10:29,055] Finished trial#3 resulted in value: 0.3086250570989577. Current best value is 0.325003114488601 with parameters: {'num_neighbours': 15.0, 'shrink': 0}.\n",
      "01-Nov-19 15:10:29, root, DEBUG: -- Параметры: {'num_neighbours': 15.0, 'shrink': 0}\n",
      "01-Nov-19 15:10:29, root, DEBUG: -- Второй фит модели в оптимизации\n",
      "01-Nov-19 15:10:29, root, DEBUG: -- Предикт модели в оптимизации\n",
      "01-Nov-19 15:10:29, root, DEBUG: Проверка датафреймов\n",
      "01-Nov-19 15:10:29, root, DEBUG: -- Длина рекомендаций: 1203946\n",
      "01-Nov-19 15:10:29, root, DEBUG: -- Дополняем рекомендации популярными\n",
      "01-Nov-19 15:10:36, root, DEBUG: -- Длина рекомендаций: 1204050\n",
      "01-Nov-19 15:10:36, root, DEBUG: -- Подсчет метрики в оптимизации\n",
      "01-Nov-19 15:10:59, root, DEBUG: -- Метрика: (0.325003114488601, 0.0842928414570724)\n",
      "[I 2019-11-01 15:10:59,402] Finished trial#4 resulted in value: 0.325003114488601. Current best value is 0.325003114488601 with parameters: {'num_neighbours': 15.0, 'shrink': 0}.\n",
      "01-Nov-19 15:10:59, root, DEBUG: -- Параметры: {'num_neighbours': 100.0, 'shrink': 0}\n",
      "01-Nov-19 15:10:59, root, DEBUG: -- Второй фит модели в оптимизации\n",
      "01-Nov-19 15:10:59, root, DEBUG: -- Предикт модели в оптимизации\n",
      "01-Nov-19 15:10:59, root, DEBUG: Проверка датафреймов\n",
      "01-Nov-19 15:13:02, root, DEBUG: -- Длина рекомендаций: 1203946\n",
      "01-Nov-19 15:13:02, root, DEBUG: -- Дополняем рекомендации популярными\n",
      "01-Nov-19 15:13:13, root, DEBUG: -- Длина рекомендаций: 1204050\n",
      "01-Nov-19 15:13:13, root, DEBUG: -- Подсчет метрики в оптимизации\n",
      "01-Nov-19 15:13:36, root, DEBUG: -- Метрика: (0.2976537519206013, 0.06772470896058742)\n",
      "[I 2019-11-01 15:13:37,007] Finished trial#5 resulted in value: 0.2976537519206013. Current best value is 0.325003114488601 with parameters: {'num_neighbours': 15.0, 'shrink': 0}.\n",
      "01-Nov-19 15:13:37, root, DEBUG: -- Параметры: {'num_neighbours': 20.0, 'shrink': 0}\n",
      "01-Nov-19 15:13:37, root, DEBUG: -- Второй фит модели в оптимизации\n",
      "01-Nov-19 15:13:37, root, DEBUG: -- Предикт модели в оптимизации\n",
      "01-Nov-19 15:13:37, root, DEBUG: Проверка датафреймов\n",
      "01-Nov-19 15:14:07, root, DEBUG: -- Длина рекомендаций: 1203946\n",
      "01-Nov-19 15:14:07, root, DEBUG: -- Дополняем рекомендации популярными\n",
      "01-Nov-19 15:14:12, root, DEBUG: -- Длина рекомендаций: 1204050\n",
      "01-Nov-19 15:14:12, root, DEBUG: -- Подсчет метрики в оптимизации\n",
      "01-Nov-19 15:14:42, root, DEBUG: -- Метрика: (0.330401561396952, 0.08570290477045196)\n",
      "[I 2019-11-01 15:14:42,637] Finished trial#6 resulted in value: 0.330401561396952. Current best value is 0.330401561396952 with parameters: {'num_neighbours': 20.0, 'shrink': 0}.\n",
      "01-Nov-19 15:14:42, root, DEBUG: -- Параметры: {'num_neighbours': 35.0, 'shrink': 0}\n",
      "01-Nov-19 15:14:42, root, DEBUG: -- Второй фит модели в оптимизации\n",
      "01-Nov-19 15:14:42, root, DEBUG: -- Предикт модели в оптимизации\n",
      "01-Nov-19 15:14:42, root, DEBUG: Проверка датафреймов\n",
      "01-Nov-19 15:15:33, root, DEBUG: -- Длина рекомендаций: 1203946\n",
      "01-Nov-19 15:15:33, root, DEBUG: -- Дополняем рекомендации популярными\n",
      "01-Nov-19 15:15:37, root, DEBUG: -- Длина рекомендаций: 1204050\n",
      "01-Nov-19 15:15:37, root, DEBUG: -- Подсчет метрики в оптимизации\n",
      "01-Nov-19 15:16:06, root, DEBUG: -- Метрика: (0.32624890992898964, 0.0812904396613256)\n",
      "[I 2019-11-01 15:16:06,435] Finished trial#7 resulted in value: 0.32624890992898964. Current best value is 0.330401561396952 with parameters: {'num_neighbours': 20.0, 'shrink': 0}.\n",
      "01-Nov-19 15:16:06, root, DEBUG: -- Параметры: {'num_neighbours': 75.0, 'shrink': 0}\n",
      "01-Nov-19 15:16:06, root, DEBUG: -- Второй фит модели в оптимизации\n",
      "01-Nov-19 15:16:06, root, DEBUG: -- Предикт модели в оптимизации\n",
      "01-Nov-19 15:16:06, root, DEBUG: Проверка датафреймов\n",
      "01-Nov-19 15:17:39, root, DEBUG: -- Длина рекомендаций: 1203946\n",
      "01-Nov-19 15:17:39, root, DEBUG: -- Дополняем рекомендации популярными\n",
      "01-Nov-19 15:17:45, root, DEBUG: -- Длина рекомендаций: 1204050\n",
      "01-Nov-19 15:17:45, root, DEBUG: -- Подсчет метрики в оптимизации\n",
      "01-Nov-19 15:18:08, root, DEBUG: -- Метрика: (0.30580955940367927, 0.07092324149107954)\n",
      "[I 2019-11-01 15:18:08,532] Finished trial#8 resulted in value: 0.30580955940367927. Current best value is 0.330401561396952 with parameters: {'num_neighbours': 20.0, 'shrink': 0}.\n",
      "01-Nov-19 15:18:08, root, DEBUG: -- Параметры: {'num_neighbours': 65.0, 'shrink': 0}\n",
      "01-Nov-19 15:18:08, root, DEBUG: -- Второй фит модели в оптимизации\n",
      "01-Nov-19 15:18:08, root, DEBUG: -- Предикт модели в оптимизации\n",
      "01-Nov-19 15:18:08, root, DEBUG: Проверка датафреймов\n",
      "01-Nov-19 15:19:28, root, DEBUG: -- Длина рекомендаций: 1203946\n",
      "01-Nov-19 15:19:28, root, DEBUG: -- Дополняем рекомендации популярными\n",
      "01-Nov-19 15:19:32, root, DEBUG: -- Длина рекомендаций: 1204050\n",
      "01-Nov-19 15:19:32, root, DEBUG: -- Подсчет метрики в оптимизации\n",
      "01-Nov-19 15:19:57, root, DEBUG: -- Метрика: (0.3120883684232382, 0.07310433841138154)\n",
      "[I 2019-11-01 15:19:57,308] Finished trial#9 resulted in value: 0.3120883684232382. Current best value is 0.330401561396952 with parameters: {'num_neighbours': 20.0, 'shrink': 0}.\n",
      "01-Nov-19 15:19:57, root, DEBUG: -- Параметры: {'num_neighbours': 60.0, 'shrink': 0}\n",
      "01-Nov-19 15:19:57, root, DEBUG: -- Второй фит модели в оптимизации\n",
      "01-Nov-19 15:19:57, root, DEBUG: -- Предикт модели в оптимизации\n",
      "01-Nov-19 15:19:57, root, DEBUG: Проверка датафреймов\n",
      "01-Nov-19 15:21:21, root, DEBUG: -- Длина рекомендаций: 1203946\n",
      "01-Nov-19 15:21:21, root, DEBUG: -- Дополняем рекомендации популярными\n",
      "01-Nov-19 15:21:26, root, DEBUG: -- Длина рекомендаций: 1204050\n",
      "01-Nov-19 15:21:26, root, DEBUG: -- Подсчет метрики в оптимизации\n",
      "01-Nov-19 15:21:56, root, DEBUG: -- Метрика: (0.3148457289979652, 0.07437125839424565)\n",
      "[I 2019-11-01 15:21:56,325] Finished trial#10 resulted in value: 0.3148457289979652. Current best value is 0.330401561396952 with parameters: {'num_neighbours': 20.0, 'shrink': 0}.\n",
      "01-Nov-19 15:21:56, root, DEBUG: -- Параметры: {'num_neighbours': 75.0, 'shrink': 0}\n",
      "01-Nov-19 15:21:56, root, DEBUG: -- Второй фит модели в оптимизации\n",
      "01-Nov-19 15:21:56, root, DEBUG: -- Предикт модели в оптимизации\n",
      "01-Nov-19 15:21:56, root, DEBUG: Проверка датафреймов\n",
      "01-Nov-19 15:21:57, root, DEBUG: -- Длина рекомендаций: 1203946\n",
      "01-Nov-19 15:21:57, root, DEBUG: -- Дополняем рекомендации популярными\n",
      "01-Nov-19 15:22:05, root, DEBUG: -- Длина рекомендаций: 1204050\n",
      "01-Nov-19 15:22:05, root, DEBUG: -- Подсчет метрики в оптимизации\n",
      "01-Nov-19 15:22:28, root, DEBUG: -- Метрика: (0.30580955940367927, 0.07092324149107948)\n",
      "[I 2019-11-01 15:22:28,448] Finished trial#11 resulted in value: 0.30580955940367927. Current best value is 0.330401561396952 with parameters: {'num_neighbours': 20.0, 'shrink': 0}.\n",
      "01-Nov-19 15:22:28, root, DEBUG: -- Параметры: {'num_neighbours': 70.0, 'shrink': 0}\n",
      "01-Nov-19 15:22:28, root, DEBUG: -- Второй фит модели в оптимизации\n",
      "01-Nov-19 15:22:28, root, DEBUG: -- Предикт модели в оптимизации\n",
      "01-Nov-19 15:22:28, root, DEBUG: Проверка датафреймов\n",
      "01-Nov-19 15:22:29, root, DEBUG: -- Длина рекомендаций: 1203946\n",
      "01-Nov-19 15:22:29, root, DEBUG: -- Дополняем рекомендации популярными\n",
      "01-Nov-19 15:22:35, root, DEBUG: -- Длина рекомендаций: 1204050\n",
      "01-Nov-19 15:22:35, root, DEBUG: -- Подсчет метрики в оптимизации\n",
      "01-Nov-19 15:22:57, root, DEBUG: -- Метрика: (0.3086250570989577, 0.0720526048616145)\n",
      "[I 2019-11-01 15:22:57,520] Finished trial#12 resulted in value: 0.3086250570989577. Current best value is 0.330401561396952 with parameters: {'num_neighbours': 20.0, 'shrink': 0}.\n",
      "01-Nov-19 15:22:57, root, DEBUG: -- Параметры: {'num_neighbours': 85.0, 'shrink': 0}\n",
      "01-Nov-19 15:22:57, root, DEBUG: -- Второй фит модели в оптимизации\n",
      "01-Nov-19 15:22:57, root, DEBUG: -- Предикт модели в оптимизации\n",
      "01-Nov-19 15:22:57, root, DEBUG: Проверка датафреймов\n",
      "01-Nov-19 15:24:38, root, DEBUG: -- Длина рекомендаций: 1203946\n",
      "01-Nov-19 15:24:38, root, DEBUG: -- Дополняем рекомендации популярными\n",
      "01-Nov-19 15:24:46, root, DEBUG: -- Длина рекомендаций: 1204050\n",
      "01-Nov-19 15:24:46, root, DEBUG: -- Подсчет метрики в оптимизации\n",
      "01-Nov-19 15:25:13, root, DEBUG: -- Метрика: (0.3022798056559113, 0.06938977842244343)\n",
      "[I 2019-11-01 15:25:13,270] Finished trial#13 resulted in value: 0.3022798056559113. Current best value is 0.330401561396952 with parameters: {'num_neighbours': 20.0, 'shrink': 0}.\n",
      "01-Nov-19 15:25:13, root, DEBUG: -- Параметры: {'num_neighbours': 70.0, 'shrink': 0}\n",
      "01-Nov-19 15:25:13, root, DEBUG: -- Второй фит модели в оптимизации\n",
      "01-Nov-19 15:25:13, root, DEBUG: -- Предикт модели в оптимизации\n",
      "01-Nov-19 15:25:13, root, DEBUG: Проверка датафреймов\n",
      "01-Nov-19 15:25:14, root, DEBUG: -- Длина рекомендаций: 1203946\n",
      "01-Nov-19 15:25:14, root, DEBUG: -- Дополняем рекомендации популярными\n",
      "01-Nov-19 15:25:23, root, DEBUG: -- Длина рекомендаций: 1204050\n",
      "01-Nov-19 15:25:23, root, DEBUG: -- Подсчет метрики в оптимизации\n",
      "01-Nov-19 15:25:50, root, DEBUG: -- Метрика: (0.3086250570989577, 0.07205260486161452)\n",
      "[I 2019-11-01 15:25:50,207] Finished trial#14 resulted in value: 0.3086250570989577. Current best value is 0.330401561396952 with parameters: {'num_neighbours': 20.0, 'shrink': 0}.\n",
      "01-Nov-19 15:25:50, root, DEBUG: Лучшие значения метрики: 0.330401561396952\n",
      "01-Nov-19 15:25:50, root, DEBUG: Лучшие параметры: {'num_neighbours': 20.0, 'shrink': 0}\n"
     ]
    },
    {
     "name": "stdout",
     "output_type": "stream",
     "text": [
      "CPU times: user 2.71 s, sys: 472 ms, total: 3.18 s\n",
      "Wall time: 21min 13s\n"
     ]
    }
   ],
   "source": [
    "%%time\n",
    "\n",
    "knn_params_grid = {\n",
    "    'num_neighbours': (10, 100, 5), \n",
    "    'shrink': [0]\n",
    "}\n",
    "\n",
    "best_params = knn_scenario.research(\n",
    "    knn_params_grid,\n",
    "    df,\n",
    "    users=None, items=None,\n",
    "    user_features=None,\n",
    "    item_features=None,\n",
    "    test_start=None,\n",
    "    test_size=0.2,\n",
    "    k=10, context='no_context',\n",
    "    to_filter_seen_items=True,\n",
    "    n_trials=15, \n",
    "    n_jobs=1,\n",
    "    how_to_split='randomly'\n",
    ")"
   ]
  },
  {
   "cell_type": "code",
   "execution_count": 63,
   "metadata": {},
   "outputs": [
    {
     "data": {
      "text/html": [
       "<div>\n",
       "<style scoped>\n",
       "    .dataframe tbody tr th:only-of-type {\n",
       "        vertical-align: middle;\n",
       "    }\n",
       "\n",
       "    .dataframe tbody tr th {\n",
       "        vertical-align: top;\n",
       "    }\n",
       "\n",
       "    .dataframe thead tr th {\n",
       "        text-align: left;\n",
       "    }\n",
       "</style>\n",
       "<table border=\"1\" class=\"dataframe\">\n",
       "  <thead>\n",
       "    <tr>\n",
       "      <th></th>\n",
       "      <th>number</th>\n",
       "      <th>state</th>\n",
       "      <th>value</th>\n",
       "      <th>datetime_start</th>\n",
       "      <th>datetime_complete</th>\n",
       "      <th colspan=\"2\" halign=\"left\">params</th>\n",
       "      <th>user_attrs</th>\n",
       "      <th>system_attrs</th>\n",
       "    </tr>\n",
       "    <tr>\n",
       "      <th></th>\n",
       "      <th></th>\n",
       "      <th></th>\n",
       "      <th></th>\n",
       "      <th></th>\n",
       "      <th></th>\n",
       "      <th>num_neighbours</th>\n",
       "      <th>shrink</th>\n",
       "      <th>nDCG@k</th>\n",
       "      <th>_number</th>\n",
       "    </tr>\n",
       "  </thead>\n",
       "  <tbody>\n",
       "    <tr>\n",
       "      <th>0</th>\n",
       "      <td>0</td>\n",
       "      <td>TrialState.COMPLETE</td>\n",
       "      <td>0.308625</td>\n",
       "      <td>2019-11-01 15:04:41.386398</td>\n",
       "      <td>2019-11-01 15:06:53.720279</td>\n",
       "      <td>70.0</td>\n",
       "      <td>0</td>\n",
       "      <td>0.072053</td>\n",
       "      <td>0</td>\n",
       "    </tr>\n",
       "    <tr>\n",
       "      <th>1</th>\n",
       "      <td>1</td>\n",
       "      <td>TrialState.COMPLETE</td>\n",
       "      <td>0.325003</td>\n",
       "      <td>2019-11-01 15:06:53.722944</td>\n",
       "      <td>2019-11-01 15:07:48.703018</td>\n",
       "      <td>15.0</td>\n",
       "      <td>0</td>\n",
       "      <td>0.084293</td>\n",
       "      <td>1</td>\n",
       "    </tr>\n",
       "    <tr>\n",
       "      <th>2</th>\n",
       "      <td>2</td>\n",
       "      <td>TrialState.COMPLETE</td>\n",
       "      <td>0.302911</td>\n",
       "      <td>2019-11-01 15:07:48.707318</td>\n",
       "      <td>2019-11-01 15:10:00.040025</td>\n",
       "      <td>80.0</td>\n",
       "      <td>0</td>\n",
       "      <td>0.069882</td>\n",
       "      <td>2</td>\n",
       "    </tr>\n",
       "    <tr>\n",
       "      <th>3</th>\n",
       "      <td>3</td>\n",
       "      <td>TrialState.COMPLETE</td>\n",
       "      <td>0.308625</td>\n",
       "      <td>2019-11-01 15:10:00.043280</td>\n",
       "      <td>2019-11-01 15:10:29.053987</td>\n",
       "      <td>70.0</td>\n",
       "      <td>0</td>\n",
       "      <td>0.072053</td>\n",
       "      <td>3</td>\n",
       "    </tr>\n",
       "    <tr>\n",
       "      <th>4</th>\n",
       "      <td>4</td>\n",
       "      <td>TrialState.COMPLETE</td>\n",
       "      <td>0.325003</td>\n",
       "      <td>2019-11-01 15:10:29.057456</td>\n",
       "      <td>2019-11-01 15:10:59.401451</td>\n",
       "      <td>15.0</td>\n",
       "      <td>0</td>\n",
       "      <td>0.084293</td>\n",
       "      <td>4</td>\n",
       "    </tr>\n",
       "    <tr>\n",
       "      <th>5</th>\n",
       "      <td>5</td>\n",
       "      <td>TrialState.COMPLETE</td>\n",
       "      <td>0.297654</td>\n",
       "      <td>2019-11-01 15:10:59.404881</td>\n",
       "      <td>2019-11-01 15:13:37.005776</td>\n",
       "      <td>100.0</td>\n",
       "      <td>0</td>\n",
       "      <td>0.067725</td>\n",
       "      <td>5</td>\n",
       "    </tr>\n",
       "    <tr>\n",
       "      <th>6</th>\n",
       "      <td>6</td>\n",
       "      <td>TrialState.COMPLETE</td>\n",
       "      <td>0.330402</td>\n",
       "      <td>2019-11-01 15:13:37.009504</td>\n",
       "      <td>2019-11-01 15:14:42.636085</td>\n",
       "      <td>20.0</td>\n",
       "      <td>0</td>\n",
       "      <td>0.085703</td>\n",
       "      <td>6</td>\n",
       "    </tr>\n",
       "    <tr>\n",
       "      <th>7</th>\n",
       "      <td>7</td>\n",
       "      <td>TrialState.COMPLETE</td>\n",
       "      <td>0.326249</td>\n",
       "      <td>2019-11-01 15:14:42.639996</td>\n",
       "      <td>2019-11-01 15:16:06.434104</td>\n",
       "      <td>35.0</td>\n",
       "      <td>0</td>\n",
       "      <td>0.081290</td>\n",
       "      <td>7</td>\n",
       "    </tr>\n",
       "    <tr>\n",
       "      <th>8</th>\n",
       "      <td>8</td>\n",
       "      <td>TrialState.COMPLETE</td>\n",
       "      <td>0.305810</td>\n",
       "      <td>2019-11-01 15:16:06.438109</td>\n",
       "      <td>2019-11-01 15:18:08.530447</td>\n",
       "      <td>75.0</td>\n",
       "      <td>0</td>\n",
       "      <td>0.070923</td>\n",
       "      <td>8</td>\n",
       "    </tr>\n",
       "    <tr>\n",
       "      <th>9</th>\n",
       "      <td>9</td>\n",
       "      <td>TrialState.COMPLETE</td>\n",
       "      <td>0.312088</td>\n",
       "      <td>2019-11-01 15:18:08.534832</td>\n",
       "      <td>2019-11-01 15:19:57.306601</td>\n",
       "      <td>65.0</td>\n",
       "      <td>0</td>\n",
       "      <td>0.073104</td>\n",
       "      <td>9</td>\n",
       "    </tr>\n",
       "    <tr>\n",
       "      <th>10</th>\n",
       "      <td>10</td>\n",
       "      <td>TrialState.COMPLETE</td>\n",
       "      <td>0.314846</td>\n",
       "      <td>2019-11-01 15:19:57.311861</td>\n",
       "      <td>2019-11-01 15:21:56.323363</td>\n",
       "      <td>60.0</td>\n",
       "      <td>0</td>\n",
       "      <td>0.074371</td>\n",
       "      <td>10</td>\n",
       "    </tr>\n",
       "    <tr>\n",
       "      <th>11</th>\n",
       "      <td>11</td>\n",
       "      <td>TrialState.COMPLETE</td>\n",
       "      <td>0.305810</td>\n",
       "      <td>2019-11-01 15:21:56.328005</td>\n",
       "      <td>2019-11-01 15:22:28.445779</td>\n",
       "      <td>75.0</td>\n",
       "      <td>0</td>\n",
       "      <td>0.070923</td>\n",
       "      <td>11</td>\n",
       "    </tr>\n",
       "    <tr>\n",
       "      <th>12</th>\n",
       "      <td>12</td>\n",
       "      <td>TrialState.COMPLETE</td>\n",
       "      <td>0.308625</td>\n",
       "      <td>2019-11-01 15:22:28.450741</td>\n",
       "      <td>2019-11-01 15:22:57.517628</td>\n",
       "      <td>70.0</td>\n",
       "      <td>0</td>\n",
       "      <td>0.072053</td>\n",
       "      <td>12</td>\n",
       "    </tr>\n",
       "    <tr>\n",
       "      <th>13</th>\n",
       "      <td>13</td>\n",
       "      <td>TrialState.COMPLETE</td>\n",
       "      <td>0.302280</td>\n",
       "      <td>2019-11-01 15:22:57.522693</td>\n",
       "      <td>2019-11-01 15:25:13.267848</td>\n",
       "      <td>85.0</td>\n",
       "      <td>0</td>\n",
       "      <td>0.069390</td>\n",
       "      <td>13</td>\n",
       "    </tr>\n",
       "    <tr>\n",
       "      <th>14</th>\n",
       "      <td>14</td>\n",
       "      <td>TrialState.COMPLETE</td>\n",
       "      <td>0.308625</td>\n",
       "      <td>2019-11-01 15:25:13.273275</td>\n",
       "      <td>2019-11-01 15:25:50.204179</td>\n",
       "      <td>70.0</td>\n",
       "      <td>0</td>\n",
       "      <td>0.072053</td>\n",
       "      <td>14</td>\n",
       "    </tr>\n",
       "  </tbody>\n",
       "</table>\n",
       "</div>"
      ],
      "text/plain": [
       "   number                state     value             datetime_start  \\\n",
       "                                                                      \n",
       "0   0      TrialState.COMPLETE  0.308625 2019-11-01 15:04:41.386398   \n",
       "1   1      TrialState.COMPLETE  0.325003 2019-11-01 15:06:53.722944   \n",
       "2   2      TrialState.COMPLETE  0.302911 2019-11-01 15:07:48.707318   \n",
       "3   3      TrialState.COMPLETE  0.308625 2019-11-01 15:10:00.043280   \n",
       "4   4      TrialState.COMPLETE  0.325003 2019-11-01 15:10:29.057456   \n",
       "5   5      TrialState.COMPLETE  0.297654 2019-11-01 15:10:59.404881   \n",
       "6   6      TrialState.COMPLETE  0.330402 2019-11-01 15:13:37.009504   \n",
       "7   7      TrialState.COMPLETE  0.326249 2019-11-01 15:14:42.639996   \n",
       "8   8      TrialState.COMPLETE  0.305810 2019-11-01 15:16:06.438109   \n",
       "9   9      TrialState.COMPLETE  0.312088 2019-11-01 15:18:08.534832   \n",
       "10  10     TrialState.COMPLETE  0.314846 2019-11-01 15:19:57.311861   \n",
       "11  11     TrialState.COMPLETE  0.305810 2019-11-01 15:21:56.328005   \n",
       "12  12     TrialState.COMPLETE  0.308625 2019-11-01 15:22:28.450741   \n",
       "13  13     TrialState.COMPLETE  0.302280 2019-11-01 15:22:57.522693   \n",
       "14  14     TrialState.COMPLETE  0.308625 2019-11-01 15:25:13.273275   \n",
       "\n",
       "            datetime_complete         params        user_attrs system_attrs  \n",
       "                              num_neighbours shrink     nDCG@k      _number  \n",
       "0  2019-11-01 15:06:53.720279  70.0           0      0.072053   0            \n",
       "1  2019-11-01 15:07:48.703018  15.0           0      0.084293   1            \n",
       "2  2019-11-01 15:10:00.040025  80.0           0      0.069882   2            \n",
       "3  2019-11-01 15:10:29.053987  70.0           0      0.072053   3            \n",
       "4  2019-11-01 15:10:59.401451  15.0           0      0.084293   4            \n",
       "5  2019-11-01 15:13:37.005776  100.0          0      0.067725   5            \n",
       "6  2019-11-01 15:14:42.636085  20.0           0      0.085703   6            \n",
       "7  2019-11-01 15:16:06.434104  35.0           0      0.081290   7            \n",
       "8  2019-11-01 15:18:08.530447  75.0           0      0.070923   8            \n",
       "9  2019-11-01 15:19:57.306601  65.0           0      0.073104   9            \n",
       "10 2019-11-01 15:21:56.323363  60.0           0      0.074371   10           \n",
       "11 2019-11-01 15:22:28.445779  75.0           0      0.070923   11           \n",
       "12 2019-11-01 15:22:57.517628  70.0           0      0.072053   12           \n",
       "13 2019-11-01 15:25:13.267848  85.0           0      0.069390   13           \n",
       "14 2019-11-01 15:25:50.204179  70.0           0      0.072053   14           "
      ]
     },
     "execution_count": 63,
     "metadata": {},
     "output_type": "execute_result"
    }
   ],
   "source": [
    "knn_results = knn_scenario.study.trials_dataframe()\n",
    "\n",
    "knn_results"
   ]
  },
  {
   "cell_type": "markdown",
   "metadata": {},
   "source": [
    "## Рекомендатель на основе нейросетки (neural CF) <a name='neurocf-recommender'></a>"
   ]
  },
  {
   "cell_type": "markdown",
   "metadata": {},
   "source": [
    "### Запуск single модели <a name='neurocf-recommender-single'></a>"
   ]
  },
  {
   "cell_type": "code",
   "execution_count": 21,
   "metadata": {},
   "outputs": [
    {
     "data": {
      "text/plain": [
       "1"
      ]
     },
     "execution_count": 21,
     "metadata": {},
     "output_type": "execute_result"
    }
   ],
   "source": [
    "1"
   ]
  },
  {
   "cell_type": "code",
   "execution_count": 23,
   "metadata": {},
   "outputs": [],
   "source": [
    "ncf = NeuroCFRecommender(spark,\n",
    "                         learning_rate=0.01,\n",
    "                         epochs=10,\n",
    "                         batch_size=100000,\n",
    "                         embedding_dimension=100)"
   ]
  },
  {
   "cell_type": "code",
   "execution_count": 24,
   "metadata": {},
   "outputs": [
    {
     "name": "stdout",
     "output_type": "stream",
     "text": [
      "CPU times: user 4.85 s, sys: 1.13 s, total: 5.98 s\n",
      "Wall time: 13.2 s\n"
     ]
    }
   ],
   "source": [
    "%%time\n",
    "\n",
    "ncf._pre_fit(\n",
    "    log=train,\n",
    "    user_features=None,\n",
    "    item_features=None,\n",
    "    path=None\n",
    ")"
   ]
  },
  {
   "cell_type": "code",
   "execution_count": 25,
   "metadata": {},
   "outputs": [
    {
     "name": "stderr",
     "output_type": "stream",
     "text": [
      "18-Nov-19 15:07:15, root, DEBUG: Индексирование данных\n",
      "18-Nov-19 15:07:15, root, DEBUG: Составление батча:\n",
      "18-Nov-19 15:07:15, root, DEBUG: -- Запись\n",
      "18-Nov-19 15:07:19, root, DEBUG: -- Считывание\n",
      "18-Nov-19 15:07:20, root, DEBUG: Эпоха 0\n",
      "18-Nov-19 15:07:26, root, DEBUG: Текущее значение: 0.7365\n",
      "18-Nov-19 15:07:26, root, DEBUG: Эпоха 1\n",
      "18-Nov-19 15:07:32, root, DEBUG: Текущее значение: 0.3243\n",
      "18-Nov-19 15:07:32, root, DEBUG: Эпоха 2\n",
      "18-Nov-19 15:07:38, root, DEBUG: Текущее значение: 0.2415\n",
      "18-Nov-19 15:07:38, root, DEBUG: Эпоха 3\n",
      "18-Nov-19 15:07:44, root, DEBUG: Текущее значение: 0.1983\n",
      "18-Nov-19 15:07:44, root, DEBUG: Эпоха 4\n",
      "18-Nov-19 15:07:50, root, DEBUG: Текущее значение: 0.1685\n",
      "18-Nov-19 15:07:50, root, DEBUG: Эпоха 5\n",
      "18-Nov-19 15:07:56, root, DEBUG: Текущее значение: 0.1468\n",
      "18-Nov-19 15:07:56, root, DEBUG: Эпоха 6\n",
      "18-Nov-19 15:08:02, root, DEBUG: Текущее значение: 0.1312\n",
      "18-Nov-19 15:08:02, root, DEBUG: Эпоха 7\n",
      "18-Nov-19 15:08:08, root, DEBUG: Текущее значение: 0.1195\n",
      "18-Nov-19 15:08:08, root, DEBUG: Эпоха 8\n",
      "18-Nov-19 15:08:14, root, DEBUG: Текущее значение: 0.1105\n",
      "18-Nov-19 15:08:14, root, DEBUG: Эпоха 9\n",
      "18-Nov-19 15:08:19, root, DEBUG: Текущее значение: 0.1035\n"
     ]
    },
    {
     "name": "stdout",
     "output_type": "stream",
     "text": [
      "CPU times: user 20.4 s, sys: 10.9 s, total: 31.4 s\n",
      "Wall time: 1min 4s\n"
     ]
    }
   ],
   "source": [
    "%%time\n",
    "\n",
    "ncf._fit_partial(\n",
    "    log=train,\n",
    "    user_features=None,\n",
    "    item_features=None,\n",
    "    path=\"/data/aysina-rm/code/sponge-bob-magic/data\"\n",
    ")"
   ]
  },
  {
   "cell_type": "code",
   "execution_count": 29,
   "metadata": {
    "scrolled": false
   },
   "outputs": [
    {
     "name": "stderr",
     "output_type": "stream",
     "text": [
      "18-Nov-19 15:43:02, root, DEBUG: Проверка датафреймов\n",
      "18-Nov-19 15:43:08, root, DEBUG: Индексирование пользователей и объектов\n",
      "18-Nov-19 15:43:08, root, DEBUG: -- Запись\n",
      "18-Nov-19 15:43:11, root, DEBUG: -- Считывание\n",
      "18-Nov-19 15:43:11, root, DEBUG: -- Запись\n",
      "18-Nov-19 15:43:18, root, DEBUG: -- Считывание\n",
      "18-Nov-19 15:43:18, root, DEBUG: Создание тензоров\n",
      "18-Nov-19 15:43:18, root, DEBUG: Предсказание модели\n",
      "18-Nov-19 15:43:18, root, DEBUG: Преобразование numpy-массива в спарк-датафрейм\n",
      "18-Nov-19 15:43:18, root, DEBUG: -- Запись\n",
      "18-Nov-19 15:43:18, root, DEBUG: -- Считывание\n",
      "18-Nov-19 15:43:18, root, DEBUG: Обратное преобразование индексов\n",
      "18-Nov-19 15:43:35, root, DEBUG: Преобразование отрицательных relevance\n",
      "18-Nov-19 15:43:42, root, DEBUG: Запись на диск рекомендаций\n"
     ]
    },
    {
     "name": "stdout",
     "output_type": "stream",
     "text": [
      "CPU times: user 13.4 s, sys: 2.54 s, total: 16 s\n",
      "Wall time: 42.6 s\n"
     ]
    }
   ],
   "source": [
    "%%time\n",
    "\n",
    "recs = ncf.predict(\n",
    "    k=10,\n",
    "    users=test.select('user_id').distinct().limit(10),\n",
    "    items=test.select('item_id').distinct().limit(10),\n",
    "    context='no_context',\n",
    "    log=train,\n",
    "    user_features=None,\n",
    "    item_features=None,\n",
    "    to_filter_seen_items=True,\n",
    "    path=\"/data/aysina-rm/code/sponge-bob-magic/data\"\n",
    ")"
   ]
  },
  {
   "cell_type": "code",
   "execution_count": 30,
   "metadata": {},
   "outputs": [
    {
     "name": "stdout",
     "output_type": "stream",
     "text": [
      "+-------+-------+-------------------+----------+\n",
      "|item_id|user_id|          relevance|   context|\n",
      "+-------+-------+-------------------+----------+\n",
      "| 108839|   2962|0.45305297406499945|no_context|\n",
      "|  96252|   2962| 0.3782860818333428|no_context|\n",
      "| 100912|   2962|0.33975436514120194|no_context|\n",
      "| 252131|   2962| 0.3376987508274953|no_context|\n",
      "|  97726|   2962|0.31785102101036755|no_context|\n",
      "| 232557|   2962|0.31136588940131893|no_context|\n",
      "| 231256|   2962|0.30358328940286616|no_context|\n",
      "| 252794|   2962| 0.2581674750977798|no_context|\n",
      "| 264023|   2962| 0.2529378154566724|no_context|\n",
      "| 230802|   2962|0.18167872958614736|no_context|\n",
      "| 264023|   5670| 0.2848539905994326|no_context|\n",
      "| 232557|   5670|0.27243962738122474|no_context|\n",
      "| 231256|   5670|0.18167872958614736|no_context|\n",
      "|  96252|   5670|0.18167872958614736|no_context|\n",
      "| 108839|   5670|0.18167872958614736|no_context|\n",
      "| 230802|   5670|0.18167872958614736|no_context|\n",
      "| 252794|   5670|0.18167872958614736|no_context|\n",
      "| 100912|   5670|0.18167872958614736|no_context|\n",
      "| 252131|   5670|0.18167872958614736|no_context|\n",
      "|  97726|   5670|0.18167872958614736|no_context|\n",
      "+-------+-------+-------------------+----------+\n",
      "only showing top 20 rows\n",
      "\n"
     ]
    }
   ],
   "source": [
    "recs.show()"
   ]
  }
 ],
 "metadata": {
  "kernelspec": {
   "display_name": "Python 3",
   "language": "python",
   "name": "python3"
  },
  "language_info": {
   "codemirror_mode": {
    "name": "ipython",
    "version": 3
   },
   "file_extension": ".py",
   "mimetype": "text/x-python",
   "name": "python",
   "nbconvert_exporter": "python",
   "pygments_lexer": "ipython3",
   "version": "3.6.3"
  },
  "pycharm": {
   "stem_cell": {
    "cell_type": "raw",
    "metadata": {
     "collapsed": false
    },
    "source": []
   }
  }
 },
 "nbformat": 4,
 "nbformat_minor": 2
}
