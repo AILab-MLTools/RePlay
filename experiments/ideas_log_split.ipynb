{
 "cells": [
  {
   "cell_type": "markdown",
   "metadata": {},
   "source": [
    "# Ideas Dataset\n",
    "\n",
    "Лаботоратория по искусственному интеллекту, Сбербанк. \n",
    "\n",
    "Авторы: [Борис Шминке](<mailto:Shminke.B.A@omega.sbrf.ru>), [Роза Айсина](<mailto:Aysina.R.M@omega.sbrf.ru>). \n",
    "\n",
    "О чем: применение рекомендательных систем к датасету историй. Схема разбиения - делим лог на две рандомные части.\n",
    "\n",
    "## Содержание\n",
    "\n",
    "1. [Импорты, создание спарк-сессии](#intro)\n",
    "2. [Подготовка данных](#data-preparator)\n",
    "3. [Рекомендатель на основе популярности](#popular-recommender)\n",
    "3.1. [Запуск single модели](#popular-recommender-single)\n",
    "3.2. [Подбор гиперпараметров](#popular-recommender-scenario)\n",
    "4. [Рекомендатель на основе k-NN для объектов](#knn-recommender)\n",
    "4.1. [Запуск single модели](#knn-recommender-single)\n",
    "4.2. [Подбор гиперпараметров](#knn-recommender-scenario)"
   ]
  },
  {
   "cell_type": "markdown",
   "metadata": {},
   "source": [
    "### Импорты, создание спарк-сессии <a name='intro'></a>"
   ]
  },
  {
   "cell_type": "code",
   "execution_count": 1,
   "metadata": {
    "pycharm": {
     "is_executing": false
    }
   },
   "outputs": [],
   "source": [
    "%load_ext autoreload\n",
    "%autoreload 2\n",
    "%matplotlib inline"
   ]
  },
  {
   "cell_type": "code",
   "execution_count": 2,
   "metadata": {
    "pycharm": {
     "is_executing": false
    }
   },
   "outputs": [],
   "source": [
    "import logging\n",
    "import os\n",
    "import sys\n",
    "\n",
    "import matplotlib.pyplot as plt\n",
    "import pandas as pd\n",
    "from pyspark.sql import SparkSession\n",
    "from pyspark.sql import functions as sf"
   ]
  },
  {
   "cell_type": "code",
   "execution_count": 3,
   "metadata": {
    "pycharm": {
     "is_executing": false
    }
   },
   "outputs": [],
   "source": [
    "parent_dir = os.path.split(os.getcwd())[0]\n",
    "if parent_dir not in sys.path:\n",
    "    sys.path.append(parent_dir)"
   ]
  },
  {
   "cell_type": "code",
   "execution_count": 4,
   "metadata": {
    "pycharm": {
     "is_executing": false
    }
   },
   "outputs": [],
   "source": [
    "from sponge_bob_magic.data_preparator.data_preparator import DataPreparator\n",
    "from sponge_bob_magic.metrics.metrics import Metric\n",
    "from sponge_bob_magic.models.popular_recomennder import PopularRecommender\n",
    "from sponge_bob_magic.models.knn_recommender import KNNRecommender\n",
    "from sponge_bob_magic.models.neurocf_recommender import NeuroCFRecommender\n",
    "from sponge_bob_magic.scenarios.knn_scenario import KNNScenario\n",
    "from sponge_bob_magic.scenarios.popular_scenario import PopularScenario\n",
    "from sponge_bob_magic.validation_schemes.validation_schemes import ValidationSchemes"
   ]
  },
  {
   "cell_type": "code",
   "execution_count": 5,
   "metadata": {
    "pycharm": {
     "is_executing": false
    }
   },
   "outputs": [],
   "source": [
    "# отображение максимальной ширины колонок в pandas датафреймах\n",
    "pd.options.display.max_colwidth = -1"
   ]
  },
  {
   "cell_type": "code",
   "execution_count": 6,
   "metadata": {
    "pycharm": {
     "is_executing": false
    }
   },
   "outputs": [
    {
     "data": {
      "text/html": [
       "\n",
       "            <div>\n",
       "                <p><b>SparkSession - hive</b></p>\n",
       "                \n",
       "        <div>\n",
       "            <p><b>SparkContext</b></p>\n",
       "\n",
       "            <p><a href=\"http://10.8.75.29:4040\">Spark UI</a></p>\n",
       "\n",
       "            <dl>\n",
       "              <dt>Version</dt>\n",
       "                <dd><code>v2.4.4</code></dd>\n",
       "              <dt>Master</dt>\n",
       "                <dd><code>local[*]</code></dd>\n",
       "              <dt>AppName</dt>\n",
       "                <dd><code>pyspark-shell</code></dd>\n",
       "            </dl>\n",
       "        </div>\n",
       "        \n",
       "            </div>\n",
       "        "
      ],
      "text/plain": [
       "<pyspark.sql.session.SparkSession at 0x135c33510>"
      ]
     },
     "execution_count": 6,
     "metadata": {},
     "output_type": "execute_result"
    }
   ],
   "source": [
    "spark_memory = \"5g\"\n",
    "spark_cores = \"*\"\n",
    "user_home = \"/Users/roseaysina\"\n",
    "\n",
    "spark = (\n",
    "    SparkSession\n",
    "    .builder\n",
    "    .config('spark.driver.memory', spark_memory)\n",
    "    .config('spark.local.dir', os.path.join(user_home, \"tmp\"))\n",
    "    .master(f'local[{spark_cores}]')\n",
    "    .enableHiveSupport()\n",
    "    .getOrCreate()\n",
    ")\n",
    "\n",
    "spark"
   ]
  },
  {
   "cell_type": "code",
   "execution_count": 7,
   "metadata": {
    "pycharm": {
     "is_executing": false
    }
   },
   "outputs": [],
   "source": [
    "spark_logger = logging.getLogger('py4j')\n",
    "spark_logger.setLevel(logging.WARN)"
   ]
  },
  {
   "cell_type": "code",
   "execution_count": 8,
   "metadata": {
    "pycharm": {
     "is_executing": false
    }
   },
   "outputs": [],
   "source": [
    "logger = logging.getLogger()\n",
    "formatter = logging.Formatter('%(asctime)s, %(name)s, %(levelname)s: %(message)s',\n",
    "                              datefmt='%d-%b-%y %H:%M:%S')\n",
    "hdlr = logging.StreamHandler()\n",
    "hdlr.setFormatter(formatter)\n",
    "logger.addHandler(hdlr)\n",
    "logger.setLevel(logging.DEBUG)"
   ]
  },
  {
   "cell_type": "markdown",
   "metadata": {},
   "source": [
    "## Подготовка данных <a name='data-preparator'></a>"
   ]
  },
  {
   "cell_type": "markdown",
   "metadata": {},
   "source": [
    "Мердж двух датасетов за 17 и 18 год. Запускается один раз. "
   ]
  },
  {
   "cell_type": "code",
   "execution_count": 9,
   "metadata": {},
   "outputs": [],
   "source": [
    "def merge_data():\n",
    "    user_item_data = (\n",
    "        pd.read_csv(\n",
    "            \"/mnt/wind/ideas_data/2017.csv\",\n",
    "            sep=\";\",\n",
    "            usecols=[\"id_project\", \"user_id\", \"type\"],\n",
    "            dtype=str\n",
    "        ).append(\n",
    "            pd.read_csv(\n",
    "                \"/mnt/wind/ideas_data/2018.csv\",\n",
    "                sep=\";\",\n",
    "                usecols=[\"id_project\", \"user_id\", \"type\"],\n",
    "                dtype=str\n",
    "            )\n",
    "        ).query(\"type in ('Pim::IdeaBestPracticeVote', 'Pim::IdeaResourceVote', 'Pim::IdeaVote')\")\n",
    "        .drop(columns=[\"type\"])\n",
    "        .rename(columns={\"user_id\": \"user_id\", \"id_project\": \"item_id\"})\n",
    "    )\n",
    "    user_item_data.to_csv(\"data.csv\", index=False)"
   ]
  },
  {
   "cell_type": "code",
   "execution_count": 10,
   "metadata": {
    "pycharm": {
     "is_executing": false
    }
   },
   "outputs": [],
   "source": [
    "path_log = \"/Users/roseaysina/code/sponge-bob-magic/data/ideas_data/data.csv\""
   ]
  },
  {
   "cell_type": "code",
   "execution_count": 11,
   "metadata": {
    "pycharm": {
     "is_executing": false
    }
   },
   "outputs": [],
   "source": [
    "dp = DataPreparator(spark)"
   ]
  },
  {
   "cell_type": "code",
   "execution_count": 12,
   "metadata": {
    "pycharm": {
     "is_executing": false
    }
   },
   "outputs": [],
   "source": [
    "df = dp.transform_log(\n",
    "    path=path_log,\n",
    "    format_type=\"csv\",\n",
    "    header=True,\n",
    "    columns_names={\n",
    "        \"user_id\": \"user_id\",\n",
    "        \"item_id\": \"item_id\"\n",
    "    }\n",
    ").cache()"
   ]
  },
  {
   "cell_type": "code",
   "execution_count": 13,
   "metadata": {
    "pycharm": {
     "is_executing": false
    },
    "scrolled": false
   },
   "outputs": [
    {
     "name": "stdout",
     "output_type": "stream",
     "text": [
      "+-------+-------+-------------------+----------+---------+\n",
      "|user_id|item_id|          timestamp|   context|relevance|\n",
      "+-------+-------+-------------------+----------+---------+\n",
      "|  97636| 252605|1999-05-01 00:00:00|no_context|      1.0|\n",
      "|  65714| 235144|1999-05-01 00:00:00|no_context|      1.0|\n",
      "| 144702| 240366|1999-05-01 00:00:00|no_context|      1.0|\n",
      "+-------+-------+-------------------+----------+---------+\n",
      "only showing top 3 rows\n",
      "\n"
     ]
    }
   ],
   "source": [
    "df.show(3)"
   ]
  },
  {
   "cell_type": "code",
   "execution_count": 14,
   "metadata": {},
   "outputs": [
    {
     "data": {
      "text/plain": [
       "4691248"
      ]
     },
     "execution_count": 14,
     "metadata": {},
     "output_type": "execute_result"
    }
   ],
   "source": [
    "df.count()"
   ]
  },
  {
   "cell_type": "code",
   "execution_count": 15,
   "metadata": {},
   "outputs": [
    {
     "name": "stdout",
     "output_type": "stream",
     "text": [
      "+-------+-------+---------+-------+---------+\n",
      "|user_id|item_id|timestamp|context|relevance|\n",
      "+-------+-------+---------+-------+---------+\n",
      "|  71343| 128558|        1|      1|        1|\n",
      "+-------+-------+---------+-------+---------+\n",
      "\n"
     ]
    }
   ],
   "source": [
    "df.agg(*(sf.countDistinct(sf.col(c)).alias(c) for c in df.columns)).show()"
   ]
  },
  {
   "cell_type": "code",
   "execution_count": 16,
   "metadata": {},
   "outputs": [
    {
     "name": "stdout",
     "output_type": "stream",
     "text": [
      "+-------------------+-------------------+\n",
      "|     min(timestamp)|     max(timestamp)|\n",
      "+-------------------+-------------------+\n",
      "|1999-05-01 00:00:00|1999-05-01 00:00:00|\n",
      "+-------------------+-------------------+\n",
      "\n"
     ]
    }
   ],
   "source": [
    "df.agg(sf.min(sf.col(\"timestamp\")), sf.max(sf.col(\"timestamp\"))).show()"
   ]
  },
  {
   "cell_type": "code",
   "execution_count": 17,
   "metadata": {
    "pycharm": {
     "is_executing": false
    }
   },
   "outputs": [],
   "source": [
    "df_short = df.limit(1000).cache()"
   ]
  },
  {
   "cell_type": "code",
   "execution_count": 18,
   "metadata": {},
   "outputs": [
    {
     "data": {
      "text/plain": [
       "(3752478, 3752478, 935141)"
      ]
     },
     "execution_count": 18,
     "metadata": {},
     "output_type": "execute_result"
    }
   ],
   "source": [
    "splitter = ValidationSchemes(spark)\n",
    "\n",
    "train, test_input, test = splitter.log_split_randomly(\n",
    "    df, test_size=0.2,\n",
    "    drop_cold_users=True, drop_cold_items=True\n",
    ")\n",
    "\n",
    "(\n",
    "    train.count(), \n",
    "    test_input.count(), \n",
    "    test.count()\n",
    ")"
   ]
  },
  {
   "cell_type": "markdown",
   "metadata": {},
   "source": [
    "## Рекомендатель на основе популярности (popularity based recommender) <a name='popular-recommender'></a>"
   ]
  },
  {
   "cell_type": "markdown",
   "metadata": {},
   "source": [
    "### Запуск single модели <a name='popular-recommender-single'></a>"
   ]
  },
  {
   "cell_type": "code",
   "execution_count": 20,
   "metadata": {
    "collapsed": true
   },
   "outputs": [],
   "source": [
    "pr = PopularRecommender(spark, alpha=0, beta=0)"
   ]
  },
  {
   "cell_type": "code",
   "execution_count": 21,
   "metadata": {
    "scrolled": false
   },
   "outputs": [],
   "source": [
    "%%time\n",
    "\n",
    "pr.fit(\n",
    "    log=train,\n",
    "    user_features=None,\n",
    "    item_features=None,\n",
    "    path=None\n",
    ")"
   ]
  },
  {
   "cell_type": "code",
   "execution_count": 22,
   "metadata": {
    "scrolled": false
   },
   "outputs": [],
   "source": [
    "%%time\n",
    "\n",
    "recs = pr.predict(\n",
    "    k=100,\n",
    "    users=test.select('user_id').distinct(),\n",
    "    items=test.select('item_id').distinct(),\n",
    "    context='no_context',\n",
    "    log=train,\n",
    "    user_features=None,\n",
    "    item_features=None,\n",
    "    to_filter_seen_items=True,\n",
    "    path=None\n",
    ").cache()"
   ]
  },
  {
   "cell_type": "code",
   "execution_count": 23,
   "metadata": {},
   "outputs": [],
   "source": [
    "recs.show(5)"
   ]
  },
  {
   "cell_type": "code",
   "execution_count": null,
   "metadata": {
    "collapsed": true
   },
   "outputs": [],
   "source": [
    "%%time\n",
    "\n",
    "metric = Metric.hit_rate_at_k(recs, df, k=100)\n",
    "metric"
   ]
  },
  {
   "cell_type": "markdown",
   "metadata": {},
   "source": [
    "### Подбор гиперпараметров в популярной модели <a name='popular-recommender-scenario'></a>"
   ]
  },
  {
   "cell_type": "markdown",
   "metadata": {},
   "source": [
    "Популярность объекта определяется как: \n",
    "\n",
    "$$ popularity(i) = \\dfrac{N_i + \\alpha}{N + \\beta}, $$\n",
    "\n",
    "где $ N_i $ &mdash; количество пользователей, у которых было взаимодействие с данным объектом $ i $, \n",
    "$ N $ &mdash; общее количество пользователей, которые как провзаимодействовали с объектом, так и нет,\n",
    "$ \\alpha, \\beta \\in [0, \\infty) $ &mdash; параметры модели. \n",
    "\n",
    "Эвристика: размуным пределом для параметров $ \\alpha $ и $ \\beta $ может стать среднее значение количества пользователей $ N_i $, которые провзаимодействовали с объектами."
   ]
  },
  {
   "cell_type": "code",
   "execution_count": 42,
   "metadata": {},
   "outputs": [],
   "source": [
    "avg_num_users = (\n",
    "    df\n",
    "    .select('user_id', 'item_id')\n",
    "    .groupBy('item_id')\n",
    "    .count()\n",
    "    .select(sf.mean(sf.col('count')).alias('mean'))\n",
    "    .collect()[0]['mean']\n",
    ")\n",
    "\n",
    "avg_num_users"
   ]
  },
  {
   "cell_type": "code",
   "execution_count": 31,
   "metadata": {
    "collapsed": true,
    "pycharm": {
     "is_executing": false
    }
   },
   "outputs": [],
   "source": [
    "popular_scenario = PopularScenario(spark)\n",
    "popular_scenario.seed = 9876"
   ]
  },
  {
   "cell_type": "code",
   "execution_count": 32,
   "metadata": {
    "pycharm": {
     "is_executing": false
    },
    "scrolled": false
   },
   "outputs": [],
   "source": [
    "%%time\n",
    "\n",
    "popular_params_grid = {\n",
    "    'alpha': (0, 1), \n",
    "    'beta': (0, 1)\n",
    "}\n",
    "results = None\n",
    "\n",
    "best_params = popular_scenario.research(\n",
    "    popular_params_grid,\n",
    "    df,\n",
    "    users=None, items=None,\n",
    "    user_features=None,\n",
    "    item_features=None,\n",
    "    test_start=None,\n",
    "    test_size=0.3,\n",
    "    k=15, context='no_context',\n",
    "    to_filter_seen_items=True,\n",
    "    n_trials=1, \n",
    "    n_jobs=1,\n",
    "    how_to_split='randomly'\n",
    ")\n",
    "\n",
    "best_params"
   ]
  },
  {
   "cell_type": "code",
   "execution_count": 36,
   "metadata": {
    "pycharm": {
     "is_executing": false
    }
   },
   "outputs": [],
   "source": [
    "%%time\n",
    "\n",
    "popular_params_grid = {\n",
    "    'alpha': (80, 1000), \n",
    "    'beta': (80, 1000)\n",
    "}\n",
    "\n",
    "best_params = popular_scenario.research(\n",
    "    popular_params_grid,\n",
    "    df,\n",
    "    users=None, items=None,\n",
    "    user_features=None,\n",
    "    item_features=None,\n",
    "    test_start=None,\n",
    "    test_size=0.3,\n",
    "    k=15, context='no_context',\n",
    "    to_filter_seen_items=True,\n",
    "    n_trials=15, \n",
    "    n_jobs=1,\n",
    "    how_to_split='randomly'\n",
    ")\n",
    "\n",
    "best_params"
   ]
  },
  {
   "cell_type": "code",
   "execution_count": 37,
   "metadata": {},
   "outputs": [],
   "source": [
    "results = pd.concat([popular_scenario.study.trials_dataframe(), results], axis=0)\n",
    "\n",
    "results"
   ]
  },
  {
   "cell_type": "code",
   "execution_count": 39,
   "metadata": {
    "scrolled": false
   },
   "outputs": [],
   "source": [
    "def plot_result_value(results):\n",
    "    results['value_name'] = (results['params']['alpha'].astype(str)\n",
    "                         .str.cat(results['params']['beta'].astype(str), sep=', '))\n",
    "    \n",
    "    plt.figure(figsize=(7, 5))\n",
    "    ax = results['value'].plot(kind='bar', xticks=range(len(results)), rot=0)\n",
    "    ax.set_xticklabels(results['value_name'].values)\n",
    "\n",
    "    plt.xlabel(r'$(\\alpha, \\beta)$' + ' пары')\n",
    "    plt.ylabel('Значение метрики')\n",
    "    plt.title('Результаты эксперимента')\n",
    "\n",
    "    plt.show()\n",
    "    \n",
    "\n",
    "plot_result_value(results)"
   ]
  },
  {
   "cell_type": "code",
   "execution_count": 40,
   "metadata": {},
   "outputs": [],
   "source": [
    "%%time\n",
    "\n",
    "best_recs = popular_scenario.production(\n",
    "    best_params,\n",
    "    df,\n",
    "    users=None,\n",
    "    items=None,\n",
    "    user_features=None,\n",
    "    item_features=None,\n",
    "    k=10,\n",
    "    context='no_context',\n",
    "    to_filter_seen_items=True\n",
    ")"
   ]
  },
  {
   "cell_type": "code",
   "execution_count": 41,
   "metadata": {},
   "outputs": [],
   "source": [
    "best_recs.show(10)"
   ]
  },
  {
   "cell_type": "markdown",
   "metadata": {},
   "source": [
    "## Рекомендатель на основе k-NN для объектов (item k-NN based recommender) <a name='knn-recommender'></a>"
   ]
  },
  {
   "cell_type": "markdown",
   "metadata": {},
   "source": [
    "### Запуск single модели <a name='knn-recommender-single'></a>"
   ]
  },
  {
   "cell_type": "code",
   "execution_count": 43,
   "metadata": {},
   "outputs": [],
   "source": [
    "splitter = ValidationSchemes(spark)\n",
    "\n",
    "train, test_input, test = splitter.log_split_randomly(\n",
    "    df, test_size=0.2,\n",
    "    drop_cold_users=False, drop_cold_items=True\n",
    ")\n",
    "\n",
    "(\n",
    "    train.count(), \n",
    "    test_input.count(), \n",
    "    test.count()\n",
    ")"
   ]
  },
  {
   "cell_type": "code",
   "execution_count": 44,
   "metadata": {
    "collapsed": true
   },
   "outputs": [],
   "source": [
    "knn = KNNRecommender(spark, num_neighbours=15, shrink=0)"
   ]
  },
  {
   "cell_type": "code",
   "execution_count": 45,
   "metadata": {},
   "outputs": [],
   "source": [
    "%%time\n",
    "\n",
    "knn.fit(\n",
    "    log=train,\n",
    "    user_features=None,\n",
    "    item_features=None,\n",
    "    path=None\n",
    ")"
   ]
  },
  {
   "cell_type": "code",
   "execution_count": 57,
   "metadata": {},
   "outputs": [],
   "source": [
    "%%time\n",
    "\n",
    "recs = knn.predict(\n",
    "    k=10,\n",
    "    users=test.select('user_id').distinct(),\n",
    "    items=test.select('item_id').distinct(),\n",
    "    context='no_context',\n",
    "    log=train,\n",
    "    user_features=None,\n",
    "    item_features=None,\n",
    "    to_filter_seen_items=True,\n",
    "    path=None\n",
    ").cache()"
   ]
  },
  {
   "cell_type": "code",
   "execution_count": 47,
   "metadata": {},
   "outputs": [],
   "source": [
    "recs.show(5)"
   ]
  },
  {
   "cell_type": "code",
   "execution_count": 58,
   "metadata": {},
   "outputs": [],
   "source": [
    "%%time\n",
    "\n",
    "metric = Metric.hit_rate_at_k(recs, test, k=100)\n",
    "metric"
   ]
  },
  {
   "cell_type": "markdown",
   "metadata": {},
   "source": [
    "### Подбор гиперпараметров в item k-NN модели <a name='knn-recommender-scenario'></a>"
   ]
  },
  {
   "cell_type": "code",
   "execution_count": 49,
   "metadata": {
    "collapsed": true
   },
   "outputs": [],
   "source": [
    "knn_scenario = KNNScenario(spark)\n",
    "knn_scenario.seed = 3951"
   ]
  },
  {
   "cell_type": "code",
   "execution_count": 62,
   "metadata": {
    "collapsed": true
   },
   "outputs": [],
   "source": [
    "%%time\n",
    "\n",
    "knn_params_grid = {\n",
    "    'num_neighbours': (10, 100, 5), \n",
    "    'shrink': [0]\n",
    "}\n",
    "\n",
    "best_params = knn_scenario.research(\n",
    "    knn_params_grid,\n",
    "    df,\n",
    "    users=None, items=None,\n",
    "    user_features=None,\n",
    "    item_features=None,\n",
    "    test_start=None,\n",
    "    test_size=0.2,\n",
    "    k=10, context='no_context',\n",
    "    to_filter_seen_items=True,\n",
    "    n_trials=15, \n",
    "    n_jobs=1,\n",
    "    how_to_split='randomly'\n",
    ")"
   ]
  },
  {
   "cell_type": "code",
   "execution_count": 63,
   "metadata": {},
   "outputs": [],
   "source": [
    "knn_results = knn_scenario.study.trials_dataframe()\n",
    "\n",
    "knn_results"
   ]
  },
  {
   "cell_type": "markdown",
   "metadata": {},
   "source": [
    "## Рекомендатель на основе нейросетки (neural CF) <a name='neurocf-recommender'></a>"
   ]
  },
  {
   "cell_type": "markdown",
   "metadata": {},
   "source": [
    "### Запуск single модели <a name='neurocf-recommender-single'></a>"
   ]
  },
  {
   "cell_type": "code",
   "execution_count": 19,
   "metadata": {},
   "outputs": [],
   "source": [
    "tmp_path = \"/Users/roseaysina/code/sponge-bob-magic/data\""
   ]
  },
  {
   "cell_type": "code",
   "execution_count": 21,
   "metadata": {},
   "outputs": [],
   "source": [
    "ncf = NeuroCFRecommender(spark,\n",
    "                         learning_rate=0.01,\n",
    "                         epochs=10,\n",
    "                         embedding_dimension=100)"
   ]
  },
  {
   "cell_type": "code",
   "execution_count": 22,
   "metadata": {},
   "outputs": [
    {
     "name": "stderr",
     "output_type": "stream",
     "text": [
      "28-Nov-19 12:05:34, root, DEBUG: Проверка датафреймов\n",
      "28-Nov-19 12:05:38, root, DEBUG: Предварительная стадия обучения (pre-fit)\n",
      "28-Nov-19 12:05:51, root, DEBUG: Основная стадия обучения (fit)\n",
      "28-Nov-19 12:05:51, root, DEBUG: Индексирование данных\n",
      "28-Nov-19 12:05:51, root, DEBUG: Составление батча:\n",
      "28-Nov-19 12:05:51, root, DEBUG: -- Запись\n",
      "28-Nov-19 12:05:59, root, DEBUG: -- Считывание\n",
      "28-Nov-19 12:05:59, root, DEBUG: Обучение модели\n",
      "28-Nov-19 12:05:59, root, DEBUG: -- Эпоха 0\n",
      "28-Nov-19 12:07:33, root, DEBUG: -- Текущее значение: 0.7373\n",
      "28-Nov-19 12:07:33, root, DEBUG: -- Эпоха 1\n",
      "28-Nov-19 12:09:11, root, DEBUG: -- Текущее значение: 0.3131\n",
      "28-Nov-19 12:09:11, root, DEBUG: -- Эпоха 2\n",
      "28-Nov-19 12:13:56, root, DEBUG: -- Текущее значение: 0.2309\n",
      "28-Nov-19 12:13:56, root, DEBUG: -- Эпоха 3\n",
      "28-Nov-19 12:15:29, root, DEBUG: -- Текущее значение: 0.1897\n",
      "28-Nov-19 12:15:29, root, DEBUG: -- Эпоха 4\n",
      "28-Nov-19 12:17:13, root, DEBUG: -- Текущее значение: 0.1627\n",
      "28-Nov-19 12:17:13, root, DEBUG: -- Эпоха 5\n",
      "28-Nov-19 12:18:51, root, DEBUG: -- Текущее значение: 0.1434\n",
      "28-Nov-19 12:18:51, root, DEBUG: -- Эпоха 6\n",
      "28-Nov-19 12:20:44, root, DEBUG: -- Текущее значение: 0.1290\n",
      "28-Nov-19 12:20:44, root, DEBUG: -- Эпоха 7\n",
      "28-Nov-19 12:22:22, root, DEBUG: -- Текущее значение: 0.1182\n",
      "28-Nov-19 12:22:22, root, DEBUG: -- Эпоха 8\n",
      "28-Nov-19 12:24:01, root, DEBUG: -- Текущее значение: 0.1095\n",
      "28-Nov-19 12:24:01, root, DEBUG: -- Эпоха 9\n",
      "28-Nov-19 12:25:49, root, DEBUG: -- Текущее значение: 0.1027\n"
     ]
    },
    {
     "name": "stdout",
     "output_type": "stream",
     "text": [
      "CPU times: user 15min 34s, sys: 24.8 s, total: 15min 59s\n",
      "Wall time: 20min 15s\n"
     ]
    }
   ],
   "source": [
    "%%time\n",
    "\n",
    "ncf.fit(\n",
    "    log=train,\n",
    "    user_features=None,\n",
    "    item_features=None,\n",
    "    path=tmp_path\n",
    ")"
   ]
  },
  {
   "cell_type": "code",
   "execution_count": 23,
   "metadata": {},
   "outputs": [
    {
     "data": {
      "text/plain": [
       "120483"
      ]
     },
     "execution_count": 23,
     "metadata": {},
     "output_type": "execute_result"
    }
   ],
   "source": [
    "test.select('item_id').distinct().count()"
   ]
  },
  {
   "cell_type": "code",
   "execution_count": 24,
   "metadata": {},
   "outputs": [
    {
     "data": {
      "text/plain": [
       "46313"
      ]
     },
     "execution_count": 24,
     "metadata": {},
     "output_type": "execute_result"
    }
   ],
   "source": [
    "test.select('user_id').distinct().count()"
   ]
  },
  {
   "cell_type": "code",
   "execution_count": 25,
   "metadata": {
    "scrolled": true
   },
   "outputs": [
    {
     "name": "stderr",
     "output_type": "stream",
     "text": [
      "28-Nov-19 12:37:16, root, DEBUG: Проверка датафреймов\n",
      "28-Nov-19 12:37:34, root, DEBUG: Предсказание модели\n",
      "28-Nov-19 12:37:34, root, DEBUG: Индексирование пользователей и объектов\n",
      "28-Nov-19 12:37:34, root, DEBUG: -- Запись\n",
      "28-Nov-19 12:37:43, root, DEBUG: -- Считывание\n",
      "28-Nov-19 12:37:43, root, DEBUG: -- Запись\n",
      "28-Nov-19 12:37:59, root, DEBUG: -- Считывание\n",
      "28-Nov-19 12:37:59, root, DEBUG: Генерация тензоров\n",
      "28-Nov-19 12:37:59, root, DEBUG: -- Количество батчей для users: 3\n",
      "28-Nov-19 12:37:59, root, DEBUG: -- Количество батчей для items: 1\n",
      "28-Nov-19 12:37:59, root, DEBUG: -- Батч: 0\n",
      "28-Nov-19 12:37:59, root, DEBUG: Обратное преобразование индексов\n",
      "28-Nov-19 12:38:14, root, DEBUG: Преобразование отрицательных relevance\n",
      "28-Nov-19 12:38:27, root, DEBUG: Запись на диск рекомендаций\n"
     ]
    },
    {
     "name": "stdout",
     "output_type": "stream",
     "text": [
      "CPU times: user 9.58 s, sys: 1.63 s, total: 11.2 s\n",
      "Wall time: 1min 18s\n"
     ]
    }
   ],
   "source": [
    "%%time\n",
    "\n",
    "recs = ncf.predict(\n",
    "    k=10,\n",
    "    users=test.select('user_id').distinct().limit(300),\n",
    "    items=test.select('item_id').distinct().limit(200),\n",
    "    context='no_context',\n",
    "    log=train,\n",
    "    user_features=None,\n",
    "    item_features=None,\n",
    "    to_filter_seen_items=True,\n",
    "    path=tmp_path\n",
    ")"
   ]
  },
  {
   "cell_type": "code",
   "execution_count": 26,
   "metadata": {
    "pycharm": {
     "name": "#%%\n"
    }
   },
   "outputs": [
    {
     "name": "stdout",
     "output_type": "stream",
     "text": [
      "CPU times: user 8.19 ms, sys: 2.58 ms, total: 10.8 ms\n",
      "Wall time: 11.6 s\n"
     ]
    },
    {
     "data": {
      "text/plain": [
       "0.043333333333333335"
      ]
     },
     "execution_count": 26,
     "metadata": {},
     "output_type": "execute_result"
    }
   ],
   "source": [
    "%%time\n",
    "\n",
    "metric = Metric.hit_rate_at_k(recs, test, k=10)\n",
    "metric"
   ]
  }
 ],
 "metadata": {
  "kernelspec": {
   "display_name": "Python 3",
   "language": "python",
   "name": "python3"
  },
  "language_info": {
   "codemirror_mode": {
    "name": "ipython",
    "version": 3
   },
   "file_extension": ".py",
   "mimetype": "text/x-python",
   "name": "python",
   "nbconvert_exporter": "python",
   "pygments_lexer": "ipython3",
   "version": "3.7.5"
  },
  "pycharm": {
   "stem_cell": {
    "cell_type": "raw",
    "source": [],
    "metadata": {
     "collapsed": false
    }
   }
  }
 },
 "nbformat": 4,
 "nbformat_minor": 2
}