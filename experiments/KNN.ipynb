{
 "cells": [
  {
   "cell_type": "code",
   "execution_count": 1,
   "metadata": {},
   "outputs": [],
   "source": [
    "%load_ext autoreload\n",
    "%autoreload 2"
   ]
  },
  {
   "cell_type": "code",
   "execution_count": 2,
   "metadata": {},
   "outputs": [
    {
     "name": "stdout",
     "output_type": "stream",
     "text": [
      "CPU times: user 7.97 s, sys: 1.63 s, total: 9.6 s\n",
      "Wall time: 8.16 s\n"
     ]
    }
   ],
   "source": [
    "%%time\n",
    "import pandas as pd\n",
    "\n",
    "user_item_data = (\n",
    "    pd.read_csv(\n",
    "        \"/mnt/wind/ideas_data/2017.csv\",\n",
    "        sep=\";\",\n",
    "        usecols=[\"id_project\", \"user_id\", \"type\"],\n",
    "        dtype=str\n",
    "    ).append(\n",
    "        pd.read_csv(\n",
    "            \"/mnt/wind/ideas_data/2018.csv\",\n",
    "            sep=\";\",\n",
    "            usecols=[\"id_project\", \"user_id\", \"type\"],\n",
    "            dtype=str\n",
    "        )\n",
    "    ).query(\"type in ('Pim::IdeaBestPracticeVote', 'Pim::IdeaResourceVote', 'Pim::IdeaVote')\")\n",
    "    .drop(columns=[\"type\"])\n",
    "    .rename(columns={\"user_id\": \"user_id\", \"id_project\": \"item_id\"})\n",
    ")\n",
    "user_item_data.to_csv(\"data.csv\", index=False)"
   ]
  },
  {
   "cell_type": "code",
   "execution_count": 3,
   "metadata": {},
   "outputs": [
    {
     "name": "stdout",
     "output_type": "stream",
     "text": [
      "CPU times: user 44 ms, sys: 4 ms, total: 48 ms\n",
      "Wall time: 2.34 s\n"
     ]
    }
   ],
   "source": [
    "%%time\n",
    "from pyspark.sql import SparkSession\n",
    "\n",
    "spark = (\n",
    "    SparkSession\n",
    "    .builder\n",
    "    .config(\"spark.driver.memory\", \"30g\")\n",
    "    .config(\"spark.sql.shuffle.partitions\", \"20\")\n",
    "    .config(\"spark.local.dir\", \"~/tmp\")\n",
    "    .getOrCreate()\n",
    ")"
   ]
  },
  {
   "cell_type": "code",
   "execution_count": 4,
   "metadata": {},
   "outputs": [
    {
     "name": "stdout",
     "output_type": "stream",
     "text": [
      "CPU times: user 4 ms, sys: 0 ns, total: 4 ms\n",
      "Wall time: 6.15 ms\n"
     ]
    }
   ],
   "source": [
    "%%time\n",
    "from sponge_bob_magic.data_preparator.data_preparator import DataPreparator\n",
    "\n",
    "data_preparator = DataPreparator(spark)"
   ]
  },
  {
   "cell_type": "code",
   "execution_count": 5,
   "metadata": {},
   "outputs": [
    {
     "name": "stdout",
     "output_type": "stream",
     "text": [
      "CPU times: user 12 ms, sys: 8 ms, total: 20 ms\n",
      "Wall time: 3.8 s\n"
     ]
    }
   ],
   "source": [
    "%%time\n",
    "from pyspark.sql.types import DoubleType, StringType, StructType, StructField, TimestampType\n",
    "\n",
    "log = data_preparator.transform_log(\n",
    "    path=\"data.csv\",\n",
    "    format_type=\"csv\",\n",
    "    schema=StructType([\n",
    "        StructField(\"user_id\", StringType()),\n",
    "        StructField(\"item_id\", StringType())\n",
    "    ]),\n",
    "    columns_names={\n",
    "        \"user_id\": \"user_id\",\n",
    "        \"item_id\": \"item_id\"\n",
    "    }\n",
    ").cache()"
   ]
  },
  {
   "cell_type": "code",
   "execution_count": 6,
   "metadata": {},
   "outputs": [
    {
     "name": "stdout",
     "output_type": "stream",
     "text": [
      "CPU times: user 4 ms, sys: 0 ns, total: 4 ms\n",
      "Wall time: 176 ms\n"
     ]
    }
   ],
   "source": [
    "%%time\n",
    "from sponge_bob_magic.validation_schemes import ValidationSchemes\n",
    "\n",
    "train, test_input, test = ValidationSchemes(spark).log_split_randomly(\n",
    "    log,\n",
    "    test_size=0.2,\n",
    "    drop_cold_items=True,\n",
    "    drop_cold_users=True\n",
    ")\n",
    "train = train.cache()\n",
    "test = test.cache()"
   ]
  },
  {
   "cell_type": "code",
   "execution_count": 7,
   "metadata": {},
   "outputs": [
    {
     "name": "stdout",
     "output_type": "stream",
     "text": [
      "CPU times: user 204 ms, sys: 24 ms, total: 228 ms\n",
      "Wall time: 240 ms\n"
     ]
    }
   ],
   "source": [
    "%%time\n",
    "from sponge_bob_magic.models.knn_recommender import KNNRecommender\n",
    "\n",
    "knn_recommender = KNNRecommender(spark, 34)"
   ]
  },
  {
   "cell_type": "code",
   "execution_count": 8,
   "metadata": {},
   "outputs": [
    {
     "name": "stdout",
     "output_type": "stream",
     "text": [
      "CPU times: user 24 ms, sys: 0 ns, total: 24 ms\n",
      "Wall time: 4.78 s\n"
     ]
    }
   ],
   "source": [
    "%%time\n",
    "\n",
    "model = knn_recommender.fit(\n",
    "    train,\n",
    "    user_features=None,\n",
    "    item_features=None\n",
    ")"
   ]
  },
  {
   "cell_type": "code",
   "execution_count": 9,
   "metadata": {},
   "outputs": [
    {
     "name": "stdout",
     "output_type": "stream",
     "text": [
      "CPU times: user 4 ms, sys: 12 ms, total: 16 ms\n",
      "Wall time: 1.21 s\n"
     ]
    }
   ],
   "source": [
    "%%time\n",
    "\n",
    "recs = knn_recommender.predict(\n",
    "    k=10,\n",
    "    log=train,\n",
    "    users=test.select(\"user_id\").distinct(),\n",
    "    items=None,\n",
    "    user_features=None,\n",
    "    item_features=None,\n",
    "    context=None\n",
    ").cache()"
   ]
  },
  {
   "cell_type": "code",
   "execution_count": 10,
   "metadata": {},
   "outputs": [
    {
     "name": "stdout",
     "output_type": "stream",
     "text": [
      "0.3269561603989196\n",
      "CPU times: user 64 ms, sys: 28 ms, total: 92 ms\n",
      "Wall time: 8min 10s\n"
     ]
    }
   ],
   "source": [
    "%%time\n",
    "from sponge_bob_magic.metrics.metrics import Metrics\n",
    "\n",
    "print(Metrics.hit_rate_at_k(recs, test, 10))"
   ]
  },
  {
   "cell_type": "code",
   "execution_count": null,
   "metadata": {},
   "outputs": [],
   "source": []
  }
 ],
 "metadata": {
  "kernelspec": {
   "display_name": "Python 3",
   "language": "python",
   "name": "python3"
  },
  "language_info": {
   "codemirror_mode": {
    "name": "ipython",
    "version": 3
   },
   "file_extension": ".py",
   "mimetype": "text/x-python",
   "name": "python",
   "nbconvert_exporter": "python",
   "pygments_lexer": "ipython3",
   "version": "3.6.4"
  }
 },
 "nbformat": 4,
 "nbformat_minor": 2
}
