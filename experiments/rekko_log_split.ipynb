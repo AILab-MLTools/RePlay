{
 "cells": [
  {
   "cell_type": "markdown",
   "metadata": {},
   "source": [
    "# Rekko Dataset\n",
    "\n",
    "Лаботоратория по искусственному интеллекту, Сбербанк. \n",
    "\n",
    "Авторы: [Борис Шминке](<mailto:Shminke.B.A@omega.sbrf.ru>), [Роза Айсина](<mailto:Aysina.R.M@omega.sbrf.ru>). \n",
    "\n",
    "О чем: применение рекомендательных систем к датасету историй. Схема разбиения - делим лог на две рандомные части.\n",
    "\n",
    "Ссылка на данные: ???\n",
    "\n",
    "## Содержание\n",
    "\n",
    "1. [Импорты, создание спарк-сессии](#intro)\n",
    "2. [Подготовка данных](#data-preparator)\n",
    "3. [Рекомендатель на основе популярности](#popular-recommender)\n",
    "3.1. [Запуск single модели](#popular-recommender-single)\n",
    "3.2. [Подбор гиперпараметров](#popular-recommender-scenario)\n",
    "4. [Рекомендатель на основе k-NN для объектов](#knn-recommender)\n",
    "4.1. [Запуск single модели](#knn-recommender-single)\n",
    "4.2. [Подбор гиперпараметров](#knn-recommender-scenario)"
   ]
  },
  {
   "cell_type": "markdown",
   "metadata": {},
   "source": [
    "### Импорты, создание спарк-сессии <a name='intro'></a>"
   ]
  },
  {
   "cell_type": "code",
   "execution_count": 1,
   "metadata": {
    "pycharm": {
     "is_executing": false
    }
   },
   "outputs": [],
   "source": [
    "%load_ext autoreload\n",
    "%autoreload 2\n",
    "%matplotlib inline"
   ]
  },
  {
   "cell_type": "code",
   "execution_count": 2,
   "metadata": {
    "pycharm": {
     "is_executing": false
    }
   },
   "outputs": [],
   "source": [
    "import logging\n",
    "import os\n",
    "import re\n",
    "import sys\n",
    "from collections import Counter\n",
    "from datetime import datetime\n",
    "from time import time\n",
    "\n",
    "import matplotlib.pyplot as plt\n",
    "import numpy as np\n",
    "import pandas as pd\n",
    "from pyspark.sql import SparkSession\n",
    "from pyspark.sql import functions as sf\n",
    "from pyspark.sql.types import DoubleType, StringType, StructType, StructField, TimestampType\n",
    "\n",
    "from sklearn.feature_extraction.text import CountVectorizer"
   ]
  },
  {
   "cell_type": "code",
   "execution_count": 3,
   "metadata": {
    "pycharm": {
     "is_executing": false
    }
   },
   "outputs": [],
   "source": [
    "parent_dir = os.path.split(os.getcwd())[0]\n",
    "if parent_dir not in sys.path:\n",
    "    sys.path.append(parent_dir)"
   ]
  },
  {
   "cell_type": "code",
   "execution_count": 4,
   "metadata": {
    "pycharm": {
     "is_executing": false
    }
   },
   "outputs": [],
   "source": [
    "from sponge_bob_magic.data_preparator.data_preparator import DataPreparator\n",
    "from sponge_bob_magic.metrics.metrics import Metric\n",
    "from sponge_bob_magic.models.popular_recomennder import PopularRecommender\n",
    "from sponge_bob_magic.models.knn_recommender import KNNRecommender\n",
    "from sponge_bob_magic.scenarios.knn_scenario import KNNScenario\n",
    "from sponge_bob_magic.scenarios.popular_scenario import PopularScenario\n",
    "from sponge_bob_magic.validation_schemes.validation_schemes import ValidationSchemes"
   ]
  },
  {
   "cell_type": "code",
   "execution_count": 5,
   "metadata": {
    "pycharm": {
     "is_executing": false
    }
   },
   "outputs": [],
   "source": [
    "# отображение максимальной ширины колонок в pandas датафреймах\n",
    "pd.options.display.max_colwidth = -1"
   ]
  },
  {
   "cell_type": "code",
   "execution_count": 6,
   "metadata": {
    "pycharm": {
     "is_executing": false
    }
   },
   "outputs": [
    {
     "data": {
      "text/html": [
       "\n",
       "            <div>\n",
       "                <p><b>SparkSession - hive</b></p>\n",
       "                \n",
       "        <div>\n",
       "            <p><b>SparkContext</b></p>\n",
       "\n",
       "            <p><a href=\"http://parcae1.unassigned-domain:4040\">Spark UI</a></p>\n",
       "\n",
       "            <dl>\n",
       "              <dt>Version</dt>\n",
       "                <dd><code>v2.4.4</code></dd>\n",
       "              <dt>Master</dt>\n",
       "                <dd><code>local[*]</code></dd>\n",
       "              <dt>AppName</dt>\n",
       "                <dd><code>pyspark-shell</code></dd>\n",
       "            </dl>\n",
       "        </div>\n",
       "        \n",
       "            </div>\n",
       "        "
      ],
      "text/plain": [
       "<pyspark.sql.session.SparkSession at 0x7f4f4cdf72b0>"
      ]
     },
     "execution_count": 6,
     "metadata": {},
     "output_type": "execute_result"
    }
   ],
   "source": [
    "spark_memory = \"200g\"\n",
    "spark_cores = \"*\"\n",
    "user_home = \"/datascc/aysina-rm\"\n",
    "\n",
    "spark = (\n",
    "    SparkSession\n",
    "    .builder\n",
    "    .config('spark.driver.memory', spark_memory)\n",
    "    .config('spark.local.dir', os.path.join(user_home, \"tmp\"))\n",
    "    .master(f'local[{spark_cores}]')\n",
    "    .enableHiveSupport()\n",
    "    .getOrCreate()\n",
    ")\n",
    "\n",
    "spark"
   ]
  },
  {
   "cell_type": "code",
   "execution_count": 7,
   "metadata": {
    "pycharm": {
     "is_executing": false
    }
   },
   "outputs": [],
   "source": [
    "spark_logger = logging.getLogger('py4j')\n",
    "spark_logger.setLevel(logging.WARN)"
   ]
  },
  {
   "cell_type": "code",
   "execution_count": 8,
   "metadata": {
    "pycharm": {
     "is_executing": false
    }
   },
   "outputs": [],
   "source": [
    "logger = logging.getLogger()\n",
    "formatter = logging.Formatter('%(asctime)s, %(name)s, %(levelname)s: %(message)s',\n",
    "                              datefmt='%d-%b-%y %H:%M:%S')\n",
    "hdlr = logging.StreamHandler()\n",
    "hdlr.setFormatter(formatter)\n",
    "logger.addHandler(hdlr)\n",
    "logger.setLevel(logging.DEBUG)"
   ]
  },
  {
   "cell_type": "markdown",
   "metadata": {},
   "source": [
    "## Подготовка данных <a name='data-preparator'></a>"
   ]
  },
  {
   "cell_type": "code",
   "execution_count": 9,
   "metadata": {
    "pycharm": {
     "is_executing": false
    }
   },
   "outputs": [],
   "source": [
    "path_log = '../data/rekko_sand_rekko/transactions.csv'"
   ]
  },
  {
   "cell_type": "code",
   "execution_count": 10,
   "metadata": {
    "pycharm": {
     "is_executing": false
    }
   },
   "outputs": [],
   "source": [
    "dp = DataPreparator(spark)"
   ]
  },
  {
   "cell_type": "code",
   "execution_count": 11,
   "metadata": {
    "pycharm": {
     "is_executing": false
    }
   },
   "outputs": [],
   "source": [
    "df = dp.transform_log(\n",
    "    path_log,\n",
    "    format_type='csv',\n",
    "    columns_names={\n",
    "        'user_id': 'user_uid', \n",
    "        'item_id': 'element_uid',\n",
    "        'relevance': 'watched_time'\n",
    "    },\n",
    "    date_format=None,\n",
    "    header=True\n",
    ")"
   ]
  },
  {
   "cell_type": "code",
   "execution_count": 12,
   "metadata": {
    "pycharm": {
     "is_executing": false
    },
    "scrolled": false
   },
   "outputs": [
    {
     "name": "stdout",
     "output_type": "stream",
     "text": [
      "+-------+-------+---------+-------------------+----------+\n",
      "|user_id|item_id|relevance|          timestamp|   context|\n",
      "+-------+-------+---------+-------------------+----------+\n",
      "|   5177|   3336|   4282.0|1999-05-01 00:00:00|no_context|\n",
      "| 593316|    481|   2989.0|1999-05-01 00:00:00|no_context|\n",
      "| 262355|   4128|    833.0|1999-05-01 00:00:00|no_context|\n",
      "+-------+-------+---------+-------------------+----------+\n",
      "only showing top 3 rows\n",
      "\n"
     ]
    }
   ],
   "source": [
    "df.show(3)"
   ]
  },
  {
   "cell_type": "code",
   "execution_count": 13,
   "metadata": {},
   "outputs": [
    {
     "data": {
      "text/plain": [
       "9643012"
      ]
     },
     "execution_count": 13,
     "metadata": {},
     "output_type": "execute_result"
    }
   ],
   "source": [
    "df.count()"
   ]
  },
  {
   "cell_type": "code",
   "execution_count": 14,
   "metadata": {},
   "outputs": [
    {
     "name": "stdout",
     "output_type": "stream",
     "text": [
      "+-------+-------+---------+---------+-------+\n",
      "|user_id|item_id|relevance|timestamp|context|\n",
      "+-------+-------+---------+---------+-------+\n",
      "| 499663|   8296|   124958|        1|      1|\n",
      "+-------+-------+---------+---------+-------+\n",
      "\n"
     ]
    }
   ],
   "source": [
    "df.agg(*(sf.countDistinct(sf.col(c)).alias(c) for c in df.columns)).show()"
   ]
  },
  {
   "cell_type": "code",
   "execution_count": 15,
   "metadata": {},
   "outputs": [
    {
     "name": "stdout",
     "output_type": "stream",
     "text": [
      "+-------------------+-------------------+\n",
      "|     min(timestamp)|     max(timestamp)|\n",
      "+-------------------+-------------------+\n",
      "|1999-05-01 00:00:00|1999-05-01 00:00:00|\n",
      "+-------------------+-------------------+\n",
      "\n"
     ]
    }
   ],
   "source": [
    "df.agg(sf.min(sf.col(\"timestamp\")), sf.max(sf.col(\"timestamp\"))).show()"
   ]
  },
  {
   "cell_type": "code",
   "execution_count": 16,
   "metadata": {
    "pycharm": {
     "is_executing": false
    }
   },
   "outputs": [],
   "source": [
    "df_short = df.limit(1000).cache()"
   ]
  },
  {
   "cell_type": "markdown",
   "metadata": {},
   "source": [
    "## Рекомендатель на основе популярности (popularity based recommender) <a name='popular-recommender'></a>"
   ]
  },
  {
   "cell_type": "markdown",
   "metadata": {},
   "source": [
    "### Запуск single модели <a name='popular-recommender-single'></a>"
   ]
  },
  {
   "cell_type": "code",
   "execution_count": 17,
   "metadata": {},
   "outputs": [
    {
     "data": {
      "text/plain": [
       "(7716369, 7716369, 1926608)"
      ]
     },
     "execution_count": 17,
     "metadata": {},
     "output_type": "execute_result"
    }
   ],
   "source": [
    "splitter = ValidationSchemes(spark)\n",
    "\n",
    "train, test_input, test = splitter.log_split_randomly(\n",
    "    df, test_size=0.2,\n",
    "    drop_cold_users=False, drop_cold_items=True\n",
    ")\n",
    "\n",
    "(\n",
    "    train.count(), \n",
    "    test_input.count(), \n",
    "    test.count()\n",
    ")"
   ]
  },
  {
   "cell_type": "code",
   "execution_count": 18,
   "metadata": {},
   "outputs": [],
   "source": [
    "pr = PopularRecommender(spark, alpha=0, beta=0)"
   ]
  },
  {
   "cell_type": "code",
   "execution_count": 19,
   "metadata": {
    "scrolled": false
   },
   "outputs": [
    {
     "name": "stderr",
     "output_type": "stream",
     "text": [
      "11-Nov-19 12:28:58, root, DEBUG: Проверка датафреймов\n",
      "11-Nov-19 12:29:02, root, DEBUG: Предварительная стадия обучения (pre-fit)\n",
      "11-Nov-19 12:29:06, root, DEBUG: Среднее количество items у каждого user: 16.0\n",
      "11-Nov-19 12:29:06, root, DEBUG: Основная стадия обучения (fit)\n"
     ]
    },
    {
     "name": "stdout",
     "output_type": "stream",
     "text": [
      "CPU times: user 16 ms, sys: 8 ms, total: 24 ms\n",
      "Wall time: 7.98 s\n"
     ]
    }
   ],
   "source": [
    "%%time\n",
    "\n",
    "pr.fit(\n",
    "    log=train,\n",
    "    user_features=None,\n",
    "    item_features=None,\n",
    "    path=None\n",
    ")"
   ]
  },
  {
   "cell_type": "code",
   "execution_count": 20,
   "metadata": {
    "scrolled": false
   },
   "outputs": [
    {
     "name": "stderr",
     "output_type": "stream",
     "text": [
      "11-Nov-19 12:29:06, root, DEBUG: Проверка датафреймов\n",
      "11-Nov-19 12:29:21, root, DEBUG: Количество items после фильтрации: 116\n"
     ]
    },
    {
     "name": "stdout",
     "output_type": "stream",
     "text": [
      "CPU times: user 24 ms, sys: 12 ms, total: 36 ms\n",
      "Wall time: 14.5 s\n"
     ]
    }
   ],
   "source": [
    "%%time\n",
    "\n",
    "recs = pr.predict(\n",
    "    k=100,\n",
    "    users=test.select('user_id').distinct(),\n",
    "    items=test.select('item_id').distinct(),\n",
    "    context='no_context',\n",
    "    log=train,\n",
    "    user_features=None,\n",
    "    item_features=None,\n",
    "    to_filter_seen_items=True,\n",
    "    path=None\n",
    ").cache()"
   ]
  },
  {
   "cell_type": "code",
   "execution_count": 21,
   "metadata": {},
   "outputs": [
    {
     "name": "stdout",
     "output_type": "stream",
     "text": [
      "+-------+-------+----------+--------------------+\n",
      "|item_id|user_id|   context|           relevance|\n",
      "+-------+-------+----------+--------------------+\n",
      "|   2714| 100140|no_context|0.007077551630825327|\n",
      "|    747| 100140|no_context|0.006347415474817236|\n",
      "|   3783| 100140|no_context| 0.00574207894930893|\n",
      "|   6127| 100140|no_context|0.005411612638016663|\n",
      "|  10061| 100140|no_context|0.005080109569669361|\n",
      "+-------+-------+----------+--------------------+\n",
      "only showing top 5 rows\n",
      "\n"
     ]
    }
   ],
   "source": [
    "recs.show(5)"
   ]
  },
  {
   "cell_type": "code",
   "execution_count": 22,
   "metadata": {},
   "outputs": [
    {
     "name": "stdout",
     "output_type": "stream",
     "text": [
      "CPU times: user 12 ms, sys: 0 ns, total: 12 ms\n",
      "Wall time: 1min 5s\n"
     ]
    },
    {
     "data": {
      "text/plain": [
       "0.6349982348716325"
      ]
     },
     "execution_count": 22,
     "metadata": {},
     "output_type": "execute_result"
    }
   ],
   "source": [
    "%%time\n",
    "\n",
    "metric = Metric.hit_rate_at_k(recs, df, k=100)\n",
    "metric"
   ]
  },
  {
   "cell_type": "markdown",
   "metadata": {},
   "source": [
    "### Подбор гиперпараметров в популярной модели <a name='popular-recommender-scenario'></a>"
   ]
  },
  {
   "cell_type": "markdown",
   "metadata": {},
   "source": [
    "Популярность объекта определяется как: \n",
    "\n",
    "$$ popularity(i) = \\dfrac{N_i + \\alpha}{N + \\beta}, $$\n",
    "\n",
    "где $ N_i $ &mdash; количество пользователей, у которых было взаимодействие с данным объектом $ i $, \n",
    "$ N $ &mdash; общее количество пользователей, которые как провзаимодействовали с объектом, так и нет,\n",
    "$ \\alpha, \\beta \\in [0, \\infty) $ &mdash; параметры модели. \n",
    "\n",
    "Эвристика: размуным пределом для параметров $ \\alpha $ и $ \\beta $ может стать среднее значение количества пользователей $ N_i $, которые провзаимодействовали с объектами."
   ]
  },
  {
   "cell_type": "code",
   "execution_count": 23,
   "metadata": {},
   "outputs": [
    {
     "data": {
      "text/plain": [
       "1162.3688524590164"
      ]
     },
     "execution_count": 23,
     "metadata": {},
     "output_type": "execute_result"
    }
   ],
   "source": [
    "avg_num_users = (\n",
    "    df\n",
    "    .select('user_id', 'item_id')\n",
    "    .groupBy('item_id')\n",
    "    .count()\n",
    "    .select(sf.mean(sf.col('count')).alias('mean'))\n",
    "    .collect()[0]['mean']\n",
    ")\n",
    "\n",
    "avg_num_users"
   ]
  },
  {
   "cell_type": "code",
   "execution_count": 26,
   "metadata": {
    "pycharm": {
     "is_executing": false
    }
   },
   "outputs": [],
   "source": [
    "popular_scenario = PopularScenario(spark)\n",
    "popular_scenario.seed = 9876\n",
    "results = None"
   ]
  },
  {
   "cell_type": "code",
   "execution_count": 28,
   "metadata": {
    "pycharm": {
     "is_executing": false
    },
    "scrolled": false
   },
   "outputs": [
    {
     "name": "stderr",
     "output_type": "stream",
     "text": [
      "11-Nov-19 12:49:25, root, DEBUG: Деление на трейн и тест\n",
      "11-Nov-19 12:49:25, root, DEBUG: Длина трейна и теста: (6751428, 2891500)\n",
      "11-Nov-19 12:49:26, root, DEBUG: Количество юзеров в трейне и тесте: 497190, 451933\n",
      "11-Nov-19 12:49:27, root, DEBUG: Количество айтемов в трейне и тесте: 8233, 8013\n",
      "11-Nov-19 12:49:27, root, DEBUG: Популярная модель: полное обучение\n",
      "11-Nov-19 12:49:27, root, DEBUG: Проверка датафреймов\n",
      "11-Nov-19 12:49:27, root, DEBUG: Предварительная стадия обучения (pre-fit)\n",
      "11-Nov-19 12:49:30, root, DEBUG: Среднее количество items у каждого user: 14.0\n",
      "11-Nov-19 12:49:30, root, DEBUG: Основная стадия обучения (fit)\n",
      "11-Nov-19 12:49:30, root, DEBUG: -------------\n",
      "11-Nov-19 12:49:30, root, DEBUG: Начало оптимизации параметров\n",
      "11-Nov-19 12:49:30, root, DEBUG: -- Параметры: {'alpha': 1963, 'beta': 1896}\n",
      "11-Nov-19 12:49:30, root, DEBUG: -- Предикт модели в оптимизации\n",
      "11-Nov-19 12:49:30, root, DEBUG: Проверка датафреймов\n",
      "11-Nov-19 12:49:33, root, DEBUG: Количество items после фильтрации: 29\n",
      "11-Nov-19 12:49:54, root, DEBUG: -- Длина рекомендаций: 6778995\n",
      "11-Nov-19 12:49:54, root, DEBUG: -- Подсчет метрики в оптимизации\n",
      "11-Nov-19 12:50:10, root, DEBUG: -- Метрика: (0.3695215883770382, 0.07538281938474276)\n",
      "[I 2019-11-11 12:50:10,852] Finished trial#0 resulted in value: 0.3695215883770382. Current best value is 0.3695215883770382 with parameters: {'alpha': 1963, 'beta': 1896}.\n",
      "11-Nov-19 12:50:10, root, DEBUG: -- Параметры: {'alpha': 2631, 'beta': 1809}\n",
      "11-Nov-19 12:50:10, root, DEBUG: -- Предикт модели в оптимизации\n",
      "11-Nov-19 12:50:10, root, DEBUG: Проверка датафреймов\n",
      "11-Nov-19 12:50:12, root, DEBUG: Количество items после фильтрации: 29\n",
      "11-Nov-19 12:50:30, root, DEBUG: -- Длина рекомендаций: 6778995\n",
      "11-Nov-19 12:50:30, root, DEBUG: -- Подсчет метрики в оптимизации\n",
      "11-Nov-19 12:50:47, root, DEBUG: -- Метрика: (0.3695215883770382, 0.07538281938474282)\n",
      "[I 2019-11-11 12:50:47,663] Finished trial#1 resulted in value: 0.3695215883770382. Current best value is 0.3695215883770382 with parameters: {'alpha': 1963, 'beta': 1896}.\n",
      "11-Nov-19 12:50:47, root, DEBUG: -- Параметры: {'alpha': 2626, 'beta': 1612}\n",
      "11-Nov-19 12:50:47, root, DEBUG: -- Предикт модели в оптимизации\n",
      "11-Nov-19 12:50:47, root, DEBUG: Проверка датафреймов\n",
      "11-Nov-19 12:50:50, root, DEBUG: Количество items после фильтрации: 29\n",
      "11-Nov-19 12:51:12, root, DEBUG: -- Длина рекомендаций: 6778995\n",
      "11-Nov-19 12:51:12, root, DEBUG: -- Подсчет метрики в оптимизации\n",
      "11-Nov-19 12:51:25, root, DEBUG: -- Метрика: (0.3695215883770382, 0.07538281938474282)\n",
      "[I 2019-11-11 12:51:25,671] Finished trial#2 resulted in value: 0.3695215883770382. Current best value is 0.3695215883770382 with parameters: {'alpha': 1963, 'beta': 1896}.\n",
      "11-Nov-19 12:51:25, root, DEBUG: -- Параметры: {'alpha': 1606, 'beta': 2890}\n",
      "11-Nov-19 12:51:25, root, DEBUG: -- Предикт модели в оптимизации\n",
      "11-Nov-19 12:51:25, root, DEBUG: Проверка датафреймов\n",
      "11-Nov-19 12:51:27, root, DEBUG: Количество items после фильтрации: 29\n",
      "11-Nov-19 12:51:48, root, DEBUG: -- Длина рекомендаций: 6778995\n",
      "11-Nov-19 12:51:48, root, DEBUG: -- Подсчет метрики в оптимизации\n",
      "11-Nov-19 12:52:05, root, DEBUG: -- Метрика: (0.3695215883770382, 0.07538281938474274)\n",
      "[I 2019-11-11 12:52:05,189] Finished trial#3 resulted in value: 0.3695215883770382. Current best value is 0.3695215883770382 with parameters: {'alpha': 1963, 'beta': 1896}.\n",
      "11-Nov-19 12:52:05, root, DEBUG: -- Параметры: {'alpha': 2637, 'beta': 1605}\n",
      "11-Nov-19 12:52:05, root, DEBUG: -- Предикт модели в оптимизации\n",
      "11-Nov-19 12:52:05, root, DEBUG: Проверка датафреймов\n",
      "11-Nov-19 12:52:08, root, DEBUG: Количество items после фильтрации: 29\n",
      "11-Nov-19 12:52:26, root, DEBUG: -- Длина рекомендаций: 6778995\n",
      "11-Nov-19 12:52:26, root, DEBUG: -- Подсчет метрики в оптимизации\n",
      "11-Nov-19 12:52:44, root, DEBUG: -- Метрика: (0.3695215883770382, 0.07538281938474276)\n",
      "[I 2019-11-11 12:52:44,828] Finished trial#4 resulted in value: 0.3695215883770382. Current best value is 0.3695215883770382 with parameters: {'alpha': 1963, 'beta': 1896}.\n",
      "11-Nov-19 12:52:44, root, DEBUG: Лучшие значения метрики: 0.3695215883770382\n",
      "11-Nov-19 12:52:44, root, DEBUG: Лучшие параметры: {'alpha': 1963, 'beta': 1896}\n"
     ]
    },
    {
     "name": "stdout",
     "output_type": "stream",
     "text": [
      "CPU times: user 844 ms, sys: 184 ms, total: 1.03 s\n",
      "Wall time: 3min 19s\n"
     ]
    },
    {
     "data": {
      "text/plain": [
       "{'alpha': 1963, 'beta': 1896}"
      ]
     },
     "execution_count": 28,
     "metadata": {},
     "output_type": "execute_result"
    }
   ],
   "source": [
    "%%time\n",
    "\n",
    "popular_params_grid = {\n",
    "    'alpha': (1500, 3000), \n",
    "    'beta': (1500, 3000)\n",
    "}\n",
    "\n",
    "best_params = popular_scenario.research(\n",
    "    popular_params_grid,\n",
    "    df,\n",
    "    users=None, items=None,\n",
    "    user_features=None,\n",
    "    item_features=None,\n",
    "    test_start=None,\n",
    "    test_size=0.3,\n",
    "    k=15, context='no_context',\n",
    "    to_filter_seen_items=True,\n",
    "    n_trials=5, \n",
    "    n_jobs=1,\n",
    "    how_to_split='randomly'\n",
    ")\n",
    "\n",
    "best_params"
   ]
  },
  {
   "cell_type": "code",
   "execution_count": 29,
   "metadata": {},
   "outputs": [
    {
     "data": {
      "text/html": [
       "<div>\n",
       "<style scoped>\n",
       "    .dataframe tbody tr th:only-of-type {\n",
       "        vertical-align: middle;\n",
       "    }\n",
       "\n",
       "    .dataframe tbody tr th {\n",
       "        vertical-align: top;\n",
       "    }\n",
       "\n",
       "    .dataframe thead tr th {\n",
       "        text-align: left;\n",
       "    }\n",
       "</style>\n",
       "<table border=\"1\" class=\"dataframe\">\n",
       "  <thead>\n",
       "    <tr>\n",
       "      <th></th>\n",
       "      <th>number</th>\n",
       "      <th>state</th>\n",
       "      <th>value</th>\n",
       "      <th>datetime_start</th>\n",
       "      <th>datetime_complete</th>\n",
       "      <th colspan=\"2\" halign=\"left\">params</th>\n",
       "      <th>user_attrs</th>\n",
       "      <th>system_attrs</th>\n",
       "    </tr>\n",
       "    <tr>\n",
       "      <th></th>\n",
       "      <th></th>\n",
       "      <th></th>\n",
       "      <th></th>\n",
       "      <th></th>\n",
       "      <th></th>\n",
       "      <th>alpha</th>\n",
       "      <th>beta</th>\n",
       "      <th>nDCG@k</th>\n",
       "      <th>_number</th>\n",
       "    </tr>\n",
       "  </thead>\n",
       "  <tbody>\n",
       "    <tr>\n",
       "      <th>0</th>\n",
       "      <td>0</td>\n",
       "      <td>TrialState.COMPLETE</td>\n",
       "      <td>0.369522</td>\n",
       "      <td>2019-11-11 12:49:30.027514</td>\n",
       "      <td>2019-11-11 12:50:10.852251</td>\n",
       "      <td>1963</td>\n",
       "      <td>1896</td>\n",
       "      <td>0.075383</td>\n",
       "      <td>0</td>\n",
       "    </tr>\n",
       "    <tr>\n",
       "      <th>1</th>\n",
       "      <td>1</td>\n",
       "      <td>TrialState.COMPLETE</td>\n",
       "      <td>0.369522</td>\n",
       "      <td>2019-11-11 12:50:10.856467</td>\n",
       "      <td>2019-11-11 12:50:47.662554</td>\n",
       "      <td>2631</td>\n",
       "      <td>1809</td>\n",
       "      <td>0.075383</td>\n",
       "      <td>1</td>\n",
       "    </tr>\n",
       "    <tr>\n",
       "      <th>2</th>\n",
       "      <td>2</td>\n",
       "      <td>TrialState.COMPLETE</td>\n",
       "      <td>0.369522</td>\n",
       "      <td>2019-11-11 12:50:47.665393</td>\n",
       "      <td>2019-11-11 12:51:25.670611</td>\n",
       "      <td>2626</td>\n",
       "      <td>1612</td>\n",
       "      <td>0.075383</td>\n",
       "      <td>2</td>\n",
       "    </tr>\n",
       "    <tr>\n",
       "      <th>3</th>\n",
       "      <td>3</td>\n",
       "      <td>TrialState.COMPLETE</td>\n",
       "      <td>0.369522</td>\n",
       "      <td>2019-11-11 12:51:25.673669</td>\n",
       "      <td>2019-11-11 12:52:05.188318</td>\n",
       "      <td>1606</td>\n",
       "      <td>2890</td>\n",
       "      <td>0.075383</td>\n",
       "      <td>3</td>\n",
       "    </tr>\n",
       "    <tr>\n",
       "      <th>4</th>\n",
       "      <td>4</td>\n",
       "      <td>TrialState.COMPLETE</td>\n",
       "      <td>0.369522</td>\n",
       "      <td>2019-11-11 12:52:05.191536</td>\n",
       "      <td>2019-11-11 12:52:44.827273</td>\n",
       "      <td>2637</td>\n",
       "      <td>1605</td>\n",
       "      <td>0.075383</td>\n",
       "      <td>4</td>\n",
       "    </tr>\n",
       "    <tr>\n",
       "      <th>0</th>\n",
       "      <td>0</td>\n",
       "      <td>TrialState.COMPLETE</td>\n",
       "      <td>0.369522</td>\n",
       "      <td>2019-11-11 12:32:38.501479</td>\n",
       "      <td>2019-11-11 12:33:13.807930</td>\n",
       "      <td>906</td>\n",
       "      <td>549</td>\n",
       "      <td>0.075383</td>\n",
       "      <td>0</td>\n",
       "    </tr>\n",
       "    <tr>\n",
       "      <th>1</th>\n",
       "      <td>1</td>\n",
       "      <td>TrialState.COMPLETE</td>\n",
       "      <td>0.369522</td>\n",
       "      <td>2019-11-11 12:33:13.810619</td>\n",
       "      <td>2019-11-11 12:33:55.286088</td>\n",
       "      <td>915</td>\n",
       "      <td>73</td>\n",
       "      <td>0.075383</td>\n",
       "      <td>1</td>\n",
       "    </tr>\n",
       "    <tr>\n",
       "      <th>2</th>\n",
       "      <td>2</td>\n",
       "      <td>TrialState.COMPLETE</td>\n",
       "      <td>0.369522</td>\n",
       "      <td>2019-11-11 12:33:55.288928</td>\n",
       "      <td>2019-11-11 12:34:33.279346</td>\n",
       "      <td>94</td>\n",
       "      <td>821</td>\n",
       "      <td>0.075383</td>\n",
       "      <td>2</td>\n",
       "    </tr>\n",
       "    <tr>\n",
       "      <th>3</th>\n",
       "      <td>3</td>\n",
       "      <td>TrialState.COMPLETE</td>\n",
       "      <td>0.369522</td>\n",
       "      <td>2019-11-11 12:34:33.282385</td>\n",
       "      <td>2019-11-11 12:35:12.526507</td>\n",
       "      <td>236</td>\n",
       "      <td>19</td>\n",
       "      <td>0.075383</td>\n",
       "      <td>3</td>\n",
       "    </tr>\n",
       "    <tr>\n",
       "      <th>4</th>\n",
       "      <td>4</td>\n",
       "      <td>TrialState.COMPLETE</td>\n",
       "      <td>0.369522</td>\n",
       "      <td>2019-11-11 12:35:12.530406</td>\n",
       "      <td>2019-11-11 12:35:49.151055</td>\n",
       "      <td>407</td>\n",
       "      <td>50</td>\n",
       "      <td>0.075383</td>\n",
       "      <td>4</td>\n",
       "    </tr>\n",
       "    <tr>\n",
       "      <th>5</th>\n",
       "      <td>5</td>\n",
       "      <td>TrialState.COMPLETE</td>\n",
       "      <td>0.369522</td>\n",
       "      <td>2019-11-11 12:35:49.155323</td>\n",
       "      <td>2019-11-11 12:36:27.699912</td>\n",
       "      <td>3</td>\n",
       "      <td>494</td>\n",
       "      <td>0.075383</td>\n",
       "      <td>5</td>\n",
       "    </tr>\n",
       "    <tr>\n",
       "      <th>6</th>\n",
       "      <td>6</td>\n",
       "      <td>TrialState.COMPLETE</td>\n",
       "      <td>0.369522</td>\n",
       "      <td>2019-11-11 12:36:27.704056</td>\n",
       "      <td>2019-11-11 12:37:09.285265</td>\n",
       "      <td>66</td>\n",
       "      <td>973</td>\n",
       "      <td>0.075383</td>\n",
       "      <td>6</td>\n",
       "    </tr>\n",
       "    <tr>\n",
       "      <th>7</th>\n",
       "      <td>7</td>\n",
       "      <td>TrialState.COMPLETE</td>\n",
       "      <td>0.369522</td>\n",
       "      <td>2019-11-11 12:37:09.289067</td>\n",
       "      <td>2019-11-11 12:37:44.181261</td>\n",
       "      <td>64</td>\n",
       "      <td>955</td>\n",
       "      <td>0.075383</td>\n",
       "      <td>7</td>\n",
       "    </tr>\n",
       "    <tr>\n",
       "      <th>8</th>\n",
       "      <td>8</td>\n",
       "      <td>TrialState.COMPLETE</td>\n",
       "      <td>0.369522</td>\n",
       "      <td>2019-11-11 12:37:44.185243</td>\n",
       "      <td>2019-11-11 12:38:22.269795</td>\n",
       "      <td>86</td>\n",
       "      <td>457</td>\n",
       "      <td>0.075383</td>\n",
       "      <td>8</td>\n",
       "    </tr>\n",
       "    <tr>\n",
       "      <th>9</th>\n",
       "      <td>9</td>\n",
       "      <td>TrialState.COMPLETE</td>\n",
       "      <td>0.369522</td>\n",
       "      <td>2019-11-11 12:38:22.273958</td>\n",
       "      <td>2019-11-11 12:39:03.359147</td>\n",
       "      <td>518</td>\n",
       "      <td>119</td>\n",
       "      <td>0.075383</td>\n",
       "      <td>9</td>\n",
       "    </tr>\n",
       "    <tr>\n",
       "      <th>10</th>\n",
       "      <td>10</td>\n",
       "      <td>TrialState.COMPLETE</td>\n",
       "      <td>0.369522</td>\n",
       "      <td>2019-11-11 12:39:03.363670</td>\n",
       "      <td>2019-11-11 12:39:40.236333</td>\n",
       "      <td>950</td>\n",
       "      <td>23</td>\n",
       "      <td>0.075383</td>\n",
       "      <td>10</td>\n",
       "    </tr>\n",
       "    <tr>\n",
       "      <th>11</th>\n",
       "      <td>11</td>\n",
       "      <td>TrialState.COMPLETE</td>\n",
       "      <td>0.369522</td>\n",
       "      <td>2019-11-11 12:39:40.241042</td>\n",
       "      <td>2019-11-11 12:40:17.722200</td>\n",
       "      <td>555</td>\n",
       "      <td>734</td>\n",
       "      <td>0.075383</td>\n",
       "      <td>11</td>\n",
       "    </tr>\n",
       "    <tr>\n",
       "      <th>12</th>\n",
       "      <td>12</td>\n",
       "      <td>TrialState.COMPLETE</td>\n",
       "      <td>0.369522</td>\n",
       "      <td>2019-11-11 12:40:17.727204</td>\n",
       "      <td>2019-11-11 12:40:58.584497</td>\n",
       "      <td>729</td>\n",
       "      <td>208</td>\n",
       "      <td>0.075383</td>\n",
       "      <td>12</td>\n",
       "    </tr>\n",
       "    <tr>\n",
       "      <th>13</th>\n",
       "      <td>13</td>\n",
       "      <td>TrialState.COMPLETE</td>\n",
       "      <td>0.369522</td>\n",
       "      <td>2019-11-11 12:40:58.589396</td>\n",
       "      <td>2019-11-11 12:41:35.334770</td>\n",
       "      <td>603</td>\n",
       "      <td>566</td>\n",
       "      <td>0.075383</td>\n",
       "      <td>13</td>\n",
       "    </tr>\n",
       "    <tr>\n",
       "      <th>14</th>\n",
       "      <td>14</td>\n",
       "      <td>TrialState.COMPLETE</td>\n",
       "      <td>0.369522</td>\n",
       "      <td>2019-11-11 12:41:35.339853</td>\n",
       "      <td>2019-11-11 12:42:13.312810</td>\n",
       "      <td>679</td>\n",
       "      <td>923</td>\n",
       "      <td>0.075383</td>\n",
       "      <td>14</td>\n",
       "    </tr>\n",
       "  </tbody>\n",
       "</table>\n",
       "</div>"
      ],
      "text/plain": [
       "   number                state     value             datetime_start  \\\n",
       "                                                                      \n",
       "0   0      TrialState.COMPLETE  0.369522 2019-11-11 12:49:30.027514   \n",
       "1   1      TrialState.COMPLETE  0.369522 2019-11-11 12:50:10.856467   \n",
       "2   2      TrialState.COMPLETE  0.369522 2019-11-11 12:50:47.665393   \n",
       "3   3      TrialState.COMPLETE  0.369522 2019-11-11 12:51:25.673669   \n",
       "4   4      TrialState.COMPLETE  0.369522 2019-11-11 12:52:05.191536   \n",
       "0   0      TrialState.COMPLETE  0.369522 2019-11-11 12:32:38.501479   \n",
       "1   1      TrialState.COMPLETE  0.369522 2019-11-11 12:33:13.810619   \n",
       "2   2      TrialState.COMPLETE  0.369522 2019-11-11 12:33:55.288928   \n",
       "3   3      TrialState.COMPLETE  0.369522 2019-11-11 12:34:33.282385   \n",
       "4   4      TrialState.COMPLETE  0.369522 2019-11-11 12:35:12.530406   \n",
       "5   5      TrialState.COMPLETE  0.369522 2019-11-11 12:35:49.155323   \n",
       "6   6      TrialState.COMPLETE  0.369522 2019-11-11 12:36:27.704056   \n",
       "7   7      TrialState.COMPLETE  0.369522 2019-11-11 12:37:09.289067   \n",
       "8   8      TrialState.COMPLETE  0.369522 2019-11-11 12:37:44.185243   \n",
       "9   9      TrialState.COMPLETE  0.369522 2019-11-11 12:38:22.273958   \n",
       "10  10     TrialState.COMPLETE  0.369522 2019-11-11 12:39:03.363670   \n",
       "11  11     TrialState.COMPLETE  0.369522 2019-11-11 12:39:40.241042   \n",
       "12  12     TrialState.COMPLETE  0.369522 2019-11-11 12:40:17.727204   \n",
       "13  13     TrialState.COMPLETE  0.369522 2019-11-11 12:40:58.589396   \n",
       "14  14     TrialState.COMPLETE  0.369522 2019-11-11 12:41:35.339853   \n",
       "\n",
       "            datetime_complete params       user_attrs system_attrs  \n",
       "                               alpha  beta     nDCG@k      _number  \n",
       "0  2019-11-11 12:50:10.852251  1963   1896  0.075383   0            \n",
       "1  2019-11-11 12:50:47.662554  2631   1809  0.075383   1            \n",
       "2  2019-11-11 12:51:25.670611  2626   1612  0.075383   2            \n",
       "3  2019-11-11 12:52:05.188318  1606   2890  0.075383   3            \n",
       "4  2019-11-11 12:52:44.827273  2637   1605  0.075383   4            \n",
       "0  2019-11-11 12:33:13.807930  906    549   0.075383   0            \n",
       "1  2019-11-11 12:33:55.286088  915    73    0.075383   1            \n",
       "2  2019-11-11 12:34:33.279346  94     821   0.075383   2            \n",
       "3  2019-11-11 12:35:12.526507  236    19    0.075383   3            \n",
       "4  2019-11-11 12:35:49.151055  407    50    0.075383   4            \n",
       "5  2019-11-11 12:36:27.699912  3      494   0.075383   5            \n",
       "6  2019-11-11 12:37:09.285265  66     973   0.075383   6            \n",
       "7  2019-11-11 12:37:44.181261  64     955   0.075383   7            \n",
       "8  2019-11-11 12:38:22.269795  86     457   0.075383   8            \n",
       "9  2019-11-11 12:39:03.359147  518    119   0.075383   9            \n",
       "10 2019-11-11 12:39:40.236333  950    23    0.075383   10           \n",
       "11 2019-11-11 12:40:17.722200  555    734   0.075383   11           \n",
       "12 2019-11-11 12:40:58.584497  729    208   0.075383   12           \n",
       "13 2019-11-11 12:41:35.334770  603    566   0.075383   13           \n",
       "14 2019-11-11 12:42:13.312810  679    923   0.075383   14           "
      ]
     },
     "execution_count": 29,
     "metadata": {},
     "output_type": "execute_result"
    }
   ],
   "source": [
    "results = pd.concat([popular_scenario.study.trials_dataframe(), results], axis=0)\n",
    "\n",
    "results"
   ]
  },
  {
   "cell_type": "code",
   "execution_count": 31,
   "metadata": {
    "scrolled": false
   },
   "outputs": [
    {
     "data": {
      "image/png": "[encoded data removed]",
      "text/plain": [
       "<Figure size 504x360 with 1 Axes>"
      ]
     },
     "metadata": {
      "needs_background": "light"
     },
     "output_type": "display_data"
    }
   ],
   "source": [
    "def plot_result_value(results):\n",
    "    results['value_name'] = (results['params']['alpha'].astype(str)\n",
    "                         .str.cat(results['params']['beta'].astype(str), sep=', '))\n",
    "    \n",
    "    plt.figure(figsize=(7, 5))\n",
    "    ax = results['value'].plot(kind='bar', xticks=range(len(results)), rot=0)\n",
    "    ax.set_xticklabels(results['value_name'].values)\n",
    "\n",
    "    plt.xlabel(r'$(\\alpha, \\beta)$' + ' пары')\n",
    "    plt.ylabel('Значение метрики')\n",
    "    plt.title('Результаты эксперимента')\n",
    "\n",
    "    plt.show()\n",
    "    \n",
    "\n",
    "plot_result_value(results)"
   ]
  },
  {
   "cell_type": "code",
   "execution_count": 32,
   "metadata": {},
   "outputs": [
    {
     "name": "stderr",
     "output_type": "stream",
     "text": [
      "11-Nov-19 13:22:01, root, DEBUG: Проверка датафреймов\n",
      "11-Nov-19 13:22:01, root, DEBUG: Предварительная стадия обучения (pre-fit)\n",
      "11-Nov-19 13:22:02, root, DEBUG: Среднее количество items у каждого user: 20.0\n",
      "11-Nov-19 13:22:02, root, DEBUG: Основная стадия обучения (fit)\n",
      "11-Nov-19 13:22:02, root, DEBUG: Проверка датафреймов\n",
      "11-Nov-19 13:22:02, root, DEBUG: Выделение дефолтных юзеров\n",
      "11-Nov-19 13:22:03, root, DEBUG: Выделение дефолтных айтемов\n",
      "11-Nov-19 13:22:06, root, DEBUG: Количество items после фильтрации: 30\n"
     ]
    },
    {
     "name": "stdout",
     "output_type": "stream",
     "text": [
      "CPU times: user 52 ms, sys: 4 ms, total: 56 ms\n",
      "Wall time: 5.68 s\n"
     ]
    }
   ],
   "source": [
    "%%time\n",
    "\n",
    "best_recs = popular_scenario.production(\n",
    "    best_params,\n",
    "    df,\n",
    "    users=None,\n",
    "    items=None,\n",
    "    user_features=None,\n",
    "    item_features=None,\n",
    "    k=10,\n",
    "    context='no_context',\n",
    "    to_filter_seen_items=True\n",
    ")"
   ]
  },
  {
   "cell_type": "code",
   "execution_count": 33,
   "metadata": {},
   "outputs": [
    {
     "name": "stdout",
     "output_type": "stream",
     "text": [
      "+-------+-------+----------+--------------------+\n",
      "|item_id|user_id|   context|           relevance|\n",
      "+-------+-------+----------+--------------------+\n",
      "|   2714| 100140|no_context|0.007287057585204545|\n",
      "|    747| 100140|no_context|0.006556309298129127|\n",
      "|   6127| 100140|no_context|0.005612391533439...|\n",
      "|   3916| 100140|no_context|0.005205441047234...|\n",
      "|   8771| 100140|no_context|0.005126331946349307|\n",
      "|   3336| 100140|no_context|0.004936179795597...|\n",
      "|   7079| 100140|no_context|0.004752248543998553|\n",
      "|   3567| 100140|no_context|0.004586979989855787|\n",
      "|   1016| 100140|no_context|0.004510359248631506|\n",
      "|   9467| 100140|no_context|0.004061210329844...|\n",
      "+-------+-------+----------+--------------------+\n",
      "only showing top 10 rows\n",
      "\n"
     ]
    }
   ],
   "source": [
    "best_recs.show(10)"
   ]
  },
  {
   "cell_type": "markdown",
   "metadata": {},
   "source": [
    "## Рекомендатель на основе k-NN для объектов (item k-NN based recommender) <a name='knn-recommender'></a>"
   ]
  },
  {
   "cell_type": "markdown",
   "metadata": {},
   "source": [
    "### Запуск single модели <a name='knn-recommender-single'></a>"
   ]
  },
  {
   "cell_type": "code",
   "execution_count": 34,
   "metadata": {},
   "outputs": [
    {
     "data": {
      "text/plain": [
       "(7716369, 7716369, 1926608)"
      ]
     },
     "execution_count": 34,
     "metadata": {},
     "output_type": "execute_result"
    }
   ],
   "source": [
    "splitter = ValidationSchemes(spark)\n",
    "\n",
    "train, test_input, test = splitter.log_split_randomly(\n",
    "    df, test_size=0.2,\n",
    "    drop_cold_users=False, drop_cold_items=True\n",
    ")\n",
    "\n",
    "(\n",
    "    train.count(), \n",
    "    test_input.count(), \n",
    "    test.count()\n",
    ")"
   ]
  },
  {
   "cell_type": "code",
   "execution_count": 35,
   "metadata": {},
   "outputs": [],
   "source": [
    "knn = KNNRecommender(spark, num_neighbours=15, shrink=0)"
   ]
  },
  {
   "cell_type": "code",
   "execution_count": 36,
   "metadata": {},
   "outputs": [
    {
     "name": "stderr",
     "output_type": "stream",
     "text": [
      "11-Nov-19 13:25:03, root, DEBUG: Проверка датафреймов\n",
      "11-Nov-19 13:25:06, root, DEBUG: Предварительная стадия обучения (pre-fit)\n",
      "11-Nov-19 13:25:06, root, DEBUG: Основная стадия обучения (fit)\n"
     ]
    },
    {
     "name": "stdout",
     "output_type": "stream",
     "text": [
      "CPU times: user 20 ms, sys: 12 ms, total: 32 ms\n",
      "Wall time: 3.45 s\n"
     ]
    }
   ],
   "source": [
    "%%time\n",
    "\n",
    "knn.fit(\n",
    "    log=train,\n",
    "    user_features=None,\n",
    "    item_features=None,\n",
    "    path=None\n",
    ")"
   ]
  },
  {
   "cell_type": "code",
   "execution_count": 37,
   "metadata": {},
   "outputs": [
    {
     "name": "stderr",
     "output_type": "stream",
     "text": [
      "11-Nov-19 13:25:11, root, DEBUG: Проверка датафреймов\n"
     ]
    },
    {
     "name": "stdout",
     "output_type": "stream",
     "text": [
      "CPU times: user 16 ms, sys: 4 ms, total: 20 ms\n",
      "Wall time: 4.75 s\n"
     ]
    }
   ],
   "source": [
    "%%time\n",
    "\n",
    "recs = knn.predict(\n",
    "    k=10,\n",
    "    users=test.select('user_id').distinct(),\n",
    "    items=test.select('item_id').distinct(),\n",
    "    context='no_context',\n",
    "    log=train,\n",
    "    user_features=None,\n",
    "    item_features=None,\n",
    "    to_filter_seen_items=True,\n",
    "    path=None\n",
    ").cache()"
   ]
  },
  {
   "cell_type": "code",
   "execution_count": null,
   "metadata": {},
   "outputs": [],
   "source": [
    "recs.show(5)"
   ]
  },
  {
   "cell_type": "code",
   "execution_count": 38,
   "metadata": {},
   "outputs": [
    {
     "name": "stdout",
     "output_type": "stream",
     "text": [
      "CPU times: user 32 ms, sys: 16 ms, total: 48 ms\n",
      "Wall time: 7min 14s\n"
     ]
    },
    {
     "data": {
      "text/plain": [
       "0.003990613764202536"
      ]
     },
     "execution_count": 38,
     "metadata": {},
     "output_type": "execute_result"
    }
   ],
   "source": [
    "%%time\n",
    "\n",
    "metric = Metric.hit_rate_at_k(recs, test, k=10)\n",
    "metric"
   ]
  },
  {
   "cell_type": "markdown",
   "metadata": {},
   "source": [
    "### Подбор гиперпараметров в item k-NN модели <a name='knn-recommender-scenario'></a>"
   ]
  },
  {
   "cell_type": "code",
   "execution_count": 40,
   "metadata": {},
   "outputs": [],
   "source": [
    "knn_scenario = KNNScenario(spark)\n",
    "knn_scenario.seed = 7852\n",
    "knn_results = None"
   ]
  },
  {
   "cell_type": "code",
   "execution_count": 43,
   "metadata": {},
   "outputs": [
    {
     "name": "stderr",
     "output_type": "stream",
     "text": [
      "11-Nov-19 15:23:37, root, DEBUG: Деление на трейн и тест\n",
      "11-Nov-19 15:23:37, root, DEBUG: Длина трейна и теста: (7713379, 1927433)\n",
      "11-Nov-19 15:23:39, root, DEBUG: Количество юзеров в трейне и тесте: 498842, 409781\n",
      "11-Nov-19 15:23:39, root, DEBUG: Количество айтемов в трейне и тесте: 8261, 7892\n",
      "11-Nov-19 15:23:39, root, DEBUG: Популярная модель: фит_предикт\n",
      "11-Nov-19 15:23:39, root, DEBUG: Проверка датафреймов\n",
      "11-Nov-19 15:23:39, root, DEBUG: Предварительная стадия обучения (pre-fit)\n",
      "11-Nov-19 15:23:41, root, DEBUG: Среднее количество items у каждого user: 16.0\n",
      "11-Nov-19 15:23:41, root, DEBUG: Основная стадия обучения (fit)\n",
      "11-Nov-19 15:23:41, root, DEBUG: Проверка датафреймов\n",
      "11-Nov-19 15:23:42, root, DEBUG: Количество items после фильтрации: 36\n",
      "11-Nov-19 15:23:43, root, DEBUG: Модель KNN\n",
      "11-Nov-19 15:23:43, root, DEBUG: Первый пре-фит модели\n",
      "11-Nov-19 15:23:43, root, DEBUG: -------------\n",
      "11-Nov-19 15:23:43, root, DEBUG: Начало оптимизации параметров\n",
      "11-Nov-19 15:23:43, root, DEBUG: -- Параметры: {'num_neighbours': 1.0, 'shrink': 0}\n",
      "11-Nov-19 15:23:43, root, DEBUG: -- Второй фит модели в оптимизации\n",
      "11-Nov-19 15:23:43, root, DEBUG: -- Предикт модели в оптимизации\n",
      "11-Nov-19 15:23:43, root, DEBUG: Проверка датафреймов\n",
      "11-Nov-19 15:24:00, root, DEBUG: -- Длина рекомендаций: 4548881\n",
      "11-Nov-19 15:24:00, root, DEBUG: -- Дополняем рекомендации популярными\n",
      "11-Nov-19 15:24:07, root, DEBUG: -- Длина рекомендаций: 8195620\n",
      "11-Nov-19 15:24:07, root, DEBUG: -- Подсчет метрики в оптимизации\n",
      "11-Nov-19 15:25:12, root, DEBUG: -- Метрики: hit_rate=0.1399, ndcg=0.0248, precision=0.0076, map_metric=0.0078\n",
      "[I 2019-11-11 15:25:12,524] Finished trial#0 resulted in value: 0.13994304274722352. Current best value is 0.13994304274722352 with parameters: {'num_neighbours': 1.0, 'shrink': 0}.\n",
      "11-Nov-19 15:25:12, root, DEBUG: -- Параметры: {'num_neighbours': 3.0, 'shrink': 0}\n",
      "11-Nov-19 15:25:12, root, DEBUG: -- Второй фит модели в оптимизации\n",
      "11-Nov-19 15:25:12, root, DEBUG: -- Предикт модели в оптимизации\n",
      "11-Nov-19 15:25:12, root, DEBUG: Проверка датафреймов\n",
      "11-Nov-19 15:25:33, root, DEBUG: -- Длина рекомендаций: 6898641\n",
      "11-Nov-19 15:25:33, root, DEBUG: -- Дополняем рекомендации популярными\n",
      "11-Nov-19 15:25:40, root, DEBUG: -- Длина рекомендаций: 8195620\n",
      "11-Nov-19 15:25:40, root, DEBUG: -- Подсчет метрики в оптимизации\n",
      "11-Nov-19 15:26:31, root, DEBUG: -- Метрики: hit_rate=0.0563, ndcg=0.0098, precision=0.0030, map_metric=0.0028\n",
      "[I 2019-11-11 15:26:31,738] Finished trial#1 resulted in value: 0.05629836424822039. Current best value is 0.13994304274722352 with parameters: {'num_neighbours': 1.0, 'shrink': 0}.\n",
      "11-Nov-19 15:26:31, root, DEBUG: -- Параметры: {'num_neighbours': 3.0, 'shrink': 0}\n",
      "11-Nov-19 15:26:31, root, DEBUG: -- Второй фит модели в оптимизации\n",
      "11-Nov-19 15:26:31, root, DEBUG: -- Предикт модели в оптимизации\n",
      "11-Nov-19 15:26:31, root, DEBUG: Проверка датафреймов\n",
      "11-Nov-19 15:26:33, root, DEBUG: -- Длина рекомендаций: 6898641\n",
      "11-Nov-19 15:26:33, root, DEBUG: -- Дополняем рекомендации популярными\n",
      "11-Nov-19 15:26:42, root, DEBUG: -- Длина рекомендаций: 8195620\n",
      "11-Nov-19 15:26:42, root, DEBUG: -- Подсчет метрики в оптимизации\n",
      "11-Nov-19 15:27:42, root, DEBUG: -- Метрики: hit_rate=0.0563, ndcg=0.0098, precision=0.0030, map_metric=0.0028\n",
      "[I 2019-11-11 15:27:42,441] Finished trial#2 resulted in value: 0.05629836424822039. Current best value is 0.13994304274722352 with parameters: {'num_neighbours': 1.0, 'shrink': 0}.\n",
      "11-Nov-19 15:27:42, root, DEBUG: -- Параметры: {'num_neighbours': 4.0, 'shrink': 0}\n",
      "11-Nov-19 15:27:42, root, DEBUG: -- Второй фит модели в оптимизации\n",
      "11-Nov-19 15:27:42, root, DEBUG: -- Предикт модели в оптимизации\n",
      "11-Nov-19 15:27:42, root, DEBUG: Проверка датафреймов\n",
      "11-Nov-19 15:28:07, root, DEBUG: -- Длина рекомендаций: 7343777\n",
      "11-Nov-19 15:28:07, root, DEBUG: -- Дополняем рекомендации популярными\n",
      "11-Nov-19 15:28:14, root, DEBUG: -- Длина рекомендаций: 8195620\n",
      "11-Nov-19 15:28:14, root, DEBUG: -- Подсчет метрики в оптимизации\n",
      "11-Nov-19 15:29:09, root, DEBUG: -- Метрики: hit_rate=0.0412, ndcg=0.0070, precision=0.0022, map_metric=0.0020\n",
      "[I 2019-11-11 15:29:09,442] Finished trial#3 resulted in value: 0.04122201859041781. Current best value is 0.13994304274722352 with parameters: {'num_neighbours': 1.0, 'shrink': 0}.\n",
      "11-Nov-19 15:29:09, root, DEBUG: Лучшие значения метрики: 0.13994304274722352\n",
      "11-Nov-19 15:29:09, root, DEBUG: Лучшие параметры: {'num_neighbours': 1.0, 'shrink': 0}\n"
     ]
    },
    {
     "name": "stdout",
     "output_type": "stream",
     "text": [
      "CPU times: user 1.09 s, sys: 208 ms, total: 1.3 s\n",
      "Wall time: 5min 31s\n"
     ]
    }
   ],
   "source": [
    "%%time\n",
    "\n",
    "knn_params_grid = {\n",
    "    'num_neighbours': (1, 5, 1), \n",
    "    'shrink': [0]\n",
    "}\n",
    "\n",
    "best_params = knn_scenario.research(\n",
    "    knn_params_grid,\n",
    "    df,\n",
    "    users=None, items=None,\n",
    "    user_features=None,\n",
    "    item_features=None,\n",
    "    test_start=None,\n",
    "    test_size=0.2,\n",
    "    k=20, context='no_context',\n",
    "    to_filter_seen_items=True,\n",
    "    n_trials=4, \n",
    "    n_jobs=1,\n",
    "    how_to_split='randomly'\n",
    ")"
   ]
  },
  {
   "cell_type": "code",
   "execution_count": 44,
   "metadata": {},
   "outputs": [
    {
     "data": {
      "text/html": [
       "<div>\n",
       "<style scoped>\n",
       "    .dataframe tbody tr th:only-of-type {\n",
       "        vertical-align: middle;\n",
       "    }\n",
       "\n",
       "    .dataframe tbody tr th {\n",
       "        vertical-align: top;\n",
       "    }\n",
       "\n",
       "    .dataframe thead tr th {\n",
       "        text-align: left;\n",
       "    }\n",
       "</style>\n",
       "<table border=\"1\" class=\"dataframe\">\n",
       "  <thead>\n",
       "    <tr>\n",
       "      <th></th>\n",
       "      <th>number</th>\n",
       "      <th>state</th>\n",
       "      <th>value</th>\n",
       "      <th>datetime_start</th>\n",
       "      <th>datetime_complete</th>\n",
       "      <th colspan=\"2\" halign=\"left\">params</th>\n",
       "      <th colspan=\"4\" halign=\"left\">user_attrs</th>\n",
       "      <th>system_attrs</th>\n",
       "    </tr>\n",
       "    <tr>\n",
       "      <th></th>\n",
       "      <th></th>\n",
       "      <th></th>\n",
       "      <th></th>\n",
       "      <th></th>\n",
       "      <th></th>\n",
       "      <th>num_neighbours</th>\n",
       "      <th>shrink</th>\n",
       "      <th>HitRate@k</th>\n",
       "      <th>MAP@k</th>\n",
       "      <th>nDCG@k</th>\n",
       "      <th>precision@k</th>\n",
       "      <th>_number</th>\n",
       "    </tr>\n",
       "  </thead>\n",
       "  <tbody>\n",
       "    <tr>\n",
       "      <th>0</th>\n",
       "      <td>0</td>\n",
       "      <td>TrialState.COMPLETE</td>\n",
       "      <td>0.139943</td>\n",
       "      <td>2019-11-11 15:23:43.604098</td>\n",
       "      <td>2019-11-11 15:25:12.524270</td>\n",
       "      <td>1.0</td>\n",
       "      <td>0</td>\n",
       "      <td>0.139943</td>\n",
       "      <td>0.007845</td>\n",
       "      <td>0.024849</td>\n",
       "      <td>0.007642</td>\n",
       "      <td>0</td>\n",
       "    </tr>\n",
       "    <tr>\n",
       "      <th>1</th>\n",
       "      <td>1</td>\n",
       "      <td>TrialState.COMPLETE</td>\n",
       "      <td>0.056298</td>\n",
       "      <td>2019-11-11 15:25:12.527285</td>\n",
       "      <td>2019-11-11 15:26:31.737546</td>\n",
       "      <td>3.0</td>\n",
       "      <td>0</td>\n",
       "      <td>0.056298</td>\n",
       "      <td>0.002814</td>\n",
       "      <td>0.009826</td>\n",
       "      <td>0.002983</td>\n",
       "      <td>1</td>\n",
       "    </tr>\n",
       "    <tr>\n",
       "      <th>2</th>\n",
       "      <td>2</td>\n",
       "      <td>TrialState.COMPLETE</td>\n",
       "      <td>0.056298</td>\n",
       "      <td>2019-11-11 15:26:31.740371</td>\n",
       "      <td>2019-11-11 15:27:42.441122</td>\n",
       "      <td>3.0</td>\n",
       "      <td>0</td>\n",
       "      <td>0.056298</td>\n",
       "      <td>0.002814</td>\n",
       "      <td>0.009826</td>\n",
       "      <td>0.002983</td>\n",
       "      <td>2</td>\n",
       "    </tr>\n",
       "    <tr>\n",
       "      <th>3</th>\n",
       "      <td>3</td>\n",
       "      <td>TrialState.COMPLETE</td>\n",
       "      <td>0.041222</td>\n",
       "      <td>2019-11-11 15:27:42.444185</td>\n",
       "      <td>2019-11-11 15:29:09.441016</td>\n",
       "      <td>4.0</td>\n",
       "      <td>0</td>\n",
       "      <td>0.041222</td>\n",
       "      <td>0.001955</td>\n",
       "      <td>0.006967</td>\n",
       "      <td>0.002177</td>\n",
       "      <td>3</td>\n",
       "    </tr>\n",
       "    <tr>\n",
       "      <th>0</th>\n",
       "      <td>0</td>\n",
       "      <td>TrialState.COMPLETE</td>\n",
       "      <td>0.003580</td>\n",
       "      <td>2019-11-11 13:56:35.289337</td>\n",
       "      <td>2019-11-11 14:07:37.675145</td>\n",
       "      <td>69.0</td>\n",
       "      <td>0</td>\n",
       "      <td>0.003580</td>\n",
       "      <td>0.000123</td>\n",
       "      <td>0.000396</td>\n",
       "      <td>0.000187</td>\n",
       "      <td>0</td>\n",
       "    </tr>\n",
       "    <tr>\n",
       "      <th>1</th>\n",
       "      <td>1</td>\n",
       "      <td>TrialState.COMPLETE</td>\n",
       "      <td>0.011804</td>\n",
       "      <td>2019-11-11 14:07:37.678487</td>\n",
       "      <td>2019-11-11 14:09:31.893613</td>\n",
       "      <td>12.0</td>\n",
       "      <td>0</td>\n",
       "      <td>0.011804</td>\n",
       "      <td>0.000420</td>\n",
       "      <td>0.001477</td>\n",
       "      <td>0.000628</td>\n",
       "      <td>1</td>\n",
       "    </tr>\n",
       "    <tr>\n",
       "      <th>2</th>\n",
       "      <td>2</td>\n",
       "      <td>TrialState.COMPLETE</td>\n",
       "      <td>0.004415</td>\n",
       "      <td>2019-11-11 14:09:31.897127</td>\n",
       "      <td>2019-11-11 14:13:12.463589</td>\n",
       "      <td>48.0</td>\n",
       "      <td>0</td>\n",
       "      <td>0.004415</td>\n",
       "      <td>0.000146</td>\n",
       "      <td>0.000482</td>\n",
       "      <td>0.000231</td>\n",
       "      <td>2</td>\n",
       "    </tr>\n",
       "    <tr>\n",
       "      <th>3</th>\n",
       "      <td>3</td>\n",
       "      <td>TrialState.COMPLETE</td>\n",
       "      <td>0.016680</td>\n",
       "      <td>2019-11-11 14:13:12.466935</td>\n",
       "      <td>2019-11-11 14:14:59.744020</td>\n",
       "      <td>9.0</td>\n",
       "      <td>0</td>\n",
       "      <td>0.016680</td>\n",
       "      <td>0.000635</td>\n",
       "      <td>0.002324</td>\n",
       "      <td>0.000885</td>\n",
       "      <td>3</td>\n",
       "    </tr>\n",
       "    <tr>\n",
       "      <th>4</th>\n",
       "      <td>4</td>\n",
       "      <td>TrialState.COMPLETE</td>\n",
       "      <td>0.006389</td>\n",
       "      <td>2019-11-11 14:14:59.747354</td>\n",
       "      <td>2019-11-11 14:17:36.119107</td>\n",
       "      <td>24.0</td>\n",
       "      <td>0</td>\n",
       "      <td>0.006389</td>\n",
       "      <td>0.000207</td>\n",
       "      <td>0.000710</td>\n",
       "      <td>0.000339</td>\n",
       "      <td>4</td>\n",
       "    </tr>\n",
       "    <tr>\n",
       "      <th>5</th>\n",
       "      <td>5</td>\n",
       "      <td>TrialState.COMPLETE</td>\n",
       "      <td>0.008797</td>\n",
       "      <td>2019-11-11 14:17:36.122595</td>\n",
       "      <td>2019-11-11 14:19:41.261222</td>\n",
       "      <td>18.0</td>\n",
       "      <td>0</td>\n",
       "      <td>0.008797</td>\n",
       "      <td>0.000295</td>\n",
       "      <td>0.001041</td>\n",
       "      <td>0.000463</td>\n",
       "      <td>5</td>\n",
       "    </tr>\n",
       "    <tr>\n",
       "      <th>6</th>\n",
       "      <td>6</td>\n",
       "      <td>TrialState.COMPLETE</td>\n",
       "      <td>0.002911</td>\n",
       "      <td>2019-11-11 14:19:41.264938</td>\n",
       "      <td>2019-11-11 14:25:33.513099</td>\n",
       "      <td>99.0</td>\n",
       "      <td>0</td>\n",
       "      <td>0.002911</td>\n",
       "      <td>0.000094</td>\n",
       "      <td>0.000313</td>\n",
       "      <td>0.000151</td>\n",
       "      <td>6</td>\n",
       "    </tr>\n",
       "    <tr>\n",
       "      <th>7</th>\n",
       "      <td>7</td>\n",
       "      <td>TrialState.COMPLETE</td>\n",
       "      <td>0.004297</td>\n",
       "      <td>2019-11-11 14:25:33.517042</td>\n",
       "      <td>2019-11-11 14:29:14.168380</td>\n",
       "      <td>51.0</td>\n",
       "      <td>0</td>\n",
       "      <td>0.004297</td>\n",
       "      <td>0.000150</td>\n",
       "      <td>0.000480</td>\n",
       "      <td>0.000225</td>\n",
       "      <td>7</td>\n",
       "    </tr>\n",
       "    <tr>\n",
       "      <th>8</th>\n",
       "      <td>8</td>\n",
       "      <td>TrialState.COMPLETE</td>\n",
       "      <td>0.003373</td>\n",
       "      <td>2019-11-11 14:29:14.172697</td>\n",
       "      <td>2019-11-11 14:33:52.842318</td>\n",
       "      <td>75.0</td>\n",
       "      <td>0</td>\n",
       "      <td>0.003373</td>\n",
       "      <td>0.000113</td>\n",
       "      <td>0.000368</td>\n",
       "      <td>0.000176</td>\n",
       "      <td>8</td>\n",
       "    </tr>\n",
       "    <tr>\n",
       "      <th>9</th>\n",
       "      <td>9</td>\n",
       "      <td>TrialState.COMPLETE</td>\n",
       "      <td>0.026790</td>\n",
       "      <td>2019-11-11 14:33:52.846544</td>\n",
       "      <td>2019-11-11 14:35:33.600948</td>\n",
       "      <td>6.0</td>\n",
       "      <td>0</td>\n",
       "      <td>0.026790</td>\n",
       "      <td>0.001136</td>\n",
       "      <td>0.004156</td>\n",
       "      <td>0.001413</td>\n",
       "      <td>9</td>\n",
       "    </tr>\n",
       "  </tbody>\n",
       "</table>\n",
       "</div>"
      ],
      "text/plain": [
       "  number                state     value             datetime_start  \\\n",
       "                                                                     \n",
       "0  0      TrialState.COMPLETE  0.139943 2019-11-11 15:23:43.604098   \n",
       "1  1      TrialState.COMPLETE  0.056298 2019-11-11 15:25:12.527285   \n",
       "2  2      TrialState.COMPLETE  0.056298 2019-11-11 15:26:31.740371   \n",
       "3  3      TrialState.COMPLETE  0.041222 2019-11-11 15:27:42.444185   \n",
       "0  0      TrialState.COMPLETE  0.003580 2019-11-11 13:56:35.289337   \n",
       "1  1      TrialState.COMPLETE  0.011804 2019-11-11 14:07:37.678487   \n",
       "2  2      TrialState.COMPLETE  0.004415 2019-11-11 14:09:31.897127   \n",
       "3  3      TrialState.COMPLETE  0.016680 2019-11-11 14:13:12.466935   \n",
       "4  4      TrialState.COMPLETE  0.006389 2019-11-11 14:14:59.747354   \n",
       "5  5      TrialState.COMPLETE  0.008797 2019-11-11 14:17:36.122595   \n",
       "6  6      TrialState.COMPLETE  0.002911 2019-11-11 14:19:41.264938   \n",
       "7  7      TrialState.COMPLETE  0.004297 2019-11-11 14:25:33.517042   \n",
       "8  8      TrialState.COMPLETE  0.003373 2019-11-11 14:29:14.172697   \n",
       "9  9      TrialState.COMPLETE  0.026790 2019-11-11 14:33:52.846544   \n",
       "\n",
       "           datetime_complete         params        user_attrs            \\\n",
       "                             num_neighbours shrink  HitRate@k     MAP@k   \n",
       "0 2019-11-11 15:25:12.524270  1.0            0      0.139943   0.007845   \n",
       "1 2019-11-11 15:26:31.737546  3.0            0      0.056298   0.002814   \n",
       "2 2019-11-11 15:27:42.441122  3.0            0      0.056298   0.002814   \n",
       "3 2019-11-11 15:29:09.441016  4.0            0      0.041222   0.001955   \n",
       "0 2019-11-11 14:07:37.675145  69.0           0      0.003580   0.000123   \n",
       "1 2019-11-11 14:09:31.893613  12.0           0      0.011804   0.000420   \n",
       "2 2019-11-11 14:13:12.463589  48.0           0      0.004415   0.000146   \n",
       "3 2019-11-11 14:14:59.744020  9.0            0      0.016680   0.000635   \n",
       "4 2019-11-11 14:17:36.119107  24.0           0      0.006389   0.000207   \n",
       "5 2019-11-11 14:19:41.261222  18.0           0      0.008797   0.000295   \n",
       "6 2019-11-11 14:25:33.513099  99.0           0      0.002911   0.000094   \n",
       "7 2019-11-11 14:29:14.168380  51.0           0      0.004297   0.000150   \n",
       "8 2019-11-11 14:33:52.842318  75.0           0      0.003373   0.000113   \n",
       "9 2019-11-11 14:35:33.600948  6.0            0      0.026790   0.001136   \n",
       "\n",
       "                        system_attrs  \n",
       "     nDCG@k precision@k      _number  \n",
       "0  0.024849  0.007642    0            \n",
       "1  0.009826  0.002983    1            \n",
       "2  0.009826  0.002983    2            \n",
       "3  0.006967  0.002177    3            \n",
       "0  0.000396  0.000187    0            \n",
       "1  0.001477  0.000628    1            \n",
       "2  0.000482  0.000231    2            \n",
       "3  0.002324  0.000885    3            \n",
       "4  0.000710  0.000339    4            \n",
       "5  0.001041  0.000463    5            \n",
       "6  0.000313  0.000151    6            \n",
       "7  0.000480  0.000225    7            \n",
       "8  0.000368  0.000176    8            \n",
       "9  0.004156  0.001413    9            "
      ]
     },
     "execution_count": 44,
     "metadata": {},
     "output_type": "execute_result"
    }
   ],
   "source": [
    "knn_results = pd.concat([knn_scenario.study.trials_dataframe(), knn_results])\n",
    "\n",
    "knn_results"
   ]
  }
 ],
 "metadata": {
  "kernelspec": {
   "display_name": "Python 3",
   "language": "python",
   "name": "python3"
  },
  "language_info": {
   "codemirror_mode": {
    "name": "ipython",
    "version": 3
   },
   "file_extension": ".py",
   "mimetype": "text/x-python",
   "name": "python",
   "nbconvert_exporter": "python",
   "pygments_lexer": "ipython3",
   "version": "3.6.5"
  },
  "pycharm": {
   "stem_cell": {
    "cell_type": "raw",
    "source": [],
    "metadata": {
     "collapsed": false
    }
   }
  }
 },
 "nbformat": 4,
 "nbformat_minor": 2
}