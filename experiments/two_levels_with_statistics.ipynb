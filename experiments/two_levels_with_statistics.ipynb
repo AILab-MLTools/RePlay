{
 "cells": [
  {
   "cell_type": "code",
   "execution_count": 1,
   "metadata": {
    "scrolled": true
   },
   "outputs": [],
   "source": [
    "%load_ext autoreload\n",
    "%autoreload 2"
   ]
  },
  {
   "cell_type": "code",
   "execution_count": 2,
   "metadata": {
    "scrolled": true
   },
   "outputs": [
    {
     "data": {
      "text/html": [
       "\n",
       "            <div>\n",
       "                <p><b>SparkSession - hive</b></p>\n",
       "                \n",
       "        <div>\n",
       "            <p><b>SparkContext</b></p>\n",
       "\n",
       "            <p><a href=\"http://localhost:4042\">Spark UI</a></p>\n",
       "\n",
       "            <dl>\n",
       "              <dt>Version</dt>\n",
       "                <dd><code>v3.0.0</code></dd>\n",
       "              <dt>Master</dt>\n",
       "                <dd><code>local[*]</code></dd>\n",
       "              <dt>AppName</dt>\n",
       "                <dd><code>pyspark-shell</code></dd>\n",
       "            </dl>\n",
       "        </div>\n",
       "        \n",
       "            </div>\n",
       "        "
      ],
      "text/plain": [
       "<pyspark.sql.session.SparkSession at 0x10d353fd0>"
      ]
     },
     "execution_count": 2,
     "metadata": {},
     "output_type": "execute_result"
    }
   ],
   "source": [
    "from replay.session_handler import State\n",
    "\n",
    "spark = State().session\n",
    "spark"
   ]
  },
  {
   "cell_type": "code",
   "execution_count": 4,
   "metadata": {},
   "outputs": [
    {
     "name": "stdout",
     "output_type": "stream",
     "text": [
      "ratings\n"
     ]
    },
    {
     "data": {
      "text/html": [
       "<div>\n",
       "<style scoped>\n",
       "    .dataframe tbody tr th:only-of-type {\n",
       "        vertical-align: middle;\n",
       "    }\n",
       "\n",
       "    .dataframe tbody tr th {\n",
       "        vertical-align: top;\n",
       "    }\n",
       "\n",
       "    .dataframe thead th {\n",
       "        text-align: right;\n",
       "    }\n",
       "</style>\n",
       "<table border=\"1\" class=\"dataframe\">\n",
       "  <thead>\n",
       "    <tr style=\"text-align: right;\">\n",
       "      <th></th>\n",
       "      <th>user_id</th>\n",
       "      <th>item_id</th>\n",
       "      <th>rating</th>\n",
       "      <th>timestamp</th>\n",
       "    </tr>\n",
       "  </thead>\n",
       "  <tbody>\n",
       "    <tr>\n",
       "      <th>0</th>\n",
       "      <td>1</td>\n",
       "      <td>1193</td>\n",
       "      <td>5</td>\n",
       "      <td>978300760</td>\n",
       "    </tr>\n",
       "    <tr>\n",
       "      <th>1</th>\n",
       "      <td>1</td>\n",
       "      <td>661</td>\n",
       "      <td>3</td>\n",
       "      <td>978302109</td>\n",
       "    </tr>\n",
       "    <tr>\n",
       "      <th>2</th>\n",
       "      <td>1</td>\n",
       "      <td>914</td>\n",
       "      <td>3</td>\n",
       "      <td>978301968</td>\n",
       "    </tr>\n",
       "  </tbody>\n",
       "</table>\n",
       "</div>"
      ],
      "text/plain": [
       "   user_id  item_id  rating  timestamp\n",
       "0        1     1193       5  978300760\n",
       "1        1      661       3  978302109\n",
       "2        1      914       3  978301968"
      ]
     },
     "metadata": {},
     "output_type": "display_data"
    },
    {
     "name": "stdout",
     "output_type": "stream",
     "text": [
      "\n",
      "users\n"
     ]
    },
    {
     "data": {
      "text/html": [
       "<div>\n",
       "<style scoped>\n",
       "    .dataframe tbody tr th:only-of-type {\n",
       "        vertical-align: middle;\n",
       "    }\n",
       "\n",
       "    .dataframe tbody tr th {\n",
       "        vertical-align: top;\n",
       "    }\n",
       "\n",
       "    .dataframe thead th {\n",
       "        text-align: right;\n",
       "    }\n",
       "</style>\n",
       "<table border=\"1\" class=\"dataframe\">\n",
       "  <thead>\n",
       "    <tr style=\"text-align: right;\">\n",
       "      <th></th>\n",
       "      <th>user_id</th>\n",
       "      <th>gender</th>\n",
       "      <th>age</th>\n",
       "      <th>occupation</th>\n",
       "      <th>zip_code</th>\n",
       "    </tr>\n",
       "  </thead>\n",
       "  <tbody>\n",
       "    <tr>\n",
       "      <th>0</th>\n",
       "      <td>1</td>\n",
       "      <td>F</td>\n",
       "      <td>1</td>\n",
       "      <td>10</td>\n",
       "      <td>48067</td>\n",
       "    </tr>\n",
       "    <tr>\n",
       "      <th>1</th>\n",
       "      <td>2</td>\n",
       "      <td>M</td>\n",
       "      <td>56</td>\n",
       "      <td>16</td>\n",
       "      <td>70072</td>\n",
       "    </tr>\n",
       "    <tr>\n",
       "      <th>2</th>\n",
       "      <td>3</td>\n",
       "      <td>M</td>\n",
       "      <td>25</td>\n",
       "      <td>15</td>\n",
       "      <td>55117</td>\n",
       "    </tr>\n",
       "  </tbody>\n",
       "</table>\n",
       "</div>"
      ],
      "text/plain": [
       "   user_id gender  age  occupation zip_code\n",
       "0        1      F    1          10    48067\n",
       "1        2      M   56          16    70072\n",
       "2        3      M   25          15    55117"
      ]
     },
     "metadata": {},
     "output_type": "display_data"
    },
    {
     "name": "stdout",
     "output_type": "stream",
     "text": [
      "\n",
      "items\n"
     ]
    },
    {
     "data": {
      "text/html": [
       "<div>\n",
       "<style scoped>\n",
       "    .dataframe tbody tr th:only-of-type {\n",
       "        vertical-align: middle;\n",
       "    }\n",
       "\n",
       "    .dataframe tbody tr th {\n",
       "        vertical-align: top;\n",
       "    }\n",
       "\n",
       "    .dataframe thead th {\n",
       "        text-align: right;\n",
       "    }\n",
       "</style>\n",
       "<table border=\"1\" class=\"dataframe\">\n",
       "  <thead>\n",
       "    <tr style=\"text-align: right;\">\n",
       "      <th></th>\n",
       "      <th>item_id</th>\n",
       "      <th>title</th>\n",
       "      <th>genres</th>\n",
       "    </tr>\n",
       "  </thead>\n",
       "  <tbody>\n",
       "    <tr>\n",
       "      <th>0</th>\n",
       "      <td>1</td>\n",
       "      <td>Toy Story (1995)</td>\n",
       "      <td>Animation|Children's|Comedy</td>\n",
       "    </tr>\n",
       "    <tr>\n",
       "      <th>1</th>\n",
       "      <td>2</td>\n",
       "      <td>Jumanji (1995)</td>\n",
       "      <td>Adventure|Children's|Fantasy</td>\n",
       "    </tr>\n",
       "    <tr>\n",
       "      <th>2</th>\n",
       "      <td>3</td>\n",
       "      <td>Grumpier Old Men (1995)</td>\n",
       "      <td>Comedy|Romance</td>\n",
       "    </tr>\n",
       "  </tbody>\n",
       "</table>\n",
       "</div>"
      ],
      "text/plain": [
       "   item_id                    title                        genres\n",
       "0        1         Toy Story (1995)   Animation|Children's|Comedy\n",
       "1        2           Jumanji (1995)  Adventure|Children's|Fantasy\n",
       "2        3  Grumpier Old Men (1995)                Comedy|Romance"
      ]
     },
     "metadata": {},
     "output_type": "display_data"
    },
    {
     "name": "stdout",
     "output_type": "stream",
     "text": [
      "\n"
     ]
    }
   ],
   "source": [
    "from rs_datasets import MovieLens\n",
    "\n",
    "data = MovieLens(\"1m\")\n",
    "data.info()"
   ]
  },
  {
   "cell_type": "code",
   "execution_count": 5,
   "metadata": {},
   "outputs": [],
   "source": [
    "from replay.data_preparator import DataPreparator\n",
    "\n",
    "log = DataPreparator().transform(\n",
    "    data=data.ratings,\n",
    "    columns_names={\n",
    "        \"user_id\": \"user_id\",\n",
    "        \"item_id\": \"item_id\",\n",
    "        \"relevance\": \"rating\",\n",
    "        \"timestamp\": \"timestamp\"\n",
    "    }\n",
    ")"
   ]
  },
  {
   "cell_type": "code",
   "execution_count": 6,
   "metadata": {},
   "outputs": [],
   "source": [
    "import pandas as pd\n",
    "from sklearn.preprocessing import MultiLabelBinarizer,LabelBinarizer\n",
    "\n",
    "mlb = MultiLabelBinarizer()\n",
    "lb = LabelBinarizer()\n",
    "item_features = pd.DataFrame(mlb.fit_transform(data.items.genres.apply(lambda x: x.split(\"|\"))),\n",
    "                   columns=list(map(lambda x: f\"genre_{x}\",mlb.classes_)),\n",
    "                   index=data.items.item_id).reset_index()"
   ]
  },
  {
   "cell_type": "code",
   "execution_count": 7,
   "metadata": {},
   "outputs": [],
   "source": [
    "item_features_spark = DataPreparator().transform(\n",
    "    data=item_features,\n",
    "    columns_names={\n",
    "        \"item_id\": \"item_id\"\n",
    "    }\n",
    ").drop(\"timestamp\")"
   ]
  },
  {
   "cell_type": "code",
   "execution_count": 8,
   "metadata": {},
   "outputs": [],
   "source": [
    "from replay.splitters import UserSplitter\n",
    "\n",
    "second_stage_splitter = UserSplitter(\n",
    "    drop_cold_items=True,\n",
    "    drop_cold_users=True,\n",
    "    item_test_size=10,\n",
    "    seed=1234,\n",
    "    shuffle=True\n",
    ")\n",
    "\n",
    "first_stage_splitter = UserSplitter(\n",
    "    drop_cold_items=False, item_test_size=0.5, shuffle=True, seed=42\n",
    ")\n"
   ]
  },
  {
   "cell_type": "code",
   "execution_count": 9,
   "metadata": {},
   "outputs": [
    {
     "name": "stderr",
     "output_type": "stream",
     "text": [
      "/Users/a18785698/Documents/code_dir/venv376/lib/python3.7/site-packages/lightfm/_lightfm_fast.py:9: UserWarning: LightFM was compiled without OpenMP support. Only a single thread will be used.\n",
      "  warnings.warn('LightFM was compiled without OpenMP support. '\n"
     ]
    }
   ],
   "source": [
    "from replay.models import ALSWrap\n",
    "# при 98 все падает с Java heap space error\n",
    "first_model = ALSWrap(rank=40)"
   ]
  },
  {
   "cell_type": "code",
   "execution_count": 10,
   "metadata": {},
   "outputs": [],
   "source": [
    "from replay.models import ClassifierRec\n",
    "from pyspark.ml.classification import RandomForestClassifier\n",
    "second_model = ClassifierRec(RandomForestClassifier(seed=47), use_recs_value=True)"
   ]
  },
  {
   "cell_type": "markdown",
   "metadata": {},
   "source": [
    "## Двухуровневый сценарий со статистическими фичами"
   ]
  },
  {
   "cell_type": "code",
   "execution_count": 11,
   "metadata": {},
   "outputs": [],
   "source": [
    "from replay.scenarios import TwoStagesScenario\n",
    "from replay.metrics import NDCG, HitRate, Precision, Recall, RocAuc\n",
    "\n",
    "two_stages_with_stat = TwoStagesScenario(\n",
    "    second_stage_splitter=second_stage_splitter,\n",
    "    second_model=second_model,\n",
    "    first_model=first_model,\n",
    "    metrics={NDCG(): [1, 5, 10], HitRate(): [1, 5, 10]},\n",
    "    calculate_statistical_features=True\n",
    ")"
   ]
  },
  {
   "cell_type": "code",
   "execution_count": 12,
   "metadata": {},
   "outputs": [
    {
     "name": "stderr",
     "output_type": "stream",
     "text": [
      "08-Dec-20 18:11:49, replay, DEBUG: mixed_train stat: total lines: 939809, total users: 6040, total items: 3699\n",
      "DEBUG:replay:mixed_train stat: total lines: 939809, total users: 6040, total items: 3699\n",
      "08-Dec-20 18:11:53, replay, DEBUG: test stat: total lines: 60393, total users: 6040, total items: 3051\n",
      "DEBUG:replay:test stat: total lines: 60393, total users: 6040, total items: 3051\n",
      "08-Dec-20 18:11:58, replay, DEBUG: first_train stat: total lines: 471386, total users: 6040, total items: 3604\n",
      "DEBUG:replay:first_train stat: total lines: 471386, total users: 6040, total items: 3604\n",
      "08-Dec-20 18:11:59, replay, DEBUG: first_test stat: total lines: 468423, total users: 6040, total items: 3611\n",
      "DEBUG:replay:first_test stat: total lines: 468423, total users: 6040, total items: 3611\n",
      "08-Dec-20 18:11:59, replay, DEBUG: Начало обучения ALSWrap\n",
      "DEBUG:replay:Начало обучения ALSWrap\n",
      "08-Dec-20 18:11:59, replay, DEBUG: Предварительная стадия обучения (pre-fit)\n",
      "DEBUG:replay:Предварительная стадия обучения (pre-fit)\n",
      "08-Dec-20 18:12:01, replay, DEBUG: Основная стадия обучения (fit)\n",
      "DEBUG:replay:Основная стадия обучения (fit)\n",
      "08-Dec-20 18:12:20, replay, DEBUG: Начало предикта ALSWrap\n",
      "DEBUG:replay:Начало предикта ALSWrap\n",
      "08-Dec-20 18:13:42, replay, DEBUG: баланс классов: положительных 164401 из 604000\n",
      "DEBUG:replay:баланс классов: положительных 164401 из 604000\n",
      "08-Dec-20 18:13:42, replay, DEBUG: Начало предикта ALSWrap\n",
      "DEBUG:replay:Начало предикта ALSWrap\n",
      "08-Dec-20 18:13:46, replay, WARNING: Список item содержит элементы, которые отсутствовали при обучении. Результат предсказания будет не полным.\n",
      "WARNING:replay:Список item содержит элементы, которые отсутствовали при обучении. Результат предсказания будет не полным.\n",
      "08-Dec-20 18:13:48, replay, DEBUG: Начало обучения ClassifierRec\n",
      "DEBUG:replay:Начало обучения ClassifierRec\n",
      "08-Dec-20 18:13:48, replay, DEBUG: Предварительная стадия обучения (pre-fit)\n",
      "DEBUG:replay:Предварительная стадия обучения (pre-fit)\n",
      "08-Dec-20 18:13:52, replay, DEBUG: Основная стадия обучения (fit)\n",
      "DEBUG:replay:Основная стадия обучения (fit)\n",
      "08-Dec-20 18:15:28, replay, DEBUG: ROC AUC модели второго уровня (как классификатора): 0.8038\n",
      "DEBUG:replay:ROC AUC модели второго уровня (как классификатора): 0.8038\n",
      "/Users/a18785698/Documents/code_dir/venv376/lib/python3.7/site-packages/pyspark/sql/pandas/group_ops.py:76: UserWarning: It is preferred to use 'applyInPandas' over this API. This API will be deprecated in the future releases. See SPARK-28264 for more details.\n",
      "  \"more details.\", UserWarning)\n"
     ]
    },
    {
     "name": "stdout",
     "output_type": "stream",
     "text": [
      "CPU times: user 4.14 s, sys: 1.09 s, total: 5.23 s\n",
      "Wall time: 4min 54s\n"
     ]
    },
    {
     "data": {
      "text/html": [
       "<div>\n",
       "<style scoped>\n",
       "    .dataframe tbody tr th:only-of-type {\n",
       "        vertical-align: middle;\n",
       "    }\n",
       "\n",
       "    .dataframe tbody tr th {\n",
       "        vertical-align: top;\n",
       "    }\n",
       "\n",
       "    .dataframe thead th {\n",
       "        text-align: right;\n",
       "    }\n",
       "</style>\n",
       "<table border=\"1\" class=\"dataframe\">\n",
       "  <thead>\n",
       "    <tr style=\"text-align: right;\">\n",
       "      <th></th>\n",
       "      <th>HitRate@1</th>\n",
       "      <th>HitRate@5</th>\n",
       "      <th>HitRate@10</th>\n",
       "      <th>NDCG@1</th>\n",
       "      <th>NDCG@5</th>\n",
       "      <th>NDCG@10</th>\n",
       "    </tr>\n",
       "  </thead>\n",
       "  <tbody>\n",
       "    <tr>\n",
       "      <th>two_stages_scenario</th>\n",
       "      <td>0.265232</td>\n",
       "      <td>0.645861</td>\n",
       "      <td>0.805795</td>\n",
       "      <td>0.265232</td>\n",
       "      <td>0.216265</td>\n",
       "      <td>0.18537</td>\n",
       "    </tr>\n",
       "  </tbody>\n",
       "</table>\n",
       "</div>"
      ],
      "text/plain": [
       "                     HitRate@1  HitRate@5  HitRate@10    NDCG@1    NDCG@5  \\\n",
       "two_stages_scenario   0.265232   0.645861    0.805795  0.265232  0.216265   \n",
       "\n",
       "                     NDCG@10  \n",
       "two_stages_scenario  0.18537  "
      ]
     },
     "execution_count": 12,
     "metadata": {},
     "output_type": "execute_result"
    }
   ],
   "source": [
    "%%time \n",
    "recs_with_stat = two_stages_with_stat.get_recs(log, 10, item_features=item_features_spark)\n",
    "two_stages_with_stat.experiment.results\n"
   ]
  },
  {
   "cell_type": "markdown",
   "metadata": {},
   "source": [
    "## Двухуровневый сценарий без статистических фичей"
   ]
  },
  {
   "cell_type": "code",
   "execution_count": 13,
   "metadata": {},
   "outputs": [
    {
     "name": "stderr",
     "output_type": "stream",
     "text": [
      "08-Dec-20 18:16:38, replay, DEBUG: mixed_train stat: total lines: 939809, total users: 6040, total items: 3699\n",
      "DEBUG:replay:mixed_train stat: total lines: 939809, total users: 6040, total items: 3699\n",
      "08-Dec-20 18:16:39, replay, DEBUG: test stat: total lines: 60393, total users: 6040, total items: 3051\n",
      "DEBUG:replay:test stat: total lines: 60393, total users: 6040, total items: 3051\n",
      "08-Dec-20 18:16:40, replay, DEBUG: first_train stat: total lines: 471386, total users: 6040, total items: 3604\n",
      "DEBUG:replay:first_train stat: total lines: 471386, total users: 6040, total items: 3604\n",
      "08-Dec-20 18:16:40, replay, DEBUG: first_test stat: total lines: 468423, total users: 6040, total items: 3611\n",
      "DEBUG:replay:first_test stat: total lines: 468423, total users: 6040, total items: 3611\n",
      "08-Dec-20 18:16:40, replay, DEBUG: Начало обучения ALSWrap\n",
      "DEBUG:replay:Начало обучения ALSWrap\n",
      "08-Dec-20 18:16:40, replay, DEBUG: Предварительная стадия обучения (pre-fit)\n",
      "DEBUG:replay:Предварительная стадия обучения (pre-fit)\n",
      "08-Dec-20 18:16:41, replay, DEBUG: Основная стадия обучения (fit)\n",
      "DEBUG:replay:Основная стадия обучения (fit)\n",
      "08-Dec-20 18:16:52, replay, DEBUG: Начало предикта ALSWrap\n",
      "DEBUG:replay:Начало предикта ALSWrap\n",
      "08-Dec-20 18:18:39, replay, DEBUG: баланс классов: положительных 164401 из 604000\n",
      "DEBUG:replay:баланс классов: положительных 164401 из 604000\n",
      "08-Dec-20 18:18:39, replay, DEBUG: Начало предикта ALSWrap\n",
      "DEBUG:replay:Начало предикта ALSWrap\n",
      "08-Dec-20 18:18:43, replay, WARNING: Список item содержит элементы, которые отсутствовали при обучении. Результат предсказания будет не полным.\n",
      "WARNING:replay:Список item содержит элементы, которые отсутствовали при обучении. Результат предсказания будет не полным.\n",
      "08-Dec-20 18:18:44, replay, DEBUG: Начало обучения ClassifierRec\n",
      "DEBUG:replay:Начало обучения ClassifierRec\n",
      "08-Dec-20 18:18:44, replay, DEBUG: Предварительная стадия обучения (pre-fit)\n",
      "DEBUG:replay:Предварительная стадия обучения (pre-fit)\n",
      "08-Dec-20 18:18:46, replay, DEBUG: Основная стадия обучения (fit)\n",
      "DEBUG:replay:Основная стадия обучения (fit)\n",
      "08-Dec-20 18:21:14, replay, DEBUG: ROC AUC модели второго уровня (как классификатора): 0.8013\n",
      "DEBUG:replay:ROC AUC модели второго уровня (как классификатора): 0.8013\n",
      "/Users/a18785698/Documents/code_dir/venv376/lib/python3.7/site-packages/pyspark/sql/pandas/group_ops.py:76: UserWarning: It is preferred to use 'applyInPandas' over this API. This API will be deprecated in the future releases. See SPARK-28264 for more details.\n",
      "  \"more details.\", UserWarning)\n"
     ]
    },
    {
     "name": "stdout",
     "output_type": "stream",
     "text": [
      "CPU times: user 4.32 s, sys: 1.08 s, total: 5.4 s\n",
      "Wall time: 5min 50s\n"
     ]
    },
    {
     "data": {
      "text/html": [
       "<div>\n",
       "<style scoped>\n",
       "    .dataframe tbody tr th:only-of-type {\n",
       "        vertical-align: middle;\n",
       "    }\n",
       "\n",
       "    .dataframe tbody tr th {\n",
       "        vertical-align: top;\n",
       "    }\n",
       "\n",
       "    .dataframe thead th {\n",
       "        text-align: right;\n",
       "    }\n",
       "</style>\n",
       "<table border=\"1\" class=\"dataframe\">\n",
       "  <thead>\n",
       "    <tr style=\"text-align: right;\">\n",
       "      <th></th>\n",
       "      <th>HitRate@1</th>\n",
       "      <th>HitRate@5</th>\n",
       "      <th>HitRate@10</th>\n",
       "      <th>NDCG@1</th>\n",
       "      <th>NDCG@5</th>\n",
       "      <th>NDCG@10</th>\n",
       "    </tr>\n",
       "  </thead>\n",
       "  <tbody>\n",
       "    <tr>\n",
       "      <th>two_stages_scenario</th>\n",
       "      <td>0.255629</td>\n",
       "      <td>0.600497</td>\n",
       "      <td>0.763742</td>\n",
       "      <td>0.255629</td>\n",
       "      <td>0.198136</td>\n",
       "      <td>0.168892</td>\n",
       "    </tr>\n",
       "  </tbody>\n",
       "</table>\n",
       "</div>"
      ],
      "text/plain": [
       "                     HitRate@1  HitRate@5  HitRate@10    NDCG@1    NDCG@5  \\\n",
       "two_stages_scenario   0.255629   0.600497    0.763742  0.255629  0.198136   \n",
       "\n",
       "                      NDCG@10  \n",
       "two_stages_scenario  0.168892  "
      ]
     },
     "execution_count": 13,
     "metadata": {},
     "output_type": "execute_result"
    }
   ],
   "source": [
    "%%time\n",
    "two_stages_without_stat = TwoStagesScenario(\n",
    "    second_stage_splitter=second_stage_splitter,\n",
    "    second_model=second_model,\n",
    "    first_model=first_model,\n",
    "    metrics={NDCG(): [1, 5, 10], HitRate(): [1, 5, 10]},\n",
    "    calculate_statistical_features=False\n",
    ")\n",
    "recs_without_stat = two_stages_without_stat.get_recs(log, 10, item_features=item_features_spark)\n",
    "two_stages_without_stat.experiment.results\n"
   ]
  },
  {
   "cell_type": "code",
   "execution_count": 14,
   "metadata": {},
   "outputs": [
    {
     "name": "stderr",
     "output_type": "stream",
     "text": [
      "/Users/a18785698/Documents/code_dir/venv376/lib/python3.7/site-packages/pyspark/sql/pandas/group_ops.py:76: UserWarning: It is preferred to use 'applyInPandas' over this API. This API will be deprecated in the future releases. See SPARK-28264 for more details.\n",
      "  \"more details.\", UserWarning)\n"
     ]
    },
    {
     "data": {
      "text/html": [
       "<div>\n",
       "<style scoped>\n",
       "    .dataframe tbody tr th:only-of-type {\n",
       "        vertical-align: middle;\n",
       "    }\n",
       "\n",
       "    .dataframe tbody tr th {\n",
       "        vertical-align: top;\n",
       "    }\n",
       "\n",
       "    .dataframe thead th {\n",
       "        text-align: right;\n",
       "    }\n",
       "</style>\n",
       "<table border=\"1\" class=\"dataframe\">\n",
       "  <thead>\n",
       "    <tr style=\"text-align: right;\">\n",
       "      <th></th>\n",
       "      <th>HitRate@1</th>\n",
       "      <th>HitRate@5</th>\n",
       "      <th>HitRate@10</th>\n",
       "      <th>NDCG@1</th>\n",
       "      <th>NDCG@5</th>\n",
       "      <th>NDCG@10</th>\n",
       "    </tr>\n",
       "  </thead>\n",
       "  <tbody>\n",
       "    <tr>\n",
       "      <th>two_stages_scenario</th>\n",
       "      <td>0.265232</td>\n",
       "      <td>0.645861</td>\n",
       "      <td>0.805795</td>\n",
       "      <td>0.265232</td>\n",
       "      <td>0.216265</td>\n",
       "      <td>0.185370</td>\n",
       "    </tr>\n",
       "    <tr>\n",
       "      <th>two_stages_without_stat</th>\n",
       "      <td>0.255629</td>\n",
       "      <td>0.600497</td>\n",
       "      <td>0.763742</td>\n",
       "      <td>0.255629</td>\n",
       "      <td>0.198136</td>\n",
       "      <td>0.168892</td>\n",
       "    </tr>\n",
       "  </tbody>\n",
       "</table>\n",
       "</div>"
      ],
      "text/plain": [
       "                         HitRate@1  HitRate@5  HitRate@10    NDCG@1    NDCG@5  \\\n",
       "two_stages_scenario       0.265232   0.645861    0.805795  0.265232  0.216265   \n",
       "two_stages_without_stat   0.255629   0.600497    0.763742  0.255629  0.198136   \n",
       "\n",
       "                          NDCG@10  \n",
       "two_stages_scenario      0.185370  \n",
       "two_stages_without_stat  0.168892  "
      ]
     },
     "execution_count": 14,
     "metadata": {},
     "output_type": "execute_result"
    }
   ],
   "source": [
    "two_stages_with_stat.experiment.add_result(\"two_stages_without_stat\", recs_without_stat)\n",
    "two_stages_with_stat.experiment.results"
   ]
  },
  {
   "cell_type": "markdown",
   "metadata": {},
   "source": [
    "## Модель первого уровня, обученная на всем train"
   ]
  },
  {
   "cell_type": "code",
   "execution_count": 15,
   "metadata": {
    "scrolled": true
   },
   "outputs": [],
   "source": [
    "train, test = second_stage_splitter.split(log)\n",
    "first_train, first_test = first_stage_splitter.split(train)\n"
   ]
  },
  {
   "cell_type": "code",
   "execution_count": 16,
   "metadata": {},
   "outputs": [
    {
     "name": "stderr",
     "output_type": "stream",
     "text": [
      "08-Dec-20 18:23:12, replay, DEBUG: Начало обучения ALSWrap\n",
      "DEBUG:replay:Начало обучения ALSWrap\n",
      "08-Dec-20 18:23:12, replay, DEBUG: Предварительная стадия обучения (pre-fit)\n",
      "DEBUG:replay:Предварительная стадия обучения (pre-fit)\n",
      "08-Dec-20 18:23:14, replay, DEBUG: Основная стадия обучения (fit)\n",
      "DEBUG:replay:Основная стадия обучения (fit)\n",
      "08-Dec-20 18:23:38, replay, DEBUG: Начало предикта ALSWrap\n",
      "DEBUG:replay:Начало предикта ALSWrap\n"
     ]
    },
    {
     "name": "stdout",
     "output_type": "stream",
     "text": [
      "CPU times: user 1.55 s, sys: 285 ms, total: 1.84 s\n",
      "Wall time: 33.7 s\n"
     ]
    }
   ],
   "source": [
    "%%time\n",
    "first_recs_all = first_model.fit_predict(\n",
    "    log=train,\n",
    "    k=10,\n",
    "    users=test.select(\"user_id\").distinct().cache(),\n",
    "    items=train.select(\"item_id\").distinct().cache(),\n",
    ")"
   ]
  },
  {
   "cell_type": "code",
   "execution_count": 17,
   "metadata": {
    "scrolled": true
   },
   "outputs": [
    {
     "name": "stderr",
     "output_type": "stream",
     "text": [
      "/Users/a18785698/Documents/code_dir/venv376/lib/python3.7/site-packages/pyspark/sql/pandas/group_ops.py:76: UserWarning: It is preferred to use 'applyInPandas' over this API. This API will be deprecated in the future releases. See SPARK-28264 for more details.\n",
      "  \"more details.\", UserWarning)\n"
     ]
    },
    {
     "data": {
      "text/html": [
       "<div>\n",
       "<style scoped>\n",
       "    .dataframe tbody tr th:only-of-type {\n",
       "        vertical-align: middle;\n",
       "    }\n",
       "\n",
       "    .dataframe tbody tr th {\n",
       "        vertical-align: top;\n",
       "    }\n",
       "\n",
       "    .dataframe thead th {\n",
       "        text-align: right;\n",
       "    }\n",
       "</style>\n",
       "<table border=\"1\" class=\"dataframe\">\n",
       "  <thead>\n",
       "    <tr style=\"text-align: right;\">\n",
       "      <th></th>\n",
       "      <th>HitRate@1</th>\n",
       "      <th>HitRate@5</th>\n",
       "      <th>HitRate@10</th>\n",
       "      <th>NDCG@1</th>\n",
       "      <th>NDCG@5</th>\n",
       "      <th>NDCG@10</th>\n",
       "    </tr>\n",
       "  </thead>\n",
       "  <tbody>\n",
       "    <tr>\n",
       "      <th>two_stages_scenario</th>\n",
       "      <td>0.265232</td>\n",
       "      <td>0.645861</td>\n",
       "      <td>0.805795</td>\n",
       "      <td>0.265232</td>\n",
       "      <td>0.216265</td>\n",
       "      <td>0.185370</td>\n",
       "    </tr>\n",
       "    <tr>\n",
       "      <th>two_stages_without_stat</th>\n",
       "      <td>0.255629</td>\n",
       "      <td>0.600497</td>\n",
       "      <td>0.763742</td>\n",
       "      <td>0.255629</td>\n",
       "      <td>0.198136</td>\n",
       "      <td>0.168892</td>\n",
       "    </tr>\n",
       "    <tr>\n",
       "      <th>first_stage_all</th>\n",
       "      <td>0.337086</td>\n",
       "      <td>0.725993</td>\n",
       "      <td>0.870695</td>\n",
       "      <td>0.337086</td>\n",
       "      <td>0.265648</td>\n",
       "      <td>0.224414</td>\n",
       "    </tr>\n",
       "  </tbody>\n",
       "</table>\n",
       "</div>"
      ],
      "text/plain": [
       "                         HitRate@1  HitRate@5  HitRate@10    NDCG@1    NDCG@5  \\\n",
       "two_stages_scenario       0.265232   0.645861    0.805795  0.265232  0.216265   \n",
       "two_stages_without_stat   0.255629   0.600497    0.763742  0.255629  0.198136   \n",
       "first_stage_all           0.337086   0.725993    0.870695  0.337086  0.265648   \n",
       "\n",
       "                          NDCG@10  \n",
       "two_stages_scenario      0.185370  \n",
       "two_stages_without_stat  0.168892  \n",
       "first_stage_all          0.224414  "
      ]
     },
     "execution_count": 17,
     "metadata": {},
     "output_type": "execute_result"
    }
   ],
   "source": [
    "two_stages_with_stat.experiment.add_result(\"first_stage_all\", first_recs_all)\n",
    "two_stages_with_stat.experiment.results"
   ]
  },
  {
   "cell_type": "markdown",
   "metadata": {},
   "source": [
    "## Модель первого уровня, обученная на половине train (как в двухуровневом сценарии)"
   ]
  },
  {
   "cell_type": "code",
   "execution_count": 18,
   "metadata": {},
   "outputs": [
    {
     "name": "stderr",
     "output_type": "stream",
     "text": [
      "08-Dec-20 18:27:08, replay, DEBUG: Начало обучения ALSWrap\n",
      "DEBUG:replay:Начало обучения ALSWrap\n",
      "08-Dec-20 18:27:08, replay, DEBUG: Предварительная стадия обучения (pre-fit)\n",
      "DEBUG:replay:Предварительная стадия обучения (pre-fit)\n",
      "08-Dec-20 18:27:08, replay, DEBUG: Основная стадия обучения (fit)\n",
      "DEBUG:replay:Основная стадия обучения (fit)\n",
      "08-Dec-20 18:27:21, replay, DEBUG: Начало предикта ALSWrap\n",
      "DEBUG:replay:Начало предикта ALSWrap\n",
      "08-Dec-20 18:27:21, replay, WARNING: Список item содержит элементы, которые отсутствовали при обучении. Результат предсказания будет не полным.\n",
      "WARNING:replay:Список item содержит элементы, которые отсутствовали при обучении. Результат предсказания будет не полным.\n",
      "08-Dec-20 18:27:23, replay, WARNING: Список item содержит элементы, которые отсутствовали при обучении. Результат предсказания будет не полным.\n",
      "WARNING:replay:Список item содержит элементы, которые отсутствовали при обучении. Результат предсказания будет не полным.\n",
      "/Users/a18785698/Documents/code_dir/venv376/lib/python3.7/site-packages/pyspark/sql/pandas/group_ops.py:76: UserWarning: It is preferred to use 'applyInPandas' over this API. This API will be deprecated in the future releases. See SPARK-28264 for more details.\n",
      "  \"more details.\", UserWarning)\n"
     ]
    },
    {
     "name": "stdout",
     "output_type": "stream",
     "text": [
      "CPU times: user 1.3 s, sys: 368 ms, total: 1.67 s\n",
      "Wall time: 3min 5s\n"
     ]
    }
   ],
   "source": [
    "%%time\n",
    "first_model.fit(log=first_train)\n",
    "first_model_half = first_model.predict(\n",
    "    log=train,\n",
    "    k=10,\n",
    "    users=test.select(\"user_id\").distinct().cache(),\n",
    "    items=train.select(\"item_id\").distinct().cache(),\n",
    ")\n",
    "\n",
    "two_stages_with_stat.experiment.add_result(\"first_stage_half\", first_model_half)"
   ]
  },
  {
   "cell_type": "code",
   "execution_count": 19,
   "metadata": {},
   "outputs": [
    {
     "data": {
      "text/html": [
       "<div>\n",
       "<style scoped>\n",
       "    .dataframe tbody tr th:only-of-type {\n",
       "        vertical-align: middle;\n",
       "    }\n",
       "\n",
       "    .dataframe tbody tr th {\n",
       "        vertical-align: top;\n",
       "    }\n",
       "\n",
       "    .dataframe thead th {\n",
       "        text-align: right;\n",
       "    }\n",
       "</style>\n",
       "<table border=\"1\" class=\"dataframe\">\n",
       "  <thead>\n",
       "    <tr style=\"text-align: right;\">\n",
       "      <th></th>\n",
       "      <th>HitRate@1</th>\n",
       "      <th>HitRate@5</th>\n",
       "      <th>HitRate@10</th>\n",
       "      <th>NDCG@1</th>\n",
       "      <th>NDCG@5</th>\n",
       "      <th>NDCG@10</th>\n",
       "    </tr>\n",
       "  </thead>\n",
       "  <tbody>\n",
       "    <tr>\n",
       "      <th>two_stages_scenario</th>\n",
       "      <td>0.265232</td>\n",
       "      <td>0.645861</td>\n",
       "      <td>0.805795</td>\n",
       "      <td>0.265232</td>\n",
       "      <td>0.216265</td>\n",
       "      <td>0.185370</td>\n",
       "    </tr>\n",
       "    <tr>\n",
       "      <th>two_stages_without_stat</th>\n",
       "      <td>0.255629</td>\n",
       "      <td>0.600497</td>\n",
       "      <td>0.763742</td>\n",
       "      <td>0.255629</td>\n",
       "      <td>0.198136</td>\n",
       "      <td>0.168892</td>\n",
       "    </tr>\n",
       "    <tr>\n",
       "      <th>first_stage_all</th>\n",
       "      <td>0.337086</td>\n",
       "      <td>0.725993</td>\n",
       "      <td>0.870695</td>\n",
       "      <td>0.337086</td>\n",
       "      <td>0.265648</td>\n",
       "      <td>0.224414</td>\n",
       "    </tr>\n",
       "    <tr>\n",
       "      <th>first_stage_half</th>\n",
       "      <td>0.275828</td>\n",
       "      <td>0.652483</td>\n",
       "      <td>0.810927</td>\n",
       "      <td>0.275828</td>\n",
       "      <td>0.220098</td>\n",
       "      <td>0.187830</td>\n",
       "    </tr>\n",
       "  </tbody>\n",
       "</table>\n",
       "</div>"
      ],
      "text/plain": [
       "                         HitRate@1  HitRate@5  HitRate@10    NDCG@1    NDCG@5  \\\n",
       "two_stages_scenario       0.265232   0.645861    0.805795  0.265232  0.216265   \n",
       "two_stages_without_stat   0.255629   0.600497    0.763742  0.255629  0.198136   \n",
       "first_stage_all           0.337086   0.725993    0.870695  0.337086  0.265648   \n",
       "first_stage_half          0.275828   0.652483    0.810927  0.275828  0.220098   \n",
       "\n",
       "                          NDCG@10  \n",
       "two_stages_scenario      0.185370  \n",
       "two_stages_without_stat  0.168892  \n",
       "first_stage_all          0.224414  \n",
       "first_stage_half         0.187830  "
      ]
     },
     "execution_count": 19,
     "metadata": {},
     "output_type": "execute_result"
    }
   ],
   "source": [
    "two_stages_with_stat.experiment.results"
   ]
  },
  {
   "cell_type": "markdown",
   "metadata": {},
   "source": [
    "## Двухуровневый сценарий с усиленным классификатором"
   ]
  },
  {
   "cell_type": "code",
   "execution_count": 20,
   "metadata": {},
   "outputs": [],
   "source": [
    "second_model = ClassifierRec(spark_classifier=RandomForestClassifier(numTrees=100, seed=47), use_recs_value=True)"
   ]
  },
  {
   "cell_type": "markdown",
   "metadata": {},
   "source": [
    "### Двухуровневый сценарий со статистическими фичами"
   ]
  },
  {
   "cell_type": "code",
   "execution_count": 21,
   "metadata": {},
   "outputs": [],
   "source": [
    "two_stages_with_stat_strong = TwoStagesScenario(\n",
    "    second_stage_splitter=second_stage_splitter,\n",
    "    second_model=second_model,\n",
    "    first_model=first_model,\n",
    "    metrics={NDCG(): [1, 5, 10], HitRate(): [1, 5, 10]},\n",
    "    calculate_statistical_features=True\n",
    ")"
   ]
  },
  {
   "cell_type": "code",
   "execution_count": 22,
   "metadata": {},
   "outputs": [
    {
     "name": "stderr",
     "output_type": "stream",
     "text": [
      "08-Dec-20 18:30:15, replay, DEBUG: mixed_train stat: total lines: 939809, total users: 6040, total items: 3699\n",
      "DEBUG:replay:mixed_train stat: total lines: 939809, total users: 6040, total items: 3699\n",
      "08-Dec-20 18:30:16, replay, DEBUG: test stat: total lines: 60393, total users: 6040, total items: 3051\n",
      "DEBUG:replay:test stat: total lines: 60393, total users: 6040, total items: 3051\n",
      "08-Dec-20 18:30:17, replay, DEBUG: first_train stat: total lines: 471386, total users: 6040, total items: 3604\n",
      "DEBUG:replay:first_train stat: total lines: 471386, total users: 6040, total items: 3604\n",
      "08-Dec-20 18:30:17, replay, DEBUG: first_test stat: total lines: 468423, total users: 6040, total items: 3611\n",
      "DEBUG:replay:first_test stat: total lines: 468423, total users: 6040, total items: 3611\n",
      "08-Dec-20 18:30:17, replay, DEBUG: Начало обучения ALSWrap\n",
      "DEBUG:replay:Начало обучения ALSWrap\n",
      "08-Dec-20 18:30:17, replay, DEBUG: Предварительная стадия обучения (pre-fit)\n",
      "DEBUG:replay:Предварительная стадия обучения (pre-fit)\n",
      "08-Dec-20 18:30:18, replay, DEBUG: Основная стадия обучения (fit)\n",
      "DEBUG:replay:Основная стадия обучения (fit)\n",
      "08-Dec-20 18:30:37, replay, DEBUG: Начало предикта ALSWrap\n",
      "DEBUG:replay:Начало предикта ALSWrap\n",
      "08-Dec-20 18:32:00, replay, DEBUG: баланс классов: положительных 164401 из 604000\n",
      "DEBUG:replay:баланс классов: положительных 164401 из 604000\n",
      "08-Dec-20 18:32:00, replay, DEBUG: Начало предикта ALSWrap\n",
      "DEBUG:replay:Начало предикта ALSWrap\n",
      "08-Dec-20 18:32:02, replay, WARNING: Список item содержит элементы, которые отсутствовали при обучении. Результат предсказания будет не полным.\n",
      "WARNING:replay:Список item содержит элементы, которые отсутствовали при обучении. Результат предсказания будет не полным.\n",
      "08-Dec-20 18:32:04, replay, DEBUG: Начало обучения ClassifierRec\n",
      "DEBUG:replay:Начало обучения ClassifierRec\n",
      "08-Dec-20 18:32:04, replay, DEBUG: Предварительная стадия обучения (pre-fit)\n",
      "DEBUG:replay:Предварительная стадия обучения (pre-fit)\n",
      "08-Dec-20 18:32:06, replay, DEBUG: Основная стадия обучения (fit)\n",
      "DEBUG:replay:Основная стадия обучения (fit)\n",
      "08-Dec-20 18:34:08, replay, DEBUG: ROC AUC модели второго уровня (как классификатора): 0.8061\n",
      "DEBUG:replay:ROC AUC модели второго уровня (как классификатора): 0.8061\n",
      "/Users/a18785698/Documents/code_dir/venv376/lib/python3.7/site-packages/pyspark/sql/pandas/group_ops.py:76: UserWarning: It is preferred to use 'applyInPandas' over this API. This API will be deprecated in the future releases. See SPARK-28264 for more details.\n",
      "  \"more details.\", UserWarning)\n"
     ]
    },
    {
     "name": "stdout",
     "output_type": "stream",
     "text": [
      "CPU times: user 4.74 s, sys: 1.22 s, total: 5.97 s\n",
      "Wall time: 5min 15s\n"
     ]
    },
    {
     "data": {
      "text/plain": [
       "<replay.scenarios.two_stages_scenario.TwoStagesScenario at 0x13640af90>"
      ]
     },
     "execution_count": 22,
     "metadata": {},
     "output_type": "execute_result"
    }
   ],
   "source": [
    "%%time \n",
    "recs_with_stat = two_stages_with_stat_strong.get_recs(log, 10, item_features=item_features_spark)\n",
    "two_stages_with_stat.experiment.add_result(\"two_stages_with_stat_strong\", recs_with_stat)"
   ]
  },
  {
   "cell_type": "markdown",
   "metadata": {},
   "source": [
    "### Двухуровневый сценарий без статистических фичей"
   ]
  },
  {
   "cell_type": "code",
   "execution_count": 23,
   "metadata": {},
   "outputs": [
    {
     "name": "stderr",
     "output_type": "stream",
     "text": [
      "08-Dec-20 18:35:31, replay, DEBUG: mixed_train stat: total lines: 939809, total users: 6040, total items: 3699\n",
      "DEBUG:replay:mixed_train stat: total lines: 939809, total users: 6040, total items: 3699\n",
      "08-Dec-20 18:35:32, replay, DEBUG: test stat: total lines: 60393, total users: 6040, total items: 3051\n",
      "DEBUG:replay:test stat: total lines: 60393, total users: 6040, total items: 3051\n",
      "08-Dec-20 18:35:32, replay, DEBUG: first_train stat: total lines: 471386, total users: 6040, total items: 3604\n",
      "DEBUG:replay:first_train stat: total lines: 471386, total users: 6040, total items: 3604\n",
      "08-Dec-20 18:35:33, replay, DEBUG: first_test stat: total lines: 468423, total users: 6040, total items: 3611\n",
      "DEBUG:replay:first_test stat: total lines: 468423, total users: 6040, total items: 3611\n",
      "08-Dec-20 18:35:33, replay, DEBUG: Начало обучения ALSWrap\n",
      "DEBUG:replay:Начало обучения ALSWrap\n",
      "08-Dec-20 18:35:33, replay, DEBUG: Предварительная стадия обучения (pre-fit)\n",
      "DEBUG:replay:Предварительная стадия обучения (pre-fit)\n",
      "08-Dec-20 18:35:34, replay, DEBUG: Основная стадия обучения (fit)\n",
      "DEBUG:replay:Основная стадия обучения (fit)\n",
      "08-Dec-20 18:35:45, replay, DEBUG: Начало предикта ALSWrap\n",
      "DEBUG:replay:Начало предикта ALSWrap\n",
      "08-Dec-20 18:36:59, replay, DEBUG: баланс классов: положительных 164401 из 604000\n",
      "DEBUG:replay:баланс классов: положительных 164401 из 604000\n",
      "08-Dec-20 18:36:59, replay, DEBUG: Начало предикта ALSWrap\n",
      "DEBUG:replay:Начало предикта ALSWrap\n",
      "08-Dec-20 18:37:01, replay, WARNING: Список item содержит элементы, которые отсутствовали при обучении. Результат предсказания будет не полным.\n",
      "WARNING:replay:Список item содержит элементы, которые отсутствовали при обучении. Результат предсказания будет не полным.\n",
      "08-Dec-20 18:37:02, replay, DEBUG: Начало обучения ClassifierRec\n",
      "DEBUG:replay:Начало обучения ClassifierRec\n",
      "08-Dec-20 18:37:02, replay, DEBUG: Предварительная стадия обучения (pre-fit)\n",
      "DEBUG:replay:Предварительная стадия обучения (pre-fit)\n",
      "08-Dec-20 18:37:04, replay, DEBUG: Основная стадия обучения (fit)\n",
      "DEBUG:replay:Основная стадия обучения (fit)\n",
      "08-Dec-20 18:38:56, replay, DEBUG: ROC AUC модели второго уровня (как классификатора): 0.8052\n",
      "DEBUG:replay:ROC AUC модели второго уровня (как классификатора): 0.8052\n"
     ]
    },
    {
     "name": "stdout",
     "output_type": "stream",
     "text": [
      "CPU times: user 4.22 s, sys: 959 ms, total: 5.17 s\n",
      "Wall time: 4min 54s\n"
     ]
    },
    {
     "data": {
      "text/html": [
       "<div>\n",
       "<style scoped>\n",
       "    .dataframe tbody tr th:only-of-type {\n",
       "        vertical-align: middle;\n",
       "    }\n",
       "\n",
       "    .dataframe tbody tr th {\n",
       "        vertical-align: top;\n",
       "    }\n",
       "\n",
       "    .dataframe thead th {\n",
       "        text-align: right;\n",
       "    }\n",
       "</style>\n",
       "<table border=\"1\" class=\"dataframe\">\n",
       "  <thead>\n",
       "    <tr style=\"text-align: right;\">\n",
       "      <th></th>\n",
       "      <th>HitRate@1</th>\n",
       "      <th>HitRate@5</th>\n",
       "      <th>HitRate@10</th>\n",
       "      <th>NDCG@1</th>\n",
       "      <th>NDCG@5</th>\n",
       "      <th>NDCG@10</th>\n",
       "    </tr>\n",
       "  </thead>\n",
       "  <tbody>\n",
       "    <tr>\n",
       "      <th>two_stages_scenario</th>\n",
       "      <td>0.241391</td>\n",
       "      <td>0.601159</td>\n",
       "      <td>0.764238</td>\n",
       "      <td>0.241391</td>\n",
       "      <td>0.197375</td>\n",
       "      <td>0.16827</td>\n",
       "    </tr>\n",
       "  </tbody>\n",
       "</table>\n",
       "</div>"
      ],
      "text/plain": [
       "                     HitRate@1  HitRate@5  HitRate@10    NDCG@1    NDCG@5  \\\n",
       "two_stages_scenario   0.241391   0.601159    0.764238  0.241391  0.197375   \n",
       "\n",
       "                     NDCG@10  \n",
       "two_stages_scenario  0.16827  "
      ]
     },
     "execution_count": 23,
     "metadata": {},
     "output_type": "execute_result"
    }
   ],
   "source": [
    "%%time\n",
    "two_stages_without_stat_strong = TwoStagesScenario(\n",
    "    second_stage_splitter=second_stage_splitter,\n",
    "    second_model=second_model,\n",
    "    first_model=first_model,\n",
    "    metrics={NDCG(): [1, 5, 10], HitRate(): [1, 5, 10]},\n",
    "    calculate_statistical_features=False\n",
    ")\n",
    "recs_without_stat = two_stages_without_stat_strong.get_recs(log, 10, item_features=item_features_spark)\n",
    "two_stages_with_stat.experiment.add_result(\"two_stages_without_stat_strong\", recs_without_stat)\n",
    "two_stages_without_stat_strong.experiment.results"
   ]
  },
  {
   "cell_type": "code",
   "execution_count": null,
   "metadata": {},
   "outputs": [],
   "source": [
    "two_stages_with_stat.experiment.add_result(\"two_stages_without_stat_strong\", recs_without_stat)"
   ]
  },
  {
   "cell_type": "code",
   "execution_count": 26,
   "metadata": {},
   "outputs": [
    {
     "data": {
      "text/html": [
       "<div>\n",
       "<style scoped>\n",
       "    .dataframe tbody tr th:only-of-type {\n",
       "        vertical-align: middle;\n",
       "    }\n",
       "\n",
       "    .dataframe tbody tr th {\n",
       "        vertical-align: top;\n",
       "    }\n",
       "\n",
       "    .dataframe thead th {\n",
       "        text-align: right;\n",
       "    }\n",
       "</style>\n",
       "<table border=\"1\" class=\"dataframe\">\n",
       "  <thead>\n",
       "    <tr style=\"text-align: right;\">\n",
       "      <th></th>\n",
       "      <th>HitRate@1</th>\n",
       "      <th>HitRate@5</th>\n",
       "      <th>HitRate@10</th>\n",
       "      <th>NDCG@1</th>\n",
       "      <th>NDCG@5</th>\n",
       "      <th>NDCG@10</th>\n",
       "    </tr>\n",
       "  </thead>\n",
       "  <tbody>\n",
       "    <tr>\n",
       "      <th>first_stage_all</th>\n",
       "      <td>0.337086</td>\n",
       "      <td>0.725993</td>\n",
       "      <td>0.870695</td>\n",
       "      <td>0.337086</td>\n",
       "      <td>0.265648</td>\n",
       "      <td>0.224414</td>\n",
       "    </tr>\n",
       "    <tr>\n",
       "      <th>first_stage_half</th>\n",
       "      <td>0.275828</td>\n",
       "      <td>0.652483</td>\n",
       "      <td>0.810927</td>\n",
       "      <td>0.275828</td>\n",
       "      <td>0.220098</td>\n",
       "      <td>0.187830</td>\n",
       "    </tr>\n",
       "    <tr>\n",
       "      <th>two_stages_scenario</th>\n",
       "      <td>0.265232</td>\n",
       "      <td>0.645861</td>\n",
       "      <td>0.805795</td>\n",
       "      <td>0.265232</td>\n",
       "      <td>0.216265</td>\n",
       "      <td>0.185370</td>\n",
       "    </tr>\n",
       "    <tr>\n",
       "      <th>two_stages_with_stat_strong</th>\n",
       "      <td>0.258444</td>\n",
       "      <td>0.625000</td>\n",
       "      <td>0.777980</td>\n",
       "      <td>0.258444</td>\n",
       "      <td>0.208830</td>\n",
       "      <td>0.176807</td>\n",
       "    </tr>\n",
       "    <tr>\n",
       "      <th>two_stages_without_stat</th>\n",
       "      <td>0.255629</td>\n",
       "      <td>0.600497</td>\n",
       "      <td>0.763742</td>\n",
       "      <td>0.255629</td>\n",
       "      <td>0.198136</td>\n",
       "      <td>0.168892</td>\n",
       "    </tr>\n",
       "    <tr>\n",
       "      <th>two_stages_without_stat_strong</th>\n",
       "      <td>0.241391</td>\n",
       "      <td>0.601159</td>\n",
       "      <td>0.764238</td>\n",
       "      <td>0.241391</td>\n",
       "      <td>0.197375</td>\n",
       "      <td>0.168270</td>\n",
       "    </tr>\n",
       "  </tbody>\n",
       "</table>\n",
       "</div>"
      ],
      "text/plain": [
       "                                HitRate@1  HitRate@5  HitRate@10    NDCG@1  \\\n",
       "first_stage_all                  0.337086   0.725993    0.870695  0.337086   \n",
       "first_stage_half                 0.275828   0.652483    0.810927  0.275828   \n",
       "two_stages_scenario              0.265232   0.645861    0.805795  0.265232   \n",
       "two_stages_with_stat_strong      0.258444   0.625000    0.777980  0.258444   \n",
       "two_stages_without_stat          0.255629   0.600497    0.763742  0.255629   \n",
       "two_stages_without_stat_strong   0.241391   0.601159    0.764238  0.241391   \n",
       "\n",
       "                                  NDCG@5   NDCG@10  \n",
       "first_stage_all                 0.265648  0.224414  \n",
       "first_stage_half                0.220098  0.187830  \n",
       "two_stages_scenario             0.216265  0.185370  \n",
       "two_stages_with_stat_strong     0.208830  0.176807  \n",
       "two_stages_without_stat         0.198136  0.168892  \n",
       "two_stages_without_stat_strong  0.197375  0.168270  "
      ]
     },
     "execution_count": 26,
     "metadata": {},
     "output_type": "execute_result"
    }
   ],
   "source": [
    "two_stages_with_stat.experiment.results.sort_values('NDCG@10', ascending=False)"
   ]
  },
  {
   "cell_type": "markdown",
   "metadata": {},
   "source": [
    "Модель первого уровня работает лучше, чем двухуровневый сценарий. Двухуровневый сценарий, использущий статистические признаки, работает лучше, чем без них."
   ]
  },
  {
   "cell_type": "code",
   "execution_count": null,
   "metadata": {},
   "outputs": [],
   "source": []
  }
 ],
 "metadata": {
  "kernelspec": {
   "display_name": "Python 3",
   "language": "python",
   "name": "python3"
  },
  "language_info": {
   "codemirror_mode": {
    "name": "ipython",
    "version": 3
   },
   "file_extension": ".py",
   "mimetype": "text/x-python",
   "name": "python",
   "nbconvert_exporter": "python",
   "pygments_lexer": "ipython3",
   "version": "3.7.6"
  },
  "name": "two_levels.ipynb"
 },
 "nbformat": 4,
 "nbformat_minor": 4
}
