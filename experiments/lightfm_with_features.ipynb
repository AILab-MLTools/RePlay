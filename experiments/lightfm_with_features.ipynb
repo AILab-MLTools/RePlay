{
 "cells": [
  {
   "cell_type": "code",
   "execution_count": 1,
   "metadata": {},
   "outputs": [],
   "source": [
    "%load_ext autoreload"
   ]
  },
  {
   "cell_type": "code",
   "execution_count": 2,
   "metadata": {},
   "outputs": [],
   "source": [
    "%autoreload 2"
   ]
  },
  {
   "cell_type": "code",
   "execution_count": 5,
   "metadata": {},
   "outputs": [
    {
     "data": {
      "text/html": [
       "<style type='text/css'>\n",
       ".datatable table.frame { margin-bottom: 0; }\n",
       ".datatable table.frame thead { border-bottom: none; }\n",
       ".datatable table.frame tr.coltypes td {  color: #FFFFFF;  line-height: 6px;  padding: 0 0.5em;}\n",
       ".datatable .boolean { background: #DDDD99; }\n",
       ".datatable .object  { background: #565656; }\n",
       ".datatable .integer { background: #5D9E5D; }\n",
       ".datatable .float   { background: #4040CC; }\n",
       ".datatable .string  { background: #CC4040; }\n",
       ".datatable .row_index {  background: var(--jp-border-color3);  border-right: 1px solid var(--jp-border-color0);  color: var(--jp-ui-font-color3);  font-size: 9px;}\n",
       ".datatable .frame tr.coltypes .row_index {  background: var(--jp-border-color0);}\n",
       ".datatable th:nth-child(2) { padding-left: 12px; }\n",
       ".datatable .hellipsis {  color: var(--jp-cell-editor-border-color);}\n",
       ".datatable .vellipsis {  background: var(--jp-layout-color0);  color: var(--jp-cell-editor-border-color);}\n",
       ".datatable .na {  color: var(--jp-cell-editor-border-color);  font-size: 80%;}\n",
       ".datatable .footer { font-size: 9px; }\n",
       ".datatable .frame_dimensions {  background: var(--jp-border-color3);  border-top: 1px solid var(--jp-border-color0);  color: var(--jp-ui-font-color3);  display: inline-block;  opacity: 0.6;  padding: 1px 10px 1px 5px;}\n",
       "</style>\n"
      ],
      "text/plain": [
       "<IPython.core.display.HTML object>"
      ]
     },
     "metadata": {},
     "output_type": "display_data"
    },
    {
     "name": "stdout",
     "output_type": "stream",
     "text": [
      "ratings\n"
     ]
    },
    {
     "data": {
      "text/html": [
       "<div>\n",
       "<style scoped>\n",
       "    .dataframe tbody tr th:only-of-type {\n",
       "        vertical-align: middle;\n",
       "    }\n",
       "\n",
       "    .dataframe tbody tr th {\n",
       "        vertical-align: top;\n",
       "    }\n",
       "\n",
       "    .dataframe thead th {\n",
       "        text-align: right;\n",
       "    }\n",
       "</style>\n",
       "<table border=\"1\" class=\"dataframe\">\n",
       "  <thead>\n",
       "    <tr style=\"text-align: right;\">\n",
       "      <th></th>\n",
       "      <th>user_id</th>\n",
       "      <th>item_id</th>\n",
       "      <th>rating</th>\n",
       "      <th>timestamp</th>\n",
       "    </tr>\n",
       "  </thead>\n",
       "  <tbody>\n",
       "    <tr>\n",
       "      <th>0</th>\n",
       "      <td>1</td>\n",
       "      <td>296</td>\n",
       "      <td>5.0</td>\n",
       "      <td>1147880044</td>\n",
       "    </tr>\n",
       "    <tr>\n",
       "      <th>1</th>\n",
       "      <td>1</td>\n",
       "      <td>306</td>\n",
       "      <td>3.5</td>\n",
       "      <td>1147868817</td>\n",
       "    </tr>\n",
       "    <tr>\n",
       "      <th>2</th>\n",
       "      <td>1</td>\n",
       "      <td>307</td>\n",
       "      <td>5.0</td>\n",
       "      <td>1147868828</td>\n",
       "    </tr>\n",
       "  </tbody>\n",
       "</table>\n",
       "</div>"
      ],
      "text/plain": [
       "   user_id  item_id  rating   timestamp\n",
       "0        1      296     5.0  1147880044\n",
       "1        1      306     3.5  1147868817\n",
       "2        1      307     5.0  1147868828"
      ]
     },
     "metadata": {},
     "output_type": "display_data"
    },
    {
     "name": "stdout",
     "output_type": "stream",
     "text": [
      "\n",
      "items\n"
     ]
    },
    {
     "data": {
      "text/html": [
       "<div>\n",
       "<style scoped>\n",
       "    .dataframe tbody tr th:only-of-type {\n",
       "        vertical-align: middle;\n",
       "    }\n",
       "\n",
       "    .dataframe tbody tr th {\n",
       "        vertical-align: top;\n",
       "    }\n",
       "\n",
       "    .dataframe thead th {\n",
       "        text-align: right;\n",
       "    }\n",
       "</style>\n",
       "<table border=\"1\" class=\"dataframe\">\n",
       "  <thead>\n",
       "    <tr style=\"text-align: right;\">\n",
       "      <th></th>\n",
       "      <th>item_id</th>\n",
       "      <th>title</th>\n",
       "      <th>genres</th>\n",
       "    </tr>\n",
       "  </thead>\n",
       "  <tbody>\n",
       "    <tr>\n",
       "      <th>0</th>\n",
       "      <td>1</td>\n",
       "      <td>Toy Story (1995)</td>\n",
       "      <td>Adventure|Animation|Children|Comedy|Fantasy</td>\n",
       "    </tr>\n",
       "    <tr>\n",
       "      <th>1</th>\n",
       "      <td>2</td>\n",
       "      <td>Jumanji (1995)</td>\n",
       "      <td>Adventure|Children|Fantasy</td>\n",
       "    </tr>\n",
       "    <tr>\n",
       "      <th>2</th>\n",
       "      <td>3</td>\n",
       "      <td>Grumpier Old Men (1995)</td>\n",
       "      <td>Comedy|Romance</td>\n",
       "    </tr>\n",
       "  </tbody>\n",
       "</table>\n",
       "</div>"
      ],
      "text/plain": [
       "   item_id                    title  \\\n",
       "0        1         Toy Story (1995)   \n",
       "1        2           Jumanji (1995)   \n",
       "2        3  Grumpier Old Men (1995)   \n",
       "\n",
       "                                        genres  \n",
       "0  Adventure|Animation|Children|Comedy|Fantasy  \n",
       "1                   Adventure|Children|Fantasy  \n",
       "2                               Comedy|Romance  "
      ]
     },
     "metadata": {},
     "output_type": "display_data"
    },
    {
     "name": "stdout",
     "output_type": "stream",
     "text": [
      "\n",
      "tags\n"
     ]
    },
    {
     "data": {
      "text/html": [
       "<div>\n",
       "<style scoped>\n",
       "    .dataframe tbody tr th:only-of-type {\n",
       "        vertical-align: middle;\n",
       "    }\n",
       "\n",
       "    .dataframe tbody tr th {\n",
       "        vertical-align: top;\n",
       "    }\n",
       "\n",
       "    .dataframe thead th {\n",
       "        text-align: right;\n",
       "    }\n",
       "</style>\n",
       "<table border=\"1\" class=\"dataframe\">\n",
       "  <thead>\n",
       "    <tr style=\"text-align: right;\">\n",
       "      <th></th>\n",
       "      <th>user_id</th>\n",
       "      <th>item_id</th>\n",
       "      <th>tag</th>\n",
       "      <th>timestamp</th>\n",
       "    </tr>\n",
       "  </thead>\n",
       "  <tbody>\n",
       "    <tr>\n",
       "      <th>0</th>\n",
       "      <td>3</td>\n",
       "      <td>260</td>\n",
       "      <td>classic</td>\n",
       "      <td>1439472355</td>\n",
       "    </tr>\n",
       "    <tr>\n",
       "      <th>1</th>\n",
       "      <td>3</td>\n",
       "      <td>260</td>\n",
       "      <td>sci-fi</td>\n",
       "      <td>1439472256</td>\n",
       "    </tr>\n",
       "    <tr>\n",
       "      <th>2</th>\n",
       "      <td>4</td>\n",
       "      <td>1732</td>\n",
       "      <td>dark comedy</td>\n",
       "      <td>1573943598</td>\n",
       "    </tr>\n",
       "  </tbody>\n",
       "</table>\n",
       "</div>"
      ],
      "text/plain": [
       "   user_id  item_id          tag   timestamp\n",
       "0        3      260      classic  1439472355\n",
       "1        3      260       sci-fi  1439472256\n",
       "2        4     1732  dark comedy  1573943598"
      ]
     },
     "metadata": {},
     "output_type": "display_data"
    },
    {
     "name": "stdout",
     "output_type": "stream",
     "text": [
      "\n",
      "links\n"
     ]
    },
    {
     "data": {
      "text/html": [
       "<div>\n",
       "<style scoped>\n",
       "    .dataframe tbody tr th:only-of-type {\n",
       "        vertical-align: middle;\n",
       "    }\n",
       "\n",
       "    .dataframe tbody tr th {\n",
       "        vertical-align: top;\n",
       "    }\n",
       "\n",
       "    .dataframe thead th {\n",
       "        text-align: right;\n",
       "    }\n",
       "</style>\n",
       "<table border=\"1\" class=\"dataframe\">\n",
       "  <thead>\n",
       "    <tr style=\"text-align: right;\">\n",
       "      <th></th>\n",
       "      <th>item_id</th>\n",
       "      <th>imdb_id</th>\n",
       "      <th>tmdb_id</th>\n",
       "    </tr>\n",
       "  </thead>\n",
       "  <tbody>\n",
       "    <tr>\n",
       "      <th>0</th>\n",
       "      <td>1</td>\n",
       "      <td>114709</td>\n",
       "      <td>862.0</td>\n",
       "    </tr>\n",
       "    <tr>\n",
       "      <th>1</th>\n",
       "      <td>2</td>\n",
       "      <td>113497</td>\n",
       "      <td>8844.0</td>\n",
       "    </tr>\n",
       "    <tr>\n",
       "      <th>2</th>\n",
       "      <td>3</td>\n",
       "      <td>113228</td>\n",
       "      <td>15602.0</td>\n",
       "    </tr>\n",
       "  </tbody>\n",
       "</table>\n",
       "</div>"
      ],
      "text/plain": [
       "   item_id  imdb_id  tmdb_id\n",
       "0        1   114709    862.0\n",
       "1        2   113497   8844.0\n",
       "2        3   113228  15602.0"
      ]
     },
     "metadata": {},
     "output_type": "display_data"
    },
    {
     "name": "stdout",
     "output_type": "stream",
     "text": [
      "\n"
     ]
    }
   ],
   "source": [
    "from rs_datasets import MovieLens\n",
    "\n",
    "data = MovieLens(\"25m\")\n",
    "data.info()"
   ]
  },
  {
   "cell_type": "code",
   "execution_count": 6,
   "metadata": {},
   "outputs": [],
   "source": [
    "from sponge_bob_magic.data_preparator import DataPreparator\n",
    "\n",
    "log = DataPreparator().transform(\n",
    "    data=data.ratings,\n",
    "    columns_names={\n",
    "        \"user_id\": \"user_id\",\n",
    "        \"item_id\": \"item_id\",\n",
    "        \"relevance\": \"rating\",\n",
    "        \"timestamp\": \"timestamp\"\n",
    "    }\n",
    ")"
   ]
  },
  {
   "cell_type": "code",
   "execution_count": 7,
   "metadata": {},
   "outputs": [],
   "source": [
    "from sponge_bob_magic.models import LightFMWrap\n",
    "\n",
    "model = LightFMWrap()"
   ]
  },
  {
   "cell_type": "code",
   "execution_count": 8,
   "metadata": {},
   "outputs": [],
   "source": [
    "from sponge_bob_magic.splitters import UserSplitter\n",
    "\n",
    "user_random_splitter = UserSplitter(\n",
    "    item_test_size=1,\n",
    "    user_test_size=10000,\n",
    "    drop_cold_items=True,\n",
    "    drop_cold_users=True,\n",
    "    shuffle=True,\n",
    "    seed=1234\n",
    ")"
   ]
  },
  {
   "cell_type": "code",
   "execution_count": 9,
   "metadata": {},
   "outputs": [],
   "source": [
    "from sponge_bob_magic.scenarios import MainScenario\n",
    "from sponge_bob_magic.metrics import NDCG, HitRate\n",
    "\n",
    "scenario = MainScenario(\n",
    "    splitter=user_random_splitter,\n",
    "    recommender=model,\n",
    "    criterion=HitRate,\n",
    "    metrics={\n",
    "        NDCG: [10, 5, 1],\n",
    "        HitRate: [10, 5, 1],\n",
    "    }\n",
    ")"
   ]
  },
  {
   "cell_type": "code",
   "execution_count": 10,
   "metadata": {},
   "outputs": [],
   "source": [
    "from sponge_bob_magic.session_handler import State\n",
    "from pyspark.sql.functions import split\n",
    "\n",
    "genres = (\n",
    "    State().session.createDataFrame(data.items[[\"item_id\", \"genres\"]])\n",
    "    .select(\n",
    "        \"item_id\",\n",
    "        split(\"genres\", \"\\|\").alias(\"genres\")\n",
    "    )\n",
    ")"
   ]
  },
  {
   "cell_type": "code",
   "execution_count": 11,
   "metadata": {},
   "outputs": [
    {
     "name": "stdout",
     "output_type": "stream",
     "text": [
      "+-------+--------------------+\n",
      "|item_id|              genres|\n",
      "+-------+--------------------+\n",
      "|      1|[Adventure, Anima...|\n",
      "|      2|[Adventure, Child...|\n",
      "|      3|   [Comedy, Romance]|\n",
      "|      4|[Comedy, Drama, R...|\n",
      "|      5|            [Comedy]|\n",
      "|      6|[Action, Crime, T...|\n",
      "|      7|   [Comedy, Romance]|\n",
      "|      8|[Adventure, Child...|\n",
      "|      9|            [Action]|\n",
      "|     10|[Action, Adventur...|\n",
      "|     11|[Comedy, Drama, R...|\n",
      "|     12|    [Comedy, Horror]|\n",
      "|     13|[Adventure, Anima...|\n",
      "|     14|             [Drama]|\n",
      "|     15|[Action, Adventur...|\n",
      "|     16|      [Crime, Drama]|\n",
      "|     17|    [Drama, Romance]|\n",
      "|     18|            [Comedy]|\n",
      "|     19|            [Comedy]|\n",
      "|     20|[Action, Comedy, ...|\n",
      "+-------+--------------------+\n",
      "only showing top 20 rows\n",
      "\n"
     ]
    }
   ],
   "source": [
    "genres.show()"
   ]
  },
  {
   "cell_type": "code",
   "execution_count": 12,
   "metadata": {},
   "outputs": [
    {
     "name": "stderr",
     "output_type": "stream",
     "text": [
      "/home/shminke-ba/projects/sponge-bob-magic/venv/lib/python3.6/site-packages/pyarrow/util.py:39: FutureWarning: pyarrow.open_stream is deprecated as of 0.17.0, please use pyarrow.ipc.open_stream instead\n",
      "  warnings.warn(msg, FutureWarning)\n"
     ]
    }
   ],
   "source": [
    "from pyspark.sql.functions import explode\n",
    "\n",
    "genres_list = (\n",
    "    genres.select(explode(\"genres\").alias(\"genre\"))\n",
    "    .distinct().filter('genre <> \"(no genres listed)\"')\n",
    "    .toPandas()[\"genre\"].tolist()\n",
    ")"
   ]
  },
  {
   "cell_type": "code",
   "execution_count": 13,
   "metadata": {},
   "outputs": [
    {
     "data": {
      "text/plain": [
       "['Documentary',\n",
       " 'Fantasy',\n",
       " 'IMAX',\n",
       " 'Adventure',\n",
       " 'War',\n",
       " 'Animation',\n",
       " 'Comedy',\n",
       " 'Thriller',\n",
       " 'Film-Noir',\n",
       " 'Crime',\n",
       " 'Sci-Fi',\n",
       " 'Musical',\n",
       " 'Mystery',\n",
       " 'Drama',\n",
       " 'Horror',\n",
       " 'Western',\n",
       " 'Romance',\n",
       " 'Children',\n",
       " 'Action']"
      ]
     },
     "execution_count": 13,
     "metadata": {},
     "output_type": "execute_result"
    }
   ],
   "source": [
    "genres_list"
   ]
  },
  {
   "cell_type": "code",
   "execution_count": 14,
   "metadata": {},
   "outputs": [
    {
     "data": {
      "text/plain": [
       "62423"
      ]
     },
     "execution_count": 14,
     "metadata": {},
     "output_type": "execute_result"
    }
   ],
   "source": [
    "from pyspark.sql.functions import col, lit, array_contains\n",
    "from pyspark.sql.types import IntegerType\n",
    "\n",
    "item_features = genres\n",
    "for genre in genres_list:\n",
    "    item_features = item_features.withColumn(\n",
    "        genre,\n",
    "        array_contains(col(\"genres\"), genre).astype(IntegerType())\n",
    "    )\n",
    "item_features = item_features.drop(\"genres\").cache()\n",
    "item_features.count()"
   ]
  },
  {
   "cell_type": "code",
   "execution_count": 18,
   "metadata": {},
   "outputs": [
    {
     "name": "stderr",
     "output_type": "stream",
     "text": [
      "14-May-20 12:09:38, sponge_bob_magic, DEBUG: Деление лога на обучающую и тестовую выборку\n",
      "14-May-20 12:09:43, sponge_bob_magic, DEBUG: Длина трейна и теста: 24990095 9998\n",
      "14-May-20 12:09:44, sponge_bob_magic, DEBUG: Количество пользователей в трейне и тесте: 162541, 9998\n",
      "14-May-20 12:09:44, sponge_bob_magic, DEBUG: Количество объектов в трейне и тесте: 59045, 2849\n",
      "14-May-20 12:09:44, sponge_bob_magic, DEBUG: Инициализация метрик\n",
      "14-May-20 12:09:44, sponge_bob_magic, DEBUG: Обучение и предсказание дополнительной модели\n",
      "14-May-20 12:09:44, sponge_bob_magic, DEBUG: Предварительная стадия обучения (pre-fit)\n",
      "14-May-20 12:09:49, sponge_bob_magic, DEBUG: Основная стадия обучения (fit)\n",
      "14-May-20 12:10:14, sponge_bob_magic, DEBUG: Оптимизация параметров\n",
      "14-May-20 12:10:14, sponge_bob_magic, DEBUG: Количество попыток: 1\n",
      "14-May-20 12:10:27, sponge_bob_magic, DEBUG: -- Второй фит модели в оптимизации\n",
      "14-May-20 12:10:27, sponge_bob_magic, DEBUG: Предварительная стадия обучения (pre-fit)\n",
      "14-May-20 12:10:31, sponge_bob_magic, DEBUG: Основная стадия обучения (fit)\n",
      "14-May-20 12:10:31, sponge_bob_magic, DEBUG: Построение модели LightFM\n",
      "14-May-20 13:17:28, sponge_bob_magic, DEBUG: -- Длина рекомендаций: 99980\n",
      "14-May-20 13:17:28, sponge_bob_magic, DEBUG: -- Добавляем fallback рекомендации\n",
      "14-May-20 13:17:35, sponge_bob_magic, DEBUG: -- Длина рекомендаций после добавления fallback-рекомендаций: 99980\n",
      "14-May-20 13:17:35, sponge_bob_magic, DEBUG: -- Подсчет метрики в оптимизации\n",
      "14-May-20 13:18:44, sponge_bob_magic, DEBUG: HitRate=0.18\n",
      "[I 2020-05-14 13:18:44,504] Finished trial#0 resulted in value: 0.18153630726145228. Current best value is 0.18153630726145228 with parameters: {'no_components': 128}.\n",
      "14-May-20 13:18:44, sponge_bob_magic, DEBUG: Лучшее значение метрики: 0.18\n",
      "14-May-20 13:18:44, sponge_bob_magic, DEBUG: Лучшие параметры: {'no_components': 128}\n"
     ]
    },
    {
     "data": {
      "text/plain": [
       "{'no_components': 128}"
      ]
     },
     "execution_count": 18,
     "metadata": {},
     "output_type": "execute_result"
    }
   ],
   "source": [
    "scenario.research(\n",
    "    {\"no_components\": [128]},\n",
    "    log,\n",
    "    k=10,\n",
    "    n_trials=1,\n",
    "    item_features=item_features\n",
    ")"
   ]
  },
  {
   "cell_type": "code",
   "execution_count": null,
   "metadata": {},
   "outputs": [
    {
     "data": {
      "text/html": [
       "<div>\n",
       "<style scoped>\n",
       "    .dataframe tbody tr th:only-of-type {\n",
       "        vertical-align: middle;\n",
       "    }\n",
       "\n",
       "    .dataframe tbody tr th {\n",
       "        vertical-align: top;\n",
       "    }\n",
       "\n",
       "    .dataframe thead th {\n",
       "        text-align: right;\n",
       "    }\n",
       "</style>\n",
       "<table border=\"1\" class=\"dataframe\">\n",
       "  <thead>\n",
       "    <tr style=\"text-align: right;\">\n",
       "      <th></th>\n",
       "      <th>HitRate@10</th>\n",
       "      <th>HitRate@1</th>\n",
       "      <th>HitRate@5</th>\n",
       "      <th>NDCG@1</th>\n",
       "      <th>NDCG@5</th>\n",
       "      <th>NDCG@10</th>\n",
       "    </tr>\n",
       "  </thead>\n",
       "  <tbody>\n",
       "    <tr>\n",
       "      <th>LightFMWrap(no_components=128, loss=bpr, random_state=None)</th>\n",
       "      <td>0.181536</td>\n",
       "      <td>0.04751</td>\n",
       "      <td>0.123925</td>\n",
       "      <td>0.04751</td>\n",
       "      <td>0.085882</td>\n",
       "      <td>0.104383</td>\n",
       "    </tr>\n",
       "  </tbody>\n",
       "</table>\n",
       "</div>"
      ],
      "text/plain": [
       "                                                    HitRate@10  HitRate@1  \\\n",
       "LightFMWrap(no_components=128, loss=bpr, random...    0.181536    0.04751   \n",
       "\n",
       "                                                    HitRate@5   NDCG@1  \\\n",
       "LightFMWrap(no_components=128, loss=bpr, random...   0.123925  0.04751   \n",
       "\n",
       "                                                      NDCG@5   NDCG@10  \n",
       "LightFMWrap(no_components=128, loss=bpr, random...  0.085882  0.104383  "
      ]
     },
     "execution_count": 19,
     "metadata": {},
     "output_type": "execute_result"
    }
   ],
   "source": [
    "scenario.experiment.results"
   ]
  },
  {
   "cell_type": "code",
   "execution_count": 20,
   "metadata": {},
   "outputs": [
    {
     "name": "stderr",
     "output_type": "stream",
     "text": [
      "14-May-20 13:41:14, sponge_bob_magic, DEBUG: Деление лога на обучающую и тестовую выборку\n",
      "14-May-20 13:41:15, sponge_bob_magic, DEBUG: Длина трейна и теста: 24990095 9998\n",
      "14-May-20 13:41:16, sponge_bob_magic, DEBUG: Количество пользователей в трейне и тесте: 162541, 9998\n",
      "14-May-20 13:41:17, sponge_bob_magic, DEBUG: Количество объектов в трейне и тесте: 59045, 2849\n",
      "14-May-20 13:41:17, sponge_bob_magic, DEBUG: Инициализация метрик\n",
      "14-May-20 13:41:17, sponge_bob_magic, DEBUG: Обучение и предсказание дополнительной модели\n",
      "14-May-20 13:41:17, sponge_bob_magic, DEBUG: Предварительная стадия обучения (pre-fit)\n",
      "14-May-20 13:41:20, sponge_bob_magic, DEBUG: Основная стадия обучения (fit)\n",
      "/home/shminke-ba/projects/sponge-bob-magic/venv/lib/python3.6/site-packages/pyarrow/util.py:39: FutureWarning: pyarrow.open_stream is deprecated as of 0.17.0, please use pyarrow.ipc.open_stream instead\n",
      "  warnings.warn(msg, FutureWarning)\n",
      "14-May-20 13:41:45, sponge_bob_magic, DEBUG: Оптимизация параметров\n",
      "14-May-20 13:41:45, sponge_bob_magic, DEBUG: Количество попыток: 1\n",
      "/home/shminke-ba/projects/sponge-bob-magic/venv/lib/python3.6/site-packages/optuna/_experimental.py:107: ExperimentalWarning: GridSampler is experimental (supported from v1.2.0). The interface can change in the future.\n",
      "  ExperimentalWarning\n",
      "14-May-20 13:41:56, sponge_bob_magic, DEBUG: -- Второй фит модели в оптимизации\n",
      "14-May-20 13:41:56, sponge_bob_magic, DEBUG: Основная стадия обучения (fit)\n",
      "14-May-20 13:41:56, sponge_bob_magic, DEBUG: Построение модели LightFM\n",
      "14-May-20 13:54:02, sponge_bob_magic, DEBUG: -- Длина рекомендаций после добавления fallback-рекомендаций: 99980\n",
      "14-May-20 13:54:02, sponge_bob_magic, DEBUG: -- Подсчет метрики в оптимизации\n",
      "14-May-20 13:55:05, sponge_bob_magic, DEBUG: HitRate=0.20\n",
      "[I 2020-05-14 13:55:05,947] Finished trial#0 resulted in value: 0.20184036807361472. Current best value is 0.20184036807361472 with parameters: {'no_components': 128}.\n",
      "14-May-20 13:55:05, sponge_bob_magic, DEBUG: Лучшее значение метрики: 0.20\n",
      "14-May-20 13:55:05, sponge_bob_magic, DEBUG: Лучшие параметры: {'no_components': 128}\n"
     ]
    },
    {
     "data": {
      "text/plain": [
       "{'no_components': 128}"
      ]
     },
     "execution_count": 20,
     "metadata": {},
     "output_type": "execute_result"
    }
   ],
   "source": [
    "scenario.research(\n",
    "    {\"no_components\": [128]},\n",
    "    log,\n",
    "    k=10,\n",
    "    n_trials=1,\n",
    ")"
   ]
  },
  {
   "cell_type": "code",
   "execution_count": 21,
   "metadata": {},
   "outputs": [
    {
     "data": {
      "text/html": [
       "<div>\n",
       "<style scoped>\n",
       "    .dataframe tbody tr th:only-of-type {\n",
       "        vertical-align: middle;\n",
       "    }\n",
       "\n",
       "    .dataframe tbody tr th {\n",
       "        vertical-align: top;\n",
       "    }\n",
       "\n",
       "    .dataframe thead th {\n",
       "        text-align: right;\n",
       "    }\n",
       "</style>\n",
       "<table border=\"1\" class=\"dataframe\">\n",
       "  <thead>\n",
       "    <tr style=\"text-align: right;\">\n",
       "      <th></th>\n",
       "      <th>HitRate@10</th>\n",
       "      <th>HitRate@1</th>\n",
       "      <th>HitRate@5</th>\n",
       "      <th>NDCG@1</th>\n",
       "      <th>NDCG@5</th>\n",
       "      <th>NDCG@10</th>\n",
       "    </tr>\n",
       "  </thead>\n",
       "  <tbody>\n",
       "    <tr>\n",
       "      <th>LightFMWrap(no_components=128, loss=bpr, random_state=None)</th>\n",
       "      <td>0.20184</td>\n",
       "      <td>0.052711</td>\n",
       "      <td>0.136927</td>\n",
       "      <td>0.052711</td>\n",
       "      <td>0.095318</td>\n",
       "      <td>0.116217</td>\n",
       "    </tr>\n",
       "  </tbody>\n",
       "</table>\n",
       "</div>"
      ],
      "text/plain": [
       "                                                    HitRate@10  HitRate@1  \\\n",
       "LightFMWrap(no_components=128, loss=bpr, random...     0.20184   0.052711   \n",
       "\n",
       "                                                    HitRate@5    NDCG@1  \\\n",
       "LightFMWrap(no_components=128, loss=bpr, random...   0.136927  0.052711   \n",
       "\n",
       "                                                      NDCG@5   NDCG@10  \n",
       "LightFMWrap(no_components=128, loss=bpr, random...  0.095318  0.116217  "
      ]
     },
     "execution_count": 21,
     "metadata": {},
     "output_type": "execute_result"
    }
   ],
   "source": [
    "scenario.experiment.results"
   ]
  },
  {
   "cell_type": "code",
   "execution_count": null,
   "metadata": {},
   "outputs": [],
   "source": []
  }
 ],
 "metadata": {
  "kernelspec": {
   "display_name": "Python 3",
   "language": "python",
   "name": "python3"
  },
  "language_info": {
   "codemirror_mode": {
    "name": "ipython",
    "version": 3
   },
   "file_extension": ".py",
   "mimetype": "text/x-python",
   "name": "python",
   "nbconvert_exporter": "python",
   "pygments_lexer": "ipython3",
   "version": "3.6.8"
  }
 },
 "nbformat": 4,
 "nbformat_minor": 4
}
