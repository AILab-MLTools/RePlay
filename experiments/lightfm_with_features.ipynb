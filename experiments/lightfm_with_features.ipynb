{
 "cells": [
  {
   "cell_type": "code",
   "execution_count": 1,
   "metadata": {},
   "outputs": [],
   "source": [
    "%load_ext autoreload"
   ]
  },
  {
   "cell_type": "code",
   "execution_count": 2,
   "metadata": {},
   "outputs": [],
   "source": [
    "%autoreload 2"
   ]
  },
  {
   "cell_type": "code",
   "execution_count": 3,
   "metadata": {},
   "outputs": [],
   "source": [
    "%config Completer.use_jedi = False"
   ]
  },
  {
   "cell_type": "code",
   "execution_count": 4,
   "metadata": {},
   "outputs": [],
   "source": [
    "K=10\n",
    "SEED=1234"
   ]
  },
  {
   "cell_type": "markdown",
   "metadata": {},
   "source": [
    "В данном ноутбуке приведен пример использования гибридной модели LightFM, включая следующие этапы:\n",
    "\n",
    "    1) Загрузка данных\n",
    "    2) Предобоработка признаков в pyspark\n",
    "    3) Подбор параметров и обучение LightFM без использования признаков\n",
    "    4) Подсчет метрик\n",
    "    5) Подбор параметров и обучение LightFM с признаками"
   ]
  },
  {
   "cell_type": "markdown",
   "metadata": {},
   "source": [
    "# 1) Загрузка данных"
   ]
  },
  {
   "cell_type": "markdown",
   "metadata": {},
   "source": [
    "Пакет rs_datasets позволяет скачивать датасеты из интернета и ставится отдельно. В альфе работать не будет. \n",
    "Здесь для примера взят большой датасет, но можно взять movielens 1m, данные которого выложены в experiments/data, пример использования можно увидеть в ноутбуку replay_basics."
   ]
  },
  {
   "cell_type": "code",
   "execution_count": 6,
   "metadata": {},
   "outputs": [
    {
     "name": "stdout",
     "output_type": "stream",
     "text": [
      "ratings\n"
     ]
    },
    {
     "data": {
      "text/html": [
       "<div>\n",
       "<style scoped>\n",
       "    .dataframe tbody tr th:only-of-type {\n",
       "        vertical-align: middle;\n",
       "    }\n",
       "\n",
       "    .dataframe tbody tr th {\n",
       "        vertical-align: top;\n",
       "    }\n",
       "\n",
       "    .dataframe thead th {\n",
       "        text-align: right;\n",
       "    }\n",
       "</style>\n",
       "<table border=\"1\" class=\"dataframe\">\n",
       "  <thead>\n",
       "    <tr style=\"text-align: right;\">\n",
       "      <th></th>\n",
       "      <th>user_id</th>\n",
       "      <th>item_id</th>\n",
       "      <th>rating</th>\n",
       "      <th>timestamp</th>\n",
       "    </tr>\n",
       "  </thead>\n",
       "  <tbody>\n",
       "    <tr>\n",
       "      <th>0</th>\n",
       "      <td>1</td>\n",
       "      <td>122</td>\n",
       "      <td>5.0</td>\n",
       "      <td>838985046</td>\n",
       "    </tr>\n",
       "    <tr>\n",
       "      <th>1</th>\n",
       "      <td>1</td>\n",
       "      <td>185</td>\n",
       "      <td>5.0</td>\n",
       "      <td>838983525</td>\n",
       "    </tr>\n",
       "    <tr>\n",
       "      <th>2</th>\n",
       "      <td>1</td>\n",
       "      <td>231</td>\n",
       "      <td>5.0</td>\n",
       "      <td>838983392</td>\n",
       "    </tr>\n",
       "  </tbody>\n",
       "</table>\n",
       "</div>"
      ],
      "text/plain": [
       "   user_id  item_id  rating  timestamp\n",
       "0        1      122     5.0  838985046\n",
       "1        1      185     5.0  838983525\n",
       "2        1      231     5.0  838983392"
      ]
     },
     "metadata": {},
     "output_type": "display_data"
    },
    {
     "name": "stdout",
     "output_type": "stream",
     "text": [
      "\n",
      "items\n"
     ]
    },
    {
     "data": {
      "text/html": [
       "<div>\n",
       "<style scoped>\n",
       "    .dataframe tbody tr th:only-of-type {\n",
       "        vertical-align: middle;\n",
       "    }\n",
       "\n",
       "    .dataframe tbody tr th {\n",
       "        vertical-align: top;\n",
       "    }\n",
       "\n",
       "    .dataframe thead th {\n",
       "        text-align: right;\n",
       "    }\n",
       "</style>\n",
       "<table border=\"1\" class=\"dataframe\">\n",
       "  <thead>\n",
       "    <tr style=\"text-align: right;\">\n",
       "      <th></th>\n",
       "      <th>item_id</th>\n",
       "      <th>title</th>\n",
       "      <th>genres</th>\n",
       "    </tr>\n",
       "  </thead>\n",
       "  <tbody>\n",
       "    <tr>\n",
       "      <th>0</th>\n",
       "      <td>1</td>\n",
       "      <td>Toy Story (1995)</td>\n",
       "      <td>Adventure|Animation|Children|Comedy|Fantasy</td>\n",
       "    </tr>\n",
       "    <tr>\n",
       "      <th>1</th>\n",
       "      <td>2</td>\n",
       "      <td>Jumanji (1995)</td>\n",
       "      <td>Adventure|Children|Fantasy</td>\n",
       "    </tr>\n",
       "    <tr>\n",
       "      <th>2</th>\n",
       "      <td>3</td>\n",
       "      <td>Grumpier Old Men (1995)</td>\n",
       "      <td>Comedy|Romance</td>\n",
       "    </tr>\n",
       "  </tbody>\n",
       "</table>\n",
       "</div>"
      ],
      "text/plain": [
       "   item_id                    title  \\\n",
       "0        1         Toy Story (1995)   \n",
       "1        2           Jumanji (1995)   \n",
       "2        3  Grumpier Old Men (1995)   \n",
       "\n",
       "                                        genres  \n",
       "0  Adventure|Animation|Children|Comedy|Fantasy  \n",
       "1                   Adventure|Children|Fantasy  \n",
       "2                               Comedy|Romance  "
      ]
     },
     "metadata": {},
     "output_type": "display_data"
    },
    {
     "name": "stdout",
     "output_type": "stream",
     "text": [
      "\n",
      "tags\n"
     ]
    },
    {
     "data": {
      "text/html": [
       "<div>\n",
       "<style scoped>\n",
       "    .dataframe tbody tr th:only-of-type {\n",
       "        vertical-align: middle;\n",
       "    }\n",
       "\n",
       "    .dataframe tbody tr th {\n",
       "        vertical-align: top;\n",
       "    }\n",
       "\n",
       "    .dataframe thead th {\n",
       "        text-align: right;\n",
       "    }\n",
       "</style>\n",
       "<table border=\"1\" class=\"dataframe\">\n",
       "  <thead>\n",
       "    <tr style=\"text-align: right;\">\n",
       "      <th></th>\n",
       "      <th>user_id</th>\n",
       "      <th>item_id</th>\n",
       "      <th>tag</th>\n",
       "      <th>timestamp</th>\n",
       "    </tr>\n",
       "  </thead>\n",
       "  <tbody>\n",
       "    <tr>\n",
       "      <th>0</th>\n",
       "      <td>15</td>\n",
       "      <td>4973</td>\n",
       "      <td>excellent!</td>\n",
       "      <td>1215184630</td>\n",
       "    </tr>\n",
       "    <tr>\n",
       "      <th>1</th>\n",
       "      <td>20</td>\n",
       "      <td>1747</td>\n",
       "      <td>politics</td>\n",
       "      <td>1188263867</td>\n",
       "    </tr>\n",
       "    <tr>\n",
       "      <th>2</th>\n",
       "      <td>20</td>\n",
       "      <td>1747</td>\n",
       "      <td>satire</td>\n",
       "      <td>1188263867</td>\n",
       "    </tr>\n",
       "  </tbody>\n",
       "</table>\n",
       "</div>"
      ],
      "text/plain": [
       "   user_id  item_id         tag   timestamp\n",
       "0       15     4973  excellent!  1215184630\n",
       "1       20     1747    politics  1188263867\n",
       "2       20     1747      satire  1188263867"
      ]
     },
     "metadata": {},
     "output_type": "display_data"
    },
    {
     "name": "stdout",
     "output_type": "stream",
     "text": [
      "\n"
     ]
    }
   ],
   "source": [
    "from rs_datasets import MovieLens\n",
    "\n",
    "data = MovieLens(\"10m\")\n",
    "data.info()"
   ]
  },
  {
   "cell_type": "markdown",
   "metadata": {},
   "source": [
    "### Конвертация в формат библиотеки"
   ]
  },
  {
   "cell_type": "code",
   "execution_count": 7,
   "metadata": {},
   "outputs": [],
   "source": [
    "from replay.data_preparator import DataPreparator\n",
    "\n",
    "log = DataPreparator().transform(\n",
    "    data=data.ratings,\n",
    "    columns_names={\n",
    "        \"user_id\": \"user_id\",\n",
    "        \"item_id\": \"item_id\",\n",
    "        \"relevance\": \"rating\",\n",
    "        \"timestamp\": \"timestamp\"\n",
    "    }\n",
    ")"
   ]
  },
  {
   "cell_type": "markdown",
   "metadata": {},
   "source": [
    "### Разбиение данных"
   ]
  },
  {
   "cell_type": "code",
   "execution_count": 9,
   "metadata": {},
   "outputs": [],
   "source": [
    "from replay.splitters import UserSplitter\n",
    "\n",
    "user_random_splitter = UserSplitter(\n",
    "    item_test_size=K,\n",
    "    user_test_size=500,\n",
    "    drop_cold_items=True,\n",
    "    drop_cold_users=True,\n",
    "    shuffle=True,\n",
    "    seed=SEED\n",
    ")"
   ]
  },
  {
   "cell_type": "code",
   "execution_count": 10,
   "metadata": {},
   "outputs": [
    {
     "data": {
      "text/plain": [
       "(9995054, 5000)"
      ]
     },
     "execution_count": 10,
     "metadata": {},
     "output_type": "execute_result"
    }
   ],
   "source": [
    "train, test = user_random_splitter.split(log)\n",
    "train.count(), test.count()"
   ]
  },
  {
   "cell_type": "code",
   "execution_count": 11,
   "metadata": {},
   "outputs": [
    {
     "data": {
      "text/plain": [
       "(9990054, 5000)"
      ]
     },
     "execution_count": 11,
     "metadata": {},
     "output_type": "execute_result"
    }
   ],
   "source": [
    "train_opt, val_opt = user_random_splitter.split(train)\n",
    "train_opt.count(), val_opt.count()"
   ]
  },
  {
   "cell_type": "markdown",
   "metadata": {},
   "source": [
    "# 2) Предобоработка признаков в pyspark"
   ]
  },
  {
   "cell_type": "markdown",
   "metadata": {},
   "source": [
    "### Конвертация в формат библиотеки"
   ]
  },
  {
   "cell_type": "code",
   "execution_count": 12,
   "metadata": {},
   "outputs": [
    {
     "name": "stdout",
     "output_type": "stream",
     "text": [
      "CPU times: user 47.4 ms, sys: 0 ns, total: 47.4 ms\n",
      "Wall time: 177 ms\n"
     ]
    }
   ],
   "source": [
    "%%time\n",
    "item_features = DataPreparator().transform(\n",
    "    data=data.items,\n",
    "    columns_names={\n",
    "        \"item_id\": \"item_id\"\n",
    "    }\n",
    ")"
   ]
  },
  {
   "cell_type": "code",
   "execution_count": 13,
   "metadata": {},
   "outputs": [
    {
     "name": "stdout",
     "output_type": "stream",
     "text": [
      "+-------+--------------------+----------------+\n",
      "|item_id|              genres|           title|\n",
      "+-------+--------------------+----------------+\n",
      "|      1|Adventure|Animati...|Toy Story (1995)|\n",
      "|      2|Adventure|Childre...|  Jumanji (1995)|\n",
      "+-------+--------------------+----------------+\n",
      "only showing top 2 rows\n",
      "\n"
     ]
    }
   ],
   "source": [
    "item_features.show(2)"
   ]
  },
  {
   "cell_type": "markdown",
   "metadata": {},
   "source": [
    "### Год"
   ]
  },
  {
   "cell_type": "code",
   "execution_count": 14,
   "metadata": {},
   "outputs": [],
   "source": [
    "from pyspark.sql import functions as sf\n",
    "from pyspark.sql.types import IntegerType"
   ]
  },
  {
   "cell_type": "code",
   "execution_count": 15,
   "metadata": {},
   "outputs": [
    {
     "name": "stdout",
     "output_type": "stream",
     "text": [
      "+-------+----+\n",
      "|item_id|year|\n",
      "+-------+----+\n",
      "|      1|1995|\n",
      "|      2|1995|\n",
      "+-------+----+\n",
      "only showing top 2 rows\n",
      "\n"
     ]
    }
   ],
   "source": [
    "year = item_features.withColumn('year', sf.substring(sf.col('title'), -5, 4).astype(IntegerType())).select('item_id', 'year')\n",
    "year.show(2)"
   ]
  },
  {
   "cell_type": "markdown",
   "metadata": {},
   "source": [
    "### Жанры"
   ]
  },
  {
   "cell_type": "code",
   "execution_count": 16,
   "metadata": {},
   "outputs": [],
   "source": [
    "from replay.session_handler import State\n",
    "from pyspark.sql.functions import split\n",
    "\n",
    "genres = (\n",
    "    State().session.createDataFrame(data.items[[\"item_id\", \"genres\"]])\n",
    "    .select(\n",
    "        \"item_id\",\n",
    "        split(\"genres\", \"\\|\").alias(\"genres\")\n",
    "    )\n",
    ")"
   ]
  },
  {
   "cell_type": "code",
   "execution_count": 17,
   "metadata": {},
   "outputs": [
    {
     "name": "stdout",
     "output_type": "stream",
     "text": [
      "+-------+--------------------+\n",
      "|item_id|              genres|\n",
      "+-------+--------------------+\n",
      "|      1|[Adventure, Anima...|\n",
      "|      2|[Adventure, Child...|\n",
      "|      3|   [Comedy, Romance]|\n",
      "|      4|[Comedy, Drama, R...|\n",
      "|      5|            [Comedy]|\n",
      "|      6|[Action, Crime, T...|\n",
      "|      7|   [Comedy, Romance]|\n",
      "|      8|[Adventure, Child...|\n",
      "|      9|            [Action]|\n",
      "|     10|[Action, Adventur...|\n",
      "|     11|[Comedy, Drama, R...|\n",
      "|     12|    [Comedy, Horror]|\n",
      "|     13|[Animation, Child...|\n",
      "|     14|             [Drama]|\n",
      "|     15|[Action, Adventur...|\n",
      "|     16|      [Crime, Drama]|\n",
      "|     17|[Comedy, Drama, R...|\n",
      "|     18|[Comedy, Drama, T...|\n",
      "|     19|            [Comedy]|\n",
      "|     20|[Action, Comedy, ...|\n",
      "+-------+--------------------+\n",
      "only showing top 20 rows\n",
      "\n"
     ]
    }
   ],
   "source": [
    "genres.show()"
   ]
  },
  {
   "cell_type": "code",
   "execution_count": 18,
   "metadata": {},
   "outputs": [],
   "source": [
    "from pyspark.sql.functions import explode\n",
    "\n",
    "genres_list = (\n",
    "    genres.select(explode(\"genres\").alias(\"genre\"))\n",
    "    .distinct().filter('genre <> \"(no genres listed)\"')\n",
    "    .toPandas()[\"genre\"].tolist()\n",
    ")"
   ]
  },
  {
   "cell_type": "code",
   "execution_count": 19,
   "metadata": {},
   "outputs": [
    {
     "data": {
      "text/plain": [
       "['Documentary',\n",
       " 'Fantasy',\n",
       " 'IMAX',\n",
       " 'Adventure',\n",
       " 'War',\n",
       " 'Animation',\n",
       " 'Comedy',\n",
       " 'Thriller',\n",
       " 'Film-Noir',\n",
       " 'Crime',\n",
       " 'Sci-Fi',\n",
       " 'Musical',\n",
       " 'Mystery',\n",
       " 'Drama',\n",
       " 'Horror',\n",
       " 'Western',\n",
       " 'Romance',\n",
       " 'Children',\n",
       " 'Action']"
      ]
     },
     "execution_count": 19,
     "metadata": {},
     "output_type": "execute_result"
    }
   ],
   "source": [
    "genres_list"
   ]
  },
  {
   "cell_type": "code",
   "execution_count": 20,
   "metadata": {},
   "outputs": [
    {
     "data": {
      "text/plain": [
       "10681"
      ]
     },
     "execution_count": 20,
     "metadata": {},
     "output_type": "execute_result"
    }
   ],
   "source": [
    "from pyspark.sql.functions import col, lit, array_contains\n",
    "from pyspark.sql.types import IntegerType\n",
    "\n",
    "item_features = genres\n",
    "for genre in genres_list:\n",
    "    item_features = item_features.withColumn(\n",
    "        genre,\n",
    "        array_contains(col(\"genres\"), genre).astype(IntegerType())\n",
    "    )\n",
    "item_features = item_features.drop(\"genres\").cache()\n",
    "item_features.count()"
   ]
  },
  {
   "cell_type": "code",
   "execution_count": 21,
   "metadata": {},
   "outputs": [
    {
     "name": "stdout",
     "output_type": "stream",
     "text": [
      "+-------+-----------+-------+----+---------+---+---------+------+--------+---------+-----+------+-------+-------+-----+------+-------+-------+--------+------+\n",
      "|item_id|Documentary|Fantasy|IMAX|Adventure|War|Animation|Comedy|Thriller|Film-Noir|Crime|Sci-Fi|Musical|Mystery|Drama|Horror|Western|Romance|Children|Action|\n",
      "+-------+-----------+-------+----+---------+---+---------+------+--------+---------+-----+------+-------+-------+-----+------+-------+-------+--------+------+\n",
      "|      1|          0|      1|   0|        1|  0|        1|     1|       0|        0|    0|     0|      0|      0|    0|     0|      0|      0|       1|     0|\n",
      "|      2|          0|      1|   0|        1|  0|        0|     0|       0|        0|    0|     0|      0|      0|    0|     0|      0|      0|       1|     0|\n",
      "+-------+-----------+-------+----+---------+---+---------+------+--------+---------+-----+------+-------+-------+-----+------+-------+-------+--------+------+\n",
      "only showing top 2 rows\n",
      "\n"
     ]
    }
   ],
   "source": [
    "item_features.show(2)"
   ]
  },
  {
   "cell_type": "code",
   "execution_count": 22,
   "metadata": {},
   "outputs": [
    {
     "data": {
      "text/plain": [
       "10681"
      ]
     },
     "execution_count": 22,
     "metadata": {},
     "output_type": "execute_result"
    }
   ],
   "source": [
    "item_features = item_features.join(year, on='item_id', how='inner')\n",
    "item_features.count()"
   ]
  },
  {
   "cell_type": "code",
   "execution_count": 23,
   "metadata": {},
   "outputs": [
    {
     "data": {
      "text/plain": [
       "DataFrame[item_id: int, Documentary: int, Fantasy: int, IMAX: int, Adventure: int, War: int, Animation: int, Comedy: int, Thriller: int, Film-Noir: int, Crime: int, Sci-Fi: int, Musical: int, Mystery: int, Drama: int, Horror: int, Western: int, Romance: int, Children: int, Action: int, year: int]"
      ]
     },
     "execution_count": 23,
     "metadata": {},
     "output_type": "execute_result"
    }
   ],
   "source": [
    "item_features.cache()"
   ]
  },
  {
   "cell_type": "markdown",
   "metadata": {},
   "source": [
    "# 3) Подбор параметров и обучение LightFM без использования признаков"
   ]
  },
  {
   "cell_type": "code",
   "execution_count": 24,
   "metadata": {},
   "outputs": [],
   "source": [
    "from replay.models import LightFMWrap\n",
    "\n",
    "# зафиксируем лосс-функцию - warp loss, так как зачастую он работает довольно хорошо\n",
    "model = LightFMWrap(random_state=SEED, loss='warp')"
   ]
  },
  {
   "cell_type": "markdown",
   "metadata": {},
   "source": [
    "Посмотрим на используемые по умолчанию границы параметров для поиска:"
   ]
  },
  {
   "cell_type": "code",
   "execution_count": 25,
   "metadata": {},
   "outputs": [
    {
     "data": {
      "text/plain": [
       "{'loss': {'type': 'categorical',\n",
       "  'args': ['logistic', 'bpr', 'warp', 'warp-kos']},\n",
       " 'no_components': {'type': 'loguniform_int', 'args': [8, 512]}}"
      ]
     },
     "execution_count": 25,
     "metadata": {},
     "output_type": "execute_result"
    }
   ],
   "source": [
    "model._search_space"
   ]
  },
  {
   "cell_type": "markdown",
   "metadata": {},
   "source": [
    "Будем искать оптимальное число компонент"
   ]
  },
  {
   "cell_type": "code",
   "execution_count": 87,
   "metadata": {},
   "outputs": [
    {
     "name": "stderr",
     "output_type": "stream",
     "text": [
      "24-May-21 11:14:13, replay, DEBUG: Фит модели в оптимизации\n",
      "DEBUG:replay:Фит модели в оптимизации\n",
      "24-May-21 11:14:13, replay, DEBUG: Начало обучения LightFMWrap\n",
      "DEBUG:replay:Начало обучения LightFMWrap\n",
      "24-May-21 11:14:13, replay, DEBUG: Основная стадия обучения (fit)\n",
      "DEBUG:replay:Основная стадия обучения (fit)\n",
      "24-May-21 11:16:22, replay, DEBUG: Предикт модели в оптимизации\n",
      "DEBUG:replay:Предикт модели в оптимизации\n",
      "24-May-21 11:16:22, replay, DEBUG: Начало предикта LightFMWrap\n",
      "DEBUG:replay:Начало предикта LightFMWrap\n",
      "24-May-21 11:17:21, replay, DEBUG: Подсчет метрики в оптимизации\n",
      "DEBUG:replay:Подсчет метрики в оптимизации\n",
      "24-May-21 11:17:44, replay, DEBUG: NDCG=0.140141\n",
      "DEBUG:replay:NDCG=0.140141\n",
      "\u001B[32m[I 2021-05-24 11:17:44,106]\u001B[0m Trial 1 finished with value: 0.14014071281428445 and parameters: {'loss': 'warp', 'no_components': 6}. Best is trial 1 with value: 0.14014071281428445.\u001B[0m\n",
      "24-May-21 11:17:44, replay, DEBUG: Фит модели в оптимизации\n",
      "DEBUG:replay:Фит модели в оптимизации\n",
      "24-May-21 11:17:44, replay, DEBUG: Начало обучения LightFMWrap\n",
      "DEBUG:replay:Начало обучения LightFMWrap\n",
      "24-May-21 11:17:44, replay, DEBUG: Основная стадия обучения (fit)\n",
      "DEBUG:replay:Основная стадия обучения (fit)\n",
      "24-May-21 11:20:06, replay, DEBUG: Предикт модели в оптимизации\n",
      "DEBUG:replay:Предикт модели в оптимизации\n",
      "24-May-21 11:20:06, replay, DEBUG: Начало предикта LightFMWrap\n",
      "DEBUG:replay:Начало предикта LightFMWrap\n",
      "24-May-21 11:21:12, replay, DEBUG: Подсчет метрики в оптимизации\n",
      "DEBUG:replay:Подсчет метрики в оптимизации\n",
      "24-May-21 11:21:34, replay, DEBUG: NDCG=0.153851\n",
      "DEBUG:replay:NDCG=0.153851\n",
      "\u001B[32m[I 2021-05-24 11:21:34,643]\u001B[0m Trial 2 finished with value: 0.15385095893037595 and parameters: {'loss': 'warp', 'no_components': 10}. Best is trial 2 with value: 0.15385095893037595.\u001B[0m\n",
      "24-May-21 11:21:34, replay, DEBUG: Фит модели в оптимизации\n",
      "DEBUG:replay:Фит модели в оптимизации\n",
      "24-May-21 11:21:34, replay, DEBUG: Начало обучения LightFMWrap\n",
      "DEBUG:replay:Начало обучения LightFMWrap\n",
      "24-May-21 11:21:34, replay, DEBUG: Основная стадия обучения (fit)\n",
      "DEBUG:replay:Основная стадия обучения (fit)\n",
      "24-May-21 11:24:07, replay, DEBUG: Предикт модели в оптимизации\n",
      "DEBUG:replay:Предикт модели в оптимизации\n",
      "24-May-21 11:24:07, replay, DEBUG: Начало предикта LightFMWrap\n",
      "DEBUG:replay:Начало предикта LightFMWrap\n",
      "24-May-21 11:25:12, replay, DEBUG: Подсчет метрики в оптимизации\n",
      "DEBUG:replay:Подсчет метрики в оптимизации\n",
      "24-May-21 11:25:33, replay, DEBUG: NDCG=0.165303\n",
      "DEBUG:replay:NDCG=0.165303\n",
      "\u001B[32m[I 2021-05-24 11:25:33,570]\u001B[0m Trial 3 finished with value: 0.16530346926210077 and parameters: {'loss': 'warp', 'no_components': 17}. Best is trial 3 with value: 0.16530346926210077.\u001B[0m\n",
      "24-May-21 11:25:33, replay, DEBUG: Фит модели в оптимизации\n",
      "DEBUG:replay:Фит модели в оптимизации\n",
      "24-May-21 11:25:33, replay, DEBUG: Начало обучения LightFMWrap\n",
      "DEBUG:replay:Начало обучения LightFMWrap\n",
      "24-May-21 11:25:33, replay, DEBUG: Основная стадия обучения (fit)\n",
      "DEBUG:replay:Основная стадия обучения (fit)\n",
      "24-May-21 11:27:47, replay, DEBUG: Предикт модели в оптимизации\n",
      "DEBUG:replay:Предикт модели в оптимизации\n",
      "24-May-21 11:27:47, replay, DEBUG: Начало предикта LightFMWrap\n",
      "DEBUG:replay:Начало предикта LightFMWrap\n",
      "24-May-21 11:28:48, replay, DEBUG: Подсчет метрики в оптимизации\n",
      "DEBUG:replay:Подсчет метрики в оптимизации\n",
      "24-May-21 11:29:10, replay, DEBUG: NDCG=0.148231\n",
      "DEBUG:replay:NDCG=0.148231\n",
      "\u001B[32m[I 2021-05-24 11:29:10,910]\u001B[0m Trial 4 finished with value: 0.14823075581031872 and parameters: {'loss': 'warp', 'no_components': 8}. Best is trial 3 with value: 0.16530346926210077.\u001B[0m\n",
      "24-May-21 11:29:10, replay, DEBUG: Фит модели в оптимизации\n",
      "DEBUG:replay:Фит модели в оптимизации\n",
      "24-May-21 11:29:10, replay, DEBUG: Начало обучения LightFMWrap\n",
      "DEBUG:replay:Начало обучения LightFMWrap\n",
      "24-May-21 11:29:10, replay, DEBUG: Основная стадия обучения (fit)\n",
      "DEBUG:replay:Основная стадия обучения (fit)\n",
      "24-May-21 11:31:28, replay, DEBUG: Предикт модели в оптимизации\n",
      "DEBUG:replay:Предикт модели в оптимизации\n",
      "24-May-21 11:31:28, replay, DEBUG: Начало предикта LightFMWrap\n",
      "DEBUG:replay:Начало предикта LightFMWrap\n",
      "24-May-21 11:32:30, replay, DEBUG: Подсчет метрики в оптимизации\n",
      "DEBUG:replay:Подсчет метрики в оптимизации\n",
      "24-May-21 11:33:00, replay, DEBUG: NDCG=0.157205\n",
      "DEBUG:replay:NDCG=0.157205\n",
      "\u001B[32m[I 2021-05-24 11:33:00,821]\u001B[0m Trial 5 finished with value: 0.15720468042695543 and parameters: {'loss': 'warp', 'no_components': 11}. Best is trial 3 with value: 0.16530346926210077.\u001B[0m\n",
      "24-May-21 11:33:00, replay, DEBUG: Фит модели в оптимизации\n",
      "DEBUG:replay:Фит модели в оптимизации\n",
      "24-May-21 11:33:00, replay, DEBUG: Начало обучения LightFMWrap\n",
      "DEBUG:replay:Начало обучения LightFMWrap\n",
      "24-May-21 11:33:00, replay, DEBUG: Основная стадия обучения (fit)\n",
      "DEBUG:replay:Основная стадия обучения (fit)\n",
      "24-May-21 11:35:58, replay, DEBUG: Предикт модели в оптимизации\n",
      "DEBUG:replay:Предикт модели в оптимизации\n",
      "24-May-21 11:35:58, replay, DEBUG: Начало предикта LightFMWrap\n",
      "DEBUG:replay:Начало предикта LightFMWrap\n",
      "24-May-21 11:36:58, replay, DEBUG: Подсчет метрики в оптимизации\n",
      "DEBUG:replay:Подсчет метрики в оптимизации\n",
      "24-May-21 11:37:26, replay, DEBUG: NDCG=0.192254\n",
      "DEBUG:replay:NDCG=0.192254\n",
      "\u001B[32m[I 2021-05-24 11:37:26,553]\u001B[0m Trial 6 finished with value: 0.19225358058290826 and parameters: {'loss': 'warp', 'no_components': 70}. Best is trial 6 with value: 0.19225358058290826.\u001B[0m\n",
      "24-May-21 11:37:26, replay, DEBUG: Фит модели в оптимизации\n",
      "DEBUG:replay:Фит модели в оптимизации\n",
      "24-May-21 11:37:26, replay, DEBUG: Начало обучения LightFMWrap\n",
      "DEBUG:replay:Начало обучения LightFMWrap\n",
      "24-May-21 11:37:26, replay, DEBUG: Основная стадия обучения (fit)\n",
      "DEBUG:replay:Основная стадия обучения (fit)\n",
      "24-May-21 11:39:42, replay, DEBUG: Предикт модели в оптимизации\n",
      "DEBUG:replay:Предикт модели в оптимизации\n",
      "24-May-21 11:39:42, replay, DEBUG: Начало предикта LightFMWrap\n",
      "DEBUG:replay:Начало предикта LightFMWrap\n",
      "24-May-21 11:40:42, replay, DEBUG: Подсчет метрики в оптимизации\n",
      "DEBUG:replay:Подсчет метрики в оптимизации\n",
      "24-May-21 11:41:05, replay, DEBUG: NDCG=0.153572\n",
      "DEBUG:replay:NDCG=0.153572\n",
      "\u001B[32m[I 2021-05-24 11:41:05,787]\u001B[0m Trial 7 finished with value: 0.15357176710312745 and parameters: {'loss': 'warp', 'no_components': 10}. Best is trial 6 with value: 0.19225358058290826.\u001B[0m\n",
      "24-May-21 11:41:05, replay, DEBUG: Фит модели в оптимизации\n",
      "DEBUG:replay:Фит модели в оптимизации\n",
      "24-May-21 11:41:05, replay, DEBUG: Начало обучения LightFMWrap\n",
      "DEBUG:replay:Начало обучения LightFMWrap\n",
      "24-May-21 11:41:05, replay, DEBUG: Основная стадия обучения (fit)\n",
      "DEBUG:replay:Основная стадия обучения (fit)\n",
      "24-May-21 11:43:52, replay, DEBUG: Предикт модели в оптимизации\n",
      "DEBUG:replay:Предикт модели в оптимизации\n",
      "24-May-21 11:43:52, replay, DEBUG: Начало предикта LightFMWrap\n",
      "DEBUG:replay:Начало предикта LightFMWrap\n",
      "24-May-21 11:44:56, replay, DEBUG: Подсчет метрики в оптимизации\n",
      "DEBUG:replay:Подсчет метрики в оптимизации\n",
      "24-May-21 11:45:19, replay, DEBUG: NDCG=0.192404\n",
      "DEBUG:replay:NDCG=0.192404\n",
      "\u001B[32m[I 2021-05-24 11:45:19,266]\u001B[0m Trial 8 finished with value: 0.1924041088075205 and parameters: {'loss': 'warp', 'no_components': 63}. Best is trial 8 with value: 0.1924041088075205.\u001B[0m\n",
      "24-May-21 11:45:19, replay, DEBUG: Фит модели в оптимизации\n",
      "DEBUG:replay:Фит модели в оптимизации\n",
      "24-May-21 11:45:19, replay, DEBUG: Начало обучения LightFMWrap\n",
      "DEBUG:replay:Начало обучения LightFMWrap\n",
      "24-May-21 11:45:19, replay, DEBUG: Основная стадия обучения (fit)\n",
      "DEBUG:replay:Основная стадия обучения (fit)\n",
      "24-May-21 11:47:38, replay, DEBUG: Предикт модели в оптимизации\n",
      "DEBUG:replay:Предикт модели в оптимизации\n",
      "24-May-21 11:47:38, replay, DEBUG: Начало предикта LightFMWrap\n",
      "DEBUG:replay:Начало предикта LightFMWrap\n",
      "24-May-21 11:48:40, replay, DEBUG: Подсчет метрики в оптимизации\n",
      "DEBUG:replay:Подсчет метрики в оптимизации\n",
      "24-May-21 11:49:03, replay, DEBUG: NDCG=0.158178\n",
      "DEBUG:replay:NDCG=0.158178\n",
      "\u001B[32m[I 2021-05-24 11:49:03,587]\u001B[0m Trial 9 finished with value: 0.1581782216683179 and parameters: {'loss': 'warp', 'no_components': 13}. Best is trial 8 with value: 0.1924041088075205.\u001B[0m\n",
      "24-May-21 11:49:03, replay, DEBUG: Фит модели в оптимизации\n",
      "DEBUG:replay:Фит модели в оптимизации\n",
      "24-May-21 11:49:03, replay, DEBUG: Начало обучения LightFMWrap\n"
     ]
    },
    {
     "name": "stderr",
     "output_type": "stream",
     "text": [
      "DEBUG:replay:Начало обучения LightFMWrap\n",
      "24-May-21 11:49:03, replay, DEBUG: Основная стадия обучения (fit)\n",
      "DEBUG:replay:Основная стадия обучения (fit)\n",
      "24-May-21 11:51:53, replay, DEBUG: Предикт модели в оптимизации\n",
      "DEBUG:replay:Предикт модели в оптимизации\n",
      "24-May-21 11:51:53, replay, DEBUG: Начало предикта LightFMWrap\n",
      "DEBUG:replay:Начало предикта LightFMWrap\n",
      "24-May-21 11:52:53, replay, DEBUG: Подсчет метрики в оптимизации\n",
      "DEBUG:replay:Подсчет метрики в оптимизации\n",
      "24-May-21 11:53:15, replay, DEBUG: NDCG=0.184472\n",
      "DEBUG:replay:NDCG=0.184472\n",
      "\u001B[32m[I 2021-05-24 11:53:15,715]\u001B[0m Trial 10 finished with value: 0.18447151841981346 and parameters: {'loss': 'warp', 'no_components': 35}. Best is trial 8 with value: 0.1924041088075205.\u001B[0m\n"
     ]
    }
   ],
   "source": [
    "best_params = model.optimize(train=train_opt, test=val_opt, param_grid={'no_components':[5, 128]}, budget=10)"
   ]
  },
  {
   "cell_type": "code",
   "execution_count": 26,
   "metadata": {},
   "outputs": [],
   "source": [
    "best_params = {'no_components': 63}"
   ]
  },
  {
   "cell_type": "code",
   "execution_count": 27,
   "metadata": {},
   "outputs": [
    {
     "data": {
      "text/plain": [
       "{'no_components': 63}"
      ]
     },
     "execution_count": 27,
     "metadata": {},
     "output_type": "execute_result"
    }
   ],
   "source": [
    "best_params"
   ]
  },
  {
   "cell_type": "code",
   "execution_count": 28,
   "metadata": {},
   "outputs": [],
   "source": [
    "model = LightFMWrap(random_state=SEED, loss='warp', **best_params)"
   ]
  },
  {
   "cell_type": "code",
   "execution_count": 29,
   "metadata": {},
   "outputs": [
    {
     "name": "stderr",
     "output_type": "stream",
     "text": [
      "24-May-21 13:55:23, replay, DEBUG: Начало обучения LightFMWrap\n",
      "DEBUG:replay:Начало обучения LightFMWrap\n",
      "24-May-21 13:55:23, replay, DEBUG: Предварительная стадия обучения (pre-fit)\n",
      "DEBUG:replay:Предварительная стадия обучения (pre-fit)\n",
      "24-May-21 13:55:27, replay, DEBUG: Основная стадия обучения (fit)\n",
      "DEBUG:replay:Основная стадия обучения (fit)\n"
     ]
    },
    {
     "name": "stdout",
     "output_type": "stream",
     "text": [
      "CPU times: user 31min 25s, sys: 6.92 s, total: 31min 32s\n",
      "Wall time: 1min 17s\n"
     ]
    }
   ],
   "source": [
    "%%time\n",
    "model.fit(train)"
   ]
  },
  {
   "cell_type": "code",
   "execution_count": 30,
   "metadata": {},
   "outputs": [
    {
     "name": "stderr",
     "output_type": "stream",
     "text": [
      "24-May-21 13:56:40, replay, DEBUG: Начало предикта LightFMWrap\n",
      "DEBUG:replay:Начало предикта LightFMWrap\n"
     ]
    },
    {
     "name": "stdout",
     "output_type": "stream",
     "text": [
      "CPU times: user 6.25 s, sys: 1.39 s, total: 7.64 s\n",
      "Wall time: 26.7 s\n"
     ]
    }
   ],
   "source": [
    "%%time\n",
    "recs = model.predict(\n",
    "    k=K,\n",
    "    users=test.select('user_id').distinct(),\n",
    "    log=train,\n",
    "    filter_seen_items=True\n",
    ")"
   ]
  },
  {
   "cell_type": "markdown",
   "metadata": {},
   "source": [
    "# 4) Подсчет метрик"
   ]
  },
  {
   "cell_type": "code",
   "execution_count": 31,
   "metadata": {
    "ExecuteTime": {
     "end_time": "2020-02-10T16:07:28.942205Z",
     "start_time": "2020-02-10T16:07:26.281475Z"
    },
    "jupyter": {
     "outputs_hidden": false
    }
   },
   "outputs": [],
   "source": [
    "from replay.metrics import HitRate, NDCG, MAP\n",
    "from replay.experiment import Experiment\n",
    "\n",
    "metrics = Experiment(test, {NDCG(): K,\n",
    "                            MAP() : K,\n",
    "                            HitRate(): [1, K]})\n"
   ]
  },
  {
   "cell_type": "code",
   "execution_count": 32,
   "metadata": {},
   "outputs": [
    {
     "name": "stdout",
     "output_type": "stream",
     "text": [
      "CPU times: user 74.8 ms, sys: 20.1 ms, total: 94.9 ms\n",
      "Wall time: 14.3 s\n"
     ]
    },
    {
     "data": {
      "text/html": [
       "<div>\n",
       "<style scoped>\n",
       "    .dataframe tbody tr th:only-of-type {\n",
       "        vertical-align: middle;\n",
       "    }\n",
       "\n",
       "    .dataframe tbody tr th {\n",
       "        vertical-align: top;\n",
       "    }\n",
       "\n",
       "    .dataframe thead th {\n",
       "        text-align: right;\n",
       "    }\n",
       "</style>\n",
       "<table border=\"1\" class=\"dataframe\">\n",
       "  <thead>\n",
       "    <tr style=\"text-align: right;\">\n",
       "      <th></th>\n",
       "      <th>HitRate@1</th>\n",
       "      <th>HitRate@10</th>\n",
       "      <th>MAP@10</th>\n",
       "      <th>NDCG@10</th>\n",
       "    </tr>\n",
       "  </thead>\n",
       "  <tbody>\n",
       "    <tr>\n",
       "      <th>LightFM_no_features</th>\n",
       "      <td>0.38</td>\n",
       "      <td>0.82</td>\n",
       "      <td>0.126265</td>\n",
       "      <td>0.24204</td>\n",
       "    </tr>\n",
       "  </tbody>\n",
       "</table>\n",
       "</div>"
      ],
      "text/plain": [
       "                     HitRate@1  HitRate@10    MAP@10  NDCG@10\n",
       "LightFM_no_features       0.38        0.82  0.126265  0.24204"
      ]
     },
     "execution_count": 32,
     "metadata": {},
     "output_type": "execute_result"
    }
   ],
   "source": [
    "%%time\n",
    "metrics.add_result(\"LightFM_no_features\", recs)\n",
    "metrics.results"
   ]
  },
  {
   "cell_type": "markdown",
   "metadata": {},
   "source": [
    "# 5) Подбор параметров и обучение LightFM с использованием признаков"
   ]
  },
  {
   "cell_type": "code",
   "execution_count": 33,
   "metadata": {},
   "outputs": [],
   "source": [
    "from replay.models import LightFMWrap\n",
    "\n",
    "model_feat = LightFMWrap(random_state=SEED, loss='warp')"
   ]
  },
  {
   "cell_type": "code",
   "execution_count": 34,
   "metadata": {},
   "outputs": [
    {
     "name": "stderr",
     "output_type": "stream",
     "text": [
      "\u001B[32m[I 2021-05-24 13:57:22,270]\u001B[0m A new study created in memory with name: no-name-8f8a850c-a8ca-43fb-b0f7-b9466b937745\u001B[0m\n",
      "24-May-21 13:57:22, replay, DEBUG: Фит модели в оптимизации\n",
      "DEBUG:replay:Фит модели в оптимизации\n",
      "24-May-21 13:57:22, replay, DEBUG: Начало обучения LightFMWrap\n",
      "DEBUG:replay:Начало обучения LightFMWrap\n",
      "24-May-21 13:57:22, replay, DEBUG: Предварительная стадия обучения (pre-fit)\n",
      "DEBUG:replay:Предварительная стадия обучения (pre-fit)\n",
      "24-May-21 13:57:25, replay, DEBUG: Основная стадия обучения (fit)\n",
      "DEBUG:replay:Основная стадия обучения (fit)\n",
      "24-May-21 14:02:30, replay, DEBUG: Предикт модели в оптимизации\n",
      "DEBUG:replay:Предикт модели в оптимизации\n",
      "24-May-21 14:02:30, replay, DEBUG: Начало предикта LightFMWrap\n",
      "DEBUG:replay:Начало предикта LightFMWrap\n",
      "24-May-21 14:02:59, replay, DEBUG: Подсчет метрики в оптимизации\n",
      "DEBUG:replay:Подсчет метрики в оптимизации\n",
      "24-May-21 14:03:05, replay, DEBUG: NDCG=0.150733\n",
      "DEBUG:replay:NDCG=0.150733\n",
      "\u001B[32m[I 2021-05-24 14:03:05,912]\u001B[0m Trial 0 finished with value: 0.15073324289878015 and parameters: {'no_components': 7}. Best is trial 0 with value: 0.15073324289878015.\u001B[0m\n",
      "24-May-21 14:03:05, replay, DEBUG: Фит модели в оптимизации\n",
      "DEBUG:replay:Фит модели в оптимизации\n",
      "24-May-21 14:03:05, replay, DEBUG: Начало обучения LightFMWrap\n",
      "DEBUG:replay:Начало обучения LightFMWrap\n",
      "24-May-21 14:03:05, replay, DEBUG: Основная стадия обучения (fit)\n",
      "DEBUG:replay:Основная стадия обучения (fit)\n",
      "24-May-21 14:15:20, replay, DEBUG: Предикт модели в оптимизации\n",
      "DEBUG:replay:Предикт модели в оптимизации\n",
      "24-May-21 14:15:20, replay, DEBUG: Начало предикта LightFMWrap\n",
      "DEBUG:replay:Начало предикта LightFMWrap\n",
      "24-May-21 14:15:44, replay, DEBUG: Подсчет метрики в оптимизации\n",
      "DEBUG:replay:Подсчет метрики в оптимизации\n",
      "24-May-21 14:15:51, replay, DEBUG: NDCG=0.177973\n",
      "DEBUG:replay:NDCG=0.177973\n",
      "\u001B[32m[I 2021-05-24 14:15:51,241]\u001B[0m Trial 1 finished with value: 0.17797260897565567 and parameters: {'no_components': 39}. Best is trial 1 with value: 0.17797260897565567.\u001B[0m\n",
      "24-May-21 14:15:51, replay, DEBUG: Фит модели в оптимизации\n",
      "DEBUG:replay:Фит модели в оптимизации\n",
      "24-May-21 14:15:51, replay, DEBUG: Начало обучения LightFMWrap\n",
      "DEBUG:replay:Начало обучения LightFMWrap\n",
      "24-May-21 14:15:51, replay, DEBUG: Основная стадия обучения (fit)\n",
      "DEBUG:replay:Основная стадия обучения (fit)\n",
      "24-May-21 14:32:21, replay, DEBUG: Предикт модели в оптимизации\n",
      "DEBUG:replay:Предикт модели в оптимизации\n",
      "24-May-21 14:32:21, replay, DEBUG: Начало предикта LightFMWrap\n",
      "DEBUG:replay:Начало предикта LightFMWrap\n",
      "24-May-21 14:32:48, replay, DEBUG: Подсчет метрики в оптимизации\n",
      "DEBUG:replay:Подсчет метрики в оптимизации\n",
      "24-May-21 14:32:56, replay, DEBUG: NDCG=0.192829\n",
      "DEBUG:replay:NDCG=0.192829\n",
      "\u001B[32m[I 2021-05-24 14:32:56,643]\u001B[0m Trial 2 finished with value: 0.19282892065310958 and parameters: {'no_components': 82}. Best is trial 2 with value: 0.19282892065310958.\u001B[0m\n",
      "24-May-21 14:32:56, replay, DEBUG: Фит модели в оптимизации\n",
      "DEBUG:replay:Фит модели в оптимизации\n",
      "24-May-21 14:32:56, replay, DEBUG: Начало обучения LightFMWrap\n",
      "DEBUG:replay:Начало обучения LightFMWrap\n",
      "24-May-21 14:32:56, replay, DEBUG: Основная стадия обучения (fit)\n",
      "DEBUG:replay:Основная стадия обучения (fit)\n",
      "24-May-21 14:46:01, replay, DEBUG: Предикт модели в оптимизации\n",
      "DEBUG:replay:Предикт модели в оптимизации\n",
      "24-May-21 14:46:01, replay, DEBUG: Начало предикта LightFMWrap\n",
      "DEBUG:replay:Начало предикта LightFMWrap\n",
      "24-May-21 14:46:26, replay, DEBUG: Подсчет метрики в оптимизации\n",
      "DEBUG:replay:Подсчет метрики в оптимизации\n",
      "24-May-21 14:46:33, replay, DEBUG: NDCG=0.178031\n",
      "DEBUG:replay:NDCG=0.178031\n",
      "\u001B[32m[I 2021-05-24 14:46:33,761]\u001B[0m Trial 3 finished with value: 0.17803059130383214 and parameters: {'no_components': 43}. Best is trial 2 with value: 0.19282892065310958.\u001B[0m\n",
      "24-May-21 14:46:33, replay, DEBUG: Фит модели в оптимизации\n",
      "DEBUG:replay:Фит модели в оптимизации\n",
      "24-May-21 14:46:33, replay, DEBUG: Начало обучения LightFMWrap\n",
      "DEBUG:replay:Начало обучения LightFMWrap\n",
      "24-May-21 14:46:33, replay, DEBUG: Основная стадия обучения (fit)\n",
      "DEBUG:replay:Основная стадия обучения (fit)\n",
      "24-May-21 15:03:04, replay, DEBUG: Предикт модели в оптимизации\n",
      "DEBUG:replay:Предикт модели в оптимизации\n",
      "24-May-21 15:03:04, replay, DEBUG: Начало предикта LightFMWrap\n",
      "DEBUG:replay:Начало предикта LightFMWrap\n",
      "24-May-21 15:03:33, replay, DEBUG: Подсчет метрики в оптимизации\n",
      "DEBUG:replay:Подсчет метрики в оптимизации\n",
      "24-May-21 15:03:42, replay, DEBUG: NDCG=0.194720\n",
      "DEBUG:replay:NDCG=0.194720\n",
      "\u001B[32m[I 2021-05-24 15:03:42,549]\u001B[0m Trial 4 finished with value: 0.19471973737482653 and parameters: {'no_components': 79}. Best is trial 4 with value: 0.19471973737482653.\u001B[0m\n",
      "24-May-21 15:03:42, replay, DEBUG: Фит модели в оптимизации\n",
      "DEBUG:replay:Фит модели в оптимизации\n",
      "24-May-21 15:03:42, replay, DEBUG: Начало обучения LightFMWrap\n",
      "DEBUG:replay:Начало обучения LightFMWrap\n",
      "24-May-21 15:03:42, replay, DEBUG: Основная стадия обучения (fit)\n",
      "DEBUG:replay:Основная стадия обучения (fit)\n",
      "24-May-21 15:08:51, replay, DEBUG: Предикт модели в оптимизации\n",
      "DEBUG:replay:Предикт модели в оптимизации\n",
      "24-May-21 15:08:51, replay, DEBUG: Начало предикта LightFMWrap\n",
      "DEBUG:replay:Начало предикта LightFMWrap\n",
      "24-May-21 15:09:19, replay, DEBUG: Подсчет метрики в оптимизации\n",
      "DEBUG:replay:Подсчет метрики в оптимизации\n",
      "24-May-21 15:09:26, replay, DEBUG: NDCG=0.140253\n",
      "DEBUG:replay:NDCG=0.140253\n",
      "\u001B[32m[I 2021-05-24 15:09:26,370]\u001B[0m Trial 5 finished with value: 0.14025303492726027 and parameters: {'no_components': 7}. Best is trial 4 with value: 0.19471973737482653.\u001B[0m\n",
      "24-May-21 15:09:26, replay, DEBUG: Фит модели в оптимизации\n",
      "DEBUG:replay:Фит модели в оптимизации\n",
      "24-May-21 15:09:26, replay, DEBUG: Начало обучения LightFMWrap\n",
      "DEBUG:replay:Начало обучения LightFMWrap\n",
      "24-May-21 15:09:26, replay, DEBUG: Основная стадия обучения (fit)\n",
      "DEBUG:replay:Основная стадия обучения (fit)\n",
      "24-May-21 15:25:00, replay, DEBUG: Предикт модели в оптимизации\n",
      "DEBUG:replay:Предикт модели в оптимизации\n",
      "24-May-21 15:25:00, replay, DEBUG: Начало предикта LightFMWrap\n",
      "DEBUG:replay:Начало предикта LightFMWrap\n",
      "24-May-21 15:25:30, replay, DEBUG: Подсчет метрики в оптимизации\n",
      "DEBUG:replay:Подсчет метрики в оптимизации\n",
      "24-May-21 15:25:37, replay, DEBUG: NDCG=0.185844\n",
      "DEBUG:replay:NDCG=0.185844\n",
      "\u001B[32m[I 2021-05-24 15:25:37,835]\u001B[0m Trial 6 finished with value: 0.1858442811230994 and parameters: {'no_components': 66}. Best is trial 4 with value: 0.19471973737482653.\u001B[0m\n",
      "24-May-21 15:25:37, replay, DEBUG: Фит модели в оптимизации\n",
      "DEBUG:replay:Фит модели в оптимизации\n",
      "24-May-21 15:25:37, replay, DEBUG: Начало обучения LightFMWrap\n",
      "DEBUG:replay:Начало обучения LightFMWrap\n",
      "24-May-21 15:25:37, replay, DEBUG: Основная стадия обучения (fit)\n",
      "DEBUG:replay:Основная стадия обучения (fit)\n",
      "24-May-21 15:40:30, replay, DEBUG: Предикт модели в оптимизации\n",
      "DEBUG:replay:Предикт модели в оптимизации\n",
      "24-May-21 15:40:30, replay, DEBUG: Начало предикта LightFMWrap\n",
      "DEBUG:replay:Начало предикта LightFMWrap\n",
      "24-May-21 15:40:53, replay, DEBUG: Подсчет метрики в оптимизации\n",
      "DEBUG:replay:Подсчет метрики в оптимизации\n",
      "24-May-21 15:40:59, replay, DEBUG: NDCG=0.188841\n",
      "DEBUG:replay:NDCG=0.188841\n",
      "\u001B[32m[I 2021-05-24 15:40:59,782]\u001B[0m Trial 7 finished with value: 0.18884125894783096 and parameters: {'no_components': 72}. Best is trial 4 with value: 0.19471973737482653.\u001B[0m\n",
      "24-May-21 15:40:59, replay, DEBUG: Фит модели в оптимизации\n",
      "DEBUG:replay:Фит модели в оптимизации\n",
      "24-May-21 15:40:59, replay, DEBUG: Начало обучения LightFMWrap\n",
      "DEBUG:replay:Начало обучения LightFMWrap\n",
      "24-May-21 15:40:59, replay, DEBUG: Основная стадия обучения (fit)\n",
      "DEBUG:replay:Основная стадия обучения (fit)\n",
      "24-May-21 15:46:51, replay, DEBUG: Предикт модели в оптимизации\n",
      "DEBUG:replay:Предикт модели в оптимизации\n",
      "24-May-21 15:46:51, replay, DEBUG: Начало предикта LightFMWrap\n",
      "DEBUG:replay:Начало предикта LightFMWrap\n",
      "24-May-21 15:47:16, replay, DEBUG: Подсчет метрики в оптимизации\n",
      "DEBUG:replay:Подсчет метрики в оптимизации\n",
      "24-May-21 15:47:23, replay, DEBUG: NDCG=0.142903\n",
      "DEBUG:replay:NDCG=0.142903\n",
      "\u001B[32m[I 2021-05-24 15:47:23,008]\u001B[0m Trial 8 finished with value: 0.14290318672584656 and parameters: {'no_components': 8}. Best is trial 4 with value: 0.19471973737482653.\u001B[0m\n"
     ]
    },
    {
     "name": "stderr",
     "output_type": "stream",
     "text": [
      "24-May-21 15:47:23, replay, DEBUG: Фит модели в оптимизации\n",
      "DEBUG:replay:Фит модели в оптимизации\n",
      "24-May-21 15:47:23, replay, DEBUG: Начало обучения LightFMWrap\n",
      "DEBUG:replay:Начало обучения LightFMWrap\n",
      "24-May-21 15:47:23, replay, DEBUG: Основная стадия обучения (fit)\n",
      "DEBUG:replay:Основная стадия обучения (fit)\n",
      "24-May-21 15:54:34, replay, DEBUG: Предикт модели в оптимизации\n",
      "DEBUG:replay:Предикт модели в оптимизации\n",
      "24-May-21 15:54:34, replay, DEBUG: Начало предикта LightFMWrap\n",
      "DEBUG:replay:Начало предикта LightFMWrap\n",
      "24-May-21 15:55:02, replay, DEBUG: Подсчет метрики в оптимизации\n",
      "DEBUG:replay:Подсчет метрики в оптимизации\n",
      "24-May-21 15:55:09, replay, DEBUG: NDCG=0.158515\n",
      "DEBUG:replay:NDCG=0.158515\n",
      "\u001B[32m[I 2021-05-24 15:55:09,583]\u001B[0m Trial 9 finished with value: 0.158514580980604 and parameters: {'no_components': 12}. Best is trial 4 with value: 0.19471973737482653.\u001B[0m\n"
     ]
    }
   ],
   "source": [
    "best_params = model_feat.optimize(train=train_opt, test=val_opt, param_grid={'no_components':[5, 256]}, budget=10, item_features=item_features)"
   ]
  },
  {
   "cell_type": "code",
   "execution_count": 39,
   "metadata": {},
   "outputs": [
    {
     "data": {
      "text/plain": [
       "{'no_components': 79}"
      ]
     },
     "execution_count": 39,
     "metadata": {},
     "output_type": "execute_result"
    }
   ],
   "source": [
    "best_params"
   ]
  },
  {
   "cell_type": "markdown",
   "metadata": {},
   "source": [
    "#### best_params"
   ]
  },
  {
   "cell_type": "code",
   "execution_count": 35,
   "metadata": {},
   "outputs": [],
   "source": [
    "model_feat = LightFMWrap(random_state=SEED, **best_params, loss='warp')"
   ]
  },
  {
   "cell_type": "code",
   "execution_count": 36,
   "metadata": {},
   "outputs": [
    {
     "name": "stderr",
     "output_type": "stream",
     "text": [
      "24-May-21 15:55:09, replay, DEBUG: Начало обучения LightFMWrap\n",
      "DEBUG:replay:Начало обучения LightFMWrap\n",
      "24-May-21 15:55:09, replay, DEBUG: Предварительная стадия обучения (pre-fit)\n",
      "DEBUG:replay:Предварительная стадия обучения (pre-fit)\n",
      "24-May-21 15:55:10, replay, DEBUG: Основная стадия обучения (fit)\n",
      "DEBUG:replay:Основная стадия обучения (fit)\n"
     ]
    },
    {
     "name": "stdout",
     "output_type": "stream",
     "text": [
      "CPU times: user 12h 32min 47s, sys: 4min 36s, total: 12h 37min 24s\n",
      "Wall time: 16min 47s\n"
     ]
    }
   ],
   "source": [
    "%%time\n",
    "model_feat.fit(train, item_features=item_features)"
   ]
  },
  {
   "cell_type": "code",
   "execution_count": 37,
   "metadata": {},
   "outputs": [
    {
     "name": "stderr",
     "output_type": "stream",
     "text": [
      "24-May-21 16:11:56, replay, DEBUG: Начало предикта LightFMWrap\n",
      "DEBUG:replay:Начало предикта LightFMWrap\n"
     ]
    },
    {
     "name": "stdout",
     "output_type": "stream",
     "text": [
      "CPU times: user 6.14 s, sys: 1.39 s, total: 7.52 s\n",
      "Wall time: 24.9 s\n"
     ]
    }
   ],
   "source": [
    "%%time\n",
    "recs = model_feat.predict(\n",
    "    k=K,\n",
    "    users=test.select('user_id').distinct(),\n",
    "    log=train,\n",
    "    filter_seen_items=True,\n",
    "    item_features=item_features\n",
    ")"
   ]
  },
  {
   "cell_type": "code",
   "execution_count": 38,
   "metadata": {},
   "outputs": [
    {
     "data": {
      "text/html": [
       "<div>\n",
       "<style scoped>\n",
       "    .dataframe tbody tr th:only-of-type {\n",
       "        vertical-align: middle;\n",
       "    }\n",
       "\n",
       "    .dataframe tbody tr th {\n",
       "        vertical-align: top;\n",
       "    }\n",
       "\n",
       "    .dataframe thead th {\n",
       "        text-align: right;\n",
       "    }\n",
       "</style>\n",
       "<table border=\"1\" class=\"dataframe\">\n",
       "  <thead>\n",
       "    <tr style=\"text-align: right;\">\n",
       "      <th></th>\n",
       "      <th>HitRate@1</th>\n",
       "      <th>HitRate@10</th>\n",
       "      <th>MAP@10</th>\n",
       "      <th>NDCG@10</th>\n",
       "    </tr>\n",
       "  </thead>\n",
       "  <tbody>\n",
       "    <tr>\n",
       "      <th>LightFM_no_features</th>\n",
       "      <td>0.380</td>\n",
       "      <td>0.820</td>\n",
       "      <td>0.126265</td>\n",
       "      <td>0.24204</td>\n",
       "    </tr>\n",
       "    <tr>\n",
       "      <th>LightFM_item_features</th>\n",
       "      <td>0.288</td>\n",
       "      <td>0.772</td>\n",
       "      <td>0.088089</td>\n",
       "      <td>0.18762</td>\n",
       "    </tr>\n",
       "  </tbody>\n",
       "</table>\n",
       "</div>"
      ],
      "text/plain": [
       "                       HitRate@1  HitRate@10    MAP@10  NDCG@10\n",
       "LightFM_no_features        0.380       0.820  0.126265  0.24204\n",
       "LightFM_item_features      0.288       0.772  0.088089  0.18762"
      ]
     },
     "execution_count": 38,
     "metadata": {},
     "output_type": "execute_result"
    }
   ],
   "source": [
    "metrics.add_result(\"LightFM_item_features\", recs)\n",
    "metrics.results"
   ]
  },
  {
   "cell_type": "markdown",
   "metadata": {},
   "source": [
    "Когда LightFM используется с признаками пользователей или пользователей и объектов, зачастую признаки позволяют улучшить качество рекомендаций и рекомендовать холодным пользователям. В нашем случае, с использованием только признаков объектов этого не произошло."
   ]
  },
  {
   "cell_type": "code",
   "execution_count": null,
   "metadata": {},
   "outputs": [],
   "source": []
  }
 ],
 "metadata": {
  "kernelspec": {
   "display_name": "Python 3",
   "language": "python",
   "name": "python3"
  },
  "language_info": {
   "codemirror_mode": {
    "name": "ipython",
    "version": 3
   },
   "file_extension": ".py",
   "mimetype": "text/x-python",
   "name": "python",
   "nbconvert_exporter": "python",
   "pygments_lexer": "ipython3",
   "version": "3.7.6"
  }
 },
 "nbformat": 4,
 "nbformat_minor": 4
}