{
 "cells": [
  {
   "cell_type": "code",
   "execution_count": 1,
   "metadata": {},
   "outputs": [],
   "source": [
    "%load_ext autoreload\n",
    "%autoreload 2"
   ]
  },
  {
   "cell_type": "code",
   "execution_count": 2,
   "metadata": {
    "scrolled": true
   },
   "outputs": [
    {
     "name": "stdout",
     "output_type": "stream",
     "text": [
      "CPU times: user 656 ms, sys: 1.85 s, total: 2.51 s\n",
      "Wall time: 7.78 s\n"
     ]
    },
    {
     "data": {
      "text/html": [
       "\n",
       "            <div>\n",
       "                <p><b>SparkSession - in-memory</b></p>\n",
       "                \n",
       "        <div>\n",
       "            <p><b>SparkContext</b></p>\n",
       "\n",
       "            <p><a href=\"http://parcae1.unassigned-domain:4041\">Spark UI</a></p>\n",
       "\n",
       "            <dl>\n",
       "              <dt>Version</dt>\n",
       "                <dd><code>v2.4.4</code></dd>\n",
       "              <dt>Master</dt>\n",
       "                <dd><code>local[*]</code></dd>\n",
       "              <dt>AppName</dt>\n",
       "                <dd><code>pyspark-shell</code></dd>\n",
       "            </dl>\n",
       "        </div>\n",
       "        \n",
       "            </div>\n",
       "        "
      ],
      "text/plain": [
       "<pyspark.sql.session.SparkSession at 0x7f2d75c4a160>"
      ]
     },
     "execution_count": 2,
     "metadata": {},
     "output_type": "execute_result"
    }
   ],
   "source": [
    "%%time\n",
    "from pyspark.sql import SparkSession\n",
    "\n",
    "spark = (\n",
    "    SparkSession\n",
    "    .builder\n",
    "    .config(\"spark.driver.memory\", \"128g\")\n",
    "    .config(\"spark.sql.shuffle.partitions\", \"64\")\n",
    "    .config(\"spark.local.dir\", \"tmp\")\n",
    "    .getOrCreate()\n",
    ")\n",
    "spark"
   ]
  },
  {
   "cell_type": "code",
   "execution_count": 3,
   "metadata": {},
   "outputs": [
    {
     "name": "stdout",
     "output_type": "stream",
     "text": [
      "user_item_data2019-09-01.csv  user_item_data2019-09-17.csv\r\n",
      "user_item_data2019-09-02.csv  user_item_data2019-09-18.csv\r\n",
      "user_item_data2019-09-03.csv  user_item_data2019-09-19.csv\r\n",
      "user_item_data2019-09-04.csv  user_item_data2019-09-20.csv\r\n",
      "user_item_data2019-09-05.csv  user_item_data2019-09-21.csv\r\n",
      "user_item_data2019-09-06.csv  user_item_data2019-09-22.csv\r\n",
      "user_item_data2019-09-07.csv  user_item_data2019-09-23.csv\r\n",
      "user_item_data2019-09-08.csv  user_item_data2019-09-24.csv\r\n",
      "user_item_data2019-09-09.csv  user_item_data2019-09-25.csv\r\n",
      "user_item_data2019-09-10.csv  user_item_data2019-09-26.csv\r\n",
      "user_item_data2019-09-11.csv  user_item_data2019-09-27.csv\r\n",
      "user_item_data2019-09-12.csv  user_item_data2019-09-28.csv\r\n",
      "user_item_data2019-09-13.csv  user_item_data2019-09-29.csv\r\n",
      "user_item_data2019-09-14.csv  user_item_data2019-09-30.csv\r\n",
      "user_item_data2019-09-15.csv  user_item_data2019-10-01.csv\r\n",
      "user_item_data2019-09-16.csv\r\n"
     ]
    }
   ],
   "source": [
    "# эта папка заранее приготовлена, чтобы в ней был целый сентябрь и один день октября\n",
    "!ls /datascc/share/small_data"
   ]
  },
  {
   "cell_type": "code",
   "execution_count": 4,
   "metadata": {},
   "outputs": [],
   "source": [
    "from sponge_bob_magic.data_preparator.data_preparator import DataPreparator\n",
    "\n",
    "data_preparator = DataPreparator(spark)"
   ]
  },
  {
   "cell_type": "code",
   "execution_count": 5,
   "metadata": {},
   "outputs": [
    {
     "name": "stdout",
     "output_type": "stream",
     "text": [
      "CPU times: user 8 ms, sys: 16 ms, total: 24 ms\n",
      "Wall time: 18.1 s\n"
     ]
    }
   ],
   "source": [
    "%%time\n",
    "log = data_preparator.transform_log(\n",
    "    \"/datascc/share/small_data\",\n",
    "    format_type=\"csv\",\n",
    "    columns_names={\"timestamp\": \"_c0\", \"user_id\": \"_c1\", \"item_id\": \"_c2\", \"relevance\": \"_c3\"}\n",
    ")"
   ]
  },
  {
   "cell_type": "code",
   "execution_count": 6,
   "metadata": {},
   "outputs": [
    {
     "name": "stdout",
     "output_type": "stream",
     "text": [
      "CPU times: user 8 ms, sys: 0 ns, total: 8 ms\n",
      "Wall time: 33.5 ms\n"
     ]
    }
   ],
   "source": [
    "%%time\n",
    "from sponge_bob_magic.validation_schemes import ValidationSchemes\n",
    "\n",
    "train, test_input, test = ValidationSchemes(spark).log_split_by_date(\n",
    "    log,\n",
    "    test_start=\"2019-10-01\",\n",
    "    drop_cold_items=False,\n",
    "    drop_cold_users=False\n",
    ")"
   ]
  },
  {
   "cell_type": "code",
   "execution_count": 7,
   "metadata": {
    "scrolled": true
   },
   "outputs": [
    {
     "name": "stdout",
     "output_type": "stream",
     "text": [
      "2019-09-30 00:00:00\n",
      "2019-10-01 00:00:00\n",
      "48522117 48522117\n",
      "CPU times: user 8 ms, sys: 8 ms, total: 16 ms\n",
      "Wall time: 25.5 s\n"
     ]
    }
   ],
   "source": [
    "%%time\n",
    "# sanity check\n",
    "from pyspark.sql.functions import min, max\n",
    "\n",
    "print(train.agg(max(\"timestamp\")).head()[0])\n",
    "print(test.agg(min(\"timestamp\")).head()[0])\n",
    "print(train.count() + test.count(), log.count())"
   ]
  },
  {
   "cell_type": "code",
   "execution_count": 8,
   "metadata": {},
   "outputs": [],
   "source": [
    "# названия полей соответствуют выгрузке, которую делал Иван Киреев\n",
    "user_feature_cols = [\"v\" + (\"000\" + str(i))[-3:] for i in range(256)]"
   ]
  },
  {
   "cell_type": "code",
   "execution_count": 9,
   "metadata": {},
   "outputs": [],
   "source": [
    "user_features = data_preparator.transform_features(\n",
    "    \"/datascc/share/parquet_embeddings/\",\n",
    "    format_type=\"parquet\",\n",
    "    columns_names={\"timestamp\": \"application_date\", \"user_id\": \"client_dk\", \"features\": user_feature_cols}\n",
    ")"
   ]
  },
  {
   "cell_type": "code",
   "execution_count": 10,
   "metadata": {},
   "outputs": [],
   "source": [
    "item_feature_cols = [\"t\" + str(i) for i in range(256)]"
   ]
  },
  {
   "cell_type": "code",
   "execution_count": 11,
   "metadata": {},
   "outputs": [],
   "source": [
    "# эти фичи можно сгенерировать кодом из тетрадки:\n",
    "# https://stash.ca.sbrf.ru/projects/AI-LAB/repos/stories_recsys/browse/experiments/prepare_text_embeddings.ipynb\n",
    "item_features = data_preparator.transform_features(\n",
    "    \"/datascc/share/stories_texts_embeddings\",\n",
    "    format_type=\"parquet\",\n",
    "    columns_names={\"item_id\": \"campaign_id\", \"features\": item_feature_cols}\n",
    ")"
   ]
  },
  {
   "cell_type": "code",
   "execution_count": 12,
   "metadata": {},
   "outputs": [],
   "source": [
    "from sponge_bob_magic.models.linear_recomennder import LinearRecommender\n",
    "\n",
    "recommender = LinearRecommender(spark)"
   ]
  },
  {
   "cell_type": "code",
   "execution_count": 13,
   "metadata": {},
   "outputs": [
    {
     "name": "stdout",
     "output_type": "stream",
     "text": [
      "CPU times: user 644 ms, sys: 132 ms, total: 776 ms\n",
      "Wall time: 28min 16s\n"
     ]
    }
   ],
   "source": [
    "%%time\n",
    "\n",
    "recommender.fit(train, user_features, item_features, \"linear.model\")"
   ]
  },
  {
   "cell_type": "code",
   "execution_count": 22,
   "metadata": {},
   "outputs": [
    {
     "name": "stdout",
     "output_type": "stream",
     "text": [
      "CPU times: user 828 ms, sys: 188 ms, total: 1.02 s\n",
      "Wall time: 24min 57s\n"
     ]
    }
   ],
   "source": [
    "%%time\n",
    "# здесь мы немного заглядываем в будущее, потому что люди чаще смотрят новые истории\n",
    "# просто потому, что новые истории чаще показываются\n",
    "\n",
    "recs = recommender.predict(\n",
    "    user_features=user_features,\n",
    "    item_features=item_features,\n",
    "    k=10,\n",
    "    context=None,\n",
    "    users=test.select(\"user_id\").distinct(),\n",
    "    items=test.select(\"item_id\").distinct(),\n",
    "    log=train,\n",
    "    to_filter_seen_items=True,\n",
    "    path=\"recs\"\n",
    ").cache()"
   ]
  },
  {
   "cell_type": "code",
   "execution_count": 23,
   "metadata": {},
   "outputs": [
    {
     "data": {
      "text/plain": [
       "1451020"
      ]
     },
     "execution_count": 23,
     "metadata": {},
     "output_type": "execute_result"
    }
   ],
   "source": [
    "recs.count()"
   ]
  },
  {
   "cell_type": "code",
   "execution_count": 24,
   "metadata": {},
   "outputs": [
    {
     "name": "stdout",
     "output_type": "stream",
     "text": [
      "0.05112955024741216\n",
      "CPU times: user 16 ms, sys: 0 ns, total: 16 ms\n",
      "Wall time: 15 s\n"
     ]
    }
   ],
   "source": [
    "%%time\n",
    "from sponge_bob_magic.metrics.metrics import Metrics\n",
    "\n",
    "test_positive = test.filter(\"relevance == 1\").cache()\n",
    "metrics = Metrics()\n",
    "print(metrics.hit_rate_at_k(recs, test_positive, 10))"
   ]
  },
  {
   "cell_type": "code",
   "execution_count": 16,
   "metadata": {},
   "outputs": [],
   "source": [
    "# на всякий случай сверяемся с baseline\n",
    "from sponge_bob_magic.models.popular_recomennder import PopularRecommender\n",
    "\n",
    "popular = PopularRecommender(spark)"
   ]
  },
  {
   "cell_type": "code",
   "execution_count": 17,
   "metadata": {},
   "outputs": [
    {
     "name": "stdout",
     "output_type": "stream",
     "text": [
      "CPU times: user 12 ms, sys: 4 ms, total: 16 ms\n",
      "Wall time: 37.1 s\n"
     ]
    }
   ],
   "source": [
    "%%time\n",
    "\n",
    "spark.sparkContext.setCheckpointDir(\"checkpoints\")\n",
    "popular.fit(\n",
    "    log=train.filter(\"relevance == 1\"),\n",
    "    user_features=None,\n",
    "    item_features=None\n",
    ")"
   ]
  },
  {
   "cell_type": "code",
   "execution_count": 18,
   "metadata": {},
   "outputs": [
    {
     "name": "stdout",
     "output_type": "stream",
     "text": [
      "CPU times: user 32 ms, sys: 12 ms, total: 44 ms\n",
      "Wall time: 1min 21s\n"
     ]
    }
   ],
   "source": [
    "%%time\n",
    "\n",
    "popular_recs = popular.predict(\n",
    "    k=10,\n",
    "    log=train,\n",
    "    users=test.select(\"user_id\").distinct(),\n",
    "    items=test.select(\"item_id\").distinct(),\n",
    "    context=\"no_context\",\n",
    "    user_features=None,\n",
    "    item_features=None\n",
    ")"
   ]
  },
  {
   "cell_type": "code",
   "execution_count": 19,
   "metadata": {},
   "outputs": [
    {
     "name": "stdout",
     "output_type": "stream",
     "text": [
      "0.10433188673634923\n",
      "CPU times: user 8 ms, sys: 4 ms, total: 12 ms\n",
      "Wall time: 52.1 s\n"
     ]
    }
   ],
   "source": [
    "%%time\n",
    "# к сожалению, качество модели по сравнению с baseline пока оставляет желать лучшего\n",
    "\n",
    "print(metrics.hit_rate_at_k(popular_recs, test_positive, 10))"
   ]
  },
  {
   "cell_type": "code",
   "execution_count": null,
   "metadata": {},
   "outputs": [],
   "source": []
  }
 ],
 "metadata": {
  "kernelspec": {
   "display_name": "Python 3",
   "language": "python",
   "name": "python3"
  },
  "language_info": {
   "codemirror_mode": {
    "name": "ipython",
    "version": 3
   },
   "file_extension": ".py",
   "mimetype": "text/x-python",
   "name": "python",
   "nbconvert_exporter": "python",
   "pygments_lexer": "ipython3",
   "version": "3.6.5"
  }
 },
 "nbformat": 4,
 "nbformat_minor": 2
}
