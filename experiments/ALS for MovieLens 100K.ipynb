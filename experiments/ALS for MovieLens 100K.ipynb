{
 "cells": [
  {
   "cell_type": "code",
   "execution_count": 1,
   "metadata": {
    "autoscroll": false,
    "collapsed": false,
    "ein.hycell": false,
    "ein.tags": "worksheet-0",
    "slideshow": {
     "slide_type": "-"
    }
   },
   "outputs": [],
   "source": [
    "%load_ext autoreload\n",
    "%autoreload 2\n",
    "%matplotlib inline"
   ]
  },
  {
   "cell_type": "code",
   "execution_count": 2,
   "metadata": {
    "autoscroll": false,
    "collapsed": false,
    "ein.hycell": false,
    "ein.tags": "worksheet-0",
    "slideshow": {
     "slide_type": "-"
    }
   },
   "outputs": [
    {
     "data": {
      "text/html": [
       "\n            <div>\n                <p><b>SparkSession - hive</b></p>\n                \n        <div>\n            <p><b>SparkContext</b></p>\n\n            <p><a href=\"http://10.17.17.124:4040\">Spark UI</a></p>\n\n            <dl>\n              <dt>Version</dt>\n                <dd><code>v2.4.4</code></dd>\n              <dt>Master</dt>\n                <dd><code>local[*]</code></dd>\n              <dt>AppName</dt>\n                <dd><code>pyspark-shell</code></dd>\n            </dl>\n        </div>\n        \n            </div>\n        "
      ],
      "text/plain": [
       "<pyspark.sql.session.SparkSession at 0x7fb7c8ecd7d0>"
      ]
     },
     "execution_count": 2,
     "metadata": {},
     "output_type": "execute_result"
    }
   ],
   "source": [
    "from pyspark.sql.session import SparkSession\n",
    "import os\n",
    "import logging\n",
    "\n",
    "spark_memory = \"16g\"\n",
    "spark_cores = \"*\"\n",
    "user_home = os.environ[\"HOME\"]\n",
    "\n",
    "spark = (\n",
    "    SparkSession\n",
    "    .builder\n",
    "    .config('spark.driver.memory', spark_memory)\n",
    "    .config('spark.local.dir', os.path.join(user_home, \"tmp\"))\n",
    "    .master(f'local[{spark_cores}]')\n",
    "    .enableHiveSupport()\n",
    "    .getOrCreate()\n",
    ")\n",
    "\n",
    "spark_logger = logging.getLogger('py4j')\n",
    "spark_logger.setLevel(logging.WARN)\n",
    "logger = logging.getLogger()\n",
    "formatter = logging.Formatter('%(asctime)s, %(name)s, %(levelname)s: %(message)s',\n",
    "                              datefmt='%d-%b-%y %H:%M:%S')\n",
    "hdlr = logging.StreamHandler()\n",
    "hdlr.setFormatter(formatter)\n",
    "logger.addHandler(hdlr)\n",
    "logger.setLevel(logging.DEBUG)\n",
    "spark"
   ]
  },
  {
   "cell_type": "code",
   "execution_count": 3,
   "metadata": {
    "autoscroll": false,
    "collapsed": false,
    "ein.hycell": false,
    "ein.tags": "worksheet-0",
    "slideshow": {
     "slide_type": "-"
    }
   },
   "outputs": [],
   "source": [
    "from sponge_bob_magic.data_preparator.data_preparator import DataPreparator\n",
    "\n",
    "data_preparator = DataPreparator(spark)"
   ]
  },
  {
   "cell_type": "code",
   "execution_count": 4,
   "metadata": {
    "autoscroll": false,
    "collapsed": false,
    "ein.hycell": false,
    "ein.tags": "worksheet-0",
    "slideshow": {
     "slide_type": "-"
    }
   },
   "outputs": [],
   "source": [
    "# MovieLens 100K\n",
    "log = data_preparator.transform_log(\n",
    "    os.path.join(user_home, \"data/ml-100k/u.data\"),\n",
    "    format_type=\"csv\",\n",
    "    columns_names={\n",
    "        \"user_id\": \"_c0\",\n",
    "        \"item_id\": \"_c1\",\n",
    "        \"relevance\": \"_c2\",\n",
    "        \"timestamp\": \"_c3\"\n",
    "    },\n",
    "    date_format=None,\n",
    "    sep=\"\\t\",\n",
    "    header=False\n",
    ")"
   ]
  },
  {
   "cell_type": "code",
   "execution_count": 5,
   "metadata": {
    "autoscroll": false,
    "collapsed": false,
    "ein.hycell": false,
    "ein.tags": "worksheet-0",
    "slideshow": {
     "slide_type": "-"
    }
   },
   "outputs": [
    {
     "data": {
      "text/plain": [
       "Row(min(timestamp)=datetime.datetime(1997, 9, 20, 7, 5, 10), max(timestamp)=datetime.datetime(1998, 4, 23, 3, 10, 38))"
      ]
     },
     "execution_count": 5,
     "metadata": {},
     "output_type": "execute_result"
    }
   ],
   "source": [
    "from pyspark.sql.functions import min, max\n",
    "\n",
    "log.agg(min(\"timestamp\"), max(\"timestamp\")).head()"
   ]
  },
  {
   "cell_type": "code",
   "execution_count": 6,
   "metadata": {
    "autoscroll": false,
    "collapsed": false,
    "ein.hycell": false,
    "ein.tags": "worksheet-0",
    "slideshow": {
     "slide_type": "-"
    }
   },
   "outputs": [
    {
     "name": "stdout",
     "output_type": "stream",
     "text": [
      "79977 79977 19982\n",
      "CPU times: user 4 ms, sys: 0 ns, total: 4 ms\n",
      "Wall time: 2.53 s\n"
     ]
    }
   ],
   "source": [
    "%%time\n",
    "from sponge_bob_magic.validation_schemes import ValidationSchemes\n",
    "\n",
    "splitter = ValidationSchemes(spark)\n",
    "\n",
    "train, test_input, test = splitter.log_split_randomly(\n",
    "    log, test_size=0.2,\n",
    "    drop_cold_users=True, drop_cold_items=True\n",
    ")\n",
    "print(\n",
    "    train.count(), \n",
    "    test_input.count(), \n",
    "    test.count()\n",
    ")"
   ]
  },
  {
   "cell_type": "code",
   "execution_count": 7,
   "metadata": {
    "autoscroll": false,
    "collapsed": false,
    "ein.hycell": false,
    "ein.tags": "worksheet-0",
    "slideshow": {
     "slide_type": "-"
    }
   },
   "outputs": [],
   "source": [
    "from sponge_bob_magic.metrics.metrics import Metrics\n",
    "\n",
    "metrics = Metrics()"
   ]
  },
  {
   "cell_type": "code",
   "execution_count": 8,
   "metadata": {
    "autoscroll": false,
    "collapsed": false,
    "ein.hycell": false,
    "ein.tags": "worksheet-0",
    "slideshow": {
     "slide_type": "-"
    }
   },
   "outputs": [
    {
     "name": "stderr",
     "output_type": "stream",
     "text": [
      "09-Dec-19 17:16:48, root, DEBUG: Проверка датафреймов\n"
     ]
    },
    {
     "name": "stderr",
     "output_type": "stream",
     "text": [
      "09-Dec-19 17:16:49, root, DEBUG: Предварительная стадия обучения (pre-fit)\n"
     ]
    },
    {
     "name": "stderr",
     "output_type": "stream",
     "text": [
      "09-Dec-19 17:16:50, root, DEBUG: Среднее количество items у каждого user: 85.0\n"
     ]
    },
    {
     "name": "stderr",
     "output_type": "stream",
     "text": [
      "09-Dec-19 17:16:52, root, DEBUG: Основная стадия обучения (fit)\n"
     ]
    },
    {
     "name": "stderr",
     "output_type": "stream",
     "text": [
      "09-Dec-19 17:16:52, root, DEBUG: Проверка датафреймов\n"
     ]
    },
    {
     "name": "stderr",
     "output_type": "stream",
     "text": [
      "09-Dec-19 17:16:56, root, DEBUG: Количество items после фильтрации: 95\n"
     ]
    },
    {
     "name": "stdout",
     "output_type": "stream",
     "text": [
      "0.7571884984025559\n"
     ]
    },
    {
     "name": "stdout",
     "output_type": "stream",
     "text": [
      "0.18956336528221507\n"
     ]
    },
    {
     "name": "stdout",
     "output_type": "stream",
     "text": [
      "0.2171042949055558\n",
      "CPU times: user 216 ms, sys: 52 ms, total: 268 ms\n",
      "Wall time: 28.6 s\n"
     ]
    }
   ],
   "source": [
    "%%time\n",
    "from sponge_bob_magic.models.popular_recomennder import PopularRecommender\n",
    "\n",
    "popular_recomennder = PopularRecommender(spark, 0, 0)\n",
    "recs = popular_recomennder.fit_predict(\n",
    "    k=10,\n",
    "    users=test.select(\"user_id\").distinct().cache(),\n",
    "    items=test.select(\"item_id\").distinct().cache(),\n",
    "    log=train.cache(),\n",
    "    context=None,\n",
    "    user_features=None,\n",
    "    item_features=None,\n",
    "    path=os.path.join(user_home, \"models/popular.model\")\n",
    ").cache()\n",
    "print(metrics.hit_rate_at_k(recs, test.cache(), 10))\n",
    "print(metrics.precision_at_k(recs, test.cache(), 10))\n",
    "print(metrics.ndcg_at_k(recs, test.cache(), 10))"
   ]
  },
  {
   "cell_type": "code",
   "execution_count": 9,
   "metadata": {
    "autoscroll": false,
    "collapsed": false,
    "ein.hycell": false,
    "ein.tags": "worksheet-0",
    "slideshow": {
     "slide_type": "-"
    }
   },
   "outputs": [
    {
     "name": "stderr",
     "output_type": "stream",
     "text": [
      "09-Dec-19 17:17:17, root, DEBUG: Проверка датафреймов\n"
     ]
    },
    {
     "name": "stderr",
     "output_type": "stream",
     "text": [
      "09-Dec-19 17:17:17, root, DEBUG: Предварительная стадия обучения (pre-fit)\n"
     ]
    },
    {
     "name": "stderr",
     "output_type": "stream",
     "text": [
      "09-Dec-19 17:17:28, root, DEBUG: Основная стадия обучения (fit)\n"
     ]
    },
    {
     "name": "stderr",
     "output_type": "stream",
     "text": [
      "09-Dec-19 17:17:33, root, DEBUG: Проверка датафреймов\n"
     ]
    },
    {
     "name": "stdout",
     "output_type": "stream",
     "text": [
      "0.8753993610223643\n"
     ]
    },
    {
     "name": "stdout",
     "output_type": "stream",
     "text": [
      "0.30457933972310974\n"
     ]
    },
    {
     "name": "stdout",
     "output_type": "stream",
     "text": [
      "0.35236354503608014\n",
      "CPU times: user 104 ms, sys: 36 ms, total: 140 ms\n",
      "Wall time: 33.7 s\n"
     ]
    }
   ],
   "source": [
    "%%time\n",
    "from sponge_bob_magic.models.knn_recommender import KNNRecommender\n",
    "\n",
    "knn_recommender = KNNRecommender(spark, 30)\n",
    "recs = knn_recommender.fit_predict(\n",
    "    k=10,\n",
    "    users=test.select(\"user_id\").distinct().cache(),\n",
    "    items=test.select(\"item_id\").distinct().cache(),\n",
    "    log=train.cache(),\n",
    "    context=None,\n",
    "    user_features=None,\n",
    "    item_features=None,\n",
    "    path=os.path.join(user_home, \"models/knn.model\")\n",
    ").cache()\n",
    "print(metrics.hit_rate_at_k(recs, test.cache(), 10))\n",
    "print(metrics.precision_at_k(recs, test.cache(), 10))\n",
    "print(metrics.ndcg_at_k(recs, test.cache(), 10))"
   ]
  },
  {
   "cell_type": "code",
   "execution_count": 10,
   "metadata": {
    "autoscroll": false,
    "collapsed": false,
    "ein.hycell": false,
    "ein.tags": "worksheet-0",
    "slideshow": {
     "slide_type": "-"
    }
   },
   "outputs": [
    {
     "name": "stderr",
     "output_type": "stream",
     "text": [
      "09-Dec-19 17:17:50, root, DEBUG: Проверка датафреймов\n"
     ]
    },
    {
     "name": "stderr",
     "output_type": "stream",
     "text": [
      "09-Dec-19 17:17:51, root, DEBUG: Предварительная стадия обучения (pre-fit)\n"
     ]
    },
    {
     "name": "stderr",
     "output_type": "stream",
     "text": [
      "09-Dec-19 17:17:51, root, DEBUG: Основная стадия обучения (fit)\n"
     ]
    },
    {
     "name": "stderr",
     "output_type": "stream",
     "text": [
      "09-Dec-19 17:17:51, root, DEBUG: Индексирование данных\n"
     ]
    },
    {
     "name": "stderr",
     "output_type": "stream",
     "text": [
      "09-Dec-19 17:17:51, root, DEBUG: Обучение модели\n"
     ]
    },
    {
     "name": "stderr",
     "output_type": "stream",
     "text": [
      "09-Dec-19 17:17:53, root, DEBUG: Проверка датафреймов\n"
     ]
    },
    {
     "name": "stdout",
     "output_type": "stream",
     "text": [
      "0.7092651757188498\n"
     ]
    },
    {
     "name": "stdout",
     "output_type": "stream",
     "text": [
      "0.11778487752928649\n"
     ]
    },
    {
     "name": "stdout",
     "output_type": "stream",
     "text": [
      "0.13429284179619064\n",
      "CPU times: user 156 ms, sys: 28 ms, total: 184 ms\n",
      "Wall time: 34.4 s\n"
     ]
    }
   ],
   "source": [
    "%%time\n",
    "from sponge_bob_magic.models.als_recommender import ALSRecommender\n",
    "\n",
    "als_recommender = ALSRecommender(spark, rank=20)\n",
    "recs = als_recommender.fit_predict(\n",
    "    k=10,\n",
    "    users=test.select(\"user_id\").distinct().cache(),\n",
    "    items=test.select(\"item_id\").distinct().cache(),\n",
    "    log=train.cache(),\n",
    "    context=None,\n",
    "    user_features=None,\n",
    "    item_features=None,\n",
    "    path=os.path.join(user_home, \"models/als.model\")\n",
    ").cache()\n",
    "print(metrics.hit_rate_at_k(recs, test.cache(), 10))\n",
    "print(metrics.precision_at_k(recs, test.cache(), 10))\n",
    "print(metrics.ndcg_at_k(recs, test.cache(), 10))"
   ]
  }
 ],
 "metadata": {
  "kernelspec": {
   "argv": [
    "python",
    "-m",
    "ipykernel_launcher",
    "-f",
    "{connection_file}"
   ],
   "display_name": "Python 3",
   "env": null,
   "interrupt_mode": "signal",
   "language": "python",
   "metadata": null,
   "name": "python3"
  },
  "name": "ALS for MovieLens 100K.ipynb"
 },
 "nbformat": 4,
 "nbformat_minor": 2
}
