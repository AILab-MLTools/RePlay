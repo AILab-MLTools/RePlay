{
 "cells": [
  {
   "cell_type": "markdown",
   "id": "8233fbaa",
   "metadata": {},
   "source": [
    "# Filtering log data with RePlay\n",
    "\n",
    "This notebook presents the RePlay functionality for log data filtering by interaction and time.<br><br>You can use the following functions:\n",
    "\n",
    "* filter_by_min_count\n",
    "* filter_out_low_ratings\n",
    "* take_num_user_interactions\n",
    "* take_num_days_of_user_hist\n",
    "* take_time_period\n",
    "* take_num_days_of_global_hist\n"
   ]
  },
  {
   "cell_type": "code",
   "execution_count": 1,
   "id": "d6a098cd",
   "metadata": {},
   "outputs": [
    {
     "data": {
      "text/html": [
       "<style type='text/css'>\n",
       ".datatable table.frame { margin-bottom: 0; }\n",
       ".datatable table.frame thead { border-bottom: none; }\n",
       ".datatable table.frame tr.coltypes td {  color: #FFFFFF;  line-height: 6px;  padding: 0 0.5em;}\n",
       ".datatable .bool    { background: #DDDD99; }\n",
       ".datatable .object  { background: #565656; }\n",
       ".datatable .int     { background: #5D9E5D; }\n",
       ".datatable .float   { background: #4040CC; }\n",
       ".datatable .str     { background: #CC4040; }\n",
       ".datatable .time    { background: #40CC40; }\n",
       ".datatable .row_index {  background: var(--jp-border-color3);  border-right: 1px solid var(--jp-border-color0);  color: var(--jp-ui-font-color3);  font-size: 9px;}\n",
       ".datatable .frame tbody td { text-align: left; }\n",
       ".datatable .frame tr.coltypes .row_index {  background: var(--jp-border-color0);}\n",
       ".datatable th:nth-child(2) { padding-left: 12px; }\n",
       ".datatable .hellipsis {  color: var(--jp-cell-editor-border-color);}\n",
       ".datatable .vellipsis {  background: var(--jp-layout-color0);  color: var(--jp-cell-editor-border-color);}\n",
       ".datatable .na {  color: var(--jp-cell-editor-border-color);  font-size: 80%;}\n",
       ".datatable .sp {  opacity: 0.25;}\n",
       ".datatable .footer { font-size: 9px; }\n",
       ".datatable .frame_dimensions {  background: var(--jp-border-color3);  border-top: 1px solid var(--jp-border-color0);  color: var(--jp-ui-font-color3);  display: inline-block;  opacity: 0.6;  padding: 1px 10px 1px 5px;}\n",
       ".datatable .frame thead tr.colnames {  background-image: url('data:image/png;base64,iVBORw0KGgoAAAANSUhEUgAAABwAAAA4CAYAAADuMJi0AAAGR0lEQVR42rVZ21IbRxBtCbQrkIR2dQVjsLmDLBsET3nTQ8ouYRkQVf6e/E9+Im958qMfkgoXAaKSSj6C9Jnd2R2NeiRSRaZqitVOT5+Z6dNnWoKGlN94JFp8Ipofkb/7SOXjGyp8wF+z35K3f0uUp/GW4XfLQ8v2gefj3ZCCzojoNfue+43o1Q3l3xB/yA3JO7jnF2pCLnI+pNyx/qw7L+SQ7T2N9p2f8c60QcfcK6KGXsAd+ZvA4LlZYuSSAoOhMs5vwJkEGDlbPMaJoA+FcQ0IH38QLWkbAFLkOOhoMF5tU6/eBRhNjro0ZgKiPRAt3FLhCO/vqdgmNTm32LkmKpvBmQY4q5uAaAgbwDBG2BVv3bfI8KKAMWj2kfw9+pkZREIbEql4ST1x7hgHIANkbJ//MF8mAH/ilTCJ2tIi4ASr1IC3VNqXHKOxjy34mgoImnOQtx1g81fkqTiMOBVGcTogNhiT5iBHET8R8C+iApJUmgim3SQAXhsLQz7ee2G8gOAQNtJckBEplADiAxtX+G9NmhDl0qJKnTvyWlAMPYZnvIviGXRg6/Dh824DBXhP/tbfREXJEIvQ+aaPGjG7pvw6r3xdx+9hqb4dgZaP2XmdHO2K/B0c1+oUph6k8kShBryl/Ft0DYgjTlOieOACHFFpVyUl72T9V3cM1jUoYvxIC2vpCSys/ck70mDYuYvdvKjlMdKAUThneWVU1aAsyjv6PURDiwNsHGBZzY+JtAAgE2TFxdRHJdyIp/f+zqu09M5cDP2F08Ukkpj4YNSdX950HY2pNCCUK/Hhx5ZMBfjNSEzdsIihVzzAMdn9dz4eDYhnyQb9SSCiAryiJcQk82LiTbJ4x2FZJaUenpKnzP95WyDf4Y+QN9EFHHSeDLGdBjjKNQ5vKHf4XMA7KrY0y0GEObBOO/8e1ywuQExOHXktuQyJALEBpcEqhwtHqgiDuCK5b6i0p2MQpcckIIoh+6hYgTZtO8xlMi6O4tKCF/kOGHEg/W0UUpHW0ZoGNZ1ExZWcn7EErgwt4uj50E/sFBjXXIayWvh7WryjasxarZKssXon0zxvvkc32Q0bqbBCuZiKt9dWFysfQefeL29JYFaeztX6tePaZdz5mYx8+6Zq3Mk0wXECQxlhdzgS2wjBHju3j1RIgKyOMdNUE8X0+RAdbSapS11MRCv1SzUXmO6wGZe2SQYrv2MvCSWEv2VODE6DN7bz8ufypgQKW7uQskFTQHULLKyaEyrnlZbgOGLrV5qrn9U79jjm2HJmgkaVN98AfBub91lGPLZBqdroN5LYgjSu4zYZDDHXZOIPC691HqrWI1900I8qLzgKP4ft8DxEWigprPfrO+KcXno9gZz4jjGewWdUcpGCj0qVFuGPYbl2VturndZ2qRvlL8acDO6lF/DY/VjsFesiUK+ypJ+r/ep+cJkSQxEK4PG4WozgA75TYrDDqStE69K8/mzGEM+JXTeqvmedEElMmwCMm2SLd6bNNF9su02zEtoW6nAQtpMj5Gd7fKa//wqonF7UdtHFsVn+6hf1o7AfriPH7M6EeIUEF5zKVxXbYo7kS/OEtOqDYZKPoBsETIixn0uYrasThmzDkhdKPkz2EnaX0HdQbIgr59vAdGYDqjHrxkjS7WOxkTD8sqEqhiwcJETgBYigrBqF08KyDaje9SZ/I1A7MzaTzMGDEulPtZUkuKcyIRAjxEJPVrnVlb/9wkfij31D/pQt1IN+iL8bGJcstBIO7Y5VI/cwDqURbXhMuJxBqD0KLoK3esWFs0Jz5i5ZvJUAfFJMFb9XmGIOnzGpijpcWYCaMqXSQWp8EnCABepQ0Elyi4wfKfsw78ikIqif1pe1AGPlLmojl1SKxHHXp1L+Ut7AmDQHvhI5xHGi4EooO2BR7k78PEkJOdL7cAxQUZ/Tyclu9gnfwGgOmm2lNHGNmZXsq4Pqgc1EG1ATrvKl8s4R9ywwnqulGUnaRLVhxy8v3ieUwy2hbooT68uscW++DCDH0WSzuoyN2D4LUJ/tLECbcSKznwMIFs0ChF4mRTCnQbIIfk4SHJo6A9BMuTnXTs3Ku/KxsgZWqzuSe+Os8cEUfnMBY6UF5gi3SUbd5K7vDjq5WW0UENJlRsWn4sy21Er/E/AvPQSFHy1p4fgAAAAASUVORK5CYII=');  background-repeat: repeat-x;  background-size: 14px;  height: 28px;}\n",
       "</style>\n"
      ],
      "text/plain": [
       "<IPython.core.display.HTML object>"
      ]
     },
     "metadata": {},
     "output_type": "display_data"
    }
   ],
   "source": [
    "import pandas as pd\n",
    "from rs_datasets import MovieLens\n",
    "\n",
    "from replay.data_preparator import DataPreparator, Indexer\n",
    "from replay.session_handler import State\n",
    "from rs_datasets import MovieLens\n",
    "from replay.utils import get_log_info\n",
    "\n",
    "from replay.filters import (\n",
    "    filter_by_min_count,\n",
    "    filter_out_low_ratings,\n",
    "    take_num_user_interactions,\n",
    "    take_num_days_of_user_hist,\n",
    "    take_time_period,\n",
    "    take_num_days_of_global_hist\n",
    ")"
   ]
  },
  {
   "cell_type": "code",
   "execution_count": 3,
   "id": "d6b251d3",
   "metadata": {},
   "outputs": [
    {
     "data": {
      "text/html": [
       "\n",
       "            <div>\n",
       "                <p><b>SparkSession - hive</b></p>\n",
       "                \n",
       "        <div>\n",
       "            <p><b>SparkContext</b></p>\n",
       "\n",
       "            <p><a href=\"http://localhost:4040\">Spark UI</a></p>\n",
       "\n",
       "            <dl>\n",
       "              <dt>Version</dt>\n",
       "                <dd><code>v3.1.3</code></dd>\n",
       "              <dt>Master</dt>\n",
       "                <dd><code>local[*]</code></dd>\n",
       "              <dt>AppName</dt>\n",
       "                <dd><code>pyspark-shell</code></dd>\n",
       "            </dl>\n",
       "        </div>\n",
       "        \n",
       "            </div>\n",
       "        "
      ],
      "text/plain": [
       "<pyspark.sql.session.SparkSession at 0x123b9e400>"
      ]
     },
     "execution_count": 3,
     "metadata": {},
     "output_type": "execute_result"
    }
   ],
   "source": [
    "spark = State().session\n",
    "spark.sparkContext.setLogLevel('ERROR')\n",
    "spark"
   ]
  },
  {
   "cell_type": "markdown",
   "id": "e82a2b1e",
   "metadata": {},
   "source": [
    "## Get started\n",
    "\n",
    "Download the dataset **MovieLens** and preprocess it with `DataPreparator` and `Indexer`"
   ]
  },
  {
   "cell_type": "code",
   "execution_count": 4,
   "id": "e327edc5",
   "metadata": {},
   "outputs": [],
   "source": [
    "data = ratings = pd.read_csv('./data/ml1m_ratings.dat',sep=\"\\t\",names=[\"userId\", \"itemId\", \"relevance\", \"timestamp\"],engine='python')"
   ]
  },
  {
   "cell_type": "code",
   "execution_count": 5,
   "id": "de474a61",
   "metadata": {},
   "outputs": [
    {
     "name": "stderr",
     "output_type": "stream",
     "text": [
      "26-Dec-22 15:57:37, replay, INFO: Columns with ids of users or items are present in mapping. The dataframe will be treated as an interactions log.\n"
     ]
    }
   ],
   "source": [
    "preparator = DataPreparator()\n",
    "log = preparator.transform(\n",
    "    columns_mapping={\n",
    "        'user_id': 'userId',\n",
    "        'item_id': 'itemId',\n",
    "        'relevance': 'relevance',\n",
    "        'timestamp': 'timestamp'\n",
    "    }, \n",
    "    data=data\n",
    ")"
   ]
  },
  {
   "cell_type": "code",
   "execution_count": 6,
   "id": "95fd5e2f",
   "metadata": {},
   "outputs": [],
   "source": [
    "indexer = Indexer(user_col='user_id', item_col='item_id')\n",
    "indexer.fit(users=log.select('user_id'), items=log.select('item_id'))\n",
    "log_replay = indexer.transform(df=log)"
   ]
  },
  {
   "cell_type": "code",
   "execution_count": 7,
   "id": "09d267a8",
   "metadata": {},
   "outputs": [
    {
     "name": "stdout",
     "output_type": "stream",
     "text": [
      "+--------+--------+---------+-------------------+\n",
      "|user_idx|item_idx|relevance|          timestamp|\n",
      "+--------+--------+---------+-------------------+\n",
      "|    4131|      43|      5.0|2001-01-01 01:12:40|\n",
      "|    4131|     585|      3.0|2001-01-01 01:35:09|\n",
      "|    4131|     461|      3.0|2001-01-01 01:32:48|\n",
      "|    4131|     105|      4.0|2001-01-01 01:04:35|\n",
      "+--------+--------+---------+-------------------+\n",
      "only showing top 4 rows\n",
      "\n"
     ]
    }
   ],
   "source": [
    "log_replay.show(4)"
   ]
  },
  {
   "cell_type": "markdown",
   "id": "c679d9b2",
   "metadata": {},
   "source": [
    "## function filter_by_min_count()\n",
    "\n",
    "Filtering by the minimum number of interactions.\n",
    "\n",
    "Parameters:\n",
    "\n",
    "* `data_frame` - DataFrame of interaction between users and elements\n",
    "\n",
    "* `num_entries` - threshold value for the number of interactions to filter, includes a specified threshold\n",
    "    \n",
    "* `group_by` - column relative to which filtering occurs\n",
    "    "
   ]
  },
  {
   "cell_type": "markdown",
   "id": "1254e3b6",
   "metadata": {},
   "source": [
    "![title](data/img/filter_by_min_count.jpg)"
   ]
  },
  {
   "cell_type": "markdown",
   "id": "56a3488f",
   "metadata": {},
   "source": [
    "Let's leave users who have `>= 10` interactions with items"
   ]
  },
  {
   "cell_type": "code",
   "execution_count": 8,
   "id": "04c5b172",
   "metadata": {},
   "outputs": [
    {
     "name": "stderr",
     "output_type": "stream",
     "text": [
      "26-Dec-22 15:57:51, replay, INFO: current threshold removes 0.0% of data\n"
     ]
    }
   ],
   "source": [
    "log_filter = filter_by_min_count(log_replay, \n",
    "                                 num_entries=10,\n",
    "                                 group_by=\"user_idx\")"
   ]
  },
  {
   "cell_type": "markdown",
   "id": "034b2b23",
   "metadata": {},
   "source": [
    "Let's leave the items that `>= 100` users interacted with"
   ]
  },
  {
   "cell_type": "code",
   "execution_count": 9,
   "id": "62f47cb3",
   "metadata": {},
   "outputs": [
    {
     "name": "stderr",
     "output_type": "stream",
     "text": [
      "26-Dec-22 15:57:52, replay, INFO: current threshold removes 0.05797188387626986% of data\n"
     ]
    }
   ],
   "source": [
    "log_filter = filter_by_min_count(log_replay, \n",
    "                                 num_entries=100,\n",
    "                                 group_by=\"item_idx\")"
   ]
  },
  {
   "cell_type": "markdown",
   "id": "20e93391",
   "metadata": {},
   "source": [
    "## function filter_out_low_ratings()\n",
    "\n",
    "Filtering relevance with a minimum threshold.\n",
    "\n",
    "Parameters:\n",
    "\n",
    "* `data_frame` - DataFrame of interaction between users and elements\n",
    "    \n",
    "* `value` - threshold value of the relevance for filtering, includes a specified threshold\n",
    "\n",
    "* `rating_column` - relevance column\n",
    "    "
   ]
  },
  {
   "cell_type": "markdown",
   "id": "91a8a676",
   "metadata": {},
   "source": [
    "![title](img/filter_by_min_count.jpg)"
   ]
  },
  {
   "cell_type": "markdown",
   "id": "1d0782f0",
   "metadata": {},
   "source": [
    "Let's leave interactions with relevance `5`"
   ]
  },
  {
   "cell_type": "code",
   "execution_count": 10,
   "id": "3f0e03a5",
   "metadata": {},
   "outputs": [],
   "source": [
    "log_filter = filter_out_low_ratings(log_replay, \n",
    "                                    value=5)"
   ]
  },
  {
   "cell_type": "markdown",
   "id": "180c13fd",
   "metadata": {},
   "source": [
    "## function take_num_user_interactions()\n",
    "\n",
    "Filtering the number of interactions for each user. The order of interaction is determined by the date.\n",
    "\n",
    "Parameters:\n",
    "\n",
    "\n",
    "* `log` - DataFrame of interaction between users and elements\n",
    "    \n",
    "* `num_interactions` - threshold value for the number of interactions for each user\n",
    "    \n",
    "* `first` - indicator, if the value is `true`,  counting of user's interactions start from the beginning, if the value is `false`, the counting of interactions start from the end\n",
    "    \n",
    "* `date_col` - date column name\n",
    "    \n",
    "* `user_col` - user id column name\n",
    "    \n",
    "* `item_col` - item id column name\n"
   ]
  },
  {
   "cell_type": "markdown",
   "id": "9cd4eec3",
   "metadata": {},
   "source": [
    "![title](img/take_num_user_interactions.jpg)"
   ]
  },
  {
   "cell_type": "markdown",
   "id": "1b98f154",
   "metadata": {},
   "source": [
    "Let's leave the last `2` interactions for each user"
   ]
  },
  {
   "cell_type": "code",
   "execution_count": 11,
   "id": "5ba9ee15",
   "metadata": {},
   "outputs": [],
   "source": [
    "log_filter = take_num_user_interactions(log_replay, \n",
    "                                        num_interactions=2,\n",
    "                                        first=False)"
   ]
  },
  {
   "cell_type": "markdown",
   "id": "e5b9ca40",
   "metadata": {},
   "source": [
    "## function take_num_days_of_user_hist()\n",
    "\n",
    "Filtering by the time period of interactions for each user.\n",
    "\n",
    "Parameters:\n",
    "\n",
    "* `log` - DataFrame of interaction between users and elements\n",
    "    \n",
    "* `days` - time interval in days\n",
    "    \n",
    "* `first` - indicator, if the value is `true`, the interval starts counting from the first user's interaction, if the value is `false`, the interval starts counting from the last interaction\n",
    "    \n",
    "* `date_col` - item id column name\n",
    "    \n",
    "* `user_col` - user id column name"
   ]
  },
  {
   "cell_type": "markdown",
   "id": "ce4d1a12",
   "metadata": {},
   "source": [
    "![title](img/take_num_days_of_user_hist.jpg)"
   ]
  },
  {
   "cell_type": "markdown",
   "id": "d26bab04",
   "metadata": {},
   "source": [
    "Let's leave the last `week` of each user's interactions"
   ]
  },
  {
   "cell_type": "code",
   "execution_count": 12,
   "id": "f01e2571",
   "metadata": {},
   "outputs": [],
   "source": [
    "log_filter = take_num_days_of_user_hist(log_replay, \n",
    "                                        days=7,\n",
    "                                        first=False)"
   ]
  },
  {
   "cell_type": "markdown",
   "id": "b0115419",
   "metadata": {},
   "source": [
    "## function take_num_days_of_global_hist()\n",
    "\n",
    "Filtering by the time period of interactions of all users.\n",
    "\n",
    "Parameters:\n",
    "\n",
    "* `log` - DataFrame of interaction between users and elements\n",
    "    \n",
    "* `duration_days` - time interval in days\n",
    "    \n",
    "* `first` - indicator, if the value is `true`, the interval starts counting from the first interaction among all users, if the value is `false`, the interval starts counting from the last interaction\n",
    "    \n",
    "* `date_column` - date column name"
   ]
  },
  {
   "cell_type": "markdown",
   "id": "09c9caf8",
   "metadata": {},
   "source": [
    "![title](img/take_num_days_of_global_hist.jpg)"
   ]
  },
  {
   "cell_type": "markdown",
   "id": "a50387dc",
   "metadata": {},
   "source": [
    "Let's leave the last `2 weeks`of interactions."
   ]
  },
  {
   "cell_type": "code",
   "execution_count": 14,
   "id": "64021d7d",
   "metadata": {},
   "outputs": [],
   "source": [
    "log_filter = take_num_days_of_global_hist(log_replay, \n",
    "                                          duration_days=14,\n",
    "                                          first=False)"
   ]
  },
  {
   "cell_type": "markdown",
   "id": "691fd243",
   "metadata": {},
   "source": [
    "## function take_time_period()\n",
    "\n",
    "Filtering by a given time period\n",
    "\n",
    "Parameters:\n",
    "    \n",
    "* `log` - DataFrame of interaction between users and elements\n",
    "    \n",
    "* `start_date` - beginning of the time period\n",
    "    \n",
    "* `end_date` - end of time period\n",
    "    \n",
    "* `date_column` - date column name"
   ]
  },
  {
   "cell_type": "markdown",
   "id": "611d0fe8",
   "metadata": {},
   "source": [
    "![title](img/take_time_period.jpg)"
   ]
  },
  {
   "cell_type": "markdown",
   "id": "9ec1af1f",
   "metadata": {},
   "source": [
    "Let's leave the data for `March` only"
   ]
  },
  {
   "cell_type": "code",
   "execution_count": 15,
   "id": "54a9fb0b",
   "metadata": {},
   "outputs": [],
   "source": [
    "log_filter = take_time_period(log_replay, \n",
    "                              start_date=\"2001-03-01\",\n",
    "                              end_date=\"2001-04-01\")"
   ]
  }
 ],
 "metadata": {
  "kernelspec": {
   "display_name": "Python 3 (ipykernel)",
   "language": "python",
   "name": "python3"
  },
  "language_info": {
   "codemirror_mode": {
    "name": "ipython",
    "version": 3
   },
   "file_extension": ".py",
   "mimetype": "text/x-python",
   "name": "python",
   "nbconvert_exporter": "python",
   "pygments_lexer": "ipython3",
   "version": "3.9.8"
  }
 },
 "nbformat": 4,
 "nbformat_minor": 5
}
