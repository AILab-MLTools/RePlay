{
 "cells": [
  {
   "cell_type": "markdown",
   "metadata": {},
   "source": [
    "## Закупки"
   ]
  },
  {
   "cell_type": "code",
   "execution_count": 1,
   "metadata": {},
   "outputs": [],
   "source": [
    "import pandas as pd\n",
    "import numpy as np"
   ]
  },
  {
   "cell_type": "markdown",
   "metadata": {},
   "source": [
    "### Загрузка данных"
   ]
  },
  {
   "cell_type": "code",
   "execution_count": 2,
   "metadata": {},
   "outputs": [],
   "source": [
    "tenders = pd.read_csv(\"tenders/tenders.csv\", dtype= {\"lot_name\":np.str,\n",
    "                                                     \"key\": np.str,\n",
    "                                                     \"inn_num\": np.str,\n",
    "                                                     \"okpd2\": np.str,\n",
    "                                                     \"purchase_method\": np.str,\n",
    "                                                     \"open_dt\": np.str,\n",
    "                                                     \"close_dt\": np.str,\n",
    "                                                     \"organizer_region\": np.str,\n",
    "                                                     \"initial_price\": np.float64})"
   ]
  },
  {
   "cell_type": "code",
   "execution_count": 3,
   "metadata": {},
   "outputs": [
    {
     "data": {
      "text/html": [
       "<div>\n",
       "<style scoped>\n",
       "    .dataframe tbody tr th:only-of-type {\n",
       "        vertical-align: middle;\n",
       "    }\n",
       "\n",
       "    .dataframe tbody tr th {\n",
       "        vertical-align: top;\n",
       "    }\n",
       "\n",
       "    .dataframe thead th {\n",
       "        text-align: right;\n",
       "    }\n",
       "</style>\n",
       "<table border=\"1\" class=\"dataframe\">\n",
       "  <thead>\n",
       "    <tr style=\"text-align: right;\">\n",
       "      <th></th>\n",
       "      <th>lot_name</th>\n",
       "      <th>key</th>\n",
       "      <th>inn_num</th>\n",
       "      <th>okpd2</th>\n",
       "      <th>purchase_method</th>\n",
       "      <th>open_dt</th>\n",
       "      <th>close_dt</th>\n",
       "      <th>organizer_region</th>\n",
       "      <th>initial_price</th>\n",
       "    </tr>\n",
       "  </thead>\n",
       "  <tbody>\n",
       "    <tr>\n",
       "      <th>0</th>\n",
       "      <td>Аренда транспортного средства с экипажем. Терр...</td>\n",
       "      <td>32008811985_1</td>\n",
       "      <td>6952315887</td>\n",
       "      <td>77.12.1</td>\n",
       "      <td>Закупка у единственного поставщика</td>\n",
       "      <td>2019-12-30</td>\n",
       "      <td>2019-12-30</td>\n",
       "      <td>Тверская область</td>\n",
       "      <td>4499979.000</td>\n",
       "    </tr>\n",
       "    <tr>\n",
       "      <th>1</th>\n",
       "      <td>Аренда транспортных средств с экипажем (КАМАЗ ...</td>\n",
       "      <td>32008810970_1</td>\n",
       "      <td>6952315887</td>\n",
       "      <td>77.12</td>\n",
       "      <td>Закупка у единственного поставщика</td>\n",
       "      <td>2019-12-31</td>\n",
       "      <td>2019-12-31</td>\n",
       "      <td>Тверская область</td>\n",
       "      <td>2171892.000</td>\n",
       "    </tr>\n",
       "    <tr>\n",
       "      <th>2</th>\n",
       "      <td>Разработка раздела проектной документации «Про...</td>\n",
       "      <td>32008809236_1</td>\n",
       "      <td>1435142972</td>\n",
       "      <td>71.12.11</td>\n",
       "      <td>Закупка у единственного поставщика</td>\n",
       "      <td>2019-12-30</td>\n",
       "      <td>2019-12-30</td>\n",
       "      <td>Республика Саха (Якутия)</td>\n",
       "      <td>197297.000</td>\n",
       "    </tr>\n",
       "    <tr>\n",
       "      <th>3</th>\n",
       "      <td>Аренда специальной техники с экипажем, террито...</td>\n",
       "      <td>32008807943_1</td>\n",
       "      <td>6952315887</td>\n",
       "      <td>77.12.1</td>\n",
       "      <td>Закупка у единственного поставщика</td>\n",
       "      <td>2019-12-30</td>\n",
       "      <td>2019-12-30</td>\n",
       "      <td>Тверская область</td>\n",
       "      <td>600000.000</td>\n",
       "    </tr>\n",
       "    <tr>\n",
       "      <th>4</th>\n",
       "      <td>Аренда специальной техники с экипажем, террито...</td>\n",
       "      <td>32008812309_1</td>\n",
       "      <td>6952315887</td>\n",
       "      <td>77.12.1</td>\n",
       "      <td>Закупка у единственного поставщика</td>\n",
       "      <td>2019-12-30</td>\n",
       "      <td>2019-12-30</td>\n",
       "      <td>Тверская область</td>\n",
       "      <td>1377714.375</td>\n",
       "    </tr>\n",
       "  </tbody>\n",
       "</table>\n",
       "</div>"
      ],
      "text/plain": [
       "                                            lot_name            key  \\\n",
       "0  Аренда транспортного средства с экипажем. Терр...  32008811985_1   \n",
       "1  Аренда транспортных средств с экипажем (КАМАЗ ...  32008810970_1   \n",
       "2  Разработка раздела проектной документации «Про...  32008809236_1   \n",
       "3  Аренда специальной техники с экипажем, террито...  32008807943_1   \n",
       "4  Аренда специальной техники с экипажем, террито...  32008812309_1   \n",
       "\n",
       "      inn_num     okpd2                     purchase_method     open_dt  \\\n",
       "0  6952315887   77.12.1  Закупка у единственного поставщика  2019-12-30   \n",
       "1  6952315887     77.12  Закупка у единственного поставщика  2019-12-31   \n",
       "2  1435142972  71.12.11  Закупка у единственного поставщика  2019-12-30   \n",
       "3  6952315887   77.12.1  Закупка у единственного поставщика  2019-12-30   \n",
       "4  6952315887   77.12.1  Закупка у единственного поставщика  2019-12-30   \n",
       "\n",
       "     close_dt          organizer_region  initial_price  \n",
       "0  2019-12-30          Тверская область    4499979.000  \n",
       "1  2019-12-31          Тверская область    2171892.000  \n",
       "2  2019-12-30  Республика Саха (Якутия)     197297.000  \n",
       "3  2019-12-30          Тверская область     600000.000  \n",
       "4  2019-12-30          Тверская область    1377714.375  "
      ]
     },
     "execution_count": 3,
     "metadata": {},
     "output_type": "execute_result"
    }
   ],
   "source": [
    "tenders.head()"
   ]
  },
  {
   "cell_type": "code",
   "execution_count": 3,
   "metadata": {},
   "outputs": [],
   "source": [
    "participants = pd.read_csv(\"tenders/participants.csv\" , dtype= {\"inn_num\": np.str, \"key\": np.str, \"winner_flg\": np.int} )"
   ]
  },
  {
   "cell_type": "code",
   "execution_count": 4,
   "metadata": {},
   "outputs": [
    {
     "data": {
      "text/html": [
       "<div>\n",
       "<style scoped>\n",
       "    .dataframe tbody tr th:only-of-type {\n",
       "        vertical-align: middle;\n",
       "    }\n",
       "\n",
       "    .dataframe tbody tr th {\n",
       "        vertical-align: top;\n",
       "    }\n",
       "\n",
       "    .dataframe thead th {\n",
       "        text-align: right;\n",
       "    }\n",
       "</style>\n",
       "<table border=\"1\" class=\"dataframe\">\n",
       "  <thead>\n",
       "    <tr style=\"text-align: right;\">\n",
       "      <th></th>\n",
       "      <th>inn_num</th>\n",
       "      <th>key</th>\n",
       "      <th>winner_flg</th>\n",
       "    </tr>\n",
       "  </thead>\n",
       "  <tbody>\n",
       "    <tr>\n",
       "      <th>0</th>\n",
       "      <td>0000000000</td>\n",
       "      <td>31908636260_1</td>\n",
       "      <td>1</td>\n",
       "    </tr>\n",
       "    <tr>\n",
       "      <th>1</th>\n",
       "      <td>0000000000</td>\n",
       "      <td>31908564969_1</td>\n",
       "      <td>1</td>\n",
       "    </tr>\n",
       "    <tr>\n",
       "      <th>2</th>\n",
       "      <td>7805287581</td>\n",
       "      <td>0368400000219000451_1</td>\n",
       "      <td>0</td>\n",
       "    </tr>\n",
       "    <tr>\n",
       "      <th>3</th>\n",
       "      <td>5043051626</td>\n",
       "      <td>0368400000219000451_1</td>\n",
       "      <td>0</td>\n",
       "    </tr>\n",
       "    <tr>\n",
       "      <th>4</th>\n",
       "      <td>7717784658</td>\n",
       "      <td>0368400000219000451_1</td>\n",
       "      <td>1</td>\n",
       "    </tr>\n",
       "  </tbody>\n",
       "</table>\n",
       "</div>"
      ],
      "text/plain": [
       "      inn_num                    key  winner_flg\n",
       "0  0000000000          31908636260_1           1\n",
       "1  0000000000          31908564969_1           1\n",
       "2  7805287581  0368400000219000451_1           0\n",
       "3  5043051626  0368400000219000451_1           0\n",
       "4  7717784658  0368400000219000451_1           1"
      ]
     },
     "execution_count": 4,
     "metadata": {},
     "output_type": "execute_result"
    }
   ],
   "source": [
    "participants.head()"
   ]
  },
  {
   "cell_type": "code",
   "execution_count": 5,
   "metadata": {},
   "outputs": [],
   "source": [
    "participants_okved = pd.read_csv(\"tenders/participants_okved.csv\", dtype= {\"inn_num\": np.str, \"okved_main1\": np.str, \"okved_main0\": np.str} )"
   ]
  },
  {
   "cell_type": "code",
   "execution_count": 6,
   "metadata": {},
   "outputs": [
    {
     "data": {
      "text/html": [
       "<div>\n",
       "<style scoped>\n",
       "    .dataframe tbody tr th:only-of-type {\n",
       "        vertical-align: middle;\n",
       "    }\n",
       "\n",
       "    .dataframe tbody tr th {\n",
       "        vertical-align: top;\n",
       "    }\n",
       "\n",
       "    .dataframe thead th {\n",
       "        text-align: right;\n",
       "    }\n",
       "</style>\n",
       "<table border=\"1\" class=\"dataframe\">\n",
       "  <thead>\n",
       "    <tr style=\"text-align: right;\">\n",
       "      <th></th>\n",
       "      <th>inn_num</th>\n",
       "      <th>okved_main1</th>\n",
       "      <th>okved_main0</th>\n",
       "    </tr>\n",
       "  </thead>\n",
       "  <tbody>\n",
       "    <tr>\n",
       "      <th>0</th>\n",
       "      <td>0000000000</td>\n",
       "      <td>NaN</td>\n",
       "      <td>NaN</td>\n",
       "    </tr>\n",
       "    <tr>\n",
       "      <th>1</th>\n",
       "      <td>7805287581</td>\n",
       "      <td>['46.69.5']</td>\n",
       "      <td>['18.1', '33.14', '33.20', '41.2', '43.2', '43...</td>\n",
       "    </tr>\n",
       "    <tr>\n",
       "      <th>2</th>\n",
       "      <td>5043051626</td>\n",
       "      <td>['46.90']</td>\n",
       "      <td>['25.62', '25.99.29', '27.12', '27.90', '28.13...</td>\n",
       "    </tr>\n",
       "    <tr>\n",
       "      <th>3</th>\n",
       "      <td>7717784658</td>\n",
       "      <td>['73.11']</td>\n",
       "      <td>['33.12', '33.14', '33.20', '46.18', '46.19', ...</td>\n",
       "    </tr>\n",
       "    <tr>\n",
       "      <th>4</th>\n",
       "      <td>7806239260</td>\n",
       "      <td>['46.51']</td>\n",
       "      <td>['46.41.1', '46.66', '46.90', '62.01', '62.02'...</td>\n",
       "    </tr>\n",
       "    <tr>\n",
       "      <th>...</th>\n",
       "      <td>...</td>\n",
       "      <td>...</td>\n",
       "      <td>...</td>\n",
       "    </tr>\n",
       "    <tr>\n",
       "      <th>293495</th>\n",
       "      <td>7810625250</td>\n",
       "      <td>['71.12.12']</td>\n",
       "      <td>['26.51.5', '26.51.8', '30.11', '33.12', '33.1...</td>\n",
       "    </tr>\n",
       "    <tr>\n",
       "      <th>293496</th>\n",
       "      <td>6444009038</td>\n",
       "      <td>['26.51.7', '26.51.8']</td>\n",
       "      <td>['01.19.2', '01.30', '10.71', '25.72', '26.20'...</td>\n",
       "    </tr>\n",
       "    <tr>\n",
       "      <th>293497</th>\n",
       "      <td>2635001120</td>\n",
       "      <td>['26.51.7']</td>\n",
       "      <td>['20.60.1', '20.60.2', '22.19.7', '22.21', '22...</td>\n",
       "    </tr>\n",
       "    <tr>\n",
       "      <th>293498</th>\n",
       "      <td>615509605586</td>\n",
       "      <td>['49.41.1']</td>\n",
       "      <td>['49.41.2', '49.41.3', '77.39.11']</td>\n",
       "    </tr>\n",
       "    <tr>\n",
       "      <th>293499</th>\n",
       "      <td>615501049104</td>\n",
       "      <td>['47.1']</td>\n",
       "      <td>['46.13', '47.19', '47.7', '47.9', '52.29']</td>\n",
       "    </tr>\n",
       "  </tbody>\n",
       "</table>\n",
       "<p>293500 rows × 3 columns</p>\n",
       "</div>"
      ],
      "text/plain": [
       "             inn_num             okved_main1  \\\n",
       "0         0000000000                     NaN   \n",
       "1         7805287581             ['46.69.5']   \n",
       "2         5043051626               ['46.90']   \n",
       "3         7717784658               ['73.11']   \n",
       "4         7806239260               ['46.51']   \n",
       "...              ...                     ...   \n",
       "293495    7810625250            ['71.12.12']   \n",
       "293496    6444009038  ['26.51.7', '26.51.8']   \n",
       "293497    2635001120             ['26.51.7']   \n",
       "293498  615509605586             ['49.41.1']   \n",
       "293499  615501049104                ['47.1']   \n",
       "\n",
       "                                              okved_main0  \n",
       "0                                                     NaN  \n",
       "1       ['18.1', '33.14', '33.20', '41.2', '43.2', '43...  \n",
       "2       ['25.62', '25.99.29', '27.12', '27.90', '28.13...  \n",
       "3       ['33.12', '33.14', '33.20', '46.18', '46.19', ...  \n",
       "4       ['46.41.1', '46.66', '46.90', '62.01', '62.02'...  \n",
       "...                                                   ...  \n",
       "293495  ['26.51.5', '26.51.8', '30.11', '33.12', '33.1...  \n",
       "293496  ['01.19.2', '01.30', '10.71', '25.72', '26.20'...  \n",
       "293497  ['20.60.1', '20.60.2', '22.19.7', '22.21', '22...  \n",
       "293498                 ['49.41.2', '49.41.3', '77.39.11']  \n",
       "293499        ['46.13', '47.19', '47.7', '47.9', '52.29']  \n",
       "\n",
       "[293500 rows x 3 columns]"
      ]
     },
     "execution_count": 6,
     "metadata": {},
     "output_type": "execute_result"
    }
   ],
   "source": [
    "participants_okved"
   ]
  },
  {
   "cell_type": "markdown",
   "metadata": {},
   "source": [
    "### Подготовка данных\n",
    "\n",
    "Оставляем только определенные виды закупок"
   ]
  },
  {
   "cell_type": "code",
   "execution_count": 7,
   "metadata": {},
   "outputs": [
    {
     "data": {
      "text/plain": [
       "Электронный аукцион                   1540817\n",
       "Запрос котировок                       227426\n",
       "Закупка у единственного поставщика      90041\n",
       "Запрос предложений                      42621\n",
       "Открытый конкурс                        39422\n",
       "Открытый запрос котировок               15775\n",
       "Прочее                                  12042\n",
       "Открытый запрос предложений              9885\n",
       "Конкурс                                  9392\n",
       "Конкурс с ограниченным участием          9297\n",
       "Предварительный отбор                    5824\n",
       "Аукцион                                  3718\n",
       "Конкурентные переговоры                   873\n",
       "Открытый аукцион                          464\n",
       "Маркетинговое исследование                346\n",
       "Закрытый запрос котировок                 143\n",
       "Мониторинг цен                            124\n",
       "Закрытый аукцион                           43\n",
       "Закрытый запрос предложений                40\n",
       "Двухэтапный конкурс                        18\n",
       "Единственный источник                       4\n",
       "Name: purchase_method, dtype: int64"
      ]
     },
     "execution_count": 7,
     "metadata": {},
     "output_type": "execute_result"
    }
   ],
   "source": [
    "tenders[\"purchase_method\"].value_counts()"
   ]
  },
  {
   "cell_type": "code",
   "execution_count": 17,
   "metadata": {},
   "outputs": [],
   "source": [
    "filtered_tenders = tenders[tenders[\"purchase_method\"].isin(set([\"Электронный аукцион\",\n",
    "                                        \"Запрос котировок\",\n",
    "                                        \"Запрос предложений\",\n",
    "                                        \"Открытый конкурс\",\n",
    "                                        \"Открытый запрос котировок\",\n",
    "                                        \"Открытый запрос предложений\",\n",
    "                                        \"Конкурс\"]))]"
   ]
  },
  {
   "cell_type": "code",
   "execution_count": 18,
   "metadata": {},
   "outputs": [],
   "source": [
    "# будем использовать окпд не ниже второго уровня\n",
    "filtered_tenders.loc[:,\"okpd2\"]=filtered_tenders[\"okpd2\"].apply(lambda df: \".\".join(df.split(\",\")[0].split(\".\",2)[:2])).values"
   ]
  },
  {
   "cell_type": "code",
   "execution_count": 28,
   "metadata": {},
   "outputs": [],
   "source": [
    "# в качестве объектов используем пару окпд + регион\n",
    "filtered_tenders.loc[:,\"items\"] = (\n",
    "np.core.defchararray.add(filtered_tenders[\"organizer_region\"].values.astype(np.str) ,filtered_tenders[\"okpd2\"].values.astype(np.str)))"
   ]
  },
  {
   "cell_type": "code",
   "execution_count": 89,
   "metadata": {},
   "outputs": [],
   "source": [
    "filtered_tenders = filtered_tenders[~filtered_tenders[\"organizer_region\"].isna()]"
   ]
  },
  {
   "cell_type": "markdown",
   "metadata": {},
   "source": [
    "Вытащим основной оквэд для каждого участника, удалим участнииков без оквэда"
   ]
  },
  {
   "cell_type": "code",
   "execution_count": 40,
   "metadata": {},
   "outputs": [],
   "source": [
    "participants_okved = participants_okved[~participants_okved.okved_main1.isna()]"
   ]
  },
  {
   "cell_type": "code",
   "execution_count": 44,
   "metadata": {},
   "outputs": [],
   "source": [
    "participants_okved.loc[:,\"okved\"] = (\n",
    "participants_okved[\"okved_main1\"].apply(lambda df: df[2:-2].split(\",\")[0].replace(\"'\",\"\")))"
   ]
  },
  {
   "cell_type": "markdown",
   "metadata": {},
   "source": [
    "Соединим все таблички в одну "
   ]
  },
  {
   "cell_type": "code",
   "execution_count": 90,
   "metadata": {},
   "outputs": [],
   "source": [
    "full_table=pd.merge(pd.merge(participants,filtered_tenders[[\"items\",\"key\",\"close_dt\",\"open_dt\"]],left_on=\"key\",right_on=\"key\",how=\"inner\"),\n",
    "                    participants_okved[[\"inn_num\",\"okved\"]],left_on=\"inn_num\",right_on=\"inn_num\",how=\"inner\")"
   ]
  },
  {
   "cell_type": "code",
   "execution_count": 91,
   "metadata": {},
   "outputs": [],
   "source": [
    "full_table.loc[:,\"region_code\"]=full_table[\"inn_num\"].apply(lambda df: df[:2])"
   ]
  },
  {
   "cell_type": "code",
   "execution_count": 92,
   "metadata": {},
   "outputs": [],
   "source": [
    "full_table = full_table[(~full_table[\"items\"].isna()) & (~full_table[\"inn_num\"].isna()) & (full_table[\"inn_num\"]!=\"0000000000\")]"
   ]
  },
  {
   "cell_type": "code",
   "execution_count": 93,
   "metadata": {},
   "outputs": [],
   "source": [
    "# таргетом считаем любые участия в торгах\n",
    "full_table.loc[:,\"winner_flg\"] = 1"
   ]
  },
  {
   "cell_type": "code",
   "execution_count": 94,
   "metadata": {},
   "outputs": [
    {
     "data": {
      "text/html": [
       "<div>\n",
       "<style scoped>\n",
       "    .dataframe tbody tr th:only-of-type {\n",
       "        vertical-align: middle;\n",
       "    }\n",
       "\n",
       "    .dataframe tbody tr th {\n",
       "        vertical-align: top;\n",
       "    }\n",
       "\n",
       "    .dataframe thead th {\n",
       "        text-align: right;\n",
       "    }\n",
       "</style>\n",
       "<table border=\"1\" class=\"dataframe\">\n",
       "  <thead>\n",
       "    <tr style=\"text-align: right;\">\n",
       "      <th></th>\n",
       "      <th>inn_num</th>\n",
       "      <th>key</th>\n",
       "      <th>winner_flg</th>\n",
       "      <th>items</th>\n",
       "      <th>close_dt</th>\n",
       "      <th>open_dt</th>\n",
       "      <th>okved</th>\n",
       "      <th>region_code</th>\n",
       "    </tr>\n",
       "  </thead>\n",
       "  <tbody>\n",
       "    <tr>\n",
       "      <th>0</th>\n",
       "      <td>7805287581</td>\n",
       "      <td>0368400000219000451_1</td>\n",
       "      <td>1</td>\n",
       "      <td>Ульяновская область26.20</td>\n",
       "      <td>2020-01-15</td>\n",
       "      <td>2019-12-28</td>\n",
       "      <td>46.69.5</td>\n",
       "      <td>78</td>\n",
       "    </tr>\n",
       "    <tr>\n",
       "      <th>1</th>\n",
       "      <td>7805287581</td>\n",
       "      <td>0368400000219000428_1</td>\n",
       "      <td>1</td>\n",
       "      <td>Ульяновская область26.20</td>\n",
       "      <td>2020-01-13</td>\n",
       "      <td>2019-12-24</td>\n",
       "      <td>46.69.5</td>\n",
       "      <td>78</td>\n",
       "    </tr>\n",
       "    <tr>\n",
       "      <th>2</th>\n",
       "      <td>7805287581</td>\n",
       "      <td>0368400000219000041_1</td>\n",
       "      <td>1</td>\n",
       "      <td>Ульяновская область13.93</td>\n",
       "      <td>2019-07-19</td>\n",
       "      <td>2019-07-11</td>\n",
       "      <td>46.69.5</td>\n",
       "      <td>78</td>\n",
       "    </tr>\n",
       "    <tr>\n",
       "      <th>3</th>\n",
       "      <td>7805287581</td>\n",
       "      <td>0368400000219000042_1</td>\n",
       "      <td>1</td>\n",
       "      <td>Ульяновская область31.01</td>\n",
       "      <td>2019-07-19</td>\n",
       "      <td>2019-07-11</td>\n",
       "      <td>46.69.5</td>\n",
       "      <td>78</td>\n",
       "    </tr>\n",
       "    <tr>\n",
       "      <th>4</th>\n",
       "      <td>7805287581</td>\n",
       "      <td>0368400000219000043_1</td>\n",
       "      <td>1</td>\n",
       "      <td>Ульяновская область26.20</td>\n",
       "      <td>2019-07-19</td>\n",
       "      <td>2019-07-11</td>\n",
       "      <td>46.69.5</td>\n",
       "      <td>78</td>\n",
       "    </tr>\n",
       "  </tbody>\n",
       "</table>\n",
       "</div>"
      ],
      "text/plain": [
       "      inn_num                    key  winner_flg                     items  \\\n",
       "0  7805287581  0368400000219000451_1           1  Ульяновская область26.20   \n",
       "1  7805287581  0368400000219000428_1           1  Ульяновская область26.20   \n",
       "2  7805287581  0368400000219000041_1           1  Ульяновская область13.93   \n",
       "3  7805287581  0368400000219000042_1           1  Ульяновская область31.01   \n",
       "4  7805287581  0368400000219000043_1           1  Ульяновская область26.20   \n",
       "\n",
       "     close_dt     open_dt    okved region_code  \n",
       "0  2020-01-15  2019-12-28  46.69.5          78  \n",
       "1  2020-01-13  2019-12-24  46.69.5          78  \n",
       "2  2019-07-19  2019-07-11  46.69.5          78  \n",
       "3  2019-07-19  2019-07-11  46.69.5          78  \n",
       "4  2019-07-19  2019-07-11  46.69.5          78  "
      ]
     },
     "execution_count": 94,
     "metadata": {},
     "output_type": "execute_result"
    }
   ],
   "source": [
    "full_table.head(5)"
   ]
  },
  {
   "cell_type": "code",
   "execution_count": 95,
   "metadata": {},
   "outputs": [],
   "source": [
    "tenders_by_day = full_table[[\"items\",\"open_dt\",\"key\"]].drop_duplicates().groupby([\"items\",\"open_dt\"]).count()"
   ]
  },
  {
   "cell_type": "code",
   "execution_count": 96,
   "metadata": {},
   "outputs": [
    {
     "data": {
      "text/plain": [
       "13.0"
      ]
     },
     "execution_count": 96,
     "metadata": {},
     "output_type": "execute_result"
    }
   ],
   "source": [
    "np.percentile(tenders_by_day[\"key\"],99)"
   ]
  },
  {
   "cell_type": "code",
   "execution_count": 97,
   "metadata": {},
   "outputs": [
    {
     "data": {
      "text/plain": [
       "6.0"
      ]
     },
     "execution_count": 97,
     "metadata": {},
     "output_type": "execute_result"
    }
   ],
   "source": [
    "np.percentile(tenders_by_day[\"key\"],95)"
   ]
  },
  {
   "cell_type": "code",
   "execution_count": 98,
   "metadata": {},
   "outputs": [
    {
     "data": {
      "text/plain": [
       "4.0"
      ]
     },
     "execution_count": 98,
     "metadata": {},
     "output_type": "execute_result"
    }
   ],
   "source": [
    "np.percentile(tenders_by_day[\"key\"],90)"
   ]
  },
  {
   "cell_type": "code",
   "execution_count": 99,
   "metadata": {},
   "outputs": [
    {
     "data": {
      "text/html": [
       "<div>\n",
       "<style scoped>\n",
       "    .dataframe tbody tr th:only-of-type {\n",
       "        vertical-align: middle;\n",
       "    }\n",
       "\n",
       "    .dataframe tbody tr th {\n",
       "        vertical-align: top;\n",
       "    }\n",
       "\n",
       "    .dataframe thead th {\n",
       "        text-align: right;\n",
       "    }\n",
       "</style>\n",
       "<table border=\"1\" class=\"dataframe\">\n",
       "  <thead>\n",
       "    <tr style=\"text-align: right;\">\n",
       "      <th></th>\n",
       "      <th></th>\n",
       "      <th>key</th>\n",
       "    </tr>\n",
       "    <tr>\n",
       "      <th>items</th>\n",
       "      <th>open_dt</th>\n",
       "      <th></th>\n",
       "    </tr>\n",
       "  </thead>\n",
       "  <tbody>\n",
       "    <tr>\n",
       "      <th rowspan=\"2\" valign=\"top\">Москва32.50</th>\n",
       "      <th>2019-04-30</th>\n",
       "      <td>108</td>\n",
       "    </tr>\n",
       "    <tr>\n",
       "      <th>2019-05-27</th>\n",
       "      <td>113</td>\n",
       "    </tr>\n",
       "    <tr>\n",
       "      <th>Республика Башкортостан32.50</th>\n",
       "      <th>2019-03-28</th>\n",
       "      <td>116</td>\n",
       "    </tr>\n",
       "    <tr>\n",
       "      <th>Москва32.50</th>\n",
       "      <th>2019-11-28</th>\n",
       "      <td>117</td>\n",
       "    </tr>\n",
       "    <tr>\n",
       "      <th>Москва71.1</th>\n",
       "      <th>2019-11-25</th>\n",
       "      <td>117</td>\n",
       "    </tr>\n",
       "    <tr>\n",
       "      <th>Московская область80.10</th>\n",
       "      <th>2019-11-18</th>\n",
       "      <td>122</td>\n",
       "    </tr>\n",
       "    <tr>\n",
       "      <th>Ханты-Мансийский Автономный округ - Югра АО68.10</th>\n",
       "      <th>2019-11-26</th>\n",
       "      <td>123</td>\n",
       "    </tr>\n",
       "    <tr>\n",
       "      <th rowspan=\"5\" valign=\"top\">Москва32.50</th>\n",
       "      <th>2019-12-09</th>\n",
       "      <td>124</td>\n",
       "    </tr>\n",
       "    <tr>\n",
       "      <th>2019-11-26</th>\n",
       "      <td>124</td>\n",
       "    </tr>\n",
       "    <tr>\n",
       "      <th>2019-12-30</th>\n",
       "      <td>124</td>\n",
       "    </tr>\n",
       "    <tr>\n",
       "      <th>2019-12-27</th>\n",
       "      <td>127</td>\n",
       "    </tr>\n",
       "    <tr>\n",
       "      <th>2019-04-29</th>\n",
       "      <td>127</td>\n",
       "    </tr>\n",
       "    <tr>\n",
       "      <th>Санкт-Петербург32.50</th>\n",
       "      <th>2019-12-30</th>\n",
       "      <td>127</td>\n",
       "    </tr>\n",
       "    <tr>\n",
       "      <th rowspan=\"2\" valign=\"top\">Москва32.50</th>\n",
       "      <th>2019-11-22</th>\n",
       "      <td>133</td>\n",
       "    </tr>\n",
       "    <tr>\n",
       "      <th>2019-11-20</th>\n",
       "      <td>133</td>\n",
       "    </tr>\n",
       "    <tr>\n",
       "      <th rowspan=\"3\" valign=\"top\">Ханты-Мансийский Автономный округ - Югра АО68.10</th>\n",
       "      <th>2019-11-22</th>\n",
       "      <td>136</td>\n",
       "    </tr>\n",
       "    <tr>\n",
       "      <th>2019-11-27</th>\n",
       "      <td>140</td>\n",
       "    </tr>\n",
       "    <tr>\n",
       "      <th>2019-11-28</th>\n",
       "      <td>140</td>\n",
       "    </tr>\n",
       "    <tr>\n",
       "      <th>Москва32.50</th>\n",
       "      <th>2019-09-30</th>\n",
       "      <td>146</td>\n",
       "    </tr>\n",
       "    <tr>\n",
       "      <th>Ханты-Мансийский Автономный округ - Югра АО68.10</th>\n",
       "      <th>2019-11-25</th>\n",
       "      <td>193</td>\n",
       "    </tr>\n",
       "  </tbody>\n",
       "</table>\n",
       "</div>"
      ],
      "text/plain": [
       "                                                             key\n",
       "items                                            open_dt        \n",
       "Москва32.50                                      2019-04-30  108\n",
       "                                                 2019-05-27  113\n",
       "Республика Башкортостан32.50                     2019-03-28  116\n",
       "Москва32.50                                      2019-11-28  117\n",
       "Москва71.1                                       2019-11-25  117\n",
       "Московская область80.10                          2019-11-18  122\n",
       "Ханты-Мансийский Автономный округ - Югра АО68.10 2019-11-26  123\n",
       "Москва32.50                                      2019-12-09  124\n",
       "                                                 2019-11-26  124\n",
       "                                                 2019-12-30  124\n",
       "                                                 2019-12-27  127\n",
       "                                                 2019-04-29  127\n",
       "Санкт-Петербург32.50                             2019-12-30  127\n",
       "Москва32.50                                      2019-11-22  133\n",
       "                                                 2019-11-20  133\n",
       "Ханты-Мансийский Автономный округ - Югра АО68.10 2019-11-22  136\n",
       "                                                 2019-11-27  140\n",
       "                                                 2019-11-28  140\n",
       "Москва32.50                                      2019-09-30  146\n",
       "Ханты-Мансийский Автономный округ - Югра АО68.10 2019-11-25  193"
      ]
     },
     "execution_count": 99,
     "metadata": {},
     "output_type": "execute_result"
    }
   ],
   "source": [
    "tenders_by_day.iloc[np.argsort(tenders_by_day[\"key\"])[-20:]]"
   ]
  },
  {
   "cell_type": "markdown",
   "metadata": {},
   "source": [
    "### Обучение моделей"
   ]
  },
  {
   "cell_type": "code",
   "execution_count": 79,
   "metadata": {},
   "outputs": [
    {
     "data": {
      "text/html": [
       "\n",
       "            <div>\n",
       "                <p><b>SparkSession - hive</b></p>\n",
       "                \n",
       "        <div>\n",
       "            <p><b>SparkContext</b></p>\n",
       "\n",
       "            <p><a href=\"http://localhost:4041\">Spark UI</a></p>\n",
       "\n",
       "            <dl>\n",
       "              <dt>Version</dt>\n",
       "                <dd><code>v2.4.4</code></dd>\n",
       "              <dt>Master</dt>\n",
       "                <dd><code>local[*]</code></dd>\n",
       "              <dt>AppName</dt>\n",
       "                <dd><code>pyspark-shell</code></dd>\n",
       "            </dl>\n",
       "        </div>\n",
       "        \n",
       "            </div>\n",
       "        "
      ],
      "text/plain": [
       "<pyspark.sql.session.SparkSession at 0x7f844e1eefd0>"
      ]
     },
     "execution_count": 79,
     "metadata": {},
     "output_type": "execute_result"
    }
   ],
   "source": [
    "from replay.session_handler import State\n",
    "\n",
    "spark = State().session\n",
    "spark"
   ]
  },
  {
   "cell_type": "code",
   "execution_count": 103,
   "metadata": {},
   "outputs": [],
   "source": [
    "from replay.data_preparator import DataPreparator\n",
    "\n",
    "log = DataPreparator().transform(\n",
    "    data=full_table,\n",
    "    columns_names={\n",
    "        \"user_id\": \"inn_num\",\n",
    "        \"item_id\": \"items\",\n",
    "        \"relevance\": \"winner_flg\",\n",
    "        \"timestamp\": \"close_dt\"\n",
    "    }\n",
    ")"
   ]
  },
  {
   "cell_type": "code",
   "execution_count": 104,
   "metadata": {},
   "outputs": [],
   "source": [
    "from replay.filters import min_entries\n",
    "log_filtered = min_entries(log, 5)"
   ]
  },
  {
   "cell_type": "code",
   "execution_count": 105,
   "metadata": {},
   "outputs": [
    {
     "data": {
      "text/plain": [
       "(4318173, 197022)"
      ]
     },
     "execution_count": 105,
     "metadata": {},
     "output_type": "execute_result"
    }
   ],
   "source": [
    "from replay.splitters import UserSplitter, RandomSplitter\n",
    "\n",
    "splitter = UserSplitter(\n",
    "    drop_cold_items=True,\n",
    "    drop_cold_users=True,\n",
    "    item_test_size=1,\n",
    "    seed=1234,\n",
    "    shuffle=False,\n",
    ")\n",
    "train, test = splitter.split(log)\n",
    "(\n",
    "    train.count(), \n",
    "    test.count()\n",
    ")"
   ]
  },
  {
   "cell_type": "code",
   "execution_count": 106,
   "metadata": {},
   "outputs": [],
   "source": [
    "from pyspark.sql import functions as sf\n",
    "from replay.utils import get_top_k_recs, convert2spark"
   ]
  },
  {
   "cell_type": "code",
   "execution_count": 108,
   "metadata": {},
   "outputs": [],
   "source": [
    "from replay.metrics import HitRate, NDCG\n",
    "from replay.experiment import Experiment\n",
    "\n",
    "metrics = Experiment(test, {NDCG(): 4, \n",
    "                            HitRate(): 4},calc_median=True,calc_conf_interval=0.95 )"
   ]
  },
  {
   "cell_type": "markdown",
   "metadata": {},
   "source": [
    "### Популярный рекомендатель"
   ]
  },
  {
   "cell_type": "code",
   "execution_count": 107,
   "metadata": {},
   "outputs": [],
   "source": [
    "recs_all=train.groupBy([\"user_id\",\"item_id\"]).agg(sf.count(\"relevance\").alias(\"relevance\"))"
   ]
  },
  {
   "cell_type": "code",
   "execution_count": null,
   "metadata": {},
   "outputs": [],
   "source": [
    "#recs_pop_okved=convert2spark(full_table[[\"okved\", \"region_code\", \"open_dt\"]].drop_duplicates().groupby([\"items\",\"open_dt\"]).count())"
   ]
  },
  {
   "cell_type": "code",
   "execution_count": 131,
   "metadata": {},
   "outputs": [
    {
     "name": "stderr",
     "output_type": "stream",
     "text": [
      "06-Aug-20 09:32:56, replay, WARNING: Значение метрики может быть неожиданным: пользователи в recommendations и ground_truth различаются!\n",
      "06-Aug-20 09:33:37, replay, WARNING: Значение метрики может быть неожиданным: пользователи в recommendations и ground_truth различаются!\n",
      "06-Aug-20 09:34:21, replay, WARNING: Значение метрики может быть неожиданным: пользователи в recommendations и ground_truth различаются!\n",
      "06-Aug-20 09:35:02, replay, WARNING: Значение метрики может быть неожиданным: пользователи в recommendations и ground_truth различаются!\n",
      "06-Aug-20 09:35:52, replay, WARNING: Значение метрики может быть неожиданным: пользователи в recommendations и ground_truth различаются!\n",
      "06-Aug-20 09:36:46, replay, WARNING: Значение метрики может быть неожиданным: пользователи в recommendations и ground_truth различаются!\n"
     ]
    },
    {
     "data": {
      "text/plain": [
       "HitRate@4                       0.514235\n",
       "HitRate@4_median                1.000000\n",
       "HitRate@4_0.95_conf_interval    0.003333\n",
       "NDCG@4                          0.402731\n",
       "NDCG@4_median                   0.430677\n",
       "NDCG@4_0.95_conf_interval       0.002835\n",
       "Name: Popular, dtype: float64"
      ]
     },
     "execution_count": 131,
     "metadata": {},
     "output_type": "execute_result"
    }
   ],
   "source": [
    "metrics.add_result(\"Popular\", get_top_k_recs(recs_all, 4))\n",
    "metrics.results.loc[\"Popular\"]"
   ]
  },
  {
   "cell_type": "markdown",
   "metadata": {},
   "source": [
    "### ADMM-SLIM"
   ]
  },
  {
   "cell_type": "code",
   "execution_count": 109,
   "metadata": {},
   "outputs": [],
   "source": [
    "from replay.models import ADMMSLIM\n",
    "\n",
    "slim = ADMMSLIM(4,1000)"
   ]
  },
  {
   "cell_type": "code",
   "execution_count": 110,
   "metadata": {},
   "outputs": [
    {
     "name": "stderr",
     "output_type": "stream",
     "text": [
      "04-Aug-20 11:42:19, replay, DEBUG: Начало обучения ADMMSLIM\n",
      "04-Aug-20 11:42:19, replay, DEBUG: Предварительная стадия обучения (pre-fit)\n",
      "04-Aug-20 11:42:23, replay, DEBUG: Основная стадия обучения (fit)\n",
      "04-Aug-20 11:42:42, replay, DEBUG: Построение модели ADMM SLIM\n",
      "04-Aug-20 11:42:44, replay, DEBUG: Матриица Грама\n",
      "04-Aug-20 11:42:48, replay, DEBUG: Поиск обратной матрицы\n",
      "04-Aug-20 11:45:37, replay, DEBUG: Основной  расчет\n",
      "04-Aug-20 11:48:27, replay, INFO: Итерация: 1. primal gap: 83.04; dual gap:  1.3041e+07; rho: 500.0\n",
      "04-Aug-20 11:49:19, replay, INFO: Итерация: 2. primal gap: 14.4; dual gap:  3.1523e+06; rho: 250.0\n",
      "04-Aug-20 11:50:06, replay, INFO: Итерация: 3. primal gap: -12.833; dual gap:  4.3446e+05; rho: 125.0\n",
      "04-Aug-20 11:50:54, replay, INFO: Итерация: 4. primal gap: 19.514; dual gap:  2.3017e+04; rho: 62.5\n",
      "04-Aug-20 11:51:42, replay, INFO: Итерация: 5. primal gap: 24.164; dual gap:  -7.427; rho: 62.5\n",
      "04-Aug-20 11:52:28, replay, INFO: Итерация: 6. primal gap: 22.38; dual gap:  -54.833; rho: 62.5\n",
      "04-Aug-20 11:53:15, replay, INFO: Итерация: 7. primal gap: 20.655; dual gap:  -59.844; rho: 62.5\n",
      "04-Aug-20 11:54:02, replay, INFO: Итерация: 8. primal gap: 18.985; dual gap:  -64.201; rho: 62.5\n",
      "04-Aug-20 11:54:49, replay, INFO: Итерация: 9. primal gap: 17.369; dual gap:  -67.553; rho: 62.5\n",
      "04-Aug-20 11:55:35, replay, INFO: Итерация: 10. primal gap: 15.803; dual gap:  -69.821; rho: 62.5\n",
      "04-Aug-20 11:56:23, replay, INFO: Итерация: 11. primal gap: 14.287; dual gap:  -72.05; rho: 62.5\n",
      "04-Aug-20 11:57:10, replay, INFO: Итерация: 12. primal gap: 12.818; dual gap:  -73.679; rho: 62.5\n",
      "04-Aug-20 11:57:57, replay, INFO: Итерация: 13. primal gap: 11.395; dual gap:  -75.521; rho: 62.5\n",
      "04-Aug-20 11:58:45, replay, INFO: Итерация: 14. primal gap: 10.017; dual gap:  -76.35; rho: 62.5\n",
      "04-Aug-20 11:59:34, replay, INFO: Итерация: 15. primal gap: 8.6808; dual gap:  -77.208; rho: 62.5\n",
      "04-Aug-20 12:00:20, replay, INFO: Итерация: 16. primal gap: 7.3863; dual gap:  -77.535; rho: 62.5\n",
      "04-Aug-20 12:01:08, replay, INFO: Итерация: 17. primal gap: 6.1318; dual gap:  -77.956; rho: 62.5\n",
      "04-Aug-20 12:01:54, replay, INFO: Итерация: 18. primal gap: 4.9159; dual gap:  -78.24; rho: 62.5\n",
      "04-Aug-20 12:02:41, replay, INFO: Итерация: 19. primal gap: 3.7373; dual gap:  -77.822; rho: 62.5\n",
      "04-Aug-20 12:03:29, replay, INFO: Итерация: 20. primal gap: 2.595; dual gap:  -77.887; rho: 62.5\n",
      "04-Aug-20 12:04:17, replay, INFO: Итерация: 21. primal gap: 1.4877; dual gap:  -77.666; rho: 62.5\n",
      "04-Aug-20 12:05:03, replay, INFO: Итерация: 22. primal gap: 0.41434; dual gap:  -77.391; rho: 62.5\n",
      "04-Aug-20 12:05:49, replay, INFO: Итерация: 23. primal gap: -0.62607; dual gap:  -77.276; rho: 62.5\n"
     ]
    },
    {
     "name": "stdout",
     "output_type": "stream",
     "text": [
      "CPU times: user 10h 37min 22s, sys: 1h 45min 55s, total: 12h 23min 17s\n",
      "Wall time: 23min 41s\n"
     ]
    }
   ],
   "source": [
    "%%time\n",
    "\n",
    "slim.fit(log=train)"
   ]
  },
  {
   "cell_type": "code",
   "execution_count": 111,
   "metadata": {},
   "outputs": [
    {
     "name": "stderr",
     "output_type": "stream",
     "text": [
      "04-Aug-20 12:06:00, replay, DEBUG: Начало предикта ADMMSLIM\n"
     ]
    },
    {
     "name": "stdout",
     "output_type": "stream",
     "text": [
      "CPU times: user 15.3 s, sys: 3.57 s, total: 18.8 s\n",
      "Wall time: 40 s\n"
     ]
    }
   ],
   "source": [
    "%%time\n",
    "recs = slim.predict(\n",
    "    k=4,\n",
    "    users=test.select('user_id').distinct(),\n",
    "    items=train.select('item_id').distinct(),\n",
    "    log=train,\n",
    "    filter_seen_items=False\n",
    ")"
   ]
  },
  {
   "cell_type": "code",
   "execution_count": 112,
   "metadata": {},
   "outputs": [
    {
     "name": "stderr",
     "output_type": "stream",
     "text": [
      "04-Aug-20 12:13:13, replay, WARNING: Значение метрики может быть неожиданным: пользователи в recommendations и ground_truth различаются!\n",
      "04-Aug-20 12:13:58, replay, WARNING: Значение метрики может быть неожиданным: пользователи в recommendations и ground_truth различаются!\n",
      "04-Aug-20 12:14:42, replay, WARNING: Значение метрики может быть неожиданным: пользователи в recommendations и ground_truth различаются!\n",
      "04-Aug-20 12:15:26, replay, WARNING: Значение метрики может быть неожиданным: пользователи в recommendations и ground_truth различаются!\n",
      "04-Aug-20 12:16:22, replay, WARNING: Значение метрики может быть неожиданным: пользователи в recommendations и ground_truth различаются!\n",
      "04-Aug-20 12:17:18, replay, WARNING: Значение метрики может быть неожиданным: пользователи в recommendations и ground_truth различаются!\n"
     ]
    },
    {
     "name": "stdout",
     "output_type": "stream",
     "text": [
      "CPU times: user 300 ms, sys: 46.2 ms, total: 346 ms\n",
      "Wall time: 11min 30s\n"
     ]
    },
    {
     "data": {
      "text/plain": [
       "HitRate@4                       0.231903\n",
       "HitRate@4_median                0.000000\n",
       "HitRate@4_0.95_conf_interval    0.001874\n",
       "NDCG@4                          0.166233\n",
       "NDCG@4_median                   0.000000\n",
       "NDCG@4_0.95_conf_interval       0.001434\n",
       "Name: SLIM, dtype: float64"
      ]
     },
     "execution_count": 112,
     "metadata": {},
     "output_type": "execute_result"
    }
   ],
   "source": [
    "%%time\n",
    "metrics.add_result(\"SLIM\", recs)\n",
    "metrics.results.loc[\"SLIM\"]"
   ]
  },
  {
   "cell_type": "markdown",
   "metadata": {},
   "source": [
    "### MultVAE"
   ]
  },
  {
   "cell_type": "code",
   "execution_count": 123,
   "metadata": {},
   "outputs": [],
   "source": [
    "from replay.models import MultVAE\n",
    "vae=MultVAE(epochs=100,learning_rate=0.01,latent_dim=200,encoder_dims=[600])"
   ]
  },
  {
   "cell_type": "code",
   "execution_count": 124,
   "metadata": {},
   "outputs": [
    {
     "name": "stderr",
     "output_type": "stream",
     "text": [
      "05-Aug-20 11:02:45, replay, DEBUG: Начало обучения MultVAE\n",
      "05-Aug-20 11:02:45, replay, DEBUG: Предварительная стадия обучения (pre-fit)\n",
      "05-Aug-20 11:02:48, replay, DEBUG: Основная стадия обучения (fit)\n",
      "05-Aug-20 11:03:10, replay, DEBUG: Составление батча:\n",
      "/home/avavasilyev/sponge-bob-magic/venv/lib/python3.7/site-packages/pyarrow/util.py:39: FutureWarning: pyarrow.open_stream is deprecated as of 0.17.0, please use pyarrow.ipc.open_stream instead\n",
      "  warnings.warn(msg, FutureWarning)\n",
      "05-Aug-20 11:03:12, replay, DEBUG: Обучение модели\n",
      "05-Aug-20 11:04:09, replay, DEBUG: Epoch[1] current loss: 214.40842\n",
      "05-Aug-20 11:04:12, replay, DEBUG: Epoch[1] validation average loss: 154.74897\n",
      "05-Aug-20 11:05:08, replay, DEBUG: Epoch[2] current loss: 143.60321\n",
      "05-Aug-20 11:05:11, replay, DEBUG: Epoch[2] validation average loss: 109.81307\n",
      "05-Aug-20 11:06:06, replay, DEBUG: Epoch[3] current loss: 114.37274\n",
      "05-Aug-20 11:06:09, replay, DEBUG: Epoch[3] validation average loss: 98.34301\n",
      "05-Aug-20 11:07:05, replay, DEBUG: Epoch[4] current loss: 103.07375\n",
      "05-Aug-20 11:07:09, replay, DEBUG: Epoch[4] validation average loss: 94.43580\n",
      "05-Aug-20 11:08:04, replay, DEBUG: Epoch[5] current loss: 99.81150\n",
      "05-Aug-20 11:08:08, replay, DEBUG: Epoch[5] validation average loss: 92.37682\n",
      "05-Aug-20 11:09:03, replay, DEBUG: Epoch[6] current loss: 97.07425\n",
      "05-Aug-20 11:09:06, replay, DEBUG: Epoch[6] validation average loss: 91.38226\n",
      "05-Aug-20 11:10:02, replay, DEBUG: Epoch[7] current loss: 92.01057\n",
      "05-Aug-20 11:10:05, replay, DEBUG: Epoch[7] validation average loss: 90.54931\n",
      "05-Aug-20 11:11:01, replay, DEBUG: Epoch[8] current loss: 96.86173\n",
      "05-Aug-20 11:11:05, replay, DEBUG: Epoch[8] validation average loss: 90.27707\n",
      "05-Aug-20 11:12:00, replay, DEBUG: Epoch[9] current loss: 98.10202\n",
      "05-Aug-20 11:12:04, replay, DEBUG: Epoch[9] validation average loss: 90.49122\n",
      "05-Aug-20 11:13:00, replay, DEBUG: Epoch[10] current loss: 99.41187\n",
      "05-Aug-20 11:13:03, replay, DEBUG: Epoch[10] validation average loss: 90.51899\n",
      "05-Aug-20 11:13:58, replay, DEBUG: Epoch[11] current loss: 89.76084\n",
      "05-Aug-20 11:14:01, replay, DEBUG: Epoch[11] validation average loss: 90.43738\n",
      "05-Aug-20 11:14:56, replay, DEBUG: Epoch[12] current loss: 88.23407\n",
      "05-Aug-20 11:15:00, replay, DEBUG: Epoch[12] validation average loss: 90.39012\n",
      "05-Aug-20 11:15:57, replay, DEBUG: Epoch[13] current loss: 87.30435\n",
      "05-Aug-20 11:16:00, replay, DEBUG: Epoch[13] validation average loss: 87.30714\n",
      "05-Aug-20 11:16:56, replay, DEBUG: Epoch[14] current loss: 83.18036\n",
      "05-Aug-20 11:17:00, replay, DEBUG: Epoch[14] validation average loss: 86.76825\n",
      "05-Aug-20 11:17:57, replay, DEBUG: Epoch[15] current loss: 84.12788\n",
      "05-Aug-20 11:18:01, replay, DEBUG: Epoch[15] validation average loss: 86.08940\n",
      "05-Aug-20 11:18:57, replay, DEBUG: Epoch[16] current loss: 81.21448\n",
      "05-Aug-20 11:19:00, replay, DEBUG: Epoch[16] validation average loss: 86.32290\n",
      "05-Aug-20 11:19:57, replay, DEBUG: Epoch[17] current loss: 81.39124\n",
      "05-Aug-20 11:20:01, replay, DEBUG: Epoch[17] validation average loss: 86.28135\n",
      "05-Aug-20 11:20:58, replay, DEBUG: Epoch[18] current loss: 83.67271\n",
      "05-Aug-20 11:21:01, replay, DEBUG: Epoch[18] validation average loss: 86.42906\n",
      "05-Aug-20 11:21:57, replay, DEBUG: Epoch[19] current loss: 91.73859\n",
      "05-Aug-20 11:22:00, replay, DEBUG: Epoch[19] validation average loss: 86.78018\n",
      "05-Aug-20 11:22:57, replay, DEBUG: Epoch[20] current loss: 82.13716\n",
      "05-Aug-20 11:23:00, replay, DEBUG: Epoch[20] validation average loss: 85.64308\n",
      "05-Aug-20 11:23:58, replay, DEBUG: Epoch[21] current loss: 82.62889\n",
      "05-Aug-20 11:24:01, replay, DEBUG: Epoch[21] validation average loss: 85.32200\n",
      "05-Aug-20 11:24:58, replay, DEBUG: Epoch[22] current loss: 86.92167\n",
      "05-Aug-20 11:25:02, replay, DEBUG: Epoch[22] validation average loss: 85.13623\n",
      "05-Aug-20 11:25:59, replay, DEBUG: Epoch[23] current loss: 83.92815\n",
      "05-Aug-20 11:26:02, replay, DEBUG: Epoch[23] validation average loss: 85.44582\n",
      "05-Aug-20 11:26:59, replay, DEBUG: Epoch[24] current loss: 82.40269\n",
      "05-Aug-20 11:27:02, replay, DEBUG: Epoch[24] validation average loss: 85.56625\n",
      "05-Aug-20 11:27:57, replay, DEBUG: Epoch[25] current loss: 78.66958\n",
      "05-Aug-20 11:28:01, replay, DEBUG: Epoch[25] validation average loss: 85.35377\n",
      "05-Aug-20 11:28:56, replay, DEBUG: Epoch[26] current loss: 84.67090\n",
      "05-Aug-20 11:29:00, replay, DEBUG: Epoch[26] validation average loss: 85.61081\n",
      "05-Aug-20 11:29:56, replay, DEBUG: Epoch[27] current loss: 80.57658\n",
      "05-Aug-20 11:29:59, replay, DEBUG: Epoch[27] validation average loss: 85.15206\n",
      "05-Aug-20 11:30:54, replay, DEBUG: Epoch[28] current loss: 80.80995\n",
      "05-Aug-20 11:30:58, replay, DEBUG: Epoch[28] validation average loss: 85.05625\n",
      "05-Aug-20 11:31:53, replay, DEBUG: Epoch[29] current loss: 76.94562\n",
      "05-Aug-20 11:31:57, replay, DEBUG: Epoch[29] validation average loss: 85.04837\n",
      "05-Aug-20 11:32:52, replay, DEBUG: Epoch[30] current loss: 87.31715\n",
      "05-Aug-20 11:32:55, replay, DEBUG: Epoch[30] validation average loss: 85.03925\n",
      "05-Aug-20 11:33:51, replay, DEBUG: Epoch[31] current loss: 81.47036\n",
      "05-Aug-20 11:33:54, replay, DEBUG: Epoch[31] validation average loss: 85.04897\n",
      "05-Aug-20 11:34:50, replay, DEBUG: Epoch[32] current loss: 78.72906\n",
      "05-Aug-20 11:34:53, replay, DEBUG: Epoch[32] validation average loss: 85.12309\n",
      "05-Aug-20 11:35:49, replay, DEBUG: Epoch[33] current loss: 81.72472\n",
      "05-Aug-20 11:35:52, replay, DEBUG: Epoch[33] validation average loss: 85.09718\n",
      "05-Aug-20 11:36:49, replay, DEBUG: Epoch[34] current loss: 79.71332\n",
      "05-Aug-20 11:36:52, replay, DEBUG: Epoch[34] validation average loss: 85.34290\n",
      "05-Aug-20 11:37:48, replay, DEBUG: Epoch[35] current loss: 80.94364\n",
      "05-Aug-20 11:37:51, replay, DEBUG: Epoch[35] validation average loss: 85.14234\n",
      "05-Aug-20 11:38:47, replay, DEBUG: Epoch[36] current loss: 83.46911\n",
      "05-Aug-20 11:38:50, replay, DEBUG: Epoch[36] validation average loss: 85.04928\n",
      "05-Aug-20 11:39:46, replay, DEBUG: Epoch[37] current loss: 80.12683\n",
      "05-Aug-20 11:39:50, replay, DEBUG: Epoch[37] validation average loss: 85.02026\n",
      "05-Aug-20 11:40:45, replay, DEBUG: Epoch[38] current loss: 78.40965\n",
      "05-Aug-20 11:40:49, replay, DEBUG: Epoch[38] validation average loss: 85.11622\n",
      "05-Aug-20 11:41:45, replay, DEBUG: Epoch[39] current loss: 76.64586\n",
      "05-Aug-20 11:41:48, replay, DEBUG: Epoch[39] validation average loss: 85.04887\n",
      "05-Aug-20 11:42:45, replay, DEBUG: Epoch[40] current loss: 82.95809\n",
      "05-Aug-20 11:42:48, replay, DEBUG: Epoch[40] validation average loss: 85.06975\n",
      "05-Aug-20 11:43:45, replay, DEBUG: Epoch[41] current loss: 80.94725\n",
      "05-Aug-20 11:43:49, replay, DEBUG: Epoch[41] validation average loss: 85.10379\n",
      "05-Aug-20 11:44:47, replay, DEBUG: Epoch[42] current loss: 81.41995\n",
      "05-Aug-20 11:44:50, replay, DEBUG: Epoch[42] validation average loss: 84.99129\n",
      "05-Aug-20 11:45:48, replay, DEBUG: Epoch[43] current loss: 79.30598\n",
      "05-Aug-20 11:45:51, replay, DEBUG: Epoch[43] validation average loss: 85.04469\n",
      "05-Aug-20 11:46:47, replay, DEBUG: Epoch[44] current loss: 83.56311\n",
      "05-Aug-20 11:46:51, replay, DEBUG: Epoch[44] validation average loss: 85.07542\n",
      "05-Aug-20 11:47:47, replay, DEBUG: Epoch[45] current loss: 80.78884\n",
      "05-Aug-20 11:47:50, replay, DEBUG: Epoch[45] validation average loss: 85.04844\n",
      "05-Aug-20 11:48:46, replay, DEBUG: Epoch[46] current loss: 80.15660\n",
      "05-Aug-20 11:48:50, replay, DEBUG: Epoch[46] validation average loss: 85.08119\n",
      "05-Aug-20 11:49:46, replay, DEBUG: Epoch[47] current loss: 83.74185\n",
      "05-Aug-20 11:49:49, replay, DEBUG: Epoch[47] validation average loss: 85.08788\n",
      "05-Aug-20 11:50:45, replay, DEBUG: Epoch[48] current loss: 76.48459\n",
      "05-Aug-20 11:50:48, replay, DEBUG: Epoch[48] validation average loss: 85.07283\n",
      "05-Aug-20 11:51:45, replay, DEBUG: Epoch[49] current loss: 75.73435\n",
      "05-Aug-20 11:51:48, replay, DEBUG: Epoch[49] validation average loss: 85.05843\n",
      "05-Aug-20 11:52:43, replay, DEBUG: Epoch[50] current loss: 86.41985\n",
      "05-Aug-20 11:52:47, replay, DEBUG: Epoch[50] validation average loss: 85.04323\n",
      "05-Aug-20 11:53:42, replay, DEBUG: Epoch[51] current loss: 78.74136\n",
      "05-Aug-20 11:53:46, replay, DEBUG: Epoch[51] validation average loss: 85.05479\n",
      "05-Aug-20 11:54:41, replay, DEBUG: Epoch[52] current loss: 78.55792\n",
      "05-Aug-20 11:54:45, replay, DEBUG: Epoch[52] validation average loss: 85.06179\n",
      "05-Aug-20 11:54:45, replay, DEBUG: -- Загрузка модели из файла\n"
     ]
    },
    {
     "name": "stdout",
     "output_type": "stream",
     "text": [
      "CPU times: user 6h 23min 59s, sys: 13h 1min 27s, total: 19h 25min 27s\n",
      "Wall time: 52min\n"
     ]
    }
   ],
   "source": [
    "%%time\n",
    "\n",
    "vae.fit(log=train)"
   ]
  },
  {
   "cell_type": "code",
   "execution_count": 127,
   "metadata": {},
   "outputs": [
    {
     "name": "stderr",
     "output_type": "stream",
     "text": [
      "06-Aug-20 07:35:26, replay, DEBUG: Начало предикта MultVAE\n",
      "06-Aug-20 07:35:55, replay, DEBUG: Предсказание модели\n"
     ]
    },
    {
     "name": "stdout",
     "output_type": "stream",
     "text": [
      "CPU times: user 16.6 s, sys: 4.87 s, total: 21.5 s\n",
      "Wall time: 46min 30s\n"
     ]
    }
   ],
   "source": [
    "%%time\n",
    "recs = vae.predict(\n",
    "    k=4,\n",
    "    users=test.select('user_id').distinct(),\n",
    "    items=train.select('item_id').distinct(),\n",
    "    log=train,\n",
    "    filter_seen_items=False\n",
    ")"
   ]
  },
  {
   "cell_type": "code",
   "execution_count": 128,
   "metadata": {},
   "outputs": [
    {
     "name": "stdout",
     "output_type": "stream",
     "text": [
      "CPU times: user 411 ms, sys: 150 ms, total: 561 ms\n",
      "Wall time: 50min 41s\n"
     ]
    },
    {
     "data": {
      "text/plain": [
       "HitRate@4                       0.271756\n",
       "HitRate@4_median                0.000000\n",
       "HitRate@4_0.95_conf_interval    0.001964\n",
       "NDCG@4                          0.173075\n",
       "NDCG@4_median                   0.000000\n",
       "NDCG@4_0.95_conf_interval       0.001348\n",
       "Name: VAE, dtype: float64"
      ]
     },
     "execution_count": 128,
     "metadata": {},
     "output_type": "execute_result"
    }
   ],
   "source": [
    "%%time\n",
    "metrics.add_result(\"VAE\", recs)\n",
    "metrics.results.loc[\"VAE\"]"
   ]
  },
  {
   "cell_type": "code",
   "execution_count": 132,
   "metadata": {},
   "outputs": [
    {
     "data": {
      "text/html": [
       "<div>\n",
       "<style scoped>\n",
       "    .dataframe tbody tr th:only-of-type {\n",
       "        vertical-align: middle;\n",
       "    }\n",
       "\n",
       "    .dataframe tbody tr th {\n",
       "        vertical-align: top;\n",
       "    }\n",
       "\n",
       "    .dataframe thead th {\n",
       "        text-align: right;\n",
       "    }\n",
       "</style>\n",
       "<table border=\"1\" class=\"dataframe\">\n",
       "  <thead>\n",
       "    <tr style=\"text-align: right;\">\n",
       "      <th></th>\n",
       "      <th>HitRate@4</th>\n",
       "      <th>HitRate@4_median</th>\n",
       "      <th>HitRate@4_0.95_conf_interval</th>\n",
       "      <th>NDCG@4</th>\n",
       "      <th>NDCG@4_median</th>\n",
       "      <th>NDCG@4_0.95_conf_interval</th>\n",
       "    </tr>\n",
       "  </thead>\n",
       "  <tbody>\n",
       "    <tr>\n",
       "      <th>SLIM</th>\n",
       "      <td>0.231903</td>\n",
       "      <td>0.0</td>\n",
       "      <td>0.001874</td>\n",
       "      <td>0.166233</td>\n",
       "      <td>0.000000</td>\n",
       "      <td>0.001434</td>\n",
       "    </tr>\n",
       "    <tr>\n",
       "      <th>VAE</th>\n",
       "      <td>0.271756</td>\n",
       "      <td>0.0</td>\n",
       "      <td>0.001964</td>\n",
       "      <td>0.173075</td>\n",
       "      <td>0.000000</td>\n",
       "      <td>0.001348</td>\n",
       "    </tr>\n",
       "    <tr>\n",
       "      <th>Popular</th>\n",
       "      <td>0.514235</td>\n",
       "      <td>1.0</td>\n",
       "      <td>0.003333</td>\n",
       "      <td>0.402731</td>\n",
       "      <td>0.430677</td>\n",
       "      <td>0.002835</td>\n",
       "    </tr>\n",
       "  </tbody>\n",
       "</table>\n",
       "</div>"
      ],
      "text/plain": [
       "         HitRate@4  HitRate@4_median  HitRate@4_0.95_conf_interval    NDCG@4  \\\n",
       "SLIM      0.231903               0.0                      0.001874  0.166233   \n",
       "VAE       0.271756               0.0                      0.001964  0.173075   \n",
       "Popular   0.514235               1.0                      0.003333  0.402731   \n",
       "\n",
       "         NDCG@4_median  NDCG@4_0.95_conf_interval  \n",
       "SLIM          0.000000                   0.001434  \n",
       "VAE           0.000000                   0.001348  \n",
       "Popular       0.430677                   0.002835  "
      ]
     },
     "execution_count": 132,
     "metadata": {},
     "output_type": "execute_result"
    }
   ],
   "source": [
    "metrics.results"
   ]
  },
  {
   "cell_type": "markdown",
   "metadata": {},
   "source": [
    "### Вывод"
   ]
  },
  {
   "cell_type": "markdown",
   "metadata": {},
   "source": [
    "Обычный поплуярный алгоритм достаточно хорош, хотя и дает рекомендации не всем пользователям в нужном количестве (можно виидеть что довериительный интервал для него шире, а это значиит что в оценке участвует меньше пользователей). На первых этапах вполне нормально использовать именно его. Это в том числе связано с тем, что нам необходимо рекомендовать и те пары регион+ОКПД, в которых клииент уже участвовал."
   ]
  },
  {
   "cell_type": "code",
   "execution_count": null,
   "metadata": {},
   "outputs": [],
   "source": []
  }
 ],
 "metadata": {
  "kernelspec": {
   "display_name": "Python 3",
   "language": "python",
   "name": "python3"
  },
  "language_info": {
   "codemirror_mode": {
    "name": "ipython",
    "version": 3
   },
   "file_extension": ".py",
   "mimetype": "text/x-python",
   "name": "python",
   "nbconvert_exporter": "python",
   "pygments_lexer": "ipython3",
   "version": "3.7.6"
  }
 },
 "nbformat": 4,
 "nbformat_minor": 4
}
