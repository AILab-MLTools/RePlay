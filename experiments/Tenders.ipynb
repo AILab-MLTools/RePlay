{
 "cells": [
  {
   "cell_type": "markdown",
   "metadata": {},
   "source": [
    "## Закупки"
   ]
  },
  {
   "cell_type": "code",
   "execution_count": 1,
   "metadata": {},
   "outputs": [],
   "source": [
    "import pandas as pd\n",
    "import numpy as np"
   ]
  },
  {
   "cell_type": "markdown",
   "metadata": {},
   "source": [
    "### Загрузка данных"
   ]
  },
  {
   "cell_type": "code",
   "execution_count": 2,
   "metadata": {},
   "outputs": [],
   "source": [
    "tenders = pd.read_csv(\"tenders/tenders.csv\", dtype= {\"lot_name\":np.str,\n",
    "                                                     \"key\": np.str,\n",
    "                                                     \"inn_num\": np.str,\n",
    "                                                     \"okpd2\": np.str,\n",
    "                                                     \"purchase_method\": np.str,\n",
    "                                                     \"open_dt\": np.str,\n",
    "                                                     \"close_dt\": np.str,\n",
    "                                                     \"organizer_region\": np.str,\n",
    "                                                     \"initial_price\": np.float64})"
   ]
  },
  {
   "cell_type": "code",
   "execution_count": 3,
   "metadata": {},
   "outputs": [
    {
     "data": {
      "text/html": [
       "<div>\n",
       "<style scoped>\n",
       "    .dataframe tbody tr th:only-of-type {\n",
       "        vertical-align: middle;\n",
       "    }\n",
       "\n",
       "    .dataframe tbody tr th {\n",
       "        vertical-align: top;\n",
       "    }\n",
       "\n",
       "    .dataframe thead th {\n",
       "        text-align: right;\n",
       "    }\n",
       "</style>\n",
       "<table border=\"1\" class=\"dataframe\">\n",
       "  <thead>\n",
       "    <tr style=\"text-align: right;\">\n",
       "      <th></th>\n",
       "      <th>lot_name</th>\n",
       "      <th>key</th>\n",
       "      <th>inn_num</th>\n",
       "      <th>okpd2</th>\n",
       "      <th>purchase_method</th>\n",
       "      <th>open_dt</th>\n",
       "      <th>close_dt</th>\n",
       "      <th>organizer_region</th>\n",
       "      <th>initial_price</th>\n",
       "    </tr>\n",
       "  </thead>\n",
       "  <tbody>\n",
       "    <tr>\n",
       "      <th>0</th>\n",
       "      <td>Аренда транспортного средства с экипажем. Терр...</td>\n",
       "      <td>32008811985_1</td>\n",
       "      <td>6952315887</td>\n",
       "      <td>77.12.1</td>\n",
       "      <td>Закупка у единственного поставщика</td>\n",
       "      <td>2019-12-30</td>\n",
       "      <td>2019-12-30</td>\n",
       "      <td>Тверская область</td>\n",
       "      <td>4499979.000</td>\n",
       "    </tr>\n",
       "    <tr>\n",
       "      <th>1</th>\n",
       "      <td>Аренда транспортных средств с экипажем (КАМАЗ ...</td>\n",
       "      <td>32008810970_1</td>\n",
       "      <td>6952315887</td>\n",
       "      <td>77.12</td>\n",
       "      <td>Закупка у единственного поставщика</td>\n",
       "      <td>2019-12-31</td>\n",
       "      <td>2019-12-31</td>\n",
       "      <td>Тверская область</td>\n",
       "      <td>2171892.000</td>\n",
       "    </tr>\n",
       "    <tr>\n",
       "      <th>2</th>\n",
       "      <td>Разработка раздела проектной документации «Про...</td>\n",
       "      <td>32008809236_1</td>\n",
       "      <td>1435142972</td>\n",
       "      <td>71.12.11</td>\n",
       "      <td>Закупка у единственного поставщика</td>\n",
       "      <td>2019-12-30</td>\n",
       "      <td>2019-12-30</td>\n",
       "      <td>Республика Саха (Якутия)</td>\n",
       "      <td>197297.000</td>\n",
       "    </tr>\n",
       "    <tr>\n",
       "      <th>3</th>\n",
       "      <td>Аренда специальной техники с экипажем, террито...</td>\n",
       "      <td>32008807943_1</td>\n",
       "      <td>6952315887</td>\n",
       "      <td>77.12.1</td>\n",
       "      <td>Закупка у единственного поставщика</td>\n",
       "      <td>2019-12-30</td>\n",
       "      <td>2019-12-30</td>\n",
       "      <td>Тверская область</td>\n",
       "      <td>600000.000</td>\n",
       "    </tr>\n",
       "    <tr>\n",
       "      <th>4</th>\n",
       "      <td>Аренда специальной техники с экипажем, террито...</td>\n",
       "      <td>32008812309_1</td>\n",
       "      <td>6952315887</td>\n",
       "      <td>77.12.1</td>\n",
       "      <td>Закупка у единственного поставщика</td>\n",
       "      <td>2019-12-30</td>\n",
       "      <td>2019-12-30</td>\n",
       "      <td>Тверская область</td>\n",
       "      <td>1377714.375</td>\n",
       "    </tr>\n",
       "  </tbody>\n",
       "</table>\n",
       "</div>"
      ],
      "text/plain": [
       "                                            lot_name            key  \\\n",
       "0  Аренда транспортного средства с экипажем. Терр...  32008811985_1   \n",
       "1  Аренда транспортных средств с экипажем (КАМАЗ ...  32008810970_1   \n",
       "2  Разработка раздела проектной документации «Про...  32008809236_1   \n",
       "3  Аренда специальной техники с экипажем, террито...  32008807943_1   \n",
       "4  Аренда специальной техники с экипажем, террито...  32008812309_1   \n",
       "\n",
       "      inn_num     okpd2                     purchase_method     open_dt  \\\n",
       "0  6952315887   77.12.1  Закупка у единственного поставщика  2019-12-30   \n",
       "1  6952315887     77.12  Закупка у единственного поставщика  2019-12-31   \n",
       "2  1435142972  71.12.11  Закупка у единственного поставщика  2019-12-30   \n",
       "3  6952315887   77.12.1  Закупка у единственного поставщика  2019-12-30   \n",
       "4  6952315887   77.12.1  Закупка у единственного поставщика  2019-12-30   \n",
       "\n",
       "     close_dt          organizer_region  initial_price  \n",
       "0  2019-12-30          Тверская область    4499979.000  \n",
       "1  2019-12-31          Тверская область    2171892.000  \n",
       "2  2019-12-30  Республика Саха (Якутия)     197297.000  \n",
       "3  2019-12-30          Тверская область     600000.000  \n",
       "4  2019-12-30          Тверская область    1377714.375  "
      ]
     },
     "execution_count": 3,
     "metadata": {},
     "output_type": "execute_result"
    }
   ],
   "source": [
    "tenders.head()"
   ]
  },
  {
   "cell_type": "code",
   "execution_count": 4,
   "metadata": {},
   "outputs": [],
   "source": [
    "participants = pd.read_csv(\"tenders/participants.csv\" , dtype= {\"inn_num\": np.str, \"key\": np.str, \"winner_flg\": np.int} )"
   ]
  },
  {
   "cell_type": "code",
   "execution_count": 5,
   "metadata": {},
   "outputs": [
    {
     "data": {
      "text/html": [
       "<div>\n",
       "<style scoped>\n",
       "    .dataframe tbody tr th:only-of-type {\n",
       "        vertical-align: middle;\n",
       "    }\n",
       "\n",
       "    .dataframe tbody tr th {\n",
       "        vertical-align: top;\n",
       "    }\n",
       "\n",
       "    .dataframe thead th {\n",
       "        text-align: right;\n",
       "    }\n",
       "</style>\n",
       "<table border=\"1\" class=\"dataframe\">\n",
       "  <thead>\n",
       "    <tr style=\"text-align: right;\">\n",
       "      <th></th>\n",
       "      <th>inn_num</th>\n",
       "      <th>key</th>\n",
       "      <th>winner_flg</th>\n",
       "    </tr>\n",
       "  </thead>\n",
       "  <tbody>\n",
       "    <tr>\n",
       "      <th>0</th>\n",
       "      <td>0000000000</td>\n",
       "      <td>31908636260_1</td>\n",
       "      <td>1</td>\n",
       "    </tr>\n",
       "    <tr>\n",
       "      <th>1</th>\n",
       "      <td>0000000000</td>\n",
       "      <td>31908564969_1</td>\n",
       "      <td>1</td>\n",
       "    </tr>\n",
       "    <tr>\n",
       "      <th>2</th>\n",
       "      <td>7805287581</td>\n",
       "      <td>0368400000219000451_1</td>\n",
       "      <td>0</td>\n",
       "    </tr>\n",
       "    <tr>\n",
       "      <th>3</th>\n",
       "      <td>5043051626</td>\n",
       "      <td>0368400000219000451_1</td>\n",
       "      <td>0</td>\n",
       "    </tr>\n",
       "    <tr>\n",
       "      <th>4</th>\n",
       "      <td>7717784658</td>\n",
       "      <td>0368400000219000451_1</td>\n",
       "      <td>1</td>\n",
       "    </tr>\n",
       "  </tbody>\n",
       "</table>\n",
       "</div>"
      ],
      "text/plain": [
       "      inn_num                    key  winner_flg\n",
       "0  0000000000          31908636260_1           1\n",
       "1  0000000000          31908564969_1           1\n",
       "2  7805287581  0368400000219000451_1           0\n",
       "3  5043051626  0368400000219000451_1           0\n",
       "4  7717784658  0368400000219000451_1           1"
      ]
     },
     "execution_count": 5,
     "metadata": {},
     "output_type": "execute_result"
    }
   ],
   "source": [
    "participants.head()"
   ]
  },
  {
   "cell_type": "code",
   "execution_count": 6,
   "metadata": {},
   "outputs": [],
   "source": [
    "participants_okved = pd.read_csv(\"tenders/participants_okved.csv\", dtype= {\"inn_num\": np.str, \"okved_main1\": np.str, \"okved_main0\": np.str} )"
   ]
  },
  {
   "cell_type": "code",
   "execution_count": 7,
   "metadata": {},
   "outputs": [
    {
     "data": {
      "text/html": [
       "<div>\n",
       "<style scoped>\n",
       "    .dataframe tbody tr th:only-of-type {\n",
       "        vertical-align: middle;\n",
       "    }\n",
       "\n",
       "    .dataframe tbody tr th {\n",
       "        vertical-align: top;\n",
       "    }\n",
       "\n",
       "    .dataframe thead th {\n",
       "        text-align: right;\n",
       "    }\n",
       "</style>\n",
       "<table border=\"1\" class=\"dataframe\">\n",
       "  <thead>\n",
       "    <tr style=\"text-align: right;\">\n",
       "      <th></th>\n",
       "      <th>inn_num</th>\n",
       "      <th>okved_main1</th>\n",
       "      <th>okved_main0</th>\n",
       "    </tr>\n",
       "  </thead>\n",
       "  <tbody>\n",
       "    <tr>\n",
       "      <th>0</th>\n",
       "      <td>0000000000</td>\n",
       "      <td>NaN</td>\n",
       "      <td>NaN</td>\n",
       "    </tr>\n",
       "    <tr>\n",
       "      <th>1</th>\n",
       "      <td>7805287581</td>\n",
       "      <td>['46.69.5']</td>\n",
       "      <td>['18.1', '33.14', '33.20', '41.2', '43.2', '43...</td>\n",
       "    </tr>\n",
       "    <tr>\n",
       "      <th>2</th>\n",
       "      <td>5043051626</td>\n",
       "      <td>['46.90']</td>\n",
       "      <td>['25.62', '25.99.29', '27.12', '27.90', '28.13...</td>\n",
       "    </tr>\n",
       "    <tr>\n",
       "      <th>3</th>\n",
       "      <td>7717784658</td>\n",
       "      <td>['73.11']</td>\n",
       "      <td>['33.12', '33.14', '33.20', '46.18', '46.19', ...</td>\n",
       "    </tr>\n",
       "    <tr>\n",
       "      <th>4</th>\n",
       "      <td>7806239260</td>\n",
       "      <td>['46.51']</td>\n",
       "      <td>['46.41.1', '46.66', '46.90', '62.01', '62.02'...</td>\n",
       "    </tr>\n",
       "    <tr>\n",
       "      <th>...</th>\n",
       "      <td>...</td>\n",
       "      <td>...</td>\n",
       "      <td>...</td>\n",
       "    </tr>\n",
       "    <tr>\n",
       "      <th>293495</th>\n",
       "      <td>7810625250</td>\n",
       "      <td>['71.12.12']</td>\n",
       "      <td>['26.51.5', '26.51.8', '30.11', '33.12', '33.1...</td>\n",
       "    </tr>\n",
       "    <tr>\n",
       "      <th>293496</th>\n",
       "      <td>6444009038</td>\n",
       "      <td>['26.51.7', '26.51.8']</td>\n",
       "      <td>['01.19.2', '01.30', '10.71', '25.72', '26.20'...</td>\n",
       "    </tr>\n",
       "    <tr>\n",
       "      <th>293497</th>\n",
       "      <td>2635001120</td>\n",
       "      <td>['26.51.7']</td>\n",
       "      <td>['20.60.1', '20.60.2', '22.19.7', '22.21', '22...</td>\n",
       "    </tr>\n",
       "    <tr>\n",
       "      <th>293498</th>\n",
       "      <td>615509605586</td>\n",
       "      <td>['49.41.1']</td>\n",
       "      <td>['49.41.2', '49.41.3', '77.39.11']</td>\n",
       "    </tr>\n",
       "    <tr>\n",
       "      <th>293499</th>\n",
       "      <td>615501049104</td>\n",
       "      <td>['47.1']</td>\n",
       "      <td>['46.13', '47.19', '47.7', '47.9', '52.29']</td>\n",
       "    </tr>\n",
       "  </tbody>\n",
       "</table>\n",
       "<p>293500 rows × 3 columns</p>\n",
       "</div>"
      ],
      "text/plain": [
       "             inn_num             okved_main1  \\\n",
       "0         0000000000                     NaN   \n",
       "1         7805287581             ['46.69.5']   \n",
       "2         5043051626               ['46.90']   \n",
       "3         7717784658               ['73.11']   \n",
       "4         7806239260               ['46.51']   \n",
       "...              ...                     ...   \n",
       "293495    7810625250            ['71.12.12']   \n",
       "293496    6444009038  ['26.51.7', '26.51.8']   \n",
       "293497    2635001120             ['26.51.7']   \n",
       "293498  615509605586             ['49.41.1']   \n",
       "293499  615501049104                ['47.1']   \n",
       "\n",
       "                                              okved_main0  \n",
       "0                                                     NaN  \n",
       "1       ['18.1', '33.14', '33.20', '41.2', '43.2', '43...  \n",
       "2       ['25.62', '25.99.29', '27.12', '27.90', '28.13...  \n",
       "3       ['33.12', '33.14', '33.20', '46.18', '46.19', ...  \n",
       "4       ['46.41.1', '46.66', '46.90', '62.01', '62.02'...  \n",
       "...                                                   ...  \n",
       "293495  ['26.51.5', '26.51.8', '30.11', '33.12', '33.1...  \n",
       "293496  ['01.19.2', '01.30', '10.71', '25.72', '26.20'...  \n",
       "293497  ['20.60.1', '20.60.2', '22.19.7', '22.21', '22...  \n",
       "293498                 ['49.41.2', '49.41.3', '77.39.11']  \n",
       "293499        ['46.13', '47.19', '47.7', '47.9', '52.29']  \n",
       "\n",
       "[293500 rows x 3 columns]"
      ]
     },
     "execution_count": 7,
     "metadata": {},
     "output_type": "execute_result"
    }
   ],
   "source": [
    "participants_okved"
   ]
  },
  {
   "cell_type": "markdown",
   "metadata": {},
   "source": [
    "### Подготовка данных\n",
    "\n",
    "Оставляем только определенные виды закупок"
   ]
  },
  {
   "cell_type": "code",
   "execution_count": 85,
   "metadata": {},
   "outputs": [
    {
     "data": {
      "text/plain": [
       "Электронный аукцион                   1540817\n",
       "Запрос котировок                       227426\n",
       "Закупка у единственного поставщика      90041\n",
       "Запрос предложений                      42621\n",
       "Открытый конкурс                        39422\n",
       "Открытый запрос котировок               15775\n",
       "Прочее                                  12042\n",
       "Открытый запрос предложений              9885\n",
       "Конкурс                                  9392\n",
       "Конкурс с ограниченным участием          9297\n",
       "Предварительный отбор                    5824\n",
       "Аукцион                                  3718\n",
       "Конкурентные переговоры                   873\n",
       "Открытый аукцион                          464\n",
       "Маркетинговое исследование                346\n",
       "Закрытый запрос котировок                 143\n",
       "Мониторинг цен                            124\n",
       "Закрытый аукцион                           43\n",
       "Закрытый запрос предложений                40\n",
       "Двухэтапный конкурс                        18\n",
       "Единственный источник                       4\n",
       "Name: purchase_method, dtype: int64"
      ]
     },
     "execution_count": 85,
     "metadata": {},
     "output_type": "execute_result"
    }
   ],
   "source": [
    "tenders[\"purchase_method\"].value_counts()"
   ]
  },
  {
   "cell_type": "code",
   "execution_count": 32,
   "metadata": {},
   "outputs": [],
   "source": [
    "filtered_tenders = tenders[tenders[\"purchase_method\"].isin(set([\"Электронный аукцион\",\n",
    "                                        \"Запрос котировок\",\n",
    "                                        \"Запрос предложений\",\n",
    "                                        \"Открытый конкурс\",\n",
    "                                        \"Открытый запрос котировок\",\n",
    "                                        \"Открытый запрос предложений\",\n",
    "                                        \"Конкурс\"]))]"
   ]
  },
  {
   "cell_type": "code",
   "execution_count": 34,
   "metadata": {},
   "outputs": [
    {
     "name": "stderr",
     "output_type": "stream",
     "text": [
      "/home/avavasilyev/sponge-bob-magic/venv/lib/python3.7/site-packages/pandas/core/indexing.py:965: SettingWithCopyWarning: \n",
      "A value is trying to be set on a copy of a slice from a DataFrame.\n",
      "Try using .loc[row_indexer,col_indexer] = value instead\n",
      "\n",
      "See the caveats in the documentation: https://pandas.pydata.org/pandas-docs/stable/user_guide/indexing.html#returning-a-view-versus-a-copy\n",
      "  self.obj[item] = s\n"
     ]
    }
   ],
   "source": [
    "# будем использовать окпд не ниже второго уровня\n",
    "filtered_tenders.loc[:,\"okpd2\"]=filtered_tenders[\"okpd2\"].apply(lambda df: \".\".join(df.split(\",\")[0].split(\".\",2)[:2]))"
   ]
  },
  {
   "cell_type": "code",
   "execution_count": null,
   "metadata": {},
   "outputs": [],
   "source": [
    "# в качестве объектов используем пару окпд + регион\n",
    "filtered_tenders.loc[:,\"items\"] = filtered_tenders[\"organizer_region\"] + filtered_tenders[\"okpd2\"]"
   ]
  },
  {
   "cell_type": "code",
   "execution_count": 49,
   "metadata": {},
   "outputs": [],
   "source": [
    "full_table=pd.merge(participants,filtered_tenders[[\"items\",\"key\",\"close_dt\",\"open_dt\"]],left_on=\"key\",right_on=\"key\",how=\"inner\")"
   ]
  },
  {
   "cell_type": "code",
   "execution_count": 61,
   "metadata": {},
   "outputs": [],
   "source": [
    "full_table = full_table[(~full_table[\"items\"].isna()) & (~full_table[\"inn_num\"].isna()) & (full_table[\"inn_num\"]!=\"0000000000\")]"
   ]
  },
  {
   "cell_type": "code",
   "execution_count": 83,
   "metadata": {},
   "outputs": [
    {
     "name": "stderr",
     "output_type": "stream",
     "text": [
      "/home/avavasilyev/sponge-bob-magic/venv/lib/python3.7/site-packages/pandas/core/indexing.py:965: SettingWithCopyWarning: \n",
      "A value is trying to be set on a copy of a slice from a DataFrame.\n",
      "Try using .loc[row_indexer,col_indexer] = value instead\n",
      "\n",
      "See the caveats in the documentation: https://pandas.pydata.org/pandas-docs/stable/user_guide/indexing.html#returning-a-view-versus-a-copy\n",
      "  self.obj[item] = s\n"
     ]
    }
   ],
   "source": [
    "# таргетом считаем любые участия в торгах\n",
    "full_table.loc[:,\"winner_flg\"] = 1"
   ]
  },
  {
   "cell_type": "code",
   "execution_count": 84,
   "metadata": {},
   "outputs": [
    {
     "data": {
      "text/html": [
       "<div>\n",
       "<style scoped>\n",
       "    .dataframe tbody tr th:only-of-type {\n",
       "        vertical-align: middle;\n",
       "    }\n",
       "\n",
       "    .dataframe tbody tr th {\n",
       "        vertical-align: top;\n",
       "    }\n",
       "\n",
       "    .dataframe thead th {\n",
       "        text-align: right;\n",
       "    }\n",
       "</style>\n",
       "<table border=\"1\" class=\"dataframe\">\n",
       "  <thead>\n",
       "    <tr style=\"text-align: right;\">\n",
       "      <th></th>\n",
       "      <th>inn_num</th>\n",
       "      <th>key</th>\n",
       "      <th>winner_flg</th>\n",
       "      <th>items</th>\n",
       "      <th>close_dt</th>\n",
       "      <th>open_dt</th>\n",
       "    </tr>\n",
       "  </thead>\n",
       "  <tbody>\n",
       "    <tr>\n",
       "      <th>0</th>\n",
       "      <td>7805287581</td>\n",
       "      <td>0368400000219000451_1</td>\n",
       "      <td>1</td>\n",
       "      <td>Ульяновская область26.20</td>\n",
       "      <td>2020-01-15</td>\n",
       "      <td>2019-12-28</td>\n",
       "    </tr>\n",
       "    <tr>\n",
       "      <th>1</th>\n",
       "      <td>5043051626</td>\n",
       "      <td>0368400000219000451_1</td>\n",
       "      <td>1</td>\n",
       "      <td>Ульяновская область26.20</td>\n",
       "      <td>2020-01-15</td>\n",
       "      <td>2019-12-28</td>\n",
       "    </tr>\n",
       "    <tr>\n",
       "      <th>2</th>\n",
       "      <td>7717784658</td>\n",
       "      <td>0368400000219000451_1</td>\n",
       "      <td>1</td>\n",
       "      <td>Ульяновская область26.20</td>\n",
       "      <td>2020-01-15</td>\n",
       "      <td>2019-12-28</td>\n",
       "    </tr>\n",
       "    <tr>\n",
       "      <th>3</th>\n",
       "      <td>7806239260</td>\n",
       "      <td>0368400000219000451_1</td>\n",
       "      <td>1</td>\n",
       "      <td>Ульяновская область26.20</td>\n",
       "      <td>2020-01-15</td>\n",
       "      <td>2019-12-28</td>\n",
       "    </tr>\n",
       "    <tr>\n",
       "      <th>4</th>\n",
       "      <td>7604353851</td>\n",
       "      <td>0373100076519000746_1</td>\n",
       "      <td>1</td>\n",
       "      <td>Москва28.41</td>\n",
       "      <td>2019-12-03</td>\n",
       "      <td>2019-11-25</td>\n",
       "    </tr>\n",
       "  </tbody>\n",
       "</table>\n",
       "</div>"
      ],
      "text/plain": [
       "      inn_num                    key  winner_flg                     items  \\\n",
       "0  7805287581  0368400000219000451_1           1  Ульяновская область26.20   \n",
       "1  5043051626  0368400000219000451_1           1  Ульяновская область26.20   \n",
       "2  7717784658  0368400000219000451_1           1  Ульяновская область26.20   \n",
       "3  7806239260  0368400000219000451_1           1  Ульяновская область26.20   \n",
       "4  7604353851  0373100076519000746_1           1               Москва28.41   \n",
       "\n",
       "     close_dt     open_dt  \n",
       "0  2020-01-15  2019-12-28  \n",
       "1  2020-01-15  2019-12-28  \n",
       "2  2020-01-15  2019-12-28  \n",
       "3  2020-01-15  2019-12-28  \n",
       "4  2019-12-03  2019-11-25  "
      ]
     },
     "execution_count": 84,
     "metadata": {},
     "output_type": "execute_result"
    }
   ],
   "source": [
    "full_table.head(5)"
   ]
  },
  {
   "cell_type": "markdown",
   "metadata": {},
   "source": [
    "### Обучение моделей"
   ]
  },
  {
   "cell_type": "code",
   "execution_count": 57,
   "metadata": {},
   "outputs": [
    {
     "data": {
      "text/html": [
       "\n",
       "            <div>\n",
       "                <p><b>SparkSession - hive</b></p>\n",
       "                \n",
       "        <div>\n",
       "            <p><b>SparkContext</b></p>\n",
       "\n",
       "            <p><a href=\"http://localhost:4042\">Spark UI</a></p>\n",
       "\n",
       "            <dl>\n",
       "              <dt>Version</dt>\n",
       "                <dd><code>v2.4.4</code></dd>\n",
       "              <dt>Master</dt>\n",
       "                <dd><code>local[*]</code></dd>\n",
       "              <dt>AppName</dt>\n",
       "                <dd><code>pyspark-shell</code></dd>\n",
       "            </dl>\n",
       "        </div>\n",
       "        \n",
       "            </div>\n",
       "        "
      ],
      "text/plain": [
       "<pyspark.sql.session.SparkSession at 0x7f01c56e6f50>"
      ]
     },
     "execution_count": 57,
     "metadata": {},
     "output_type": "execute_result"
    }
   ],
   "source": [
    "from sponge_bob_magic.session_handler import State\n",
    "\n",
    "spark = State().session\n",
    "spark"
   ]
  },
  {
   "cell_type": "code",
   "execution_count": 85,
   "metadata": {},
   "outputs": [],
   "source": [
    "from sponge_bob_magic.data_preparator import DataPreparator\n",
    "\n",
    "log = DataPreparator().transform(\n",
    "    data=full_table,\n",
    "    columns_names={\n",
    "        \"user_id\": \"inn_num\",\n",
    "        \"item_id\": \"items\",\n",
    "        \"relevance\": \"winner_flg\",\n",
    "        \"timestamp\": \"close_dt\"\n",
    "    }\n",
    ")"
   ]
  },
  {
   "cell_type": "code",
   "execution_count": 86,
   "metadata": {},
   "outputs": [],
   "source": [
    "from sponge_bob_magic.filters import min_entries\n",
    "log_filtered = min_entries(log, 5)"
   ]
  },
  {
   "cell_type": "code",
   "execution_count": 87,
   "metadata": {},
   "outputs": [
    {
     "data": {
      "text/plain": [
       "(4324092, 198407)"
      ]
     },
     "execution_count": 87,
     "metadata": {},
     "output_type": "execute_result"
    }
   ],
   "source": [
    "from sponge_bob_magic.splitters import UserSplitter, RandomSplitter\n",
    "\n",
    "splitter = UserSplitter(\n",
    "    drop_cold_items=True,\n",
    "    drop_cold_users=True,\n",
    "    item_test_size=1,\n",
    "    seed=1234,\n",
    "    shuffle=False,\n",
    ")\n",
    "train, test = splitter.split(log)\n",
    "(\n",
    "    train.count(), \n",
    "    test.count()\n",
    ")"
   ]
  },
  {
   "cell_type": "code",
   "execution_count": 88,
   "metadata": {},
   "outputs": [],
   "source": [
    "from sponge_bob_magic.metrics import HitRate, NDCG\n",
    "from sponge_bob_magic.experiment import Experiment\n",
    "\n",
    "metrics = Experiment(test, {NDCG(): 10, \n",
    "                            HitRate(): 10})"
   ]
  },
  {
   "cell_type": "code",
   "execution_count": 89,
   "metadata": {},
   "outputs": [],
   "source": [
    "from sponge_bob_magic.models import SLIM\n",
    "\n",
    "slim = SLIM(lambda_=0.01, beta=0.3)"
   ]
  },
  {
   "cell_type": "code",
   "execution_count": 90,
   "metadata": {},
   "outputs": [
    {
     "name": "stderr",
     "output_type": "stream",
     "text": [
      "09-Jun-20 17:10:05, sponge_bob_magic, DEBUG: Предварительная стадия обучения (pre-fit)\n",
      "09-Jun-20 17:10:08, sponge_bob_magic, DEBUG: Основная стадия обучения (fit)\n",
      "09-Jun-20 17:10:27, sponge_bob_magic, DEBUG: Построение модели SLIM\n"
     ]
    },
    {
     "name": "stdout",
     "output_type": "stream",
     "text": [
      "CPU times: user 13.2 s, sys: 1.02 s, total: 14.2 s\n",
      "Wall time: 32.9 s\n"
     ]
    }
   ],
   "source": [
    "%%time\n",
    "\n",
    "slim.fit(log=train)"
   ]
  },
  {
   "cell_type": "code",
   "execution_count": 91,
   "metadata": {},
   "outputs": [
    {
     "name": "stdout",
     "output_type": "stream",
     "text": [
      "CPU times: user 15.7 s, sys: 3.45 s, total: 19.1 s\n",
      "Wall time: 38.6 s\n"
     ]
    }
   ],
   "source": [
    "%%time\n",
    "recs = slim.predict(\n",
    "    k=10,\n",
    "    users=test.select('user_id').distinct(),\n",
    "    items=train.select('item_id').distinct(),\n",
    "    log=train,\n",
    "    filter_seen_items=True\n",
    ")"
   ]
  },
  {
   "cell_type": "code",
   "execution_count": 92,
   "metadata": {},
   "outputs": [
    {
     "name": "stderr",
     "output_type": "stream",
     "text": [
      "09-Jun-20 17:12:24, sponge_bob_magic, WARNING: Значение метрики может быть неожиданным: пользователи в recommendations и ground_truth различаются!\n",
      "09-Jun-20 17:12:59, sponge_bob_magic, WARNING: Значение метрики может быть неожиданным: пользователи в recommendations и ground_truth различаются!\n"
     ]
    },
    {
     "name": "stdout",
     "output_type": "stream",
     "text": [
      "CPU times: user 103 ms, sys: 18.9 ms, total: 122 ms\n",
      "Wall time: 2min 24s\n"
     ]
    },
    {
     "data": {
      "text/plain": [
       "HitRate@10    0.103734\n",
       "NDCG@10       0.083526\n",
       "Name: SLIM, dtype: float64"
      ]
     },
     "execution_count": 92,
     "metadata": {},
     "output_type": "execute_result"
    }
   ],
   "source": [
    "%%time\n",
    "metrics.add_result(\"SLIM\", recs)\n",
    "metrics.results.loc[\"SLIM\"]"
   ]
  },
  {
   "cell_type": "code",
   "execution_count": 93,
   "metadata": {},
   "outputs": [
    {
     "name": "stdout",
     "output_type": "stream",
     "text": [
      "CPU times: user 15.4 s, sys: 3.43 s, total: 18.8 s\n",
      "Wall time: 37.3 s\n"
     ]
    }
   ],
   "source": [
    "%%time\n",
    "recs = slim.predict(\n",
    "    k=10,\n",
    "    users=test.select('user_id').distinct(),\n",
    "    items=train.select('item_id').distinct(),\n",
    "    log=train,\n",
    "    filter_seen_items=False\n",
    ")"
   ]
  },
  {
   "cell_type": "code",
   "execution_count": 95,
   "metadata": {},
   "outputs": [
    {
     "name": "stderr",
     "output_type": "stream",
     "text": [
      "09-Jun-20 17:14:56, sponge_bob_magic, WARNING: Значение метрики может быть неожиданным: пользователи в recommendations и ground_truth различаются!\n",
      "09-Jun-20 17:15:30, sponge_bob_magic, WARNING: Значение метрики может быть неожиданным: пользователи в recommendations и ground_truth различаются!\n"
     ]
    },
    {
     "name": "stdout",
     "output_type": "stream",
     "text": [
      "CPU times: user 73.2 ms, sys: 27.1 ms, total: 100 ms\n",
      "Wall time: 1min 19s\n"
     ]
    },
    {
     "data": {
      "text/plain": [
       "HitRate@10    0.273018\n",
       "NDCG@10       0.140905\n",
       "Name: SLIM_not_filtered, dtype: float64"
      ]
     },
     "execution_count": 95,
     "metadata": {},
     "output_type": "execute_result"
    }
   ],
   "source": [
    "%%time\n",
    "metrics.add_result(\"SLIM_not_filtered\", recs)\n",
    "metrics.results.loc[\"SLIM_not_filtered\"]"
   ]
  },
  {
   "cell_type": "code",
   "execution_count": 99,
   "metadata": {},
   "outputs": [],
   "source": [
    "from sponge_bob_magic.models import MultVAE\n",
    "\n",
    "vae = MultVAE(\n",
    "    learning_rate=0.01,\n",
    "    epochs=100,\n",
    "    latent_dim=200,\n",
    "    decoder_dims=[800],\n",
    "    anneal=0.05)"
   ]
  },
  {
   "cell_type": "code",
   "execution_count": 100,
   "metadata": {},
   "outputs": [
    {
     "name": "stderr",
     "output_type": "stream",
     "text": [
      "10-Jun-20 07:43:41, sponge_bob_magic, DEBUG: Предварительная стадия обучения (pre-fit)\n",
      "10-Jun-20 07:43:44, sponge_bob_magic, DEBUG: Основная стадия обучения (fit)\n",
      "10-Jun-20 07:44:09, sponge_bob_magic, DEBUG: Составление батча:\n",
      "10-Jun-20 07:44:12, sponge_bob_magic, DEBUG: Обучение модели\n",
      "10-Jun-20 07:45:29, sponge_bob_magic, DEBUG: Epoch[1] current loss: 210.54922\n",
      "10-Jun-20 07:45:32, sponge_bob_magic, DEBUG: Epoch[1] validation average loss: 182.74260\n",
      "10-Jun-20 07:46:43, sponge_bob_magic, DEBUG: Epoch[2] current loss: 151.11821\n",
      "10-Jun-20 07:46:47, sponge_bob_magic, DEBUG: Epoch[2] validation average loss: 116.97318\n",
      "10-Jun-20 07:48:00, sponge_bob_magic, DEBUG: Epoch[3] current loss: 108.64483\n",
      "10-Jun-20 07:48:04, sponge_bob_magic, DEBUG: Epoch[3] validation average loss: 101.64689\n",
      "10-Jun-20 07:49:14, sponge_bob_magic, DEBUG: Epoch[4] current loss: 101.33247\n",
      "10-Jun-20 07:49:19, sponge_bob_magic, DEBUG: Epoch[4] validation average loss: 96.89996\n",
      "10-Jun-20 07:50:29, sponge_bob_magic, DEBUG: Epoch[5] current loss: 99.32100\n",
      "10-Jun-20 07:50:33, sponge_bob_magic, DEBUG: Epoch[5] validation average loss: 95.39556\n",
      "10-Jun-20 07:51:43, sponge_bob_magic, DEBUG: Epoch[6] current loss: 93.88749\n",
      "10-Jun-20 07:51:47, sponge_bob_magic, DEBUG: Epoch[6] validation average loss: 94.36779\n",
      "10-Jun-20 07:52:59, sponge_bob_magic, DEBUG: Epoch[7] current loss: 96.33787\n",
      "10-Jun-20 07:53:03, sponge_bob_magic, DEBUG: Epoch[7] validation average loss: 94.77899\n",
      "10-Jun-20 07:54:14, sponge_bob_magic, DEBUG: Epoch[8] current loss: 93.95086\n",
      "10-Jun-20 07:54:18, sponge_bob_magic, DEBUG: Epoch[8] validation average loss: 95.45938\n",
      "10-Jun-20 07:55:29, sponge_bob_magic, DEBUG: Epoch[9] current loss: 90.74616\n",
      "10-Jun-20 07:55:33, sponge_bob_magic, DEBUG: Epoch[9] validation average loss: 95.48683\n",
      "10-Jun-20 07:56:45, sponge_bob_magic, DEBUG: Epoch[10] current loss: 208.22028\n",
      "10-Jun-20 07:56:49, sponge_bob_magic, DEBUG: Epoch[10] validation average loss: 97.51902\n",
      "10-Jun-20 07:58:01, sponge_bob_magic, DEBUG: Epoch[11] current loss: 93.23776\n",
      "10-Jun-20 07:58:05, sponge_bob_magic, DEBUG: Epoch[11] validation average loss: 91.78375\n",
      "10-Jun-20 07:59:19, sponge_bob_magic, DEBUG: Epoch[12] current loss: 91.30965\n",
      "10-Jun-20 07:59:22, sponge_bob_magic, DEBUG: Epoch[12] validation average loss: 90.63898\n",
      "10-Jun-20 08:00:35, sponge_bob_magic, DEBUG: Epoch[13] current loss: 88.69139\n",
      "10-Jun-20 08:00:39, sponge_bob_magic, DEBUG: Epoch[13] validation average loss: 88.64061\n",
      "10-Jun-20 08:01:52, sponge_bob_magic, DEBUG: Epoch[14] current loss: 85.30598\n",
      "10-Jun-20 08:01:56, sponge_bob_magic, DEBUG: Epoch[14] validation average loss: 88.08299\n",
      "10-Jun-20 08:03:08, sponge_bob_magic, DEBUG: Epoch[15] current loss: 81.64327\n",
      "10-Jun-20 08:03:13, sponge_bob_magic, DEBUG: Epoch[15] validation average loss: 87.53307\n",
      "10-Jun-20 08:04:26, sponge_bob_magic, DEBUG: Epoch[16] current loss: 86.27461\n",
      "10-Jun-20 08:04:30, sponge_bob_magic, DEBUG: Epoch[16] validation average loss: 87.14257\n",
      "10-Jun-20 08:05:43, sponge_bob_magic, DEBUG: Epoch[17] current loss: 79.75297\n",
      "10-Jun-20 08:05:47, sponge_bob_magic, DEBUG: Epoch[17] validation average loss: 86.57504\n",
      "10-Jun-20 08:07:01, sponge_bob_magic, DEBUG: Epoch[18] current loss: 81.36841\n",
      "10-Jun-20 08:07:05, sponge_bob_magic, DEBUG: Epoch[18] validation average loss: 86.55913\n",
      "10-Jun-20 08:08:18, sponge_bob_magic, DEBUG: Epoch[19] current loss: 84.87232\n",
      "10-Jun-20 08:08:22, sponge_bob_magic, DEBUG: Epoch[19] validation average loss: 86.32277\n",
      "10-Jun-20 08:09:34, sponge_bob_magic, DEBUG: Epoch[20] current loss: 80.71532\n",
      "10-Jun-20 08:09:38, sponge_bob_magic, DEBUG: Epoch[20] validation average loss: 86.07492\n",
      "10-Jun-20 08:10:51, sponge_bob_magic, DEBUG: Epoch[21] current loss: 83.10319\n",
      "10-Jun-20 08:10:55, sponge_bob_magic, DEBUG: Epoch[21] validation average loss: 85.68987\n",
      "10-Jun-20 08:12:08, sponge_bob_magic, DEBUG: Epoch[22] current loss: 87.42344\n",
      "10-Jun-20 08:12:12, sponge_bob_magic, DEBUG: Epoch[22] validation average loss: 85.63905\n",
      "10-Jun-20 08:13:23, sponge_bob_magic, DEBUG: Epoch[23] current loss: 83.14459\n",
      "10-Jun-20 08:13:27, sponge_bob_magic, DEBUG: Epoch[23] validation average loss: 85.52222\n",
      "10-Jun-20 08:14:39, sponge_bob_magic, DEBUG: Epoch[24] current loss: 87.27092\n",
      "10-Jun-20 08:14:44, sponge_bob_magic, DEBUG: Epoch[24] validation average loss: 85.51232\n",
      "10-Jun-20 08:15:56, sponge_bob_magic, DEBUG: Epoch[25] current loss: 81.58941\n",
      "10-Jun-20 08:16:00, sponge_bob_magic, DEBUG: Epoch[25] validation average loss: 85.28288\n",
      "10-Jun-20 08:17:12, sponge_bob_magic, DEBUG: Epoch[26] current loss: 78.28467\n",
      "10-Jun-20 08:17:16, sponge_bob_magic, DEBUG: Epoch[26] validation average loss: 85.03343\n",
      "10-Jun-20 08:18:29, sponge_bob_magic, DEBUG: Epoch[27] current loss: 79.49634\n",
      "10-Jun-20 08:18:33, sponge_bob_magic, DEBUG: Epoch[27] validation average loss: 85.11243\n",
      "10-Jun-20 08:19:44, sponge_bob_magic, DEBUG: Epoch[28] current loss: 78.82148\n",
      "10-Jun-20 08:19:48, sponge_bob_magic, DEBUG: Epoch[28] validation average loss: 84.89057\n",
      "10-Jun-20 08:21:00, sponge_bob_magic, DEBUG: Epoch[29] current loss: 77.18458\n",
      "10-Jun-20 08:21:03, sponge_bob_magic, DEBUG: Epoch[29] validation average loss: 85.03490\n",
      "10-Jun-20 08:22:15, sponge_bob_magic, DEBUG: Epoch[30] current loss: 76.70232\n",
      "10-Jun-20 08:22:19, sponge_bob_magic, DEBUG: Epoch[30] validation average loss: 84.81784\n",
      "10-Jun-20 08:23:31, sponge_bob_magic, DEBUG: Epoch[31] current loss: 74.53037\n",
      "10-Jun-20 08:23:35, sponge_bob_magic, DEBUG: Epoch[31] validation average loss: 84.71321\n",
      "10-Jun-20 08:24:48, sponge_bob_magic, DEBUG: Epoch[32] current loss: 74.96346\n",
      "10-Jun-20 08:24:52, sponge_bob_magic, DEBUG: Epoch[32] validation average loss: 84.67366\n",
      "10-Jun-20 08:26:06, sponge_bob_magic, DEBUG: Epoch[33] current loss: 76.16226\n",
      "10-Jun-20 08:26:10, sponge_bob_magic, DEBUG: Epoch[33] validation average loss: 84.40337\n",
      "10-Jun-20 08:27:21, sponge_bob_magic, DEBUG: Epoch[34] current loss: 79.57561\n",
      "10-Jun-20 08:27:25, sponge_bob_magic, DEBUG: Epoch[34] validation average loss: 84.71195\n",
      "10-Jun-20 08:28:38, sponge_bob_magic, DEBUG: Epoch[35] current loss: 75.53217\n",
      "10-Jun-20 08:28:42, sponge_bob_magic, DEBUG: Epoch[35] validation average loss: 84.61354\n",
      "10-Jun-20 08:29:55, sponge_bob_magic, DEBUG: Epoch[36] current loss: 75.37035\n",
      "10-Jun-20 08:29:59, sponge_bob_magic, DEBUG: Epoch[36] validation average loss: 84.39287\n",
      "10-Jun-20 08:31:12, sponge_bob_magic, DEBUG: Epoch[37] current loss: 78.97590\n",
      "10-Jun-20 08:31:16, sponge_bob_magic, DEBUG: Epoch[37] validation average loss: 84.39651\n",
      "10-Jun-20 08:32:28, sponge_bob_magic, DEBUG: Epoch[38] current loss: 78.82571\n",
      "10-Jun-20 08:32:32, sponge_bob_magic, DEBUG: Epoch[38] validation average loss: 84.39404\n",
      "10-Jun-20 08:33:46, sponge_bob_magic, DEBUG: Epoch[39] current loss: 75.80197\n",
      "10-Jun-20 08:33:50, sponge_bob_magic, DEBUG: Epoch[39] validation average loss: 84.36155\n",
      "10-Jun-20 08:35:03, sponge_bob_magic, DEBUG: Epoch[40] current loss: 74.86800\n",
      "10-Jun-20 08:35:07, sponge_bob_magic, DEBUG: Epoch[40] validation average loss: 84.19894\n",
      "10-Jun-20 08:36:19, sponge_bob_magic, DEBUG: Epoch[41] current loss: 76.48094\n",
      "10-Jun-20 08:36:23, sponge_bob_magic, DEBUG: Epoch[41] validation average loss: 84.09333\n",
      "10-Jun-20 08:37:35, sponge_bob_magic, DEBUG: Epoch[42] current loss: 78.56748\n",
      "10-Jun-20 08:37:39, sponge_bob_magic, DEBUG: Epoch[42] validation average loss: 84.09715\n",
      "10-Jun-20 08:38:51, sponge_bob_magic, DEBUG: Epoch[43] current loss: 73.77276\n",
      "10-Jun-20 08:38:55, sponge_bob_magic, DEBUG: Epoch[43] validation average loss: 84.07916\n",
      "10-Jun-20 08:40:09, sponge_bob_magic, DEBUG: Epoch[44] current loss: 77.29472\n",
      "10-Jun-20 08:40:13, sponge_bob_magic, DEBUG: Epoch[44] validation average loss: 84.03695\n",
      "10-Jun-20 08:41:25, sponge_bob_magic, DEBUG: Epoch[45] current loss: 76.80254\n",
      "10-Jun-20 08:41:29, sponge_bob_magic, DEBUG: Epoch[45] validation average loss: 83.97370\n",
      "10-Jun-20 08:42:42, sponge_bob_magic, DEBUG: Epoch[46] current loss: 72.73142\n",
      "10-Jun-20 08:42:46, sponge_bob_magic, DEBUG: Epoch[46] validation average loss: 83.94489\n",
      "10-Jun-20 08:43:58, sponge_bob_magic, DEBUG: Epoch[47] current loss: 77.95582\n",
      "10-Jun-20 08:44:02, sponge_bob_magic, DEBUG: Epoch[47] validation average loss: 83.97112\n",
      "10-Jun-20 08:45:15, sponge_bob_magic, DEBUG: Epoch[48] current loss: 75.47039\n",
      "10-Jun-20 08:45:19, sponge_bob_magic, DEBUG: Epoch[48] validation average loss: 83.82094\n",
      "10-Jun-20 08:46:33, sponge_bob_magic, DEBUG: Epoch[49] current loss: 71.90795\n",
      "10-Jun-20 08:46:37, sponge_bob_magic, DEBUG: Epoch[49] validation average loss: 84.02908\n",
      "10-Jun-20 08:47:50, sponge_bob_magic, DEBUG: Epoch[50] current loss: 75.46889\n",
      "10-Jun-20 08:47:54, sponge_bob_magic, DEBUG: Epoch[50] validation average loss: 83.85099\n",
      "10-Jun-20 08:49:05, sponge_bob_magic, DEBUG: Epoch[51] current loss: 79.35038\n",
      "10-Jun-20 08:49:09, sponge_bob_magic, DEBUG: Epoch[51] validation average loss: 83.71388\n",
      "10-Jun-20 08:50:23, sponge_bob_magic, DEBUG: Epoch[52] current loss: 73.20391\n",
      "10-Jun-20 08:50:27, sponge_bob_magic, DEBUG: Epoch[52] validation average loss: 83.62604\n",
      "10-Jun-20 08:51:39, sponge_bob_magic, DEBUG: Epoch[53] current loss: 75.61472\n",
      "10-Jun-20 08:51:43, sponge_bob_magic, DEBUG: Epoch[53] validation average loss: 83.70558\n",
      "10-Jun-20 08:52:57, sponge_bob_magic, DEBUG: Epoch[54] current loss: 76.38809\n",
      "10-Jun-20 08:53:01, sponge_bob_magic, DEBUG: Epoch[54] validation average loss: 83.79476\n",
      "10-Jun-20 08:54:13, sponge_bob_magic, DEBUG: Epoch[55] current loss: 71.87237\n",
      "10-Jun-20 08:54:17, sponge_bob_magic, DEBUG: Epoch[55] validation average loss: 83.82619\n",
      "10-Jun-20 08:55:29, sponge_bob_magic, DEBUG: Epoch[56] current loss: 77.50485\n",
      "10-Jun-20 08:55:33, sponge_bob_magic, DEBUG: Epoch[56] validation average loss: 83.62763\n",
      "10-Jun-20 08:56:44, sponge_bob_magic, DEBUG: Epoch[57] current loss: 71.04202\n",
      "10-Jun-20 08:56:48, sponge_bob_magic, DEBUG: Epoch[57] validation average loss: 83.06309\n",
      "10-Jun-20 08:58:00, sponge_bob_magic, DEBUG: Epoch[58] current loss: 70.46966\n",
      "10-Jun-20 08:58:05, sponge_bob_magic, DEBUG: Epoch[58] validation average loss: 82.85456\n",
      "10-Jun-20 08:59:18, sponge_bob_magic, DEBUG: Epoch[59] current loss: 71.90299\n",
      "10-Jun-20 08:59:22, sponge_bob_magic, DEBUG: Epoch[59] validation average loss: 82.77877\n",
      "10-Jun-20 09:00:36, sponge_bob_magic, DEBUG: Epoch[60] current loss: 73.06651\n",
      "10-Jun-20 09:00:40, sponge_bob_magic, DEBUG: Epoch[60] validation average loss: 82.82254\n",
      "10-Jun-20 09:01:54, sponge_bob_magic, DEBUG: Epoch[61] current loss: 71.35817\n",
      "10-Jun-20 09:01:58, sponge_bob_magic, DEBUG: Epoch[61] validation average loss: 82.84796\n",
      "10-Jun-20 09:03:13, sponge_bob_magic, DEBUG: Epoch[62] current loss: 69.56064\n",
      "10-Jun-20 09:03:18, sponge_bob_magic, DEBUG: Epoch[62] validation average loss: 82.85091\n",
      "10-Jun-20 09:04:33, sponge_bob_magic, DEBUG: Epoch[63] current loss: 72.91821\n",
      "10-Jun-20 09:04:37, sponge_bob_magic, DEBUG: Epoch[63] validation average loss: 82.83408\n",
      "10-Jun-20 09:05:49, sponge_bob_magic, DEBUG: Epoch[64] current loss: 74.16251\n",
      "10-Jun-20 09:05:54, sponge_bob_magic, DEBUG: Epoch[64] validation average loss: 82.57256\n",
      "10-Jun-20 09:07:07, sponge_bob_magic, DEBUG: Epoch[65] current loss: 71.85577\n",
      "10-Jun-20 09:07:11, sponge_bob_magic, DEBUG: Epoch[65] validation average loss: 82.59400\n",
      "10-Jun-20 09:08:25, sponge_bob_magic, DEBUG: Epoch[66] current loss: 74.79140\n",
      "10-Jun-20 09:08:30, sponge_bob_magic, DEBUG: Epoch[66] validation average loss: 82.52113\n",
      "10-Jun-20 09:09:44, sponge_bob_magic, DEBUG: Epoch[67] current loss: 77.20665\n",
      "10-Jun-20 09:09:48, sponge_bob_magic, DEBUG: Epoch[67] validation average loss: 82.61472\n",
      "10-Jun-20 09:11:01, sponge_bob_magic, DEBUG: Epoch[68] current loss: 72.75359\n",
      "10-Jun-20 09:11:05, sponge_bob_magic, DEBUG: Epoch[68] validation average loss: 82.51129\n",
      "10-Jun-20 09:12:18, sponge_bob_magic, DEBUG: Epoch[69] current loss: 71.49036\n",
      "10-Jun-20 09:12:22, sponge_bob_magic, DEBUG: Epoch[69] validation average loss: 82.59031\n",
      "10-Jun-20 09:13:34, sponge_bob_magic, DEBUG: Epoch[70] current loss: 69.26232\n",
      "10-Jun-20 09:13:38, sponge_bob_magic, DEBUG: Epoch[70] validation average loss: 82.57897\n",
      "10-Jun-20 09:14:51, sponge_bob_magic, DEBUG: Epoch[71] current loss: 70.77994\n",
      "10-Jun-20 09:14:54, sponge_bob_magic, DEBUG: Epoch[71] validation average loss: 82.57751\n",
      "10-Jun-20 09:16:08, sponge_bob_magic, DEBUG: Epoch[72] current loss: 68.89167\n",
      "10-Jun-20 09:16:11, sponge_bob_magic, DEBUG: Epoch[72] validation average loss: 82.60874\n",
      "10-Jun-20 09:17:26, sponge_bob_magic, DEBUG: Epoch[73] current loss: 74.37966\n",
      "10-Jun-20 09:17:29, sponge_bob_magic, DEBUG: Epoch[73] validation average loss: 82.53493\n",
      "10-Jun-20 09:18:43, sponge_bob_magic, DEBUG: Epoch[74] current loss: 74.92148\n",
      "10-Jun-20 09:18:47, sponge_bob_magic, DEBUG: Epoch[74] validation average loss: 82.50950\n",
      "10-Jun-20 09:20:00, sponge_bob_magic, DEBUG: Epoch[75] current loss: 69.45925\n",
      "10-Jun-20 09:20:05, sponge_bob_magic, DEBUG: Epoch[75] validation average loss: 82.48657\n",
      "10-Jun-20 09:21:17, sponge_bob_magic, DEBUG: Epoch[76] current loss: 70.20142\n",
      "10-Jun-20 09:21:21, sponge_bob_magic, DEBUG: Epoch[76] validation average loss: 82.49211\n",
      "10-Jun-20 09:22:33, sponge_bob_magic, DEBUG: Epoch[77] current loss: 69.10552\n",
      "10-Jun-20 09:22:37, sponge_bob_magic, DEBUG: Epoch[77] validation average loss: 82.51315\n",
      "10-Jun-20 09:23:51, sponge_bob_magic, DEBUG: Epoch[78] current loss: 69.91538\n",
      "10-Jun-20 09:23:55, sponge_bob_magic, DEBUG: Epoch[78] validation average loss: 82.52450\n",
      "10-Jun-20 09:25:09, sponge_bob_magic, DEBUG: Epoch[79] current loss: 70.51813\n",
      "10-Jun-20 09:25:14, sponge_bob_magic, DEBUG: Epoch[79] validation average loss: 82.49521\n",
      "10-Jun-20 09:26:27, sponge_bob_magic, DEBUG: Epoch[80] current loss: 73.96188\n",
      "10-Jun-20 09:26:31, sponge_bob_magic, DEBUG: Epoch[80] validation average loss: 82.48877\n",
      "10-Jun-20 09:27:45, sponge_bob_magic, DEBUG: Epoch[81] current loss: 69.40946\n",
      "10-Jun-20 09:27:50, sponge_bob_magic, DEBUG: Epoch[81] validation average loss: 82.49503\n",
      "10-Jun-20 09:29:02, sponge_bob_magic, DEBUG: Epoch[82] current loss: 69.42050\n",
      "10-Jun-20 09:29:06, sponge_bob_magic, DEBUG: Epoch[82] validation average loss: 82.48085\n",
      "10-Jun-20 09:30:19, sponge_bob_magic, DEBUG: Epoch[83] current loss: 69.45836\n",
      "10-Jun-20 09:30:23, sponge_bob_magic, DEBUG: Epoch[83] validation average loss: 82.48750\n",
      "10-Jun-20 09:31:36, sponge_bob_magic, DEBUG: Epoch[84] current loss: 70.25241\n",
      "10-Jun-20 09:31:40, sponge_bob_magic, DEBUG: Epoch[84] validation average loss: 82.46833\n",
      "10-Jun-20 09:32:54, sponge_bob_magic, DEBUG: Epoch[85] current loss: 70.05332\n",
      "10-Jun-20 09:32:58, sponge_bob_magic, DEBUG: Epoch[85] validation average loss: 82.46630\n",
      "10-Jun-20 09:34:12, sponge_bob_magic, DEBUG: Epoch[86] current loss: 71.68401\n",
      "10-Jun-20 09:34:17, sponge_bob_magic, DEBUG: Epoch[86] validation average loss: 82.46189\n",
      "10-Jun-20 09:35:30, sponge_bob_magic, DEBUG: Epoch[87] current loss: 74.30562\n",
      "10-Jun-20 09:35:34, sponge_bob_magic, DEBUG: Epoch[87] validation average loss: 82.48399\n",
      "10-Jun-20 09:36:47, sponge_bob_magic, DEBUG: Epoch[88] current loss: 69.04660\n",
      "10-Jun-20 09:36:51, sponge_bob_magic, DEBUG: Epoch[88] validation average loss: 82.46451\n",
      "10-Jun-20 09:38:04, sponge_bob_magic, DEBUG: Epoch[89] current loss: 70.28998\n",
      "10-Jun-20 09:38:08, sponge_bob_magic, DEBUG: Epoch[89] validation average loss: 82.45269\n",
      "10-Jun-20 09:39:22, sponge_bob_magic, DEBUG: Epoch[90] current loss: 66.63387\n",
      "10-Jun-20 09:39:26, sponge_bob_magic, DEBUG: Epoch[90] validation average loss: 82.45041\n",
      "10-Jun-20 09:40:40, sponge_bob_magic, DEBUG: Epoch[91] current loss: 78.76958\n",
      "10-Jun-20 09:40:43, sponge_bob_magic, DEBUG: Epoch[91] validation average loss: 82.46055\n",
      "10-Jun-20 09:41:58, sponge_bob_magic, DEBUG: Epoch[92] current loss: 72.42116\n",
      "10-Jun-20 09:42:03, sponge_bob_magic, DEBUG: Epoch[92] validation average loss: 82.44643\n",
      "10-Jun-20 09:43:17, sponge_bob_magic, DEBUG: Epoch[93] current loss: 70.73911\n",
      "10-Jun-20 09:43:21, sponge_bob_magic, DEBUG: Epoch[93] validation average loss: 82.45048\n",
      "10-Jun-20 09:44:34, sponge_bob_magic, DEBUG: Epoch[94] current loss: 74.45113\n",
      "10-Jun-20 09:44:38, sponge_bob_magic, DEBUG: Epoch[94] validation average loss: 82.44659\n",
      "10-Jun-20 09:45:52, sponge_bob_magic, DEBUG: Epoch[95] current loss: 67.31795\n",
      "10-Jun-20 09:45:55, sponge_bob_magic, DEBUG: Epoch[95] validation average loss: 82.44860\n",
      "10-Jun-20 09:47:10, sponge_bob_magic, DEBUG: Epoch[96] current loss: 67.96062\n",
      "10-Jun-20 09:47:14, sponge_bob_magic, DEBUG: Epoch[96] validation average loss: 82.44237\n",
      "10-Jun-20 09:48:27, sponge_bob_magic, DEBUG: Epoch[97] current loss: 67.40021\n",
      "10-Jun-20 09:48:31, sponge_bob_magic, DEBUG: Epoch[97] validation average loss: 82.45374\n",
      "10-Jun-20 09:49:45, sponge_bob_magic, DEBUG: Epoch[98] current loss: 69.64703\n",
      "10-Jun-20 09:49:49, sponge_bob_magic, DEBUG: Epoch[98] validation average loss: 82.45016\n",
      "10-Jun-20 09:51:02, sponge_bob_magic, DEBUG: Epoch[99] current loss: 72.13140\n",
      "10-Jun-20 09:51:06, sponge_bob_magic, DEBUG: Epoch[99] validation average loss: 82.44740\n",
      "10-Jun-20 09:52:20, sponge_bob_magic, DEBUG: Epoch[100] current loss: 68.43572\n",
      "10-Jun-20 09:52:25, sponge_bob_magic, DEBUG: Epoch[100] validation average loss: 82.44081\n",
      "10-Jun-20 09:52:25, sponge_bob_magic, DEBUG: -- Загрузка модели из файла\n"
     ]
    },
    {
     "name": "stdout",
     "output_type": "stream",
     "text": [
      "CPU times: user 1d 11min 44s, sys: 1d 5h 45min 29s, total: 2d 5h 57min 14s\n",
      "Wall time: 2h 8min 44s\n"
     ]
    }
   ],
   "source": [
    "%%time\n",
    "\n",
    "vae.fit(log=train)"
   ]
  },
  {
   "cell_type": "code",
   "execution_count": 103,
   "metadata": {},
   "outputs": [
    {
     "name": "stderr",
     "output_type": "stream",
     "text": [
      "10-Jun-20 11:09:33, sponge_bob_magic, DEBUG: Предсказание модели\n"
     ]
    },
    {
     "name": "stdout",
     "output_type": "stream",
     "text": [
      "CPU times: user 18.4 s, sys: 6.68 s, total: 25.1 s\n",
      "Wall time: 1h 16min 44s\n"
     ]
    }
   ],
   "source": [
    "%%time\n",
    "recs = vae.predict(\n",
    "    k=10,\n",
    "    users=test.select('user_id').distinct(),\n",
    "    items=train.select('item_id').distinct(),\n",
    "    log=train,\n",
    "    filter_seen_items=False\n",
    ")"
   ]
  },
  {
   "cell_type": "code",
   "execution_count": 104,
   "metadata": {},
   "outputs": [
    {
     "name": "stdout",
     "output_type": "stream",
     "text": [
      "CPU times: user 237 ms, sys: 271 ms, total: 508 ms\n",
      "Wall time: 1h 17min 13s\n"
     ]
    },
    {
     "data": {
      "text/plain": [
       "HitRate@10    0.425227\n",
       "NDCG@10       0.192702\n",
       "Name: VAE, dtype: float64"
      ]
     },
     "execution_count": 104,
     "metadata": {},
     "output_type": "execute_result"
    }
   ],
   "source": [
    "%%time\n",
    "metrics.add_result(\"VAE\", recs)\n",
    "metrics.results.loc[\"VAE\"]"
   ]
  },
  {
   "cell_type": "code",
   "execution_count": 105,
   "metadata": {},
   "outputs": [
    {
     "data": {
      "text/html": [
       "<div>\n",
       "<style scoped>\n",
       "    .dataframe tbody tr th:only-of-type {\n",
       "        vertical-align: middle;\n",
       "    }\n",
       "\n",
       "    .dataframe tbody tr th {\n",
       "        vertical-align: top;\n",
       "    }\n",
       "\n",
       "    .dataframe thead th {\n",
       "        text-align: right;\n",
       "    }\n",
       "</style>\n",
       "<table border=\"1\" class=\"dataframe\">\n",
       "  <thead>\n",
       "    <tr style=\"text-align: right;\">\n",
       "      <th></th>\n",
       "      <th>HitRate@10</th>\n",
       "      <th>NDCG@10</th>\n",
       "    </tr>\n",
       "  </thead>\n",
       "  <tbody>\n",
       "    <tr>\n",
       "      <th>SLIM</th>\n",
       "      <td>0.103734</td>\n",
       "      <td>0.083526</td>\n",
       "    </tr>\n",
       "    <tr>\n",
       "      <th>SLIM_not_filtered</th>\n",
       "      <td>0.273018</td>\n",
       "      <td>0.140905</td>\n",
       "    </tr>\n",
       "    <tr>\n",
       "      <th>VAE</th>\n",
       "      <td>0.425227</td>\n",
       "      <td>0.192702</td>\n",
       "    </tr>\n",
       "  </tbody>\n",
       "</table>\n",
       "</div>"
      ],
      "text/plain": [
       "                   HitRate@10   NDCG@10\n",
       "SLIM                 0.103734  0.083526\n",
       "SLIM_not_filtered    0.273018  0.140905\n",
       "VAE                  0.425227  0.192702"
      ]
     },
     "execution_count": 105,
     "metadata": {},
     "output_type": "execute_result"
    }
   ],
   "source": [
    "metrics.results"
   ]
  }
 ],
 "metadata": {
  "kernelspec": {
   "display_name": "Python 3",
   "language": "python",
   "name": "python3"
  },
  "language_info": {
   "codemirror_mode": {
    "name": "ipython",
    "version": 3
   },
   "file_extension": ".py",
   "mimetype": "text/x-python",
   "name": "python",
   "nbconvert_exporter": "python",
   "pygments_lexer": "ipython3",
   "version": "3.7.6"
  }
 },
 "nbformat": 4,
 "nbformat_minor": 4
}
