{
 "cells": [
  {
   "cell_type": "markdown",
   "metadata": {},
   "source": [
    "# User Cold Start: Stories Dataset\n",
    "\n",
    "Лаботоратория по искусственному интеллекту, Сбербанк. \n",
    "\n",
    "Авторы: [Борис Шминке](<mailto:Shminke.B.A@omega.sbrf.ru>), [Роза Айсина](<mailto:Aysina.R.M@omega.sbrf.ru>). \n",
    "\n",
    "О чем: модель холодного старта для пользователей. Схема разбиения - делим лог на две рандомные части.\n",
    "\n",
    "## Содержание\n",
    "\n",
    "1. [Импорты, создание спарк-сессии](#intro)\n",
    "2. [Подготовка данных](#data-preparator)\n",
    "3. [Линейный рекомендатель на основе эмбеддингов](#linear-recommender)\n",
    "3.1. [Запуск single модели](#linear-recommender-single)\n",
    "3.2. [Подбор гиперпараметров](#linear-recommender-scenario)\n",
    "4. [Рекомендатель на основе популярности объектов](#popular-recommender)\n",
    "4.1. [Запуск single модели](#popular-recommender-single)"
   ]
  },
  {
   "cell_type": "markdown",
   "metadata": {},
   "source": [
    "### Импорты, создание спарк-сессии <a name='intro'></a>"
   ]
  },
  {
   "cell_type": "code",
   "execution_count": 1,
   "metadata": {
    "pycharm": {
     "is_executing": false
    }
   },
   "outputs": [],
   "source": [
    "%load_ext autoreload\n",
    "%autoreload 2\n",
    "%matplotlib inline"
   ]
  },
  {
   "cell_type": "code",
   "execution_count": 2,
   "metadata": {
    "pycharm": {
     "is_executing": false
    }
   },
   "outputs": [],
   "source": [
    "import logging\n",
    "import os\n",
    "import re\n",
    "import sys\n",
    "from collections import Counter\n",
    "from datetime import datetime\n",
    "from time import time\n",
    "\n",
    "import matplotlib.pyplot as plt\n",
    "import numpy as np\n",
    "import pandas as pd\n",
    "from pyspark.sql import SparkSession\n",
    "from pyspark.sql import functions as sf\n",
    "from pyspark.sql.types import DoubleType, StringType, StructType, StructField, TimestampType\n",
    "\n",
    "from sklearn.feature_extraction.text import CountVectorizer"
   ]
  },
  {
   "cell_type": "code",
   "execution_count": 3,
   "metadata": {
    "pycharm": {
     "is_executing": false
    }
   },
   "outputs": [],
   "source": [
    "parent_dir = os.path.split(os.getcwd())[0]\n",
    "if parent_dir not in sys.path:\n",
    "    sys.path.append(parent_dir)"
   ]
  },
  {
   "cell_type": "code",
   "execution_count": 4,
   "metadata": {},
   "outputs": [
    {
     "data": {
      "text/plain": [
       "'/datascc/aysina-rm/code/sponge-bob-magic'"
      ]
     },
     "execution_count": 4,
     "metadata": {},
     "output_type": "execute_result"
    }
   ],
   "source": [
    "parent_dir"
   ]
  },
  {
   "cell_type": "code",
   "execution_count": 5,
   "metadata": {},
   "outputs": [
    {
     "data": {
      "text/plain": [
       "'/datascc/aysina-rm/pip_packages:/datascc/aysina-rm/pip_packages:'"
      ]
     },
     "execution_count": 5,
     "metadata": {},
     "output_type": "execute_result"
    }
   ],
   "source": [
    "os.environ['PYTHONPATH']"
   ]
  },
  {
   "cell_type": "code",
   "execution_count": 6,
   "metadata": {},
   "outputs": [],
   "source": [
    "os.environ['PYTHONPATH'] += \"/datascc/aysina-rm/code/sponge-bob-magic\" + os.pathsep\n",
    "os.environ['PYTHONPATH'] += \"/datascc/aysina-rm/code/sponge-bob-magic/sponge_bob_magic\" + os.pathsep"
   ]
  },
  {
   "cell_type": "code",
   "execution_count": 7,
   "metadata": {},
   "outputs": [
    {
     "data": {
      "text/plain": [
       "'/datascc/aysina-rm/pip_packages:/datascc/aysina-rm/pip_packages:/datascc/aysina-rm/code/sponge-bob-magic:/datascc/aysina-rm/code/sponge-bob-magic/sponge_bob_magic:'"
      ]
     },
     "execution_count": 7,
     "metadata": {},
     "output_type": "execute_result"
    }
   ],
   "source": [
    "os.environ['PYTHONPATH']"
   ]
  },
  {
   "cell_type": "code",
   "execution_count": 60,
   "metadata": {
    "pycharm": {
     "is_executing": false
    }
   },
   "outputs": [],
   "source": [
    "from sponge_bob_magic.data_preparator.data_preparator import DataPreparator\n",
    "from sponge_bob_magic.metrics.metrics import Metrics\n",
    "from sponge_bob_magic.models.linear_recomennder import LinearRecommender\n",
    "from sponge_bob_magic.models.popular_recomennder import PopularRecommender\n",
    "from sponge_bob_magic.scenarios.linear_scenario import LinearScenario\n",
    "from sponge_bob_magic.validation_schemes import ValidationSchemes"
   ]
  },
  {
   "cell_type": "code",
   "execution_count": 9,
   "metadata": {
    "pycharm": {
     "is_executing": false
    }
   },
   "outputs": [],
   "source": [
    "# отображение максимальной ширины колонок в pandas датафреймах\n",
    "pd.options.display.max_colwidth = -1"
   ]
  },
  {
   "cell_type": "code",
   "execution_count": 10,
   "metadata": {
    "pycharm": {
     "is_executing": false
    }
   },
   "outputs": [
    {
     "data": {
      "text/html": [
       "\n",
       "            <div>\n",
       "                <p><b>SparkSession - hive</b></p>\n",
       "                \n",
       "        <div>\n",
       "            <p><b>SparkContext</b></p>\n",
       "\n",
       "            <p><a href=\"http://parcae1.unassigned-domain:4040\">Spark UI</a></p>\n",
       "\n",
       "            <dl>\n",
       "              <dt>Version</dt>\n",
       "                <dd><code>v2.4.4</code></dd>\n",
       "              <dt>Master</dt>\n",
       "                <dd><code>local[40]</code></dd>\n",
       "              <dt>AppName</dt>\n",
       "                <dd><code>pyspark-shell</code></dd>\n",
       "            </dl>\n",
       "        </div>\n",
       "        \n",
       "            </div>\n",
       "        "
      ],
      "text/plain": [
       "<pyspark.sql.session.SparkSession at 0x7fa221e61dd8>"
      ]
     },
     "execution_count": 10,
     "metadata": {},
     "output_type": "execute_result"
    }
   ],
   "source": [
    "spark_memory = \"256g\"\n",
    "spark_cores = \"40\"\n",
    "user_home = \"/datascc/aysina-rm\"\n",
    "\n",
    "spark = (\n",
    "    SparkSession\n",
    "    .builder\n",
    "    .config('spark.driver.memory', spark_memory)\n",
    "    .config(\"spark.sql.shuffle.partitions\", \"64\")\n",
    "    .config('spark.local.dir', os.path.join(user_home, \"tmp\"))\n",
    "    .master(f'local[{spark_cores}]')\n",
    "    .enableHiveSupport()\n",
    "    .getOrCreate()\n",
    ")\n",
    "\n",
    "spark"
   ]
  },
  {
   "cell_type": "code",
   "execution_count": 11,
   "metadata": {
    "pycharm": {
     "is_executing": false
    }
   },
   "outputs": [],
   "source": [
    "spark_logger = logging.getLogger('py4j')\n",
    "spark_logger.setLevel(logging.WARN)"
   ]
  },
  {
   "cell_type": "code",
   "execution_count": 12,
   "metadata": {
    "pycharm": {
     "is_executing": false
    }
   },
   "outputs": [],
   "source": [
    "logger = logging.getLogger()\n",
    "formatter = logging.Formatter('%(asctime)s, %(name)s, %(levelname)s: %(message)s',\n",
    "                              datefmt='%d-%b-%y %H:%M:%S')\n",
    "hdlr = logging.StreamHandler()\n",
    "hdlr.setFormatter(formatter)\n",
    "logger.addHandler(hdlr)\n",
    "logger.setLevel(logging.DEBUG)"
   ]
  },
  {
   "cell_type": "markdown",
   "metadata": {},
   "source": [
    "## Подготовка данных <a name='data-preparator'></a>"
   ]
  },
  {
   "cell_type": "markdown",
   "metadata": {},
   "source": [
    "В этой папке находятся данные за сентябрь и один день октября (2019 год):"
   ]
  },
  {
   "cell_type": "code",
   "execution_count": 13,
   "metadata": {},
   "outputs": [
    {
     "name": "stdout",
     "output_type": "stream",
     "text": [
      "user_item_data2019-09-01.csv  user_item_data2019-09-17.csv\r\n",
      "user_item_data2019-09-02.csv  user_item_data2019-09-18.csv\r\n",
      "user_item_data2019-09-03.csv  user_item_data2019-09-19.csv\r\n",
      "user_item_data2019-09-04.csv  user_item_data2019-09-20.csv\r\n",
      "user_item_data2019-09-05.csv  user_item_data2019-09-21.csv\r\n",
      "user_item_data2019-09-06.csv  user_item_data2019-09-22.csv\r\n",
      "user_item_data2019-09-07.csv  user_item_data2019-09-23.csv\r\n",
      "user_item_data2019-09-08.csv  user_item_data2019-09-24.csv\r\n",
      "user_item_data2019-09-09.csv  user_item_data2019-09-25.csv\r\n",
      "user_item_data2019-09-10.csv  user_item_data2019-09-26.csv\r\n",
      "user_item_data2019-09-11.csv  user_item_data2019-09-27.csv\r\n",
      "user_item_data2019-09-12.csv  user_item_data2019-09-28.csv\r\n",
      "user_item_data2019-09-13.csv  user_item_data2019-09-29.csv\r\n",
      "user_item_data2019-09-14.csv  user_item_data2019-09-30.csv\r\n",
      "user_item_data2019-09-15.csv  user_item_data2019-10-01.csv\r\n",
      "user_item_data2019-09-16.csv\r\n"
     ]
    }
   ],
   "source": [
    "!ls /datascc/share/small_data"
   ]
  },
  {
   "cell_type": "code",
   "execution_count": 14,
   "metadata": {
    "pycharm": {
     "is_executing": false
    }
   },
   "outputs": [],
   "source": [
    "path_log = '/datascc/share/small_data'"
   ]
  },
  {
   "cell_type": "code",
   "execution_count": 15,
   "metadata": {
    "pycharm": {
     "is_executing": false
    }
   },
   "outputs": [],
   "source": [
    "dp = DataPreparator(spark)"
   ]
  },
  {
   "cell_type": "markdown",
   "metadata": {},
   "source": [
    "#### Загрузка лога:"
   ]
  },
  {
   "cell_type": "code",
   "execution_count": 16,
   "metadata": {
    "pycharm": {
     "is_executing": false
    }
   },
   "outputs": [],
   "source": [
    "df = dp.transform_log(\n",
    "    path=path_log,\n",
    "    format_type=\"csv\",\n",
    "    columns_names={\n",
    "        \"timestamp\": \"_c0\", \n",
    "        \"user_id\": \"_c1\", \n",
    "        \"item_id\": \"_c2\", \n",
    "        \"relevance\": \"_c3\"\n",
    "    }\n",
    ").cache()"
   ]
  },
  {
   "cell_type": "code",
   "execution_count": 17,
   "metadata": {
    "pycharm": {
     "is_executing": false
    },
    "scrolled": false
   },
   "outputs": [
    {
     "name": "stdout",
     "output_type": "stream",
     "text": [
      "+-------------------+-------+-------+---------+----------+\n",
      "|          timestamp|user_id|item_id|relevance|   context|\n",
      "+-------------------+-------+-------+---------+----------+\n",
      "|2019-09-23 00:00:00|    268|  12552|      0.0|no_context|\n",
      "|2019-09-23 00:00:00|    268|  12570|      1.0|no_context|\n",
      "|2019-09-23 00:00:00|    268|  12332|      0.0|no_context|\n",
      "+-------------------+-------+-------+---------+----------+\n",
      "only showing top 3 rows\n",
      "\n"
     ]
    }
   ],
   "source": [
    "df.show(3)"
   ]
  },
  {
   "cell_type": "code",
   "execution_count": 18,
   "metadata": {},
   "outputs": [
    {
     "data": {
      "text/plain": [
       "48522117"
      ]
     },
     "execution_count": 18,
     "metadata": {},
     "output_type": "execute_result"
    }
   ],
   "source": [
    "df.count()"
   ]
  },
  {
   "cell_type": "code",
   "execution_count": 19,
   "metadata": {},
   "outputs": [
    {
     "name": "stdout",
     "output_type": "stream",
     "text": [
      "+---------+-------+-------+---------+-------+\n",
      "|timestamp|user_id|item_id|relevance|context|\n",
      "+---------+-------+-------+---------+-------+\n",
      "|       31|4877611|    658|        2|      1|\n",
      "+---------+-------+-------+---------+-------+\n",
      "\n"
     ]
    }
   ],
   "source": [
    "df.agg(*(sf.countDistinct(sf.col(c)).alias(c) for c in df.columns)).show()"
   ]
  },
  {
   "cell_type": "code",
   "execution_count": 20,
   "metadata": {},
   "outputs": [
    {
     "name": "stdout",
     "output_type": "stream",
     "text": [
      "+-------------------+-------------------+\n",
      "|     min(timestamp)|     max(timestamp)|\n",
      "+-------------------+-------------------+\n",
      "|2019-09-01 00:00:00|2019-10-01 00:00:00|\n",
      "+-------------------+-------------------+\n",
      "\n"
     ]
    }
   ],
   "source": [
    "df.agg(sf.min(sf.col(\"timestamp\")), sf.max(sf.col(\"timestamp\"))).show()"
   ]
  },
  {
   "cell_type": "code",
   "execution_count": 21,
   "metadata": {
    "pycharm": {
     "is_executing": false
    }
   },
   "outputs": [],
   "source": [
    "df_short = df.limit(1000).cache()"
   ]
  },
  {
   "cell_type": "markdown",
   "metadata": {},
   "source": [
    "#### Загрузка фичей (эмбеддингов юзеров и айтемов):"
   ]
  },
  {
   "cell_type": "markdown",
   "metadata": {},
   "source": [
    "Названия полей соответствуют выгрузке, которую делал Иван Киреев:"
   ]
  },
  {
   "cell_type": "code",
   "execution_count": 22,
   "metadata": {},
   "outputs": [],
   "source": [
    "user_feature_cols = [\"v\" + (\"000\" + str(i))[-3:] for i in range(256)]\n",
    "\n",
    "user_features = dp.transform_features(\n",
    "    \"/datascc/share/parquet_embeddings/\",\n",
    "    format_type=\"parquet\",\n",
    "    columns_names={\n",
    "        \"timestamp\": \"application_date\", \n",
    "        \"user_id\": \"client_dk\", \n",
    "        \"features\": user_feature_cols\n",
    "    }\n",
    ")"
   ]
  },
  {
   "cell_type": "markdown",
   "metadata": {},
   "source": [
    "Фичи айтемов можно сгенерировать кодом из тетрадки:\n",
    "\n",
    "https://stash.ca.sbrf.ru/projects/AI-LAB/repos/stories_recsys/browse/experiments/prepare_text_embeddings.ipynb\n"
   ]
  },
  {
   "cell_type": "code",
   "execution_count": 23,
   "metadata": {},
   "outputs": [],
   "source": [
    "item_feature_cols = [\"t\" + str(i) for i in range(256)]\n",
    "\n",
    "item_features = dp.transform_features(\n",
    "    \"/datascc/share/stories_texts_embeddings\",\n",
    "    format_type=\"parquet\",\n",
    "    columns_names={\n",
    "        \"item_id\": \"campaign_id\", \n",
    "        \"features\": item_feature_cols\n",
    "    }\n",
    ")"
   ]
  },
  {
   "cell_type": "markdown",
   "metadata": {},
   "source": [
    "### Делим выборку на трейн и тест <a name='splitter'></a>"
   ]
  },
  {
   "cell_type": "code",
   "execution_count": 24,
   "metadata": {},
   "outputs": [
    {
     "data": {
      "text/plain": [
       "(46633922, 46633922, 1888195)"
      ]
     },
     "execution_count": 24,
     "metadata": {},
     "output_type": "execute_result"
    }
   ],
   "source": [
    "splitter = ValidationSchemes(spark)\n",
    "\n",
    "train, test_input, test = splitter.log_split_by_date(\n",
    "    df,\n",
    "    test_start=\"2019-10-01\",\n",
    "    drop_cold_items=False,\n",
    "    drop_cold_users=False\n",
    ")\n",
    "\n",
    "test_positive = test.filter(\"relevance == 1\").cache()\n",
    "\n",
    "(\n",
    "    train.count(), \n",
    "    test_input.count(), \n",
    "    test.count()\n",
    ")"
   ]
  },
  {
   "cell_type": "code",
   "execution_count": 25,
   "metadata": {},
   "outputs": [
    {
     "data": {
      "text/plain": [
       "(datetime.datetime(2019, 9, 30, 0, 0), datetime.datetime(2019, 10, 1, 0, 0))"
      ]
     },
     "execution_count": 25,
     "metadata": {},
     "output_type": "execute_result"
    }
   ],
   "source": [
    "(\n",
    "    train.agg(sf.max(\"timestamp\")).head()[0],\n",
    "    test.agg(sf.min(\"timestamp\")).head()[0]\n",
    ")"
   ]
  },
  {
   "cell_type": "markdown",
   "metadata": {},
   "source": [
    "## Линейный рекомендатель на основе эмбеддингов <a name='linear-recommender'></a>"
   ]
  },
  {
   "cell_type": "markdown",
   "metadata": {},
   "source": [
    "### Запуск single модели <a name='linear-recommender-single'></a>"
   ]
  },
  {
   "cell_type": "code",
   "execution_count": 26,
   "metadata": {},
   "outputs": [],
   "source": [
    "lr = LinearRecommender(spark, lambda_param=0.0,\n",
    "                       elastic_net_param=0.0,\n",
    "                       num_iter=100)"
   ]
  },
  {
   "cell_type": "code",
   "execution_count": 27,
   "metadata": {
    "scrolled": false
   },
   "outputs": [
    {
     "name": "stderr",
     "output_type": "stream",
     "text": [
      "13-Nov-19 14:37:22, root, DEBUG: Проверка датафреймов\n",
      "13-Nov-19 14:40:51, root, DEBUG: Предварительная стадия обучения (pre-fit)\n",
      "13-Nov-19 14:40:52, root, DEBUG: Основная стадия обучения (fit)\n"
     ]
    },
    {
     "name": "stdout",
     "output_type": "stream",
     "text": [
      "CPU times: user 608 ms, sys: 140 ms, total: 748 ms\n",
      "Wall time: 24min 20s\n"
     ]
    }
   ],
   "source": [
    "%%time\n",
    "\n",
    "lr.fit(\n",
    "    log=train,\n",
    "    user_features=user_features,\n",
    "    item_features=item_features,\n",
    "    path=\"/datascc/aysina-rm/code/sponge-bob-magic/data\"\n",
    ")"
   ]
  },
  {
   "cell_type": "code",
   "execution_count": 35,
   "metadata": {},
   "outputs": [
    {
     "name": "stderr",
     "output_type": "stream",
     "text": [
      "13-Nov-19 15:11:16, root, DEBUG: Проверка датафреймов\n"
     ]
    },
    {
     "name": "stdout",
     "output_type": "stream",
     "text": [
      "CPU times: user 448 ms, sys: 84 ms, total: 532 ms\n",
      "Wall time: 9min 56s\n"
     ]
    }
   ],
   "source": [
    "%%time\n",
    "\n",
    "recs = lr.predict(\n",
    "    user_features=user_features,\n",
    "    item_features=item_features,\n",
    "    k=10,\n",
    "    context=None,\n",
    "    users=test.select(\"user_id\").distinct().cache(),\n",
    "    items=test.select(\"item_id\").distinct().cache(),\n",
    "    log=train,\n",
    "    to_filter_seen_items=True,\n",
    "    path=\"/datascc/aysina-rm/code/sponge-bob-magic/data\"\n",
    ").cache()"
   ]
  },
  {
   "cell_type": "code",
   "execution_count": 37,
   "metadata": {},
   "outputs": [
    {
     "data": {
      "text/plain": [
       "1451020"
      ]
     },
     "execution_count": 37,
     "metadata": {},
     "output_type": "execute_result"
    }
   ],
   "source": [
    "recs.count()"
   ]
  },
  {
   "cell_type": "code",
   "execution_count": 38,
   "metadata": {},
   "outputs": [
    {
     "name": "stdout",
     "output_type": "stream",
     "text": [
      "CPU times: user 4 ms, sys: 4 ms, total: 8 ms\n",
      "Wall time: 3.3 s\n"
     ]
    },
    {
     "data": {
      "text/plain": [
       "0.05112955024741216"
      ]
     },
     "execution_count": 38,
     "metadata": {},
     "output_type": "execute_result"
    }
   ],
   "source": [
    "%%time\n",
    "\n",
    "metric = Metrics.hit_rate_at_k(recs, test_positive, k=10)\n",
    "metric"
   ]
  },
  {
   "cell_type": "markdown",
   "metadata": {},
   "source": [
    "### Подбор гиперпараметров в линейной модели <a name='linear-recommender-scenario'></a>"
   ]
  },
  {
   "cell_type": "code",
   "execution_count": 39,
   "metadata": {
    "pycharm": {
     "is_executing": false
    }
   },
   "outputs": [],
   "source": [
    "linear_scenario = LinearScenario(spark)\n",
    "linear_scenario.seed = 9876\n",
    "\n",
    "results = None"
   ]
  },
  {
   "cell_type": "code",
   "execution_count": 50,
   "metadata": {
    "pycharm": {
     "is_executing": false
    },
    "scrolled": false
   },
   "outputs": [
    {
     "name": "stderr",
     "output_type": "stream",
     "text": [
      "13-Nov-19 15:46:51, root, DEBUG: Деление на трейн и тест\n",
      "13-Nov-19 15:46:59, root, DEBUG: Длина трейна и теста: (46633922, 1888195)\n",
      "13-Nov-19 15:47:00, root, DEBUG: Количество юзеров в трейне и тесте: 4702570, 265681\n",
      "13-Nov-19 15:47:01, root, DEBUG: Количество айтемов в трейне и тесте: 651, 345\n",
      "13-Nov-19 15:47:01, root, DEBUG: Модель LinearRecommender\n",
      "13-Nov-19 15:47:01, root, DEBUG: Первый пре-фит модели\n",
      "13-Nov-19 15:47:02, root, DEBUG: -------------\n",
      "13-Nov-19 15:47:02, root, DEBUG: Начало оптимизации параметров\n",
      "13-Nov-19 15:47:02, root, DEBUG: -- Параметры: {'lambda_param': 0.0006124063759867025, 'elastic_net_param': 0.803030210950413, 'num_iter': 100}\n",
      "13-Nov-19 15:47:02, root, DEBUG: -- Второй фит модели в оптимизации\n",
      "13-Nov-19 16:11:44, root, DEBUG: -- Предикт модели в оптимизации\n",
      "13-Nov-19 16:11:44, root, DEBUG: Проверка датафреймов\n",
      "13-Nov-19 16:22:01, root, DEBUG: -- Длина рекомендаций: 435306\n",
      "13-Nov-19 16:22:01, root, DEBUG: -- Подсчет метрики в оптимизации\n",
      "13-Nov-19 17:09:46, root, DEBUG: -- Метрики: hit_rate=0.0280, ndcg=0.0107, precision=0.0093, map_metric=0.0063\n",
      "[I 2019-11-13 17:09:47,726] Finished trial#0 resulted in value: 0.027973425590274426. Current best value is 0.027973425590274426 with parameters: {'lambda_param': 0.0006124063759867025, 'elastic_net_param': 0.803030210950413}.\n",
      "13-Nov-19 17:09:47, root, DEBUG: Лучшие значения метрики: 0.027973425590274426\n",
      "13-Nov-19 17:09:47, root, DEBUG: Лучшие параметры: {'lambda_param': 0.0006124063759867025, 'elastic_net_param': 0.803030210950413}\n"
     ]
    },
    {
     "name": "stdout",
     "output_type": "stream",
     "text": [
      "CPU times: user 1.13 s, sys: 300 ms, total: 1.43 s\n",
      "Wall time: 1h 22min 56s\n"
     ]
    },
    {
     "data": {
      "text/plain": [
       "{'lambda_param': 0.0006124063759867025, 'elastic_net_param': 0.803030210950413}"
      ]
     },
     "execution_count": 50,
     "metadata": {},
     "output_type": "execute_result"
    }
   ],
   "source": [
    "%%time\n",
    "\n",
    "linear_params_grid = {\n",
    "    'lambda_param': (1e-5, 100), \n",
    "    'elastic_net_param': (1e-5, 1)\n",
    "}\n",
    "\n",
    "best_params = linear_scenario.research(\n",
    "    linear_params_grid,\n",
    "    df,\n",
    "    users=None, items=None,\n",
    "    user_features=user_features,\n",
    "    item_features=item_features,\n",
    "    test_start=\"2019-10-01\",\n",
    "    test_size=0.3,\n",
    "    k=3, context='no_context',\n",
    "    to_filter_seen_items=True,\n",
    "    n_trials=1, \n",
    "    n_jobs=1,\n",
    "    how_to_split='by_date'\n",
    ")\n",
    "\n",
    "best_params"
   ]
  },
  {
   "cell_type": "code",
   "execution_count": 52,
   "metadata": {},
   "outputs": [
    {
     "data": {
      "text/html": [
       "<div>\n",
       "<style scoped>\n",
       "    .dataframe tbody tr th:only-of-type {\n",
       "        vertical-align: middle;\n",
       "    }\n",
       "\n",
       "    .dataframe tbody tr th {\n",
       "        vertical-align: top;\n",
       "    }\n",
       "\n",
       "    .dataframe thead tr th {\n",
       "        text-align: left;\n",
       "    }\n",
       "</style>\n",
       "<table border=\"1\" class=\"dataframe\">\n",
       "  <thead>\n",
       "    <tr>\n",
       "      <th></th>\n",
       "      <th>number</th>\n",
       "      <th>state</th>\n",
       "      <th>value</th>\n",
       "      <th>datetime_start</th>\n",
       "      <th>datetime_complete</th>\n",
       "      <th colspan=\"2\" halign=\"left\">params</th>\n",
       "      <th colspan=\"4\" halign=\"left\">user_attrs</th>\n",
       "      <th>system_attrs</th>\n",
       "    </tr>\n",
       "    <tr>\n",
       "      <th></th>\n",
       "      <th></th>\n",
       "      <th></th>\n",
       "      <th></th>\n",
       "      <th></th>\n",
       "      <th></th>\n",
       "      <th>elastic_net_param</th>\n",
       "      <th>lambda_param</th>\n",
       "      <th>HitRate@k</th>\n",
       "      <th>MAP@k</th>\n",
       "      <th>nDCG@k</th>\n",
       "      <th>precision@k</th>\n",
       "      <th>_number</th>\n",
       "    </tr>\n",
       "  </thead>\n",
       "  <tbody>\n",
       "    <tr>\n",
       "      <th>0</th>\n",
       "      <td>0</td>\n",
       "      <td>TrialState.COMPLETE</td>\n",
       "      <td>0.027973</td>\n",
       "      <td>2019-11-13 15:47:02.044383</td>\n",
       "      <td>2019-11-13 17:09:47.725916</td>\n",
       "      <td>0.80303</td>\n",
       "      <td>0.000612</td>\n",
       "      <td>0.027973</td>\n",
       "      <td>0.006301</td>\n",
       "      <td>0.010679</td>\n",
       "      <td>0.009324</td>\n",
       "      <td>0</td>\n",
       "    </tr>\n",
       "  </tbody>\n",
       "</table>\n",
       "</div>"
      ],
      "text/plain": [
       "  number                state     value             datetime_start  \\\n",
       "                                                                     \n",
       "0  0      TrialState.COMPLETE  0.027973 2019-11-13 15:47:02.044383   \n",
       "\n",
       "           datetime_complete            params              user_attrs  \\\n",
       "                             elastic_net_param lambda_param  HitRate@k   \n",
       "0 2019-11-13 17:09:47.725916  0.80303           0.000612     0.027973    \n",
       "\n",
       "                                  system_attrs  \n",
       "      MAP@k    nDCG@k precision@k      _number  \n",
       "0  0.006301  0.010679  0.009324    0            "
      ]
     },
     "execution_count": 52,
     "metadata": {},
     "output_type": "execute_result"
    }
   ],
   "source": [
    "results = pd.concat([linear_scenario.study.trials_dataframe(),results], axis=0)\n",
    "\n",
    "results"
   ]
  },
  {
   "cell_type": "code",
   "execution_count": 55,
   "metadata": {
    "scrolled": false
   },
   "outputs": [
    {
     "data": {
      "image/png": "[encoded data removed]",
      "text/plain": [
       "<Figure size 504x360 with 1 Axes>"
      ]
     },
     "metadata": {
      "needs_background": "light"
     },
     "output_type": "display_data"
    }
   ],
   "source": [
    "def plot_result_value(results):\n",
    "    results['value_name'] = (results['params']['lambda_param'].astype(str)\n",
    "                         .str.cat(results['params']['elastic_net_param'].astype(str), sep=', '))\n",
    "    \n",
    "    plt.figure(figsize=(7, 5))\n",
    "    ax = results['value'].plot(kind='bar', xticks=range(len(results)), rot=0)\n",
    "    ax.set_xticklabels(results['value_name'].values)\n",
    "\n",
    "    plt.xlabel(r'$(\\alpha, \\beta)$' + ' пары')\n",
    "    plt.ylabel('Значение метрики')\n",
    "    plt.title('Результаты эксперимента')\n",
    "\n",
    "    plt.show()\n",
    "    \n",
    "\n",
    "plot_result_value(results)"
   ]
  },
  {
   "cell_type": "code",
   "execution_count": 56,
   "metadata": {},
   "outputs": [
    {
     "name": "stderr",
     "output_type": "stream",
     "text": [
      "13-Nov-19 17:12:41, root, DEBUG: Проверка датафреймов\n",
      "13-Nov-19 17:13:41, root, DEBUG: Предварительная стадия обучения (pre-fit)\n",
      "13-Nov-19 17:13:41, root, DEBUG: Основная стадия обучения (fit)\n",
      "13-Nov-19 17:36:01, root, DEBUG: Проверка датафреймов\n",
      "13-Nov-19 17:37:27, root, DEBUG: Выделение дефолтных юзеров\n",
      "13-Nov-19 17:37:27, root, DEBUG: Выделение дефолтных айтемов\n"
     ]
    },
    {
     "name": "stdout",
     "output_type": "stream",
     "text": [
      "CPU times: user 1.04 s, sys: 136 ms, total: 1.17 s\n",
      "Wall time: 24min 47s\n"
     ]
    }
   ],
   "source": [
    "%%time\n",
    "\n",
    "best_recs = linear_scenario.production(\n",
    "    best_params,\n",
    "    df,\n",
    "    users=None,\n",
    "    items=None,\n",
    "    user_features=user_features,\n",
    "    item_features=item_features,\n",
    "    k=10,\n",
    "    context='no_context',\n",
    "    to_filter_seen_items=True\n",
    ").cache()"
   ]
  },
  {
   "cell_type": "markdown",
   "metadata": {},
   "source": [
    "## Рекомендатель на основе популярности объектов (бейзлайн) <a name='popular-recommender'></a>"
   ]
  },
  {
   "cell_type": "markdown",
   "metadata": {},
   "source": [
    "### Запуск single модели <a name='popular-recommender-single'></a>"
   ]
  },
  {
   "cell_type": "code",
   "execution_count": 61,
   "metadata": {},
   "outputs": [],
   "source": [
    "pr = PopularRecommender(spark, alpha=0, beta=0)"
   ]
  },
  {
   "cell_type": "code",
   "execution_count": 66,
   "metadata": {},
   "outputs": [
    {
     "name": "stderr",
     "output_type": "stream",
     "text": [
      "13-Nov-19 17:54:03, root, DEBUG: Проверка датафреймов\n",
      "13-Nov-19 17:54:04, root, DEBUG: Предварительная стадия обучения (pre-fit)\n",
      "13-Nov-19 17:54:05, root, DEBUG: Среднее количество items у каждого user: 3.0\n",
      "13-Nov-19 17:54:05, root, DEBUG: Основная стадия обучения (fit)\n"
     ]
    },
    {
     "name": "stdout",
     "output_type": "stream",
     "text": [
      "CPU times: user 28 ms, sys: 0 ns, total: 28 ms\n",
      "Wall time: 2.15 s\n"
     ]
    }
   ],
   "source": [
    "%%time\n",
    "\n",
    "pr.fit(\n",
    "    log=train.filter(\"relevance == 1\"),\n",
    "    user_features=None,\n",
    "    item_features=None,\n",
    "    path=None\n",
    ")"
   ]
  },
  {
   "cell_type": "code",
   "execution_count": 67,
   "metadata": {},
   "outputs": [
    {
     "name": "stderr",
     "output_type": "stream",
     "text": [
      "13-Nov-19 17:54:05, root, DEBUG: Проверка датафреймов\n",
      "13-Nov-19 17:54:07, root, DEBUG: Количество items после фильтрации: 13\n"
     ]
    },
    {
     "name": "stdout",
     "output_type": "stream",
     "text": [
      "CPU times: user 24 ms, sys: 4 ms, total: 28 ms\n",
      "Wall time: 1.66 s\n"
     ]
    }
   ],
   "source": [
    "%%time\n",
    "\n",
    "recs = pr.predict(\n",
    "    k=10,\n",
    "    users=test.select('user_id').distinct(),\n",
    "    items=test.select('item_id').distinct(),\n",
    "    context='no_context',\n",
    "    log=train,\n",
    "    user_features=None,\n",
    "    item_features=None,\n",
    "    to_filter_seen_items=True,\n",
    "    path=None\n",
    ").cache()"
   ]
  },
  {
   "cell_type": "code",
   "execution_count": 68,
   "metadata": {},
   "outputs": [
    {
     "name": "stdout",
     "output_type": "stream",
     "text": [
      "+-------+---------+----------+--------------------+\n",
      "|item_id|  user_id|   context|           relevance|\n",
      "+-------+---------+----------+--------------------+\n",
      "|  12299|100648575|no_context| 0.05722361757103327|\n",
      "|  12542|100648575|no_context|0.048543625421663385|\n",
      "|  12394|100648575|no_context|0.039158814770862686|\n",
      "|  12510|100648575|no_context| 0.03628671945759774|\n",
      "|  12386|100648575|no_context| 0.03338298198725909|\n",
      "+-------+---------+----------+--------------------+\n",
      "only showing top 5 rows\n",
      "\n"
     ]
    }
   ],
   "source": [
    "recs.show(5)"
   ]
  },
  {
   "cell_type": "code",
   "execution_count": 70,
   "metadata": {},
   "outputs": [
    {
     "name": "stdout",
     "output_type": "stream",
     "text": [
      "CPU times: user 4 ms, sys: 0 ns, total: 4 ms\n",
      "Wall time: 3.11 s\n"
     ]
    },
    {
     "data": {
      "text/plain": [
       "0.10433188673634923"
      ]
     },
     "execution_count": 70,
     "metadata": {},
     "output_type": "execute_result"
    }
   ],
   "source": [
    "%%time\n",
    "\n",
    "metric = Metrics.hit_rate_at_k(recs, test_positive, k=10)\n",
    "metric"
   ]
  }
 ],
 "metadata": {
  "kernelspec": {
   "display_name": "Python 3",
   "language": "python",
   "name": "python3"
  },
  "language_info": {
   "codemirror_mode": {
    "name": "ipython",
    "version": 3
   },
   "file_extension": ".py",
   "mimetype": "text/x-python",
   "name": "python",
   "nbconvert_exporter": "python",
   "pygments_lexer": "ipython3",
   "version": "3.6.5"
  },
  "pycharm": {
   "stem_cell": {
    "cell_type": "raw",
    "metadata": {
     "collapsed": false
    },
    "source": []
   }
  }
 },
 "nbformat": 4,
 "nbformat_minor": 2
}
