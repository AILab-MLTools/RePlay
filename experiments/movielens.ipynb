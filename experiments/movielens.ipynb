{
 "cells": [
  {
   "cell_type": "markdown",
   "metadata": {},
   "source": [
    "# MovieLens"
   ]
  },
  {
   "cell_type": "code",
   "execution_count": 1,
   "metadata": {
    "pycharm": {
     "is_executing": false
    }
   },
   "outputs": [],
   "source": [
    "%load_ext autoreload\n",
    "%autoreload 2\n",
    "%matplotlib inline"
   ]
  },
  {
   "cell_type": "code",
   "execution_count": 2,
   "metadata": {
    "pycharm": {
     "is_executing": false
    }
   },
   "outputs": [],
   "source": [
    "import pandas as pd\n",
    "import numpy as np\n",
    "import matplotlib.pyplot as plt\n",
    "\n",
    "import os\n",
    "import sys\n",
    "import re\n",
    "import logging\n",
    "\n",
    "from collections import Counter\n",
    "\n",
    "from sklearn.feature_extraction.text import CountVectorizer\n",
    "\n",
    "from time import time\n",
    "\n",
    "from pyspark.sql import SparkSession\n",
    "from pyspark.sql import functions as sf"
   ]
  },
  {
   "cell_type": "code",
   "execution_count": 3,
   "metadata": {
    "pycharm": {
     "is_executing": false
    }
   },
   "outputs": [],
   "source": [
    "parent_dir = os.path.split(os.getcwd())[0]\n",
    "if parent_dir not in sys.path:\n",
    "    sys.path.append(parent_dir)"
   ]
  },
  {
   "cell_type": "code",
   "execution_count": 5,
   "metadata": {
    "pycharm": {
     "is_executing": false
    }
   },
   "outputs": [],
   "source": [
    "from sponge_bob_magic.data_preparator.data_preparator import DataPreparator\n",
    "from sponge_bob_magic.scenarios.popular_scenario import PopularScenario\n",
    "from sponge_bob_magic.models.popular_recomennder import PopularRecommender\n",
    "from sponge_bob_magic.metrics.metrics import Metrics\n",
    "from sponge_bob_magic.validation_schemes import ValidationSchemes"
   ]
  },
  {
   "cell_type": "code",
   "execution_count": 6,
   "metadata": {
    "pycharm": {
     "is_executing": false
    }
   },
   "outputs": [],
   "source": [
    "# Отображение максимальной ширины колонок в pandas датафреймах\n",
    "pd.options.display.max_colwidth = -1"
   ]
  },
  {
   "cell_type": "code",
   "execution_count": 7,
   "metadata": {
    "pycharm": {
     "is_executing": false
    }
   },
   "outputs": [],
   "source": [
    "spark_memory = \"2g\"\n",
    "spark_cores = \"*\"\n",
    "\n",
    "spark = (\n",
    "    SparkSession\n",
    "    .builder\n",
    "    .config('spark.driver.memory', spark_memory)\n",
    "    .master(f'local[{spark_cores}]')\n",
    "    .enableHiveSupport()\n",
    "    .getOrCreate()\n",
    ")"
   ]
  },
  {
   "cell_type": "code",
   "execution_count": 8,
   "metadata": {
    "pycharm": {
     "is_executing": false
    }
   },
   "outputs": [],
   "source": [
    "spark_logger = logging.getLogger('py4j')\n",
    "spark_logger.setLevel(logging.WARN)"
   ]
  },
  {
   "cell_type": "code",
   "execution_count": 9,
   "metadata": {
    "pycharm": {
     "is_executing": false
    }
   },
   "outputs": [],
   "source": [
    "logger = logging.getLogger()\n",
    "formatter = logging.Formatter('%(asctime)s, %(name)s, %(levelname)s: %(message)s',\n",
    "                              datefmt='%d-%b-%y %H:%M:%S')\n",
    "hdlr = logging.StreamHandler()\n",
    "hdlr.setFormatter(formatter)\n",
    "logger.addHandler(hdlr)\n",
    "logger.setLevel(logging.DEBUG)"
   ]
  },
  {
   "cell_type": "markdown",
   "metadata": {},
   "source": [
    "## Основные данные и пути"
   ]
  },
  {
   "cell_type": "code",
   "execution_count": 10,
   "metadata": {
    "pycharm": {
     "is_executing": false
    }
   },
   "outputs": [],
   "source": [
    "path_data = '../data/movielens/ml-20m'\n",
    "path_ratings = os.path.join(path_data, 'ratings.csv')\n",
    "path_checkpoints = '../data/checkpoints'"
   ]
  },
  {
   "cell_type": "code",
   "execution_count": 11,
   "metadata": {
    "pycharm": {
     "is_executing": false
    }
   },
   "outputs": [],
   "source": [
    "spark.sparkContext.setCheckpointDir(path_checkpoints)"
   ]
  },
  {
   "cell_type": "code",
   "execution_count": 12,
   "metadata": {
    "pycharm": {
     "is_executing": false
    }
   },
   "outputs": [
    {
     "name": "stdout",
     "output_type": "stream",
     "text": [
      "CPU times: user 3.81 s, sys: 876 ms, total: 4.69 s\n",
      "Wall time: 4.25 s\n"
     ]
    }
   ],
   "source": [
    "%%time\n",
    "\n",
    "ratings = pd.read_csv(\n",
    "    path_ratings,\n",
    "    dtype={\n",
    "        'element_uid': np.uint16,\n",
    "        'user_uid': np.uint32,\n",
    "        'consumption_mode': 'category',\n",
    "        'ts': np.float64,\n",
    "        'watched_time': np.uint64,\n",
    "        'device_type': np.uint8,\n",
    "        'device_manufacturer': np.uint8\n",
    "    }\n",
    ")"
   ]
  },
  {
   "cell_type": "code",
   "execution_count": 13,
   "metadata": {
    "pycharm": {
     "is_executing": false
    }
   },
   "outputs": [
    {
     "data": {
      "text/html": [
       "<div>\n",
       "<style scoped>\n",
       "    .dataframe tbody tr th:only-of-type {\n",
       "        vertical-align: middle;\n",
       "    }\n",
       "\n",
       "    .dataframe tbody tr th {\n",
       "        vertical-align: top;\n",
       "    }\n",
       "\n",
       "    .dataframe thead th {\n",
       "        text-align: right;\n",
       "    }\n",
       "</style>\n",
       "<table border=\"1\" class=\"dataframe\">\n",
       "  <thead>\n",
       "    <tr style=\"text-align: right;\">\n",
       "      <th></th>\n",
       "      <th>userId</th>\n",
       "      <th>movieId</th>\n",
       "      <th>rating</th>\n",
       "      <th>timestamp</th>\n",
       "    </tr>\n",
       "  </thead>\n",
       "  <tbody>\n",
       "    <tr>\n",
       "      <td>0</td>\n",
       "      <td>1</td>\n",
       "      <td>2</td>\n",
       "      <td>3.5</td>\n",
       "      <td>1112486027</td>\n",
       "    </tr>\n",
       "    <tr>\n",
       "      <td>1</td>\n",
       "      <td>1</td>\n",
       "      <td>29</td>\n",
       "      <td>3.5</td>\n",
       "      <td>1112484676</td>\n",
       "    </tr>\n",
       "    <tr>\n",
       "      <td>2</td>\n",
       "      <td>1</td>\n",
       "      <td>32</td>\n",
       "      <td>3.5</td>\n",
       "      <td>1112484819</td>\n",
       "    </tr>\n",
       "    <tr>\n",
       "      <td>3</td>\n",
       "      <td>1</td>\n",
       "      <td>47</td>\n",
       "      <td>3.5</td>\n",
       "      <td>1112484727</td>\n",
       "    </tr>\n",
       "    <tr>\n",
       "      <td>4</td>\n",
       "      <td>1</td>\n",
       "      <td>50</td>\n",
       "      <td>3.5</td>\n",
       "      <td>1112484580</td>\n",
       "    </tr>\n",
       "  </tbody>\n",
       "</table>\n",
       "</div>"
      ],
      "text/plain": [
       "   userId  movieId  rating   timestamp\n",
       "0  1       2        3.5     1112486027\n",
       "1  1       29       3.5     1112484676\n",
       "2  1       32       3.5     1112484819\n",
       "3  1       47       3.5     1112484727\n",
       "4  1       50       3.5     1112484580"
      ]
     },
     "execution_count": 13,
     "metadata": {},
     "output_type": "execute_result"
    }
   ],
   "source": [
    "ratings.head()"
   ]
  },
  {
   "cell_type": "code",
   "execution_count": 14,
   "metadata": {
    "pycharm": {
     "is_executing": false
    }
   },
   "outputs": [
    {
     "data": {
      "text/plain": [
       "userId       138493  \n",
       "movieId      26744   \n",
       "rating       10      \n",
       "timestamp    15351121\n",
       "dtype: int64"
      ]
     },
     "execution_count": 14,
     "metadata": {},
     "output_type": "execute_result"
    }
   ],
   "source": [
    "ratings.nunique()"
   ]
  },
  {
   "cell_type": "code",
   "execution_count": 15,
   "metadata": {},
   "outputs": [
    {
     "data": {
      "text/plain": [
       "20000263"
      ]
     },
     "execution_count": 15,
     "metadata": {},
     "output_type": "execute_result"
    }
   ],
   "source": [
    "len(ratings)"
   ]
  },
  {
   "cell_type": "markdown",
   "metadata": {},
   "source": [
    "## Подготовка данных"
   ]
  },
  {
   "cell_type": "code",
   "execution_count": 16,
   "metadata": {
    "pycharm": {
     "is_executing": false
    }
   },
   "outputs": [],
   "source": [
    "dp = DataPreparator(spark)"
   ]
  },
  {
   "cell_type": "code",
   "execution_count": 17,
   "metadata": {
    "pycharm": {
     "is_executing": false
    }
   },
   "outputs": [],
   "source": [
    "df = dp.transform_log(\n",
    "    path_ratings,\n",
    "    format_type='csv',\n",
    "    columns_names={\n",
    "        'user_id': 'userId', \n",
    "        'item_id': 'movieId',\n",
    "    },\n",
    "    date_format=None,\n",
    "    header=True\n",
    ")"
   ]
  },
  {
   "cell_type": "code",
   "execution_count": 18,
   "metadata": {
    "pycharm": {
     "is_executing": false
    }
   },
   "outputs": [
    {
     "name": "stdout",
     "output_type": "stream",
     "text": [
      "root\n",
      " |-- user_id: string (nullable = true)\n",
      " |-- item_id: string (nullable = true)\n",
      " |-- timestamp: timestamp (nullable = true)\n",
      " |-- context: string (nullable = false)\n",
      " |-- relevance: float (nullable = false)\n",
      "\n"
     ]
    }
   ],
   "source": [
    "df.printSchema()"
   ]
  },
  {
   "cell_type": "code",
   "execution_count": 19,
   "metadata": {
    "pycharm": {
     "is_executing": false
    },
    "scrolled": false
   },
   "outputs": [
    {
     "name": "stdout",
     "output_type": "stream",
     "text": [
      "+-------+-------+-------------------+----------+---------+\n",
      "|user_id|item_id|          timestamp|   context|relevance|\n",
      "+-------+-------+-------------------+----------+---------+\n",
      "|      1|      2|1999-05-01 00:00:00|no_context|      1.0|\n",
      "|      1|     29|1999-05-01 00:00:00|no_context|      1.0|\n",
      "|      1|     32|1999-05-01 00:00:00|no_context|      1.0|\n",
      "+-------+-------+-------------------+----------+---------+\n",
      "only showing top 3 rows\n",
      "\n"
     ]
    }
   ],
   "source": [
    "df.show(3)"
   ]
  },
  {
   "cell_type": "markdown",
   "metadata": {},
   "source": [
    "## Рекомендации популярных объектов"
   ]
  },
  {
   "cell_type": "code",
   "execution_count": 20,
   "metadata": {},
   "outputs": [],
   "source": [
    "pr = PopularRecommender(spark, alpha=0, beta=0)"
   ]
  },
  {
   "cell_type": "code",
   "execution_count": 21,
   "metadata": {},
   "outputs": [
    {
     "name": "stderr",
     "output_type": "stream",
     "text": [
      "14-Oct-19 11:50:57, root, DEBUG: Среднее количество items у каждого user: 145.0\n"
     ]
    },
    {
     "name": "stdout",
     "output_type": "stream",
     "text": [
      "CPU times: user 21.3 ms, sys: 7.85 ms, total: 29.2 ms\n",
      "Wall time: 24 s\n"
     ]
    }
   ],
   "source": [
    "%%time\n",
    "\n",
    "pr.fit(\n",
    "    log=df,\n",
    "    user_features=None,\n",
    "    item_features=None,\n",
    "    path=None\n",
    ")"
   ]
  },
  {
   "cell_type": "code",
   "execution_count": null,
   "metadata": {},
   "outputs": [],
   "source": [
    "%%time\n",
    "\n",
    "recs = pr.predict(\n",
    "    k=100,\n",
    "    users=None,\n",
    "    items=None,\n",
    "    context='no_context',\n",
    "    log=df,\n",
    "    user_features=None,\n",
    "    item_features=None,\n",
    "    to_filter_seen_items=True,\n",
    "    path=None\n",
    ")"
   ]
  },
  {
   "cell_type": "code",
   "execution_count": null,
   "metadata": {},
   "outputs": [],
   "source": [
    "recs.show(5)"
   ]
  },
  {
   "cell_type": "code",
   "execution_count": 33,
   "metadata": {},
   "outputs": [
    {
     "name": "stdout",
     "output_type": "stream",
     "text": [
      "CPU times: user 16.8 ms, sys: 8.74 ms, total: 25.6 ms\n",
      "Wall time: 2min 12s\n"
     ]
    },
    {
     "data": {
      "text/plain": [
       "0.002462218307062451"
      ]
     },
     "execution_count": 33,
     "metadata": {},
     "output_type": "execute_result"
    }
   ],
   "source": [
    "%%time\n",
    "\n",
    "metric = Metrics.hit_rate_at_k(recs, df, k=10)\n",
    "metric"
   ]
  },
  {
   "cell_type": "markdown",
   "metadata": {},
   "source": [
    "## Сценарий с популярной моделью"
   ]
  },
  {
   "cell_type": "code",
   "execution_count": 48,
   "metadata": {
    "pycharm": {
     "is_executing": false
    }
   },
   "outputs": [
    {
     "data": {
      "text/plain": [
       "DataFrame[user_id: string, item_id: string, timestamp: timestamp, context: string, relevance: float]"
      ]
     },
     "execution_count": 48,
     "metadata": {},
     "output_type": "execute_result"
    }
   ],
   "source": [
    "df_short = df.limit(10)\n",
    "df_short.checkpoint()"
   ]
  },
  {
   "cell_type": "code",
   "execution_count": 38,
   "metadata": {
    "pycharm": {
     "is_executing": false
    }
   },
   "outputs": [],
   "source": [
    "popular_scenario = PopularScenario(spark)\n",
    "popular_params_grid = {'alpha': (500, 1500), 'beta': (500, 1500)}\n",
    "# popular_scenario.seed = 9876"
   ]
  },
  {
   "cell_type": "code",
   "execution_count": 32,
   "metadata": {
    "pycharm": {
     "is_executing": false
    },
    "scrolled": false
   },
   "outputs": [
    {
     "name": "stderr",
     "output_type": "stream",
     "text": [
      "11-Oct-19 15:16:45, root, DEBUG: Деление на трейн и тест\n",
      "11-Oct-19 15:17:44, root, DEBUG: Размер трейна:      15999659\n",
      "11-Oct-19 15:17:50, root, DEBUG: Размер теста_инпут: 15999659\n",
      "11-Oct-19 15:18:04, root, DEBUG: Размер теста:       3999576\n",
      "11-Oct-19 15:19:05, root, DEBUG: Медиана количества items у каждого user: 116.0\n",
      "11-Oct-19 15:19:13, root, DEBUG: Начало оптимизации параметров\n",
      "11-Oct-19 15:19:13, root, DEBUG: Предикт модели в оптимизации\n",
      "11-Oct-19 15:19:13, root, DEBUG: Проверка датафреймов\n",
      "11-Oct-19 15:20:11, root, DEBUG: Количество items после фильтрации: 216\n",
      "11-Oct-19 15:20:50, root, DEBUG: Длина recs: 29876040\n",
      "11-Oct-19 15:22:29, root, DEBUG: Подсчет метрики в оптимизации\n",
      "11-Oct-19 15:26:15, root, DEBUG: Метрика и параметры: (0.06568340382460326, {'alpha': 417, 'beta': 439})\n",
      "\u001b[32m[I 2019-10-11 15:26:15,270]\u001b[0m Finished trial#0 resulted in value: 0.06568340382460326. Current best value is 0.06568340382460326 with parameters: {'alpha': 417, 'beta': 439}.\u001b[0m\n",
      "11-Oct-19 15:26:15, root, DEBUG: Предикт модели в оптимизации\n",
      "11-Oct-19 15:26:15, root, DEBUG: Проверка датафреймов\n",
      "11-Oct-19 15:27:22, root, DEBUG: Количество items после фильтрации: 216\n",
      "11-Oct-19 15:28:01, root, DEBUG: Длина recs: 29876040\n",
      "11-Oct-19 15:29:39, root, DEBUG: Подсчет метрики в оптимизации\n",
      "11-Oct-19 15:32:52, root, DEBUG: Метрика и параметры: (0.06568340382460326, {'alpha': 269, 'beta': 364})\n",
      "\u001b[32m[I 2019-10-11 15:32:52,837]\u001b[0m Finished trial#1 resulted in value: 0.06568340382460326. Current best value is 0.06568340382460326 with parameters: {'alpha': 417, 'beta': 439}.\u001b[0m\n",
      "11-Oct-19 15:32:52, root, DEBUG: Предикт модели в оптимизации\n",
      "11-Oct-19 15:32:52, root, DEBUG: Проверка датафреймов\n",
      "11-Oct-19 15:33:52, root, DEBUG: Количество items после фильтрации: 216\n",
      "11-Oct-19 15:34:32, root, DEBUG: Длина recs: 29876040\n",
      "11-Oct-19 15:36:13, root, DEBUG: Подсчет метрики в оптимизации\n",
      "11-Oct-19 15:39:27, root, DEBUG: Метрика и параметры: (0.06568340382460326, {'alpha': 147, 'beta': 203})\n",
      "\u001b[32m[I 2019-10-11 15:39:27,552]\u001b[0m Finished trial#2 resulted in value: 0.06568340382460326. Current best value is 0.06568340382460326 with parameters: {'alpha': 417, 'beta': 439}.\u001b[0m\n",
      "11-Oct-19 15:39:27, root, DEBUG: Предикт модели в оптимизации\n",
      "11-Oct-19 15:39:27, root, DEBUG: Проверка датафреймов\n",
      "11-Oct-19 15:40:26, root, DEBUG: Количество items после фильтрации: 216\n",
      "11-Oct-19 15:41:06, root, DEBUG: Длина recs: 29876040\n",
      "11-Oct-19 15:42:43, root, DEBUG: Подсчет метрики в оптимизации\n",
      "11-Oct-19 15:45:56, root, DEBUG: Метрика и параметры: (0.06568340382460326, {'alpha': 399, 'beta': 18})\n",
      "\u001b[32m[I 2019-10-11 15:45:56,756]\u001b[0m Finished trial#3 resulted in value: 0.06568340382460326. Current best value is 0.06568340382460326 with parameters: {'alpha': 417, 'beta': 439}.\u001b[0m\n",
      "11-Oct-19 15:45:56, root, DEBUG: Предикт модели в оптимизации\n",
      "11-Oct-19 15:45:56, root, DEBUG: Проверка датафреймов\n",
      "11-Oct-19 15:46:54, root, DEBUG: Количество items после фильтрации: 216\n",
      "11-Oct-19 15:47:34, root, DEBUG: Длина recs: 29876040\n",
      "11-Oct-19 15:49:12, root, DEBUG: Подсчет метрики в оптимизации\n",
      "11-Oct-19 15:52:26, root, DEBUG: Метрика и параметры: (0.06568340382460326, {'alpha': 126, 'beta': 217})\n",
      "\u001b[32m[I 2019-10-11 15:52:26,318]\u001b[0m Finished trial#4 resulted in value: 0.06568340382460326. Current best value is 0.06568340382460326 with parameters: {'alpha': 417, 'beta': 439}.\u001b[0m\n",
      "11-Oct-19 15:52:26, root, DEBUG: Лучшие значения метрики: 0.06568340382460326\n",
      "11-Oct-19 15:52:26, root, DEBUG: Лучшие параметры: {'alpha': 417, 'beta': 439}\n"
     ]
    },
    {
     "name": "stdout",
     "output_type": "stream",
     "text": [
      "CPU times: user 595 ms, sys: 156 ms, total: 751 ms\n",
      "Wall time: 35min 40s\n"
     ]
    }
   ],
   "source": [
    "%%time\n",
    "\n",
    "best_params = popular_scenario.research(\n",
    "    popular_params_grid,\n",
    "    df,\n",
    "    users=None, items=None,\n",
    "    user_features=None,\n",
    "    item_features=None,\n",
    "    test_start=None,\n",
    "    test_size=0.2,\n",
    "    k=100, context='no_context',\n",
    "    to_filter_seen_items=True,\n",
    "    n_trials=5, n_jobs=1,\n",
    "    how_to_split='randomly'\n",
    ")"
   ]
  },
  {
   "cell_type": "code",
   "execution_count": 33,
   "metadata": {},
   "outputs": [
    {
     "data": {
      "text/plain": [
       "{'alpha': 417, 'beta': 439}"
      ]
     },
     "execution_count": 33,
     "metadata": {},
     "output_type": "execute_result"
    }
   ],
   "source": [
    "best_params"
   ]
  },
  {
   "cell_type": "code",
   "execution_count": 40,
   "metadata": {},
   "outputs": [
    {
     "data": {
      "text/html": [
       "<div>\n",
       "<style scoped>\n",
       "    .dataframe tbody tr th:only-of-type {\n",
       "        vertical-align: middle;\n",
       "    }\n",
       "\n",
       "    .dataframe tbody tr th {\n",
       "        vertical-align: top;\n",
       "    }\n",
       "\n",
       "    .dataframe thead tr th {\n",
       "        text-align: left;\n",
       "    }\n",
       "</style>\n",
       "<table border=\"1\" class=\"dataframe\">\n",
       "  <thead>\n",
       "    <tr>\n",
       "      <th></th>\n",
       "      <th>number</th>\n",
       "      <th>state</th>\n",
       "      <th>value</th>\n",
       "      <th>datetime_start</th>\n",
       "      <th>datetime_complete</th>\n",
       "      <th colspan=\"2\" halign=\"left\">params</th>\n",
       "      <th>user_attrs</th>\n",
       "      <th>system_attrs</th>\n",
       "    </tr>\n",
       "    <tr>\n",
       "      <th></th>\n",
       "      <th></th>\n",
       "      <th></th>\n",
       "      <th></th>\n",
       "      <th></th>\n",
       "      <th></th>\n",
       "      <th>alpha</th>\n",
       "      <th>beta</th>\n",
       "      <th>some_metric</th>\n",
       "      <th>_number</th>\n",
       "    </tr>\n",
       "  </thead>\n",
       "  <tbody>\n",
       "    <tr>\n",
       "      <td>0</td>\n",
       "      <td>0</td>\n",
       "      <td>TrialState.COMPLETE</td>\n",
       "      <td>0.065683</td>\n",
       "      <td>2019-10-11 17:22:19.582548</td>\n",
       "      <td>2019-10-11 17:29:00.083587</td>\n",
       "      <td>1072</td>\n",
       "      <td>1190</td>\n",
       "      <td>1.0</td>\n",
       "      <td>0</td>\n",
       "    </tr>\n",
       "    <tr>\n",
       "      <td>1</td>\n",
       "      <td>1</td>\n",
       "      <td>TrialState.COMPLETE</td>\n",
       "      <td>0.065683</td>\n",
       "      <td>2019-10-11 17:29:00.084536</td>\n",
       "      <td>2019-10-11 17:35:29.233421</td>\n",
       "      <td>1426</td>\n",
       "      <td>1301</td>\n",
       "      <td>1.0</td>\n",
       "      <td>1</td>\n",
       "    </tr>\n",
       "    <tr>\n",
       "      <td>2</td>\n",
       "      <td>2</td>\n",
       "      <td>TrialState.COMPLETE</td>\n",
       "      <td>0.065683</td>\n",
       "      <td>2019-10-11 17:35:29.234527</td>\n",
       "      <td>2019-10-11 17:42:03.173242</td>\n",
       "      <td>1205</td>\n",
       "      <td>539</td>\n",
       "      <td>1.0</td>\n",
       "      <td>2</td>\n",
       "    </tr>\n",
       "    <tr>\n",
       "      <td>3</td>\n",
       "      <td>3</td>\n",
       "      <td>TrialState.COMPLETE</td>\n",
       "      <td>0.065683</td>\n",
       "      <td>2019-10-11 17:42:03.174263</td>\n",
       "      <td>2019-10-11 17:48:33.698993</td>\n",
       "      <td>1412</td>\n",
       "      <td>1173</td>\n",
       "      <td>1.0</td>\n",
       "      <td>3</td>\n",
       "    </tr>\n",
       "    <tr>\n",
       "      <td>4</td>\n",
       "      <td>4</td>\n",
       "      <td>TrialState.COMPLETE</td>\n",
       "      <td>0.065683</td>\n",
       "      <td>2019-10-11 17:48:33.700309</td>\n",
       "      <td>2019-10-11 17:55:01.109490</td>\n",
       "      <td>1073</td>\n",
       "      <td>1345</td>\n",
       "      <td>1.0</td>\n",
       "      <td>4</td>\n",
       "    </tr>\n",
       "  </tbody>\n",
       "</table>\n",
       "</div>"
      ],
      "text/plain": [
       "  number                state     value             datetime_start  \\\n",
       "                                                                     \n",
       "0  0      TrialState.COMPLETE  0.065683 2019-10-11 17:22:19.582548   \n",
       "1  1      TrialState.COMPLETE  0.065683 2019-10-11 17:29:00.084536   \n",
       "2  2      TrialState.COMPLETE  0.065683 2019-10-11 17:35:29.234527   \n",
       "3  3      TrialState.COMPLETE  0.065683 2019-10-11 17:42:03.174263   \n",
       "4  4      TrialState.COMPLETE  0.065683 2019-10-11 17:48:33.700309   \n",
       "\n",
       "           datetime_complete params        user_attrs system_attrs  \n",
       "                              alpha  beta some_metric      _number  \n",
       "0 2019-10-11 17:29:00.083587  1072   1190  1.0         0            \n",
       "1 2019-10-11 17:35:29.233421  1426   1301  1.0         1            \n",
       "2 2019-10-11 17:42:03.173242  1205   539   1.0         2            \n",
       "3 2019-10-11 17:48:33.698993  1412   1173  1.0         3            \n",
       "4 2019-10-11 17:55:01.109490  1073   1345  1.0         4            "
      ]
     },
     "execution_count": 40,
     "metadata": {},
     "output_type": "execute_result"
    }
   ],
   "source": [
    "results = popular_scenario.study.trials_dataframe()\n",
    "\n",
    "results.head()"
   ]
  },
  {
   "cell_type": "code",
   "execution_count": null,
   "metadata": {
    "scrolled": false
   },
   "outputs": [],
   "source": [
    "def plot_result_value(results):\n",
    "    results['value_name'] = (results['params']['alpha'].astype(str)\n",
    "                         .str.cat(results['params']['beta'].astype(str), sep=', '))\n",
    "    \n",
    "    plt.figure(figsize=(7, 5))\n",
    "    ax = results['value'].plot(kind='bar', xticks=range(len(results)), rot=0)\n",
    "    ax.set_xticklabels(results['value_name'].values)\n",
    "\n",
    "    plt.xlabel(r'$(\\alpha, \\beta)$' + ' пары')\n",
    "    plt.ylabel('Значение метрики')\n",
    "    plt.title('Результаты экспериента')\n",
    "\n",
    "    plt.show()\n",
    "    \n",
    "\n",
    "plot_result_value(results)"
   ]
  },
  {
   "cell_type": "code",
   "execution_count": 41,
   "metadata": {},
   "outputs": [
    {
     "name": "stderr",
     "output_type": "stream",
     "text": [
      "10-Oct-19 12:38:45, root, DEBUG: Проверка датафреймов\n",
      "10-Oct-19 12:38:54, root, DEBUG: Выделение дефолтных юзеров\n",
      "10-Oct-19 12:38:54, root, DEBUG: Выделение дефолтных айтемов\n",
      "10-Oct-19 12:39:12, root, DEBUG: Среднее количество items у каждого user: 145.0\n",
      "10-Oct-19 12:39:25, root, DEBUG: Количество items после фильтрации: 155\n",
      "10-Oct-19 12:39:45, root, DEBUG: Длина recs: 21466415\n"
     ]
    },
    {
     "name": "stdout",
     "output_type": "stream",
     "text": [
      "CPU times: user 47.3 ms, sys: 15.7 ms, total: 62.9 ms\n",
      "Wall time: 2min 20s\n"
     ]
    }
   ],
   "source": [
    "%%time\n",
    "\n",
    "best_recs = popular_scenario.production(\n",
    "    best_params,\n",
    "    df,\n",
    "    users=None,\n",
    "    items=None,\n",
    "    user_features=None,\n",
    "    item_features=None,\n",
    "    k=10,\n",
    "    context='no_context',\n",
    "    to_filter_seen_items=True\n",
    ")"
   ]
  },
  {
   "cell_type": "code",
   "execution_count": 42,
   "metadata": {},
   "outputs": [
    {
     "name": "stdout",
     "output_type": "stream",
     "text": [
      "+-------+-------+----------+--------------------+\n",
      "|item_id|user_id|   context|           relevance|\n",
      "+-------+-------+----------+--------------------+\n",
      "|    296| 100010|no_context|0.003388085821507815|\n",
      "|    356| 100010|no_context|0.003331187738973...|\n",
      "|    318| 100010|no_context|0.003190892466923...|\n",
      "|    593| 100010|no_context|0.003187542579815...|\n",
      "|    480| 100010|no_context|0.003008348618651...|\n",
      "|    260| 100010|no_context|0.002747707402260...|\n",
      "|    110| 100010|no_context|0.002711058637323922|\n",
      "|    589| 100010|no_context|0.002634811206862329|\n",
      "|   2571| 100010|no_context|0.002589312740160...|\n",
      "|    527| 100010|no_context|0.002525314896887...|\n",
      "+-------+-------+----------+--------------------+\n",
      "only showing top 10 rows\n",
      "\n"
     ]
    }
   ],
   "source": [
    "best_recs.show(10)"
   ]
  }
 ],
 "metadata": {
  "kernelspec": {
   "display_name": "Python 3",
   "language": "python",
   "name": "python3"
  },
  "language_info": {
   "codemirror_mode": {
    "name": "ipython",
    "version": 3
   },
   "file_extension": ".py",
   "mimetype": "text/x-python",
   "name": "python",
   "nbconvert_exporter": "python",
   "pygments_lexer": "ipython3",
   "version": "3.7.4"
  },
  "pycharm": {
   "stem_cell": {
    "cell_type": "raw",
    "metadata": {
     "collapsed": false
    },
    "source": []
   }
  }
 },
 "nbformat": 4,
 "nbformat_minor": 2
}
