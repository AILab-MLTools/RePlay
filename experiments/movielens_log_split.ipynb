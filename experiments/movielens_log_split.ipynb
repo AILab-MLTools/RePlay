{
 "cells": [
  {
   "cell_type": "markdown",
   "metadata": {},
   "source": [
    "# MovieLens Dataset\n",
    "\n",
    "Лаботоратория по искусственному интеллекту, Сбербанк. \n",
    "\n",
    "Авторы: [Борис Шминке](<mailto:Shminke.B.A@omega.sbrf.ru>), [Роза Айсина](<mailto:Aysina.R.M@omega.sbrf.ru>). \n",
    "\n",
    "О чем: применение рекомендательных систем к датасету историй. Схема разбиения - делим лог на две рандомные части.\n",
    "\n",
    "Ссылка на данные: https://grouplens.org/datasets/movielens/20m/\n",
    "\n",
    "## Содержание\n",
    "\n",
    "1. [Импорты, создание спарк-сессии](#intro)\n",
    "2. [Подготовка данных](#data-preparator)\n",
    "3. [Рекомендатель на основе популярности](#popular-recommender)\n",
    "3.1. [Запуск single модели](#popular-recommender-single)\n",
    "3.2. [Подбор гиперпараметров](#popular-recommender-scenario)\n",
    "4. [Рекомендатель на основе k-NN для объектов](#knn-recommender)\n",
    "4.1. [Запуск single модели](#knn-recommender-single)\n",
    "4.2. [Подбор гиперпараметров](#knn-recommender-scenario)"
   ]
  },
  {
   "cell_type": "markdown",
   "metadata": {},
   "source": [
    "### Импорты, создание спарк-сессии <a name='intro'></a>"
   ]
  },
  {
   "cell_type": "code",
   "execution_count": 1,
   "metadata": {
    "pycharm": {
     "is_executing": false
    }
   },
   "outputs": [],
   "source": [
    "%load_ext autoreload\n",
    "%autoreload 2\n",
    "%matplotlib inline"
   ]
  },
  {
   "cell_type": "code",
   "execution_count": 2,
   "metadata": {
    "pycharm": {
     "is_executing": false
    }
   },
   "outputs": [],
   "source": [
    "import logging\n",
    "import os\n",
    "import re\n",
    "import sys\n",
    "from collections import Counter\n",
    "from datetime import datetime\n",
    "from time import time\n",
    "\n",
    "import matplotlib.pyplot as plt\n",
    "import numpy as np\n",
    "import pandas as pd\n",
    "from pyspark.sql import SparkSession\n",
    "from pyspark.sql import functions as sf\n",
    "from pyspark.sql.types import DoubleType, StringType, StructType, StructField, TimestampType\n",
    "\n",
    "from sklearn.feature_extraction.text import CountVectorizer"
   ]
  },
  {
   "cell_type": "code",
   "execution_count": 3,
   "metadata": {
    "pycharm": {
     "is_executing": false
    }
   },
   "outputs": [],
   "source": [
    "parent_dir = os.path.split(os.getcwd())[0]\n",
    "if parent_dir not in sys.path:\n",
    "    sys.path.append(parent_dir)"
   ]
  },
  {
   "cell_type": "code",
   "execution_count": 4,
   "metadata": {
    "pycharm": {
     "is_executing": false
    }
   },
   "outputs": [],
   "source": [
    "from sponge_bob_magic.data_preparator.data_preparator import DataPreparator\n",
    "from sponge_bob_magic.metrics.metrics import Metrics\n",
    "from sponge_bob_magic.models.popular_recomennder import PopularRecommender\n",
    "from sponge_bob_magic.models.knn_recommender import KNNRecommender\n",
    "from sponge_bob_magic.scenarios.knn_scenario import KNNScenario\n",
    "from sponge_bob_magic.scenarios.popular_scenario import PopularScenario\n",
    "from sponge_bob_magic.validation_schemes import ValidationSchemes"
   ]
  },
  {
   "cell_type": "code",
   "execution_count": 5,
   "metadata": {
    "pycharm": {
     "is_executing": false
    }
   },
   "outputs": [],
   "source": [
    "# отображение максимальной ширины колонок в pandas датафреймах\n",
    "pd.options.display.max_colwidth = -1"
   ]
  },
  {
   "cell_type": "code",
   "execution_count": 6,
   "metadata": {
    "pycharm": {
     "is_executing": false
    }
   },
   "outputs": [
    {
     "data": {
      "text/html": [
       "\n",
       "            <div>\n",
       "                <p><b>SparkSession - hive</b></p>\n",
       "                \n",
       "        <div>\n",
       "            <p><b>SparkContext</b></p>\n",
       "\n",
       "            <p><a href=\"http://parcae1.unassigned-domain:4041\">Spark UI</a></p>\n",
       "\n",
       "            <dl>\n",
       "              <dt>Version</dt>\n",
       "                <dd><code>v2.4.4</code></dd>\n",
       "              <dt>Master</dt>\n",
       "                <dd><code>local[*]</code></dd>\n",
       "              <dt>AppName</dt>\n",
       "                <dd><code>pyspark-shell</code></dd>\n",
       "            </dl>\n",
       "        </div>\n",
       "        \n",
       "            </div>\n",
       "        "
      ],
      "text/plain": [
       "<pyspark.sql.session.SparkSession at 0x7fc2576598d0>"
      ]
     },
     "execution_count": 6,
     "metadata": {},
     "output_type": "execute_result"
    }
   ],
   "source": [
    "spark_memory = \"200g\"\n",
    "spark_cores = \"*\"\n",
    "user_home = \"/datascc/aysina-rm\"\n",
    "\n",
    "spark = (\n",
    "    SparkSession\n",
    "    .builder\n",
    "    .config('spark.driver.memory', spark_memory)\n",
    "    .config('spark.local.dir', os.path.join(user_home, \"tmp\"))\n",
    "    .master(f'local[{spark_cores}]')\n",
    "    .enableHiveSupport()\n",
    "    .getOrCreate()\n",
    ")\n",
    "\n",
    "spark"
   ]
  },
  {
   "cell_type": "code",
   "execution_count": 7,
   "metadata": {
    "pycharm": {
     "is_executing": false
    }
   },
   "outputs": [],
   "source": [
    "spark_logger = logging.getLogger('py4j')\n",
    "spark_logger.setLevel(logging.WARN)"
   ]
  },
  {
   "cell_type": "code",
   "execution_count": 8,
   "metadata": {
    "pycharm": {
     "is_executing": false
    }
   },
   "outputs": [],
   "source": [
    "logger = logging.getLogger()\n",
    "formatter = logging.Formatter('%(asctime)s, %(name)s, %(levelname)s: %(message)s',\n",
    "                              datefmt='%d-%b-%y %H:%M:%S')\n",
    "hdlr = logging.StreamHandler()\n",
    "hdlr.setFormatter(formatter)\n",
    "logger.addHandler(hdlr)\n",
    "logger.setLevel(logging.DEBUG)"
   ]
  },
  {
   "cell_type": "markdown",
   "metadata": {},
   "source": [
    "## Подготовка данных <a name='data-preparator'></a>"
   ]
  },
  {
   "cell_type": "code",
   "execution_count": 9,
   "metadata": {
    "pycharm": {
     "is_executing": false
    }
   },
   "outputs": [],
   "source": [
    "path_log = '../data/movielens/ml-20m/ratings.csv'"
   ]
  },
  {
   "cell_type": "code",
   "execution_count": 10,
   "metadata": {
    "pycharm": {
     "is_executing": false
    }
   },
   "outputs": [],
   "source": [
    "dp = DataPreparator(spark)"
   ]
  },
  {
   "cell_type": "code",
   "execution_count": 13,
   "metadata": {
    "pycharm": {
     "is_executing": false
    }
   },
   "outputs": [],
   "source": [
    "df = dp.transform_log(\n",
    "    path_log,\n",
    "    format_type='csv',\n",
    "    columns_names={\n",
    "        'user_id': 'userId', \n",
    "        'item_id': 'movieId',\n",
    "    },\n",
    "    date_format=None,\n",
    "    header=True\n",
    ")"
   ]
  },
  {
   "cell_type": "code",
   "execution_count": 14,
   "metadata": {
    "pycharm": {
     "is_executing": false
    },
    "scrolled": false
   },
   "outputs": [
    {
     "name": "stdout",
     "output_type": "stream",
     "text": [
      "+-------+-------+-------------------+----------+---------+\n",
      "|user_id|item_id|          timestamp|   context|relevance|\n",
      "+-------+-------+-------------------+----------+---------+\n",
      "|      1|      2|1999-05-01 00:00:00|no_context|      1.0|\n",
      "|      1|     29|1999-05-01 00:00:00|no_context|      1.0|\n",
      "|      1|     32|1999-05-01 00:00:00|no_context|      1.0|\n",
      "+-------+-------+-------------------+----------+---------+\n",
      "only showing top 3 rows\n",
      "\n"
     ]
    }
   ],
   "source": [
    "df.show(3)"
   ]
  },
  {
   "cell_type": "code",
   "execution_count": 15,
   "metadata": {},
   "outputs": [
    {
     "data": {
      "text/plain": [
       "20000263"
      ]
     },
     "execution_count": 15,
     "metadata": {},
     "output_type": "execute_result"
    }
   ],
   "source": [
    "df.count()"
   ]
  },
  {
   "cell_type": "code",
   "execution_count": 16,
   "metadata": {},
   "outputs": [
    {
     "name": "stdout",
     "output_type": "stream",
     "text": [
      "+-------+-------+---------+-------+---------+\n",
      "|user_id|item_id|timestamp|context|relevance|\n",
      "+-------+-------+---------+-------+---------+\n",
      "| 138493|  26744|        1|      1|        1|\n",
      "+-------+-------+---------+-------+---------+\n",
      "\n"
     ]
    }
   ],
   "source": [
    "df.agg(*(sf.countDistinct(sf.col(c)).alias(c) for c in df.columns)).show()"
   ]
  },
  {
   "cell_type": "code",
   "execution_count": 17,
   "metadata": {},
   "outputs": [
    {
     "name": "stdout",
     "output_type": "stream",
     "text": [
      "+-------------------+-------------------+\n",
      "|     min(timestamp)|     max(timestamp)|\n",
      "+-------------------+-------------------+\n",
      "|1999-05-01 00:00:00|1999-05-01 00:00:00|\n",
      "+-------------------+-------------------+\n",
      "\n"
     ]
    }
   ],
   "source": [
    "df.agg(sf.min(sf.col(\"timestamp\")), sf.max(sf.col(\"timestamp\"))).show()"
   ]
  },
  {
   "cell_type": "code",
   "execution_count": 18,
   "metadata": {
    "pycharm": {
     "is_executing": false
    }
   },
   "outputs": [],
   "source": [
    "df_short = df.limit(1000).cache()"
   ]
  },
  {
   "cell_type": "markdown",
   "metadata": {},
   "source": [
    "## Рекомендатель на основе популярности (popularity based recommender) <a name='popular-recommender'></a>"
   ]
  },
  {
   "cell_type": "markdown",
   "metadata": {},
   "source": [
    "### Запуск single модели <a name='popular-recommender-single'></a>"
   ]
  },
  {
   "cell_type": "code",
   "execution_count": 19,
   "metadata": {},
   "outputs": [
    {
     "data": {
      "text/plain": [
       "(16000821, 16000821, 3998437)"
      ]
     },
     "execution_count": 19,
     "metadata": {},
     "output_type": "execute_result"
    }
   ],
   "source": [
    "splitter = ValidationSchemes(spark)\n",
    "\n",
    "train, test_input, test = splitter.log_split_randomly(\n",
    "    df, test_size=0.2,\n",
    "    drop_cold_users=False, drop_cold_items=True\n",
    ")\n",
    "\n",
    "(\n",
    "    train.count(), \n",
    "    test_input.count(), \n",
    "    test.count()\n",
    ")"
   ]
  },
  {
   "cell_type": "code",
   "execution_count": 20,
   "metadata": {},
   "outputs": [],
   "source": [
    "pr = PopularRecommender(spark, alpha=0, beta=0)"
   ]
  },
  {
   "cell_type": "code",
   "execution_count": 21,
   "metadata": {
    "scrolled": false
   },
   "outputs": [
    {
     "name": "stderr",
     "output_type": "stream",
     "text": [
      "07-Nov-19 15:40:13, root, DEBUG: Проверка датафреймов\n",
      "07-Nov-19 15:40:18, root, DEBUG: Предварительная стадия обучения (pre-fit)\n",
      "07-Nov-19 15:40:21, root, DEBUG: Среднее количество items у каждого user: 116.0\n",
      "07-Nov-19 15:40:21, root, DEBUG: Основная стадия обучения (fit)\n"
     ]
    },
    {
     "name": "stdout",
     "output_type": "stream",
     "text": [
      "CPU times: user 20.3 ms, sys: 7.53 ms, total: 27.8 ms\n",
      "Wall time: 8.29 s\n"
     ]
    }
   ],
   "source": [
    "%%time\n",
    "\n",
    "pr.fit(\n",
    "    log=train,\n",
    "    user_features=None,\n",
    "    item_features=None,\n",
    "    path=None\n",
    ")"
   ]
  },
  {
   "cell_type": "code",
   "execution_count": 22,
   "metadata": {
    "scrolled": false
   },
   "outputs": [
    {
     "name": "stderr",
     "output_type": "stream",
     "text": [
      "07-Nov-19 15:40:21, root, DEBUG: Проверка датафреймов\n",
      "07-Nov-19 15:40:43, root, DEBUG: Количество items после фильтрации: 216\n"
     ]
    },
    {
     "name": "stdout",
     "output_type": "stream",
     "text": [
      "CPU times: user 35 ms, sys: 10.9 ms, total: 45.9 ms\n",
      "Wall time: 22.5 s\n"
     ]
    }
   ],
   "source": [
    "%%time\n",
    "\n",
    "recs = pr.predict(\n",
    "    k=100,\n",
    "    users=test.select('user_id').distinct(),\n",
    "    items=test.select('item_id').distinct(),\n",
    "    context='no_context',\n",
    "    log=train,\n",
    "    user_features=None,\n",
    "    item_features=None,\n",
    "    to_filter_seen_items=True,\n",
    "    path=None\n",
    ").cache()"
   ]
  },
  {
   "cell_type": "code",
   "execution_count": 23,
   "metadata": {},
   "outputs": [
    {
     "name": "stdout",
     "output_type": "stream",
     "text": [
      "+-------+-------+----------+--------------------+\n",
      "|item_id|user_id|   context|           relevance|\n",
      "+-------+-------+----------+--------------------+\n",
      "|    296| 100010|no_context|0.003362889941709866|\n",
      "|    356| 100010|no_context|0.003297643289678...|\n",
      "|    593| 100010|no_context|0.003176149523827...|\n",
      "|    318| 100010|no_context|0.003164400126718...|\n",
      "|    480| 100010|no_context|0.002993783881464582|\n",
      "+-------+-------+----------+--------------------+\n",
      "only showing top 5 rows\n",
      "\n"
     ]
    }
   ],
   "source": [
    "recs.show(5)"
   ]
  },
  {
   "cell_type": "code",
   "execution_count": 24,
   "metadata": {},
   "outputs": [
    {
     "name": "stdout",
     "output_type": "stream",
     "text": [
      "CPU times: user 11.9 ms, sys: 6.83 ms, total: 18.8 ms\n",
      "Wall time: 33.8 s\n"
     ]
    },
    {
     "data": {
      "text/plain": [
       "0.8775699042882341"
      ]
     },
     "execution_count": 24,
     "metadata": {},
     "output_type": "execute_result"
    }
   ],
   "source": [
    "%%time\n",
    "\n",
    "metric = Metrics.hit_rate_at_k(recs, df, k=100)\n",
    "metric"
   ]
  },
  {
   "cell_type": "markdown",
   "metadata": {},
   "source": [
    "### Подбор гиперпараметров в популярной модели <a name='popular-recommender-scenario'></a>"
   ]
  },
  {
   "cell_type": "markdown",
   "metadata": {},
   "source": [
    "Популярность объекта определяется как: \n",
    "\n",
    "$$ popularity(i) = \\dfrac{N_i + \\alpha}{N + \\beta}, $$\n",
    "\n",
    "где $ N_i $ &mdash; количество пользователей, у которых было взаимодействие с данным объектом $ i $, \n",
    "$ N $ &mdash; общее количество пользователей, которые как провзаимодействовали с объектом, так и нет,\n",
    "$ \\alpha, \\beta \\in [0, \\infty) $ &mdash; параметры модели. \n",
    "\n",
    "Эвристика: размуным пределом для параметров $ \\alpha $ и $ \\beta $ может стать среднее значение количества пользователей $ N_i $, которые провзаимодействовали с объектами."
   ]
  },
  {
   "cell_type": "code",
   "execution_count": 25,
   "metadata": {},
   "outputs": [
    {
     "data": {
      "text/plain": [
       "747.8411232425965"
      ]
     },
     "execution_count": 25,
     "metadata": {},
     "output_type": "execute_result"
    }
   ],
   "source": [
    "avg_num_users = (\n",
    "    df\n",
    "    .select('user_id', 'item_id')\n",
    "    .groupBy('item_id')\n",
    "    .count()\n",
    "    .select(sf.mean(sf.col('count')).alias('mean'))\n",
    "    .collect()[0]['mean']\n",
    ")\n",
    "\n",
    "avg_num_users"
   ]
  },
  {
   "cell_type": "code",
   "execution_count": 26,
   "metadata": {
    "pycharm": {
     "is_executing": false
    }
   },
   "outputs": [],
   "source": [
    "popular_scenario = PopularScenario(spark)\n",
    "popular_scenario.seed = 9876"
   ]
  },
  {
   "cell_type": "code",
   "execution_count": 32,
   "metadata": {
    "pycharm": {
     "is_executing": false
    },
    "scrolled": false
   },
   "outputs": [
    {
     "name": "stderr",
     "output_type": "stream",
     "text": [
      "07-Nov-19 15:50:13, root, DEBUG: Деление на трейн и тест\n",
      "07-Nov-19 15:50:13, root, DEBUG: Длина трейна и теста: (13999374, 5999156)\n",
      "07-Nov-19 15:50:14, root, DEBUG: Количество юзеров в трейне и тесте: 138493, 138483\n",
      "07-Nov-19 15:50:15, root, DEBUG: Количество айтемов в трейне и тесте: 25316, 20502\n",
      "07-Nov-19 15:50:15, root, DEBUG: Популярная модель: полное обучение\n",
      "07-Nov-19 15:50:15, root, DEBUG: Проверка датафреймов\n",
      "07-Nov-19 15:50:16, root, DEBUG: Предварительная стадия обучения (pre-fit)\n",
      "07-Nov-19 15:50:17, root, DEBUG: Среднее количество items у каждого user: 102.0\n",
      "07-Nov-19 15:50:17, root, DEBUG: Основная стадия обучения (fit)\n",
      "07-Nov-19 15:50:17, root, DEBUG: -------------\n",
      "07-Nov-19 15:50:17, root, DEBUG: Начало оптимизации параметров\n",
      "07-Nov-19 15:50:17, root, DEBUG: -- Параметры: {'alpha': 570, 'beta': 472}\n",
      "07-Nov-19 15:50:17, root, DEBUG: -- Предикт модели в оптимизации\n",
      "07-Nov-19 15:50:17, root, DEBUG: Проверка датафреймов\n",
      "07-Nov-19 15:50:23, root, DEBUG: Количество items после фильтрации: 117\n",
      "07-Nov-19 15:50:51, root, DEBUG: -- Длина рекомендаций: 2077245\n",
      "07-Nov-19 15:50:51, root, DEBUG: -- Подсчет метрики в оптимизации\n",
      "07-Nov-19 15:51:22, root, DEBUG: -- Метрика: (0.7479618436920055, 0.22297566143306655)\n",
      "\u001b[32m[I 2019-11-07 15:51:22,359]\u001b[0m Finished trial#0 resulted in value: 0.7479618436920055. Current best value is 0.7479618436920055 with parameters: {'alpha': 570, 'beta': 472}.\u001b[0m\n",
      "07-Nov-19 15:51:22, root, DEBUG: -- Параметры: {'alpha': 128, 'beta': 348}\n",
      "07-Nov-19 15:51:22, root, DEBUG: -- Предикт модели в оптимизации\n",
      "07-Nov-19 15:51:22, root, DEBUG: Проверка датафреймов\n",
      "07-Nov-19 15:51:28, root, DEBUG: Количество items после фильтрации: 117\n",
      "07-Nov-19 15:51:57, root, DEBUG: -- Длина рекомендаций: 2077245\n",
      "07-Nov-19 15:51:57, root, DEBUG: -- Подсчет метрики в оптимизации\n",
      "07-Nov-19 15:52:27, root, DEBUG: -- Метрика: (0.7479618436920055, 0.22297566143306663)\n",
      "\u001b[32m[I 2019-11-07 15:52:27,343]\u001b[0m Finished trial#1 resulted in value: 0.7479618436920055. Current best value is 0.7479618436920055 with parameters: {'alpha': 570, 'beta': 472}.\u001b[0m\n",
      "07-Nov-19 15:52:27, root, DEBUG: -- Параметры: {'alpha': 282, 'beta': 787}\n",
      "07-Nov-19 15:52:27, root, DEBUG: -- Предикт модели в оптимизации\n",
      "07-Nov-19 15:52:27, root, DEBUG: Проверка датафреймов\n",
      "07-Nov-19 15:52:33, root, DEBUG: Количество items после фильтрации: 117\n",
      "07-Nov-19 15:53:01, root, DEBUG: -- Длина рекомендаций: 2077245\n",
      "07-Nov-19 15:53:01, root, DEBUG: -- Подсчет метрики в оптимизации\n",
      "07-Nov-19 15:53:32, root, DEBUG: -- Метрика: (0.7479618436920055, 0.2229756614330665)\n",
      "\u001b[32m[I 2019-11-07 15:53:32,431]\u001b[0m Finished trial#2 resulted in value: 0.7479618436920055. Current best value is 0.7479618436920055 with parameters: {'alpha': 570, 'beta': 472}.\u001b[0m\n",
      "07-Nov-19 15:53:32, root, DEBUG: -- Параметры: {'alpha': 694, 'beta': 172}\n",
      "07-Nov-19 15:53:32, root, DEBUG: -- Предикт модели в оптимизации\n",
      "07-Nov-19 15:53:32, root, DEBUG: Проверка датафреймов\n",
      "07-Nov-19 15:53:38, root, DEBUG: Количество items после фильтрации: 117\n",
      "07-Nov-19 15:54:08, root, DEBUG: -- Длина рекомендаций: 2077245\n",
      "07-Nov-19 15:54:08, root, DEBUG: -- Подсчет метрики в оптимизации\n",
      "07-Nov-19 15:54:39, root, DEBUG: -- Метрика: (0.7479618436920055, 0.22297566143306652)\n",
      "\u001b[32m[I 2019-11-07 15:54:39,168]\u001b[0m Finished trial#3 resulted in value: 0.7479618436920055. Current best value is 0.7479618436920055 with parameters: {'alpha': 570, 'beta': 472}.\u001b[0m\n",
      "07-Nov-19 15:54:39, root, DEBUG: -- Параметры: {'alpha': 177, 'beta': 927}\n",
      "07-Nov-19 15:54:39, root, DEBUG: -- Предикт модели в оптимизации\n",
      "07-Nov-19 15:54:39, root, DEBUG: Проверка датафреймов\n",
      "07-Nov-19 15:54:45, root, DEBUG: Количество items после фильтрации: 117\n",
      "07-Nov-19 15:55:14, root, DEBUG: -- Длина рекомендаций: 2077245\n",
      "07-Nov-19 15:55:14, root, DEBUG: -- Подсчет метрики в оптимизации\n",
      "07-Nov-19 15:55:45, root, DEBUG: -- Метрика: (0.7479618436920055, 0.22297566143306657)\n",
      "\u001b[32m[I 2019-11-07 15:55:45,497]\u001b[0m Finished trial#4 resulted in value: 0.7479618436920055. Current best value is 0.7479618436920055 with parameters: {'alpha': 570, 'beta': 472}.\u001b[0m\n",
      "07-Nov-19 15:55:45, root, DEBUG: -- Параметры: {'alpha': 730, 'beta': 888}\n",
      "07-Nov-19 15:55:45, root, DEBUG: -- Предикт модели в оптимизации\n",
      "07-Nov-19 15:55:45, root, DEBUG: Проверка датафреймов\n",
      "07-Nov-19 15:55:51, root, DEBUG: Количество items после фильтрации: 117\n",
      "07-Nov-19 15:56:20, root, DEBUG: -- Длина рекомендаций: 2077245\n",
      "07-Nov-19 15:56:20, root, DEBUG: -- Подсчет метрики в оптимизации\n",
      "07-Nov-19 15:56:50, root, DEBUG: -- Метрика: (0.7479618436920055, 0.22297566143306655)\n",
      "\u001b[32m[I 2019-11-07 15:56:50,732]\u001b[0m Finished trial#5 resulted in value: 0.7479618436920055. Current best value is 0.7479618436920055 with parameters: {'alpha': 570, 'beta': 472}.\u001b[0m\n",
      "07-Nov-19 15:56:50, root, DEBUG: -- Параметры: {'alpha': 836, 'beta': 201}\n",
      "07-Nov-19 15:56:50, root, DEBUG: -- Предикт модели в оптимизации\n",
      "07-Nov-19 15:56:50, root, DEBUG: Проверка датафреймов\n",
      "07-Nov-19 15:56:57, root, DEBUG: Количество items после фильтрации: 117\n",
      "07-Nov-19 15:57:26, root, DEBUG: -- Длина рекомендаций: 2077245\n",
      "07-Nov-19 15:57:26, root, DEBUG: -- Подсчет метрики в оптимизации\n",
      "07-Nov-19 15:57:56, root, DEBUG: -- Метрика: (0.7479618436920055, 0.22297566143306644)\n",
      "\u001b[32m[I 2019-11-07 15:57:56,791]\u001b[0m Finished trial#6 resulted in value: 0.7479618436920055. Current best value is 0.7479618436920055 with parameters: {'alpha': 570, 'beta': 472}.\u001b[0m\n",
      "07-Nov-19 15:57:56, root, DEBUG: -- Параметры: {'alpha': 297, 'beta': 18}\n",
      "07-Nov-19 15:57:56, root, DEBUG: -- Предикт модели в оптимизации\n",
      "07-Nov-19 15:57:56, root, DEBUG: Проверка датафреймов\n",
      "07-Nov-19 15:58:03, root, DEBUG: Количество items после фильтрации: 117\n",
      "07-Nov-19 15:58:35, root, DEBUG: -- Длина рекомендаций: 2077245\n",
      "07-Nov-19 15:58:35, root, DEBUG: -- Подсчет метрики в оптимизации\n",
      "07-Nov-19 15:59:07, root, DEBUG: -- Метрика: (0.7479618436920055, 0.22297566143306652)\n",
      "\u001b[32m[I 2019-11-07 15:59:07,903]\u001b[0m Finished trial#7 resulted in value: 0.7479618436920055. Current best value is 0.7479618436920055 with parameters: {'alpha': 570, 'beta': 472}.\u001b[0m\n",
      "07-Nov-19 15:59:07, root, DEBUG: -- Параметры: {'alpha': 351, 'beta': 606}\n",
      "07-Nov-19 15:59:07, root, DEBUG: -- Предикт модели в оптимизации\n",
      "07-Nov-19 15:59:07, root, DEBUG: Проверка датафреймов\n",
      "07-Nov-19 15:59:14, root, DEBUG: Количество items после фильтрации: 117\n",
      "07-Nov-19 15:59:44, root, DEBUG: -- Длина рекомендаций: 2077245\n",
      "07-Nov-19 15:59:44, root, DEBUG: -- Подсчет метрики в оптимизации\n",
      "07-Nov-19 16:00:16, root, DEBUG: -- Метрика: (0.7479618436920055, 0.2229756614330666)\n",
      "\u001b[32m[I 2019-11-07 16:00:16,646]\u001b[0m Finished trial#8 resulted in value: 0.7479618436920055. Current best value is 0.7479618436920055 with parameters: {'alpha': 570, 'beta': 472}.\u001b[0m\n",
      "07-Nov-19 16:00:16, root, DEBUG: -- Параметры: {'alpha': 592, 'beta': 746}\n",
      "07-Nov-19 16:00:16, root, DEBUG: -- Предикт модели в оптимизации\n",
      "07-Nov-19 16:00:16, root, DEBUG: Проверка датафреймов\n",
      "07-Nov-19 16:00:22, root, DEBUG: Количество items после фильтрации: 117\n",
      "07-Nov-19 16:00:52, root, DEBUG: -- Длина рекомендаций: 2077245\n",
      "07-Nov-19 16:00:52, root, DEBUG: -- Подсчет метрики в оптимизации\n",
      "07-Nov-19 16:01:22, root, DEBUG: -- Метрика: (0.7479618436920055, 0.22297566143306652)\n",
      "\u001b[32m[I 2019-11-07 16:01:22,977]\u001b[0m Finished trial#9 resulted in value: 0.7479618436920055. Current best value is 0.7479618436920055 with parameters: {'alpha': 570, 'beta': 472}.\u001b[0m\n",
      "07-Nov-19 16:01:22, root, DEBUG: -- Параметры: {'alpha': 883, 'beta': 558}\n",
      "07-Nov-19 16:01:22, root, DEBUG: -- Предикт модели в оптимизации\n",
      "07-Nov-19 16:01:22, root, DEBUG: Проверка датафреймов\n",
      "07-Nov-19 16:01:29, root, DEBUG: Количество items после фильтрации: 117\n",
      "07-Nov-19 16:01:58, root, DEBUG: -- Длина рекомендаций: 2077245\n",
      "07-Nov-19 16:01:58, root, DEBUG: -- Подсчет метрики в оптимизации\n",
      "07-Nov-19 16:02:30, root, DEBUG: -- Метрика: (0.7479618436920055, 0.22297566143306652)\n",
      "\u001b[32m[I 2019-11-07 16:02:30,862]\u001b[0m Finished trial#10 resulted in value: 0.7479618436920055. Current best value is 0.7479618436920055 with parameters: {'alpha': 570, 'beta': 472}.\u001b[0m\n",
      "07-Nov-19 16:02:30, root, DEBUG: -- Параметры: {'alpha': 946, 'beta': 563}\n",
      "07-Nov-19 16:02:30, root, DEBUG: -- Предикт модели в оптимизации\n"
     ]
    },
    {
     "name": "stderr",
     "output_type": "stream",
     "text": [
      "07-Nov-19 16:02:30, root, DEBUG: Проверка датафреймов\n",
      "07-Nov-19 16:02:37, root, DEBUG: Количество items после фильтрации: 117\n",
      "07-Nov-19 16:03:06, root, DEBUG: -- Длина рекомендаций: 2077245\n",
      "07-Nov-19 16:03:06, root, DEBUG: -- Подсчет метрики в оптимизации\n",
      "07-Nov-19 16:03:38, root, DEBUG: -- Метрика: (0.7479618436920055, 0.22297566143306646)\n",
      "\u001b[32m[I 2019-11-07 16:03:38,219]\u001b[0m Finished trial#11 resulted in value: 0.7479618436920055. Current best value is 0.7479618436920055 with parameters: {'alpha': 570, 'beta': 472}.\u001b[0m\n",
      "07-Nov-19 16:03:38, root, DEBUG: -- Параметры: {'alpha': 94, 'beta': 351}\n",
      "07-Nov-19 16:03:38, root, DEBUG: -- Предикт модели в оптимизации\n",
      "07-Nov-19 16:03:38, root, DEBUG: Проверка датафреймов\n",
      "07-Nov-19 16:03:44, root, DEBUG: Количество items после фильтрации: 117\n",
      "07-Nov-19 16:04:13, root, DEBUG: -- Длина рекомендаций: 2077245\n",
      "07-Nov-19 16:04:13, root, DEBUG: -- Подсчет метрики в оптимизации\n",
      "07-Nov-19 16:04:44, root, DEBUG: -- Метрика: (0.7479618436920055, 0.22297566143306655)\n",
      "\u001b[32m[I 2019-11-07 16:04:44,485]\u001b[0m Finished trial#12 resulted in value: 0.7479618436920055. Current best value is 0.7479618436920055 with parameters: {'alpha': 570, 'beta': 472}.\u001b[0m\n",
      "07-Nov-19 16:04:44, root, DEBUG: -- Параметры: {'alpha': 771, 'beta': 72}\n",
      "07-Nov-19 16:04:44, root, DEBUG: -- Предикт модели в оптимизации\n",
      "07-Nov-19 16:04:44, root, DEBUG: Проверка датафреймов\n",
      "07-Nov-19 16:04:50, root, DEBUG: Количество items после фильтрации: 117\n",
      "07-Nov-19 16:05:30, root, DEBUG: -- Длина рекомендаций: 2077245\n",
      "07-Nov-19 16:05:30, root, DEBUG: -- Подсчет метрики в оптимизации\n",
      "07-Nov-19 16:06:14, root, DEBUG: -- Метрика: (0.7479618436920055, 0.22297566143306646)\n",
      "\u001b[32m[I 2019-11-07 16:06:14,642]\u001b[0m Finished trial#13 resulted in value: 0.7479618436920055. Current best value is 0.7479618436920055 with parameters: {'alpha': 570, 'beta': 472}.\u001b[0m\n",
      "07-Nov-19 16:06:14, root, DEBUG: -- Параметры: {'alpha': 560, 'beta': 818}\n",
      "07-Nov-19 16:06:14, root, DEBUG: -- Предикт модели в оптимизации\n",
      "07-Nov-19 16:06:14, root, DEBUG: Проверка датафреймов\n",
      "07-Nov-19 16:06:23, root, DEBUG: Количество items после фильтрации: 117\n",
      "07-Nov-19 16:06:56, root, DEBUG: -- Длина рекомендаций: 2077245\n",
      "07-Nov-19 16:06:56, root, DEBUG: -- Подсчет метрики в оптимизации\n",
      "07-Nov-19 16:07:32, root, DEBUG: -- Метрика: (0.7479618436920055, 0.2229756614330665)\n",
      "\u001b[32m[I 2019-11-07 16:07:32,093]\u001b[0m Finished trial#14 resulted in value: 0.7479618436920055. Current best value is 0.7479618436920055 with parameters: {'alpha': 570, 'beta': 472}.\u001b[0m\n",
      "07-Nov-19 16:07:32, root, DEBUG: Лучшие значения метрики: 0.7479618436920055\n",
      "07-Nov-19 16:07:32, root, DEBUG: Лучшие параметры: {'alpha': 570, 'beta': 472}\n"
     ]
    },
    {
     "name": "stdout",
     "output_type": "stream",
     "text": [
      "CPU times: user 1.93 s, sys: 318 ms, total: 2.25 s\n",
      "Wall time: 17min 18s\n"
     ]
    },
    {
     "data": {
      "text/plain": [
       "{'alpha': 570, 'beta': 472}"
      ]
     },
     "execution_count": 32,
     "metadata": {},
     "output_type": "execute_result"
    }
   ],
   "source": [
    "%%time\n",
    "\n",
    "popular_params_grid = {\n",
    "    'alpha': (0, 1000), \n",
    "    'beta': (0, 1000)\n",
    "}\n",
    "\n",
    "best_params = popular_scenario.research(\n",
    "    popular_params_grid,\n",
    "    df,\n",
    "    users=None, items=None,\n",
    "    user_features=None,\n",
    "    item_features=None,\n",
    "    test_start=None,\n",
    "    test_size=0.3,\n",
    "    k=15, context='no_context',\n",
    "    to_filter_seen_items=True,\n",
    "    n_trials=15, \n",
    "    n_jobs=1,\n",
    "    how_to_split='randomly'\n",
    ")\n",
    "\n",
    "best_params"
   ]
  },
  {
   "cell_type": "code",
   "execution_count": 33,
   "metadata": {},
   "outputs": [
    {
     "data": {
      "text/html": [
       "<div>\n",
       "<style scoped>\n",
       "    .dataframe tbody tr th:only-of-type {\n",
       "        vertical-align: middle;\n",
       "    }\n",
       "\n",
       "    .dataframe tbody tr th {\n",
       "        vertical-align: top;\n",
       "    }\n",
       "\n",
       "    .dataframe thead tr th {\n",
       "        text-align: left;\n",
       "    }\n",
       "</style>\n",
       "<table border=\"1\" class=\"dataframe\">\n",
       "  <thead>\n",
       "    <tr>\n",
       "      <th></th>\n",
       "      <th>number</th>\n",
       "      <th>state</th>\n",
       "      <th>value</th>\n",
       "      <th>datetime_start</th>\n",
       "      <th>datetime_complete</th>\n",
       "      <th colspan=\"2\" halign=\"left\">params</th>\n",
       "      <th>user_attrs</th>\n",
       "      <th>system_attrs</th>\n",
       "    </tr>\n",
       "    <tr>\n",
       "      <th></th>\n",
       "      <th></th>\n",
       "      <th></th>\n",
       "      <th></th>\n",
       "      <th></th>\n",
       "      <th></th>\n",
       "      <th>alpha</th>\n",
       "      <th>beta</th>\n",
       "      <th>nDCG@k</th>\n",
       "      <th>_number</th>\n",
       "    </tr>\n",
       "  </thead>\n",
       "  <tbody>\n",
       "    <tr>\n",
       "      <td>0</td>\n",
       "      <td>0</td>\n",
       "      <td>TrialState.COMPLETE</td>\n",
       "      <td>0.747962</td>\n",
       "      <td>2019-11-07 15:50:17.042254</td>\n",
       "      <td>2019-11-07 15:51:22.359295</td>\n",
       "      <td>570</td>\n",
       "      <td>472</td>\n",
       "      <td>0.222976</td>\n",
       "      <td>0</td>\n",
       "    </tr>\n",
       "    <tr>\n",
       "      <td>1</td>\n",
       "      <td>1</td>\n",
       "      <td>TrialState.COMPLETE</td>\n",
       "      <td>0.747962</td>\n",
       "      <td>2019-11-07 15:51:22.360283</td>\n",
       "      <td>2019-11-07 15:52:27.342971</td>\n",
       "      <td>128</td>\n",
       "      <td>348</td>\n",
       "      <td>0.222976</td>\n",
       "      <td>1</td>\n",
       "    </tr>\n",
       "    <tr>\n",
       "      <td>2</td>\n",
       "      <td>2</td>\n",
       "      <td>TrialState.COMPLETE</td>\n",
       "      <td>0.747962</td>\n",
       "      <td>2019-11-07 15:52:27.343925</td>\n",
       "      <td>2019-11-07 15:53:32.430730</td>\n",
       "      <td>282</td>\n",
       "      <td>787</td>\n",
       "      <td>0.222976</td>\n",
       "      <td>2</td>\n",
       "    </tr>\n",
       "    <tr>\n",
       "      <td>3</td>\n",
       "      <td>3</td>\n",
       "      <td>TrialState.COMPLETE</td>\n",
       "      <td>0.747962</td>\n",
       "      <td>2019-11-07 15:53:32.432047</td>\n",
       "      <td>2019-11-07 15:54:39.167794</td>\n",
       "      <td>694</td>\n",
       "      <td>172</td>\n",
       "      <td>0.222976</td>\n",
       "      <td>3</td>\n",
       "    </tr>\n",
       "    <tr>\n",
       "      <td>4</td>\n",
       "      <td>4</td>\n",
       "      <td>TrialState.COMPLETE</td>\n",
       "      <td>0.747962</td>\n",
       "      <td>2019-11-07 15:54:39.169526</td>\n",
       "      <td>2019-11-07 15:55:45.496715</td>\n",
       "      <td>177</td>\n",
       "      <td>927</td>\n",
       "      <td>0.222976</td>\n",
       "      <td>4</td>\n",
       "    </tr>\n",
       "    <tr>\n",
       "      <td>5</td>\n",
       "      <td>5</td>\n",
       "      <td>TrialState.COMPLETE</td>\n",
       "      <td>0.747962</td>\n",
       "      <td>2019-11-07 15:55:45.498017</td>\n",
       "      <td>2019-11-07 15:56:50.730861</td>\n",
       "      <td>730</td>\n",
       "      <td>888</td>\n",
       "      <td>0.222976</td>\n",
       "      <td>5</td>\n",
       "    </tr>\n",
       "    <tr>\n",
       "      <td>6</td>\n",
       "      <td>6</td>\n",
       "      <td>TrialState.COMPLETE</td>\n",
       "      <td>0.747962</td>\n",
       "      <td>2019-11-07 15:56:50.733428</td>\n",
       "      <td>2019-11-07 15:57:56.790347</td>\n",
       "      <td>836</td>\n",
       "      <td>201</td>\n",
       "      <td>0.222976</td>\n",
       "      <td>6</td>\n",
       "    </tr>\n",
       "    <tr>\n",
       "      <td>7</td>\n",
       "      <td>7</td>\n",
       "      <td>TrialState.COMPLETE</td>\n",
       "      <td>0.747962</td>\n",
       "      <td>2019-11-07 15:57:56.792478</td>\n",
       "      <td>2019-11-07 15:59:07.902089</td>\n",
       "      <td>297</td>\n",
       "      <td>18</td>\n",
       "      <td>0.222976</td>\n",
       "      <td>7</td>\n",
       "    </tr>\n",
       "    <tr>\n",
       "      <td>8</td>\n",
       "      <td>8</td>\n",
       "      <td>TrialState.COMPLETE</td>\n",
       "      <td>0.747962</td>\n",
       "      <td>2019-11-07 15:59:07.904521</td>\n",
       "      <td>2019-11-07 16:00:16.645009</td>\n",
       "      <td>351</td>\n",
       "      <td>606</td>\n",
       "      <td>0.222976</td>\n",
       "      <td>8</td>\n",
       "    </tr>\n",
       "    <tr>\n",
       "      <td>9</td>\n",
       "      <td>9</td>\n",
       "      <td>TrialState.COMPLETE</td>\n",
       "      <td>0.747962</td>\n",
       "      <td>2019-11-07 16:00:16.647104</td>\n",
       "      <td>2019-11-07 16:01:22.976035</td>\n",
       "      <td>592</td>\n",
       "      <td>746</td>\n",
       "      <td>0.222976</td>\n",
       "      <td>9</td>\n",
       "    </tr>\n",
       "    <tr>\n",
       "      <td>10</td>\n",
       "      <td>10</td>\n",
       "      <td>TrialState.COMPLETE</td>\n",
       "      <td>0.747962</td>\n",
       "      <td>2019-11-07 16:01:22.977891</td>\n",
       "      <td>2019-11-07 16:02:30.860045</td>\n",
       "      <td>883</td>\n",
       "      <td>558</td>\n",
       "      <td>0.222976</td>\n",
       "      <td>10</td>\n",
       "    </tr>\n",
       "    <tr>\n",
       "      <td>11</td>\n",
       "      <td>11</td>\n",
       "      <td>TrialState.COMPLETE</td>\n",
       "      <td>0.747962</td>\n",
       "      <td>2019-11-07 16:02:30.862845</td>\n",
       "      <td>2019-11-07 16:03:38.218229</td>\n",
       "      <td>946</td>\n",
       "      <td>563</td>\n",
       "      <td>0.222976</td>\n",
       "      <td>11</td>\n",
       "    </tr>\n",
       "    <tr>\n",
       "      <td>12</td>\n",
       "      <td>12</td>\n",
       "      <td>TrialState.COMPLETE</td>\n",
       "      <td>0.747962</td>\n",
       "      <td>2019-11-07 16:03:38.220616</td>\n",
       "      <td>2019-11-07 16:04:44.483280</td>\n",
       "      <td>94</td>\n",
       "      <td>351</td>\n",
       "      <td>0.222976</td>\n",
       "      <td>12</td>\n",
       "    </tr>\n",
       "    <tr>\n",
       "      <td>13</td>\n",
       "      <td>13</td>\n",
       "      <td>TrialState.COMPLETE</td>\n",
       "      <td>0.747962</td>\n",
       "      <td>2019-11-07 16:04:44.486244</td>\n",
       "      <td>2019-11-07 16:06:14.640113</td>\n",
       "      <td>771</td>\n",
       "      <td>72</td>\n",
       "      <td>0.222976</td>\n",
       "      <td>13</td>\n",
       "    </tr>\n",
       "    <tr>\n",
       "      <td>14</td>\n",
       "      <td>14</td>\n",
       "      <td>TrialState.COMPLETE</td>\n",
       "      <td>0.747962</td>\n",
       "      <td>2019-11-07 16:06:14.643353</td>\n",
       "      <td>2019-11-07 16:07:32.090824</td>\n",
       "      <td>560</td>\n",
       "      <td>818</td>\n",
       "      <td>0.222976</td>\n",
       "      <td>14</td>\n",
       "    </tr>\n",
       "    <tr>\n",
       "      <td>0</td>\n",
       "      <td>0</td>\n",
       "      <td>TrialState.COMPLETE</td>\n",
       "      <td>0.747962</td>\n",
       "      <td>2019-11-07 15:46:55.976881</td>\n",
       "      <td>2019-11-07 15:48:03.376156</td>\n",
       "      <td>336</td>\n",
       "      <td>172</td>\n",
       "      <td>0.222976</td>\n",
       "      <td>0</td>\n",
       "    </tr>\n",
       "    <tr>\n",
       "      <td>0</td>\n",
       "      <td>0</td>\n",
       "      <td>TrialState.COMPLETE</td>\n",
       "      <td>0.747962</td>\n",
       "      <td>2019-11-07 15:43:08.742889</td>\n",
       "      <td>2019-11-07 15:44:26.813105</td>\n",
       "      <td>1</td>\n",
       "      <td>0</td>\n",
       "      <td>0.222976</td>\n",
       "      <td>0</td>\n",
       "    </tr>\n",
       "  </tbody>\n",
       "</table>\n",
       "</div>"
      ],
      "text/plain": [
       "   number                state     value             datetime_start  \\\n",
       "                                                                      \n",
       "0   0      TrialState.COMPLETE  0.747962 2019-11-07 15:50:17.042254   \n",
       "1   1      TrialState.COMPLETE  0.747962 2019-11-07 15:51:22.360283   \n",
       "2   2      TrialState.COMPLETE  0.747962 2019-11-07 15:52:27.343925   \n",
       "3   3      TrialState.COMPLETE  0.747962 2019-11-07 15:53:32.432047   \n",
       "4   4      TrialState.COMPLETE  0.747962 2019-11-07 15:54:39.169526   \n",
       "5   5      TrialState.COMPLETE  0.747962 2019-11-07 15:55:45.498017   \n",
       "6   6      TrialState.COMPLETE  0.747962 2019-11-07 15:56:50.733428   \n",
       "7   7      TrialState.COMPLETE  0.747962 2019-11-07 15:57:56.792478   \n",
       "8   8      TrialState.COMPLETE  0.747962 2019-11-07 15:59:07.904521   \n",
       "9   9      TrialState.COMPLETE  0.747962 2019-11-07 16:00:16.647104   \n",
       "10  10     TrialState.COMPLETE  0.747962 2019-11-07 16:01:22.977891   \n",
       "11  11     TrialState.COMPLETE  0.747962 2019-11-07 16:02:30.862845   \n",
       "12  12     TrialState.COMPLETE  0.747962 2019-11-07 16:03:38.220616   \n",
       "13  13     TrialState.COMPLETE  0.747962 2019-11-07 16:04:44.486244   \n",
       "14  14     TrialState.COMPLETE  0.747962 2019-11-07 16:06:14.643353   \n",
       "0   0      TrialState.COMPLETE  0.747962 2019-11-07 15:46:55.976881   \n",
       "0   0      TrialState.COMPLETE  0.747962 2019-11-07 15:43:08.742889   \n",
       "\n",
       "            datetime_complete params      user_attrs system_attrs  \n",
       "                               alpha beta     nDCG@k      _number  \n",
       "0  2019-11-07 15:51:22.359295  570    472  0.222976   0            \n",
       "1  2019-11-07 15:52:27.342971  128    348  0.222976   1            \n",
       "2  2019-11-07 15:53:32.430730  282    787  0.222976   2            \n",
       "3  2019-11-07 15:54:39.167794  694    172  0.222976   3            \n",
       "4  2019-11-07 15:55:45.496715  177    927  0.222976   4            \n",
       "5  2019-11-07 15:56:50.730861  730    888  0.222976   5            \n",
       "6  2019-11-07 15:57:56.790347  836    201  0.222976   6            \n",
       "7  2019-11-07 15:59:07.902089  297    18   0.222976   7            \n",
       "8  2019-11-07 16:00:16.645009  351    606  0.222976   8            \n",
       "9  2019-11-07 16:01:22.976035  592    746  0.222976   9            \n",
       "10 2019-11-07 16:02:30.860045  883    558  0.222976   10           \n",
       "11 2019-11-07 16:03:38.218229  946    563  0.222976   11           \n",
       "12 2019-11-07 16:04:44.483280  94     351  0.222976   12           \n",
       "13 2019-11-07 16:06:14.640113  771    72   0.222976   13           \n",
       "14 2019-11-07 16:07:32.090824  560    818  0.222976   14           \n",
       "0  2019-11-07 15:48:03.376156  336    172  0.222976   0            \n",
       "0  2019-11-07 15:44:26.813105  1      0    0.222976   0            "
      ]
     },
     "execution_count": 33,
     "metadata": {},
     "output_type": "execute_result"
    }
   ],
   "source": [
    "results = pd.concat([popular_scenario.study.trials_dataframe(), results], axis=0)\n",
    "\n",
    "results"
   ]
  },
  {
   "cell_type": "code",
   "execution_count": 35,
   "metadata": {
    "scrolled": false
   },
   "outputs": [
    {
     "data": {
      "image/png": "[encoded data removed]",
      "text/plain": [
       "<Figure size 504x360 with 1 Axes>"
      ]
     },
     "metadata": {
      "needs_background": "light"
     },
     "output_type": "display_data"
    }
   ],
   "source": [
    "def plot_result_value(results):\n",
    "    results['value_name'] = (results['params']['alpha'].astype(str)\n",
    "                         .str.cat(results['params']['beta'].astype(str), sep=', '))\n",
    "    \n",
    "    plt.figure(figsize=(7, 5))\n",
    "    ax = results['value'].plot(kind='bar', xticks=range(len(results)), rot=0)\n",
    "    ax.set_xticklabels(results['value_name'].values)\n",
    "\n",
    "    plt.xlabel(r'$(\\alpha, \\beta)$' + ' пары')\n",
    "    plt.ylabel('Значение метрики')\n",
    "    plt.title('Результаты эксперимента')\n",
    "\n",
    "    plt.show()\n",
    "    \n",
    "\n",
    "plot_result_value(results)"
   ]
  },
  {
   "cell_type": "code",
   "execution_count": 36,
   "metadata": {},
   "outputs": [
    {
     "name": "stderr",
     "output_type": "stream",
     "text": [
      "07-Nov-19 16:15:26, root, DEBUG: Проверка датафреймов\n",
      "07-Nov-19 16:15:27, root, DEBUG: Предварительная стадия обучения (pre-fit)\n",
      "07-Nov-19 16:15:29, root, DEBUG: Среднее количество items у каждого user: 145.0\n",
      "07-Nov-19 16:15:29, root, DEBUG: Основная стадия обучения (fit)\n",
      "07-Nov-19 16:15:29, root, DEBUG: Проверка датафреймов\n",
      "07-Nov-19 16:15:29, root, DEBUG: Выделение дефолтных юзеров\n",
      "07-Nov-19 16:15:29, root, DEBUG: Выделение дефолтных айтемов\n",
      "07-Nov-19 16:15:39, root, DEBUG: Количество items после фильтрации: 155\n"
     ]
    },
    {
     "name": "stdout",
     "output_type": "stream",
     "text": [
      "CPU times: user 42.3 ms, sys: 11.3 ms, total: 53.6 ms\n",
      "Wall time: 12.2 s\n"
     ]
    }
   ],
   "source": [
    "%%time\n",
    "\n",
    "best_recs = popular_scenario.production(\n",
    "    best_params,\n",
    "    df,\n",
    "    users=None,\n",
    "    items=None,\n",
    "    user_features=None,\n",
    "    item_features=None,\n",
    "    k=10,\n",
    "    context='no_context',\n",
    "    to_filter_seen_items=True\n",
    ")"
   ]
  },
  {
   "cell_type": "code",
   "execution_count": 37,
   "metadata": {},
   "outputs": [
    {
     "name": "stdout",
     "output_type": "stream",
     "text": [
      "+-------+-------+----------+--------------------+\n",
      "|item_id|user_id|   context|           relevance|\n",
      "+-------+-------+----------+--------------------+\n",
      "|    296| 100010|no_context|0.003393875275083...|\n",
      "|    356| 100010|no_context|0.003336977366081...|\n",
      "|    318| 100010|no_context|0.003196682521917...|\n",
      "|    593| 100010|no_context|0.003193332645025...|\n",
      "|    480| 100010|no_context|0.003014139230383...|\n",
      "|    260| 100010|no_context|0.002753498808918...|\n",
      "|    110| 100010|no_context|0.002716850155756776|\n",
      "|    589| 100010|no_context|0.002640602957841...|\n",
      "|   2571| 100010|no_context|0.002595104629904851|\n",
      "|    527| 100010|no_context|0.002531106981818418|\n",
      "+-------+-------+----------+--------------------+\n",
      "only showing top 10 rows\n",
      "\n"
     ]
    }
   ],
   "source": [
    "best_recs.show(10)"
   ]
  },
  {
   "cell_type": "markdown",
   "metadata": {},
   "source": [
    "## Рекомендатель на основе k-NN для объектов (item k-NN based recommender) <a name='knn-recommender'></a>"
   ]
  },
  {
   "cell_type": "markdown",
   "metadata": {},
   "source": [
    "### Запуск single модели <a name='knn-recommender-single'></a>"
   ]
  },
  {
   "cell_type": "code",
   "execution_count": 19,
   "metadata": {},
   "outputs": [
    {
     "data": {
      "text/plain": [
       "(16002620, 16002620, 3996653)"
      ]
     },
     "execution_count": 19,
     "metadata": {},
     "output_type": "execute_result"
    }
   ],
   "source": [
    "splitter = ValidationSchemes(spark)\n",
    "\n",
    "train, test_input, test = splitter.log_split_randomly(\n",
    "    df, test_size=0.2,\n",
    "    drop_cold_users=False, drop_cold_items=True\n",
    ")\n",
    "\n",
    "(\n",
    "    train.count(), \n",
    "    test_input.count(), \n",
    "    test.count()\n",
    ")"
   ]
  },
  {
   "cell_type": "code",
   "execution_count": 20,
   "metadata": {},
   "outputs": [],
   "source": [
    "knn = KNNRecommender(spark, num_neighbours=15, shrink=0)"
   ]
  },
  {
   "cell_type": "code",
   "execution_count": 21,
   "metadata": {},
   "outputs": [
    {
     "name": "stderr",
     "output_type": "stream",
     "text": [
      "11-Nov-19 10:40:15, root, DEBUG: Проверка датафреймов\n",
      "11-Nov-19 10:40:17, root, DEBUG: Предварительная стадия обучения (pre-fit)\n",
      "11-Nov-19 10:40:17, root, DEBUG: Основная стадия обучения (fit)\n"
     ]
    },
    {
     "name": "stdout",
     "output_type": "stream",
     "text": [
      "CPU times: user 28 ms, sys: 12 ms, total: 40 ms\n",
      "Wall time: 3.05 s\n"
     ]
    }
   ],
   "source": [
    "%%time\n",
    "\n",
    "knn.fit(\n",
    "    log=train,\n",
    "    user_features=None,\n",
    "    item_features=None,\n",
    "    path=None\n",
    ")"
   ]
  },
  {
   "cell_type": "code",
   "execution_count": 22,
   "metadata": {},
   "outputs": [
    {
     "name": "stderr",
     "output_type": "stream",
     "text": [
      "11-Nov-19 10:40:32, root, DEBUG: Проверка датафреймов\n"
     ]
    },
    {
     "name": "stdout",
     "output_type": "stream",
     "text": [
      "CPU times: user 20 ms, sys: 4 ms, total: 24 ms\n",
      "Wall time: 8.44 s\n"
     ]
    }
   ],
   "source": [
    "%%time\n",
    "\n",
    "recs = knn.predict(\n",
    "    k=10,\n",
    "    users=test.select('user_id').distinct(),\n",
    "    items=test.select('item_id').distinct(),\n",
    "    context='no_context',\n",
    "    log=train,\n",
    "    user_features=None,\n",
    "    item_features=None,\n",
    "    to_filter_seen_items=True,\n",
    "    path=None\n",
    ").cache()"
   ]
  },
  {
   "cell_type": "code",
   "execution_count": null,
   "metadata": {},
   "outputs": [],
   "source": [
    "recs.show(5)"
   ]
  },
  {
   "cell_type": "code",
   "execution_count": 24,
   "metadata": {},
   "outputs": [
    {
     "name": "stdout",
     "output_type": "stream",
     "text": [
      "CPU times: user 40 ms, sys: 0 ns, total: 40 ms\n",
      "Wall time: 3min 16s\n"
     ]
    },
    {
     "data": {
      "text/plain": [
       "0.0003108328875652388"
      ]
     },
     "execution_count": 24,
     "metadata": {},
     "output_type": "execute_result"
    }
   ],
   "source": [
    "%%time\n",
    "\n",
    "metric = Metrics.hit_rate_at_k(recs, test, k=10)\n",
    "metric"
   ]
  },
  {
   "cell_type": "markdown",
   "metadata": {},
   "source": [
    "### Подбор гиперпараметров в item k-NN модели <a name='knn-recommender-scenario'></a>"
   ]
  },
  {
   "cell_type": "code",
   "execution_count": 25,
   "metadata": {},
   "outputs": [],
   "source": [
    "knn_scenario = KNNScenario(spark)\n",
    "knn_scenario.seed = 7852"
   ]
  },
  {
   "cell_type": "code",
   "execution_count": 28,
   "metadata": {},
   "outputs": [
    {
     "name": "stderr",
     "output_type": "stream",
     "text": [
      "11-Nov-19 12:08:48, root, DEBUG: Деление на трейн и тест\n",
      "11-Nov-19 12:08:48, root, DEBUG: Длина трейна и теста: (15997686, 4001580)\n",
      "11-Nov-19 12:08:49, root, DEBUG: Количество юзеров в трейне и тесте: 138493, 138329\n",
      "11-Nov-19 12:08:49, root, DEBUG: Количество айтемов в трейне и тесте: 25862, 19471\n",
      "11-Nov-19 12:08:49, root, DEBUG: Популярная модель: фит_предикт\n",
      "11-Nov-19 12:08:49, root, DEBUG: Проверка датафреймов\n",
      "11-Nov-19 12:08:50, root, DEBUG: Предварительная стадия обучения (pre-fit)\n",
      "11-Nov-19 12:08:51, root, DEBUG: Среднее количество items у каждого user: 116.0\n",
      "11-Nov-19 12:08:51, root, DEBUG: Основная стадия обучения (fit)\n",
      "11-Nov-19 12:08:51, root, DEBUG: Проверка датафреймов\n",
      "11-Nov-19 12:08:53, root, DEBUG: Количество items после фильтрации: 126\n",
      "11-Nov-19 12:08:53, root, DEBUG: Модель KNN\n",
      "11-Nov-19 12:08:53, root, DEBUG: Первый пре-фит модели\n",
      "11-Nov-19 12:08:53, root, DEBUG: -------------\n",
      "11-Nov-19 12:08:53, root, DEBUG: Начало оптимизации параметров\n",
      "[W 2019-11-11 12:08:53,689] The range of parameter `num_neighbours` is not divisible by `q`, and is replaced by [3, 18].\n",
      "11-Nov-19 12:08:53, root, DEBUG: -- Параметры: {'num_neighbours': 15.0, 'shrink': 0}\n",
      "11-Nov-19 12:08:53, root, DEBUG: -- Второй фит модели в оптимизации\n",
      "11-Nov-19 12:08:53, root, DEBUG: -- Предикт модели в оптимизации\n",
      "11-Nov-19 12:08:53, root, DEBUG: Проверка датафреймов\n",
      "11-Nov-19 12:10:21, root, DEBUG: -- Длина рекомендаций: 1383290\n",
      "11-Nov-19 12:10:21, root, DEBUG: -- Дополняем рекомендации популярными\n",
      "11-Nov-19 12:10:26, root, DEBUG: -- Длина рекомендаций: 1383290\n",
      "11-Nov-19 12:10:26, root, DEBUG: -- Подсчет метрики в оптимизации\n",
      "11-Nov-19 12:11:07, root, DEBUG: -- Метрики: hit_rate=0.0003, ndcg=0.0001, precision=0.0001, map_metric=0.0000\n",
      "[I 2019-11-11 12:11:07,967] Finished trial#0 resulted in value: 0.00031808225317901526. Current best value is 0.00031808225317901526 with parameters: {'num_neighbours': 15.0, 'shrink': 0}.\n",
      "[W 2019-11-11 12:11:07,969] The range of parameter `num_neighbours` is not divisible by `q`, and is replaced by [3, 18].\n",
      "11-Nov-19 12:11:07, root, DEBUG: -- Параметры: {'num_neighbours': 12.0, 'shrink': 0}\n",
      "11-Nov-19 12:11:07, root, DEBUG: -- Второй фит модели в оптимизации\n",
      "11-Nov-19 12:11:08, root, DEBUG: -- Предикт модели в оптимизации\n",
      "11-Nov-19 12:11:08, root, DEBUG: Проверка датафреймов\n",
      "11-Nov-19 12:12:23, root, DEBUG: -- Длина рекомендаций: 1383290\n",
      "11-Nov-19 12:12:23, root, DEBUG: -- Дополняем рекомендации популярными\n",
      "11-Nov-19 12:12:28, root, DEBUG: -- Длина рекомендаций: 1383290\n",
      "11-Nov-19 12:12:28, root, DEBUG: -- Подсчет метрики в оптимизации\n",
      "11-Nov-19 12:13:08, root, DEBUG: -- Метрики: hit_rate=0.0004, ndcg=0.0001, precision=0.0001, map_metric=0.0000\n",
      "[I 2019-11-11 12:13:08,763] Finished trial#1 resulted in value: 0.0003542279637675397. Current best value is 0.0003542279637675397 with parameters: {'num_neighbours': 12.0, 'shrink': 0}.\n",
      "[W 2019-11-11 12:13:08,766] The range of parameter `num_neighbours` is not divisible by `q`, and is replaced by [3, 18].\n",
      "11-Nov-19 12:13:08, root, DEBUG: -- Параметры: {'num_neighbours': 18.0, 'shrink': 0}\n",
      "11-Nov-19 12:13:08, root, DEBUG: -- Второй фит модели в оптимизации\n",
      "11-Nov-19 12:13:08, root, DEBUG: -- Предикт модели в оптимизации\n",
      "11-Nov-19 12:13:08, root, DEBUG: Проверка датафреймов\n",
      "11-Nov-19 12:14:41, root, DEBUG: -- Длина рекомендаций: 1383290\n",
      "11-Nov-19 12:14:41, root, DEBUG: -- Дополняем рекомендации популярными\n",
      "11-Nov-19 12:14:46, root, DEBUG: -- Длина рекомендаций: 1383290\n",
      "11-Nov-19 12:14:46, root, DEBUG: -- Подсчет метрики в оптимизации\n",
      "11-Nov-19 12:15:31, root, DEBUG: -- Метрики: hit_rate=0.0003, ndcg=0.0001, precision=0.0000, map_metric=0.0000\n",
      "[I 2019-11-11 12:15:31,157] Finished trial#2 resulted in value: 0.00029639482682590056. Current best value is 0.0003542279637675397 with parameters: {'num_neighbours': 12.0, 'shrink': 0}.\n",
      "[W 2019-11-11 12:15:31,159] The range of parameter `num_neighbours` is not divisible by `q`, and is replaced by [3, 18].\n",
      "[W 2019-11-11 12:15:31,162] The range of parameter `num_neighbours` is not divisible by `q`, and is replaced by [3, 18].\n",
      "[W 2019-11-11 12:15:31,164] The range of parameter `num_neighbours` is not divisible by `q`, and is replaced by [3, 18].\n",
      "[W 2019-11-11 12:15:31,166] The range of parameter `num_neighbours` is not divisible by `q`, and is replaced by [3, 18].\n",
      "[W 2019-11-11 12:15:31,169] The range of parameter `num_neighbours` is not divisible by `q`, and is replaced by [3, 18].\n",
      "[W 2019-11-11 12:15:31,171] The range of parameter `num_neighbours` is not divisible by `q`, and is replaced by [3, 18].\n",
      "[W 2019-11-11 12:15:31,174] The range of parameter `num_neighbours` is not divisible by `q`, and is replaced by [3, 18].\n",
      "[W 2019-11-11 12:15:31,176] The range of parameter `num_neighbours` is not divisible by `q`, and is replaced by [3, 18].\n",
      "[W 2019-11-11 12:15:31,178] The range of parameter `num_neighbours` is not divisible by `q`, and is replaced by [3, 18].\n",
      "[W 2019-11-11 12:15:31,181] The range of parameter `num_neighbours` is not divisible by `q`, and is replaced by [3, 18].\n",
      "11-Nov-19 12:15:31, root, DEBUG: -- Параметры: {'num_neighbours': 12.0, 'shrink': 0}\n",
      "11-Nov-19 12:15:31, root, DEBUG: -- Второй фит модели в оптимизации\n",
      "11-Nov-19 12:15:31, root, DEBUG: -- Предикт модели в оптимизации\n",
      "11-Nov-19 12:15:31, root, DEBUG: Проверка датафреймов\n",
      "11-Nov-19 12:15:32, root, DEBUG: -- Длина рекомендаций: 1383290\n",
      "11-Nov-19 12:15:32, root, DEBUG: -- Дополняем рекомендации популярными\n",
      "11-Nov-19 12:15:40, root, DEBUG: -- Длина рекомендаций: 1383290\n",
      "11-Nov-19 12:15:40, root, DEBUG: -- Подсчет метрики в оптимизации\n",
      "11-Nov-19 12:16:21, root, DEBUG: -- Метрики: hit_rate=0.0004, ndcg=0.0001, precision=0.0001, map_metric=0.0000\n",
      "[I 2019-11-11 12:16:21,622] Finished trial#3 resulted in value: 0.0003542279637675397. Current best value is 0.0003542279637675397 with parameters: {'num_neighbours': 12.0, 'shrink': 0}.\n",
      "[W 2019-11-11 12:16:21,624] The range of parameter `num_neighbours` is not divisible by `q`, and is replaced by [3, 18].\n",
      "[W 2019-11-11 12:16:21,627] The range of parameter `num_neighbours` is not divisible by `q`, and is replaced by [3, 18].\n",
      "[W 2019-11-11 12:16:21,629] The range of parameter `num_neighbours` is not divisible by `q`, and is replaced by [3, 18].\n",
      "[W 2019-11-11 12:16:21,631] The range of parameter `num_neighbours` is not divisible by `q`, and is replaced by [3, 18].\n",
      "[W 2019-11-11 12:16:21,634] The range of parameter `num_neighbours` is not divisible by `q`, and is replaced by [3, 18].\n",
      "[W 2019-11-11 12:16:21,636] The range of parameter `num_neighbours` is not divisible by `q`, and is replaced by [3, 18].\n",
      "[W 2019-11-11 12:16:21,638] The range of parameter `num_neighbours` is not divisible by `q`, and is replaced by [3, 18].\n",
      "[W 2019-11-11 12:16:21,641] The range of parameter `num_neighbours` is not divisible by `q`, and is replaced by [3, 18].\n",
      "[W 2019-11-11 12:16:21,643] The range of parameter `num_neighbours` is not divisible by `q`, and is replaced by [3, 18].\n",
      "[W 2019-11-11 12:16:21,645] The range of parameter `num_neighbours` is not divisible by `q`, and is replaced by [3, 18].\n",
      "11-Nov-19 12:16:21, root, DEBUG: -- Параметры: {'num_neighbours': 12.0, 'shrink': 0}\n",
      "11-Nov-19 12:16:21, root, DEBUG: -- Второй фит модели в оптимизации\n",
      "11-Nov-19 12:16:21, root, DEBUG: -- Предикт модели в оптимизации\n",
      "11-Nov-19 12:16:21, root, DEBUG: Проверка датафреймов\n",
      "11-Nov-19 12:16:22, root, DEBUG: -- Длина рекомендаций: 1383290\n",
      "11-Nov-19 12:16:22, root, DEBUG: -- Дополняем рекомендации популярными\n",
      "11-Nov-19 12:16:29, root, DEBUG: -- Длина рекомендаций: 1383290\n",
      "11-Nov-19 12:16:29, root, DEBUG: -- Подсчет метрики в оптимизации\n",
      "11-Nov-19 12:17:05, root, DEBUG: -- Метрики: hit_rate=0.0004, ndcg=0.0001, precision=0.0001, map_metric=0.0000\n",
      "[I 2019-11-11 12:17:05,691] Finished trial#4 resulted in value: 0.0003542279637675397. Current best value is 0.0003542279637675397 with parameters: {'num_neighbours': 12.0, 'shrink': 0}.\n",
      "[W 2019-11-11 12:17:05,693] The range of parameter `num_neighbours` is not divisible by `q`, and is replaced by [3, 18].\n",
      "[W 2019-11-11 12:17:05,696] The range of parameter `num_neighbours` is not divisible by `q`, and is replaced by [3, 18].\n",
      "[W 2019-11-11 12:17:05,698] The range of parameter `num_neighbours` is not divisible by `q`, and is replaced by [3, 18].\n",
      "[W 2019-11-11 12:17:05,700] The range of parameter `num_neighbours` is not divisible by `q`, and is replaced by [3, 18].\n",
      "[W 2019-11-11 12:17:05,703] The range of parameter `num_neighbours` is not divisible by `q`, and is replaced by [3, 18].\n",
      "[W 2019-11-11 12:17:05,705] The range of parameter `num_neighbours` is not divisible by `q`, and is replaced by [3, 18].\n",
      "[W 2019-11-11 12:17:05,707] The range of parameter `num_neighbours` is not divisible by `q`, and is replaced by [3, 18].\n",
      "[W 2019-11-11 12:17:05,710] The range of parameter `num_neighbours` is not divisible by `q`, and is replaced by [3, 18].\n",
      "[W 2019-11-11 12:17:05,712] The range of parameter `num_neighbours` is not divisible by `q`, and is replaced by [3, 18].\n",
      "[W 2019-11-11 12:17:05,714] The range of parameter `num_neighbours` is not divisible by `q`, and is replaced by [3, 18].\n",
      "11-Nov-19 12:17:05, root, DEBUG: -- Параметры: {'num_neighbours': 18.0, 'shrink': 0}\n",
      "11-Nov-19 12:17:05, root, DEBUG: -- Второй фит модели в оптимизации\n",
      "11-Nov-19 12:17:05, root, DEBUG: -- Предикт модели в оптимизации\n",
      "11-Nov-19 12:17:05, root, DEBUG: Проверка датафреймов\n",
      "11-Nov-19 12:17:06, root, DEBUG: -- Длина рекомендаций: 1383290\n",
      "11-Nov-19 12:17:06, root, DEBUG: -- Дополняем рекомендации популярными\n",
      "11-Nov-19 12:17:12, root, DEBUG: -- Длина рекомендаций: 1383290\n",
      "11-Nov-19 12:17:12, root, DEBUG: -- Подсчет метрики в оптимизации\n",
      "11-Nov-19 12:17:49, root, DEBUG: -- Метрики: hit_rate=0.0003, ndcg=0.0001, precision=0.0000, map_metric=0.0000\n",
      "[I 2019-11-11 12:17:49,094] Finished trial#5 resulted in value: 0.00029639482682590056. Current best value is 0.0003542279637675397 with parameters: {'num_neighbours': 12.0, 'shrink': 0}.\n",
      "[W 2019-11-11 12:17:49,097] The range of parameter `num_neighbours` is not divisible by `q`, and is replaced by [3, 18].\n",
      "[W 2019-11-11 12:17:49,099] The range of parameter `num_neighbours` is not divisible by `q`, and is replaced by [3, 18].\n",
      "[W 2019-11-11 12:17:49,101] The range of parameter `num_neighbours` is not divisible by `q`, and is replaced by [3, 18].\n",
      "[W 2019-11-11 12:17:49,103] The range of parameter `num_neighbours` is not divisible by `q`, and is replaced by [3, 18].\n",
      "[W 2019-11-11 12:17:49,106] The range of parameter `num_neighbours` is not divisible by `q`, and is replaced by [3, 18].\n",
      "[W 2019-11-11 12:17:49,108] The range of parameter `num_neighbours` is not divisible by `q`, and is replaced by [3, 18].\n",
      "[W 2019-11-11 12:17:49,110] The range of parameter `num_neighbours` is not divisible by `q`, and is replaced by [3, 18].\n",
      "[W 2019-11-11 12:17:49,113] The range of parameter `num_neighbours` is not divisible by `q`, and is replaced by [3, 18].\n",
      "[W 2019-11-11 12:17:49,115] The range of parameter `num_neighbours` is not divisible by `q`, and is replaced by [3, 18].\n",
      "[W 2019-11-11 12:17:49,117] The range of parameter `num_neighbours` is not divisible by `q`, and is replaced by [3, 18].\n",
      "11-Nov-19 12:17:49, root, DEBUG: -- Параметры: {'num_neighbours': 15.0, 'shrink': 0}\n",
      "11-Nov-19 12:17:49, root, DEBUG: -- Второй фит модели в оптимизации\n",
      "11-Nov-19 12:17:49, root, DEBUG: -- Предикт модели в оптимизации\n",
      "11-Nov-19 12:17:49, root, DEBUG: Проверка датафреймов\n",
      "11-Nov-19 12:17:50, root, DEBUG: -- Длина рекомендаций: 1383290\n",
      "11-Nov-19 12:17:50, root, DEBUG: -- Дополняем рекомендации популярными\n",
      "11-Nov-19 12:17:54, root, DEBUG: -- Длина рекомендаций: 1383290\n",
      "11-Nov-19 12:17:54, root, DEBUG: -- Подсчет метрики в оптимизации\n",
      "11-Nov-19 12:18:31, root, DEBUG: -- Метрики: hit_rate=0.0003, ndcg=0.0001, precision=0.0001, map_metric=0.0000\n",
      "[I 2019-11-11 12:18:31,755] Finished trial#6 resulted in value: 0.00031808225317901526. Current best value is 0.0003542279637675397 with parameters: {'num_neighbours': 12.0, 'shrink': 0}.\n",
      "[W 2019-11-11 12:18:31,758] The range of parameter `num_neighbours` is not divisible by `q`, and is replaced by [3, 18].\n",
      "11-Nov-19 12:18:31, root, DEBUG: -- Параметры: {'num_neighbours': 9.0, 'shrink': 0}\n",
      "11-Nov-19 12:18:31, root, DEBUG: -- Второй фит модели в оптимизации\n",
      "11-Nov-19 12:18:31, root, DEBUG: -- Предикт модели в оптимизации\n",
      "11-Nov-19 12:18:31, root, DEBUG: Проверка датафреймов\n",
      "11-Nov-19 12:19:42, root, DEBUG: -- Длина рекомендаций: 1383290\n",
      "11-Nov-19 12:19:42, root, DEBUG: -- Дополняем рекомендации популярными\n",
      "11-Nov-19 12:19:47, root, DEBUG: -- Длина рекомендаций: 1383290\n",
      "11-Nov-19 12:19:47, root, DEBUG: -- Подсчет метрики в оптимизации\n",
      "11-Nov-19 12:20:27, root, DEBUG: -- Метрики: hit_rate=0.0004, ndcg=0.0001, precision=0.0001, map_metric=0.0000\n",
      "[I 2019-11-11 12:20:27,549] Finished trial#7 resulted in value: 0.00039037367435606417. Current best value is 0.00039037367435606417 with parameters: {'num_neighbours': 9.0, 'shrink': 0}.\n",
      "[W 2019-11-11 12:20:27,552] The range of parameter `num_neighbours` is not divisible by `q`, and is replaced by [3, 18].\n",
      "[W 2019-11-11 12:20:27,554] The range of parameter `num_neighbours` is not divisible by `q`, and is replaced by [3, 18].\n",
      "[W 2019-11-11 12:20:27,556] The range of parameter `num_neighbours` is not divisible by `q`, and is replaced by [3, 18].\n",
      "[W 2019-11-11 12:20:27,559] The range of parameter `num_neighbours` is not divisible by `q`, and is replaced by [3, 18].\n",
      "[W 2019-11-11 12:20:27,561] The range of parameter `num_neighbours` is not divisible by `q`, and is replaced by [3, 18].\n",
      "[W 2019-11-11 12:20:27,563] The range of parameter `num_neighbours` is not divisible by `q`, and is replaced by [3, 18].\n",
      "[W 2019-11-11 12:20:27,565] The range of parameter `num_neighbours` is not divisible by `q`, and is replaced by [3, 18].\n",
      "[W 2019-11-11 12:20:27,568] The range of parameter `num_neighbours` is not divisible by `q`, and is replaced by [3, 18].\n",
      "[W 2019-11-11 12:20:27,570] The range of parameter `num_neighbours` is not divisible by `q`, and is replaced by [3, 18].\n",
      "[W 2019-11-11 12:20:27,572] The range of parameter `num_neighbours` is not divisible by `q`, and is replaced by [3, 18].\n",
      "11-Nov-19 12:20:27, root, DEBUG: -- Параметры: {'num_neighbours': 9.0, 'shrink': 0}\n",
      "11-Nov-19 12:20:27, root, DEBUG: -- Второй фит модели в оптимизации\n",
      "11-Nov-19 12:20:27, root, DEBUG: -- Предикт модели в оптимизации\n",
      "11-Nov-19 12:20:27, root, DEBUG: Проверка датафреймов\n",
      "11-Nov-19 12:20:28, root, DEBUG: -- Длина рекомендаций: 1383290\n",
      "11-Nov-19 12:20:28, root, DEBUG: -- Дополняем рекомендации популярными\n",
      "11-Nov-19 12:20:34, root, DEBUG: -- Длина рекомендаций: 1383290\n",
      "11-Nov-19 12:20:34, root, DEBUG: -- Подсчет метрики в оптимизации\n",
      "11-Nov-19 12:21:12, root, DEBUG: -- Метрики: hit_rate=0.0004, ndcg=0.0001, precision=0.0001, map_metric=0.0000\n",
      "[I 2019-11-11 12:21:12,451] Finished trial#8 resulted in value: 0.00039037367435606417. Current best value is 0.00039037367435606417 with parameters: {'num_neighbours': 9.0, 'shrink': 0}.\n",
      "[W 2019-11-11 12:21:12,453] The range of parameter `num_neighbours` is not divisible by `q`, and is replaced by [3, 18].\n",
      "[W 2019-11-11 12:21:12,455] The range of parameter `num_neighbours` is not divisible by `q`, and is replaced by [3, 18].\n",
      "[W 2019-11-11 12:21:12,458] The range of parameter `num_neighbours` is not divisible by `q`, and is replaced by [3, 18].\n",
      "[W 2019-11-11 12:21:12,460] The range of parameter `num_neighbours` is not divisible by `q`, and is replaced by [3, 18].\n",
      "[W 2019-11-11 12:21:12,462] The range of parameter `num_neighbours` is not divisible by `q`, and is replaced by [3, 18].\n",
      "[W 2019-11-11 12:21:12,465] The range of parameter `num_neighbours` is not divisible by `q`, and is replaced by [3, 18].\n",
      "[W 2019-11-11 12:21:12,467] The range of parameter `num_neighbours` is not divisible by `q`, and is replaced by [3, 18].\n",
      "[W 2019-11-11 12:21:12,469] The range of parameter `num_neighbours` is not divisible by `q`, and is replaced by [3, 18].\n",
      "[W 2019-11-11 12:21:12,472] The range of parameter `num_neighbours` is not divisible by `q`, and is replaced by [3, 18].\n",
      "[W 2019-11-11 12:21:12,474] The range of parameter `num_neighbours` is not divisible by `q`, and is replaced by [3, 18].\n",
      "11-Nov-19 12:21:12, root, DEBUG: -- Параметры: {'num_neighbours': 15.0, 'shrink': 0}\n"
     ]
    },
    {
     "name": "stderr",
     "output_type": "stream",
     "text": [
      "11-Nov-19 12:21:12, root, DEBUG: -- Второй фит модели в оптимизации\n",
      "11-Nov-19 12:21:12, root, DEBUG: -- Предикт модели в оптимизации\n",
      "11-Nov-19 12:21:12, root, DEBUG: Проверка датафреймов\n",
      "11-Nov-19 12:21:13, root, DEBUG: -- Длина рекомендаций: 1383290\n",
      "11-Nov-19 12:21:13, root, DEBUG: -- Дополняем рекомендации популярными\n",
      "11-Nov-19 12:21:24, root, DEBUG: -- Длина рекомендаций: 1383290\n",
      "11-Nov-19 12:21:24, root, DEBUG: -- Подсчет метрики в оптимизации\n",
      "11-Nov-19 12:22:05, root, DEBUG: -- Метрики: hit_rate=0.0003, ndcg=0.0001, precision=0.0001, map_metric=0.0000\n",
      "[I 2019-11-11 12:22:06,109] Finished trial#9 resulted in value: 0.00031808225317901526. Current best value is 0.00039037367435606417 with parameters: {'num_neighbours': 9.0, 'shrink': 0}.\n",
      "11-Nov-19 12:22:06, root, DEBUG: Лучшие значения метрики: 0.00039037367435606417\n",
      "11-Nov-19 12:22:06, root, DEBUG: Лучшие параметры: {'num_neighbours': 9.0, 'shrink': 0}\n"
     ]
    },
    {
     "name": "stdout",
     "output_type": "stream",
     "text": [
      "CPU times: user 2.64 s, sys: 568 ms, total: 3.21 s\n",
      "Wall time: 13min 17s\n"
     ]
    }
   ],
   "source": [
    "%%time\n",
    "\n",
    "knn_params_grid = {\n",
    "    'num_neighbours': (3, 20, 3), \n",
    "    'shrink': [0]\n",
    "}\n",
    "\n",
    "best_params = knn_scenario.research(\n",
    "    knn_params_grid,\n",
    "    df,\n",
    "    users=None, items=None,\n",
    "    user_features=None,\n",
    "    item_features=None,\n",
    "    test_start=None,\n",
    "    test_size=0.2,\n",
    "    k=10, context='no_context',\n",
    "    to_filter_seen_items=True,\n",
    "    n_trials=10, \n",
    "    n_jobs=1,\n",
    "    how_to_split='randomly'\n",
    ")"
   ]
  },
  {
   "cell_type": "code",
   "execution_count": 29,
   "metadata": {},
   "outputs": [
    {
     "data": {
      "text/html": [
       "<div>\n",
       "<style scoped>\n",
       "    .dataframe tbody tr th:only-of-type {\n",
       "        vertical-align: middle;\n",
       "    }\n",
       "\n",
       "    .dataframe tbody tr th {\n",
       "        vertical-align: top;\n",
       "    }\n",
       "\n",
       "    .dataframe thead tr th {\n",
       "        text-align: left;\n",
       "    }\n",
       "</style>\n",
       "<table border=\"1\" class=\"dataframe\">\n",
       "  <thead>\n",
       "    <tr>\n",
       "      <th></th>\n",
       "      <th>number</th>\n",
       "      <th>state</th>\n",
       "      <th>value</th>\n",
       "      <th>datetime_start</th>\n",
       "      <th>datetime_complete</th>\n",
       "      <th colspan=\"2\" halign=\"left\">params</th>\n",
       "      <th colspan=\"4\" halign=\"left\">user_attrs</th>\n",
       "      <th>system_attrs</th>\n",
       "    </tr>\n",
       "    <tr>\n",
       "      <th></th>\n",
       "      <th></th>\n",
       "      <th></th>\n",
       "      <th></th>\n",
       "      <th></th>\n",
       "      <th></th>\n",
       "      <th>num_neighbours</th>\n",
       "      <th>shrink</th>\n",
       "      <th>HitRate@k</th>\n",
       "      <th>MAP@k</th>\n",
       "      <th>nDCG@k</th>\n",
       "      <th>precision@k</th>\n",
       "      <th>_number</th>\n",
       "    </tr>\n",
       "  </thead>\n",
       "  <tbody>\n",
       "    <tr>\n",
       "      <th>0</th>\n",
       "      <td>0</td>\n",
       "      <td>TrialState.COMPLETE</td>\n",
       "      <td>0.000318</td>\n",
       "      <td>2019-11-11 12:08:53.689031</td>\n",
       "      <td>2019-11-11 12:11:07.966898</td>\n",
       "      <td>15.0</td>\n",
       "      <td>0</td>\n",
       "      <td>0.000318</td>\n",
       "      <td>0.000004</td>\n",
       "      <td>0.000056</td>\n",
       "      <td>0.000053</td>\n",
       "      <td>0</td>\n",
       "    </tr>\n",
       "    <tr>\n",
       "      <th>1</th>\n",
       "      <td>1</td>\n",
       "      <td>TrialState.COMPLETE</td>\n",
       "      <td>0.000354</td>\n",
       "      <td>2019-11-11 12:11:07.969503</td>\n",
       "      <td>2019-11-11 12:13:08.762911</td>\n",
       "      <td>12.0</td>\n",
       "      <td>0</td>\n",
       "      <td>0.000354</td>\n",
       "      <td>0.000004</td>\n",
       "      <td>0.000060</td>\n",
       "      <td>0.000060</td>\n",
       "      <td>1</td>\n",
       "    </tr>\n",
       "    <tr>\n",
       "      <th>2</th>\n",
       "      <td>2</td>\n",
       "      <td>TrialState.COMPLETE</td>\n",
       "      <td>0.000296</td>\n",
       "      <td>2019-11-11 12:13:08.765864</td>\n",
       "      <td>2019-11-11 12:15:31.156724</td>\n",
       "      <td>18.0</td>\n",
       "      <td>0</td>\n",
       "      <td>0.000296</td>\n",
       "      <td>0.000003</td>\n",
       "      <td>0.000051</td>\n",
       "      <td>0.000046</td>\n",
       "      <td>2</td>\n",
       "    </tr>\n",
       "    <tr>\n",
       "      <th>3</th>\n",
       "      <td>3</td>\n",
       "      <td>TrialState.COMPLETE</td>\n",
       "      <td>0.000354</td>\n",
       "      <td>2019-11-11 12:15:31.159816</td>\n",
       "      <td>2019-11-11 12:16:21.621247</td>\n",
       "      <td>12.0</td>\n",
       "      <td>0</td>\n",
       "      <td>0.000354</td>\n",
       "      <td>0.000004</td>\n",
       "      <td>0.000060</td>\n",
       "      <td>0.000060</td>\n",
       "      <td>3</td>\n",
       "    </tr>\n",
       "    <tr>\n",
       "      <th>4</th>\n",
       "      <td>4</td>\n",
       "      <td>TrialState.COMPLETE</td>\n",
       "      <td>0.000354</td>\n",
       "      <td>2019-11-11 12:16:21.624527</td>\n",
       "      <td>2019-11-11 12:17:05.690137</td>\n",
       "      <td>12.0</td>\n",
       "      <td>0</td>\n",
       "      <td>0.000354</td>\n",
       "      <td>0.000004</td>\n",
       "      <td>0.000060</td>\n",
       "      <td>0.000060</td>\n",
       "      <td>4</td>\n",
       "    </tr>\n",
       "    <tr>\n",
       "      <th>5</th>\n",
       "      <td>5</td>\n",
       "      <td>TrialState.COMPLETE</td>\n",
       "      <td>0.000296</td>\n",
       "      <td>2019-11-11 12:17:05.693618</td>\n",
       "      <td>2019-11-11 12:17:49.093246</td>\n",
       "      <td>18.0</td>\n",
       "      <td>0</td>\n",
       "      <td>0.000296</td>\n",
       "      <td>0.000003</td>\n",
       "      <td>0.000051</td>\n",
       "      <td>0.000046</td>\n",
       "      <td>5</td>\n",
       "    </tr>\n",
       "    <tr>\n",
       "      <th>6</th>\n",
       "      <td>6</td>\n",
       "      <td>TrialState.COMPLETE</td>\n",
       "      <td>0.000318</td>\n",
       "      <td>2019-11-11 12:17:49.096900</td>\n",
       "      <td>2019-11-11 12:18:31.754254</td>\n",
       "      <td>15.0</td>\n",
       "      <td>0</td>\n",
       "      <td>0.000318</td>\n",
       "      <td>0.000004</td>\n",
       "      <td>0.000056</td>\n",
       "      <td>0.000053</td>\n",
       "      <td>6</td>\n",
       "    </tr>\n",
       "    <tr>\n",
       "      <th>7</th>\n",
       "      <td>7</td>\n",
       "      <td>TrialState.COMPLETE</td>\n",
       "      <td>0.000390</td>\n",
       "      <td>2019-11-11 12:18:31.758186</td>\n",
       "      <td>2019-11-11 12:20:27.547856</td>\n",
       "      <td>9.0</td>\n",
       "      <td>0</td>\n",
       "      <td>0.000390</td>\n",
       "      <td>0.000006</td>\n",
       "      <td>0.000066</td>\n",
       "      <td>0.000062</td>\n",
       "      <td>7</td>\n",
       "    </tr>\n",
       "    <tr>\n",
       "      <th>8</th>\n",
       "      <td>8</td>\n",
       "      <td>TrialState.COMPLETE</td>\n",
       "      <td>0.000390</td>\n",
       "      <td>2019-11-11 12:20:27.551938</td>\n",
       "      <td>2019-11-11 12:21:12.448889</td>\n",
       "      <td>9.0</td>\n",
       "      <td>0</td>\n",
       "      <td>0.000390</td>\n",
       "      <td>0.000006</td>\n",
       "      <td>0.000066</td>\n",
       "      <td>0.000062</td>\n",
       "      <td>8</td>\n",
       "    </tr>\n",
       "    <tr>\n",
       "      <th>9</th>\n",
       "      <td>9</td>\n",
       "      <td>TrialState.COMPLETE</td>\n",
       "      <td>0.000318</td>\n",
       "      <td>2019-11-11 12:21:12.453323</td>\n",
       "      <td>2019-11-11 12:22:06.107235</td>\n",
       "      <td>15.0</td>\n",
       "      <td>0</td>\n",
       "      <td>0.000318</td>\n",
       "      <td>0.000004</td>\n",
       "      <td>0.000056</td>\n",
       "      <td>0.000053</td>\n",
       "      <td>9</td>\n",
       "    </tr>\n",
       "    <tr>\n",
       "      <th>0</th>\n",
       "      <td>0</td>\n",
       "      <td>TrialState.COMPLETE</td>\n",
       "      <td>0.000152</td>\n",
       "      <td>2019-11-11 11:03:33.862585</td>\n",
       "      <td>2019-11-11 11:24:51.818068</td>\n",
       "      <td>90.0</td>\n",
       "      <td>0</td>\n",
       "      <td>0.000152</td>\n",
       "      <td>0.000004</td>\n",
       "      <td>0.000025</td>\n",
       "      <td>0.000019</td>\n",
       "      <td>0</td>\n",
       "    </tr>\n",
       "    <tr>\n",
       "      <th>1</th>\n",
       "      <td>1</td>\n",
       "      <td>TrialState.COMPLETE</td>\n",
       "      <td>0.000260</td>\n",
       "      <td>2019-11-11 11:24:51.821371</td>\n",
       "      <td>2019-11-11 11:27:48.118787</td>\n",
       "      <td>25.0</td>\n",
       "      <td>0</td>\n",
       "      <td>0.000260</td>\n",
       "      <td>0.000001</td>\n",
       "      <td>0.000038</td>\n",
       "      <td>0.000035</td>\n",
       "      <td>1</td>\n",
       "    </tr>\n",
       "    <tr>\n",
       "      <th>2</th>\n",
       "      <td>2</td>\n",
       "      <td>TrialState.COMPLETE</td>\n",
       "      <td>0.000253</td>\n",
       "      <td>2019-11-11 11:27:48.121738</td>\n",
       "      <td>2019-11-11 11:31:19.869630</td>\n",
       "      <td>40.0</td>\n",
       "      <td>0</td>\n",
       "      <td>0.000253</td>\n",
       "      <td>0.000002</td>\n",
       "      <td>0.000034</td>\n",
       "      <td>0.000030</td>\n",
       "      <td>2</td>\n",
       "    </tr>\n",
       "    <tr>\n",
       "      <th>3</th>\n",
       "      <td>3</td>\n",
       "      <td>TrialState.COMPLETE</td>\n",
       "      <td>0.000260</td>\n",
       "      <td>2019-11-11 11:31:19.872788</td>\n",
       "      <td>2019-11-11 11:32:11.505008</td>\n",
       "      <td>25.0</td>\n",
       "      <td>0</td>\n",
       "      <td>0.000260</td>\n",
       "      <td>0.000001</td>\n",
       "      <td>0.000038</td>\n",
       "      <td>0.000035</td>\n",
       "      <td>3</td>\n",
       "    </tr>\n",
       "    <tr>\n",
       "      <th>4</th>\n",
       "      <td>4</td>\n",
       "      <td>TrialState.COMPLETE</td>\n",
       "      <td>0.000152</td>\n",
       "      <td>2019-11-11 11:32:11.508202</td>\n",
       "      <td>2019-11-11 11:39:03.910922</td>\n",
       "      <td>95.0</td>\n",
       "      <td>0</td>\n",
       "      <td>0.000152</td>\n",
       "      <td>0.000004</td>\n",
       "      <td>0.000025</td>\n",
       "      <td>0.000019</td>\n",
       "      <td>4</td>\n",
       "    </tr>\n",
       "    <tr>\n",
       "      <th>5</th>\n",
       "      <td>5</td>\n",
       "      <td>TrialState.COMPLETE</td>\n",
       "      <td>0.000195</td>\n",
       "      <td>2019-11-11 11:39:03.914358</td>\n",
       "      <td>2019-11-11 11:43:47.049338</td>\n",
       "      <td>60.0</td>\n",
       "      <td>0</td>\n",
       "      <td>0.000195</td>\n",
       "      <td>0.000003</td>\n",
       "      <td>0.000030</td>\n",
       "      <td>0.000023</td>\n",
       "      <td>5</td>\n",
       "    </tr>\n",
       "    <tr>\n",
       "      <th>6</th>\n",
       "      <td>6</td>\n",
       "      <td>TrialState.COMPLETE</td>\n",
       "      <td>0.000152</td>\n",
       "      <td>2019-11-11 11:43:47.053299</td>\n",
       "      <td>2019-11-11 11:50:06.738916</td>\n",
       "      <td>85.0</td>\n",
       "      <td>0</td>\n",
       "      <td>0.000152</td>\n",
       "      <td>0.000004</td>\n",
       "      <td>0.000028</td>\n",
       "      <td>0.000021</td>\n",
       "      <td>6</td>\n",
       "    </tr>\n",
       "    <tr>\n",
       "      <th>7</th>\n",
       "      <td>7</td>\n",
       "      <td>TrialState.COMPLETE</td>\n",
       "      <td>0.000195</td>\n",
       "      <td>2019-11-11 11:50:06.742823</td>\n",
       "      <td>2019-11-11 11:55:12.698707</td>\n",
       "      <td>65.0</td>\n",
       "      <td>0</td>\n",
       "      <td>0.000195</td>\n",
       "      <td>0.000004</td>\n",
       "      <td>0.000030</td>\n",
       "      <td>0.000024</td>\n",
       "      <td>7</td>\n",
       "    </tr>\n",
       "    <tr>\n",
       "      <th>8</th>\n",
       "      <td>8</td>\n",
       "      <td>TrialState.COMPLETE</td>\n",
       "      <td>0.000195</td>\n",
       "      <td>2019-11-11 11:55:12.702853</td>\n",
       "      <td>2019-11-11 11:55:55.893025</td>\n",
       "      <td>60.0</td>\n",
       "      <td>0</td>\n",
       "      <td>0.000195</td>\n",
       "      <td>0.000003</td>\n",
       "      <td>0.000030</td>\n",
       "      <td>0.000023</td>\n",
       "      <td>8</td>\n",
       "    </tr>\n",
       "    <tr>\n",
       "      <th>9</th>\n",
       "      <td>9</td>\n",
       "      <td>TrialState.COMPLETE</td>\n",
       "      <td>0.000152</td>\n",
       "      <td>2019-11-11 11:55:55.897369</td>\n",
       "      <td>2019-11-11 12:01:44.073730</td>\n",
       "      <td>75.0</td>\n",
       "      <td>0</td>\n",
       "      <td>0.000152</td>\n",
       "      <td>0.000005</td>\n",
       "      <td>0.000029</td>\n",
       "      <td>0.000021</td>\n",
       "      <td>9</td>\n",
       "    </tr>\n",
       "  </tbody>\n",
       "</table>\n",
       "</div>"
      ],
      "text/plain": [
       "  number                state     value             datetime_start  \\\n",
       "                                                                     \n",
       "0  0      TrialState.COMPLETE  0.000318 2019-11-11 12:08:53.689031   \n",
       "1  1      TrialState.COMPLETE  0.000354 2019-11-11 12:11:07.969503   \n",
       "2  2      TrialState.COMPLETE  0.000296 2019-11-11 12:13:08.765864   \n",
       "3  3      TrialState.COMPLETE  0.000354 2019-11-11 12:15:31.159816   \n",
       "4  4      TrialState.COMPLETE  0.000354 2019-11-11 12:16:21.624527   \n",
       "5  5      TrialState.COMPLETE  0.000296 2019-11-11 12:17:05.693618   \n",
       "6  6      TrialState.COMPLETE  0.000318 2019-11-11 12:17:49.096900   \n",
       "7  7      TrialState.COMPLETE  0.000390 2019-11-11 12:18:31.758186   \n",
       "8  8      TrialState.COMPLETE  0.000390 2019-11-11 12:20:27.551938   \n",
       "9  9      TrialState.COMPLETE  0.000318 2019-11-11 12:21:12.453323   \n",
       "0  0      TrialState.COMPLETE  0.000152 2019-11-11 11:03:33.862585   \n",
       "1  1      TrialState.COMPLETE  0.000260 2019-11-11 11:24:51.821371   \n",
       "2  2      TrialState.COMPLETE  0.000253 2019-11-11 11:27:48.121738   \n",
       "3  3      TrialState.COMPLETE  0.000260 2019-11-11 11:31:19.872788   \n",
       "4  4      TrialState.COMPLETE  0.000152 2019-11-11 11:32:11.508202   \n",
       "5  5      TrialState.COMPLETE  0.000195 2019-11-11 11:39:03.914358   \n",
       "6  6      TrialState.COMPLETE  0.000152 2019-11-11 11:43:47.053299   \n",
       "7  7      TrialState.COMPLETE  0.000195 2019-11-11 11:50:06.742823   \n",
       "8  8      TrialState.COMPLETE  0.000195 2019-11-11 11:55:12.702853   \n",
       "9  9      TrialState.COMPLETE  0.000152 2019-11-11 11:55:55.897369   \n",
       "\n",
       "           datetime_complete         params        user_attrs            \\\n",
       "                             num_neighbours shrink  HitRate@k     MAP@k   \n",
       "0 2019-11-11 12:11:07.966898  15.0           0      0.000318   0.000004   \n",
       "1 2019-11-11 12:13:08.762911  12.0           0      0.000354   0.000004   \n",
       "2 2019-11-11 12:15:31.156724  18.0           0      0.000296   0.000003   \n",
       "3 2019-11-11 12:16:21.621247  12.0           0      0.000354   0.000004   \n",
       "4 2019-11-11 12:17:05.690137  12.0           0      0.000354   0.000004   \n",
       "5 2019-11-11 12:17:49.093246  18.0           0      0.000296   0.000003   \n",
       "6 2019-11-11 12:18:31.754254  15.0           0      0.000318   0.000004   \n",
       "7 2019-11-11 12:20:27.547856  9.0            0      0.000390   0.000006   \n",
       "8 2019-11-11 12:21:12.448889  9.0            0      0.000390   0.000006   \n",
       "9 2019-11-11 12:22:06.107235  15.0           0      0.000318   0.000004   \n",
       "0 2019-11-11 11:24:51.818068  90.0           0      0.000152   0.000004   \n",
       "1 2019-11-11 11:27:48.118787  25.0           0      0.000260   0.000001   \n",
       "2 2019-11-11 11:31:19.869630  40.0           0      0.000253   0.000002   \n",
       "3 2019-11-11 11:32:11.505008  25.0           0      0.000260   0.000001   \n",
       "4 2019-11-11 11:39:03.910922  95.0           0      0.000152   0.000004   \n",
       "5 2019-11-11 11:43:47.049338  60.0           0      0.000195   0.000003   \n",
       "6 2019-11-11 11:50:06.738916  85.0           0      0.000152   0.000004   \n",
       "7 2019-11-11 11:55:12.698707  65.0           0      0.000195   0.000004   \n",
       "8 2019-11-11 11:55:55.893025  60.0           0      0.000195   0.000003   \n",
       "9 2019-11-11 12:01:44.073730  75.0           0      0.000152   0.000005   \n",
       "\n",
       "                        system_attrs  \n",
       "     nDCG@k precision@k      _number  \n",
       "0  0.000056  0.000053    0            \n",
       "1  0.000060  0.000060    1            \n",
       "2  0.000051  0.000046    2            \n",
       "3  0.000060  0.000060    3            \n",
       "4  0.000060  0.000060    4            \n",
       "5  0.000051  0.000046    5            \n",
       "6  0.000056  0.000053    6            \n",
       "7  0.000066  0.000062    7            \n",
       "8  0.000066  0.000062    8            \n",
       "9  0.000056  0.000053    9            \n",
       "0  0.000025  0.000019    0            \n",
       "1  0.000038  0.000035    1            \n",
       "2  0.000034  0.000030    2            \n",
       "3  0.000038  0.000035    3            \n",
       "4  0.000025  0.000019    4            \n",
       "5  0.000030  0.000023    5            \n",
       "6  0.000028  0.000021    6            \n",
       "7  0.000030  0.000024    7            \n",
       "8  0.000030  0.000023    8            \n",
       "9  0.000029  0.000021    9            "
      ]
     },
     "execution_count": 29,
     "metadata": {},
     "output_type": "execute_result"
    }
   ],
   "source": [
    "knn_results = pd.concat([knn_scenario.study.trials_dataframe(), knn_results])\n",
    "\n",
    "knn_results"
   ]
  }
 ],
 "metadata": {
  "kernelspec": {
   "display_name": "Python 3",
   "language": "python",
   "name": "python3"
  },
  "language_info": {
   "codemirror_mode": {
    "name": "ipython",
    "version": 3
   },
   "file_extension": ".py",
   "mimetype": "text/x-python",
   "name": "python",
   "nbconvert_exporter": "python",
   "pygments_lexer": "ipython3",
   "version": "3.7.4"
  },
  "pycharm": {
   "stem_cell": {
    "cell_type": "raw",
    "metadata": {
     "collapsed": false
    },
    "source": []
   }
  }
 },
 "nbformat": 4,
 "nbformat_minor": 2
}
