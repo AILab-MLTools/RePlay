{
 "cells": [
  {
   "cell_type": "code",
   "execution_count": 1,
   "metadata": {
    "scrolled": true
   },
   "outputs": [],
   "source": [
    "%load_ext autoreload\n",
    "%autoreload 2"
   ]
  },
  {
   "cell_type": "code",
   "execution_count": 2,
   "metadata": {
    "scrolled": true
   },
   "outputs": [
    {
     "data": {
      "text/html": [
       "\n",
       "            <div>\n",
       "                <p><b>SparkSession - hive</b></p>\n",
       "                \n",
       "        <div>\n",
       "            <p><b>SparkContext</b></p>\n",
       "\n",
       "            <p><a href=\"http://localhost:4041\">Spark UI</a></p>\n",
       "\n",
       "            <dl>\n",
       "              <dt>Version</dt>\n",
       "                <dd><code>v3.0.0</code></dd>\n",
       "              <dt>Master</dt>\n",
       "                <dd><code>local[*]</code></dd>\n",
       "              <dt>AppName</dt>\n",
       "                <dd><code>pyspark-shell</code></dd>\n",
       "            </dl>\n",
       "        </div>\n",
       "        \n",
       "            </div>\n",
       "        "
      ],
      "text/plain": [
       "<pyspark.sql.session.SparkSession at 0x112b0dc50>"
      ]
     },
     "execution_count": 2,
     "metadata": {},
     "output_type": "execute_result"
    }
   ],
   "source": [
    "from replay.session_handler import State\n",
    "\n",
    "spark = State().session\n",
    "spark"
   ]
  },
  {
   "cell_type": "code",
   "execution_count": 10,
   "metadata": {},
   "outputs": [
    {
     "data": {
      "text/html": [
       "<div>\n",
       "<style scoped>\n",
       "    .dataframe tbody tr th:only-of-type {\n",
       "        vertical-align: middle;\n",
       "    }\n",
       "\n",
       "    .dataframe tbody tr th {\n",
       "        vertical-align: top;\n",
       "    }\n",
       "\n",
       "    .dataframe thead th {\n",
       "        text-align: right;\n",
       "    }\n",
       "</style>\n",
       "<table border=\"1\" class=\"dataframe\">\n",
       "  <thead>\n",
       "    <tr style=\"text-align: right;\">\n",
       "      <th></th>\n",
       "      <th>user_id</th>\n",
       "      <th>item_id</th>\n",
       "      <th>relevance</th>\n",
       "      <th>timestamp</th>\n",
       "    </tr>\n",
       "  </thead>\n",
       "  <tbody>\n",
       "    <tr>\n",
       "      <th>0</th>\n",
       "      <td>1</td>\n",
       "      <td>1193</td>\n",
       "      <td>5</td>\n",
       "      <td>978300760</td>\n",
       "    </tr>\n",
       "    <tr>\n",
       "      <th>1</th>\n",
       "      <td>1</td>\n",
       "      <td>661</td>\n",
       "      <td>3</td>\n",
       "      <td>978302109</td>\n",
       "    </tr>\n",
       "    <tr>\n",
       "      <th>2</th>\n",
       "      <td>1</td>\n",
       "      <td>914</td>\n",
       "      <td>3</td>\n",
       "      <td>978301968</td>\n",
       "    </tr>\n",
       "    <tr>\n",
       "      <th>3</th>\n",
       "      <td>1</td>\n",
       "      <td>3408</td>\n",
       "      <td>4</td>\n",
       "      <td>978300275</td>\n",
       "    </tr>\n",
       "    <tr>\n",
       "      <th>4</th>\n",
       "      <td>1</td>\n",
       "      <td>2355</td>\n",
       "      <td>5</td>\n",
       "      <td>978824291</td>\n",
       "    </tr>\n",
       "  </tbody>\n",
       "</table>\n",
       "</div>"
      ],
      "text/plain": [
       "   user_id  item_id  relevance  timestamp\n",
       "0        1     1193          5  978300760\n",
       "1        1      661          3  978302109\n",
       "2        1      914          3  978301968\n",
       "3        1     3408          4  978300275\n",
       "4        1     2355          5  978824291"
      ]
     },
     "execution_count": 10,
     "metadata": {},
     "output_type": "execute_result"
    }
   ],
   "source": [
    "import pandas as pd\n",
    "\n",
    "df = pd.read_csv(\"data/ml1m_ratings.dat\", sep=\"\\t\", names=[\"user_id\", \"item_id\", \"relevance\", \"timestamp\"])\n",
    "items = pd.read_csv(\"data/ml1m_items.dat\", sep=\"\\t\", names=[\"item_id\", \"titile\", \"genres\"])\n",
    "df.head()"
   ]
  },
  {
   "cell_type": "code",
   "execution_count": 7,
   "metadata": {},
   "outputs": [],
   "source": [
    "from replay.data_preparator import DataPreparator\n",
    "\n",
    "log = DataPreparator().transform(\n",
    "    data=df,\n",
    "    columns_names={\n",
    "        \"user_id\": \"user_id\",\n",
    "        \"item_id\": \"item_id\",\n",
    "        \"relevance\": \"relevance\",\n",
    "        \"timestamp\": \"timestamp\"\n",
    "    }\n",
    ")"
   ]
  },
  {
   "cell_type": "code",
   "execution_count": 12,
   "metadata": {},
   "outputs": [],
   "source": [
    "import pandas as pd\n",
    "from sklearn.preprocessing import MultiLabelBinarizer,LabelBinarizer\n",
    "\n",
    "mlb = MultiLabelBinarizer()\n",
    "lb = LabelBinarizer()\n",
    "item_features = pd.DataFrame(mlb.fit_transform(items.genres.apply(lambda x: x.split(\"|\"))),\n",
    "                   columns=list(map(lambda x: f\"genre_{x}\",mlb.classes_)),\n",
    "                   index=items.item_id).reset_index()"
   ]
  },
  {
   "cell_type": "code",
   "execution_count": 13,
   "metadata": {},
   "outputs": [],
   "source": [
    "item_features_spark = DataPreparator().transform(\n",
    "    data=item_features,\n",
    "    columns_names={\n",
    "        \"item_id\": \"item_id\"\n",
    "    }\n",
    ").drop(\"timestamp\")"
   ]
  },
  {
   "cell_type": "code",
   "execution_count": 14,
   "metadata": {},
   "outputs": [],
   "source": [
    "from replay.splitters import UserSplitter\n",
    "\n",
    "second_stage_splitter = UserSplitter(\n",
    "    drop_cold_items=True,\n",
    "    drop_cold_users=True,\n",
    "    item_test_size=1,\n",
    "    user_test_size=1000,\n",
    "    seed=1234,\n",
    "    shuffle=True\n",
    ")"
   ]
  },
  {
   "cell_type": "code",
   "execution_count": 15,
   "metadata": {},
   "outputs": [
    {
     "name": "stderr",
     "output_type": "stream",
     "text": [
      "/Users/darel/python/sponge-bob-magic/.new_env2/lib/python3.7/site-packages/lightfm/_lightfm_fast.py:9: UserWarning: LightFM was compiled without OpenMP support. Only a single thread will be used.\n",
      "  warnings.warn('LightFM was compiled without OpenMP support. '\n"
     ]
    }
   ],
   "source": [
    "from replay.models import ALSWrap\n",
    "\n",
    "first_model = ALSWrap(rank=96)"
   ]
  },
  {
   "cell_type": "code",
   "execution_count": 19,
   "metadata": {},
   "outputs": [],
   "source": [
    "from replay.models import ClassifierRec\n",
    "from pyspark.ml.classification import RandomForestClassifier\n",
    "\n",
    "second_model = ClassifierRec(RandomForestClassifier(numTrees=100), use_recs_value=True)"
   ]
  },
  {
   "cell_type": "code",
   "execution_count": 20,
   "metadata": {},
   "outputs": [],
   "source": [
    "from replay.scenarios import TwoStagesScenario\n",
    "\n",
    "two_stages = TwoStagesScenario(\n",
    "    second_stage_splitter=second_stage_splitter,\n",
    "    second_model=second_model,\n",
    "    first_model=first_model\n",
    ")"
   ]
  },
  {
   "cell_type": "code",
   "execution_count": 21,
   "metadata": {},
   "outputs": [
    {
     "name": "stderr",
     "output_type": "stream",
     "text": [
      "02-Mar-21 18:00:15, replay, DEBUG: mixed_train stat: total lines: 999209, total users: 6040, total items: 3705\n",
      "DEBUG:replay:mixed_train stat: total lines: 999209, total users: 6040, total items: 3705\n",
      "02-Mar-21 18:00:18, replay, DEBUG: test stat: total lines: 999, total users: 999, total items: 656\n",
      "DEBUG:replay:test stat: total lines: 999, total users: 999, total items: 656\n",
      "02-Mar-21 18:00:20, replay, DEBUG: first_train stat: total lines: 501110, total users: 6040, total items: 3614\n",
      "DEBUG:replay:first_train stat: total lines: 501110, total users: 6040, total items: 3614\n",
      "02-Mar-21 18:00:22, replay, DEBUG: first_test stat: total lines: 498099, total users: 6040, total items: 3623\n",
      "DEBUG:replay:first_test stat: total lines: 498099, total users: 6040, total items: 3623\n",
      "02-Mar-21 18:00:22, replay, DEBUG: Начало обучения ALSWrap\n",
      "DEBUG:replay:Начало обучения ALSWrap\n",
      "02-Mar-21 18:00:22, replay, DEBUG: Предварительная стадия обучения (pre-fit)\n",
      "DEBUG:replay:Предварительная стадия обучения (pre-fit)\n",
      "02-Mar-21 18:00:23, replay, DEBUG: Основная стадия обучения (fit)\n",
      "DEBUG:replay:Основная стадия обучения (fit)\n",
      "02-Mar-21 18:00:48, replay, DEBUG: Начало предикта ALSWrap\n",
      "DEBUG:replay:Начало предикта ALSWrap\n",
      "02-Mar-21 18:01:47, replay, DEBUG: баланс классов: положительных 173801 из 604000\n",
      "DEBUG:replay:баланс классов: положительных 173801 из 604000\n",
      "02-Mar-21 18:01:47, replay, DEBUG: Начало предикта ALSWrap\n",
      "DEBUG:replay:Начало предикта ALSWrap\n",
      "02-Mar-21 18:01:49, replay, WARNING: Список item содержит элементы, которые отсутствовали при обучении. Результат предсказания будет не полным.\n",
      "WARNING:replay:Список item содержит элементы, которые отсутствовали при обучении. Результат предсказания будет не полным.\n",
      "02-Mar-21 18:01:51, replay, DEBUG: Начало обучения ClassifierRec\n",
      "DEBUG:replay:Начало обучения ClassifierRec\n",
      "02-Mar-21 18:01:51, replay, DEBUG: Предварительная стадия обучения (pre-fit)\n",
      "DEBUG:replay:Предварительная стадия обучения (pre-fit)\n",
      "02-Mar-21 18:02:41, replay, DEBUG: Основная стадия обучения (fit)\n",
      "DEBUG:replay:Основная стадия обучения (fit)\n",
      "02-Mar-21 18:07:38, replay, DEBUG: ROC AUC модели второго уровня (как классификатора): 0.7895\n",
      "DEBUG:replay:ROC AUC модели второго уровня (как классификатора): 0.7895\n"
     ]
    }
   ],
   "source": [
    "recs = two_stages.get_recs(log, 10, item_features=item_features_spark)"
   ]
  },
  {
   "cell_type": "code",
   "execution_count": 22,
   "metadata": {
    "scrolled": true
   },
   "outputs": [],
   "source": [
    "train, test = second_stage_splitter.split(log)"
   ]
  },
  {
   "cell_type": "code",
   "execution_count": 23,
   "metadata": {},
   "outputs": [
    {
     "name": "stderr",
     "output_type": "stream",
     "text": [
      "02-Mar-21 18:07:55, replay, DEBUG: Начало обучения ALSWrap\n",
      "DEBUG:replay:Начало обучения ALSWrap\n",
      "02-Mar-21 18:07:55, replay, DEBUG: Предварительная стадия обучения (pre-fit)\n",
      "DEBUG:replay:Предварительная стадия обучения (pre-fit)\n",
      "02-Mar-21 18:07:55, replay, DEBUG: Основная стадия обучения (fit)\n",
      "DEBUG:replay:Основная стадия обучения (fit)\n",
      "02-Mar-21 18:08:27, replay, DEBUG: Начало предикта ALSWrap\n",
      "DEBUG:replay:Начало предикта ALSWrap\n"
     ]
    }
   ],
   "source": [
    "first_recs = first_model.fit_predict(\n",
    "    log=train,\n",
    "    k=10,\n",
    "    users=test.select(\"user_id\").distinct().cache(),\n",
    "    items=train.select(\"item_id\").distinct().cache(),\n",
    ")"
   ]
  },
  {
   "cell_type": "code",
   "execution_count": 24,
   "metadata": {
    "scrolled": true
   },
   "outputs": [],
   "source": [
    "two_stages.experiment.add_result(\"first_stage\", first_recs)"
   ]
  },
  {
   "cell_type": "code",
   "execution_count": 25,
   "metadata": {},
   "outputs": [
    {
     "data": {
      "text/html": [
       "<div>\n",
       "<style scoped>\n",
       "    .dataframe tbody tr th:only-of-type {\n",
       "        vertical-align: middle;\n",
       "    }\n",
       "\n",
       "    .dataframe tbody tr th {\n",
       "        vertical-align: top;\n",
       "    }\n",
       "\n",
       "    .dataframe thead th {\n",
       "        text-align: right;\n",
       "    }\n",
       "</style>\n",
       "<table border=\"1\" class=\"dataframe\">\n",
       "  <thead>\n",
       "    <tr style=\"text-align: right;\">\n",
       "      <th></th>\n",
       "      <th>HitRate@10</th>\n",
       "    </tr>\n",
       "  </thead>\n",
       "  <tbody>\n",
       "    <tr>\n",
       "      <th>two_stages_scenario</th>\n",
       "      <td>0.172172</td>\n",
       "    </tr>\n",
       "    <tr>\n",
       "      <th>first_stage</th>\n",
       "      <td>0.235235</td>\n",
       "    </tr>\n",
       "  </tbody>\n",
       "</table>\n",
       "</div>"
      ],
      "text/plain": [
       "                     HitRate@10\n",
       "two_stages_scenario    0.172172\n",
       "first_stage            0.235235"
      ]
     },
     "execution_count": 25,
     "metadata": {},
     "output_type": "execute_result"
    }
   ],
   "source": [
    "two_stages.experiment.results"
   ]
  },
  {
   "cell_type": "code",
   "execution_count": null,
   "metadata": {},
   "outputs": [],
   "source": []
  }
 ],
 "metadata": {
  "kernelspec": {
   "display_name": "Python 3",
   "language": "python",
   "name": "python3"
  },
  "language_info": {
   "codemirror_mode": {
    "name": "ipython",
    "version": 3
   },
   "file_extension": ".py",
   "mimetype": "text/x-python",
   "name": "python",
   "nbconvert_exporter": "python",
   "pygments_lexer": "ipython3",
   "version": "3.7.7"
  },
  "name": "two_levels.ipynb"
 },
 "nbformat": 4,
 "nbformat_minor": 4
}
