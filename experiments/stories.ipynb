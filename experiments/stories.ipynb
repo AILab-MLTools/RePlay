{
 "cells": [
  {
   "cell_type": "markdown",
   "metadata": {},
   "source": [
    "# Stories"
   ]
  },
  {
   "cell_type": "code",
   "execution_count": 1,
   "metadata": {
    "pycharm": {
     "is_executing": false
    }
   },
   "outputs": [],
   "source": [
    "%load_ext autoreload\n",
    "%autoreload 2\n",
    "%matplotlib inline"
   ]
  },
  {
   "cell_type": "code",
   "execution_count": 2,
   "metadata": {
    "pycharm": {
     "is_executing": false
    }
   },
   "outputs": [],
   "source": [
    "import pandas as pd\n",
    "import numpy as np\n",
    "import matplotlib.pyplot as plt\n",
    "\n",
    "import os\n",
    "import sys\n",
    "import re\n",
    "import logging\n",
    "\n",
    "from collections import Counter\n",
    "\n",
    "from sklearn.feature_extraction.text import CountVectorizer\n",
    "\n",
    "from time import time\n",
    "\n",
    "from pyspark.sql import SparkSession\n",
    "from pyspark.sql import functions as sf\n",
    "from pyspark.sql.types import DoubleType, StringType, StructType, StructField, TimestampType"
   ]
  },
  {
   "cell_type": "code",
   "execution_count": 3,
   "metadata": {
    "pycharm": {
     "is_executing": false
    }
   },
   "outputs": [],
   "source": [
    "parent_dir = os.path.split(os.getcwd())[0]\n",
    "if parent_dir not in sys.path:\n",
    "    sys.path.append(parent_dir)"
   ]
  },
  {
   "cell_type": "code",
   "execution_count": 4,
   "metadata": {
    "pycharm": {
     "is_executing": false
    }
   },
   "outputs": [],
   "source": [
    "from sponge_bob_magic.data_preparator.data_preparator import DataPreparator\n",
    "from sponge_bob_magic.scenarios.popular_scenario import PopularScenario\n",
    "from sponge_bob_magic.models.popular_recomennder import PopularRecommender\n",
    "from sponge_bob_magic.metrics.metrics import Metrics\n",
    "from sponge_bob_magic.validation_schemes import ValidationSchemes"
   ]
  },
  {
   "cell_type": "code",
   "execution_count": 5,
   "metadata": {
    "pycharm": {
     "is_executing": false
    }
   },
   "outputs": [],
   "source": [
    "# Отображение максимальной ширины колонок в pandas датафреймах\n",
    "pd.options.display.max_colwidth = -1"
   ]
  },
  {
   "cell_type": "code",
   "execution_count": 24,
   "metadata": {
    "pycharm": {
     "is_executing": false
    }
   },
   "outputs": [],
   "source": [
    "spark_memory = \"256g\"\n",
    "spark_cores = \"20\"\n",
    "\n",
    "spark = (\n",
    "    SparkSession\n",
    "    .builder\n",
    "    .config('spark.driver.memory', spark_memory)\n",
    "    .config('spark.local.dir', \"/datascc/aysina-rm/code/sponge-bob-magic/data/tmp\")\n",
    "    .master(f'local[{spark_cores}]')\n",
    "    .enableHiveSupport()\n",
    "    .getOrCreate()\n",
    ")"
   ]
  },
  {
   "cell_type": "code",
   "execution_count": 25,
   "metadata": {},
   "outputs": [],
   "source": [
    "# spark.stop()"
   ]
  },
  {
   "cell_type": "code",
   "execution_count": 26,
   "metadata": {},
   "outputs": [
    {
     "data": {
      "text/html": [
       "\n",
       "            <div>\n",
       "                <p><b>SparkSession - hive</b></p>\n",
       "                \n",
       "        <div>\n",
       "            <p><b>SparkContext</b></p>\n",
       "\n",
       "            <p><a href=\"http://parcae1.unassigned-domain:4040\">Spark UI</a></p>\n",
       "\n",
       "            <dl>\n",
       "              <dt>Version</dt>\n",
       "                <dd><code>v2.4.4</code></dd>\n",
       "              <dt>Master</dt>\n",
       "                <dd><code>local[20]</code></dd>\n",
       "              <dt>AppName</dt>\n",
       "                <dd><code>pyspark-shell</code></dd>\n",
       "            </dl>\n",
       "        </div>\n",
       "        \n",
       "            </div>\n",
       "        "
      ],
      "text/plain": [
       "<pyspark.sql.session.SparkSession at 0x7f0c0ba1e320>"
      ]
     },
     "execution_count": 26,
     "metadata": {},
     "output_type": "execute_result"
    }
   ],
   "source": [
    "spark"
   ]
  },
  {
   "cell_type": "code",
   "execution_count": 27,
   "metadata": {
    "pycharm": {
     "is_executing": false
    }
   },
   "outputs": [],
   "source": [
    "spark_logger = logging.getLogger('py4j')\n",
    "spark_logger.setLevel(logging.WARN)"
   ]
  },
  {
   "cell_type": "code",
   "execution_count": 28,
   "metadata": {
    "pycharm": {
     "is_executing": false
    }
   },
   "outputs": [],
   "source": [
    "logger = logging.getLogger()\n",
    "formatter = logging.Formatter('%(asctime)s, %(name)s, %(levelname)s: %(message)s',\n",
    "                              datefmt='%d-%b-%y %H:%M:%S')\n",
    "hdlr = logging.StreamHandler()\n",
    "hdlr.setFormatter(formatter)\n",
    "logger.addHandler(hdlr)\n",
    "logger.setLevel(logging.DEBUG)"
   ]
  },
  {
   "cell_type": "markdown",
   "metadata": {},
   "source": [
    "## Основные данные и пути"
   ]
  },
  {
   "cell_type": "code",
   "execution_count": 29,
   "metadata": {
    "pycharm": {
     "is_executing": false
    }
   },
   "outputs": [],
   "source": [
    "path_data = '/datascc/share/stories_data'\n",
    "path_log = path_data\n",
    "path_checkpoints = '../data/checkpoints'"
   ]
  },
  {
   "cell_type": "code",
   "execution_count": 30,
   "metadata": {
    "pycharm": {
     "is_executing": false
    }
   },
   "outputs": [],
   "source": [
    "spark.sparkContext.setCheckpointDir(path_checkpoints)"
   ]
  },
  {
   "cell_type": "markdown",
   "metadata": {},
   "source": [
    "## Подготовка данных"
   ]
  },
  {
   "cell_type": "code",
   "execution_count": 31,
   "metadata": {
    "pycharm": {
     "is_executing": false
    }
   },
   "outputs": [],
   "source": [
    "dp = DataPreparator(spark)"
   ]
  },
  {
   "cell_type": "code",
   "execution_count": 32,
   "metadata": {
    "pycharm": {
     "is_executing": false
    }
   },
   "outputs": [],
   "source": [
    "df = dp.transform_log(\n",
    "    path=path_log,\n",
    "    format_type=\"csv\",\n",
    "    columns_names={\n",
    "        \"user_id\": \"_c1\",\n",
    "        \"item_id\": \"_c2\",\n",
    "        \"timestamp\": \"_c0\",\n",
    "        \"relevance\": \"_c3\"\n",
    "    }\n",
    ").cache()"
   ]
  },
  {
   "cell_type": "code",
   "execution_count": 33,
   "metadata": {
    "pycharm": {
     "is_executing": false
    }
   },
   "outputs": [
    {
     "name": "stdout",
     "output_type": "stream",
     "text": [
      "root\n",
      " |-- user_id: string (nullable = true)\n",
      " |-- item_id: string (nullable = true)\n",
      " |-- timestamp: timestamp (nullable = true)\n",
      " |-- relevance: float (nullable = true)\n",
      " |-- context: string (nullable = false)\n",
      "\n"
     ]
    }
   ],
   "source": [
    "df.printSchema()"
   ]
  },
  {
   "cell_type": "code",
   "execution_count": 34,
   "metadata": {
    "pycharm": {
     "is_executing": false
    },
    "scrolled": false
   },
   "outputs": [
    {
     "name": "stdout",
     "output_type": "stream",
     "text": [
      "+---------+-------+-------------------+---------+----------+\n",
      "|  user_id|item_id|          timestamp|relevance|   context|\n",
      "+---------+-------+-------------------+---------+----------+\n",
      "|111715824|   1174|2019-07-19 00:00:00|   2896.0|no_context|\n",
      "|430734041|  12093|2019-07-19 00:00:00|   4073.0|no_context|\n",
      "|150084873|  12093|2019-07-19 00:00:00|  16462.0|no_context|\n",
      "+---------+-------+-------------------+---------+----------+\n",
      "only showing top 3 rows\n",
      "\n"
     ]
    }
   ],
   "source": [
    "df.show(3)"
   ]
  },
  {
   "cell_type": "code",
   "execution_count": 35,
   "metadata": {},
   "outputs": [],
   "source": [
    "# df.checkpoint()"
   ]
  },
  {
   "cell_type": "code",
   "execution_count": 36,
   "metadata": {},
   "outputs": [],
   "source": [
    "# df.count()"
   ]
  },
  {
   "cell_type": "markdown",
   "metadata": {},
   "source": [
    "## Рекомендации популярных объектов"
   ]
  },
  {
   "cell_type": "code",
   "execution_count": 37,
   "metadata": {},
   "outputs": [],
   "source": [
    "pr = PopularRecommender(spark, alpha=0, beta=0)"
   ]
  },
  {
   "cell_type": "code",
   "execution_count": 38,
   "metadata": {
    "scrolled": false
   },
   "outputs": [
    {
     "name": "stderr",
     "output_type": "stream",
     "text": [
      "16-Oct-19 15:51:29, root, DEBUG: Среднее количество items у каждого user: 5.0\n",
      "16-Oct-19 15:51:29, root, DEBUG: Среднее количество items у каждого user: 5.0\n"
     ]
    },
    {
     "name": "stdout",
     "output_type": "stream",
     "text": [
      "CPU times: user 28 ms, sys: 0 ns, total: 28 ms\n",
      "Wall time: 55.3 s\n"
     ]
    }
   ],
   "source": [
    "%%time\n",
    "\n",
    "pr.fit(\n",
    "    log=df,\n",
    "    user_features=None,\n",
    "    item_features=None,\n",
    "    path=None\n",
    ")"
   ]
  },
  {
   "cell_type": "code",
   "execution_count": 39,
   "metadata": {
    "scrolled": false
   },
   "outputs": [
    {
     "name": "stderr",
     "output_type": "stream",
     "text": [
      "16-Oct-19 15:51:31, root, DEBUG: Проверка датафреймов\n",
      "16-Oct-19 15:51:31, root, DEBUG: Проверка датафреймов\n",
      "16-Oct-19 15:51:32, root, DEBUG: Выделение дефолтных юзеров\n",
      "16-Oct-19 15:51:32, root, DEBUG: Выделение дефолтных юзеров\n",
      "16-Oct-19 15:51:32, root, DEBUG: Выделение дефолтных айтемов\n",
      "16-Oct-19 15:51:32, root, DEBUG: Выделение дефолтных айтемов\n",
      "16-Oct-19 15:51:38, root, DEBUG: Количество items после фильтрации: 105\n",
      "16-Oct-19 15:51:38, root, DEBUG: Количество items после фильтрации: 105\n",
      "16-Oct-19 15:51:54, root, DEBUG: Длина recs: 1542589230\n",
      "16-Oct-19 15:51:54, root, DEBUG: Длина recs: 1542589230\n"
     ]
    },
    {
     "name": "stdout",
     "output_type": "stream",
     "text": [
      "CPU times: user 180 ms, sys: 36 ms, total: 216 ms\n",
      "Wall time: 19min 20s\n"
     ]
    }
   ],
   "source": [
    "%%time\n",
    "\n",
    "recs = pr.predict(\n",
    "    k=100,\n",
    "    users=None,\n",
    "    items=None,\n",
    "    context='no_context',\n",
    "    log=df,\n",
    "    user_features=None,\n",
    "    item_features=None,\n",
    "    to_filter_seen_items=True,\n",
    "    path=None\n",
    ")"
   ]
  },
  {
   "cell_type": "code",
   "execution_count": 40,
   "metadata": {},
   "outputs": [
    {
     "name": "stdout",
     "output_type": "stream",
     "text": [
      "+-------+---------+----------+--------------------+\n",
      "|item_id|  user_id|   context|           relevance|\n",
      "+-------+---------+----------+--------------------+\n",
      "|   1040|100000982|no_context|0.013188825045425694|\n",
      "|  12093|100000982|no_context| 0.01307344864269448|\n",
      "|  12087|100000982|no_context|0.012356258171948098|\n",
      "|  12233|100000982|no_context|0.010991035103668301|\n",
      "|  12299|100000982|no_context|0.010948755653370359|\n",
      "+-------+---------+----------+--------------------+\n",
      "only showing top 5 rows\n",
      "\n"
     ]
    }
   ],
   "source": [
    "recs.show(5)"
   ]
  },
  {
   "cell_type": "code",
   "execution_count": 41,
   "metadata": {},
   "outputs": [
    {
     "name": "stdout",
     "output_type": "stream",
     "text": [
      "CPU times: user 188 ms, sys: 52 ms, total: 240 ms\n",
      "Wall time: 28min 11s\n"
     ]
    },
    {
     "data": {
      "text/plain": [
       "0.09669310993439258"
      ]
     },
     "execution_count": 41,
     "metadata": {},
     "output_type": "execute_result"
    }
   ],
   "source": [
    "%%time\n",
    "\n",
    "metric = Metrics.hit_rate_at_k(recs, df, k=100)\n",
    "metric"
   ]
  },
  {
   "cell_type": "markdown",
   "metadata": {},
   "source": [
    "## Сценарий с популярной моделью"
   ]
  },
  {
   "cell_type": "code",
   "execution_count": null,
   "metadata": {
    "pycharm": {
     "is_executing": false
    }
   },
   "outputs": [],
   "source": [
    "df_short = df.limit(10)\n",
    "df_short.checkpoint()"
   ]
  },
  {
   "cell_type": "code",
   "execution_count": 42,
   "metadata": {},
   "outputs": [
    {
     "data": {
      "text/plain": [
       "44799.95916955017"
      ]
     },
     "execution_count": 42,
     "metadata": {},
     "output_type": "execute_result"
    }
   ],
   "source": [
    "avg_num_users = (\n",
    "    df\n",
    "    .select('user_id', 'item_id')\n",
    "    .groupBy('item_id')\n",
    "    .count()\n",
    "    .select(sf.mean(sf.col('count')).alias('mean'))\n",
    "    .collect()[0]['mean']\n",
    ")\n",
    "\n",
    "avg_num_users"
   ]
  },
  {
   "cell_type": "code",
   "execution_count": 43,
   "metadata": {
    "pycharm": {
     "is_executing": false
    }
   },
   "outputs": [],
   "source": [
    "popular_scenario = PopularScenario(spark)\n",
    "popular_params_grid = {'alpha': (0, 40000), 'beta': (0, 40000)}\n",
    "# popular_scenario.seed = 9876"
   ]
  },
  {
   "cell_type": "code",
   "execution_count": 44,
   "metadata": {
    "pycharm": {
     "is_executing": false
    },
    "scrolled": false
   },
   "outputs": [
    {
     "name": "stderr",
     "output_type": "stream",
     "text": [
      "16-Oct-19 16:59:55, root, DEBUG: Деление на трейн и тест\n",
      "16-Oct-19 16:59:55, root, DEBUG: Деление на трейн и тест\n",
      "16-Oct-19 17:01:12, root, DEBUG: Размер трейна:      45316688\n",
      "16-Oct-19 17:01:12, root, DEBUG: Размер трейна:      45316688\n",
      "16-Oct-19 17:01:19, root, DEBUG: Размер теста_инпут: 45316688\n",
      "16-Oct-19 17:01:19, root, DEBUG: Размер теста_инпут: 45316688\n",
      "16-Oct-19 17:01:33, root, DEBUG: Размер теста:       19419224\n",
      "16-Oct-19 17:01:33, root, DEBUG: Размер теста:       19419224\n",
      "16-Oct-19 17:02:52, root, DEBUG: Среднее количество items у каждого user: 4.0\n",
      "16-Oct-19 17:02:52, root, DEBUG: Среднее количество items у каждого user: 4.0\n",
      "16-Oct-19 17:03:01, root, DEBUG: Начало оптимизации параметров\n",
      "16-Oct-19 17:03:01, root, DEBUG: Начало оптимизации параметров\n",
      "16-Oct-19 17:03:01, root, DEBUG: Предикт модели в оптимизации\n",
      "16-Oct-19 17:03:01, root, DEBUG: Предикт модели в оптимизации\n",
      "16-Oct-19 17:03:01, root, DEBUG: Проверка датафреймов\n",
      "16-Oct-19 17:03:01, root, DEBUG: Проверка датафреймов\n",
      "16-Oct-19 17:03:46, root, DEBUG: Количество items после фильтрации: 19\n",
      "16-Oct-19 17:03:46, root, DEBUG: Количество items после фильтрации: 19\n",
      "16-Oct-19 17:04:18, root, DEBUG: Длина recs: 160020964\n",
      "16-Oct-19 17:04:18, root, DEBUG: Длина recs: 160020964\n",
      "16-Oct-19 17:06:41, root, DEBUG: Подсчет метрики в оптимизации\n",
      "16-Oct-19 17:06:41, root, DEBUG: Подсчет метрики в оптимизации\n",
      "16-Oct-19 17:10:43, root, DEBUG: Метрика и параметры: (0.014707041759853415, {'alpha': 11011, 'beta': 11537})\n",
      "16-Oct-19 17:10:43, root, DEBUG: Метрика и параметры: (0.014707041759853415, {'alpha': 11011, 'beta': 11537})\n",
      "[I 2019-10-16 17:10:44,106] Finished trial#0 resulted in value: 0.014707041759853415. Current best value is 0.014707041759853415 with parameters: {'alpha': 11011, 'beta': 11537}.\n",
      "16-Oct-19 17:10:44, root, DEBUG: Предикт модели в оптимизации\n",
      "16-Oct-19 17:10:44, root, DEBUG: Предикт модели в оптимизации\n",
      "16-Oct-19 17:10:44, root, DEBUG: Проверка датафреймов\n",
      "16-Oct-19 17:10:44, root, DEBUG: Проверка датафреймов\n",
      "16-Oct-19 17:11:27, root, DEBUG: Количество items после фильтрации: 19\n",
      "16-Oct-19 17:11:27, root, DEBUG: Количество items после фильтрации: 19\n",
      "16-Oct-19 17:11:58, root, DEBUG: Длина recs: 160020964\n",
      "16-Oct-19 17:11:58, root, DEBUG: Длина recs: 160020964\n",
      "16-Oct-19 17:14:18, root, DEBUG: Подсчет метрики в оптимизации\n",
      "16-Oct-19 17:14:18, root, DEBUG: Подсчет метрики в оптимизации\n",
      "16-Oct-19 17:18:18, root, DEBUG: Метрика и параметры: (0.014707041759853415, {'alpha': 8208, 'beta': 35267})\n",
      "16-Oct-19 17:18:18, root, DEBUG: Метрика и параметры: (0.014707041759853415, {'alpha': 8208, 'beta': 35267})\n",
      "[I 2019-10-16 17:18:18,814] Finished trial#1 resulted in value: 0.014707041759853415. Current best value is 0.014707041759853415 with parameters: {'alpha': 11011, 'beta': 11537}.\n",
      "16-Oct-19 17:18:18, root, DEBUG: Предикт модели в оптимизации\n",
      "16-Oct-19 17:18:18, root, DEBUG: Предикт модели в оптимизации\n",
      "16-Oct-19 17:18:18, root, DEBUG: Проверка датафреймов\n",
      "16-Oct-19 17:18:18, root, DEBUG: Проверка датафреймов\n",
      "16-Oct-19 17:19:01, root, DEBUG: Количество items после фильтрации: 19\n",
      "16-Oct-19 17:19:01, root, DEBUG: Количество items после фильтрации: 19\n",
      "16-Oct-19 17:19:33, root, DEBUG: Длина recs: 160020964\n",
      "16-Oct-19 17:19:33, root, DEBUG: Длина recs: 160020964\n",
      "16-Oct-19 17:21:52, root, DEBUG: Подсчет метрики в оптимизации\n",
      "16-Oct-19 17:21:52, root, DEBUG: Подсчет метрики в оптимизации\n",
      "16-Oct-19 17:25:55, root, DEBUG: Метрика и параметры: (0.014707041759853415, {'alpha': 10899, 'beta': 20630})\n",
      "16-Oct-19 17:25:55, root, DEBUG: Метрика и параметры: (0.014707041759853415, {'alpha': 10899, 'beta': 20630})\n",
      "[I 2019-10-16 17:25:55,886] Finished trial#2 resulted in value: 0.014707041759853415. Current best value is 0.014707041759853415 with parameters: {'alpha': 11011, 'beta': 11537}.\n",
      "16-Oct-19 17:25:55, root, DEBUG: Лучшие значения метрики: 0.014707041759853415\n",
      "16-Oct-19 17:25:55, root, DEBUG: Лучшие значения метрики: 0.014707041759853415\n",
      "16-Oct-19 17:25:55, root, DEBUG: Лучшие параметры: {'alpha': 11011, 'beta': 11537}\n",
      "16-Oct-19 17:25:55, root, DEBUG: Лучшие параметры: {'alpha': 11011, 'beta': 11537}\n"
     ]
    },
    {
     "name": "stdout",
     "output_type": "stream",
     "text": [
      "CPU times: user 572 ms, sys: 116 ms, total: 688 ms\n",
      "Wall time: 26min\n"
     ]
    }
   ],
   "source": [
    "%%time\n",
    "\n",
    "best_params = popular_scenario.research(\n",
    "    popular_params_grid,\n",
    "    df,\n",
    "    users=None, items=None,\n",
    "    user_features=None,\n",
    "    item_features=None,\n",
    "    test_start=None,\n",
    "    test_size=0.3,\n",
    "    k=15, context='no_context',\n",
    "    to_filter_seen_items=True,\n",
    "    n_trials=3, n_jobs=1,\n",
    "    how_to_split='randomly'\n",
    ")"
   ]
  },
  {
   "cell_type": "code",
   "execution_count": 45,
   "metadata": {},
   "outputs": [
    {
     "data": {
      "text/plain": [
       "{'alpha': 11011, 'beta': 11537}"
      ]
     },
     "execution_count": 45,
     "metadata": {},
     "output_type": "execute_result"
    }
   ],
   "source": [
    "best_params"
   ]
  },
  {
   "cell_type": "code",
   "execution_count": 46,
   "metadata": {},
   "outputs": [
    {
     "data": {
      "text/html": [
       "<div>\n",
       "<style scoped>\n",
       "    .dataframe tbody tr th:only-of-type {\n",
       "        vertical-align: middle;\n",
       "    }\n",
       "\n",
       "    .dataframe tbody tr th {\n",
       "        vertical-align: top;\n",
       "    }\n",
       "\n",
       "    .dataframe thead tr th {\n",
       "        text-align: left;\n",
       "    }\n",
       "</style>\n",
       "<table border=\"1\" class=\"dataframe\">\n",
       "  <thead>\n",
       "    <tr>\n",
       "      <th></th>\n",
       "      <th>number</th>\n",
       "      <th>state</th>\n",
       "      <th>value</th>\n",
       "      <th>datetime_start</th>\n",
       "      <th>datetime_complete</th>\n",
       "      <th colspan=\"2\" halign=\"left\">params</th>\n",
       "      <th>user_attrs</th>\n",
       "      <th>system_attrs</th>\n",
       "    </tr>\n",
       "    <tr>\n",
       "      <th></th>\n",
       "      <th></th>\n",
       "      <th></th>\n",
       "      <th></th>\n",
       "      <th></th>\n",
       "      <th></th>\n",
       "      <th>alpha</th>\n",
       "      <th>beta</th>\n",
       "      <th>some_metric</th>\n",
       "      <th>_number</th>\n",
       "    </tr>\n",
       "  </thead>\n",
       "  <tbody>\n",
       "    <tr>\n",
       "      <th>0</th>\n",
       "      <td>0</td>\n",
       "      <td>TrialState.COMPLETE</td>\n",
       "      <td>0.014707</td>\n",
       "      <td>2019-10-16 17:03:01.435110</td>\n",
       "      <td>2019-10-16 17:10:44.105755</td>\n",
       "      <td>11011</td>\n",
       "      <td>11537</td>\n",
       "      <td>1.0</td>\n",
       "      <td>0</td>\n",
       "    </tr>\n",
       "    <tr>\n",
       "      <th>1</th>\n",
       "      <td>1</td>\n",
       "      <td>TrialState.COMPLETE</td>\n",
       "      <td>0.014707</td>\n",
       "      <td>2019-10-16 17:10:44.108308</td>\n",
       "      <td>2019-10-16 17:18:18.813698</td>\n",
       "      <td>8208</td>\n",
       "      <td>35267</td>\n",
       "      <td>1.0</td>\n",
       "      <td>1</td>\n",
       "    </tr>\n",
       "    <tr>\n",
       "      <th>2</th>\n",
       "      <td>2</td>\n",
       "      <td>TrialState.COMPLETE</td>\n",
       "      <td>0.014707</td>\n",
       "      <td>2019-10-16 17:18:18.816379</td>\n",
       "      <td>2019-10-16 17:25:55.886147</td>\n",
       "      <td>10899</td>\n",
       "      <td>20630</td>\n",
       "      <td>1.0</td>\n",
       "      <td>2</td>\n",
       "    </tr>\n",
       "  </tbody>\n",
       "</table>\n",
       "</div>"
      ],
      "text/plain": [
       "  number                state     value             datetime_start  \\\n",
       "                                                                     \n",
       "0  0      TrialState.COMPLETE  0.014707 2019-10-16 17:03:01.435110   \n",
       "1  1      TrialState.COMPLETE  0.014707 2019-10-16 17:10:44.108308   \n",
       "2  2      TrialState.COMPLETE  0.014707 2019-10-16 17:18:18.816379   \n",
       "\n",
       "           datetime_complete params         user_attrs system_attrs  \n",
       "                              alpha   beta some_metric      _number  \n",
       "0 2019-10-16 17:10:44.105755  11011  11537  1.0         0            \n",
       "1 2019-10-16 17:18:18.813698  8208   35267  1.0         1            \n",
       "2 2019-10-16 17:25:55.886147  10899  20630  1.0         2            "
      ]
     },
     "execution_count": 46,
     "metadata": {},
     "output_type": "execute_result"
    }
   ],
   "source": [
    "results = popular_scenario.study.trials_dataframe()\n",
    "\n",
    "results.head()"
   ]
  },
  {
   "cell_type": "code",
   "execution_count": 49,
   "metadata": {
    "scrolled": false
   },
   "outputs": [
    {
     "data": {
      "image/png": "[encoded data removed]",
      "text/plain": [
       "<Figure size 504x360 with 1 Axes>"
      ]
     },
     "metadata": {
      "needs_background": "light"
     },
     "output_type": "display_data"
    }
   ],
   "source": [
    "def plot_result_value(results):\n",
    "    results['value_name'] = (results['params']['alpha'].astype(str)\n",
    "                         .str.cat(results['params']['beta'].astype(str), sep=', '))\n",
    "    \n",
    "    plt.figure(figsize=(7, 5))\n",
    "    ax = results['value'].plot(kind='bar', xticks=range(len(results)), rot=0)\n",
    "    ax.set_xticklabels(results['value_name'].values)\n",
    "\n",
    "    plt.xlabel(r'$(\\alpha, \\beta)$' + ' пары')\n",
    "    plt.ylabel('Значение метрики')\n",
    "    plt.title('Результаты эксперимента')\n",
    "\n",
    "    plt.show()\n",
    "    \n",
    "\n",
    "plot_result_value(results)"
   ]
  },
  {
   "cell_type": "code",
   "execution_count": 48,
   "metadata": {},
   "outputs": [
    {
     "name": "stderr",
     "output_type": "stream",
     "text": [
      "16-Oct-19 17:32:40, root, DEBUG: Среднее количество items у каждого user: 5.0\n",
      "16-Oct-19 17:32:40, root, DEBUG: Среднее количество items у каждого user: 5.0\n",
      "16-Oct-19 17:32:42, root, DEBUG: Проверка датафреймов\n",
      "16-Oct-19 17:32:42, root, DEBUG: Проверка датафреймов\n",
      "16-Oct-19 17:32:42, root, DEBUG: Выделение дефолтных юзеров\n",
      "16-Oct-19 17:32:42, root, DEBUG: Выделение дефолтных юзеров\n",
      "16-Oct-19 17:32:42, root, DEBUG: Выделение дефолтных айтемов\n",
      "16-Oct-19 17:32:42, root, DEBUG: Выделение дефолтных айтемов\n",
      "16-Oct-19 17:32:51, root, DEBUG: Количество items после фильтрации: 15\n",
      "16-Oct-19 17:32:51, root, DEBUG: Количество items после фильтрации: 15\n",
      "16-Oct-19 17:33:02, root, DEBUG: Длина recs: 220369890\n",
      "16-Oct-19 17:33:02, root, DEBUG: Длина recs: 220369890\n"
     ]
    },
    {
     "name": "stdout",
     "output_type": "stream",
     "text": [
      "CPU times: user 68 ms, sys: 16 ms, total: 84 ms\n",
      "Wall time: 3min 9s\n"
     ]
    }
   ],
   "source": [
    "%%time\n",
    "\n",
    "best_recs = popular_scenario.production(\n",
    "    best_params,\n",
    "    df,\n",
    "    users=None,\n",
    "    items=None,\n",
    "    user_features=None,\n",
    "    item_features=None,\n",
    "    k=10,\n",
    "    context='no_context',\n",
    "    to_filter_seen_items=True\n",
    ")"
   ]
  },
  {
   "cell_type": "code",
   "execution_count": 50,
   "metadata": {},
   "outputs": [
    {
     "name": "stdout",
     "output_type": "stream",
     "text": [
      "+-------+---------+----------+--------------------+\n",
      "|item_id|  user_id|   context|           relevance|\n",
      "+-------+---------+----------+--------------------+\n",
      "|   1040|100000982|no_context| 0.01335653567850164|\n",
      "|  12093|100000982|no_context|0.013241179834062417|\n",
      "|  12087|100000982|no_context| 0.01252411715557477|\n",
      "|  12233|100000982|no_context| 0.01115913734894817|\n",
      "|  12299|100000982|no_context|0.011116865432194903|\n",
      "|   1066|100000982|no_context|0.010584304148495174|\n",
      "|   1075|100000982|no_context|0.008571746995303817|\n",
      "|  12180|100000982|no_context|0.008538108619458506|\n",
      "|   1034|100000982|no_context|0.008167684925117855|\n",
      "|  12542|100000982|no_context|0.007929374484671048|\n",
      "+-------+---------+----------+--------------------+\n",
      "only showing top 10 rows\n",
      "\n"
     ]
    }
   ],
   "source": [
    "best_recs.show(10)"
   ]
  },
  {
   "cell_type": "code",
   "execution_count": 51,
   "metadata": {},
   "outputs": [],
   "source": [
    "spark.stop()"
   ]
  }
 ],
 "metadata": {
  "kernelspec": {
   "display_name": "Python 3",
   "language": "python",
   "name": "python3"
  },
  "language_info": {
   "codemirror_mode": {
    "name": "ipython",
    "version": 3
   },
   "file_extension": ".py",
   "mimetype": "text/x-python",
   "name": "python",
   "nbconvert_exporter": "python",
   "pygments_lexer": "ipython3",
   "version": "3.6.5"
  },
  "pycharm": {
   "stem_cell": {
    "cell_type": "raw",
    "metadata": {
     "collapsed": false
    },
    "source": []
   }
  }
 },
 "nbformat": 4,
 "nbformat_minor": 2
}
