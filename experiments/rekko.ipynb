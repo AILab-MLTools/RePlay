{
 "cells": [
  {
   "cell_type": "markdown",
   "metadata": {},
   "source": [
    "# Rekko Sandbox"
   ]
  },
  {
   "cell_type": "code",
   "execution_count": 1,
   "metadata": {
    "pycharm": {
     "is_executing": false
    }
   },
   "outputs": [],
   "source": [
    "%load_ext autoreload\n",
    "%autoreload 2\n",
    "%matplotlib inline"
   ]
  },
  {
   "cell_type": "code",
   "execution_count": 2,
   "metadata": {
    "pycharm": {
     "is_executing": false
    }
   },
   "outputs": [],
   "source": [
    "import pandas as pd\n",
    "import numpy as np\n",
    "import matplotlib.pyplot as plt\n",
    "\n",
    "import os\n",
    "import sys\n",
    "import re\n",
    "import logging\n",
    "\n",
    "from collections import Counter\n",
    "\n",
    "from sklearn.feature_extraction.text import CountVectorizer\n",
    "\n",
    "from time import time\n",
    "\n",
    "from pyspark.sql import SparkSession"
   ]
  },
  {
   "cell_type": "code",
   "execution_count": 3,
   "metadata": {
    "pycharm": {
     "is_executing": false
    }
   },
   "outputs": [],
   "source": [
    "parent_dir = os.path.split(os.getcwd())[0]\n",
    "if parent_dir not in sys.path:\n",
    "    sys.path.append(parent_dir)"
   ]
  },
  {
   "cell_type": "code",
   "execution_count": 10,
   "metadata": {
    "pycharm": {
     "is_executing": false
    }
   },
   "outputs": [],
   "source": [
    "from sponge_bob_magic.data_preparator.data_preparator import DataPreparator\n",
    "from sponge_bob_magic.scenarios.popular_scenario import PopularScenario\n",
    "from sponge_bob_magic.models.popular_recomennder import PopularRecommender\n",
    "from sponge_bob_magic.metrics.metrics import Metrics"
   ]
  },
  {
   "cell_type": "code",
   "execution_count": 11,
   "metadata": {
    "pycharm": {
     "is_executing": false
    }
   },
   "outputs": [],
   "source": [
    "# Отображение максимальной ширины колонок в pandas датафреймах\n",
    "pd.options.display.max_colwidth = -1"
   ]
  },
  {
   "cell_type": "code",
   "execution_count": 12,
   "metadata": {
    "pycharm": {
     "is_executing": false
    }
   },
   "outputs": [],
   "source": [
    "spark_memory = \"2g\"\n",
    "spark_cores = \"*\"\n",
    "\n",
    "spark = (\n",
    "    SparkSession\n",
    "    .builder\n",
    "    .config('spark.driver.memory', spark_memory)\n",
    "    .master(f'local[{spark_cores}]')\n",
    "    .enableHiveSupport()\n",
    "    .getOrCreate()\n",
    ")"
   ]
  },
  {
   "cell_type": "code",
   "execution_count": 13,
   "metadata": {
    "pycharm": {
     "is_executing": false
    }
   },
   "outputs": [],
   "source": [
    "spark_logger = logging.getLogger('py4j')\n",
    "spark_logger.setLevel(logging.WARN)"
   ]
  },
  {
   "cell_type": "code",
   "execution_count": 14,
   "metadata": {
    "pycharm": {
     "is_executing": false
    }
   },
   "outputs": [],
   "source": [
    "logger = logging.getLogger()\n",
    "formatter = logging.Formatter('%(asctime)s, %(name)s, %(levelname)s: %(message)s',\n",
    "                              datefmt='%d-%b-%y %H:%M:%S')\n",
    "hdlr = logging.StreamHandler()\n",
    "hdlr.setFormatter(formatter)\n",
    "logger.addHandler(hdlr)\n",
    "logger.setLevel(logging.DEBUG)"
   ]
  },
  {
   "cell_type": "markdown",
   "metadata": {},
   "source": [
    "## Основные данные и пути"
   ]
  },
  {
   "cell_type": "code",
   "execution_count": 15,
   "metadata": {
    "pycharm": {
     "is_executing": false
    }
   },
   "outputs": [],
   "source": [
    "path_data = '../data/rekko_sand_rekko'\n",
    "path_transactions = os.path.join(path_data, 'transactions.csv')\n",
    "path_checkpoints = '../data/checkpoints'"
   ]
  },
  {
   "cell_type": "code",
   "execution_count": 16,
   "metadata": {
    "pycharm": {
     "is_executing": false
    }
   },
   "outputs": [],
   "source": [
    "spark.sparkContext.setCheckpointDir(path_checkpoints)"
   ]
  },
  {
   "cell_type": "code",
   "execution_count": 12,
   "metadata": {
    "pycharm": {
     "is_executing": false
    }
   },
   "outputs": [
    {
     "name": "stdout",
     "output_type": "stream",
     "text": [
      "CPU times: user 3.78 s, sys: 432 ms, total: 4.21 s\n",
      "Wall time: 4.2 s\n"
     ]
    }
   ],
   "source": [
    "%%time\n",
    "\n",
    "transactions = pd.read_csv(\n",
    "    path_transactions,\n",
    "    dtype={\n",
    "        'element_uid': np.uint16,\n",
    "        'user_uid': np.uint32,\n",
    "        'consumption_mode': 'category',\n",
    "        'ts': np.float64,\n",
    "        'watched_time': np.uint64,\n",
    "        'device_type': np.uint8,\n",
    "        'device_manufacturer': np.uint8\n",
    "    }\n",
    ")"
   ]
  },
  {
   "cell_type": "code",
   "execution_count": 13,
   "metadata": {
    "pycharm": {
     "is_executing": false
    }
   },
   "outputs": [
    {
     "data": {
      "text/html": [
       "<div>\n",
       "<style scoped>\n",
       "    .dataframe tbody tr th:only-of-type {\n",
       "        vertical-align: middle;\n",
       "    }\n",
       "\n",
       "    .dataframe tbody tr th {\n",
       "        vertical-align: top;\n",
       "    }\n",
       "\n",
       "    .dataframe thead th {\n",
       "        text-align: right;\n",
       "    }\n",
       "</style>\n",
       "<table border=\"1\" class=\"dataframe\">\n",
       "  <thead>\n",
       "    <tr style=\"text-align: right;\">\n",
       "      <th></th>\n",
       "      <th>element_uid</th>\n",
       "      <th>user_uid</th>\n",
       "      <th>consumption_mode</th>\n",
       "      <th>ts</th>\n",
       "      <th>watched_time</th>\n",
       "      <th>device_type</th>\n",
       "      <th>device_manufacturer</th>\n",
       "    </tr>\n",
       "  </thead>\n",
       "  <tbody>\n",
       "    <tr>\n",
       "      <td>0</td>\n",
       "      <td>3336</td>\n",
       "      <td>5177</td>\n",
       "      <td>S</td>\n",
       "      <td>4.430518e+07</td>\n",
       "      <td>4282</td>\n",
       "      <td>0</td>\n",
       "      <td>50</td>\n",
       "    </tr>\n",
       "    <tr>\n",
       "      <td>1</td>\n",
       "      <td>481</td>\n",
       "      <td>593316</td>\n",
       "      <td>S</td>\n",
       "      <td>4.430518e+07</td>\n",
       "      <td>2989</td>\n",
       "      <td>0</td>\n",
       "      <td>11</td>\n",
       "    </tr>\n",
       "    <tr>\n",
       "      <td>2</td>\n",
       "      <td>4128</td>\n",
       "      <td>262355</td>\n",
       "      <td>S</td>\n",
       "      <td>4.430518e+07</td>\n",
       "      <td>833</td>\n",
       "      <td>0</td>\n",
       "      <td>50</td>\n",
       "    </tr>\n",
       "    <tr>\n",
       "      <td>3</td>\n",
       "      <td>6272</td>\n",
       "      <td>74296</td>\n",
       "      <td>S</td>\n",
       "      <td>4.430518e+07</td>\n",
       "      <td>2530</td>\n",
       "      <td>0</td>\n",
       "      <td>99</td>\n",
       "    </tr>\n",
       "    <tr>\n",
       "      <td>4</td>\n",
       "      <td>5543</td>\n",
       "      <td>340623</td>\n",
       "      <td>P</td>\n",
       "      <td>4.430518e+07</td>\n",
       "      <td>6282</td>\n",
       "      <td>0</td>\n",
       "      <td>50</td>\n",
       "    </tr>\n",
       "  </tbody>\n",
       "</table>\n",
       "</div>"
      ],
      "text/plain": [
       "   element_uid  user_uid consumption_mode            ts  watched_time  \\\n",
       "0  3336         5177      S                4.430518e+07  4282           \n",
       "1  481          593316    S                4.430518e+07  2989           \n",
       "2  4128         262355    S                4.430518e+07  833            \n",
       "3  6272         74296     S                4.430518e+07  2530           \n",
       "4  5543         340623    P                4.430518e+07  6282           \n",
       "\n",
       "   device_type  device_manufacturer  \n",
       "0  0            50                   \n",
       "1  0            11                   \n",
       "2  0            50                   \n",
       "3  0            99                   \n",
       "4  0            50                   "
      ]
     },
     "execution_count": 13,
     "metadata": {},
     "output_type": "execute_result"
    }
   ],
   "source": [
    "transactions.head()"
   ]
  },
  {
   "cell_type": "code",
   "execution_count": 14,
   "metadata": {
    "pycharm": {
     "is_executing": false
    }
   },
   "outputs": [
    {
     "data": {
      "text/plain": [
       "element_uid            8296   \n",
       "user_uid               499663 \n",
       "consumption_mode       3      \n",
       "ts                     9634273\n",
       "watched_time           124958 \n",
       "device_type            7      \n",
       "device_manufacturer    100    \n",
       "dtype: int64"
      ]
     },
     "execution_count": 14,
     "metadata": {},
     "output_type": "execute_result"
    }
   ],
   "source": [
    "transactions.nunique()"
   ]
  },
  {
   "cell_type": "markdown",
   "metadata": {},
   "source": [
    "## Подготовка данных"
   ]
  },
  {
   "cell_type": "code",
   "execution_count": 15,
   "metadata": {
    "pycharm": {
     "is_executing": false
    }
   },
   "outputs": [],
   "source": [
    "dp = DataPreparator(spark)"
   ]
  },
  {
   "cell_type": "code",
   "execution_count": 16,
   "metadata": {
    "pycharm": {
     "is_executing": false
    }
   },
   "outputs": [],
   "source": [
    "df = dp.transform_log(\n",
    "    path_transactions,\n",
    "    format_type='csv',\n",
    "    columns_names={\n",
    "        'user_id': 'user_uid', \n",
    "        'item_id': 'element_uid',\n",
    "        'relevance': 'watched_time'\n",
    "    },\n",
    "    date_format=None,\n",
    "    header=True\n",
    ")"
   ]
  },
  {
   "cell_type": "code",
   "execution_count": 17,
   "metadata": {
    "pycharm": {
     "is_executing": false
    }
   },
   "outputs": [
    {
     "name": "stdout",
     "output_type": "stream",
     "text": [
      "root\n",
      " |-- user_id: string (nullable = true)\n",
      " |-- item_id: string (nullable = true)\n",
      " |-- relevance: float (nullable = true)\n",
      " |-- timestamp: timestamp (nullable = true)\n",
      " |-- context: string (nullable = false)\n",
      "\n"
     ]
    }
   ],
   "source": [
    "df.printSchema()"
   ]
  },
  {
   "cell_type": "code",
   "execution_count": 18,
   "metadata": {
    "pycharm": {
     "is_executing": false
    },
    "scrolled": false
   },
   "outputs": [
    {
     "name": "stdout",
     "output_type": "stream",
     "text": [
      "+-------+-------+---------+-------------------+----------+\n",
      "|user_id|item_id|relevance|          timestamp|   context|\n",
      "+-------+-------+---------+-------------------+----------+\n",
      "|   5177|   3336|   4282.0|1999-05-01 00:00:00|no_context|\n",
      "| 593316|    481|   2989.0|1999-05-01 00:00:00|no_context|\n",
      "| 262355|   4128|    833.0|1999-05-01 00:00:00|no_context|\n",
      "+-------+-------+---------+-------------------+----------+\n",
      "only showing top 3 rows\n",
      "\n"
     ]
    }
   ],
   "source": [
    "df.show(3)"
   ]
  },
  {
   "cell_type": "markdown",
   "metadata": {},
   "source": [
    "## Рекомендации популярных объектов"
   ]
  },
  {
   "cell_type": "code",
   "execution_count": 19,
   "metadata": {},
   "outputs": [],
   "source": [
    "pr = PopularRecommender(spark, alpha=0, beta=0)"
   ]
  },
  {
   "cell_type": "code",
   "execution_count": 20,
   "metadata": {},
   "outputs": [
    {
     "name": "stdout",
     "output_type": "stream",
     "text": [
      "CPU times: user 10.4 ms, sys: 4.3 ms, total: 14.7 ms\n",
      "Wall time: 14.5 s\n"
     ]
    }
   ],
   "source": [
    "%%time\n",
    "\n",
    "pr.fit(\n",
    "    log=df,\n",
    "    user_features=None,\n",
    "    item_features=None,\n",
    "    path=path_checkpoints\n",
    ")"
   ]
  },
  {
   "cell_type": "code",
   "execution_count": 21,
   "metadata": {},
   "outputs": [
    {
     "name": "stderr",
     "output_type": "stream",
     "text": [
      "02-Oct-19 17:05:58, root, DEBUG: Проверка датафреймов\n",
      "02-Oct-19 17:06:06, root, DEBUG: Выделение дефолтных юзеров\n",
      "02-Oct-19 17:06:06, root, DEBUG: Выделение дефолтных айтемов\n",
      "02-Oct-19 17:06:14, root, DEBUG: Среднее количество items у каждого user: 20.0\n",
      "02-Oct-19 17:06:18, root, DEBUG: Количество items после фильтрации: 30\n",
      "02-Oct-19 17:06:27, root, DEBUG: Длина recs: 14989890\n"
     ]
    },
    {
     "name": "stdout",
     "output_type": "stream",
     "text": [
      "CPU times: user 44.2 ms, sys: 14 ms, total: 58.2 ms\n",
      "Wall time: 1min 10s\n"
     ]
    }
   ],
   "source": [
    "%%time\n",
    "\n",
    "recs = pr.predict(\n",
    "    k=10,\n",
    "    users=None,\n",
    "    items=None,\n",
    "    context='no_context',\n",
    "    log=df,\n",
    "    user_features=None,\n",
    "    item_features=None,\n",
    "    to_filter_seen_items=True,\n",
    "    path=None\n",
    ")"
   ]
  },
  {
   "cell_type": "code",
   "execution_count": 22,
   "metadata": {},
   "outputs": [
    {
     "name": "stdout",
     "output_type": "stream",
     "text": [
      "+-------+-------+----------+--------------------+\n",
      "|item_id|user_id|   context|           relevance|\n",
      "+-------+-------+----------+--------------------+\n",
      "|   2714| 100140|no_context|0.007084923258417598|\n",
      "|    747| 100140|no_context|0.006354031292297469|\n",
      "|   6127| 100140|no_context|0.005409927935379527|\n",
      "|   3916| 100140|no_context|0.005002897434950823|\n",
      "|   8771| 100140|no_context|0.004923772779708249|\n",
      "+-------+-------+----------+--------------------+\n",
      "only showing top 5 rows\n",
      "\n"
     ]
    }
   ],
   "source": [
    "recs.show(5)"
   ]
  },
  {
   "cell_type": "code",
   "execution_count": 23,
   "metadata": {},
   "outputs": [
    {
     "name": "stdout",
     "output_type": "stream",
     "text": [
      "CPU times: user 12.3 ms, sys: 5.66 ms, total: 18 ms\n",
      "Wall time: 1min 20s\n"
     ]
    },
    {
     "data": {
      "text/plain": [
       "0.0002561726603730915"
      ]
     },
     "execution_count": 23,
     "metadata": {},
     "output_type": "execute_result"
    }
   ],
   "source": [
    "%%time\n",
    "\n",
    "metric = Metrics.hit_rate_at_k(recs, df, k=10)\n",
    "metric"
   ]
  },
  {
   "cell_type": "markdown",
   "metadata": {},
   "source": [
    "## Сценарий с популярной моделью"
   ]
  },
  {
   "cell_type": "code",
   "execution_count": 19,
   "metadata": {
    "pycharm": {
     "is_executing": false
    }
   },
   "outputs": [
    {
     "data": {
      "text/plain": [
       "DataFrame[user_id: string, item_id: string, relevance: float, timestamp: timestamp, context: string]"
      ]
     },
     "execution_count": 19,
     "metadata": {},
     "output_type": "execute_result"
    }
   ],
   "source": [
    "df_short = df.limit(1000)\n",
    "df_short.checkpoint()"
   ]
  },
  {
   "cell_type": "code",
   "execution_count": 20,
   "metadata": {
    "pycharm": {
     "is_executing": false
    }
   },
   "outputs": [],
   "source": [
    "popular_scenario = PopularScenario(spark)\n",
    "popular_params_grid = {'alpha': (0, 1000), 'beta': (0, 1000)}"
   ]
  },
  {
   "cell_type": "code",
   "execution_count": 24,
   "metadata": {
    "pycharm": {
     "is_executing": false
    },
    "scrolled": false
   },
   "outputs": [
    {
     "name": "stderr",
     "output_type": "stream",
     "text": [
      "07-Oct-19 11:39:08, root, DEBUG: Деление на трейн и тест\n",
      "07-Oct-19 11:39:52, root, DEBUG: Размер трейна:      6268408\n",
      "07-Oct-19 11:39:57, root, DEBUG: Размер теста_инпут: 6268408\n",
      "07-Oct-19 11:40:08, root, DEBUG: Размер теста:       3374528\n",
      "07-Oct-19 11:40:38, root, DEBUG: Начало оптимизации параметров\n",
      "07-Oct-19 11:40:38, root, DEBUG: Предикт модели в оптимизации\n",
      "07-Oct-19 11:40:38, root, DEBUG: Проверка датафреймов\n",
      "07-Oct-19 11:41:47, root, DEBUG: Среднее количество items у каждого user: 8.0\n",
      "07-Oct-19 11:41:57, root, DEBUG: Количество items после фильтрации: 18\n",
      "07-Oct-19 11:42:12, root, DEBUG: Длина recs: 8993934\n",
      "07-Oct-19 11:43:07, root, DEBUG: Подсчет метрики в оптимизации\n",
      "07-Oct-19 11:45:36, root, DEBUG: Метрика и параметры: (5.403642054744898e-05, {'alpha': 59, 'beta': 65})\n",
      "\u001b[32m[I 2019-10-07 11:45:36,720]\u001b[0m Finished trial#0 resulted in value: 5.403642054744898e-05. Current best value is 5.403642054744898e-05 with parameters: {'alpha': 59, 'beta': 65}.\u001b[0m\n",
      "07-Oct-19 11:45:36, root, DEBUG: Предикт модели в оптимизации\n",
      "07-Oct-19 11:45:36, root, DEBUG: Проверка датафреймов\n",
      "07-Oct-19 11:46:55, root, DEBUG: Среднее количество items у каждого user: 8.0\n",
      "07-Oct-19 11:47:07, root, DEBUG: Количество items после фильтрации: 18\n",
      "07-Oct-19 11:47:23, root, DEBUG: Длина recs: 8993934\n",
      "07-Oct-19 11:48:22, root, DEBUG: Подсчет метрики в оптимизации\n",
      "07-Oct-19 11:50:18, root, DEBUG: Метрика и параметры: (5.403642054744898e-05, {'alpha': 238, 'beta': 828})\n",
      "\u001b[32m[I 2019-10-07 11:50:18,873]\u001b[0m Finished trial#1 resulted in value: 5.403642054744898e-05. Current best value is 5.403642054744898e-05 with parameters: {'alpha': 59, 'beta': 65}.\u001b[0m\n",
      "07-Oct-19 11:50:18, root, DEBUG: Предикт модели в оптимизации\n",
      "07-Oct-19 11:50:18, root, DEBUG: Проверка датафреймов\n",
      "07-Oct-19 11:51:29, root, DEBUG: Среднее количество items у каждого user: 8.0\n",
      "07-Oct-19 11:51:39, root, DEBUG: Количество items после фильтрации: 18\n",
      "07-Oct-19 11:51:54, root, DEBUG: Длина recs: 8993934\n",
      "07-Oct-19 11:52:48, root, DEBUG: Подсчет метрики в оптимизации\n",
      "07-Oct-19 11:54:44, root, DEBUG: Метрика и параметры: (5.403642054744898e-05, {'alpha': 754, 'beta': 448})\n",
      "\u001b[32m[I 2019-10-07 11:54:44,131]\u001b[0m Finished trial#2 resulted in value: 5.403642054744898e-05. Current best value is 5.403642054744898e-05 with parameters: {'alpha': 59, 'beta': 65}.\u001b[0m\n",
      "07-Oct-19 11:54:44, root, DEBUG: Лучшие значения метрики: 5.403642054744898e-05\n",
      "07-Oct-19 11:54:44, root, DEBUG: Лучшие параметры: {'alpha': 59, 'beta': 65}\n"
     ]
    },
    {
     "name": "stdout",
     "output_type": "stream",
     "text": [
      "CPU times: user 465 ms, sys: 88.8 ms, total: 554 ms\n",
      "Wall time: 15min 35s\n"
     ]
    }
   ],
   "source": [
    "%%time\n",
    "\n",
    "best_params = popular_scenario.research(\n",
    "    popular_params_grid,\n",
    "    df,\n",
    "    users=None, items=None,\n",
    "    user_features=None,\n",
    "    item_features=None,\n",
    "    test_start=None,\n",
    "    test_size=0.35,\n",
    "    k=10, context='no_context',\n",
    "    to_filter_seen_items=True,\n",
    "    n_trials=3, n_jobs=1,\n",
    "    how_to_split='randomly'\n",
    ")"
   ]
  },
  {
   "cell_type": "code",
   "execution_count": 54,
   "metadata": {},
   "outputs": [
    {
     "data": {
      "text/plain": [
       "{'alpha': 59, 'beta': 65}"
      ]
     },
     "execution_count": 54,
     "metadata": {},
     "output_type": "execute_result"
    }
   ],
   "source": [
    "best_params"
   ]
  },
  {
   "cell_type": "code",
   "execution_count": 53,
   "metadata": {},
   "outputs": [
    {
     "data": {
      "text/html": [
       "<div>\n",
       "<style scoped>\n",
       "    .dataframe tbody tr th:only-of-type {\n",
       "        vertical-align: middle;\n",
       "    }\n",
       "\n",
       "    .dataframe tbody tr th {\n",
       "        vertical-align: top;\n",
       "    }\n",
       "\n",
       "    .dataframe thead tr th {\n",
       "        text-align: left;\n",
       "    }\n",
       "</style>\n",
       "<table border=\"1\" class=\"dataframe\">\n",
       "  <thead>\n",
       "    <tr>\n",
       "      <th></th>\n",
       "      <th>number</th>\n",
       "      <th>state</th>\n",
       "      <th>value</th>\n",
       "      <th>datetime_start</th>\n",
       "      <th>datetime_complete</th>\n",
       "      <th colspan=\"2\" halign=\"left\">params</th>\n",
       "      <th>user_attrs</th>\n",
       "      <th>system_attrs</th>\n",
       "    </tr>\n",
       "    <tr>\n",
       "      <th></th>\n",
       "      <th></th>\n",
       "      <th></th>\n",
       "      <th></th>\n",
       "      <th></th>\n",
       "      <th></th>\n",
       "      <th>alpha</th>\n",
       "      <th>beta</th>\n",
       "      <th>some_metric</th>\n",
       "      <th>_number</th>\n",
       "    </tr>\n",
       "  </thead>\n",
       "  <tbody>\n",
       "    <tr>\n",
       "      <td>0</td>\n",
       "      <td>0</td>\n",
       "      <td>TrialState.COMPLETE</td>\n",
       "      <td>0.000054</td>\n",
       "      <td>2019-10-07 11:40:38.885640</td>\n",
       "      <td>2019-10-07 11:45:36.719832</td>\n",
       "      <td>59</td>\n",
       "      <td>65</td>\n",
       "      <td>1.0</td>\n",
       "      <td>0</td>\n",
       "    </tr>\n",
       "    <tr>\n",
       "      <td>1</td>\n",
       "      <td>1</td>\n",
       "      <td>TrialState.COMPLETE</td>\n",
       "      <td>0.000054</td>\n",
       "      <td>2019-10-07 11:45:36.720899</td>\n",
       "      <td>2019-10-07 11:50:18.873271</td>\n",
       "      <td>238</td>\n",
       "      <td>828</td>\n",
       "      <td>1.0</td>\n",
       "      <td>1</td>\n",
       "    </tr>\n",
       "    <tr>\n",
       "      <td>2</td>\n",
       "      <td>2</td>\n",
       "      <td>TrialState.COMPLETE</td>\n",
       "      <td>0.000054</td>\n",
       "      <td>2019-10-07 11:50:18.874283</td>\n",
       "      <td>2019-10-07 11:54:44.130547</td>\n",
       "      <td>754</td>\n",
       "      <td>448</td>\n",
       "      <td>1.0</td>\n",
       "      <td>2</td>\n",
       "    </tr>\n",
       "  </tbody>\n",
       "</table>\n",
       "</div>"
      ],
      "text/plain": [
       "  number                state     value             datetime_start  \\\n",
       "                                                                     \n",
       "0  0      TrialState.COMPLETE  0.000054 2019-10-07 11:40:38.885640   \n",
       "1  1      TrialState.COMPLETE  0.000054 2019-10-07 11:45:36.720899   \n",
       "2  2      TrialState.COMPLETE  0.000054 2019-10-07 11:50:18.874283   \n",
       "\n",
       "           datetime_complete params       user_attrs system_attrs  \n",
       "                              alpha beta some_metric      _number  \n",
       "0 2019-10-07 11:45:36.719832  59     65   1.0         0            \n",
       "1 2019-10-07 11:50:18.873271  238    828  1.0         1            \n",
       "2 2019-10-07 11:54:44.130547  754    448  1.0         2            "
      ]
     },
     "execution_count": 53,
     "metadata": {},
     "output_type": "execute_result"
    }
   ],
   "source": [
    "results = popular_scenario.study.trials_dataframe()\n",
    "\n",
    "results.head()"
   ]
  },
  {
   "cell_type": "code",
   "execution_count": 52,
   "metadata": {
    "scrolled": false
   },
   "outputs": [
    {
     "data": {
      "image/png": "[encoded data removed]",
      "text/plain": [
       "<Figure size 504x360 with 1 Axes>"
      ]
     },
     "metadata": {
      "needs_background": "light"
     },
     "output_type": "display_data"
    }
   ],
   "source": [
    "def plot_result_value(results):\n",
    "    results['value_name'] = (results['params']['alpha'].astype(str)\n",
    "                         .str.cat(results['params']['beta'].astype(str), sep=', '))\n",
    "    \n",
    "    plt.figure(figsize=(7, 5))\n",
    "    ax = results['value'].plot(kind='bar', xticks=range(len(results)), rot=0)\n",
    "    ax.set_xticklabels(results['value_name'].values)\n",
    "\n",
    "    plt.xlabel(r'$(\\alpha, \\beta)$' + ' пары')\n",
    "    plt.ylabel('Значение метрики')\n",
    "    plt.title('Результаты экспериента')\n",
    "\n",
    "    plt.show()\n",
    "    \n",
    "\n",
    "plot_result_value(results)"
   ]
  },
  {
   "cell_type": "code",
   "execution_count": 40,
   "metadata": {},
   "outputs": [
    {
     "name": "stderr",
     "output_type": "stream",
     "text": [
      "02-Oct-19 18:19:57, root, DEBUG: Проверка датафреймов\n",
      "02-Oct-19 18:20:04, root, DEBUG: Выделение дефолтных юзеров\n",
      "02-Oct-19 18:20:04, root, DEBUG: Выделение дефолтных айтемов\n",
      "02-Oct-19 18:20:14, root, DEBUG: Среднее количество items у каждого user: 20.0\n",
      "02-Oct-19 18:20:22, root, DEBUG: Количество items после фильтрации: 30\n",
      "02-Oct-19 18:20:34, root, DEBUG: Длина recs: 14989890\n"
     ]
    },
    {
     "name": "stdout",
     "output_type": "stream",
     "text": [
      "CPU times: user 39.2 ms, sys: 11.7 ms, total: 50.9 ms\n",
      "Wall time: 1min 29s\n"
     ]
    }
   ],
   "source": [
    "%%time\n",
    "\n",
    "best_recs = popular_scenario.production(\n",
    "    best_params,\n",
    "    df,\n",
    "    users=None,\n",
    "    items=None,\n",
    "    user_features=None,\n",
    "    item_features=None,\n",
    "    k=10,\n",
    "    context='no_context',\n",
    "    to_filter_seen_items=True\n",
    ")"
   ]
  },
  {
   "cell_type": "code",
   "execution_count": 41,
   "metadata": {},
   "outputs": [
    {
     "name": "stdout",
     "output_type": "stream",
     "text": [
      "+-------+-------+----------+--------------------+\n",
      "|item_id|user_id|   context|           relevance|\n",
      "+-------+-------+----------+--------------------+\n",
      "|   2714| 100140|no_context|0.007084923258417598|\n",
      "|    747| 100140|no_context|0.006354031292297469|\n",
      "|   6127| 100140|no_context|0.005409927935379527|\n",
      "|   3916| 100140|no_context|0.005002897434950823|\n",
      "|   8771| 100140|no_context|0.004923772779708249|\n",
      "|   3336| 100140|no_context| 0.00473358324141876|\n",
      "|   7079| 100140|no_context|0.004549615825428818|\n",
      "|   3567| 100140|no_context|0.004384314776337518|\n",
      "|   1016| 100140|no_context|0.004307678970014763|\n",
      "|   9467| 100140|no_context|0.003858441739987...|\n",
      "+-------+-------+----------+--------------------+\n",
      "only showing top 10 rows\n",
      "\n"
     ]
    }
   ],
   "source": [
    "best_recs.show(10)"
   ]
  }
 ],
 "metadata": {
  "kernelspec": {
   "display_name": "Python 3",
   "language": "python",
   "name": "python3"
  },
  "language_info": {
   "codemirror_mode": {
    "name": "ipython",
    "version": 3
   },
   "file_extension": ".py",
   "mimetype": "text/x-python",
   "name": "python",
   "nbconvert_exporter": "python",
   "pygments_lexer": "ipython3",
   "version": "3.7.4"
  },
  "pycharm": {
   "stem_cell": {
    "cell_type": "raw",
    "metadata": {
     "collapsed": false
    },
    "source": []
   }
  }
 },
 "nbformat": 4,
 "nbformat_minor": 2
}
