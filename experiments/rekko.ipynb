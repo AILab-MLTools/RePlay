{
 "cells": [
  {
   "cell_type": "markdown",
   "metadata": {},
   "source": [
    "# Rekko Sandbox"
   ]
  },
  {
   "cell_type": "code",
   "execution_count": 1,
   "metadata": {},
   "outputs": [],
   "source": [
    "%load_ext autoreload\n",
    "%autoreload 2\n",
    "%matplotlib inline"
   ]
  },
  {
   "cell_type": "code",
   "execution_count": 2,
   "metadata": {},
   "outputs": [],
   "source": [
    "import pandas as pd\n",
    "import numpy as np\n",
    "import matplotlib.pyplot as plt\n",
    "\n",
    "import os\n",
    "import sys\n",
    "import re\n",
    "import logging\n",
    "\n",
    "from collections import Counter\n",
    "\n",
    "from sklearn.feature_extraction.text import CountVectorizer\n",
    "\n",
    "from time import time\n",
    "\n",
    "from pyspark.sql import SparkSession"
   ]
  },
  {
   "cell_type": "code",
   "execution_count": 3,
   "metadata": {},
   "outputs": [],
   "source": [
    "parent_dir = os.path.split(os.getcwd())[0]\n",
    "if parent_dir not in sys.path:\n",
    "    sys.path.append(parent_dir)"
   ]
  },
  {
   "cell_type": "code",
   "execution_count": 4,
   "metadata": {},
   "outputs": [
    {
     "data": {
      "text/plain": [
       "'/Users/roseaysina/code/sponge-bob-magic'"
      ]
     },
     "execution_count": 4,
     "metadata": {},
     "output_type": "execute_result"
    }
   ],
   "source": [
    "parent_dir"
   ]
  },
  {
   "cell_type": "code",
   "execution_count": 5,
   "metadata": {},
   "outputs": [],
   "source": [
    "from sponge_bob_magic.data_preparator.data_preparator import DataPreparator\n",
    "from sponge_bob_magic.scenarios.popular_scenario import PopularScenario\n",
    "from sponge_bob_magic.models.popular_recomennder import PopularRecommender\n",
    "from sponge_bob_magic.metrics.metrics import Metrics"
   ]
  },
  {
   "cell_type": "code",
   "execution_count": 6,
   "metadata": {},
   "outputs": [],
   "source": [
    "# Отображение максимальной ширины колонок в pandas датафреймах\n",
    "pd.options.display.max_colwidth = -1"
   ]
  },
  {
   "cell_type": "code",
   "execution_count": 7,
   "metadata": {},
   "outputs": [],
   "source": [
    "spark_memory = \"2g\"\n",
    "spark_cores = \"*\"\n",
    "\n",
    "spark = (\n",
    "    SparkSession\n",
    "    .builder\n",
    "    .config('spark.driver.memory', spark_memory)\n",
    "    .master(f'local[{spark_cores}]')\n",
    "    .enableHiveSupport()\n",
    "    .getOrCreate()\n",
    ")"
   ]
  },
  {
   "cell_type": "code",
   "execution_count": 8,
   "metadata": {},
   "outputs": [],
   "source": [
    "spark_logger = logging.getLogger('py4j')\n",
    "spark_logger.setLevel(logging.WARN)"
   ]
  },
  {
   "cell_type": "code",
   "execution_count": 9,
   "metadata": {},
   "outputs": [
    {
     "name": "stderr",
     "output_type": "stream",
     "text": [
      "01-Oct-19 15:04:08, root, DEBUG: test\n"
     ]
    }
   ],
   "source": [
    "logger = logging.getLogger()\n",
    "formatter = logging.Formatter('%(asctime)s, %(name)s, %(levelname)s: %(message)s',\n",
    "                              datefmt='%d-%b-%y %H:%M:%S')\n",
    "hdlr = logging.StreamHandler()\n",
    "hdlr.setFormatter(formatter)\n",
    "logger.addHandler(hdlr)\n",
    "logger.setLevel(logging.DEBUG)\n",
    "\n",
    "logging.debug(\"test\")"
   ]
  },
  {
   "cell_type": "markdown",
   "metadata": {},
   "source": [
    "## Основные данные и пути"
   ]
  },
  {
   "cell_type": "code",
   "execution_count": 10,
   "metadata": {},
   "outputs": [],
   "source": [
    "path_data = '/Users/roseaysina/code/sponge-bob-magic/data/rekko_sand_rekko'\n",
    "path_transactions = os.path.join(path_data, 'transactions.csv')\n",
    "path_checkpoints = '/Users/roseaysina/code/sponge-bob-magic/data/checkpoints'"
   ]
  },
  {
   "cell_type": "code",
   "execution_count": 11,
   "metadata": {},
   "outputs": [
    {
     "name": "stdout",
     "output_type": "stream",
     "text": [
      "CPU times: user 3.56 s, sys: 353 ms, total: 3.92 s\n",
      "Wall time: 3.76 s\n"
     ]
    }
   ],
   "source": [
    "%%time\n",
    "\n",
    "transactions = pd.read_csv(\n",
    "    path_transactions,\n",
    "    dtype={\n",
    "        'element_uid': np.uint16,\n",
    "        'user_uid': np.uint32,\n",
    "        'consumption_mode': 'category',\n",
    "        'ts': np.float64,\n",
    "        'watched_time': np.uint64,\n",
    "        'device_type': np.uint8,\n",
    "        'device_manufacturer': np.uint8\n",
    "    }\n",
    ")"
   ]
  },
  {
   "cell_type": "code",
   "execution_count": 12,
   "metadata": {},
   "outputs": [
    {
     "data": {
      "text/html": [
       "<div>\n",
       "<style scoped>\n",
       "    .dataframe tbody tr th:only-of-type {\n",
       "        vertical-align: middle;\n",
       "    }\n",
       "\n",
       "    .dataframe tbody tr th {\n",
       "        vertical-align: top;\n",
       "    }\n",
       "\n",
       "    .dataframe thead th {\n",
       "        text-align: right;\n",
       "    }\n",
       "</style>\n",
       "<table border=\"1\" class=\"dataframe\">\n",
       "  <thead>\n",
       "    <tr style=\"text-align: right;\">\n",
       "      <th></th>\n",
       "      <th>element_uid</th>\n",
       "      <th>user_uid</th>\n",
       "      <th>consumption_mode</th>\n",
       "      <th>ts</th>\n",
       "      <th>watched_time</th>\n",
       "      <th>device_type</th>\n",
       "      <th>device_manufacturer</th>\n",
       "    </tr>\n",
       "  </thead>\n",
       "  <tbody>\n",
       "    <tr>\n",
       "      <td>0</td>\n",
       "      <td>3336</td>\n",
       "      <td>5177</td>\n",
       "      <td>S</td>\n",
       "      <td>4.430518e+07</td>\n",
       "      <td>4282</td>\n",
       "      <td>0</td>\n",
       "      <td>50</td>\n",
       "    </tr>\n",
       "    <tr>\n",
       "      <td>1</td>\n",
       "      <td>481</td>\n",
       "      <td>593316</td>\n",
       "      <td>S</td>\n",
       "      <td>4.430518e+07</td>\n",
       "      <td>2989</td>\n",
       "      <td>0</td>\n",
       "      <td>11</td>\n",
       "    </tr>\n",
       "    <tr>\n",
       "      <td>2</td>\n",
       "      <td>4128</td>\n",
       "      <td>262355</td>\n",
       "      <td>S</td>\n",
       "      <td>4.430518e+07</td>\n",
       "      <td>833</td>\n",
       "      <td>0</td>\n",
       "      <td>50</td>\n",
       "    </tr>\n",
       "    <tr>\n",
       "      <td>3</td>\n",
       "      <td>6272</td>\n",
       "      <td>74296</td>\n",
       "      <td>S</td>\n",
       "      <td>4.430518e+07</td>\n",
       "      <td>2530</td>\n",
       "      <td>0</td>\n",
       "      <td>99</td>\n",
       "    </tr>\n",
       "    <tr>\n",
       "      <td>4</td>\n",
       "      <td>5543</td>\n",
       "      <td>340623</td>\n",
       "      <td>P</td>\n",
       "      <td>4.430518e+07</td>\n",
       "      <td>6282</td>\n",
       "      <td>0</td>\n",
       "      <td>50</td>\n",
       "    </tr>\n",
       "  </tbody>\n",
       "</table>\n",
       "</div>"
      ],
      "text/plain": [
       "   element_uid  user_uid consumption_mode            ts  watched_time  \\\n",
       "0  3336         5177      S                4.430518e+07  4282           \n",
       "1  481          593316    S                4.430518e+07  2989           \n",
       "2  4128         262355    S                4.430518e+07  833            \n",
       "3  6272         74296     S                4.430518e+07  2530           \n",
       "4  5543         340623    P                4.430518e+07  6282           \n",
       "\n",
       "   device_type  device_manufacturer  \n",
       "0  0            50                   \n",
       "1  0            11                   \n",
       "2  0            50                   \n",
       "3  0            99                   \n",
       "4  0            50                   "
      ]
     },
     "execution_count": 12,
     "metadata": {},
     "output_type": "execute_result"
    }
   ],
   "source": [
    "transactions.head()"
   ]
  },
  {
   "cell_type": "code",
   "execution_count": 13,
   "metadata": {},
   "outputs": [
    {
     "data": {
      "text/plain": [
       "element_uid            8296   \n",
       "user_uid               499663 \n",
       "consumption_mode       3      \n",
       "ts                     9634273\n",
       "watched_time           124958 \n",
       "device_type            7      \n",
       "device_manufacturer    100    \n",
       "dtype: int64"
      ]
     },
     "execution_count": 13,
     "metadata": {},
     "output_type": "execute_result"
    }
   ],
   "source": [
    "transactions.nunique()"
   ]
  },
  {
   "cell_type": "markdown",
   "metadata": {},
   "source": [
    "## Дата препаратор"
   ]
  },
  {
   "cell_type": "code",
   "execution_count": 14,
   "metadata": {},
   "outputs": [],
   "source": [
    "dp = DataPreparator(spark)"
   ]
  },
  {
   "cell_type": "code",
   "execution_count": 15,
   "metadata": {},
   "outputs": [],
   "source": [
    "df = dp.transform_log(\n",
    "    path_transactions,\n",
    "    format_type='csv',\n",
    "    columns_names={\n",
    "        'user_id': 'user_uid', \n",
    "        'item_id': 'element_uid',\n",
    "        'relevance': 'watched_time'\n",
    "    },\n",
    "    date_format=None,\n",
    "    header=True\n",
    ")"
   ]
  },
  {
   "cell_type": "code",
   "execution_count": 16,
   "metadata": {},
   "outputs": [
    {
     "name": "stdout",
     "output_type": "stream",
     "text": [
      "root\n",
      " |-- user_id: string (nullable = true)\n",
      " |-- item_id: string (nullable = true)\n",
      " |-- relevance: float (nullable = true)\n",
      " |-- timestamp: timestamp (nullable = true)\n",
      " |-- context: string (nullable = false)\n",
      "\n"
     ]
    }
   ],
   "source": [
    "df.printSchema()"
   ]
  },
  {
   "cell_type": "code",
   "execution_count": 17,
   "metadata": {
    "scrolled": false
   },
   "outputs": [
    {
     "name": "stdout",
     "output_type": "stream",
     "text": [
      "+-------+-------+---------+-------------------+----------+\n",
      "|user_id|item_id|relevance|          timestamp|   context|\n",
      "+-------+-------+---------+-------------------+----------+\n",
      "|   5177|   3336|   4282.0|1999-05-01 00:00:00|no_context|\n",
      "| 593316|    481|   2989.0|1999-05-01 00:00:00|no_context|\n",
      "| 262355|   4128|    833.0|1999-05-01 00:00:00|no_context|\n",
      "+-------+-------+---------+-------------------+----------+\n",
      "only showing top 3 rows\n",
      "\n"
     ]
    }
   ],
   "source": [
    "df.show(3)"
   ]
  },
  {
   "cell_type": "markdown",
   "metadata": {},
   "source": [
    "## Популярный рекоммендер"
   ]
  },
  {
   "cell_type": "code",
   "execution_count": 18,
   "metadata": {},
   "outputs": [],
   "source": [
    "spark.sparkContext.setCheckpointDir(path_checkpoints)"
   ]
  },
  {
   "cell_type": "code",
   "execution_count": 19,
   "metadata": {},
   "outputs": [],
   "source": [
    "pr = PopularRecommender(spark, alpha=0, beta=0)"
   ]
  },
  {
   "cell_type": "code",
   "execution_count": 20,
   "metadata": {},
   "outputs": [
    {
     "name": "stdout",
     "output_type": "stream",
     "text": [
      "CPU times: user 9.77 ms, sys: 4.23 ms, total: 14 ms\n",
      "Wall time: 13.6 s\n"
     ]
    }
   ],
   "source": [
    "%%time\n",
    "\n",
    "pr.fit(\n",
    "    log=df,\n",
    "    user_features=None,\n",
    "    item_features=None,\n",
    "    path=path_checkpoints\n",
    ")"
   ]
  },
  {
   "cell_type": "code",
   "execution_count": 21,
   "metadata": {},
   "outputs": [
    {
     "name": "stderr",
     "output_type": "stream",
     "text": [
      "01-Oct-19 15:04:39, root, DEBUG: Проверка датафреймов\n",
      "01-Oct-19 15:04:47, root, DEBUG: Выделение дефолтных юзеров\n",
      "01-Oct-19 15:04:47, root, DEBUG: Выделение дефолтных айтемов\n",
      "01-Oct-19 15:04:51, root, DEBUG: Выделение контекста\n",
      "01-Oct-19 15:04:51, root, DEBUG: Подсчет количества айтемов\n",
      "01-Oct-19 15:04:52, root, DEBUG: Подсчет популярности\n",
      "01-Oct-19 15:04:52, root, DEBUG: Удаление ненужных айтемов\n",
      "01-Oct-19 15:04:52, root, DEBUG: Заполнение нуллов\n",
      "01-Oct-19 15:04:58, root, DEBUG: k для выделения топа: 20.0\n",
      "01-Oct-19 15:05:07, root, DEBUG: Количество айтемов после фильтрации: 30\n",
      "01-Oct-19 15:05:07, root, DEBUG: Кросс-джойн юзеров на айтемы\n",
      "01-Oct-19 15:05:29, root, DEBUG: Длина recs: 14989890\n",
      "01-Oct-19 15:05:29, root, DEBUG: Удаление виденных айтемов\n",
      "01-Oct-19 15:06:07, root, DEBUG: Берем топ-к\n",
      "01-Oct-19 15:06:45, root, DEBUG: Заменяем отрицательные рейтинги на 0\n"
     ]
    },
    {
     "name": "stdout",
     "output_type": "stream",
     "text": [
      "CPU times: user 67.9 ms, sys: 22.1 ms, total: 90 ms\n",
      "Wall time: 2min 53s\n"
     ]
    }
   ],
   "source": [
    "%%time\n",
    "\n",
    "recs = pr.predict(\n",
    "    k=10,\n",
    "    users=None,\n",
    "    items=None,\n",
    "    context='no_context',\n",
    "    log=df,\n",
    "    user_features=None,\n",
    "    item_features=None,\n",
    "    to_filter_seen_items=True,\n",
    "    path=None\n",
    ")"
   ]
  },
  {
   "cell_type": "code",
   "execution_count": 22,
   "metadata": {},
   "outputs": [
    {
     "name": "stdout",
     "output_type": "stream",
     "text": [
      "+-------+-------+----------+--------------------+\n",
      "|item_id|user_id|   context|           relevance|\n",
      "+-------+-------+----------+--------------------+\n",
      "|   2714| 100140|no_context|0.007084923258417598|\n",
      "|    747| 100140|no_context|0.006354031292297469|\n",
      "|   6127| 100140|no_context|0.005409927935379527|\n",
      "|   3916| 100140|no_context|0.005002897434950823|\n",
      "|   8771| 100140|no_context|0.004923772779708249|\n",
      "+-------+-------+----------+--------------------+\n",
      "only showing top 5 rows\n",
      "\n"
     ]
    }
   ],
   "source": [
    "recs.show(5)"
   ]
  },
  {
   "cell_type": "code",
   "execution_count": 23,
   "metadata": {},
   "outputs": [
    {
     "data": {
      "text/plain": [
       "0.0002561726603730915"
      ]
     },
     "execution_count": 23,
     "metadata": {},
     "output_type": "execute_result"
    }
   ],
   "source": [
    "metric = Metrics.hit_rate_at_k(recs, df, k=10)\n",
    "metric"
   ]
  },
  {
   "cell_type": "markdown",
   "metadata": {},
   "source": [
    "## Популярный сценарий"
   ]
  },
  {
   "cell_type": "code",
   "execution_count": 24,
   "metadata": {},
   "outputs": [
    {
     "data": {
      "text/plain": [
       "DataFrame[user_id: string, item_id: string, relevance: float, timestamp: timestamp, context: string]"
      ]
     },
     "execution_count": 24,
     "metadata": {},
     "output_type": "execute_result"
    }
   ],
   "source": [
    "df_short = df.limit(1000)\n",
    "df_short.checkpoint()"
   ]
  },
  {
   "cell_type": "code",
   "execution_count": 25,
   "metadata": {},
   "outputs": [],
   "source": [
    "popular_scenario = PopularScenario(spark)\n",
    "popular_params_grid = {'alpha': (0, 100), 'beta': (0, 100)}"
   ]
  },
  {
   "cell_type": "code",
   "execution_count": 26,
   "metadata": {
    "scrolled": false
   },
   "outputs": [
    {
     "name": "stderr",
     "output_type": "stream",
     "text": [
      "01-Oct-19 15:09:22, root, DEBUG: Деление на трейн и тест\n",
      "01-Oct-19 15:09:32, root, DEBUG: Размер трейна:      682\n",
      "01-Oct-19 15:09:35, root, DEBUG: Размер теста_инпут: 682\n",
      "01-Oct-19 15:09:38, root, DEBUG: Размер теста:       130\n",
      "01-Oct-19 15:09:59, root, DEBUG: Начало оптимизации параметров\n",
      "01-Oct-19 15:09:59, root, DEBUG: Предикт модели в оптимизации\n",
      "01-Oct-19 15:09:59, root, DEBUG: Проверка датафреймов\n",
      "01-Oct-19 15:10:12, root, DEBUG: Выделение дефолтных юзеров\n",
      "01-Oct-19 15:10:12, root, DEBUG: Выделение дефолтных айтемов\n",
      "01-Oct-19 15:10:12, root, DEBUG: Выделение контекста\n",
      "01-Oct-19 15:10:12, root, DEBUG: Подсчет количества айтемов\n",
      "01-Oct-19 15:10:16, root, DEBUG: Подсчет популярности\n",
      "01-Oct-19 15:10:16, root, DEBUG: Удаление ненужных айтемов\n",
      "01-Oct-19 15:10:16, root, DEBUG: Заполнение нуллов\n",
      "01-Oct-19 15:10:20, root, DEBUG: k для выделения топа: 2.0\n",
      "01-Oct-19 15:10:29, root, DEBUG: Количество айтемов после фильтрации: 12\n",
      "01-Oct-19 15:10:29, root, DEBUG: Кросс-джойн юзеров на айтемы\n",
      "01-Oct-19 15:10:36, root, DEBUG: Длина recs: 10644\n",
      "01-Oct-19 15:10:36, root, DEBUG: Удаление виденных айтемов\n",
      "01-Oct-19 15:10:44, root, DEBUG: Берем топ-к\n",
      "01-Oct-19 15:10:53, root, DEBUG: Заменяем отрицательные рейтинги на 0\n",
      "01-Oct-19 15:11:04, root, DEBUG: Подсчет метрики в оптимизации\n",
      "\u001b[32m[I 2019-10-01 15:11:23,762]\u001b[0m Finished trial#0 resulted in value: 0.0. Current best value is 0.0 with parameters: {'alpha': 1, 'beta': 19}.\u001b[0m\n",
      "01-Oct-19 15:11:23, root, DEBUG: Лучшие значения метрики: 0.0\n",
      "01-Oct-19 15:11:23, root, DEBUG: Лучшие параметры: {'alpha': 1, 'beta': 19}\n"
     ]
    },
    {
     "name": "stdout",
     "output_type": "stream",
     "text": [
      "CPU times: user 380 ms, sys: 127 ms, total: 508 ms\n",
      "Wall time: 2min 1s\n"
     ]
    }
   ],
   "source": [
    "%%time\n",
    "\n",
    "best_params = popular_scenario.research(\n",
    "    popular_params_grid,\n",
    "    df,\n",
    "    users=None, items=None,\n",
    "    user_features=None,\n",
    "    item_features=None,\n",
    "    test_start=None,\n",
    "    test_size=0.35,\n",
    "    k=10, context='no_context',\n",
    "    to_filter_seen_items=True,\n",
    "    n_trials=1, n_jobs=1,\n",
    "    how_to_split='randomly'\n",
    ")"
   ]
  },
  {
   "cell_type": "code",
   "execution_count": 28,
   "metadata": {},
   "outputs": [
    {
     "data": {
      "text/plain": [
       "{'alpha': 58, 'beta': 32}"
      ]
     },
     "execution_count": 28,
     "metadata": {},
     "output_type": "execute_result"
    }
   ],
   "source": [
    "best_params"
   ]
  },
  {
   "cell_type": "code",
   "execution_count": 29,
   "metadata": {},
   "outputs": [
    {
     "name": "stderr",
     "output_type": "stream",
     "text": [
      "01-Oct-19 15:13:32, root, DEBUG: Проверка датафреймов\n",
      "01-Oct-19 15:13:40, root, DEBUG: Выделение дефолтных юзеров\n",
      "01-Oct-19 15:13:40, root, DEBUG: Выделение дефолтных айтемов\n",
      "01-Oct-19 15:13:43, root, DEBUG: Выделение контекста\n",
      "01-Oct-19 15:13:43, root, DEBUG: Подсчет количества айтемов\n",
      "01-Oct-19 15:13:49, root, DEBUG: Подсчет популярности\n",
      "01-Oct-19 15:13:49, root, DEBUG: Удаление ненужных айтемов\n",
      "01-Oct-19 15:13:49, root, DEBUG: Заполнение нуллов\n",
      "01-Oct-19 15:13:56, root, DEBUG: k для выделения топа: 20.0\n",
      "01-Oct-19 15:14:12, root, DEBUG: Количество айтемов после фильтрации: 30\n",
      "01-Oct-19 15:14:12, root, DEBUG: Кросс-джойн юзеров на айтемы\n",
      "01-Oct-19 15:14:41, root, DEBUG: Длина recs: 14989890\n",
      "01-Oct-19 15:14:41, root, DEBUG: Удаление виденных айтемов\n",
      "01-Oct-19 15:15:20, root, DEBUG: Берем топ-к\n",
      "01-Oct-19 15:16:06, root, DEBUG: Заменяем отрицательные рейтинги на 0\n"
     ]
    }
   ],
   "source": [
    "best_recs = popular_scenario.production(\n",
    "    {'alpha': 0, 'beta': 0},\n",
    "    df,\n",
    "    users=None,\n",
    "    items=None,\n",
    "    user_features=None,\n",
    "    item_features=None,\n",
    "    k=10,\n",
    "    context='no_context',\n",
    "    to_filter_seen_items=True\n",
    ")"
   ]
  },
  {
   "cell_type": "code",
   "execution_count": 30,
   "metadata": {},
   "outputs": [
    {
     "data": {
      "text/plain": [
       "DataFrame[item_id: string, user_id: string, context: string, relevance: double]"
      ]
     },
     "execution_count": 30,
     "metadata": {},
     "output_type": "execute_result"
    }
   ],
   "source": [
    "best_recs"
   ]
  }
 ],
 "metadata": {
  "kernelspec": {
   "display_name": "Python 3",
   "language": "python",
   "name": "python3"
  },
  "language_info": {
   "codemirror_mode": {
    "name": "ipython",
    "version": 3
   },
   "file_extension": ".py",
   "mimetype": "text/x-python",
   "name": "python",
   "nbconvert_exporter": "python",
   "pygments_lexer": "ipython3",
   "version": "3.7.4"
  }
 },
 "nbformat": 4,
 "nbformat_minor": 2
}
