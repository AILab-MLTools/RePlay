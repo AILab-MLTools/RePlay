{
 "cells": [
  {
   "cell_type": "markdown",
   "metadata": {
    "ein.tags": "worksheet-0",
    "slideshow": {
     "slide_type": "-"
    }
   },
   "source": [
    "# Пример использования сценария\n",
    "\n",
    "Лаботоратория по искусственному интеллекту, Сбербанк. \n",
    "\n",
    "О чем: вызов сценариев с разными моделями.\n",
    "В качестве датасета используется датасет MovieLens100K."
   ]
  },
  {
   "cell_type": "markdown",
   "metadata": {
    "ein.tags": "worksheet-0",
    "slideshow": {
     "slide_type": "-"
    }
   },
   "source": [
    "### Импорты, создание спарк-сессии <a name='intro'></a>"
   ]
  },
  {
   "cell_type": "code",
   "execution_count": 1,
   "metadata": {
    "autoscroll": false,
    "ein.hycell": false,
    "ein.tags": "worksheet-0",
    "pycharm": {
     "name": "#%%\n"
    },
    "slideshow": {
     "slide_type": "-"
    }
   },
   "outputs": [],
   "source": [
    "%load_ext autoreload\n",
    "%autoreload 2\n",
    "%matplotlib inline"
   ]
  },
  {
   "cell_type": "code",
   "execution_count": 2,
   "metadata": {
    "autoscroll": false,
    "ein.hycell": false,
    "ein.tags": "worksheet-0",
    "pycharm": {
     "name": "#%%\n"
    },
    "slideshow": {
     "slide_type": "-"
    }
   },
   "outputs": [
    {
     "data": {
      "text/html": [
       "\n",
       "            <div>\n",
       "                <p><b>SparkSession - hive</b></p>\n",
       "                \n",
       "        <div>\n",
       "            <p><b>SparkContext</b></p>\n",
       "\n",
       "            <p><a href=\"http://localhost:4041\">Spark UI</a></p>\n",
       "\n",
       "            <dl>\n",
       "              <dt>Version</dt>\n",
       "                <dd><code>v2.4.4</code></dd>\n",
       "              <dt>Master</dt>\n",
       "                <dd><code>local[*]</code></dd>\n",
       "              <dt>AppName</dt>\n",
       "                <dd><code>pyspark-shell</code></dd>\n",
       "            </dl>\n",
       "        </div>\n",
       "        \n",
       "            </div>\n",
       "        "
      ],
      "text/plain": [
       "<pyspark.sql.session.SparkSession at 0x7f6cdd147860>"
      ]
     },
     "execution_count": 2,
     "metadata": {},
     "output_type": "execute_result"
    }
   ],
   "source": [
    "from sponge_bob_magic.session_handler import State\n",
    "\n",
    "spark = State().session\n",
    "spark"
   ]
  },
  {
   "cell_type": "markdown",
   "metadata": {
    "ein.tags": "worksheet-0",
    "slideshow": {
     "slide_type": "-"
    }
   },
   "source": [
    "## Загрузка данных <a name=\"data-loader\"></a>"
   ]
  },
  {
   "cell_type": "code",
   "execution_count": 3,
   "metadata": {},
   "outputs": [
    {
     "name": "stdout",
     "output_type": "stream",
     "text": [
      "Requirement already satisfied: rs_datasets in /home/shminke-ba/projects/sponge-bob-magic/venv/lib/python3.6/site-packages (0.2.0)\n",
      "Requirement already satisfied: datatable in /home/shminke-ba/projects/sponge-bob-magic/venv/lib/python3.6/site-packages (from rs_datasets) (0.10.1)\n",
      "Requirement already satisfied: pandas in /home/shminke-ba/projects/sponge-bob-magic/venv/lib/python3.6/site-packages (from rs_datasets) (1.0.1)\n",
      "Requirement already satisfied: gdown in /home/shminke-ba/projects/sponge-bob-magic/venv/lib/python3.6/site-packages (from rs_datasets) (3.10.3)\n",
      "Requirement already satisfied: pyarrow in /home/shminke-ba/projects/sponge-bob-magic/venv/lib/python3.6/site-packages (from rs_datasets) (0.17.0)\n",
      "Requirement already satisfied: tqdm in /home/shminke-ba/projects/sponge-bob-magic/venv/lib/python3.6/site-packages (from rs_datasets) (4.42.1)\n",
      "Requirement already satisfied: xlrd in /home/shminke-ba/projects/sponge-bob-magic/venv/lib/python3.6/site-packages (from rs_datasets) (1.2.0)\n",
      "Requirement already satisfied: typesentry>=0.2.6 in /home/shminke-ba/projects/sponge-bob-magic/venv/lib/python3.6/site-packages (from datatable->rs_datasets) (0.2.7)\n",
      "Requirement already satisfied: blessed in /home/shminke-ba/projects/sponge-bob-magic/venv/lib/python3.6/site-packages (from datatable->rs_datasets) (1.17.5)\n",
      "Requirement already satisfied: pytz>=2017.2 in /home/shminke-ba/projects/sponge-bob-magic/venv/lib/python3.6/site-packages (from pandas->rs_datasets) (2019.3)\n",
      "Requirement already satisfied: python-dateutil>=2.6.1 in /home/shminke-ba/projects/sponge-bob-magic/venv/lib/python3.6/site-packages (from pandas->rs_datasets) (2.8.1)\n",
      "Requirement already satisfied: numpy>=1.13.3 in /home/shminke-ba/projects/sponge-bob-magic/venv/lib/python3.6/site-packages (from pandas->rs_datasets) (1.17.2)\n",
      "Requirement already satisfied: requests[socks] in /home/shminke-ba/projects/sponge-bob-magic/venv/lib/python3.6/site-packages (from gdown->rs_datasets) (2.23.0)\n",
      "Requirement already satisfied: six in /home/shminke-ba/projects/sponge-bob-magic/venv/lib/python3.6/site-packages (from gdown->rs_datasets) (1.14.0)\n",
      "Requirement already satisfied: filelock in /home/shminke-ba/projects/sponge-bob-magic/venv/lib/python3.6/site-packages (from gdown->rs_datasets) (3.0.12)\n",
      "Requirement already satisfied: colorama>=0.3 in /home/shminke-ba/projects/sponge-bob-magic/venv/lib/python3.6/site-packages (from typesentry>=0.2.6->datatable->rs_datasets) (0.4.3)\n",
      "Requirement already satisfied: wcwidth>=0.1.4 in /home/shminke-ba/projects/sponge-bob-magic/venv/lib/python3.6/site-packages (from blessed->datatable->rs_datasets) (0.1.9)\n",
      "Requirement already satisfied: idna<3,>=2.5 in /home/shminke-ba/projects/sponge-bob-magic/venv/lib/python3.6/site-packages (from requests[socks]->gdown->rs_datasets) (2.9)\n",
      "Requirement already satisfied: chardet<4,>=3.0.2 in /home/shminke-ba/projects/sponge-bob-magic/venv/lib/python3.6/site-packages (from requests[socks]->gdown->rs_datasets) (3.0.4)\n",
      "Requirement already satisfied: certifi>=2017.4.17 in /home/shminke-ba/projects/sponge-bob-magic/venv/lib/python3.6/site-packages (from requests[socks]->gdown->rs_datasets) (2020.4.5.1)\n",
      "Requirement already satisfied: urllib3!=1.25.0,!=1.25.1,<1.26,>=1.21.1 in /home/shminke-ba/projects/sponge-bob-magic/venv/lib/python3.6/site-packages (from requests[socks]->gdown->rs_datasets) (1.25.9)\n",
      "Requirement already satisfied: PySocks!=1.5.7,>=1.5.6; extra == \"socks\" in /home/shminke-ba/projects/sponge-bob-magic/venv/lib/python3.6/site-packages (from requests[socks]->gdown->rs_datasets) (1.7.1)\n"
     ]
    }
   ],
   "source": [
    "# используем пакет https://pypi.org/project/rs-datasets/\n",
    "!pip install rs_datasets"
   ]
  },
  {
   "cell_type": "code",
   "execution_count": 4,
   "metadata": {
    "autoscroll": false,
    "ein.hycell": false,
    "ein.tags": "worksheet-0",
    "pycharm": {
     "name": "#%%\n"
    },
    "scrolled": true,
    "slideshow": {
     "slide_type": "-"
    }
   },
   "outputs": [
    {
     "data": {
      "text/html": [
       "<style type='text/css'>\n",
       ".datatable table.frame { margin-bottom: 0; }\n",
       ".datatable table.frame thead { border-bottom: none; }\n",
       ".datatable table.frame tr.coltypes td {  color: #FFFFFF;  line-height: 6px;  padding: 0 0.5em;}\n",
       ".datatable .boolean { background: #DDDD99; }\n",
       ".datatable .object  { background: #565656; }\n",
       ".datatable .integer { background: #5D9E5D; }\n",
       ".datatable .float   { background: #4040CC; }\n",
       ".datatable .string  { background: #CC4040; }\n",
       ".datatable .row_index {  background: var(--jp-border-color3);  border-right: 1px solid var(--jp-border-color0);  color: var(--jp-ui-font-color3);  font-size: 9px;}\n",
       ".datatable .frame tr.coltypes .row_index {  background: var(--jp-border-color0);}\n",
       ".datatable th:nth-child(2) { padding-left: 12px; }\n",
       ".datatable .hellipsis {  color: var(--jp-cell-editor-border-color);}\n",
       ".datatable .vellipsis {  background: var(--jp-layout-color0);  color: var(--jp-cell-editor-border-color);}\n",
       ".datatable .na {  color: var(--jp-cell-editor-border-color);  font-size: 80%;}\n",
       ".datatable .footer { font-size: 9px; }\n",
       ".datatable .frame_dimensions {  background: var(--jp-border-color3);  border-top: 1px solid var(--jp-border-color0);  color: var(--jp-ui-font-color3);  display: inline-block;  opacity: 0.6;  padding: 1px 10px 1px 5px;}\n",
       "</style>\n"
      ],
      "text/plain": [
       "<IPython.core.display.HTML object>"
      ]
     },
     "metadata": {},
     "output_type": "display_data"
    },
    {
     "name": "stdout",
     "output_type": "stream",
     "text": [
      "ratings\n"
     ]
    },
    {
     "data": {
      "text/html": [
       "<div>\n",
       "<style scoped>\n",
       "    .dataframe tbody tr th:only-of-type {\n",
       "        vertical-align: middle;\n",
       "    }\n",
       "\n",
       "    .dataframe tbody tr th {\n",
       "        vertical-align: top;\n",
       "    }\n",
       "\n",
       "    .dataframe thead th {\n",
       "        text-align: right;\n",
       "    }\n",
       "</style>\n",
       "<table border=\"1\" class=\"dataframe\">\n",
       "  <thead>\n",
       "    <tr style=\"text-align: right;\">\n",
       "      <th></th>\n",
       "      <th>user_id</th>\n",
       "      <th>item_id</th>\n",
       "      <th>rating</th>\n",
       "      <th>timestamp</th>\n",
       "    </tr>\n",
       "  </thead>\n",
       "  <tbody>\n",
       "    <tr>\n",
       "      <th>0</th>\n",
       "      <td>1</td>\n",
       "      <td>296</td>\n",
       "      <td>5.0</td>\n",
       "      <td>1147880044</td>\n",
       "    </tr>\n",
       "    <tr>\n",
       "      <th>1</th>\n",
       "      <td>1</td>\n",
       "      <td>306</td>\n",
       "      <td>3.5</td>\n",
       "      <td>1147868817</td>\n",
       "    </tr>\n",
       "    <tr>\n",
       "      <th>2</th>\n",
       "      <td>1</td>\n",
       "      <td>307</td>\n",
       "      <td>5.0</td>\n",
       "      <td>1147868828</td>\n",
       "    </tr>\n",
       "  </tbody>\n",
       "</table>\n",
       "</div>"
      ],
      "text/plain": [
       "   user_id  item_id  rating   timestamp\n",
       "0        1      296     5.0  1147880044\n",
       "1        1      306     3.5  1147868817\n",
       "2        1      307     5.0  1147868828"
      ]
     },
     "metadata": {},
     "output_type": "display_data"
    },
    {
     "name": "stdout",
     "output_type": "stream",
     "text": [
      "\n",
      "items\n"
     ]
    },
    {
     "data": {
      "text/html": [
       "<div>\n",
       "<style scoped>\n",
       "    .dataframe tbody tr th:only-of-type {\n",
       "        vertical-align: middle;\n",
       "    }\n",
       "\n",
       "    .dataframe tbody tr th {\n",
       "        vertical-align: top;\n",
       "    }\n",
       "\n",
       "    .dataframe thead th {\n",
       "        text-align: right;\n",
       "    }\n",
       "</style>\n",
       "<table border=\"1\" class=\"dataframe\">\n",
       "  <thead>\n",
       "    <tr style=\"text-align: right;\">\n",
       "      <th></th>\n",
       "      <th>item_id</th>\n",
       "      <th>title</th>\n",
       "      <th>genres</th>\n",
       "    </tr>\n",
       "  </thead>\n",
       "  <tbody>\n",
       "    <tr>\n",
       "      <th>0</th>\n",
       "      <td>1</td>\n",
       "      <td>Toy Story (1995)</td>\n",
       "      <td>Adventure|Animation|Children|Comedy|Fantasy</td>\n",
       "    </tr>\n",
       "    <tr>\n",
       "      <th>1</th>\n",
       "      <td>2</td>\n",
       "      <td>Jumanji (1995)</td>\n",
       "      <td>Adventure|Children|Fantasy</td>\n",
       "    </tr>\n",
       "    <tr>\n",
       "      <th>2</th>\n",
       "      <td>3</td>\n",
       "      <td>Grumpier Old Men (1995)</td>\n",
       "      <td>Comedy|Romance</td>\n",
       "    </tr>\n",
       "  </tbody>\n",
       "</table>\n",
       "</div>"
      ],
      "text/plain": [
       "   item_id                    title  \\\n",
       "0        1         Toy Story (1995)   \n",
       "1        2           Jumanji (1995)   \n",
       "2        3  Grumpier Old Men (1995)   \n",
       "\n",
       "                                        genres  \n",
       "0  Adventure|Animation|Children|Comedy|Fantasy  \n",
       "1                   Adventure|Children|Fantasy  \n",
       "2                               Comedy|Romance  "
      ]
     },
     "metadata": {},
     "output_type": "display_data"
    },
    {
     "name": "stdout",
     "output_type": "stream",
     "text": [
      "\n",
      "tags\n"
     ]
    },
    {
     "data": {
      "text/html": [
       "<div>\n",
       "<style scoped>\n",
       "    .dataframe tbody tr th:only-of-type {\n",
       "        vertical-align: middle;\n",
       "    }\n",
       "\n",
       "    .dataframe tbody tr th {\n",
       "        vertical-align: top;\n",
       "    }\n",
       "\n",
       "    .dataframe thead th {\n",
       "        text-align: right;\n",
       "    }\n",
       "</style>\n",
       "<table border=\"1\" class=\"dataframe\">\n",
       "  <thead>\n",
       "    <tr style=\"text-align: right;\">\n",
       "      <th></th>\n",
       "      <th>user_id</th>\n",
       "      <th>item_id</th>\n",
       "      <th>tag</th>\n",
       "      <th>timestamp</th>\n",
       "    </tr>\n",
       "  </thead>\n",
       "  <tbody>\n",
       "    <tr>\n",
       "      <th>0</th>\n",
       "      <td>3</td>\n",
       "      <td>260</td>\n",
       "      <td>classic</td>\n",
       "      <td>1439472355</td>\n",
       "    </tr>\n",
       "    <tr>\n",
       "      <th>1</th>\n",
       "      <td>3</td>\n",
       "      <td>260</td>\n",
       "      <td>sci-fi</td>\n",
       "      <td>1439472256</td>\n",
       "    </tr>\n",
       "    <tr>\n",
       "      <th>2</th>\n",
       "      <td>4</td>\n",
       "      <td>1732</td>\n",
       "      <td>dark comedy</td>\n",
       "      <td>1573943598</td>\n",
       "    </tr>\n",
       "  </tbody>\n",
       "</table>\n",
       "</div>"
      ],
      "text/plain": [
       "   user_id  item_id          tag   timestamp\n",
       "0        3      260      classic  1439472355\n",
       "1        3      260       sci-fi  1439472256\n",
       "2        4     1732  dark comedy  1573943598"
      ]
     },
     "metadata": {},
     "output_type": "display_data"
    },
    {
     "name": "stdout",
     "output_type": "stream",
     "text": [
      "\n",
      "links\n"
     ]
    },
    {
     "data": {
      "text/html": [
       "<div>\n",
       "<style scoped>\n",
       "    .dataframe tbody tr th:only-of-type {\n",
       "        vertical-align: middle;\n",
       "    }\n",
       "\n",
       "    .dataframe tbody tr th {\n",
       "        vertical-align: top;\n",
       "    }\n",
       "\n",
       "    .dataframe thead th {\n",
       "        text-align: right;\n",
       "    }\n",
       "</style>\n",
       "<table border=\"1\" class=\"dataframe\">\n",
       "  <thead>\n",
       "    <tr style=\"text-align: right;\">\n",
       "      <th></th>\n",
       "      <th>item_id</th>\n",
       "      <th>imdb_id</th>\n",
       "      <th>tmdb_id</th>\n",
       "    </tr>\n",
       "  </thead>\n",
       "  <tbody>\n",
       "    <tr>\n",
       "      <th>0</th>\n",
       "      <td>1</td>\n",
       "      <td>114709</td>\n",
       "      <td>862.0</td>\n",
       "    </tr>\n",
       "    <tr>\n",
       "      <th>1</th>\n",
       "      <td>2</td>\n",
       "      <td>113497</td>\n",
       "      <td>8844.0</td>\n",
       "    </tr>\n",
       "    <tr>\n",
       "      <th>2</th>\n",
       "      <td>3</td>\n",
       "      <td>113228</td>\n",
       "      <td>15602.0</td>\n",
       "    </tr>\n",
       "  </tbody>\n",
       "</table>\n",
       "</div>"
      ],
      "text/plain": [
       "   item_id  imdb_id  tmdb_id\n",
       "0        1   114709    862.0\n",
       "1        2   113497   8844.0\n",
       "2        3   113228  15602.0"
      ]
     },
     "metadata": {},
     "output_type": "display_data"
    },
    {
     "name": "stdout",
     "output_type": "stream",
     "text": [
      "\n"
     ]
    }
   ],
   "source": [
    "from rs_datasets import MovieLens\n",
    "\n",
    "data = MovieLens(\"25m\")\n",
    "data.info()"
   ]
  },
  {
   "cell_type": "code",
   "execution_count": 5,
   "metadata": {},
   "outputs": [],
   "source": [
    "# загрузим данные в Spark\n",
    "\n",
    "from sponge_bob_magic.data_preparator import DataPreparator\n",
    "\n",
    "log = DataPreparator().transform(\n",
    "    data=data.ratings,\n",
    "    columns_names={\n",
    "        \"user_id\": \"user_id\",\n",
    "        \"item_id\": \"item_id\",\n",
    "        \"timestamp\": \"timestamp\",\n",
    "        \"relevance\": \"rating\"\n",
    "    }\n",
    ").cache()"
   ]
  },
  {
   "cell_type": "markdown",
   "metadata": {
    "ein.tags": "worksheet-0",
    "slideshow": {
     "slide_type": "-"
    }
   },
   "source": [
    "## Сценарии с разными моделями <a name=\"scenario\"></a>"
   ]
  },
  {
   "cell_type": "markdown",
   "metadata": {
    "ein.tags": "worksheet-0",
    "slideshow": {
     "slide_type": "-"
    }
   },
   "source": [
    "### Получение сценария через фабрику <a name=\"get-scenario\"></a>"
   ]
  },
  {
   "cell_type": "code",
   "execution_count": 6,
   "metadata": {
    "autoscroll": false,
    "ein.hycell": false,
    "ein.tags": "worksheet-0",
    "pycharm": {
     "name": "#%%\n"
    },
    "slideshow": {
     "slide_type": "-"
    }
   },
   "outputs": [],
   "source": [
    "from sponge_bob_magic.models import ALSWrap, SLIM\n",
    "\n",
    "als = ALSWrap()\n",
    "slim = SLIM()"
   ]
  },
  {
   "cell_type": "code",
   "execution_count": 7,
   "metadata": {
    "autoscroll": false,
    "ein.hycell": false,
    "ein.tags": "worksheet-0",
    "pycharm": {
     "name": "#%%\n"
    },
    "slideshow": {
     "slide_type": "-"
    }
   },
   "outputs": [],
   "source": [
    "from sponge_bob_magic.splitters import UserSplitter\n",
    "\n",
    "user_random_splitter = UserSplitter(\n",
    "    item_test_size=1,\n",
    "    user_test_size=10000,\n",
    "    drop_cold_items=True,\n",
    "    drop_cold_users=True,\n",
    "    shuffle=True,\n",
    "    seed=1234\n",
    ")"
   ]
  },
  {
   "cell_type": "markdown",
   "metadata": {
    "ein.tags": "worksheet-0",
    "slideshow": {
     "slide_type": "-"
    }
   },
   "source": [
    "### Обучение сценария <a name=\"fit-scenario\"></a>"
   ]
  },
  {
   "cell_type": "code",
   "execution_count": 8,
   "metadata": {
    "autoscroll": false,
    "ein.hycell": false,
    "ein.tags": "worksheet-0",
    "pycharm": {
     "name": "#%%\n"
    },
    "slideshow": {
     "slide_type": "-"
    }
   },
   "outputs": [],
   "source": [
    "from sponge_bob_magic.scenarios import MainScenario\n",
    "from sponge_bob_magic.metrics import NDCG, HitRate\n",
    "\n",
    "scenario = MainScenario(\n",
    "    splitter=user_random_splitter,\n",
    "    recommender=als,\n",
    "    criterion=HitRate,\n",
    "    metrics={\n",
    "        NDCG: [10, 5, 1],\n",
    "        HitRate: [10, 5, 1],\n",
    "    }\n",
    ")"
   ]
  },
  {
   "cell_type": "code",
   "execution_count": 9,
   "metadata": {
    "autoscroll": false,
    "ein.hycell": false,
    "ein.tags": "worksheet-0",
    "pycharm": {
     "name": "#%%\n"
    },
    "scrolled": true,
    "slideshow": {
     "slide_type": "-"
    }
   },
   "outputs": [
    {
     "name": "stderr",
     "output_type": "stream",
     "text": [
      "27-Apr-20 17:28:07, sponge_bob_magic, DEBUG: Деление лога на обучающую и тестовую выборку\n",
      "27-Apr-20 17:28:35, sponge_bob_magic, DEBUG: Длина трейна и теста: 24990095 9998\n",
      "27-Apr-20 17:28:36, sponge_bob_magic, DEBUG: Количество пользователей в трейне и тесте: 162541, 9998\n",
      "27-Apr-20 17:28:40, sponge_bob_magic, DEBUG: Количество объектов в трейне и тесте: 59045, 2849\n",
      "27-Apr-20 17:28:40, sponge_bob_magic, DEBUG: Инициализация метрик\n",
      "27-Apr-20 17:28:40, sponge_bob_magic, DEBUG: Обучение и предсказание дополнительной модели\n",
      "27-Apr-20 17:28:40, sponge_bob_magic, DEBUG: Предварительная стадия обучения (pre-fit)\n",
      "27-Apr-20 17:28:46, sponge_bob_magic, DEBUG: Основная стадия обучения (fit)\n",
      "/home/shminke-ba/projects/sponge-bob-magic/venv/lib/python3.6/site-packages/pyarrow/util.py:39: FutureWarning:\n",
      "\n",
      "pyarrow.open_stream is deprecated as of 0.17.0, please use pyarrow.ipc.open_stream instead\n",
      "\n",
      "27-Apr-20 17:28:55, sponge_bob_magic, DEBUG: Пре-фит модели\n",
      "27-Apr-20 17:28:59, sponge_bob_magic, DEBUG: Оптимизация параметров\n",
      "27-Apr-20 17:28:59, sponge_bob_magic, DEBUG: Количество попыток: 10\n",
      "/home/shminke-ba/projects/sponge-bob-magic/venv/lib/python3.6/site-packages/optuna/_experimental.py:111: ExperimentalWarning:\n",
      "\n",
      "GridSampler is experimental (supported from v1.2.0). The interface can change in the future.\n",
      "\n",
      "27-Apr-20 17:29:09, sponge_bob_magic, DEBUG: -- Второй фит модели в оптимизации\n",
      "27-Apr-20 17:29:09, sponge_bob_magic, DEBUG: Индексирование данных\n",
      "27-Apr-20 17:29:09, sponge_bob_magic, DEBUG: Обучение модели\n",
      "27-Apr-20 17:31:49, sponge_bob_magic, DEBUG: -- Предикт модели в оптимизации\n",
      "27-Apr-20 17:32:29, sponge_bob_magic, DEBUG: -- Длина рекомендаций: 99980\n",
      "27-Apr-20 17:32:29, sponge_bob_magic, DEBUG: -- Добавляем fallback рекомендации\n",
      "27-Apr-20 17:32:34, sponge_bob_magic, DEBUG: -- Длина рекомендаций после добавления fallback-рекомендаций: 99980\n",
      "27-Apr-20 17:32:34, sponge_bob_magic, DEBUG: -- Подсчет метрики в оптимизации\n",
      "27-Apr-20 17:33:40, sponge_bob_magic, DEBUG: HitRate=0.26\n",
      "[I 2020-04-27 17:33:40,854] Finished trial#0 with value: 0.25745149029805964 with parameters: {'rank': 64}. Best is trial#0 with value: 0.25745149029805964.\n",
      "27-Apr-20 17:33:40, sponge_bob_magic, DEBUG: -- Второй фит модели в оптимизации\n",
      "27-Apr-20 17:33:40, sponge_bob_magic, DEBUG: Индексирование данных\n",
      "27-Apr-20 17:33:40, sponge_bob_magic, DEBUG: Обучение модели\n",
      "27-Apr-20 17:34:14, sponge_bob_magic, DEBUG: -- Предикт модели в оптимизации\n",
      "27-Apr-20 17:34:31, sponge_bob_magic, DEBUG: -- Длина рекомендаций: 99980\n",
      "27-Apr-20 17:34:31, sponge_bob_magic, DEBUG: -- Добавляем fallback рекомендации\n",
      "27-Apr-20 17:34:35, sponge_bob_magic, DEBUG: -- Длина рекомендаций после добавления fallback-рекомендаций: 99980\n",
      "27-Apr-20 17:34:35, sponge_bob_magic, DEBUG: -- Подсчет метрики в оптимизации\n",
      "27-Apr-20 17:35:21, sponge_bob_magic, DEBUG: HitRate=0.14\n",
      "[I 2020-04-27 17:35:21,271] Finished trial#1 with value: 0.1355271054210842 with parameters: {'rank': 4}. Best is trial#0 with value: 0.25745149029805964.\n",
      "27-Apr-20 17:35:21, sponge_bob_magic, DEBUG: -- Второй фит модели в оптимизации\n",
      "27-Apr-20 17:35:21, sponge_bob_magic, DEBUG: Индексирование данных\n",
      "27-Apr-20 17:35:21, sponge_bob_magic, DEBUG: Обучение модели\n",
      "27-Apr-20 17:36:03, sponge_bob_magic, DEBUG: -- Предикт модели в оптимизации\n",
      "27-Apr-20 17:36:20, sponge_bob_magic, DEBUG: -- Длина рекомендаций: 99980\n",
      "27-Apr-20 17:36:20, sponge_bob_magic, DEBUG: -- Добавляем fallback рекомендации\n",
      "27-Apr-20 17:36:23, sponge_bob_magic, DEBUG: -- Длина рекомендаций после добавления fallback-рекомендаций: 99980\n",
      "27-Apr-20 17:36:23, sponge_bob_magic, DEBUG: -- Подсчет метрики в оптимизации\n",
      "27-Apr-20 17:37:08, sponge_bob_magic, DEBUG: HitRate=0.21\n",
      "[I 2020-04-27 17:37:08,464] Finished trial#2 with value: 0.20604120824164832 with parameters: {'rank': 16}. Best is trial#0 with value: 0.25745149029805964.\n",
      "27-Apr-20 17:37:08, sponge_bob_magic, DEBUG: -- Второй фит модели в оптимизации\n",
      "27-Apr-20 17:37:08, sponge_bob_magic, DEBUG: Индексирование данных\n",
      "27-Apr-20 17:37:08, sponge_bob_magic, DEBUG: Обучение модели\n",
      "27-Apr-20 18:13:41, sponge_bob_magic, DEBUG: -- Предикт модели в оптимизации\n",
      "27-Apr-20 18:14:34, sponge_bob_magic, DEBUG: -- Длина рекомендаций: 99980\n",
      "27-Apr-20 18:14:34, sponge_bob_magic, DEBUG: -- Добавляем fallback рекомендации\n",
      "27-Apr-20 18:14:38, sponge_bob_magic, DEBUG: -- Длина рекомендаций после добавления fallback-рекомендаций: 99980\n",
      "27-Apr-20 18:14:38, sponge_bob_magic, DEBUG: -- Подсчет метрики в оптимизации\n",
      "27-Apr-20 18:15:25, sponge_bob_magic, DEBUG: HitRate=0.30\n",
      "[I 2020-04-27 18:15:26,059] Finished trial#3 with value: 0.2978595719143829 with parameters: {'rank': 256}. Best is trial#3 with value: 0.2978595719143829.\n",
      "27-Apr-20 18:15:26, sponge_bob_magic, DEBUG: -- Второй фит модели в оптимизации\n",
      "27-Apr-20 18:15:26, sponge_bob_magic, DEBUG: Индексирование данных\n",
      "27-Apr-20 18:15:26, sponge_bob_magic, DEBUG: Обучение модели\n",
      "27-Apr-20 18:16:02, sponge_bob_magic, DEBUG: -- Предикт модели в оптимизации\n",
      "27-Apr-20 18:16:19, sponge_bob_magic, DEBUG: -- Длина рекомендаций: 99980\n",
      "27-Apr-20 18:16:19, sponge_bob_magic, DEBUG: -- Добавляем fallback рекомендации\n",
      "27-Apr-20 18:16:22, sponge_bob_magic, DEBUG: -- Длина рекомендаций после добавления fallback-рекомендаций: 99980\n",
      "27-Apr-20 18:16:22, sponge_bob_magic, DEBUG: -- Подсчет метрики в оптимизации\n",
      "27-Apr-20 18:17:06, sponge_bob_magic, DEBUG: HitRate=0.18\n",
      "[I 2020-04-27 18:17:07,146] Finished trial#4 with value: 0.17823564712942588 with parameters: {'rank': 8}. Best is trial#3 with value: 0.2978595719143829.\n",
      "27-Apr-20 18:17:07, sponge_bob_magic, DEBUG: -- Второй фит модели в оптимизации\n",
      "27-Apr-20 18:17:07, sponge_bob_magic, DEBUG: Индексирование данных\n",
      "27-Apr-20 18:17:07, sponge_bob_magic, DEBUG: Обучение модели\n",
      "27-Apr-20 18:18:17, sponge_bob_magic, DEBUG: -- Предикт модели в оптимизации\n",
      "27-Apr-20 18:18:35, sponge_bob_magic, DEBUG: -- Длина рекомендаций: 99980\n",
      "27-Apr-20 18:18:35, sponge_bob_magic, DEBUG: -- Добавляем fallback рекомендации\n",
      "27-Apr-20 18:18:38, sponge_bob_magic, DEBUG: -- Длина рекомендаций после добавления fallback-рекомендаций: 99980\n",
      "27-Apr-20 18:18:38, sponge_bob_magic, DEBUG: -- Подсчет метрики в оптимизации\n",
      "27-Apr-20 18:19:22, sponge_bob_magic, DEBUG: HitRate=0.23\n",
      "[I 2020-04-27 18:19:22,683] Finished trial#5 with value: 0.23094618923784757 with parameters: {'rank': 32}. Best is trial#3 with value: 0.2978595719143829.\n",
      "27-Apr-20 18:19:22, sponge_bob_magic, DEBUG: -- Второй фит модели в оптимизации\n",
      "27-Apr-20 18:19:22, sponge_bob_magic, DEBUG: Индексирование данных\n",
      "27-Apr-20 18:19:22, sponge_bob_magic, DEBUG: Обучение модели\n",
      "27-Apr-20 21:34:23, sponge_bob_magic, DEBUG: -- Предикт модели в оптимизации\n",
      "27-Apr-20 21:35:48, sponge_bob_magic, DEBUG: -- Длина рекомендаций: 99980\n",
      "27-Apr-20 21:35:48, sponge_bob_magic, DEBUG: -- Добавляем fallback рекомендации\n",
      "27-Apr-20 21:35:52, sponge_bob_magic, DEBUG: -- Длина рекомендаций после добавления fallback-рекомендаций: 99980\n",
      "27-Apr-20 21:35:52, sponge_bob_magic, DEBUG: -- Подсчет метрики в оптимизации\n",
      "27-Apr-20 21:36:42, sponge_bob_magic, DEBUG: HitRate=0.30\n",
      "[I 2020-04-27 21:36:42,337] Finished trial#6 with value: 0.3049609921984397 with parameters: {'rank': 512}. Best is trial#6 with value: 0.3049609921984397.\n",
      "27-Apr-20 21:36:42, sponge_bob_magic, DEBUG: -- Второй фит модели в оптимизации\n",
      "27-Apr-20 21:36:42, sponge_bob_magic, DEBUG: Индексирование данных\n",
      "27-Apr-20 21:36:42, sponge_bob_magic, DEBUG: Обучение модели\n",
      "27-Apr-20 21:37:10, sponge_bob_magic, DEBUG: -- Предикт модели в оптимизации\n",
      "27-Apr-20 21:37:26, sponge_bob_magic, DEBUG: -- Длина рекомендаций: 99980\n",
      "27-Apr-20 21:37:26, sponge_bob_magic, DEBUG: -- Добавляем fallback рекомендации\n",
      "27-Apr-20 21:37:29, sponge_bob_magic, DEBUG: -- Длина рекомендаций после добавления fallback-рекомендаций: 99980\n",
      "27-Apr-20 21:37:29, sponge_bob_magic, DEBUG: -- Подсчет метрики в оптимизации\n",
      "27-Apr-20 21:38:13, sponge_bob_magic, DEBUG: HitRate=0.08\n",
      "[I 2020-04-27 21:38:13,945] Finished trial#7 with value: 0.08231646329265853 with parameters: {'rank': 1}. Best is trial#6 with value: 0.3049609921984397.\n",
      "27-Apr-20 21:38:13, sponge_bob_magic, DEBUG: -- Второй фит модели в оптимизации\n",
      "27-Apr-20 21:38:13, sponge_bob_magic, DEBUG: Индексирование данных\n"
     ]
    },
    {
     "name": "stderr",
     "output_type": "stream",
     "text": [
      "27-Apr-20 21:38:13, sponge_bob_magic, DEBUG: Обучение модели\n",
      "27-Apr-20 21:46:29, sponge_bob_magic, DEBUG: -- Предикт модели в оптимизации\n",
      "27-Apr-20 21:46:51, sponge_bob_magic, DEBUG: -- Длина рекомендаций: 99980\n",
      "27-Apr-20 21:46:51, sponge_bob_magic, DEBUG: -- Добавляем fallback рекомендации\n",
      "27-Apr-20 21:46:54, sponge_bob_magic, DEBUG: -- Длина рекомендаций после добавления fallback-рекомендаций: 99980\n",
      "27-Apr-20 21:46:54, sponge_bob_magic, DEBUG: -- Подсчет метрики в оптимизации\n",
      "27-Apr-20 21:47:38, sponge_bob_magic, DEBUG: HitRate=0.28\n",
      "[I 2020-04-27 21:47:38,180] Finished trial#8 with value: 0.2816563312662532 with parameters: {'rank': 128}. Best is trial#6 with value: 0.3049609921984397.\n",
      "27-Apr-20 21:47:38, sponge_bob_magic, DEBUG: -- Второй фит модели в оптимизации\n",
      "27-Apr-20 21:47:38, sponge_bob_magic, DEBUG: Индексирование данных\n",
      "27-Apr-20 21:47:38, sponge_bob_magic, DEBUG: Обучение модели\n",
      "27-Apr-20 21:48:06, sponge_bob_magic, DEBUG: -- Предикт модели в оптимизации\n",
      "27-Apr-20 21:48:21, sponge_bob_magic, DEBUG: -- Длина рекомендаций: 99980\n",
      "27-Apr-20 21:48:21, sponge_bob_magic, DEBUG: -- Добавляем fallback рекомендации\n",
      "27-Apr-20 21:48:24, sponge_bob_magic, DEBUG: -- Длина рекомендаций после добавления fallback-рекомендаций: 99980\n",
      "27-Apr-20 21:48:24, sponge_bob_magic, DEBUG: -- Подсчет метрики в оптимизации\n",
      "27-Apr-20 21:49:09, sponge_bob_magic, DEBUG: HitRate=0.12\n",
      "[I 2020-04-27 21:49:09,204] Finished trial#9 with value: 0.11732346469293858 with parameters: {'rank': 2}. Best is trial#6 with value: 0.3049609921984397.\n",
      "27-Apr-20 21:49:09, sponge_bob_magic, DEBUG: Лучшее значение метрики: 0.30\n",
      "27-Apr-20 21:49:09, sponge_bob_magic, DEBUG: Лучшие параметры: {'rank': 512}\n"
     ]
    }
   ],
   "source": [
    "scenario.research(\n",
    "    {\"rank\": [2 ** i for i in range(10)]},\n",
    "    log,\n",
    "    k=10,\n",
    "    n_trials=10\n",
    ")\n",
    "als_results = scenario.experiment.pandas_df"
   ]
  },
  {
   "cell_type": "code",
   "execution_count": 10,
   "metadata": {
    "scrolled": true
   },
   "outputs": [
    {
     "name": "stderr",
     "output_type": "stream",
     "text": [
      "27-Apr-20 21:49:09, sponge_bob_magic, DEBUG: Деление лога на обучающую и тестовую выборку\n",
      "27-Apr-20 21:49:10, sponge_bob_magic, DEBUG: Длина трейна и теста: 24990095 9998\n",
      "27-Apr-20 21:49:11, sponge_bob_magic, DEBUG: Количество пользователей в трейне и тесте: 162541, 9998\n",
      "27-Apr-20 21:49:12, sponge_bob_magic, DEBUG: Количество объектов в трейне и тесте: 59045, 2849\n",
      "27-Apr-20 21:49:12, sponge_bob_magic, DEBUG: Инициализация метрик\n",
      "27-Apr-20 21:49:12, sponge_bob_magic, DEBUG: Обучение и предсказание дополнительной модели\n",
      "27-Apr-20 21:49:12, sponge_bob_magic, DEBUG: Предварительная стадия обучения (pre-fit)\n",
      "27-Apr-20 21:49:15, sponge_bob_magic, DEBUG: Основная стадия обучения (fit)\n",
      "27-Apr-20 21:49:21, sponge_bob_magic, DEBUG: Пре-фит модели\n",
      "27-Apr-20 21:49:24, sponge_bob_magic, DEBUG: Оптимизация параметров\n",
      "27-Apr-20 21:49:24, sponge_bob_magic, DEBUG: Количество попыток: 10\n",
      "27-Apr-20 21:49:31, sponge_bob_magic, DEBUG: -- Второй фит модели в оптимизации\n",
      "27-Apr-20 21:49:31, sponge_bob_magic, DEBUG: Построение модели SLIM\n",
      "27-Apr-20 21:50:36, sponge_bob_magic, DEBUG: -- Предикт модели в оптимизации\n",
      "27-Apr-20 22:05:03, sponge_bob_magic, DEBUG: -- Длина рекомендаций: 99980\n",
      "27-Apr-20 22:05:03, sponge_bob_magic, DEBUG: -- Добавляем fallback рекомендации\n",
      "27-Apr-20 22:05:05, sponge_bob_magic, DEBUG: -- Длина рекомендаций после добавления fallback-рекомендаций: 99980\n",
      "27-Apr-20 22:05:05, sponge_bob_magic, DEBUG: -- Подсчет метрики в оптимизации\n",
      "27-Apr-20 22:05:40, sponge_bob_magic, DEBUG: HitRate=0.23\n",
      "[I 2020-04-27 22:05:40,553] Finished trial#0 with value: 0.23294658931786358 with parameters: {'beta': 0.03125, 'lambda_': 0.00390625}. Best is trial#0 with value: 0.23294658931786358.\n",
      "27-Apr-20 22:05:40, sponge_bob_magic, DEBUG: -- Второй фит модели в оптимизации\n",
      "27-Apr-20 22:05:40, sponge_bob_magic, DEBUG: Построение модели SLIM\n",
      "27-Apr-20 22:06:41, sponge_bob_magic, DEBUG: -- Предикт модели в оптимизации\n",
      "27-Apr-20 22:19:22, sponge_bob_magic, DEBUG: -- Длина рекомендаций: 99980\n",
      "27-Apr-20 22:19:22, sponge_bob_magic, DEBUG: -- Добавляем fallback рекомендации\n",
      "27-Apr-20 22:19:25, sponge_bob_magic, DEBUG: -- Длина рекомендаций после добавления fallback-рекомендаций: 99980\n",
      "27-Apr-20 22:19:25, sponge_bob_magic, DEBUG: -- Подсчет метрики в оптимизации\n",
      "27-Apr-20 22:19:58, sponge_bob_magic, DEBUG: HitRate=0.24\n",
      "[I 2020-04-27 22:19:58,323] Finished trial#1 with value: 0.239747949589918 with parameters: {'beta': 0.03125, 'lambda_': 0.015625}. Best is trial#1 with value: 0.239747949589918.\n",
      "27-Apr-20 22:19:58, sponge_bob_magic, DEBUG: -- Второй фит модели в оптимизации\n",
      "27-Apr-20 22:19:58, sponge_bob_magic, DEBUG: Построение модели SLIM\n",
      "27-Apr-20 22:20:58, sponge_bob_magic, DEBUG: -- Предикт модели в оптимизации\n",
      "27-Apr-20 22:37:34, sponge_bob_magic, DEBUG: -- Длина рекомендаций: 99980\n",
      "27-Apr-20 22:37:34, sponge_bob_magic, DEBUG: -- Добавляем fallback рекомендации\n",
      "27-Apr-20 22:37:36, sponge_bob_magic, DEBUG: -- Длина рекомендаций после добавления fallback-рекомендаций: 99980\n",
      "27-Apr-20 22:37:36, sponge_bob_magic, DEBUG: -- Подсчет метрики в оптимизации\n",
      "27-Apr-20 22:38:11, sponge_bob_magic, DEBUG: HitRate=0.23\n",
      "[I 2020-04-27 22:38:11,265] Finished trial#2 with value: 0.23074614922984596 with parameters: {'beta': 0.0078125, 'lambda_': 0.00390625}. Best is trial#1 with value: 0.239747949589918.\n",
      "27-Apr-20 22:38:11, sponge_bob_magic, DEBUG: -- Второй фит модели в оптимизации\n",
      "27-Apr-20 22:38:11, sponge_bob_magic, DEBUG: Построение модели SLIM\n",
      "27-Apr-20 22:39:12, sponge_bob_magic, DEBUG: -- Предикт модели в оптимизации\n",
      "27-Apr-20 22:52:33, sponge_bob_magic, DEBUG: -- Длина рекомендаций: 99980\n",
      "27-Apr-20 22:52:33, sponge_bob_magic, DEBUG: -- Добавляем fallback рекомендации\n",
      "27-Apr-20 22:52:36, sponge_bob_magic, DEBUG: -- Длина рекомендаций после добавления fallback-рекомендаций: 99980\n",
      "27-Apr-20 22:52:36, sponge_bob_magic, DEBUG: -- Подсчет метрики в оптимизации\n",
      "27-Apr-20 22:53:08, sponge_bob_magic, DEBUG: HitRate=0.24\n",
      "[I 2020-04-27 22:53:09,022] Finished trial#3 with value: 0.2383476695339068 with parameters: {'beta': 0.015625, 'lambda_': 0.015625}. Best is trial#1 with value: 0.239747949589918.\n",
      "27-Apr-20 22:53:09, sponge_bob_magic, DEBUG: -- Второй фит модели в оптимизации\n",
      "27-Apr-20 22:53:09, sponge_bob_magic, DEBUG: Построение модели SLIM\n",
      "27-Apr-20 22:54:08, sponge_bob_magic, DEBUG: -- Предикт модели в оптимизации\n",
      "27-Apr-20 23:07:29, sponge_bob_magic, DEBUG: -- Длина рекомендаций: 99980\n",
      "27-Apr-20 23:07:29, sponge_bob_magic, DEBUG: -- Добавляем fallback рекомендации\n",
      "27-Apr-20 23:07:31, sponge_bob_magic, DEBUG: -- Длина рекомендаций после добавления fallback-рекомендаций: 99980\n",
      "27-Apr-20 23:07:31, sponge_bob_magic, DEBUG: -- Подсчет метрики в оптимизации\n",
      "27-Apr-20 23:08:04, sponge_bob_magic, DEBUG: HitRate=0.23\n",
      "[I 2020-04-27 23:08:04,232] Finished trial#4 with value: 0.23314662932586516 with parameters: {'beta': 0.015625, 'lambda_': 0.0078125}. Best is trial#1 with value: 0.239747949589918.\n",
      "27-Apr-20 23:08:04, sponge_bob_magic, DEBUG: -- Второй фит модели в оптимизации\n",
      "27-Apr-20 23:08:04, sponge_bob_magic, DEBUG: Построение модели SLIM\n",
      "27-Apr-20 23:09:03, sponge_bob_magic, DEBUG: -- Предикт модели в оптимизации\n",
      "27-Apr-20 23:20:07, sponge_bob_magic, DEBUG: -- Длина рекомендаций: 99980\n",
      "27-Apr-20 23:20:07, sponge_bob_magic, DEBUG: -- Добавляем fallback рекомендации\n",
      "27-Apr-20 23:20:09, sponge_bob_magic, DEBUG: -- Длина рекомендаций после добавления fallback-рекомендаций: 99980\n",
      "27-Apr-20 23:20:09, sponge_bob_magic, DEBUG: -- Подсчет метрики в оптимизации\n",
      "27-Apr-20 23:20:43, sponge_bob_magic, DEBUG: HitRate=0.24\n",
      "[I 2020-04-27 23:20:43,591] Finished trial#5 with value: 0.23964792958591719 with parameters: {'beta': 0.00390625, 'lambda_': 0.03125}. Best is trial#1 with value: 0.239747949589918.\n",
      "27-Apr-20 23:20:43, sponge_bob_magic, DEBUG: -- Второй фит модели в оптимизации\n",
      "27-Apr-20 23:20:43, sponge_bob_magic, DEBUG: Построение модели SLIM\n",
      "27-Apr-20 23:21:43, sponge_bob_magic, DEBUG: -- Предикт модели в оптимизации\n",
      "27-Apr-20 23:35:58, sponge_bob_magic, DEBUG: -- Длина рекомендаций: 99980\n",
      "27-Apr-20 23:35:58, sponge_bob_magic, DEBUG: -- Добавляем fallback рекомендации\n",
      "27-Apr-20 23:36:01, sponge_bob_magic, DEBUG: -- Длина рекомендаций после добавления fallback-рекомендаций: 99980\n",
      "27-Apr-20 23:36:01, sponge_bob_magic, DEBUG: -- Подсчет метрики в оптимизации\n",
      "27-Apr-20 23:36:34, sponge_bob_magic, DEBUG: HitRate=0.24\n",
      "[I 2020-04-27 23:36:35,046] Finished trial#6 with value: 0.23744748949789957 with parameters: {'beta': 0.00390625, 'lambda_': 0.015625}. Best is trial#1 with value: 0.239747949589918.\n",
      "27-Apr-20 23:36:35, sponge_bob_magic, DEBUG: -- Второй фит модели в оптимизации\n",
      "27-Apr-20 23:36:35, sponge_bob_magic, DEBUG: Построение модели SLIM\n",
      "27-Apr-20 23:37:35, sponge_bob_magic, DEBUG: -- Предикт модели в оптимизации\n",
      "27-Apr-20 23:49:30, sponge_bob_magic, DEBUG: -- Длина рекомендаций: 99980\n",
      "27-Apr-20 23:49:30, sponge_bob_magic, DEBUG: -- Добавляем fallback рекомендации\n",
      "27-Apr-20 23:49:33, sponge_bob_magic, DEBUG: -- Длина рекомендаций после добавления fallback-рекомендаций: 99980\n",
      "27-Apr-20 23:49:33, sponge_bob_magic, DEBUG: -- Подсчет метрики в оптимизации\n",
      "27-Apr-20 23:50:06, sponge_bob_magic, DEBUG: HitRate=0.24\n",
      "[I 2020-04-27 23:50:06,561] Finished trial#7 with value: 0.2401480296059212 with parameters: {'beta': 0.0078125, 'lambda_': 0.03125}. Best is trial#7 with value: 0.2401480296059212.\n",
      "27-Apr-20 23:50:06, sponge_bob_magic, DEBUG: -- Второй фит модели в оптимизации\n",
      "27-Apr-20 23:50:06, sponge_bob_magic, DEBUG: Построение модели SLIM\n",
      "27-Apr-20 23:51:07, sponge_bob_magic, DEBUG: -- Предикт модели в оптимизации\n",
      "28-Apr-20 00:04:45, sponge_bob_magic, DEBUG: -- Длина рекомендаций: 99980\n",
      "28-Apr-20 00:04:45, sponge_bob_magic, DEBUG: -- Добавляем fallback рекомендации\n",
      "28-Apr-20 00:04:48, sponge_bob_magic, DEBUG: -- Длина рекомендаций после добавления fallback-рекомендаций: 99980\n",
      "28-Apr-20 00:04:48, sponge_bob_magic, DEBUG: -- Подсчет метрики в оптимизации\n",
      "28-Apr-20 00:05:21, sponge_bob_magic, DEBUG: HitRate=0.23\n",
      "[I 2020-04-28 00:05:21,794] Finished trial#8 with value: 0.23244648929785958 with parameters: {'beta': 0.0078125, 'lambda_': 0.0078125}. Best is trial#7 with value: 0.2401480296059212.\n",
      "28-Apr-20 00:05:21, sponge_bob_magic, DEBUG: -- Второй фит модели в оптимизации\n"
     ]
    },
    {
     "name": "stderr",
     "output_type": "stream",
     "text": [
      "28-Apr-20 00:05:21, sponge_bob_magic, DEBUG: Построение модели SLIM\n",
      "28-Apr-20 00:06:22, sponge_bob_magic, DEBUG: -- Предикт модели в оптимизации\n",
      "28-Apr-20 00:21:25, sponge_bob_magic, DEBUG: -- Длина рекомендаций: 99980\n",
      "28-Apr-20 00:21:25, sponge_bob_magic, DEBUG: -- Добавляем fallback рекомендации\n",
      "28-Apr-20 00:21:27, sponge_bob_magic, DEBUG: -- Длина рекомендаций после добавления fallback-рекомендаций: 99980\n",
      "28-Apr-20 00:21:27, sponge_bob_magic, DEBUG: -- Подсчет метрики в оптимизации\n",
      "28-Apr-20 00:22:01, sponge_bob_magic, DEBUG: HitRate=0.23\n",
      "[I 2020-04-28 00:22:01,393] Finished trial#9 with value: 0.23434686937387478 with parameters: {'beta': 0.03125, 'lambda_': 0.0078125}. Best is trial#7 with value: 0.2401480296059212.\n",
      "28-Apr-20 00:22:01, sponge_bob_magic, DEBUG: Лучшее значение метрики: 0.24\n",
      "28-Apr-20 00:22:01, sponge_bob_magic, DEBUG: Лучшие параметры: {'beta': 0.0078125, 'lambda_': 0.03125}\n"
     ]
    }
   ],
   "source": [
    "scenario.recommender = slim\n",
    "scenario.research(\n",
    "    {\n",
    "        \"beta\": [2 ** i for i in range(-8, -4)],\n",
    "        \"lambda_\": [2 ** i for i in range(-8, -4)],\n",
    "    },\n",
    "    log,\n",
    "    k=10,\n",
    "    n_trials=10\n",
    ")\n",
    "slim_results = scenario.experiment.pandas_df"
   ]
  },
  {
   "cell_type": "code",
   "execution_count": 12,
   "metadata": {},
   "outputs": [
    {
     "data": {
      "text/html": [
       "<div>\n",
       "<style scoped>\n",
       "    .dataframe tbody tr th:only-of-type {\n",
       "        vertical-align: middle;\n",
       "    }\n",
       "\n",
       "    .dataframe tbody tr th {\n",
       "        vertical-align: top;\n",
       "    }\n",
       "\n",
       "    .dataframe thead th {\n",
       "        text-align: right;\n",
       "    }\n",
       "</style>\n",
       "<table border=\"1\" class=\"dataframe\">\n",
       "  <thead>\n",
       "    <tr style=\"text-align: right;\">\n",
       "      <th></th>\n",
       "      <th>HitRate@10</th>\n",
       "      <th>HitRate@1</th>\n",
       "      <th>HitRate@5</th>\n",
       "      <th>NDCG@1</th>\n",
       "      <th>NDCG@5</th>\n",
       "      <th>NDCG@10</th>\n",
       "    </tr>\n",
       "  </thead>\n",
       "  <tbody>\n",
       "    <tr>\n",
       "      <th>ALSWrap(rank=1)</th>\n",
       "      <td>0.082316</td>\n",
       "      <td>0.017403</td>\n",
       "      <td>0.051610</td>\n",
       "      <td>0.017403</td>\n",
       "      <td>0.034504</td>\n",
       "      <td>0.044433</td>\n",
       "    </tr>\n",
       "    <tr>\n",
       "      <th>ALSWrap(rank=2)</th>\n",
       "      <td>0.117323</td>\n",
       "      <td>0.029406</td>\n",
       "      <td>0.076315</td>\n",
       "      <td>0.029406</td>\n",
       "      <td>0.053221</td>\n",
       "      <td>0.066408</td>\n",
       "    </tr>\n",
       "    <tr>\n",
       "      <th>ALSWrap(rank=4)</th>\n",
       "      <td>0.135527</td>\n",
       "      <td>0.030006</td>\n",
       "      <td>0.088418</td>\n",
       "      <td>0.030006</td>\n",
       "      <td>0.059364</td>\n",
       "      <td>0.074547</td>\n",
       "    </tr>\n",
       "    <tr>\n",
       "      <th>ALSWrap(rank=8)</th>\n",
       "      <td>0.178236</td>\n",
       "      <td>0.043209</td>\n",
       "      <td>0.122625</td>\n",
       "      <td>0.043209</td>\n",
       "      <td>0.083422</td>\n",
       "      <td>0.101318</td>\n",
       "    </tr>\n",
       "    <tr>\n",
       "      <th>ALSWrap(rank=16)</th>\n",
       "      <td>0.206041</td>\n",
       "      <td>0.052611</td>\n",
       "      <td>0.143329</td>\n",
       "      <td>0.052611</td>\n",
       "      <td>0.098078</td>\n",
       "      <td>0.118270</td>\n",
       "    </tr>\n",
       "    <tr>\n",
       "      <th>SLIM(lambda_=0.00390625, beta=0.0078125)</th>\n",
       "      <td>0.230746</td>\n",
       "      <td>0.052611</td>\n",
       "      <td>0.156231</td>\n",
       "      <td>0.052611</td>\n",
       "      <td>0.105188</td>\n",
       "      <td>0.129119</td>\n",
       "    </tr>\n",
       "    <tr>\n",
       "      <th>ALSWrap(rank=32)</th>\n",
       "      <td>0.230946</td>\n",
       "      <td>0.062312</td>\n",
       "      <td>0.164333</td>\n",
       "      <td>0.062312</td>\n",
       "      <td>0.114443</td>\n",
       "      <td>0.135843</td>\n",
       "    </tr>\n",
       "    <tr>\n",
       "      <th>SLIM(lambda_=0.0078125, beta=0.0078125)</th>\n",
       "      <td>0.232446</td>\n",
       "      <td>0.054411</td>\n",
       "      <td>0.158432</td>\n",
       "      <td>0.054411</td>\n",
       "      <td>0.107295</td>\n",
       "      <td>0.131098</td>\n",
       "    </tr>\n",
       "    <tr>\n",
       "      <th>SLIM(lambda_=0.00390625, beta=0.03125)</th>\n",
       "      <td>0.232947</td>\n",
       "      <td>0.053111</td>\n",
       "      <td>0.157832</td>\n",
       "      <td>0.053111</td>\n",
       "      <td>0.106238</td>\n",
       "      <td>0.130390</td>\n",
       "    </tr>\n",
       "    <tr>\n",
       "      <th>SLIM(lambda_=0.0078125, beta=0.015625)</th>\n",
       "      <td>0.233147</td>\n",
       "      <td>0.054311</td>\n",
       "      <td>0.158732</td>\n",
       "      <td>0.054311</td>\n",
       "      <td>0.107339</td>\n",
       "      <td>0.131295</td>\n",
       "    </tr>\n",
       "    <tr>\n",
       "      <th>SLIM(lambda_=0.0078125, beta=0.03125)</th>\n",
       "      <td>0.234347</td>\n",
       "      <td>0.054111</td>\n",
       "      <td>0.159032</td>\n",
       "      <td>0.054111</td>\n",
       "      <td>0.107509</td>\n",
       "      <td>0.131797</td>\n",
       "    </tr>\n",
       "    <tr>\n",
       "      <th>SLIM(lambda_=0.015625, beta=0.00390625)</th>\n",
       "      <td>0.237447</td>\n",
       "      <td>0.056911</td>\n",
       "      <td>0.160232</td>\n",
       "      <td>0.056911</td>\n",
       "      <td>0.109745</td>\n",
       "      <td>0.134556</td>\n",
       "    </tr>\n",
       "    <tr>\n",
       "      <th>SLIM(lambda_=0.015625, beta=0.015625)</th>\n",
       "      <td>0.238348</td>\n",
       "      <td>0.057211</td>\n",
       "      <td>0.160532</td>\n",
       "      <td>0.057211</td>\n",
       "      <td>0.110097</td>\n",
       "      <td>0.135124</td>\n",
       "    </tr>\n",
       "    <tr>\n",
       "      <th>SLIM(lambda_=0.03125, beta=0.00390625)</th>\n",
       "      <td>0.239648</td>\n",
       "      <td>0.061212</td>\n",
       "      <td>0.167634</td>\n",
       "      <td>0.061212</td>\n",
       "      <td>0.115345</td>\n",
       "      <td>0.138487</td>\n",
       "    </tr>\n",
       "    <tr>\n",
       "      <th>SLIM(lambda_=0.015625, beta=0.03125)</th>\n",
       "      <td>0.239748</td>\n",
       "      <td>0.058012</td>\n",
       "      <td>0.162833</td>\n",
       "      <td>0.058012</td>\n",
       "      <td>0.111501</td>\n",
       "      <td>0.136195</td>\n",
       "    </tr>\n",
       "    <tr>\n",
       "      <th>SLIM(lambda_=0.03125, beta=0.0078125)</th>\n",
       "      <td>0.240148</td>\n",
       "      <td>0.061512</td>\n",
       "      <td>0.167834</td>\n",
       "      <td>0.061512</td>\n",
       "      <td>0.115573</td>\n",
       "      <td>0.138810</td>\n",
       "    </tr>\n",
       "    <tr>\n",
       "      <th>ALSWrap(rank=64)</th>\n",
       "      <td>0.257451</td>\n",
       "      <td>0.070814</td>\n",
       "      <td>0.182537</td>\n",
       "      <td>0.070814</td>\n",
       "      <td>0.128089</td>\n",
       "      <td>0.152263</td>\n",
       "    </tr>\n",
       "    <tr>\n",
       "      <th>ALSWrap(rank=128)</th>\n",
       "      <td>0.281656</td>\n",
       "      <td>0.076715</td>\n",
       "      <td>0.196139</td>\n",
       "      <td>0.076715</td>\n",
       "      <td>0.138263</td>\n",
       "      <td>0.165789</td>\n",
       "    </tr>\n",
       "    <tr>\n",
       "      <th>ALSWrap(rank=256)</th>\n",
       "      <td>0.297860</td>\n",
       "      <td>0.080716</td>\n",
       "      <td>0.213343</td>\n",
       "      <td>0.080716</td>\n",
       "      <td>0.148520</td>\n",
       "      <td>0.175756</td>\n",
       "    </tr>\n",
       "    <tr>\n",
       "      <th>ALSWrap(rank=512)</th>\n",
       "      <td>0.304961</td>\n",
       "      <td>0.087718</td>\n",
       "      <td>0.221544</td>\n",
       "      <td>0.087718</td>\n",
       "      <td>0.155613</td>\n",
       "      <td>0.182433</td>\n",
       "    </tr>\n",
       "  </tbody>\n",
       "</table>\n",
       "</div>"
      ],
      "text/plain": [
       "                                          HitRate@10  HitRate@1  HitRate@5  \\\n",
       "ALSWrap(rank=1)                             0.082316   0.017403   0.051610   \n",
       "ALSWrap(rank=2)                             0.117323   0.029406   0.076315   \n",
       "ALSWrap(rank=4)                             0.135527   0.030006   0.088418   \n",
       "ALSWrap(rank=8)                             0.178236   0.043209   0.122625   \n",
       "ALSWrap(rank=16)                            0.206041   0.052611   0.143329   \n",
       "SLIM(lambda_=0.00390625, beta=0.0078125)    0.230746   0.052611   0.156231   \n",
       "ALSWrap(rank=32)                            0.230946   0.062312   0.164333   \n",
       "SLIM(lambda_=0.0078125, beta=0.0078125)     0.232446   0.054411   0.158432   \n",
       "SLIM(lambda_=0.00390625, beta=0.03125)      0.232947   0.053111   0.157832   \n",
       "SLIM(lambda_=0.0078125, beta=0.015625)      0.233147   0.054311   0.158732   \n",
       "SLIM(lambda_=0.0078125, beta=0.03125)       0.234347   0.054111   0.159032   \n",
       "SLIM(lambda_=0.015625, beta=0.00390625)     0.237447   0.056911   0.160232   \n",
       "SLIM(lambda_=0.015625, beta=0.015625)       0.238348   0.057211   0.160532   \n",
       "SLIM(lambda_=0.03125, beta=0.00390625)      0.239648   0.061212   0.167634   \n",
       "SLIM(lambda_=0.015625, beta=0.03125)        0.239748   0.058012   0.162833   \n",
       "SLIM(lambda_=0.03125, beta=0.0078125)       0.240148   0.061512   0.167834   \n",
       "ALSWrap(rank=64)                            0.257451   0.070814   0.182537   \n",
       "ALSWrap(rank=128)                           0.281656   0.076715   0.196139   \n",
       "ALSWrap(rank=256)                           0.297860   0.080716   0.213343   \n",
       "ALSWrap(rank=512)                           0.304961   0.087718   0.221544   \n",
       "\n",
       "                                            NDCG@1    NDCG@5   NDCG@10  \n",
       "ALSWrap(rank=1)                           0.017403  0.034504  0.044433  \n",
       "ALSWrap(rank=2)                           0.029406  0.053221  0.066408  \n",
       "ALSWrap(rank=4)                           0.030006  0.059364  0.074547  \n",
       "ALSWrap(rank=8)                           0.043209  0.083422  0.101318  \n",
       "ALSWrap(rank=16)                          0.052611  0.098078  0.118270  \n",
       "SLIM(lambda_=0.00390625, beta=0.0078125)  0.052611  0.105188  0.129119  \n",
       "ALSWrap(rank=32)                          0.062312  0.114443  0.135843  \n",
       "SLIM(lambda_=0.0078125, beta=0.0078125)   0.054411  0.107295  0.131098  \n",
       "SLIM(lambda_=0.00390625, beta=0.03125)    0.053111  0.106238  0.130390  \n",
       "SLIM(lambda_=0.0078125, beta=0.015625)    0.054311  0.107339  0.131295  \n",
       "SLIM(lambda_=0.0078125, beta=0.03125)     0.054111  0.107509  0.131797  \n",
       "SLIM(lambda_=0.015625, beta=0.00390625)   0.056911  0.109745  0.134556  \n",
       "SLIM(lambda_=0.015625, beta=0.015625)     0.057211  0.110097  0.135124  \n",
       "SLIM(lambda_=0.03125, beta=0.00390625)    0.061212  0.115345  0.138487  \n",
       "SLIM(lambda_=0.015625, beta=0.03125)      0.058012  0.111501  0.136195  \n",
       "SLIM(lambda_=0.03125, beta=0.0078125)     0.061512  0.115573  0.138810  \n",
       "ALSWrap(rank=64)                          0.070814  0.128089  0.152263  \n",
       "ALSWrap(rank=128)                         0.076715  0.138263  0.165789  \n",
       "ALSWrap(rank=256)                         0.080716  0.148520  0.175756  \n",
       "ALSWrap(rank=512)                         0.087718  0.155613  0.182433  "
      ]
     },
     "execution_count": 12,
     "metadata": {},
     "output_type": "execute_result"
    }
   ],
   "source": [
    "import pandas as pd\n",
    "\n",
    "pd.set_option(\"display.max_rows\", 20)\n",
    "slim_results.append(als_results).sort_values(\"HitRate@10\")"
   ]
  },
  {
   "cell_type": "markdown",
   "metadata": {
    "ein.tags": "worksheet-0",
    "slideshow": {
     "slide_type": "-"
    }
   },
   "source": [
    "### Получение рекомендаций <a name=\"predict-scenario\"></a>"
   ]
  },
  {
   "cell_type": "code",
   "execution_count": null,
   "metadata": {
    "autoscroll": false,
    "ein.hycell": false,
    "ein.tags": "worksheet-0",
    "pycharm": {
     "name": "#%%\n"
    },
    "scrolled": true,
    "slideshow": {
     "slide_type": "-"
    }
   },
   "outputs": [],
   "source": [
    "recs = scenario.production(best_params, log, k=10)"
   ]
  },
  {
   "cell_type": "code",
   "execution_count": null,
   "metadata": {
    "autoscroll": false,
    "ein.hycell": false,
    "ein.tags": "worksheet-0",
    "pycharm": {
     "name": "#%%\n"
    },
    "slideshow": {
     "slide_type": "-"
    }
   },
   "outputs": [],
   "source": [
    "recs.show()"
   ]
  },
  {
   "cell_type": "code",
   "execution_count": null,
   "metadata": {},
   "outputs": [],
   "source": []
  }
 ],
 "metadata": {
  "kernelspec": {
   "display_name": "Python 3",
   "language": "python",
   "name": "python3"
  },
  "language_info": {
   "codemirror_mode": {
    "name": "ipython",
    "version": 3
   },
   "file_extension": ".py",
   "mimetype": "text/x-python",
   "name": "python",
   "nbconvert_exporter": "python",
   "pygments_lexer": "ipython3",
   "version": "3.6.8"
  },
  "name": "scenario_test_movielnes100k.ipynb",
  "pycharm": {
   "stem_cell": {
    "cell_type": "raw",
    "metadata": {
     "collapsed": false
    },
    "source": null
   }
  }
 },
 "nbformat": 4,
 "nbformat_minor": 4
}
