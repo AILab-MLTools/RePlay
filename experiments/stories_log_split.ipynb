{
 "cells": [
  {
   "cell_type": "markdown",
   "metadata": {},
   "source": [
    "# Stories Dataset\n",
    "\n",
    "Лаботоратория по искусственному интеллекту, Сбербанк. \n",
    "\n",
    "Авторы: [Борис Шминке](<mailto:Shminke.B.A@omega.sbrf.ru>), [Роза Айсина](<mailto:Aysina.R.M@omega.sbrf.ru>). \n",
    "\n",
    "О чем: применение рекомендательных систем к датасету историй. Схема разбиения - делим лог на две рандомные части.\n",
    "\n",
    "## Содержание\n",
    "\n",
    "1. [Импорты, создание спарк-сессии](#intro)\n",
    "2. [Подготовка данных](#data-preparator)\n",
    "3. [Рекомендатель на основе популярности](#popular-recommender)\n",
    "3.1. [Запуск single модели](#popular-recommender-single)\n",
    "3.2. [Подбор гиперпараметров](#popular-recommender-scenario)\n",
    "4. [Рекомендатель на основе k-NN для объектов](#knn-recommender)\n",
    "4.1. [Запуск single модели](#knn-recommender-single)\n",
    "4.2. [Подбор гиперпараметров](#knn-recommender-scenario)"
   ]
  },
  {
   "cell_type": "markdown",
   "metadata": {},
   "source": [
    "### Импорты, создание спарк-сессии <a name='intro'></a>"
   ]
  },
  {
   "cell_type": "code",
   "execution_count": 1,
   "metadata": {
    "pycharm": {
     "is_executing": false
    }
   },
   "outputs": [],
   "source": [
    "%load_ext autoreload\n",
    "%autoreload 2\n",
    "%matplotlib inline"
   ]
  },
  {
   "cell_type": "code",
   "execution_count": 2,
   "metadata": {
    "pycharm": {
     "is_executing": false
    }
   },
   "outputs": [],
   "source": [
    "import logging\n",
    "import os\n",
    "import re\n",
    "import sys\n",
    "from collections import Counter\n",
    "from datetime import datetime\n",
    "from time import time\n",
    "\n",
    "import matplotlib.pyplot as plt\n",
    "import numpy as np\n",
    "import pandas as pd\n",
    "from pyspark.sql import SparkSession\n",
    "from pyspark.sql import functions as sf\n",
    "from sklearn.feature_extraction.text import CountVectorizer"
   ]
  },
  {
   "cell_type": "code",
   "execution_count": 3,
   "metadata": {
    "pycharm": {
     "is_executing": false
    }
   },
   "outputs": [],
   "source": [
    "parent_dir = os.path.split(os.getcwd())[0]\n",
    "if parent_dir not in sys.path:\n",
    "    sys.path.append(parent_dir)"
   ]
  },
  {
   "cell_type": "code",
   "execution_count": 4,
   "metadata": {
    "pycharm": {
     "is_executing": false
    }
   },
   "outputs": [],
   "source": [
    "from sponge_bob_magic.data_preparator.data_preparator import DataPreparator\n",
    "from sponge_bob_magic.metrics.metrics import Metric\n",
    "from sponge_bob_magic.models.popular_recomennder import PopularRecommender\n",
    "from sponge_bob_magic.models.knn_recommender import KNNRecommender\n",
    "from sponge_bob_magic.scenarios.knn_scenario import KNNScenario\n",
    "from sponge_bob_magic.scenarios.popular_scenario import PopularScenario\n",
    "from sponge_bob_magic.validation_schemes.validation_schemes import ValidationSchemes"
   ]
  },
  {
   "cell_type": "code",
   "execution_count": 5,
   "metadata": {
    "pycharm": {
     "is_executing": false
    }
   },
   "outputs": [],
   "source": [
    "# отображение максимальной ширины колонок в pandas датафреймах\n",
    "pd.options.display.max_colwidth = -1"
   ]
  },
  {
   "cell_type": "code",
   "execution_count": 5,
   "metadata": {
    "pycharm": {
     "is_executing": false
    }
   },
   "outputs": [
    {
     "data": {
      "text/html": [
       "\n",
       "            <div>\n",
       "                <p><b>SparkSession - hive</b></p>\n",
       "                \n",
       "        <div>\n",
       "            <p><b>SparkContext</b></p>\n",
       "\n",
       "            <p><a href=\"http://parcae1.unassigned-domain:4040\">Spark UI</a></p>\n",
       "\n",
       "            <dl>\n",
       "              <dt>Version</dt>\n",
       "                <dd><code>v2.4.4</code></dd>\n",
       "              <dt>Master</dt>\n",
       "                <dd><code>local[50]</code></dd>\n",
       "              <dt>AppName</dt>\n",
       "                <dd><code>pyspark-shell</code></dd>\n",
       "            </dl>\n",
       "        </div>\n",
       "        \n",
       "            </div>\n",
       "        "
      ],
      "text/plain": [
       "<pyspark.sql.session.SparkSession at 0x7fd148930550>"
      ]
     },
     "execution_count": 5,
     "metadata": {},
     "output_type": "execute_result"
    }
   ],
   "source": [
    "spark_memory = \"200g\"\n",
    "spark_cores = \"50\"\n",
    "user_home = \"/datascc/aysina-rm\"\n",
    "\n",
    "spark = (\n",
    "    SparkSession\n",
    "    .builder\n",
    "    .config('spark.driver.memory', spark_memory)\n",
    "    .config('spark.local.dir', os.path.join(user_home, \"tmp\"))\n",
    "    .master(f'local[{spark_cores}]')\n",
    "    .enableHiveSupport()\n",
    "    .getOrCreate()\n",
    ")\n",
    "\n",
    "spark"
   ]
  },
  {
   "cell_type": "code",
   "execution_count": 6,
   "metadata": {
    "pycharm": {
     "is_executing": false
    }
   },
   "outputs": [],
   "source": [
    "spark_logger = logging.getLogger('py4j')\n",
    "spark_logger.setLevel(logging.WARN)"
   ]
  },
  {
   "cell_type": "code",
   "execution_count": 7,
   "metadata": {
    "pycharm": {
     "is_executing": false
    }
   },
   "outputs": [],
   "source": [
    "logger = logging.getLogger()\n",
    "formatter = logging.Formatter('%(asctime)s, %(name)s, %(levelname)s: %(message)s',\n",
    "                              datefmt='%d-%b-%y %H:%M:%S')\n",
    "hdlr = logging.StreamHandler()\n",
    "hdlr.setFormatter(formatter)\n",
    "logger.addHandler(hdlr)\n",
    "logger.setLevel(logging.DEBUG)"
   ]
  },
  {
   "cell_type": "markdown",
   "metadata": {},
   "source": [
    "## Подготовка данных <a name='data-preparator'></a>"
   ]
  },
  {
   "cell_type": "code",
   "execution_count": 8,
   "metadata": {
    "pycharm": {
     "is_executing": false
    }
   },
   "outputs": [],
   "source": [
    "path_log = '/datascc/share/stories_data'"
   ]
  },
  {
   "cell_type": "code",
   "execution_count": 9,
   "metadata": {
    "pycharm": {
     "is_executing": false
    }
   },
   "outputs": [],
   "source": [
    "dp = DataPreparator(spark)"
   ]
  },
  {
   "cell_type": "code",
   "execution_count": 10,
   "metadata": {
    "pycharm": {
     "is_executing": false
    }
   },
   "outputs": [],
   "source": [
    "df = dp.transform_log(\n",
    "    path=path_log,\n",
    "    format_type=\"csv\",\n",
    "    columns_names={\n",
    "        \"user_id\": \"_c1\",\n",
    "        \"item_id\": \"_c2\",\n",
    "        \"timestamp\": \"_c0\",\n",
    "        \"relevance\": \"_c3\"\n",
    "    }\n",
    ").cache()"
   ]
  },
  {
   "cell_type": "code",
   "execution_count": 11,
   "metadata": {
    "pycharm": {
     "is_executing": false
    },
    "scrolled": false
   },
   "outputs": [
    {
     "name": "stdout",
     "output_type": "stream",
     "text": [
      "+---------+-------+-------------------+---------+----------+\n",
      "|  user_id|item_id|          timestamp|relevance|   context|\n",
      "+---------+-------+-------------------+---------+----------+\n",
      "|111715824|   1174|2019-07-19 00:00:00|   2896.0|no_context|\n",
      "|430734041|  12093|2019-07-19 00:00:00|   4073.0|no_context|\n",
      "|150084873|  12093|2019-07-19 00:00:00|  16462.0|no_context|\n",
      "+---------+-------+-------------------+---------+----------+\n",
      "only showing top 3 rows\n",
      "\n"
     ]
    }
   ],
   "source": [
    "df.show(3)"
   ]
  },
  {
   "cell_type": "code",
   "execution_count": 12,
   "metadata": {},
   "outputs": [
    {
     "data": {
      "text/plain": [
       "64735941"
      ]
     },
     "execution_count": 12,
     "metadata": {},
     "output_type": "execute_result"
    }
   ],
   "source": [
    "df.count()"
   ]
  },
  {
   "cell_type": "code",
   "execution_count": 13,
   "metadata": {},
   "outputs": [
    {
     "name": "stdout",
     "output_type": "stream",
     "text": [
      "+--------+-------+---------+---------+-------+\n",
      "| user_id|item_id|timestamp|relevance|context|\n",
      "+--------+-------+---------+---------+-------+\n",
      "|14691326|   1445|      229|   571566|      1|\n",
      "+--------+-------+---------+---------+-------+\n",
      "\n"
     ]
    }
   ],
   "source": [
    "df.agg(*(sf.countDistinct(sf.col(c)).alias(c) for c in df.columns)).show()"
   ]
  },
  {
   "cell_type": "code",
   "execution_count": 14,
   "metadata": {},
   "outputs": [
    {
     "name": "stdout",
     "output_type": "stream",
     "text": [
      "+-------------------+-------------------+\n",
      "|     min(timestamp)|     max(timestamp)|\n",
      "+-------------------+-------------------+\n",
      "|2019-02-13 00:00:00|2019-09-29 00:00:00|\n",
      "+-------------------+-------------------+\n",
      "\n"
     ]
    }
   ],
   "source": [
    "df.agg(sf.min(sf.col(\"timestamp\")), sf.max(sf.col(\"timestamp\"))).show()"
   ]
  },
  {
   "cell_type": "code",
   "execution_count": 15,
   "metadata": {
    "pycharm": {
     "is_executing": false
    }
   },
   "outputs": [],
   "source": [
    "df_short = df.limit(1000).cache()"
   ]
  },
  {
   "cell_type": "markdown",
   "metadata": {},
   "source": [
    "## Рекомендатель на основе популярности (popularity based recommender) <a name='popular-recommender'></a>"
   ]
  },
  {
   "cell_type": "markdown",
   "metadata": {},
   "source": [
    "### Запуск single модели <a name='popular-recommender-single'></a>"
   ]
  },
  {
   "cell_type": "code",
   "execution_count": 17,
   "metadata": {},
   "outputs": [
    {
     "data": {
      "text/plain": [
       "(42534961, 42534961, 16863084)"
      ]
     },
     "execution_count": 17,
     "metadata": {},
     "output_type": "execute_result"
    }
   ],
   "source": [
    "splitter = ValidationSchemes(spark)\n",
    "\n",
    "train, test_input, test = splitter.log_split_by_date(\n",
    "    df, test_start=datetime(2019, 8, 1),\n",
    "    drop_cold_users=False, drop_cold_items=True\n",
    ")\n",
    "\n",
    "(\n",
    "    train.count(), \n",
    "    test_input.count(), \n",
    "    test.count()\n",
    ")"
   ]
  },
  {
   "cell_type": "code",
   "execution_count": 18,
   "metadata": {},
   "outputs": [],
   "source": [
    "pr = PopularRecommender(spark, alpha=0, beta=0)"
   ]
  },
  {
   "cell_type": "code",
   "execution_count": 19,
   "metadata": {
    "scrolled": false
   },
   "outputs": [
    {
     "name": "stderr",
     "output_type": "stream",
     "text": [
      "31-Oct-19 15:19:00, root, DEBUG: Проверка датафреймов\n",
      "31-Oct-19 15:19:00, root, DEBUG: Предварительная стадия обучения (pre-fit)\n",
      "31-Oct-19 15:19:04, root, DEBUG: Среднее количество items у каждого user: 5.0\n",
      "31-Oct-19 15:19:04, root, DEBUG: Основная стадия обучения (fit)\n"
     ]
    },
    {
     "name": "stdout",
     "output_type": "stream",
     "text": [
      "CPU times: user 20 ms, sys: 4 ms, total: 24 ms\n",
      "Wall time: 4.29 s\n"
     ]
    }
   ],
   "source": [
    "%%time\n",
    "\n",
    "pr.fit(\n",
    "    log=train,\n",
    "    user_features=None,\n",
    "    item_features=None,\n",
    "    path=None\n",
    ")"
   ]
  },
  {
   "cell_type": "code",
   "execution_count": 20,
   "metadata": {
    "scrolled": false
   },
   "outputs": [
    {
     "name": "stderr",
     "output_type": "stream",
     "text": [
      "31-Oct-19 15:19:04, root, DEBUG: Проверка датафреймов\n",
      "31-Oct-19 15:19:17, root, DEBUG: Количество items после фильтрации: 105\n"
     ]
    },
    {
     "name": "stdout",
     "output_type": "stream",
     "text": [
      "CPU times: user 28 ms, sys: 4 ms, total: 32 ms\n",
      "Wall time: 13.3 s\n"
     ]
    }
   ],
   "source": [
    "%%time\n",
    "\n",
    "recs = pr.predict(\n",
    "    k=100,\n",
    "    users=test.select('user_id').distinct(),\n",
    "    items=test.select('item_id').distinct(),\n",
    "    context='no_context',\n",
    "    log=train,\n",
    "    user_features=None,\n",
    "    item_features=None,\n",
    "    to_filter_seen_items=True,\n",
    "    path=None\n",
    ").cache()"
   ]
  },
  {
   "cell_type": "code",
   "execution_count": 21,
   "metadata": {},
   "outputs": [
    {
     "name": "stdout",
     "output_type": "stream",
     "text": [
      "+-------+---------+----------+--------------------+\n",
      "|item_id|  user_id|   context|           relevance|\n",
      "+-------+---------+----------+--------------------+\n",
      "|   1040|100080028|no_context|0.020072640950581803|\n",
      "|  12093|100080028|no_context|0.018805471574312716|\n",
      "|   1066|100080028|no_context| 0.01427225947144985|\n",
      "|   1034|100080028|no_context|0.012174103086635015|\n",
      "|  12048|100080028|no_context|0.011472515514943108|\n",
      "+-------+---------+----------+--------------------+\n",
      "only showing top 5 rows\n",
      "\n"
     ]
    }
   ],
   "source": [
    "recs.show(5)"
   ]
  },
  {
   "cell_type": "code",
   "execution_count": 22,
   "metadata": {},
   "outputs": [
    {
     "name": "stdout",
     "output_type": "stream",
     "text": [
      "CPU times: user 24 ms, sys: 12 ms, total: 36 ms\n",
      "Wall time: 3min\n"
     ]
    },
    {
     "data": {
      "text/plain": [
       "0.2872140986468791"
      ]
     },
     "execution_count": 22,
     "metadata": {},
     "output_type": "execute_result"
    }
   ],
   "source": [
    "%%time\n",
    "\n",
    "metric = Metric.hit_rate_at_k(recs, df, k=100)\n",
    "metric"
   ]
  },
  {
   "cell_type": "markdown",
   "metadata": {},
   "source": [
    "### Подбор гиперпараметров в популярной модели <a name='popular-recommender-scenario'></a>"
   ]
  },
  {
   "cell_type": "markdown",
   "metadata": {},
   "source": [
    "Популярность объекта определяется как: \n",
    "\n",
    "$$ popularity(i) = \\dfrac{N_i + \\alpha}{N + \\beta}, $$\n",
    "\n",
    "где $ N_i $ &mdash; количество пользователей, у которых было взаимодействие с данным объектом $ i $, \n",
    "$ N $ &mdash; общее количество пользователей, которые как провзаимодействовали с объектом, так и нет,\n",
    "$ \\alpha, \\beta \\in [0, \\infty) $ &mdash; параметры модели. \n",
    "\n",
    "Эвристика: размуным пределом для параметров $ \\alpha $ и $ \\beta $ может стать среднее значение количества пользователей $ N_i $, которые провзаимодействовали с объектами."
   ]
  },
  {
   "cell_type": "code",
   "execution_count": 23,
   "metadata": {},
   "outputs": [
    {
     "data": {
      "text/plain": [
       "44799.95916955017"
      ]
     },
     "execution_count": 23,
     "metadata": {},
     "output_type": "execute_result"
    }
   ],
   "source": [
    "avg_num_users = (\n",
    "    df\n",
    "    .select('user_id', 'item_id')\n",
    "    .groupBy('item_id')\n",
    "    .count()\n",
    "    .select(sf.mean(sf.col('count')).alias('mean'))\n",
    "    .collect()[0]['mean']\n",
    ")\n",
    "\n",
    "avg_num_users"
   ]
  },
  {
   "cell_type": "code",
   "execution_count": 24,
   "metadata": {
    "pycharm": {
     "is_executing": false
    }
   },
   "outputs": [],
   "source": [
    "popular_scenario = PopularScenario(spark)\n",
    "popular_scenario.seed = 9876\n",
    "\n",
    "popular_params_grid = {\n",
    "    'alpha': (0, 40000), \n",
    "    'beta': (0, 40000)\n",
    "}"
   ]
  },
  {
   "cell_type": "code",
   "execution_count": 42,
   "metadata": {
    "pycharm": {
     "is_executing": false
    },
    "scrolled": false
   },
   "outputs": [
    {
     "name": "stderr",
     "output_type": "stream",
     "text": [
      "31-Oct-19 12:39:10, root, DEBUG: Деление на трейн и тест\n",
      "31-Oct-19 12:39:10, root, DEBUG: Длина трейна и теста: (45317825, 19418087)\n",
      "31-Oct-19 12:39:12, root, DEBUG: Количество юзеров в трейне и тесте: 12784298, 8421206\n",
      "31-Oct-19 12:39:13, root, DEBUG: Количество айтемов в трейне и тесте: 1425, 1339\n",
      "31-Oct-19 12:39:13, root, DEBUG: Популярная модель: полное обучение\n",
      "31-Oct-19 12:39:13, root, DEBUG: Проверка датафреймов\n",
      "31-Oct-19 12:39:14, root, DEBUG: Предварительная стадия обучения (pre-fit)\n",
      "31-Oct-19 12:39:17, root, DEBUG: Среднее количество items у каждого user: 4.0\n",
      "31-Oct-19 12:39:17, root, DEBUG: Основная стадия обучения (fit)\n",
      "31-Oct-19 12:39:17, root, DEBUG: -------------\n",
      "31-Oct-19 12:39:17, root, DEBUG: Начало оптимизации параметров\n",
      "31-Oct-19 12:39:17, root, DEBUG: -- Параметры: {'alpha': 0, 'beta': 0}\n",
      "31-Oct-19 12:39:17, root, DEBUG: -- Предикт модели в оптимизации\n",
      "31-Oct-19 12:39:17, root, DEBUG: Проверка датафреймов\n",
      "31-Oct-19 12:39:18, root, DEBUG: Количество items после фильтрации: 19\n",
      "31-Oct-19 12:40:19, root, DEBUG: -- Длина рекомендаций: 126318090\n",
      "31-Oct-19 12:40:19, root, DEBUG: -- Подсчет метрики в оптимизации\n",
      "31-Oct-19 12:41:19, root, DEBUG: -- Метрика: (0.2762240942686831, 0.08930429867246654)\n",
      "[I 2019-10-31 12:41:19,547] Finished trial#0 resulted in value: 0.2762240942686831. Current best value is 0.2762240942686831 with parameters: {'alpha': 0, 'beta': 0}.\n",
      "31-Oct-19 12:41:19, root, DEBUG: Лучшие значения метрики: 0.2762240942686831\n",
      "31-Oct-19 12:41:19, root, DEBUG: Лучшие параметры: {'alpha': 0, 'beta': 0}\n"
     ]
    },
    {
     "name": "stdout",
     "output_type": "stream",
     "text": [
      "CPU times: user 244 ms, sys: 68 ms, total: 312 ms\n",
      "Wall time: 2min 9s\n"
     ]
    },
    {
     "data": {
      "text/plain": [
       "{'alpha': 0, 'beta': 0}"
      ]
     },
     "execution_count": 42,
     "metadata": {},
     "output_type": "execute_result"
    }
   ],
   "source": [
    "%%time\n",
    "\n",
    "best_params = popular_scenario.research(\n",
    "    popular_params_grid,\n",
    "    df,\n",
    "    users=None, items=None,\n",
    "    user_features=None,\n",
    "    item_features=None,\n",
    "    test_start=None,\n",
    "    test_size=0.3,\n",
    "    k=15, context='no_context',\n",
    "    to_filter_seen_items=True,\n",
    "    n_trials=1, \n",
    "    n_jobs=1,\n",
    "    how_to_split='randomly'\n",
    ")\n",
    "\n",
    "best_params"
   ]
  },
  {
   "cell_type": "code",
   "execution_count": 35,
   "metadata": {
    "collapsed": true,
    "pycharm": {
     "is_executing": false
    }
   },
   "outputs": [
    {
     "name": "stderr",
     "output_type": "stream",
     "text": [
      "31-Oct-19 12:08:49, root, DEBUG: Деление на трейн и тест\n",
      "31-Oct-19 12:08:50, root, DEBUG: Длина трейна и теста: (45317825, 19418087)\n",
      "31-Oct-19 12:08:52, root, DEBUG: Количество юзеров в трейне и тесте: 12784298, 8421206\n",
      "31-Oct-19 12:08:53, root, DEBUG: Количество айтемов в трейне и тесте: 1425, 1339\n",
      "31-Oct-19 12:08:53, root, DEBUG: Популярная модель: полное обучение\n",
      "31-Oct-19 12:08:53, root, DEBUG: Проверка датафреймов\n",
      "31-Oct-19 12:08:53, root, DEBUG: Предварительная стадия обучения (pre-fit)\n",
      "31-Oct-19 12:08:55, root, DEBUG: Среднее количество items у каждого user: 4.0\n",
      "31-Oct-19 12:08:55, root, DEBUG: Основная стадия обучения (fit)\n",
      "31-Oct-19 12:08:55, root, DEBUG: -------------\n",
      "31-Oct-19 12:08:55, root, DEBUG: Начало оптимизации параметров\n",
      "31-Oct-19 12:08:55, root, DEBUG: -- Параметры: {'alpha': 14178, 'beta': 31200}\n",
      "31-Oct-19 12:08:55, root, DEBUG: -- Предикт модели в оптимизации\n",
      "31-Oct-19 12:08:55, root, DEBUG: Проверка датафреймов\n",
      "31-Oct-19 12:08:57, root, DEBUG: Количество items после фильтрации: 19\n",
      "31-Oct-19 12:09:54, root, DEBUG: -- Длина рекомендаций: 126318090\n",
      "31-Oct-19 12:09:54, root, DEBUG: -- Подсчет метрики в оптимизации\n",
      "31-Oct-19 12:11:00, root, DEBUG: -- Метрика: (0.2762240942686831, 0.08930429867246654)\n",
      "[I 2019-10-31 12:11:01,031] Finished trial#0 resulted in value: 0.2762240942686831. Current best value is 0.2762240942686831 with parameters: {'alpha': 14178, 'beta': 31200}.\n",
      "31-Oct-19 12:11:01, root, DEBUG: -- Параметры: {'alpha': 18304, 'beta': 13391}\n",
      "31-Oct-19 12:11:01, root, DEBUG: -- Предикт модели в оптимизации\n",
      "31-Oct-19 12:11:01, root, DEBUG: Проверка датафреймов\n",
      "31-Oct-19 12:11:02, root, DEBUG: Количество items после фильтрации: 19\n",
      "31-Oct-19 12:11:57, root, DEBUG: -- Длина рекомендаций: 126318090\n",
      "31-Oct-19 12:11:57, root, DEBUG: -- Подсчет метрики в оптимизации\n",
      "31-Oct-19 12:12:56, root, DEBUG: -- Метрика: (0.2762240942686831, 0.08930429867246656)\n",
      "[I 2019-10-31 12:12:56,893] Finished trial#1 resulted in value: 0.2762240942686831. Current best value is 0.2762240942686831 with parameters: {'alpha': 14178, 'beta': 31200}.\n",
      "31-Oct-19 12:12:56, root, DEBUG: -- Параметры: {'alpha': 32730, 'beta': 11761}\n",
      "31-Oct-19 12:12:56, root, DEBUG: -- Предикт модели в оптимизации\n",
      "31-Oct-19 12:12:56, root, DEBUG: Проверка датафреймов\n",
      "31-Oct-19 12:12:58, root, DEBUG: Количество items после фильтрации: 19\n",
      "31-Oct-19 12:13:57, root, DEBUG: -- Длина рекомендаций: 126318090\n",
      "31-Oct-19 12:13:57, root, DEBUG: -- Подсчет метрики в оптимизации\n",
      "31-Oct-19 12:14:54, root, DEBUG: -- Метрика: (0.2762240942686831, 0.0893042986724665)\n",
      "[I 2019-10-31 12:14:54,130] Finished trial#2 resulted in value: 0.2762240942686831. Current best value is 0.2762240942686831 with parameters: {'alpha': 14178, 'beta': 31200}.\n",
      "31-Oct-19 12:14:54, root, DEBUG: -- Параметры: {'alpha': 30918, 'beta': 22964}\n",
      "31-Oct-19 12:14:54, root, DEBUG: -- Предикт модели в оптимизации\n",
      "31-Oct-19 12:14:54, root, DEBUG: Проверка датафреймов\n",
      "31-Oct-19 12:14:55, root, DEBUG: Количество items после фильтрации: 19\n",
      "31-Oct-19 12:15:47, root, DEBUG: -- Длина рекомендаций: 126318090\n",
      "31-Oct-19 12:15:47, root, DEBUG: -- Подсчет метрики в оптимизации\n",
      "31-Oct-19 12:16:41, root, DEBUG: -- Метрика: (0.2762240942686831, 0.0893042986724665)\n",
      "[I 2019-10-31 12:16:41,821] Finished trial#3 resulted in value: 0.2762240942686831. Current best value is 0.2762240942686831 with parameters: {'alpha': 14178, 'beta': 31200}.\n",
      "31-Oct-19 12:16:41, root, DEBUG: -- Параметры: {'alpha': 3007, 'beta': 8797}\n",
      "31-Oct-19 12:16:41, root, DEBUG: -- Предикт модели в оптимизации\n",
      "31-Oct-19 12:16:41, root, DEBUG: Проверка датафреймов\n",
      "31-Oct-19 12:16:43, root, DEBUG: Количество items после фильтрации: 19\n",
      "31-Oct-19 12:17:35, root, DEBUG: -- Длина рекомендаций: 126318090\n",
      "31-Oct-19 12:17:35, root, DEBUG: -- Подсчет метрики в оптимизации\n",
      "31-Oct-19 12:18:34, root, DEBUG: -- Метрика: (0.2762240942686831, 0.08930429867246654)\n",
      "[I 2019-10-31 12:18:35,112] Finished trial#4 resulted in value: 0.2762240942686831. Current best value is 0.2762240942686831 with parameters: {'alpha': 14178, 'beta': 31200}.\n",
      "31-Oct-19 12:18:35, root, DEBUG: -- Параметры: {'alpha': 4323, 'beta': 24523}\n",
      "31-Oct-19 12:18:35, root, DEBUG: -- Предикт модели в оптимизации\n",
      "31-Oct-19 12:18:35, root, DEBUG: Проверка датафреймов\n",
      "31-Oct-19 12:18:36, root, DEBUG: Количество items после фильтрации: 19\n",
      "31-Oct-19 12:19:27, root, DEBUG: -- Длина рекомендаций: 126318090\n",
      "31-Oct-19 12:19:27, root, DEBUG: -- Подсчет метрики в оптимизации\n",
      "31-Oct-19 12:20:22, root, DEBUG: -- Метрика: (0.2762240942686831, 0.08930429867246652)\n",
      "[I 2019-10-31 12:20:22,411] Finished trial#5 resulted in value: 0.2762240942686831. Current best value is 0.2762240942686831 with parameters: {'alpha': 14178, 'beta': 31200}.\n",
      "31-Oct-19 12:20:22, root, DEBUG: -- Параметры: {'alpha': 13874, 'beta': 22732}\n",
      "31-Oct-19 12:20:22, root, DEBUG: -- Предикт модели в оптимизации\n",
      "31-Oct-19 12:20:22, root, DEBUG: Проверка датафреймов\n",
      "31-Oct-19 12:20:23, root, DEBUG: Количество items после фильтрации: 19\n",
      "31-Oct-19 12:21:15, root, DEBUG: -- Длина рекомендаций: 126318090\n",
      "31-Oct-19 12:21:15, root, DEBUG: -- Подсчет метрики в оптимизации\n",
      "31-Oct-19 12:22:13, root, DEBUG: -- Метрика: (0.2762240942686831, 0.08930429867246653)\n",
      "[I 2019-10-31 12:22:13,674] Finished trial#6 resulted in value: 0.2762240942686831. Current best value is 0.2762240942686831 with parameters: {'alpha': 14178, 'beta': 31200}.\n",
      "31-Oct-19 12:22:13, root, DEBUG: -- Параметры: {'alpha': 24227, 'beta': 26453}\n",
      "31-Oct-19 12:22:13, root, DEBUG: -- Предикт модели в оптимизации\n",
      "31-Oct-19 12:22:13, root, DEBUG: Проверка датафреймов\n",
      "31-Oct-19 12:22:14, root, DEBUG: Количество items после фильтрации: 19\n",
      "31-Oct-19 12:23:06, root, DEBUG: -- Длина рекомендаций: 126318090\n",
      "31-Oct-19 12:23:06, root, DEBUG: -- Подсчет метрики в оптимизации\n",
      "31-Oct-19 12:24:08, root, DEBUG: -- Метрика: (0.2762240942686831, 0.08930429867246649)\n",
      "[I 2019-10-31 12:24:08,628] Finished trial#7 resulted in value: 0.2762240942686831. Current best value is 0.2762240942686831 with parameters: {'alpha': 14178, 'beta': 31200}.\n",
      "31-Oct-19 12:24:08, root, DEBUG: -- Параметры: {'alpha': 20685, 'beta': 585}\n",
      "31-Oct-19 12:24:08, root, DEBUG: -- Предикт модели в оптимизации\n",
      "31-Oct-19 12:24:08, root, DEBUG: Проверка датафреймов\n",
      "31-Oct-19 12:24:09, root, DEBUG: Количество items после фильтрации: 19\n",
      "31-Oct-19 12:25:06, root, DEBUG: -- Длина рекомендаций: 126318090\n",
      "31-Oct-19 12:25:06, root, DEBUG: -- Подсчет метрики в оптимизации\n",
      "31-Oct-19 12:26:04, root, DEBUG: -- Метрика: (0.2762240942686831, 0.0893042986724665)\n",
      "[I 2019-10-31 12:26:04,658] Finished trial#8 resulted in value: 0.2762240942686831. Current best value is 0.2762240942686831 with parameters: {'alpha': 14178, 'beta': 31200}.\n",
      "31-Oct-19 12:26:04, root, DEBUG: -- Параметры: {'alpha': 856, 'beta': 13437}\n",
      "31-Oct-19 12:26:04, root, DEBUG: -- Предикт модели в оптимизации\n",
      "31-Oct-19 12:26:04, root, DEBUG: Проверка датафреймов\n",
      "31-Oct-19 12:26:05, root, DEBUG: Количество items после фильтрации: 19\n",
      "31-Oct-19 12:26:58, root, DEBUG: -- Длина рекомендаций: 126318090\n",
      "31-Oct-19 12:26:58, root, DEBUG: -- Подсчет метрики в оптимизации\n",
      "31-Oct-19 12:27:52, root, DEBUG: -- Метрика: (0.2762240942686831, 0.08930429867246654)\n",
      "[I 2019-10-31 12:27:52,501] Finished trial#9 resulted in value: 0.2762240942686831. Current best value is 0.2762240942686831 with parameters: {'alpha': 14178, 'beta': 31200}.\n",
      "31-Oct-19 12:27:52, root, DEBUG: -- Параметры: {'alpha': 19615, 'beta': 5263}\n",
      "31-Oct-19 12:27:52, root, DEBUG: -- Предикт модели в оптимизации\n",
      "31-Oct-19 12:27:52, root, DEBUG: Проверка датафреймов\n",
      "31-Oct-19 12:27:53, root, DEBUG: Количество items после фильтрации: 19\n",
      "31-Oct-19 12:28:44, root, DEBUG: -- Длина рекомендаций: 126318090\n",
      "31-Oct-19 12:28:44, root, DEBUG: -- Подсчет метрики в оптимизации\n",
      "31-Oct-19 12:29:38, root, DEBUG: -- Метрика: (0.2762240942686831, 0.08930429867246653)\n",
      "[I 2019-10-31 12:29:38,716] Finished trial#10 resulted in value: 0.2762240942686831. Current best value is 0.2762240942686831 with parameters: {'alpha': 14178, 'beta': 31200}.\n",
      "31-Oct-19 12:29:38, root, DEBUG: -- Параметры: {'alpha': 31589, 'beta': 12555}\n",
      "31-Oct-19 12:29:38, root, DEBUG: -- Предикт модели в оптимизации\n",
      "31-Oct-19 12:29:38, root, DEBUG: Проверка датафреймов\n",
      "31-Oct-19 12:29:39, root, DEBUG: Количество items после фильтрации: 19\n",
      "31-Oct-19 12:30:31, root, DEBUG: -- Длина рекомендаций: 126318090\n",
      "31-Oct-19 12:30:31, root, DEBUG: -- Подсчет метрики в оптимизации\n",
      "31-Oct-19 12:31:29, root, DEBUG: -- Метрика: (0.2762240942686831, 0.08930429867246657)\n",
      "[I 2019-10-31 12:31:29,481] Finished trial#11 resulted in value: 0.2762240942686831. Current best value is 0.2762240942686831 with parameters: {'alpha': 14178, 'beta': 31200}.\n",
      "31-Oct-19 12:31:29, root, DEBUG: -- Параметры: {'alpha': 28231, 'beta': 18995}\n",
      "31-Oct-19 12:31:29, root, DEBUG: -- Предикт модели в оптимизации\n",
      "31-Oct-19 12:31:29, root, DEBUG: Проверка датафреймов\n",
      "31-Oct-19 12:31:30, root, DEBUG: Количество items после фильтрации: 19\n",
      "31-Oct-19 12:32:22, root, DEBUG: -- Длина рекомендаций: 126318090\n",
      "31-Oct-19 12:32:22, root, DEBUG: -- Подсчет метрики в оптимизации\n",
      "31-Oct-19 12:33:20, root, DEBUG: -- Метрика: (0.2762240942686831, 0.08930429867246653)\n",
      "[I 2019-10-31 12:33:20,421] Finished trial#12 resulted in value: 0.2762240942686831. Current best value is 0.2762240942686831 with parameters: {'alpha': 14178, 'beta': 31200}.\n",
      "31-Oct-19 12:33:20, root, DEBUG: -- Параметры: {'alpha': 4582, 'beta': 17607}\n",
      "31-Oct-19 12:33:20, root, DEBUG: -- Предикт модели в оптимизации\n",
      "31-Oct-19 12:33:20, root, DEBUG: Проверка датафреймов\n",
      "31-Oct-19 12:33:22, root, DEBUG: Количество items после фильтрации: 19\n",
      "31-Oct-19 12:34:13, root, DEBUG: -- Длина рекомендаций: 126318090\n",
      "31-Oct-19 12:34:13, root, DEBUG: -- Подсчет метрики в оптимизации\n",
      "31-Oct-19 12:35:08, root, DEBUG: -- Метрика: (0.2762240942686831, 0.08930429867246654)\n",
      "[I 2019-10-31 12:35:09,063] Finished trial#13 resulted in value: 0.2762240942686831. Current best value is 0.2762240942686831 with parameters: {'alpha': 14178, 'beta': 31200}.\n",
      "31-Oct-19 12:35:09, root, DEBUG: -- Параметры: {'alpha': 17311, 'beta': 15393}\n",
      "31-Oct-19 12:35:09, root, DEBUG: -- Предикт модели в оптимизации\n",
      "31-Oct-19 12:35:09, root, DEBUG: Проверка датафреймов\n",
      "31-Oct-19 12:35:10, root, DEBUG: Количество items после фильтрации: 19\n",
      "31-Oct-19 12:36:03, root, DEBUG: -- Длина рекомендаций: 126318090\n",
      "31-Oct-19 12:36:03, root, DEBUG: -- Подсчет метрики в оптимизации\n",
      "31-Oct-19 12:36:59, root, DEBUG: -- Метрика: (0.2762240942686831, 0.08930429867246653)\n",
      "[I 2019-10-31 12:36:59,700] Finished trial#14 resulted in value: 0.2762240942686831. Current best value is 0.2762240942686831 with parameters: {'alpha': 14178, 'beta': 31200}.\n",
      "31-Oct-19 12:36:59, root, DEBUG: Лучшие значения метрики: 0.2762240942686831\n",
      "31-Oct-19 12:36:59, root, DEBUG: Лучшие параметры: {'alpha': 14178, 'beta': 31200}\n"
     ]
    },
    {
     "name": "stdout",
     "output_type": "stream",
     "text": [
      "CPU times: user 2.99 s, sys: 356 ms, total: 3.34 s\n",
      "Wall time: 28min 9s\n"
     ]
    },
    {
     "data": {
      "text/plain": [
       "{'alpha': 14178, 'beta': 31200}"
      ]
     },
     "execution_count": 35,
     "metadata": {},
     "output_type": "execute_result"
    }
   ],
   "source": [
    "%%time\n",
    "\n",
    "best_params = popular_scenario.research(\n",
    "    popular_params_grid,\n",
    "    df,\n",
    "    users=None, items=None,\n",
    "    user_features=None,\n",
    "    item_features=None,\n",
    "    test_start=None,\n",
    "    test_size=0.3,\n",
    "    k=15, context='no_context',\n",
    "    to_filter_seen_items=True,\n",
    "    n_trials=15, \n",
    "    n_jobs=1,\n",
    "    how_to_split='randomly'\n",
    ")\n",
    "\n",
    "best_params"
   ]
  },
  {
   "cell_type": "code",
   "execution_count": 36,
   "metadata": {},
   "outputs": [
    {
     "data": {
      "text/html": [
       "<div>\n",
       "<style scoped>\n",
       "    .dataframe tbody tr th:only-of-type {\n",
       "        vertical-align: middle;\n",
       "    }\n",
       "\n",
       "    .dataframe tbody tr th {\n",
       "        vertical-align: top;\n",
       "    }\n",
       "\n",
       "    .dataframe thead tr th {\n",
       "        text-align: left;\n",
       "    }\n",
       "</style>\n",
       "<table border=\"1\" class=\"dataframe\">\n",
       "  <thead>\n",
       "    <tr>\n",
       "      <th></th>\n",
       "      <th>number</th>\n",
       "      <th>state</th>\n",
       "      <th>value</th>\n",
       "      <th>datetime_start</th>\n",
       "      <th>datetime_complete</th>\n",
       "      <th colspan=\"2\" halign=\"left\">params</th>\n",
       "      <th>user_attrs</th>\n",
       "      <th>system_attrs</th>\n",
       "    </tr>\n",
       "    <tr>\n",
       "      <th></th>\n",
       "      <th></th>\n",
       "      <th></th>\n",
       "      <th></th>\n",
       "      <th></th>\n",
       "      <th></th>\n",
       "      <th>alpha</th>\n",
       "      <th>beta</th>\n",
       "      <th>nDCG@k</th>\n",
       "      <th>_number</th>\n",
       "    </tr>\n",
       "  </thead>\n",
       "  <tbody>\n",
       "    <tr>\n",
       "      <th>0</th>\n",
       "      <td>0</td>\n",
       "      <td>TrialState.COMPLETE</td>\n",
       "      <td>0.276224</td>\n",
       "      <td>2019-10-31 12:08:55.934924</td>\n",
       "      <td>2019-10-31 12:11:01.030900</td>\n",
       "      <td>14178</td>\n",
       "      <td>31200</td>\n",
       "      <td>0.089304</td>\n",
       "      <td>0</td>\n",
       "    </tr>\n",
       "    <tr>\n",
       "      <th>1</th>\n",
       "      <td>1</td>\n",
       "      <td>TrialState.COMPLETE</td>\n",
       "      <td>0.276224</td>\n",
       "      <td>2019-10-31 12:11:01.033530</td>\n",
       "      <td>2019-10-31 12:12:56.892519</td>\n",
       "      <td>18304</td>\n",
       "      <td>13391</td>\n",
       "      <td>0.089304</td>\n",
       "      <td>1</td>\n",
       "    </tr>\n",
       "    <tr>\n",
       "      <th>2</th>\n",
       "      <td>2</td>\n",
       "      <td>TrialState.COMPLETE</td>\n",
       "      <td>0.276224</td>\n",
       "      <td>2019-10-31 12:12:56.895383</td>\n",
       "      <td>2019-10-31 12:14:54.129883</td>\n",
       "      <td>32730</td>\n",
       "      <td>11761</td>\n",
       "      <td>0.089304</td>\n",
       "      <td>2</td>\n",
       "    </tr>\n",
       "    <tr>\n",
       "      <th>3</th>\n",
       "      <td>3</td>\n",
       "      <td>TrialState.COMPLETE</td>\n",
       "      <td>0.276224</td>\n",
       "      <td>2019-10-31 12:14:54.132927</td>\n",
       "      <td>2019-10-31 12:16:41.820797</td>\n",
       "      <td>30918</td>\n",
       "      <td>22964</td>\n",
       "      <td>0.089304</td>\n",
       "      <td>3</td>\n",
       "    </tr>\n",
       "    <tr>\n",
       "      <th>4</th>\n",
       "      <td>4</td>\n",
       "      <td>TrialState.COMPLETE</td>\n",
       "      <td>0.276224</td>\n",
       "      <td>2019-10-31 12:16:41.824014</td>\n",
       "      <td>2019-10-31 12:18:35.111514</td>\n",
       "      <td>3007</td>\n",
       "      <td>8797</td>\n",
       "      <td>0.089304</td>\n",
       "      <td>4</td>\n",
       "    </tr>\n",
       "    <tr>\n",
       "      <th>5</th>\n",
       "      <td>5</td>\n",
       "      <td>TrialState.COMPLETE</td>\n",
       "      <td>0.276224</td>\n",
       "      <td>2019-10-31 12:18:35.115555</td>\n",
       "      <td>2019-10-31 12:20:22.409849</td>\n",
       "      <td>4323</td>\n",
       "      <td>24523</td>\n",
       "      <td>0.089304</td>\n",
       "      <td>5</td>\n",
       "    </tr>\n",
       "    <tr>\n",
       "      <th>6</th>\n",
       "      <td>6</td>\n",
       "      <td>TrialState.COMPLETE</td>\n",
       "      <td>0.276224</td>\n",
       "      <td>2019-10-31 12:20:22.413482</td>\n",
       "      <td>2019-10-31 12:22:13.672586</td>\n",
       "      <td>13874</td>\n",
       "      <td>22732</td>\n",
       "      <td>0.089304</td>\n",
       "      <td>6</td>\n",
       "    </tr>\n",
       "    <tr>\n",
       "      <th>7</th>\n",
       "      <td>7</td>\n",
       "      <td>TrialState.COMPLETE</td>\n",
       "      <td>0.276224</td>\n",
       "      <td>2019-10-31 12:22:13.676355</td>\n",
       "      <td>2019-10-31 12:24:08.626594</td>\n",
       "      <td>24227</td>\n",
       "      <td>26453</td>\n",
       "      <td>0.089304</td>\n",
       "      <td>7</td>\n",
       "    </tr>\n",
       "    <tr>\n",
       "      <th>8</th>\n",
       "      <td>8</td>\n",
       "      <td>TrialState.COMPLETE</td>\n",
       "      <td>0.276224</td>\n",
       "      <td>2019-10-31 12:24:08.630531</td>\n",
       "      <td>2019-10-31 12:26:04.656242</td>\n",
       "      <td>20685</td>\n",
       "      <td>585</td>\n",
       "      <td>0.089304</td>\n",
       "      <td>8</td>\n",
       "    </tr>\n",
       "    <tr>\n",
       "      <th>9</th>\n",
       "      <td>9</td>\n",
       "      <td>TrialState.COMPLETE</td>\n",
       "      <td>0.276224</td>\n",
       "      <td>2019-10-31 12:26:04.660368</td>\n",
       "      <td>2019-10-31 12:27:52.499261</td>\n",
       "      <td>856</td>\n",
       "      <td>13437</td>\n",
       "      <td>0.089304</td>\n",
       "      <td>9</td>\n",
       "    </tr>\n",
       "    <tr>\n",
       "      <th>10</th>\n",
       "      <td>10</td>\n",
       "      <td>TrialState.COMPLETE</td>\n",
       "      <td>0.276224</td>\n",
       "      <td>2019-10-31 12:27:52.503591</td>\n",
       "      <td>2019-10-31 12:29:38.713826</td>\n",
       "      <td>19615</td>\n",
       "      <td>5263</td>\n",
       "      <td>0.089304</td>\n",
       "      <td>10</td>\n",
       "    </tr>\n",
       "    <tr>\n",
       "      <th>11</th>\n",
       "      <td>11</td>\n",
       "      <td>TrialState.COMPLETE</td>\n",
       "      <td>0.276224</td>\n",
       "      <td>2019-10-31 12:29:38.718817</td>\n",
       "      <td>2019-10-31 12:31:29.478930</td>\n",
       "      <td>31589</td>\n",
       "      <td>12555</td>\n",
       "      <td>0.089304</td>\n",
       "      <td>11</td>\n",
       "    </tr>\n",
       "    <tr>\n",
       "      <th>12</th>\n",
       "      <td>12</td>\n",
       "      <td>TrialState.COMPLETE</td>\n",
       "      <td>0.276224</td>\n",
       "      <td>2019-10-31 12:31:29.483614</td>\n",
       "      <td>2019-10-31 12:33:20.418893</td>\n",
       "      <td>28231</td>\n",
       "      <td>18995</td>\n",
       "      <td>0.089304</td>\n",
       "      <td>12</td>\n",
       "    </tr>\n",
       "    <tr>\n",
       "      <th>13</th>\n",
       "      <td>13</td>\n",
       "      <td>TrialState.COMPLETE</td>\n",
       "      <td>0.276224</td>\n",
       "      <td>2019-10-31 12:33:20.423758</td>\n",
       "      <td>2019-10-31 12:35:09.060998</td>\n",
       "      <td>4582</td>\n",
       "      <td>17607</td>\n",
       "      <td>0.089304</td>\n",
       "      <td>13</td>\n",
       "    </tr>\n",
       "    <tr>\n",
       "      <th>14</th>\n",
       "      <td>14</td>\n",
       "      <td>TrialState.COMPLETE</td>\n",
       "      <td>0.276224</td>\n",
       "      <td>2019-10-31 12:35:09.066055</td>\n",
       "      <td>2019-10-31 12:36:59.697298</td>\n",
       "      <td>17311</td>\n",
       "      <td>15393</td>\n",
       "      <td>0.089304</td>\n",
       "      <td>14</td>\n",
       "    </tr>\n",
       "  </tbody>\n",
       "</table>\n",
       "</div>"
      ],
      "text/plain": [
       "   number                state     value             datetime_start  \\\n",
       "                                                                      \n",
       "0   0      TrialState.COMPLETE  0.276224 2019-10-31 12:08:55.934924   \n",
       "1   1      TrialState.COMPLETE  0.276224 2019-10-31 12:11:01.033530   \n",
       "2   2      TrialState.COMPLETE  0.276224 2019-10-31 12:12:56.895383   \n",
       "3   3      TrialState.COMPLETE  0.276224 2019-10-31 12:14:54.132927   \n",
       "4   4      TrialState.COMPLETE  0.276224 2019-10-31 12:16:41.824014   \n",
       "5   5      TrialState.COMPLETE  0.276224 2019-10-31 12:18:35.115555   \n",
       "6   6      TrialState.COMPLETE  0.276224 2019-10-31 12:20:22.413482   \n",
       "7   7      TrialState.COMPLETE  0.276224 2019-10-31 12:22:13.676355   \n",
       "8   8      TrialState.COMPLETE  0.276224 2019-10-31 12:24:08.630531   \n",
       "9   9      TrialState.COMPLETE  0.276224 2019-10-31 12:26:04.660368   \n",
       "10  10     TrialState.COMPLETE  0.276224 2019-10-31 12:27:52.503591   \n",
       "11  11     TrialState.COMPLETE  0.276224 2019-10-31 12:29:38.718817   \n",
       "12  12     TrialState.COMPLETE  0.276224 2019-10-31 12:31:29.483614   \n",
       "13  13     TrialState.COMPLETE  0.276224 2019-10-31 12:33:20.423758   \n",
       "14  14     TrialState.COMPLETE  0.276224 2019-10-31 12:35:09.066055   \n",
       "\n",
       "            datetime_complete params        user_attrs system_attrs  \n",
       "                               alpha   beta     nDCG@k      _number  \n",
       "0  2019-10-31 12:11:01.030900  14178  31200  0.089304   0            \n",
       "1  2019-10-31 12:12:56.892519  18304  13391  0.089304   1            \n",
       "2  2019-10-31 12:14:54.129883  32730  11761  0.089304   2            \n",
       "3  2019-10-31 12:16:41.820797  30918  22964  0.089304   3            \n",
       "4  2019-10-31 12:18:35.111514  3007   8797   0.089304   4            \n",
       "5  2019-10-31 12:20:22.409849  4323   24523  0.089304   5            \n",
       "6  2019-10-31 12:22:13.672586  13874  22732  0.089304   6            \n",
       "7  2019-10-31 12:24:08.626594  24227  26453  0.089304   7            \n",
       "8  2019-10-31 12:26:04.656242  20685  585    0.089304   8            \n",
       "9  2019-10-31 12:27:52.499261  856    13437  0.089304   9            \n",
       "10 2019-10-31 12:29:38.713826  19615  5263   0.089304   10           \n",
       "11 2019-10-31 12:31:29.478930  31589  12555  0.089304   11           \n",
       "12 2019-10-31 12:33:20.418893  28231  18995  0.089304   12           \n",
       "13 2019-10-31 12:35:09.060998  4582   17607  0.089304   13           \n",
       "14 2019-10-31 12:36:59.697298  17311  15393  0.089304   14           "
      ]
     },
     "execution_count": 36,
     "metadata": {},
     "output_type": "execute_result"
    }
   ],
   "source": [
    "results = popular_scenario.study.trials_dataframe()\n",
    "\n",
    "results"
   ]
  },
  {
   "cell_type": "code",
   "execution_count": 38,
   "metadata": {
    "scrolled": false
   },
   "outputs": [
    {
     "data": {
      "image/png": "[encoded data removed]",
      "text/plain": [
       "<Figure size 504x360 with 1 Axes>"
      ]
     },
     "metadata": {
      "needs_background": "light"
     },
     "output_type": "display_data"
    }
   ],
   "source": [
    "def plot_result_value(results):\n",
    "    results['value_name'] = (results['params']['alpha'].astype(str)\n",
    "                         .str.cat(results['params']['beta'].astype(str), sep=', '))\n",
    "    \n",
    "    plt.figure(figsize=(7, 5))\n",
    "    ax = results['value'].plot(kind='bar', xticks=range(len(results)), rot=0)\n",
    "    ax.set_xticklabels(results['value_name'].values)\n",
    "\n",
    "    plt.xlabel(r'$(\\alpha, \\beta)$' + ' пары')\n",
    "    plt.ylabel('Значение метрики')\n",
    "    plt.title('Результаты эксперимента')\n",
    "\n",
    "    plt.show()\n",
    "    \n",
    "\n",
    "plot_result_value(results)"
   ]
  },
  {
   "cell_type": "code",
   "execution_count": 39,
   "metadata": {},
   "outputs": [
    {
     "name": "stderr",
     "output_type": "stream",
     "text": [
      "31-Oct-19 12:38:07, root, DEBUG: Проверка датафреймов\n",
      "31-Oct-19 12:38:07, root, DEBUG: Предварительная стадия обучения (pre-fit)\n",
      "31-Oct-19 12:38:12, root, DEBUG: Среднее количество items у каждого user: 5.0\n",
      "31-Oct-19 12:38:12, root, DEBUG: Основная стадия обучения (fit)\n",
      "31-Oct-19 12:38:12, root, DEBUG: Проверка датафреймов\n",
      "31-Oct-19 12:38:12, root, DEBUG: Выделение дефолтных юзеров\n",
      "31-Oct-19 12:38:12, root, DEBUG: Выделение дефолтных айтемов\n",
      "31-Oct-19 12:38:15, root, DEBUG: Количество items после фильтрации: 15\n"
     ]
    },
    {
     "name": "stdout",
     "output_type": "stream",
     "text": [
      "CPU times: user 44 ms, sys: 12 ms, total: 56 ms\n",
      "Wall time: 8.34 s\n"
     ]
    }
   ],
   "source": [
    "%%time\n",
    "\n",
    "best_recs = popular_scenario.production(\n",
    "    best_params,\n",
    "    df,\n",
    "    users=None,\n",
    "    items=None,\n",
    "    user_features=None,\n",
    "    item_features=None,\n",
    "    k=10,\n",
    "    context='no_context',\n",
    "    to_filter_seen_items=True\n",
    ")"
   ]
  },
  {
   "cell_type": "code",
   "execution_count": 40,
   "metadata": {},
   "outputs": [
    {
     "name": "stdout",
     "output_type": "stream",
     "text": [
      "+-------+---------+----------+--------------------+\n",
      "|item_id|  user_id|   context|           relevance|\n",
      "+-------+---------+----------+--------------------+\n",
      "|   1040|100000982|no_context|0.013401378949242178|\n",
      "|  12093|100000982|no_context|0.013286058126295864|\n",
      "|  12087|100000982|no_context|0.012569213144671616|\n",
      "|  12233|100000982|no_context| 0.01120464773950729|\n",
      "|  12299|100000982|no_context|0.011162388656309532|\n",
      "|   1066|100000982|no_context|0.010629989055715768|\n",
      "|   1075|100000982|no_context|0.008618042905429467|\n",
      "|  12180|100000982|no_context| 0.00858441474203717|\n",
      "|   1034|100000982|no_context|0.008214103506591406|\n",
      "|  12542|100000982|no_context|0.007975865416075723|\n",
      "+-------+---------+----------+--------------------+\n",
      "only showing top 10 rows\n",
      "\n"
     ]
    }
   ],
   "source": [
    "best_recs.show(10)"
   ]
  },
  {
   "cell_type": "markdown",
   "metadata": {},
   "source": [
    "## Рекомендатель на основе k-NN для объектов (item k-NN based recommender) <a name='knn-recommender'></a>"
   ]
  },
  {
   "cell_type": "markdown",
   "metadata": {},
   "source": [
    "### Запуск single модели <a name='knn-recommender-single'></a>"
   ]
  },
  {
   "cell_type": "code",
   "execution_count": 25,
   "metadata": {},
   "outputs": [
    {
     "data": {
      "text/plain": [
       "(42534961, 42534961, 16863084)"
      ]
     },
     "execution_count": 25,
     "metadata": {},
     "output_type": "execute_result"
    }
   ],
   "source": [
    "splitter = ValidationSchemes(spark)\n",
    "\n",
    "train, test_input, test = splitter.log_split_by_date(\n",
    "    df, test_start=datetime(2019, 8, 1),\n",
    "    drop_cold_users=False, drop_cold_items=True\n",
    ")\n",
    "\n",
    "(\n",
    "    train.count(), \n",
    "    test_input.count(), \n",
    "    test.count()\n",
    ")"
   ]
  },
  {
   "cell_type": "code",
   "execution_count": 26,
   "metadata": {},
   "outputs": [],
   "source": [
    "knn = KNNRecommender(spark, num_neighbours=15, shrink=0)"
   ]
  },
  {
   "cell_type": "code",
   "execution_count": 27,
   "metadata": {},
   "outputs": [
    {
     "name": "stderr",
     "output_type": "stream",
     "text": [
      "31-Oct-19 15:24:55, root, DEBUG: Проверка датафреймов\n",
      "31-Oct-19 15:24:56, root, DEBUG: Предварительная стадия обучения (pre-fit)\n",
      "31-Oct-19 15:24:56, root, DEBUG: Основная стадия обучения (fit)\n"
     ]
    },
    {
     "name": "stdout",
     "output_type": "stream",
     "text": [
      "CPU times: user 32 ms, sys: 0 ns, total: 32 ms\n",
      "Wall time: 790 ms\n"
     ]
    }
   ],
   "source": [
    "%%time\n",
    "\n",
    "knn.fit(\n",
    "    log=train,\n",
    "    user_features=None,\n",
    "    item_features=None,\n",
    "    path=None\n",
    ")"
   ]
  },
  {
   "cell_type": "code",
   "execution_count": 28,
   "metadata": {},
   "outputs": [
    {
     "name": "stderr",
     "output_type": "stream",
     "text": [
      "31-Oct-19 15:24:56, root, DEBUG: Проверка датафреймов\n"
     ]
    },
    {
     "name": "stdout",
     "output_type": "stream",
     "text": [
      "CPU times: user 20 ms, sys: 4 ms, total: 24 ms\n",
      "Wall time: 2.88 s\n"
     ]
    }
   ],
   "source": [
    "%%time\n",
    "\n",
    "recs = knn.predict(\n",
    "    k=100,\n",
    "    users=test.select('user_id').distinct(),\n",
    "    items=test.select('item_id').distinct(),\n",
    "    context='no_context',\n",
    "    log=train,\n",
    "    user_features=None,\n",
    "    item_features=None,\n",
    "    to_filter_seen_items=True,\n",
    "    path=None\n",
    ").cache()"
   ]
  },
  {
   "cell_type": "code",
   "execution_count": 29,
   "metadata": {},
   "outputs": [
    {
     "name": "stdout",
     "output_type": "stream",
     "text": [
      "+-------+---------+--------------------+----------+\n",
      "|item_id|  user_id|           relevance|   context|\n",
      "+-------+---------+--------------------+----------+\n",
      "|    196|100332107|0.001658969079728...|no_context|\n",
      "|    433|100332107|0.001304757855092...|no_context|\n",
      "|    439|100332107|0.001257416545453464|no_context|\n",
      "|    373|100332107|0.001208028916289...|no_context|\n",
      "|    844|100332107|0.001205568177416...|no_context|\n",
      "+-------+---------+--------------------+----------+\n",
      "only showing top 5 rows\n",
      "\n"
     ]
    }
   ],
   "source": [
    "recs.show(5)"
   ]
  },
  {
   "cell_type": "code",
   "execution_count": 30,
   "metadata": {},
   "outputs": [
    {
     "name": "stdout",
     "output_type": "stream",
     "text": [
      "CPU times: user 16 ms, sys: 0 ns, total: 16 ms\n",
      "Wall time: 38.7 s\n"
     ]
    },
    {
     "data": {
      "text/plain": [
       "0.07469469534974585"
      ]
     },
     "execution_count": 30,
     "metadata": {},
     "output_type": "execute_result"
    }
   ],
   "source": [
    "%%time\n",
    "\n",
    "metric = Metric.hit_rate_at_k(recs, test, k=100)\n",
    "metric"
   ]
  },
  {
   "cell_type": "markdown",
   "metadata": {},
   "source": [
    "### Подбор гиперпараметров в item k-NN модели <a name='knn-recommender-scenario'></a>"
   ]
  },
  {
   "cell_type": "code",
   "execution_count": 16,
   "metadata": {},
   "outputs": [],
   "source": [
    "knn_scenario = KNNScenario(spark)\n",
    "knn_scenario.seed = 3951"
   ]
  },
  {
   "cell_type": "code",
   "execution_count": 18,
   "metadata": {
    "scrolled": false
   },
   "outputs": [
    {
     "name": "stderr",
     "output_type": "stream",
     "text": [
      "31-Oct-19 16:50:23, root, DEBUG: Деление на трейн и тест\n",
      "31-Oct-19 16:50:36, root, DEBUG: Длина трейна и теста: (42534961, 8984804)\n",
      "31-Oct-19 16:50:38, root, DEBUG: Количество юзеров в трейне и тесте: 10308614, 2597815\n",
      "31-Oct-19 16:50:40, root, DEBUG: Количество айтемов в трейне и тесте: 1138, 281\n",
      "31-Oct-19 16:50:40, root, DEBUG: Популярная модель: фит_предикт\n",
      "31-Oct-19 16:50:40, root, DEBUG: Проверка датафреймов\n",
      "31-Oct-19 16:50:40, root, DEBUG: Предварительная стадия обучения (pre-fit)\n",
      "31-Oct-19 16:50:44, root, DEBUG: Среднее количество items у каждого user: 5.0\n",
      "31-Oct-19 16:50:44, root, DEBUG: Основная стадия обучения (fit)\n",
      "31-Oct-19 16:50:44, root, DEBUG: Проверка датафреймов\n",
      "31-Oct-19 16:50:47, root, DEBUG: Количество items после фильтрации: 25\n",
      "31-Oct-19 16:50:47, root, DEBUG: Модель KNN\n",
      "31-Oct-19 16:50:47, root, DEBUG: Первый пре-фит модели\n",
      "31-Oct-19 16:50:47, root, DEBUG: -------------\n",
      "31-Oct-19 16:50:47, root, DEBUG: Начало оптимизации параметров\n",
      "31-Oct-19 16:50:47, root, DEBUG: -- Параметры: {'num_neighbours': 47.0, 'shrink': 0}\n",
      "31-Oct-19 16:50:47, root, DEBUG: -- Второй фит модели в оптимизации\n",
      "31-Oct-19 16:50:47, root, DEBUG: -- Предикт модели в оптимизации\n",
      "31-Oct-19 16:50:47, root, DEBUG: Проверка датафреймов\n",
      "31-Oct-19 16:56:09, root, DEBUG: -- Длина рекомендаций: 51956272\n",
      "31-Oct-19 16:56:09, root, DEBUG: -- Дополняем рекомендации популярными\n",
      "31-Oct-19 16:57:26, root, DEBUG: -- Длина рекомендаций: 51956300\n",
      "31-Oct-19 16:57:26, root, DEBUG: -- Подсчет метрики в оптимизации\n",
      "31-Oct-19 17:01:08, root, DEBUG: -- Метрика: (0.0012164068650000097, 0.003796235626881625)\n",
      "[I 2019-10-31 17:01:08,243] Finished trial#0 resulted in value: 0.0012164068650000097. Current best value is 0.0012164068650000097 with parameters: {'num_neighbours': 47.0, 'shrink': 0}.\n",
      "31-Oct-19 17:01:08, root, DEBUG: Лучшие значения метрики: 0.0012164068650000097\n",
      "31-Oct-19 17:01:08, root, DEBUG: Лучшие параметры: {'num_neighbours': 47.0, 'shrink': 0}\n"
     ]
    },
    {
     "name": "stdout",
     "output_type": "stream",
     "text": [
      "CPU times: user 296 ms, sys: 84 ms, total: 380 ms\n",
      "Wall time: 10min 45s\n"
     ]
    }
   ],
   "source": [
    "%%time\n",
    "\n",
    "knn_params_grid = {\n",
    "    'num_neighbours': (40, 50, 1), \n",
    "    'shrink': [0]\n",
    "}\n",
    "\n",
    "best_params = knn_scenario.research(\n",
    "    knn_params_grid,\n",
    "    df,\n",
    "    users=None, items=None,\n",
    "    user_features=None,\n",
    "    item_features=None,\n",
    "    test_start=datetime(2019, 8, 1),\n",
    "    test_size=0.35,\n",
    "    k=20, context='no_context',\n",
    "    to_filter_seen_items=True,\n",
    "    n_trials=1, \n",
    "    n_jobs=1,\n",
    "    how_to_split='by_date'\n",
    ")"
   ]
  },
  {
   "cell_type": "code",
   "execution_count": 20,
   "metadata": {
    "scrolled": false
   },
   "outputs": [
    {
     "name": "stderr",
     "output_type": "stream",
     "text": [
      "31-Oct-19 17:16:36, root, DEBUG: Деление на трейн и тест\n",
      "31-Oct-19 17:16:36, root, DEBUG: Длина трейна и теста: (42079893, 19773023)\n",
      "31-Oct-19 17:16:38, root, DEBUG: Количество юзеров в трейне и тесте: 12386560, 6864018\n",
      "31-Oct-19 17:16:38, root, DEBUG: Количество айтемов в трейне и тесте: 1411, 1349\n",
      "31-Oct-19 17:16:38, root, DEBUG: Популярная модель: фит_предикт\n",
      "31-Oct-19 17:16:38, root, DEBUG: Проверка датафреймов\n",
      "31-Oct-19 17:16:38, root, DEBUG: Предварительная стадия обучения (pre-fit)\n",
      "31-Oct-19 17:16:40, root, DEBUG: Среднее количество items у каждого user: 4.0\n",
      "31-Oct-19 17:16:40, root, DEBUG: Основная стадия обучения (fit)\n",
      "31-Oct-19 17:16:40, root, DEBUG: Проверка датафреймов\n",
      "31-Oct-19 17:16:41, root, DEBUG: Количество items после фильтрации: 24\n",
      "31-Oct-19 17:16:42, root, DEBUG: Модель KNN\n",
      "31-Oct-19 17:16:42, root, DEBUG: Первый пре-фит модели\n",
      "31-Oct-19 17:16:43, root, DEBUG: -------------\n",
      "31-Oct-19 17:16:43, root, DEBUG: Начало оптимизации параметров\n",
      "31-Oct-19 17:16:43, root, DEBUG: -- Параметры: {'num_neighbours': 44.0, 'shrink': 0}\n",
      "31-Oct-19 17:16:43, root, DEBUG: -- Второй фит модели в оптимизации\n",
      "31-Oct-19 17:16:43, root, DEBUG: -- Предикт модели в оптимизации\n",
      "31-Oct-19 17:16:43, root, DEBUG: Проверка датафреймов\n",
      "31-Oct-19 17:25:25, root, DEBUG: -- Длина рекомендаций: 137280357\n",
      "31-Oct-19 17:25:25, root, DEBUG: -- Дополняем рекомендации популярными\n",
      "31-Oct-19 17:28:02, root, DEBUG: -- Длина рекомендаций: 137280360\n",
      "31-Oct-19 17:28:02, root, DEBUG: -- Подсчет метрики в оптимизации\n",
      "31-Oct-19 17:38:19, root, DEBUG: -- Метрика: (8.158486763875037e-06, 2.6118015498764964e-05)\n",
      "[I 2019-10-31 17:38:19,808] Finished trial#0 resulted in value: 8.158486763875037e-06. Current best value is 8.158486763875037e-06 with parameters: {'num_neighbours': 44.0, 'shrink': 0}.\n",
      "31-Oct-19 17:38:19, root, DEBUG: Лучшие значения метрики: 8.158486763875037e-06\n",
      "31-Oct-19 17:38:19, root, DEBUG: Лучшие параметры: {'num_neighbours': 44.0, 'shrink': 0}\n"
     ]
    },
    {
     "name": "stdout",
     "output_type": "stream",
     "text": [
      "CPU times: user 360 ms, sys: 128 ms, total: 488 ms\n",
      "Wall time: 21min 43s\n"
     ]
    }
   ],
   "source": [
    "%%time\n",
    "\n",
    "knn_params_grid = {\n",
    "    'num_neighbours': (40, 50, 1), \n",
    "    'shrink': [0]\n",
    "}\n",
    "\n",
    "best_params = knn_scenario.research(\n",
    "    knn_params_grid,\n",
    "    df,\n",
    "    users=None, items=None,\n",
    "    user_features=None,\n",
    "    item_features=None,\n",
    "    test_start=datetime(2019, 8, 1),\n",
    "    test_size=0.35,\n",
    "    k=20, context='no_context',\n",
    "    to_filter_seen_items=True,\n",
    "    n_trials=1, \n",
    "    n_jobs=1,\n",
    "    how_to_split='randomly'\n",
    ")"
   ]
  },
  {
   "cell_type": "code",
   "execution_count": 22,
   "metadata": {},
   "outputs": [
    {
     "data": {
      "text/html": [
       "<div>\n",
       "<style scoped>\n",
       "    .dataframe tbody tr th:only-of-type {\n",
       "        vertical-align: middle;\n",
       "    }\n",
       "\n",
       "    .dataframe tbody tr th {\n",
       "        vertical-align: top;\n",
       "    }\n",
       "\n",
       "    .dataframe thead tr th {\n",
       "        text-align: left;\n",
       "    }\n",
       "</style>\n",
       "<table border=\"1\" class=\"dataframe\">\n",
       "  <thead>\n",
       "    <tr>\n",
       "      <th></th>\n",
       "      <th>number</th>\n",
       "      <th>state</th>\n",
       "      <th>value</th>\n",
       "      <th>datetime_start</th>\n",
       "      <th>datetime_complete</th>\n",
       "      <th colspan=\"2\" halign=\"left\">params</th>\n",
       "      <th>system_attrs</th>\n",
       "    </tr>\n",
       "    <tr>\n",
       "      <th></th>\n",
       "      <th></th>\n",
       "      <th></th>\n",
       "      <th></th>\n",
       "      <th></th>\n",
       "      <th></th>\n",
       "      <th>num_neighbours</th>\n",
       "      <th>shrink</th>\n",
       "      <th>_number</th>\n",
       "    </tr>\n",
       "  </thead>\n",
       "  <tbody>\n",
       "    <tr>\n",
       "      <th>0</th>\n",
       "      <td>0</td>\n",
       "      <td>TrialState.COMPLETE</td>\n",
       "      <td>0.000066</td>\n",
       "      <td>2019-10-30 09:47:22.917050</td>\n",
       "      <td>2019-10-30 09:48:44.036803</td>\n",
       "      <td>2.0</td>\n",
       "      <td>0</td>\n",
       "      <td>0</td>\n",
       "    </tr>\n",
       "    <tr>\n",
       "      <th>1</th>\n",
       "      <td>1</td>\n",
       "      <td>TrialState.COMPLETE</td>\n",
       "      <td>0.000065</td>\n",
       "      <td>2019-10-30 09:48:44.040232</td>\n",
       "      <td>2019-10-30 09:51:37.874329</td>\n",
       "      <td>9.0</td>\n",
       "      <td>0</td>\n",
       "      <td>1</td>\n",
       "    </tr>\n",
       "    <tr>\n",
       "      <th>2</th>\n",
       "      <td>2</td>\n",
       "      <td>TrialState.COMPLETE</td>\n",
       "      <td>0.000065</td>\n",
       "      <td>2019-10-30 09:51:37.878035</td>\n",
       "      <td>2019-10-30 09:52:16.064111</td>\n",
       "      <td>5.0</td>\n",
       "      <td>0</td>\n",
       "      <td>2</td>\n",
       "    </tr>\n",
       "    <tr>\n",
       "      <th>3</th>\n",
       "      <td>3</td>\n",
       "      <td>TrialState.COMPLETE</td>\n",
       "      <td>0.000067</td>\n",
       "      <td>2019-10-30 09:52:16.067757</td>\n",
       "      <td>2019-10-30 09:52:38.983023</td>\n",
       "      <td>10.0</td>\n",
       "      <td>0</td>\n",
       "      <td>3</td>\n",
       "    </tr>\n",
       "    <tr>\n",
       "      <th>4</th>\n",
       "      <td>4</td>\n",
       "      <td>TrialState.COMPLETE</td>\n",
       "      <td>0.000065</td>\n",
       "      <td>2019-10-30 09:52:38.988098</td>\n",
       "      <td>2019-10-30 09:53:00.744544</td>\n",
       "      <td>9.0</td>\n",
       "      <td>0</td>\n",
       "      <td>4</td>\n",
       "    </tr>\n",
       "  </tbody>\n",
       "</table>\n",
       "</div>"
      ],
      "text/plain": [
       "  number                state     value             datetime_start  \\\n",
       "                                                                     \n",
       "0  0      TrialState.COMPLETE  0.000066 2019-10-30 09:47:22.917050   \n",
       "1  1      TrialState.COMPLETE  0.000065 2019-10-30 09:48:44.040232   \n",
       "2  2      TrialState.COMPLETE  0.000065 2019-10-30 09:51:37.878035   \n",
       "3  3      TrialState.COMPLETE  0.000067 2019-10-30 09:52:16.067757   \n",
       "4  4      TrialState.COMPLETE  0.000065 2019-10-30 09:52:38.988098   \n",
       "\n",
       "           datetime_complete         params        system_attrs  \n",
       "                             num_neighbours shrink      _number  \n",
       "0 2019-10-30 09:48:44.036803  2.0            0      0            \n",
       "1 2019-10-30 09:51:37.874329  9.0            0      1            \n",
       "2 2019-10-30 09:52:16.064111  5.0            0      2            \n",
       "3 2019-10-30 09:52:38.983023  10.0           0      3            \n",
       "4 2019-10-30 09:53:00.744544  9.0            0      4            "
      ]
     },
     "execution_count": 22,
     "metadata": {},
     "output_type": "execute_result"
    }
   ],
   "source": [
    "knn_results = knn_scenario.study.trials_dataframe()\n",
    "\n",
    "knn_results.head()"
   ]
  }
 ],
 "metadata": {
  "kernelspec": {
   "display_name": "Python 3",
   "language": "python",
   "name": "python3"
  },
  "language_info": {
   "codemirror_mode": {
    "name": "ipython",
    "version": 3
   },
   "file_extension": ".py",
   "mimetype": "text/x-python",
   "name": "python",
   "nbconvert_exporter": "python",
   "pygments_lexer": "ipython3",
   "version": "3.6.5"
  },
  "pycharm": {
   "stem_cell": {
    "cell_type": "raw",
    "source": [],
    "metadata": {
     "collapsed": false
    }
   }
  }
 },
 "nbformat": 4,
 "nbformat_minor": 2
}