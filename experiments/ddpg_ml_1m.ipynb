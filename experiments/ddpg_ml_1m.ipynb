{
 "cells": [
  {
   "cell_type": "code",
   "execution_count": 1,
   "id": "b30fd6bb",
   "metadata": {
    "scrolled": false
   },
   "outputs": [
    {
     "name": "stderr",
     "output_type": "stream",
     "text": [
      "/Users/19893556/miniconda3/envs/replay_old/lib/python3.7/site-packages/lightfm/_lightfm_fast.py:10: UserWarning: LightFM was compiled without OpenMP support. Only a single thread will be used.\n",
      "  \"LightFM was compiled without OpenMP support. \"\n",
      "WARNING: An illegal reflective access operation has occurred\n",
      "WARNING: Illegal reflective access by org.apache.spark.unsafe.Platform (file:/Users/19893556/miniconda3/envs/replay_old/lib/python3.7/site-packages/pyspark/jars/spark-unsafe_2.12-3.1.2.jar) to constructor java.nio.DirectByteBuffer(long,int)\n",
      "WARNING: Please consider reporting this to the maintainers of org.apache.spark.unsafe.Platform\n",
      "WARNING: Use --illegal-access=warn to enable warnings of further illegal reflective access operations\n",
      "WARNING: All illegal access operations will be denied in a future release\n",
      "23/02/01 12:43:46 WARN NativeCodeLoader: Unable to load native-hadoop library for your platform... using builtin-java classes where applicable\n",
      "Using Spark's default log4j profile: org/apache/spark/log4j-defaults.properties\n",
      "Setting default log level to \"WARN\".\n",
      "To adjust logging level use sc.setLogLevel(newLevel). For SparkR, use setLogLevel(newLevel).\n",
      "23/02/01 12:43:46 WARN SparkConf: Note that spark.local.dir will be overridden by the value set by the cluster manager (via SPARK_LOCAL_DIRS in mesos/standalone/kubernetes and LOCAL_DIRS in YARN).\n",
      "23/02/01 12:43:47 WARN Utils: Service 'SparkUI' could not bind on port 4040. Attempting port 4041.\n",
      "23/02/01 12:43:47 WARN Utils: Service 'SparkUI' could not bind on port 4041. Attempting port 4042.\n"
     ]
    }
   ],
   "source": [
    "%load_ext autoreload\n",
    "%autoreload 2\n",
    "\n",
    "import gc\n",
    "import matplotlib.pyplot as plt\n",
    "import pickle\n",
    "import tqdm\n",
    "\n",
    "import numpy as np\n",
    "import pandas as pd\n",
    "import torch\n",
    "from pyspark.sql import functions as sf\n",
    "\n",
    "from replay.data_preparator import DataPreparator, Indexer\n",
    "from replay.experiment import Experiment\n",
    "from replay.metrics import Coverage, HitRate, MRR, MAP, NDCG, Surprisal\n",
    "from replay.models import DDPG, ALSWrap, ItemKNN, PopRec, NeuroMF, MultVAE\n",
    "from replay.session_handler import State\n",
    "from replay.splitters import UserSplitter, DateSplitter\n",
    "from replay.utils import convert2spark\n",
    "\n",
    "spark = State().session\n",
    "spark.sparkContext.setLogLevel('ERROR')"
   ]
  },
  {
   "cell_type": "code",
   "execution_count": 2,
   "id": "9dacf8f4",
   "metadata": {},
   "outputs": [],
   "source": [
    "K = 10\n",
    "K_list_metrics = [1, 3, 10]\n",
    "SEED = 42"
   ]
  },
  {
   "cell_type": "markdown",
   "id": "839c919d",
   "metadata": {},
   "source": [
    "## DDPG"
   ]
  },
  {
   "cell_type": "code",
   "execution_count": 3,
   "id": "ccfd734e",
   "metadata": {
    "code_folding": [],
    "scrolled": true
   },
   "outputs": [
    {
     "data": {
      "text/html": [
       "<style type='text/css'>\n",
       ".datatable table.frame { margin-bottom: 0; }\n",
       ".datatable table.frame thead { border-bottom: none; }\n",
       ".datatable table.frame tr.coltypes td {  color: #FFFFFF;  line-height: 6px;  padding: 0 0.5em;}\n",
       ".datatable .bool    { background: #DDDD99; }\n",
       ".datatable .object  { background: #565656; }\n",
       ".datatable .int     { background: #5D9E5D; }\n",
       ".datatable .float   { background: #4040CC; }\n",
       ".datatable .str     { background: #CC4040; }\n",
       ".datatable .time    { background: #40CC40; }\n",
       ".datatable .row_index {  background: var(--jp-border-color3);  border-right: 1px solid var(--jp-border-color0);  color: var(--jp-ui-font-color3);  font-size: 9px;}\n",
       ".datatable .frame tbody td { text-align: left; }\n",
       ".datatable .frame tr.coltypes .row_index {  background: var(--jp-border-color0);}\n",
       ".datatable th:nth-child(2) { padding-left: 12px; }\n",
       ".datatable .hellipsis {  color: var(--jp-cell-editor-border-color);}\n",
       ".datatable .vellipsis {  background: var(--jp-layout-color0);  color: var(--jp-cell-editor-border-color);}\n",
       ".datatable .na {  color: var(--jp-cell-editor-border-color);  font-size: 80%;}\n",
       ".datatable .sp {  opacity: 0.25;}\n",
       ".datatable .footer { font-size: 9px; }\n",
       ".datatable .frame_dimensions {  background: var(--jp-border-color3);  border-top: 1px solid var(--jp-border-color0);  color: var(--jp-ui-font-color3);  display: inline-block;  opacity: 0.6;  padding: 1px 10px 1px 5px;}\n",
       "</style>\n"
      ],
      "text/plain": [
       "<IPython.core.display.HTML object>"
      ]
     },
     "metadata": {},
     "output_type": "display_data"
    },
    {
     "name": "stderr",
     "output_type": "stream",
     "text": [
      "01-Feb-23 12:44:42, replay, INFO: Columns with ids of users or items are present in mapping. The dataframe will be treated as an interactions log.\n",
      "                                                                                \r"
     ]
    },
    {
     "data": {
      "text/plain": [
       "(640128, 18172)"
      ]
     },
     "execution_count": 3,
     "metadata": {},
     "output_type": "execute_result"
    }
   ],
   "source": [
    "from rs_datasets import MovieLens\n",
    "\n",
    "ratings = MovieLens(\"1m\").ratings\n",
    "ratings.loc[:, 'rating'] = ratings.loc[:, 'rating'].apply(lambda x: 1 if x > 3 else -1)\n",
    "\n",
    "preparator = DataPreparator()\n",
    "log = preparator.transform(\n",
    "    columns_mapping={\n",
    "        'user_id': 'user_id',\n",
    "        'item_id': 'item_id',\n",
    "        'relevance': 'rating',\n",
    "        'timestamp': 'timestamp'\n",
    "    },\n",
    "    data=ratings\n",
    ")\n",
    "\n",
    "indexer = Indexer(user_col='user_id', item_col='item_id')\n",
    "indexer.fit(users=log.select('user_id'), items=log.select('item_id'))\n",
    "log_replay = indexer.transform(log)\n",
    "\n",
    "train_spl = DateSplitter(\n",
    "    test_start=0.2,\n",
    "    drop_cold_items=True,\n",
    "    drop_cold_users=True,\n",
    "\n",
    ")\n",
    "train, test = train_spl.split(log_replay)\n",
    "\n",
    "opt_train, opt_val = train_spl.split(train)\n",
    "opt_train.count(), opt_val.count()"
   ]
  },
  {
   "cell_type": "code",
   "execution_count": 4,
   "id": "72f8082c",
   "metadata": {
    "scrolled": false
   },
   "outputs": [
    {
     "data": {
      "application/vnd.jupyter.widget-view+json": {
       "model_id": "76937670df734b3396d55d095d5b37c5",
       "version_major": 2,
       "version_minor": 0
      },
      "text/plain": [
       "  0%|          | 0/4463 [00:00<?, ?it/s]"
      ]
     },
     "metadata": {},
     "output_type": "display_data"
    },
    {
     "name": "stderr",
     "output_type": "stream",
     "text": [
      "/Users/19893556/miniconda3/envs/replay_old/lib/python3.7/site-packages/pytorch_ranger/ranger.py:172: UserWarning: This overload of addcmul_ is deprecated:\n",
      "\taddcmul_(Number value, Tensor tensor1, Tensor tensor2)\n",
      "Consider using one of the following signatures instead:\n",
      "\taddcmul_(Tensor tensor1, Tensor tensor2, *, Number value) (Triggered internally at  ../torch/csrc/utils/python_arg_parser.cpp:1005.)\n",
      "  exp_avg_sq.mul_(beta2).addcmul_(1 - beta2, grad, grad)\n",
      "/Users/19893556/work/RePlay/replay/models/ddpg.py:89: RuntimeWarning: invalid value encountered in reciprocal\n",
      "  weights = (current_buffer_len * probs[indices]) ** (-beta)\n"
     ]
    }
   ],
   "source": [
    "ddpg = DDPG(user_num=6040, item_num=5000, log_dir='data/models/ml1m_ddpg')\n",
    "ddpg.fit(opt_train)"
   ]
  },
  {
   "cell_type": "code",
   "execution_count": 34,
   "id": "b962fdb1",
   "metadata": {
    "code_folding": []
   },
   "outputs": [],
   "source": [
    "def eval_single_step(step, experiment, pred_log=opt_val):\n",
    "    ddpg._load_model(f'data/models/ml1m_ddpg/model_{step}0000.pt')\n",
    "\n",
    "    recs = ddpg.predict(\n",
    "        k=K,\n",
    "        users=pred_log.select('user_idx').distinct(),\n",
    "        log=opt_train,\n",
    "        filter_seen_items=True\n",
    "    )\n",
    "\n",
    "    experiment.add_result(step, recs)\n",
    "    del recs; gc.collect()"
   ]
  },
  {
   "cell_type": "markdown",
   "id": "11756eb2",
   "metadata": {},
   "source": [
    "### Evaluation"
   ]
  },
  {
   "cell_type": "code",
   "execution_count": 35,
   "id": "7f44e150",
   "metadata": {
    "scrolled": true
   },
   "outputs": [
    {
     "name": "stderr",
     "output_type": "stream",
     "text": [
      "                                                                                \r"
     ]
    },
    {
     "data": {
      "application/vnd.jupyter.widget-view+json": {
       "model_id": "6736bb94556540c0b8415bc48b018c20",
       "version_major": 2,
       "version_minor": 0
      },
      "text/plain": [
       "  0%|          | 0/99 [00:00<?, ?it/s]"
      ]
     },
     "metadata": {},
     "output_type": "display_data"
    },
    {
     "name": "stderr",
     "output_type": "stream",
     "text": [
      "/Users/19893556/miniconda3/envs/replay_old/lib/python3.7/site-packages/lightfm/_lightfm_fast.py:10: UserWarning: LightFM was compiled without OpenMP support. Only a single thread will be used.\n",
      "  \"LightFM was compiled without OpenMP support. \"\n",
      "/Users/19893556/miniconda3/envs/replay_old/lib/python3.7/site-packages/lightfm/_lightfm_fast.py:10: UserWarning: LightFM was compiled without OpenMP support. Only a single thread will be used.\n",
      "  \"LightFM was compiled without OpenMP support. \"\n",
      "/Users/19893556/miniconda3/envs/replay_old/lib/python3.7/site-packages/lightfm/_lightfm_fast.py:10: UserWarning: LightFM was compiled without OpenMP support. Only a single thread will be used.\n",
      "  \"LightFM was compiled without OpenMP support. \"\n",
      "/Users/19893556/miniconda3/envs/replay_old/lib/python3.7/site-packages/lightfm/_lightfm_fast.py:10: UserWarning: LightFM was compiled without OpenMP support. Only a single thread will be used.\n",
      "  \"LightFM was compiled without OpenMP support. \"\n",
      "/Users/19893556/miniconda3/envs/replay_old/lib/python3.7/site-packages/lightfm/_lightfm_fast.py:10: UserWarning: LightFM was compiled without OpenMP support. Only a single thread will be used.\n",
      "  \"LightFM was compiled without OpenMP support. \"\n",
      "/Users/19893556/miniconda3/envs/replay_old/lib/python3.7/site-packages/lightfm/_lightfm_fast.py:10: UserWarning: LightFM was compiled without OpenMP support. Only a single thread will be used.\n",
      "  \"LightFM was compiled without OpenMP support. \"\n",
      "/Users/19893556/miniconda3/envs/replay_old/lib/python3.7/site-packages/lightfm/_lightfm_fast.py:10: UserWarning: LightFM was compiled without OpenMP support. Only a single thread will be used.\n",
      "  \"LightFM was compiled without OpenMP support. \"\n",
      "/Users/19893556/miniconda3/envs/replay_old/lib/python3.7/site-packages/lightfm/_lightfm_fast.py:10: UserWarning: LightFM was compiled without OpenMP support. Only a single thread will be used.\n",
      "  \"LightFM was compiled without OpenMP support. \"\n",
      "                                                                                \r"
     ]
    },
    {
     "name": "stdout",
     "output_type": "stream",
     "text": [
      "[Errno 2] No such file or directory: 'data/models/ml1m_ddpg/model_380000.pt'\n"
     ]
    }
   ],
   "source": [
    "ml1m_val = Experiment(opt_val, {Coverage(opt_train): K, NDCG(): K, HitRate(): K})\n",
    "for i in tqdm.auto.tqdm(range(1, 100)):\n",
    "    try:\n",
    "        eval_single_step(i, ml1m_val)\n",
    "    except Exception as e:\n",
    "        print(e)\n",
    "        break"
   ]
  },
  {
   "cell_type": "markdown",
   "id": "8f91c4af",
   "metadata": {},
   "source": [
    "Best metrics on validation"
   ]
  },
  {
   "cell_type": "code",
   "execution_count": 36,
   "id": "18d92c43",
   "metadata": {},
   "outputs": [
    {
     "data": {
      "text/html": [
       "<div>\n",
       "<style scoped>\n",
       "    .dataframe tbody tr th:only-of-type {\n",
       "        vertical-align: middle;\n",
       "    }\n",
       "\n",
       "    .dataframe tbody tr th {\n",
       "        vertical-align: top;\n",
       "    }\n",
       "\n",
       "    .dataframe thead th {\n",
       "        text-align: right;\n",
       "    }\n",
       "</style>\n",
       "<table border=\"1\" class=\"dataframe\">\n",
       "  <thead>\n",
       "    <tr style=\"text-align: right;\">\n",
       "      <th></th>\n",
       "      <th>Coverage@10</th>\n",
       "      <th>HitRate@10</th>\n",
       "      <th>NDCG@10</th>\n",
       "    </tr>\n",
       "  </thead>\n",
       "  <tbody>\n",
       "    <tr>\n",
       "      <th>23</th>\n",
       "      <td>0.023094</td>\n",
       "      <td>0.540616</td>\n",
       "      <td>0.184073</td>\n",
       "    </tr>\n",
       "  </tbody>\n",
       "</table>\n",
       "</div>"
      ],
      "text/plain": [
       "    Coverage@10  HitRate@10   NDCG@10\n",
       "23     0.023094    0.540616  0.184073"
      ]
     },
     "execution_count": 36,
     "metadata": {},
     "output_type": "execute_result"
    }
   ],
   "source": [
    "ml1m_val.results[ml1m_val.results['HitRate@10'] == ml1m_val.results['HitRate@10'].max()]"
   ]
  },
  {
   "cell_type": "markdown",
   "id": "5ce33673",
   "metadata": {},
   "source": [
    "Metrics on test"
   ]
  },
  {
   "cell_type": "code",
   "execution_count": 38,
   "id": "4ad9dc22",
   "metadata": {},
   "outputs": [
    {
     "name": "stderr",
     "output_type": "stream",
     "text": [
      "01-Feb-23 19:03:07, replay, INFO: DDPG model can't predict cold users, they will be ignored\n",
      "                                                                                \r"
     ]
    },
    {
     "data": {
      "text/html": [
       "<div>\n",
       "<style scoped>\n",
       "    .dataframe tbody tr th:only-of-type {\n",
       "        vertical-align: middle;\n",
       "    }\n",
       "\n",
       "    .dataframe tbody tr th {\n",
       "        vertical-align: top;\n",
       "    }\n",
       "\n",
       "    .dataframe thead th {\n",
       "        text-align: right;\n",
       "    }\n",
       "</style>\n",
       "<table border=\"1\" class=\"dataframe\">\n",
       "  <thead>\n",
       "    <tr style=\"text-align: right;\">\n",
       "      <th></th>\n",
       "      <th>Coverage@10</th>\n",
       "      <th>HitRate@10</th>\n",
       "      <th>NDCG@10</th>\n",
       "    </tr>\n",
       "  </thead>\n",
       "  <tbody>\n",
       "    <tr>\n",
       "      <th>23</th>\n",
       "      <td>0.026989</td>\n",
       "      <td>0.447415</td>\n",
       "      <td>0.122556</td>\n",
       "    </tr>\n",
       "  </tbody>\n",
       "</table>\n",
       "</div>"
      ],
      "text/plain": [
       "    Coverage@10  HitRate@10   NDCG@10\n",
       "23     0.026989    0.447415  0.122556"
      ]
     },
     "execution_count": 38,
     "metadata": {},
     "output_type": "execute_result"
    }
   ],
   "source": [
    "model_comparison = Experiment(test, {Coverage(opt_train): K, NDCG(): K, HitRate(): K})\n",
    "eval_single_step(23, model_comparison, pred_log=test)\n",
    "model_comparison.results"
   ]
  },
  {
   "cell_type": "markdown",
   "id": "bf77b17f",
   "metadata": {},
   "source": [
    "## Other models"
   ]
  },
  {
   "cell_type": "code",
   "execution_count": 39,
   "id": "407ce1fc",
   "metadata": {
    "scrolled": true
   },
   "outputs": [
    {
     "name": "stderr",
     "output_type": "stream",
     "text": [
      "\u001b[32m[I 2023-02-01 19:06:17,089]\u001b[0m A new study created in memory with name: no-name-76530dd9-4b31-4775-bcf9-684b00de6b56\u001b[0m\n",
      "/Users/19893556/work/RePlay/replay/models/base_rec.py:123: ExperimentalWarning: enqueue_trial is experimental (supported from v1.2.0). The interface can change in the future.\n",
      "  self.study.enqueue_trial(self._init_args)\n",
      "/Users/19893556/miniconda3/envs/replay_old/lib/python3.7/site-packages/optuna/study/study.py:857: ExperimentalWarning: create_trial is experimental (supported from v2.0.0). The interface can change in the future.\n",
      "  create_trial(state=TrialState.WAITING, system_attrs={\"fixed_params\": params})\n",
      "/Users/19893556/miniconda3/envs/replay_old/lib/python3.7/site-packages/optuna/study/study.py:857: ExperimentalWarning: add_trial is experimental (supported from v2.0.0). The interface can change in the future.\n",
      "  create_trial(state=TrialState.WAITING, system_attrs={\"fixed_params\": params})\n",
      "\u001b[32m[I 2023-02-01 19:09:27,216]\u001b[0m Trial 0 finished with value: 0.177479175227549 and parameters: {'num_neighbours': 10, 'shrink': 0, 'weighting': None}. Best is trial 0 with value: 0.177479175227549.\u001b[0m\n",
      "\u001b[32m[I 2023-02-01 19:10:02,712]\u001b[0m Trial 1 finished with value: 0.20550660715525404 and parameters: {'num_neighbours': 45, 'shrink': 94, 'weighting': None}. Best is trial 1 with value: 0.20550660715525404.\u001b[0m\n",
      "\u001b[32m[I 2023-02-01 19:10:24,399]\u001b[0m Trial 2 finished with value: 0.2118225120826309 and parameters: {'num_neighbours': 89, 'shrink': 79, 'weighting': 'tf_idf'}. Best is trial 2 with value: 0.2118225120826309.\u001b[0m\n",
      "\u001b[32m[I 2023-02-01 19:10:52,851]\u001b[0m Trial 3 finished with value: 0.20007269458012847 and parameters: {'num_neighbours': 100, 'shrink': 21, 'weighting': 'tf_idf'}. Best is trial 2 with value: 0.2118225120826309.\u001b[0m\n",
      "\u001b[32m[I 2023-02-01 19:11:10,846]\u001b[0m Trial 4 finished with value: 0.206878203831836 and parameters: {'num_neighbours': 57, 'shrink': 50, 'weighting': 'bm25'}. Best is trial 2 with value: 0.2118225120826309.\u001b[0m\n",
      "\u001b[32m[I 2023-02-01 19:11:26,769]\u001b[0m Trial 5 finished with value: 0.2008419851977238 and parameters: {'num_neighbours': 60, 'shrink': 30, 'weighting': None}. Best is trial 2 with value: 0.2118225120826309.\u001b[0m\n",
      "\u001b[32m[I 2023-02-01 19:11:40,706]\u001b[0m Trial 6 finished with value: 0.18845367340873506 and parameters: {'num_neighbours': 9, 'shrink': 46, 'weighting': None}. Best is trial 2 with value: 0.2118225120826309.\u001b[0m\n",
      "\u001b[32m[I 2023-02-01 19:11:57,703]\u001b[0m Trial 7 finished with value: 0.1993751705553758 and parameters: {'num_neighbours': 58, 'shrink': 32, 'weighting': 'tf_idf'}. Best is trial 2 with value: 0.2118225120826309.\u001b[0m\n",
      "\u001b[32m[I 2023-02-01 19:12:13,521]\u001b[0m Trial 8 finished with value: 0.1930582617602819 and parameters: {'num_neighbours': 22, 'shrink': 23, 'weighting': 'tf_idf'}. Best is trial 2 with value: 0.2118225120826309.\u001b[0m\n",
      "\u001b[32m[I 2023-02-01 19:12:38,342]\u001b[0m Trial 9 finished with value: 0.19612114804805245 and parameters: {'num_neighbours': 29, 'shrink': 21, 'weighting': 'tf_idf'}. Best is trial 2 with value: 0.2118225120826309.\u001b[0m\n",
      "                                                                                \r"
     ]
    },
    {
     "name": "stdout",
     "output_type": "stream",
     "text": [
      "CPU times: user 1.86 s, sys: 1.94 s, total: 3.81 s\n",
      "Wall time: 6min 34s\n"
     ]
    }
   ],
   "source": [
    "%%time\n",
    "knn = ItemKNN()\n",
    "knn.optimize(opt_train, opt_val)\n",
    "knn_recs = knn.predict(\n",
    "    k=K,\n",
    "    users=test.select('user_idx').distinct(),\n",
    "    log=opt_train,\n",
    "    filter_seen_items=True,\n",
    ")"
   ]
  },
  {
   "cell_type": "code",
   "execution_count": 40,
   "id": "20eb6146",
   "metadata": {
    "scrolled": true
   },
   "outputs": [
    {
     "name": "stderr",
     "output_type": "stream",
     "text": [
      "01-Feb-23 19:15:47, replay, INFO: ALSWrap model can't predict cold users, they will be ignored\n",
      "[Stage 13366:=====================================>               (17 + 7) / 24]\r"
     ]
    },
    {
     "name": "stdout",
     "output_type": "stream",
     "text": [
      "CPU times: user 309 ms, sys: 332 ms, total: 642 ms\n",
      "Wall time: 3min 10s\n"
     ]
    },
    {
     "name": "stderr",
     "output_type": "stream",
     "text": [
      "\r",
      "                                                                                \r"
     ]
    }
   ],
   "source": [
    "%%time\n",
    "als = ALSWrap(rank=200)\n",
    "als.fit(opt_train)\n",
    "als_recs = als.predict(\n",
    "    k=K,\n",
    "    users=test.select('user_idx').distinct(),\n",
    "    log=opt_train,\n",
    "    filter_seen_items=True,\n",
    ")"
   ]
  },
  {
   "cell_type": "code",
   "execution_count": 41,
   "id": "d0de2bef",
   "metadata": {
    "scrolled": true
   },
   "outputs": [
    {
     "name": "stderr",
     "output_type": "stream",
     "text": [
      "01-Feb-23 19:16:05, replay, INFO: The model is neural network with non-distributed training\n",
      "/Users/19893556/miniconda3/envs/replay_old/lib/python3.7/site-packages/lightfm/_lightfm_fast.py:10: UserWarning: LightFM was compiled without OpenMP support. Only a single thread will be used.\n",
      "  \"LightFM was compiled without OpenMP support. \"\n",
      "/Users/19893556/miniconda3/envs/replay_old/lib/python3.7/site-packages/lightfm/_lightfm_fast.py:10: UserWarning: LightFM was compiled without OpenMP support. Only a single thread will be used.\n",
      "  \"LightFM was compiled without OpenMP support. \"\n",
      "/Users/19893556/miniconda3/envs/replay_old/lib/python3.7/site-packages/lightfm/_lightfm_fast.py:10: UserWarning: LightFM was compiled without OpenMP support. Only a single thread will be used.\n",
      "  \"LightFM was compiled without OpenMP support. \"\n",
      "/Users/19893556/miniconda3/envs/replay_old/lib/python3.7/site-packages/lightfm/_lightfm_fast.py:10: UserWarning: LightFM was compiled without OpenMP support. Only a single thread will be used.\n",
      "  \"LightFM was compiled without OpenMP support. \"\n",
      "/Users/19893556/miniconda3/envs/replay_old/lib/python3.7/site-packages/lightfm/_lightfm_fast.py:10: UserWarning: LightFM was compiled without OpenMP support. Only a single thread will be used.\n",
      "  \"LightFM was compiled without OpenMP support. \"\n",
      "/Users/19893556/miniconda3/envs/replay_old/lib/python3.7/site-packages/lightfm/_lightfm_fast.py:10: UserWarning: LightFM was compiled without OpenMP support. Only a single thread will be used.\n",
      "  \"LightFM was compiled without OpenMP support. \"\n",
      "/Users/19893556/miniconda3/envs/replay_old/lib/python3.7/site-packages/lightfm/_lightfm_fast.py:10: UserWarning: LightFM was compiled without OpenMP support. Only a single thread will be used.\n",
      "  \"LightFM was compiled without OpenMP support. \"\n",
      "/Users/19893556/miniconda3/envs/replay_old/lib/python3.7/site-packages/lightfm/_lightfm_fast.py:10: UserWarning: LightFM was compiled without OpenMP support. Only a single thread will be used.\n",
      "  \"LightFM was compiled without OpenMP support. \"\n",
      "                                                                                \r"
     ]
    },
    {
     "name": "stdout",
     "output_type": "stream",
     "text": [
      "CPU times: user 2min 53s, sys: 35.4 s, total: 3min 28s\n",
      "Wall time: 3min 28s\n"
     ]
    }
   ],
   "source": [
    "%%time\n",
    "vae = MultVAE()\n",
    "vae.fit(opt_train)\n",
    "vae_recs = vae.predict(\n",
    "    k=K,\n",
    "    users=test.select('user_idx').distinct(),\n",
    "    log=opt_train,\n",
    "    filter_seen_items=True,\n",
    ")"
   ]
  },
  {
   "cell_type": "code",
   "execution_count": 42,
   "id": "1130a6a7",
   "metadata": {},
   "outputs": [
    {
     "name": "stderr",
     "output_type": "stream",
     "text": [
      "01-Feb-23 19:19:35, replay, INFO: The model is neural network with non-distributed training\n",
      "01-Feb-23 19:26:47, replay, INFO: NeuroMF model can't predict cold users, they will be ignored\n",
      "/Users/19893556/miniconda3/envs/replay_old/lib/python3.7/site-packages/lightfm/_lightfm_fast.py:10: UserWarning: LightFM was compiled without OpenMP support. Only a single thread will be used.\n",
      "  \"LightFM was compiled without OpenMP support. \"\n",
      "/Users/19893556/miniconda3/envs/replay_old/lib/python3.7/site-packages/lightfm/_lightfm_fast.py:10: UserWarning: LightFM was compiled without OpenMP support. Only a single thread will be used.\n",
      "  \"LightFM was compiled without OpenMP support. \"\n",
      "/Users/19893556/miniconda3/envs/replay_old/lib/python3.7/site-packages/lightfm/_lightfm_fast.py:10: UserWarning: LightFM was compiled without OpenMP support. Only a single thread will be used.\n",
      "  \"LightFM was compiled without OpenMP support. \"\n",
      "/Users/19893556/miniconda3/envs/replay_old/lib/python3.7/site-packages/lightfm/_lightfm_fast.py:10: UserWarning: LightFM was compiled without OpenMP support. Only a single thread will be used.\n",
      "  \"LightFM was compiled without OpenMP support. \"\n",
      "/Users/19893556/miniconda3/envs/replay_old/lib/python3.7/site-packages/lightfm/_lightfm_fast.py:10: UserWarning: LightFM was compiled without OpenMP support. Only a single thread will be used.\n",
      "  \"LightFM was compiled without OpenMP support. \"\n",
      "/Users/19893556/miniconda3/envs/replay_old/lib/python3.7/site-packages/lightfm/_lightfm_fast.py:10: UserWarning: LightFM was compiled without OpenMP support. Only a single thread will be used.\n",
      "  \"LightFM was compiled without OpenMP support. \"\n",
      "/Users/19893556/miniconda3/envs/replay_old/lib/python3.7/site-packages/lightfm/_lightfm_fast.py:10: UserWarning: LightFM was compiled without OpenMP support. Only a single thread will be used.\n",
      "  \"LightFM was compiled without OpenMP support. \"\n",
      "/Users/19893556/miniconda3/envs/replay_old/lib/python3.7/site-packages/lightfm/_lightfm_fast.py:10: UserWarning: LightFM was compiled without OpenMP support. Only a single thread will be used.\n",
      "  \"LightFM was compiled without OpenMP support. \"\n",
      "                                                                                \r"
     ]
    },
    {
     "name": "stdout",
     "output_type": "stream",
     "text": [
      "CPU times: user 10min 38s, sys: 2min 5s, total: 12min 43s\n",
      "Wall time: 7min 34s\n"
     ]
    }
   ],
   "source": [
    "%%time\n",
    "neuro_mf = NeuroMF()\n",
    "neuro_mf.fit(opt_train)\n",
    "neuro_mf_recs = neuro_mf.predict(\n",
    "    k=K,\n",
    "    users=test.select('user_idx').distinct(),\n",
    "    log=opt_train,\n",
    "    filter_seen_items=True,\n",
    ")"
   ]
  },
  {
   "cell_type": "code",
   "execution_count": 43,
   "id": "a03889b1",
   "metadata": {},
   "outputs": [
    {
     "name": "stderr",
     "output_type": "stream",
     "text": [
      "[Stage 13549:=======================================>             (18 + 6) / 24]\r"
     ]
    },
    {
     "name": "stdout",
     "output_type": "stream",
     "text": [
      "CPU times: user 87.4 ms, sys: 121 ms, total: 208 ms\n",
      "Wall time: 16.1 s\n"
     ]
    },
    {
     "name": "stderr",
     "output_type": "stream",
     "text": [
      "\r",
      "                                                                                \r"
     ]
    }
   ],
   "source": [
    "%%time\n",
    "poprec = PopRec()\n",
    "poprec.fit(opt_train)\n",
    "poprec_recs = poprec.predict(\n",
    "    k=K,\n",
    "    users=test.select('user_idx').distinct(),\n",
    "    log=opt_train,\n",
    "    filter_seen_items=True,\n",
    ")"
   ]
  },
  {
   "cell_type": "code",
   "execution_count": 44,
   "id": "f9f73da3",
   "metadata": {},
   "outputs": [
    {
     "name": "stderr",
     "output_type": "stream",
     "text": [
      "                                                                                \r"
     ]
    },
    {
     "data": {
      "text/html": [
       "<div>\n",
       "<style scoped>\n",
       "    .dataframe tbody tr th:only-of-type {\n",
       "        vertical-align: middle;\n",
       "    }\n",
       "\n",
       "    .dataframe tbody tr th {\n",
       "        vertical-align: top;\n",
       "    }\n",
       "\n",
       "    .dataframe thead th {\n",
       "        text-align: right;\n",
       "    }\n",
       "</style>\n",
       "<table border=\"1\" class=\"dataframe\">\n",
       "  <thead>\n",
       "    <tr style=\"text-align: right;\">\n",
       "      <th></th>\n",
       "      <th>Coverage@10</th>\n",
       "      <th>HitRate@10</th>\n",
       "      <th>NDCG@10</th>\n",
       "    </tr>\n",
       "  </thead>\n",
       "  <tbody>\n",
       "    <tr>\n",
       "      <th>23</th>\n",
       "      <td>0.026989</td>\n",
       "      <td>0.447415</td>\n",
       "      <td>0.122556</td>\n",
       "    </tr>\n",
       "    <tr>\n",
       "      <th>als</th>\n",
       "      <td>0.239566</td>\n",
       "      <td>0.491979</td>\n",
       "      <td>0.158077</td>\n",
       "    </tr>\n",
       "    <tr>\n",
       "      <th>knn</th>\n",
       "      <td>0.091263</td>\n",
       "      <td>0.431373</td>\n",
       "      <td>0.133824</td>\n",
       "    </tr>\n",
       "    <tr>\n",
       "      <th>vae</th>\n",
       "      <td>0.012243</td>\n",
       "      <td>0.242424</td>\n",
       "      <td>0.039003</td>\n",
       "    </tr>\n",
       "    <tr>\n",
       "      <th>neuro_mf</th>\n",
       "      <td>0.300779</td>\n",
       "      <td>0.433155</td>\n",
       "      <td>0.111933</td>\n",
       "    </tr>\n",
       "    <tr>\n",
       "      <th>pop_rec</th>\n",
       "      <td>0.035615</td>\n",
       "      <td>0.572193</td>\n",
       "      <td>0.173862</td>\n",
       "    </tr>\n",
       "  </tbody>\n",
       "</table>\n",
       "</div>"
      ],
      "text/plain": [
       "          Coverage@10  HitRate@10   NDCG@10\n",
       "23           0.026989    0.447415  0.122556\n",
       "als          0.239566    0.491979  0.158077\n",
       "knn          0.091263    0.431373  0.133824\n",
       "vae          0.012243    0.242424  0.039003\n",
       "neuro_mf     0.300779    0.433155  0.111933\n",
       "pop_rec      0.035615    0.572193  0.173862"
      ]
     },
     "execution_count": 44,
     "metadata": {},
     "output_type": "execute_result"
    }
   ],
   "source": [
    "model_comparison.add_result(\"als\", als_recs)\n",
    "model_comparison.add_result(\"knn\", knn_recs)\n",
    "model_comparison.add_result(\"vae\", vae_recs)\n",
    "model_comparison.add_result(\"neuro_mf\", neuro_mf_recs)\n",
    "model_comparison.add_result(\"pop_rec\", poprec_recs)\n",
    "model_comparison.results"
   ]
  }
 ],
 "metadata": {
  "kernelspec": {
   "display_name": "Python 3 (ipykernel)",
   "language": "python",
   "name": "python3"
  },
  "language_info": {
   "codemirror_mode": {
    "name": "ipython",
    "version": 3
   },
   "file_extension": ".py",
   "mimetype": "text/x-python",
   "name": "python",
   "nbconvert_exporter": "python",
   "pygments_lexer": "ipython3",
   "version": "3.7.11"
  }
 },
 "nbformat": 4,
 "nbformat_minor": 5
}
