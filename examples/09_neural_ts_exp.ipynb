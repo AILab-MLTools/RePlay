{
 "cells": [
  {
   "cell_type": "markdown",
   "id": "b9ec062e-7d66-4c53-a480-bc6639d38e55",
   "metadata": {},
   "source": [
    "We will show the main RePlay functionality and compare performance of RePlay models on well-known MovieLens dataset. For simplicity we consider here only the variou bandit algorithms with context. The list of considered strategies for comparison:\n",
    "\n",
    "1) Linear UCB\n",
    "\n",
    "2) Linear Thompson Sampling\n",
    "\n",
    "3) Logistic Thompson Sampling\n",
    "\n",
    "### Dataset\n",
    "\n",
    "We will compare RePlay models on MovieLens 1m.\n",
    "\n",
    "### Dataset preprocessing:\n",
    "\n",
    "Ratings greater than or equal to 3 are considered as positive interactions.\n",
    "\n",
    "### Data split\n",
    "\n",
    "Dataset is split by date so that 20% of the last interactions as are placed in the test part. Cold items and users are dropped.\n",
    "\n",
    "### Predict:\n",
    "We will predict top-10 most relevant films for each user.\n",
    "\n",
    "### Metrics\n",
    "\n",
    "Quality metrics used: ndcg@k, hitrate@k, map@k, mrr@k for k = 1, 5, 10 Additional metrics used: coverage@k and surprisal@k.\n"
   ]
  },
  {
   "cell_type": "code",
   "execution_count": 1,
   "id": "518b0d1a-a574-413b-928f-5755c763c405",
   "metadata": {},
   "outputs": [
    {
     "name": "stdout",
     "output_type": "stream",
     "text": [
      "Requirement already satisfied: rs-datasets in /home/marina/.pyenv/versions/3.9.7/envs/replay/lib/python3.9/site-packages (0.5.1)\n",
      "Requirement already satisfied: datatable in /home/marina/.pyenv/versions/3.9.7/envs/replay/lib/python3.9/site-packages (from rs-datasets) (1.1.0)\n",
      "Requirement already satisfied: pandas in /home/marina/.pyenv/versions/3.9.7/envs/replay/lib/python3.9/site-packages (from rs-datasets) (1.4.3)\n",
      "Requirement already satisfied: gdown in /home/marina/.pyenv/versions/3.9.7/envs/replay/lib/python3.9/site-packages (from rs-datasets) (4.7.1)\n",
      "Requirement already satisfied: pyarrow in /home/marina/.pyenv/versions/3.9.7/envs/replay/lib/python3.9/site-packages (from rs-datasets) (14.0.1)\n",
      "Requirement already satisfied: tqdm in /home/marina/.pyenv/versions/3.9.7/envs/replay/lib/python3.9/site-packages (from rs-datasets) (4.66.1)\n",
      "Requirement already satisfied: xlrd in /home/marina/.pyenv/versions/3.9.7/envs/replay/lib/python3.9/site-packages (from rs-datasets) (2.0.1)\n",
      "Requirement already satisfied: kaggle in /home/marina/.pyenv/versions/3.9.7/envs/replay/lib/python3.9/site-packages (from rs-datasets) (1.5.16)\n",
      "Requirement already satisfied: py7zr in /home/marina/.pyenv/versions/3.9.7/envs/replay/lib/python3.9/site-packages (from rs-datasets) (0.20.8)\n",
      "Requirement already satisfied: openpyxl in /home/marina/.pyenv/versions/3.9.7/envs/replay/lib/python3.9/site-packages (from rs-datasets) (3.1.2)\n",
      "Requirement already satisfied: filelock in /home/marina/.pyenv/versions/3.9.7/envs/replay/lib/python3.9/site-packages (from gdown->rs-datasets) (3.13.1)\n",
      "Requirement already satisfied: requests[socks] in /home/marina/.pyenv/versions/3.9.7/envs/replay/lib/python3.9/site-packages (from gdown->rs-datasets) (2.31.0)\n",
      "Requirement already satisfied: six in /home/marina/.pyenv/versions/3.9.7/envs/replay/lib/python3.9/site-packages (from gdown->rs-datasets) (1.16.0)\n",
      "Requirement already satisfied: beautifulsoup4 in /home/marina/.pyenv/versions/3.9.7/envs/replay/lib/python3.9/site-packages (from gdown->rs-datasets) (4.12.2)\n",
      "Requirement already satisfied: certifi in /home/marina/.pyenv/versions/3.9.7/envs/replay/lib/python3.9/site-packages (from kaggle->rs-datasets) (2023.11.17)\n",
      "Requirement already satisfied: python-dateutil in /home/marina/.pyenv/versions/3.9.7/envs/replay/lib/python3.9/site-packages (from kaggle->rs-datasets) (2.8.2)\n",
      "Requirement already satisfied: python-slugify in /home/marina/.pyenv/versions/3.9.7/envs/replay/lib/python3.9/site-packages (from kaggle->rs-datasets) (8.0.1)\n",
      "Requirement already satisfied: urllib3 in /home/marina/.pyenv/versions/3.9.7/envs/replay/lib/python3.9/site-packages (from kaggle->rs-datasets) (2.1.0)\n",
      "Requirement already satisfied: bleach in /home/marina/.pyenv/versions/3.9.7/envs/replay/lib/python3.9/site-packages (from kaggle->rs-datasets) (6.1.0)\n",
      "Requirement already satisfied: et-xmlfile in /home/marina/.pyenv/versions/3.9.7/envs/replay/lib/python3.9/site-packages (from openpyxl->rs-datasets) (1.1.0)\n",
      "Requirement already satisfied: pytz>=2020.1 in /home/marina/.pyenv/versions/3.9.7/envs/replay/lib/python3.9/site-packages (from pandas->rs-datasets) (2023.3.post1)\n",
      "Requirement already satisfied: numpy>=1.18.5 in /home/marina/.pyenv/versions/3.9.7/envs/replay/lib/python3.9/site-packages (from pandas->rs-datasets) (1.23.5)\n",
      "Requirement already satisfied: texttable in /home/marina/.pyenv/versions/3.9.7/envs/replay/lib/python3.9/site-packages (from py7zr->rs-datasets) (1.7.0)\n",
      "Requirement already satisfied: pycryptodomex>=3.16.0 in /home/marina/.pyenv/versions/3.9.7/envs/replay/lib/python3.9/site-packages (from py7zr->rs-datasets) (3.19.0)\n",
      "Requirement already satisfied: pyzstd>=0.15.9 in /home/marina/.pyenv/versions/3.9.7/envs/replay/lib/python3.9/site-packages (from py7zr->rs-datasets) (0.15.9)\n",
      "Requirement already satisfied: pyppmd<1.2.0,>=1.1.0 in /home/marina/.pyenv/versions/3.9.7/envs/replay/lib/python3.9/site-packages (from py7zr->rs-datasets) (1.1.0)\n",
      "Requirement already satisfied: pybcj<1.1.0,>=1.0.0 in /home/marina/.pyenv/versions/3.9.7/envs/replay/lib/python3.9/site-packages (from py7zr->rs-datasets) (1.0.2)\n",
      "Requirement already satisfied: multivolumefile>=0.2.3 in /home/marina/.pyenv/versions/3.9.7/envs/replay/lib/python3.9/site-packages (from py7zr->rs-datasets) (0.2.3)\n",
      "Requirement already satisfied: inflate64<1.1.0,>=1.0.0 in /home/marina/.pyenv/versions/3.9.7/envs/replay/lib/python3.9/site-packages (from py7zr->rs-datasets) (1.0.0)\n",
      "Requirement already satisfied: brotli>=1.1.0 in /home/marina/.pyenv/versions/3.9.7/envs/replay/lib/python3.9/site-packages (from py7zr->rs-datasets) (1.1.0)\n",
      "Requirement already satisfied: psutil in /home/marina/.pyenv/versions/3.9.7/envs/replay/lib/python3.9/site-packages (from py7zr->rs-datasets) (5.9.6)\n",
      "Requirement already satisfied: soupsieve>1.2 in /home/marina/.pyenv/versions/3.9.7/envs/replay/lib/python3.9/site-packages (from beautifulsoup4->gdown->rs-datasets) (2.5)\n",
      "Requirement already satisfied: webencodings in /home/marina/.pyenv/versions/3.9.7/envs/replay/lib/python3.9/site-packages (from bleach->kaggle->rs-datasets) (0.5.1)\n",
      "Requirement already satisfied: text-unidecode>=1.3 in /home/marina/.pyenv/versions/3.9.7/envs/replay/lib/python3.9/site-packages (from python-slugify->kaggle->rs-datasets) (1.3)\n",
      "Requirement already satisfied: charset-normalizer<4,>=2 in /home/marina/.pyenv/versions/3.9.7/envs/replay/lib/python3.9/site-packages (from requests[socks]->gdown->rs-datasets) (3.3.2)\n",
      "Requirement already satisfied: idna<4,>=2.5 in /home/marina/.pyenv/versions/3.9.7/envs/replay/lib/python3.9/site-packages (from requests[socks]->gdown->rs-datasets) (3.6)\n",
      "Requirement already satisfied: PySocks!=1.5.7,>=1.5.6 in /home/marina/.pyenv/versions/3.9.7/envs/replay/lib/python3.9/site-packages (from requests[socks]->gdown->rs-datasets) (1.7.1)\n"
     ]
    }
   ],
   "source": [
    "! pip install rs-datasets"
   ]
  },
  {
   "cell_type": "code",
   "execution_count": 2,
   "id": "7dd87a23-af97-44ca-b3f4-db88eb6bfb35",
   "metadata": {},
   "outputs": [],
   "source": [
    "%load_ext autoreload\n",
    "%autoreload 2\n"
   ]
  },
  {
   "cell_type": "code",
   "execution_count": 3,
   "id": "42bf7dd6-e79f-4d73-a6be-f8df5d75d6d2",
   "metadata": {},
   "outputs": [],
   "source": [
    "%config Completer.use_jedi = False"
   ]
  },
  {
   "cell_type": "code",
   "execution_count": 4,
   "id": "1d9abd75-4180-4a67-9b07-eddac41ebbc1",
   "metadata": {},
   "outputs": [],
   "source": [
    "import warnings\n",
    "from optuna.exceptions import ExperimentalWarning\n",
    "warnings.filterwarnings(\"ignore\", category=UserWarning)\n",
    "warnings.filterwarnings(\"ignore\", category=ExperimentalWarning)\n",
    "warnings.simplefilter(action='ignore', category=FutureWarning)"
   ]
  },
  {
   "cell_type": "code",
   "execution_count": 5,
   "id": "c9cdf0fa-0e15-4a5f-966d-d65e3eac7f2e",
   "metadata": {},
   "outputs": [
    {
     "data": {
      "text/html": [
       "<style type='text/css'>\n",
       ".datatable table.frame { margin-bottom: 0; }\n",
       ".datatable table.frame thead { border-bottom: none; }\n",
       ".datatable table.frame tr.coltypes td {  color: #FFFFFF;  line-height: 6px;  padding: 0 0.5em;}\n",
       ".datatable .bool    { background: #DDDD99; }\n",
       ".datatable .object  { background: #565656; }\n",
       ".datatable .int     { background: #5D9E5D; }\n",
       ".datatable .float   { background: #4040CC; }\n",
       ".datatable .str     { background: #CC4040; }\n",
       ".datatable .time    { background: #40CC40; }\n",
       ".datatable .row_index {  background: var(--jp-border-color3);  border-right: 1px solid var(--jp-border-color0);  color: var(--jp-ui-font-color3);  font-size: 9px;}\n",
       ".datatable .frame tbody td { text-align: left; }\n",
       ".datatable .frame tr.coltypes .row_index {  background: var(--jp-border-color0);}\n",
       ".datatable th:nth-child(2) { padding-left: 12px; }\n",
       ".datatable .hellipsis {  color: var(--jp-cell-editor-border-color);}\n",
       ".datatable .vellipsis {  background: var(--jp-layout-color0);  color: var(--jp-cell-editor-border-color);}\n",
       ".datatable .na {  color: var(--jp-cell-editor-border-color);  font-size: 80%;}\n",
       ".datatable .sp {  opacity: 0.25;}\n",
       ".datatable .footer { font-size: 9px; }\n",
       ".datatable .frame_dimensions {  background: var(--jp-border-color3);  border-top: 1px solid var(--jp-border-color0);  color: var(--jp-ui-font-color3);  display: inline-block;  opacity: 0.6;  padding: 1px 10px 1px 5px;}\n",
       ".datatable .frame thead tr.colnames {  background-image: url('data:image/png;base64,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');  background-repeat: repeat-x;  background-size: 14px;  height: 28px;}\n",
       "</style>\n"
      ],
      "text/plain": [
       "<IPython.core.display.HTML object>"
      ]
     },
     "metadata": {},
     "output_type": "display_data"
    }
   ],
   "source": [
    "import logging\n",
    "import time\n",
    "import pandas as pd\n",
    "import numpy as np\n",
    "\n",
    "from pyspark.sql import functions as sf, types as st\n",
    "from pyspark.sql.types import IntegerType\n",
    "\n",
    "from replay.experimental.preprocessing.data_preparator import Indexer, DataPreparator\n",
    "from replay.metrics import Coverage, HitRate, MRR, MAP, NDCG, Surprisal, Experiment\n",
    "from replay.experimental.models import (\n",
    "    NeuralTS\n",
    ")\n",
    "\n",
    "\n",
    "from replay.utils.session_handler import State\n",
    "from replay.splitters import TimeSplitter\n",
    "from replay.utils.spark_utils import get_log_info\n",
    "from rs_datasets import MovieLens"
   ]
  },
  {
   "cell_type": "code",
   "execution_count": 6,
   "id": "9490b442-0f13-4106-ab81-c0c8c0e14ffb",
   "metadata": {},
   "outputs": [
    {
     "name": "stderr",
     "output_type": "stream",
     "text": [
      "23/12/15 18:33:06 WARN Utils: Your hostname, marina-HP-ProBook-430-G6 resolves to a loopback address: 127.0.1.1; using 172.19.46.4 instead (on interface wlp0s20f3)\n",
      "23/12/15 18:33:06 WARN Utils: Set SPARK_LOCAL_IP if you need to bind to another address\n",
      "WARNING: An illegal reflective access operation has occurred\n",
      "WARNING: Illegal reflective access by org.apache.spark.unsafe.Platform (file:/home/marina/.pyenv/versions/3.9.7/envs/replay/lib/python3.9/site-packages/pyspark/jars/spark-unsafe_2.12-3.2.4.jar) to constructor java.nio.DirectByteBuffer(long,int)\n",
      "WARNING: Please consider reporting this to the maintainers of org.apache.spark.unsafe.Platform\n",
      "WARNING: Use --illegal-access=warn to enable warnings of further illegal reflective access operations\n",
      "WARNING: All illegal access operations will be denied in a future release\n",
      "Using Spark's default log4j profile: org/apache/spark/log4j-defaults.properties\n",
      "Setting default log level to \"WARN\".\n",
      "To adjust logging level use sc.setLogLevel(newLevel). For SparkR, use setLogLevel(newLevel).\n",
      "23/12/15 18:33:07 WARN NativeCodeLoader: Unable to load native-hadoop library for your platform... using builtin-java classes where applicable\n",
      "23/12/15 18:33:07 WARN SparkConf: Note that spark.local.dir will be overridden by the value set by the cluster manager (via SPARK_LOCAL_DIRS in mesos/standalone/kubernetes and LOCAL_DIRS in YARN).\n"
     ]
    },
    {
     "data": {
      "text/html": [
       "\n",
       "            <div>\n",
       "                <p><b>SparkSession - hive</b></p>\n",
       "                \n",
       "        <div>\n",
       "            <p><b>SparkContext</b></p>\n",
       "\n",
       "            <p><a href=\"http://localhost:4040\">Spark UI</a></p>\n",
       "\n",
       "            <dl>\n",
       "              <dt>Version</dt>\n",
       "                <dd><code>v3.2.4</code></dd>\n",
       "              <dt>Master</dt>\n",
       "                <dd><code>local[*]</code></dd>\n",
       "              <dt>AppName</dt>\n",
       "                <dd><code>pyspark-shell</code></dd>\n",
       "            </dl>\n",
       "        </div>\n",
       "        \n",
       "            </div>\n",
       "        "
      ],
      "text/plain": [
       "<pyspark.sql.session.SparkSession at 0x7f7a901813a0>"
      ]
     },
     "execution_count": 6,
     "metadata": {},
     "output_type": "execute_result"
    }
   ],
   "source": [
    "spark = State().session\n",
    "spark"
   ]
  },
  {
   "cell_type": "code",
   "execution_count": 7,
   "id": "176cba50-02f2-4a0b-90da-31d6a4ca3be0",
   "metadata": {},
   "outputs": [],
   "source": [
    "spark.sparkContext.setLogLevel('ERROR')"
   ]
  },
  {
   "cell_type": "code",
   "execution_count": 8,
   "id": "de6cfeb3-e9a8-40f0-a86a-29c3351c19e4",
   "metadata": {},
   "outputs": [],
   "source": [
    "\n",
    "logger = logging.getLogger(\"replay\")"
   ]
  },
  {
   "cell_type": "code",
   "execution_count": 9,
   "id": "e2e59462-943b-49e4-ad29-47c68655db10",
   "metadata": {},
   "outputs": [],
   "source": [
    "K = 10\n",
    "K_list_metrics = [1, 5, 10]\n",
    "BUDGET = 20\n",
    "BUDGET_NN = 10\n",
    "SEED = 12345"
   ]
  },
  {
   "cell_type": "markdown",
   "id": "a60db72f-6060-4727-9916-ffe170777cb6",
   "metadata": {},
   "source": [
    "## Preprocessing "
   ]
  },
  {
   "cell_type": "markdown",
   "id": "6c4d61c4-3f36-4422-b4ea-8938fe53bcb3",
   "metadata": {},
   "source": [
    "### Data loading"
   ]
  },
  {
   "cell_type": "code",
   "execution_count": 10,
   "id": "afb72229-1f12-412e-bb6d-65e49f2acb5e",
   "metadata": {},
   "outputs": [
    {
     "name": "stdout",
     "output_type": "stream",
     "text": [
      "ratings\n"
     ]
    },
    {
     "data": {
      "text/html": [
       "<div>\n",
       "<style scoped>\n",
       "    .dataframe tbody tr th:only-of-type {\n",
       "        vertical-align: middle;\n",
       "    }\n",
       "\n",
       "    .dataframe tbody tr th {\n",
       "        vertical-align: top;\n",
       "    }\n",
       "\n",
       "    .dataframe thead th {\n",
       "        text-align: right;\n",
       "    }\n",
       "</style>\n",
       "<table border=\"1\" class=\"dataframe\">\n",
       "  <thead>\n",
       "    <tr style=\"text-align: right;\">\n",
       "      <th></th>\n",
       "      <th>user_id</th>\n",
       "      <th>item_id</th>\n",
       "      <th>rating</th>\n",
       "      <th>timestamp</th>\n",
       "    </tr>\n",
       "  </thead>\n",
       "  <tbody>\n",
       "    <tr>\n",
       "      <th>0</th>\n",
       "      <td>1</td>\n",
       "      <td>1193</td>\n",
       "      <td>5</td>\n",
       "      <td>978300760</td>\n",
       "    </tr>\n",
       "    <tr>\n",
       "      <th>1</th>\n",
       "      <td>1</td>\n",
       "      <td>661</td>\n",
       "      <td>3</td>\n",
       "      <td>978302109</td>\n",
       "    </tr>\n",
       "    <tr>\n",
       "      <th>2</th>\n",
       "      <td>1</td>\n",
       "      <td>914</td>\n",
       "      <td>3</td>\n",
       "      <td>978301968</td>\n",
       "    </tr>\n",
       "  </tbody>\n",
       "</table>\n",
       "</div>"
      ],
      "text/plain": [
       "   user_id  item_id  rating  timestamp\n",
       "0        1     1193       5  978300760\n",
       "1        1      661       3  978302109\n",
       "2        1      914       3  978301968"
      ]
     },
     "metadata": {},
     "output_type": "display_data"
    },
    {
     "name": "stdout",
     "output_type": "stream",
     "text": [
      "\n",
      "users\n"
     ]
    },
    {
     "data": {
      "text/html": [
       "<div>\n",
       "<style scoped>\n",
       "    .dataframe tbody tr th:only-of-type {\n",
       "        vertical-align: middle;\n",
       "    }\n",
       "\n",
       "    .dataframe tbody tr th {\n",
       "        vertical-align: top;\n",
       "    }\n",
       "\n",
       "    .dataframe thead th {\n",
       "        text-align: right;\n",
       "    }\n",
       "</style>\n",
       "<table border=\"1\" class=\"dataframe\">\n",
       "  <thead>\n",
       "    <tr style=\"text-align: right;\">\n",
       "      <th></th>\n",
       "      <th>user_id</th>\n",
       "      <th>gender</th>\n",
       "      <th>age</th>\n",
       "      <th>occupation</th>\n",
       "      <th>zip_code</th>\n",
       "    </tr>\n",
       "  </thead>\n",
       "  <tbody>\n",
       "    <tr>\n",
       "      <th>0</th>\n",
       "      <td>1</td>\n",
       "      <td>F</td>\n",
       "      <td>1</td>\n",
       "      <td>10</td>\n",
       "      <td>48067</td>\n",
       "    </tr>\n",
       "    <tr>\n",
       "      <th>1</th>\n",
       "      <td>2</td>\n",
       "      <td>M</td>\n",
       "      <td>56</td>\n",
       "      <td>16</td>\n",
       "      <td>70072</td>\n",
       "    </tr>\n",
       "    <tr>\n",
       "      <th>2</th>\n",
       "      <td>3</td>\n",
       "      <td>M</td>\n",
       "      <td>25</td>\n",
       "      <td>15</td>\n",
       "      <td>55117</td>\n",
       "    </tr>\n",
       "  </tbody>\n",
       "</table>\n",
       "</div>"
      ],
      "text/plain": [
       "   user_id gender  age  occupation zip_code\n",
       "0        1      F    1          10    48067\n",
       "1        2      M   56          16    70072\n",
       "2        3      M   25          15    55117"
      ]
     },
     "metadata": {},
     "output_type": "display_data"
    },
    {
     "name": "stdout",
     "output_type": "stream",
     "text": [
      "\n",
      "items\n"
     ]
    },
    {
     "data": {
      "text/html": [
       "<div>\n",
       "<style scoped>\n",
       "    .dataframe tbody tr th:only-of-type {\n",
       "        vertical-align: middle;\n",
       "    }\n",
       "\n",
       "    .dataframe tbody tr th {\n",
       "        vertical-align: top;\n",
       "    }\n",
       "\n",
       "    .dataframe thead th {\n",
       "        text-align: right;\n",
       "    }\n",
       "</style>\n",
       "<table border=\"1\" class=\"dataframe\">\n",
       "  <thead>\n",
       "    <tr style=\"text-align: right;\">\n",
       "      <th></th>\n",
       "      <th>item_id</th>\n",
       "      <th>title</th>\n",
       "      <th>genres</th>\n",
       "    </tr>\n",
       "  </thead>\n",
       "  <tbody>\n",
       "    <tr>\n",
       "      <th>0</th>\n",
       "      <td>1</td>\n",
       "      <td>Toy Story (1995)</td>\n",
       "      <td>Animation|Children's|Comedy</td>\n",
       "    </tr>\n",
       "    <tr>\n",
       "      <th>1</th>\n",
       "      <td>2</td>\n",
       "      <td>Jumanji (1995)</td>\n",
       "      <td>Adventure|Children's|Fantasy</td>\n",
       "    </tr>\n",
       "    <tr>\n",
       "      <th>2</th>\n",
       "      <td>3</td>\n",
       "      <td>Grumpier Old Men (1995)</td>\n",
       "      <td>Comedy|Romance</td>\n",
       "    </tr>\n",
       "  </tbody>\n",
       "</table>\n",
       "</div>"
      ],
      "text/plain": [
       "   item_id                    title                        genres\n",
       "0        1         Toy Story (1995)   Animation|Children's|Comedy\n",
       "1        2           Jumanji (1995)  Adventure|Children's|Fantasy\n",
       "2        3  Grumpier Old Men (1995)                Comedy|Romance"
      ]
     },
     "metadata": {},
     "output_type": "display_data"
    },
    {
     "name": "stdout",
     "output_type": "stream",
     "text": [
      "\n"
     ]
    }
   ],
   "source": [
    "data = MovieLens(\"1m\")\n",
    "data.info()"
   ]
  },
  {
   "cell_type": "code",
   "execution_count": 11,
   "id": "799925a2-9b6d-485e-b373-a7118a32fbf7",
   "metadata": {},
   "outputs": [
    {
     "data": {
      "text/html": [
       "<div>\n",
       "<style scoped>\n",
       "    .dataframe tbody tr th:only-of-type {\n",
       "        vertical-align: middle;\n",
       "    }\n",
       "\n",
       "    .dataframe tbody tr th {\n",
       "        vertical-align: top;\n",
       "    }\n",
       "\n",
       "    .dataframe thead th {\n",
       "        text-align: right;\n",
       "    }\n",
       "</style>\n",
       "<table border=\"1\" class=\"dataframe\">\n",
       "  <thead>\n",
       "    <tr style=\"text-align: right;\">\n",
       "      <th></th>\n",
       "      <th>user_id</th>\n",
       "      <th>item_id</th>\n",
       "      <th>rating</th>\n",
       "      <th>timestamp</th>\n",
       "    </tr>\n",
       "  </thead>\n",
       "  <tbody>\n",
       "    <tr>\n",
       "      <th>0</th>\n",
       "      <td>1</td>\n",
       "      <td>1193</td>\n",
       "      <td>5</td>\n",
       "      <td>978300760</td>\n",
       "    </tr>\n",
       "    <tr>\n",
       "      <th>1</th>\n",
       "      <td>1</td>\n",
       "      <td>661</td>\n",
       "      <td>3</td>\n",
       "      <td>978302109</td>\n",
       "    </tr>\n",
       "    <tr>\n",
       "      <th>2</th>\n",
       "      <td>1</td>\n",
       "      <td>914</td>\n",
       "      <td>3</td>\n",
       "      <td>978301968</td>\n",
       "    </tr>\n",
       "    <tr>\n",
       "      <th>3</th>\n",
       "      <td>1</td>\n",
       "      <td>3408</td>\n",
       "      <td>4</td>\n",
       "      <td>978300275</td>\n",
       "    </tr>\n",
       "    <tr>\n",
       "      <th>4</th>\n",
       "      <td>1</td>\n",
       "      <td>2355</td>\n",
       "      <td>5</td>\n",
       "      <td>978824291</td>\n",
       "    </tr>\n",
       "    <tr>\n",
       "      <th>...</th>\n",
       "      <td>...</td>\n",
       "      <td>...</td>\n",
       "      <td>...</td>\n",
       "      <td>...</td>\n",
       "    </tr>\n",
       "    <tr>\n",
       "      <th>1000204</th>\n",
       "      <td>6040</td>\n",
       "      <td>1091</td>\n",
       "      <td>1</td>\n",
       "      <td>956716541</td>\n",
       "    </tr>\n",
       "    <tr>\n",
       "      <th>1000205</th>\n",
       "      <td>6040</td>\n",
       "      <td>1094</td>\n",
       "      <td>5</td>\n",
       "      <td>956704887</td>\n",
       "    </tr>\n",
       "    <tr>\n",
       "      <th>1000206</th>\n",
       "      <td>6040</td>\n",
       "      <td>562</td>\n",
       "      <td>5</td>\n",
       "      <td>956704746</td>\n",
       "    </tr>\n",
       "    <tr>\n",
       "      <th>1000207</th>\n",
       "      <td>6040</td>\n",
       "      <td>1096</td>\n",
       "      <td>4</td>\n",
       "      <td>956715648</td>\n",
       "    </tr>\n",
       "    <tr>\n",
       "      <th>1000208</th>\n",
       "      <td>6040</td>\n",
       "      <td>1097</td>\n",
       "      <td>4</td>\n",
       "      <td>956715569</td>\n",
       "    </tr>\n",
       "  </tbody>\n",
       "</table>\n",
       "<p>1000209 rows × 4 columns</p>\n",
       "</div>"
      ],
      "text/plain": [
       "         user_id  item_id  rating  timestamp\n",
       "0              1     1193       5  978300760\n",
       "1              1      661       3  978302109\n",
       "2              1      914       3  978301968\n",
       "3              1     3408       4  978300275\n",
       "4              1     2355       5  978824291\n",
       "...          ...      ...     ...        ...\n",
       "1000204     6040     1091       1  956716541\n",
       "1000205     6040     1094       5  956704887\n",
       "1000206     6040      562       5  956704746\n",
       "1000207     6040     1096       4  956715648\n",
       "1000208     6040     1097       4  956715569\n",
       "\n",
       "[1000209 rows x 4 columns]"
      ]
     },
     "execution_count": 11,
     "metadata": {},
     "output_type": "execute_result"
    }
   ],
   "source": [
    "data.ratings"
   ]
  },
  {
   "cell_type": "code",
   "execution_count": 12,
   "id": "367862be-9ccd-4ae9-847b-6cd0ce4b82df",
   "metadata": {},
   "outputs": [],
   "source": [
    "preparator = DataPreparator()"
   ]
  },
  {
   "cell_type": "code",
   "execution_count": 13,
   "id": "ba5deeec-7890-4273-b77f-2733c2c1c1b0",
   "metadata": {},
   "outputs": [
    {
     "name": "stderr",
     "output_type": "stream",
     "text": [
      "15-Dec-23 18:33:09, replay, INFO: Columns with ids of users or items are present in mapping. The dataframe will be treated as an interactions log.\n"
     ]
    },
    {
     "name": "stdout",
     "output_type": "stream",
     "text": [
      "CPU times: user 42.8 ms, sys: 5.76 ms, total: 48.6 ms\n",
      "Wall time: 3.86 s\n"
     ]
    }
   ],
   "source": [
    "%%time\n",
    "log = preparator.transform(columns_mapping={'user_id': 'user_id',\n",
    "                                      'item_id': 'item_id',\n",
    "                                      'relevance': 'rating',\n",
    "                                      'timestamp': 'timestamp'\n",
    "                                     }, \n",
    "                           data=data.ratings)"
   ]
  },
  {
   "cell_type": "code",
   "execution_count": 14,
   "id": "b1f43241-03d3-44b6-9208-c9e40523d91f",
   "metadata": {},
   "outputs": [
    {
     "data": {
      "text/plain": [
       "836478"
      ]
     },
     "execution_count": 14,
     "metadata": {},
     "output_type": "execute_result"
    }
   ],
   "source": [
    "# will consider ratings >= 3 as positive feedback. A positive feedback is treated with relevance = 1\n",
    "only_positives_log = log.filter(sf.col('relevance') >= 3).withColumn('relevance', sf.lit(1))\n",
    "only_positives_log.count()"
   ]
  },
  {
   "cell_type": "markdown",
   "id": "3007ddfc-1b7b-45d6-b550-dc628b24d176",
   "metadata": {},
   "source": [
    "### Indexing "
   ]
  },
  {
   "cell_type": "code",
   "execution_count": 15,
   "id": "102618c4-c2d1-4083-aef4-3329abeb798a",
   "metadata": {},
   "outputs": [],
   "source": [
    "indexer = Indexer(user_col='user_id', item_col='item_id')"
   ]
  },
  {
   "cell_type": "code",
   "execution_count": 16,
   "id": "35619648-b44b-4b53-8809-0cc20e1ee7f9",
   "metadata": {},
   "outputs": [
    {
     "name": "stderr",
     "output_type": "stream",
     "text": [
      "                                                                                \r"
     ]
    },
    {
     "name": "stdout",
     "output_type": "stream",
     "text": [
      "CPU times: user 57.1 ms, sys: 10.2 ms, total: 67.2 ms\n",
      "Wall time: 1.86 s\n"
     ]
    }
   ],
   "source": [
    "%%time\n",
    "indexer.fit(users=log.select('user_id'),\n",
    "           items=log.select('item_id'))"
   ]
  },
  {
   "cell_type": "code",
   "execution_count": 17,
   "id": "1a040889-0bff-476d-af92-3af77b323cc0",
   "metadata": {},
   "outputs": [
    {
     "name": "stdout",
     "output_type": "stream",
     "text": [
      "+--------+--------+---------+-------------------+\n",
      "|user_idx|item_idx|relevance|          timestamp|\n",
      "+--------+--------+---------+-------------------+\n",
      "|    4131|      43|        1|2001-01-01 01:12:40|\n",
      "|    4131|     585|        1|2001-01-01 01:35:09|\n",
      "+--------+--------+---------+-------------------+\n",
      "only showing top 2 rows\n",
      "\n",
      "CPU times: user 68.5 ms, sys: 13.2 ms, total: 81.7 ms\n",
      "Wall time: 1.86 s\n"
     ]
    },
    {
     "data": {
      "text/plain": [
       "836478"
      ]
     },
     "execution_count": 17,
     "metadata": {},
     "output_type": "execute_result"
    }
   ],
   "source": [
    "%%time\n",
    "log_replay = indexer.transform(df=only_positives_log)\n",
    "log_replay.show(2)\n",
    "log_replay.count()"
   ]
  },
  {
   "cell_type": "markdown",
   "id": "9a8d487f-8a46-4470-9006-01c24ffc7b87",
   "metadata": {},
   "source": [
    "### Data split"
   ]
  },
  {
   "cell_type": "code",
   "execution_count": 18,
   "id": "90514332-4396-4b0f-a497-e28b679a9e31",
   "metadata": {},
   "outputs": [
    {
     "name": "stderr",
     "output_type": "stream",
     "text": [
      "                                                                                \r"
     ]
    },
    {
     "name": "stdout",
     "output_type": "stream",
     "text": [
      "train info:\n",
      " total lines: 669181, total users: 5397, total items: 3569\n"
     ]
    },
    {
     "name": "stderr",
     "output_type": "stream",
     "text": [
      "                                                                                \r"
     ]
    },
    {
     "name": "stdout",
     "output_type": "stream",
     "text": [
      "test info:\n",
      " total lines: 86542, total users: 1139, total items: 3279\n"
     ]
    }
   ],
   "source": [
    "# train/test split \n",
    "train_spl = TimeSplitter(\n",
    "    time_threshold=0.2,\n",
    "    drop_cold_items=True,\n",
    "    drop_cold_users=True,\n",
    "    query_column=\"user_idx\",\n",
    "    item_column=\"item_idx\",\n",
    ")\n",
    "\n",
    "train, test = train_spl.split(log_replay)\n",
    "print('train info:\\n', get_log_info(train))\n",
    "print('test info:\\n', get_log_info(test))"
   ]
  },
  {
   "cell_type": "code",
   "execution_count": 19,
   "id": "bbef1ae0-df6f-42e8-8679-63ef36458dd6",
   "metadata": {},
   "outputs": [
    {
     "data": {
      "text/plain": [
       "False"
      ]
     },
     "execution_count": 19,
     "metadata": {},
     "output_type": "execute_result"
    }
   ],
   "source": [
    "train.is_cached"
   ]
  },
  {
   "cell_type": "code",
   "execution_count": 20,
   "id": "843be418-7120-41d8-85a4-c4587872224f",
   "metadata": {},
   "outputs": [
    {
     "name": "stderr",
     "output_type": "stream",
     "text": [
      "                                                                                \r"
     ]
    },
    {
     "data": {
      "text/plain": [
       "(535343, 24241)"
      ]
     },
     "execution_count": 20,
     "metadata": {},
     "output_type": "execute_result"
    }
   ],
   "source": [
    "# train/test split for hyperparameters selection\n",
    "opt_train, opt_val = train_spl.split(train)\n",
    "opt_train.count(), opt_val.count()"
   ]
  },
  {
   "cell_type": "code",
   "execution_count": 21,
   "id": "86661982-34f3-4c5a-bf4c-a543837f4d40",
   "metadata": {},
   "outputs": [
    {
     "data": {
      "text/plain": [
       "False"
      ]
     },
     "execution_count": 21,
     "metadata": {},
     "output_type": "execute_result"
    }
   ],
   "source": [
    "opt_train.is_cached"
   ]
  },
  {
   "cell_type": "code",
   "execution_count": 22,
   "id": "4502490b-59cb-4896-8b0f-e8985c6ad32c",
   "metadata": {},
   "outputs": [
    {
     "name": "stderr",
     "output_type": "stream",
     "text": [
      "                                                                                \r"
     ]
    },
    {
     "data": {
      "text/plain": [
       "798993"
      ]
     },
     "execution_count": 22,
     "metadata": {},
     "output_type": "execute_result"
    }
   ],
   "source": [
    "# negative feedback will be used for Wilson and UCB models\n",
    "only_negatives_log = indexer.transform(df=log.filter(sf.col('relevance') < 3).withColumn('relevance', sf.lit(0.)))\n",
    "test_start = test.agg(sf.min('timestamp')).collect()[0][0]\n",
    "\n",
    "# train with both positive and negative feedback\n",
    "pos_neg_train=(train\n",
    "              .withColumn('relevance', sf.lit(1.))\n",
    "              .union(only_negatives_log.filter(sf.col('timestamp') < test_start))\n",
    "             )\n",
    "pos_neg_train.cache()\n",
    "pos_neg_train.count()"
   ]
  },
  {
   "cell_type": "code",
   "execution_count": 23,
   "id": "914f8905-b6e3-411e-b468-2932e8af97db",
   "metadata": {},
   "outputs": [
    {
     "data": {
      "text/plain": [
       "True"
      ]
     },
     "execution_count": 23,
     "metadata": {},
     "output_type": "execute_result"
    }
   ],
   "source": [
    "pos_neg_train.is_cached"
   ]
  },
  {
   "cell_type": "code",
   "execution_count": 24,
   "id": "c8ec5c4d-4302-49e6-8a97-0607a677cf13",
   "metadata": {},
   "outputs": [
    {
     "name": "stdout",
     "output_type": "stream",
     "text": [
      "+---------+------+\n",
      "|relevance| count|\n",
      "+---------+------+\n",
      "|      1.0|669181|\n",
      "|      0.0|129812|\n",
      "+---------+------+\n",
      "\n"
     ]
    }
   ],
   "source": [
    "pos_neg_train.groupBy('relevance').count().show()"
   ]
  },
  {
   "cell_type": "markdown",
   "id": "e0d0faa9-35bf-4f39-baac-ed6ce1975e59",
   "metadata": {},
   "source": [
    "### Item features "
   ]
  },
  {
   "cell_type": "code",
   "execution_count": 25,
   "id": "8a2bb8e3-838c-462d-8837-605beab5576d",
   "metadata": {},
   "outputs": [
    {
     "name": "stderr",
     "output_type": "stream",
     "text": [
      "15-Dec-23 18:33:37, replay, INFO: Column with ids of users or items is absent in mapping. The dataframe will be treated as a users'/items' features dataframe.\n"
     ]
    },
    {
     "name": "stdout",
     "output_type": "stream",
     "text": [
      "+--------+----------------+--------------------+\n",
      "|item_idx|           title|              genres|\n",
      "+--------+----------------+--------------------+\n",
      "|      29|Toy Story (1995)|Animation|Childre...|\n",
      "|     393|  Jumanji (1995)|Adventure|Childre...|\n",
      "+--------+----------------+--------------------+\n",
      "only showing top 2 rows\n",
      "\n",
      "+-------------+\n",
      "|max(item_idx)|\n",
      "+-------------+\n",
      "|         3882|\n",
      "+-------------+\n",
      "\n",
      "+-------------+\n",
      "|min(item_idx)|\n",
      "+-------------+\n",
      "|            0|\n",
      "+-------------+\n",
      "\n"
     ]
    },
    {
     "data": {
      "text/plain": [
       "3883"
      ]
     },
     "execution_count": 25,
     "metadata": {},
     "output_type": "execute_result"
    }
   ],
   "source": [
    "item_features_original = preparator.transform(columns_mapping={'item_id': 'item_id'}, \n",
    "                           data=data.items)\n",
    "item_features = indexer.transform(df=item_features_original)\n",
    "item_features.show(2)\n",
    "#different item features\n",
    "\n",
    "from pyspark.sql.functions import max,min\n",
    "item_features.select(max(item_features.item_idx)).show()\n",
    "item_features.select(min(item_features.item_idx)).show()\n",
    "#just to check that the indexing is dense between 0 and 3882\n",
    "item_features.count()"
   ]
  },
  {
   "cell_type": "code",
   "execution_count": 26,
   "id": "ef866ef5-5a58-435f-bd1a-98b1a84f791c",
   "metadata": {},
   "outputs": [
    {
     "name": "stdout",
     "output_type": "stream",
     "text": [
      "+--------+----+\n",
      "|item_idx|year|\n",
      "+--------+----+\n",
      "|      29|1995|\n",
      "|     393|1995|\n",
      "+--------+----+\n",
      "only showing top 2 rows\n",
      "\n"
     ]
    }
   ],
   "source": [
    "year = item_features.withColumn('year', sf.substring(sf.col('title'), -5, 4).astype(st.IntegerType())).select('item_idx', 'year')\n",
    "year.show(2)"
   ]
  },
  {
   "cell_type": "code",
   "execution_count": 27,
   "id": "584986c0-ca89-4340-9cb2-c925d2e8b69d",
   "metadata": {},
   "outputs": [],
   "source": [
    "genres = (\n",
    "    item_features.select(\n",
    "        \"item_idx\",\n",
    "        sf.split(\"genres\", \"\\|\").alias(\"genres\")\n",
    "    )\n",
    ")"
   ]
  },
  {
   "cell_type": "code",
   "execution_count": 28,
   "id": "90f241fb-18e9-4824-b681-944bfb9d3173",
   "metadata": {},
   "outputs": [],
   "source": [
    "genres_list = (\n",
    "    genres.select(sf.explode(\"genres\").alias(\"genre\"))\n",
    "    .distinct().filter('genre <> \"(no genres listed)\"')\n",
    "    .toPandas()[\"genre\"].tolist()\n",
    ")"
   ]
  },
  {
   "cell_type": "code",
   "execution_count": 29,
   "id": "cc361d69-2b2f-4e27-b477-a935b9695b31",
   "metadata": {},
   "outputs": [],
   "source": [
    "item_features = genres\n",
    "for genre in genres_list:\n",
    "    item_features = item_features.withColumn(\n",
    "        genre,\n",
    "        sf.array_contains(sf.col(\"genres\"), genre).astype(IntegerType())\n",
    "    )\n",
    "item_features = item_features.drop(\"genres\").cache()\n",
    "item_features.count()\n",
    "item_features = item_features.join(year, on='item_idx', how='inner')"
   ]
  },
  {
   "cell_type": "code",
   "execution_count": 30,
   "id": "67b0e545-a8d1-4a53-8e08-122bd2dd2623",
   "metadata": {},
   "outputs": [],
   "source": [
    "item_features = item_features.withColumnRenamed(\"Children's\",\"Children\")\n",
    "item_features = item_features.toPandas()"
   ]
  },
  {
   "cell_type": "code",
   "execution_count": 31,
   "id": "659878de-012b-4ea0-89ce-84514dcf5bac",
   "metadata": {},
   "outputs": [
    {
     "data": {
      "text/plain": [
       "Index(['item_idx', 'Crime', 'Sci-Fi', 'Musical', 'Mystery', 'Documentary',\n",
       "       'Fantasy', 'Children', 'Drama', 'Horror', 'Adventure', 'Western',\n",
       "       'Romance', 'War', 'Animation', 'Action', 'Comedy', 'Thriller',\n",
       "       'Film-Noir', 'year'],\n",
       "      dtype='object')"
      ]
     },
     "execution_count": 31,
     "metadata": {},
     "output_type": "execute_result"
    }
   ],
   "source": [
    "item_features.columns"
   ]
  },
  {
   "cell_type": "markdown",
   "id": "a4eddc96-9055-4ac1-8c54-47b19239973a",
   "metadata": {},
   "source": [
    "### Users features"
   ]
  },
  {
   "cell_type": "code",
   "execution_count": 32,
   "id": "b7a2fddb-3f5d-49c1-8e15-e7d158678739",
   "metadata": {},
   "outputs": [
    {
     "data": {
      "text/html": [
       "<div>\n",
       "<style scoped>\n",
       "    .dataframe tbody tr th:only-of-type {\n",
       "        vertical-align: middle;\n",
       "    }\n",
       "\n",
       "    .dataframe tbody tr th {\n",
       "        vertical-align: top;\n",
       "    }\n",
       "\n",
       "    .dataframe thead th {\n",
       "        text-align: right;\n",
       "    }\n",
       "</style>\n",
       "<table border=\"1\" class=\"dataframe\">\n",
       "  <thead>\n",
       "    <tr style=\"text-align: right;\">\n",
       "      <th></th>\n",
       "      <th>user_id</th>\n",
       "      <th>gender</th>\n",
       "      <th>age</th>\n",
       "      <th>occupation</th>\n",
       "      <th>zip_code</th>\n",
       "    </tr>\n",
       "  </thead>\n",
       "  <tbody>\n",
       "    <tr>\n",
       "      <th>0</th>\n",
       "      <td>1</td>\n",
       "      <td>F</td>\n",
       "      <td>1</td>\n",
       "      <td>10</td>\n",
       "      <td>48067</td>\n",
       "    </tr>\n",
       "    <tr>\n",
       "      <th>1</th>\n",
       "      <td>2</td>\n",
       "      <td>M</td>\n",
       "      <td>56</td>\n",
       "      <td>16</td>\n",
       "      <td>70072</td>\n",
       "    </tr>\n",
       "    <tr>\n",
       "      <th>2</th>\n",
       "      <td>3</td>\n",
       "      <td>M</td>\n",
       "      <td>25</td>\n",
       "      <td>15</td>\n",
       "      <td>55117</td>\n",
       "    </tr>\n",
       "    <tr>\n",
       "      <th>3</th>\n",
       "      <td>4</td>\n",
       "      <td>M</td>\n",
       "      <td>45</td>\n",
       "      <td>7</td>\n",
       "      <td>02460</td>\n",
       "    </tr>\n",
       "    <tr>\n",
       "      <th>4</th>\n",
       "      <td>5</td>\n",
       "      <td>M</td>\n",
       "      <td>25</td>\n",
       "      <td>20</td>\n",
       "      <td>55455</td>\n",
       "    </tr>\n",
       "  </tbody>\n",
       "</table>\n",
       "</div>"
      ],
      "text/plain": [
       "   user_id gender  age  occupation zip_code\n",
       "0        1      F    1          10    48067\n",
       "1        2      M   56          16    70072\n",
       "2        3      M   25          15    55117\n",
       "3        4      M   45           7    02460\n",
       "4        5      M   25          20    55455"
      ]
     },
     "execution_count": 32,
     "metadata": {},
     "output_type": "execute_result"
    }
   ],
   "source": [
    "data.users.head()"
   ]
  },
  {
   "cell_type": "code",
   "execution_count": 33,
   "id": "df210a6e-78ef-42d2-81ca-72edee25a4e3",
   "metadata": {},
   "outputs": [
    {
     "name": "stderr",
     "output_type": "stream",
     "text": [
      "15-Dec-23 18:33:40, replay, INFO: Column with ids of users or items is absent in mapping. The dataframe will be treated as a users'/items' features dataframe.\n"
     ]
    },
    {
     "data": {
      "text/html": [
       "<div>\n",
       "<style scoped>\n",
       "    .dataframe tbody tr th:only-of-type {\n",
       "        vertical-align: middle;\n",
       "    }\n",
       "\n",
       "    .dataframe tbody tr th {\n",
       "        vertical-align: top;\n",
       "    }\n",
       "\n",
       "    .dataframe thead th {\n",
       "        text-align: right;\n",
       "    }\n",
       "</style>\n",
       "<table border=\"1\" class=\"dataframe\">\n",
       "  <thead>\n",
       "    <tr style=\"text-align: right;\">\n",
       "      <th></th>\n",
       "      <th>user_idx</th>\n",
       "      <th>gender</th>\n",
       "      <th>age</th>\n",
       "      <th>occupation</th>\n",
       "      <th>zip_code</th>\n",
       "    </tr>\n",
       "  </thead>\n",
       "  <tbody>\n",
       "    <tr>\n",
       "      <th>0</th>\n",
       "      <td>4131</td>\n",
       "      <td>F</td>\n",
       "      <td>1</td>\n",
       "      <td>10</td>\n",
       "      <td>48067</td>\n",
       "    </tr>\n",
       "    <tr>\n",
       "      <th>1</th>\n",
       "      <td>2364</td>\n",
       "      <td>M</td>\n",
       "      <td>56</td>\n",
       "      <td>16</td>\n",
       "      <td>70072</td>\n",
       "    </tr>\n",
       "  </tbody>\n",
       "</table>\n",
       "</div>"
      ],
      "text/plain": [
       "   user_idx gender  age  occupation zip_code\n",
       "0      4131      F    1          10    48067\n",
       "1      2364      M   56          16    70072"
      ]
     },
     "execution_count": 33,
     "metadata": {},
     "output_type": "execute_result"
    }
   ],
   "source": [
    "#same preprocessing for users as was done in 2.4.1.\n",
    "user_features_original = preparator.transform(columns_mapping={'user_id': 'user_id'}, \n",
    "                           data=data.users)\n",
    "user_features = indexer.transform(df=user_features_original)\n",
    "#switch for a while into pandas\n",
    "user_features = user_features.toPandas()\n",
    "user_features.head(2)"
   ]
  },
  {
   "cell_type": "code",
   "execution_count": 34,
   "id": "e90b8cd9-9f70-4bf4-8466-f833c62c28c6",
   "metadata": {},
   "outputs": [],
   "source": [
    "from pyspark.sql.functions import mean, stddev\n",
    "user_train_mean = pos_neg_train.groupBy('user_idx').mean('relevance').withColumnRenamed('avg(relevance)','user_mean_rel').toPandas()\n",
    "user_train_count = pos_neg_train.groupBy('user_idx').count().withColumnRenamed('count','user_count_rel').toPandas()\n",
    "user_train_std = pos_neg_train.groupBy('user_idx').agg({'relevance': 'stddev'}).withColumnRenamed('stddev(relevance)','user_std_rel').toPandas()\n",
    "user_train_median = pd.DataFrame(pos_neg_train.toPandas().groupby('user_idx', as_index = False)['relevance'].agg('median')).rename(columns={'relevance': 'user_median_rel'})\n",
    "user_train_kurt = pd.DataFrame(pos_neg_train.toPandas().groupby('user_idx', as_index = False)['relevance'].apply(pd.DataFrame.kurt)).rename(columns={'relevance': 'user_kurt_rel'})\n",
    "user_train_skew = pd.DataFrame(pos_neg_train.toPandas().groupby('user_idx', as_index = False)['relevance'].apply(pd.DataFrame.skew)).rename(columns={'relevance': 'user_skew_rel'})\n",
    "\n",
    "item_train_mean = pos_neg_train.groupBy('item_idx').mean('relevance').withColumnRenamed('avg(relevance)','item_mean_rel').toPandas()\n",
    "item_train_count = pos_neg_train.groupBy('item_idx').count().withColumnRenamed('count','item_count_rel').toPandas()\n",
    "item_train_std = pos_neg_train.groupBy('item_idx').agg({'relevance': 'stddev'}).withColumnRenamed('stddev(relevance)','item_std_rel').toPandas()\n",
    "item_train_median = pd.DataFrame(pos_neg_train.toPandas().groupby('item_idx', as_index = False)['relevance'].agg('median')).rename(columns={'relevance': 'item_median_rel'})\n",
    "item_train_kurt = pd.DataFrame(pos_neg_train.toPandas().groupby('item_idx', as_index = False)['relevance'].apply(pd.DataFrame.kurt)).rename(columns={'relevance': 'item_kurt_rel'})\n",
    "item_train_skew = pd.DataFrame(pos_neg_train.toPandas().groupby('item_idx', as_index = False)['relevance'].apply(pd.DataFrame.skew)).rename(columns={'relevance': 'item_skew_rel'})\n",
    "\n",
    "full_mean = pos_neg_train.select(mean('relevance')).toPandas().values.squeeze()\n",
    "full_count = 0\n",
    "full_std = pos_neg_train.agg({'relevance': 'stddev'}).toPandas().values.squeeze()\n",
    "full_median = pos_neg_train.toPandas()['relevance'].median().squeeze()\n",
    "full_kurt = pos_neg_train.toPandas()['relevance'].kurt().squeeze()\n",
    "full_skew = pos_neg_train.toPandas()['relevance'].skew().squeeze()"
   ]
  },
  {
   "cell_type": "code",
   "execution_count": 35,
   "id": "422cedfe-76d7-4064-a713-6514d4b5deaf",
   "metadata": {},
   "outputs": [],
   "source": [
    "user_train_sum = pos_neg_train.groupBy('user_idx').sum('relevance').withColumnRenamed('sum(relevance)','user_sum_rel').toPandas()\n",
    "item_train_sum = pos_neg_train.groupBy('item_idx').sum('relevance').withColumnRenamed('sum(relevance)','item_sum_rel').toPandas()"
   ]
  },
  {
   "cell_type": "code",
   "execution_count": 36,
   "id": "aa549b76-ab84-4eb0-8e90-da49717868e5",
   "metadata": {},
   "outputs": [
    {
     "data": {
      "text/html": [
       "<div>\n",
       "<style scoped>\n",
       "    .dataframe tbody tr th:only-of-type {\n",
       "        vertical-align: middle;\n",
       "    }\n",
       "\n",
       "    .dataframe tbody tr th {\n",
       "        vertical-align: top;\n",
       "    }\n",
       "\n",
       "    .dataframe thead th {\n",
       "        text-align: right;\n",
       "    }\n",
       "</style>\n",
       "<table border=\"1\" class=\"dataframe\">\n",
       "  <thead>\n",
       "    <tr style=\"text-align: right;\">\n",
       "      <th></th>\n",
       "      <th>item_idx</th>\n",
       "      <th>item_sum_rel</th>\n",
       "    </tr>\n",
       "  </thead>\n",
       "  <tbody>\n",
       "    <tr>\n",
       "      <th>0</th>\n",
       "      <td>546</td>\n",
       "      <td>449.0</td>\n",
       "    </tr>\n",
       "    <tr>\n",
       "      <th>1</th>\n",
       "      <td>857</td>\n",
       "      <td>305.0</td>\n",
       "    </tr>\n",
       "    <tr>\n",
       "      <th>2</th>\n",
       "      <td>660</td>\n",
       "      <td>349.0</td>\n",
       "    </tr>\n",
       "    <tr>\n",
       "      <th>3</th>\n",
       "      <td>783</td>\n",
       "      <td>312.0</td>\n",
       "    </tr>\n",
       "    <tr>\n",
       "      <th>4</th>\n",
       "      <td>619</td>\n",
       "      <td>189.0</td>\n",
       "    </tr>\n",
       "    <tr>\n",
       "      <th>5</th>\n",
       "      <td>46</td>\n",
       "      <td>1312.0</td>\n",
       "    </tr>\n",
       "    <tr>\n",
       "      <th>6</th>\n",
       "      <td>1101</td>\n",
       "      <td>125.0</td>\n",
       "    </tr>\n",
       "    <tr>\n",
       "      <th>7</th>\n",
       "      <td>2926</td>\n",
       "      <td>14.0</td>\n",
       "    </tr>\n",
       "    <tr>\n",
       "      <th>8</th>\n",
       "      <td>14</td>\n",
       "      <td>1968.0</td>\n",
       "    </tr>\n",
       "    <tr>\n",
       "      <th>9</th>\n",
       "      <td>2414</td>\n",
       "      <td>41.0</td>\n",
       "    </tr>\n",
       "  </tbody>\n",
       "</table>\n",
       "</div>"
      ],
      "text/plain": [
       "   item_idx  item_sum_rel\n",
       "0       546         449.0\n",
       "1       857         305.0\n",
       "2       660         349.0\n",
       "3       783         312.0\n",
       "4       619         189.0\n",
       "5        46        1312.0\n",
       "6      1101         125.0\n",
       "7      2926          14.0\n",
       "8        14        1968.0\n",
       "9      2414          41.0"
      ]
     },
     "execution_count": 36,
     "metadata": {},
     "output_type": "execute_result"
    }
   ],
   "source": [
    "item_train_sum.head(10)"
   ]
  },
  {
   "cell_type": "code",
   "execution_count": 37,
   "id": "8b7f3532-4404-4b20-ab55-3a9bb54443be",
   "metadata": {},
   "outputs": [],
   "source": [
    "user_all_true = pd.DataFrame({'user_idx': user_train_sum['user_idx'].values , \n",
    "                              'user_all_true': (user_train_sum['user_sum_rel'] == user_train_count['user_count_rel'].values).astype(int)})\n",
    "item_all_true = pd.DataFrame({'item_idx': item_train_sum['item_idx'].values , \n",
    "                              'item_all_true': (item_train_sum['item_sum_rel'] == item_train_count['item_count_rel'].values).astype(int)})"
   ]
  },
  {
   "cell_type": "code",
   "execution_count": 38,
   "id": "fae08c53-1ce3-4675-b2ab-86e91b437512",
   "metadata": {},
   "outputs": [],
   "source": [
    "pop_item = pd.DataFrame({'item_idx': item_train_mean['item_idx'].values , \n",
    "                              'item_is_pop': (item_train_mean['item_mean_rel'] > 0.9).astype(int)})"
   ]
  },
  {
   "cell_type": "code",
   "execution_count": 39,
   "id": "a8cf10e7-6897-4ce0-9c9b-1426c4e746e1",
   "metadata": {},
   "outputs": [
    {
     "name": "stdout",
     "output_type": "stream",
     "text": [
      "max ocupation index:  20\n",
      "min ocupation index:  0\n",
      "different zip codes:  3439\n"
     ]
    },
    {
     "data": {
      "text/html": [
       "<div>\n",
       "<style scoped>\n",
       "    .dataframe tbody tr th:only-of-type {\n",
       "        vertical-align: middle;\n",
       "    }\n",
       "\n",
       "    .dataframe tbody tr th {\n",
       "        vertical-align: top;\n",
       "    }\n",
       "\n",
       "    .dataframe thead th {\n",
       "        text-align: right;\n",
       "    }\n",
       "</style>\n",
       "<table border=\"1\" class=\"dataframe\">\n",
       "  <thead>\n",
       "    <tr style=\"text-align: right;\">\n",
       "      <th></th>\n",
       "      <th>user_idx</th>\n",
       "      <th>gender</th>\n",
       "      <th>age</th>\n",
       "      <th>occupation</th>\n",
       "      <th>zip_code</th>\n",
       "      <th>agegroup</th>\n",
       "      <th>gender_occupation</th>\n",
       "    </tr>\n",
       "  </thead>\n",
       "  <tbody>\n",
       "    <tr>\n",
       "      <th>0</th>\n",
       "      <td>4131</td>\n",
       "      <td>F</td>\n",
       "      <td>1</td>\n",
       "      <td>10</td>\n",
       "      <td>4</td>\n",
       "      <td>&lt;20</td>\n",
       "      <td>F_10</td>\n",
       "    </tr>\n",
       "    <tr>\n",
       "      <th>1</th>\n",
       "      <td>2364</td>\n",
       "      <td>M</td>\n",
       "      <td>56</td>\n",
       "      <td>16</td>\n",
       "      <td>7</td>\n",
       "      <td>51-60</td>\n",
       "      <td>M_16</td>\n",
       "    </tr>\n",
       "    <tr>\n",
       "      <th>2</th>\n",
       "      <td>4217</td>\n",
       "      <td>M</td>\n",
       "      <td>25</td>\n",
       "      <td>15</td>\n",
       "      <td>5</td>\n",
       "      <td>20-29</td>\n",
       "      <td>M_15</td>\n",
       "    </tr>\n",
       "    <tr>\n",
       "      <th>3</th>\n",
       "      <td>5916</td>\n",
       "      <td>M</td>\n",
       "      <td>45</td>\n",
       "      <td>7</td>\n",
       "      <td>0</td>\n",
       "      <td>40-49</td>\n",
       "      <td>M_7</td>\n",
       "    </tr>\n",
       "    <tr>\n",
       "      <th>4</th>\n",
       "      <td>1603</td>\n",
       "      <td>M</td>\n",
       "      <td>25</td>\n",
       "      <td>20</td>\n",
       "      <td>5</td>\n",
       "      <td>20-29</td>\n",
       "      <td>M_20</td>\n",
       "    </tr>\n",
       "  </tbody>\n",
       "</table>\n",
       "</div>"
      ],
      "text/plain": [
       "   user_idx gender  age  occupation zip_code agegroup gender_occupation\n",
       "0      4131      F    1          10        4      <20              F_10\n",
       "1      2364      M   56          16        7    51-60              M_16\n",
       "2      4217      M   25          15        5    20-29              M_15\n",
       "3      5916      M   45           7        0    40-49               M_7\n",
       "4      1603      M   25          20        5    20-29              M_20"
      ]
     },
     "execution_count": 39,
     "metadata": {},
     "output_type": "execute_result"
    }
   ],
   "source": [
    "from sklearn.preprocessing import OneHotEncoder\n",
    "print(\"max ocupation index: \", user_features['occupation'].max())\n",
    "print(\"min ocupation index: \", user_features['occupation'].min())\n",
    "count_diff_zips = user_features['zip_code'].unique().size\n",
    "print(\"different zip codes: \", count_diff_zips) \n",
    "users_pd = user_features\n",
    "users_pd['zip_code'] = users_pd['zip_code'].apply(lambda x: x[0])\n",
    "\n",
    "#binarize age variable\n",
    "bins = [0, 20, 30, 40, 50, 60, np.inf]\n",
    "names = ['<20', '20-29', '30-39','40-49', '51-60', '60+']\n",
    "\n",
    "users_pd['agegroup'] = pd.cut(users_pd['age'], bins, labels=names)\n",
    "# users_pd = users_pd.drop([\"age\"], axis = 1)\n",
    "# users_pd.head()\n",
    "\n",
    "# #binarize following https://github.com/kfoofw/bandit_simulations/tree/master\n",
    "# columnsToEncode = [\"agegroup\",\"gender\",\"occupation\"]\n",
    "# myEncoder = OneHotEncoder(sparse=False, handle_unknown='ignore')\n",
    "# myEncoder.fit(users_pd[columnsToEncode])\n",
    "\n",
    "# users_pd = pd.concat([users_pd.drop(columnsToEncode, 1),\n",
    "#                            pd.DataFrame(myEncoder.transform(users_pd[columnsToEncode]), \n",
    "#                                         columns = myEncoder.get_feature_names_out(columnsToEncode))], axis=1).reindex()\n",
    "users_pd['gender_occupation'] = users_pd['gender'] + '_' + users_pd['occupation'].astype(str)\n",
    "users_pd.head()"
   ]
  },
  {
   "cell_type": "code",
   "execution_count": 40,
   "id": "b669a3c4-6be1-438f-8db4-8b85003e79f5",
   "metadata": {},
   "outputs": [],
   "source": [
    "#stats\n",
    "users_pd = users_pd.merge(user_train_mean, on='user_idx', how='left')\n",
    "users_pd['user_mean_rel'].fillna(full_mean, inplace = True)\n",
    "\n",
    "users_pd = users_pd.merge(user_train_count, on='user_idx', how='left')\n",
    "users_pd['user_count_rel'].fillna(full_count, inplace = True)\n",
    "\n",
    "users_pd = users_pd.merge(user_train_std, on='user_idx', how='left')\n",
    "users_pd['user_std_rel'].fillna(full_std, inplace = True)\n",
    "\n",
    "users_pd = users_pd.merge(user_train_median, on='user_idx', how='left')\n",
    "users_pd['user_median_rel'].fillna(full_median, inplace = True)\n",
    "\n",
    "users_pd = users_pd.merge(user_train_kurt, on='user_idx', how='left')\n",
    "users_pd['user_kurt_rel'].fillna(full_kurt, inplace = True)\n",
    "\n",
    "users_pd = users_pd.merge(user_train_skew, on='user_idx', how='left')\n",
    "users_pd['user_skew_rel'].fillna(full_skew, inplace = True)\n",
    "\n",
    "users_pd = users_pd.merge(user_all_true, on='user_idx', how='left')\n",
    "users_pd['user_all_true'].fillna(0, inplace = True)\n",
    "\n",
    "\n",
    "item_features = item_features.merge(item_train_mean, on='item_idx', how='left')\n",
    "item_features['item_mean_rel'].fillna(full_mean, inplace = True)\n",
    "\n",
    "item_features = item_features.merge(item_train_count, on='item_idx', how='left')\n",
    "item_features['item_count_rel'].fillna(full_count, inplace = True)\n",
    "\n",
    "item_features = item_features.merge(item_train_std, on='item_idx', how='left')\n",
    "item_features['item_std_rel'].fillna(full_std, inplace = True)\n",
    "\n",
    "item_features = item_features.merge(item_train_median, on='item_idx', how='left')\n",
    "item_features['item_median_rel'].fillna(full_median, inplace = True)\n",
    "\n",
    "item_features = item_features.merge(item_train_kurt, on='item_idx', how='left')\n",
    "item_features['item_kurt_rel'].fillna(full_kurt, inplace = True)\n",
    "\n",
    "item_features = item_features.merge(item_train_skew, on='item_idx', how='left')\n",
    "item_features['item_skew_rel'].fillna(full_skew, inplace = True)\n",
    "\n",
    "item_features = item_features.merge(item_all_true, on='item_idx', how='left')\n",
    "item_features['item_all_true'].fillna(0, inplace = True)\n",
    "\n",
    "item_features = item_features.merge(pop_item, on='item_idx', how='left')\n",
    "item_features['item_is_pop'].fillna(0, inplace = True)\n"
   ]
  },
  {
   "cell_type": "code",
   "execution_count": 41,
   "id": "7948ea64-1786-42f0-bc01-f0172d41fd63",
   "metadata": {},
   "outputs": [
    {
     "name": "stdout",
     "output_type": "stream",
     "text": [
      "root\n",
      " |-- user_idx: integer (nullable = true)\n",
      " |-- gender: string (nullable = true)\n",
      " |-- age: integer (nullable = true)\n",
      " |-- occupation: integer (nullable = true)\n",
      " |-- zip_code: string (nullable = true)\n",
      " |-- agegroup: string (nullable = true)\n",
      " |-- gender_occupation: string (nullable = true)\n",
      " |-- user_mean_rel: double (nullable = true)\n",
      " |-- user_count_rel: double (nullable = true)\n",
      " |-- user_std_rel: double (nullable = true)\n",
      " |-- user_median_rel: double (nullable = true)\n",
      " |-- user_kurt_rel: double (nullable = true)\n",
      " |-- user_skew_rel: double (nullable = true)\n",
      " |-- user_all_true: double (nullable = true)\n",
      "\n",
      "total users:  6040\n"
     ]
    }
   ],
   "source": [
    "#make it pyspark\n",
    "user_features = spark.createDataFrame(users_pd) \n",
    "user_features.cache()\n",
    "user_features.printSchema()\n",
    "print(\"total users: \",user_features.count())"
   ]
  },
  {
   "cell_type": "code",
   "execution_count": 42,
   "id": "005148e2-4bd9-4e4e-9bec-5622ca34be3a",
   "metadata": {},
   "outputs": [
    {
     "name": "stdout",
     "output_type": "stream",
     "text": [
      "root\n",
      " |-- item_idx: integer (nullable = true)\n",
      " |-- Crime: integer (nullable = true)\n",
      " |-- Sci-Fi: integer (nullable = true)\n",
      " |-- Musical: integer (nullable = true)\n",
      " |-- Mystery: integer (nullable = true)\n",
      " |-- Documentary: integer (nullable = true)\n",
      " |-- Fantasy: integer (nullable = true)\n",
      " |-- Children: integer (nullable = true)\n",
      " |-- Drama: integer (nullable = true)\n",
      " |-- Horror: integer (nullable = true)\n",
      " |-- Adventure: integer (nullable = true)\n",
      " |-- Western: integer (nullable = true)\n",
      " |-- Romance: integer (nullable = true)\n",
      " |-- War: integer (nullable = true)\n",
      " |-- Animation: integer (nullable = true)\n",
      " |-- Action: integer (nullable = true)\n",
      " |-- Comedy: integer (nullable = true)\n",
      " |-- Thriller: integer (nullable = true)\n",
      " |-- Film-Noir: integer (nullable = true)\n",
      " |-- year: integer (nullable = true)\n",
      " |-- item_mean_rel: double (nullable = true)\n",
      " |-- item_count_rel: double (nullable = true)\n",
      " |-- item_std_rel: double (nullable = true)\n",
      " |-- item_median_rel: double (nullable = true)\n",
      " |-- item_kurt_rel: double (nullable = true)\n",
      " |-- item_skew_rel: double (nullable = true)\n",
      " |-- item_all_true: double (nullable = true)\n",
      " |-- item_is_pop: double (nullable = true)\n",
      "\n",
      "total users:  3883\n"
     ]
    }
   ],
   "source": [
    "item_features = spark.createDataFrame(item_features) \n",
    "item_features.cache()\n",
    "item_features.printSchema()\n",
    "print(\"total users: \",item_features.count())"
   ]
  },
  {
   "cell_type": "code",
   "execution_count": 43,
   "id": "be6cf4d6-4ec2-40eb-a86d-4c82c7350069",
   "metadata": {},
   "outputs": [],
   "source": [
    "# item_features = indexer.transform(df=item_features)\n",
    "# user_features = indexer.transform(df=user_features)"
   ]
  },
  {
   "cell_type": "code",
   "execution_count": 44,
   "id": "3e45a708-0d64-4e1f-85e2-d2b91404cb9f",
   "metadata": {},
   "outputs": [],
   "source": [
    "cat_embed_cols = [\"agegroup\", 'gender', 'occupation', \"zip_code\"]\n",
    "continuous_cols = [\"Crime\", \"Sci-Fi\", \"Musical\", \n",
    "                   \"Mystery\", \"Documentary\", \"Fantasy\", \"Children\", \n",
    "                   \"Drama\", \"Horror\", \"Adventure\", \"Western\",\n",
    "                   \"Romance\", \"War\", \"Animation\", \"Action\", \"Comedy\", \"Thriller\",\n",
    "                   \"Film-Noir\"]\n",
    "                  #  , \"age\",\n",
    "                  #  'user_mean_rel', 'user_count_rel', 'user_std_rel',\n",
    "                  #  'user_median_rel', 'user_kurt_rel', 'user_skew_rel',\n",
    "                  # 'item_mean_rel', 'item_count_rel', 'item_std_rel',\n",
    "                  #  'item_median_rel', 'item_kurt_rel', 'item_skew_rel']\n",
    "wide_cols = ['gender', 'occupation']\n",
    "crossed_cols = ['gender_occupation']\n",
    "\n",
    "cols_item = {'continuous_cols':[], 'cat_embed_cols':[], 'wide_cols': []}\n",
    "\n",
    "cols_user = {'continuous_cols':[], 'cat_embed_cols':[], 'wide_cols': []}"
   ]
  },
  {
   "cell_type": "code",
   "execution_count": 45,
   "id": "8fc70e61-6e57-475b-a584-28f2143c978a",
   "metadata": {},
   "outputs": [],
   "source": [
    "e = Experiment(\n",
    "    [ MAP(K), \n",
    "      NDCG(K), \n",
    "      HitRate(K_list_metrics), \n",
    "      Coverage(K),\n",
    "      Surprisal(K),\n",
    "      MRR(K)],\n",
    "    test,\n",
    "    pos_neg_train,\n",
    "    query_column=\"user_idx\", item_column=\"item_idx\", rating_column=\"relevance\"\n",
    ")"
   ]
  },
  {
   "cell_type": "code",
   "execution_count": 46,
   "id": "b1239639-00cd-4ab1-acdc-3c6d7b00870a",
   "metadata": {},
   "outputs": [],
   "source": [
    " bandit_models = {\n",
    "         'Neural TS' : [NeuralTS(user_cols = cols_user,\n",
    "                                    item_cols = cols_item,\n",
    "                                    dim_head=20,\n",
    "                                    deep_out_dim=20,\n",
    "                                    hidden_layers=[32, 20],\n",
    "                                    embedding_sizes=[32, 32, 64],\n",
    "                                    wide_out_dim=1,\n",
    "                                    head_dropout=0.8,\n",
    "                                    deep_dropout=0.4,\n",
    "                                    n_epochs=2,\n",
    "                                    lr = 3e-4,\n",
    "                                    lr_min = 1e-5,\n",
    "                                    use_gpu = False,\n",
    "                                    plot_dir='test.png',\n",
    "                                    is_warp_loss=True,\n",
    "                                    cnt_neg_samples=200,\n",
    "                                    cnt_samples_for_predict=10,\n",
    "                                    eps = +1.0\n",
    "                                ), 'no_opt']   \n",
    "         }"
   ]
  },
  {
   "cell_type": "code",
   "execution_count": 47,
   "id": "df0171a4-8c59-4c30-8034-23644dd0fe06",
   "metadata": {},
   "outputs": [],
   "source": [
    "def fit_predict_add_res(name, model, experiment, train, test, suffix=''):\n",
    "    \"\"\"\n",
    "    Run fit_predict for the `model`, measure time on fit_predict and evaluate metrics\n",
    "    \"\"\"\n",
    "    start_time=time.time()\n",
    "    \n",
    "    logs = {'log': train}\n",
    "    predict_params = {'k': K, 'users': test.select('user_idx').distinct()}\n",
    "    \n",
    "    if isinstance(model, (NeuralTS)):\n",
    "        logs['log'] = pos_neg_train\n",
    "\n",
    "    if isinstance(model, (NeuralTS)):\n",
    "        logs['item_features'] = item_features\n",
    "        logs['user_features'] = user_features \n",
    "    predict_params.update(logs)\n",
    "\n",
    "    model.fit(**logs)\n",
    "    fit_time = time.time() - start_time\n",
    "    \n",
    "    pred=model.predict(**predict_params)\n",
    "    pred.show(100)\n",
    "    pred.cache()\n",
    "    pred.count()\n",
    "    predict_time = time.time() - start_time - fit_time\n",
    "\n",
    "    experiment.add_result(name + suffix, pred)\n",
    "    metric_time = time.time() - start_time - fit_time - predict_time\n",
    "    experiment.results.loc[name + suffix, 'fit_time'] = fit_time\n",
    "    experiment.results.loc[name + suffix, 'predict_time'] = predict_time\n",
    "    experiment.results.loc[name + suffix, 'metric_time'] = metric_time\n",
    "    experiment.results.loc[name + suffix, 'full_time'] = (fit_time + \n",
    "                                                          predict_time +\n",
    "                                                          metric_time)\n",
    "    pred.unpersist()\n",
    "    print(experiment.results[['NDCG@{}'.format(K), 'MRR@{}'.format(K), 'Coverage@{}'.format(K), 'fit_time']].sort_values('NDCG@{}'.format(K), ascending=False))\n",
    "    #add for me\n",
    "    return pred"
   ]
  },
  {
   "cell_type": "code",
   "execution_count": 48,
   "id": "a5e270a6-1077-43ef-86c0-9eed0aadd269",
   "metadata": {},
   "outputs": [],
   "source": [
    "def full_pipeline(models, experiment, train, test, suffix='', budget=BUDGET):\n",
    "    \"\"\"\n",
    "    For each model:\n",
    "        -  if required: run hyperparameters search, set best params and save param values to `experiment`\n",
    "        - pass model to `fit_predict_add_res`        \n",
    "    \"\"\"\n",
    "    \n",
    "    for name, [model, params] in models.items():\n",
    "        model.logger.info(msg='{} started'.format(name))\n",
    "        if params != 'no_opt':\n",
    "            model.logger.info(msg='{} optimization started'.format(name))\n",
    "            best_params = model.optimize(opt_train, \n",
    "                                         opt_val, \n",
    "                                         param_borders=params, \n",
    "                                         item_features=item_features,\n",
    "                                         user_features=user_features,\n",
    "                                         k=K, \n",
    "                                         budget=budget)\n",
    "            logger.info(msg='best params for {} are: {}'.format(name, best_params))\n",
    "            model.set_params(**best_params)\n",
    "        \n",
    "        logger.info(msg='{} fit_predict started'.format(name))\n",
    "        pred = fit_predict_add_res(name, model, experiment, train, test, suffix)\n",
    "        # here we call protected attribute to get all parameters set during model initialization\n",
    "        experiment.results.loc[name + suffix, 'params'] = str(model._init_args)\n",
    "        #add for me\n",
    "        return pred"
   ]
  },
  {
   "cell_type": "code",
   "execution_count": null,
   "id": "ca54985e-3e70-451a-bd03-25cd8c2c2326",
   "metadata": {},
   "outputs": [
    {
     "data": {
      "image/png": "[encoded data removed]",
      "text/plain": [
       "<Figure size 3000x1500 with 2 Axes>"
      ]
     },
     "metadata": {},
     "output_type": "display_data"
    },
    {
     "name": "stdout",
     "output_type": "stream",
     "text": [
      "ndcg val = 0.08814016172506754\n"
     ]
    },
    {
     "name": "stderr",
     "output_type": "stream",
     "text": [
      "100%|█████████████████████████████████████████████████████████████████| 1139/1139 [01:45<00:00, 10.83it/s]"
     ]
    }
   ],
   "source": [
    "%%time\n",
    "pred = full_pipeline(bandit_models, e, train, test)"
   ]
  },
  {
   "cell_type": "code",
   "execution_count": null,
   "id": "425f2216-b01f-4c5a-bc63-dc5521bcefd5",
   "metadata": {},
   "outputs": [],
   "source": [
    "e.results.sort_values('NDCG@10', ascending=False)"
   ]
  },
  {
   "cell_type": "code",
   "execution_count": null,
   "id": "2998bc63-41f3-45ed-bacd-a4611af5d033",
   "metadata": {},
   "outputs": [],
   "source": []
  }
 ],
 "metadata": {
  "kernelspec": {
   "display_name": "Python 3 (ipykernel)",
   "language": "python",
   "name": "python3"
  },
  "language_info": {
   "codemirror_mode": {
    "name": "ipython",
    "version": 3
   },
   "file_extension": ".py",
   "mimetype": "text/x-python",
   "name": "python",
   "nbconvert_exporter": "python",
   "pygments_lexer": "ipython3",
   "version": "3.9.7"
  }
 },
 "nbformat": 4,
 "nbformat_minor": 5
}
