{
 "cells": [
  {
   "cell_type": "markdown",
   "id": "b9ec062e-7d66-4c53-a480-bc6639d38e55",
   "metadata": {},
   "source": [
    "We will show the main RePlay functionality and compare performance of RePlay models on well-known MovieLens dataset. For simplicity we consider here only the variou bandit algorithms with context. The list of considered strategies for comparison:\n",
    "\n",
    "1) Linear UCB\n",
    "\n",
    "2) Linear Thompson Sampling\n",
    "\n",
    "3) Logistic Thompson Sampling\n",
    "\n",
    "### Dataset\n",
    "\n",
    "We will compare RePlay models on MovieLens 1m.\n",
    "\n",
    "### Dataset preprocessing:\n",
    "\n",
    "Ratings greater than or equal to 3 are considered as positive interactions.\n",
    "\n",
    "### Data split\n",
    "\n",
    "Dataset is split by date so that 20% of the last interactions as are placed in the test part. Cold items and users are dropped.\n",
    "\n",
    "### Predict:\n",
    "We will predict top-10 most relevant films for each user.\n",
    "\n",
    "### Metrics\n",
    "\n",
    "Quality metrics used: ndcg@k, hitrate@k, map@k, mrr@k for k = 1, 5, 10 Additional metrics used: coverage@k and surprisal@k.\n"
   ]
  },
  {
   "cell_type": "code",
   "execution_count": 1,
   "id": "518b0d1a-a574-413b-928f-5755c763c405",
   "metadata": {},
   "outputs": [
    {
     "name": "stdout",
     "output_type": "stream",
     "text": [
      "Requirement already satisfied: rs-datasets in /home/sudakovcom/Desktop/RePlayHDILab2024/.conda/lib/python3.9/site-packages (0.5.1)\n",
      "Requirement already satisfied: datatable in /home/sudakovcom/Desktop/RePlayHDILab2024/.conda/lib/python3.9/site-packages (from rs-datasets) (1.1.0)\n",
      "Requirement already satisfied: pandas in /home/sudakovcom/Desktop/RePlayHDILab2024/.conda/lib/python3.9/site-packages (from rs-datasets) (1.5.3)\n",
      "Requirement already satisfied: gdown in /home/sudakovcom/Desktop/RePlayHDILab2024/.conda/lib/python3.9/site-packages (from rs-datasets) (5.2.0)\n",
      "Requirement already satisfied: pyarrow in /home/sudakovcom/Desktop/RePlayHDILab2024/.conda/lib/python3.9/site-packages (from rs-datasets) (14.0.1)\n",
      "Requirement already satisfied: tqdm in /home/sudakovcom/Desktop/RePlayHDILab2024/.conda/lib/python3.9/site-packages (from rs-datasets) (4.66.2)\n",
      "Requirement already satisfied: xlrd in /home/sudakovcom/Desktop/RePlayHDILab2024/.conda/lib/python3.9/site-packages (from rs-datasets) (2.0.1)\n",
      "Requirement already satisfied: kaggle in /home/sudakovcom/Desktop/RePlayHDILab2024/.conda/lib/python3.9/site-packages (from rs-datasets) (1.6.17)\n",
      "Requirement already satisfied: py7zr in /home/sudakovcom/Desktop/RePlayHDILab2024/.conda/lib/python3.9/site-packages (from rs-datasets) (0.22.0)\n",
      "Requirement already satisfied: openpyxl in /home/sudakovcom/Desktop/RePlayHDILab2024/.conda/lib/python3.9/site-packages (from rs-datasets) (3.1.5)\n",
      "Requirement already satisfied: beautifulsoup4 in /home/sudakovcom/Desktop/RePlayHDILab2024/.conda/lib/python3.9/site-packages (from gdown->rs-datasets) (4.12.3)\n",
      "Requirement already satisfied: filelock in /home/sudakovcom/Desktop/RePlayHDILab2024/.conda/lib/python3.9/site-packages (from gdown->rs-datasets) (3.15.4)\n",
      "Requirement already satisfied: requests[socks] in /home/sudakovcom/Desktop/RePlayHDILab2024/.conda/lib/python3.9/site-packages (from gdown->rs-datasets) (2.31.0)\n",
      "Requirement already satisfied: six>=1.10 in /home/sudakovcom/Desktop/RePlayHDILab2024/.conda/lib/python3.9/site-packages (from kaggle->rs-datasets) (1.16.0)\n",
      "Requirement already satisfied: certifi>=2023.7.22 in /home/sudakovcom/Desktop/RePlayHDILab2024/.conda/lib/python3.9/site-packages (from kaggle->rs-datasets) (2024.2.2)\n",
      "Requirement already satisfied: python-dateutil in /home/sudakovcom/Desktop/RePlayHDILab2024/.conda/lib/python3.9/site-packages (from kaggle->rs-datasets) (2.9.0.post0)\n",
      "Requirement already satisfied: python-slugify in /home/sudakovcom/Desktop/RePlayHDILab2024/.conda/lib/python3.9/site-packages (from kaggle->rs-datasets) (8.0.4)\n",
      "Requirement already satisfied: urllib3 in /home/sudakovcom/Desktop/RePlayHDILab2024/.conda/lib/python3.9/site-packages (from kaggle->rs-datasets) (2.2.1)\n",
      "Requirement already satisfied: bleach in /home/sudakovcom/Desktop/RePlayHDILab2024/.conda/lib/python3.9/site-packages (from kaggle->rs-datasets) (6.1.0)\n",
      "Requirement already satisfied: et-xmlfile in /home/sudakovcom/Desktop/RePlayHDILab2024/.conda/lib/python3.9/site-packages (from openpyxl->rs-datasets) (1.1.0)\n",
      "Requirement already satisfied: pytz>=2020.1 in /home/sudakovcom/Desktop/RePlayHDILab2024/.conda/lib/python3.9/site-packages (from pandas->rs-datasets) (2024.1)\n",
      "Requirement already satisfied: numpy>=1.20.3 in /home/sudakovcom/Desktop/RePlayHDILab2024/.conda/lib/python3.9/site-packages (from pandas->rs-datasets) (1.23.5)\n",
      "Requirement already satisfied: texttable in /home/sudakovcom/Desktop/RePlayHDILab2024/.conda/lib/python3.9/site-packages (from py7zr->rs-datasets) (1.7.0)\n",
      "Requirement already satisfied: pycryptodomex>=3.16.0 in /home/sudakovcom/Desktop/RePlayHDILab2024/.conda/lib/python3.9/site-packages (from py7zr->rs-datasets) (3.20.0)\n",
      "Requirement already satisfied: pyzstd>=0.15.9 in /home/sudakovcom/Desktop/RePlayHDILab2024/.conda/lib/python3.9/site-packages (from py7zr->rs-datasets) (0.16.1)\n",
      "Requirement already satisfied: pyppmd<1.2.0,>=1.1.0 in /home/sudakovcom/Desktop/RePlayHDILab2024/.conda/lib/python3.9/site-packages (from py7zr->rs-datasets) (1.1.0)\n",
      "Requirement already satisfied: pybcj<1.1.0,>=1.0.0 in /home/sudakovcom/Desktop/RePlayHDILab2024/.conda/lib/python3.9/site-packages (from py7zr->rs-datasets) (1.0.2)\n",
      "Requirement already satisfied: multivolumefile>=0.2.3 in /home/sudakovcom/Desktop/RePlayHDILab2024/.conda/lib/python3.9/site-packages (from py7zr->rs-datasets) (0.2.3)\n",
      "Requirement already satisfied: inflate64<1.1.0,>=1.0.0 in /home/sudakovcom/Desktop/RePlayHDILab2024/.conda/lib/python3.9/site-packages (from py7zr->rs-datasets) (1.0.0)\n",
      "Requirement already satisfied: brotli>=1.1.0 in /home/sudakovcom/Desktop/RePlayHDILab2024/.conda/lib/python3.9/site-packages (from py7zr->rs-datasets) (1.1.0)\n",
      "Requirement already satisfied: psutil in /home/sudakovcom/Desktop/RePlayHDILab2024/.conda/lib/python3.9/site-packages (from py7zr->rs-datasets) (5.9.8)\n",
      "Requirement already satisfied: soupsieve>1.2 in /home/sudakovcom/Desktop/RePlayHDILab2024/.conda/lib/python3.9/site-packages (from beautifulsoup4->gdown->rs-datasets) (2.5)\n",
      "Requirement already satisfied: webencodings in /home/sudakovcom/Desktop/RePlayHDILab2024/.conda/lib/python3.9/site-packages (from bleach->kaggle->rs-datasets) (0.5.1)\n",
      "Requirement already satisfied: text-unidecode>=1.3 in /home/sudakovcom/Desktop/RePlayHDILab2024/.conda/lib/python3.9/site-packages (from python-slugify->kaggle->rs-datasets) (1.3)\n",
      "Requirement already satisfied: charset-normalizer<4,>=2 in /home/sudakovcom/Desktop/RePlayHDILab2024/.conda/lib/python3.9/site-packages (from requests[socks]->gdown->rs-datasets) (3.3.2)\n",
      "Requirement already satisfied: idna<4,>=2.5 in /home/sudakovcom/Desktop/RePlayHDILab2024/.conda/lib/python3.9/site-packages (from requests[socks]->gdown->rs-datasets) (3.6)\n",
      "Requirement already satisfied: PySocks!=1.5.7,>=1.5.6 in /home/sudakovcom/Desktop/RePlayHDILab2024/.conda/lib/python3.9/site-packages (from requests[socks]->gdown->rs-datasets) (1.7.1)\n"
     ]
    }
   ],
   "source": [
    "! pip install rs-datasets"
   ]
  },
  {
   "cell_type": "code",
   "execution_count": 2,
   "id": "7dd87a23-af97-44ca-b3f4-db88eb6bfb35",
   "metadata": {},
   "outputs": [],
   "source": [
    "%load_ext autoreload\n",
    "%autoreload 2"
   ]
  },
  {
   "cell_type": "code",
   "execution_count": 3,
   "id": "42bf7dd6-e79f-4d73-a6be-f8df5d75d6d2",
   "metadata": {},
   "outputs": [],
   "source": [
    "%config Completer.use_jedi = False"
   ]
  },
  {
   "cell_type": "code",
   "execution_count": 4,
   "id": "1d9abd75-4180-4a67-9b07-eddac41ebbc1",
   "metadata": {},
   "outputs": [],
   "source": [
    "import warnings\n",
    "from optuna.exceptions import ExperimentalWarning\n",
    "warnings.filterwarnings(\"ignore\", category=UserWarning)\n",
    "warnings.filterwarnings(\"ignore\", category=ExperimentalWarning)"
   ]
  },
  {
   "cell_type": "code",
   "execution_count": 5,
   "id": "c9cdf0fa-0e15-4a5f-966d-d65e3eac7f2e",
   "metadata": {},
   "outputs": [
    {
     "data": {
      "text/html": [
       "<style type='text/css'>\n",
       ".datatable table.frame { margin-bottom: 0; }\n",
       ".datatable table.frame thead { border-bottom: none; }\n",
       ".datatable table.frame tr.coltypes td {  color: #FFFFFF;  line-height: 6px;  padding: 0 0.5em;}\n",
       ".datatable .bool    { background: #DDDD99; }\n",
       ".datatable .object  { background: #565656; }\n",
       ".datatable .int     { background: #5D9E5D; }\n",
       ".datatable .float   { background: #4040CC; }\n",
       ".datatable .str     { background: #CC4040; }\n",
       ".datatable .time    { background: #40CC40; }\n",
       ".datatable .row_index {  background: var(--jp-border-color3);  border-right: 1px solid var(--jp-border-color0);  color: var(--jp-ui-font-color3);  font-size: 9px;}\n",
       ".datatable .frame tbody td { text-align: left; }\n",
       ".datatable .frame tr.coltypes .row_index {  background: var(--jp-border-color0);}\n",
       ".datatable th:nth-child(2) { padding-left: 12px; }\n",
       ".datatable .hellipsis {  color: var(--jp-cell-editor-border-color);}\n",
       ".datatable .vellipsis {  background: var(--jp-layout-color0);  color: var(--jp-cell-editor-border-color);}\n",
       ".datatable .na {  color: var(--jp-cell-editor-border-color);  font-size: 80%;}\n",
       ".datatable .sp {  opacity: 0.25;}\n",
       ".datatable .footer { font-size: 9px; }\n",
       ".datatable .frame_dimensions {  background: var(--jp-border-color3);  border-top: 1px solid var(--jp-border-color0);  color: var(--jp-ui-font-color3);  display: inline-block;  opacity: 0.6;  padding: 1px 10px 1px 5px;}\n",
       "</style>\n"
      ],
      "text/plain": [
       "<IPython.core.display.HTML object>"
      ]
     },
     "metadata": {},
     "output_type": "display_data"
    }
   ],
   "source": [
    "import logging\n",
    "import time\n",
    "import pandas as pd\n",
    "import numpy as np\n",
    "\n",
    "from pyspark.sql import functions as sf\n",
    "from pyspark.sql import types as st\n",
    "# from pyspark.sql.types import IntegerType\n",
    "\n",
    "from replay.data import Dataset, FeatureHint, FeatureInfo, FeatureSchema, FeatureType\n",
    "from replay.data.dataset_utils import DatasetLabelEncoder\n",
    "from replay.metrics import Coverage, HitRate, MRR, MAP, NDCG, Surprisal, Experiment, OfflineMetrics\n",
    "\n",
    "# from replay.experimental.preprocessing.data_preparator import DataPreparator, Indexer\n",
    "from replay.models import (\n",
    "    UCB,\n",
    "    Wilson, \n",
    "    Word2VecRec,\n",
    "    RandomRec,\n",
    "    LinUCB, #added LinUCB (disjoint version)\n",
    ")\n",
    "\n",
    "from replay.models.base_rec import HybridRecommender\n",
    "from replay.utils.session_handler import State\n",
    "from replay.splitters import TimeSplitter\n",
    "from replay.utils.spark_utils import convert2spark, get_log_info\n",
    "from rs_datasets import MovieLens"
   ]
  },
  {
   "cell_type": "code",
   "execution_count": 6,
   "id": "9490b442-0f13-4106-ab81-c0c8c0e14ffb",
   "metadata": {},
   "outputs": [
    {
     "name": "stderr",
     "output_type": "stream",
     "text": [
      "24/08/23 00:12:34 WARN Utils: Your hostname, sudakovcom-MS-7D48 resolves to a loopback address: 127.0.1.1; using 10.255.173.26 instead (on interface enp3s0)\n",
      "24/08/23 00:12:34 WARN Utils: Set SPARK_LOCAL_IP if you need to bind to another address\n",
      "Using Spark's default log4j profile: org/apache/spark/log4j-defaults.properties\n",
      "Setting default log level to \"WARN\".\n",
      "To adjust logging level use sc.setLogLevel(newLevel). For SparkR, use setLogLevel(newLevel).\n",
      "24/08/23 00:12:39 WARN NativeCodeLoader: Unable to load native-hadoop library for your platform... using builtin-java classes where applicable\n",
      "24/08/23 00:12:39 WARN SparkConf: Note that spark.local.dir will be overridden by the value set by the cluster manager (via SPARK_LOCAL_DIRS in mesos/standalone/kubernetes and LOCAL_DIRS in YARN).\n"
     ]
    },
    {
     "data": {
      "text/html": [
       "\n",
       "            <div>\n",
       "                <p><b>SparkSession - hive</b></p>\n",
       "                \n",
       "        <div>\n",
       "            <p><b>SparkContext</b></p>\n",
       "\n",
       "            <p><a href=\"http://localhost:4040\">Spark UI</a></p>\n",
       "\n",
       "            <dl>\n",
       "              <dt>Version</dt>\n",
       "                <dd><code>v3.2.4</code></dd>\n",
       "              <dt>Master</dt>\n",
       "                <dd><code>local[*]</code></dd>\n",
       "              <dt>AppName</dt>\n",
       "                <dd><code>pyspark-shell</code></dd>\n",
       "            </dl>\n",
       "        </div>\n",
       "        \n",
       "            </div>\n",
       "        "
      ],
      "text/plain": [
       "<pyspark.sql.session.SparkSession at 0x777c477fed00>"
      ]
     },
     "execution_count": 6,
     "metadata": {},
     "output_type": "execute_result"
    }
   ],
   "source": [
    "spark = State().session\n",
    "spark"
   ]
  },
  {
   "cell_type": "code",
   "execution_count": 7,
   "id": "176cba50-02f2-4a0b-90da-31d6a4ca3be0",
   "metadata": {},
   "outputs": [],
   "source": [
    "spark.sparkContext.setLogLevel('ERROR')"
   ]
  },
  {
   "cell_type": "code",
   "execution_count": 8,
   "id": "de6cfeb3-e9a8-40f0-a86a-29c3351c19e4",
   "metadata": {},
   "outputs": [],
   "source": [
    "logger = logging.getLogger(\"replay\")"
   ]
  },
  {
   "cell_type": "code",
   "execution_count": 9,
   "id": "e2e59462-943b-49e4-ad29-47c68655db10",
   "metadata": {},
   "outputs": [],
   "source": [
    "K = 10\n",
    "K_list_metrics = [1, 5, 10]\n",
    "BUDGET = 20\n",
    "BUDGET_NN = 10\n",
    "SEED = 12345"
   ]
  },
  {
   "cell_type": "markdown",
   "id": "a60db72f-6060-4727-9916-ffe170777cb6",
   "metadata": {},
   "source": [
    "## Preprocessing "
   ]
  },
  {
   "cell_type": "markdown",
   "id": "6c4d61c4-3f36-4422-b4ea-8938fe53bcb3",
   "metadata": {},
   "source": [
    "### Data loading"
   ]
  },
  {
   "cell_type": "code",
   "execution_count": 10,
   "id": "afb72229-1f12-412e-bb6d-65e49f2acb5e",
   "metadata": {},
   "outputs": [
    {
     "name": "stdout",
     "output_type": "stream",
     "text": [
      "ratings\n"
     ]
    },
    {
     "data": {
      "text/html": [
       "<div>\n",
       "<style scoped>\n",
       "    .dataframe tbody tr th:only-of-type {\n",
       "        vertical-align: middle;\n",
       "    }\n",
       "\n",
       "    .dataframe tbody tr th {\n",
       "        vertical-align: top;\n",
       "    }\n",
       "\n",
       "    .dataframe thead th {\n",
       "        text-align: right;\n",
       "    }\n",
       "</style>\n",
       "<table border=\"1\" class=\"dataframe\">\n",
       "  <thead>\n",
       "    <tr style=\"text-align: right;\">\n",
       "      <th></th>\n",
       "      <th>user_id</th>\n",
       "      <th>item_id</th>\n",
       "      <th>rating</th>\n",
       "      <th>timestamp</th>\n",
       "    </tr>\n",
       "  </thead>\n",
       "  <tbody>\n",
       "    <tr>\n",
       "      <th>0</th>\n",
       "      <td>1</td>\n",
       "      <td>1193</td>\n",
       "      <td>5</td>\n",
       "      <td>978300760</td>\n",
       "    </tr>\n",
       "    <tr>\n",
       "      <th>1</th>\n",
       "      <td>1</td>\n",
       "      <td>661</td>\n",
       "      <td>3</td>\n",
       "      <td>978302109</td>\n",
       "    </tr>\n",
       "    <tr>\n",
       "      <th>2</th>\n",
       "      <td>1</td>\n",
       "      <td>914</td>\n",
       "      <td>3</td>\n",
       "      <td>978301968</td>\n",
       "    </tr>\n",
       "  </tbody>\n",
       "</table>\n",
       "</div>"
      ],
      "text/plain": [
       "   user_id  item_id  rating  timestamp\n",
       "0        1     1193       5  978300760\n",
       "1        1      661       3  978302109\n",
       "2        1      914       3  978301968"
      ]
     },
     "metadata": {},
     "output_type": "display_data"
    },
    {
     "name": "stdout",
     "output_type": "stream",
     "text": [
      "\n",
      "users\n"
     ]
    },
    {
     "data": {
      "text/html": [
       "<div>\n",
       "<style scoped>\n",
       "    .dataframe tbody tr th:only-of-type {\n",
       "        vertical-align: middle;\n",
       "    }\n",
       "\n",
       "    .dataframe tbody tr th {\n",
       "        vertical-align: top;\n",
       "    }\n",
       "\n",
       "    .dataframe thead th {\n",
       "        text-align: right;\n",
       "    }\n",
       "</style>\n",
       "<table border=\"1\" class=\"dataframe\">\n",
       "  <thead>\n",
       "    <tr style=\"text-align: right;\">\n",
       "      <th></th>\n",
       "      <th>user_id</th>\n",
       "      <th>gender</th>\n",
       "      <th>age</th>\n",
       "      <th>occupation</th>\n",
       "      <th>zip_code</th>\n",
       "    </tr>\n",
       "  </thead>\n",
       "  <tbody>\n",
       "    <tr>\n",
       "      <th>0</th>\n",
       "      <td>1</td>\n",
       "      <td>F</td>\n",
       "      <td>1</td>\n",
       "      <td>10</td>\n",
       "      <td>48067</td>\n",
       "    </tr>\n",
       "    <tr>\n",
       "      <th>1</th>\n",
       "      <td>2</td>\n",
       "      <td>M</td>\n",
       "      <td>56</td>\n",
       "      <td>16</td>\n",
       "      <td>70072</td>\n",
       "    </tr>\n",
       "    <tr>\n",
       "      <th>2</th>\n",
       "      <td>3</td>\n",
       "      <td>M</td>\n",
       "      <td>25</td>\n",
       "      <td>15</td>\n",
       "      <td>55117</td>\n",
       "    </tr>\n",
       "  </tbody>\n",
       "</table>\n",
       "</div>"
      ],
      "text/plain": [
       "   user_id gender  age  occupation zip_code\n",
       "0        1      F    1          10    48067\n",
       "1        2      M   56          16    70072\n",
       "2        3      M   25          15    55117"
      ]
     },
     "metadata": {},
     "output_type": "display_data"
    },
    {
     "name": "stdout",
     "output_type": "stream",
     "text": [
      "\n",
      "items\n"
     ]
    },
    {
     "data": {
      "text/html": [
       "<div>\n",
       "<style scoped>\n",
       "    .dataframe tbody tr th:only-of-type {\n",
       "        vertical-align: middle;\n",
       "    }\n",
       "\n",
       "    .dataframe tbody tr th {\n",
       "        vertical-align: top;\n",
       "    }\n",
       "\n",
       "    .dataframe thead th {\n",
       "        text-align: right;\n",
       "    }\n",
       "</style>\n",
       "<table border=\"1\" class=\"dataframe\">\n",
       "  <thead>\n",
       "    <tr style=\"text-align: right;\">\n",
       "      <th></th>\n",
       "      <th>item_id</th>\n",
       "      <th>title</th>\n",
       "      <th>genres</th>\n",
       "    </tr>\n",
       "  </thead>\n",
       "  <tbody>\n",
       "    <tr>\n",
       "      <th>0</th>\n",
       "      <td>1</td>\n",
       "      <td>Toy Story (1995)</td>\n",
       "      <td>Animation|Children's|Comedy</td>\n",
       "    </tr>\n",
       "    <tr>\n",
       "      <th>1</th>\n",
       "      <td>2</td>\n",
       "      <td>Jumanji (1995)</td>\n",
       "      <td>Adventure|Children's|Fantasy</td>\n",
       "    </tr>\n",
       "    <tr>\n",
       "      <th>2</th>\n",
       "      <td>3</td>\n",
       "      <td>Grumpier Old Men (1995)</td>\n",
       "      <td>Comedy|Romance</td>\n",
       "    </tr>\n",
       "  </tbody>\n",
       "</table>\n",
       "</div>"
      ],
      "text/plain": [
       "   item_id                    title                        genres\n",
       "0        1         Toy Story (1995)   Animation|Children's|Comedy\n",
       "1        2           Jumanji (1995)  Adventure|Children's|Fantasy\n",
       "2        3  Grumpier Old Men (1995)                Comedy|Romance"
      ]
     },
     "metadata": {},
     "output_type": "display_data"
    },
    {
     "name": "stdout",
     "output_type": "stream",
     "text": [
      "\n"
     ]
    }
   ],
   "source": [
    "data = MovieLens(\"1m\")\n",
    "data.info()"
   ]
  },
  {
   "cell_type": "code",
   "execution_count": 11,
   "id": "040abef3",
   "metadata": {},
   "outputs": [
    {
     "name": "stderr",
     "output_type": "stream",
     "text": [
      "/home/sudakovcom/Desktop/RePlayHDILab2024/.conda/lib/python3.9/site-packages/pyspark/sql/pandas/conversion.py:471: FutureWarning: iteritems is deprecated and will be removed in a future version. Use .items instead.\n",
      "  arrow_data = [[(c, t) for (_, c), t in zip(pdf_slice.iteritems(), arrow_types)]\n"
     ]
    },
    {
     "name": "stdout",
     "output_type": "stream",
     "text": [
      "+-------+-------+------+---------+\n",
      "|user_id|item_id|rating|timestamp|\n",
      "+-------+-------+------+---------+\n",
      "|      1|   1193|     5|978300760|\n",
      "|      1|    661|     3|978302109|\n",
      "|      1|    914|     3|978301968|\n",
      "|      1|   3408|     4|978300275|\n",
      "|      1|   2355|     5|978824291|\n",
      "+-------+-------+------+---------+\n",
      "only showing top 5 rows\n",
      "\n"
     ]
    },
    {
     "name": "stderr",
     "output_type": "stream",
     "text": [
      "                                                                                \r"
     ]
    }
   ],
   "source": [
    "interactions_spark = convert2spark(data.ratings)\n",
    "interactions_spark.show(5)"
   ]
  },
  {
   "cell_type": "code",
   "execution_count": 12,
   "id": "b1f43241-03d3-44b6-9208-c9e40523d91f",
   "metadata": {},
   "outputs": [
    {
     "data": {
      "text/plain": [
       "836478"
      ]
     },
     "execution_count": 12,
     "metadata": {},
     "output_type": "execute_result"
    }
   ],
   "source": [
    "# will consider ratings >= 3 as positive feedback. A positive feedback is treated with rating = 1\n",
    "only_positives_interactions = interactions_spark.filter(sf.col('rating') >= 3).withColumn('rating', sf.lit(1))\n",
    "only_positives_interactions.count()"
   ]
  },
  {
   "cell_type": "code",
   "execution_count": 13,
   "id": "ebf0a2ca",
   "metadata": {},
   "outputs": [
    {
     "name": "stdout",
     "output_type": "stream",
     "text": [
      "+-------+-------+------+---------+\n",
      "|user_id|item_id|rating|timestamp|\n",
      "+-------+-------+------+---------+\n",
      "|      1|   1193|     1|978300760|\n",
      "|      1|    661|     1|978302109|\n",
      "+-------+-------+------+---------+\n",
      "only showing top 2 rows\n",
      "\n"
     ]
    }
   ],
   "source": [
    "only_positives_interactions.show(2)"
   ]
  },
  {
   "cell_type": "markdown",
   "id": "9a8d487f-8a46-4470-9006-01c24ffc7b87",
   "metadata": {},
   "source": [
    "### Data split"
   ]
  },
  {
   "cell_type": "code",
   "execution_count": 14,
   "id": "f8d0d13d",
   "metadata": {},
   "outputs": [
    {
     "name": "stdout",
     "output_type": "stream",
     "text": [
      "train info:\n",
      " total lines: 669181, total users: 5397, total items: 3569\n",
      "test info:\n",
      " total lines: 86542, total users: 1139, total items: 3279\n"
     ]
    }
   ],
   "source": [
    "# train/test split \n",
    "train_spl = TimeSplitter(\n",
    "    time_threshold=0.2,\n",
    "    drop_cold_items=True,\n",
    "    drop_cold_users=True,\n",
    "    query_column=\"user_id\",\n",
    ")\n",
    "train, test = train_spl.split(only_positives_interactions)\n",
    "print('train info:\\n', get_log_info(train, user_col=\"user_id\", item_col=\"item_id\"))\n",
    "print('test info:\\n', get_log_info(test, user_col=\"user_id\", item_col=\"item_id\"))"
   ]
  },
  {
   "cell_type": "code",
   "execution_count": 15,
   "id": "bbef1ae0-df6f-42e8-8679-63ef36458dd6",
   "metadata": {},
   "outputs": [
    {
     "data": {
      "text/plain": [
       "False"
      ]
     },
     "execution_count": 15,
     "metadata": {},
     "output_type": "execute_result"
    }
   ],
   "source": [
    "train.is_cached"
   ]
  },
  {
   "cell_type": "code",
   "execution_count": 16,
   "id": "843be418-7120-41d8-85a4-c4587872224f",
   "metadata": {},
   "outputs": [
    {
     "data": {
      "text/plain": [
       "(535343, 24241)"
      ]
     },
     "execution_count": 16,
     "metadata": {},
     "output_type": "execute_result"
    }
   ],
   "source": [
    "# train/test split for hyperparameters selection\n",
    "opt_train, opt_val = train_spl.split(train)\n",
    "opt_train.count(), opt_val.count()"
   ]
  },
  {
   "cell_type": "code",
   "execution_count": 17,
   "id": "86661982-34f3-4c5a-bf4c-a543837f4d40",
   "metadata": {},
   "outputs": [
    {
     "data": {
      "text/plain": [
       "False"
      ]
     },
     "execution_count": 17,
     "metadata": {},
     "output_type": "execute_result"
    }
   ],
   "source": [
    "opt_train.is_cached"
   ]
  },
  {
   "cell_type": "code",
   "execution_count": 18,
   "id": "19f680c4",
   "metadata": {},
   "outputs": [
    {
     "data": {
      "text/plain": [
       "798993"
      ]
     },
     "execution_count": 18,
     "metadata": {},
     "output_type": "execute_result"
    }
   ],
   "source": [
    "# negative feedback will be used for Wilson and UCB models\n",
    "only_negatives_log = interactions_spark.filter(sf.col('rating') < 3).withColumn('rating', sf.lit(0.))\n",
    "test_start = test.agg(sf.min('timestamp')).collect()[0][0]\n",
    "\n",
    "# train with both positive and negative feedback\n",
    "pos_neg_train=(train\n",
    "              .withColumn('rating', sf.lit(1.))\n",
    "              .union(only_negatives_log.filter(sf.col('timestamp') < test_start))\n",
    "             )\n",
    "pos_neg_train.cache()\n",
    "pos_neg_train.count()"
   ]
  },
  {
   "cell_type": "code",
   "execution_count": 19,
   "id": "914f8905-b6e3-411e-b468-2932e8af97db",
   "metadata": {},
   "outputs": [
    {
     "data": {
      "text/plain": [
       "True"
      ]
     },
     "execution_count": 19,
     "metadata": {},
     "output_type": "execute_result"
    }
   ],
   "source": [
    "pos_neg_train.is_cached"
   ]
  },
  {
   "cell_type": "markdown",
   "id": "e0d0faa9-35bf-4f39-baac-ed6ce1975e59",
   "metadata": {},
   "source": [
    "### Item features "
   ]
  },
  {
   "cell_type": "code",
   "execution_count": 20,
   "id": "bbd67d74",
   "metadata": {},
   "outputs": [
    {
     "name": "stdout",
     "output_type": "stream",
     "text": [
      "+-------+--------------------+--------------------+\n",
      "|item_id|               title|              genres|\n",
      "+-------+--------------------+--------------------+\n",
      "|      1|    Toy Story (1995)|Animation|Childre...|\n",
      "|      2|      Jumanji (1995)|Adventure|Childre...|\n",
      "|      3|Grumpier Old Men ...|      Comedy|Romance|\n",
      "|      4|Waiting to Exhale...|        Comedy|Drama|\n",
      "|      5|Father of the Bri...|              Comedy|\n",
      "+-------+--------------------+--------------------+\n",
      "only showing top 5 rows\n",
      "\n"
     ]
    }
   ],
   "source": [
    "item_features = convert2spark(data.items)\n",
    "item_features.show(5)"
   ]
  },
  {
   "cell_type": "code",
   "execution_count": 21,
   "id": "8a2bb8e3-838c-462d-8837-605beab5576d",
   "metadata": {},
   "outputs": [
    {
     "name": "stdout",
     "output_type": "stream",
     "text": [
      "+------------+\n",
      "|min(item_id)|\n",
      "+------------+\n",
      "|           1|\n",
      "+------------+\n",
      "\n",
      "+------------+\n",
      "|max(item_id)|\n",
      "+------------+\n",
      "|        3952|\n",
      "+------------+\n",
      "\n"
     ]
    },
    {
     "data": {
      "text/plain": [
       "3883"
      ]
     },
     "execution_count": 21,
     "metadata": {},
     "output_type": "execute_result"
    }
   ],
   "source": [
    "item_features.select(sf.min('item_id')).show()\n",
    "item_features.select(sf.max('item_id')).show()\n",
    "#just to check that the indexing is dense between 0 and 3882\n",
    "item_features.count()"
   ]
  },
  {
   "cell_type": "code",
   "execution_count": 22,
   "id": "ef866ef5-5a58-435f-bd1a-98b1a84f791c",
   "metadata": {},
   "outputs": [
    {
     "name": "stdout",
     "output_type": "stream",
     "text": [
      "+-------+----+\n",
      "|item_id|year|\n",
      "+-------+----+\n",
      "|      1|1995|\n",
      "|      2|1995|\n",
      "+-------+----+\n",
      "only showing top 2 rows\n",
      "\n"
     ]
    }
   ],
   "source": [
    "year = item_features.withColumn('year', sf.substring(sf.col('title'), -5, 4).astype(st.IntegerType())).select('item_id', 'year')\n",
    "year.show(2)"
   ]
  },
  {
   "cell_type": "code",
   "execution_count": 23,
   "id": "584986c0-ca89-4340-9cb2-c925d2e8b69d",
   "metadata": {},
   "outputs": [],
   "source": [
    "genres = (\n",
    "    item_features.select(\n",
    "        sf.col(\"item_id\"),\n",
    "        sf.split(\"genres\", \"\\|\").alias(\"genres\")\n",
    "    )\n",
    ")"
   ]
  },
  {
   "cell_type": "code",
   "execution_count": 24,
   "id": "1c0a8857",
   "metadata": {},
   "outputs": [
    {
     "name": "stdout",
     "output_type": "stream",
     "text": [
      "+-------+--------------------+\n",
      "|item_id|              genres|\n",
      "+-------+--------------------+\n",
      "|      1|[Animation, Child...|\n",
      "|      2|[Adventure, Child...|\n",
      "|      3|   [Comedy, Romance]|\n",
      "|      4|     [Comedy, Drama]|\n",
      "|      5|            [Comedy]|\n",
      "|      6|[Action, Crime, T...|\n",
      "|      7|   [Comedy, Romance]|\n",
      "|      8|[Adventure, Child...|\n",
      "|      9|            [Action]|\n",
      "|     10|[Action, Adventur...|\n",
      "|     11|[Comedy, Drama, R...|\n",
      "|     12|    [Comedy, Horror]|\n",
      "|     13|[Animation, Child...|\n",
      "|     14|             [Drama]|\n",
      "|     15|[Action, Adventur...|\n",
      "|     16|   [Drama, Thriller]|\n",
      "|     17|    [Drama, Romance]|\n",
      "|     18|          [Thriller]|\n",
      "|     19|            [Comedy]|\n",
      "|     20|            [Action]|\n",
      "+-------+--------------------+\n",
      "only showing top 20 rows\n",
      "\n"
     ]
    }
   ],
   "source": [
    "genres.show()"
   ]
  },
  {
   "cell_type": "code",
   "execution_count": 25,
   "id": "90f241fb-18e9-4824-b681-944bfb9d3173",
   "metadata": {},
   "outputs": [],
   "source": [
    "genres_list = (\n",
    "    genres.select(sf.explode(\"genres\").alias(\"genre\"))\n",
    "    .distinct().filter('genre <> \"(no genres listed)\"')\n",
    "    .toPandas()[\"genre\"].tolist()\n",
    ")"
   ]
  },
  {
   "cell_type": "code",
   "execution_count": 26,
   "id": "85767ca1",
   "metadata": {},
   "outputs": [
    {
     "data": {
      "text/plain": [
       "['Mystery',\n",
       " 'Action',\n",
       " 'Documentary',\n",
       " \"Children's\",\n",
       " 'Drama',\n",
       " 'Adventure',\n",
       " 'Film-Noir',\n",
       " 'Crime',\n",
       " 'Animation',\n",
       " 'Fantasy',\n",
       " 'Comedy',\n",
       " 'Western',\n",
       " 'Romance',\n",
       " 'Thriller',\n",
       " 'War',\n",
       " 'Sci-Fi',\n",
       " 'Musical',\n",
       " 'Horror']"
      ]
     },
     "execution_count": 26,
     "metadata": {},
     "output_type": "execute_result"
    }
   ],
   "source": [
    "genres_list"
   ]
  },
  {
   "cell_type": "code",
   "execution_count": 27,
   "id": "cc361d69-2b2f-4e27-b477-a935b9695b31",
   "metadata": {},
   "outputs": [
    {
     "data": {
      "text/plain": [
       "DataFrame[item_id: int, Mystery: int, Action: int, Documentary: int, Children's: int, Drama: int, Adventure: int, Film-Noir: int, Crime: int, Animation: int, Fantasy: int, Comedy: int, Western: int, Romance: int, Thriller: int, War: int, Sci-Fi: int, Musical: int, Horror: int, year: int]"
      ]
     },
     "execution_count": 27,
     "metadata": {},
     "output_type": "execute_result"
    }
   ],
   "source": [
    "item_features = genres\n",
    "for genre in genres_list:\n",
    "    item_features = item_features.withColumn(\n",
    "        genre,\n",
    "        sf.array_contains(sf.col(\"genres\"), genre).astype(st.IntegerType())\n",
    "    )\n",
    "item_features = item_features.drop(\"genres\").cache()\n",
    "item_features.count()\n",
    "item_features = item_features.join(year, on='item_id', how='inner')\n",
    "item_features.cache()"
   ]
  },
  {
   "cell_type": "code",
   "execution_count": 28,
   "id": "67b0e545-a8d1-4a53-8e08-122bd2dd2623",
   "metadata": {},
   "outputs": [
    {
     "data": {
      "text/plain": [
       "DataFrame[item_id: int, Mystery: int, Action: int, Documentary: int, Children: int, Drama: int, Adventure: int, Film-Noir: int, Crime: int, Animation: int, Fantasy: int, Comedy: int, Western: int, Romance: int, Thriller: int, War: int, Sci-Fi: int, Musical: int, Horror: int, year: int]"
      ]
     },
     "execution_count": 28,
     "metadata": {},
     "output_type": "execute_result"
    }
   ],
   "source": [
    "item_features = item_features.withColumnRenamed(\"Children's\",\"Children\")\n",
    "item_features.cache()"
   ]
  },
  {
   "cell_type": "markdown",
   "id": "a4eddc96-9055-4ac1-8c54-47b19239973a",
   "metadata": {},
   "source": [
    "### Users features"
   ]
  },
  {
   "cell_type": "code",
   "execution_count": 29,
   "id": "b7a2fddb-3f5d-49c1-8e15-e7d158678739",
   "metadata": {},
   "outputs": [
    {
     "data": {
      "text/html": [
       "<div>\n",
       "<style scoped>\n",
       "    .dataframe tbody tr th:only-of-type {\n",
       "        vertical-align: middle;\n",
       "    }\n",
       "\n",
       "    .dataframe tbody tr th {\n",
       "        vertical-align: top;\n",
       "    }\n",
       "\n",
       "    .dataframe thead th {\n",
       "        text-align: right;\n",
       "    }\n",
       "</style>\n",
       "<table border=\"1\" class=\"dataframe\">\n",
       "  <thead>\n",
       "    <tr style=\"text-align: right;\">\n",
       "      <th></th>\n",
       "      <th>user_id</th>\n",
       "      <th>gender</th>\n",
       "      <th>age</th>\n",
       "      <th>occupation</th>\n",
       "      <th>zip_code</th>\n",
       "    </tr>\n",
       "  </thead>\n",
       "  <tbody>\n",
       "    <tr>\n",
       "      <th>0</th>\n",
       "      <td>1</td>\n",
       "      <td>F</td>\n",
       "      <td>1</td>\n",
       "      <td>10</td>\n",
       "      <td>48067</td>\n",
       "    </tr>\n",
       "    <tr>\n",
       "      <th>1</th>\n",
       "      <td>2</td>\n",
       "      <td>M</td>\n",
       "      <td>56</td>\n",
       "      <td>16</td>\n",
       "      <td>70072</td>\n",
       "    </tr>\n",
       "    <tr>\n",
       "      <th>2</th>\n",
       "      <td>3</td>\n",
       "      <td>M</td>\n",
       "      <td>25</td>\n",
       "      <td>15</td>\n",
       "      <td>55117</td>\n",
       "    </tr>\n",
       "    <tr>\n",
       "      <th>3</th>\n",
       "      <td>4</td>\n",
       "      <td>M</td>\n",
       "      <td>45</td>\n",
       "      <td>7</td>\n",
       "      <td>02460</td>\n",
       "    </tr>\n",
       "    <tr>\n",
       "      <th>4</th>\n",
       "      <td>5</td>\n",
       "      <td>M</td>\n",
       "      <td>25</td>\n",
       "      <td>20</td>\n",
       "      <td>55455</td>\n",
       "    </tr>\n",
       "  </tbody>\n",
       "</table>\n",
       "</div>"
      ],
      "text/plain": [
       "   user_id gender  age  occupation zip_code\n",
       "0        1      F    1          10    48067\n",
       "1        2      M   56          16    70072\n",
       "2        3      M   25          15    55117\n",
       "3        4      M   45           7    02460\n",
       "4        5      M   25          20    55455"
      ]
     },
     "execution_count": 29,
     "metadata": {},
     "output_type": "execute_result"
    }
   ],
   "source": [
    "data.users.head()"
   ]
  },
  {
   "cell_type": "code",
   "execution_count": 30,
   "id": "6514ce42",
   "metadata": {},
   "outputs": [
    {
     "name": "stderr",
     "output_type": "stream",
     "text": [
      "/home/sudakovcom/Desktop/RePlayHDILab2024/.conda/lib/python3.9/site-packages/pyspark/sql/pandas/conversion.py:471: FutureWarning: iteritems is deprecated and will be removed in a future version. Use .items instead.\n",
      "  arrow_data = [[(c, t) for (_, c), t in zip(pdf_slice.iteritems(), arrow_types)]\n"
     ]
    },
    {
     "data": {
      "text/html": [
       "<div>\n",
       "<style scoped>\n",
       "    .dataframe tbody tr th:only-of-type {\n",
       "        vertical-align: middle;\n",
       "    }\n",
       "\n",
       "    .dataframe tbody tr th {\n",
       "        vertical-align: top;\n",
       "    }\n",
       "\n",
       "    .dataframe thead th {\n",
       "        text-align: right;\n",
       "    }\n",
       "</style>\n",
       "<table border=\"1\" class=\"dataframe\">\n",
       "  <thead>\n",
       "    <tr style=\"text-align: right;\">\n",
       "      <th></th>\n",
       "      <th>user_id</th>\n",
       "      <th>gender</th>\n",
       "      <th>age</th>\n",
       "      <th>occupation</th>\n",
       "      <th>zip_code</th>\n",
       "    </tr>\n",
       "  </thead>\n",
       "  <tbody>\n",
       "    <tr>\n",
       "      <th>0</th>\n",
       "      <td>1</td>\n",
       "      <td>F</td>\n",
       "      <td>1</td>\n",
       "      <td>10</td>\n",
       "      <td>48067</td>\n",
       "    </tr>\n",
       "    <tr>\n",
       "      <th>1</th>\n",
       "      <td>2</td>\n",
       "      <td>M</td>\n",
       "      <td>56</td>\n",
       "      <td>16</td>\n",
       "      <td>70072</td>\n",
       "    </tr>\n",
       "  </tbody>\n",
       "</table>\n",
       "</div>"
      ],
      "text/plain": [
       "   user_id gender  age  occupation zip_code\n",
       "0        1      F    1          10    48067\n",
       "1        2      M   56          16    70072"
      ]
     },
     "execution_count": 30,
     "metadata": {},
     "output_type": "execute_result"
    }
   ],
   "source": [
    "#same preprocessing for users as was done in 2.4.1.\n",
    "user_features = convert2spark(data.users)\n",
    "#switch for a while into pandas\n",
    "user_features = user_features.toPandas()\n",
    "user_features.head(2)"
   ]
  },
  {
   "cell_type": "code",
   "execution_count": 31,
   "id": "a8cf10e7-6897-4ce0-9c9b-1426c4e746e1",
   "metadata": {},
   "outputs": [
    {
     "name": "stdout",
     "output_type": "stream",
     "text": [
      "max ocupation index:  20\n",
      "min ocupation index:  0\n",
      "different zip codes:  3439\n"
     ]
    }
   ],
   "source": [
    "print(\"max ocupation index: \", user_features['occupation'].max())\n",
    "print(\"min ocupation index: \", user_features['occupation'].min())\n",
    "count_diff_zips = user_features['zip_code'].unique().size\n",
    "print(\"different zip codes: \", count_diff_zips) #ok, too much different zip codes, let us drop them for now\n",
    "users_pd = user_features.drop(columns=['zip_code'])\n",
    "users_pd.head()\n",
    "#binarize age variable\n",
    "bins = [0, 20, 30, 40, 50, 60, np.inf]\n",
    "names = ['<20', '20-29', '30-39','40-49', '51-60', '60+']\n",
    "\n",
    "users_pd['agegroup'] = pd.cut(users_pd['age'], bins, labels=names)\n",
    "\n",
    "#binarize following https://github.com/kfoofw/bandit_simulations/tree/master\n",
    "cat_embed_cols = [\"agegroup\",\"gender\",\"occupation\", \"year\"]\n",
    "continuous_cols = [\"age\", \"Crime\", \"Sci-Fi\", \"Musical\", \n",
    "                   \"Mystery\", \"Documentary\", \"Fantasy\", \"Children\", \n",
    "                   \"Drama\", \"Horror\", \"Adventure\", \"Western\",\"Romance\", \n",
    "                   \"War\", \"Animation\", \"Action\", \"Comedy\", \"Thriller\",\n",
    "                   \"Film-Noir\"]\n",
    "wide_cols = [\"agegroup\"]"
   ]
  },
  {
   "cell_type": "code",
   "execution_count": 32,
   "id": "8ad2ce58-7f24-4365-a0c1-aafa6540e8b9",
   "metadata": {},
   "outputs": [
    {
     "data": {
      "text/html": [
       "<div>\n",
       "<style scoped>\n",
       "    .dataframe tbody tr th:only-of-type {\n",
       "        vertical-align: middle;\n",
       "    }\n",
       "\n",
       "    .dataframe tbody tr th {\n",
       "        vertical-align: top;\n",
       "    }\n",
       "\n",
       "    .dataframe thead th {\n",
       "        text-align: right;\n",
       "    }\n",
       "</style>\n",
       "<table border=\"1\" class=\"dataframe\">\n",
       "  <thead>\n",
       "    <tr style=\"text-align: right;\">\n",
       "      <th></th>\n",
       "      <th>user_id</th>\n",
       "      <th>gender</th>\n",
       "      <th>age</th>\n",
       "      <th>occupation</th>\n",
       "      <th>agegroup</th>\n",
       "    </tr>\n",
       "  </thead>\n",
       "  <tbody>\n",
       "    <tr>\n",
       "      <th>0</th>\n",
       "      <td>1</td>\n",
       "      <td>F</td>\n",
       "      <td>1</td>\n",
       "      <td>10</td>\n",
       "      <td>&lt;20</td>\n",
       "    </tr>\n",
       "    <tr>\n",
       "      <th>1</th>\n",
       "      <td>2</td>\n",
       "      <td>M</td>\n",
       "      <td>56</td>\n",
       "      <td>16</td>\n",
       "      <td>51-60</td>\n",
       "    </tr>\n",
       "    <tr>\n",
       "      <th>2</th>\n",
       "      <td>3</td>\n",
       "      <td>M</td>\n",
       "      <td>25</td>\n",
       "      <td>15</td>\n",
       "      <td>20-29</td>\n",
       "    </tr>\n",
       "    <tr>\n",
       "      <th>3</th>\n",
       "      <td>4</td>\n",
       "      <td>M</td>\n",
       "      <td>45</td>\n",
       "      <td>7</td>\n",
       "      <td>40-49</td>\n",
       "    </tr>\n",
       "    <tr>\n",
       "      <th>4</th>\n",
       "      <td>5</td>\n",
       "      <td>M</td>\n",
       "      <td>25</td>\n",
       "      <td>20</td>\n",
       "      <td>20-29</td>\n",
       "    </tr>\n",
       "  </tbody>\n",
       "</table>\n",
       "</div>"
      ],
      "text/plain": [
       "   user_id gender  age  occupation agegroup\n",
       "0        1      F    1          10      <20\n",
       "1        2      M   56          16    51-60\n",
       "2        3      M   25          15    20-29\n",
       "3        4      M   45           7    40-49\n",
       "4        5      M   25          20    20-29"
      ]
     },
     "execution_count": 32,
     "metadata": {},
     "output_type": "execute_result"
    }
   ],
   "source": [
    "users_pd.head()"
   ]
  },
  {
   "cell_type": "code",
   "execution_count": 33,
   "id": "7948ea64-1786-42f0-bc01-f0172d41fd63",
   "metadata": {},
   "outputs": [
    {
     "name": "stdout",
     "output_type": "stream",
     "text": [
      "root\n",
      " |-- user_id: integer (nullable = true)\n",
      " |-- gender: string (nullable = true)\n",
      " |-- age: integer (nullable = true)\n",
      " |-- occupation: integer (nullable = true)\n",
      " |-- agegroup: string (nullable = true)\n",
      "\n",
      "total users:  6040\n"
     ]
    },
    {
     "name": "stderr",
     "output_type": "stream",
     "text": [
      "/home/sudakovcom/Desktop/RePlayHDILab2024/.conda/lib/python3.9/site-packages/pyspark/sql/pandas/conversion.py:471: FutureWarning: iteritems is deprecated and will be removed in a future version. Use .items instead.\n",
      "  arrow_data = [[(c, t) for (_, c), t in zip(pdf_slice.iteritems(), arrow_types)]\n"
     ]
    }
   ],
   "source": [
    "#make it pyspark\n",
    "user_features = spark.createDataFrame(users_pd) \n",
    "user_features.printSchema()\n",
    "print(\"total users: \",user_features.count())"
   ]
  },
  {
   "cell_type": "code",
   "execution_count": 48,
   "id": "5cab2303",
   "metadata": {},
   "outputs": [
    {
     "data": {
      "text/plain": [
       "pyspark.sql.dataframe.DataFrame"
      ]
     },
     "execution_count": 48,
     "metadata": {},
     "output_type": "execute_result"
    }
   ],
   "source": [
    "type(user_features)"
   ]
  },
  {
   "cell_type": "code",
   "execution_count": 34,
   "id": "f961102a",
   "metadata": {},
   "outputs": [],
   "source": [
    "feature_schema = FeatureSchema(\n",
    "    [\n",
    "        FeatureInfo(\n",
    "            column=\"user_id\",\n",
    "            feature_type=FeatureType.CATEGORICAL,\n",
    "            feature_hint=FeatureHint.QUERY_ID,\n",
    "        ),\n",
    "        FeatureInfo(\n",
    "            column=\"item_id\",\n",
    "            feature_type=FeatureType.CATEGORICAL,\n",
    "            feature_hint=FeatureHint.ITEM_ID,\n",
    "        ),\n",
    "        FeatureInfo(\n",
    "            column=\"rating\",\n",
    "            feature_type=FeatureType.NUMERICAL,\n",
    "            feature_hint=FeatureHint.RATING,\n",
    "        ),\n",
    "        FeatureInfo(\n",
    "            column=\"timestamp\",\n",
    "            feature_type=FeatureType.NUMERICAL,\n",
    "            feature_hint=FeatureHint.TIMESTAMP,\n",
    "        ),\n",
    "    ]\n",
    ")"
   ]
  },
  {
   "cell_type": "code",
   "execution_count": 35,
   "id": "dce6d559",
   "metadata": {},
   "outputs": [],
   "source": [
    "all_dataset = Dataset(\n",
    "    feature_schema=feature_schema,\n",
    "    interactions=interactions_spark,\n",
    ")\n",
    "\n",
    "train_dataset = Dataset(\n",
    "    feature_schema=feature_schema,\n",
    "    interactions=train,\n",
    ")\n",
    "\n",
    "test_dataset = Dataset(\n",
    "    feature_schema=feature_schema,\n",
    "    interactions=test,\n",
    ")\n",
    "\n",
    "train_neg_dataset = Dataset(\n",
    "    feature_schema=feature_schema,\n",
    "    interactions=pos_neg_train,\n",
    ")\n",
    "\n",
    "opt_train_dataset = Dataset(\n",
    "    feature_schema=feature_schema,\n",
    "    interactions=opt_train,\n",
    ")\n",
    "\n",
    "opt_val_dataset = Dataset(\n",
    "    feature_schema=feature_schema,\n",
    "    interactions=opt_val,\n",
    ")"
   ]
  },
  {
   "cell_type": "code",
   "execution_count": 36,
   "id": "8f033a0c",
   "metadata": {},
   "outputs": [
    {
     "name": "stderr",
     "output_type": "stream",
     "text": [
      "                                                                                \r"
     ]
    }
   ],
   "source": [
    "encoder = DatasetLabelEncoder()\n",
    "encoder.fit(all_dataset)\n",
    "train_dataset = encoder.transform(train_dataset)\n",
    "train_neg_dataset = encoder.transform(train_neg_dataset)\n",
    "test_dataset = encoder.transform(test_dataset)\n",
    "opt_train_dataset = encoder.transform(opt_train_dataset)\n",
    "opt_val_dataset = encoder.transform(opt_val_dataset)"
   ]
  },
  {
   "cell_type": "code",
   "execution_count": 37,
   "id": "c20fa584",
   "metadata": {},
   "outputs": [
    {
     "name": "stdout",
     "output_type": "stream",
     "text": [
      "+------+---------+-------+-------+\n",
      "|rating|timestamp|user_id|item_id|\n",
      "+------+---------+-------+-------+\n",
      "|     1|974728976|   2441|     13|\n",
      "|     1|974728976|   2441|    355|\n",
      "+------+---------+-------+-------+\n",
      "only showing top 2 rows\n",
      "\n"
     ]
    }
   ],
   "source": [
    "opt_train_dataset.interactions.show(2)"
   ]
  },
  {
   "cell_type": "code",
   "execution_count": 38,
   "id": "8fc70e61-6e57-475b-a584-28f2143c978a",
   "metadata": {},
   "outputs": [],
   "source": [
    "e = Experiment(\n",
    "    [\n",
    "        MAP(K),\n",
    "        NDCG(K),\n",
    "        HitRate(K_list_metrics),\n",
    "        Coverage(K),\n",
    "        Surprisal(K),\n",
    "        MRR(K)\n",
    "    ],\n",
    "    test_dataset.interactions,\n",
    "    train_dataset.interactions,\n",
    "    query_column=train_dataset.feature_schema.query_id_column,\n",
    "    item_column=train_dataset.feature_schema.item_id_column,\n",
    "    rating_column=train_dataset.feature_schema.interactions_rating_column,\n",
    "    )"
   ]
  },
  {
   "cell_type": "code",
   "execution_count": 44,
   "id": "b1239639-00cd-4ab1-acdc-3c6d7b00870a",
   "metadata": {},
   "outputs": [],
   "source": [
    "bandit_models = {\n",
    "    # 'Random (uniform)': [RandomRec(seed=SEED, distribution='uniform'), 'no_opt'],\n",
    "    # 'Random (popularity-based)': [RandomRec(seed=SEED, distribution='popular_based'), {\"alpha\": [-0.5, 100]}],\n",
    "    # 'UCB': [UCB(exploration_coef=2.0), 'no_opt'], #2.0 as default, 0.5 as original \n",
    "    # 'Wilson': [Wilson(), 'no_opt'],\n",
    "    'Linear UCB (disjoint models)': [LinUCB(eps = 0.0, alpha = 1.0, regr_type = 'disjoint'), { \"eps\" : [-10.0, 10.0],\n",
    "                                                                                            \"alpha\":  [0.001, 10.0]}],\n",
    "}"
   ]
  },
  {
   "cell_type": "code",
   "execution_count": 45,
   "id": "df0171a4-8c59-4c30-8034-23644dd0fe06",
   "metadata": {},
   "outputs": [],
   "source": [
    "def fit_predict_add_res(name, model, experiment, train, test, suffix=''):\n",
    "    \"\"\"\n",
    "    Run fit_predict for the `model`, measure time on fit_predict and evaluate metrics\n",
    "    \"\"\"\n",
    "    start_time=time.time()\n",
    "    \n",
    "    logs = {'dataset': train_dataset}\n",
    "    predict_params = {'k': K, 'queries': test_dataset.query_ids}\n",
    "    \n",
    "    if isinstance(model, (Wilson, UCB, LinUCB)):\n",
    "        logs['dataset'] = train_neg_dataset\n",
    "\n",
    "    if isinstance(model, (LinUCB)):\n",
    "        logs['item_features'] = item_features\n",
    "        logs['user_features'] = user_features \n",
    "    predict_params.update(logs)\n",
    "\n",
    "    model.fit(**logs)\n",
    "    fit_time = time.time() - start_time\n",
    "\n",
    "    pred=model.predict(**predict_params)\n",
    "    pred.cache()\n",
    "    pred.count()\n",
    "    predict_time = time.time() - start_time - fit_time\n",
    "\n",
    "    experiment.add_result(name + suffix, pred)\n",
    "    metric_time = time.time() - start_time - fit_time - predict_time\n",
    "    experiment.results.loc[name + suffix, 'fit_time'] = fit_time\n",
    "    experiment.results.loc[name + suffix, 'predict_time'] = predict_time\n",
    "    experiment.results.loc[name + suffix, 'metric_time'] = metric_time\n",
    "    experiment.results.loc[name + suffix, 'full_time'] = (fit_time + \n",
    "                                                          predict_time +\n",
    "                                                          metric_time)\n",
    "    pred.unpersist()\n",
    "    print(experiment.results[['NDCG@{}'.format(K), 'MRR@{}'.format(K), 'Coverage@{}'.format(K), 'fit_time']].sort_values('NDCG@{}'.format(K), ascending=False))"
   ]
  },
  {
   "cell_type": "code",
   "execution_count": 46,
   "id": "a5e270a6-1077-43ef-86c0-9eed0aadd269",
   "metadata": {},
   "outputs": [],
   "source": [
    "def full_pipeline(models, experiment, train, test, suffix='', budget=BUDGET):\n",
    "    \"\"\"\n",
    "    For each model:\n",
    "        -  if required: run hyperparameters search, set best params and save param values to `experiment`\n",
    "        - pass model to `fit_predict_add_res`        \n",
    "    \"\"\"\n",
    "    \n",
    "    for name, [model, params] in models.items():\n",
    "        model.logger.info(msg='{} started'.format(name))\n",
    "        if params != 'no_opt':\n",
    "            model.logger.info(msg='{} optimization started'.format(name))\n",
    "            best_params = model.optimize(opt_train, \n",
    "                                         opt_val, \n",
    "                                         param_borders=params, \n",
    "                                         item_features=item_features,\n",
    "                                         user_features=user_features,\n",
    "                                         k=K, \n",
    "                                         budget=budget)\n",
    "            logger.info(msg='best params for {} are: {}'.format(name, best_params))\n",
    "            model.set_params(**best_params)\n",
    "        \n",
    "        logger.info(msg='{} fit_predict started'.format(name))\n",
    "        fit_predict_add_res(name, model, experiment, train, test, suffix)\n",
    "        # here we call protected attribute to get all parameters set during model initialization\n",
    "        experiment.results.loc[name + suffix, 'params'] = str(model._init_args)"
   ]
  },
  {
   "cell_type": "code",
   "execution_count": 47,
   "id": "ca54985e-3e70-451a-bd03-25cd8c2c2326",
   "metadata": {},
   "outputs": [
    {
     "name": "stderr",
     "output_type": "stream",
     "text": [
      "23-Aug-24 00:13:50, replay, INFO: Linear UCB (disjoint models) started\n",
      "23-Aug-24 00:13:50, replay, INFO: Linear UCB (disjoint models) optimization started\n",
      "23-Aug-24 00:13:50, replay, WARNING: Not implemented yet error, be careful\n",
      "23-Aug-24 00:13:50, replay, INFO: best params for Linear UCB (disjoint models) are: None\n"
     ]
    },
    {
     "ename": "TypeError",
     "evalue": "replay.models.base_rec.RecommenderCommons.set_params() argument after ** must be a mapping, not NoneType",
     "output_type": "error",
     "traceback": [
      "\u001b[0;31m---------------------------------------------------------------------------\u001b[0m",
      "\u001b[0;31mTypeError\u001b[0m                                 Traceback (most recent call last)",
      "File \u001b[0;32m<timed eval>:1\u001b[0m\n",
      "Cell \u001b[0;32mIn[46], line 20\u001b[0m, in \u001b[0;36mfull_pipeline\u001b[0;34m(models, experiment, train, test, suffix, budget)\u001b[0m\n\u001b[1;32m     12\u001b[0m     best_params \u001b[38;5;241m=\u001b[39m model\u001b[38;5;241m.\u001b[39moptimize(opt_train, \n\u001b[1;32m     13\u001b[0m                                  opt_val, \n\u001b[1;32m     14\u001b[0m                                  param_borders\u001b[38;5;241m=\u001b[39mparams, \n\u001b[0;32m   (...)\u001b[0m\n\u001b[1;32m     17\u001b[0m                                  k\u001b[38;5;241m=\u001b[39mK, \n\u001b[1;32m     18\u001b[0m                                  budget\u001b[38;5;241m=\u001b[39mbudget)\n\u001b[1;32m     19\u001b[0m     logger\u001b[38;5;241m.\u001b[39minfo(msg\u001b[38;5;241m=\u001b[39m\u001b[38;5;124m'\u001b[39m\u001b[38;5;124mbest params for \u001b[39m\u001b[38;5;132;01m{}\u001b[39;00m\u001b[38;5;124m are: \u001b[39m\u001b[38;5;132;01m{}\u001b[39;00m\u001b[38;5;124m'\u001b[39m\u001b[38;5;241m.\u001b[39mformat(name, best_params))\n\u001b[0;32m---> 20\u001b[0m     model\u001b[38;5;241m.\u001b[39mset_params(\u001b[38;5;241m*\u001b[39m\u001b[38;5;241m*\u001b[39mbest_params)\n\u001b[1;32m     22\u001b[0m logger\u001b[38;5;241m.\u001b[39minfo(msg\u001b[38;5;241m=\u001b[39m\u001b[38;5;124m'\u001b[39m\u001b[38;5;132;01m{}\u001b[39;00m\u001b[38;5;124m fit_predict started\u001b[39m\u001b[38;5;124m'\u001b[39m\u001b[38;5;241m.\u001b[39mformat(name))\n\u001b[1;32m     23\u001b[0m fit_predict_add_res(name, model, experiment, train, test, suffix)\n",
      "\u001b[0;31mTypeError\u001b[0m: replay.models.base_rec.RecommenderCommons.set_params() argument after ** must be a mapping, not NoneType"
     ]
    }
   ],
   "source": [
    "%%time\n",
    "full_pipeline(bandit_models, e, train, test)"
   ]
  },
  {
   "cell_type": "code",
   "execution_count": 43,
   "id": "40069bde-28fa-48ea-ad38-b6a258b01332",
   "metadata": {},
   "outputs": [
    {
     "data": {
      "text/html": [
       "<div>\n",
       "<style scoped>\n",
       "    .dataframe tbody tr th:only-of-type {\n",
       "        vertical-align: middle;\n",
       "    }\n",
       "\n",
       "    .dataframe tbody tr th {\n",
       "        vertical-align: top;\n",
       "    }\n",
       "\n",
       "    .dataframe thead th {\n",
       "        text-align: right;\n",
       "    }\n",
       "</style>\n",
       "<table border=\"1\" class=\"dataframe\">\n",
       "  <thead>\n",
       "    <tr style=\"text-align: right;\">\n",
       "      <th></th>\n",
       "      <th>MAP@10</th>\n",
       "      <th>NDCG@10</th>\n",
       "      <th>HitRate@1</th>\n",
       "      <th>HitRate@5</th>\n",
       "      <th>HitRate@10</th>\n",
       "      <th>Coverage@10</th>\n",
       "      <th>Surprisal@10</th>\n",
       "      <th>MRR@10</th>\n",
       "      <th>fit_time</th>\n",
       "      <th>predict_time</th>\n",
       "      <th>metric_time</th>\n",
       "      <th>full_time</th>\n",
       "      <th>params</th>\n",
       "    </tr>\n",
       "  </thead>\n",
       "  <tbody>\n",
       "    <tr>\n",
       "      <th>Random (uniform)</th>\n",
       "      <td>0.007389</td>\n",
       "      <td>0.021677</td>\n",
       "      <td>0.021071</td>\n",
       "      <td>0.093064</td>\n",
       "      <td>0.165935</td>\n",
       "      <td>0.957691</td>\n",
       "      <td>0.537373</td>\n",
       "      <td>0.053704</td>\n",
       "      <td>2.661129</td>\n",
       "      <td>6.587016</td>\n",
       "      <td>10.008659</td>\n",
       "      <td>19.256803</td>\n",
       "      <td>{'distribution': 'uniform', 'alpha': 0.0, 'see...</td>\n",
       "    </tr>\n",
       "  </tbody>\n",
       "</table>\n",
       "</div>"
      ],
      "text/plain": [
       "                    MAP@10   NDCG@10  HitRate@1  HitRate@5  HitRate@10  \\\n",
       "Random (uniform)  0.007389  0.021677   0.021071   0.093064    0.165935   \n",
       "\n",
       "                  Coverage@10  Surprisal@10    MRR@10  fit_time  predict_time  \\\n",
       "Random (uniform)     0.957691      0.537373  0.053704  2.661129      6.587016   \n",
       "\n",
       "                  metric_time  full_time  \\\n",
       "Random (uniform)    10.008659  19.256803   \n",
       "\n",
       "                                                             params  \n",
       "Random (uniform)  {'distribution': 'uniform', 'alpha': 0.0, 'see...  "
      ]
     },
     "execution_count": 43,
     "metadata": {},
     "output_type": "execute_result"
    }
   ],
   "source": [
    "e.results.sort_values('NDCG@10', ascending=False)"
   ]
  },
  {
   "cell_type": "code",
   "execution_count": null,
   "id": "47e97e36-2af5-4cd3-b854-a1ca4e5e0f66",
   "metadata": {},
   "outputs": [],
   "source": []
  }
 ],
 "metadata": {
  "kernelspec": {
   "display_name": "Python 3 (ipykernel)",
   "language": "python",
   "name": "python3"
  },
  "language_info": {
   "codemirror_mode": {
    "name": "ipython",
    "version": 3
   },
   "file_extension": ".py",
   "mimetype": "text/x-python",
   "name": "python",
   "nbconvert_exporter": "python",
   "pygments_lexer": "ipython3",
   "version": "3.9.19"
  }
 },
 "nbformat": 4,
 "nbformat_minor": 5
}
