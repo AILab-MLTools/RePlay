{
 "cells": [
  {
   "cell_type": "markdown",
   "id": "b9ec062e-7d66-4c53-a480-bc6639d38e55",
   "metadata": {},
   "source": [
    "We will show the main RePlay functionality and compare performance of RePlay models on well-known MovieLens dataset. For simplicity we consider here only the variou bandit algorithms with context. The list of considered strategies for comparison:\n",
    "\n",
    "1) Linear UCB\n",
    "\n",
    "2) Linear Thompson Sampling\n",
    "\n",
    "3) Logistic Thompson Sampling\n",
    "\n",
    "### Dataset\n",
    "\n",
    "We will compare RePlay models on MovieLens 1m.\n",
    "\n",
    "### Dataset preprocessing:\n",
    "\n",
    "Ratings greater than or equal to 3 are considered as positive interactions.\n",
    "\n",
    "### Data split\n",
    "\n",
    "Dataset is split by date so that 20% of the last interactions as are placed in the test part. Cold items and users are dropped.\n",
    "\n",
    "### Predict:\n",
    "We will predict top-10 most relevant films for each user.\n",
    "\n",
    "### Metrics\n",
    "\n",
    "Quality metrics used: ndcg@k, hitrate@k, map@k, mrr@k for k = 1, 5, 10 Additional metrics used: coverage@k and surprisal@k.\n"
   ]
  },
  {
   "cell_type": "code",
   "execution_count": null,
   "id": "518b0d1a-a574-413b-928f-5755c763c405",
   "metadata": {},
   "outputs": [],
   "source": [
    "! pip install rs-datasets"
   ]
  },
  {
   "cell_type": "code",
   "execution_count": null,
   "id": "7dd87a23-af97-44ca-b3f4-db88eb6bfb35",
   "metadata": {},
   "outputs": [],
   "source": [
    "%load_ext autoreload\n",
    "%autoreload 2"
   ]
  },
  {
   "cell_type": "code",
   "execution_count": null,
   "id": "42bf7dd6-e79f-4d73-a6be-f8df5d75d6d2",
   "metadata": {},
   "outputs": [],
   "source": [
    "%config Completer.use_jedi = False"
   ]
  },
  {
   "cell_type": "code",
   "execution_count": null,
   "id": "1d9abd75-4180-4a67-9b07-eddac41ebbc1",
   "metadata": {},
   "outputs": [],
   "source": [
    "import warnings\n",
    "from optuna.exceptions import ExperimentalWarning\n",
    "warnings.filterwarnings(\"ignore\", category=UserWarning)\n",
    "warnings.filterwarnings(\"ignore\", category=ExperimentalWarning)\n",
    "warnings.simplefilter(action='ignore', category=FutureWarning)"
   ]
  },
  {
   "cell_type": "code",
   "execution_count": null,
   "id": "c9cdf0fa-0e15-4a5f-966d-d65e3eac7f2e",
   "metadata": {},
   "outputs": [],
   "source": [
    "import logging\n",
    "import time\n",
    "import pandas as pd\n",
    "import numpy as np\n",
    "\n",
    "from pyspark.sql import functions as sf, types as st\n",
    "from pyspark.sql.types import IntegerType\n",
    "\n",
    "from replay.experimental.preprocessing.data_preparator import Indexer, DataPreparator\n",
    "from replay.metrics import Coverage, HitRate, MRR, MAP, NDCG, Surprisal, Experiment\n",
    "from replay.experimental.models import (\n",
    "    NeuralTS\n",
    ")\n",
    "\n",
    "\n",
    "from replay.utils.session_handler import State\n",
    "from replay.splitters import TimeSplitter\n",
    "from replay.utils.spark_utils import get_log_info\n",
    "from rs_datasets import MovieLens"
   ]
  },
  {
   "cell_type": "code",
   "execution_count": null,
   "id": "9490b442-0f13-4106-ab81-c0c8c0e14ffb",
   "metadata": {},
   "outputs": [],
   "source": [
    "spark = State().session\n",
    "spark"
   ]
  },
  {
   "cell_type": "code",
   "execution_count": null,
   "id": "176cba50-02f2-4a0b-90da-31d6a4ca3be0",
   "metadata": {},
   "outputs": [],
   "source": [
    "spark.sparkContext.setLogLevel('ERROR')"
   ]
  },
  {
   "cell_type": "code",
   "execution_count": null,
   "id": "de6cfeb3-e9a8-40f0-a86a-29c3351c19e4",
   "metadata": {},
   "outputs": [],
   "source": [
    "logger = logging.getLogger(\"replay\")"
   ]
  },
  {
   "cell_type": "code",
   "execution_count": null,
   "id": "e2e59462-943b-49e4-ad29-47c68655db10",
   "metadata": {},
   "outputs": [],
   "source": [
    "K = 10\n",
    "K_list_metrics = [1, 5, 10]\n",
    "BUDGET = 20\n",
    "BUDGET_NN = 10\n",
    "SEED = 12345"
   ]
  },
  {
   "cell_type": "markdown",
   "id": "a60db72f-6060-4727-9916-ffe170777cb6",
   "metadata": {},
   "source": [
    "## Preprocessing "
   ]
  },
  {
   "cell_type": "markdown",
   "id": "6c4d61c4-3f36-4422-b4ea-8938fe53bcb3",
   "metadata": {},
   "source": [
    "### Data loading"
   ]
  },
  {
   "cell_type": "code",
   "execution_count": null,
   "id": "afb72229-1f12-412e-bb6d-65e49f2acb5e",
   "metadata": {},
   "outputs": [],
   "source": [
    "data = MovieLens(\"1m\")\n",
    "data.info()"
   ]
  },
  {
   "cell_type": "code",
   "execution_count": null,
   "id": "799925a2-9b6d-485e-b373-a7118a32fbf7",
   "metadata": {},
   "outputs": [],
   "source": [
    "data.ratings"
   ]
  },
  {
   "cell_type": "code",
   "execution_count": null,
   "id": "367862be-9ccd-4ae9-847b-6cd0ce4b82df",
   "metadata": {},
   "outputs": [],
   "source": [
    "preparator = DataPreparator()"
   ]
  },
  {
   "cell_type": "code",
   "execution_count": null,
   "id": "ba5deeec-7890-4273-b77f-2733c2c1c1b0",
   "metadata": {},
   "outputs": [],
   "source": [
    "%%time\n",
    "log = preparator.transform(columns_mapping={'user_id': 'user_id',\n",
    "                                      'item_id': 'item_id',\n",
    "                                      'relevance': 'rating',\n",
    "                                      'timestamp': 'timestamp'\n",
    "                                     }, \n",
    "                           data=data.ratings)"
   ]
  },
  {
   "cell_type": "code",
   "execution_count": null,
   "id": "b1f43241-03d3-44b6-9208-c9e40523d91f",
   "metadata": {},
   "outputs": [],
   "source": [
    "# will consider ratings >= 3 as positive feedback. A positive feedback is treated with relevance = 1\n",
    "only_positives_log = log.filter(sf.col('relevance') >= 3).withColumn('relevance', sf.lit(1))\n",
    "only_positives_log.count()"
   ]
  },
  {
   "cell_type": "markdown",
   "id": "3007ddfc-1b7b-45d6-b550-dc628b24d176",
   "metadata": {},
   "source": [
    "### Indexing "
   ]
  },
  {
   "cell_type": "code",
   "execution_count": null,
   "id": "102618c4-c2d1-4083-aef4-3329abeb798a",
   "metadata": {},
   "outputs": [],
   "source": [
    "indexer = Indexer(user_col='user_id', item_col='item_id')"
   ]
  },
  {
   "cell_type": "code",
   "execution_count": null,
   "id": "35619648-b44b-4b53-8809-0cc20e1ee7f9",
   "metadata": {},
   "outputs": [],
   "source": [
    "%%time\n",
    "indexer.fit(users=log.select('user_id'),\n",
    "           items=log.select('item_id'))"
   ]
  },
  {
   "cell_type": "code",
   "execution_count": null,
   "id": "1a040889-0bff-476d-af92-3af77b323cc0",
   "metadata": {},
   "outputs": [],
   "source": [
    "%%time\n",
    "log_replay = indexer.transform(df=only_positives_log)\n",
    "log_replay.show(2)\n",
    "log_replay.count()"
   ]
  },
  {
   "cell_type": "markdown",
   "id": "9a8d487f-8a46-4470-9006-01c24ffc7b87",
   "metadata": {},
   "source": [
    "### Data split"
   ]
  },
  {
   "cell_type": "code",
   "execution_count": null,
   "id": "90514332-4396-4b0f-a497-e28b679a9e31",
   "metadata": {},
   "outputs": [],
   "source": [
    "# train/test split \n",
    "train_spl = TimeSplitter(\n",
    "    time_threshold=0.2,\n",
    "    drop_cold_items=True,\n",
    "    drop_cold_users=True,\n",
    "    query_column=\"user_idx\",\n",
    "    item_column=\"item_idx\",\n",
    ")\n",
    "\n",
    "train, test = train_spl.split(log_replay)\n",
    "print('train info:\\n', get_log_info(train))\n",
    "print('test info:\\n', get_log_info(test))"
   ]
  },
  {
   "cell_type": "code",
   "execution_count": null,
   "id": "bbef1ae0-df6f-42e8-8679-63ef36458dd6",
   "metadata": {},
   "outputs": [],
   "source": [
    "train.is_cached"
   ]
  },
  {
   "cell_type": "code",
   "execution_count": null,
   "id": "843be418-7120-41d8-85a4-c4587872224f",
   "metadata": {},
   "outputs": [],
   "source": [
    "# train/test split for hyperparameters selection\n",
    "opt_train, opt_val = train_spl.split(train)\n",
    "opt_train.count(), opt_val.count()"
   ]
  },
  {
   "cell_type": "code",
   "execution_count": null,
   "id": "86661982-34f3-4c5a-bf4c-a543837f4d40",
   "metadata": {},
   "outputs": [],
   "source": [
    "opt_train.is_cached"
   ]
  },
  {
   "cell_type": "code",
   "execution_count": null,
   "id": "4502490b-59cb-4896-8b0f-e8985c6ad32c",
   "metadata": {},
   "outputs": [],
   "source": [
    "# negative feedback will be used for Wilson and UCB models\n",
    "only_negatives_log = indexer.transform(df=log.filter(sf.col('relevance') < 3).withColumn('relevance', sf.lit(0.)))\n",
    "test_start = test.agg(sf.min('timestamp')).collect()[0][0]\n",
    "\n",
    "# train with both positive and negative feedback\n",
    "pos_neg_train=(train\n",
    "              .withColumn('relevance', sf.lit(1.))\n",
    "              .union(only_negatives_log.filter(sf.col('timestamp') < test_start))\n",
    "             )\n",
    "pos_neg_train.cache()\n",
    "pos_neg_train.count()"
   ]
  },
  {
   "cell_type": "code",
   "execution_count": null,
   "id": "914f8905-b6e3-411e-b468-2932e8af97db",
   "metadata": {},
   "outputs": [],
   "source": [
    "pos_neg_train.is_cached"
   ]
  },
  {
   "cell_type": "code",
   "execution_count": null,
   "id": "c8ec5c4d-4302-49e6-8a97-0607a677cf13",
   "metadata": {},
   "outputs": [],
   "source": [
    "pos_neg_train.groupBy('relevance').count().show()"
   ]
  },
  {
   "cell_type": "markdown",
   "id": "e0d0faa9-35bf-4f39-baac-ed6ce1975e59",
   "metadata": {},
   "source": [
    "### Item features "
   ]
  },
  {
   "cell_type": "code",
   "execution_count": null,
   "id": "8a2bb8e3-838c-462d-8837-605beab5576d",
   "metadata": {},
   "outputs": [],
   "source": [
    "item_features_original = preparator.transform(columns_mapping={'item_id': 'item_id'}, \n",
    "                           data=data.items)\n",
    "item_features = indexer.transform(df=item_features_original)\n",
    "item_features.show(2)\n",
    "#different item features\n",
    "\n",
    "from pyspark.sql.functions import max,min\n",
    "item_features.select(max(item_features.item_idx)).show()\n",
    "item_features.select(min(item_features.item_idx)).show()\n",
    "#just to check that the indexing is dense between 0 and 3882\n",
    "item_features.count()"
   ]
  },
  {
   "cell_type": "code",
   "execution_count": null,
   "id": "ef866ef5-5a58-435f-bd1a-98b1a84f791c",
   "metadata": {},
   "outputs": [],
   "source": [
    "year = item_features.withColumn('year', sf.substring(sf.col('title'), -5, 4).astype(st.IntegerType())).select('item_idx', 'year')\n",
    "year.show(2)"
   ]
  },
  {
   "cell_type": "code",
   "execution_count": null,
   "id": "584986c0-ca89-4340-9cb2-c925d2e8b69d",
   "metadata": {},
   "outputs": [],
   "source": [
    "genres = (\n",
    "    item_features.select(\n",
    "        \"item_idx\",\n",
    "        sf.split(\"genres\", \"\\|\").alias(\"genres\")\n",
    "    )\n",
    ")"
   ]
  },
  {
   "cell_type": "code",
   "execution_count": null,
   "id": "90f241fb-18e9-4824-b681-944bfb9d3173",
   "metadata": {},
   "outputs": [],
   "source": [
    "genres_list = (\n",
    "    genres.select(sf.explode(\"genres\").alias(\"genre\"))\n",
    "    .distinct().filter('genre <> \"(no genres listed)\"')\n",
    "    .toPandas()[\"genre\"].tolist()\n",
    ")"
   ]
  },
  {
   "cell_type": "code",
   "execution_count": null,
   "id": "cc361d69-2b2f-4e27-b477-a935b9695b31",
   "metadata": {},
   "outputs": [],
   "source": [
    "item_features = genres\n",
    "for genre in genres_list:\n",
    "    item_features = item_features.withColumn(\n",
    "        genre,\n",
    "        sf.array_contains(sf.col(\"genres\"), genre).astype(IntegerType())\n",
    "    )\n",
    "item_features = item_features.drop(\"genres\").cache()\n",
    "item_features.count()\n",
    "item_features = item_features.join(year, on='item_idx', how='inner')"
   ]
  },
  {
   "cell_type": "code",
   "execution_count": null,
   "id": "67b0e545-a8d1-4a53-8e08-122bd2dd2623",
   "metadata": {},
   "outputs": [],
   "source": [
    "item_features = item_features.withColumnRenamed(\"Children's\",\"Children\")\n",
    "item_features = item_features.toPandas()"
   ]
  },
  {
   "cell_type": "code",
   "execution_count": null,
   "id": "659878de-012b-4ea0-89ce-84514dcf5bac",
   "metadata": {},
   "outputs": [],
   "source": [
    "item_features.columns"
   ]
  },
  {
   "cell_type": "markdown",
   "id": "a4eddc96-9055-4ac1-8c54-47b19239973a",
   "metadata": {},
   "source": [
    "### Users features"
   ]
  },
  {
   "cell_type": "code",
   "execution_count": null,
   "id": "b7a2fddb-3f5d-49c1-8e15-e7d158678739",
   "metadata": {},
   "outputs": [],
   "source": [
    "data.users.head()"
   ]
  },
  {
   "cell_type": "code",
   "execution_count": null,
   "id": "df210a6e-78ef-42d2-81ca-72edee25a4e3",
   "metadata": {},
   "outputs": [],
   "source": [
    "#same preprocessing for users as was done in 2.4.1.\n",
    "user_features_original = preparator.transform(columns_mapping={'user_id': 'user_id'}, \n",
    "                           data=data.users)\n",
    "user_features = indexer.transform(df=user_features_original)\n",
    "#switch for a while into pandas\n",
    "user_features = user_features.toPandas()\n",
    "user_features.head(2)"
   ]
  },
  {
   "cell_type": "code",
   "execution_count": null,
   "id": "e90b8cd9-9f70-4bf4-8466-f833c62c28c6",
   "metadata": {},
   "outputs": [],
   "source": [
    "from pyspark.sql.functions import mean, stddev\n",
    "user_train_mean = pos_neg_train.groupBy('user_idx').mean('relevance').withColumnRenamed('avg(relevance)','user_mean_rel').toPandas()\n",
    "user_train_count = pos_neg_train.groupBy('user_idx').count().withColumnRenamed('count','user_count_rel').toPandas()\n",
    "user_train_std = pos_neg_train.groupBy('user_idx').agg({'relevance': 'stddev'}).withColumnRenamed('stddev(relevance)','user_std_rel').toPandas()\n",
    "user_train_median = pd.DataFrame(pos_neg_train.toPandas().groupby('user_idx', as_index = False)['relevance'].agg('median')).rename(columns={'relevance': 'user_median_rel'})\n",
    "user_train_kurt = pd.DataFrame(pos_neg_train.toPandas().groupby('user_idx', as_index = False)['relevance'].apply(pd.DataFrame.kurt)).rename(columns={'relevance': 'user_kurt_rel'})\n",
    "user_train_skew = pd.DataFrame(pos_neg_train.toPandas().groupby('user_idx', as_index = False)['relevance'].apply(pd.DataFrame.skew)).rename(columns={'relevance': 'user_skew_rel'})\n",
    "\n",
    "item_train_mean = pos_neg_train.groupBy('item_idx').mean('relevance').withColumnRenamed('avg(relevance)','item_mean_rel').toPandas()\n",
    "item_train_count = pos_neg_train.groupBy('item_idx').count().withColumnRenamed('count','item_count_rel').toPandas()\n",
    "item_train_std = pos_neg_train.groupBy('item_idx').agg({'relevance': 'stddev'}).withColumnRenamed('stddev(relevance)','item_std_rel').toPandas()\n",
    "item_train_median = pd.DataFrame(pos_neg_train.toPandas().groupby('item_idx', as_index = False)['relevance'].agg('median')).rename(columns={'relevance': 'item_median_rel'})\n",
    "item_train_kurt = pd.DataFrame(pos_neg_train.toPandas().groupby('item_idx', as_index = False)['relevance'].apply(pd.DataFrame.kurt)).rename(columns={'relevance': 'item_kurt_rel'})\n",
    "item_train_skew = pd.DataFrame(pos_neg_train.toPandas().groupby('item_idx', as_index = False)['relevance'].apply(pd.DataFrame.skew)).rename(columns={'relevance': 'item_skew_rel'})\n",
    "\n",
    "full_mean = pos_neg_train.select(mean('relevance')).toPandas().values.squeeze()\n",
    "full_count = 0\n",
    "full_std = pos_neg_train.agg({'relevance': 'stddev'}).toPandas().values.squeeze()\n",
    "full_median = pos_neg_train.toPandas()['relevance'].median().squeeze()\n",
    "full_kurt = pos_neg_train.toPandas()['relevance'].kurt().squeeze()\n",
    "full_skew = pos_neg_train.toPandas()['relevance'].skew().squeeze()"
   ]
  },
  {
   "cell_type": "code",
   "execution_count": null,
   "id": "422cedfe-76d7-4064-a713-6514d4b5deaf",
   "metadata": {},
   "outputs": [],
   "source": [
    "user_train_sum = pos_neg_train.groupBy('user_idx').sum('relevance').withColumnRenamed('sum(relevance)','user_sum_rel').toPandas()\n",
    "item_train_sum = pos_neg_train.groupBy('item_idx').sum('relevance').withColumnRenamed('sum(relevance)','item_sum_rel').toPandas()"
   ]
  },
  {
   "cell_type": "code",
   "execution_count": null,
   "id": "aa549b76-ab84-4eb0-8e90-da49717868e5",
   "metadata": {},
   "outputs": [],
   "source": [
    "item_train_sum.head(10)"
   ]
  },
  {
   "cell_type": "code",
   "execution_count": null,
   "id": "8b7f3532-4404-4b20-ab55-3a9bb54443be",
   "metadata": {},
   "outputs": [],
   "source": [
    "user_all_true = pd.DataFrame({'user_idx': user_train_sum['user_idx'].values , \n",
    "                              'user_all_true': (user_train_sum['user_sum_rel'] == user_train_count['user_count_rel'].values).astype(int)})\n",
    "item_all_true = pd.DataFrame({'item_idx': item_train_sum['item_idx'].values , \n",
    "                              'item_all_true': (item_train_sum['item_sum_rel'] == item_train_count['item_count_rel'].values).astype(int)})"
   ]
  },
  {
   "cell_type": "code",
   "execution_count": null,
   "id": "fae08c53-1ce3-4675-b2ab-86e91b437512",
   "metadata": {},
   "outputs": [],
   "source": [
    "pop_item = pd.DataFrame({'item_idx': item_train_mean['item_idx'].values , \n",
    "                              'item_is_pop': (item_train_mean['item_mean_rel'] > 0.9).astype(int)})"
   ]
  },
  {
   "cell_type": "code",
   "execution_count": null,
   "id": "a8cf10e7-6897-4ce0-9c9b-1426c4e746e1",
   "metadata": {},
   "outputs": [],
   "source": [
    "from sklearn.preprocessing import OneHotEncoder\n",
    "print(\"max ocupation index: \", user_features['occupation'].max())\n",
    "print(\"min ocupation index: \", user_features['occupation'].min())\n",
    "count_diff_zips = user_features['zip_code'].unique().size\n",
    "print(\"different zip codes: \", count_diff_zips) \n",
    "users_pd = user_features\n",
    "users_pd['zip_code'] = users_pd['zip_code'].apply(lambda x: x[0])\n",
    "\n",
    "#binarize age variable\n",
    "bins = [0, 20, 30, 40, 50, 60, np.inf]\n",
    "names = ['<20', '20-29', '30-39','40-49', '51-60', '60+']\n",
    "\n",
    "users_pd['agegroup'] = pd.cut(users_pd['age'], bins, labels=names)\n",
    "# users_pd = users_pd.drop([\"age\"], axis = 1)\n",
    "# users_pd.head()\n",
    "\n",
    "# #binarize following https://github.com/kfoofw/bandit_simulations/tree/master\n",
    "# columnsToEncode = [\"agegroup\",\"gender\",\"occupation\"]\n",
    "# myEncoder = OneHotEncoder(sparse=False, handle_unknown='ignore')\n",
    "# myEncoder.fit(users_pd[columnsToEncode])\n",
    "\n",
    "# users_pd = pd.concat([users_pd.drop(columnsToEncode, 1),\n",
    "#                            pd.DataFrame(myEncoder.transform(users_pd[columnsToEncode]), \n",
    "#                                         columns = myEncoder.get_feature_names_out(columnsToEncode))], axis=1).reindex()\n",
    "users_pd['gender_occupation'] = users_pd['gender'] + '_' + users_pd['occupation'].astype(str)\n",
    "users_pd.head()"
   ]
  },
  {
   "cell_type": "code",
   "execution_count": null,
   "id": "b669a3c4-6be1-438f-8db4-8b85003e79f5",
   "metadata": {},
   "outputs": [],
   "source": [
    "#stats\n",
    "users_pd = users_pd.merge(user_train_mean, on='user_idx', how='left')\n",
    "users_pd['user_mean_rel'].fillna(full_mean, inplace = True)\n",
    "\n",
    "users_pd = users_pd.merge(user_train_count, on='user_idx', how='left')\n",
    "users_pd['user_count_rel'].fillna(full_count, inplace = True)\n",
    "\n",
    "users_pd = users_pd.merge(user_train_std, on='user_idx', how='left')\n",
    "users_pd['user_std_rel'].fillna(full_std, inplace = True)\n",
    "\n",
    "users_pd = users_pd.merge(user_train_median, on='user_idx', how='left')\n",
    "users_pd['user_median_rel'].fillna(full_median, inplace = True)\n",
    "\n",
    "users_pd = users_pd.merge(user_train_kurt, on='user_idx', how='left')\n",
    "users_pd['user_kurt_rel'].fillna(full_kurt, inplace = True)\n",
    "\n",
    "users_pd = users_pd.merge(user_train_skew, on='user_idx', how='left')\n",
    "users_pd['user_skew_rel'].fillna(full_skew, inplace = True)\n",
    "\n",
    "users_pd = users_pd.merge(user_all_true, on='user_idx', how='left')\n",
    "users_pd['user_all_true'].fillna(0, inplace = True)\n",
    "\n",
    "\n",
    "item_features = item_features.merge(item_train_mean, on='item_idx', how='left')\n",
    "item_features['item_mean_rel'].fillna(full_mean, inplace = True)\n",
    "\n",
    "item_features = item_features.merge(item_train_count, on='item_idx', how='left')\n",
    "item_features['item_count_rel'].fillna(full_count, inplace = True)\n",
    "\n",
    "item_features = item_features.merge(item_train_std, on='item_idx', how='left')\n",
    "item_features['item_std_rel'].fillna(full_std, inplace = True)\n",
    "\n",
    "item_features = item_features.merge(item_train_median, on='item_idx', how='left')\n",
    "item_features['item_median_rel'].fillna(full_median, inplace = True)\n",
    "\n",
    "item_features = item_features.merge(item_train_kurt, on='item_idx', how='left')\n",
    "item_features['item_kurt_rel'].fillna(full_kurt, inplace = True)\n",
    "\n",
    "item_features = item_features.merge(item_train_skew, on='item_idx', how='left')\n",
    "item_features['item_skew_rel'].fillna(full_skew, inplace = True)\n",
    "\n",
    "item_features = item_features.merge(item_all_true, on='item_idx', how='left')\n",
    "item_features['item_all_true'].fillna(0, inplace = True)\n",
    "\n",
    "item_features = item_features.merge(pop_item, on='item_idx', how='left')\n",
    "item_features['item_is_pop'].fillna(0, inplace = True)\n"
   ]
  },
  {
   "cell_type": "code",
   "execution_count": null,
   "id": "7948ea64-1786-42f0-bc01-f0172d41fd63",
   "metadata": {},
   "outputs": [],
   "source": [
    "#make it pyspark\n",
    "user_features = spark.createDataFrame(users_pd) \n",
    "user_features.cache()\n",
    "user_features.printSchema()\n",
    "print(\"total users: \",user_features.count())"
   ]
  },
  {
   "cell_type": "code",
   "execution_count": null,
   "id": "005148e2-4bd9-4e4e-9bec-5622ca34be3a",
   "metadata": {},
   "outputs": [],
   "source": [
    "item_features = spark.createDataFrame(item_features) \n",
    "item_features.cache()\n",
    "item_features.printSchema()\n",
    "print(\"total users: \",item_features.count())"
   ]
  },
  {
   "cell_type": "code",
   "execution_count": null,
   "id": "be6cf4d6-4ec2-40eb-a86d-4c82c7350069",
   "metadata": {},
   "outputs": [],
   "source": [
    "# item_features = indexer.transform(df=item_features)\n",
    "# user_features = indexer.transform(df=user_features)"
   ]
  },
  {
   "cell_type": "code",
   "execution_count": null,
   "id": "3e45a708-0d64-4e1f-85e2-d2b91404cb9f",
   "metadata": {},
   "outputs": [],
   "source": [
    "cat_embed_cols = [\"agegroup\", 'gender', 'occupation', \"zip_code\"]\n",
    "continuous_cols = [\"Crime\", \"Sci-Fi\", \"Musical\", \n",
    "                   \"Mystery\", \"Documentary\", \"Fantasy\", \"Children\", \n",
    "                   \"Drama\", \"Horror\", \"Adventure\", \"Western\",\n",
    "                   \"Romance\", \"War\", \"Animation\", \"Action\", \"Comedy\", \"Thriller\",\n",
    "                   \"Film-Noir\"]\n",
    "                  #  , \"age\",\n",
    "                  #  'user_mean_rel', 'user_count_rel', 'user_std_rel',\n",
    "                  #  'user_median_rel', 'user_kurt_rel', 'user_skew_rel',\n",
    "                  # 'item_mean_rel', 'item_count_rel', 'item_std_rel',\n",
    "                  #  'item_median_rel', 'item_kurt_rel', 'item_skew_rel']\n",
    "wide_cols = ['gender', 'occupation']\n",
    "crossed_cols = ['gender_occupation']\n",
    "\n",
    "cols_item = {'continuous_cols':[], 'cat_embed_cols':[], 'wide_cols': []}\n",
    "\n",
    "cols_user = {'continuous_cols':[], 'cat_embed_cols':[], 'wide_cols': []}"
   ]
  },
  {
   "cell_type": "code",
   "execution_count": null,
   "id": "8fc70e61-6e57-475b-a584-28f2143c978a",
   "metadata": {},
   "outputs": [],
   "source": [
    "e = Experiment(\n",
    "    [ MAP(K), \n",
    "      NDCG(K), \n",
    "      HitRate(K_list_metrics), \n",
    "      Coverage(K),\n",
    "      Surprisal(K),\n",
    "      MRR(K)],\n",
    "    test,\n",
    "    pos_neg_train,\n",
    "    query_column=\"user_idx\", item_column=\"item_idx\", rating_column=\"relevance\"\n",
    ")"
   ]
  },
  {
   "cell_type": "code",
   "execution_count": null,
   "id": "b1239639-00cd-4ab1-acdc-3c6d7b00870a",
   "metadata": {},
   "outputs": [],
   "source": [
    " bandit_models = {\n",
    "         'Neural TS' : [NeuralTS(user_cols = cols_user,\n",
    "                                    item_cols = cols_item,\n",
    "                                    dim_head=20,\n",
    "                                    deep_out_dim=20,\n",
    "                                    hidden_layers=[32, 20],\n",
    "                                    embedding_sizes=[32, 32, 64],\n",
    "                                    wide_out_dim=1,\n",
    "                                    head_dropout=0.8,\n",
    "                                    deep_dropout=0.4,\n",
    "                                    n_epochs=2,\n",
    "                                    opt_lr = 3e-4,\n",
    "                                    lr_min = 1e-5,\n",
    "                                    use_gpu = False,\n",
    "                                    plot_dir='test.png',\n",
    "                                    use_warp_loss=True,\n",
    "                                    cnt_neg_samples=200,\n",
    "                                    cnt_samples_for_predict=10,\n",
    "                                    exploration_coef = +1.0\n",
    "                                ), 'no_opt']   \n",
    "         }"
   ]
  },
  {
   "cell_type": "code",
   "execution_count": null,
   "id": "df0171a4-8c59-4c30-8034-23644dd0fe06",
   "metadata": {},
   "outputs": [],
   "source": [
    "def fit_predict_add_res(name, model, experiment, train, test, suffix=''):\n",
    "    \"\"\"\n",
    "    Run fit_predict for the `model`, measure time on fit_predict and evaluate metrics\n",
    "    \"\"\"\n",
    "    start_time=time.time()\n",
    "    \n",
    "    logs = {'log': train}\n",
    "    predict_params = {'k': K, 'users': test.select('user_idx').distinct()}\n",
    "    \n",
    "    if isinstance(model, (NeuralTS)):\n",
    "        logs['log'] = pos_neg_train\n",
    "\n",
    "    if isinstance(model, (NeuralTS)):\n",
    "        logs['item_features'] = item_features\n",
    "        logs['user_features'] = user_features \n",
    "    predict_params.update(logs)\n",
    "\n",
    "    model.fit(**logs)\n",
    "    fit_time = time.time() - start_time\n",
    "    \n",
    "    pred=model.predict(**predict_params)\n",
    "    pred.show(100)\n",
    "    pred.cache()\n",
    "    pred.count()\n",
    "    predict_time = time.time() - start_time - fit_time\n",
    "\n",
    "    experiment.add_result(name + suffix, pred)\n",
    "    metric_time = time.time() - start_time - fit_time - predict_time\n",
    "    experiment.results.loc[name + suffix, 'fit_time'] = fit_time\n",
    "    experiment.results.loc[name + suffix, 'predict_time'] = predict_time\n",
    "    experiment.results.loc[name + suffix, 'metric_time'] = metric_time\n",
    "    experiment.results.loc[name + suffix, 'full_time'] = (fit_time + \n",
    "                                                          predict_time +\n",
    "                                                          metric_time)\n",
    "    pred.unpersist()\n",
    "    print(experiment.results[['NDCG@{}'.format(K), 'MRR@{}'.format(K), 'Coverage@{}'.format(K), 'fit_time']].sort_values('NDCG@{}'.format(K), ascending=False))\n",
    "    #add for me\n",
    "    return pred"
   ]
  },
  {
   "cell_type": "code",
   "execution_count": null,
   "id": "a5e270a6-1077-43ef-86c0-9eed0aadd269",
   "metadata": {},
   "outputs": [],
   "source": [
    "def full_pipeline(models, experiment, train, test, suffix='', budget=BUDGET):\n",
    "    \"\"\"\n",
    "    For each model:\n",
    "        -  if required: run hyperparameters search, set best params and save param values to `experiment`\n",
    "        - pass model to `fit_predict_add_res`        \n",
    "    \"\"\"\n",
    "    \n",
    "    for name, [model, params] in models.items():\n",
    "        model.logger.info(msg='{} started'.format(name))\n",
    "        if params != 'no_opt':\n",
    "            model.logger.info(msg='{} optimization started'.format(name))\n",
    "            best_params = model.optimize(opt_train, \n",
    "                                         opt_val, \n",
    "                                         param_borders=params, \n",
    "                                         item_features=item_features,\n",
    "                                         user_features=user_features,\n",
    "                                         k=K, \n",
    "                                         budget=budget)\n",
    "            logger.info(msg='best params for {} are: {}'.format(name, best_params))\n",
    "            model.set_params(**best_params)\n",
    "        \n",
    "        logger.info(msg='{} fit_predict started'.format(name))\n",
    "        pred = fit_predict_add_res(name, model, experiment, train, test, suffix)\n",
    "        # here we call protected attribute to get all parameters set during model initialization\n",
    "        experiment.results.loc[name + suffix, 'params'] = str(model._init_args)\n",
    "        #add for me\n",
    "        return pred"
   ]
  },
  {
   "cell_type": "code",
   "execution_count": null,
   "id": "ca54985e-3e70-451a-bd03-25cd8c2c2326",
   "metadata": {},
   "outputs": [],
   "source": [
    "%%time\n",
    "pred = full_pipeline(bandit_models, e, train, test)"
   ]
  },
  {
   "cell_type": "code",
   "execution_count": null,
   "id": "425f2216-b01f-4c5a-bc63-dc5521bcefd5",
   "metadata": {},
   "outputs": [],
   "source": [
    "e.results.sort_values('NDCG@10', ascending=False)"
   ]
  }
 ],
 "metadata": {
  "kernelspec": {
   "display_name": "Python 3 (ipykernel)",
   "language": "python",
   "name": "python3"
  },
  "language_info": {
   "codemirror_mode": {
    "name": "ipython",
    "version": 3
   },
   "file_extension": ".py",
   "mimetype": "text/x-python",
   "name": "python",
   "nbconvert_exporter": "python",
   "pygments_lexer": "ipython3",
   "version": "3.9.16"
  }
 },
 "nbformat": 4,
 "nbformat_minor": 5
}
