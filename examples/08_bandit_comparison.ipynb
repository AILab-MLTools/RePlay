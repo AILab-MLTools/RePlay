{
 "cells": [
  {
   "cell_type": "markdown",
   "id": "62076295",
   "metadata": {},
   "source": [
    "# RePlay bandit models comparison\n",
    "\n",
    "We will show the main RePlay functionality and compare performance of RePlay models on well-known MovieLens dataset. For simplicity we consider here only the various bandit algorithms, both context-free and context-aware. The list of considered strategies for comparison:\n",
    "\n",
    "Context-free algorithms:\n",
    "* Most popular;\n",
    "* Vanilla UCB algorithm;\n",
    "* Vanilla TS algorithm; (Beta-Binomial);\n",
    "* KL-UCB [Smb et al];\n",
    "\n",
    "Contextual bandits algorithms:\n",
    "* Lin-UCB [Smb et al];\n",
    "* Linear TS [Smb et al] (Thompson sampling with linear feature vectors);\n",
    "\n",
    "\n",
    "### Dataset\n",
    "We will compare RePlay models on __MovieLens 1m__. \n",
    "\n",
    "### Dataset preprocessing: \n",
    "Ratings greater than or equal to 3 are considered as positive interactions.\n",
    "\n",
    "### Data split\n",
    "Dataset is split by date so that 20% of the last interactions as are placed in the test part. Cold items and users are dropped.\n",
    "\n",
    "### Predict:\n",
    "We will predict top-10 most relevant films for each user.\n",
    "\n",
    "### Metrics\n",
    "Quality metrics used:__ndcg@k, hitrate@k, map@k, mrr@k__ for k = 1, 5, 10\n",
    "Additional metrics used: __coverage@k__ and __surprisal@k__."
   ]
  },
  {
   "cell_type": "code",
   "execution_count": 1,
   "id": "60dd3ff3",
   "metadata": {},
   "outputs": [],
   "source": [
    "# ! pip install rs-datasets"
   ]
  },
  {
   "cell_type": "code",
   "execution_count": 2,
   "id": "1dd41af0",
   "metadata": {},
   "outputs": [],
   "source": [
    "%load_ext autoreload\n",
    "%autoreload 2"
   ]
  },
  {
   "cell_type": "code",
   "execution_count": 3,
   "id": "0bbb8512",
   "metadata": {},
   "outputs": [],
   "source": [
    "%config Completer.use_jedi = False"
   ]
  },
  {
   "cell_type": "code",
   "execution_count": 4,
   "id": "e55939ba",
   "metadata": {},
   "outputs": [],
   "source": [
    "import warnings\n",
    "from optuna.exceptions import ExperimentalWarning\n",
    "warnings.filterwarnings(\"ignore\", category=UserWarning)\n",
    "warnings.filterwarnings(\"ignore\", category=ExperimentalWarning)"
   ]
  },
  {
   "cell_type": "markdown",
   "id": "b6e65584",
   "metadata": {},
   "source": [
    "`State` object allows passing existing Spark session or create a new one, which will be used by the all RePlay modules.\n",
    "\n",
    "To create session with custom parameters ``spark.driver.memory`` and ``spark.sql.shuffle.partitions`` use function `get_spark_session` from `session_handler` module."
   ]
  },
  {
   "cell_type": "code",
   "execution_count": 5,
   "id": "74edb16a",
   "metadata": {},
   "outputs": [
    {
     "data": {
      "text/html": [
       "<style type='text/css'>\n",
       ".datatable table.frame { margin-bottom: 0; }\n",
       ".datatable table.frame thead { border-bottom: none; }\n",
       ".datatable table.frame tr.coltypes td {  color: #FFFFFF;  line-height: 6px;  padding: 0 0.5em;}\n",
       ".datatable .bool    { background: #DDDD99; }\n",
       ".datatable .object  { background: #565656; }\n",
       ".datatable .int     { background: #5D9E5D; }\n",
       ".datatable .float   { background: #4040CC; }\n",
       ".datatable .str     { background: #CC4040; }\n",
       ".datatable .time    { background: #40CC40; }\n",
       ".datatable .row_index {  background: var(--jp-border-color3);  border-right: 1px solid var(--jp-border-color0);  color: var(--jp-ui-font-color3);  font-size: 9px;}\n",
       ".datatable .frame tbody td { text-align: left; }\n",
       ".datatable .frame tr.coltypes .row_index {  background: var(--jp-border-color0);}\n",
       ".datatable th:nth-child(2) { padding-left: 12px; }\n",
       ".datatable .hellipsis {  color: var(--jp-cell-editor-border-color);}\n",
       ".datatable .vellipsis {  background: var(--jp-layout-color0);  color: var(--jp-cell-editor-border-color);}\n",
       ".datatable .na {  color: var(--jp-cell-editor-border-color);  font-size: 80%;}\n",
       ".datatable .sp {  opacity: 0.25;}\n",
       ".datatable .footer { font-size: 9px; }\n",
       ".datatable .frame_dimensions {  background: var(--jp-border-color3);  border-top: 1px solid var(--jp-border-color0);  color: var(--jp-ui-font-color3);  display: inline-block;  opacity: 0.6;  padding: 1px 10px 1px 5px;}\n",
       "</style>\n"
      ],
      "text/plain": [
       "<IPython.core.display.HTML object>"
      ]
     },
     "metadata": {},
     "output_type": "display_data"
    }
   ],
   "source": [
    "import logging\n",
    "import time\n",
    "\n",
    "from pyspark.sql import functions as sf, types as st\n",
    "from pyspark.sql.types import IntegerType\n",
    "\n",
    "from replay.data import Dataset, FeatureHint, FeatureInfo, FeatureSchema, FeatureType\n",
    "from replay.experimental.preprocessing.data_preparator import Indexer, DataPreparator\n",
    "from replay.metrics import Experiment\n",
    "from replay.metrics import Coverage, HitRate, MRR, MAP, NDCG, Surprisal\n",
    "from replay.models import (\n",
    "    PopRec, \n",
    "    RandomRec,\n",
    "    UCB,\n",
    "    Wilson, \n",
    "    ThompsonSampling, #added TS\n",
    "    LinUCB, #added LinUCB (disjoint version)\n",
    ")\n",
    "\n",
    "from replay.models.base_rec import HybridRecommender\n",
    "from replay.utils.session_handler import State\n",
    "from replay.splitters import TimeSplitter\n",
    "from replay.utils.spark_utils import convert2spark, get_log_info\n",
    "from rs_datasets import MovieLens\n",
    "\n",
    "import pandas as pd\n",
    "import numpy as np"
   ]
  },
  {
   "cell_type": "code",
   "execution_count": 6,
   "id": "69aa3572",
   "metadata": {},
   "outputs": [
    {
     "name": "stderr",
     "output_type": "stream",
     "text": [
      "24/08/25 22:30:33 WARN Utils: Your hostname, sudakovcom-MS-7D48 resolves to a loopback address: 127.0.1.1; using 10.255.173.26 instead (on interface enp3s0)\n",
      "24/08/25 22:30:33 WARN Utils: Set SPARK_LOCAL_IP if you need to bind to another address\n",
      "Using Spark's default log4j profile: org/apache/spark/log4j-defaults.properties\n",
      "Setting default log level to \"WARN\".\n",
      "To adjust logging level use sc.setLogLevel(newLevel). For SparkR, use setLogLevel(newLevel).\n",
      "24/08/25 22:30:34 WARN NativeCodeLoader: Unable to load native-hadoop library for your platform... using builtin-java classes where applicable\n",
      "24/08/25 22:30:34 WARN SparkConf: Note that spark.local.dir will be overridden by the value set by the cluster manager (via SPARK_LOCAL_DIRS in mesos/standalone/kubernetes and LOCAL_DIRS in YARN).\n"
     ]
    },
    {
     "data": {
      "text/html": [
       "\n",
       "            <div>\n",
       "                <p><b>SparkSession - hive</b></p>\n",
       "                \n",
       "        <div>\n",
       "            <p><b>SparkContext</b></p>\n",
       "\n",
       "            <p><a href=\"http://localhost:4040\">Spark UI</a></p>\n",
       "\n",
       "            <dl>\n",
       "              <dt>Version</dt>\n",
       "                <dd><code>v3.2.4</code></dd>\n",
       "              <dt>Master</dt>\n",
       "                <dd><code>local[*]</code></dd>\n",
       "              <dt>AppName</dt>\n",
       "                <dd><code>pyspark-shell</code></dd>\n",
       "            </dl>\n",
       "        </div>\n",
       "        \n",
       "            </div>\n",
       "        "
      ],
      "text/plain": [
       "<pyspark.sql.session.SparkSession at 0x736c8b7c4580>"
      ]
     },
     "execution_count": 6,
     "metadata": {},
     "output_type": "execute_result"
    }
   ],
   "source": [
    "spark = State().session\n",
    "spark"
   ]
  },
  {
   "cell_type": "code",
   "execution_count": 7,
   "id": "83fabd91",
   "metadata": {},
   "outputs": [],
   "source": [
    "spark.sparkContext.setLogLevel('ERROR')"
   ]
  },
  {
   "cell_type": "code",
   "execution_count": 8,
   "id": "2d473bfb",
   "metadata": {},
   "outputs": [],
   "source": [
    "logger = logging.getLogger(\"replay\")"
   ]
  },
  {
   "cell_type": "code",
   "execution_count": 9,
   "id": "4d9ed2bc",
   "metadata": {},
   "outputs": [],
   "source": [
    "K = 10\n",
    "K_list_metrics = [1, 5, 10]\n",
    "BUDGET = 20\n",
    "BUDGET_NN = 10\n",
    "SEED = 12345"
   ]
  },
  {
   "cell_type": "markdown",
   "id": "60b558a9",
   "metadata": {},
   "source": [
    "## 0. Preprocessing <a name='data-preparator'></a>"
   ]
  },
  {
   "cell_type": "markdown",
   "id": "b749b239",
   "metadata": {},
   "source": [
    "### 0.1 Data loading"
   ]
  },
  {
   "cell_type": "code",
   "execution_count": 10,
   "id": "4ea48703",
   "metadata": {},
   "outputs": [
    {
     "name": "stdout",
     "output_type": "stream",
     "text": [
      "ratings\n"
     ]
    },
    {
     "data": {
      "text/html": [
       "<div>\n",
       "<style scoped>\n",
       "    .dataframe tbody tr th:only-of-type {\n",
       "        vertical-align: middle;\n",
       "    }\n",
       "\n",
       "    .dataframe tbody tr th {\n",
       "        vertical-align: top;\n",
       "    }\n",
       "\n",
       "    .dataframe thead th {\n",
       "        text-align: right;\n",
       "    }\n",
       "</style>\n",
       "<table border=\"1\" class=\"dataframe\">\n",
       "  <thead>\n",
       "    <tr style=\"text-align: right;\">\n",
       "      <th></th>\n",
       "      <th>user_id</th>\n",
       "      <th>item_id</th>\n",
       "      <th>rating</th>\n",
       "      <th>timestamp</th>\n",
       "    </tr>\n",
       "  </thead>\n",
       "  <tbody>\n",
       "    <tr>\n",
       "      <th>0</th>\n",
       "      <td>1</td>\n",
       "      <td>1193</td>\n",
       "      <td>5</td>\n",
       "      <td>978300760</td>\n",
       "    </tr>\n",
       "    <tr>\n",
       "      <th>1</th>\n",
       "      <td>1</td>\n",
       "      <td>661</td>\n",
       "      <td>3</td>\n",
       "      <td>978302109</td>\n",
       "    </tr>\n",
       "    <tr>\n",
       "      <th>2</th>\n",
       "      <td>1</td>\n",
       "      <td>914</td>\n",
       "      <td>3</td>\n",
       "      <td>978301968</td>\n",
       "    </tr>\n",
       "  </tbody>\n",
       "</table>\n",
       "</div>"
      ],
      "text/plain": [
       "   user_id  item_id  rating  timestamp\n",
       "0        1     1193       5  978300760\n",
       "1        1      661       3  978302109\n",
       "2        1      914       3  978301968"
      ]
     },
     "metadata": {},
     "output_type": "display_data"
    },
    {
     "name": "stdout",
     "output_type": "stream",
     "text": [
      "\n",
      "users\n"
     ]
    },
    {
     "data": {
      "text/html": [
       "<div>\n",
       "<style scoped>\n",
       "    .dataframe tbody tr th:only-of-type {\n",
       "        vertical-align: middle;\n",
       "    }\n",
       "\n",
       "    .dataframe tbody tr th {\n",
       "        vertical-align: top;\n",
       "    }\n",
       "\n",
       "    .dataframe thead th {\n",
       "        text-align: right;\n",
       "    }\n",
       "</style>\n",
       "<table border=\"1\" class=\"dataframe\">\n",
       "  <thead>\n",
       "    <tr style=\"text-align: right;\">\n",
       "      <th></th>\n",
       "      <th>user_id</th>\n",
       "      <th>gender</th>\n",
       "      <th>age</th>\n",
       "      <th>occupation</th>\n",
       "      <th>zip_code</th>\n",
       "    </tr>\n",
       "  </thead>\n",
       "  <tbody>\n",
       "    <tr>\n",
       "      <th>0</th>\n",
       "      <td>1</td>\n",
       "      <td>F</td>\n",
       "      <td>1</td>\n",
       "      <td>10</td>\n",
       "      <td>48067</td>\n",
       "    </tr>\n",
       "    <tr>\n",
       "      <th>1</th>\n",
       "      <td>2</td>\n",
       "      <td>M</td>\n",
       "      <td>56</td>\n",
       "      <td>16</td>\n",
       "      <td>70072</td>\n",
       "    </tr>\n",
       "    <tr>\n",
       "      <th>2</th>\n",
       "      <td>3</td>\n",
       "      <td>M</td>\n",
       "      <td>25</td>\n",
       "      <td>15</td>\n",
       "      <td>55117</td>\n",
       "    </tr>\n",
       "  </tbody>\n",
       "</table>\n",
       "</div>"
      ],
      "text/plain": [
       "   user_id gender  age  occupation zip_code\n",
       "0        1      F    1          10    48067\n",
       "1        2      M   56          16    70072\n",
       "2        3      M   25          15    55117"
      ]
     },
     "metadata": {},
     "output_type": "display_data"
    },
    {
     "name": "stdout",
     "output_type": "stream",
     "text": [
      "\n",
      "items\n"
     ]
    },
    {
     "data": {
      "text/html": [
       "<div>\n",
       "<style scoped>\n",
       "    .dataframe tbody tr th:only-of-type {\n",
       "        vertical-align: middle;\n",
       "    }\n",
       "\n",
       "    .dataframe tbody tr th {\n",
       "        vertical-align: top;\n",
       "    }\n",
       "\n",
       "    .dataframe thead th {\n",
       "        text-align: right;\n",
       "    }\n",
       "</style>\n",
       "<table border=\"1\" class=\"dataframe\">\n",
       "  <thead>\n",
       "    <tr style=\"text-align: right;\">\n",
       "      <th></th>\n",
       "      <th>item_id</th>\n",
       "      <th>title</th>\n",
       "      <th>genres</th>\n",
       "    </tr>\n",
       "  </thead>\n",
       "  <tbody>\n",
       "    <tr>\n",
       "      <th>0</th>\n",
       "      <td>1</td>\n",
       "      <td>Toy Story (1995)</td>\n",
       "      <td>Animation|Children's|Comedy</td>\n",
       "    </tr>\n",
       "    <tr>\n",
       "      <th>1</th>\n",
       "      <td>2</td>\n",
       "      <td>Jumanji (1995)</td>\n",
       "      <td>Adventure|Children's|Fantasy</td>\n",
       "    </tr>\n",
       "    <tr>\n",
       "      <th>2</th>\n",
       "      <td>3</td>\n",
       "      <td>Grumpier Old Men (1995)</td>\n",
       "      <td>Comedy|Romance</td>\n",
       "    </tr>\n",
       "  </tbody>\n",
       "</table>\n",
       "</div>"
      ],
      "text/plain": [
       "   item_id                    title                        genres\n",
       "0        1         Toy Story (1995)   Animation|Children's|Comedy\n",
       "1        2           Jumanji (1995)  Adventure|Children's|Fantasy\n",
       "2        3  Grumpier Old Men (1995)                Comedy|Romance"
      ]
     },
     "metadata": {},
     "output_type": "display_data"
    },
    {
     "name": "stdout",
     "output_type": "stream",
     "text": [
      "\n"
     ]
    }
   ],
   "source": [
    "data = MovieLens(\"1m\")\n",
    "data.info()"
   ]
  },
  {
   "cell_type": "code",
   "execution_count": 11,
   "id": "1f5be67f",
   "metadata": {},
   "outputs": [
    {
     "data": {
      "text/html": [
       "<div>\n",
       "<style scoped>\n",
       "    .dataframe tbody tr th:only-of-type {\n",
       "        vertical-align: middle;\n",
       "    }\n",
       "\n",
       "    .dataframe tbody tr th {\n",
       "        vertical-align: top;\n",
       "    }\n",
       "\n",
       "    .dataframe thead th {\n",
       "        text-align: right;\n",
       "    }\n",
       "</style>\n",
       "<table border=\"1\" class=\"dataframe\">\n",
       "  <thead>\n",
       "    <tr style=\"text-align: right;\">\n",
       "      <th></th>\n",
       "      <th>user_id</th>\n",
       "      <th>item_id</th>\n",
       "      <th>rating</th>\n",
       "      <th>timestamp</th>\n",
       "    </tr>\n",
       "  </thead>\n",
       "  <tbody>\n",
       "    <tr>\n",
       "      <th>0</th>\n",
       "      <td>1</td>\n",
       "      <td>1193</td>\n",
       "      <td>5</td>\n",
       "      <td>978300760</td>\n",
       "    </tr>\n",
       "    <tr>\n",
       "      <th>1</th>\n",
       "      <td>1</td>\n",
       "      <td>661</td>\n",
       "      <td>3</td>\n",
       "      <td>978302109</td>\n",
       "    </tr>\n",
       "    <tr>\n",
       "      <th>2</th>\n",
       "      <td>1</td>\n",
       "      <td>914</td>\n",
       "      <td>3</td>\n",
       "      <td>978301968</td>\n",
       "    </tr>\n",
       "    <tr>\n",
       "      <th>3</th>\n",
       "      <td>1</td>\n",
       "      <td>3408</td>\n",
       "      <td>4</td>\n",
       "      <td>978300275</td>\n",
       "    </tr>\n",
       "    <tr>\n",
       "      <th>4</th>\n",
       "      <td>1</td>\n",
       "      <td>2355</td>\n",
       "      <td>5</td>\n",
       "      <td>978824291</td>\n",
       "    </tr>\n",
       "    <tr>\n",
       "      <th>...</th>\n",
       "      <td>...</td>\n",
       "      <td>...</td>\n",
       "      <td>...</td>\n",
       "      <td>...</td>\n",
       "    </tr>\n",
       "    <tr>\n",
       "      <th>1000204</th>\n",
       "      <td>6040</td>\n",
       "      <td>1091</td>\n",
       "      <td>1</td>\n",
       "      <td>956716541</td>\n",
       "    </tr>\n",
       "    <tr>\n",
       "      <th>1000205</th>\n",
       "      <td>6040</td>\n",
       "      <td>1094</td>\n",
       "      <td>5</td>\n",
       "      <td>956704887</td>\n",
       "    </tr>\n",
       "    <tr>\n",
       "      <th>1000206</th>\n",
       "      <td>6040</td>\n",
       "      <td>562</td>\n",
       "      <td>5</td>\n",
       "      <td>956704746</td>\n",
       "    </tr>\n",
       "    <tr>\n",
       "      <th>1000207</th>\n",
       "      <td>6040</td>\n",
       "      <td>1096</td>\n",
       "      <td>4</td>\n",
       "      <td>956715648</td>\n",
       "    </tr>\n",
       "    <tr>\n",
       "      <th>1000208</th>\n",
       "      <td>6040</td>\n",
       "      <td>1097</td>\n",
       "      <td>4</td>\n",
       "      <td>956715569</td>\n",
       "    </tr>\n",
       "  </tbody>\n",
       "</table>\n",
       "<p>1000209 rows × 4 columns</p>\n",
       "</div>"
      ],
      "text/plain": [
       "         user_id  item_id  rating  timestamp\n",
       "0              1     1193       5  978300760\n",
       "1              1      661       3  978302109\n",
       "2              1      914       3  978301968\n",
       "3              1     3408       4  978300275\n",
       "4              1     2355       5  978824291\n",
       "...          ...      ...     ...        ...\n",
       "1000204     6040     1091       1  956716541\n",
       "1000205     6040     1094       5  956704887\n",
       "1000206     6040      562       5  956704746\n",
       "1000207     6040     1096       4  956715648\n",
       "1000208     6040     1097       4  956715569\n",
       "\n",
       "[1000209 rows x 4 columns]"
      ]
     },
     "execution_count": 11,
     "metadata": {},
     "output_type": "execute_result"
    }
   ],
   "source": [
    "data.ratings"
   ]
  },
  {
   "cell_type": "markdown",
   "id": "0b5d9cfe",
   "metadata": {},
   "source": [
    "#### log preprocessing\n",
    "\n",
    "- converting to spark dataframe\n",
    "- renaming columns\n",
    "- checking for nulls\n",
    "- converting timestamp to Timestamp format"
   ]
  },
  {
   "cell_type": "code",
   "execution_count": 12,
   "id": "f48a174d",
   "metadata": {},
   "outputs": [],
   "source": [
    "preparator = DataPreparator()"
   ]
  },
  {
   "cell_type": "code",
   "execution_count": 13,
   "id": "ddc4385e",
   "metadata": {},
   "outputs": [
    {
     "name": "stderr",
     "output_type": "stream",
     "text": [
      "25-Aug-24 22:30:36, replay, INFO: Columns with ids of users or items are present in mapping. The dataframe will be treated as an interactions log.\n",
      "/home/sudakovcom/Desktop/RePlayHDILab2024/.conda/lib/python3.9/site-packages/pyspark/sql/pandas/conversion.py:471: FutureWarning: iteritems is deprecated and will be removed in a future version. Use .items instead.\n",
      "  arrow_data = [[(c, t) for (_, c), t in zip(pdf_slice.iteritems(), arrow_types)]\n"
     ]
    },
    {
     "name": "stdout",
     "output_type": "stream",
     "text": [
      "CPU times: user 18.3 ms, sys: 9.02 ms, total: 27.3 ms\n",
      "Wall time: 2.66 s\n"
     ]
    }
   ],
   "source": [
    "%%time\n",
    "log = preparator.transform(columns_mapping={'user_id': 'user_id',\n",
    "                                      'item_id': 'item_id',\n",
    "                                      'relevance': 'rating',\n",
    "                                      'timestamp': 'timestamp'\n",
    "                                     }, \n",
    "                           data=data.ratings)"
   ]
  },
  {
   "cell_type": "code",
   "execution_count": 14,
   "id": "7688de58",
   "metadata": {},
   "outputs": [
    {
     "name": "stdout",
     "output_type": "stream",
     "text": [
      "+-------+-------+---------+-------------------+\n",
      "|user_id|item_id|relevance|          timestamp|\n",
      "+-------+-------+---------+-------------------+\n",
      "|      1|   1193|      5.0|2001-01-01 01:12:40|\n",
      "|      1|    661|      3.0|2001-01-01 01:35:09|\n",
      "+-------+-------+---------+-------------------+\n",
      "only showing top 2 rows\n",
      "\n"
     ]
    },
    {
     "data": {
      "text/plain": [
       "1000209"
      ]
     },
     "execution_count": 14,
     "metadata": {},
     "output_type": "execute_result"
    }
   ],
   "source": [
    "log.show(2)\n",
    "#total number of interactions\n",
    "log.count()"
   ]
  },
  {
   "cell_type": "code",
   "execution_count": 15,
   "id": "e7e2623a",
   "metadata": {},
   "outputs": [
    {
     "data": {
      "text/plain": [
       "836478"
      ]
     },
     "execution_count": 15,
     "metadata": {},
     "output_type": "execute_result"
    }
   ],
   "source": [
    "# will consider ratings >= 3 as positive feedback. A positive feedback is treated with relevance = 1\n",
    "only_positives_log = log.filter(sf.col('relevance') >= 3).withColumn('relevance', sf.lit(1))\n",
    "only_positives_log.count()"
   ]
  },
  {
   "cell_type": "markdown",
   "id": "078ff4ce",
   "metadata": {},
   "source": [
    "<a id='indexing'></a>\n",
    "### 0.2. Indexing"
   ]
  },
  {
   "cell_type": "markdown",
   "id": "57797c7d",
   "metadata": {},
   "source": [
    "Convert given users' and items' identifiers (\\_id) to integers starting at zero without gaps (\\_idx) with Indexer class."
   ]
  },
  {
   "cell_type": "code",
   "execution_count": 16,
   "id": "c6c4308a",
   "metadata": {},
   "outputs": [],
   "source": [
    "indexer = Indexer(user_col='user_id', item_col='item_id')"
   ]
  },
  {
   "cell_type": "markdown",
   "id": "87098cba",
   "metadata": {},
   "source": [
    "Take all available user and item ids from log and features and pass them to Indexer. The _ids_ could repeat, the indexes will be ordered by label frequencies, so the most frequent label gets index 0."
   ]
  },
  {
   "cell_type": "code",
   "execution_count": 17,
   "id": "64fdc590",
   "metadata": {},
   "outputs": [
    {
     "name": "stdout",
     "output_type": "stream",
     "text": [
      "CPU times: user 14.3 ms, sys: 2.54 ms, total: 16.9 ms\n",
      "Wall time: 1.04 s\n"
     ]
    }
   ],
   "source": [
    "%%time\n",
    "indexer.fit(users=log.select('user_id'),\n",
    "           items=log.select('item_id'))"
   ]
  },
  {
   "cell_type": "code",
   "execution_count": 18,
   "id": "6edcc503",
   "metadata": {},
   "outputs": [
    {
     "name": "stdout",
     "output_type": "stream",
     "text": [
      "+--------+--------+---------+-------------------+\n",
      "|user_idx|item_idx|relevance|          timestamp|\n",
      "+--------+--------+---------+-------------------+\n",
      "|    4131|      43|        1|2001-01-01 01:12:40|\n",
      "|    4131|     585|        1|2001-01-01 01:35:09|\n",
      "+--------+--------+---------+-------------------+\n",
      "only showing top 2 rows\n",
      "\n",
      "CPU times: user 17.3 ms, sys: 6.54 ms, total: 23.8 ms\n",
      "Wall time: 888 ms\n"
     ]
    },
    {
     "data": {
      "text/plain": [
       "836478"
      ]
     },
     "execution_count": 18,
     "metadata": {},
     "output_type": "execute_result"
    }
   ],
   "source": [
    "%%time\n",
    "log_replay = indexer.transform(df=only_positives_log)\n",
    "log_replay.show(2)\n",
    "log_replay.count()"
   ]
  },
  {
   "cell_type": "markdown",
   "id": "528bbff3",
   "metadata": {},
   "source": [
    "### 0.2. Data split"
   ]
  },
  {
   "cell_type": "code",
   "execution_count": 19,
   "id": "77706881",
   "metadata": {},
   "outputs": [
    {
     "name": "stdout",
     "output_type": "stream",
     "text": [
      "train info:\n",
      " total lines: 669181, total users: 5397, total items: 3569\n"
     ]
    },
    {
     "name": "stderr",
     "output_type": "stream",
     "text": [
      "                                                                                \r"
     ]
    },
    {
     "name": "stdout",
     "output_type": "stream",
     "text": [
      "test info:\n",
      " total lines: 86542, total users: 1139, total items: 3279\n"
     ]
    }
   ],
   "source": [
    "# train/test split \n",
    "train_spl = TimeSplitter(\n",
    "    time_threshold=0.2,\n",
    "    drop_cold_items=True,\n",
    "    drop_cold_users=True,\n",
    "    query_column=\"user_idx\",\n",
    "    item_column=\"item_idx\",\n",
    ")\n",
    "\n",
    "train, test = train_spl.split(log_replay)\n",
    "print('train info:\\n', get_log_info(train))\n",
    "print('test info:\\n', get_log_info(test))"
   ]
  },
  {
   "cell_type": "code",
   "execution_count": 20,
   "id": "c235087b",
   "metadata": {},
   "outputs": [
    {
     "data": {
      "text/plain": [
       "False"
      ]
     },
     "execution_count": 20,
     "metadata": {},
     "output_type": "execute_result"
    }
   ],
   "source": [
    "train.is_cached"
   ]
  },
  {
   "cell_type": "code",
   "execution_count": 21,
   "id": "193687a6",
   "metadata": {},
   "outputs": [
    {
     "name": "stderr",
     "output_type": "stream",
     "text": [
      "                                                                                \r"
     ]
    },
    {
     "data": {
      "text/plain": [
       "(535343, 24241)"
      ]
     },
     "execution_count": 21,
     "metadata": {},
     "output_type": "execute_result"
    }
   ],
   "source": [
    "# train/test split for hyperparameters selection\n",
    "opt_train, opt_val = train_spl.split(train)\n",
    "opt_train.count(), opt_val.count()"
   ]
  },
  {
   "cell_type": "code",
   "execution_count": 22,
   "id": "48b75d6b",
   "metadata": {},
   "outputs": [
    {
     "data": {
      "text/plain": [
       "False"
      ]
     },
     "execution_count": 22,
     "metadata": {},
     "output_type": "execute_result"
    }
   ],
   "source": [
    "opt_train.is_cached"
   ]
  },
  {
   "cell_type": "code",
   "execution_count": 23,
   "id": "5eb1f855",
   "metadata": {},
   "outputs": [
    {
     "data": {
      "text/plain": [
       "798993"
      ]
     },
     "execution_count": 23,
     "metadata": {},
     "output_type": "execute_result"
    }
   ],
   "source": [
    "# negative feedback will be used for Wilson and UCB models\n",
    "only_negatives_log = indexer.transform(df=log.filter(sf.col('relevance') < 3).withColumn('relevance', sf.lit(0.)))\n",
    "test_start = test.agg(sf.min('timestamp')).collect()[0][0]\n",
    "\n",
    "# train with both positive and negative feedback\n",
    "pos_neg_train=(train\n",
    "              .withColumn('relevance', sf.lit(1.))\n",
    "              .union(only_negatives_log.filter(sf.col('timestamp') < test_start))\n",
    "             )\n",
    "pos_neg_train.cache()\n",
    "pos_neg_train.count()"
   ]
  },
  {
   "cell_type": "code",
   "execution_count": 24,
   "id": "7568c273",
   "metadata": {},
   "outputs": [
    {
     "data": {
      "text/plain": [
       "True"
      ]
     },
     "execution_count": 24,
     "metadata": {},
     "output_type": "execute_result"
    }
   ],
   "source": [
    "pos_neg_train.is_cached"
   ]
  },
  {
   "cell_type": "code",
   "execution_count": 25,
   "id": "855797ec",
   "metadata": {},
   "outputs": [
    {
     "name": "stdout",
     "output_type": "stream",
     "text": [
      "+--------+--------+---------+-------------------+\n",
      "|user_idx|item_idx|relevance|          timestamp|\n",
      "+--------+--------+---------+-------------------+\n",
      "|     677|    1314|      1.0|2000-12-02 08:30:12|\n",
      "|     677|    1282|      1.0|2000-12-02 08:53:52|\n",
      "|     677|     731|      1.0|2000-12-02 08:41:26|\n",
      "|     677|     234|      1.0|2000-12-02 08:23:47|\n",
      "|     677|     190|      1.0|2000-12-02 08:50:33|\n",
      "|     677|     133|      1.0|2000-12-02 08:27:28|\n",
      "|     677|     546|      1.0|2000-12-02 08:32:02|\n",
      "|     677|    2090|      1.0|2000-12-02 08:53:17|\n",
      "|     677|     421|      1.0|2000-12-02 08:50:13|\n",
      "|     677|     154|      1.0|2000-12-02 08:44:14|\n",
      "|     677|      96|      1.0|2000-12-02 08:11:05|\n",
      "|     677|     221|      1.0|2000-12-02 08:58:08|\n",
      "|     677|     395|      1.0|2000-12-02 08:33:02|\n",
      "|     677|      19|      1.0|2000-12-02 08:46:50|\n",
      "|     677|      73|      1.0|2000-12-02 08:31:30|\n",
      "|     677|     182|      1.0|2000-12-02 08:18:10|\n",
      "|     677|     836|      1.0|2000-12-02 08:47:30|\n",
      "|     677|    1668|      1.0|2000-12-02 08:55:22|\n",
      "|     677|     436|      1.0|2000-12-02 08:55:39|\n",
      "|     677|     586|      1.0|2000-12-02 08:38:27|\n",
      "+--------+--------+---------+-------------------+\n",
      "only showing top 20 rows\n",
      "\n"
     ]
    }
   ],
   "source": [
    "pos_neg_train.show(20)"
   ]
  },
  {
   "cell_type": "code",
   "execution_count": 26,
   "id": "b6221d25",
   "metadata": {},
   "outputs": [
    {
     "data": {
      "text/html": [
       "<div>\n",
       "<style scoped>\n",
       "    .dataframe tbody tr th:only-of-type {\n",
       "        vertical-align: middle;\n",
       "    }\n",
       "\n",
       "    .dataframe tbody tr th {\n",
       "        vertical-align: top;\n",
       "    }\n",
       "\n",
       "    .dataframe thead th {\n",
       "        text-align: right;\n",
       "    }\n",
       "</style>\n",
       "<table border=\"1\" class=\"dataframe\">\n",
       "  <thead>\n",
       "    <tr style=\"text-align: right;\">\n",
       "      <th></th>\n",
       "      <th>user_idx</th>\n",
       "      <th>item_idx</th>\n",
       "      <th>relevance</th>\n",
       "      <th>timestamp</th>\n",
       "    </tr>\n",
       "  </thead>\n",
       "  <tbody>\n",
       "    <tr>\n",
       "      <th>0</th>\n",
       "      <td>677</td>\n",
       "      <td>1314</td>\n",
       "      <td>1.0</td>\n",
       "      <td>2000-12-02 08:30:12</td>\n",
       "    </tr>\n",
       "    <tr>\n",
       "      <th>1</th>\n",
       "      <td>677</td>\n",
       "      <td>1282</td>\n",
       "      <td>1.0</td>\n",
       "      <td>2000-12-02 08:53:52</td>\n",
       "    </tr>\n",
       "    <tr>\n",
       "      <th>2</th>\n",
       "      <td>677</td>\n",
       "      <td>731</td>\n",
       "      <td>1.0</td>\n",
       "      <td>2000-12-02 08:41:26</td>\n",
       "    </tr>\n",
       "    <tr>\n",
       "      <th>3</th>\n",
       "      <td>677</td>\n",
       "      <td>234</td>\n",
       "      <td>1.0</td>\n",
       "      <td>2000-12-02 08:23:47</td>\n",
       "    </tr>\n",
       "    <tr>\n",
       "      <th>4</th>\n",
       "      <td>677</td>\n",
       "      <td>190</td>\n",
       "      <td>1.0</td>\n",
       "      <td>2000-12-02 08:50:33</td>\n",
       "    </tr>\n",
       "    <tr>\n",
       "      <th>5</th>\n",
       "      <td>677</td>\n",
       "      <td>133</td>\n",
       "      <td>1.0</td>\n",
       "      <td>2000-12-02 08:27:28</td>\n",
       "    </tr>\n",
       "    <tr>\n",
       "      <th>6</th>\n",
       "      <td>677</td>\n",
       "      <td>546</td>\n",
       "      <td>1.0</td>\n",
       "      <td>2000-12-02 08:32:02</td>\n",
       "    </tr>\n",
       "    <tr>\n",
       "      <th>7</th>\n",
       "      <td>677</td>\n",
       "      <td>2090</td>\n",
       "      <td>1.0</td>\n",
       "      <td>2000-12-02 08:53:17</td>\n",
       "    </tr>\n",
       "    <tr>\n",
       "      <th>8</th>\n",
       "      <td>677</td>\n",
       "      <td>421</td>\n",
       "      <td>1.0</td>\n",
       "      <td>2000-12-02 08:50:13</td>\n",
       "    </tr>\n",
       "    <tr>\n",
       "      <th>9</th>\n",
       "      <td>677</td>\n",
       "      <td>154</td>\n",
       "      <td>1.0</td>\n",
       "      <td>2000-12-02 08:44:14</td>\n",
       "    </tr>\n",
       "    <tr>\n",
       "      <th>10</th>\n",
       "      <td>677</td>\n",
       "      <td>96</td>\n",
       "      <td>1.0</td>\n",
       "      <td>2000-12-02 08:11:05</td>\n",
       "    </tr>\n",
       "    <tr>\n",
       "      <th>11</th>\n",
       "      <td>677</td>\n",
       "      <td>221</td>\n",
       "      <td>1.0</td>\n",
       "      <td>2000-12-02 08:58:08</td>\n",
       "    </tr>\n",
       "    <tr>\n",
       "      <th>12</th>\n",
       "      <td>677</td>\n",
       "      <td>395</td>\n",
       "      <td>1.0</td>\n",
       "      <td>2000-12-02 08:33:02</td>\n",
       "    </tr>\n",
       "    <tr>\n",
       "      <th>13</th>\n",
       "      <td>677</td>\n",
       "      <td>19</td>\n",
       "      <td>1.0</td>\n",
       "      <td>2000-12-02 08:46:50</td>\n",
       "    </tr>\n",
       "    <tr>\n",
       "      <th>14</th>\n",
       "      <td>677</td>\n",
       "      <td>73</td>\n",
       "      <td>1.0</td>\n",
       "      <td>2000-12-02 08:31:30</td>\n",
       "    </tr>\n",
       "    <tr>\n",
       "      <th>15</th>\n",
       "      <td>677</td>\n",
       "      <td>182</td>\n",
       "      <td>1.0</td>\n",
       "      <td>2000-12-02 08:18:10</td>\n",
       "    </tr>\n",
       "    <tr>\n",
       "      <th>16</th>\n",
       "      <td>677</td>\n",
       "      <td>836</td>\n",
       "      <td>1.0</td>\n",
       "      <td>2000-12-02 08:47:30</td>\n",
       "    </tr>\n",
       "    <tr>\n",
       "      <th>17</th>\n",
       "      <td>677</td>\n",
       "      <td>1668</td>\n",
       "      <td>1.0</td>\n",
       "      <td>2000-12-02 08:55:22</td>\n",
       "    </tr>\n",
       "    <tr>\n",
       "      <th>18</th>\n",
       "      <td>677</td>\n",
       "      <td>436</td>\n",
       "      <td>1.0</td>\n",
       "      <td>2000-12-02 08:55:39</td>\n",
       "    </tr>\n",
       "    <tr>\n",
       "      <th>19</th>\n",
       "      <td>677</td>\n",
       "      <td>586</td>\n",
       "      <td>1.0</td>\n",
       "      <td>2000-12-02 08:38:27</td>\n",
       "    </tr>\n",
       "  </tbody>\n",
       "</table>\n",
       "</div>"
      ],
      "text/plain": [
       "    user_idx  item_idx  relevance           timestamp\n",
       "0        677      1314        1.0 2000-12-02 08:30:12\n",
       "1        677      1282        1.0 2000-12-02 08:53:52\n",
       "2        677       731        1.0 2000-12-02 08:41:26\n",
       "3        677       234        1.0 2000-12-02 08:23:47\n",
       "4        677       190        1.0 2000-12-02 08:50:33\n",
       "5        677       133        1.0 2000-12-02 08:27:28\n",
       "6        677       546        1.0 2000-12-02 08:32:02\n",
       "7        677      2090        1.0 2000-12-02 08:53:17\n",
       "8        677       421        1.0 2000-12-02 08:50:13\n",
       "9        677       154        1.0 2000-12-02 08:44:14\n",
       "10       677        96        1.0 2000-12-02 08:11:05\n",
       "11       677       221        1.0 2000-12-02 08:58:08\n",
       "12       677       395        1.0 2000-12-02 08:33:02\n",
       "13       677        19        1.0 2000-12-02 08:46:50\n",
       "14       677        73        1.0 2000-12-02 08:31:30\n",
       "15       677       182        1.0 2000-12-02 08:18:10\n",
       "16       677       836        1.0 2000-12-02 08:47:30\n",
       "17       677      1668        1.0 2000-12-02 08:55:22\n",
       "18       677       436        1.0 2000-12-02 08:55:39\n",
       "19       677       586        1.0 2000-12-02 08:38:27"
      ]
     },
     "execution_count": 26,
     "metadata": {},
     "output_type": "execute_result"
    }
   ],
   "source": [
    "A = pos_neg_train.toPandas()\n",
    "A.head(20)"
   ]
  },
  {
   "cell_type": "markdown",
   "id": "cd32dd01",
   "metadata": {},
   "source": [
    "# 2. Models training"
   ]
  },
  {
   "cell_type": "code",
   "execution_count": 52,
   "id": "b02b679b",
   "metadata": {},
   "outputs": [
    {
     "data": {
      "text/plain": [
       "669181"
      ]
     },
     "execution_count": 52,
     "metadata": {},
     "output_type": "execute_result"
    }
   ],
   "source": [
    "train_dataset.interactions.count()"
   ]
  },
  {
   "cell_type": "code",
   "execution_count": 51,
   "id": "e258b2d5",
   "metadata": {},
   "outputs": [
    {
     "data": {
      "text/plain": [
       "86542"
      ]
     },
     "execution_count": 51,
     "metadata": {},
     "output_type": "execute_result"
    }
   ],
   "source": [
    "test_dataset.interactions.count()"
   ]
  },
  {
   "cell_type": "code",
   "execution_count": 54,
   "id": "1a7708d5",
   "metadata": {},
   "outputs": [],
   "source": [
    "def fit_predict_add_res(name, model, experiment, train, test, suffix=''):\n",
    "    \"\"\"\n",
    "    Run fit_predict for the `model`, measure time on fit_predict and evaluate metrics\n",
    "    \"\"\"\n",
    "    start_time=time.time()\n",
    "    \n",
    "    # logs = {'log': train}\n",
    "    dataset = {'dataset': train}\n",
    "    predict_params = {'k': K, 'queries': test.query_ids.distinct()}\n",
    "    # predict_params = {'k': K, 'users': test.select('user_idx').distinct()}\n",
    "    \n",
    "    if isinstance(model, (Wilson, UCB, ThompsonSampling, LinUCB)):\n",
    "        dataset['dataset'] = train_neg_dataset\n",
    "\n",
    "    # if isinstance(model, LinUCB):\n",
    "    #     logs['item_features'] = item_features\n",
    "    #     logs['user_features'] = user_features\n",
    "    \n",
    "    predict_params.update(dataset)\n",
    "\n",
    "    model.fit(**dataset)\n",
    "    fit_time = time.time() - start_time\n",
    "\n",
    "    pred=model.predict(**predict_params)\n",
    "    pred.show(100)\n",
    "    pred.cache()\n",
    "    print(pred.count())\n",
    "    predict_time = time.time() - start_time - fit_time\n",
    "\n",
    "    experiment.add_result(name + suffix, pred)\n",
    "    metric_time = time.time() - start_time - fit_time - predict_time\n",
    "    experiment.results.loc[name + suffix, 'fit_time'] = fit_time\n",
    "    experiment.results.loc[name + suffix, 'predict_time'] = predict_time\n",
    "    experiment.results.loc[name + suffix, 'metric_time'] = metric_time\n",
    "    experiment.results.loc[name + suffix, 'full_time'] = (fit_time + \n",
    "                                                          predict_time +\n",
    "                                                          metric_time)\n",
    "    pred.unpersist()\n",
    "    print(experiment.results[['NDCG@{}'.format(K), 'MRR@{}'.format(K), 'Coverage@{}'.format(K), 'fit_time']].sort_values('NDCG@{}'.format(K), ascending=False))"
   ]
  },
  {
   "cell_type": "code",
   "execution_count": 28,
   "id": "1ba41392",
   "metadata": {},
   "outputs": [],
   "source": [
    "def full_pipeline(models, experiment, train, test, suffix='', budget=BUDGET):\n",
    "    \"\"\"\n",
    "    For each model:\n",
    "        -  if required: run hyperparameters search, set best params and save param values to `experiment`\n",
    "        - pass model to `fit_predict_add_res`        \n",
    "    \"\"\"\n",
    "    \n",
    "    for name, [model, params] in models.items():\n",
    "        model.logger.info(msg='{} started'.format(name))\n",
    "        \n",
    "        logger.info(msg='{} fit_predict started'.format(name))\n",
    "        fit_predict_add_res(name, model, experiment, train, test, suffix)\n",
    "        # here we call protected attribute to get all parameters set during model initialization\n",
    "        experiment.results.loc[name + suffix, 'params'] = str(model._init_args)"
   ]
  },
  {
   "cell_type": "markdown",
   "id": "7a97865b",
   "metadata": {},
   "source": [
    "### 2.1. Contextual bandit models"
   ]
  },
  {
   "cell_type": "markdown",
   "id": "9843e50a",
   "metadata": {},
   "source": [
    "### 2.1.1 item features preprocessing"
   ]
  },
  {
   "cell_type": "code",
   "execution_count": 29,
   "id": "25b627cb",
   "metadata": {},
   "outputs": [
    {
     "name": "stderr",
     "output_type": "stream",
     "text": [
      "25-Aug-24 22:30:50, replay, INFO: Column with ids of users or items is absent in mapping. The dataframe will be treated as a users'/items' features dataframe.\n",
      "/home/sudakovcom/Desktop/RePlayHDILab2024/.conda/lib/python3.9/site-packages/pyspark/sql/pandas/conversion.py:471: FutureWarning: iteritems is deprecated and will be removed in a future version. Use .items instead.\n",
      "  arrow_data = [[(c, t) for (_, c), t in zip(pdf_slice.iteritems(), arrow_types)]\n"
     ]
    },
    {
     "name": "stdout",
     "output_type": "stream",
     "text": [
      "+--------+----------------+--------------------+\n",
      "|item_idx|           title|              genres|\n",
      "+--------+----------------+--------------------+\n",
      "|      29|Toy Story (1995)|Animation|Childre...|\n",
      "|     393|  Jumanji (1995)|Adventure|Childre...|\n",
      "+--------+----------------+--------------------+\n",
      "only showing top 2 rows\n",
      "\n",
      "+-------------+\n",
      "|max(item_idx)|\n",
      "+-------------+\n",
      "|         3882|\n",
      "+-------------+\n",
      "\n",
      "+-------------+\n",
      "|min(item_idx)|\n",
      "+-------------+\n",
      "|            0|\n",
      "+-------------+\n",
      "\n"
     ]
    },
    {
     "data": {
      "text/plain": [
       "3883"
      ]
     },
     "execution_count": 29,
     "metadata": {},
     "output_type": "execute_result"
    }
   ],
   "source": [
    "item_features_original = preparator.transform(columns_mapping={'item_id': 'item_id'}, \n",
    "                           data=data.items)\n",
    "item_features = indexer.transform(df=item_features_original)\n",
    "item_features.show(2)\n",
    "#different item features\n",
    "\n",
    "from pyspark.sql.functions import max,min\n",
    "item_features.select(max(item_features.item_idx)).show()\n",
    "item_features.select(min(item_features.item_idx)).show()\n",
    "#just to check that the indexing is dense between 0 and 3882\n",
    "item_features.count()"
   ]
  },
  {
   "cell_type": "code",
   "execution_count": 30,
   "id": "8daa46b8",
   "metadata": {},
   "outputs": [
    {
     "name": "stdout",
     "output_type": "stream",
     "text": [
      "+--------+----+\n",
      "|item_idx|year|\n",
      "+--------+----+\n",
      "|      29|1995|\n",
      "|     393|1995|\n",
      "+--------+----+\n",
      "only showing top 2 rows\n",
      "\n"
     ]
    }
   ],
   "source": [
    "year = item_features.withColumn('year', sf.substring(sf.col('title'), -5, 4).astype(st.IntegerType())).select('item_idx', 'year')\n",
    "year.show(2)"
   ]
  },
  {
   "cell_type": "code",
   "execution_count": 31,
   "id": "cc2004f5",
   "metadata": {},
   "outputs": [],
   "source": [
    "genres = (\n",
    "    item_features.select(\n",
    "        \"item_idx\",\n",
    "        sf.split(\"genres\", \"\\|\").alias(\"genres\")\n",
    "    )\n",
    ")"
   ]
  },
  {
   "cell_type": "code",
   "execution_count": 32,
   "id": "8713a0db",
   "metadata": {},
   "outputs": [],
   "source": [
    "genres_list = (\n",
    "    genres.select(sf.explode(\"genres\").alias(\"genre\"))\n",
    "    .distinct().filter('genre <> \"(no genres listed)\"')\n",
    "    .toPandas()[\"genre\"].tolist()\n",
    ")"
   ]
  },
  {
   "cell_type": "code",
   "execution_count": 33,
   "id": "c37ba0a1",
   "metadata": {},
   "outputs": [
    {
     "data": {
      "text/plain": [
       "['Mystery',\n",
       " 'Action',\n",
       " 'Documentary',\n",
       " \"Children's\",\n",
       " 'Drama',\n",
       " 'Adventure',\n",
       " 'Film-Noir',\n",
       " 'Crime',\n",
       " 'Animation',\n",
       " 'Fantasy',\n",
       " 'Comedy',\n",
       " 'Western',\n",
       " 'Romance',\n",
       " 'Thriller',\n",
       " 'War',\n",
       " 'Sci-Fi',\n",
       " 'Musical',\n",
       " 'Horror']"
      ]
     },
     "execution_count": 33,
     "metadata": {},
     "output_type": "execute_result"
    }
   ],
   "source": [
    "genres_list"
   ]
  },
  {
   "cell_type": "code",
   "execution_count": 34,
   "id": "a62da2a4",
   "metadata": {},
   "outputs": [
    {
     "data": {
      "text/plain": [
       "DataFrame[item_idx: int, Mystery: int, Action: int, Documentary: int, Children's: int, Drama: int, Adventure: int, Film-Noir: int, Crime: int, Animation: int, Fantasy: int, Comedy: int, Western: int, Romance: int, Thriller: int, War: int, Sci-Fi: int, Musical: int, Horror: int, year: int]"
      ]
     },
     "execution_count": 34,
     "metadata": {},
     "output_type": "execute_result"
    }
   ],
   "source": [
    "item_features = genres\n",
    "for genre in genres_list:\n",
    "    item_features = item_features.withColumn(\n",
    "        genre,\n",
    "        sf.array_contains(sf.col(\"genres\"), genre).astype(IntegerType())\n",
    "    )\n",
    "item_features = item_features.drop(\"genres\").cache()\n",
    "item_features.count()\n",
    "item_features = item_features.join(year, on='item_idx', how='inner')\n",
    "item_features.cache()"
   ]
  },
  {
   "cell_type": "markdown",
   "id": "5fcb0ed3",
   "metadata": {},
   "source": [
    "### 2.1.2 User features preprocessing"
   ]
  },
  {
   "cell_type": "code",
   "execution_count": 35,
   "id": "cfb6442a",
   "metadata": {},
   "outputs": [
    {
     "data": {
      "text/html": [
       "<div>\n",
       "<style scoped>\n",
       "    .dataframe tbody tr th:only-of-type {\n",
       "        vertical-align: middle;\n",
       "    }\n",
       "\n",
       "    .dataframe tbody tr th {\n",
       "        vertical-align: top;\n",
       "    }\n",
       "\n",
       "    .dataframe thead th {\n",
       "        text-align: right;\n",
       "    }\n",
       "</style>\n",
       "<table border=\"1\" class=\"dataframe\">\n",
       "  <thead>\n",
       "    <tr style=\"text-align: right;\">\n",
       "      <th></th>\n",
       "      <th>user_id</th>\n",
       "      <th>gender</th>\n",
       "      <th>age</th>\n",
       "      <th>occupation</th>\n",
       "      <th>zip_code</th>\n",
       "    </tr>\n",
       "  </thead>\n",
       "  <tbody>\n",
       "    <tr>\n",
       "      <th>0</th>\n",
       "      <td>1</td>\n",
       "      <td>F</td>\n",
       "      <td>1</td>\n",
       "      <td>10</td>\n",
       "      <td>48067</td>\n",
       "    </tr>\n",
       "    <tr>\n",
       "      <th>1</th>\n",
       "      <td>2</td>\n",
       "      <td>M</td>\n",
       "      <td>56</td>\n",
       "      <td>16</td>\n",
       "      <td>70072</td>\n",
       "    </tr>\n",
       "    <tr>\n",
       "      <th>2</th>\n",
       "      <td>3</td>\n",
       "      <td>M</td>\n",
       "      <td>25</td>\n",
       "      <td>15</td>\n",
       "      <td>55117</td>\n",
       "    </tr>\n",
       "    <tr>\n",
       "      <th>3</th>\n",
       "      <td>4</td>\n",
       "      <td>M</td>\n",
       "      <td>45</td>\n",
       "      <td>7</td>\n",
       "      <td>02460</td>\n",
       "    </tr>\n",
       "    <tr>\n",
       "      <th>4</th>\n",
       "      <td>5</td>\n",
       "      <td>M</td>\n",
       "      <td>25</td>\n",
       "      <td>20</td>\n",
       "      <td>55455</td>\n",
       "    </tr>\n",
       "  </tbody>\n",
       "</table>\n",
       "</div>"
      ],
      "text/plain": [
       "   user_id gender  age  occupation zip_code\n",
       "0        1      F    1          10    48067\n",
       "1        2      M   56          16    70072\n",
       "2        3      M   25          15    55117\n",
       "3        4      M   45           7    02460\n",
       "4        5      M   25          20    55455"
      ]
     },
     "execution_count": 35,
     "metadata": {},
     "output_type": "execute_result"
    }
   ],
   "source": [
    "data.users.head()"
   ]
  },
  {
   "cell_type": "code",
   "execution_count": 36,
   "id": "f6d72c48",
   "metadata": {},
   "outputs": [
    {
     "name": "stderr",
     "output_type": "stream",
     "text": [
      "25-Aug-24 22:30:52, replay, INFO: Column with ids of users or items is absent in mapping. The dataframe will be treated as a users'/items' features dataframe.\n",
      "/home/sudakovcom/Desktop/RePlayHDILab2024/.conda/lib/python3.9/site-packages/pyspark/sql/pandas/conversion.py:471: FutureWarning: iteritems is deprecated and will be removed in a future version. Use .items instead.\n",
      "  arrow_data = [[(c, t) for (_, c), t in zip(pdf_slice.iteritems(), arrow_types)]\n"
     ]
    },
    {
     "data": {
      "text/html": [
       "<div>\n",
       "<style scoped>\n",
       "    .dataframe tbody tr th:only-of-type {\n",
       "        vertical-align: middle;\n",
       "    }\n",
       "\n",
       "    .dataframe tbody tr th {\n",
       "        vertical-align: top;\n",
       "    }\n",
       "\n",
       "    .dataframe thead th {\n",
       "        text-align: right;\n",
       "    }\n",
       "</style>\n",
       "<table border=\"1\" class=\"dataframe\">\n",
       "  <thead>\n",
       "    <tr style=\"text-align: right;\">\n",
       "      <th></th>\n",
       "      <th>user_idx</th>\n",
       "      <th>gender</th>\n",
       "      <th>age</th>\n",
       "      <th>occupation</th>\n",
       "      <th>zip_code</th>\n",
       "    </tr>\n",
       "  </thead>\n",
       "  <tbody>\n",
       "    <tr>\n",
       "      <th>0</th>\n",
       "      <td>4131</td>\n",
       "      <td>F</td>\n",
       "      <td>1</td>\n",
       "      <td>10</td>\n",
       "      <td>48067</td>\n",
       "    </tr>\n",
       "    <tr>\n",
       "      <th>1</th>\n",
       "      <td>2364</td>\n",
       "      <td>M</td>\n",
       "      <td>56</td>\n",
       "      <td>16</td>\n",
       "      <td>70072</td>\n",
       "    </tr>\n",
       "  </tbody>\n",
       "</table>\n",
       "</div>"
      ],
      "text/plain": [
       "   user_idx gender  age  occupation zip_code\n",
       "0      4131      F    1          10    48067\n",
       "1      2364      M   56          16    70072"
      ]
     },
     "execution_count": 36,
     "metadata": {},
     "output_type": "execute_result"
    }
   ],
   "source": [
    "#same preprocessing for users as was done in 2.4.1.\n",
    "user_features_original = preparator.transform(columns_mapping={'user_id': 'user_id'}, \n",
    "                           data=data.users)\n",
    "user_features = indexer.transform(df=user_features_original)\n",
    "#switch for a while into pandas\n",
    "user_features = user_features.toPandas()\n",
    "user_features.head(2)"
   ]
  },
  {
   "cell_type": "code",
   "execution_count": 37,
   "id": "c2862ac6",
   "metadata": {},
   "outputs": [],
   "source": [
    "from sklearn.preprocessing import OneHotEncoder"
   ]
  },
  {
   "cell_type": "code",
   "execution_count": 38,
   "id": "22d6e02c",
   "metadata": {},
   "outputs": [
    {
     "name": "stdout",
     "output_type": "stream",
     "text": [
      "max ocupation index:  20\n",
      "min ocupation index:  0\n",
      "different zip codes:  3439\n"
     ]
    },
    {
     "name": "stderr",
     "output_type": "stream",
     "text": [
      "/tmp/ipykernel_111951/49124892.py:20: FutureWarning: In a future version of pandas all arguments of DataFrame.drop except for the argument 'labels' will be keyword-only.\n",
      "  users_pd = pd.concat([users_pd.drop(columnsToEncode, 1),\n",
      "/home/sudakovcom/Desktop/RePlayHDILab2024/.conda/lib/python3.9/site-packages/sklearn/utils/deprecation.py:87: FutureWarning: Function get_feature_names is deprecated; get_feature_names is deprecated in 1.0 and will be removed in 1.2. Please use get_feature_names_out instead.\n",
      "  warnings.warn(msg, category=FutureWarning)\n"
     ]
    },
    {
     "data": {
      "text/html": [
       "<div>\n",
       "<style scoped>\n",
       "    .dataframe tbody tr th:only-of-type {\n",
       "        vertical-align: middle;\n",
       "    }\n",
       "\n",
       "    .dataframe tbody tr th {\n",
       "        vertical-align: top;\n",
       "    }\n",
       "\n",
       "    .dataframe thead th {\n",
       "        text-align: right;\n",
       "    }\n",
       "</style>\n",
       "<table border=\"1\" class=\"dataframe\">\n",
       "  <thead>\n",
       "    <tr style=\"text-align: right;\">\n",
       "      <th></th>\n",
       "      <th>user_idx</th>\n",
       "      <th>agegroup_20-29</th>\n",
       "      <th>agegroup_30-39</th>\n",
       "      <th>agegroup_40-49</th>\n",
       "      <th>agegroup_51-60</th>\n",
       "      <th>agegroup_&lt;20</th>\n",
       "      <th>gender_F</th>\n",
       "      <th>gender_M</th>\n",
       "      <th>occupation_0</th>\n",
       "      <th>occupation_1</th>\n",
       "      <th>...</th>\n",
       "      <th>occupation_11</th>\n",
       "      <th>occupation_12</th>\n",
       "      <th>occupation_13</th>\n",
       "      <th>occupation_14</th>\n",
       "      <th>occupation_15</th>\n",
       "      <th>occupation_16</th>\n",
       "      <th>occupation_17</th>\n",
       "      <th>occupation_18</th>\n",
       "      <th>occupation_19</th>\n",
       "      <th>occupation_20</th>\n",
       "    </tr>\n",
       "  </thead>\n",
       "  <tbody>\n",
       "    <tr>\n",
       "      <th>0</th>\n",
       "      <td>4131</td>\n",
       "      <td>0.0</td>\n",
       "      <td>0.0</td>\n",
       "      <td>0.0</td>\n",
       "      <td>0.0</td>\n",
       "      <td>1.0</td>\n",
       "      <td>1.0</td>\n",
       "      <td>0.0</td>\n",
       "      <td>0.0</td>\n",
       "      <td>0.0</td>\n",
       "      <td>...</td>\n",
       "      <td>0.0</td>\n",
       "      <td>0.0</td>\n",
       "      <td>0.0</td>\n",
       "      <td>0.0</td>\n",
       "      <td>0.0</td>\n",
       "      <td>0.0</td>\n",
       "      <td>0.0</td>\n",
       "      <td>0.0</td>\n",
       "      <td>0.0</td>\n",
       "      <td>0.0</td>\n",
       "    </tr>\n",
       "    <tr>\n",
       "      <th>1</th>\n",
       "      <td>2364</td>\n",
       "      <td>0.0</td>\n",
       "      <td>0.0</td>\n",
       "      <td>0.0</td>\n",
       "      <td>1.0</td>\n",
       "      <td>0.0</td>\n",
       "      <td>0.0</td>\n",
       "      <td>1.0</td>\n",
       "      <td>0.0</td>\n",
       "      <td>0.0</td>\n",
       "      <td>...</td>\n",
       "      <td>0.0</td>\n",
       "      <td>0.0</td>\n",
       "      <td>0.0</td>\n",
       "      <td>0.0</td>\n",
       "      <td>0.0</td>\n",
       "      <td>1.0</td>\n",
       "      <td>0.0</td>\n",
       "      <td>0.0</td>\n",
       "      <td>0.0</td>\n",
       "      <td>0.0</td>\n",
       "    </tr>\n",
       "    <tr>\n",
       "      <th>2</th>\n",
       "      <td>4217</td>\n",
       "      <td>1.0</td>\n",
       "      <td>0.0</td>\n",
       "      <td>0.0</td>\n",
       "      <td>0.0</td>\n",
       "      <td>0.0</td>\n",
       "      <td>0.0</td>\n",
       "      <td>1.0</td>\n",
       "      <td>0.0</td>\n",
       "      <td>0.0</td>\n",
       "      <td>...</td>\n",
       "      <td>0.0</td>\n",
       "      <td>0.0</td>\n",
       "      <td>0.0</td>\n",
       "      <td>0.0</td>\n",
       "      <td>1.0</td>\n",
       "      <td>0.0</td>\n",
       "      <td>0.0</td>\n",
       "      <td>0.0</td>\n",
       "      <td>0.0</td>\n",
       "      <td>0.0</td>\n",
       "    </tr>\n",
       "    <tr>\n",
       "      <th>3</th>\n",
       "      <td>5916</td>\n",
       "      <td>0.0</td>\n",
       "      <td>0.0</td>\n",
       "      <td>1.0</td>\n",
       "      <td>0.0</td>\n",
       "      <td>0.0</td>\n",
       "      <td>0.0</td>\n",
       "      <td>1.0</td>\n",
       "      <td>0.0</td>\n",
       "      <td>0.0</td>\n",
       "      <td>...</td>\n",
       "      <td>0.0</td>\n",
       "      <td>0.0</td>\n",
       "      <td>0.0</td>\n",
       "      <td>0.0</td>\n",
       "      <td>0.0</td>\n",
       "      <td>0.0</td>\n",
       "      <td>0.0</td>\n",
       "      <td>0.0</td>\n",
       "      <td>0.0</td>\n",
       "      <td>0.0</td>\n",
       "    </tr>\n",
       "    <tr>\n",
       "      <th>4</th>\n",
       "      <td>1603</td>\n",
       "      <td>1.0</td>\n",
       "      <td>0.0</td>\n",
       "      <td>0.0</td>\n",
       "      <td>0.0</td>\n",
       "      <td>0.0</td>\n",
       "      <td>0.0</td>\n",
       "      <td>1.0</td>\n",
       "      <td>0.0</td>\n",
       "      <td>0.0</td>\n",
       "      <td>...</td>\n",
       "      <td>0.0</td>\n",
       "      <td>0.0</td>\n",
       "      <td>0.0</td>\n",
       "      <td>0.0</td>\n",
       "      <td>0.0</td>\n",
       "      <td>0.0</td>\n",
       "      <td>0.0</td>\n",
       "      <td>0.0</td>\n",
       "      <td>0.0</td>\n",
       "      <td>1.0</td>\n",
       "    </tr>\n",
       "  </tbody>\n",
       "</table>\n",
       "<p>5 rows × 29 columns</p>\n",
       "</div>"
      ],
      "text/plain": [
       "   user_idx  agegroup_20-29  agegroup_30-39  agegroup_40-49  agegroup_51-60  \\\n",
       "0      4131             0.0             0.0             0.0             0.0   \n",
       "1      2364             0.0             0.0             0.0             1.0   \n",
       "2      4217             1.0             0.0             0.0             0.0   \n",
       "3      5916             0.0             0.0             1.0             0.0   \n",
       "4      1603             1.0             0.0             0.0             0.0   \n",
       "\n",
       "   agegroup_<20  gender_F  gender_M  occupation_0  occupation_1  ...  \\\n",
       "0           1.0       1.0       0.0           0.0           0.0  ...   \n",
       "1           0.0       0.0       1.0           0.0           0.0  ...   \n",
       "2           0.0       0.0       1.0           0.0           0.0  ...   \n",
       "3           0.0       0.0       1.0           0.0           0.0  ...   \n",
       "4           0.0       0.0       1.0           0.0           0.0  ...   \n",
       "\n",
       "   occupation_11  occupation_12  occupation_13  occupation_14  occupation_15  \\\n",
       "0            0.0            0.0            0.0            0.0            0.0   \n",
       "1            0.0            0.0            0.0            0.0            0.0   \n",
       "2            0.0            0.0            0.0            0.0            1.0   \n",
       "3            0.0            0.0            0.0            0.0            0.0   \n",
       "4            0.0            0.0            0.0            0.0            0.0   \n",
       "\n",
       "   occupation_16  occupation_17  occupation_18  occupation_19  occupation_20  \n",
       "0            0.0            0.0            0.0            0.0            0.0  \n",
       "1            1.0            0.0            0.0            0.0            0.0  \n",
       "2            0.0            0.0            0.0            0.0            0.0  \n",
       "3            0.0            0.0            0.0            0.0            0.0  \n",
       "4            0.0            0.0            0.0            0.0            1.0  \n",
       "\n",
       "[5 rows x 29 columns]"
      ]
     },
     "execution_count": 38,
     "metadata": {},
     "output_type": "execute_result"
    }
   ],
   "source": [
    "print(\"max ocupation index: \", user_features['occupation'].max())\n",
    "print(\"min ocupation index: \", user_features['occupation'].min())\n",
    "count_diff_zips = user_features['zip_code'].unique().size\n",
    "print(\"different zip codes: \", count_diff_zips) #ok, too much different zip codes, let us drop them for now\n",
    "users_pd = user_features.drop(columns=['zip_code'])\n",
    "users_pd.head()\n",
    "#binarize age variable\n",
    "bins = [0, 20, 30, 40, 50, 60, np.inf]\n",
    "names = ['<20', '20-29', '30-39','40-49', '51-60', '60+']\n",
    "\n",
    "users_pd['agegroup'] = pd.cut(users_pd['age'], bins, labels=names)\n",
    "users_pd = users_pd.drop([\"age\"], axis = 1)\n",
    "users_pd.head()\n",
    "\n",
    "#binarize following https://github.com/kfoofw/bandit_simulations/tree/master\n",
    "columnsToEncode = [\"agegroup\",\"gender\",\"occupation\"]\n",
    "myEncoder = OneHotEncoder(sparse=False, handle_unknown='ignore')\n",
    "myEncoder.fit(users_pd[columnsToEncode])\n",
    "\n",
    "users_pd = pd.concat([users_pd.drop(columnsToEncode, 1),\n",
    "                           pd.DataFrame(myEncoder.transform(users_pd[columnsToEncode]), \n",
    "                                        columns = myEncoder.get_feature_names(columnsToEncode))], axis=1).reindex()\n",
    "users_pd.head()"
   ]
  },
  {
   "cell_type": "code",
   "execution_count": 39,
   "id": "3d47e5d2",
   "metadata": {},
   "outputs": [
    {
     "name": "stdout",
     "output_type": "stream",
     "text": [
      "root\n",
      " |-- user_idx: integer (nullable = true)\n",
      " |-- agegroup_20-29: double (nullable = true)\n",
      " |-- agegroup_30-39: double (nullable = true)\n",
      " |-- agegroup_40-49: double (nullable = true)\n",
      " |-- agegroup_51-60: double (nullable = true)\n",
      " |-- agegroup_<20: double (nullable = true)\n",
      " |-- gender_F: double (nullable = true)\n",
      " |-- gender_M: double (nullable = true)\n",
      " |-- occupation_0: double (nullable = true)\n",
      " |-- occupation_1: double (nullable = true)\n",
      " |-- occupation_2: double (nullable = true)\n",
      " |-- occupation_3: double (nullable = true)\n",
      " |-- occupation_4: double (nullable = true)\n",
      " |-- occupation_5: double (nullable = true)\n",
      " |-- occupation_6: double (nullable = true)\n",
      " |-- occupation_7: double (nullable = true)\n",
      " |-- occupation_8: double (nullable = true)\n",
      " |-- occupation_9: double (nullable = true)\n",
      " |-- occupation_10: double (nullable = true)\n",
      " |-- occupation_11: double (nullable = true)\n",
      " |-- occupation_12: double (nullable = true)\n",
      " |-- occupation_13: double (nullable = true)\n",
      " |-- occupation_14: double (nullable = true)\n",
      " |-- occupation_15: double (nullable = true)\n",
      " |-- occupation_16: double (nullable = true)\n",
      " |-- occupation_17: double (nullable = true)\n",
      " |-- occupation_18: double (nullable = true)\n",
      " |-- occupation_19: double (nullable = true)\n",
      " |-- occupation_20: double (nullable = true)\n",
      "\n"
     ]
    },
    {
     "name": "stderr",
     "output_type": "stream",
     "text": [
      "/home/sudakovcom/Desktop/RePlayHDILab2024/.conda/lib/python3.9/site-packages/pyspark/sql/pandas/conversion.py:471: FutureWarning: iteritems is deprecated and will be removed in a future version. Use .items instead.\n",
      "  arrow_data = [[(c, t) for (_, c), t in zip(pdf_slice.iteritems(), arrow_types)]\n"
     ]
    },
    {
     "name": "stdout",
     "output_type": "stream",
     "text": [
      "+--------+--------------+--------------+--------------+--------------+------------+--------+--------+------------+------------+------------+------------+------------+------------+------------+------------+------------+------------+-------------+-------------+-------------+-------------+-------------+-------------+-------------+-------------+-------------+-------------+-------------+\n",
      "|user_idx|agegroup_20-29|agegroup_30-39|agegroup_40-49|agegroup_51-60|agegroup_<20|gender_F|gender_M|occupation_0|occupation_1|occupation_2|occupation_3|occupation_4|occupation_5|occupation_6|occupation_7|occupation_8|occupation_9|occupation_10|occupation_11|occupation_12|occupation_13|occupation_14|occupation_15|occupation_16|occupation_17|occupation_18|occupation_19|occupation_20|\n",
      "+--------+--------------+--------------+--------------+--------------+------------+--------+--------+------------+------------+------------+------------+------------+------------+------------+------------+------------+------------+-------------+-------------+-------------+-------------+-------------+-------------+-------------+-------------+-------------+-------------+-------------+\n",
      "|    4131|           0.0|           0.0|           0.0|           0.0|         1.0|     1.0|     0.0|         0.0|         0.0|         0.0|         0.0|         0.0|         0.0|         0.0|         0.0|         0.0|         0.0|          1.0|          0.0|          0.0|          0.0|          0.0|          0.0|          0.0|          0.0|          0.0|          0.0|          0.0|\n",
      "|    2364|           0.0|           0.0|           0.0|           1.0|         0.0|     0.0|     1.0|         0.0|         0.0|         0.0|         0.0|         0.0|         0.0|         0.0|         0.0|         0.0|         0.0|          0.0|          0.0|          0.0|          0.0|          0.0|          0.0|          1.0|          0.0|          0.0|          0.0|          0.0|\n",
      "|    4217|           1.0|           0.0|           0.0|           0.0|         0.0|     0.0|     1.0|         0.0|         0.0|         0.0|         0.0|         0.0|         0.0|         0.0|         0.0|         0.0|         0.0|          0.0|          0.0|          0.0|          0.0|          0.0|          1.0|          0.0|          0.0|          0.0|          0.0|          0.0|\n",
      "|    5916|           0.0|           0.0|           1.0|           0.0|         0.0|     0.0|     1.0|         0.0|         0.0|         0.0|         0.0|         0.0|         0.0|         0.0|         1.0|         0.0|         0.0|          0.0|          0.0|          0.0|          0.0|          0.0|          0.0|          0.0|          0.0|          0.0|          0.0|          0.0|\n",
      "|    1603|           1.0|           0.0|           0.0|           0.0|         0.0|     0.0|     1.0|         0.0|         0.0|         0.0|         0.0|         0.0|         0.0|         0.0|         0.0|         0.0|         0.0|          0.0|          0.0|          0.0|          0.0|          0.0|          0.0|          0.0|          0.0|          0.0|          0.0|          1.0|\n",
      "|    3594|           0.0|           0.0|           1.0|           0.0|         0.0|     1.0|     0.0|         0.0|         0.0|         0.0|         0.0|         0.0|         0.0|         0.0|         0.0|         0.0|         1.0|          0.0|          0.0|          0.0|          0.0|          0.0|          0.0|          0.0|          0.0|          0.0|          0.0|          0.0|\n",
      "|    5226|           0.0|           1.0|           0.0|           0.0|         0.0|     0.0|     1.0|         0.0|         1.0|         0.0|         0.0|         0.0|         0.0|         0.0|         0.0|         0.0|         0.0|          0.0|          0.0|          0.0|          0.0|          0.0|          0.0|          0.0|          0.0|          0.0|          0.0|          0.0|\n",
      "|    2240|           1.0|           0.0|           0.0|           0.0|         0.0|     0.0|     1.0|         0.0|         0.0|         0.0|         0.0|         0.0|         0.0|         0.0|         0.0|         0.0|         0.0|          0.0|          0.0|          1.0|          0.0|          0.0|          0.0|          0.0|          0.0|          0.0|          0.0|          0.0|\n",
      "|    2779|           1.0|           0.0|           0.0|           0.0|         0.0|     0.0|     1.0|         0.0|         0.0|         0.0|         0.0|         0.0|         0.0|         0.0|         0.0|         0.0|         0.0|          0.0|          0.0|          0.0|          0.0|          0.0|          0.0|          0.0|          1.0|          0.0|          0.0|          0.0|\n",
      "|     596|           0.0|           1.0|           0.0|           0.0|         0.0|     1.0|     0.0|         0.0|         1.0|         0.0|         0.0|         0.0|         0.0|         0.0|         0.0|         0.0|         0.0|          0.0|          0.0|          0.0|          0.0|          0.0|          0.0|          0.0|          0.0|          0.0|          0.0|          0.0|\n",
      "|    2256|           1.0|           0.0|           0.0|           0.0|         0.0|     1.0|     0.0|         0.0|         1.0|         0.0|         0.0|         0.0|         0.0|         0.0|         0.0|         0.0|         0.0|          0.0|          0.0|          0.0|          0.0|          0.0|          0.0|          0.0|          0.0|          0.0|          0.0|          0.0|\n",
      "|    5705|           1.0|           0.0|           0.0|           0.0|         0.0|     0.0|     1.0|         0.0|         0.0|         0.0|         0.0|         0.0|         0.0|         0.0|         0.0|         0.0|         0.0|          0.0|          0.0|          1.0|          0.0|          0.0|          0.0|          0.0|          0.0|          0.0|          0.0|          0.0|\n",
      "|    2725|           0.0|           0.0|           1.0|           0.0|         0.0|     0.0|     1.0|         0.0|         1.0|         0.0|         0.0|         0.0|         0.0|         0.0|         0.0|         0.0|         0.0|          0.0|          0.0|          0.0|          0.0|          0.0|          0.0|          0.0|          0.0|          0.0|          0.0|          0.0|\n",
      "|    5551|           0.0|           1.0|           0.0|           0.0|         0.0|     0.0|     1.0|         1.0|         0.0|         0.0|         0.0|         0.0|         0.0|         0.0|         0.0|         0.0|         0.0|          0.0|          0.0|          0.0|          0.0|          0.0|          0.0|          0.0|          0.0|          0.0|          0.0|          0.0|\n",
      "|    1573|           1.0|           0.0|           0.0|           0.0|         0.0|     0.0|     1.0|         0.0|         0.0|         0.0|         0.0|         0.0|         0.0|         0.0|         1.0|         0.0|         0.0|          0.0|          0.0|          0.0|          0.0|          0.0|          0.0|          0.0|          0.0|          0.0|          0.0|          0.0|\n",
      "|    4964|           0.0|           1.0|           0.0|           0.0|         0.0|     1.0|     0.0|         1.0|         0.0|         0.0|         0.0|         0.0|         0.0|         0.0|         0.0|         0.0|         0.0|          0.0|          0.0|          0.0|          0.0|          0.0|          0.0|          0.0|          0.0|          0.0|          0.0|          0.0|\n",
      "|    1476|           0.0|           0.0|           1.0|           0.0|         0.0|     0.0|     1.0|         0.0|         1.0|         0.0|         0.0|         0.0|         0.0|         0.0|         0.0|         0.0|         0.0|          0.0|          0.0|          0.0|          0.0|          0.0|          0.0|          0.0|          0.0|          0.0|          0.0|          0.0|\n",
      "|     925|           0.0|           0.0|           0.0|           0.0|         1.0|     1.0|     0.0|         0.0|         0.0|         0.0|         1.0|         0.0|         0.0|         0.0|         0.0|         0.0|         0.0|          0.0|          0.0|          0.0|          0.0|          0.0|          0.0|          0.0|          0.0|          0.0|          0.0|          0.0|\n",
      "|    1193|           0.0|           0.0|           0.0|           0.0|         1.0|     0.0|     1.0|         0.0|         0.0|         0.0|         0.0|         0.0|         0.0|         0.0|         0.0|         0.0|         0.0|          1.0|          0.0|          0.0|          0.0|          0.0|          0.0|          0.0|          0.0|          0.0|          0.0|          0.0|\n",
      "|    5646|           1.0|           0.0|           0.0|           0.0|         0.0|     0.0|     1.0|         0.0|         0.0|         0.0|         0.0|         0.0|         0.0|         0.0|         0.0|         0.0|         0.0|          0.0|          0.0|          0.0|          0.0|          1.0|          0.0|          0.0|          0.0|          0.0|          0.0|          0.0|\n",
      "+--------+--------------+--------------+--------------+--------------+------------+--------+--------+------------+------------+------------+------------+------------+------------+------------+------------+------------+------------+-------------+-------------+-------------+-------------+-------------+-------------+-------------+-------------+-------------+-------------+-------------+\n",
      "only showing top 20 rows\n",
      "\n",
      "total users:  6040\n"
     ]
    }
   ],
   "source": [
    "#make it pyspark\n",
    "user_features = spark.createDataFrame(users_pd)\n",
    "user_features.printSchema()\n",
    "user_features.show()\n",
    "print(\"total users: \",user_features.count())"
   ]
  },
  {
   "cell_type": "markdown",
   "id": "fb1fefd9",
   "metadata": {},
   "source": [
    "## 2.2. Fitting various bandits"
   ]
  },
  {
   "cell_type": "code",
   "execution_count": 55,
   "id": "4fa54598",
   "metadata": {},
   "outputs": [],
   "source": [
    "bandit_models = {\n",
    "          'Wilson': [Wilson(), 'no_opt'],\n",
    "        #   'TS (context-free)': [ThompsonSampling(),'no_opt'],\n",
    "          'Linear UCB (disjoint models)':[LinUCB(eps = 0.0, alpha = 1.0, regr_type = 'disjoint'), 'no_opt'],\n",
    "          # 'UCB': [UCB(exploration_coef=2.0), 'no_opt'], \n",
    "         }"
   ]
  },
  {
   "cell_type": "code",
   "execution_count": 41,
   "id": "3a6e5450",
   "metadata": {},
   "outputs": [],
   "source": [
    "feature_schema = FeatureSchema(\n",
    "    [\n",
    "        FeatureInfo(\n",
    "            column=\"user_idx\",\n",
    "            feature_type=FeatureType.CATEGORICAL,\n",
    "            feature_hint=FeatureHint.QUERY_ID,\n",
    "        ),\n",
    "        FeatureInfo(\n",
    "            column=\"item_idx\",\n",
    "            feature_type=FeatureType.CATEGORICAL,\n",
    "            feature_hint=FeatureHint.ITEM_ID,\n",
    "        ),\n",
    "        FeatureInfo(\n",
    "            column=\"relevance\",\n",
    "            feature_type=FeatureType.NUMERICAL,\n",
    "            feature_hint=FeatureHint.RATING,\n",
    "        ),\n",
    "        FeatureInfo(\n",
    "            column=\"timestamp\",\n",
    "            feature_type=FeatureType.NUMERICAL,\n",
    "            feature_hint=FeatureHint.TIMESTAMP,\n",
    "        ),\n",
    "    ]\n",
    ")"
   ]
  },
  {
   "cell_type": "code",
   "execution_count": 42,
   "id": "723b27d8",
   "metadata": {},
   "outputs": [
    {
     "name": "stderr",
     "output_type": "stream",
     "text": [
      "                                                                                \r"
     ]
    }
   ],
   "source": [
    "all_dataset = Dataset(\n",
    "    feature_schema=feature_schema,\n",
    "    interactions=log_replay,\n",
    "    item_features=item_features,\n",
    "    query_features=user_features,\n",
    "    categorical_encoded = True\n",
    ")\n",
    "\n",
    "train_dataset = Dataset(\n",
    "    feature_schema=feature_schema,\n",
    "    interactions=train,\n",
    "    item_features=item_features,\n",
    "    query_features=user_features,\n",
    "    categorical_encoded = True\n",
    ")\n",
    "\n",
    "test_dataset = Dataset(\n",
    "    feature_schema=feature_schema,\n",
    "    interactions=test,\n",
    "    item_features=item_features,\n",
    "    query_features=user_features,\n",
    "    categorical_encoded = True\n",
    ")\n",
    "\n",
    "train_neg_dataset = Dataset(\n",
    "    feature_schema=feature_schema,\n",
    "    interactions=pos_neg_train,\n",
    "    item_features=item_features,\n",
    "    query_features=user_features,\n",
    "    categorical_encoded = True\n",
    ")\n",
    "\n",
    "opt_train_dataset = Dataset(\n",
    "    feature_schema=feature_schema,\n",
    "    interactions=opt_train,\n",
    "    item_features=item_features,\n",
    "    query_features=user_features,\n",
    "    categorical_encoded = True\n",
    ")\n",
    "\n",
    "opt_val_dataset = Dataset(\n",
    "    feature_schema=feature_schema,\n",
    "    interactions=opt_val,\n",
    "    item_features=item_features,\n",
    "    query_features=user_features,\n",
    "    categorical_encoded = True\n",
    ")"
   ]
  },
  {
   "cell_type": "code",
   "execution_count": 43,
   "id": "eee4ee27",
   "metadata": {},
   "outputs": [],
   "source": [
    "# e = Experiment(test, {MAP(): K, NDCG(): K, HitRate(): K_list_metrics, Coverage(train): K, Surprisal(train): K, MRR(): K})\n",
    "\n",
    "e = Experiment(\n",
    "    [\n",
    "        MAP(K),\n",
    "        NDCG(K),\n",
    "        HitRate(K_list_metrics),\n",
    "        Coverage(K),\n",
    "        Surprisal(K),\n",
    "        MRR(K)\n",
    "    ],\n",
    "    test_dataset.interactions,\n",
    "    train_dataset.interactions,\n",
    "    query_column=train_dataset.feature_schema.query_id_column,\n",
    "    item_column=train_dataset.feature_schema.item_id_column,\n",
    "    rating_column=train_dataset.feature_schema.interactions_rating_column,\n",
    "    )"
   ]
  },
  {
   "cell_type": "code",
   "execution_count": 56,
   "id": "8efa70cb",
   "metadata": {},
   "outputs": [
    {
     "name": "stderr",
     "output_type": "stream",
     "text": [
      "25-Aug-24 22:54:25, replay, INFO: Wilson started\n",
      "INFO:replay:Wilson started\n",
      "25-Aug-24 22:54:25, replay, INFO: Wilson fit_predict started\n",
      "INFO:replay:Wilson fit_predict started\n",
      "                                                                                \r"
     ]
    },
    {
     "name": "stdout",
     "output_type": "stream",
     "text": [
      "+--------+--------+------------------+\n",
      "|user_idx|item_idx|         relevance|\n",
      "+--------+--------+------------------+\n",
      "|      18|     707|0.9754524358354291|\n",
      "|      18|    1209| 0.972226295602107|\n",
      "|      18|     557| 0.971408022009853|\n",
      "|      18|     682|0.9698080855041509|\n",
      "|      18|     234|0.9688400027862992|\n",
      "|      18|    1081|0.9685863803126885|\n",
      "|      18|      32|0.9660186961163115|\n",
      "|      18|     238|0.9647924991594925|\n",
      "|      18|     239|0.9647424995568235|\n",
      "|      18|    1080|0.9643378106230265|\n",
      "|      38|     106|0.9821985244892515|\n",
      "|      38|     186|0.9795457647582008|\n",
      "|      38|     569|0.9745366264739433|\n",
      "|      38|     672|0.9737961511019336|\n",
      "|      38|    1209| 0.972226295602107|\n",
      "|      38|     557| 0.971408022009853|\n",
      "|      38|     682|0.9698080855041509|\n",
      "|      38|     191|0.9691067567560038|\n",
      "|      38|     234|0.9688400027862992|\n",
      "|      38|    1081|0.9685863803126885|\n",
      "|      46|     400|0.9900259255456659|\n",
      "|      46|     106|0.9821985244892515|\n",
      "|      46|     186|0.9795457647582008|\n",
      "|      46|     707|0.9754524358354291|\n",
      "|      46|     569|0.9745366264739433|\n",
      "|      46|     672|0.9737961511019336|\n",
      "|      46|    1209| 0.972226295602107|\n",
      "|      46|     557| 0.971408022009853|\n",
      "|      46|     682|0.9698080855041509|\n",
      "|      46|     191|0.9691067567560038|\n",
      "|      73|     443|0.9787441584139424|\n",
      "|      73|     569|0.9745366264739433|\n",
      "|      73|     672|0.9737961511019336|\n",
      "|      73|    1209| 0.972226295602107|\n",
      "|      73|     268|0.9715273682157255|\n",
      "|      73|     557| 0.971408022009853|\n",
      "|      73|      17|0.9713383387526517|\n",
      "|      73|     682|0.9698080855041509|\n",
      "|      73|     191|0.9691067567560038|\n",
      "|      73|     234|0.9688400027862992|\n",
      "|     172|     400|0.9900259255456659|\n",
      "|     172|     443|0.9787441584139424|\n",
      "|     172|     707|0.9754524358354291|\n",
      "|     172|    1209| 0.972226295602107|\n",
      "|     172|     268|0.9715273682157255|\n",
      "|     172|      17|0.9713383387526517|\n",
      "|     172|      38|0.9685351836689137|\n",
      "|     172|     467|0.9671872118058967|\n",
      "|     172|     666|0.9663350498714426|\n",
      "|     172|     238|0.9647924991594925|\n",
      "|     186|     400|0.9900259255456659|\n",
      "|     186|     443|0.9787441584139424|\n",
      "|     186|      23|0.9768577752796562|\n",
      "|     186|     707|0.9754524358354291|\n",
      "|     186|     569|0.9745366264739433|\n",
      "|     186|     672|0.9737961511019336|\n",
      "|     186|    1209| 0.972226295602107|\n",
      "|     186|     268|0.9715273682157255|\n",
      "|     186|     557| 0.971408022009853|\n",
      "|     186|      17|0.9713383387526517|\n",
      "|     263|     400|0.9900259255456659|\n",
      "|     263|     106|0.9821985244892515|\n",
      "|     263|     186|0.9795457647582008|\n",
      "|     263|     443|0.9787441584139424|\n",
      "|     263|      23|0.9768577752796562|\n",
      "|     263|      11|0.9764263212868209|\n",
      "|     263|     707|0.9754524358354291|\n",
      "|     263|     569|0.9745366264739433|\n",
      "|     263|     672|0.9737961511019336|\n",
      "|     263|    1209| 0.972226295602107|\n",
      "|     282|     400|0.9900259255456659|\n",
      "|     282|     106|0.9821985244892515|\n",
      "|     282|     186|0.9795457647582008|\n",
      "|     282|     443|0.9787441584139424|\n",
      "|     282|     707|0.9754524358354291|\n",
      "|     282|     569|0.9745366264739433|\n",
      "|     282|     672|0.9737961511019336|\n",
      "|     282|    1209| 0.972226295602107|\n",
      "|     282|     268|0.9715273682157255|\n",
      "|     282|     557| 0.971408022009853|\n",
      "|     307|     400|0.9900259255456659|\n",
      "|     307|     186|0.9795457647582008|\n",
      "|     307|      23|0.9768577752796562|\n",
      "|     307|      11|0.9764263212868209|\n",
      "|     307|     707|0.9754524358354291|\n",
      "|     307|     569|0.9745366264739433|\n",
      "|     307|     672|0.9737961511019336|\n",
      "|     307|    1209| 0.972226295602107|\n",
      "|     307|     268|0.9715273682157255|\n",
      "|     307|     557| 0.971408022009853|\n",
      "|     348|     400|0.9900259255456659|\n",
      "|     348|     106|0.9821985244892515|\n",
      "|     348|     186|0.9795457647582008|\n",
      "|     348|     443|0.9787441584139424|\n",
      "|     348|      23|0.9768577752796562|\n",
      "|     348|     707|0.9754524358354291|\n",
      "|     348|     569|0.9745366264739433|\n",
      "|     348|     672|0.9737961511019336|\n",
      "|     348|    1209| 0.972226295602107|\n",
      "|     348|     268|0.9715273682157255|\n",
      "+--------+--------+------------------+\n",
      "only showing top 100 rows\n",
      "\n",
      "60400\n"
     ]
    },
    {
     "name": "stderr",
     "output_type": "stream",
     "text": [
      "25-Aug-24 22:54:36, replay, INFO: Linear UCB (disjoint models) started          \n",
      "INFO:replay:Linear UCB (disjoint models) started\n",
      "25-Aug-24 22:54:36, replay, INFO: Linear UCB (disjoint models) fit_predict started\n",
      "INFO:replay:Linear UCB (disjoint models) fit_predict started\n"
     ]
    },
    {
     "name": "stdout",
     "output_type": "stream",
     "text": [
      "                               NDCG@10    MRR@10  Coverage@10   fit_time\n",
      "Wilson                        0.092121  0.180976     0.019333   0.970134\n",
      "Linear UCB (disjoint models)  0.008875  0.021985     0.184365  15.257740\n"
     ]
    },
    {
     "name": "stderr",
     "output_type": "stream",
     "text": [
      "/home/sudakovcom/Desktop/RePlayHDILab2024/.conda/lib/python3.9/site-packages/pyspark/sql/pandas/conversion.py:471: FutureWarning: iteritems is deprecated and will be removed in a future version. Use .items instead.\n",
      "  arrow_data = [[(c, t) for (_, c), t in zip(pdf_slice.iteritems(), arrow_types)]\n"
     ]
    },
    {
     "name": "stdout",
     "output_type": "stream",
     "text": [
      "+--------+--------+------------------+\n",
      "|user_idx|item_idx|         relevance|\n",
      "+--------+--------+------------------+\n",
      "|      18|    2595|1.3169453963924966|\n",
      "|      18|    2254|1.2917079134269787|\n",
      "|      18|    2733|1.2364928810499012|\n",
      "|      18|    2951|1.2124520507524346|\n",
      "|      18|    2244| 1.191809973084726|\n",
      "|      18|    2818|1.1915501269577513|\n",
      "|      18|    2303|1.1897062015493016|\n",
      "|      18|    2685| 1.189340716982624|\n",
      "|      18|    2878|1.1843715461948212|\n",
      "|      18|    3133|1.1840596330275244|\n",
      "|      38|    2725|1.3462268707302054|\n",
      "|      38|    2541|1.2728948307644592|\n",
      "|      38|    1937|1.2073352372867336|\n",
      "|      38|    2464|1.1921167645459503|\n",
      "|      38|    3030|1.1551753009088448|\n",
      "|      38|    2166| 1.137642974305147|\n",
      "|      38|    1847| 1.119909860508019|\n",
      "|      38|    2303|1.0974129341342356|\n",
      "|      38|    2454|1.0830263513776037|\n",
      "|      38|    2329| 1.077229904940043|\n",
      "|      46|    2904|1.2299356891191637|\n",
      "|      46|    2832|1.2033312017558484|\n",
      "|      46|    2682|1.1456277430162625|\n",
      "|      46|    2796|1.1432982705039652|\n",
      "|      46|    2842|1.1367802710621318|\n",
      "|      46|    2991|1.1261196445915318|\n",
      "|      46|    3014|1.1158770256568888|\n",
      "|      46|    2159|1.1120423312086238|\n",
      "|      46|    3213|1.1069739952718667|\n",
      "|      46|    2944| 1.100161621856107|\n",
      "|      73|    3120|1.3074731048053982|\n",
      "|      73|    2687|1.2502590728939498|\n",
      "|      73|    2908|1.2284752284752272|\n",
      "|      73|    2589|1.2193857579333471|\n",
      "|      73|    3089|1.2119224673899798|\n",
      "|      73|    3168|1.2075223477820878|\n",
      "|      73|    2510|1.1974971569728956|\n",
      "|      73|    3044|1.1793098462576512|\n",
      "|      73|    2631|1.1699283014117112|\n",
      "|      73|    2622|1.1657038728788627|\n",
      "|     172|    2354|1.3509555420986465|\n",
      "|     172|    2687|1.2799405412411027|\n",
      "|     172|    3004|1.2530310601478047|\n",
      "|     172|    3093|1.2274232113297778|\n",
      "|     172|    2646|1.2272849558342658|\n",
      "|     172|    2096|1.1868058676758977|\n",
      "|     172|    2949| 1.182983040442021|\n",
      "|     172|    2851|1.1784064381176715|\n",
      "|     172|    3153|1.1774931381518758|\n",
      "|     172|    2572| 1.140495230714929|\n",
      "|     186|    2706| 1.347775003417086|\n",
      "|     186|    2490|1.2413932262056362|\n",
      "|     186|    2754|1.1995256833271124|\n",
      "|     186|    2503|1.1603595827491486|\n",
      "|     186|    2838|1.1600057407506912|\n",
      "|     186|    2700|1.1457984591041457|\n",
      "|     186|    2096| 1.138762225633666|\n",
      "|     186|    2157| 1.132287507506865|\n",
      "|     186|    2842|1.1270515548126059|\n",
      "|     186|    2505|1.1196328982903716|\n",
      "|     263|    2823|1.2346809622761121|\n",
      "|     263|    2493|1.2202556702697966|\n",
      "|     263|    2227|1.1479432773743201|\n",
      "|     263|    2534|1.1104577950929027|\n",
      "|     263|    2118|1.0833423773833497|\n",
      "|     263|    2020| 1.081465865562843|\n",
      "|     263|    2234| 1.074047076033865|\n",
      "|     263|    2982| 1.066849025818217|\n",
      "|     263|    1137|1.0656625535650144|\n",
      "|     263|    2278|1.0499263649252843|\n",
      "|     282|    2513|1.3174461281201568|\n",
      "|     282|    1935|1.3021379528236547|\n",
      "|     282|    2640|1.2606775991048336|\n",
      "|     282|    2823|1.2551973319841887|\n",
      "|     282|    3154|1.2430622009569376|\n",
      "|     282|    3213|1.2368662989230357|\n",
      "|     282|    2814|1.2272435580727865|\n",
      "|     282|    2322| 1.213881594748334|\n",
      "|     282|    2493|1.1985700147708669|\n",
      "|     282|    2880|  1.18798934432998|\n",
      "|     307|    3030|1.2709992142603463|\n",
      "|     307|    2725|1.2523484707289803|\n",
      "|     307|    2464|1.2365889542564719|\n",
      "|     307|    2852|1.2228122770128982|\n",
      "|     307|    2633|1.2136293541983239|\n",
      "|     307|    2365|1.1981995318894652|\n",
      "|     307|    2166|1.1869049920654813|\n",
      "|     307|    1509|1.1822294474767268|\n",
      "|     307|    2078|1.1787969094430764|\n",
      "|     307|    3085|  1.15173796791444|\n",
      "|     348|    2891|1.2684826017322681|\n",
      "|     348|    2904|1.2299356891191637|\n",
      "|     348|    1774| 1.215023852360893|\n",
      "|     348|    1624|1.1124171566288594|\n",
      "|     348|    2832|1.1097972757623826|\n",
      "|     348|    2544|1.1095440129111038|\n",
      "|     348|    1012|1.0815757760128186|\n",
      "|     348|    2033|1.0721696257883726|\n",
      "|     348|    2234|1.0702917149775026|\n",
      "|     348|    2842|1.0702898363912177|\n",
      "+--------+--------+------------------+\n",
      "only showing top 100 rows\n",
      "\n",
      "60400\n"
     ]
    },
    {
     "name": "stderr",
     "output_type": "stream",
     "text": [
      "                                                                                \r"
     ]
    },
    {
     "name": "stdout",
     "output_type": "stream",
     "text": [
      "                               NDCG@10    MRR@10  Coverage@10   fit_time\n",
      "Wilson                        0.092121  0.180976     0.019333   0.970134\n",
      "Linear UCB (disjoint models)  0.008875  0.021985     0.184365  18.582876\n",
      "CPU times: user 1min 7s, sys: 3min 4s, total: 4min 11s\n",
      "Wall time: 43.2 s\n"
     ]
    }
   ],
   "source": [
    "%%time\n",
    "full_pipeline(bandit_models, e, train_dataset, test_dataset)"
   ]
  },
  {
   "cell_type": "code",
   "execution_count": 45,
   "id": "bdee5e5a",
   "metadata": {},
   "outputs": [
    {
     "data": {
      "text/html": [
       "<div>\n",
       "<style scoped>\n",
       "    .dataframe tbody tr th:only-of-type {\n",
       "        vertical-align: middle;\n",
       "    }\n",
       "\n",
       "    .dataframe tbody tr th {\n",
       "        vertical-align: top;\n",
       "    }\n",
       "\n",
       "    .dataframe thead th {\n",
       "        text-align: right;\n",
       "    }\n",
       "</style>\n",
       "<table border=\"1\" class=\"dataframe\">\n",
       "  <thead>\n",
       "    <tr style=\"text-align: right;\">\n",
       "      <th></th>\n",
       "      <th>MAP@10</th>\n",
       "      <th>NDCG@10</th>\n",
       "      <th>HitRate@1</th>\n",
       "      <th>HitRate@5</th>\n",
       "      <th>HitRate@10</th>\n",
       "      <th>Coverage@10</th>\n",
       "      <th>Surprisal@10</th>\n",
       "      <th>MRR@10</th>\n",
       "      <th>fit_time</th>\n",
       "      <th>predict_time</th>\n",
       "      <th>metric_time</th>\n",
       "      <th>full_time</th>\n",
       "      <th>params</th>\n",
       "    </tr>\n",
       "  </thead>\n",
       "  <tbody>\n",
       "    <tr>\n",
       "      <th>Linear UCB (disjoint models)</th>\n",
       "      <td>0.002883</td>\n",
       "      <td>0.008875</td>\n",
       "      <td>0.007902</td>\n",
       "      <td>0.034241</td>\n",
       "      <td>0.073749</td>\n",
       "      <td>0.184365</td>\n",
       "      <td>0.614196</td>\n",
       "      <td>0.021985</td>\n",
       "      <td>15.25774</td>\n",
       "      <td>7.935328</td>\n",
       "      <td>10.143539</td>\n",
       "      <td>33.336606</td>\n",
       "      <td>{'regression type': 'disjoint', 'seed': None}</td>\n",
       "    </tr>\n",
       "  </tbody>\n",
       "</table>\n",
       "</div>"
      ],
      "text/plain": [
       "                                MAP@10   NDCG@10  HitRate@1  HitRate@5  \\\n",
       "Linear UCB (disjoint models)  0.002883  0.008875   0.007902   0.034241   \n",
       "\n",
       "                              HitRate@10  Coverage@10  Surprisal@10    MRR@10  \\\n",
       "Linear UCB (disjoint models)    0.073749     0.184365      0.614196  0.021985   \n",
       "\n",
       "                              fit_time  predict_time  metric_time  full_time  \\\n",
       "Linear UCB (disjoint models)  15.25774      7.935328    10.143539  33.336606   \n",
       "\n",
       "                                                                     params  \n",
       "Linear UCB (disjoint models)  {'regression type': 'disjoint', 'seed': None}  "
      ]
     },
     "execution_count": 45,
     "metadata": {},
     "output_type": "execute_result"
    }
   ],
   "source": [
    "e.results.sort_values('NDCG@10', ascending=False)"
   ]
  }
 ],
 "metadata": {
  "kernelspec": {
   "display_name": "Python 3 (ipykernel)",
   "language": "python",
   "name": "python3"
  },
  "language_info": {
   "codemirror_mode": {
    "name": "ipython",
    "version": 3
   },
   "file_extension": ".py",
   "mimetype": "text/x-python",
   "name": "python",
   "nbconvert_exporter": "python",
   "pygments_lexer": "ipython3",
   "version": "3.9.19"
  }
 },
 "nbformat": 4,
 "nbformat_minor": 5
}
